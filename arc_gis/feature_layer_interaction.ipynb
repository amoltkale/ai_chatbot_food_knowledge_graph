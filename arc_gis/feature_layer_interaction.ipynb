{
 "cells": [
  {
   "cell_type": "code",
   "execution_count": 1,
   "id": "1ee9c532-f954-4ff1-bb76-cf45fc30b940",
   "metadata": {},
   "outputs": [],
   "source": [
    "import arcgis\n",
    "from arcgis.gis import GIS\n",
    "from arcgis.features import *\n",
    "import pandas as pd\n"
   ]
  },
  {
   "cell_type": "code",
   "execution_count": 2,
   "id": "458c0b02-317a-4118-9189-5c63d5758cd0",
   "metadata": {},
   "outputs": [
    {
     "name": "stdout",
     "output_type": "stream",
     "text": [
      "Enter the Client ID/APP ID generated from Arc GIS:\n"
     ]
    },
    {
     "name": "stdin",
     "output_type": "stream",
     "text": [
      " Elm5V3upnnV17Q3r\n"
     ]
    },
    {
     "name": "stdout",
     "output_type": "stream",
     "text": [
      "Please sign in to your GIS and paste the code that is obtained below.\n",
      "If a web browser does not automatically open, please navigate to the URL below yourself instead.\n",
      "Opening web browser to navigate to: https://ucsdonline.maps.arcgis.com/sharing/rest/oauth2/authorize?response_type=code&client_id=Elm5V3upnnV17Q3r&redirect_uri=urn%3Aietf%3Awg%3Aoauth%3A2.0%3Aoob&state=LNEwGMdwiRgsWXwMeXJaY9FOdoNxDb&allow_verification=false\n"
     ]
    },
    {
     "name": "stdin",
     "output_type": "stream",
     "text": [
      "Enter code obtained on signing in using SAML:  ········\n"
     ]
    },
    {
     "name": "stderr",
     "output_type": "stream",
     "text": [
      "/Users/amolkale/Documents/DSE/DSE260-Capstone-Project/capstone/venv3.9/lib/python3.9/site-packages/urllib3/connectionpool.py:1045: InsecureRequestWarning: Unverified HTTPS request is being made to host 'ucsdonline.maps.arcgis.com'. Adding certificate verification is strongly advised. See: https://urllib3.readthedocs.io/en/1.26.x/advanced-usage.html#ssl-warnings\n",
      "  warnings.warn(\n"
     ]
    },
    {
     "data": {
      "text/plain": [
       "'2.1.0'"
      ]
     },
     "execution_count": 2,
     "metadata": {},
     "output_type": "execute_result"
    }
   ],
   "source": [
    "\n",
    "#gis = GIS(username='izaslavsky_ucsd')  # this will ask for password. \n",
    "print(\"Enter the Client ID/APP ID generated from Arc GIS:\")\n",
    "app_id = input()\n",
    "gis = GIS(\"https://ucsdonline.maps.arcgis.com/home\", client_id=app_id)\n",
    "arcgis.__version__\n",
    "# Elm5V3upnnV17Q3r"
   ]
  },
  {
   "cell_type": "code",
   "execution_count": 3,
   "id": "b3e9dde4-330e-4b58-8996-df1dccacf825",
   "metadata": {},
   "outputs": [],
   "source": [
    "def get_feature_layer(service_url):\n",
    "    return FeatureLayer(url=service_url,gis=gis)"
   ]
  },
  {
   "cell_type": "code",
   "execution_count": 4,
   "id": "82c8ab8a-1e97-417f-babd-911b1bc2cb72",
   "metadata": {},
   "outputs": [],
   "source": [
    "def explore_feature_layer(feature_layer):\n",
    "    \n",
    "    # one of the properties to check serviceItemId\n",
    "    print(f'serviceItemId: {feature_layer.properties.serviceItemId}')\n",
    "    \n",
    "    # what operations are possible over this layer ?\n",
    "    print(f'Capabalities: {feature_layer.properties.capabilities}')\n",
    "    \n",
    "    # How can we determine CRS of a layer (called \"spatial_reference\"). \n",
    "\n",
    "    # By converting it to a featureset - using query() without parameters -  and then retrieving its spatial reference\n",
    "    # note that \"spatial reference\" is a property of a featureset, but not of a layer\n",
    "\n",
    "\n",
    "    feature_set = feature_layer.query()\n",
    "    print(f'Type of feature set: {type(feature_set)}')\n",
    "    print(f'Spatial Reference for the Feature Layer: {feature_set.spatial_reference}')\n",
    "    "
   ]
  },
  {
   "cell_type": "markdown",
   "id": "c6698b7c-4417-4f73-8545-cb33a4c1f62d",
   "metadata": {
    "tags": []
   },
   "source": [
    "##### Exploring some other Feature Layer which is already present in UCSDOnline"
   ]
  },
  {
   "cell_type": "code",
   "execution_count": 5,
   "id": "84760c82-3ea9-437c-a411-1d614168007d",
   "metadata": {},
   "outputs": [
    {
     "name": "stdout",
     "output_type": "stream",
     "text": [
      "serviceItemId: 2fcb4ad8fca84454aafba971782c3f72\n",
      "Capabalities: Query,Extract\n",
      "Type of feature set: <class 'arcgis.features.feature.FeatureSet'>\n",
      "Spatial Reference for the Feature Layer: {'wkid': 102646, 'latestWkid': 2230}\n"
     ]
    }
   ],
   "source": [
    "# Let's check \n",
    "explore_feature_layer(get_feature_layer(service_url='https://services1.arcgis.com/eGSDp8lpKe5izqVc/arcgis/rest/services/PrivateOwnedVacantUndeveloped_SanDiegoCounty_2019/FeatureServer/0'))"
   ]
  },
  {
   "cell_type": "code",
   "execution_count": 6,
   "id": "ed0b9fc7-3db7-41f2-a2ac-9a4f10a82ce0",
   "metadata": {},
   "outputs": [
    {
     "name": "stdout",
     "output_type": "stream",
     "text": [
      "serviceItemId: e435c0dd31c3447db9503272edf7abf0\n",
      "Capabalities: Query\n",
      "Type of feature set: <class 'arcgis.features.feature.FeatureSet'>\n",
      "Spatial Reference for the Feature Layer: {'wkid': 102100, 'latestWkid': 3857}\n"
     ]
    }
   ],
   "source": [
    "# Exploring breweries features:\n",
    "explore_feature_layer(get_feature_layer('https://services1.arcgis.com/eGSDp8lpKe5izqVc/arcgis/rest/services/Brewery_Locations_in_San_Diego_WFL1/FeatureServer/0'))"
   ]
  },
  {
   "cell_type": "code",
   "execution_count": 7,
   "id": "c7115438-bdde-4c23-bd09-5292078a0db8",
   "metadata": {},
   "outputs": [],
   "source": [
    "service_url = 'https://services1.arcgis.com/eGSDp8lpKe5izqVc/arcgis/rest/services/sandag_census_block_groups/FeatureServer/0'"
   ]
  },
  {
   "cell_type": "code",
   "execution_count": 8,
   "id": "5a07b0f4-24d5-4e6a-a13f-168ebb4409a4",
   "metadata": {},
   "outputs": [],
   "source": [
    "#SANDAG census block groups layer \n",
    "sd_bg_boundaries_feature_layer = get_feature_layer(service_url=service_url)"
   ]
  },
  {
   "cell_type": "code",
   "execution_count": 9,
   "id": "23b8e512-edf0-4ef2-b1ef-2d0fb95b9654",
   "metadata": {},
   "outputs": [
    {
     "name": "stdout",
     "output_type": "stream",
     "text": [
      "serviceItemId: d2bcaed179324f2ca6061172cdd66ab7\n",
      "Capabalities: Query\n",
      "Type of feature set: <class 'arcgis.features.feature.FeatureSet'>\n",
      "Spatial Reference for the Feature Layer: {'wkid': 102100, 'latestWkid': 3857}\n"
     ]
    }
   ],
   "source": [
    "explore_feature_layer(sd_bg_boundaries_feature_layer)"
   ]
  },
  {
   "cell_type": "code",
   "execution_count": 10,
   "id": "e9abb349-8e19-41db-9ccb-fd0af5c8b04c",
   "metadata": {},
   "outputs": [
    {
     "data": {
      "text/html": [
       "<div class=\"item_container\" style=\"height: auto; overflow: hidden; border: 1px solid #cfcfcf; border-radius: 2px; background: #f6fafa; line-height: 1.21429em; padding: 10px;\">\n",
       "                    <div class=\"item_left\" style=\"width: 210px; float: left;\">\n",
       "                       <a href='https://UCSDOnline.maps.arcgis.com/home/item.html?id=d2bcaed179324f2ca6061172cdd66ab7' target='_blank'>\n",
       "                        <img src='data:image/png;base64,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' width='200' height='133' class=\"itemThumbnail\">\n",
       "                       </a>\n",
       "                    </div>\n",
       "\n",
       "                    <div class=\"item_right\"     style=\"float: none; width: auto; overflow: hidden;\">\n",
       "                        <a href='https://UCSDOnline.maps.arcgis.com/home/item.html?id=d2bcaed179324f2ca6061172cdd66ab7' target='_blank'><b>sandag_census_block_groups</b>\n",
       "                        </a>\n",
       "                        <br/>This is a testing census block groups boundaries feature layer from sandag.org.<img src='https://UCSDOnline.maps.arcgis.com/home/js/jsapi/esri/css/images/item_type_icons/featureshosted16.png' style=\"vertical-align:middle;\">Feature Layer Collection by akale_UCSDOnline\n",
       "                        <br/>Last Modified: February 18, 2023\n",
       "                        <br/>0 comments, 8 views\n",
       "                    </div>\n",
       "                </div>\n",
       "                "
      ],
      "text/plain": [
       "<Item title:\"sandag_census_block_groups\" type:Feature Layer Collection owner:akale_UCSDOnline>"
      ]
     },
     "execution_count": 10,
     "metadata": {},
     "output_type": "execute_result"
    }
   ],
   "source": [
    "# explore the same from AGOL UI:\n",
    "gis.content.get('d2bcaed179324f2ca6061172cdd66ab7')"
   ]
  },
  {
   "cell_type": "code",
   "execution_count": 14,
   "id": "e6ebc24c-768a-48eb-b285-ace337d02c32",
   "metadata": {},
   "outputs": [],
   "source": [
    "def query_feature_layer(query_expression,feature_layer):\n",
    "    arcgis.features.find_locations.find_existing_locations(input_layers=[feature_layer],expressions=query_expression)\n",
    "    "
   ]
  },
  {
   "cell_type": "code",
   "execution_count": 19,
   "id": "145e449f-476c-4c5f-be0b-78fe386ee114",
   "metadata": {},
   "outputs": [],
   "source": [
    "block_grp_expr = {\"operator\":\"and\",\"layer\":0,\"where\":\"BLOCKGROUP = '1'\"}"
   ]
  },
  {
   "cell_type": "code",
   "execution_count": 22,
   "id": "48107b50-d456-4341-b515-d30049ffe8c1",
   "metadata": {},
   "outputs": [],
   "source": [
    "block_grp_spatial_query = {\n",
    "\"operator\": \"and\",\n",
    "\"layer\": 0,\n",
    "\"spatialRel\": \"withinDistance\",\n",
    "\"selectingLayer\": 0,\n",
    "\"distance\": 10,\n",
    "\"units\": \"miles\"\n",
    "}"
   ]
  },
  {
   "cell_type": "code",
   "execution_count": 23,
   "id": "abfe3397-e7da-4a74-b693-5f22d9093a2b",
   "metadata": {},
   "outputs": [
    {
     "name": "stderr",
     "output_type": "stream",
     "text": [
      "{\"messageCode\": \"AO_100055\", \"message\": \"Invalid expression; malformed JSON.\"}\n",
      "{\"messageCode\": \"AO_100061\", \"message\": \"FindExistingLocations failed.\"}\n",
      "Failed to execute (FindExistingLocations).\n",
      "Failed.\n"
     ]
    },
    {
     "ename": "Exception",
     "evalue": "Job failed.",
     "output_type": "error",
     "traceback": [
      "\u001b[0;31m---------------------------------------------------------------------------\u001b[0m",
      "\u001b[0;31mException\u001b[0m                                 Traceback (most recent call last)",
      "Cell \u001b[0;32mIn[23], line 1\u001b[0m\n\u001b[0;32m----> 1\u001b[0m \u001b[43mquery_feature_layer\u001b[49m\u001b[43m(\u001b[49m\u001b[43mblock_grp_spatial_query\u001b[49m\u001b[43m,\u001b[49m\u001b[43msd_bg_boundaries_feature_layer\u001b[49m\u001b[43m)\u001b[49m\n",
      "Cell \u001b[0;32mIn[14], line 2\u001b[0m, in \u001b[0;36mquery_feature_layer\u001b[0;34m(query_expression, feature_layer)\u001b[0m\n\u001b[1;32m      1\u001b[0m \u001b[38;5;28;01mdef\u001b[39;00m \u001b[38;5;21mquery_feature_layer\u001b[39m(query_expression,feature_layer):\n\u001b[0;32m----> 2\u001b[0m     \u001b[43marcgis\u001b[49m\u001b[38;5;241;43m.\u001b[39;49m\u001b[43mfeatures\u001b[49m\u001b[38;5;241;43m.\u001b[39;49m\u001b[43mfind_locations\u001b[49m\u001b[38;5;241;43m.\u001b[39;49m\u001b[43mfind_existing_locations\u001b[49m\u001b[43m(\u001b[49m\u001b[43minput_layers\u001b[49m\u001b[38;5;241;43m=\u001b[39;49m\u001b[43m[\u001b[49m\u001b[43mfeature_layer\u001b[49m\u001b[43m]\u001b[49m\u001b[43m,\u001b[49m\u001b[43mexpressions\u001b[49m\u001b[38;5;241;43m=\u001b[39;49m\u001b[43mquery_expression\u001b[49m\u001b[43m)\u001b[49m\n",
      "File \u001b[0;32m~/Documents/DSE/DSE260-Capstone-Project/capstone/venv3.9/lib/python3.9/site-packages/arcgis/features/find_locations.py:328\u001b[0m, in \u001b[0;36mfind_existing_locations\u001b[0;34m(input_layers, expressions, output_name, context, gis, estimate, future)\u001b[0m\n\u001b[1;32m    316\u001b[0m kwargs \u001b[38;5;241m=\u001b[39m {\n\u001b[1;32m    317\u001b[0m     \u001b[38;5;124m\"\u001b[39m\u001b[38;5;124minput_layers\u001b[39m\u001b[38;5;124m\"\u001b[39m: input_layers,\n\u001b[1;32m    318\u001b[0m     \u001b[38;5;124m\"\u001b[39m\u001b[38;5;124mexpressions\u001b[39m\u001b[38;5;124m\"\u001b[39m: expressions,\n\u001b[0;32m   (...)\u001b[0m\n\u001b[1;32m    323\u001b[0m     \u001b[38;5;124m\"\u001b[39m\u001b[38;5;124mfuture\u001b[39m\u001b[38;5;124m\"\u001b[39m: future,\n\u001b[1;32m    324\u001b[0m }\n\u001b[1;32m    325\u001b[0m params \u001b[38;5;241m=\u001b[39m inspect_function_inputs(\n\u001b[1;32m    326\u001b[0m     fn\u001b[38;5;241m=\u001b[39mgis\u001b[38;5;241m.\u001b[39m_tools\u001b[38;5;241m.\u001b[39mfeatureanalysis\u001b[38;5;241m.\u001b[39m_tbx\u001b[38;5;241m.\u001b[39mfind_existing_locations, \u001b[38;5;241m*\u001b[39m\u001b[38;5;241m*\u001b[39mkwargs\n\u001b[1;32m    327\u001b[0m )\n\u001b[0;32m--> 328\u001b[0m \u001b[38;5;28;01mreturn\u001b[39;00m \u001b[43mgis\u001b[49m\u001b[38;5;241;43m.\u001b[39;49m\u001b[43m_tools\u001b[49m\u001b[38;5;241;43m.\u001b[39;49m\u001b[43mfeatureanalysis\u001b[49m\u001b[38;5;241;43m.\u001b[39;49m\u001b[43mfind_existing_locations\u001b[49m\u001b[43m(\u001b[49m\u001b[38;5;241;43m*\u001b[39;49m\u001b[38;5;241;43m*\u001b[39;49m\u001b[43mparams\u001b[49m\u001b[43m)\u001b[49m\n",
      "File \u001b[0;32m~/Documents/DSE/DSE260-Capstone-Project/capstone/venv3.9/lib/python3.9/site-packages/arcgis/_impl/tools.py:4037\u001b[0m, in \u001b[0;36m_FeatureAnalysisTools.find_existing_locations\u001b[0;34m(self, input_layers, expressions, output_name, context, estimate, future)\u001b[0m\n\u001b[1;32m   4035\u001b[0m \u001b[38;5;28;01mif\u001b[39;00m future:\n\u001b[1;32m   4036\u001b[0m     \u001b[38;5;28;01mreturn\u001b[39;00m gpjob\n\u001b[0;32m-> 4037\u001b[0m \u001b[38;5;28;01mreturn\u001b[39;00m \u001b[43mgpjob\u001b[49m\u001b[38;5;241;43m.\u001b[39;49m\u001b[43mresult\u001b[49m\u001b[43m(\u001b[49m\u001b[43m)\u001b[49m\n",
      "File \u001b[0;32m~/Documents/DSE/DSE260-Capstone-Project/capstone/venv3.9/lib/python3.9/site-packages/arcgis/geoprocessing/_job.py:231\u001b[0m, in \u001b[0;36mGPJob.result\u001b[0;34m(self)\u001b[0m\n\u001b[1;32m    229\u001b[0m     \u001b[38;5;28;01mreturn\u001b[39;00m \u001b[38;5;28;01mNone\u001b[39;00m\n\u001b[1;32m    230\u001b[0m \u001b[38;5;28;01mif\u001b[39;00m \u001b[38;5;28mself\u001b[39m\u001b[38;5;241m.\u001b[39m_is_fa:\n\u001b[0;32m--> 231\u001b[0m     \u001b[38;5;28;01mreturn\u001b[39;00m \u001b[38;5;28mself\u001b[39m\u001b[38;5;241m.\u001b[39m_process_fa(\u001b[38;5;28;43mself\u001b[39;49m\u001b[38;5;241;43m.\u001b[39;49m\u001b[43m_future\u001b[49m\u001b[38;5;241;43m.\u001b[39;49m\u001b[43mresult\u001b[49m\u001b[43m(\u001b[49m\u001b[43m)\u001b[49m)\n\u001b[1;32m    232\u001b[0m \u001b[38;5;28;01melif\u001b[39;00m \u001b[38;5;28mself\u001b[39m\u001b[38;5;241m.\u001b[39m_is_ra:\n\u001b[1;32m    233\u001b[0m     \u001b[38;5;28;01mreturn\u001b[39;00m \u001b[38;5;28mself\u001b[39m\u001b[38;5;241m.\u001b[39m_process_ra(\u001b[38;5;28mself\u001b[39m\u001b[38;5;241m.\u001b[39m_future\u001b[38;5;241m.\u001b[39mresult())\n",
      "File \u001b[0;32m~/.pyenv/versions/3.9.16/lib/python3.9/concurrent/futures/_base.py:446\u001b[0m, in \u001b[0;36mFuture.result\u001b[0;34m(self, timeout)\u001b[0m\n\u001b[1;32m    444\u001b[0m     \u001b[38;5;28;01mraise\u001b[39;00m CancelledError()\n\u001b[1;32m    445\u001b[0m \u001b[38;5;28;01melif\u001b[39;00m \u001b[38;5;28mself\u001b[39m\u001b[38;5;241m.\u001b[39m_state \u001b[38;5;241m==\u001b[39m FINISHED:\n\u001b[0;32m--> 446\u001b[0m     \u001b[38;5;28;01mreturn\u001b[39;00m \u001b[38;5;28;43mself\u001b[39;49m\u001b[38;5;241;43m.\u001b[39;49m\u001b[43m__get_result\u001b[49m\u001b[43m(\u001b[49m\u001b[43m)\u001b[49m\n\u001b[1;32m    447\u001b[0m \u001b[38;5;28;01melse\u001b[39;00m:\n\u001b[1;32m    448\u001b[0m     \u001b[38;5;28;01mraise\u001b[39;00m \u001b[38;5;167;01mTimeoutError\u001b[39;00m()\n",
      "File \u001b[0;32m~/.pyenv/versions/3.9.16/lib/python3.9/concurrent/futures/_base.py:391\u001b[0m, in \u001b[0;36mFuture.__get_result\u001b[0;34m(self)\u001b[0m\n\u001b[1;32m    389\u001b[0m \u001b[38;5;28;01mif\u001b[39;00m \u001b[38;5;28mself\u001b[39m\u001b[38;5;241m.\u001b[39m_exception:\n\u001b[1;32m    390\u001b[0m     \u001b[38;5;28;01mtry\u001b[39;00m:\n\u001b[0;32m--> 391\u001b[0m         \u001b[38;5;28;01mraise\u001b[39;00m \u001b[38;5;28mself\u001b[39m\u001b[38;5;241m.\u001b[39m_exception\n\u001b[1;32m    392\u001b[0m     \u001b[38;5;28;01mfinally\u001b[39;00m:\n\u001b[1;32m    393\u001b[0m         \u001b[38;5;66;03m# Break a reference cycle with the exception in self._exception\u001b[39;00m\n\u001b[1;32m    394\u001b[0m         \u001b[38;5;28mself\u001b[39m \u001b[38;5;241m=\u001b[39m \u001b[38;5;28;01mNone\u001b[39;00m\n",
      "File \u001b[0;32m~/.pyenv/versions/3.9.16/lib/python3.9/concurrent/futures/thread.py:58\u001b[0m, in \u001b[0;36m_WorkItem.run\u001b[0;34m(self)\u001b[0m\n\u001b[1;32m     55\u001b[0m     \u001b[38;5;28;01mreturn\u001b[39;00m\n\u001b[1;32m     57\u001b[0m \u001b[38;5;28;01mtry\u001b[39;00m:\n\u001b[0;32m---> 58\u001b[0m     result \u001b[38;5;241m=\u001b[39m \u001b[38;5;28;43mself\u001b[39;49m\u001b[38;5;241;43m.\u001b[39;49m\u001b[43mfn\u001b[49m\u001b[43m(\u001b[49m\u001b[38;5;241;43m*\u001b[39;49m\u001b[38;5;28;43mself\u001b[39;49m\u001b[38;5;241;43m.\u001b[39;49m\u001b[43margs\u001b[49m\u001b[43m,\u001b[49m\u001b[43m \u001b[49m\u001b[38;5;241;43m*\u001b[39;49m\u001b[38;5;241;43m*\u001b[39;49m\u001b[38;5;28;43mself\u001b[39;49m\u001b[38;5;241;43m.\u001b[39;49m\u001b[43mkwargs\u001b[49m\u001b[43m)\u001b[49m\n\u001b[1;32m     59\u001b[0m \u001b[38;5;28;01mexcept\u001b[39;00m \u001b[38;5;167;01mBaseException\u001b[39;00m \u001b[38;5;28;01mas\u001b[39;00m exc:\n\u001b[1;32m     60\u001b[0m     \u001b[38;5;28mself\u001b[39m\u001b[38;5;241m.\u001b[39mfuture\u001b[38;5;241m.\u001b[39mset_exception(exc)\n",
      "File \u001b[0;32m~/Documents/DSE/DSE260-Capstone-Project/capstone/venv3.9/lib/python3.9/site-packages/arcgis/geoprocessing/_support.py:322\u001b[0m, in \u001b[0;36m_future_op\u001b[0;34m(gptool, task_url, job_info, job_id, param_db, return_values, return_messages)\u001b[0m\n\u001b[1;32m    318\u001b[0m \u001b[38;5;28;01mdef\u001b[39;00m \u001b[38;5;21m_future_op\u001b[39m(\n\u001b[1;32m    319\u001b[0m     gptool, task_url, job_info, job_id, param_db, return_values, return_messages\n\u001b[1;32m    320\u001b[0m ):\n\u001b[0;32m--> 322\u001b[0m     job_info \u001b[38;5;241m=\u001b[39m \u001b[43m_analysis_job_status\u001b[49m\u001b[43m(\u001b[49m\u001b[43mgptool\u001b[49m\u001b[43m,\u001b[49m\u001b[43m \u001b[49m\u001b[43mtask_url\u001b[49m\u001b[43m,\u001b[49m\u001b[43m \u001b[49m\u001b[43mjob_info\u001b[49m\u001b[43m)\u001b[49m\n\u001b[1;32m    323\u001b[0m     resp \u001b[38;5;241m=\u001b[39m _analysis_job_results(gptool, task_url, job_info, job_id)\n\u001b[1;32m    325\u001b[0m     \u001b[38;5;66;03m# ---------------------async-out---------------------#\u001b[39;00m\n",
      "File \u001b[0;32m~/Documents/DSE/DSE260-Capstone-Project/capstone/venv3.9/lib/python3.9/site-packages/arcgis/geoprocessing/_support.py:247\u001b[0m, in \u001b[0;36m_analysis_job_status\u001b[0;34m(gptool, task_url, job_info)\u001b[0m\n\u001b[1;32m    244\u001b[0m     num_messages \u001b[38;5;241m=\u001b[39m num\n\u001b[1;32m    246\u001b[0m \u001b[38;5;28;01mif\u001b[39;00m job_response\u001b[38;5;241m.\u001b[39mget(\u001b[38;5;124m\"\u001b[39m\u001b[38;5;124mjobStatus\u001b[39m\u001b[38;5;124m\"\u001b[39m) \u001b[38;5;241m==\u001b[39m \u001b[38;5;124m\"\u001b[39m\u001b[38;5;124mesriJobFailed\u001b[39m\u001b[38;5;124m\"\u001b[39m:\n\u001b[0;32m--> 247\u001b[0m     \u001b[38;5;28;01mraise\u001b[39;00m \u001b[38;5;167;01mException\u001b[39;00m(\u001b[38;5;124m\"\u001b[39m\u001b[38;5;124mJob failed.\u001b[39m\u001b[38;5;124m\"\u001b[39m)\n\u001b[1;32m    248\u001b[0m \u001b[38;5;28;01melif\u001b[39;00m job_response\u001b[38;5;241m.\u001b[39mget(\u001b[38;5;124m\"\u001b[39m\u001b[38;5;124mjobStatus\u001b[39m\u001b[38;5;124m\"\u001b[39m) \u001b[38;5;241m==\u001b[39m \u001b[38;5;124m\"\u001b[39m\u001b[38;5;124mesriJobCancelled\u001b[39m\u001b[38;5;124m\"\u001b[39m:\n\u001b[1;32m    249\u001b[0m     \u001b[38;5;28;01mraise\u001b[39;00m \u001b[38;5;167;01mException\u001b[39;00m(\u001b[38;5;124m\"\u001b[39m\u001b[38;5;124mJob cancelled.\u001b[39m\u001b[38;5;124m\"\u001b[39m)\n",
      "\u001b[0;31mException\u001b[0m: Job failed."
     ]
    }
   ],
   "source": [
    "query_feature_layer(block_grp_spatial_query,sd_bg_boundaries_feature_layer)"
   ]
  },
  {
   "cell_type": "code",
   "execution_count": 21,
   "id": "b56ab433-3e19-44dc-9461-7addf8cd0efd",
   "metadata": {},
   "outputs": [
    {
     "name": "stderr",
     "output_type": "stream",
     "text": [
      "{\"messageCode\": \"AO_100055\", \"message\": \"Invalid expression; malformed JSON.\"}\n",
      "{\"messageCode\": \"AO_100061\", \"message\": \"FindExistingLocations failed.\"}\n",
      "Failed to execute (FindExistingLocations).\n",
      "Failed.\n"
     ]
    },
    {
     "ename": "Exception",
     "evalue": "Job failed.",
     "output_type": "error",
     "traceback": [
      "\u001b[0;31m---------------------------------------------------------------------------\u001b[0m",
      "\u001b[0;31mException\u001b[0m                                 Traceback (most recent call last)",
      "Cell \u001b[0;32mIn[21], line 2\u001b[0m\n\u001b[1;32m      1\u001b[0m \u001b[38;5;66;03m# Try it for feature layer hosted with SANDAG\u001b[39;00m\n\u001b[0;32m----> 2\u001b[0m \u001b[43mquery_feature_layer\u001b[49m\u001b[43m(\u001b[49m\u001b[43mblock_grp_expr\u001b[49m\u001b[43m,\u001b[49m\u001b[43mget_feature_layer\u001b[49m\u001b[43m(\u001b[49m\u001b[43mservice_url\u001b[49m\u001b[38;5;241;43m=\u001b[39;49m\u001b[38;5;124;43m'\u001b[39;49m\u001b[38;5;124;43mhttps://gissd.sandag.org/rdw/rest/services/Census/Census_ZIP/MapServer/2\u001b[39;49m\u001b[38;5;124;43m'\u001b[39;49m\u001b[43m)\u001b[49m\u001b[43m)\u001b[49m\n",
      "Cell \u001b[0;32mIn[14], line 2\u001b[0m, in \u001b[0;36mquery_feature_layer\u001b[0;34m(query_expression, feature_layer)\u001b[0m\n\u001b[1;32m      1\u001b[0m \u001b[38;5;28;01mdef\u001b[39;00m \u001b[38;5;21mquery_feature_layer\u001b[39m(query_expression,feature_layer):\n\u001b[0;32m----> 2\u001b[0m     \u001b[43marcgis\u001b[49m\u001b[38;5;241;43m.\u001b[39;49m\u001b[43mfeatures\u001b[49m\u001b[38;5;241;43m.\u001b[39;49m\u001b[43mfind_locations\u001b[49m\u001b[38;5;241;43m.\u001b[39;49m\u001b[43mfind_existing_locations\u001b[49m\u001b[43m(\u001b[49m\u001b[43minput_layers\u001b[49m\u001b[38;5;241;43m=\u001b[39;49m\u001b[43m[\u001b[49m\u001b[43mfeature_layer\u001b[49m\u001b[43m]\u001b[49m\u001b[43m,\u001b[49m\u001b[43mexpressions\u001b[49m\u001b[38;5;241;43m=\u001b[39;49m\u001b[43mquery_expression\u001b[49m\u001b[43m)\u001b[49m\n",
      "File \u001b[0;32m~/Documents/DSE/DSE260-Capstone-Project/capstone/venv3.9/lib/python3.9/site-packages/arcgis/features/find_locations.py:328\u001b[0m, in \u001b[0;36mfind_existing_locations\u001b[0;34m(input_layers, expressions, output_name, context, gis, estimate, future)\u001b[0m\n\u001b[1;32m    316\u001b[0m kwargs \u001b[38;5;241m=\u001b[39m {\n\u001b[1;32m    317\u001b[0m     \u001b[38;5;124m\"\u001b[39m\u001b[38;5;124minput_layers\u001b[39m\u001b[38;5;124m\"\u001b[39m: input_layers,\n\u001b[1;32m    318\u001b[0m     \u001b[38;5;124m\"\u001b[39m\u001b[38;5;124mexpressions\u001b[39m\u001b[38;5;124m\"\u001b[39m: expressions,\n\u001b[0;32m   (...)\u001b[0m\n\u001b[1;32m    323\u001b[0m     \u001b[38;5;124m\"\u001b[39m\u001b[38;5;124mfuture\u001b[39m\u001b[38;5;124m\"\u001b[39m: future,\n\u001b[1;32m    324\u001b[0m }\n\u001b[1;32m    325\u001b[0m params \u001b[38;5;241m=\u001b[39m inspect_function_inputs(\n\u001b[1;32m    326\u001b[0m     fn\u001b[38;5;241m=\u001b[39mgis\u001b[38;5;241m.\u001b[39m_tools\u001b[38;5;241m.\u001b[39mfeatureanalysis\u001b[38;5;241m.\u001b[39m_tbx\u001b[38;5;241m.\u001b[39mfind_existing_locations, \u001b[38;5;241m*\u001b[39m\u001b[38;5;241m*\u001b[39mkwargs\n\u001b[1;32m    327\u001b[0m )\n\u001b[0;32m--> 328\u001b[0m \u001b[38;5;28;01mreturn\u001b[39;00m \u001b[43mgis\u001b[49m\u001b[38;5;241;43m.\u001b[39;49m\u001b[43m_tools\u001b[49m\u001b[38;5;241;43m.\u001b[39;49m\u001b[43mfeatureanalysis\u001b[49m\u001b[38;5;241;43m.\u001b[39;49m\u001b[43mfind_existing_locations\u001b[49m\u001b[43m(\u001b[49m\u001b[38;5;241;43m*\u001b[39;49m\u001b[38;5;241;43m*\u001b[39;49m\u001b[43mparams\u001b[49m\u001b[43m)\u001b[49m\n",
      "File \u001b[0;32m~/Documents/DSE/DSE260-Capstone-Project/capstone/venv3.9/lib/python3.9/site-packages/arcgis/_impl/tools.py:4037\u001b[0m, in \u001b[0;36m_FeatureAnalysisTools.find_existing_locations\u001b[0;34m(self, input_layers, expressions, output_name, context, estimate, future)\u001b[0m\n\u001b[1;32m   4035\u001b[0m \u001b[38;5;28;01mif\u001b[39;00m future:\n\u001b[1;32m   4036\u001b[0m     \u001b[38;5;28;01mreturn\u001b[39;00m gpjob\n\u001b[0;32m-> 4037\u001b[0m \u001b[38;5;28;01mreturn\u001b[39;00m \u001b[43mgpjob\u001b[49m\u001b[38;5;241;43m.\u001b[39;49m\u001b[43mresult\u001b[49m\u001b[43m(\u001b[49m\u001b[43m)\u001b[49m\n",
      "File \u001b[0;32m~/Documents/DSE/DSE260-Capstone-Project/capstone/venv3.9/lib/python3.9/site-packages/arcgis/geoprocessing/_job.py:231\u001b[0m, in \u001b[0;36mGPJob.result\u001b[0;34m(self)\u001b[0m\n\u001b[1;32m    229\u001b[0m     \u001b[38;5;28;01mreturn\u001b[39;00m \u001b[38;5;28;01mNone\u001b[39;00m\n\u001b[1;32m    230\u001b[0m \u001b[38;5;28;01mif\u001b[39;00m \u001b[38;5;28mself\u001b[39m\u001b[38;5;241m.\u001b[39m_is_fa:\n\u001b[0;32m--> 231\u001b[0m     \u001b[38;5;28;01mreturn\u001b[39;00m \u001b[38;5;28mself\u001b[39m\u001b[38;5;241m.\u001b[39m_process_fa(\u001b[38;5;28;43mself\u001b[39;49m\u001b[38;5;241;43m.\u001b[39;49m\u001b[43m_future\u001b[49m\u001b[38;5;241;43m.\u001b[39;49m\u001b[43mresult\u001b[49m\u001b[43m(\u001b[49m\u001b[43m)\u001b[49m)\n\u001b[1;32m    232\u001b[0m \u001b[38;5;28;01melif\u001b[39;00m \u001b[38;5;28mself\u001b[39m\u001b[38;5;241m.\u001b[39m_is_ra:\n\u001b[1;32m    233\u001b[0m     \u001b[38;5;28;01mreturn\u001b[39;00m \u001b[38;5;28mself\u001b[39m\u001b[38;5;241m.\u001b[39m_process_ra(\u001b[38;5;28mself\u001b[39m\u001b[38;5;241m.\u001b[39m_future\u001b[38;5;241m.\u001b[39mresult())\n",
      "File \u001b[0;32m~/.pyenv/versions/3.9.16/lib/python3.9/concurrent/futures/_base.py:446\u001b[0m, in \u001b[0;36mFuture.result\u001b[0;34m(self, timeout)\u001b[0m\n\u001b[1;32m    444\u001b[0m     \u001b[38;5;28;01mraise\u001b[39;00m CancelledError()\n\u001b[1;32m    445\u001b[0m \u001b[38;5;28;01melif\u001b[39;00m \u001b[38;5;28mself\u001b[39m\u001b[38;5;241m.\u001b[39m_state \u001b[38;5;241m==\u001b[39m FINISHED:\n\u001b[0;32m--> 446\u001b[0m     \u001b[38;5;28;01mreturn\u001b[39;00m \u001b[38;5;28;43mself\u001b[39;49m\u001b[38;5;241;43m.\u001b[39;49m\u001b[43m__get_result\u001b[49m\u001b[43m(\u001b[49m\u001b[43m)\u001b[49m\n\u001b[1;32m    447\u001b[0m \u001b[38;5;28;01melse\u001b[39;00m:\n\u001b[1;32m    448\u001b[0m     \u001b[38;5;28;01mraise\u001b[39;00m \u001b[38;5;167;01mTimeoutError\u001b[39;00m()\n",
      "File \u001b[0;32m~/.pyenv/versions/3.9.16/lib/python3.9/concurrent/futures/_base.py:391\u001b[0m, in \u001b[0;36mFuture.__get_result\u001b[0;34m(self)\u001b[0m\n\u001b[1;32m    389\u001b[0m \u001b[38;5;28;01mif\u001b[39;00m \u001b[38;5;28mself\u001b[39m\u001b[38;5;241m.\u001b[39m_exception:\n\u001b[1;32m    390\u001b[0m     \u001b[38;5;28;01mtry\u001b[39;00m:\n\u001b[0;32m--> 391\u001b[0m         \u001b[38;5;28;01mraise\u001b[39;00m \u001b[38;5;28mself\u001b[39m\u001b[38;5;241m.\u001b[39m_exception\n\u001b[1;32m    392\u001b[0m     \u001b[38;5;28;01mfinally\u001b[39;00m:\n\u001b[1;32m    393\u001b[0m         \u001b[38;5;66;03m# Break a reference cycle with the exception in self._exception\u001b[39;00m\n\u001b[1;32m    394\u001b[0m         \u001b[38;5;28mself\u001b[39m \u001b[38;5;241m=\u001b[39m \u001b[38;5;28;01mNone\u001b[39;00m\n",
      "File \u001b[0;32m~/.pyenv/versions/3.9.16/lib/python3.9/concurrent/futures/thread.py:58\u001b[0m, in \u001b[0;36m_WorkItem.run\u001b[0;34m(self)\u001b[0m\n\u001b[1;32m     55\u001b[0m     \u001b[38;5;28;01mreturn\u001b[39;00m\n\u001b[1;32m     57\u001b[0m \u001b[38;5;28;01mtry\u001b[39;00m:\n\u001b[0;32m---> 58\u001b[0m     result \u001b[38;5;241m=\u001b[39m \u001b[38;5;28;43mself\u001b[39;49m\u001b[38;5;241;43m.\u001b[39;49m\u001b[43mfn\u001b[49m\u001b[43m(\u001b[49m\u001b[38;5;241;43m*\u001b[39;49m\u001b[38;5;28;43mself\u001b[39;49m\u001b[38;5;241;43m.\u001b[39;49m\u001b[43margs\u001b[49m\u001b[43m,\u001b[49m\u001b[43m \u001b[49m\u001b[38;5;241;43m*\u001b[39;49m\u001b[38;5;241;43m*\u001b[39;49m\u001b[38;5;28;43mself\u001b[39;49m\u001b[38;5;241;43m.\u001b[39;49m\u001b[43mkwargs\u001b[49m\u001b[43m)\u001b[49m\n\u001b[1;32m     59\u001b[0m \u001b[38;5;28;01mexcept\u001b[39;00m \u001b[38;5;167;01mBaseException\u001b[39;00m \u001b[38;5;28;01mas\u001b[39;00m exc:\n\u001b[1;32m     60\u001b[0m     \u001b[38;5;28mself\u001b[39m\u001b[38;5;241m.\u001b[39mfuture\u001b[38;5;241m.\u001b[39mset_exception(exc)\n",
      "File \u001b[0;32m~/Documents/DSE/DSE260-Capstone-Project/capstone/venv3.9/lib/python3.9/site-packages/arcgis/geoprocessing/_support.py:322\u001b[0m, in \u001b[0;36m_future_op\u001b[0;34m(gptool, task_url, job_info, job_id, param_db, return_values, return_messages)\u001b[0m\n\u001b[1;32m    318\u001b[0m \u001b[38;5;28;01mdef\u001b[39;00m \u001b[38;5;21m_future_op\u001b[39m(\n\u001b[1;32m    319\u001b[0m     gptool, task_url, job_info, job_id, param_db, return_values, return_messages\n\u001b[1;32m    320\u001b[0m ):\n\u001b[0;32m--> 322\u001b[0m     job_info \u001b[38;5;241m=\u001b[39m \u001b[43m_analysis_job_status\u001b[49m\u001b[43m(\u001b[49m\u001b[43mgptool\u001b[49m\u001b[43m,\u001b[49m\u001b[43m \u001b[49m\u001b[43mtask_url\u001b[49m\u001b[43m,\u001b[49m\u001b[43m \u001b[49m\u001b[43mjob_info\u001b[49m\u001b[43m)\u001b[49m\n\u001b[1;32m    323\u001b[0m     resp \u001b[38;5;241m=\u001b[39m _analysis_job_results(gptool, task_url, job_info, job_id)\n\u001b[1;32m    325\u001b[0m     \u001b[38;5;66;03m# ---------------------async-out---------------------#\u001b[39;00m\n",
      "File \u001b[0;32m~/Documents/DSE/DSE260-Capstone-Project/capstone/venv3.9/lib/python3.9/site-packages/arcgis/geoprocessing/_support.py:247\u001b[0m, in \u001b[0;36m_analysis_job_status\u001b[0;34m(gptool, task_url, job_info)\u001b[0m\n\u001b[1;32m    244\u001b[0m     num_messages \u001b[38;5;241m=\u001b[39m num\n\u001b[1;32m    246\u001b[0m \u001b[38;5;28;01mif\u001b[39;00m job_response\u001b[38;5;241m.\u001b[39mget(\u001b[38;5;124m\"\u001b[39m\u001b[38;5;124mjobStatus\u001b[39m\u001b[38;5;124m\"\u001b[39m) \u001b[38;5;241m==\u001b[39m \u001b[38;5;124m\"\u001b[39m\u001b[38;5;124mesriJobFailed\u001b[39m\u001b[38;5;124m\"\u001b[39m:\n\u001b[0;32m--> 247\u001b[0m     \u001b[38;5;28;01mraise\u001b[39;00m \u001b[38;5;167;01mException\u001b[39;00m(\u001b[38;5;124m\"\u001b[39m\u001b[38;5;124mJob failed.\u001b[39m\u001b[38;5;124m\"\u001b[39m)\n\u001b[1;32m    248\u001b[0m \u001b[38;5;28;01melif\u001b[39;00m job_response\u001b[38;5;241m.\u001b[39mget(\u001b[38;5;124m\"\u001b[39m\u001b[38;5;124mjobStatus\u001b[39m\u001b[38;5;124m\"\u001b[39m) \u001b[38;5;241m==\u001b[39m \u001b[38;5;124m\"\u001b[39m\u001b[38;5;124mesriJobCancelled\u001b[39m\u001b[38;5;124m\"\u001b[39m:\n\u001b[1;32m    249\u001b[0m     \u001b[38;5;28;01mraise\u001b[39;00m \u001b[38;5;167;01mException\u001b[39;00m(\u001b[38;5;124m\"\u001b[39m\u001b[38;5;124mJob cancelled.\u001b[39m\u001b[38;5;124m\"\u001b[39m)\n",
      "\u001b[0;31mException\u001b[0m: Job failed."
     ]
    }
   ],
   "source": [
    "# Try it for feature layer hosted with SANDAG\n",
    "query_feature_layer(block_grp_expr,get_feature_layer(service_url='https://gissd.sandag.org/rdw/rest/services/Census/Census_ZIP/MapServer/2'))"
   ]
  },
  {
   "cell_type": "code",
   "execution_count": null,
   "id": "44b32657-9960-4c3b-a537-995b8c44c39c",
   "metadata": {},
   "outputs": [],
   "source": []
  }
 ],
 "metadata": {
  "kernelspec": {
   "display_name": "Python 3 (ipykernel)",
   "language": "python",
   "name": "python3"
  },
  "language_info": {
   "codemirror_mode": {
    "name": "ipython",
    "version": 3
   },
   "file_extension": ".py",
   "mimetype": "text/x-python",
   "name": "python",
   "nbconvert_exporter": "python",
   "pygments_lexer": "ipython3",
   "version": "3.9.16"
  }
 },
 "nbformat": 4,
 "nbformat_minor": 5
}
