{
 "cells": [
  {
   "cell_type": "code",
   "execution_count": 1,
   "metadata": {},
   "outputs": [],
   "source": [
    "import arcgis\n",
    "from arcgis.gis import GIS\n",
    "from arcgis import geometry\n",
    "from arcgis.features import GeoAccessor, GeoSeriesAccessor\n",
    "from arcgis.geoenrichment import *\n",
    "import pandas as pd\n",
    "from pathlib import Path"
   ]
  },
  {
   "cell_type": "code",
   "execution_count": 2,
   "metadata": {},
   "outputs": [],
   "source": [
    "data_p = Path(\"output\")"
   ]
  },
  {
   "cell_type": "code",
   "execution_count": 3,
   "metadata": {},
   "outputs": [
    {
     "name": "stdout",
     "output_type": "stream",
     "text": [
      "Enter the Client ID/APP ID generated from Arc GIS:\n"
     ]
    },
    {
     "name": "stdout",
     "output_type": "stream",
     "text": [
      " Elm5V3upnnV17Q3r\n"
     ]
    },
    {
     "name": "stdout",
     "output_type": "stream",
     "text": [
      "Please sign in to your GIS and paste the code that is obtained below.\n",
      "If a web browser does not automatically open, please navigate to the URL below yourself instead.\n",
      "Opening web browser to navigate to: https://ucsdonline.maps.arcgis.com/sharing/rest/oauth2/authorize?response_type=code&client_id=Elm5V3upnnV17Q3r&redirect_uri=urn%3Aietf%3Awg%3Aoauth%3A2.0%3Aoob&state=eeZyhKZCqEFTJvbDWhe5Nfg1Np70IW&allow_verification=false\n"
     ]
    },
    {
     "name": "stdout",
     "output_type": "stream",
     "text": [
      "Enter code obtained on signing in using SAML:  ········\n"
     ]
    },
    {
     "name": "stderr",
     "output_type": "stream",
     "text": [
      "/Users/amolkale/Documents/DSE/DSE260-Capstone-Project/capstone/venv3.9/lib/python3.9/site-packages/urllib3/connectionpool.py:1045: InsecureRequestWarning: Unverified HTTPS request is being made to host 'ucsdonline.maps.arcgis.com'. Adding certificate verification is strongly advised. See: https://urllib3.readthedocs.io/en/1.26.x/advanced-usage.html#ssl-warnings\n",
      "  warnings.warn(\n"
     ]
    },
    {
     "data": {
      "text/plain": [
       "'2.1.0'"
      ]
     },
     "execution_count": 3,
     "metadata": {},
     "output_type": "execute_result"
    }
   ],
   "source": [
    "\n",
    "#gis = GIS(username='izaslavsky_ucsd')  # this will ask for password. \n",
    "print(\"Enter the Client ID/APP ID generated from Arc GIS:\")\n",
    "app_id = input()\n",
    "gis = GIS(\"https://ucsdonline.maps.arcgis.com/home\", client_id=app_id)\n",
    "arcgis.__version__\n",
    "# Elm5V3upnnV17Q3r"
   ]
  },
  {
   "cell_type": "markdown",
   "metadata": {},
   "source": [
    "### What information is available for your country of interest?"
   ]
  },
  {
   "cell_type": "code",
   "execution_count": 4,
   "metadata": {},
   "outputs": [],
   "source": [
    "# What is available for the US?\n",
    "usa = Country.get('US')"
   ]
  },
  {
   "cell_type": "code",
   "execution_count": 5,
   "metadata": {},
   "outputs": [],
   "source": [
    "# Read excel file with sheet name\n",
    "dict_df = pd.read_excel('Variables to Use in Food Swamp and Opportunities Maps 2-2-23.xlsx', \n",
    "                   sheet_name=['Esri Consumer Spending Data ','Esri Business Data','Esri Market Potential Data','Esri Demographics'])"
   ]
  },
  {
   "cell_type": "code",
   "execution_count": 6,
   "metadata": {},
   "outputs": [],
   "source": [
    "# consumer_spending_vars_df = dict_df.get('Esri Consumer Spending Data ')\n",
    "# list(consumer_spending_vars_df['Variables to use'].unique())"
   ]
  },
  {
   "cell_type": "code",
   "execution_count": 7,
   "metadata": {},
   "outputs": [],
   "source": [
    "segment_list = list(dict_df.keys())"
   ]
  },
  {
   "cell_type": "code",
   "execution_count": 15,
   "metadata": {},
   "outputs": [
    {
     "data": {
      "text/plain": [
       "['Esri Consumer Spending Data ',\n",
       " 'Esri Business Data',\n",
       " 'Esri Market Potential Data',\n",
       " 'Esri Demographics']"
      ]
     },
     "execution_count": 15,
     "metadata": {},
     "output_type": "execute_result"
    }
   ],
   "source": [
    "segment_list"
   ]
  },
  {
   "cell_type": "code",
   "execution_count": 8,
   "metadata": {},
   "outputs": [],
   "source": [
    "subgeographies_to_enrich = ['block_groups','tracts','zip5']\n",
    "counties_scoped = ['San_Diego_County','Imperial_County']"
   ]
  },
  {
   "cell_type": "code",
   "execution_count": 9,
   "metadata": {},
   "outputs": [],
   "source": [
    "def create_dir(directory):\n",
    "    directory.mkdir(exist_ok=True)"
   ]
  },
  {
   "cell_type": "code",
   "execution_count": 10,
   "metadata": {},
   "outputs": [],
   "source": [
    "#TEst Create dir\n",
    "# enrichment_path = data_p / \"San_Diego_County\"\n",
    "# create_dir(enrichment_path)"
   ]
  },
  {
   "cell_type": "code",
   "execution_count": 11,
   "metadata": {},
   "outputs": [],
   "source": [
    "def parse_enrichment_segment(segment):\n",
    "    print(f\"{segment}:\")\n",
    "    vars_df = dict_df.get(segment)\n",
    "    vars_df = vars_df.applymap(lambda x: x.strip() if isinstance(x, str) else x)\n",
    "    # drop Nan from the dataframe\n",
    "    vars_df = vars_df.dropna(subset=['Variables to use'])\n",
    "    var_list = list(vars_df['Variables to use'].unique())\n",
    "    print(f\"\\tNumber of Variables: {len(var_list)}\")\n",
    "    for cnty in counties_scoped:\n",
    "        create_dir(data_p / cnty)\n",
    "        for sg in subgeographies_to_enrich:\n",
    "            create_dir(data_p / cnty / sg)\n",
    "            enrich_geography(segment,cnty,sg,var_list)"
   ]
  },
  {
   "cell_type": "code",
   "execution_count": 13,
   "metadata": {},
   "outputs": [],
   "source": [
    "def enrich_geography(segment,county,subgeography,variable_list):\n",
    "    segment_name = segment.lower().replace(\" \", \"_\")\n",
    "    enrichment_file_name = f\"{segment_name}.csv\"\n",
    "    enrichment_path = f\"output/{county}/{subgeography}/{enrichment_file_name}\"\n",
    "\n",
    "    if subgeography=='block_groups':\n",
    "        subgeographies = usa.subgeographies.states['California'].counties[county].block_groups\n",
    "    elif subgeography=='tracts':\n",
    "        subgeographies = usa.subgeographies.states['California'].counties[county].tracts\n",
    "    elif subgeography=='zip5':\n",
    "        subgeographies = usa.subgeographies.states['California'].counties[county].zip5\n",
    "    \n",
    "    enriched_df = enrich(study_areas=subgeographies, analysis_variables=variable_list)\n",
    "    enriched_df.to_csv(enrichment_path,index=False)\n",
    "    \n",
    "    print(\"\\tEnrichment Details:\")\n",
    "    print(f\"\\t\\tNumber of rows/{subgeography}: {enriched_df.shape[0]}\")\n",
    "    print(f\"\\t\\tNumber of columns/variables: {enriched_df.shape[1]}\")\n",
    "          \n",
    "    print(f\"\\tFile Saved: {enrichment_file_name}\")\n",
    "    print(f\"\\tFile Saved Path: {enrichment_path}\")\n",
    "    \n",
    "    print(\"\\n\")"
   ]
  },
  {
   "cell_type": "code",
   "execution_count": 14,
   "metadata": {},
   "outputs": [
    {
     "name": "stdout",
     "output_type": "stream",
     "text": [
      "CPU times: user 3 µs, sys: 1e+03 ns, total: 4 µs\n",
      "Wall time: 6.91 µs\n",
      "Esri Consumer Spending Data :\n",
      "\tNumber of Variables: 360\n",
      "\tEnrichment Details:\n",
      "\t\tNumber of rows/block_groups: 1000\n",
      "\t\tNumber of columns/variables: 369\n",
      "\tFile Saved: esri_consumer_spending_data_.csv\n",
      "\tFile Saved Path: output/San_Diego_County/block_groups/esri_consumer_spending_data_.csv\n",
      "\n",
      "\n",
      "\tEnrichment Details:\n",
      "\t\tNumber of rows/tracts: 736\n",
      "\t\tNumber of columns/variables: 369\n",
      "\tFile Saved: esri_consumer_spending_data_.csv\n",
      "\tFile Saved Path: output/San_Diego_County/tracts/esri_consumer_spending_data_.csv\n",
      "\n",
      "\n",
      "\tEnrichment Details:\n",
      "\t\tNumber of rows/zip5: 114\n",
      "\t\tNumber of columns/variables: 369\n",
      "\tFile Saved: esri_consumer_spending_data_.csv\n",
      "\tFile Saved Path: output/San_Diego_County/zip5/esri_consumer_spending_data_.csv\n",
      "\n",
      "\n",
      "\tEnrichment Details:\n",
      "\t\tNumber of rows/block_groups: 114\n",
      "\t\tNumber of columns/variables: 369\n",
      "\tFile Saved: esri_consumer_spending_data_.csv\n",
      "\tFile Saved Path: output/Imperial_County/block_groups/esri_consumer_spending_data_.csv\n",
      "\n",
      "\n",
      "\tEnrichment Details:\n",
      "\t\tNumber of rows/tracts: 40\n",
      "\t\tNumber of columns/variables: 369\n",
      "\tFile Saved: esri_consumer_spending_data_.csv\n",
      "\tFile Saved Path: output/Imperial_County/tracts/esri_consumer_spending_data_.csv\n",
      "\n",
      "\n",
      "\tEnrichment Details:\n",
      "\t\tNumber of rows/zip5: 14\n",
      "\t\tNumber of columns/variables: 369\n",
      "\tFile Saved: esri_consumer_spending_data_.csv\n",
      "\tFile Saved Path: output/Imperial_County/zip5/esri_consumer_spending_data_.csv\n",
      "\n",
      "\n",
      "Esri Business Data:\n",
      "\tNumber of Variables: 99\n",
      "\tEnrichment Details:\n",
      "\t\tNumber of rows/block_groups: 1000\n",
      "\t\tNumber of columns/variables: 108\n",
      "\tFile Saved: esri_business_data.csv\n",
      "\tFile Saved Path: output/San_Diego_County/block_groups/esri_business_data.csv\n",
      "\n",
      "\n",
      "\tEnrichment Details:\n",
      "\t\tNumber of rows/tracts: 736\n",
      "\t\tNumber of columns/variables: 108\n",
      "\tFile Saved: esri_business_data.csv\n",
      "\tFile Saved Path: output/San_Diego_County/tracts/esri_business_data.csv\n",
      "\n",
      "\n",
      "\tEnrichment Details:\n",
      "\t\tNumber of rows/zip5: 114\n",
      "\t\tNumber of columns/variables: 108\n",
      "\tFile Saved: esri_business_data.csv\n",
      "\tFile Saved Path: output/San_Diego_County/zip5/esri_business_data.csv\n",
      "\n",
      "\n",
      "\tEnrichment Details:\n",
      "\t\tNumber of rows/block_groups: 114\n",
      "\t\tNumber of columns/variables: 108\n",
      "\tFile Saved: esri_business_data.csv\n",
      "\tFile Saved Path: output/Imperial_County/block_groups/esri_business_data.csv\n",
      "\n",
      "\n",
      "\tEnrichment Details:\n",
      "\t\tNumber of rows/tracts: 40\n",
      "\t\tNumber of columns/variables: 108\n",
      "\tFile Saved: esri_business_data.csv\n",
      "\tFile Saved Path: output/Imperial_County/tracts/esri_business_data.csv\n",
      "\n",
      "\n",
      "\tEnrichment Details:\n",
      "\t\tNumber of rows/zip5: 14\n",
      "\t\tNumber of columns/variables: 108\n",
      "\tFile Saved: esri_business_data.csv\n",
      "\tFile Saved Path: output/Imperial_County/zip5/esri_business_data.csv\n",
      "\n",
      "\n",
      "Esri Market Potential Data:\n",
      "\tNumber of Variables: 1264\n",
      "\tEnrichment Details:\n",
      "\t\tNumber of rows/block_groups: 1000\n",
      "\t\tNumber of columns/variables: 1203\n",
      "\tFile Saved: esri_market_potential_data.csv\n",
      "\tFile Saved Path: output/San_Diego_County/block_groups/esri_market_potential_data.csv\n",
      "\n",
      "\n",
      "\tEnrichment Details:\n",
      "\t\tNumber of rows/tracts: 736\n",
      "\t\tNumber of columns/variables: 1203\n",
      "\tFile Saved: esri_market_potential_data.csv\n",
      "\tFile Saved Path: output/San_Diego_County/tracts/esri_market_potential_data.csv\n",
      "\n",
      "\n",
      "\tEnrichment Details:\n",
      "\t\tNumber of rows/zip5: 114\n",
      "\t\tNumber of columns/variables: 1203\n",
      "\tFile Saved: esri_market_potential_data.csv\n",
      "\tFile Saved Path: output/San_Diego_County/zip5/esri_market_potential_data.csv\n",
      "\n",
      "\n",
      "\tEnrichment Details:\n",
      "\t\tNumber of rows/block_groups: 114\n",
      "\t\tNumber of columns/variables: 1203\n",
      "\tFile Saved: esri_market_potential_data.csv\n",
      "\tFile Saved Path: output/Imperial_County/block_groups/esri_market_potential_data.csv\n",
      "\n",
      "\n",
      "\tEnrichment Details:\n",
      "\t\tNumber of rows/tracts: 40\n",
      "\t\tNumber of columns/variables: 1203\n",
      "\tFile Saved: esri_market_potential_data.csv\n",
      "\tFile Saved Path: output/Imperial_County/tracts/esri_market_potential_data.csv\n",
      "\n",
      "\n",
      "\tEnrichment Details:\n",
      "\t\tNumber of rows/zip5: 14\n",
      "\t\tNumber of columns/variables: 1203\n",
      "\tFile Saved: esri_market_potential_data.csv\n",
      "\tFile Saved Path: output/Imperial_County/zip5/esri_market_potential_data.csv\n",
      "\n",
      "\n",
      "Esri Demographics:\n",
      "\tNumber of Variables: 1923\n",
      "\tEnrichment Details:\n",
      "\t\tNumber of rows/block_groups: 1000\n",
      "\t\tNumber of columns/variables: 1927\n",
      "\tFile Saved: esri_demographics.csv\n",
      "\tFile Saved Path: output/San_Diego_County/block_groups/esri_demographics.csv\n",
      "\n",
      "\n",
      "\tEnrichment Details:\n",
      "\t\tNumber of rows/tracts: 736\n",
      "\t\tNumber of columns/variables: 1927\n",
      "\tFile Saved: esri_demographics.csv\n",
      "\tFile Saved Path: output/San_Diego_County/tracts/esri_demographics.csv\n",
      "\n",
      "\n",
      "\tEnrichment Details:\n",
      "\t\tNumber of rows/zip5: 114\n",
      "\t\tNumber of columns/variables: 1927\n",
      "\tFile Saved: esri_demographics.csv\n",
      "\tFile Saved Path: output/San_Diego_County/zip5/esri_demographics.csv\n",
      "\n",
      "\n",
      "\tEnrichment Details:\n",
      "\t\tNumber of rows/block_groups: 114\n",
      "\t\tNumber of columns/variables: 1927\n",
      "\tFile Saved: esri_demographics.csv\n",
      "\tFile Saved Path: output/Imperial_County/block_groups/esri_demographics.csv\n",
      "\n",
      "\n",
      "\tEnrichment Details:\n",
      "\t\tNumber of rows/tracts: 40\n",
      "\t\tNumber of columns/variables: 1927\n",
      "\tFile Saved: esri_demographics.csv\n",
      "\tFile Saved Path: output/Imperial_County/tracts/esri_demographics.csv\n",
      "\n",
      "\n",
      "\tEnrichment Details:\n",
      "\t\tNumber of rows/zip5: 14\n",
      "\t\tNumber of columns/variables: 1927\n",
      "\tFile Saved: esri_demographics.csv\n",
      "\tFile Saved Path: output/Imperial_County/zip5/esri_demographics.csv\n",
      "\n",
      "\n"
     ]
    }
   ],
   "source": [
    "%time\n",
    "for s in segment_list:\n",
    "    parse_enrichment_segment(s)"
   ]
  },
  {
   "cell_type": "code",
   "execution_count": null,
   "metadata": {},
   "outputs": [],
   "source": []
  }
 ],
 "metadata": {
  "kernelspec": {
   "display_name": "Python 3 (ipykernel)",
   "language": "python",
   "name": "python3"
  },
  "language_info": {
   "codemirror_mode": {
    "name": "ipython",
    "version": 3
   },
   "file_extension": ".py",
   "mimetype": "text/x-python",
   "name": "python",
   "nbconvert_exporter": "python",
   "pygments_lexer": "ipython3",
   "version": "3.9.16"
  },
  "toc": {
   "base_numbering": 1,
   "nav_menu": {},
   "number_sections": true,
   "sideBar": true,
   "skip_h1_title": true,
   "title_cell": "Table of Contents",
   "title_sidebar": "Contents",
   "toc_cell": false,
   "toc_position": {
    "height": "calc(100% - 180px)",
    "left": "10px",
    "top": "150px",
    "width": "364px"
   },
   "toc_section_display": true,
   "toc_window_display": false
  }
 },
 "nbformat": 4,
 "nbformat_minor": 4
}
