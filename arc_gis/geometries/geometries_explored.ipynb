{
 "cells": [
  {
   "cell_type": "code",
   "execution_count": 5,
   "id": "c1c6af97-3caa-45b9-b265-148f700705bd",
   "metadata": {},
   "outputs": [],
   "source": [
    "import arcgis\n",
    "from arcgis.geometry import *"
   ]
  },
  {
   "cell_type": "code",
   "execution_count": 6,
   "id": "aab2ebfc-3c4f-4674-aaab-8c7cf9a5e3dd",
   "metadata": {},
   "outputs": [
    {
     "name": "stdout",
     "output_type": "stream",
     "text": [
      "Polygon\n",
      "True\n"
     ]
    }
   ],
   "source": [
    "geom = Geometry({\n",
    "     \"rings\" : [[[-97.06138,32.837],[-97.06133,32.836],[-97.06124,32.834],[-97.06127,32.832],\n",
    "               [-97.06138,32.837]],[[-97.06326,32.759],[-97.06298,32.755],[-97.06153,32.749],\n",
    "               [-97.06326,32.759]]],\n",
    "     \"spatialReference\" : {\"wkid\" : 4326}\n",
    "                 })\n",
    "print(geom.type) # POLYGON\n",
    "print(isinstance(geom, Polygon))"
   ]
  },
  {
   "cell_type": "code",
   "execution_count": 7,
   "id": "bcd908c0-2796-4b54-b916-821e39f49c9b",
   "metadata": {},
   "outputs": [],
   "source": [
    "geom = Geometry([-97.06138,32.837])"
   ]
  },
  {
   "cell_type": "code",
   "execution_count": 13,
   "id": "a1734dc7-23ff-47bc-8a6f-4bfb2bcaf343",
   "metadata": {},
   "outputs": [
    {
     "data": {
      "image/svg+xml": [
       "<svg xmlns=\"http://www.w3.org/2000/svg\" xmlns:xlink=\"http://www.w3.org/1999/xlink\" width=\"100.0\" height=\"100.0\" viewBox=\"-98.06138 31.837000000000003 2.0 2.0\" preserveAspectRatio=\"xMinYMin meet\"><g transform=\"matrix(1,0,0,-1,0,65.674)\"><circle cx=\"-97.06138\" cy=\"32.837\" r=\"0.06\" stroke=\"#555555\" stroke-width=\"0.02\" fill=\"#66cc99\" opacity=\"0.6\" /></g></svg>"
      ],
      "text/plain": [
       "{'x': -97.06138, 'y': 32.837, 'spatialReference': {'wkid': 4326}}"
      ]
     },
     "execution_count": 13,
     "metadata": {},
     "output_type": "execute_result"
    }
   ],
   "source": []
  },
  {
   "cell_type": "code",
   "execution_count": null,
   "id": "358e5f8b-b461-40f5-819e-38d79921a8d1",
   "metadata": {},
   "outputs": [],
   "source": []
  }
 ],
 "metadata": {
  "kernelspec": {
   "display_name": "Python 3 (ipykernel)",
   "language": "python",
   "name": "python3"
  },
  "language_info": {
   "codemirror_mode": {
    "name": "ipython",
    "version": 3
   },
   "file_extension": ".py",
   "mimetype": "text/x-python",
   "name": "python",
   "nbconvert_exporter": "python",
   "pygments_lexer": "ipython3",
   "version": "3.9.16"
  }
 },
 "nbformat": 4,
 "nbformat_minor": 5
}
