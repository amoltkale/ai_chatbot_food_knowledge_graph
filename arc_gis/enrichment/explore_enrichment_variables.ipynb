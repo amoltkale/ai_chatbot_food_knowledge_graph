{
 "cells": [
  {
   "cell_type": "code",
   "execution_count": 1,
   "id": "d57f8f5f-e74a-4f70-9513-f18a6fbac47a",
   "metadata": {},
   "outputs": [],
   "source": [
    "import arcgis\n",
    "from arcgis.gis import GIS\n",
    "from arcgis.geoenrichment import *"
   ]
  },
  {
   "cell_type": "code",
   "execution_count": 2,
   "id": "ab53a147-e3de-4fc1-b252-034df3af41ac",
   "metadata": {},
   "outputs": [
    {
     "name": "stdout",
     "output_type": "stream",
     "text": [
      "Enter the Client ID/APP ID generated from Arc GIS:\n"
     ]
    },
    {
     "name": "stdin",
     "output_type": "stream",
     "text": [
      " Elm5V3upnnV17Q3r\n"
     ]
    },
    {
     "name": "stdout",
     "output_type": "stream",
     "text": [
      "Please sign in to your GIS and paste the code that is obtained below.\n",
      "If a web browser does not automatically open, please navigate to the URL below yourself instead.\n",
      "Opening web browser to navigate to: https://ucsdonline.maps.arcgis.com/sharing/rest/oauth2/authorize?response_type=code&client_id=Elm5V3upnnV17Q3r&redirect_uri=urn%3Aietf%3Awg%3Aoauth%3A2.0%3Aoob&state=KcMPQ1H4Ong6Advog2mCAxC8SJF9bU&allow_verification=false\n"
     ]
    },
    {
     "name": "stdin",
     "output_type": "stream",
     "text": [
      "Enter code obtained on signing in using SAML:  ········\n"
     ]
    },
    {
     "name": "stderr",
     "output_type": "stream",
     "text": [
      "/Users/amolkale/Documents/DSE/DSE260-Capstone-Project/capstone/venv3.9/lib/python3.9/site-packages/urllib3/connectionpool.py:1045: InsecureRequestWarning: Unverified HTTPS request is being made to host 'ucsdonline.maps.arcgis.com'. Adding certificate verification is strongly advised. See: https://urllib3.readthedocs.io/en/1.26.x/advanced-usage.html#ssl-warnings\n",
      "  warnings.warn(\n"
     ]
    },
    {
     "data": {
      "text/plain": [
       "'2.1.0'"
      ]
     },
     "execution_count": 2,
     "metadata": {},
     "output_type": "execute_result"
    }
   ],
   "source": [
    "\n",
    "#gis = GIS(username='izaslavsky_ucsd')  # this will ask for password. \n",
    "print(\"Enter the Client ID/APP ID generated from Arc GIS:\")\n",
    "app_id = input()\n",
    "gis = GIS(\"https://ucsdonline.maps.arcgis.com/home\", client_id=app_id)\n",
    "arcgis.__version__\n",
    "# Elm5V3upnnV17Q3r"
   ]
  },
  {
   "cell_type": "code",
   "execution_count": 3,
   "id": "090a45d9-6832-4e88-b5b9-0ccc3082b3bd",
   "metadata": {},
   "outputs": [],
   "source": [
    "usa = Country(\"usa\", gis=gis)"
   ]
  },
  {
   "cell_type": "code",
   "execution_count": 9,
   "id": "19f4e066-390a-4ea4-a470-290bb49d6c43",
   "metadata": {},
   "outputs": [
    {
     "name": "stdout",
     "output_type": "stream",
     "text": [
      "Total Enrichment Variables: 19015\n",
      "Unique Data Collection: 115\n",
      "Sample Data: \n"
     ]
    },
    {
     "data": {
      "text/html": [
       "<div>\n",
       "<style scoped>\n",
       "    .dataframe tbody tr th:only-of-type {\n",
       "        vertical-align: middle;\n",
       "    }\n",
       "\n",
       "    .dataframe tbody tr th {\n",
       "        vertical-align: top;\n",
       "    }\n",
       "\n",
       "    .dataframe thead th {\n",
       "        text-align: right;\n",
       "    }\n",
       "</style>\n",
       "<table border=\"1\" class=\"dataframe\">\n",
       "  <thead>\n",
       "    <tr style=\"text-align: right;\">\n",
       "      <th></th>\n",
       "      <th>name</th>\n",
       "      <th>alias</th>\n",
       "      <th>data_collection</th>\n",
       "      <th>enrich_name</th>\n",
       "      <th>enrich_field_name</th>\n",
       "      <th>description</th>\n",
       "      <th>vintage</th>\n",
       "      <th>units</th>\n",
       "    </tr>\n",
       "  </thead>\n",
       "  <tbody>\n",
       "    <tr>\n",
       "      <th>0</th>\n",
       "      <td>AGE0_CY</td>\n",
       "      <td>2022 Population Age &lt;1</td>\n",
       "      <td>1yearincrements</td>\n",
       "      <td>1yearincrements.AGE0_CY</td>\n",
       "      <td>F1yearincrements_AGE0_CY</td>\n",
       "      <td>2022 Total Population Age &lt;1 (Esri)</td>\n",
       "      <td>2022</td>\n",
       "      <td>count</td>\n",
       "    </tr>\n",
       "    <tr>\n",
       "      <th>1</th>\n",
       "      <td>AGE1_CY</td>\n",
       "      <td>2022 Population Age 1</td>\n",
       "      <td>1yearincrements</td>\n",
       "      <td>1yearincrements.AGE1_CY</td>\n",
       "      <td>F1yearincrements_AGE1_CY</td>\n",
       "      <td>2022 Total Population Age 1 (Esri)</td>\n",
       "      <td>2022</td>\n",
       "      <td>count</td>\n",
       "    </tr>\n",
       "    <tr>\n",
       "      <th>2</th>\n",
       "      <td>AGE2_CY</td>\n",
       "      <td>2022 Population Age 2</td>\n",
       "      <td>1yearincrements</td>\n",
       "      <td>1yearincrements.AGE2_CY</td>\n",
       "      <td>F1yearincrements_AGE2_CY</td>\n",
       "      <td>2022 Total Population Age 2 (Esri)</td>\n",
       "      <td>2022</td>\n",
       "      <td>count</td>\n",
       "    </tr>\n",
       "  </tbody>\n",
       "</table>\n",
       "</div>"
      ],
      "text/plain": [
       "      name                   alias  data_collection              enrich_name  \\\n",
       "0  AGE0_CY  2022 Population Age <1  1yearincrements  1yearincrements.AGE0_CY   \n",
       "1  AGE1_CY   2022 Population Age 1  1yearincrements  1yearincrements.AGE1_CY   \n",
       "2  AGE2_CY   2022 Population Age 2  1yearincrements  1yearincrements.AGE2_CY   \n",
       "\n",
       "          enrich_field_name                          description vintage  \\\n",
       "0  F1yearincrements_AGE0_CY  2022 Total Population Age <1 (Esri)    2022   \n",
       "1  F1yearincrements_AGE1_CY   2022 Total Population Age 1 (Esri)    2022   \n",
       "2  F1yearincrements_AGE2_CY   2022 Total Population Age 2 (Esri)    2022   \n",
       "\n",
       "   units  \n",
       "0  count  \n",
       "1  count  \n",
       "2  count  "
      ]
     },
     "metadata": {},
     "output_type": "display_data"
    }
   ],
   "source": [
    "enrich_variables = usa.enrich_variables\n",
    "print(f\"Total Enrichment Variables: {len(enrich_variables)}\")\n",
    "print(f\"Unique Data Collection: {enrich_variables['data_collection'].unique().size}\")\n",
    "print(f\"Sample Data: \")\n",
    "display(enrich_variables.head(3))"
   ]
  },
  {
   "cell_type": "code",
   "execution_count": 10,
   "id": "9c8904d2-f207-44e9-9feb-4658587107c6",
   "metadata": {},
   "outputs": [],
   "source": [
    "test_variable = 'DIVINDX_CY'"
   ]
  },
  {
   "cell_type": "code",
   "execution_count": 11,
   "id": "151e5944-c641-4aa0-b2d9-3d4255cf3f17",
   "metadata": {},
   "outputs": [
    {
     "data": {
      "text/html": [
       "<div>\n",
       "<style scoped>\n",
       "    .dataframe tbody tr th:only-of-type {\n",
       "        vertical-align: middle;\n",
       "    }\n",
       "\n",
       "    .dataframe tbody tr th {\n",
       "        vertical-align: top;\n",
       "    }\n",
       "\n",
       "    .dataframe thead th {\n",
       "        text-align: right;\n",
       "    }\n",
       "</style>\n",
       "<table border=\"1\" class=\"dataframe\">\n",
       "  <thead>\n",
       "    <tr style=\"text-align: right;\">\n",
       "      <th></th>\n",
       "      <th>name</th>\n",
       "      <th>alias</th>\n",
       "      <th>data_collection</th>\n",
       "      <th>enrich_name</th>\n",
       "      <th>enrich_field_name</th>\n",
       "      <th>description</th>\n",
       "      <th>vintage</th>\n",
       "      <th>units</th>\n",
       "    </tr>\n",
       "  </thead>\n",
       "  <tbody>\n",
       "    <tr>\n",
       "      <th>12651</th>\n",
       "      <td>DIVINDX_CY</td>\n",
       "      <td>2022 Diversity Index</td>\n",
       "      <td>KeyUSFacts</td>\n",
       "      <td>KeyUSFacts.DIVINDX_CY</td>\n",
       "      <td>KeyUSFacts_DIVINDX_CY</td>\n",
       "      <td>2022 Diversity Index (Esri)</td>\n",
       "      <td>2022</td>\n",
       "      <td>count</td>\n",
       "    </tr>\n",
       "    <tr>\n",
       "      <th>14677</th>\n",
       "      <td>DIVINDX_CY</td>\n",
       "      <td>2022 Diversity Index</td>\n",
       "      <td>Policy</td>\n",
       "      <td>Policy.DIVINDX_CY</td>\n",
       "      <td>Policy_DIVINDX_CY</td>\n",
       "      <td>2022 Diversity Index (Esri)</td>\n",
       "      <td>2022</td>\n",
       "      <td>count</td>\n",
       "    </tr>\n",
       "    <tr>\n",
       "      <th>16575</th>\n",
       "      <td>DIVINDX_CY</td>\n",
       "      <td>2022 Diversity Index</td>\n",
       "      <td>raceandhispanicorigin</td>\n",
       "      <td>raceandhispanicorigin.DIVINDX_CY</td>\n",
       "      <td>raceandhispanicorigin_DIVINDX_CY</td>\n",
       "      <td>2022 Diversity Index (Esri)</td>\n",
       "      <td>2022</td>\n",
       "      <td>count</td>\n",
       "    </tr>\n",
       "  </tbody>\n",
       "</table>\n",
       "</div>"
      ],
      "text/plain": [
       "             name                 alias        data_collection  \\\n",
       "12651  DIVINDX_CY  2022 Diversity Index             KeyUSFacts   \n",
       "14677  DIVINDX_CY  2022 Diversity Index                 Policy   \n",
       "16575  DIVINDX_CY  2022 Diversity Index  raceandhispanicorigin   \n",
       "\n",
       "                            enrich_name                 enrich_field_name  \\\n",
       "12651             KeyUSFacts.DIVINDX_CY             KeyUSFacts_DIVINDX_CY   \n",
       "14677                 Policy.DIVINDX_CY                 Policy_DIVINDX_CY   \n",
       "16575  raceandhispanicorigin.DIVINDX_CY  raceandhispanicorigin_DIVINDX_CY   \n",
       "\n",
       "                       description vintage  units  \n",
       "12651  2022 Diversity Index (Esri)    2022  count  \n",
       "14677  2022 Diversity Index (Esri)    2022  count  \n",
       "16575  2022 Diversity Index (Esri)    2022  count  "
      ]
     },
     "execution_count": 11,
     "metadata": {},
     "output_type": "execute_result"
    }
   ],
   "source": [
    "enrich_variables[enrich_variables['name'].str.contains(test_variable)]"
   ]
  },
  {
   "cell_type": "code",
   "execution_count": null,
   "id": "c0c9dace-c7a3-46b4-93b2-3bb6be7026aa",
   "metadata": {},
   "outputs": [],
   "source": []
  }
 ],
 "metadata": {
  "kernelspec": {
   "display_name": "Python 3 (ipykernel)",
   "language": "python",
   "name": "python3"
  },
  "language_info": {
   "codemirror_mode": {
    "name": "ipython",
    "version": 3
   },
   "file_extension": ".py",
   "mimetype": "text/x-python",
   "name": "python",
   "nbconvert_exporter": "python",
   "pygments_lexer": "ipython3",
   "version": "3.9.16"
  }
 },
 "nbformat": 4,
 "nbformat_minor": 5
}
