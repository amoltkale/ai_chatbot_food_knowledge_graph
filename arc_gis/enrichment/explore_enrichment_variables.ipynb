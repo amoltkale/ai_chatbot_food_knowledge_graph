{
 "cells": [
  {
   "cell_type": "code",
   "execution_count": 2,
   "id": "d57f8f5f-e74a-4f70-9513-f18a6fbac47a",
   "metadata": {},
   "outputs": [],
   "source": [
    "import arcgis\n",
    "from arcgis.gis import GIS\n",
    "from arcgis.geoenrichment import *\n",
    "import pandas as pd\n",
    "import sys\n",
    "sys.path.append('../../')\n",
    "from utils import get_config"
   ]
  },
  {
   "cell_type": "code",
   "execution_count": 3,
   "id": "ab53a147-e3de-4fc1-b252-034df3af41ac",
   "metadata": {},
   "outputs": [
    {
     "name": "stdout",
     "output_type": "stream",
     "text": [
      "<configparser.ConfigParser object at 0x12ee3fa60>\n",
      "Please sign in to your GIS and paste the code that is obtained below.\n",
      "If a web browser does not automatically open, please navigate to the URL below yourself instead.\n",
      "Opening web browser to navigate to: https://ucsdonline.maps.arcgis.com/sharing/rest/oauth2/authorize?response_type=code&client_id=Elm5V3upnnV17Q3r&redirect_uri=urn%3Aietf%3Awg%3Aoauth%3A2.0%3Aoob&state=XDV7uWVgeLfqs5jC5ayPBabOJ25gai&allow_verification=false\n",
      "Enter code obtained on signing in using SAML: ········\n"
     ]
    },
    {
     "name": "stderr",
     "output_type": "stream",
     "text": [
      "/Users/amolkale/Documents/DSE/DSE260-Capstone-Project/capstone/venv3.9/lib/python3.9/site-packages/urllib3/connectionpool.py:1045: InsecureRequestWarning: Unverified HTTPS request is being made to host 'ucsdonline.maps.arcgis.com'. Adding certificate verification is strongly advised. See: https://urllib3.readthedocs.io/en/1.26.x/advanced-usage.html#ssl-warnings\n",
      "  warnings.warn(\n"
     ]
    }
   ],
   "source": [
    "app_id = get_config(\"arcgis\",\"clientid\")\n",
    "gis = GIS(\"https://ucsdonline.maps.arcgis.com/home\", client_id=app_id)"
   ]
  },
  {
   "cell_type": "code",
   "execution_count": 4,
   "id": "090a45d9-6832-4e88-b5b9-0ccc3082b3bd",
   "metadata": {},
   "outputs": [],
   "source": [
    "usa = Country(\"usa\", gis=gis)"
   ]
  },
  {
   "cell_type": "code",
   "execution_count": 38,
   "id": "19f4e066-390a-4ea4-a470-290bb49d6c43",
   "metadata": {},
   "outputs": [
    {
     "name": "stdout",
     "output_type": "stream",
     "text": [
      "Total Enrichment Variables: 19015\n",
      "Unique Data Collection: 115\n",
      "Sample Data: \n"
     ]
    },
    {
     "data": {
      "text/html": [
       "<div>\n",
       "<style scoped>\n",
       "    .dataframe tbody tr th:only-of-type {\n",
       "        vertical-align: middle;\n",
       "    }\n",
       "\n",
       "    .dataframe tbody tr th {\n",
       "        vertical-align: top;\n",
       "    }\n",
       "\n",
       "    .dataframe thead th {\n",
       "        text-align: right;\n",
       "    }\n",
       "</style>\n",
       "<table border=\"1\" class=\"dataframe\">\n",
       "  <thead>\n",
       "    <tr style=\"text-align: right;\">\n",
       "      <th></th>\n",
       "      <th>name</th>\n",
       "      <th>alias</th>\n",
       "      <th>data_collection</th>\n",
       "      <th>enrich_name</th>\n",
       "      <th>enrich_field_name</th>\n",
       "      <th>description</th>\n",
       "      <th>vintage</th>\n",
       "      <th>units</th>\n",
       "    </tr>\n",
       "  </thead>\n",
       "  <tbody>\n",
       "    <tr>\n",
       "      <th>0</th>\n",
       "      <td>AGE0_CY</td>\n",
       "      <td>2022 Population Age &lt;1</td>\n",
       "      <td>1yearincrements</td>\n",
       "      <td>1yearincrements.AGE0_CY</td>\n",
       "      <td>F1yearincrements_AGE0_CY</td>\n",
       "      <td>2022 Total Population Age &lt;1 (Esri)</td>\n",
       "      <td>2022</td>\n",
       "      <td>count</td>\n",
       "    </tr>\n",
       "    <tr>\n",
       "      <th>1</th>\n",
       "      <td>AGE1_CY</td>\n",
       "      <td>2022 Population Age 1</td>\n",
       "      <td>1yearincrements</td>\n",
       "      <td>1yearincrements.AGE1_CY</td>\n",
       "      <td>F1yearincrements_AGE1_CY</td>\n",
       "      <td>2022 Total Population Age 1 (Esri)</td>\n",
       "      <td>2022</td>\n",
       "      <td>count</td>\n",
       "    </tr>\n",
       "    <tr>\n",
       "      <th>2</th>\n",
       "      <td>AGE2_CY</td>\n",
       "      <td>2022 Population Age 2</td>\n",
       "      <td>1yearincrements</td>\n",
       "      <td>1yearincrements.AGE2_CY</td>\n",
       "      <td>F1yearincrements_AGE2_CY</td>\n",
       "      <td>2022 Total Population Age 2 (Esri)</td>\n",
       "      <td>2022</td>\n",
       "      <td>count</td>\n",
       "    </tr>\n",
       "  </tbody>\n",
       "</table>\n",
       "</div>"
      ],
      "text/plain": [
       "      name                   alias  data_collection              enrich_name  \\\n",
       "0  AGE0_CY  2022 Population Age <1  1yearincrements  1yearincrements.AGE0_CY   \n",
       "1  AGE1_CY   2022 Population Age 1  1yearincrements  1yearincrements.AGE1_CY   \n",
       "2  AGE2_CY   2022 Population Age 2  1yearincrements  1yearincrements.AGE2_CY   \n",
       "\n",
       "          enrich_field_name                          description vintage  \\\n",
       "0  F1yearincrements_AGE0_CY  2022 Total Population Age <1 (Esri)    2022   \n",
       "1  F1yearincrements_AGE1_CY   2022 Total Population Age 1 (Esri)    2022   \n",
       "2  F1yearincrements_AGE2_CY   2022 Total Population Age 2 (Esri)    2022   \n",
       "\n",
       "   units  \n",
       "0  count  \n",
       "1  count  \n",
       "2  count  "
      ]
     },
     "metadata": {},
     "output_type": "display_data"
    }
   ],
   "source": [
    "enrich_variables = usa.enrich_variables\n",
    "print(f\"Total Enrichment Variables: {len(enrich_variables)}\")\n",
    "print(f\"Unique Data Collection: {enrich_variables['data_collection'].unique().size}\")\n",
    "print(f\"Sample Data: \")\n",
    "display(enrich_variables.head(3))"
   ]
  },
  {
   "cell_type": "code",
   "execution_count": 6,
   "id": "9c8904d2-f207-44e9-9feb-4658587107c6",
   "metadata": {},
   "outputs": [],
   "source": [
    "test_variable = 'X1010_A'"
   ]
  },
  {
   "cell_type": "code",
   "execution_count": 7,
   "id": "151e5944-c641-4aa0-b2d9-3d4255cf3f17",
   "metadata": {},
   "outputs": [
    {
     "data": {
      "text/html": [
       "<div>\n",
       "<style scoped>\n",
       "    .dataframe tbody tr th:only-of-type {\n",
       "        vertical-align: middle;\n",
       "    }\n",
       "\n",
       "    .dataframe tbody tr th {\n",
       "        vertical-align: top;\n",
       "    }\n",
       "\n",
       "    .dataframe thead th {\n",
       "        text-align: right;\n",
       "    }\n",
       "</style>\n",
       "<table border=\"1\" class=\"dataframe\">\n",
       "  <thead>\n",
       "    <tr style=\"text-align: right;\">\n",
       "      <th></th>\n",
       "      <th>name</th>\n",
       "      <th>alias</th>\n",
       "      <th>data_collection</th>\n",
       "      <th>enrich_name</th>\n",
       "      <th>enrich_field_name</th>\n",
       "      <th>description</th>\n",
       "      <th>vintage</th>\n",
       "      <th>units</th>\n",
       "    </tr>\n",
       "  </thead>\n",
       "  <tbody>\n",
       "    <tr>\n",
       "      <th>6092</th>\n",
       "      <td>X1010_A</td>\n",
       "      <td>2022 Avg: Bread</td>\n",
       "      <td>food</td>\n",
       "      <td>food.X1010_A</td>\n",
       "      <td>food_X1010_A</td>\n",
       "      <td>2022 Bread: Average</td>\n",
       "      <td>2022</td>\n",
       "      <td>currency</td>\n",
       "    </tr>\n",
       "  </tbody>\n",
       "</table>\n",
       "</div>"
      ],
      "text/plain": [
       "         name            alias data_collection   enrich_name  \\\n",
       "6092  X1010_A  2022 Avg: Bread            food  food.X1010_A   \n",
       "\n",
       "     enrich_field_name          description vintage     units  \n",
       "6092      food_X1010_A  2022 Bread: Average    2022  currency  "
      ]
     },
     "execution_count": 7,
     "metadata": {},
     "output_type": "execute_result"
    }
   ],
   "source": [
    "df_snippet = enrich_variables[enrich_variables['name'].str.contains(test_variable)]\n",
    "df_snippet"
   ]
  },
  {
   "cell_type": "code",
   "execution_count": 8,
   "id": "c0c9dace-c7a3-46b4-93b2-3bb6be7026aa",
   "metadata": {},
   "outputs": [
    {
     "data": {
      "text/plain": [
       "6092    2022 Bread: Average\n",
       "Name: description, dtype: object"
      ]
     },
     "execution_count": 8,
     "metadata": {},
     "output_type": "execute_result"
    }
   ],
   "source": [
    "df_snippet['description']"
   ]
  },
  {
   "cell_type": "code",
   "execution_count": 9,
   "id": "677d5e7b-8ddc-4f72-9bde-37b1030d8c87",
   "metadata": {},
   "outputs": [],
   "source": [
    "pd.set_option('display.max_colwidth', None)"
   ]
  },
  {
   "cell_type": "markdown",
   "id": "b7eb50f5-b106-42e6-9162-57f693ce806d",
   "metadata": {},
   "source": [
    "Saving the food consumer spending variables for our reference"
   ]
  },
  {
   "cell_type": "code",
   "execution_count": 10,
   "id": "50e92526-e09f-4f7f-aa30-0d19d8fd0044",
   "metadata": {},
   "outputs": [
    {
     "name": "stdout",
     "output_type": "stream",
     "text": [
      "Shape of food_consumer_spending_vars: (1014, 8)\n"
     ]
    },
    {
     "data": {
      "text/html": [
       "<div>\n",
       "<style scoped>\n",
       "    .dataframe tbody tr th:only-of-type {\n",
       "        vertical-align: middle;\n",
       "    }\n",
       "\n",
       "    .dataframe tbody tr th {\n",
       "        vertical-align: top;\n",
       "    }\n",
       "\n",
       "    .dataframe thead th {\n",
       "        text-align: right;\n",
       "    }\n",
       "</style>\n",
       "<table border=\"1\" class=\"dataframe\">\n",
       "  <thead>\n",
       "    <tr style=\"text-align: right;\">\n",
       "      <th></th>\n",
       "      <th>name</th>\n",
       "      <th>alias</th>\n",
       "      <th>data_collection</th>\n",
       "      <th>enrich_name</th>\n",
       "      <th>enrich_field_name</th>\n",
       "      <th>description</th>\n",
       "      <th>vintage</th>\n",
       "      <th>units</th>\n",
       "    </tr>\n",
       "  </thead>\n",
       "  <tbody>\n",
       "    <tr>\n",
       "      <th>5953</th>\n",
       "      <td>X2001_X</td>\n",
       "      <td>2022 Alcoholic Bevs</td>\n",
       "      <td>food</td>\n",
       "      <td>food.X2001_X</td>\n",
       "      <td>food_X2001_X</td>\n",
       "      <td>2022 Alcoholic Beverages</td>\n",
       "      <td>2022</td>\n",
       "      <td>currency</td>\n",
       "    </tr>\n",
       "    <tr>\n",
       "      <th>5954</th>\n",
       "      <td>X2001_A</td>\n",
       "      <td>2022 Avg: Alcoholic Bevs</td>\n",
       "      <td>food</td>\n",
       "      <td>food.X2001_A</td>\n",
       "      <td>food_X2001_A</td>\n",
       "      <td>2022 Alcoholic Beverages: Average</td>\n",
       "      <td>2022</td>\n",
       "      <td>currency</td>\n",
       "    </tr>\n",
       "    <tr>\n",
       "      <th>5955</th>\n",
       "      <td>X2001_I</td>\n",
       "      <td>2022 Index: Alcoholic Bevs</td>\n",
       "      <td>food</td>\n",
       "      <td>food.X2001_I</td>\n",
       "      <td>food_X2001_I</td>\n",
       "      <td>2022 Alcoholic Beverages: Index</td>\n",
       "      <td>2022</td>\n",
       "      <td>count</td>\n",
       "    </tr>\n",
       "    <tr>\n",
       "      <th>5956</th>\n",
       "      <td>X2002_X</td>\n",
       "      <td>2022 Alcoholic Bevs at Home</td>\n",
       "      <td>food</td>\n",
       "      <td>food.X2002_X</td>\n",
       "      <td>food_X2002_X</td>\n",
       "      <td>2022 Alcoholic Beverages at Home</td>\n",
       "      <td>2022</td>\n",
       "      <td>currency</td>\n",
       "    </tr>\n",
       "  </tbody>\n",
       "</table>\n",
       "</div>"
      ],
      "text/plain": [
       "         name                        alias data_collection   enrich_name  \\\n",
       "5953  X2001_X          2022 Alcoholic Bevs            food  food.X2001_X   \n",
       "5954  X2001_A     2022 Avg: Alcoholic Bevs            food  food.X2001_A   \n",
       "5955  X2001_I   2022 Index: Alcoholic Bevs            food  food.X2001_I   \n",
       "5956  X2002_X  2022 Alcoholic Bevs at Home            food  food.X2002_X   \n",
       "\n",
       "     enrich_field_name                        description vintage     units  \n",
       "5953      food_X2001_X           2022 Alcoholic Beverages    2022  currency  \n",
       "5954      food_X2001_A  2022 Alcoholic Beverages: Average    2022  currency  \n",
       "5955      food_X2001_I    2022 Alcoholic Beverages: Index    2022     count  \n",
       "5956      food_X2002_X   2022 Alcoholic Beverages at Home    2022  currency  "
      ]
     },
     "execution_count": 10,
     "metadata": {},
     "output_type": "execute_result"
    }
   ],
   "source": [
    "food_consumer_spending_vars = enrich_variables[enrich_variables['data_collection']=='food']\n",
    "print(f\"Shape of food_consumer_spending_vars: {food_consumer_spending_vars.shape}\")\n",
    "food_consumer_spending_vars.head(4)"
   ]
  },
  {
   "cell_type": "code",
   "execution_count": null,
   "id": "59361330-ee01-4483-aaa7-ccd8312fae4a",
   "metadata": {},
   "outputs": [],
   "source": [
    "#food_consumer_spending_vars.to_csv('../resources/food_consumer_spending_vars.csv',index=False)"
   ]
  },
  {
   "cell_type": "markdown",
   "id": "1acc91e5",
   "metadata": {},
   "source": [
    "## Need to check if we have few descriptions provided for Opportunity Level"
   ]
  },
  {
   "cell_type": "code",
   "execution_count": 35,
   "id": "fed6690d",
   "metadata": {},
   "outputs": [
    {
     "name": "stdout",
     "output_type": "stream",
     "text": [
      "<class 'pandas.core.frame.DataFrame'>\n",
      "RangeIndex: 19015 entries, 0 to 19014\n",
      "Data columns (total 8 columns):\n",
      " #   Column             Non-Null Count  Dtype \n",
      "---  ------             --------------  ----- \n",
      " 0   name               19015 non-null  object\n",
      " 1   alias              19015 non-null  object\n",
      " 2   data_collection    19015 non-null  object\n",
      " 3   enrich_name        19015 non-null  object\n",
      " 4   enrich_field_name  19015 non-null  object\n",
      " 5   description        18932 non-null  object\n",
      " 6   vintage            18969 non-null  object\n",
      " 7   units              19015 non-null  object\n",
      "dtypes: object(8)\n",
      "memory usage: 1.2+ MB\n"
     ]
    }
   ],
   "source": []
  },
  {
   "cell_type": "code",
   "execution_count": 58,
   "id": "44d1ea64",
   "metadata": {},
   "outputs": [
    {
     "data": {
      "text/html": [
       "<div>\n",
       "<style scoped>\n",
       "    .dataframe tbody tr th:only-of-type {\n",
       "        vertical-align: middle;\n",
       "    }\n",
       "\n",
       "    .dataframe tbody tr th {\n",
       "        vertical-align: top;\n",
       "    }\n",
       "\n",
       "    .dataframe thead th {\n",
       "        text-align: right;\n",
       "    }\n",
       "</style>\n",
       "<table border=\"1\" class=\"dataframe\">\n",
       "  <thead>\n",
       "    <tr style=\"text-align: right;\">\n",
       "      <th></th>\n",
       "      <th>name</th>\n",
       "      <th>alias</th>\n",
       "      <th>data_collection</th>\n",
       "      <th>enrich_name</th>\n",
       "      <th>enrich_field_name</th>\n",
       "      <th>description</th>\n",
       "      <th>vintage</th>\n",
       "      <th>units</th>\n",
       "    </tr>\n",
       "  </thead>\n",
       "  <tbody>\n",
       "  </tbody>\n",
       "</table>\n",
       "</div>"
      ],
      "text/plain": [
       "Empty DataFrame\n",
       "Columns: [name, alias, data_collection, enrich_name, enrich_field_name, description, vintage, units]\n",
       "Index: []"
      ]
     },
     "execution_count": 58,
     "metadata": {},
     "output_type": "execute_result"
    }
   ],
   "source": [
    "enrich_variables[enrich_variables['description'].str.contains('Unemployment rate', na=False)]"
   ]
  },
  {
   "cell_type": "code",
   "execution_count": 68,
   "id": "5e11af7f",
   "metadata": {},
   "outputs": [
    {
     "data": {
      "text/html": [
       "<div>\n",
       "<style scoped>\n",
       "    .dataframe tbody tr th:only-of-type {\n",
       "        vertical-align: middle;\n",
       "    }\n",
       "\n",
       "    .dataframe tbody tr th {\n",
       "        vertical-align: top;\n",
       "    }\n",
       "\n",
       "    .dataframe thead th {\n",
       "        text-align: right;\n",
       "    }\n",
       "</style>\n",
       "<table border=\"1\" class=\"dataframe\">\n",
       "  <thead>\n",
       "    <tr style=\"text-align: right;\">\n",
       "      <th></th>\n",
       "      <th>name</th>\n",
       "      <th>alias</th>\n",
       "      <th>data_collection</th>\n",
       "      <th>enrich_name</th>\n",
       "      <th>enrich_field_name</th>\n",
       "      <th>description</th>\n",
       "      <th>vintage</th>\n",
       "      <th>units</th>\n",
       "    </tr>\n",
       "  </thead>\n",
       "  <tbody>\n",
       "  </tbody>\n",
       "</table>\n",
       "</div>"
      ],
      "text/plain": [
       "Empty DataFrame\n",
       "Columns: [name, alias, data_collection, enrich_name, enrich_field_name, description, vintage, units]\n",
       "Index: []"
      ]
     },
     "execution_count": 68,
     "metadata": {},
     "output_type": "execute_result"
    }
   ],
   "source": [
    "enrich_variables[enrich_variables['name'].str.contains('unemprt_cy', na=False)]"
   ]
  },
  {
   "cell_type": "code",
   "execution_count": 69,
   "id": "e9fcc659",
   "metadata": {},
   "outputs": [
    {
     "data": {
      "text/html": [
       "<div>\n",
       "<style scoped>\n",
       "    .dataframe tbody tr th:only-of-type {\n",
       "        vertical-align: middle;\n",
       "    }\n",
       "\n",
       "    .dataframe tbody tr th {\n",
       "        vertical-align: top;\n",
       "    }\n",
       "\n",
       "    .dataframe thead th {\n",
       "        text-align: right;\n",
       "    }\n",
       "</style>\n",
       "<table border=\"1\" class=\"dataframe\">\n",
       "  <thead>\n",
       "    <tr style=\"text-align: right;\">\n",
       "      <th></th>\n",
       "      <th>name</th>\n",
       "      <th>alias</th>\n",
       "      <th>data_collection</th>\n",
       "      <th>enrich_name</th>\n",
       "      <th>enrich_field_name</th>\n",
       "      <th>description</th>\n",
       "      <th>vintage</th>\n",
       "      <th>units</th>\n",
       "    </tr>\n",
       "  </thead>\n",
       "  <tbody>\n",
       "  </tbody>\n",
       "</table>\n",
       "</div>"
      ],
      "text/plain": [
       "Empty DataFrame\n",
       "Columns: [name, alias, data_collection, enrich_name, enrich_field_name, description, vintage, units]\n",
       "Index: []"
      ]
     },
     "execution_count": 69,
     "metadata": {},
     "output_type": "execute_result"
    }
   ],
   "source": [
    "enrich_variables[enrich_variables['name'].str.contains('s12_sales', na=False)]"
   ]
  },
  {
   "cell_type": "code",
   "execution_count": 75,
   "id": "674de80c",
   "metadata": {},
   "outputs": [
    {
     "data": {
      "text/html": [
       "<div>\n",
       "<style scoped>\n",
       "    .dataframe tbody tr th:only-of-type {\n",
       "        vertical-align: middle;\n",
       "    }\n",
       "\n",
       "    .dataframe tbody tr th {\n",
       "        vertical-align: top;\n",
       "    }\n",
       "\n",
       "    .dataframe thead th {\n",
       "        text-align: right;\n",
       "    }\n",
       "</style>\n",
       "<table border=\"1\" class=\"dataframe\">\n",
       "  <thead>\n",
       "    <tr style=\"text-align: right;\">\n",
       "      <th></th>\n",
       "      <th>name</th>\n",
       "      <th>alias</th>\n",
       "      <th>data_collection</th>\n",
       "      <th>enrich_name</th>\n",
       "      <th>enrich_field_name</th>\n",
       "      <th>description</th>\n",
       "      <th>vintage</th>\n",
       "      <th>units</th>\n",
       "    </tr>\n",
       "  </thead>\n",
       "  <tbody>\n",
       "    <tr>\n",
       "      <th>12471</th>\n",
       "      <td>S12_SALES</td>\n",
       "      <td>2022 Food Stores - Sales ($000) (SIC)</td>\n",
       "      <td>industrybysiccode</td>\n",
       "      <td>industrybysiccode.S12_SALES</td>\n",
       "      <td>industrybysiccode_S12_SALES</td>\n",
       "      <td>2022 Food Stores (SIC54) Sales ($000)</td>\n",
       "      <td>2022</td>\n",
       "      <td>currency</td>\n",
       "    </tr>\n",
       "    <tr>\n",
       "      <th>16979</th>\n",
       "      <td>S12_SALES</td>\n",
       "      <td>2022 Food Stores - Sales ($000) (SIC)</td>\n",
       "      <td>sales</td>\n",
       "      <td>sales.S12_SALES</td>\n",
       "      <td>sales_S12_SALES</td>\n",
       "      <td>2022 Food Stores (SIC54) Sales ($000)</td>\n",
       "      <td>2022</td>\n",
       "      <td>currency</td>\n",
       "    </tr>\n",
       "  </tbody>\n",
       "</table>\n",
       "</div>"
      ],
      "text/plain": [
       "            name                                  alias    data_collection  \\\n",
       "12471  S12_SALES  2022 Food Stores - Sales ($000) (SIC)  industrybysiccode   \n",
       "16979  S12_SALES  2022 Food Stores - Sales ($000) (SIC)              sales   \n",
       "\n",
       "                       enrich_name            enrich_field_name  \\\n",
       "12471  industrybysiccode.S12_SALES  industrybysiccode_S12_SALES   \n",
       "16979              sales.S12_SALES              sales_S12_SALES   \n",
       "\n",
       "                                 description vintage     units  \n",
       "12471  2022 Food Stores (SIC54) Sales ($000)    2022  currency  \n",
       "16979  2022 Food Stores (SIC54) Sales ($000)    2022  currency  "
      ]
     },
     "execution_count": 75,
     "metadata": {},
     "output_type": "execute_result"
    }
   ],
   "source": [
    "enrich_variables[enrich_variables['name'] == 'S12_SALES']"
   ]
  },
  {
   "cell_type": "code",
   "execution_count": null,
   "id": "244784e2",
   "metadata": {},
   "outputs": [],
   "source": []
  }
 ],
 "metadata": {
  "kernelspec": {
   "display_name": "Python 3 (ipykernel)",
   "language": "python",
   "name": "python3"
  },
  "language_info": {
   "codemirror_mode": {
    "name": "ipython",
    "version": 3
   },
   "file_extension": ".py",
   "mimetype": "text/x-python",
   "name": "python",
   "nbconvert_exporter": "python",
   "pygments_lexer": "ipython3",
   "version": "3.9.16"
  }
 },
 "nbformat": 4,
 "nbformat_minor": 5
}
