{
 "cells": [
  {
   "cell_type": "markdown",
   "id": "e075588d",
   "metadata": {},
   "source": [
    "### Objective\n",
    "Create San Diego Block group boundaries along with opportunity and competition score."
   ]
  },
  {
   "cell_type": "code",
   "execution_count": 1,
   "id": "197caadb",
   "metadata": {},
   "outputs": [],
   "source": [
    "import arcgis\n",
    "from arcgis.gis import GIS\n",
    "from arcgis.features import FeatureLayer, FeatureLayerCollection, GeoAccessor\n",
    "\n",
    "import sys\n",
    "sys.path.append('../')\n",
    "sys.path.append('../../')\n",
    "from utils import get_config, format_json\n",
    "from feature_layer_utils import get_enrichment_variables, create_feature_layer\n",
    "\n",
    "import pandas as pd\n",
    "\n",
    "from arcgis.geometry  import Geometry\n",
    "\n",
    "import json\n",
    "\n",
    "from itertools import chain"
   ]
  },
  {
   "cell_type": "code",
   "execution_count": 2,
   "id": "d1ddd186",
   "metadata": {},
   "outputs": [],
   "source": [
    "username = get_config(\"arcgis\",\"username\")\n",
    "password = get_config(\"arcgis\",\"passkey\")\n",
    "gis = GIS(\"https://ucsdonline.maps.arcgis.com/home\", username=username, password=password)"
   ]
  },
  {
   "cell_type": "markdown",
   "id": "0e955cd2",
   "metadata": {},
   "source": [
    "##### Reading the score file created for block groups and opportuity/competition score."
   ]
  },
  {
   "cell_type": "code",
   "execution_count": 4,
   "id": "b932ca83",
   "metadata": {},
   "outputs": [
    {
     "name": "stdout",
     "output_type": "stream",
     "text": [
      "Shape: (2057, 2)\n"
     ]
    },
    {
     "data": {
      "text/html": [
       "<div>\n",
       "<style scoped>\n",
       "    .dataframe tbody tr th:only-of-type {\n",
       "        vertical-align: middle;\n",
       "    }\n",
       "\n",
       "    .dataframe tbody tr th {\n",
       "        vertical-align: top;\n",
       "    }\n",
       "\n",
       "    .dataframe thead th {\n",
       "        text-align: right;\n",
       "    }\n",
       "</style>\n",
       "<table border=\"1\" class=\"dataframe\">\n",
       "  <thead>\n",
       "    <tr style=\"text-align: right;\">\n",
       "      <th></th>\n",
       "      <th>fips</th>\n",
       "      <th>Opportunity_Competition_Score_Scaled</th>\n",
       "    </tr>\n",
       "  </thead>\n",
       "  <tbody>\n",
       "    <tr>\n",
       "      <th>0</th>\n",
       "      <td>060730100101</td>\n",
       "      <td>0.7058869122579962</td>\n",
       "    </tr>\n",
       "    <tr>\n",
       "      <th>1</th>\n",
       "      <td>060730100102</td>\n",
       "      <td>0.4500799730642858</td>\n",
       "    </tr>\n",
       "    <tr>\n",
       "      <th>2</th>\n",
       "      <td>060730100103</td>\n",
       "      <td>0.6938168920778944</td>\n",
       "    </tr>\n",
       "  </tbody>\n",
       "</table>\n",
       "</div>"
      ],
      "text/plain": [
       "           fips Opportunity_Competition_Score_Scaled\n",
       "0  060730100101                   0.7058869122579962\n",
       "1  060730100102                   0.4500799730642858\n",
       "2  060730100103                   0.6938168920778944"
      ]
     },
     "execution_count": 4,
     "metadata": {},
     "output_type": "execute_result"
    }
   ],
   "source": [
    "score_df = pd.read_csv(\"../resources/block_grp_fips_opportunity_competition_score.csv\", dtype=str)\n",
    "print(f\"Shape: {score_df.shape}\")\n",
    "score_df.head(3)"
   ]
  },
  {
   "cell_type": "markdown",
   "id": "f8484241",
   "metadata": {},
   "source": [
    "##### Reading in san diego county block group boundaries feature layer for those geometries"
   ]
  },
  {
   "cell_type": "code",
   "execution_count": 5,
   "id": "81d9b457",
   "metadata": {},
   "outputs": [],
   "source": [
    "sd_block_group_lyr = FeatureLayer(url=\"https://services1.arcgis.com/eGSDp8lpKe5izqVc/arcgis/rest/services/a38898/FeatureServer/0\")"
   ]
  },
  {
   "cell_type": "code",
   "execution_count": 6,
   "id": "d8184d7f",
   "metadata": {},
   "outputs": [
    {
     "name": "stdout",
     "output_type": "stream",
     "text": [
      "Shape: (2057, 2)\n"
     ]
    },
    {
     "data": {
      "text/html": [
       "<div>\n",
       "<style scoped>\n",
       "    .dataframe tbody tr th:only-of-type {\n",
       "        vertical-align: middle;\n",
       "    }\n",
       "\n",
       "    .dataframe tbody tr th {\n",
       "        vertical-align: top;\n",
       "    }\n",
       "\n",
       "    .dataframe thead th {\n",
       "        text-align: right;\n",
       "    }\n",
       "</style>\n",
       "<table border=\"1\" class=\"dataframe\">\n",
       "  <thead>\n",
       "    <tr style=\"text-align: right;\">\n",
       "      <th></th>\n",
       "      <th>SHAPE</th>\n",
       "      <th>fips</th>\n",
       "    </tr>\n",
       "  </thead>\n",
       "  <tbody>\n",
       "    <tr>\n",
       "      <th>0</th>\n",
       "      <td>{\"rings\": [[[-13045413.2286, 3863333.31369999]...</td>\n",
       "      <td>060730001001</td>\n",
       "    </tr>\n",
       "    <tr>\n",
       "      <th>1</th>\n",
       "      <td>{\"rings\": [[[-13045214.9685, 3863075.4548], [-...</td>\n",
       "      <td>060730001002</td>\n",
       "    </tr>\n",
       "    <tr>\n",
       "      <th>2</th>\n",
       "      <td>{\"rings\": [[[-13043127.839, 3863072.5428], [-1...</td>\n",
       "      <td>060730002011</td>\n",
       "    </tr>\n",
       "  </tbody>\n",
       "</table>\n",
       "</div>"
      ],
      "text/plain": [
       "                                               SHAPE          fips\n",
       "0  {\"rings\": [[[-13045413.2286, 3863333.31369999]...  060730001001\n",
       "1  {\"rings\": [[[-13045214.9685, 3863075.4548], [-...  060730001002\n",
       "2  {\"rings\": [[[-13043127.839, 3863072.5428], [-1...  060730002011"
      ]
     },
     "execution_count": 6,
     "metadata": {},
     "output_type": "execute_result"
    }
   ],
   "source": [
    "sd_block_group_df = sd_block_group_lyr.query(as_df=True, return_geometry=True)\n",
    "sd_block_group_df.drop(columns=['FID','Shape__Area','Shape__Length','blockgroup','county_fip','state_abbr','state_fips','tract_fips']\n",
    "                      , inplace=True)\n",
    "print(f\"Shape: {sd_block_group_df.shape}\")\n",
    "sd_block_group_df.head(3)\n"
   ]
  },
  {
   "cell_type": "code",
   "execution_count": 7,
   "id": "84522bef",
   "metadata": {},
   "outputs": [
    {
     "data": {
      "text/html": [
       "<div>\n",
       "<style scoped>\n",
       "    .dataframe tbody tr th:only-of-type {\n",
       "        vertical-align: middle;\n",
       "    }\n",
       "\n",
       "    .dataframe tbody tr th {\n",
       "        vertical-align: top;\n",
       "    }\n",
       "\n",
       "    .dataframe thead th {\n",
       "        text-align: right;\n",
       "    }\n",
       "</style>\n",
       "<table border=\"1\" class=\"dataframe\">\n",
       "  <thead>\n",
       "    <tr style=\"text-align: right;\">\n",
       "      <th></th>\n",
       "      <th>SHAPE</th>\n",
       "      <th>fips</th>\n",
       "      <th>oc_score</th>\n",
       "    </tr>\n",
       "  </thead>\n",
       "  <tbody>\n",
       "    <tr>\n",
       "      <th>0</th>\n",
       "      <td>{'rings': [[[-13045413.2286, 3863333.31369999]...</td>\n",
       "      <td>060730001001</td>\n",
       "      <td>0.398806</td>\n",
       "    </tr>\n",
       "    <tr>\n",
       "      <th>1</th>\n",
       "      <td>{'rings': [[[-13045214.9685, 3863075.4548], [-...</td>\n",
       "      <td>060730001002</td>\n",
       "      <td>0.332207</td>\n",
       "    </tr>\n",
       "    <tr>\n",
       "      <th>2</th>\n",
       "      <td>{'rings': [[[-13043127.839, 3863072.5428], [-1...</td>\n",
       "      <td>060730002011</td>\n",
       "      <td>0.289465</td>\n",
       "    </tr>\n",
       "    <tr>\n",
       "      <th>3</th>\n",
       "      <td>{'rings': [[[-13043560.4266, 3862026.86880002]...</td>\n",
       "      <td>060730002021</td>\n",
       "      <td>0.384101</td>\n",
       "    </tr>\n",
       "    <tr>\n",
       "      <th>4</th>\n",
       "      <td>{'rings': [[[-13044064.8153, 3862217.59810002]...</td>\n",
       "      <td>060730002022</td>\n",
       "      <td>0.411878</td>\n",
       "    </tr>\n",
       "    <tr>\n",
       "      <th>...</th>\n",
       "      <td>...</td>\n",
       "      <td>...</td>\n",
       "      <td>...</td>\n",
       "    </tr>\n",
       "    <tr>\n",
       "      <th>2052</th>\n",
       "      <td>{'rings': [[[-13054989.7152, 3913804.0585], [-...</td>\n",
       "      <td>060730221012</td>\n",
       "      <td>0.267620</td>\n",
       "    </tr>\n",
       "    <tr>\n",
       "      <th>2053</th>\n",
       "      <td>{'rings': [[[-13055545.9784, 3908498.1588], [-...</td>\n",
       "      <td>060730221021</td>\n",
       "      <td>0.427506</td>\n",
       "    </tr>\n",
       "    <tr>\n",
       "      <th>2054</th>\n",
       "      <td>{'rings': [[[-13054612.6758, 3910254.47430001]...</td>\n",
       "      <td>060730221022</td>\n",
       "      <td>0.319779</td>\n",
       "    </tr>\n",
       "    <tr>\n",
       "      <th>2055</th>\n",
       "      <td>{'rings': [[[-13056063.9482, 3910470.4437], [-...</td>\n",
       "      <td>060730221023</td>\n",
       "      <td>0.427729</td>\n",
       "    </tr>\n",
       "    <tr>\n",
       "      <th>2056</th>\n",
       "      <td>{'rings': [[[-13054134.3359, 3911221.91610001]...</td>\n",
       "      <td>060730221024</td>\n",
       "      <td>0.384226</td>\n",
       "    </tr>\n",
       "  </tbody>\n",
       "</table>\n",
       "<p>2057 rows × 3 columns</p>\n",
       "</div>"
      ],
      "text/plain": [
       "                                                  SHAPE          fips  \\\n",
       "0     {'rings': [[[-13045413.2286, 3863333.31369999]...  060730001001   \n",
       "1     {'rings': [[[-13045214.9685, 3863075.4548], [-...  060730001002   \n",
       "2     {'rings': [[[-13043127.839, 3863072.5428], [-1...  060730002011   \n",
       "3     {'rings': [[[-13043560.4266, 3862026.86880002]...  060730002021   \n",
       "4     {'rings': [[[-13044064.8153, 3862217.59810002]...  060730002022   \n",
       "...                                                 ...           ...   \n",
       "2052  {'rings': [[[-13054989.7152, 3913804.0585], [-...  060730221012   \n",
       "2053  {'rings': [[[-13055545.9784, 3908498.1588], [-...  060730221021   \n",
       "2054  {'rings': [[[-13054612.6758, 3910254.47430001]...  060730221022   \n",
       "2055  {'rings': [[[-13056063.9482, 3910470.4437], [-...  060730221023   \n",
       "2056  {'rings': [[[-13054134.3359, 3911221.91610001]...  060730221024   \n",
       "\n",
       "      oc_score  \n",
       "0     0.398806  \n",
       "1     0.332207  \n",
       "2     0.289465  \n",
       "3     0.384101  \n",
       "4     0.411878  \n",
       "...        ...  \n",
       "2052  0.267620  \n",
       "2053  0.427506  \n",
       "2054  0.319779  \n",
       "2055  0.427729  \n",
       "2056  0.384226  \n",
       "\n",
       "[2057 rows x 3 columns]"
      ]
     },
     "execution_count": 7,
     "metadata": {},
     "output_type": "execute_result"
    }
   ],
   "source": [
    "merged_df = sd_block_group_df.merge(score_df, on='fips',how='left')\n",
    "merged_df['Opportunity_Competition_Score_Scaled'] =  merged_df['Opportunity_Competition_Score_Scaled'].fillna('0')\n",
    "merged_df.rename(columns={'Opportunity_Competition_Score_Scaled':'oc_score'}, inplace=True)\n",
    "merged_df['oc_score'] = merged_df['oc_score'].astype(float)\n",
    "merged_df"
   ]
  },
  {
   "cell_type": "code",
   "execution_count": 8,
   "id": "9c106503",
   "metadata": {},
   "outputs": [
    {
     "name": "stdout",
     "output_type": "stream",
     "text": [
      "<class 'pandas.core.frame.DataFrame'>\n",
      "Int64Index: 2057 entries, 0 to 2056\n",
      "Data columns (total 3 columns):\n",
      " #   Column    Non-Null Count  Dtype  \n",
      "---  ------    --------------  -----  \n",
      " 0   SHAPE     2057 non-null   object \n",
      " 1   fips      2057 non-null   object \n",
      " 2   oc_score  2057 non-null   float64\n",
      "dtypes: float64(1), object(2)\n",
      "memory usage: 64.3+ KB\n"
     ]
    }
   ],
   "source": [
    "merged_df.info()"
   ]
  },
  {
   "cell_type": "markdown",
   "id": "45a0f229",
   "metadata": {},
   "source": [
    "Publish feature layer"
   ]
  },
  {
   "cell_type": "code",
   "execution_count": 9,
   "id": "1da157b0",
   "metadata": {},
   "outputs": [
    {
     "name": "stdout",
     "output_type": "stream",
     "text": [
      "CPU times: total: 1.25 s\n",
      "Wall time: 15.4 s\n"
     ]
    },
    {
     "data": {
      "text/html": [
       "<div class=\"item_container\" style=\"height: auto; overflow: hidden; border: 1px solid #cfcfcf; border-radius: 2px; background: #f6fafa; line-height: 1.21429em; padding: 10px;\">\n",
       "                    <div class=\"item_left\" style=\"width: 210px; float: left;\">\n",
       "                       <a href='https://UCSDOnline.maps.arcgis.com/home/item.html?id=4821313049ed4fcd9799779d18d03e6d' target='_blank'>\n",
       "                        <img src='http://static.arcgis.com/images/desktopapp.png' class=\"itemThumbnail\">\n",
       "                       </a>\n",
       "                    </div>\n",
       "\n",
       "                    <div class=\"item_right\"     style=\"float: none; width: auto; overflow: hidden;\">\n",
       "                        <a href='https://UCSDOnline.maps.arcgis.com/home/item.html?id=4821313049ed4fcd9799779d18d03e6d' target='_blank'><b>San Diego Block Groups Food Business opportunity and competition Score</b>\n",
       "                        </a>\n",
       "                        <br/><img src='https://UCSDOnline.maps.arcgis.com/home/js/jsapi/esri/css/images/item_type_icons/featureshosted16.png' style=\"vertical-align:middle;\">Feature Layer Collection by akale_UCSD\n",
       "                        <br/>Last Modified: May 20, 2023\n",
       "                        <br/>0 comments, 0 views\n",
       "                    </div>\n",
       "                </div>\n",
       "                "
      ],
      "text/plain": [
       "<Item title:\"San Diego Block Groups Food Business opportunity and competition Score\" type:Feature Layer Collection owner:akale_UCSD>"
      ]
     },
     "execution_count": 9,
     "metadata": {},
     "output_type": "execute_result"
    }
   ],
   "source": [
    "%%time\n",
    "my_new_featurelayer = merged_df.spatial.to_featurelayer(title='San Diego Block Groups Food Business opportunity and competition Score', \n",
    "                                                      gis=gis, \n",
    "                                                      folder='nourish_gis',\n",
    "                                                      tags=['SanDiego', 'Potential Score','Opportunity'],\n",
    "                                                     )\n",
    "my_new_featurelayer"
   ]
  },
  {
   "cell_type": "code",
   "execution_count": null,
   "id": "98ff22e1",
   "metadata": {},
   "outputs": [],
   "source": []
  }
 ],
 "metadata": {
  "kernelspec": {
   "display_name": "Python 3 (ipykernel)",
   "language": "python",
   "name": "python3"
  },
  "language_info": {
   "codemirror_mode": {
    "name": "ipython",
    "version": 3
   },
   "file_extension": ".py",
   "mimetype": "text/x-python",
   "name": "python",
   "nbconvert_exporter": "python",
   "pygments_lexer": "ipython3",
   "version": "3.9.16"
  }
 },
 "nbformat": 4,
 "nbformat_minor": 5
}
