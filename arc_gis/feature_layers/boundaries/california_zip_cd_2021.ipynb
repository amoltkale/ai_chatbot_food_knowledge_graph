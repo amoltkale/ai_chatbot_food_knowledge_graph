{
 "cells": [
  {
   "cell_type": "markdown",
   "id": "e697a221-530e-4b13-946e-ccd10b3a93ea",
   "metadata": {},
   "source": [
    "### Motivation\n",
    "* This notebook is to create a trusted California Zip code feature layer\n",
    "We will try to see if we can use the existing feature layer created from California Department of Education:  \n",
    "Feature Layer: https://services3.arcgis.com/fdvHcZVgB2QSRNkL/arcgis/rest/services/ZipCodes/FeatureServer\n",
    "\n",
    "`Description`: Five digit ZIP code areas used by the U.S. Postal Service in the state of California.\n",
    "\n",
    "\n",
    "`Feature Layer Details`: https://gis.data.ca.gov/datasets/CDEGIS::california-zip-codes/explore?location=36.882750%2C-116.753799%2C6.65"
   ]
  },
  {
   "cell_type": "code",
   "execution_count": 1,
   "id": "38fb7b3b-3d70-49d6-8527-6bf543655062",
   "metadata": {},
   "outputs": [],
   "source": [
    "from arcgis.gis import GIS\n",
    "from arcgis.features import FeatureLayerCollection, FeatureLayer\n",
    "from arcgis.geoenrichment import enrich, Country\n",
    "from feature_layer_utils import get_enrichment_variables\n",
    "import itertools\n",
    "import sys\n",
    "sys.path.append('../')\n",
    "from utils import get_config"
   ]
  },
  {
   "cell_type": "code",
   "execution_count": 2,
   "id": "846cf77a-e2e8-409c-be0c-99784f0d5b90",
   "metadata": {},
   "outputs": [
    {
     "name": "stdout",
     "output_type": "stream",
     "text": [
      "<configparser.ConfigParser object at 0x10dcf2520>\n",
      "Please sign in to your GIS and paste the code that is obtained below.\n",
      "If a web browser does not automatically open, please navigate to the URL below yourself instead.\n",
      "Opening web browser to navigate to: https://ucsdonline.maps.arcgis.com/sharing/rest/oauth2/authorize?response_type=code&client_id=Elm5V3upnnV17Q3r&redirect_uri=urn%3Aietf%3Awg%3Aoauth%3A2.0%3Aoob&state=fl8OIRQKRvex64LyiL09ylAvWSSCkS&allow_verification=false\n"
     ]
    },
    {
     "name": "stdin",
     "output_type": "stream",
     "text": [
      "Enter code obtained on signing in using SAML:  ········\n"
     ]
    },
    {
     "name": "stderr",
     "output_type": "stream",
     "text": [
      "/Users/amolkale/Documents/DSE/DSE260-Capstone-Project/capstone/venv3.9/lib/python3.9/site-packages/urllib3/connectionpool.py:1045: InsecureRequestWarning: Unverified HTTPS request is being made to host 'ucsdonline.maps.arcgis.com'. Adding certificate verification is strongly advised. See: https://urllib3.readthedocs.io/en/1.26.x/advanced-usage.html#ssl-warnings\n",
      "  warnings.warn(\n"
     ]
    }
   ],
   "source": [
    "app_id = get_config(\"arcgis\",\"clientid\")\n",
    "gis = GIS(\"https://ucsdonline.maps.arcgis.com/home\", client_id=app_id)"
   ]
  },
  {
   "cell_type": "code",
   "execution_count": 3,
   "id": "6feee856-309e-4cbd-bd92-1596be70ad30",
   "metadata": {},
   "outputs": [],
   "source": [
    "fls = \"https://services3.arcgis.com/fdvHcZVgB2QSRNkL/arcgis/rest/services/ZipCodes/FeatureServer\""
   ]
  },
  {
   "cell_type": "code",
   "execution_count": 4,
   "id": "2401b5ba-ca5a-4d24-886a-82439ee98b02",
   "metadata": {},
   "outputs": [],
   "source": [
    "flc = FeatureLayerCollection(fls)"
   ]
  },
  {
   "cell_type": "code",
   "execution_count": 5,
   "id": "f0169edd-1ae3-4716-801d-5abfc0abbc83",
   "metadata": {},
   "outputs": [],
   "source": [
    "fl_url = flc.layers[0].url"
   ]
  },
  {
   "cell_type": "code",
   "execution_count": 6,
   "id": "7018177b-ac3f-4528-87a9-f263e03cfc87",
   "metadata": {},
   "outputs": [],
   "source": [
    "ca_zip_cd_fl = FeatureLayer(fl_url)"
   ]
  },
  {
   "cell_type": "code",
   "execution_count": 7,
   "id": "a7ef1467-4a6c-4b36-b2d4-257ae2b4d351",
   "metadata": {},
   "outputs": [],
   "source": [
    "ca_zip_cd_fs = ca_zip_cd_fl.query()"
   ]
  },
  {
   "cell_type": "code",
   "execution_count": 8,
   "id": "b98383eb-d805-4a42-93c3-85dbfa255d2a",
   "metadata": {},
   "outputs": [
    {
     "name": "stdout",
     "output_type": "stream",
     "text": [
      "Shape: (1721, 10)\n"
     ]
    },
    {
     "data": {
      "text/html": [
       "<div>\n",
       "<style scoped>\n",
       "    .dataframe tbody tr th:only-of-type {\n",
       "        vertical-align: middle;\n",
       "    }\n",
       "\n",
       "    .dataframe tbody tr th {\n",
       "        vertical-align: top;\n",
       "    }\n",
       "\n",
       "    .dataframe thead th {\n",
       "        text-align: right;\n",
       "    }\n",
       "</style>\n",
       "<table border=\"1\" class=\"dataframe\">\n",
       "  <thead>\n",
       "    <tr style=\"text-align: right;\">\n",
       "      <th></th>\n",
       "      <th>OBJECTID</th>\n",
       "      <th>ZIP_CODE</th>\n",
       "      <th>PO_NAME</th>\n",
       "      <th>STATE</th>\n",
       "      <th>POPULATION</th>\n",
       "      <th>POP_SQMI</th>\n",
       "      <th>SQMI</th>\n",
       "      <th>Shape__Area</th>\n",
       "      <th>Shape__Length</th>\n",
       "      <th>SHAPE</th>\n",
       "    </tr>\n",
       "  </thead>\n",
       "  <tbody>\n",
       "    <tr>\n",
       "      <th>0</th>\n",
       "      <td>1</td>\n",
       "      <td>00012</td>\n",
       "      <td>Mt Meadows Area</td>\n",
       "      <td>CA</td>\n",
       "      <td>-99</td>\n",
       "      <td>-99.0</td>\n",
       "      <td>30.92</td>\n",
       "      <td>862157443.22168</td>\n",
       "      <td>195388.61918</td>\n",
       "      <td>{\"rings\": [[[-235397.855560184, 9938636.425874...</td>\n",
       "    </tr>\n",
       "    <tr>\n",
       "      <th>1</th>\n",
       "      <td>2</td>\n",
       "      <td>00016</td>\n",
       "      <td>Sequoia National Forest</td>\n",
       "      <td>CA</td>\n",
       "      <td>-99</td>\n",
       "      <td>-99.0</td>\n",
       "      <td>39.33</td>\n",
       "      <td>1096295677.53442</td>\n",
       "      <td>169790.572348</td>\n",
       "      <td>{\"rings\": [[[463415.329815902, 8230735.1641904...</td>\n",
       "    </tr>\n",
       "    <tr>\n",
       "      <th>2</th>\n",
       "      <td>3</td>\n",
       "      <td>00017</td>\n",
       "      <td>Northeast Fresno County</td>\n",
       "      <td>CA</td>\n",
       "      <td>-99</td>\n",
       "      <td>-99.0</td>\n",
       "      <td>564.38</td>\n",
       "      <td>15734145627.6488</td>\n",
       "      <td>873109.20835</td>\n",
       "      <td>{\"rings\": [[[354976.177600153, 8923823.7678399...</td>\n",
       "    </tr>\n",
       "    <tr>\n",
       "      <th>3</th>\n",
       "      <td>4</td>\n",
       "      <td>00018</td>\n",
       "      <td>Los Padres Ntl Forest</td>\n",
       "      <td>CA</td>\n",
       "      <td>-99</td>\n",
       "      <td>-99.0</td>\n",
       "      <td>90.83</td>\n",
       "      <td>2532221635.86206</td>\n",
       "      <td>294311.333366</td>\n",
       "      <td>{\"rings\": [[[355769.014925234, 7866496.3992311...</td>\n",
       "    </tr>\n",
       "  </tbody>\n",
       "</table>\n",
       "</div>"
      ],
      "text/plain": [
       "   OBJECTID ZIP_CODE                  PO_NAME STATE  POPULATION  POP_SQMI  \\\n",
       "0         1    00012          Mt Meadows Area    CA         -99     -99.0   \n",
       "1         2    00016  Sequoia National Forest    CA         -99     -99.0   \n",
       "2         3    00017  Northeast Fresno County    CA         -99     -99.0   \n",
       "3         4    00018    Los Padres Ntl Forest    CA         -99     -99.0   \n",
       "\n",
       "     SQMI       Shape__Area  Shape__Length  \\\n",
       "0   30.92   862157443.22168   195388.61918   \n",
       "1   39.33  1096295677.53442  169790.572348   \n",
       "2  564.38  15734145627.6488   873109.20835   \n",
       "3   90.83  2532221635.86206  294311.333366   \n",
       "\n",
       "                                               SHAPE  \n",
       "0  {\"rings\": [[[-235397.855560184, 9938636.425874...  \n",
       "1  {\"rings\": [[[463415.329815902, 8230735.1641904...  \n",
       "2  {\"rings\": [[[354976.177600153, 8923823.7678399...  \n",
       "3  {\"rings\": [[[355769.014925234, 7866496.3992311...  "
      ]
     },
     "execution_count": 8,
     "metadata": {},
     "output_type": "execute_result"
    }
   ],
   "source": [
    "ca_zip_cd_fs_sdf = ca_zip_cd_fs.sdf\n",
    "print(f\"Shape: {ca_zip_cd_fs_sdf.shape}\")\n",
    "ca_zip_cd_fs_sdf.head(4)"
   ]
  },
  {
   "cell_type": "code",
   "execution_count": 9,
   "id": "b8d28c1d-5269-43dd-9681-6e3e87d560de",
   "metadata": {},
   "outputs": [
    {
     "name": "stdout",
     "output_type": "stream",
     "text": [
      "Shape: (1721, 8)\n"
     ]
    },
    {
     "data": {
      "text/html": [
       "<div>\n",
       "<style scoped>\n",
       "    .dataframe tbody tr th:only-of-type {\n",
       "        vertical-align: middle;\n",
       "    }\n",
       "\n",
       "    .dataframe tbody tr th {\n",
       "        vertical-align: top;\n",
       "    }\n",
       "\n",
       "    .dataframe thead th {\n",
       "        text-align: right;\n",
       "    }\n",
       "</style>\n",
       "<table border=\"1\" class=\"dataframe\">\n",
       "  <thead>\n",
       "    <tr style=\"text-align: right;\">\n",
       "      <th></th>\n",
       "      <th>OBJECTID</th>\n",
       "      <th>ZIP_CODE</th>\n",
       "      <th>PO_NAME</th>\n",
       "      <th>STATE</th>\n",
       "      <th>SQMI</th>\n",
       "      <th>Shape__Area</th>\n",
       "      <th>Shape__Length</th>\n",
       "      <th>SHAPE</th>\n",
       "    </tr>\n",
       "  </thead>\n",
       "  <tbody>\n",
       "    <tr>\n",
       "      <th>0</th>\n",
       "      <td>1</td>\n",
       "      <td>00012</td>\n",
       "      <td>Mt Meadows Area</td>\n",
       "      <td>CA</td>\n",
       "      <td>30.92</td>\n",
       "      <td>862157443.22168</td>\n",
       "      <td>195388.61918</td>\n",
       "      <td>{\"rings\": [[[-235397.855560184, 9938636.425874...</td>\n",
       "    </tr>\n",
       "    <tr>\n",
       "      <th>1</th>\n",
       "      <td>2</td>\n",
       "      <td>00016</td>\n",
       "      <td>Sequoia National Forest</td>\n",
       "      <td>CA</td>\n",
       "      <td>39.33</td>\n",
       "      <td>1096295677.53442</td>\n",
       "      <td>169790.572348</td>\n",
       "      <td>{\"rings\": [[[463415.329815902, 8230735.1641904...</td>\n",
       "    </tr>\n",
       "    <tr>\n",
       "      <th>2</th>\n",
       "      <td>3</td>\n",
       "      <td>00017</td>\n",
       "      <td>Northeast Fresno County</td>\n",
       "      <td>CA</td>\n",
       "      <td>564.38</td>\n",
       "      <td>15734145627.6488</td>\n",
       "      <td>873109.20835</td>\n",
       "      <td>{\"rings\": [[[354976.177600153, 8923823.7678399...</td>\n",
       "    </tr>\n",
       "    <tr>\n",
       "      <th>3</th>\n",
       "      <td>4</td>\n",
       "      <td>00018</td>\n",
       "      <td>Los Padres Ntl Forest</td>\n",
       "      <td>CA</td>\n",
       "      <td>90.83</td>\n",
       "      <td>2532221635.86206</td>\n",
       "      <td>294311.333366</td>\n",
       "      <td>{\"rings\": [[[355769.014925234, 7866496.3992311...</td>\n",
       "    </tr>\n",
       "  </tbody>\n",
       "</table>\n",
       "</div>"
      ],
      "text/plain": [
       "   OBJECTID ZIP_CODE                  PO_NAME STATE    SQMI       Shape__Area  \\\n",
       "0         1    00012          Mt Meadows Area    CA   30.92   862157443.22168   \n",
       "1         2    00016  Sequoia National Forest    CA   39.33  1096295677.53442   \n",
       "2         3    00017  Northeast Fresno County    CA  564.38  15734145627.6488   \n",
       "3         4    00018    Los Padres Ntl Forest    CA   90.83  2532221635.86206   \n",
       "\n",
       "   Shape__Length                                              SHAPE  \n",
       "0   195388.61918  {\"rings\": [[[-235397.855560184, 9938636.425874...  \n",
       "1  169790.572348  {\"rings\": [[[463415.329815902, 8230735.1641904...  \n",
       "2   873109.20835  {\"rings\": [[[354976.177600153, 8923823.7678399...  \n",
       "3  294311.333366  {\"rings\": [[[355769.014925234, 7866496.3992311...  "
      ]
     },
     "execution_count": 9,
     "metadata": {},
     "output_type": "execute_result"
    }
   ],
   "source": [
    "#Dropping unwanted columns\n",
    "ca_zip_cd_fs_sdf = ca_zip_cd_fs_sdf.drop(['POPULATION','POP_SQMI'], axis=1)\n",
    "print(f\"Shape: {ca_zip_cd_fs_sdf.shape}\")\n",
    "ca_zip_cd_fs_sdf.head(4)"
   ]
  },
  {
   "cell_type": "code",
   "execution_count": 10,
   "id": "2ff2aec6-be7b-44d4-af94-5569b14b0365",
   "metadata": {},
   "outputs": [
    {
     "name": "stdout",
     "output_type": "stream",
     "text": [
      "CPU times: user 4.01 s, sys: 776 ms, total: 4.78 s\n",
      "Wall time: 50.5 s\n"
     ]
    },
    {
     "data": {
      "text/html": [
       "<div class=\"item_container\" style=\"height: auto; overflow: hidden; border: 1px solid #cfcfcf; border-radius: 2px; background: #f6fafa; line-height: 1.21429em; padding: 10px;\">\n",
       "                    <div class=\"item_left\" style=\"width: 210px; float: left;\">\n",
       "                       <a href='https://UCSDOnline.maps.arcgis.com/home/item.html?id=55c3dd60497e45b3a30e9d6bbb61730d' target='_blank'>\n",
       "                        <img src='http://static.arcgis.com/images/desktopapp.png' class=\"itemThumbnail\">\n",
       "                       </a>\n",
       "                    </div>\n",
       "\n",
       "                    <div class=\"item_right\"     style=\"float: none; width: auto; overflow: hidden;\">\n",
       "                        <a href='https://UCSDOnline.maps.arcgis.com/home/item.html?id=55c3dd60497e45b3a30e9d6bbb61730d' target='_blank'><b>California Zip Codes 1.2</b>\n",
       "                        </a>\n",
       "                        <br/><img src='https://UCSDOnline.maps.arcgis.com/home/js/jsapi/esri/css/images/item_type_icons/featureshosted16.png' style=\"vertical-align:middle;\">Feature Layer Collection by akale_UCSDOnline\n",
       "                        <br/>Last Modified: March 31, 2023\n",
       "                        <br/>0 comments, 0 views\n",
       "                    </div>\n",
       "                </div>\n",
       "                "
      ],
      "text/plain": [
       "<Item title:\"California Zip Codes 1.2\" type:Feature Layer Collection owner:akale_UCSDOnline>"
      ]
     },
     "execution_count": 10,
     "metadata": {},
     "output_type": "execute_result"
    }
   ],
   "source": [
    "%%time\n",
    "ca_zip_cd_fl = ca_zip_cd_fs_sdf.spatial.to_featurelayer(title='California Zip Codes 1.2',\n",
    "                                                        gis=gis,\n",
    "                                                        folder='nourish_gis',\n",
    "                                                        tags=['California','ZipCodes'],\n",
    "                                                        service_name='California Zip Codes 1.2'\n",
    "                                                    )\n",
    "ca_zip_cd_fl"
   ]
  },
  {
   "cell_type": "code",
   "execution_count": null,
   "id": "18420d9c-a51e-4697-8862-a9341aede12b",
   "metadata": {},
   "outputs": [],
   "source": []
  }
 ],
 "metadata": {
  "kernelspec": {
   "display_name": "Python 3 (ipykernel)",
   "language": "python",
   "name": "python3"
  },
  "language_info": {
   "codemirror_mode": {
    "name": "ipython",
    "version": 3
   },
   "file_extension": ".py",
   "mimetype": "text/x-python",
   "name": "python",
   "nbconvert_exporter": "python",
   "pygments_lexer": "ipython3",
   "version": "3.9.16"
  }
 },
 "nbformat": 4,
 "nbformat_minor": 5
}
