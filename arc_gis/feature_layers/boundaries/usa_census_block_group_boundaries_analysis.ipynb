{
 "cells": [
  {
   "cell_type": "markdown",
   "id": "e697a221-530e-4b13-946e-ccd10b3a93ea",
   "metadata": {},
   "source": [
    "### Motivation\n",
    "* This notebook is for exploring USA Census block group boundaries from a 2020 Census\n",
    "We will try to see if we can use the existing feature layer created from Esri :  \n",
    "Feature Layer: https://services.arcgis.com/P3ePLMYs2RVChkJx/arcgis/rest/services/USA_Census_BlockGroups/FeatureServer  \n",
    "Feature Layer Details: https://esri.maps.arcgis.com/home/item.html?id=2f5e592494d243b0aa5c253e75e792a4\n",
    "* Using this layer, we would pick San Diego County FIPS data  \n",
    "* Enrich the Dataframe with consumer spending and other variables"
   ]
  },
  {
   "cell_type": "code",
   "execution_count": 15,
   "id": "38fb7b3b-3d70-49d6-8527-6bf543655062",
   "metadata": {},
   "outputs": [],
   "source": [
    "from arcgis.gis import GIS\n",
    "from arcgis.features import FeatureLayerCollection, FeatureLayer\n",
    "from arcgis.geoenrichment import enrich, Country\n",
    "from feature_layer_utils import get_enrichment_variables\n",
    "import itertools\n",
    "import sys\n",
    "sys.path.append('../')\n",
    "from utils import get_config"
   ]
  },
  {
   "cell_type": "code",
   "execution_count": 2,
   "id": "846cf77a-e2e8-409c-be0c-99784f0d5b90",
   "metadata": {},
   "outputs": [
    {
     "name": "stdout",
     "output_type": "stream",
     "text": [
      "<configparser.ConfigParser object at 0x1095ed760>\n",
      "Please sign in to your GIS and paste the code that is obtained below.\n",
      "If a web browser does not automatically open, please navigate to the URL below yourself instead.\n",
      "Opening web browser to navigate to: https://ucsdonline.maps.arcgis.com/sharing/rest/oauth2/authorize?response_type=code&client_id=Elm5V3upnnV17Q3r&redirect_uri=urn%3Aietf%3Awg%3Aoauth%3A2.0%3Aoob&state=edVj3JFOZWdnbrH4rX6Oc171dfELEg&allow_verification=false\n"
     ]
    },
    {
     "name": "stdin",
     "output_type": "stream",
     "text": [
      "Enter code obtained on signing in using SAML:  ········\n"
     ]
    },
    {
     "name": "stderr",
     "output_type": "stream",
     "text": [
      "/Users/amolkale/Documents/DSE/DSE260-Capstone-Project/capstone/venv3.9/lib/python3.9/site-packages/urllib3/connectionpool.py:1045: InsecureRequestWarning: Unverified HTTPS request is being made to host 'ucsdonline.maps.arcgis.com'. Adding certificate verification is strongly advised. See: https://urllib3.readthedocs.io/en/1.26.x/advanced-usage.html#ssl-warnings\n",
      "  warnings.warn(\n"
     ]
    }
   ],
   "source": [
    "app_id = get_config(\"arcgis\",\"clientid\")\n",
    "gis = GIS(\"https://ucsdonline.maps.arcgis.com/home\", client_id=app_id)"
   ]
  },
  {
   "cell_type": "markdown",
   "id": "13ede984-035a-4b03-8566-bf6084412b68",
   "metadata": {},
   "source": [
    "#### Selecting only San Diego County block groups from US block groups"
   ]
  },
  {
   "cell_type": "code",
   "execution_count": 3,
   "id": "6feee856-309e-4cbd-bd92-1596be70ad30",
   "metadata": {},
   "outputs": [],
   "source": [
    "fls = \"https://services.arcgis.com/P3ePLMYs2RVChkJx/arcgis/rest/services/USA_Census_BlockGroups/FeatureServer\""
   ]
  },
  {
   "cell_type": "code",
   "execution_count": 4,
   "id": "2401b5ba-ca5a-4d24-886a-82439ee98b02",
   "metadata": {},
   "outputs": [],
   "source": [
    "flc = FeatureLayerCollection(fls)"
   ]
  },
  {
   "cell_type": "code",
   "execution_count": 5,
   "id": "f0169edd-1ae3-4716-801d-5abfc0abbc83",
   "metadata": {},
   "outputs": [],
   "source": [
    "fl_url = flc.layers[0].url"
   ]
  },
  {
   "cell_type": "code",
   "execution_count": 6,
   "id": "7018177b-ac3f-4528-87a9-f263e03cfc87",
   "metadata": {},
   "outputs": [],
   "source": [
    "us_block_grp_fl = FeatureLayer(fl_url)"
   ]
  },
  {
   "cell_type": "markdown",
   "id": "dcfd48c2-e870-4506-a958-33e5592c59b1",
   "metadata": {},
   "source": [
    "Selecting FIPS='073' which is for San Diego County as our data"
   ]
  },
  {
   "cell_type": "code",
   "execution_count": 7,
   "id": "cdc59246-f0cd-478e-9886-78f3905c81b7",
   "metadata": {},
   "outputs": [],
   "source": [
    "san_diego_county_fip = '073'\n",
    "imperial_county_fip = '025'"
   ]
  },
  {
   "cell_type": "code",
   "execution_count": 8,
   "id": "a7ef1467-4a6c-4b36-b2d4-257ae2b4d351",
   "metadata": {},
   "outputs": [],
   "source": [
    "san_diego_county_block_grp_fs = us_block_grp_fl.query(where=f\"STATE_FIPS='06' AND COUNTY_FIPS='{san_diego_county_fip}'\")"
   ]
  },
  {
   "cell_type": "code",
   "execution_count": 9,
   "id": "b98383eb-d805-4a42-93c3-85dbfa255d2a",
   "metadata": {},
   "outputs": [
    {
     "name": "stdout",
     "output_type": "stream",
     "text": [
      "Shape: (2057, 14)\n"
     ]
    },
    {
     "data": {
      "text/html": [
       "<div>\n",
       "<style scoped>\n",
       "    .dataframe tbody tr th:only-of-type {\n",
       "        vertical-align: middle;\n",
       "    }\n",
       "\n",
       "    .dataframe tbody tr th {\n",
       "        vertical-align: top;\n",
       "    }\n",
       "\n",
       "    .dataframe thead th {\n",
       "        text-align: right;\n",
       "    }\n",
       "</style>\n",
       "<table border=\"1\" class=\"dataframe\">\n",
       "  <thead>\n",
       "    <tr style=\"text-align: right;\">\n",
       "      <th></th>\n",
       "      <th>OBJECTID</th>\n",
       "      <th>STATE_ABBR</th>\n",
       "      <th>STATE_FIPS</th>\n",
       "      <th>COUNTY_FIPS</th>\n",
       "      <th>STCOFIPS</th>\n",
       "      <th>TRACT_FIPS</th>\n",
       "      <th>BLOCKGROUP_FIPS</th>\n",
       "      <th>FIPS</th>\n",
       "      <th>POPULATION</th>\n",
       "      <th>POP_SQMI</th>\n",
       "      <th>SQMI</th>\n",
       "      <th>Shape__Area</th>\n",
       "      <th>Shape__Length</th>\n",
       "      <th>SHAPE</th>\n",
       "    </tr>\n",
       "  </thead>\n",
       "  <tbody>\n",
       "    <tr>\n",
       "      <th>0</th>\n",
       "      <td>29002</td>\n",
       "      <td>CA</td>\n",
       "      <td>06</td>\n",
       "      <td>073</td>\n",
       "      <td>06073</td>\n",
       "      <td>000100</td>\n",
       "      <td>1</td>\n",
       "      <td>060730001001</td>\n",
       "      <td>1197</td>\n",
       "      <td>4788.0</td>\n",
       "      <td>0.25</td>\n",
       "      <td>0.000063</td>\n",
       "      <td>0.04273</td>\n",
       "      <td>{\"rings\": [[[-117.188940909064, 32.75880776425...</td>\n",
       "    </tr>\n",
       "    <tr>\n",
       "      <th>1</th>\n",
       "      <td>29003</td>\n",
       "      <td>CA</td>\n",
       "      <td>06</td>\n",
       "      <td>073</td>\n",
       "      <td>06073</td>\n",
       "      <td>000100</td>\n",
       "      <td>2</td>\n",
       "      <td>060730001002</td>\n",
       "      <td>1711</td>\n",
       "      <td>5032.4</td>\n",
       "      <td>0.34</td>\n",
       "      <td>0.000084</td>\n",
       "      <td>0.052974</td>\n",
       "      <td>{\"rings\": [[[-117.187159908283, 32.75685976468...</td>\n",
       "    </tr>\n",
       "    <tr>\n",
       "      <th>2</th>\n",
       "      <td>29004</td>\n",
       "      <td>CA</td>\n",
       "      <td>06</td>\n",
       "      <td>073</td>\n",
       "      <td>06073</td>\n",
       "      <td>000201</td>\n",
       "      <td>1</td>\n",
       "      <td>060730002011</td>\n",
       "      <td>877</td>\n",
       "      <td>4385.0</td>\n",
       "      <td>0.2</td>\n",
       "      <td>0.000049</td>\n",
       "      <td>0.036512</td>\n",
       "      <td>{\"rings\": [[[-117.168410904985, 32.75683776569...</td>\n",
       "    </tr>\n",
       "    <tr>\n",
       "      <th>3</th>\n",
       "      <td>29005</td>\n",
       "      <td>CA</td>\n",
       "      <td>06</td>\n",
       "      <td>073</td>\n",
       "      <td>06073</td>\n",
       "      <td>000202</td>\n",
       "      <td>1</td>\n",
       "      <td>060730002021</td>\n",
       "      <td>1295</td>\n",
       "      <td>8633.3</td>\n",
       "      <td>0.15</td>\n",
       "      <td>0.000038</td>\n",
       "      <td>0.036458</td>\n",
       "      <td>{\"rings\": [[[-117.172296905513, 32.74893776444...</td>\n",
       "    </tr>\n",
       "  </tbody>\n",
       "</table>\n",
       "</div>"
      ],
      "text/plain": [
       "   OBJECTID STATE_ABBR STATE_FIPS COUNTY_FIPS STCOFIPS TRACT_FIPS  \\\n",
       "0     29002         CA         06         073    06073     000100   \n",
       "1     29003         CA         06         073    06073     000100   \n",
       "2     29004         CA         06         073    06073     000201   \n",
       "3     29005         CA         06         073    06073     000202   \n",
       "\n",
       "  BLOCKGROUP_FIPS          FIPS  POPULATION  POP_SQMI  SQMI  Shape__Area  \\\n",
       "0               1  060730001001        1197    4788.0  0.25     0.000063   \n",
       "1               2  060730001002        1711    5032.4  0.34     0.000084   \n",
       "2               1  060730002011         877    4385.0   0.2     0.000049   \n",
       "3               1  060730002021        1295    8633.3  0.15     0.000038   \n",
       "\n",
       "   Shape__Length                                              SHAPE  \n",
       "0        0.04273  {\"rings\": [[[-117.188940909064, 32.75880776425...  \n",
       "1       0.052974  {\"rings\": [[[-117.187159908283, 32.75685976468...  \n",
       "2       0.036512  {\"rings\": [[[-117.168410904985, 32.75683776569...  \n",
       "3       0.036458  {\"rings\": [[[-117.172296905513, 32.74893776444...  "
      ]
     },
     "execution_count": 9,
     "metadata": {},
     "output_type": "execute_result"
    }
   ],
   "source": [
    "san_diego_county_block_grp_fs_sdf = san_diego_county_block_grp_fs.sdf\n",
    "print(f\"Shape: {san_diego_county_block_grp_fs_sdf.shape}\")\n",
    "san_diego_county_block_grp_fs_sdf.head(4)"
   ]
  },
  {
   "cell_type": "markdown",
   "id": "9d626ac7-f713-497d-b65e-1faf5694c3da",
   "metadata": {},
   "source": [
    "#### Enrich the feature set for san diego county with variables"
   ]
  },
  {
   "cell_type": "code",
   "execution_count": 10,
   "id": "d6ad5478-e41f-4cd0-8ced-905c498bffd4",
   "metadata": {},
   "outputs": [
    {
     "name": "stdout",
     "output_type": "stream",
     "text": [
      "Parsing [Esri Market Potential Data] for market_potential segment!!\n",
      "\tNumber of Variables: 1264\n",
      "Parsing [Esri Demographics] for demographics segment!!\n",
      "\tNumber of Variables: 1923\n",
      "Parsing [Esri Business Data] for business segment!!\n",
      "\tNumber of Variables: 99\n"
     ]
    }
   ],
   "source": [
    "market_potential_variables = get_enrichment_variables('market_potential')\n",
    "demographics_variables = get_enrichment_variables('demographics')\n",
    "business_variables = get_enrichment_variables('business')"
   ]
  },
  {
   "cell_type": "markdown",
   "id": "e6d04ff6-d437-4715-900b-42eef148cead",
   "metadata": {},
   "source": [
    "Since Consumer Spending Variables given in the sheet by the professor does not cover all needed features, let's just give it the whole data collection of `food`"
   ]
  },
  {
   "cell_type": "code",
   "execution_count": 11,
   "id": "1c677dcb-8ee2-4d5f-8f48-5bc84a435e60",
   "metadata": {},
   "outputs": [],
   "source": [
    "food_data_collection = 'food'"
   ]
  },
  {
   "cell_type": "markdown",
   "id": "562b2e87-b217-47dd-8a50-8d6b5dcc18ef",
   "metadata": {},
   "source": [
    "For enrichment, we can provide the feature set or the spatially enabled df.\n",
    "Let us just pass down the sdf since we have visualized it already."
   ]
  },
  {
   "cell_type": "code",
   "execution_count": 18,
   "id": "2ff2aec6-be7b-44d4-af94-5569b14b0365",
   "metadata": {},
   "outputs": [
    {
     "name": "stdout",
     "output_type": "stream",
     "text": [
      "Shape: (2057, 4242)\n"
     ]
    },
    {
     "data": {
      "text/html": [
       "<div>\n",
       "<style scoped>\n",
       "    .dataframe tbody tr th:only-of-type {\n",
       "        vertical-align: middle;\n",
       "    }\n",
       "\n",
       "    .dataframe tbody tr th {\n",
       "        vertical-align: top;\n",
       "    }\n",
       "\n",
       "    .dataframe thead th {\n",
       "        text-align: right;\n",
       "    }\n",
       "</style>\n",
       "<table border=\"1\" class=\"dataframe\">\n",
       "  <thead>\n",
       "    <tr style=\"text-align: right;\">\n",
       "      <th></th>\n",
       "      <th>objectid</th>\n",
       "      <th>state_abbr</th>\n",
       "      <th>state_fips</th>\n",
       "      <th>county_fips</th>\n",
       "      <th>stcofips</th>\n",
       "      <th>tract_fips</th>\n",
       "      <th>blockgroup_fips</th>\n",
       "      <th>fips</th>\n",
       "      <th>totpop_cy</th>\n",
       "      <th>pop_sqmi</th>\n",
       "      <th>...</th>\n",
       "      <th>x1130fy_x</th>\n",
       "      <th>x1130fy_a</th>\n",
       "      <th>x1130fy_i</th>\n",
       "      <th>x1002fy_x</th>\n",
       "      <th>x1002fy_a</th>\n",
       "      <th>x1002fy_i</th>\n",
       "      <th>x1003fy_x</th>\n",
       "      <th>x1003fy_a</th>\n",
       "      <th>x1003fy_i</th>\n",
       "      <th>SHAPE</th>\n",
       "    </tr>\n",
       "  </thead>\n",
       "  <tbody>\n",
       "    <tr>\n",
       "      <th>0</th>\n",
       "      <td>29002</td>\n",
       "      <td>CA</td>\n",
       "      <td>06</td>\n",
       "      <td>073</td>\n",
       "      <td>06073</td>\n",
       "      <td>000100</td>\n",
       "      <td>1</td>\n",
       "      <td>060730001001</td>\n",
       "      <td>1197</td>\n",
       "      <td>4788.0</td>\n",
       "      <td>...</td>\n",
       "      <td>5477103.0</td>\n",
       "      <td>11293.0</td>\n",
       "      <td>225.0</td>\n",
       "      <td>12946134.0</td>\n",
       "      <td>26693.06</td>\n",
       "      <td>218.0</td>\n",
       "      <td>7469031.0</td>\n",
       "      <td>15400.06</td>\n",
       "      <td>214.0</td>\n",
       "      <td>{\"rings\": [[[-117.18894090906399, 32.758807764...</td>\n",
       "    </tr>\n",
       "    <tr>\n",
       "      <th>1</th>\n",
       "      <td>29003</td>\n",
       "      <td>CA</td>\n",
       "      <td>06</td>\n",
       "      <td>073</td>\n",
       "      <td>06073</td>\n",
       "      <td>000100</td>\n",
       "      <td>2</td>\n",
       "      <td>060730001002</td>\n",
       "      <td>1711</td>\n",
       "      <td>5032.4</td>\n",
       "      <td>...</td>\n",
       "      <td>8314027.0</td>\n",
       "      <td>11843.34</td>\n",
       "      <td>236.0</td>\n",
       "      <td>19996145.0</td>\n",
       "      <td>28484.54</td>\n",
       "      <td>233.0</td>\n",
       "      <td>11682118.0</td>\n",
       "      <td>16641.19</td>\n",
       "      <td>231.0</td>\n",
       "      <td>{\"rings\": [[[-117.18715990828298, 32.756859764...</td>\n",
       "    </tr>\n",
       "    <tr>\n",
       "      <th>2</th>\n",
       "      <td>29004</td>\n",
       "      <td>CA</td>\n",
       "      <td>06</td>\n",
       "      <td>073</td>\n",
       "      <td>06073</td>\n",
       "      <td>000201</td>\n",
       "      <td>1</td>\n",
       "      <td>060730002011</td>\n",
       "      <td>877</td>\n",
       "      <td>4385.0</td>\n",
       "      <td>...</td>\n",
       "      <td>3146681.0</td>\n",
       "      <td>7167.84</td>\n",
       "      <td>143.0</td>\n",
       "      <td>7516044.0</td>\n",
       "      <td>17120.83</td>\n",
       "      <td>140.0</td>\n",
       "      <td>4369363.0</td>\n",
       "      <td>9952.99</td>\n",
       "      <td>138.0</td>\n",
       "      <td>{\"rings\": [[[-117.168410904985, 32.75683776569...</td>\n",
       "    </tr>\n",
       "    <tr>\n",
       "      <th>3</th>\n",
       "      <td>29005</td>\n",
       "      <td>CA</td>\n",
       "      <td>06</td>\n",
       "      <td>073</td>\n",
       "      <td>06073</td>\n",
       "      <td>000202</td>\n",
       "      <td>1</td>\n",
       "      <td>060730002021</td>\n",
       "      <td>1295</td>\n",
       "      <td>8633.3</td>\n",
       "      <td>...</td>\n",
       "      <td>4743282.0</td>\n",
       "      <td>6854.45</td>\n",
       "      <td>137.0</td>\n",
       "      <td>11028782.0</td>\n",
       "      <td>15937.55</td>\n",
       "      <td>130.0</td>\n",
       "      <td>6285500.0</td>\n",
       "      <td>9083.09</td>\n",
       "      <td>126.0</td>\n",
       "      <td>{\"rings\": [[[-117.17229690551298, 32.748937764...</td>\n",
       "    </tr>\n",
       "  </tbody>\n",
       "</table>\n",
       "<p>4 rows × 4242 columns</p>\n",
       "</div>"
      ],
      "text/plain": [
       "   objectid state_abbr state_fips county_fips stcofips tract_fips  \\\n",
       "0     29002         CA         06         073    06073     000100   \n",
       "1     29003         CA         06         073    06073     000100   \n",
       "2     29004         CA         06         073    06073     000201   \n",
       "3     29005         CA         06         073    06073     000202   \n",
       "\n",
       "  blockgroup_fips          fips  totpop_cy  pop_sqmi  ...  x1130fy_x  \\\n",
       "0               1  060730001001       1197    4788.0  ...  5477103.0   \n",
       "1               2  060730001002       1711    5032.4  ...  8314027.0   \n",
       "2               1  060730002011        877    4385.0  ...  3146681.0   \n",
       "3               1  060730002021       1295    8633.3  ...  4743282.0   \n",
       "\n",
       "  x1130fy_a x1130fy_i   x1002fy_x  x1002fy_a  x1002fy_i   x1003fy_x  \\\n",
       "0   11293.0     225.0  12946134.0   26693.06      218.0   7469031.0   \n",
       "1  11843.34     236.0  19996145.0   28484.54      233.0  11682118.0   \n",
       "2   7167.84     143.0   7516044.0   17120.83      140.0   4369363.0   \n",
       "3   6854.45     137.0  11028782.0   15937.55      130.0   6285500.0   \n",
       "\n",
       "   x1003fy_a  x1003fy_i                                              SHAPE  \n",
       "0   15400.06      214.0  {\"rings\": [[[-117.18894090906399, 32.758807764...  \n",
       "1   16641.19      231.0  {\"rings\": [[[-117.18715990828298, 32.756859764...  \n",
       "2    9952.99      138.0  {\"rings\": [[[-117.168410904985, 32.75683776569...  \n",
       "3    9083.09      126.0  {\"rings\": [[[-117.17229690551298, 32.748937764...  \n",
       "\n",
       "[4 rows x 4242 columns]"
      ]
     },
     "execution_count": 18,
     "metadata": {},
     "output_type": "execute_result"
    }
   ],
   "source": [
    "san_diego_block_groups_enriched_df = enrich(study_areas=san_diego_county_block_grp_fs_sdf,\n",
    "                                           data_collections=[food_data_collection],\n",
    "                                           analysis_variables=itertools.chain(*[market_potential_variables,demographics_variables,business_variables]),\n",
    "                                           gis=gis,\n",
    "                                       )\n",
    "print(f\"Shape: {san_diego_block_groups_enriched_df.shape}\")\n",
    "san_diego_block_groups_enriched_df.head(4)"
   ]
  },
  {
   "cell_type": "code",
   "execution_count": 20,
   "id": "fd012372-6361-4426-9408-a2fcff5636de",
   "metadata": {},
   "outputs": [],
   "source": [
    "san_diego_block_groups_enriched_df.to_csv('../resources/full_enriched_san_diego_county_block_groups.csv', index=False)"
   ]
  },
  {
   "cell_type": "markdown",
   "id": "c5e141ba-626d-4e16-89d6-a29e12e116a2",
   "metadata": {},
   "source": [
    "While convertin the SEDF to a feature layer, code was throwing error: `ValueError: Columns must be same length as key`.\n",
    "ON further investigation, I realized that there are two columns with same name `totpop_cy`.\n",
    "So let's drop one of them and keep other one first before creating a featurelayer out of this."
   ]
  },
  {
   "cell_type": "code",
   "execution_count": 33,
   "id": "bf08f091-f8a9-4777-bc77-a774be71e95f",
   "metadata": {},
   "outputs": [
    {
     "data": {
      "text/plain": [
       "['totpop_cy']"
      ]
     },
     "execution_count": 33,
     "metadata": {},
     "output_type": "execute_result"
    }
   ],
   "source": [
    "list_cols = list(san_diego_block_groups_enriched_df.T.index.values)\n",
    "dupl_cols = list(set([x for i,x in enumerate(list_cols) if list_cols.count(x) > 1]))\n",
    "dupl_cols"
   ]
  },
  {
   "cell_type": "code",
   "execution_count": 36,
   "id": "5d7f4f45-807f-42db-9ae9-9af49636ba92",
   "metadata": {},
   "outputs": [
    {
     "data": {
      "text/plain": [
       "4241"
      ]
     },
     "execution_count": 38,
     "metadata": {},
     "output_type": "execute_result"
    }
   ],
   "source": [
    "len(list_cols)"
   ]
  },
  {
   "cell_type": "code",
   "execution_count": 37,
   "id": "d5be2a8a-f929-4004-9db0-3db94e0ded9c",
   "metadata": {},
   "outputs": [
    {
     "data": {
      "text/plain": [
       "1"
      ]
     },
     "execution_count": 37,
     "metadata": {},
     "output_type": "execute_result"
    }
   ],
   "source": [
    "len(dupl_cols)"
   ]
  },
  {
   "cell_type": "code",
   "execution_count": 35,
   "id": "16e08b36-f0ff-4604-a350-928e465e7819",
   "metadata": {},
   "outputs": [
    {
     "name": "stdout",
     "output_type": "stream",
     "text": [
      "['totpop_cy']\n"
     ]
    }
   ],
   "source": [
    "import collections\n",
    "print([item for item, count in collections.Counter(list_cols).items() if count > 1])"
   ]
  },
  {
   "cell_type": "markdown",
   "id": "b0023953-a295-4a74-91b7-04659bae437f",
   "metadata": {},
   "source": [
    "Looks like, if I use `san_diego_block_groups_enriched_df_cleaned  = san_diego_block_groups_enriched_df.loc[:,~san_diego_block_groups_enriched_df.T.duplicated(keep='last')]\n",
    "`  \n",
    ", I would lose all the column which have different column names but the same data. So I am doing this hack to remove only duplicate name column."
   ]
  },
  {
   "cell_type": "code",
   "execution_count": 51,
   "id": "5945370d-d65f-43df-857b-87ebfda9fd74",
   "metadata": {},
   "outputs": [
    {
     "data": {
      "text/html": [
       "<div>\n",
       "<style scoped>\n",
       "    .dataframe tbody tr th:only-of-type {\n",
       "        vertical-align: middle;\n",
       "    }\n",
       "\n",
       "    .dataframe tbody tr th {\n",
       "        vertical-align: top;\n",
       "    }\n",
       "\n",
       "    .dataframe thead th {\n",
       "        text-align: right;\n",
       "    }\n",
       "</style>\n",
       "<table border=\"1\" class=\"dataframe\">\n",
       "  <thead>\n",
       "    <tr style=\"text-align: right;\">\n",
       "      <th></th>\n",
       "      <th>0</th>\n",
       "      <th>1</th>\n",
       "      <th>2</th>\n",
       "      <th>3</th>\n",
       "      <th>4</th>\n",
       "      <th>5</th>\n",
       "      <th>6</th>\n",
       "      <th>7</th>\n",
       "      <th>8</th>\n",
       "      <th>9</th>\n",
       "      <th>...</th>\n",
       "      <th>2047</th>\n",
       "      <th>2048</th>\n",
       "      <th>2049</th>\n",
       "      <th>2050</th>\n",
       "      <th>2051</th>\n",
       "      <th>2052</th>\n",
       "      <th>2053</th>\n",
       "      <th>2054</th>\n",
       "      <th>2055</th>\n",
       "      <th>2056</th>\n",
       "    </tr>\n",
       "  </thead>\n",
       "  <tbody>\n",
       "    <tr>\n",
       "      <th>totpop_cy</th>\n",
       "      <td>1197</td>\n",
       "      <td>1711</td>\n",
       "      <td>877</td>\n",
       "      <td>1295</td>\n",
       "      <td>913</td>\n",
       "      <td>1261</td>\n",
       "      <td>920</td>\n",
       "      <td>960</td>\n",
       "      <td>804</td>\n",
       "      <td>957</td>\n",
       "      <td>...</td>\n",
       "      <td>1139</td>\n",
       "      <td>6010</td>\n",
       "      <td>1837</td>\n",
       "      <td>2004</td>\n",
       "      <td>2183</td>\n",
       "      <td>448</td>\n",
       "      <td>1753</td>\n",
       "      <td>1736</td>\n",
       "      <td>2115</td>\n",
       "      <td>1420</td>\n",
       "    </tr>\n",
       "    <tr>\n",
       "      <th>totpop_cy</th>\n",
       "      <td>1199.0</td>\n",
       "      <td>1692.0</td>\n",
       "      <td>902.0</td>\n",
       "      <td>1283.0</td>\n",
       "      <td>911.0</td>\n",
       "      <td>1251.0</td>\n",
       "      <td>911.0</td>\n",
       "      <td>996.0</td>\n",
       "      <td>841.0</td>\n",
       "      <td>954.0</td>\n",
       "      <td>...</td>\n",
       "      <td>1126.0</td>\n",
       "      <td>6013.0</td>\n",
       "      <td>1823.0</td>\n",
       "      <td>1988.0</td>\n",
       "      <td>2360.0</td>\n",
       "      <td>450.0</td>\n",
       "      <td>1802.0</td>\n",
       "      <td>1906.0</td>\n",
       "      <td>2171.0</td>\n",
       "      <td>1403.0</td>\n",
       "    </tr>\n",
       "  </tbody>\n",
       "</table>\n",
       "<p>2 rows × 2057 columns</p>\n",
       "</div>"
      ],
      "text/plain": [
       "             0       1      2       3      4       5      6      7      8     \\\n",
       "totpop_cy    1197    1711    877    1295    913    1261    920    960    804   \n",
       "totpop_cy  1199.0  1692.0  902.0  1283.0  911.0  1251.0  911.0  996.0  841.0   \n",
       "\n",
       "            9     ...    2047    2048    2049    2050    2051   2052    2053  \\\n",
       "totpop_cy    957  ...    1139    6010    1837    2004    2183    448    1753   \n",
       "totpop_cy  954.0  ...  1126.0  6013.0  1823.0  1988.0  2360.0  450.0  1802.0   \n",
       "\n",
       "             2054    2055    2056  \n",
       "totpop_cy    1736    2115    1420  \n",
       "totpop_cy  1906.0  2171.0  1403.0  \n",
       "\n",
       "[2 rows x 2057 columns]"
      ]
     },
     "execution_count": 51,
     "metadata": {},
     "output_type": "execute_result"
    }
   ],
   "source": [
    "san_diego_block_groups_enriched_df['totpop_cy'].T"
   ]
  },
  {
   "cell_type": "code",
   "execution_count": 54,
   "id": "c7b82f7a-1abb-4f4c-825e-d485150e0dbc",
   "metadata": {},
   "outputs": [
    {
     "name": "stdout",
     "output_type": "stream",
     "text": [
      "Shape of backup_totpop_cy: (2057, 1)\n"
     ]
    },
    {
     "data": {
      "text/html": [
       "<div>\n",
       "<style scoped>\n",
       "    .dataframe tbody tr th:only-of-type {\n",
       "        vertical-align: middle;\n",
       "    }\n",
       "\n",
       "    .dataframe tbody tr th {\n",
       "        vertical-align: top;\n",
       "    }\n",
       "\n",
       "    .dataframe thead th {\n",
       "        text-align: right;\n",
       "    }\n",
       "</style>\n",
       "<table border=\"1\" class=\"dataframe\">\n",
       "  <thead>\n",
       "    <tr style=\"text-align: right;\">\n",
       "      <th></th>\n",
       "      <th>totpop_cy</th>\n",
       "    </tr>\n",
       "  </thead>\n",
       "  <tbody>\n",
       "    <tr>\n",
       "      <th>0</th>\n",
       "      <td>1199.0</td>\n",
       "    </tr>\n",
       "    <tr>\n",
       "      <th>1</th>\n",
       "      <td>1692.0</td>\n",
       "    </tr>\n",
       "    <tr>\n",
       "      <th>2</th>\n",
       "      <td>902.0</td>\n",
       "    </tr>\n",
       "  </tbody>\n",
       "</table>\n",
       "</div>"
      ],
      "text/plain": [
       "  totpop_cy\n",
       "0    1199.0\n",
       "1    1692.0\n",
       "2     902.0"
      ]
     },
     "execution_count": 54,
     "metadata": {},
     "output_type": "execute_result"
    }
   ],
   "source": [
    "backup_totpop_cy = san_diego_block_groups_enriched_df['totpop_cy'].T.tail(1).T\n",
    "print(f\"Shape of backup_totpop_cy: {backup_totpop_cy.shape}\")\n",
    "backup_totpop_cy.head(3)"
   ]
  },
  {
   "cell_type": "code",
   "execution_count": 55,
   "id": "6b424975-d974-4339-9f9a-94c2cceb8fc6",
   "metadata": {},
   "outputs": [
    {
     "name": "stdout",
     "output_type": "stream",
     "text": [
      "Shape of san_diego_block_groups_enriched_df_cleaned: (2057, 4241)\n"
     ]
    },
    {
     "data": {
      "text/html": [
       "<div>\n",
       "<style scoped>\n",
       "    .dataframe tbody tr th:only-of-type {\n",
       "        vertical-align: middle;\n",
       "    }\n",
       "\n",
       "    .dataframe tbody tr th {\n",
       "        vertical-align: top;\n",
       "    }\n",
       "\n",
       "    .dataframe thead th {\n",
       "        text-align: right;\n",
       "    }\n",
       "</style>\n",
       "<table border=\"1\" class=\"dataframe\">\n",
       "  <thead>\n",
       "    <tr style=\"text-align: right;\">\n",
       "      <th></th>\n",
       "      <th>objectid</th>\n",
       "      <th>state_abbr</th>\n",
       "      <th>state_fips</th>\n",
       "      <th>county_fips</th>\n",
       "      <th>stcofips</th>\n",
       "      <th>tract_fips</th>\n",
       "      <th>blockgroup_fips</th>\n",
       "      <th>fips</th>\n",
       "      <th>pop_sqmi</th>\n",
       "      <th>sqmi</th>\n",
       "      <th>...</th>\n",
       "      <th>x1130fy_a</th>\n",
       "      <th>x1130fy_i</th>\n",
       "      <th>x1002fy_x</th>\n",
       "      <th>x1002fy_a</th>\n",
       "      <th>x1002fy_i</th>\n",
       "      <th>x1003fy_x</th>\n",
       "      <th>x1003fy_a</th>\n",
       "      <th>x1003fy_i</th>\n",
       "      <th>SHAPE</th>\n",
       "      <th>totpop_cy</th>\n",
       "    </tr>\n",
       "  </thead>\n",
       "  <tbody>\n",
       "    <tr>\n",
       "      <th>0</th>\n",
       "      <td>29002</td>\n",
       "      <td>CA</td>\n",
       "      <td>06</td>\n",
       "      <td>073</td>\n",
       "      <td>06073</td>\n",
       "      <td>000100</td>\n",
       "      <td>1</td>\n",
       "      <td>060730001001</td>\n",
       "      <td>4788.0</td>\n",
       "      <td>0.25</td>\n",
       "      <td>...</td>\n",
       "      <td>11293.0</td>\n",
       "      <td>225.0</td>\n",
       "      <td>12946134.0</td>\n",
       "      <td>26693.06</td>\n",
       "      <td>218.0</td>\n",
       "      <td>7469031.0</td>\n",
       "      <td>15400.06</td>\n",
       "      <td>214.0</td>\n",
       "      <td>{\"rings\": [[[-117.18894090906399, 32.758807764...</td>\n",
       "      <td>1199.0</td>\n",
       "    </tr>\n",
       "    <tr>\n",
       "      <th>1</th>\n",
       "      <td>29003</td>\n",
       "      <td>CA</td>\n",
       "      <td>06</td>\n",
       "      <td>073</td>\n",
       "      <td>06073</td>\n",
       "      <td>000100</td>\n",
       "      <td>2</td>\n",
       "      <td>060730001002</td>\n",
       "      <td>5032.4</td>\n",
       "      <td>0.34</td>\n",
       "      <td>...</td>\n",
       "      <td>11843.34</td>\n",
       "      <td>236.0</td>\n",
       "      <td>19996145.0</td>\n",
       "      <td>28484.54</td>\n",
       "      <td>233.0</td>\n",
       "      <td>11682118.0</td>\n",
       "      <td>16641.19</td>\n",
       "      <td>231.0</td>\n",
       "      <td>{\"rings\": [[[-117.18715990828298, 32.756859764...</td>\n",
       "      <td>1692.0</td>\n",
       "    </tr>\n",
       "    <tr>\n",
       "      <th>2</th>\n",
       "      <td>29004</td>\n",
       "      <td>CA</td>\n",
       "      <td>06</td>\n",
       "      <td>073</td>\n",
       "      <td>06073</td>\n",
       "      <td>000201</td>\n",
       "      <td>1</td>\n",
       "      <td>060730002011</td>\n",
       "      <td>4385.0</td>\n",
       "      <td>0.2</td>\n",
       "      <td>...</td>\n",
       "      <td>7167.84</td>\n",
       "      <td>143.0</td>\n",
       "      <td>7516044.0</td>\n",
       "      <td>17120.83</td>\n",
       "      <td>140.0</td>\n",
       "      <td>4369363.0</td>\n",
       "      <td>9952.99</td>\n",
       "      <td>138.0</td>\n",
       "      <td>{\"rings\": [[[-117.168410904985, 32.75683776569...</td>\n",
       "      <td>902.0</td>\n",
       "    </tr>\n",
       "  </tbody>\n",
       "</table>\n",
       "<p>3 rows × 4241 columns</p>\n",
       "</div>"
      ],
      "text/plain": [
       "   objectid state_abbr state_fips county_fips stcofips tract_fips  \\\n",
       "0     29002         CA         06         073    06073     000100   \n",
       "1     29003         CA         06         073    06073     000100   \n",
       "2     29004         CA         06         073    06073     000201   \n",
       "\n",
       "  blockgroup_fips          fips  pop_sqmi  sqmi  ... x1130fy_a x1130fy_i  \\\n",
       "0               1  060730001001    4788.0  0.25  ...   11293.0     225.0   \n",
       "1               2  060730001002    5032.4  0.34  ...  11843.34     236.0   \n",
       "2               1  060730002011    4385.0   0.2  ...   7167.84     143.0   \n",
       "\n",
       "    x1002fy_x  x1002fy_a  x1002fy_i   x1003fy_x  x1003fy_a  x1003fy_i  \\\n",
       "0  12946134.0   26693.06      218.0   7469031.0   15400.06      214.0   \n",
       "1  19996145.0   28484.54      233.0  11682118.0   16641.19      231.0   \n",
       "2   7516044.0   17120.83      140.0   4369363.0    9952.99      138.0   \n",
       "\n",
       "                                               SHAPE  totpop_cy  \n",
       "0  {\"rings\": [[[-117.18894090906399, 32.758807764...     1199.0  \n",
       "1  {\"rings\": [[[-117.18715990828298, 32.756859764...     1692.0  \n",
       "2  {\"rings\": [[[-117.168410904985, 32.75683776569...      902.0  \n",
       "\n",
       "[3 rows x 4241 columns]"
      ]
     },
     "execution_count": 55,
     "metadata": {},
     "output_type": "execute_result"
    }
   ],
   "source": [
    "san_diego_block_groups_enriched_df_cleaned = san_diego_block_groups_enriched_df.drop('totpop_cy', axis=1)\n",
    "san_diego_block_groups_enriched_df_cleaned = san_diego_block_groups_enriched_df_cleaned.join(backup_totpop_cy)\n",
    "print(f\"Shape of san_diego_block_groups_enriched_df_cleaned: {san_diego_block_groups_enriched_df_cleaned.shape}\")\n",
    "san_diego_block_groups_enriched_df_cleaned.head(3)"
   ]
  },
  {
   "cell_type": "code",
   "execution_count": 57,
   "id": "9e43cc39-5e11-4215-82fe-2548c5779d16",
   "metadata": {},
   "outputs": [],
   "source": [
    "san_diego_block_groups_enriched_df_cleaned.to_csv('../resources/full_enriched_san_diego_county_block_groups_cleaned.csv', index=False)"
   ]
  },
  {
   "cell_type": "code",
   "execution_count": 56,
   "id": "63e36ef0-7bcd-4eab-8661-17a649e20022",
   "metadata": {},
   "outputs": [
    {
     "ename": "ShapefileException",
     "evalue": "Shapefile Writer reached maximum number of fields: 2046.",
     "output_type": "error",
     "traceback": [
      "\u001b[0;31m---------------------------------------------------------------------------\u001b[0m",
      "\u001b[0;31mShapefileException\u001b[0m                        Traceback (most recent call last)",
      "File \u001b[0;32m<timed exec>:2\u001b[0m\n",
      "File \u001b[0;32m~/Documents/DSE/DSE260-Capstone-Project/capstone/venv3.9/lib/python3.9/site-packages/arcgis/features/geo/_accessor.py:2846\u001b[0m, in \u001b[0;36mGeoAccessor.to_featurelayer\u001b[0;34m(self, title, gis, tags, folder, sanitize_columns, service_name, **kwargs)\u001b[0m\n\u001b[1;32m   2838\u001b[0m     \u001b[38;5;28;01mif\u001b[39;00m (\n\u001b[1;32m   2839\u001b[0m         content\u001b[38;5;241m.\u001b[39mis_service_name_available(service_name, \u001b[38;5;124m\"\u001b[39m\u001b[38;5;124mfeatureService\u001b[39m\u001b[38;5;124m\"\u001b[39m)\n\u001b[1;32m   2840\u001b[0m         \u001b[38;5;129;01mis\u001b[39;00m \u001b[38;5;28;01mFalse\u001b[39;00m\n\u001b[1;32m   2841\u001b[0m     ):\n\u001b[1;32m   2842\u001b[0m         \u001b[38;5;28;01mraise\u001b[39;00m \u001b[38;5;167;01mValueError\u001b[39;00m(\n\u001b[1;32m   2843\u001b[0m             \u001b[38;5;124m\"\u001b[39m\u001b[38;5;124mThis service name is unavailable for Feature Service.\u001b[39m\u001b[38;5;124m\"\u001b[39m\n\u001b[1;32m   2844\u001b[0m         )\n\u001b[0;32m-> 2846\u001b[0m result \u001b[38;5;241m=\u001b[39m \u001b[43mcontent\u001b[49m\u001b[38;5;241;43m.\u001b[39;49m\u001b[43mimport_data\u001b[49m\u001b[43m(\u001b[49m\n\u001b[1;32m   2847\u001b[0m \u001b[43m    \u001b[49m\u001b[38;5;28;43mself\u001b[39;49m\u001b[38;5;241;43m.\u001b[39;49m\u001b[43m_data\u001b[49m\u001b[43m,\u001b[49m\n\u001b[1;32m   2848\u001b[0m \u001b[43m    \u001b[49m\u001b[43mfolder\u001b[49m\u001b[38;5;241;43m=\u001b[39;49m\u001b[43mfolder\u001b[49m\u001b[43m,\u001b[49m\n\u001b[1;32m   2849\u001b[0m \u001b[43m    \u001b[49m\u001b[43mtitle\u001b[49m\u001b[38;5;241;43m=\u001b[39;49m\u001b[43mtitle\u001b[49m\u001b[43m,\u001b[49m\n\u001b[1;32m   2850\u001b[0m \u001b[43m    \u001b[49m\u001b[43mtags\u001b[49m\u001b[38;5;241;43m=\u001b[39;49m\u001b[43mtags\u001b[49m\u001b[43m,\u001b[49m\n\u001b[1;32m   2851\u001b[0m \u001b[43m    \u001b[49m\u001b[43msanitize_columns\u001b[49m\u001b[38;5;241;43m=\u001b[39;49m\u001b[43msanitize_columns\u001b[49m\u001b[43m,\u001b[49m\n\u001b[1;32m   2852\u001b[0m \u001b[43m    \u001b[49m\u001b[43mservice_name\u001b[49m\u001b[38;5;241;43m=\u001b[39;49m\u001b[43mservice_name\u001b[49m\u001b[43m,\u001b[49m\n\u001b[1;32m   2853\u001b[0m \u001b[43m    \u001b[49m\u001b[38;5;241;43m*\u001b[39;49m\u001b[38;5;241;43m*\u001b[39;49m\u001b[43mkwargs\u001b[49m\u001b[43m,\u001b[49m\n\u001b[1;32m   2854\u001b[0m \u001b[43m\u001b[49m\u001b[43m)\u001b[49m\n\u001b[1;32m   2855\u001b[0m \u001b[38;5;28mself\u001b[39m\u001b[38;5;241m.\u001b[39m_data\u001b[38;5;241m.\u001b[39mcolumns \u001b[38;5;241m=\u001b[39m origin_columns\n\u001b[1;32m   2856\u001b[0m \u001b[38;5;28mself\u001b[39m\u001b[38;5;241m.\u001b[39m_data\u001b[38;5;241m.\u001b[39mindex \u001b[38;5;241m=\u001b[39m origin_index\n",
      "File \u001b[0;32m~/Documents/DSE/DSE260-Capstone-Project/capstone/venv3.9/lib/python3.9/site-packages/arcgis/gis/__init__.py:7564\u001b[0m, in \u001b[0;36mContentManager.import_data\u001b[0;34m(self, df, address_fields, folder, item_id, **kwargs)\u001b[0m\n\u001b[1;32m   7557\u001b[0m \u001b[38;5;28;01melif\u001b[39;00m has_pyshp:\n\u001b[1;32m   7559\u001b[0m     name \u001b[38;5;241m=\u001b[39m \u001b[38;5;124m\"\u001b[39m\u001b[38;5;132;01m%s\u001b[39;00m\u001b[38;5;132;01m%s\u001b[39;00m\u001b[38;5;124m.shp\u001b[39m\u001b[38;5;124m\"\u001b[39m \u001b[38;5;241m%\u001b[39m (\n\u001b[1;32m   7560\u001b[0m         random\u001b[38;5;241m.\u001b[39mchoice(string\u001b[38;5;241m.\u001b[39mascii_lowercase),\n\u001b[1;32m   7561\u001b[0m         uuid4()\u001b[38;5;241m.\u001b[39mhex[:\u001b[38;5;241m5\u001b[39m],\n\u001b[1;32m   7562\u001b[0m     )\n\u001b[0;32m-> 7564\u001b[0m     ds \u001b[38;5;241m=\u001b[39m \u001b[43mdf\u001b[49m\u001b[38;5;241;43m.\u001b[39;49m\u001b[43mspatial\u001b[49m\u001b[38;5;241;43m.\u001b[39;49m\u001b[43mto_featureclass\u001b[49m\u001b[43m(\u001b[49m\n\u001b[1;32m   7565\u001b[0m \u001b[43m        \u001b[49m\u001b[43mlocation\u001b[49m\u001b[38;5;241;43m=\u001b[39;49m\u001b[43mos\u001b[49m\u001b[38;5;241;43m.\u001b[39;49m\u001b[43mpath\u001b[49m\u001b[38;5;241;43m.\u001b[39;49m\u001b[43mjoin\u001b[49m\u001b[43m(\u001b[49m\u001b[43mtemp_dir\u001b[49m\u001b[43m,\u001b[49m\u001b[43m \u001b[49m\u001b[43mname\u001b[49m\u001b[43m)\u001b[49m\u001b[43m,\u001b[49m\n\u001b[1;32m   7566\u001b[0m \u001b[43m        \u001b[49m\u001b[43msanitize_columns\u001b[49m\u001b[38;5;241;43m=\u001b[39;49m\u001b[43msanitize_columns\u001b[49m\u001b[43m,\u001b[49m\n\u001b[1;32m   7567\u001b[0m \u001b[43m    \u001b[49m\u001b[43m)\u001b[49m\n\u001b[1;32m   7568\u001b[0m     zip_shp \u001b[38;5;241m=\u001b[39m zipws(path\u001b[38;5;241m=\u001b[39mtemp_dir, outfile\u001b[38;5;241m=\u001b[39mtemp_zip, keep\u001b[38;5;241m=\u001b[39m\u001b[38;5;28;01mFalse\u001b[39;00m)\n\u001b[1;32m   7569\u001b[0m     item \u001b[38;5;241m=\u001b[39m \u001b[38;5;28mself\u001b[39m\u001b[38;5;241m.\u001b[39madd(\n\u001b[1;32m   7570\u001b[0m         item_properties\u001b[38;5;241m=\u001b[39m{\u001b[38;5;124m\"\u001b[39m\u001b[38;5;124mtitle\u001b[39m\u001b[38;5;124m\"\u001b[39m: title, \u001b[38;5;124m\"\u001b[39m\u001b[38;5;124mtags\u001b[39m\u001b[38;5;124m\"\u001b[39m: tags},\n\u001b[1;32m   7571\u001b[0m         data\u001b[38;5;241m=\u001b[39mzip_shp,\n\u001b[1;32m   7572\u001b[0m         folder\u001b[38;5;241m=\u001b[39mfolder,\n\u001b[1;32m   7573\u001b[0m     )\n",
      "File \u001b[0;32m~/Documents/DSE/DSE260-Capstone-Project/capstone/venv3.9/lib/python3.9/site-packages/arcgis/features/geo/_accessor.py:2637\u001b[0m, in \u001b[0;36mGeoAccessor.to_featureclass\u001b[0;34m(self, location, overwrite, has_z, has_m, sanitize_columns)\u001b[0m\n\u001b[1;32m   2635\u001b[0m origin_columns \u001b[38;5;241m=\u001b[39m \u001b[38;5;28mself\u001b[39m\u001b[38;5;241m.\u001b[39m_data\u001b[38;5;241m.\u001b[39mcolumns\u001b[38;5;241m.\u001b[39mtolist()\n\u001b[1;32m   2636\u001b[0m origin_index \u001b[38;5;241m=\u001b[39m copy\u001b[38;5;241m.\u001b[39mdeepcopy(\u001b[38;5;28mself\u001b[39m\u001b[38;5;241m.\u001b[39m_data\u001b[38;5;241m.\u001b[39mindex)\n\u001b[0;32m-> 2637\u001b[0m result \u001b[38;5;241m=\u001b[39m \u001b[43mto_featureclass\u001b[49m\u001b[43m(\u001b[49m\n\u001b[1;32m   2638\u001b[0m \u001b[43m    \u001b[49m\u001b[38;5;28;43mself\u001b[39;49m\u001b[43m,\u001b[49m\n\u001b[1;32m   2639\u001b[0m \u001b[43m    \u001b[49m\u001b[43mlocation\u001b[49m\u001b[38;5;241;43m=\u001b[39;49m\u001b[43mlocation\u001b[49m\u001b[43m,\u001b[49m\n\u001b[1;32m   2640\u001b[0m \u001b[43m    \u001b[49m\u001b[43moverwrite\u001b[49m\u001b[38;5;241;43m=\u001b[39;49m\u001b[43moverwrite\u001b[49m\u001b[43m,\u001b[49m\n\u001b[1;32m   2641\u001b[0m \u001b[43m    \u001b[49m\u001b[43mhas_z\u001b[49m\u001b[38;5;241;43m=\u001b[39;49m\u001b[43mhas_z\u001b[49m\u001b[43m,\u001b[49m\n\u001b[1;32m   2642\u001b[0m \u001b[43m    \u001b[49m\u001b[43msanitize_columns\u001b[49m\u001b[38;5;241;43m=\u001b[39;49m\u001b[43msanitize_columns\u001b[49m\u001b[43m,\u001b[49m\n\u001b[1;32m   2643\u001b[0m \u001b[43m    \u001b[49m\u001b[43mhas_m\u001b[49m\u001b[38;5;241;43m=\u001b[39;49m\u001b[43mhas_m\u001b[49m\u001b[43m,\u001b[49m\n\u001b[1;32m   2644\u001b[0m \u001b[43m\u001b[49m\u001b[43m)\u001b[49m\n\u001b[1;32m   2645\u001b[0m \u001b[38;5;28mself\u001b[39m\u001b[38;5;241m.\u001b[39m_data\u001b[38;5;241m.\u001b[39mcolumns \u001b[38;5;241m=\u001b[39m origin_columns\n\u001b[1;32m   2646\u001b[0m \u001b[38;5;28mself\u001b[39m\u001b[38;5;241m.\u001b[39m_data\u001b[38;5;241m.\u001b[39mindex \u001b[38;5;241m=\u001b[39m origin_index\n",
      "File \u001b[0;32m~/Documents/DSE/DSE260-Capstone-Project/capstone/venv3.9/lib/python3.9/site-packages/arcgis/features/geo/_io/fileops.py:1108\u001b[0m, in \u001b[0;36mto_featureclass\u001b[0;34m(geo, location, overwrite, validate, sanitize_columns, has_m, has_z)\u001b[0m\n\u001b[1;32m   1106\u001b[0m     \u001b[38;5;28;01mreturn\u001b[39;00m res\n\u001b[1;32m   1107\u001b[0m \u001b[38;5;28;01melse\u001b[39;00m:\n\u001b[0;32m-> 1108\u001b[0m     res \u001b[38;5;241m=\u001b[39m \u001b[43m_pyshp2\u001b[49m\u001b[43m(\u001b[49m\u001b[43mdf\u001b[49m\u001b[38;5;241;43m=\u001b[39;49m\u001b[43mdf\u001b[49m\u001b[43m,\u001b[49m\u001b[43m \u001b[49m\u001b[43mout_path\u001b[49m\u001b[38;5;241;43m=\u001b[39;49m\u001b[43mout_location\u001b[49m\u001b[43m,\u001b[49m\u001b[43m \u001b[49m\u001b[43mout_name\u001b[49m\u001b[38;5;241;43m=\u001b[39;49m\u001b[43mfc_name\u001b[49m\u001b[43m)\u001b[49m\n\u001b[1;32m   1109\u001b[0m     df\u001b[38;5;241m.\u001b[39mset_index(old_idx)\n\u001b[1;32m   1110\u001b[0m     \u001b[38;5;28;01mreturn\u001b[39;00m res\n",
      "File \u001b[0;32m~/Documents/DSE/DSE260-Capstone-Project/capstone/venv3.9/lib/python3.9/site-packages/arcgis/features/geo/_io/fileops.py:1303\u001b[0m, in \u001b[0;36m_pyshp2\u001b[0;34m(df, out_path, out_name)\u001b[0m\n\u001b[1;32m   1301\u001b[0m     shpfile\u001b[38;5;241m.\u001b[39mfield(name\u001b[38;5;241m=\u001b[39mc, fieldType\u001b[38;5;241m=\u001b[39m\u001b[38;5;124m\"\u001b[39m\u001b[38;5;124mN\u001b[39m\u001b[38;5;124m\"\u001b[39m, size\u001b[38;5;241m=\u001b[39m\u001b[38;5;241m10\u001b[39m)\n\u001b[1;32m   1302\u001b[0m \u001b[38;5;28;01melif\u001b[39;00m \u001b[38;5;28misinstance\u001b[39m(df[c]\u001b[38;5;241m.\u001b[39mloc[idx], (np\u001b[38;5;241m.\u001b[39mfloat, np\u001b[38;5;241m.\u001b[39mfloat64, np\u001b[38;5;241m.\u001b[39mint64)):\n\u001b[0;32m-> 1303\u001b[0m     \u001b[43mshpfile\u001b[49m\u001b[38;5;241;43m.\u001b[39;49m\u001b[43mfield\u001b[49m\u001b[43m(\u001b[49m\u001b[43mname\u001b[49m\u001b[38;5;241;43m=\u001b[39;49m\u001b[43mc\u001b[49m\u001b[43m,\u001b[49m\u001b[43m \u001b[49m\u001b[43mfieldType\u001b[49m\u001b[38;5;241;43m=\u001b[39;49m\u001b[38;5;124;43m\"\u001b[39;49m\u001b[38;5;124;43mF\u001b[39;49m\u001b[38;5;124;43m\"\u001b[39;49m\u001b[43m,\u001b[49m\u001b[43m \u001b[49m\u001b[43msize\u001b[49m\u001b[38;5;241;43m=\u001b[39;49m\u001b[38;5;241;43m19\u001b[39;49m\u001b[43m,\u001b[49m\u001b[43m \u001b[49m\u001b[43mdecimal\u001b[49m\u001b[38;5;241;43m=\u001b[39;49m\u001b[38;5;241;43m11\u001b[39;49m\u001b[43m)\u001b[49m\n\u001b[1;32m   1304\u001b[0m \u001b[38;5;28;01melif\u001b[39;00m (\n\u001b[1;32m   1305\u001b[0m     \u001b[38;5;28misinstance\u001b[39m(df[c]\u001b[38;5;241m.\u001b[39mloc[idx], (datetime\u001b[38;5;241m.\u001b[39mdatetime, np\u001b[38;5;241m.\u001b[39mdatetime64))\n\u001b[1;32m   1306\u001b[0m     \u001b[38;5;129;01mor\u001b[39;00m df[c]\u001b[38;5;241m.\u001b[39mdtype\u001b[38;5;241m.\u001b[39mname \u001b[38;5;241m==\u001b[39m \u001b[38;5;124m\"\u001b[39m\u001b[38;5;124mdatetime64[ns]\u001b[39m\u001b[38;5;124m\"\u001b[39m\n\u001b[1;32m   1307\u001b[0m ):\n\u001b[1;32m   1308\u001b[0m     shpfile\u001b[38;5;241m.\u001b[39mfield(name\u001b[38;5;241m=\u001b[39mc, fieldType\u001b[38;5;241m=\u001b[39m\u001b[38;5;124m\"\u001b[39m\u001b[38;5;124mD\u001b[39m\u001b[38;5;124m\"\u001b[39m, size\u001b[38;5;241m=\u001b[39m\u001b[38;5;241m8\u001b[39m)\n",
      "File \u001b[0;32m~/Documents/DSE/DSE260-Capstone-Project/capstone/venv3.9/lib/python3.9/site-packages/shapefile.py:2546\u001b[0m, in \u001b[0;36mWriter.field\u001b[0;34m(self, name, fieldType, size, decimal)\u001b[0m\n\u001b[1;32m   2544\u001b[0m     decimal \u001b[38;5;241m=\u001b[39m \u001b[38;5;241m0\u001b[39m\n\u001b[1;32m   2545\u001b[0m \u001b[38;5;28;01mif\u001b[39;00m \u001b[38;5;28mlen\u001b[39m(\u001b[38;5;28mself\u001b[39m\u001b[38;5;241m.\u001b[39mfields) \u001b[38;5;241m>\u001b[39m\u001b[38;5;241m=\u001b[39m \u001b[38;5;241m2046\u001b[39m:\n\u001b[0;32m-> 2546\u001b[0m     \u001b[38;5;28;01mraise\u001b[39;00m ShapefileException(\n\u001b[1;32m   2547\u001b[0m         \u001b[38;5;124m\"\u001b[39m\u001b[38;5;124mShapefile Writer reached maximum number of fields: 2046.\u001b[39m\u001b[38;5;124m\"\u001b[39m)\n\u001b[1;32m   2548\u001b[0m \u001b[38;5;28mself\u001b[39m\u001b[38;5;241m.\u001b[39mfields\u001b[38;5;241m.\u001b[39mappend((name, fieldType, size, decimal))\n",
      "\u001b[0;31mShapefileException\u001b[0m: Shapefile Writer reached maximum number of fields: 2046."
     ]
    }
   ],
   "source": [
    "%%time\n",
    "# Convert back from a SEDF into a feature layer, and publishing on AGOL\n",
    "san_diego_block_groups_enriched_fl = san_diego_block_groups_enriched_df_cleaned.spatial.to_featurelayer(title=\"San Diego Block Groups Enriched V1\", \n",
    "                                                         gis=gis, \n",
    "                                                         folder='nourish_gis',\n",
    "                                                         tags=['SanDiegoCountyBlockGroups','ConsumerSpending','businesses','MarketPotential','Demographics'])\n"
   ]
  },
  {
   "cell_type": "markdown",
   "id": "5b023c74-1259-4377-870e-6b393ff66ebd",
   "metadata": {},
   "source": [
    "Limit on number of columns on feature layer: `Shapefile Writer reached maximum number of fields: 2046`"
   ]
  },
  {
   "cell_type": "code",
   "execution_count": null,
   "id": "d46e50bd-0b8d-482d-99ca-ca508a9e827d",
   "metadata": {},
   "outputs": [],
   "source": []
  }
 ],
 "metadata": {
  "kernelspec": {
   "display_name": "Python 3 (ipykernel)",
   "language": "python",
   "name": "python3"
  },
  "language_info": {
   "codemirror_mode": {
    "name": "ipython",
    "version": 3
   },
   "file_extension": ".py",
   "mimetype": "text/x-python",
   "name": "python",
   "nbconvert_exporter": "python",
   "pygments_lexer": "ipython3",
   "version": "3.9.16"
  }
 },
 "nbformat": 4,
 "nbformat_minor": 5
}
