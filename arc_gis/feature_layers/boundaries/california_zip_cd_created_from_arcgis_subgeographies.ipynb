{
 "cells": [
  {
   "cell_type": "markdown",
   "id": "e697a221-530e-4b13-946e-ccd10b3a93ea",
   "metadata": {},
   "source": [
    "### Motivation\n",
    "* Since we do not have any available feature layer to utilize for Zip codes. We will try to create our own layer after picking the subgeographies from arcgis.\n",
    "* Unfortunately we are only receiving 1000 zip5 for california, not sure if there is any limitation on number of subgeographies we could extract from arcgis"
   ]
  },
  {
   "cell_type": "code",
   "execution_count": 1,
   "id": "38fb7b3b-3d70-49d6-8527-6bf543655062",
   "metadata": {},
   "outputs": [],
   "source": [
    "from arcgis.gis import GIS\n",
    "from arcgis.features import FeatureLayerCollection, FeatureLayer, FeatureSet\n",
    "from arcgis.geoenrichment import enrich, Country\n",
    "from feature_layer_utils import get_enrichment_variables\n",
    "import itertools\n",
    "import sys\n",
    "sys.path.append('../')\n",
    "from utils import get_config"
   ]
  },
  {
   "cell_type": "code",
   "execution_count": 2,
   "id": "846cf77a-e2e8-409c-be0c-99784f0d5b90",
   "metadata": {},
   "outputs": [
    {
     "name": "stdout",
     "output_type": "stream",
     "text": [
      "<configparser.ConfigParser object at 0x108a0f7f0>\n",
      "Please sign in to your GIS and paste the code that is obtained below.\n",
      "If a web browser does not automatically open, please navigate to the URL below yourself instead.\n",
      "Opening web browser to navigate to: https://ucsdonline.maps.arcgis.com/sharing/rest/oauth2/authorize?response_type=code&client_id=Elm5V3upnnV17Q3r&redirect_uri=urn%3Aietf%3Awg%3Aoauth%3A2.0%3Aoob&state=18c3ezbC4CiHMPkIMgyaaLAaHG6UtA&allow_verification=false\n"
     ]
    },
    {
     "name": "stdin",
     "output_type": "stream",
     "text": [
      "Enter code obtained on signing in using SAML:  ········\n"
     ]
    },
    {
     "name": "stderr",
     "output_type": "stream",
     "text": [
      "/Users/amolkale/Documents/DSE/DSE260-Capstone-Project/capstone/venv3.9/lib/python3.9/site-packages/urllib3/connectionpool.py:1045: InsecureRequestWarning: Unverified HTTPS request is being made to host 'ucsdonline.maps.arcgis.com'. Adding certificate verification is strongly advised. See: https://urllib3.readthedocs.io/en/1.26.x/advanced-usage.html#ssl-warnings\n",
      "  warnings.warn(\n"
     ]
    }
   ],
   "source": [
    "app_id = get_config(\"arcgis\",\"clientid\")\n",
    "gis = GIS(\"https://ucsdonline.maps.arcgis.com/home\", client_id=app_id)"
   ]
  },
  {
   "cell_type": "code",
   "execution_count": 3,
   "id": "d46e50bd-0b8d-482d-99ca-ca508a9e827d",
   "metadata": {},
   "outputs": [],
   "source": [
    "usa = Country.get('US')"
   ]
  },
  {
   "cell_type": "code",
   "execution_count": 4,
   "id": "d9ecf211-0e54-4382-8dc4-4a20cef8c709",
   "metadata": {},
   "outputs": [],
   "source": [
    "zips = usa.subgeographies.states['California'].zip5"
   ]
  },
  {
   "cell_type": "code",
   "execution_count": 5,
   "id": "aa66400f-2057-4f62-84ad-5cac118b44e1",
   "metadata": {},
   "outputs": [
    {
     "name": "stdout",
     "output_type": "stream",
     "text": [
      "Total Zip codes in California: 1000\n"
     ]
    }
   ],
   "source": [
    "print(f\"Total Zip codes in California: {len(zips)}\")"
   ]
  },
  {
   "cell_type": "code",
   "execution_count": 6,
   "id": "bd5f80c7-9e89-483d-a8e3-b9564c4aae15",
   "metadata": {},
   "outputs": [
    {
     "data": {
      "text/plain": [
       "arcgis.geoenrichment.enrichment.NamedArea"
      ]
     },
     "execution_count": 6,
     "metadata": {},
     "output_type": "execute_result"
    }
   ],
   "source": [
    "type(list(zips.values())[0])"
   ]
  },
  {
   "cell_type": "code",
   "execution_count": 7,
   "id": "89e66e0f-93e9-49e0-8644-fb2d5d507ac4",
   "metadata": {},
   "outputs": [],
   "source": [
    "test_zip =list(zips.values())[0]"
   ]
  },
  {
   "cell_type": "code",
   "execution_count": 8,
   "id": "d4e1d617-045c-4b9b-969f-9cd707688f74",
   "metadata": {},
   "outputs": [
    {
     "data": {
      "text/plain": [
       "{'wkid': 4326, 'latestWkid': 4326}"
      ]
     },
     "execution_count": 8,
     "metadata": {},
     "output_type": "execute_result"
    }
   ],
   "source": [
    "test_zip.geometry.spatial_reference"
   ]
  },
  {
   "cell_type": "code",
   "execution_count": 9,
   "id": "2c895002-c744-4490-9468-ebbc0c417a76",
   "metadata": {},
   "outputs": [],
   "source": [
    "named_areas_list =  list(zips.values())"
   ]
  },
  {
   "cell_type": "markdown",
   "id": "07bbd84e-019d-4b38-ad53-df617c18371f",
   "metadata": {},
   "source": [
    "`named_area.__studyarea__['ids'][0]` gives us the zip code AKA calling __studyarea__ function on NamedArea object."
   ]
  },
  {
   "cell_type": "code",
   "execution_count": 10,
   "id": "73fb79f9-6545-449e-b284-792b39cc4127",
   "metadata": {},
   "outputs": [],
   "source": [
    "features = []\n",
    "for named_area in named_areas_list:\n",
    "    features.append({\"attributes\": {'state_fips':'06','state_abbr':'CA','zip_code':named_area.__studyarea__['ids'][0]}\n",
    "                    ,\"geometry\": named_area.geometry})"
   ]
  },
  {
   "cell_type": "code",
   "execution_count": 11,
   "id": "19fc8ce1-f10d-4547-9f3c-865e369d100d",
   "metadata": {},
   "outputs": [],
   "source": [
    "feature_set = FeatureSet(features=features,\n",
    "           geometry_type=\"Polygon\",\n",
    "           spatial_reference={'wkid': 4326, 'latestWkid': 4326},\n",
    "           )"
   ]
  },
  {
   "cell_type": "code",
   "execution_count": 12,
   "id": "6142c3da-f80c-4b74-a7b0-fc27c774eec5",
   "metadata": {},
   "outputs": [
    {
     "name": "stdout",
     "output_type": "stream",
     "text": [
      "Shape: (1000, 5)\n"
     ]
    },
    {
     "data": {
      "text/html": [
       "<div>\n",
       "<style scoped>\n",
       "    .dataframe tbody tr th:only-of-type {\n",
       "        vertical-align: middle;\n",
       "    }\n",
       "\n",
       "    .dataframe tbody tr th {\n",
       "        vertical-align: top;\n",
       "    }\n",
       "\n",
       "    .dataframe thead th {\n",
       "        text-align: right;\n",
       "    }\n",
       "</style>\n",
       "<table border=\"1\" class=\"dataframe\">\n",
       "  <thead>\n",
       "    <tr style=\"text-align: right;\">\n",
       "      <th></th>\n",
       "      <th>state_fips</th>\n",
       "      <th>state_abbr</th>\n",
       "      <th>zip_code</th>\n",
       "      <th>OBJECTID</th>\n",
       "      <th>SHAPE</th>\n",
       "    </tr>\n",
       "  </thead>\n",
       "  <tbody>\n",
       "    <tr>\n",
       "      <th>0</th>\n",
       "      <td>06</td>\n",
       "      <td>CA</td>\n",
       "      <td>90001</td>\n",
       "      <td>1</td>\n",
       "      <td>{\"rings\": [[[-118.24328988033204, 33.989010029...</td>\n",
       "    </tr>\n",
       "    <tr>\n",
       "      <th>1</th>\n",
       "      <td>06</td>\n",
       "      <td>CA</td>\n",
       "      <td>90002</td>\n",
       "      <td>2</td>\n",
       "      <td>{\"rings\": [[[-118.23113987955173, 33.959050019...</td>\n",
       "    </tr>\n",
       "    <tr>\n",
       "      <th>2</th>\n",
       "      <td>06</td>\n",
       "      <td>CA</td>\n",
       "      <td>90003</td>\n",
       "      <td>3</td>\n",
       "      <td>{\"rings\": [[[-118.26406584044037, 33.988588649...</td>\n",
       "    </tr>\n",
       "    <tr>\n",
       "      <th>3</th>\n",
       "      <td>06</td>\n",
       "      <td>CA</td>\n",
       "      <td>90004</td>\n",
       "      <td>4</td>\n",
       "      <td>{\"rings\": [[[-118.28405987997593, 34.083080009...</td>\n",
       "    </tr>\n",
       "  </tbody>\n",
       "</table>\n",
       "</div>"
      ],
      "text/plain": [
       "  state_fips state_abbr zip_code  OBJECTID  \\\n",
       "0         06         CA    90001         1   \n",
       "1         06         CA    90002         2   \n",
       "2         06         CA    90003         3   \n",
       "3         06         CA    90004         4   \n",
       "\n",
       "                                               SHAPE  \n",
       "0  {\"rings\": [[[-118.24328988033204, 33.989010029...  \n",
       "1  {\"rings\": [[[-118.23113987955173, 33.959050019...  \n",
       "2  {\"rings\": [[[-118.26406584044037, 33.988588649...  \n",
       "3  {\"rings\": [[[-118.28405987997593, 34.083080009...  "
      ]
     },
     "execution_count": 12,
     "metadata": {},
     "output_type": "execute_result"
    }
   ],
   "source": [
    "zips_sdf = feature_set.sdf\n",
    "print(f\"Shape: {zips_sdf.shape}\")\n",
    "zips_sdf.head(4)"
   ]
  },
  {
   "cell_type": "code",
   "execution_count": 14,
   "id": "f4b47de0-b843-48e9-a3bf-b8969eb8998e",
   "metadata": {},
   "outputs": [
    {
     "data": {
      "text/html": [
       "<div class=\"item_container\" style=\"height: auto; overflow: hidden; border: 1px solid #cfcfcf; border-radius: 2px; background: #f6fafa; line-height: 1.21429em; padding: 10px;\">\n",
       "                    <div class=\"item_left\" style=\"width: 210px; float: left;\">\n",
       "                       <a href='https://UCSDOnline.maps.arcgis.com/home/item.html?id=2087681f2c7b4de3b2c135b13fff03d8' target='_blank'>\n",
       "                        <img src='http://static.arcgis.com/images/desktopapp.png' class=\"itemThumbnail\">\n",
       "                       </a>\n",
       "                    </div>\n",
       "\n",
       "                    <div class=\"item_right\"     style=\"float: none; width: auto; overflow: hidden;\">\n",
       "                        <a href='https://UCSDOnline.maps.arcgis.com/home/item.html?id=2087681f2c7b4de3b2c135b13fff03d8' target='_blank'><b>California Zip Codes 1.0</b>\n",
       "                        </a>\n",
       "                        <br/><img src='https://UCSDOnline.maps.arcgis.com/home/js/jsapi/esri/css/images/item_type_icons/featureshosted16.png' style=\"vertical-align:middle;\">Feature Layer Collection by akale_UCSDOnline\n",
       "                        <br/>Last Modified: March 31, 2023\n",
       "                        <br/>0 comments, 0 views\n",
       "                    </div>\n",
       "                </div>\n",
       "                "
      ],
      "text/plain": [
       "<Item title:\"California Zip Codes 1.0\" type:Feature Layer Collection owner:akale_UCSDOnline>"
      ]
     },
     "execution_count": 14,
     "metadata": {},
     "output_type": "execute_result"
    }
   ],
   "source": [
    "california_zip_code_fl = zips_sdf.spatial.to_featurelayer(title='California Zip Codes 1.0',\n",
    "                                                        gis=gis,\n",
    "                                                        folder='nourish_gis',\n",
    "                                                        tags=['California','ZipCode'],\n",
    "                                                        service_name='California Zip Codes 1.0'\n",
    "                                                    )\n",
    "california_zip_code_fl"
   ]
  },
  {
   "cell_type": "code",
   "execution_count": null,
   "id": "a056d9b5-0d24-4422-acaf-0ae7b7b2cc43",
   "metadata": {},
   "outputs": [],
   "source": []
  }
 ],
 "metadata": {
  "kernelspec": {
   "display_name": "Python 3 (ipykernel)",
   "language": "python",
   "name": "python3"
  },
  "language_info": {
   "codemirror_mode": {
    "name": "ipython",
    "version": 3
   },
   "file_extension": ".py",
   "mimetype": "text/x-python",
   "name": "python",
   "nbconvert_exporter": "python",
   "pygments_lexer": "ipython3",
   "version": "3.9.16"
  }
 },
 "nbformat": 4,
 "nbformat_minor": 5
}
