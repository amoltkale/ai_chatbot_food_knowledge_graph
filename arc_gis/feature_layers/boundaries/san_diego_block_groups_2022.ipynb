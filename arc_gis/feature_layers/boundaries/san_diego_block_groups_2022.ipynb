{
 "cells": [
  {
   "cell_type": "markdown",
   "id": "e697a221-530e-4b13-946e-ccd10b3a93ea",
   "metadata": {},
   "source": [
    "### Motivation\n",
    "* This notebook is to create a trusted San Diego County and Imperial County block groups on a feature layer\n",
    "We will try to see if we can use the existing feature layer created from Esri :  \n",
    "Feature Layer: https://services.arcgis.com/P3ePLMYs2RVChkJx/arcgis/rest/services/USA_Census_BlockGroups/FeatureServer  \n",
    "Feature Layer Details: https://esri.maps.arcgis.com/home/item.html?id=2f5e592494d243b0aa5c253e75e792a4\n",
    "* Using this layer, we would pick San Diego County and Imperial County FIPS data  \n",
    "* Enrich the Dataframe with consumer spending and other variables"
   ]
  },
  {
   "cell_type": "code",
   "execution_count": 2,
   "id": "38fb7b3b-3d70-49d6-8527-6bf543655062",
   "metadata": {},
   "outputs": [],
   "source": [
    "from arcgis.gis import GIS\n",
    "from arcgis.features import FeatureLayerCollection, FeatureLayer\n",
    "from arcgis.geoenrichment import enrich, Country\n",
    "from feature_layer_utils import get_enrichment_variables\n",
    "import itertools\n",
    "import sys\n",
    "sys.path.append('../')\n",
    "from utils import get_config"
   ]
  },
  {
   "cell_type": "code",
   "execution_count": 3,
   "id": "846cf77a-e2e8-409c-be0c-99784f0d5b90",
   "metadata": {},
   "outputs": [
    {
     "name": "stdout",
     "output_type": "stream",
     "text": [
      "<configparser.ConfigParser object at 0x10375a700>\n",
      "Please sign in to your GIS and paste the code that is obtained below.\n",
      "If a web browser does not automatically open, please navigate to the URL below yourself instead.\n",
      "Opening web browser to navigate to: https://ucsdonline.maps.arcgis.com/sharing/rest/oauth2/authorize?response_type=code&client_id=Elm5V3upnnV17Q3r&redirect_uri=urn%3Aietf%3Awg%3Aoauth%3A2.0%3Aoob&state=FZOZm78VxzOUhyfdo0OE9BwnfSbBHL&allow_verification=false\n"
     ]
    },
    {
     "name": "stdin",
     "output_type": "stream",
     "text": [
      "Enter code obtained on signing in using SAML:  ········\n"
     ]
    },
    {
     "name": "stderr",
     "output_type": "stream",
     "text": [
      "/Users/amolkale/Documents/DSE/DSE260-Capstone-Project/capstone/venv3.9/lib/python3.9/site-packages/urllib3/connectionpool.py:1045: InsecureRequestWarning: Unverified HTTPS request is being made to host 'ucsdonline.maps.arcgis.com'. Adding certificate verification is strongly advised. See: https://urllib3.readthedocs.io/en/1.26.x/advanced-usage.html#ssl-warnings\n",
      "  warnings.warn(\n"
     ]
    }
   ],
   "source": [
    "app_id = get_config(\"arcgis\",\"clientid\")\n",
    "gis = GIS(\"https://ucsdonline.maps.arcgis.com/home\", client_id=app_id)"
   ]
  },
  {
   "cell_type": "markdown",
   "id": "13ede984-035a-4b03-8566-bf6084412b68",
   "metadata": {},
   "source": [
    "#### Selecting only San Diego and Imperial County block groups from US block groups"
   ]
  },
  {
   "cell_type": "code",
   "execution_count": 4,
   "id": "6feee856-309e-4cbd-bd92-1596be70ad30",
   "metadata": {},
   "outputs": [],
   "source": [
    "fls = \"https://services.arcgis.com/P3ePLMYs2RVChkJx/arcgis/rest/services/USA_Census_BlockGroups/FeatureServer\""
   ]
  },
  {
   "cell_type": "code",
   "execution_count": 5,
   "id": "2401b5ba-ca5a-4d24-886a-82439ee98b02",
   "metadata": {},
   "outputs": [],
   "source": [
    "flc = FeatureLayerCollection(fls)"
   ]
  },
  {
   "cell_type": "code",
   "execution_count": 6,
   "id": "f0169edd-1ae3-4716-801d-5abfc0abbc83",
   "metadata": {},
   "outputs": [],
   "source": [
    "fl_url = flc.layers[0].url"
   ]
  },
  {
   "cell_type": "code",
   "execution_count": 7,
   "id": "7018177b-ac3f-4528-87a9-f263e03cfc87",
   "metadata": {},
   "outputs": [],
   "source": [
    "us_block_grp_fl = FeatureLayer(fl_url)"
   ]
  },
  {
   "cell_type": "markdown",
   "id": "dcfd48c2-e870-4506-a958-33e5592c59b1",
   "metadata": {},
   "source": [
    "Selecting FIPS=`073` which is for San Diego County as our data and Imperial county FIPS=`025`"
   ]
  },
  {
   "cell_type": "code",
   "execution_count": 8,
   "id": "cdc59246-f0cd-478e-9886-78f3905c81b7",
   "metadata": {},
   "outputs": [],
   "source": [
    "san_diego_county_fip = '073'\n",
    "imperial_county_fip = '025'"
   ]
  },
  {
   "cell_type": "code",
   "execution_count": 11,
   "id": "a7ef1467-4a6c-4b36-b2d4-257ae2b4d351",
   "metadata": {},
   "outputs": [],
   "source": [
    "san_diego_imperial_county_block_grp_fs = us_block_grp_fl.query(\n",
    "    where=f\"STATE_FIPS='06' AND (COUNTY_FIPS='{san_diego_county_fip}' OR COUNTY_FIPS='{imperial_county_fip}')\"\n",
    ")"
   ]
  },
  {
   "cell_type": "code",
   "execution_count": 12,
   "id": "b98383eb-d805-4a42-93c3-85dbfa255d2a",
   "metadata": {},
   "outputs": [
    {
     "name": "stdout",
     "output_type": "stream",
     "text": [
      "Shape: (2171, 14)\n"
     ]
    },
    {
     "data": {
      "text/html": [
       "<div>\n",
       "<style scoped>\n",
       "    .dataframe tbody tr th:only-of-type {\n",
       "        vertical-align: middle;\n",
       "    }\n",
       "\n",
       "    .dataframe tbody tr th {\n",
       "        vertical-align: top;\n",
       "    }\n",
       "\n",
       "    .dataframe thead th {\n",
       "        text-align: right;\n",
       "    }\n",
       "</style>\n",
       "<table border=\"1\" class=\"dataframe\">\n",
       "  <thead>\n",
       "    <tr style=\"text-align: right;\">\n",
       "      <th></th>\n",
       "      <th>OBJECTID</th>\n",
       "      <th>STATE_ABBR</th>\n",
       "      <th>STATE_FIPS</th>\n",
       "      <th>COUNTY_FIPS</th>\n",
       "      <th>STCOFIPS</th>\n",
       "      <th>TRACT_FIPS</th>\n",
       "      <th>BLOCKGROUP_FIPS</th>\n",
       "      <th>FIPS</th>\n",
       "      <th>POPULATION</th>\n",
       "      <th>POP_SQMI</th>\n",
       "      <th>SQMI</th>\n",
       "      <th>Shape__Area</th>\n",
       "      <th>Shape__Length</th>\n",
       "      <th>SHAPE</th>\n",
       "    </tr>\n",
       "  </thead>\n",
       "  <tbody>\n",
       "    <tr>\n",
       "      <th>0</th>\n",
       "      <td>14491</td>\n",
       "      <td>CA</td>\n",
       "      <td>06</td>\n",
       "      <td>025</td>\n",
       "      <td>06025</td>\n",
       "      <td>010101</td>\n",
       "      <td>1</td>\n",
       "      <td>060250101011</td>\n",
       "      <td>3499</td>\n",
       "      <td>23.8</td>\n",
       "      <td>146.77</td>\n",
       "      <td>0.036755</td>\n",
       "      <td>1.165018</td>\n",
       "      <td>{\"rings\": [[[-115.452063638766, 33.25680691500...</td>\n",
       "    </tr>\n",
       "    <tr>\n",
       "      <th>1</th>\n",
       "      <td>14492</td>\n",
       "      <td>CA</td>\n",
       "      <td>06</td>\n",
       "      <td>025</td>\n",
       "      <td>06025</td>\n",
       "      <td>010102</td>\n",
       "      <td>1</td>\n",
       "      <td>060250101021</td>\n",
       "      <td>1128</td>\n",
       "      <td>7.0</td>\n",
       "      <td>161.66</td>\n",
       "      <td>0.040486</td>\n",
       "      <td>0.957515</td>\n",
       "      <td>{\"rings\": [[[-115.519519650705, 33.24369790988...</td>\n",
       "    </tr>\n",
       "    <tr>\n",
       "      <th>2</th>\n",
       "      <td>14493</td>\n",
       "      <td>CA</td>\n",
       "      <td>06</td>\n",
       "      <td>025</td>\n",
       "      <td>06025</td>\n",
       "      <td>010102</td>\n",
       "      <td>2</td>\n",
       "      <td>060250101022</td>\n",
       "      <td>1228</td>\n",
       "      <td>1980.6</td>\n",
       "      <td>0.62</td>\n",
       "      <td>0.000155</td>\n",
       "      <td>0.064301</td>\n",
       "      <td>{\"rings\": [[[-115.501922638842, 33.13298389730...</td>\n",
       "    </tr>\n",
       "    <tr>\n",
       "      <th>3</th>\n",
       "      <td>14494</td>\n",
       "      <td>CA</td>\n",
       "      <td>06</td>\n",
       "      <td>025</td>\n",
       "      <td>06025</td>\n",
       "      <td>010102</td>\n",
       "      <td>3</td>\n",
       "      <td>060250101023</td>\n",
       "      <td>1534</td>\n",
       "      <td>3652.4</td>\n",
       "      <td>0.42</td>\n",
       "      <td>0.000104</td>\n",
       "      <td>0.041999</td>\n",
       "      <td>{\"rings\": [[[-115.519082641878, 33.12576989492...</td>\n",
       "    </tr>\n",
       "  </tbody>\n",
       "</table>\n",
       "</div>"
      ],
      "text/plain": [
       "   OBJECTID STATE_ABBR STATE_FIPS COUNTY_FIPS STCOFIPS TRACT_FIPS  \\\n",
       "0     14491         CA         06         025    06025     010101   \n",
       "1     14492         CA         06         025    06025     010102   \n",
       "2     14493         CA         06         025    06025     010102   \n",
       "3     14494         CA         06         025    06025     010102   \n",
       "\n",
       "  BLOCKGROUP_FIPS          FIPS  POPULATION  POP_SQMI    SQMI  Shape__Area  \\\n",
       "0               1  060250101011        3499      23.8  146.77     0.036755   \n",
       "1               1  060250101021        1128       7.0  161.66     0.040486   \n",
       "2               2  060250101022        1228    1980.6    0.62     0.000155   \n",
       "3               3  060250101023        1534    3652.4    0.42     0.000104   \n",
       "\n",
       "   Shape__Length                                              SHAPE  \n",
       "0       1.165018  {\"rings\": [[[-115.452063638766, 33.25680691500...  \n",
       "1       0.957515  {\"rings\": [[[-115.519519650705, 33.24369790988...  \n",
       "2       0.064301  {\"rings\": [[[-115.501922638842, 33.13298389730...  \n",
       "3       0.041999  {\"rings\": [[[-115.519082641878, 33.12576989492...  "
      ]
     },
     "execution_count": 12,
     "metadata": {},
     "output_type": "execute_result"
    }
   ],
   "source": [
    "san_diego_imperial_county_block_grp_fs_sdf = san_diego_imperial_county_block_grp_fs.sdf\n",
    "print(f\"Shape: {san_diego_imperial_county_block_grp_fs_sdf.shape}\")\n",
    "san_diego_imperial_county_block_grp_fs_sdf.head(4)"
   ]
  },
  {
   "cell_type": "markdown",
   "id": "562b2e87-b217-47dd-8a50-8d6b5dcc18ef",
   "metadata": {},
   "source": [
    "For enrichment, we can provide the feature set or the spatially enabled df.\n",
    "Let us just pass down the sdf since we have visualized it already."
   ]
  },
  {
   "cell_type": "code",
   "execution_count": 14,
   "id": "2ff2aec6-be7b-44d4-af94-5569b14b0365",
   "metadata": {},
   "outputs": [
    {
     "data": {
      "text/html": [
       "<div class=\"item_container\" style=\"height: auto; overflow: hidden; border: 1px solid #cfcfcf; border-radius: 2px; background: #f6fafa; line-height: 1.21429em; padding: 10px;\">\n",
       "                    <div class=\"item_left\" style=\"width: 210px; float: left;\">\n",
       "                       <a href='https://UCSDOnline.maps.arcgis.com/home/item.html?id=e534bc3cf52a49c3b6f2b75321ac38ac' target='_blank'>\n",
       "                        <img src='http://static.arcgis.com/images/desktopapp.png' class=\"itemThumbnail\">\n",
       "                       </a>\n",
       "                    </div>\n",
       "\n",
       "                    <div class=\"item_right\"     style=\"float: none; width: auto; overflow: hidden;\">\n",
       "                        <a href='https://UCSDOnline.maps.arcgis.com/home/item.html?id=e534bc3cf52a49c3b6f2b75321ac38ac' target='_blank'><b>San Diego and Imperial County Block Groups</b>\n",
       "                        </a>\n",
       "                        <br/><img src='https://UCSDOnline.maps.arcgis.com/home/js/jsapi/esri/css/images/item_type_icons/featureshosted16.png' style=\"vertical-align:middle;\">Feature Layer Collection by akale_UCSDOnline\n",
       "                        <br/>Last Modified: March 31, 2023\n",
       "                        <br/>0 comments, 0 views\n",
       "                    </div>\n",
       "                </div>\n",
       "                "
      ],
      "text/plain": [
       "<Item title:\"San Diego and Imperial County Block Groups\" type:Feature Layer Collection owner:akale_UCSDOnline>"
      ]
     },
     "execution_count": 14,
     "metadata": {},
     "output_type": "execute_result"
    }
   ],
   "source": [
    "san_diego_imperial_block_groups_fl = san_diego_imperial_county_block_grp_fs_sdf.spatial.to_featurelayer(title='San Diego and Imperial County Block Groups',\n",
    "                                                                                                     gis=gis,\n",
    "                                                                                                     folder='nourish_gis',\n",
    "                                                                                                     tags=['SanDiego','Imperial','BlockGroups','County'],\n",
    "                                                                                                     service_name='San Diego and Imperial County Block Groups'\n",
    "                                                                                                    )\n",
    "san_diego_imperial_block_groups_fl"
   ]
  },
  {
   "cell_type": "code",
   "execution_count": null,
   "id": "18420d9c-a51e-4697-8862-a9341aede12b",
   "metadata": {},
   "outputs": [],
   "source": []
  }
 ],
 "metadata": {
  "kernelspec": {
   "display_name": "Python 3 (ipykernel)",
   "language": "python",
   "name": "python3"
  },
  "language_info": {
   "codemirror_mode": {
    "name": "ipython",
    "version": 3
   },
   "file_extension": ".py",
   "mimetype": "text/x-python",
   "name": "python",
   "nbconvert_exporter": "python",
   "pygments_lexer": "ipython3",
   "version": "3.9.16"
  }
 },
 "nbformat": 4,
 "nbformat_minor": 5
}
