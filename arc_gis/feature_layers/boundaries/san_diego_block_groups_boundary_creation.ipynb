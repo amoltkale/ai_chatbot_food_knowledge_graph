{
 "cells": [
  {
   "cell_type": "code",
   "execution_count": 18,
   "id": "0162c5dd",
   "metadata": {},
   "outputs": [],
   "source": [
    "import arcgis\n",
    "from arcgis.gis import GIS\n",
    "from arcgis.geoenrichment import *\n",
    "from arcgis.features import FeatureLayer, FeatureLayerCollection, GeoAccessor\n",
    "import pandas as pd\n",
    "import sys\n",
    "sys.path.append('../../')\n",
    "from utils import get_config, format_json\n",
    "from feature_layer_utils import get_enrichment_variables, create_feature_layer\n",
    "from arcgis.features.geo._array import GeoArray\n",
    "from arcgis.geometry  import Geometry\n",
    "import json"
   ]
  },
  {
   "cell_type": "code",
   "execution_count": 2,
   "id": "7a41aa24",
   "metadata": {},
   "outputs": [
    {
     "name": "stdout",
     "output_type": "stream",
     "text": [
      "<configparser.ConfigParser object at 0x1282d6c10>\n",
      "<configparser.ConfigParser object at 0x1035fc8e0>\n"
     ]
    }
   ],
   "source": [
    "username = get_config(\"arcgis\",\"username\")\n",
    "password = get_config(\"arcgis\",\"passkey\")"
   ]
  },
  {
   "cell_type": "code",
   "execution_count": 20,
   "id": "974d1616",
   "metadata": {},
   "outputs": [],
   "source": [
    "gis = GIS(\"https://ucsdonline.maps.arcgis.com/home\", username=username, password=password)\n",
    "#gis = GIS(\"https://ucsdonline.maps.arcgis.com/home\", client_id=get_config(\"arcgis\",\"clientid\"))"
   ]
  },
  {
   "cell_type": "code",
   "execution_count": 4,
   "id": "b38c6570",
   "metadata": {},
   "outputs": [
    {
     "name": "stdout",
     "output_type": "stream",
     "text": [
      "Shape: (2057, 4241)\n"
     ]
    },
    {
     "data": {
      "text/html": [
       "<div>\n",
       "<style scoped>\n",
       "    .dataframe tbody tr th:only-of-type {\n",
       "        vertical-align: middle;\n",
       "    }\n",
       "\n",
       "    .dataframe tbody tr th {\n",
       "        vertical-align: top;\n",
       "    }\n",
       "\n",
       "    .dataframe thead th {\n",
       "        text-align: right;\n",
       "    }\n",
       "</style>\n",
       "<table border=\"1\" class=\"dataframe\">\n",
       "  <thead>\n",
       "    <tr style=\"text-align: right;\">\n",
       "      <th></th>\n",
       "      <th>objectid</th>\n",
       "      <th>state_abbr</th>\n",
       "      <th>state_fips</th>\n",
       "      <th>county_fips</th>\n",
       "      <th>stcofips</th>\n",
       "      <th>tract_fips</th>\n",
       "      <th>blockgroup_fips</th>\n",
       "      <th>fips</th>\n",
       "      <th>pop_sqmi</th>\n",
       "      <th>sqmi</th>\n",
       "      <th>...</th>\n",
       "      <th>x1130fy_a</th>\n",
       "      <th>x1130fy_i</th>\n",
       "      <th>x1002fy_x</th>\n",
       "      <th>x1002fy_a</th>\n",
       "      <th>x1002fy_i</th>\n",
       "      <th>x1003fy_x</th>\n",
       "      <th>x1003fy_a</th>\n",
       "      <th>x1003fy_i</th>\n",
       "      <th>SHAPE</th>\n",
       "      <th>totpop_cy</th>\n",
       "    </tr>\n",
       "  </thead>\n",
       "  <tbody>\n",
       "    <tr>\n",
       "      <th>0</th>\n",
       "      <td>29002</td>\n",
       "      <td>CA</td>\n",
       "      <td>6</td>\n",
       "      <td>73</td>\n",
       "      <td>6073</td>\n",
       "      <td>100</td>\n",
       "      <td>1</td>\n",
       "      <td>60730001001</td>\n",
       "      <td>4788.0</td>\n",
       "      <td>0.25</td>\n",
       "      <td>...</td>\n",
       "      <td>11293.00</td>\n",
       "      <td>225.0</td>\n",
       "      <td>12946134.0</td>\n",
       "      <td>26693.06</td>\n",
       "      <td>218.0</td>\n",
       "      <td>7469031.0</td>\n",
       "      <td>15400.06</td>\n",
       "      <td>214.0</td>\n",
       "      <td>{'rings': [[[-117.18894090906399, 32.758807764...</td>\n",
       "      <td>1199.0</td>\n",
       "    </tr>\n",
       "    <tr>\n",
       "      <th>1</th>\n",
       "      <td>29003</td>\n",
       "      <td>CA</td>\n",
       "      <td>6</td>\n",
       "      <td>73</td>\n",
       "      <td>6073</td>\n",
       "      <td>100</td>\n",
       "      <td>2</td>\n",
       "      <td>60730001002</td>\n",
       "      <td>5032.4</td>\n",
       "      <td>0.34</td>\n",
       "      <td>...</td>\n",
       "      <td>11843.34</td>\n",
       "      <td>236.0</td>\n",
       "      <td>19996145.0</td>\n",
       "      <td>28484.54</td>\n",
       "      <td>233.0</td>\n",
       "      <td>11682118.0</td>\n",
       "      <td>16641.19</td>\n",
       "      <td>231.0</td>\n",
       "      <td>{'rings': [[[-117.18715990828298, 32.756859764...</td>\n",
       "      <td>1692.0</td>\n",
       "    </tr>\n",
       "    <tr>\n",
       "      <th>2</th>\n",
       "      <td>29004</td>\n",
       "      <td>CA</td>\n",
       "      <td>6</td>\n",
       "      <td>73</td>\n",
       "      <td>6073</td>\n",
       "      <td>201</td>\n",
       "      <td>1</td>\n",
       "      <td>60730002011</td>\n",
       "      <td>4385.0</td>\n",
       "      <td>0.20</td>\n",
       "      <td>...</td>\n",
       "      <td>7167.84</td>\n",
       "      <td>143.0</td>\n",
       "      <td>7516044.0</td>\n",
       "      <td>17120.83</td>\n",
       "      <td>140.0</td>\n",
       "      <td>4369363.0</td>\n",
       "      <td>9952.99</td>\n",
       "      <td>138.0</td>\n",
       "      <td>{'rings': [[[-117.168410904985, 32.75683776569...</td>\n",
       "      <td>902.0</td>\n",
       "    </tr>\n",
       "  </tbody>\n",
       "</table>\n",
       "<p>3 rows × 4241 columns</p>\n",
       "</div>"
      ],
      "text/plain": [
       "   objectid state_abbr  state_fips  county_fips  stcofips  tract_fips  \\\n",
       "0     29002         CA           6           73      6073         100   \n",
       "1     29003         CA           6           73      6073         100   \n",
       "2     29004         CA           6           73      6073         201   \n",
       "\n",
       "   blockgroup_fips         fips  pop_sqmi  sqmi  ... x1130fy_a x1130fy_i  \\\n",
       "0                1  60730001001    4788.0  0.25  ...  11293.00     225.0   \n",
       "1                2  60730001002    5032.4  0.34  ...  11843.34     236.0   \n",
       "2                1  60730002011    4385.0  0.20  ...   7167.84     143.0   \n",
       "\n",
       "    x1002fy_x  x1002fy_a  x1002fy_i   x1003fy_x  x1003fy_a  x1003fy_i  \\\n",
       "0  12946134.0   26693.06      218.0   7469031.0   15400.06      214.0   \n",
       "1  19996145.0   28484.54      233.0  11682118.0   16641.19      231.0   \n",
       "2   7516044.0   17120.83      140.0   4369363.0    9952.99      138.0   \n",
       "\n",
       "                                               SHAPE  totpop_cy  \n",
       "0  {'rings': [[[-117.18894090906399, 32.758807764...     1199.0  \n",
       "1  {'rings': [[[-117.18715990828298, 32.756859764...     1692.0  \n",
       "2  {'rings': [[[-117.168410904985, 32.75683776569...      902.0  \n",
       "\n",
       "[3 rows x 4241 columns]"
      ]
     },
     "execution_count": 4,
     "metadata": {},
     "output_type": "execute_result"
    }
   ],
   "source": [
    "df = pd.read_csv(\"../resources/full_enriched_san_diego_county_block_groups_cleaned.csv\")\n",
    "print(f\"Shape: {df.shape}\")\n",
    "df.head(3)"
   ]
  },
  {
   "cell_type": "code",
   "execution_count": 5,
   "id": "593dc596",
   "metadata": {},
   "outputs": [
    {
     "name": "stdout",
     "output_type": "stream",
     "text": [
      "Shape: (2057, 4241)\n"
     ]
    },
    {
     "data": {
      "text/html": [
       "<div>\n",
       "<style scoped>\n",
       "    .dataframe tbody tr th:only-of-type {\n",
       "        vertical-align: middle;\n",
       "    }\n",
       "\n",
       "    .dataframe tbody tr th {\n",
       "        vertical-align: top;\n",
       "    }\n",
       "\n",
       "    .dataframe thead th {\n",
       "        text-align: right;\n",
       "    }\n",
       "</style>\n",
       "<table border=\"1\" class=\"dataframe\">\n",
       "  <thead>\n",
       "    <tr style=\"text-align: right;\">\n",
       "      <th></th>\n",
       "      <th>objectid</th>\n",
       "      <th>state_abbr</th>\n",
       "      <th>state_fips</th>\n",
       "      <th>county_fips</th>\n",
       "      <th>stcofips</th>\n",
       "      <th>tract_fips</th>\n",
       "      <th>blockgroup_fips</th>\n",
       "      <th>fips</th>\n",
       "      <th>pop_sqmi</th>\n",
       "      <th>sqmi</th>\n",
       "      <th>...</th>\n",
       "      <th>x1130fy_a</th>\n",
       "      <th>x1130fy_i</th>\n",
       "      <th>x1002fy_x</th>\n",
       "      <th>x1002fy_a</th>\n",
       "      <th>x1002fy_i</th>\n",
       "      <th>x1003fy_x</th>\n",
       "      <th>x1003fy_a</th>\n",
       "      <th>x1003fy_i</th>\n",
       "      <th>SHAPE</th>\n",
       "      <th>totpop_cy</th>\n",
       "    </tr>\n",
       "  </thead>\n",
       "  <tbody>\n",
       "    <tr>\n",
       "      <th>0</th>\n",
       "      <td>29002</td>\n",
       "      <td>CA</td>\n",
       "      <td>6</td>\n",
       "      <td>73</td>\n",
       "      <td>6073</td>\n",
       "      <td>100</td>\n",
       "      <td>1</td>\n",
       "      <td>060730001001</td>\n",
       "      <td>4788.0</td>\n",
       "      <td>0.25</td>\n",
       "      <td>...</td>\n",
       "      <td>11293.00</td>\n",
       "      <td>225.0</td>\n",
       "      <td>12946134.0</td>\n",
       "      <td>26693.06</td>\n",
       "      <td>218.0</td>\n",
       "      <td>7469031.0</td>\n",
       "      <td>15400.06</td>\n",
       "      <td>214.0</td>\n",
       "      <td>{'rings': [[[-117.18894090906399, 32.758807764...</td>\n",
       "      <td>1199.0</td>\n",
       "    </tr>\n",
       "    <tr>\n",
       "      <th>1</th>\n",
       "      <td>29003</td>\n",
       "      <td>CA</td>\n",
       "      <td>6</td>\n",
       "      <td>73</td>\n",
       "      <td>6073</td>\n",
       "      <td>100</td>\n",
       "      <td>2</td>\n",
       "      <td>060730001002</td>\n",
       "      <td>5032.4</td>\n",
       "      <td>0.34</td>\n",
       "      <td>...</td>\n",
       "      <td>11843.34</td>\n",
       "      <td>236.0</td>\n",
       "      <td>19996145.0</td>\n",
       "      <td>28484.54</td>\n",
       "      <td>233.0</td>\n",
       "      <td>11682118.0</td>\n",
       "      <td>16641.19</td>\n",
       "      <td>231.0</td>\n",
       "      <td>{'rings': [[[-117.18715990828298, 32.756859764...</td>\n",
       "      <td>1692.0</td>\n",
       "    </tr>\n",
       "    <tr>\n",
       "      <th>2</th>\n",
       "      <td>29004</td>\n",
       "      <td>CA</td>\n",
       "      <td>6</td>\n",
       "      <td>73</td>\n",
       "      <td>6073</td>\n",
       "      <td>201</td>\n",
       "      <td>1</td>\n",
       "      <td>060730002011</td>\n",
       "      <td>4385.0</td>\n",
       "      <td>0.20</td>\n",
       "      <td>...</td>\n",
       "      <td>7167.84</td>\n",
       "      <td>143.0</td>\n",
       "      <td>7516044.0</td>\n",
       "      <td>17120.83</td>\n",
       "      <td>140.0</td>\n",
       "      <td>4369363.0</td>\n",
       "      <td>9952.99</td>\n",
       "      <td>138.0</td>\n",
       "      <td>{'rings': [[[-117.168410904985, 32.75683776569...</td>\n",
       "      <td>902.0</td>\n",
       "    </tr>\n",
       "  </tbody>\n",
       "</table>\n",
       "<p>3 rows × 4241 columns</p>\n",
       "</div>"
      ],
      "text/plain": [
       "   objectid state_abbr  state_fips  county_fips  stcofips  tract_fips  \\\n",
       "0     29002         CA           6           73      6073         100   \n",
       "1     29003         CA           6           73      6073         100   \n",
       "2     29004         CA           6           73      6073         201   \n",
       "\n",
       "   blockgroup_fips          fips  pop_sqmi  sqmi  ... x1130fy_a x1130fy_i  \\\n",
       "0                1  060730001001    4788.0  0.25  ...  11293.00     225.0   \n",
       "1                2  060730001002    5032.4  0.34  ...  11843.34     236.0   \n",
       "2                1  060730002011    4385.0  0.20  ...   7167.84     143.0   \n",
       "\n",
       "    x1002fy_x  x1002fy_a  x1002fy_i   x1003fy_x  x1003fy_a  x1003fy_i  \\\n",
       "0  12946134.0   26693.06      218.0   7469031.0   15400.06      214.0   \n",
       "1  19996145.0   28484.54      233.0  11682118.0   16641.19      231.0   \n",
       "2   7516044.0   17120.83      140.0   4369363.0    9952.99      138.0   \n",
       "\n",
       "                                               SHAPE  totpop_cy  \n",
       "0  {'rings': [[[-117.18894090906399, 32.758807764...     1199.0  \n",
       "1  {'rings': [[[-117.18715990828298, 32.756859764...     1692.0  \n",
       "2  {'rings': [[[-117.168410904985, 32.75683776569...      902.0  \n",
       "\n",
       "[3 rows x 4241 columns]"
      ]
     },
     "execution_count": 5,
     "metadata": {},
     "output_type": "execute_result"
    }
   ],
   "source": [
    "df['fips'] = df['fips'].astype(str)\n",
    "df['fips'] = '0' + df['fips']\n",
    "print(f\"Shape: {df.shape}\")\n",
    "df.head(3)"
   ]
  },
  {
   "cell_type": "code",
   "execution_count": 23,
   "id": "d40e7299",
   "metadata": {},
   "outputs": [],
   "source": [
    "significant_columns_retained = [\"state_abbr\",\"state_fips\",\"county_fips\",\"tract_fips\",\"blockgroup_fips\", \"fips\", \"SHAPE\"]\n",
    "columns_to_convert_to_string = [\"state_abbr\",\"state_fips\",\"county_fips\",\"tract_fips\",\"blockgroup_fips\", \"fips\"]"
   ]
  },
  {
   "cell_type": "code",
   "execution_count": 19,
   "id": "0580f8dd",
   "metadata": {},
   "outputs": [
    {
     "name": "stderr",
     "output_type": "stream",
     "text": [
      "/var/folders/jg/d8_zwblj5ql38q843xmy7h9r0000gp/T/ipykernel_39471/2852920013.py:2: SettingWithCopyWarning: \n",
      "A value is trying to be set on a copy of a slice from a DataFrame.\n",
      "Try using .loc[row_indexer,col_indexer] = value instead\n",
      "\n",
      "See the caveats in the documentation: https://pandas.pydata.org/pandas-docs/stable/user_guide/indexing.html#returning-a-view-versus-a-copy\n",
      "  block_grp_df[\"SHAPE\"] = GeoArray([Geometry(json.loads(format_json(x))) for x in block_grp_df['SHAPE']])\n"
     ]
    }
   ],
   "source": [
    "block_grp_df = df[significant_columns_retained]\n",
    "block_grp_df[\"SHAPE\"] = GeoArray([Geometry(json.loads(format_json(x))) for x in block_grp_df['SHAPE']])"
   ]
  },
  {
   "cell_type": "code",
   "execution_count": 24,
   "id": "5686b7e7",
   "metadata": {},
   "outputs": [
    {
     "name": "stderr",
     "output_type": "stream",
     "text": [
      "/var/folders/jg/d8_zwblj5ql38q843xmy7h9r0000gp/T/ipykernel_39471/3447990820.py:1: SettingWithCopyWarning: \n",
      "A value is trying to be set on a copy of a slice from a DataFrame.\n",
      "Try using .loc[row_indexer,col_indexer] = value instead\n",
      "\n",
      "See the caveats in the documentation: https://pandas.pydata.org/pandas-docs/stable/user_guide/indexing.html#returning-a-view-versus-a-copy\n",
      "  block_grp_df[columns_to_convert_to_string] = block_grp_df[columns_to_convert_to_string].astype(str)\n"
     ]
    }
   ],
   "source": [
    "block_grp_df[columns_to_convert_to_string] = block_grp_df[columns_to_convert_to_string].astype(str)"
   ]
  },
  {
   "cell_type": "code",
   "execution_count": 25,
   "id": "de3fdf09",
   "metadata": {},
   "outputs": [
    {
     "name": "stdout",
     "output_type": "stream",
     "text": [
      "Number of fields published as part of this layer: 9\n",
      "CPU times: user 1.92 s, sys: 159 ms, total: 2.08 s\n",
      "Wall time: 17.4 s\n"
     ]
    }
   ],
   "source": [
    "%%time\n",
    "feature_layer = block_grp_df.spatial.to_featurelayer(\n",
    "                                     gis=gis,\n",
    "                                     title=\"San Diego Block Group Boundaries\",\n",
    "                                     tags=['SanDiego', 'BlockGroup'],\n",
    "                                    )\n",
    "print(f\"Number of fields published as part of this layer:\",len(feature_layer.layers[0].properties['fields']))"
   ]
  },
  {
   "cell_type": "code",
   "execution_count": null,
   "id": "7c0e3149",
   "metadata": {},
   "outputs": [],
   "source": []
  },
  {
   "cell_type": "code",
   "execution_count": null,
   "id": "26a6f423",
   "metadata": {},
   "outputs": [],
   "source": []
  },
  {
   "cell_type": "code",
   "execution_count": null,
   "id": "a5dfad02",
   "metadata": {},
   "outputs": [],
   "source": []
  },
  {
   "cell_type": "code",
   "execution_count": null,
   "id": "b2ce794a",
   "metadata": {},
   "outputs": [],
   "source": []
  }
 ],
 "metadata": {
  "kernelspec": {
   "display_name": "Python 3 (ipykernel)",
   "language": "python",
   "name": "python3"
  },
  "language_info": {
   "codemirror_mode": {
    "name": "ipython",
    "version": 3
   },
   "file_extension": ".py",
   "mimetype": "text/x-python",
   "name": "python",
   "nbconvert_exporter": "python",
   "pygments_lexer": "ipython3",
   "version": "3.9.16"
  }
 },
 "nbformat": 4,
 "nbformat_minor": 5
}
