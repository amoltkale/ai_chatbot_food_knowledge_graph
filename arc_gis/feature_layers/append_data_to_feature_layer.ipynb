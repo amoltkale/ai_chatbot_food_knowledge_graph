{
 "cells": [
  {
   "cell_type": "code",
   "execution_count": 1,
   "id": "1ee9c532-f954-4ff1-bb76-cf45fc30b940",
   "metadata": {},
   "outputs": [],
   "source": [
    "import arcgis\n",
    "from arcgis.gis import GIS\n",
    "from arcgis.features import *\n",
    "from feature_layer_utils import get_feature_layer"
   ]
  },
  {
   "cell_type": "code",
   "execution_count": 2,
   "id": "458c0b02-317a-4118-9189-5c63d5758cd0",
   "metadata": {},
   "outputs": [
    {
     "name": "stdout",
     "output_type": "stream",
     "text": [
      "Enter the Client ID/APP ID generated from Arc GIS:\n"
     ]
    },
    {
     "name": "stdin",
     "output_type": "stream",
     "text": [
      " Elm5V3upnnV17Q3r\n"
     ]
    },
    {
     "name": "stdout",
     "output_type": "stream",
     "text": [
      "Please sign in to your GIS and paste the code that is obtained below.\n",
      "If a web browser does not automatically open, please navigate to the URL below yourself instead.\n",
      "Opening web browser to navigate to: https://ucsdonline.maps.arcgis.com/sharing/rest/oauth2/authorize?response_type=code&client_id=Elm5V3upnnV17Q3r&redirect_uri=urn%3Aietf%3Awg%3Aoauth%3A2.0%3Aoob&state=Kl0i1U9duh2vEMpUtnAfS2CFT1xgWl&allow_verification=false\n"
     ]
    },
    {
     "name": "stdin",
     "output_type": "stream",
     "text": [
      "Enter code obtained on signing in using SAML:  ········\n"
     ]
    },
    {
     "name": "stderr",
     "output_type": "stream",
     "text": [
      "/Users/amolkale/Documents/DSE/DSE260-Capstone-Project/capstone/venv3.9/lib/python3.9/site-packages/urllib3/connectionpool.py:1045: InsecureRequestWarning: Unverified HTTPS request is being made to host 'ucsdonline.maps.arcgis.com'. Adding certificate verification is strongly advised. See: https://urllib3.readthedocs.io/en/1.26.x/advanced-usage.html#ssl-warnings\n",
      "  warnings.warn(\n"
     ]
    },
    {
     "data": {
      "text/plain": [
       "'2.1.0'"
      ]
     },
     "execution_count": 2,
     "metadata": {},
     "output_type": "execute_result"
    }
   ],
   "source": [
    "\n",
    "#gis = GIS(username='izaslavsky_ucsd')  # this will ask for password. \n",
    "print(\"Enter the Client ID/APP ID generated from Arc GIS:\")\n",
    "app_id = input()\n",
    "gis = GIS(\"https://ucsdonline.maps.arcgis.com/home\", client_id=app_id)\n",
    "arcgis.__version__\n",
    "# Elm5V3upnnV17Q3r"
   ]
  },
  {
   "cell_type": "markdown",
   "id": "5d8698ef-6a7a-4dd5-8a7f-5a0858589e0c",
   "metadata": {},
   "source": [
    "### Creating FeatureLayerCollection"
   ]
  },
  {
   "cell_type": "markdown",
   "id": "a35385e9-ced7-4351-8790-28c654b8e98b",
   "metadata": {},
   "source": [
    "#### Trial 1: Creating FeatureLayerCollection using an Item\n",
    "I want to create FeatureLayerCollection using an Item. Trying shape file as the item ?  \n",
    "*Approach*\n",
    "Use an existing shape file available and create and item"
   ]
  },
  {
   "cell_type": "code",
   "execution_count": 3,
   "id": "024a0db8-6b82-4d41-af49-7cf1258f526c",
   "metadata": {},
   "outputs": [],
   "source": [
    "data = \"../resources/CommunityPlanningAreasSDCounty.zip\"\n",
    "shpfile = gis.content.add({}, data)"
   ]
  },
  {
   "cell_type": "code",
   "execution_count": null,
   "id": "21c35d35-2cce-4504-b7b5-6ca1d5857cc6",
   "metadata": {},
   "outputs": [
    {
     "data": {
      "text/plain": [
       "arcgis.gis.Item"
      ]
     },
     "execution_count": 5,
     "metadata": {},
     "output_type": "execute_result"
    }
   ],
   "source": [
    "type(shpfile)"
   ]
  },
  {
   "cell_type": "code",
   "execution_count": null,
   "id": "75e92cfb-a023-4d4f-92cc-edbc9069a76d",
   "metadata": {},
   "outputs": [],
   "source": []
  },
  {
   "cell_type": "code",
   "execution_count": 5,
   "id": "7beb4019-df53-4302-b258-45c3d0c04174",
   "metadata": {},
   "outputs": [],
   "source": [
    "published_service = shpfile.publish()"
   ]
  },
  {
   "cell_type": "code",
   "execution_count": null,
   "id": "1f283c0a-3f92-4ea5-9f1e-0a9a47ebd902",
   "metadata": {},
   "outputs": [
    {
     "data": {
      "text/plain": [
       "arcgis.gis.Item"
      ]
     },
     "execution_count": 8,
     "metadata": {},
     "output_type": "execute_result"
    }
   ],
   "source": [
    "type(published_service)"
   ]
  },
  {
   "cell_type": "code",
   "execution_count": 6,
   "id": "7c6dd473-b92d-405c-a17a-deed8fcf69b6",
   "metadata": {},
   "outputs": [
    {
     "data": {
      "text/html": [
       "<div class=\"item_container\" style=\"height: auto; overflow: hidden; border: 1px solid #cfcfcf; border-radius: 2px; background: #f6fafa; line-height: 1.21429em; padding: 10px;\">\n",
       "                    <div class=\"item_left\" style=\"width: 210px; float: left;\">\n",
       "                       <a href='https://UCSDOnline.maps.arcgis.com/home/item.html?id=bed4f272a0094a00803ac830f3553ea8' target='_blank'>\n",
       "                        <img src='http://static.arcgis.com/images/desktopapp.png' class=\"itemThumbnail\">\n",
       "                       </a>\n",
       "                    </div>\n",
       "\n",
       "                    <div class=\"item_right\"     style=\"float: none; width: auto; overflow: hidden;\">\n",
       "                        <a href='https://UCSDOnline.maps.arcgis.com/home/item.html?id=bed4f272a0094a00803ac830f3553ea8' target='_blank'><b>CommunityPlanningAreasSDCounty</b>\n",
       "                        </a>\n",
       "                        <br/><img src='https://UCSDOnline.maps.arcgis.com/home/js/jsapi/esri/css/images/item_type_icons/featureshosted16.png' style=\"vertical-align:middle;\">Feature Layer Collection by akale_UCSDOnline\n",
       "                        <br/>Last Modified: February 23, 2023\n",
       "                        <br/>0 comments, 0 views\n",
       "                    </div>\n",
       "                </div>\n",
       "                "
      ],
      "text/plain": [
       "<Item title:\"CommunityPlanningAreasSDCounty\" type:Feature Layer Collection owner:akale_UCSDOnline>"
      ]
     },
     "execution_count": 6,
     "metadata": {},
     "output_type": "execute_result"
    }
   ],
   "source": [
    "published_service"
   ]
  },
  {
   "cell_type": "markdown",
   "id": "f34c0728-49d0-4d40-b1b1-41e7d9a620ea",
   "metadata": {},
   "source": [
    "#### Create Item and publish using a title to create a feature layer collection"
   ]
  },
  {
   "cell_type": "code",
   "execution_count": 3,
   "id": "d019d169-cff2-4fcb-9c34-73fbc91bf9da",
   "metadata": {},
   "outputs": [],
   "source": [
    "item_properties = {\"snippet\":\"\"\"This dataset is pr-requisite work to identify food swamps in San Deigo County.\n",
    "                    San Diego Cummunity Areas dataset was collected from SANDAG/SanGIS Regional GIS Data Warehouse Open Data Portal.\n",
    "                            Source URL: <a href=\"https://sdgis-sandag.opendata.arcgis.com/\">https://sdgis-sandag.opendata.arcgis.com/</a>\"\"\",\n",
    "                   \"title\":\"Food Knowledge Graph GIS Items\"}"
   ]
  },
  {
   "cell_type": "code",
   "execution_count": 4,
   "id": "bcfeaa85-724f-4d79-82e2-ae4e91de9fef",
   "metadata": {},
   "outputs": [
    {
     "data": {
      "text/html": [
       "<div class=\"item_container\" style=\"height: auto; overflow: hidden; border: 1px solid #cfcfcf; border-radius: 2px; background: #f6fafa; line-height: 1.21429em; padding: 10px;\">\n",
       "                    <div class=\"item_left\" style=\"width: 210px; float: left;\">\n",
       "                       <a href='https://UCSDOnline.maps.arcgis.com/home/item.html?id=e4b2bd80a8944b188ae2b4a2989977bb' target='_blank'>\n",
       "                        <img src='http://static.arcgis.com/images/desktopapp.png' class=\"itemThumbnail\">\n",
       "                       </a>\n",
       "                    </div>\n",
       "\n",
       "                    <div class=\"item_right\"     style=\"float: none; width: auto; overflow: hidden;\">\n",
       "                        <a href='https://UCSDOnline.maps.arcgis.com/home/item.html?id=e4b2bd80a8944b188ae2b4a2989977bb' target='_blank'><b>Food Knowledge Graph GIS Items</b>\n",
       "                        </a>\n",
       "                        <br/>This dataset is pr-requisite work to identify food swamps in San Deigo County.\n",
       "                    San Diego Cummunity Areas dataset was collected from SANDAG/SanGIS Regional GIS Data Warehouse Open Data Portal.\n",
       "                            Source URL: <a href='https://sdgis-sandag.opendata.arcgis.com/' rel='nofollow ugc'>https://sdgis-sandag.opendata.arcgis.com/</a><img src='https://UCSDOnline.maps.arcgis.com/home/js/jsapi/esri/css/images/item_type_icons/datafiles16.png' style=\"vertical-align:middle;\">Shapefile by akale_UCSDOnline\n",
       "                        <br/>Last Modified: February 21, 2023\n",
       "                        <br/>0 comments, 0 views\n",
       "                    </div>\n",
       "                </div>\n",
       "                "
      ],
      "text/plain": [
       "<Item title:\"Food Knowledge Graph GIS Items\" type:Shapefile owner:akale_UCSDOnline>"
      ]
     },
     "execution_count": 4,
     "metadata": {},
     "output_type": "execute_result"
    }
   ],
   "source": [
    "data = \"../resources/CommunityPlanningAreasSDCounty.zip\"\n",
    "communityPlanningAreasSDCountyShapeFile = gis.content.add(item_properties=item_properties,\n",
    "                                                         data=data)\n",
    "communityPlanningAreasSDCountyShapeFile"
   ]
  },
  {
   "cell_type": "code",
   "execution_count": 5,
   "id": "1509e344-d064-40ca-9307-bd7139399b00",
   "metadata": {},
   "outputs": [
    {
     "data": {
      "text/html": [
       "<div class=\"item_container\" style=\"height: auto; overflow: hidden; border: 1px solid #cfcfcf; border-radius: 2px; background: #f6fafa; line-height: 1.21429em; padding: 10px;\">\n",
       "                    <div class=\"item_left\" style=\"width: 210px; float: left;\">\n",
       "                       <a href='https://UCSDOnline.maps.arcgis.com/home/item.html?id=6c9c5f3498ce487eb1c1a190cbf6a78f' target='_blank'>\n",
       "                        <img src='http://static.arcgis.com/images/desktopapp.png' class=\"itemThumbnail\">\n",
       "                       </a>\n",
       "                    </div>\n",
       "\n",
       "                    <div class=\"item_right\"     style=\"float: none; width: auto; overflow: hidden;\">\n",
       "                        <a href='https://UCSDOnline.maps.arcgis.com/home/item.html?id=6c9c5f3498ce487eb1c1a190cbf6a78f' target='_blank'><b>Food Knowledge Graph GIS Items</b>\n",
       "                        </a>\n",
       "                        <br/>This dataset is pr-requisite work to identify food swamps in San Deigo County.\n",
       "                    San Diego Cummunity Areas dataset was collected from SANDAG/SanGIS Regional GIS Data Warehouse Open Data Portal.\n",
       "                            Source URL: <a href='https://sdgis-sandag.opendata.arcgis.com/' rel='nofollow ugc'>https://sdgis-sandag.opendata.arcgis.com/</a><img src='https://UCSDOnline.maps.arcgis.com/home/js/jsapi/esri/css/images/item_type_icons/featureshosted16.png' style=\"vertical-align:middle;\">Feature Layer Collection by akale_UCSDOnline\n",
       "                        <br/>Last Modified: February 21, 2023\n",
       "                        <br/>0 comments, 0 views\n",
       "                    </div>\n",
       "                </div>\n",
       "                "
      ],
      "text/plain": [
       "<Item title:\"Food Knowledge Graph GIS Items\" type:Feature Layer Collection owner:akale_UCSDOnline>"
      ]
     },
     "execution_count": 5,
     "metadata": {},
     "output_type": "execute_result"
    }
   ],
   "source": [
    "published_service = communityPlanningAreasSDCountyShapeFile.publish()\n",
    "published_service"
   ]
  },
  {
   "cell_type": "code",
   "execution_count": 6,
   "id": "061db40f-5494-43c8-b8e5-40eb095bb7e6",
   "metadata": {},
   "outputs": [],
   "source": [
    "def delete_existing_folder(folder_name):\n",
    "    try:\n",
    "        return gis.content.delete_folder(folder=folder_name)\n",
    "    except:\n",
    "        return False\n"
   ]
  },
  {
   "cell_type": "code",
   "execution_count": 7,
   "id": "effdb1c6-270e-4fba-a509-3209989fa0cb",
   "metadata": {},
   "outputs": [
    {
     "data": {
      "text/plain": [
       "True"
      ]
     },
     "execution_count": 7,
     "metadata": {},
     "output_type": "execute_result"
    }
   ],
   "source": [
    "my_folder_name = \"Food Knowledge Graph GIS Data\"\n",
    "delete_existing_folder(my_folder_name) # returns True if folder exists, or False if non-exist"
   ]
  },
  {
   "cell_type": "code",
   "execution_count": 8,
   "id": "4d0c1b4f-d719-4613-9442-5c95de9f68d4",
   "metadata": {},
   "outputs": [
    {
     "name": "stdout",
     "output_type": "stream",
     "text": [
      "{'username': 'akale_UCSDOnline', 'id': 'f20acaba38484e019052ebc5bdb0cef0', 'title': 'Food Knowledge Graph GIS Data'}\n"
     ]
    }
   ],
   "source": [
    "# create a new folder called 'Food Knowledge Graph GIS Data'\n",
    "new_folder_details = gis.content.create_folder(my_folder_name)\n",
    "print(new_folder_details)"
   ]
  },
  {
   "cell_type": "code",
   "execution_count": 9,
   "id": "3ac09504-1b9e-499a-84f9-06738e747cfb",
   "metadata": {},
   "outputs": [
    {
     "data": {
      "text/plain": [
       "{'success': True,\n",
       " 'itemId': '6c9c5f3498ce487eb1c1a190cbf6a78f',\n",
       " 'owner': 'akale_UCSDOnline',\n",
       " 'folder': 'f20acaba38484e019052ebc5bdb0cef0'}"
      ]
     },
     "execution_count": 9,
     "metadata": {},
     "output_type": "execute_result"
    }
   ],
   "source": [
    "published_service.move(new_folder_details)"
   ]
  },
  {
   "cell_type": "code",
   "execution_count": 10,
   "id": "8dc3663c-b5da-4b4b-927f-bebb3ad6b4e6",
   "metadata": {},
   "outputs": [
    {
     "data": {
      "text/plain": [
       "{'success': True,\n",
       " 'itemId': 'e4b2bd80a8944b188ae2b4a2989977bb',\n",
       " 'owner': 'akale_UCSDOnline',\n",
       " 'folder': 'f20acaba38484e019052ebc5bdb0cef0'}"
      ]
     },
     "execution_count": 10,
     "metadata": {},
     "output_type": "execute_result"
    }
   ],
   "source": [
    "communityPlanningAreasSDCountyShapeFile.move(new_folder_details)"
   ]
  },
  {
   "cell_type": "code",
   "execution_count": 11,
   "id": "dc1afac4-9bc1-4433-b052-9e1bd4c669bd",
   "metadata": {},
   "outputs": [
    {
     "name": "stdout",
     "output_type": "stream",
     "text": [
      "f20acaba38484e019052ebc5bdb0cef0\n"
     ]
    }
   ],
   "source": [
    "print(published_service.ownerFolder)"
   ]
  },
  {
   "cell_type": "code",
   "execution_count": 12,
   "id": "0f7e8c5d-2051-4d36-9ed4-d837317ee3c9",
   "metadata": {},
   "outputs": [
    {
     "data": {
      "text/plain": [
       "'https://services1.arcgis.com/eGSDp8lpKe5izqVc/arcgis/rest/services/CommunityPlanningAreasSDCounty/FeatureServer'"
      ]
     },
     "execution_count": 12,
     "metadata": {},
     "output_type": "execute_result"
    }
   ],
   "source": [
    "published_service.url"
   ]
  },
  {
   "cell_type": "code",
   "execution_count": 13,
   "id": "41b49066-001f-4f1e-9295-53b8e87d8546",
   "metadata": {},
   "outputs": [],
   "source": [
    "existing_feature_layer = FeatureLayer(published_service.url)"
   ]
  },
  {
   "cell_type": "code",
   "execution_count": 18,
   "id": "04df8e79-2043-4d66-8c1f-93de25f422bd",
   "metadata": {},
   "outputs": [],
   "source": [
    "existing_feature_layer = FeatureLayer.fromitem(item=published_service)"
   ]
  },
  {
   "cell_type": "code",
   "execution_count": 14,
   "id": "20554419-fa1b-4b9c-9bbc-203da5142ec0",
   "metadata": {},
   "outputs": [
    {
     "data": {
      "text/html": [
       "<div class=\"item_container\" style=\"height: auto; overflow: hidden; border: 1px solid #cfcfcf; border-radius: 2px; background: #f6fafa; line-height: 1.21429em; padding: 10px;\">\n",
       "                    <div class=\"item_left\" style=\"width: 210px; float: left;\">\n",
       "                       <a href='https://UCSDOnline.maps.arcgis.com/home/item.html?id=eb38961b25744cbc8e705daa6daf05a0' target='_blank'>\n",
       "                        <img src='http://static.arcgis.com/images/desktopapp.png' class=\"itemThumbnail\">\n",
       "                       </a>\n",
       "                    </div>\n",
       "\n",
       "                    <div class=\"item_right\"     style=\"float: none; width: auto; overflow: hidden;\">\n",
       "                        <a href='https://UCSDOnline.maps.arcgis.com/home/item.html?id=eb38961b25744cbc8e705daa6daf05a0' target='_blank'><b>CommunityPlanningAreasSDCity</b>\n",
       "                        </a>\n",
       "                        <br/><img src='https://UCSDOnline.maps.arcgis.com/home/js/jsapi/esri/css/images/item_type_icons/datafiles16.png' style=\"vertical-align:middle;\">Shapefile by akale_UCSDOnline\n",
       "                        <br/>Last Modified: February 21, 2023\n",
       "                        <br/>0 comments, 0 views\n",
       "                    </div>\n",
       "                </div>\n",
       "                "
      ],
      "text/plain": [
       "<Item title:\"CommunityPlanningAreasSDCity\" type:Shapefile owner:akale_UCSDOnline>"
      ]
     },
     "execution_count": 14,
     "metadata": {},
     "output_type": "execute_result"
    }
   ],
   "source": [
    "data = \"../resources/CommunityPlanningAreasSDCity.zip\"\n",
    "communityPlanningAreasSDCityShapeFile = gis.content.add({},data)\n",
    "communityPlanningAreasSDCityShapeFile"
   ]
  },
  {
   "cell_type": "code",
   "execution_count": null,
   "id": "67f37803-0321-4b7f-ae35-5f1ec29199da",
   "metadata": {},
   "outputs": [],
   "source": [
    "source_info = gis.content.analyze(file_path=data, file_type='shapefile')\n",
    "source_info"
   ]
  },
  {
   "cell_type": "code",
   "execution_count": 19,
   "id": "9a60e2b6-1368-4716-a371-cec0add4902d",
   "metadata": {},
   "outputs": [
    {
     "data": {
      "text/plain": [
       "True"
      ]
     },
     "execution_count": 19,
     "metadata": {},
     "output_type": "execute_result"
    }
   ],
   "source": [
    "existing_feature_layer.append(communityPlanningAreasSDCityShapeFile.id,upload_format='shapefile',source_info=source_info[\"publishParameters\"])"
   ]
  },
  {
   "cell_type": "code",
   "execution_count": 20,
   "id": "20b6351e-744e-4d22-8f48-5fcd82d4bc01",
   "metadata": {},
   "outputs": [
    {
     "data": {
      "text/plain": [
       "<FeatureLayerCollection url:\"https://services1.arcgis.com/eGSDp8lpKe5izqVc/arcgis/rest/services/CommunityPlanningAreasSDCounty/FeatureServer\">"
      ]
     },
     "execution_count": 20,
     "metadata": {},
     "output_type": "execute_result"
    }
   ],
   "source": [
    "existing_feature_layer.container"
   ]
  },
  {
   "cell_type": "code",
   "execution_count": null,
   "id": "fba86eed-638c-4d47-be66-0e556236c9c0",
   "metadata": {},
   "outputs": [],
   "source": []
  }
 ],
 "metadata": {
  "kernelspec": {
   "display_name": "Python 3 (ipykernel)",
   "language": "python",
   "name": "python3"
  },
  "language_info": {
   "codemirror_mode": {
    "name": "ipython",
    "version": 3
   },
   "file_extension": ".py",
   "mimetype": "text/x-python",
   "name": "python",
   "nbconvert_exporter": "python",
   "pygments_lexer": "ipython3",
   "version": "3.9.16"
  }
 },
 "nbformat": 4,
 "nbformat_minor": 5
}
