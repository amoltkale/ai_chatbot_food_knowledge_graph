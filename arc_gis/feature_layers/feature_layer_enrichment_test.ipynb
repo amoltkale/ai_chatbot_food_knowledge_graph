{
 "cells": [
  {
   "cell_type": "code",
   "execution_count": 1,
   "id": "45cd299a-6389-46fc-8b40-4617f8a65310",
   "metadata": {},
   "outputs": [],
   "source": [
    "import arcgis\n",
    "from arcgis.gis import GIS\n",
    "from arcgis.features import *\n",
    "from feature_layer_utils import delete_existing_folder, explore_feature_layer, get_feature_layer"
   ]
  },
  {
   "cell_type": "code",
   "execution_count": null,
   "id": "a79fc450-6699-48cc-90b9-3aba212ea9bd",
   "metadata": {},
   "outputs": [],
   "source": [
    "\n",
    "#gis = GIS(username='izaslavsky_ucsd')  # this will ask for password. \n",
    "print(\"Enter the Client ID/APP ID generated from Arc GIS:\")\n",
    "app_id = input()\n",
    "gis = GIS(\"https://ucsdonline.maps.arcgis.com/home\", client_id=app_id)\n",
    "arcgis.__version__\n",
    "# Elm5V3upnnV17Q3r"
   ]
  },
  {
   "cell_type": "code",
   "execution_count": 5,
   "id": "ce4c5ddc-2565-4b7a-891d-761bd38e110e",
   "metadata": {},
   "outputs": [],
   "source": [
    "data = \"../resources/CommunityPlanningAreasSDCity.zip\"\n",
    "sd_city_shpfile = gis.content.add({}, data)"
   ]
  },
  {
   "cell_type": "code",
   "execution_count": 6,
   "id": "67cd8eaf-e4ea-4927-9e54-9e52cd8f9d0e",
   "metadata": {},
   "outputs": [],
   "source": [
    "my_folder_name = \"Food Knowledge Graph GIS Data\""
   ]
  },
  {
   "cell_type": "code",
   "execution_count": 7,
   "id": "0d511209-cea6-477c-a551-a16eea4525eb",
   "metadata": {},
   "outputs": [
    {
     "data": {
      "text/plain": [
       "{'success': True,\n",
       " 'itemId': 'e6bffde2cd5346a9b558f1125fa2d7cf',\n",
       " 'owner': 'akale_UCSDOnline',\n",
       " 'folder': 'f20acaba38484e019052ebc5bdb0cef0'}"
      ]
     },
     "execution_count": 7,
     "metadata": {},
     "output_type": "execute_result"
    }
   ],
   "source": [
    "sd_city_shpfile.move(my_folder_name)"
   ]
  },
  {
   "cell_type": "code",
   "execution_count": 8,
   "id": "5ada5d4c-588d-40f9-869a-543e91b41512",
   "metadata": {},
   "outputs": [],
   "source": [
    "published_service = sd_city_shpfile.publish()"
   ]
  },
  {
   "cell_type": "code",
   "execution_count": 9,
   "id": "0eb0e4ef-edbb-4f1f-8ac2-c4fa87828d62",
   "metadata": {},
   "outputs": [
    {
     "data": {
      "text/html": [
       "<div class=\"item_container\" style=\"height: auto; overflow: hidden; border: 1px solid #cfcfcf; border-radius: 2px; background: #f6fafa; line-height: 1.21429em; padding: 10px;\">\n",
       "                    <div class=\"item_left\" style=\"width: 210px; float: left;\">\n",
       "                       <a href='https://UCSDOnline.maps.arcgis.com/home/item.html?id=87f780021d484ff3abb93b38e7276dd1' target='_blank'>\n",
       "                        <img src='http://static.arcgis.com/images/desktopapp.png' class=\"itemThumbnail\">\n",
       "                       </a>\n",
       "                    </div>\n",
       "\n",
       "                    <div class=\"item_right\"     style=\"float: none; width: auto; overflow: hidden;\">\n",
       "                        <a href='https://UCSDOnline.maps.arcgis.com/home/item.html?id=87f780021d484ff3abb93b38e7276dd1' target='_blank'><b>CommunityPlanningAreasSDCity</b>\n",
       "                        </a>\n",
       "                        <br/><img src='https://UCSDOnline.maps.arcgis.com/home/js/jsapi/esri/css/images/item_type_icons/featureshosted16.png' style=\"vertical-align:middle;\">Feature Layer Collection by akale_UCSDOnline\n",
       "                        <br/>Last Modified: February 22, 2023\n",
       "                        <br/>0 comments, 0 views\n",
       "                    </div>\n",
       "                </div>\n",
       "                "
      ],
      "text/plain": [
       "<Item title:\"CommunityPlanningAreasSDCity\" type:Feature Layer Collection owner:akale_UCSDOnline>"
      ]
     },
     "execution_count": 9,
     "metadata": {},
     "output_type": "execute_result"
    }
   ],
   "source": [
    "published_service"
   ]
  },
  {
   "cell_type": "code",
   "execution_count": 10,
   "id": "b762c232-d313-4d9b-bb2b-763af87fa375",
   "metadata": {},
   "outputs": [
    {
     "data": {
      "text/plain": [
       "{'success': True,\n",
       " 'itemId': '87f780021d484ff3abb93b38e7276dd1',\n",
       " 'owner': 'akale_UCSDOnline',\n",
       " 'folder': 'f20acaba38484e019052ebc5bdb0cef0'}"
      ]
     },
     "execution_count": 10,
     "metadata": {},
     "output_type": "execute_result"
    }
   ],
   "source": [
    "published_service.move(my_folder_name)"
   ]
  },
  {
   "cell_type": "code",
   "execution_count": 11,
   "id": "123fd671-32fe-4857-8bb1-de04073ed0b1",
   "metadata": {},
   "outputs": [
    {
     "data": {
      "text/plain": [
       "'https://services1.arcgis.com/eGSDp8lpKe5izqVc/arcgis/rest/services/CommunityPlanningAreasSDCity/FeatureServer'"
      ]
     },
     "execution_count": 11,
     "metadata": {},
     "output_type": "execute_result"
    }
   ],
   "source": [
    "published_service.url"
   ]
  },
  {
   "cell_type": "code",
   "execution_count": 14,
   "id": "777ac464-51eb-4b53-acde-5d722c80ef77",
   "metadata": {},
   "outputs": [
    {
     "name": "stdout",
     "output_type": "stream",
     "text": [
      "Layer Name: CommunityPlanningAreasSDCity\n",
      "\tCopyright Text: \n",
      "\tserviceItemId: 87f780021d484ff3abb93b38e7276dd1\n",
      "\tDescription: \n",
      "\tCapabalities: Query\n",
      "\tType of feature set: <class 'arcgis.features.feature.FeatureSet'>\n",
      "\tSpatial Reference for the Feature Layer: {'wkid': 102100, 'latestWkid': 3857}\n",
      "\tSample Records from the layer:-\n",
      "\tTotal Records: 63\n"
     ]
    },
    {
     "data": {
      "text/html": [
       "<div>\n",
       "<style scoped>\n",
       "    .dataframe tbody tr th:only-of-type {\n",
       "        vertical-align: middle;\n",
       "    }\n",
       "\n",
       "    .dataframe tbody tr th {\n",
       "        vertical-align: top;\n",
       "    }\n",
       "\n",
       "    .dataframe thead th {\n",
       "        text-align: right;\n",
       "    }\n",
       "</style>\n",
       "<table border=\"1\" class=\"dataframe\">\n",
       "  <thead>\n",
       "    <tr style=\"text-align: right;\">\n",
       "      <th></th>\n",
       "      <th>FID</th>\n",
       "      <th>OBJECTID</th>\n",
       "      <th>CPCODE</th>\n",
       "      <th>CPNAME</th>\n",
       "      <th>ACREAGE</th>\n",
       "      <th>Shape_STAr</th>\n",
       "      <th>Shape_STLe</th>\n",
       "      <th>ShapeSTAre</th>\n",
       "      <th>ShapeSTLen</th>\n",
       "      <th>Shape__Area</th>\n",
       "      <th>Shape__Length</th>\n",
       "      <th>SHAPE</th>\n",
       "    </tr>\n",
       "  </thead>\n",
       "  <tbody>\n",
       "    <tr>\n",
       "      <th>0</th>\n",
       "      <td>1</td>\n",
       "      <td>1</td>\n",
       "      <td>37</td>\n",
       "      <td>SOUTHEASTERN SAN DIEGO,SOUTHEASTERN</td>\n",
       "      <td>3049.665754</td>\n",
       "      <td>132842908.899</td>\n",
       "      <td>51202.267742</td>\n",
       "      <td>132842908.883943</td>\n",
       "      <td>51202.267742</td>\n",
       "      <td>17477623.855469</td>\n",
       "      <td>18565.577657</td>\n",
       "      <td>{\"rings\": [[[-13035836.4422912, 3857951.557089...</td>\n",
       "    </tr>\n",
       "    <tr>\n",
       "      <th>1</th>\n",
       "      <td>2</td>\n",
       "      <td>2</td>\n",
       "      <td>97</td>\n",
       "      <td>MILITARY FACILITIES</td>\n",
       "      <td>444.218254</td>\n",
       "      <td>19350069.7695</td>\n",
       "      <td>31304.013099</td>\n",
       "      <td>19350069.762598</td>\n",
       "      <td>31304.013099</td>\n",
       "      <td>2544856.328125</td>\n",
       "      <td>11343.480057</td>\n",
       "      <td>{\"rings\": [[[-13038426.5095588, 3854603.291244...</td>\n",
       "    </tr>\n",
       "    <tr>\n",
       "      <th>2</th>\n",
       "      <td>3</td>\n",
       "      <td>3</td>\n",
       "      <td>25</td>\n",
       "      <td>OTAY MESA-NESTOR</td>\n",
       "      <td>5367.842306</td>\n",
       "      <td>233822275.557</td>\n",
       "      <td>95210.708583</td>\n",
       "      <td>233822275.552254</td>\n",
       "      <td>95210.708583</td>\n",
       "      <td>30678674.9375</td>\n",
       "      <td>34472.99796</td>\n",
       "      <td>{\"rings\": [[[-13037099.6630002, 3843048.861360...</td>\n",
       "    </tr>\n",
       "    <tr>\n",
       "      <th>3</th>\n",
       "      <td>4</td>\n",
       "      <td>4</td>\n",
       "      <td>26</td>\n",
       "      <td>OTAY MESA</td>\n",
       "      <td>9316.183135</td>\n",
       "      <td>405811314.108</td>\n",
       "      <td>105906.774574</td>\n",
       "      <td>405811314.107364</td>\n",
       "      <td>105906.774574</td>\n",
       "      <td>53225527.789062</td>\n",
       "      <td>38327.21166</td>\n",
       "      <td>{\"rings\": [[[-13026644.0080738, 3841158.021909...</td>\n",
       "    </tr>\n",
       "  </tbody>\n",
       "</table>\n",
       "</div>"
      ],
      "text/plain": [
       "   FID  OBJECTID  CPCODE                               CPNAME      ACREAGE  \\\n",
       "0    1         1      37  SOUTHEASTERN SAN DIEGO,SOUTHEASTERN  3049.665754   \n",
       "1    2         2      97                  MILITARY FACILITIES   444.218254   \n",
       "2    3         3      25                     OTAY MESA-NESTOR  5367.842306   \n",
       "3    4         4      26                            OTAY MESA  9316.183135   \n",
       "\n",
       "      Shape_STAr     Shape_STLe        ShapeSTAre     ShapeSTLen  \\\n",
       "0  132842908.899   51202.267742  132842908.883943   51202.267742   \n",
       "1  19350069.7695   31304.013099   19350069.762598   31304.013099   \n",
       "2  233822275.557   95210.708583  233822275.552254   95210.708583   \n",
       "3  405811314.108  105906.774574  405811314.107364  105906.774574   \n",
       "\n",
       "       Shape__Area  Shape__Length  \\\n",
       "0  17477623.855469   18565.577657   \n",
       "1   2544856.328125   11343.480057   \n",
       "2    30678674.9375    34472.99796   \n",
       "3  53225527.789062    38327.21166   \n",
       "\n",
       "                                               SHAPE  \n",
       "0  {\"rings\": [[[-13035836.4422912, 3857951.557089...  \n",
       "1  {\"rings\": [[[-13038426.5095588, 3854603.291244...  \n",
       "2  {\"rings\": [[[-13037099.6630002, 3843048.861360...  \n",
       "3  {\"rings\": [[[-13026644.0080738, 3841158.021909...  "
      ]
     },
     "metadata": {},
     "output_type": "display_data"
    }
   ],
   "source": [
    "explore_feature_layer(get_feature_layer(published_service.url + \"/0\",gis))"
   ]
  },
  {
   "cell_type": "code",
   "execution_count": 15,
   "id": "5fba1bbc-49a9-45fa-a35f-5c5bc1df4949",
   "metadata": {},
   "outputs": [],
   "source": [
    "from arcgis.features.enrich_data import enrich_layer"
   ]
  },
  {
   "cell_type": "code",
   "execution_count": 16,
   "id": "d4b1ca7c-20f6-4def-bedb-41d6afcf534a",
   "metadata": {},
   "outputs": [
    {
     "name": "stderr",
     "output_type": "stream",
     "text": [
      "{\"cost\": -1}\n"
     ]
    }
   ],
   "source": [
    "sd_city_comm_planned_areas_enriched = enrich_layer(published_service,\n",
    "                             analysis_variables=[\"X1010_X\"],\n",
    "                             country='US',\n",
    "                             output_name='sd city neighborhoods enrich layer')"
   ]
  },
  {
   "cell_type": "code",
   "execution_count": 18,
   "id": "d67944c8-f85b-413c-ae07-45663891788b",
   "metadata": {},
   "outputs": [
    {
     "data": {
      "text/html": [
       "<div class=\"item_container\" style=\"height: auto; overflow: hidden; border: 1px solid #cfcfcf; border-radius: 2px; background: #f6fafa; line-height: 1.21429em; padding: 10px;\">\n",
       "                    <div class=\"item_left\" style=\"width: 210px; float: left;\">\n",
       "                       <a href='https://UCSDOnline.maps.arcgis.com/home/item.html?id=2082cca1dc18465b90d673554a6b0c31' target='_blank'>\n",
       "                        <img src='http://static.arcgis.com/images/desktopapp.png' class=\"itemThumbnail\">\n",
       "                       </a>\n",
       "                    </div>\n",
       "\n",
       "                    <div class=\"item_right\"     style=\"float: none; width: auto; overflow: hidden;\">\n",
       "                        <a href='https://UCSDOnline.maps.arcgis.com/home/item.html?id=2082cca1dc18465b90d673554a6b0c31' target='_blank'><b>sd_city_neighborhoods_enrich_layer</b>\n",
       "                        </a>\n",
       "                        <br/><img src='https://UCSDOnline.maps.arcgis.com/home/js/jsapi/esri/css/images/item_type_icons/featureshosted16.png' style=\"vertical-align:middle;\">Feature Layer Collection by akale_UCSDOnline\n",
       "                        <br/>Last Modified: February 22, 2023\n",
       "                        <br/>0 comments, 0 views\n",
       "                    </div>\n",
       "                </div>\n",
       "                "
      ],
      "text/plain": [
       "<Item title:\"sd_city_neighborhoods_enrich_layer\" type:Feature Layer Collection owner:akale_UCSDOnline>"
      ]
     },
     "execution_count": 18,
     "metadata": {},
     "output_type": "execute_result"
    }
   ],
   "source": [
    "sd_city_comm_planned_areas_enriched"
   ]
  },
  {
   "cell_type": "code",
   "execution_count": 19,
   "id": "92f1966d-ca9a-4a38-87fe-bac5c61c5fed",
   "metadata": {},
   "outputs": [
    {
     "data": {
      "text/plain": [
       "arcgis.gis.Item"
      ]
     },
     "execution_count": 19,
     "metadata": {},
     "output_type": "execute_result"
    }
   ],
   "source": [
    "type(sd_city_comm_planned_areas_enriched)"
   ]
  },
  {
   "cell_type": "code",
   "execution_count": 20,
   "id": "ce1fe223-5ed0-42c8-8146-1d334abfad2e",
   "metadata": {},
   "outputs": [
    {
     "data": {
      "text/plain": [
       "'https://services1.arcgis.com/eGSDp8lpKe5izqVc/arcgis/rest/services/sd_city_neighborhoods_enrich_layer/FeatureServer'"
      ]
     },
     "execution_count": 20,
     "metadata": {},
     "output_type": "execute_result"
    }
   ],
   "source": [
    "sd_city_comm_planned_areas_enriched.url"
   ]
  },
  {
   "cell_type": "code",
   "execution_count": 23,
   "id": "ec5de7cb-3cd8-4059-a31d-b6b136f3f973",
   "metadata": {},
   "outputs": [
    {
     "name": "stdout",
     "output_type": "stream",
     "text": [
      "Layer Name: EnrichedLayer\n",
      "\tCopyright Text: \n",
      "\tserviceItemId: 2082cca1dc18465b90d673554a6b0c31\n",
      "\tDescription: \n",
      "\tCapabalities: Query\n",
      "\tType of feature set: <class 'arcgis.features.feature.FeatureSet'>\n",
      "\tSpatial Reference for the Feature Layer: {'wkid': 102100, 'latestWkid': 3857}\n",
      "\tSample Records from the layer:-\n",
      "\tTotal Records: 63\n"
     ]
    },
    {
     "data": {
      "text/html": [
       "<div>\n",
       "<style scoped>\n",
       "    .dataframe tbody tr th:only-of-type {\n",
       "        vertical-align: middle;\n",
       "    }\n",
       "\n",
       "    .dataframe tbody tr th {\n",
       "        vertical-align: top;\n",
       "    }\n",
       "\n",
       "    .dataframe thead th {\n",
       "        text-align: right;\n",
       "    }\n",
       "</style>\n",
       "<table border=\"1\" class=\"dataframe\">\n",
       "  <thead>\n",
       "    <tr style=\"text-align: right;\">\n",
       "      <th></th>\n",
       "      <th>OBJECTID_1</th>\n",
       "      <th>OBJECTID</th>\n",
       "      <th>CPCODE</th>\n",
       "      <th>CPNAME</th>\n",
       "      <th>ACREAGE</th>\n",
       "      <th>Shape_STAr</th>\n",
       "      <th>Shape_STLe</th>\n",
       "      <th>ShapeSTAre</th>\n",
       "      <th>ShapeSTLen</th>\n",
       "      <th>ID</th>\n",
       "      <th>sourceCountry</th>\n",
       "      <th>ENRICH_FID</th>\n",
       "      <th>aggregationMethod</th>\n",
       "      <th>populationToPolygonSizeRating</th>\n",
       "      <th>apportionmentConfidence</th>\n",
       "      <th>HasData</th>\n",
       "      <th>X1010_X</th>\n",
       "      <th>SHAPE</th>\n",
       "    </tr>\n",
       "  </thead>\n",
       "  <tbody>\n",
       "    <tr>\n",
       "      <th>0</th>\n",
       "      <td>1</td>\n",
       "      <td>50</td>\n",
       "      <td>98</td>\n",
       "      <td>RESERVE</td>\n",
       "      <td>1.054006</td>\n",
       "      <td>45912.322266</td>\n",
       "      <td>1101.041642</td>\n",
       "      <td>45912.323527</td>\n",
       "      <td>1101.041642</td>\n",
       "      <td>0</td>\n",
       "      <td>US</td>\n",
       "      <td>1</td>\n",
       "      <td>BlockApportionment:US.BlockGroups;PointsLayer:...</td>\n",
       "      <td>2.191</td>\n",
       "      <td>2.576</td>\n",
       "      <td>0</td>\n",
       "      <td>0.0</td>\n",
       "      <td>{\"rings\": [[[-13050361.4896, 3892895.2692], [-...</td>\n",
       "    </tr>\n",
       "    <tr>\n",
       "      <th>1</th>\n",
       "      <td>2</td>\n",
       "      <td>47</td>\n",
       "      <td>98</td>\n",
       "      <td>RESERVE</td>\n",
       "      <td>8.94476</td>\n",
       "      <td>389632.177734</td>\n",
       "      <td>4530.394028</td>\n",
       "      <td>389632.178053</td>\n",
       "      <td>4530.394028</td>\n",
       "      <td>1</td>\n",
       "      <td>US</td>\n",
       "      <td>2</td>\n",
       "      <td>BlockApportionment:US.BlockGroups;PointsLayer:...</td>\n",
       "      <td>2.191</td>\n",
       "      <td>2.576</td>\n",
       "      <td>1</td>\n",
       "      <td>0.0</td>\n",
       "      <td>{\"rings\": [[[-13049623.6294, 3893070.4784], [-...</td>\n",
       "    </tr>\n",
       "    <tr>\n",
       "      <th>2</th>\n",
       "      <td>3</td>\n",
       "      <td>49</td>\n",
       "      <td>98</td>\n",
       "      <td>RESERVE</td>\n",
       "      <td>46.753834</td>\n",
       "      <td>2036588.87402</td>\n",
       "      <td>7238.913828</td>\n",
       "      <td>2036588.875484</td>\n",
       "      <td>7238.913828</td>\n",
       "      <td>2</td>\n",
       "      <td>US</td>\n",
       "      <td>3</td>\n",
       "      <td>BlockApportionment:US.BlockGroups;PointsLayer:...</td>\n",
       "      <td>2.191</td>\n",
       "      <td>2.576</td>\n",
       "      <td>1</td>\n",
       "      <td>0.0</td>\n",
       "      <td>{\"rings\": [[[-13052651.4253, 3892924.2349], [-...</td>\n",
       "    </tr>\n",
       "    <tr>\n",
       "      <th>3</th>\n",
       "      <td>4</td>\n",
       "      <td>45</td>\n",
       "      <td>55</td>\n",
       "      <td>VIA DE LA VALLE</td>\n",
       "      <td>132.701091</td>\n",
       "      <td>5780436.38867</td>\n",
       "      <td>12460.095089</td>\n",
       "      <td>5780436.387576</td>\n",
       "      <td>12460.095089</td>\n",
       "      <td>3</td>\n",
       "      <td>US</td>\n",
       "      <td>4</td>\n",
       "      <td>BlockApportionment:US.BlockGroups;PointsLayer:...</td>\n",
       "      <td>2.191</td>\n",
       "      <td>2.576</td>\n",
       "      <td>1</td>\n",
       "      <td>61616.0</td>\n",
       "      <td>{\"rings\": [[[-13051645.4702, 3893410.2999], [-...</td>\n",
       "    </tr>\n",
       "  </tbody>\n",
       "</table>\n",
       "</div>"
      ],
      "text/plain": [
       "   OBJECTID_1  OBJECTID  CPCODE           CPNAME     ACREAGE     Shape_STAr  \\\n",
       "0           1        50      98          RESERVE    1.054006   45912.322266   \n",
       "1           2        47      98          RESERVE     8.94476  389632.177734   \n",
       "2           3        49      98          RESERVE   46.753834  2036588.87402   \n",
       "3           4        45      55  VIA DE LA VALLE  132.701091  5780436.38867   \n",
       "\n",
       "     Shape_STLe      ShapeSTAre    ShapeSTLen ID sourceCountry  ENRICH_FID  \\\n",
       "0   1101.041642    45912.323527   1101.041642  0            US           1   \n",
       "1   4530.394028   389632.178053   4530.394028  1            US           2   \n",
       "2   7238.913828  2036588.875484   7238.913828  2            US           3   \n",
       "3  12460.095089  5780436.387576  12460.095089  3            US           4   \n",
       "\n",
       "                                   aggregationMethod  \\\n",
       "0  BlockApportionment:US.BlockGroups;PointsLayer:...   \n",
       "1  BlockApportionment:US.BlockGroups;PointsLayer:...   \n",
       "2  BlockApportionment:US.BlockGroups;PointsLayer:...   \n",
       "3  BlockApportionment:US.BlockGroups;PointsLayer:...   \n",
       "\n",
       "   populationToPolygonSizeRating  apportionmentConfidence  HasData  X1010_X  \\\n",
       "0                          2.191                    2.576        0      0.0   \n",
       "1                          2.191                    2.576        1      0.0   \n",
       "2                          2.191                    2.576        1      0.0   \n",
       "3                          2.191                    2.576        1  61616.0   \n",
       "\n",
       "                                               SHAPE  \n",
       "0  {\"rings\": [[[-13050361.4896, 3892895.2692], [-...  \n",
       "1  {\"rings\": [[[-13049623.6294, 3893070.4784], [-...  \n",
       "2  {\"rings\": [[[-13052651.4253, 3892924.2349], [-...  \n",
       "3  {\"rings\": [[[-13051645.4702, 3893410.2999], [-...  "
      ]
     },
     "metadata": {},
     "output_type": "display_data"
    }
   ],
   "source": [
    "explore_feature_layer(get_feature_layer(sd_city_comm_planned_areas_enriched.url+\"/0\",gis))"
   ]
  },
  {
   "cell_type": "code",
   "execution_count": 24,
   "id": "ef5b3fb6-6f5d-474b-a727-31f1a56988c1",
   "metadata": {},
   "outputs": [],
   "source": [
    "new_layer = get_feature_layer(sd_city_comm_planned_areas_enriched.url+\"/0\",gis)"
   ]
  },
  {
   "cell_type": "code",
   "execution_count": null,
   "id": "470d5655-10bd-4514-ba61-23e671c898f1",
   "metadata": {},
   "outputs": [],
   "source": [
    "new_layer"
   ]
  },
  {
   "cell_type": "code",
   "execution_count": 1,
   "id": "bf7d7911-31cb-4c7c-be5d-b056863b550a",
   "metadata": {},
   "outputs": [],
   "source": [
    "#found_locations = arcgis.features.analysis.find_existing_locations(input_layers=[new_layer],\n",
    "#                                           expressions=[{\"operator\":\"\",\"layer\":0,\"where\":\"CPNAME = 'BARRIO LOGAN'\"}],\n",
    "#                                           output_name='test_existing_locations')"
   ]
  },
  {
   "cell_type": "code",
   "execution_count": null,
   "id": "2a611925-5b7f-4f6b-b1ed-7589d7bab65e",
   "metadata": {},
   "outputs": [],
   "source": []
  }
 ],
 "metadata": {
  "kernelspec": {
   "display_name": "Python 3 (ipykernel)",
   "language": "python",
   "name": "python3"
  },
  "language_info": {
   "codemirror_mode": {
    "name": "ipython",
    "version": 3
   },
   "file_extension": ".py",
   "mimetype": "text/x-python",
   "name": "python",
   "nbconvert_exporter": "python",
   "pygments_lexer": "ipython3",
   "version": "3.9.16"
  }
 },
 "nbformat": 4,
 "nbformat_minor": 5
}
