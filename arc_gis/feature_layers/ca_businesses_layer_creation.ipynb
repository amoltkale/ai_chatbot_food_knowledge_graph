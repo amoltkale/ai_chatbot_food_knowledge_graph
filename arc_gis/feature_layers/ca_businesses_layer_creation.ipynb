{
 "cells": [
  {
   "cell_type": "code",
   "execution_count": 1,
   "id": "3ccb8bac-cb4c-41e4-ac58-276465743795",
   "metadata": {},
   "outputs": [],
   "source": [
    "import pandas as pd\n",
    "import geopandas\n",
    "import matplotlib.pyplot as plt\n",
    "import sqlalchemy as sal\n",
    "import psycopg2\n",
    "import arcgis\n",
    "from arcgis.gis import GIS\n",
    "import sys\n",
    "sys.path.append('../')\n",
    "from gis_resources import san_diego_county_zips\n",
    "import os\n",
    "from arcgis.features import GeoAccessor"
   ]
  },
  {
   "cell_type": "code",
   "execution_count": 2,
   "id": "c87ec758-933d-4338-ad99-4edc7fc8492e",
   "metadata": {},
   "outputs": [],
   "source": [
    "pd.set_option('display.max_colwidth', None)\n"
   ]
  },
  {
   "cell_type": "code",
   "execution_count": 3,
   "id": "57e1dc20-8f73-4fee-a71f-83f4903349ea",
   "metadata": {},
   "outputs": [
    {
     "name": "stdout",
     "output_type": "stream",
     "text": [
      "Enter the Client ID/APP ID generated from Arc GIS:\n"
     ]
    },
    {
     "name": "stdin",
     "output_type": "stream",
     "text": [
      " Elm5V3upnnV17Q3r\n"
     ]
    },
    {
     "name": "stdout",
     "output_type": "stream",
     "text": [
      "Please sign in to your GIS and paste the code that is obtained below.\n",
      "If a web browser does not automatically open, please navigate to the URL below yourself instead.\n",
      "Opening web browser to navigate to: https://ucsdonline.maps.arcgis.com/sharing/rest/oauth2/authorize?response_type=code&client_id=Elm5V3upnnV17Q3r&redirect_uri=urn%3Aietf%3Awg%3Aoauth%3A2.0%3Aoob&state=MB6SnIghRE9j3BTbadbHhXCRXLzfZA&allow_verification=false\n"
     ]
    },
    {
     "name": "stdin",
     "output_type": "stream",
     "text": [
      "Enter code obtained on signing in using SAML:  ········\n"
     ]
    },
    {
     "name": "stderr",
     "output_type": "stream",
     "text": [
      "/Users/amolkale/Documents/DSE/DSE260-Capstone-Project/capstone/venv3.9/lib/python3.9/site-packages/urllib3/connectionpool.py:1045: InsecureRequestWarning: Unverified HTTPS request is being made to host 'ucsdonline.maps.arcgis.com'. Adding certificate verification is strongly advised. See: https://urllib3.readthedocs.io/en/1.26.x/advanced-usage.html#ssl-warnings\n",
      "  warnings.warn(\n"
     ]
    },
    {
     "data": {
      "text/plain": [
       "'2.1.0'"
      ]
     },
     "execution_count": 3,
     "metadata": {},
     "output_type": "execute_result"
    }
   ],
   "source": [
    "\n",
    "#gis = GIS(username='izaslavsky_ucsd')  # this will ask for password. \n",
    "print(\"Enter the Client ID/APP ID generated from Arc GIS:\")\n",
    "app_id = input()\n",
    "gis = GIS(\"https://ucsdonline.maps.arcgis.com/home\", client_id=app_id)\n",
    "arcgis.__version__\n",
    "# Elm5V3upnnV17Q3r"
   ]
  },
  {
   "cell_type": "code",
   "execution_count": 4,
   "id": "14d977e9-01f4-46fd-9f15-379cfb3e4abd",
   "metadata": {},
   "outputs": [],
   "source": [
    "# df = pd.DataFrame(\n",
    "#     {'City': ['Buenos Aires', 'Brasilia', 'Santiago', 'Bogota', 'Caracas'],\n",
    "#      'Country': ['Argentina', 'Brazil', 'Chile', 'Colombia', 'Venezuela'],\n",
    "#      'Latitude': [-34.58, -15.78, -33.45, 4.60, 10.48],\n",
    "#      'Longitude': [-58.66, -47.91, -70.66, -74.08, -66.86]})"
   ]
  },
  {
   "cell_type": "code",
   "execution_count": 5,
   "id": "3b3fb8ae-cbe6-4182-887b-92f6b088ca7a",
   "metadata": {},
   "outputs": [],
   "source": [
    "# gdf = geopandas.GeoDataFrame(\n",
    "#     df, geometry=geopandas.points_from_xy(df.Longitude, df.Latitude))"
   ]
  },
  {
   "cell_type": "code",
   "execution_count": 6,
   "id": "af5e68d3-8770-4e71-b914-59b5f830d832",
   "metadata": {},
   "outputs": [],
   "source": [
    "# print(gdf.head())"
   ]
  },
  {
   "cell_type": "code",
   "execution_count": 7,
   "id": "68cde741-c5dc-4b05-b4f0-e9c0749d2b26",
   "metadata": {},
   "outputs": [],
   "source": [
    "# world = geopandas.read_file(geopandas.datasets.get_path('naturalearth_lowres'))\n",
    "\n",
    "# # We restrict to South America.\n",
    "# ax = world[world.continent == 'South America'].plot(\n",
    "#     color='white', edgecolor='black')\n",
    "\n",
    "# # We can now plot our ``GeoDataFrame``.\n",
    "# gdf.plot(ax=ax, color='red')\n",
    "\n",
    "# plt.show()"
   ]
  },
  {
   "cell_type": "code",
   "execution_count": 8,
   "id": "0218c357-7752-4a61-b2a9-c43e53ea1d00",
   "metadata": {},
   "outputs": [],
   "source": [
    "# df"
   ]
  },
  {
   "cell_type": "code",
   "execution_count": null,
   "id": "29dc3171-769e-4d89-8fe3-30c5cef08f53",
   "metadata": {},
   "outputs": [],
   "source": [
    "print(\"Nourish User:\")\n",
    "nourish_user = input()\n",
    "print(\"Nourish Password:\")\n",
    "nourish_pswd = input()"
   ]
  },
  {
   "cell_type": "code",
   "execution_count": 10,
   "id": "35c077e3-c0d6-4ca0-9b0d-e602d5fd535b",
   "metadata": {},
   "outputs": [],
   "source": [
    "conn = psycopg2.connect(\n",
    "    host=\"awesome-hw.sdsc.edu\",\n",
    "    database=\"nourish\",\n",
    "    user=nourish_user,\n",
    "    password=nourish_pswd)"
   ]
  },
  {
   "cell_type": "code",
   "execution_count": 11,
   "id": "3509dc93-6fe2-420f-baf1-b5b681fb9f2f",
   "metadata": {},
   "outputs": [],
   "source": [
    "# create a cursor\n",
    "cur = conn.cursor()\n",
    "        \n",
    "\n",
    "# execute a statement\n",
    "cur.execute('select * from ca_business')\n",
    "\n",
    "        # display the PostgreSQL database server version\n",
    "ca_business_result = cur.fetchall()\n",
    "       \n",
    "\t# close the communication with the PostgreSQL\n",
    "cur.close()"
   ]
  },
  {
   "cell_type": "code",
   "execution_count": 12,
   "id": "60275bb6-39c1-472d-8a12-a008d297daf5",
   "metadata": {},
   "outputs": [],
   "source": [
    "ca_business_result_list = [(row[1],row[4],row[5],row[7],row[8],row[9]) for row in ca_business_result]\n",
    "#lat_long_list[:10]"
   ]
  },
  {
   "cell_type": "code",
   "execution_count": 33,
   "id": "73e479c0-4a90-435e-a878-10605a78bb17",
   "metadata": {},
   "outputs": [],
   "source": [
    "# Create a DataFrame\n",
    "dataFrame = pd.DataFrame(ca_business_result_list,\n",
    "              columns=(\"business_name\",\"latitude\", \"longitude\",\"zip\", \"categories\",\"city\")\n",
    "              );"
   ]
  },
  {
   "cell_type": "code",
   "execution_count": 35,
   "id": "8768072e-954c-499a-9db9-9a252d92abc1",
   "metadata": {},
   "outputs": [],
   "source": [
    "# since some of the zip are not present in ca_business table\n",
    "dataFrame = dataFrame[~dataFrame['zip'].isna()]"
   ]
  },
  {
   "cell_type": "code",
   "execution_count": 37,
   "id": "f538efe1-6264-4f96-b5a9-73db9e78f4f9",
   "metadata": {},
   "outputs": [],
   "source": [
    "\n",
    "dataFrame = dataFrame.astype({\"zip\": int})\n",
    "dataFrame = dataFrame.astype({\"zip\": str})"
   ]
  },
  {
   "cell_type": "code",
   "execution_count": 38,
   "id": "fce6a356-7702-472b-961b-be233767ef25",
   "metadata": {},
   "outputs": [
    {
     "data": {
      "text/plain": [
       "['91910',\n",
       " '91911',\n",
       " '91913',\n",
       " '91914',\n",
       " '91915',\n",
       " '91916',\n",
       " '91917',\n",
       " '91931',\n",
       " '91932',\n",
       " '91934']"
      ]
     },
     "execution_count": 38,
     "metadata": {},
     "output_type": "execute_result"
    }
   ],
   "source": [
    "# Pick the data for only San Diego County\n",
    "san_diego_county_zips_lst = san_diego_county_zips()\n",
    "#df[df['col1'].isin(['a', 'c', 'h'])]\n",
    "san_diego_county_zips_lst[:10]"
   ]
  },
  {
   "cell_type": "code",
   "execution_count": 39,
   "id": "53e4f1e8-13b7-44ea-abb6-2b29509fef80",
   "metadata": {},
   "outputs": [
    {
     "data": {
      "text/html": [
       "<div>\n",
       "<style scoped>\n",
       "    .dataframe tbody tr th:only-of-type {\n",
       "        vertical-align: middle;\n",
       "    }\n",
       "\n",
       "    .dataframe tbody tr th {\n",
       "        vertical-align: top;\n",
       "    }\n",
       "\n",
       "    .dataframe thead th {\n",
       "        text-align: right;\n",
       "    }\n",
       "</style>\n",
       "<table border=\"1\" class=\"dataframe\">\n",
       "  <thead>\n",
       "    <tr style=\"text-align: right;\">\n",
       "      <th></th>\n",
       "      <th>business_name</th>\n",
       "      <th>latitude</th>\n",
       "      <th>longitude</th>\n",
       "      <th>zip</th>\n",
       "      <th>categories</th>\n",
       "      <th>city</th>\n",
       "    </tr>\n",
       "  </thead>\n",
       "  <tbody>\n",
       "    <tr>\n",
       "      <th>9</th>\n",
       "      <td>Bird Park (playground)</td>\n",
       "      <td>32.7406017</td>\n",
       "      <td>-117.1347167</td>\n",
       "      <td>92104</td>\n",
       "      <td>[Playground]</td>\n",
       "      <td>San Diego</td>\n",
       "    </tr>\n",
       "    <tr>\n",
       "      <th>21</th>\n",
       "      <td>San Diego Regional Center</td>\n",
       "      <td>32.6586542</td>\n",
       "      <td>-117.1033054</td>\n",
       "      <td>91950</td>\n",
       "      <td>[Non-profit organization]</td>\n",
       "      <td>National City</td>\n",
       "    </tr>\n",
       "    <tr>\n",
       "      <th>33</th>\n",
       "      <td>Phở Duyên Mai</td>\n",
       "      <td>32.8305101</td>\n",
       "      <td>-117.1388964</td>\n",
       "      <td>92123</td>\n",
       "      <td>[Vietnamese restaurant]</td>\n",
       "      <td>San Diego</td>\n",
       "    </tr>\n",
       "    <tr>\n",
       "      <th>35</th>\n",
       "      <td>Lobster West</td>\n",
       "      <td>33.0420054</td>\n",
       "      <td>-117.2930713</td>\n",
       "      <td>92024</td>\n",
       "      <td>[Restaurant, Sandwich shop, Seafood restaurant]</td>\n",
       "      <td>Encinitas</td>\n",
       "    </tr>\n",
       "    <tr>\n",
       "      <th>45</th>\n",
       "      <td>Panda Express</td>\n",
       "      <td>33.128009899999995</td>\n",
       "      <td>-117.09391099999999</td>\n",
       "      <td>92025</td>\n",
       "      <td>[Chinese restaurant, Asian restaurant, Restaurant]</td>\n",
       "      <td>Escondido</td>\n",
       "    </tr>\n",
       "    <tr>\n",
       "      <th>...</th>\n",
       "      <td>...</td>\n",
       "      <td>...</td>\n",
       "      <td>...</td>\n",
       "      <td>...</td>\n",
       "      <td>...</td>\n",
       "      <td>...</td>\n",
       "    </tr>\n",
       "    <tr>\n",
       "      <th>515891</th>\n",
       "      <td>Haircut Place</td>\n",
       "      <td>32.7032124</td>\n",
       "      <td>-117.1000529</td>\n",
       "      <td>92113</td>\n",
       "      <td>[Beauty salon, Hair salon]</td>\n",
       "      <td>San Diego</td>\n",
       "    </tr>\n",
       "    <tr>\n",
       "      <th>515907</th>\n",
       "      <td>Evans Tire &amp; Service Centers</td>\n",
       "      <td>32.9561091</td>\n",
       "      <td>-117.044693</td>\n",
       "      <td>92064</td>\n",
       "      <td>[Tire shop, Auto repair shop, Brake shop, Oil change service, Wheel alignment service]</td>\n",
       "      <td>Poway</td>\n",
       "    </tr>\n",
       "    <tr>\n",
       "      <th>515941</th>\n",
       "      <td>Lake Calavera Hiking Trail</td>\n",
       "      <td>33.1692003</td>\n",
       "      <td>-117.2851578</td>\n",
       "      <td>92010</td>\n",
       "      <td>[Hiking area, Tourist attraction]</td>\n",
       "      <td>Carlsbad</td>\n",
       "    </tr>\n",
       "    <tr>\n",
       "      <th>515943</th>\n",
       "      <td>Banfield Pet Hospital</td>\n",
       "      <td>33.1722239</td>\n",
       "      <td>-117.2144568</td>\n",
       "      <td>92083</td>\n",
       "      <td>[Veterinarian, Animal hospital]</td>\n",
       "      <td>Vista</td>\n",
       "    </tr>\n",
       "    <tr>\n",
       "      <th>515952</th>\n",
       "      <td>Secret shawarma</td>\n",
       "      <td>32.5944056</td>\n",
       "      <td>-117.08446479999999</td>\n",
       "      <td>92154</td>\n",
       "      <td>[Mediterranean restaurant]</td>\n",
       "      <td>San Diego</td>\n",
       "    </tr>\n",
       "  </tbody>\n",
       "</table>\n",
       "<p>46516 rows × 6 columns</p>\n",
       "</div>"
      ],
      "text/plain": [
       "                       business_name            latitude            longitude  \\\n",
       "9             Bird Park (playground)          32.7406017         -117.1347167   \n",
       "21         San Diego Regional Center          32.6586542         -117.1033054   \n",
       "33                     Phở Duyên Mai          32.8305101         -117.1388964   \n",
       "35                      Lobster West          33.0420054         -117.2930713   \n",
       "45                     Panda Express  33.128009899999995  -117.09391099999999   \n",
       "...                              ...                 ...                  ...   \n",
       "515891                 Haircut Place          32.7032124         -117.1000529   \n",
       "515907  Evans Tire & Service Centers          32.9561091          -117.044693   \n",
       "515941    Lake Calavera Hiking Trail          33.1692003         -117.2851578   \n",
       "515943         Banfield Pet Hospital          33.1722239         -117.2144568   \n",
       "515952               Secret shawarma          32.5944056  -117.08446479999999   \n",
       "\n",
       "          zip  \\\n",
       "9       92104   \n",
       "21      91950   \n",
       "33      92123   \n",
       "35      92024   \n",
       "45      92025   \n",
       "...       ...   \n",
       "515891  92113   \n",
       "515907  92064   \n",
       "515941  92010   \n",
       "515943  92083   \n",
       "515952  92154   \n",
       "\n",
       "                                                                                    categories  \\\n",
       "9                                                                                 [Playground]   \n",
       "21                                                                   [Non-profit organization]   \n",
       "33                                                                     [Vietnamese restaurant]   \n",
       "35                                             [Restaurant, Sandwich shop, Seafood restaurant]   \n",
       "45                                          [Chinese restaurant, Asian restaurant, Restaurant]   \n",
       "...                                                                                        ...   \n",
       "515891                                                              [Beauty salon, Hair salon]   \n",
       "515907  [Tire shop, Auto repair shop, Brake shop, Oil change service, Wheel alignment service]   \n",
       "515941                                                       [Hiking area, Tourist attraction]   \n",
       "515943                                                         [Veterinarian, Animal hospital]   \n",
       "515952                                                              [Mediterranean restaurant]   \n",
       "\n",
       "                 city  \n",
       "9           San Diego  \n",
       "21      National City  \n",
       "33          San Diego  \n",
       "35          Encinitas  \n",
       "45          Escondido  \n",
       "...               ...  \n",
       "515891      San Diego  \n",
       "515907          Poway  \n",
       "515941       Carlsbad  \n",
       "515943          Vista  \n",
       "515952      San Diego  \n",
       "\n",
       "[46516 rows x 6 columns]"
      ]
     },
     "execution_count": 39,
     "metadata": {},
     "output_type": "execute_result"
    }
   ],
   "source": [
    "dataFrame = dataFrame[dataFrame[\"zip\"].isin(san_diego_county_zips_lst)]\n",
    "dataFrame"
   ]
  },
  {
   "cell_type": "code",
   "execution_count": 40,
   "id": "b33ccc36-d251-4f8c-8642-2d425ac7a230",
   "metadata": {},
   "outputs": [],
   "source": [
    "#ca_business_sgdf.head(5)\n",
    "dataFrame['categories'].fillna('',inplace=True)\n",
    "dataFrame['categories']=dataFrame.categories.apply(lambda x: ','.join(x))"
   ]
  },
  {
   "cell_type": "code",
   "execution_count": 41,
   "id": "332ea853-bed0-49a5-9cc5-fbe211a36bdc",
   "metadata": {},
   "outputs": [],
   "source": [
    "#!pip install psycopg2-binary"
   ]
  },
  {
   "cell_type": "code",
   "execution_count": 42,
   "id": "9f219355-2df0-4a6c-86a3-8937c7901881",
   "metadata": {},
   "outputs": [],
   "source": [
    "#!pip show psycopg2-binary"
   ]
  },
  {
   "cell_type": "code",
   "execution_count": 43,
   "id": "cdef6eea-6e2a-4050-ae98-e10f54fc834f",
   "metadata": {},
   "outputs": [],
   "source": [
    "gdf = geopandas.GeoDataFrame(\n",
    "    dataFrame, geometry=geopandas.points_from_xy(dataFrame.longitude, dataFrame.latitude))"
   ]
  },
  {
   "cell_type": "code",
   "execution_count": 44,
   "id": "5fd685d7-befb-4062-8abd-dca6a3c7830c",
   "metadata": {},
   "outputs": [],
   "source": [
    "ca_business_sgdf = GeoAccessor.from_geodataframe(gdf, inplace=False, column_name='SHAPE')"
   ]
  },
  {
   "cell_type": "code",
   "execution_count": null,
   "id": "d5415b22-0098-4ac2-aac1-ced7fb9fe96d",
   "metadata": {},
   "outputs": [],
   "source": []
  },
  {
   "cell_type": "code",
   "execution_count": 45,
   "id": "cca6a066-f111-4000-a6c7-fea0a8d6fcd0",
   "metadata": {},
   "outputs": [],
   "source": [
    "#ca_business_sgdf=ca_business_sgdf.drop(['latitude','longitude'], axis=1)"
   ]
  },
  {
   "cell_type": "code",
   "execution_count": 46,
   "id": "83ec8fde-3947-4970-834a-0fcd0566deb5",
   "metadata": {},
   "outputs": [],
   "source": [
    "#ca_business_sgdf['zip'] = ca_business_sgdf['zip'].astype(str)"
   ]
  },
  {
   "cell_type": "code",
   "execution_count": 47,
   "id": "f2abc3a2-447b-4d9f-85d4-8ec813def731",
   "metadata": {},
   "outputs": [],
   "source": [
    "#ca_business_sgdf.info()"
   ]
  },
  {
   "cell_type": "code",
   "execution_count": 48,
   "id": "e2b9a0c6-89f3-4321-8661-baaa531f066a",
   "metadata": {},
   "outputs": [
    {
     "name": "stdout",
     "output_type": "stream",
     "text": [
      "CPU times: user 35.3 s, sys: 2.21 s, total: 37.5 s\n",
      "Wall time: 1min 21s\n"
     ]
    }
   ],
   "source": [
    "%%time\n",
    "# Convert back from a SEDF into a feature layer, and publishing on AGOL\n",
    "my_new_featurelayer = ca_business_sgdf.spatial.to_featurelayer(title=\"San Diego County Businesses\", \n",
    "                                                         gis=gis, \n",
    "                                                         folder='nourish_gis',\n",
    "                                                         tags=['SanDiegoCountyBusinesses'])"
   ]
  },
  {
   "cell_type": "code",
   "execution_count": 28,
   "id": "f9ce9afa-5f59-4398-ac7a-c98386461b8f",
   "metadata": {},
   "outputs": [],
   "source": [
    "#ca_business_sgdf"
   ]
  },
  {
   "cell_type": "code",
   "execution_count": null,
   "id": "39e58b01-c905-4789-81e9-6ffcad3cc640",
   "metadata": {},
   "outputs": [],
   "source": []
  }
 ],
 "metadata": {
  "kernelspec": {
   "display_name": "Python 3 (ipykernel)",
   "language": "python",
   "name": "python3"
  },
  "language_info": {
   "codemirror_mode": {
    "name": "ipython",
    "version": 3
   },
   "file_extension": ".py",
   "mimetype": "text/x-python",
   "name": "python",
   "nbconvert_exporter": "python",
   "pygments_lexer": "ipython3",
   "version": "3.9.16"
  }
 },
 "nbformat": 4,
 "nbformat_minor": 5
}
