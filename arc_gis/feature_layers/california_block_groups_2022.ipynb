{
 "cells": [
  {
   "cell_type": "markdown",
   "id": "e697a221-530e-4b13-946e-ccd10b3a93ea",
   "metadata": {},
   "source": [
    "### Motivation\n",
    "* This notebook is to create a trusted California State block groups on a feature layer\n",
    "We will try to see if we can use the existing feature layer created from Esri :  \n",
    "Feature Layer: https://services.arcgis.com/P3ePLMYs2RVChkJx/arcgis/rest/services/USA_Census_BlockGroups/FeatureServer  \n",
    "Feature Layer Details: https://esri.maps.arcgis.com/home/item.html?id=2f5e592494d243b0aa5c253e75e792a4\n",
    "* Using this layer, we would pick CA County FIPS data  \n",
    "* Enrich the Dataframe with consumer spending and other variables"
   ]
  },
  {
   "cell_type": "code",
   "execution_count": 2,
   "id": "38fb7b3b-3d70-49d6-8527-6bf543655062",
   "metadata": {},
   "outputs": [],
   "source": [
    "from arcgis.gis import GIS\n",
    "from arcgis.features import FeatureLayerCollection, FeatureLayer\n",
    "from arcgis.geoenrichment import enrich, Country\n",
    "from feature_layer_utils import get_enrichment_variables\n",
    "import itertools\n",
    "import sys\n",
    "sys.path.append('../../')\n",
    "from utils import get_config"
   ]
  },
  {
   "cell_type": "code",
   "execution_count": 21,
   "id": "846cf77a-e2e8-409c-be0c-99784f0d5b90",
   "metadata": {},
   "outputs": [
    {
     "name": "stdout",
     "output_type": "stream",
     "text": [
      "<configparser.ConfigParser object at 0x16325a730>\n",
      "Please sign in to your GIS and paste the code that is obtained below.\n",
      "If a web browser does not automatically open, please navigate to the URL below yourself instead.\n",
      "Opening web browser to navigate to: https://ucsdonline.maps.arcgis.com/sharing/rest/oauth2/authorize?response_type=code&client_id=Elm5V3upnnV17Q3r&redirect_uri=urn%3Aietf%3Awg%3Aoauth%3A2.0%3Aoob&state=YYdyhiSn83R7vhPbN5NpP4g3JWWlYT&allow_verification=false\n",
      "Enter code obtained on signing in using SAML: ········\n"
     ]
    },
    {
     "name": "stderr",
     "output_type": "stream",
     "text": [
      "/Users/amolkale/Documents/DSE/DSE260-Capstone-Project/capstone/venv3.9/lib/python3.9/site-packages/urllib3/connectionpool.py:1045: InsecureRequestWarning: Unverified HTTPS request is being made to host 'ucsdonline.maps.arcgis.com'. Adding certificate verification is strongly advised. See: https://urllib3.readthedocs.io/en/1.26.x/advanced-usage.html#ssl-warnings\n",
      "  warnings.warn(\n"
     ]
    }
   ],
   "source": [
    "app_id = get_config(\"arcgis\",\"clientid\")\n",
    "gis = GIS(\"https://ucsdonline.maps.arcgis.com/home\", client_id=app_id)"
   ]
  },
  {
   "cell_type": "markdown",
   "id": "13ede984-035a-4b03-8566-bf6084412b68",
   "metadata": {},
   "source": [
    "#### Selecting only San Diego and Imperial County block groups from US block groups"
   ]
  },
  {
   "cell_type": "code",
   "execution_count": 4,
   "id": "6feee856-309e-4cbd-bd92-1596be70ad30",
   "metadata": {},
   "outputs": [],
   "source": [
    "fls = \"https://services.arcgis.com/P3ePLMYs2RVChkJx/arcgis/rest/services/USA_Census_BlockGroups/FeatureServer\""
   ]
  },
  {
   "cell_type": "code",
   "execution_count": 5,
   "id": "2401b5ba-ca5a-4d24-886a-82439ee98b02",
   "metadata": {},
   "outputs": [],
   "source": [
    "flc = FeatureLayerCollection(fls)"
   ]
  },
  {
   "cell_type": "code",
   "execution_count": 6,
   "id": "f0169edd-1ae3-4716-801d-5abfc0abbc83",
   "metadata": {},
   "outputs": [],
   "source": [
    "fl_url = flc.layers[0].url"
   ]
  },
  {
   "cell_type": "code",
   "execution_count": 7,
   "id": "7018177b-ac3f-4528-87a9-f263e03cfc87",
   "metadata": {},
   "outputs": [],
   "source": [
    "us_block_grp_fl = FeatureLayer(fl_url)"
   ]
  },
  {
   "cell_type": "markdown",
   "id": "dcfd48c2-e870-4506-a958-33e5592c59b1",
   "metadata": {},
   "source": [
    "Selecting FIPS=`06` which is for California State"
   ]
  },
  {
   "cell_type": "code",
   "execution_count": 8,
   "id": "cdc59246-f0cd-478e-9886-78f3905c81b7",
   "metadata": {},
   "outputs": [],
   "source": [
    "ca_fip = '06'"
   ]
  },
  {
   "cell_type": "code",
   "execution_count": 10,
   "id": "a7ef1467-4a6c-4b36-b2d4-257ae2b4d351",
   "metadata": {},
   "outputs": [],
   "source": [
    "ca_block_grp_fs = us_block_grp_fl.query(\n",
    "    where=f\"STATE_FIPS='{ca_fip}'\"\n",
    ")"
   ]
  },
  {
   "cell_type": "code",
   "execution_count": 11,
   "id": "b98383eb-d805-4a42-93c3-85dbfa255d2a",
   "metadata": {},
   "outputs": [
    {
     "name": "stdout",
     "output_type": "stream",
     "text": [
      "Shape: (25587, 14)\n"
     ]
    },
    {
     "data": {
      "text/html": [
       "<div>\n",
       "<style scoped>\n",
       "    .dataframe tbody tr th:only-of-type {\n",
       "        vertical-align: middle;\n",
       "    }\n",
       "\n",
       "    .dataframe tbody tr th {\n",
       "        vertical-align: top;\n",
       "    }\n",
       "\n",
       "    .dataframe thead th {\n",
       "        text-align: right;\n",
       "    }\n",
       "</style>\n",
       "<table border=\"1\" class=\"dataframe\">\n",
       "  <thead>\n",
       "    <tr style=\"text-align: right;\">\n",
       "      <th></th>\n",
       "      <th>OBJECTID</th>\n",
       "      <th>STATE_ABBR</th>\n",
       "      <th>STATE_FIPS</th>\n",
       "      <th>COUNTY_FIPS</th>\n",
       "      <th>STCOFIPS</th>\n",
       "      <th>TRACT_FIPS</th>\n",
       "      <th>BLOCKGROUP_FIPS</th>\n",
       "      <th>FIPS</th>\n",
       "      <th>POPULATION</th>\n",
       "      <th>POP_SQMI</th>\n",
       "      <th>SQMI</th>\n",
       "      <th>Shape__Area</th>\n",
       "      <th>Shape__Length</th>\n",
       "      <th>SHAPE</th>\n",
       "    </tr>\n",
       "  </thead>\n",
       "  <tbody>\n",
       "    <tr>\n",
       "      <th>0</th>\n",
       "      <td>11394</td>\n",
       "      <td>CA</td>\n",
       "      <td>06</td>\n",
       "      <td>001</td>\n",
       "      <td>06001</td>\n",
       "      <td>400100</td>\n",
       "      <td>1</td>\n",
       "      <td>060014001001</td>\n",
       "      <td>1789</td>\n",
       "      <td>805.9</td>\n",
       "      <td>2.22</td>\n",
       "      <td>0.000588</td>\n",
       "      <td>0.11378</td>\n",
       "      <td>{\"rings\": [[[-122.24244320135, 37.882207966106...</td>\n",
       "    </tr>\n",
       "    <tr>\n",
       "      <th>1</th>\n",
       "      <td>11395</td>\n",
       "      <td>CA</td>\n",
       "      <td>06</td>\n",
       "      <td>001</td>\n",
       "      <td>06001</td>\n",
       "      <td>400200</td>\n",
       "      <td>1</td>\n",
       "      <td>060014002001</td>\n",
       "      <td>1022</td>\n",
       "      <td>9290.9</td>\n",
       "      <td>0.11</td>\n",
       "      <td>0.000029</td>\n",
       "      <td>0.031773</td>\n",
       "      <td>{\"rings\": [[[-122.241923197175, 37.85181896382...</td>\n",
       "    </tr>\n",
       "    <tr>\n",
       "      <th>2</th>\n",
       "      <td>11396</td>\n",
       "      <td>CA</td>\n",
       "      <td>06</td>\n",
       "      <td>001</td>\n",
       "      <td>06001</td>\n",
       "      <td>400200</td>\n",
       "      <td>2</td>\n",
       "      <td>060014002002</td>\n",
       "      <td>979</td>\n",
       "      <td>8158.3</td>\n",
       "      <td>0.12</td>\n",
       "      <td>0.000031</td>\n",
       "      <td>0.03383</td>\n",
       "      <td>{\"rings\": [[[-122.256879198933, 37.84293996164...</td>\n",
       "    </tr>\n",
       "    <tr>\n",
       "      <th>3</th>\n",
       "      <td>11397</td>\n",
       "      <td>CA</td>\n",
       "      <td>06</td>\n",
       "      <td>001</td>\n",
       "      <td>06001</td>\n",
       "      <td>400300</td>\n",
       "      <td>1</td>\n",
       "      <td>060014003001</td>\n",
       "      <td>1123</td>\n",
       "      <td>11230.0</td>\n",
       "      <td>0.1</td>\n",
       "      <td>0.000027</td>\n",
       "      <td>0.025534</td>\n",
       "      <td>{\"rings\": [[[-122.251354197915, 37.84015996211...</td>\n",
       "    </tr>\n",
       "  </tbody>\n",
       "</table>\n",
       "</div>"
      ],
      "text/plain": [
       "   OBJECTID STATE_ABBR STATE_FIPS COUNTY_FIPS STCOFIPS TRACT_FIPS  \\\n",
       "0     11394         CA         06         001    06001     400100   \n",
       "1     11395         CA         06         001    06001     400200   \n",
       "2     11396         CA         06         001    06001     400200   \n",
       "3     11397         CA         06         001    06001     400300   \n",
       "\n",
       "  BLOCKGROUP_FIPS          FIPS  POPULATION  POP_SQMI  SQMI  Shape__Area  \\\n",
       "0               1  060014001001        1789     805.9  2.22     0.000588   \n",
       "1               1  060014002001        1022    9290.9  0.11     0.000029   \n",
       "2               2  060014002002         979    8158.3  0.12     0.000031   \n",
       "3               1  060014003001        1123   11230.0   0.1     0.000027   \n",
       "\n",
       "   Shape__Length                                              SHAPE  \n",
       "0        0.11378  {\"rings\": [[[-122.24244320135, 37.882207966106...  \n",
       "1       0.031773  {\"rings\": [[[-122.241923197175, 37.85181896382...  \n",
       "2        0.03383  {\"rings\": [[[-122.256879198933, 37.84293996164...  \n",
       "3       0.025534  {\"rings\": [[[-122.251354197915, 37.84015996211...  "
      ]
     },
     "execution_count": 11,
     "metadata": {},
     "output_type": "execute_result"
    }
   ],
   "source": [
    "ca_block_grp_fs_sdf = ca_block_grp_fs.sdf\n",
    "print(f\"Shape: {ca_block_grp_fs_sdf.shape}\")\n",
    "ca_block_grp_fs_sdf.head(4)"
   ]
  },
  {
   "cell_type": "markdown",
   "id": "562b2e87-b217-47dd-8a50-8d6b5dcc18ef",
   "metadata": {},
   "source": [
    "For enrichment, we can provide the feature set or the spatially enabled df.\n",
    "Let us just pass down the sdf since we have visualized it already."
   ]
  },
  {
   "cell_type": "code",
   "execution_count": 12,
   "id": "2ff2aec6-be7b-44d4-af94-5569b14b0365",
   "metadata": {},
   "outputs": [
    {
     "data": {
      "text/html": [
       "<div class=\"item_container\" style=\"height: auto; overflow: hidden; border: 1px solid #cfcfcf; border-radius: 2px; background: #f6fafa; line-height: 1.21429em; padding: 10px;\">\n",
       "                    <div class=\"item_left\" style=\"width: 210px; float: left;\">\n",
       "                       <a href='https://UCSDOnline.maps.arcgis.com/home/item.html?id=6d64cb12c03e4a099299cc00bcabbea6' target='_blank'>\n",
       "                        <img src='http://static.arcgis.com/images/desktopapp.png' class=\"itemThumbnail\">\n",
       "                       </a>\n",
       "                    </div>\n",
       "\n",
       "                    <div class=\"item_right\"     style=\"float: none; width: auto; overflow: hidden;\">\n",
       "                        <a href='https://UCSDOnline.maps.arcgis.com/home/item.html?id=6d64cb12c03e4a099299cc00bcabbea6' target='_blank'><b>California State Block Groups</b>\n",
       "                        </a>\n",
       "                        <br/><img src='https://UCSDOnline.maps.arcgis.com/home/js/jsapi/esri/css/images/item_type_icons/featureshosted16.png' style=\"vertical-align:middle;\">Feature Layer Collection by akale_UCSDOnline\n",
       "                        <br/>Last Modified: April 04, 2023\n",
       "                        <br/>0 comments, 0 views\n",
       "                    </div>\n",
       "                </div>\n",
       "                "
      ],
      "text/plain": [
       "<Item title:\"California State Block Groups\" type:Feature Layer Collection owner:akale_UCSDOnline>"
      ]
     },
     "execution_count": 12,
     "metadata": {},
     "output_type": "execute_result"
    }
   ],
   "source": [
    "ca_block_groups_fl = ca_block_grp_fs_sdf.spatial.to_featurelayer(title='California State Block Groups',\n",
    "                                                                 gis=gis,\n",
    "                                                                 folder='nourish_gis',\n",
    "                                                                 tags=['California','BlockGroups','County'],\n",
    "                                                                 service_name='California State Block Groups'\n",
    "                                                                )\n",
    "ca_block_groups_fl\n"
   ]
  },
  {
   "cell_type": "code",
   "execution_count": null,
   "id": "2a56b95e",
   "metadata": {},
   "outputs": [],
   "source": []
  }
 ],
 "metadata": {
  "kernelspec": {
   "display_name": "Python 3 (ipykernel)",
   "language": "python",
   "name": "python3"
  },
  "language_info": {
   "codemirror_mode": {
    "name": "ipython",
    "version": 3
   },
   "file_extension": ".py",
   "mimetype": "text/x-python",
   "name": "python",
   "nbconvert_exporter": "python",
   "pygments_lexer": "ipython3",
   "version": "3.9.16"
  }
 },
 "nbformat": 4,
 "nbformat_minor": 5
}
