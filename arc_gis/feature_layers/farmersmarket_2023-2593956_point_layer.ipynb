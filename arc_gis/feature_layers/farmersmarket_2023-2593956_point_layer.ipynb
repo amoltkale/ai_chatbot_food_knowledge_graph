{
 "cells": [
  {
   "cell_type": "code",
   "execution_count": 1,
   "id": "8aa08873",
   "metadata": {},
   "outputs": [],
   "source": [
    "import psycopg2\n",
    "import arcgis\n",
    "from arcgis.gis import GIS\n",
    "from arcgis.features import FeatureLayer, FeatureLayerCollection, GeoAccessor\n",
    "import sys\n",
    "sys.path.append('../')\n",
    "sys.path.append('../../')\n",
    "from utils import get_config\n",
    "from gis_resources import get_lat_long\n",
    "import pandas as pd"
   ]
  },
  {
   "cell_type": "markdown",
   "id": "5b3a5c14",
   "metadata": {},
   "source": [
    "### Objective\n",
    "* Read farmersmarket_2023-2593956 table from postgres.  \n",
    "* Using the lat / long in the table, create a point layer.  "
   ]
  },
  {
   "cell_type": "code",
   "execution_count": 2,
   "id": "d53beb94",
   "metadata": {},
   "outputs": [
    {
     "name": "stdout",
     "output_type": "stream",
     "text": [
      "<configparser.ConfigParser object at 0x133b07940>\n",
      "Please sign in to your GIS and paste the code that is obtained below.\n",
      "If a web browser does not automatically open, please navigate to the URL below yourself instead.\n",
      "Opening web browser to navigate to: https://ucsdonline.maps.arcgis.com/sharing/rest/oauth2/authorize?response_type=code&client_id=Elm5V3upnnV17Q3r&redirect_uri=urn%3Aietf%3Awg%3Aoauth%3A2.0%3Aoob&state=GfKJHiOQgZbGyRKnqqMbCldNAvdGFE&allow_verification=false\n",
      "Enter code obtained on signing in using SAML: ········\n"
     ]
    },
    {
     "name": "stderr",
     "output_type": "stream",
     "text": [
      "/Users/amolkale/Documents/DSE/DSE260-Capstone-Project/capstone/venv3.9/lib/python3.9/site-packages/urllib3/connectionpool.py:1045: InsecureRequestWarning: Unverified HTTPS request is being made to host 'ucsdonline.maps.arcgis.com'. Adding certificate verification is strongly advised. See: https://urllib3.readthedocs.io/en/1.26.x/advanced-usage.html#ssl-warnings\n",
      "  warnings.warn(\n"
     ]
    }
   ],
   "source": [
    "gis = GIS(\"https://ucsdonline.maps.arcgis.com/home\", client_id=get_config(\"arcgis\",\"clientid\"))"
   ]
  },
  {
   "cell_type": "code",
   "execution_count": 3,
   "id": "ea64c05a",
   "metadata": {},
   "outputs": [
    {
     "name": "stdout",
     "output_type": "stream",
     "text": [
      "<configparser.ConfigParser object at 0x133e59b50>\n",
      "<configparser.ConfigParser object at 0x133e599d0>\n"
     ]
    }
   ],
   "source": [
    "nourish_user = get_config(\"nourish_db\",\"username\")\n",
    "nourish_pswd = get_config(\"nourish_db\",\"passkey\")\n",
    "conn = psycopg2.connect(\n",
    "    host=\"awesome-hw.sdsc.edu\",\n",
    "    database=\"nourish\",\n",
    "    user=nourish_user,\n",
    "    password=nourish_pswd)"
   ]
  },
  {
   "cell_type": "code",
   "execution_count": 4,
   "id": "9e7dc160",
   "metadata": {},
   "outputs": [
    {
     "name": "stdout",
     "output_type": "stream",
     "text": [
      "CPU times: user 4.6 ms, sys: 5.07 ms, total: 9.66 ms\n",
      "Wall time: 121 ms\n"
     ]
    }
   ],
   "source": [
    "%%time\n",
    "# create a cursor\n",
    "cur = conn.cursor()\n",
    "        \n",
    "\n",
    "# execute a statement\n",
    "cur.execute('select listing_name, location_Address, longitude, latitude from \"farmersmarket_2023-2593956\"')\n",
    "\n",
    "        # display the PostgreSQL database server version\n",
    "results = cur.fetchall()\n",
    "       \n",
    "\t# close the communication with the PostgreSQL\n",
    "cur.close()"
   ]
  },
  {
   "cell_type": "code",
   "execution_count": 5,
   "id": "fd21a666",
   "metadata": {},
   "outputs": [
    {
     "data": {
      "text/plain": [
       "('Market in The Park',\n",
       " '300 Conti, Mobile, Alabama 36602',\n",
       " Decimal('-88.045015'),\n",
       " Decimal('30.69035'))"
      ]
     },
     "execution_count": 5,
     "metadata": {},
     "output_type": "execute_result"
    }
   ],
   "source": [
    "results[1]"
   ]
  },
  {
   "cell_type": "code",
   "execution_count": 6,
   "id": "166ea06e",
   "metadata": {},
   "outputs": [
    {
     "name": "stdout",
     "output_type": "stream",
     "text": [
      "Farmers Market SHape: (1058, 4)\n"
     ]
    },
    {
     "data": {
      "text/html": [
       "<div>\n",
       "<style scoped>\n",
       "    .dataframe tbody tr th:only-of-type {\n",
       "        vertical-align: middle;\n",
       "    }\n",
       "\n",
       "    .dataframe tbody tr th {\n",
       "        vertical-align: top;\n",
       "    }\n",
       "\n",
       "    .dataframe thead th {\n",
       "        text-align: right;\n",
       "    }\n",
       "</style>\n",
       "<table border=\"1\" class=\"dataframe\">\n",
       "  <thead>\n",
       "    <tr style=\"text-align: right;\">\n",
       "      <th></th>\n",
       "      <th>listing_name</th>\n",
       "      <th>location_address</th>\n",
       "      <th>longitude</th>\n",
       "      <th>latitude</th>\n",
       "    </tr>\n",
       "  </thead>\n",
       "  <tbody>\n",
       "    <tr>\n",
       "      <th>0</th>\n",
       "      <td>Colorado Farm and Art Market</td>\n",
       "      <td>7350 Pine Creek Road, Colorado Springs, Colora...</td>\n",
       "      <td>-104.81468</td>\n",
       "      <td>38.937716</td>\n",
       "    </tr>\n",
       "    <tr>\n",
       "      <th>1</th>\n",
       "      <td>Market in The Park</td>\n",
       "      <td>300 Conti, Mobile, Alabama 36602</td>\n",
       "      <td>-88.045015</td>\n",
       "      <td>30.69035</td>\n",
       "    </tr>\n",
       "    <tr>\n",
       "      <th>2</th>\n",
       "      <td>The Territory Farmers' Market</td>\n",
       "      <td>2000 Territory Drive, Galena, Illinois 61036</td>\n",
       "      <td>-90.31353</td>\n",
       "      <td>42.404443</td>\n",
       "    </tr>\n",
       "  </tbody>\n",
       "</table>\n",
       "</div>"
      ],
      "text/plain": [
       "                    listing_name  \\\n",
       "0   Colorado Farm and Art Market   \n",
       "1             Market in The Park   \n",
       "2  The Territory Farmers' Market   \n",
       "\n",
       "                                    location_address   longitude   latitude  \n",
       "0  7350 Pine Creek Road, Colorado Springs, Colora...  -104.81468  38.937716  \n",
       "1                   300 Conti, Mobile, Alabama 36602  -88.045015   30.69035  \n",
       "2       2000 Territory Drive, Galena, Illinois 61036   -90.31353  42.404443  "
      ]
     },
     "execution_count": 6,
     "metadata": {},
     "output_type": "execute_result"
    }
   ],
   "source": [
    "farmers_market_list = [(row[0],row[1],row[2],row[3]) for row in results]\n",
    "farmers_market_df = pd.DataFrame(farmers_market_list,\n",
    "              columns=(\"listing_name\",\"location_address\", \"longitude\",\"latitude\")\n",
    "              );\n",
    "print(f\"Farmers Market SHape: {farmers_market_df.shape}\")\n",
    "farmers_market_df.head(3)"
   ]
  },
  {
   "cell_type": "code",
   "execution_count": 7,
   "id": "400a571a",
   "metadata": {},
   "outputs": [
    {
     "data": {
      "text/html": [
       "<div>\n",
       "<style scoped>\n",
       "    .dataframe tbody tr th:only-of-type {\n",
       "        vertical-align: middle;\n",
       "    }\n",
       "\n",
       "    .dataframe tbody tr th {\n",
       "        vertical-align: top;\n",
       "    }\n",
       "\n",
       "    .dataframe thead th {\n",
       "        text-align: right;\n",
       "    }\n",
       "</style>\n",
       "<table border=\"1\" class=\"dataframe\">\n",
       "  <thead>\n",
       "    <tr style=\"text-align: right;\">\n",
       "      <th></th>\n",
       "      <th>listing_name</th>\n",
       "      <th>location_address</th>\n",
       "      <th>longitude</th>\n",
       "      <th>latitude</th>\n",
       "    </tr>\n",
       "  </thead>\n",
       "  <tbody>\n",
       "    <tr>\n",
       "      <th>921</th>\n",
       "      <td>Historic Lewes Farmers Market</td>\n",
       "      <td>None</td>\n",
       "      <td>None</td>\n",
       "      <td>None</td>\n",
       "    </tr>\n",
       "    <tr>\n",
       "      <th>1042</th>\n",
       "      <td>Greater Canonsburg Chamber of Commerce Farmer’...</td>\n",
       "      <td>None</td>\n",
       "      <td>None</td>\n",
       "      <td>None</td>\n",
       "    </tr>\n",
       "  </tbody>\n",
       "</table>\n",
       "</div>"
      ],
      "text/plain": [
       "                                           listing_name location_address  \\\n",
       "921                       Historic Lewes Farmers Market             None   \n",
       "1042  Greater Canonsburg Chamber of Commerce Farmer’...             None   \n",
       "\n",
       "     longitude latitude  \n",
       "921       None     None  \n",
       "1042      None     None  "
      ]
     },
     "execution_count": 7,
     "metadata": {},
     "output_type": "execute_result"
    }
   ],
   "source": [
    "farmers_market_df[farmers_market_df.isna()[\"longitude\"]]"
   ]
  },
  {
   "cell_type": "code",
   "execution_count": 8,
   "id": "e30a1fd6",
   "metadata": {},
   "outputs": [],
   "source": [
    "farmers_market_df = farmers_market_df[farmers_market_df['longitude'].notna()]\n",
    "farmers_market_df = farmers_market_df[farmers_market_df['latitude'].notna()]"
   ]
  },
  {
   "cell_type": "code",
   "execution_count": 10,
   "id": "e738b2ac",
   "metadata": {},
   "outputs": [],
   "source": [
    "# gdf = geopandas.GeoDataFrame(farmers_market_df, \n",
    "#                              geometry=geopandas.points_from_xy(farmers_market_df.longitude, farmers_market_df.latitude))\n"
   ]
  },
  {
   "cell_type": "code",
   "execution_count": 33,
   "id": "3f7a6dfb",
   "metadata": {},
   "outputs": [],
   "source": [
    "# farmers_market_sedf = GeoAccessor.from_geodataframe(gdf, inplace=False, column_name='SHAPE')\n",
    "# print(f\"Farmers Market SEDF Shape: {farmers_market_sedf.shape}\")\n",
    "# farmers_market_sedf.head(3)"
   ]
  },
  {
   "cell_type": "markdown",
   "id": "ffe90e83",
   "metadata": {},
   "source": [
    "Somehow I am unable to convert the latitude and longitudes to a spatially enabled dataframe,so I am going to geocode the address available."
   ]
  },
  {
   "cell_type": "code",
   "execution_count": 38,
   "id": "748fa246",
   "metadata": {},
   "outputs": [],
   "source": [
    "# farmers_market_sedf = GeoAccessor.from_df(df=farmers_market_df,address_column=\"location_address\")\n",
    "# print(f\"Farmers Market SEDF Shape: {farmers_market_sedf.shape}\")\n",
    "# farmers_market_sedf.head(3)"
   ]
  },
  {
   "cell_type": "code",
   "execution_count": 11,
   "id": "2849c492",
   "metadata": {},
   "outputs": [],
   "source": [
    "farmers_market_df[['longitude','latitude']] = farmers_market_df.apply(lambda row: get_lat_long(row.location_address), axis='columns', result_type='expand')\n",
    "# print(\"Shape:\",farmers_market_df.shape)\n",
    "# farmers_market_df.head(5)\n",
    "\n"
   ]
  },
  {
   "cell_type": "code",
   "execution_count": 13,
   "id": "1c91b140",
   "metadata": {},
   "outputs": [
    {
     "data": {
      "text/html": [
       "<div>\n",
       "<style scoped>\n",
       "    .dataframe tbody tr th:only-of-type {\n",
       "        vertical-align: middle;\n",
       "    }\n",
       "\n",
       "    .dataframe tbody tr th {\n",
       "        vertical-align: top;\n",
       "    }\n",
       "\n",
       "    .dataframe thead th {\n",
       "        text-align: right;\n",
       "    }\n",
       "</style>\n",
       "<table border=\"1\" class=\"dataframe\">\n",
       "  <thead>\n",
       "    <tr style=\"text-align: right;\">\n",
       "      <th></th>\n",
       "      <th>listing_name</th>\n",
       "      <th>location_address</th>\n",
       "      <th>longitude</th>\n",
       "      <th>latitude</th>\n",
       "    </tr>\n",
       "  </thead>\n",
       "  <tbody>\n",
       "    <tr>\n",
       "      <th>0</th>\n",
       "      <td>Colorado Farm and Art Market</td>\n",
       "      <td>7350 Pine Creek Road, Colorado Springs, Colora...</td>\n",
       "      <td>-104.813284</td>\n",
       "      <td>38.937974</td>\n",
       "    </tr>\n",
       "    <tr>\n",
       "      <th>1</th>\n",
       "      <td>Market in The Park</td>\n",
       "      <td>300 Conti, Mobile, Alabama 36602</td>\n",
       "      <td>-88.044585</td>\n",
       "      <td>30.690215</td>\n",
       "    </tr>\n",
       "    <tr>\n",
       "      <th>2</th>\n",
       "      <td>The Territory Farmers' Market</td>\n",
       "      <td>2000 Territory Drive, Galena, Illinois 61036</td>\n",
       "      <td>-90.317574</td>\n",
       "      <td>42.399287</td>\n",
       "    </tr>\n",
       "    <tr>\n",
       "      <th>3</th>\n",
       "      <td>City of Plymouth Farmers Market</td>\n",
       "      <td>15500 County Road 6, Plymouth, Minnesota 55447</td>\n",
       "      <td>-93.476260</td>\n",
       "      <td>44.996380</td>\n",
       "    </tr>\n",
       "    <tr>\n",
       "      <th>4</th>\n",
       "      <td>Durham Farmers' Market</td>\n",
       "      <td>501 Foster Street, Durham, North Carolina 27701</td>\n",
       "      <td>-78.901498</td>\n",
       "      <td>36.000645</td>\n",
       "    </tr>\n",
       "    <tr>\n",
       "      <th>...</th>\n",
       "      <td>...</td>\n",
       "      <td>...</td>\n",
       "      <td>...</td>\n",
       "      <td>...</td>\n",
       "    </tr>\n",
       "    <tr>\n",
       "      <th>1053</th>\n",
       "      <td>Bexley Farmers Market</td>\n",
       "      <td>South Dawson Avenue &amp; East Main Street, Bexley...</td>\n",
       "      <td>-82.935720</td>\n",
       "      <td>39.957140</td>\n",
       "    </tr>\n",
       "    <tr>\n",
       "      <th>1054</th>\n",
       "      <td>2nd Street Market</td>\n",
       "      <td>600 East 2nd Street, Dayton, OH, USA</td>\n",
       "      <td>-84.180817</td>\n",
       "      <td>39.762778</td>\n",
       "    </tr>\n",
       "    <tr>\n",
       "      <th>1055</th>\n",
       "      <td>Farmers Market Centerville Texas</td>\n",
       "      <td>114 E St Marys St, Centerville, TX, USA</td>\n",
       "      <td>-95.978552</td>\n",
       "      <td>31.258045</td>\n",
       "    </tr>\n",
       "    <tr>\n",
       "      <th>1056</th>\n",
       "      <td>Downtown Beloit Farmers' Market - Winter</td>\n",
       "      <td>557 E Grand Ave, Beloit, WI, USA</td>\n",
       "      <td>-89.031517</td>\n",
       "      <td>42.499645</td>\n",
       "    </tr>\n",
       "    <tr>\n",
       "      <th>1057</th>\n",
       "      <td>Galax Farmers Market</td>\n",
       "      <td>206 North Main Street, Galax, VA, USA</td>\n",
       "      <td>-80.925411</td>\n",
       "      <td>36.663288</td>\n",
       "    </tr>\n",
       "  </tbody>\n",
       "</table>\n",
       "<p>1056 rows × 4 columns</p>\n",
       "</div>"
      ],
      "text/plain": [
       "                                  listing_name  \\\n",
       "0                 Colorado Farm and Art Market   \n",
       "1                           Market in The Park   \n",
       "2                The Territory Farmers' Market   \n",
       "3              City of Plymouth Farmers Market   \n",
       "4                       Durham Farmers' Market   \n",
       "...                                        ...   \n",
       "1053                     Bexley Farmers Market   \n",
       "1054                         2nd Street Market   \n",
       "1055          Farmers Market Centerville Texas   \n",
       "1056  Downtown Beloit Farmers' Market - Winter   \n",
       "1057                      Galax Farmers Market   \n",
       "\n",
       "                                       location_address   longitude   latitude  \n",
       "0     7350 Pine Creek Road, Colorado Springs, Colora... -104.813284  38.937974  \n",
       "1                      300 Conti, Mobile, Alabama 36602  -88.044585  30.690215  \n",
       "2          2000 Territory Drive, Galena, Illinois 61036  -90.317574  42.399287  \n",
       "3        15500 County Road 6, Plymouth, Minnesota 55447  -93.476260  44.996380  \n",
       "4       501 Foster Street, Durham, North Carolina 27701  -78.901498  36.000645  \n",
       "...                                                 ...         ...        ...  \n",
       "1053  South Dawson Avenue & East Main Street, Bexley...  -82.935720  39.957140  \n",
       "1054               600 East 2nd Street, Dayton, OH, USA  -84.180817  39.762778  \n",
       "1055            114 E St Marys St, Centerville, TX, USA  -95.978552  31.258045  \n",
       "1056                   557 E Grand Ave, Beloit, WI, USA  -89.031517  42.499645  \n",
       "1057              206 North Main Street, Galax, VA, USA  -80.925411  36.663288  \n",
       "\n",
       "[1056 rows x 4 columns]"
      ]
     },
     "execution_count": 13,
     "metadata": {},
     "output_type": "execute_result"
    }
   ],
   "source": [
    "farmers_market_df"
   ]
  },
  {
   "cell_type": "code",
   "execution_count": 14,
   "id": "2eeb4218",
   "metadata": {},
   "outputs": [
    {
     "name": "stdout",
     "output_type": "stream",
     "text": [
      "Farmers Market SEDF Shape: (1056, 5)\n"
     ]
    },
    {
     "data": {
      "text/html": [
       "<div>\n",
       "<style scoped>\n",
       "    .dataframe tbody tr th:only-of-type {\n",
       "        vertical-align: middle;\n",
       "    }\n",
       "\n",
       "    .dataframe tbody tr th {\n",
       "        vertical-align: top;\n",
       "    }\n",
       "\n",
       "    .dataframe thead th {\n",
       "        text-align: right;\n",
       "    }\n",
       "</style>\n",
       "<table border=\"1\" class=\"dataframe\">\n",
       "  <thead>\n",
       "    <tr style=\"text-align: right;\">\n",
       "      <th></th>\n",
       "      <th>listing_name</th>\n",
       "      <th>location_address</th>\n",
       "      <th>longitude</th>\n",
       "      <th>latitude</th>\n",
       "      <th>SHAPE</th>\n",
       "    </tr>\n",
       "  </thead>\n",
       "  <tbody>\n",
       "    <tr>\n",
       "      <th>0</th>\n",
       "      <td>Colorado Farm and Art Market</td>\n",
       "      <td>7350 Pine Creek Road, Colorado Springs, Colora...</td>\n",
       "      <td>-104.813284</td>\n",
       "      <td>38.937974</td>\n",
       "      <td>{\"spatialReference\": {\"wkid\": 4326}, \"x\": -104...</td>\n",
       "    </tr>\n",
       "    <tr>\n",
       "      <th>1</th>\n",
       "      <td>Market in The Park</td>\n",
       "      <td>300 Conti, Mobile, Alabama 36602</td>\n",
       "      <td>-88.044585</td>\n",
       "      <td>30.690215</td>\n",
       "      <td>{\"spatialReference\": {\"wkid\": 4326}, \"x\": -88....</td>\n",
       "    </tr>\n",
       "    <tr>\n",
       "      <th>2</th>\n",
       "      <td>The Territory Farmers' Market</td>\n",
       "      <td>2000 Territory Drive, Galena, Illinois 61036</td>\n",
       "      <td>-90.317574</td>\n",
       "      <td>42.399287</td>\n",
       "      <td>{\"spatialReference\": {\"wkid\": 4326}, \"x\": -90....</td>\n",
       "    </tr>\n",
       "  </tbody>\n",
       "</table>\n",
       "</div>"
      ],
      "text/plain": [
       "                    listing_name  \\\n",
       "0   Colorado Farm and Art Market   \n",
       "1             Market in The Park   \n",
       "2  The Territory Farmers' Market   \n",
       "\n",
       "                                    location_address   longitude   latitude  \\\n",
       "0  7350 Pine Creek Road, Colorado Springs, Colora... -104.813284  38.937974   \n",
       "1                   300 Conti, Mobile, Alabama 36602  -88.044585  30.690215   \n",
       "2       2000 Territory Drive, Galena, Illinois 61036  -90.317574  42.399287   \n",
       "\n",
       "                                               SHAPE  \n",
       "0  {\"spatialReference\": {\"wkid\": 4326}, \"x\": -104...  \n",
       "1  {\"spatialReference\": {\"wkid\": 4326}, \"x\": -88....  \n",
       "2  {\"spatialReference\": {\"wkid\": 4326}, \"x\": -90....  "
      ]
     },
     "execution_count": 14,
     "metadata": {},
     "output_type": "execute_result"
    }
   ],
   "source": [
    "farmers_market_sedf = GeoAccessor.from_xy(farmers_market_df.copy(),x_column=\"longitude\",y_column=\"latitude\")\n",
    "print(f\"Farmers Market SEDF Shape: {farmers_market_sedf.shape}\")\n",
    "farmers_market_sedf.head(3)"
   ]
  },
  {
   "cell_type": "code",
   "execution_count": 20,
   "id": "7f6c2ba8",
   "metadata": {},
   "outputs": [],
   "source": [
    "farmers_market_sedf.rename(columns={'listing_name':'name','location_address':'address'}, inplace=True)"
   ]
  },
  {
   "cell_type": "code",
   "execution_count": 24,
   "id": "428ecede",
   "metadata": {},
   "outputs": [
    {
     "name": "stdout",
     "output_type": "stream",
     "text": [
      "<class 'pandas.core.frame.DataFrame'>\n",
      "Int64Index: 1056 entries, 0 to 1057\n",
      "Data columns (total 5 columns):\n",
      " #   Column     Non-Null Count  Dtype   \n",
      "---  ------     --------------  -----   \n",
      " 0   name       1056 non-null   object  \n",
      " 1   address    1056 non-null   object  \n",
      " 2   longitude  1056 non-null   float64 \n",
      " 3   latitude   1056 non-null   float64 \n",
      " 4   SHAPE      1056 non-null   geometry\n",
      "dtypes: float64(2), geometry(1), object(2)\n",
      "memory usage: 49.5+ KB\n"
     ]
    }
   ],
   "source": [
    "farmers_market_sedf.info()"
   ]
  },
  {
   "cell_type": "code",
   "execution_count": 21,
   "id": "864a679b",
   "metadata": {},
   "outputs": [
    {
     "name": "stdout",
     "output_type": "stream",
     "text": [
      "CPU times: user 925 ms, sys: 134 ms, total: 1.06 s\n",
      "Wall time: 11.7 s\n"
     ]
    }
   ],
   "source": [
    "%%time\n",
    "# Convert back from a SEDF into a feature layer, and publishing on AGOL\n",
    "feature_layer = farmers_market_sedf.spatial.to_featurelayer(title=\"Farmers Market 2023\", \n",
    "                                                         gis=gis, \n",
    "                                                         folder='nourish_gis',\n",
    "                                                         tags=['FarmersMarket'],\n",
    "                                                         service_name='farmers_market_2023_pt_lyr')"
   ]
  },
  {
   "cell_type": "code",
   "execution_count": 22,
   "id": "ef6f8811",
   "metadata": {},
   "outputs": [
    {
     "data": {
      "text/html": [
       "<div class=\"item_container\" style=\"height: auto; overflow: hidden; border: 1px solid #cfcfcf; border-radius: 2px; background: #f6fafa; line-height: 1.21429em; padding: 10px;\">\n",
       "                    <div class=\"item_left\" style=\"width: 210px; float: left;\">\n",
       "                       <a href='https://UCSDOnline.maps.arcgis.com/home/item.html?id=e538326ec91a42f0ba6fd0d32f755181' target='_blank'>\n",
       "                        <img src='http://static.arcgis.com/images/desktopapp.png' class=\"itemThumbnail\">\n",
       "                       </a>\n",
       "                    </div>\n",
       "\n",
       "                    <div class=\"item_right\"     style=\"float: none; width: auto; overflow: hidden;\">\n",
       "                        <a href='https://UCSDOnline.maps.arcgis.com/home/item.html?id=e538326ec91a42f0ba6fd0d32f755181' target='_blank'><b>Farmers Market 2023</b>\n",
       "                        </a>\n",
       "                        <br/><img src='https://UCSDOnline.maps.arcgis.com/home/js/jsapi/esri/css/images/item_type_icons/featureshosted16.png' style=\"vertical-align:middle;\">Feature Layer Collection by akale_UCSDOnline\n",
       "                        <br/>Last Modified: April 07, 2023\n",
       "                        <br/>0 comments, 0 views\n",
       "                    </div>\n",
       "                </div>\n",
       "                "
      ],
      "text/plain": [
       "<Item title:\"Farmers Market 2023\" type:Feature Layer Collection owner:akale_UCSDOnline>"
      ]
     },
     "execution_count": 22,
     "metadata": {},
     "output_type": "execute_result"
    }
   ],
   "source": [
    "feature_layer"
   ]
  },
  {
   "cell_type": "code",
   "execution_count": null,
   "id": "585d15e8",
   "metadata": {},
   "outputs": [],
   "source": []
  }
 ],
 "metadata": {
  "kernelspec": {
   "display_name": "Python 3 (ipykernel)",
   "language": "python",
   "name": "python3"
  },
  "language_info": {
   "codemirror_mode": {
    "name": "ipython",
    "version": 3
   },
   "file_extension": ".py",
   "mimetype": "text/x-python",
   "name": "python",
   "nbconvert_exporter": "python",
   "pygments_lexer": "ipython3",
   "version": "3.9.16"
  }
 },
 "nbformat": 4,
 "nbformat_minor": 5
}
