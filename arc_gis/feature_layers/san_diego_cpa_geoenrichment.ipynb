{
 "cells": [
  {
   "cell_type": "code",
   "execution_count": 1,
   "id": "67e011a4-1ede-4c01-8033-a77202e9ea90",
   "metadata": {},
   "outputs": [],
   "source": [
    "import arcgis\n",
    "from arcgis.gis import GIS\n",
    "from arcgis.features import *\n",
    "from feature_layer_utils import *\n",
    "import pandas as pd\n",
    "from arcgis.geoenrichment import *\n",
    "from arcgis.features.enrich_data import enrich_layer"
   ]
  },
  {
   "cell_type": "code",
   "execution_count": 2,
   "id": "e9cd3023-e448-40b1-abb8-568b4648b8ba",
   "metadata": {},
   "outputs": [
    {
     "name": "stdout",
     "output_type": "stream",
     "text": [
      "Enter the Client ID/APP ID generated from Arc GIS:\n"
     ]
    },
    {
     "name": "stdin",
     "output_type": "stream",
     "text": [
      " Elm5V3upnnV17Q3r\n"
     ]
    },
    {
     "name": "stdout",
     "output_type": "stream",
     "text": [
      "Please sign in to your GIS and paste the code that is obtained below.\n",
      "If a web browser does not automatically open, please navigate to the URL below yourself instead.\n",
      "Opening web browser to navigate to: https://ucsdonline.maps.arcgis.com/sharing/rest/oauth2/authorize?response_type=code&client_id=Elm5V3upnnV17Q3r&redirect_uri=urn%3Aietf%3Awg%3Aoauth%3A2.0%3Aoob&state=x7rkjq32uCb4bb3EpvM66eoEMPutZO&allow_verification=false\n"
     ]
    },
    {
     "name": "stdin",
     "output_type": "stream",
     "text": [
      "Enter code obtained on signing in using SAML:  ········\n"
     ]
    },
    {
     "name": "stderr",
     "output_type": "stream",
     "text": [
      "/Users/amolkale/Documents/DSE/DSE260-Capstone-Project/capstone/venv3.9/lib/python3.9/site-packages/urllib3/connectionpool.py:1045: InsecureRequestWarning: Unverified HTTPS request is being made to host 'ucsdonline.maps.arcgis.com'. Adding certificate verification is strongly advised. See: https://urllib3.readthedocs.io/en/1.26.x/advanced-usage.html#ssl-warnings\n",
      "  warnings.warn(\n"
     ]
    },
    {
     "data": {
      "text/plain": [
       "'2.1.0'"
      ]
     },
     "execution_count": 2,
     "metadata": {},
     "output_type": "execute_result"
    }
   ],
   "source": [
    "\n",
    "#gis = GIS(username='izaslavsky_ucsd')  # this will ask for password. \n",
    "print(\"Enter the Client ID/APP ID generated from Arc GIS:\")\n",
    "app_id = input()\n",
    "gis = GIS(\"https://ucsdonline.maps.arcgis.com/home\", client_id=app_id)\n",
    "arcgis.__version__\n",
    "# Elm5V3upnnV17Q3r"
   ]
  },
  {
   "cell_type": "code",
   "execution_count": 3,
   "id": "01c7c382-7af5-4937-b3b6-0f41b2b1ec4b",
   "metadata": {},
   "outputs": [],
   "source": [
    "# This is the name of the feature layer we had created as a pre-requisite for covering \n",
    "# neighborhoods from San Diego County\n",
    "sd_county_areas_county_content_name = 'CommunityPlanningAreasSDCounty'"
   ]
  },
  {
   "cell_type": "code",
   "execution_count": 4,
   "id": "c6b8f673-49e4-4b0f-b857-7f3d3f662f7e",
   "metadata": {},
   "outputs": [],
   "source": [
    "# Searching for the Feature Layer Collection\n",
    "sd_county_areas_county_content_list = gis.content.search(sd_county_areas_county_content_name)"
   ]
  },
  {
   "cell_type": "code",
   "execution_count": 5,
   "id": "cf10b0aa-1075-418a-944d-03213e87740c",
   "metadata": {},
   "outputs": [
    {
     "data": {
      "text/plain": [
       "[<Item title:\"CommunityPlanningAreasSDCounty\" type:Feature Layer Collection owner:akale_UCSDOnline>,\n",
       " <Item title:\"CommunityPlanningAreasSDCounty\" type:Shapefile owner:akale_UCSDOnline>]"
      ]
     },
     "execution_count": 5,
     "metadata": {},
     "output_type": "execute_result"
    }
   ],
   "source": [
    "sd_county_areas_county_content_list"
   ]
  },
  {
   "cell_type": "code",
   "execution_count": 6,
   "id": "6182c9d3-3f76-412f-b47a-945d53aa85f9",
   "metadata": {},
   "outputs": [],
   "source": [
    "# There is a layer present with this name as the first element in the list, so let's extract it from the list\n",
    "sd_county_areas_fl = sd_county_areas_county_content_list[0]"
   ]
  },
  {
   "cell_type": "code",
   "execution_count": 7,
   "id": "f9255f6e-4b78-4069-8057-51794bf52bf9",
   "metadata": {},
   "outputs": [
    {
     "data": {
      "text/html": [
       "<div class=\"item_container\" style=\"height: auto; overflow: hidden; border: 1px solid #cfcfcf; border-radius: 2px; background: #f6fafa; line-height: 1.21429em; padding: 10px;\">\n",
       "                    <div class=\"item_left\" style=\"width: 210px; float: left;\">\n",
       "                       <a href='https://UCSDOnline.maps.arcgis.com/home/item.html?id=bed4f272a0094a00803ac830f3553ea8' target='_blank'>\n",
       "                        <img src='data:image/png;base64,iVBORw0KGgoAAAANSUhEUgAAAMgAAACFCAYAAAAenrcsAAAOJklEQVR4Xu2daVBcVRqG/Tc1VfNz/s2UM1VOWWM0cTRxYhaMmACBJOwQ9qUhQNhpmp0AAbohBCQGkgAJhCRCRBNitnJSalwmGc2YmNFxxkmsUn9YWla5b3Ep65v+Dt7O7XO6Dw32pB37fare4vZZbgP1vffcs9xzbyIAgFdukhMAANeBQQDQAIMAoAEGAUADDAKABhgEAA0wCAAaYBAANMAgAGiAQQDQAIMAoAEGAUADDAKABhgEAA0wCAAaYBAANMAgAGiAQQDQAIMAoAEGAUADDAKABhgEAA0wCAAaYBAANMAgAGiAQQDQAIMAoAEGAUADDAKABhgEAA0wCAAaYBAANMAgAGiAQQDQAIMAoAEGAUADDAKABhgEAA0wyCxsbe+gjk67osePH5eLgp8hMMgsrN+0jRoOXFVU3r6fjj1+nL7//nu5CvgZAYNoYANYOo4r5jBUMfgildkPU4tjJ128eEmuDn4GwCASp06dIlv3hBAbQDaFN23e/hRtsvXQ5cuX5VOC/2NgEIndY1NK8PuqmLIhSkxOoU5HN2VsbqKGrmGq7npYfO7odIif7c7+C//UyZcyhozz+lvcen755Zd07euv5X9RUAGDSJS2jSqB76vWF/S4jvnWzHx7lt7wsCt9VUKVUtes6MJeSqjYraR7knFef6ty1wXKaTtKYRlb5H9RUAGDSHjrlPsiOVjvS6qhZOuIkscmSazYo9Q3K6NpkkKTa8jS7r0PJJ/3fyH+fwQzMIhE/+Beyus4pgSKL0qrP6SkhWe20OrUelqb0+6W7mtg374yiTb3nlXS53oeQ3Vj/6aafa+J4+rhfyj5smAQoPDWW29RVkmzCCY5YHSKynMoadxahCbblHQ2TFbLo7N+R+Wuv9O9UfmUu3VayWPltp+gpKphumNFrJIni7+Ly61KtDpN20C//s0fKHRjrfZ2DgYBXukfmnQG1b+UoPGmB5zBJqdx/YjsrWQdelnJs7Q/7rzHb6a0xsNUP35FyTeLg1o35My3bImVQ0Ih8RVKfrJ1Ly1cEaekcytyf1K113PDIEBLz8ABqh2d3SSlAy+JQDM+cx3r0CWnOdpEP4IVklhLcaUDSt2SB5+lmJKdoiXgOnK+oSXhWUqaJ3nqR812K+apjpEezMAgs/Dhhx9Sz+ABJXBkRVnsToNYKSy9SdxSpdaOO/syx+k+09W8avdLFJbZKsrwlb5qz0U383E+1+X84h0vuNIjczvo/pQmWhQSr3yvJ3kKdp1B+PfwVMc4VzADg/jARx99RKm2ESV4DOW0TdPk1FHaXNWstDbmVsWs8oEXKa/zhDCWnMcSI1g/3PaU9D8nWhe5jDd5CnadQVbGlgpzyunGuYIZGMRHDk0+SrYRddQnv2Oannz6OVHmvffec/YV3Oc4oov6lDpmhaU3K2ks/q7FazLEXAR/1gW4LNkgtaOvUUrNmFLOkO7cMAjwGUffkFvwcKty7tw5V/6zzzr7Epv73cqExJaJkShvQ6pcPrPpsCjDgWykJ5TvptL+5535D4p8eZhYJz6npeOE6zMHeUH3X5RyLO7c68wDgwCf+fjjj6nSMXO1zajbRxcvv+qWz+u40gtstDwqm9akNVJ4VqtoUfIdpymz+RHKt59UApDF+Szzld98Vec8uc5sisq/fq5l6wpodUq9UobF/Y/U2v0UV7pTyWPBIGBOjI6OUobTBLpFiSMjI7TG2dHmADMvOeE5iBSr5xn0mn3/pJjimdaHF0mGZ7UpZXwVf59xLhb/LiFxZV7nOzjdWx4MAvzCtWvX6NNPPxXHbX3j4taFg56VULFLBBu3IqdPn6Y/rUoW6RUDL7i0oehBV3DznEXNqH4CUSezOVhlD50j655LtC6vi3JajyjlMxonaINpHZlZXO/YsWPSXxs8wCB+gluU6Ohoys7OprDUWorMaqaQqAyyb+unRXfeJYZqufWoq6sjh8MhhnILup4Qii15SBiDTXNPRI4SpDql2MaUSb6FK+OouM/z8hRuKe5Ptjn7NFtd4ttBNpFc1tD4+Lj85wYNMIif+eSTTygpJZ3effdd8fnNN9+kiYkJqm9xXr1zcuj1118XZe5ene4KwLS6A1Sz91VKqhpRRqBmE/dVuJOdbz/lSpvrOWYTDAL8Cnfmv/rqK9fnqakpqm9sEcPABlUNna4rf2rDI66RpLkGt9GZ3+TsyBvn89afmK9gEOA3rly5QtH57dTQ0CA+j42Nkb13j8scCdkVZG0bFGl82yUHo2yQhPJdYqjXEM/Aczq3OGwE8/CvUTelZr/Il889X8EgwK9cuHBBzL5v6ewTDxzxKNL58+fp7NmztHTNRnGlH91/kJ55ztl53tJHltoBKt3xV9eSDz5m8fL5xaZbMRa3GFxuWXQZle/8m1ue2Vzc0V8alUebe59WAn6ugkGAX1m7Po7SipqpevhlEaC33n43LQ5Notv+HElWq5UKGwdpeHhYmGj/wUm6c8lyKiqrpvD4PLpl0Sqy2E9TUc+TQnKw8nxFbHG/0tIYedmtjwnxEpbYsh9/q1W643kYBPgX7pibJ944mNMLamhwcJA+++wzev/99yk+JZs2tR9xmuiyEpTelNY4JfoqPCzsySCcZgwby3nzUXzZIJ05c0b8zsEKDOJnLl1+hUJj8twC7balUWLy78iRI65yHHRpNvelK7PJbApvBpHTfoyCfZKQgUH8jLzpA6+xis1vc16NB+jzzz93K2vrOqgEpSel1h0QE3kRWa2uNH6Ml58jyW55jKKLesUxz5bz98j15ysYBAbxK2+88QYlls7MiLOymw6Kzvjw2CQ9kFIvFxd5D6TUKYEpi0eqeJcRcxrXK+57xtkyXRAyjv3ZisAgMIjfqWjdQ5bmcbF6t2/fCZHGLcfbb78tlZzh9BNnKCy1RglOsfVP5Yg4ZoNwSyEHr1yHtdE2/22LZMEgMIjf+eCDD8Syk229O6h3YEzOdoP7IUePHqXCwkJlOJYfkIq0dCpzHebgldNY5sWRP1YwCAwSUMI3VoinBVm8ywiPaHFwR+TaaUlYJqXVHfRoDiN45TRD/ppJh0FgkIAyMHh96btt5BXaULhddLTjSh4SP8WGDx5aAzYS75QipxviVbt8i8aaz7MkhmAQGCSg8AScHJSp9RO0sXqfMAY/l25MGJonDdkc3OLw47xrPRiFN4zwdDxXwSAwyA2DJw9luK+SkVOgBKYhYxk6i9dhReZ2CvFujbxEnsuwkTiNg5kf0V2X3+XW6vAyF/PKYVm8XIUnNY1zm8W7qAQ7MEiA8dSKGNL1M8x5vCnd+qIddFdoqlKO5anjzsbgemwgXtsl1zG+I9iBQQLM9PQ0FbS7D+GaA1RO85SnK8eKLdnhbI2anOW6xefynefptqXrxHY/ulW/MAgM8pOAn2E3BybfJvHolS7wzXnJ1fq5D6Msr+Pi8/o6ygWDwCABh/shN9+ygCKyZkas7gpNcQUw78fr7VFYzuPHdfmZ8ZWxZUq+WbyFEJf1di5vgkFgkIDDBmlra6Ouri76xS9/5dZXqBh4ke6JyFYC18jj9Vn3hGdT9dDsK4K5/Fxn2WEQGCSgvPPOO+LxXN41pLW1lVanNysdZt2uh77kz7csCwaBQQLKb29ZSNF5WympYkAsRqzb/x9asjZPmIQ3YWAtiy4Vw7o8zCubZ65BL5eN/mGrIW+CQWCQgNHes0v0N9gEVbuvB/7vFiyj1RltYpm8IU7nvXp5XkQOYjnoPYlv2/jhJ/NSeH43ya2LI5SyZsEgMEjAaN4+LvbiLdr+FMWWDFBm82FaGplH2a1HPG6SzUqs3CM2cTBrRUyJ22d+y5Vchtd1Gbu3L7ovUTwnz7vOr7U4KK/zpEvyDu8wCAxyw5B3JzRee7B8QxEtjy4m295XFEP4InkoWP7M4lcy8NuvFoUkuA0C8Fut+LbNkFwXBoFBbhj8znEzS8KyxFXceM2BHNS+yhzUC1fGKzPmhrh1kA0gy8jn7YhYMAgMckPhh6auXr1KW+29YqlHSkU/ZVT2ksViIYvV89643sR9CFZIXLmrn8LH3gzCwV6red8in2vBvetFP4e3DOKdU3hBZLADg9xAxiceo98vWErxmWWUW1hBXd3bxDwIP2S1LCqXkqqGiJeD8OOzcgC7BbPTBFlbHqXqoZfFT37NG9edqe+5lfCWzuL3ufOCRfMbd3mf4Jv/uFT+E4IOGOQGU1hULHaCN/Ptt99SauXM6tx1hX20vqCH7lgeowSyIX7a0Nubq7wZwVs6a02mumTeqBPswCABhFsOg5jC7W7ByVdz3q1EDlpD4ZlblDQjqOU0XTortW5mdxV+F7uhko5JSitQN5oINmCQABEaGkonT54Ux/ysSHHrPiVwvQX1xtoD4hUHvCt8snWEMpomtXX4PYe8cpeHfDnwrY6DQi2OAbJ39VCnvUv8/OKLL1z67rvvpN84OIFBAkxpaSmVte1VgtpbsLMiLXZKbzjk7H9MiRfihMbmU3XXIaGIDUlkd2xzE4+gGULgzw0Y5CfA8RMnKKNxphXg3U2M/XVXxxeRrfthlzod3ULtHXbxegVD33zzjXxK4CdgkJ8I09PHxK3OxYuXRCeexZ13EFhgEAA0wCAAaIBBANAAgwCgAQYBQAMMAoAGGAQADTAIABpgEAA0wCAAaIBBANAAgwCgAQYBQAMMAoAGGAQADTAIABpgEAA0wCAAaIBBANAAgwCgAQYBQAMMAoAGGAQADTAIABpgEAA0wCAAaIBBANAAgwCgAQYBQAMMAoAGGAQADTAIABpgEAA0wCAAaIBBANAAgwCgAQYBQAMMAoAGGAQADTAIABpgEAA0/Bfta6A+z70+jgAAAABJRU5ErkJggg==' width='200' height='133' class=\"itemThumbnail\">\n",
       "                       </a>\n",
       "                    </div>\n",
       "\n",
       "                    <div class=\"item_right\"     style=\"float: none; width: auto; overflow: hidden;\">\n",
       "                        <a href='https://UCSDOnline.maps.arcgis.com/home/item.html?id=bed4f272a0094a00803ac830f3553ea8' target='_blank'><b>CommunityPlanningAreasSDCounty</b>\n",
       "                        </a>\n",
       "                        <br/><img src='https://UCSDOnline.maps.arcgis.com/home/js/jsapi/esri/css/images/item_type_icons/featureshosted16.png' style=\"vertical-align:middle;\">Feature Layer Collection by akale_UCSDOnline\n",
       "                        <br/>Last Modified: February 23, 2023\n",
       "                        <br/>0 comments, 12 views\n",
       "                    </div>\n",
       "                </div>\n",
       "                "
      ],
      "text/plain": [
       "<Item title:\"CommunityPlanningAreasSDCounty\" type:Feature Layer Collection owner:akale_UCSDOnline>"
      ]
     },
     "execution_count": 7,
     "metadata": {},
     "output_type": "execute_result"
    }
   ],
   "source": [
    "sd_county_areas_fl"
   ]
  },
  {
   "cell_type": "code",
   "execution_count": 8,
   "id": "aac3788c-8d61-43af-b0b2-529951bc6dfe",
   "metadata": {},
   "outputs": [
    {
     "name": "stdout",
     "output_type": "stream",
     "text": [
      "CPU times: user 134 ms, sys: 28.9 ms, total: 163 ms\n",
      "Wall time: 1.81 s\n"
     ]
    }
   ],
   "source": [
    "%%time\n",
    "# Creating feature set using query on first element which is the feature layer, second element being the shape file\n",
    "feature_set = sd_county_areas_fl.layers[0].query()"
   ]
  },
  {
   "cell_type": "code",
   "execution_count": 9,
   "id": "44a0478b-6917-4356-aec8-a35a86903c89",
   "metadata": {},
   "outputs": [
    {
     "data": {
      "text/html": [
       "<div>\n",
       "<style scoped>\n",
       "    .dataframe tbody tr th:only-of-type {\n",
       "        vertical-align: middle;\n",
       "    }\n",
       "\n",
       "    .dataframe tbody tr th {\n",
       "        vertical-align: top;\n",
       "    }\n",
       "\n",
       "    .dataframe thead th {\n",
       "        text-align: right;\n",
       "    }\n",
       "</style>\n",
       "<table border=\"1\" class=\"dataframe\">\n",
       "  <thead>\n",
       "    <tr style=\"text-align: right;\">\n",
       "      <th></th>\n",
       "      <th>FID</th>\n",
       "      <th>OBJECTID</th>\n",
       "      <th>AREA_</th>\n",
       "      <th>PERIMETER</th>\n",
       "      <th>CPASG_LABE</th>\n",
       "      <th>CPANAME</th>\n",
       "      <th>SPONSORNAM</th>\n",
       "      <th>CPASG</th>\n",
       "      <th>SUBREGPLAN</th>\n",
       "      <th>ShapeSTAre</th>\n",
       "      <th>ShapeSTLen</th>\n",
       "      <th>Shape__Area</th>\n",
       "      <th>Shape__Length</th>\n",
       "      <th>SHAPE</th>\n",
       "    </tr>\n",
       "  </thead>\n",
       "  <tbody>\n",
       "    <tr>\n",
       "      <th>0</th>\n",
       "      <td>1</td>\n",
       "      <td>1</td>\n",
       "      <td>3259688344.0</td>\n",
       "      <td>339691.622436</td>\n",
       "      <td>Borrego Springs</td>\n",
       "      <td>Desert</td>\n",
       "      <td>BORREGO SPRINGS</td>\n",
       "      <td>190401</td>\n",
       "      <td>Desert Subregional Plan Area</td>\n",
       "      <td>3259688343.29593</td>\n",
       "      <td>339691.623046</td>\n",
       "      <td>434365912.613281</td>\n",
       "      <td>123995.732988</td>\n",
       "      <td>{\"rings\": [[[-12958569.3039048, 3925457.047805...</td>\n",
       "    </tr>\n",
       "    <tr>\n",
       "      <th>1</th>\n",
       "      <td>2</td>\n",
       "      <td>2</td>\n",
       "      <td>1454254222.06</td>\n",
       "      <td>180042.918231</td>\n",
       "      <td>Julian</td>\n",
       "      <td>Julian</td>\n",
       "      <td></td>\n",
       "      <td>192200</td>\n",
       "      <td></td>\n",
       "      <td>1454254222.26481</td>\n",
       "      <td>180042.918084</td>\n",
       "      <td>192965715.507813</td>\n",
       "      <td>65610.700218</td>\n",
       "      <td>{\"rings\": [[[-12973903.3079023, 3905884.074290...</td>\n",
       "    </tr>\n",
       "  </tbody>\n",
       "</table>\n",
       "</div>"
      ],
      "text/plain": [
       "   FID  OBJECTID          AREA_      PERIMETER       CPASG_LABE CPANAME  \\\n",
       "0    1         1   3259688344.0  339691.622436  Borrego Springs  Desert   \n",
       "1    2         2  1454254222.06  180042.918231           Julian  Julian   \n",
       "\n",
       "        SPONSORNAM   CPASG                    SUBREGPLAN        ShapeSTAre  \\\n",
       "0  BORREGO SPRINGS  190401  Desert Subregional Plan Area  3259688343.29593   \n",
       "1                   192200                                1454254222.26481   \n",
       "\n",
       "      ShapeSTLen       Shape__Area  Shape__Length  \\\n",
       "0  339691.623046  434365912.613281  123995.732988   \n",
       "1  180042.918084  192965715.507813   65610.700218   \n",
       "\n",
       "                                               SHAPE  \n",
       "0  {\"rings\": [[[-12958569.3039048, 3925457.047805...  \n",
       "1  {\"rings\": [[[-12973903.3079023, 3905884.074290...  "
      ]
     },
     "execution_count": 9,
     "metadata": {},
     "output_type": "execute_result"
    }
   ],
   "source": [
    "# Explore the feature-set dataframe\n",
    "sd_county_areas_fl_sdf = feature_set.sdf\n",
    "sd_county_areas_fl_sdf.head(2)"
   ]
  },
  {
   "cell_type": "code",
   "execution_count": 10,
   "id": "14a511a2-55f4-4055-8c82-dfeb70c6b40f",
   "metadata": {},
   "outputs": [],
   "source": [
    "# Let's check if the San Diego City Layer has same number of columns\n",
    "sd_city_areas_content_list = gis.content.search('CommunityPlanningAreasSDCity')"
   ]
  },
  {
   "cell_type": "code",
   "execution_count": 11,
   "id": "8250a8ef-bf1b-4173-8cd3-9add9747a40f",
   "metadata": {},
   "outputs": [
    {
     "data": {
      "text/plain": [
       "[<Item title:\"CommunityPlanningAreasSDCity\" type:Feature Layer Collection owner:akale_UCSDOnline>,\n",
       " <Item title:\"CommunityPlanningAreasSDCity\" type:Shapefile owner:akale_UCSDOnline>]"
      ]
     },
     "execution_count": 11,
     "metadata": {},
     "output_type": "execute_result"
    }
   ],
   "source": [
    "sd_city_areas_content_list"
   ]
  },
  {
   "cell_type": "code",
   "execution_count": 12,
   "id": "d8f4a8c3-8013-4d99-ad3f-a17d38de6a78",
   "metadata": {},
   "outputs": [],
   "source": [
    "sd_city_areas_content_flc = sd_city_areas_content_list[0]"
   ]
  },
  {
   "cell_type": "code",
   "execution_count": 13,
   "id": "f005681c-9a70-4d35-b2b1-19cee31ab758",
   "metadata": {},
   "outputs": [
    {
     "data": {
      "text/html": [
       "<div class=\"item_container\" style=\"height: auto; overflow: hidden; border: 1px solid #cfcfcf; border-radius: 2px; background: #f6fafa; line-height: 1.21429em; padding: 10px;\">\n",
       "                    <div class=\"item_left\" style=\"width: 210px; float: left;\">\n",
       "                       <a href='https://UCSDOnline.maps.arcgis.com/home/item.html?id=87f780021d484ff3abb93b38e7276dd1' target='_blank'>\n",
       "                        <img src='data:image/png;base64,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' width='200' height='133' class=\"itemThumbnail\">\n",
       "                       </a>\n",
       "                    </div>\n",
       "\n",
       "                    <div class=\"item_right\"     style=\"float: none; width: auto; overflow: hidden;\">\n",
       "                        <a href='https://UCSDOnline.maps.arcgis.com/home/item.html?id=87f780021d484ff3abb93b38e7276dd1' target='_blank'><b>CommunityPlanningAreasSDCity</b>\n",
       "                        </a>\n",
       "                        <br/><img src='https://UCSDOnline.maps.arcgis.com/home/js/jsapi/esri/css/images/item_type_icons/featureshosted16.png' style=\"vertical-align:middle;\">Feature Layer Collection by akale_UCSDOnline\n",
       "                        <br/>Last Modified: February 23, 2023\n",
       "                        <br/>0 comments, 12 views\n",
       "                    </div>\n",
       "                </div>\n",
       "                "
      ],
      "text/plain": [
       "<Item title:\"CommunityPlanningAreasSDCity\" type:Feature Layer Collection owner:akale_UCSDOnline>"
      ]
     },
     "execution_count": 13,
     "metadata": {},
     "output_type": "execute_result"
    }
   ],
   "source": [
    "sd_city_areas_content_flc"
   ]
  },
  {
   "cell_type": "code",
   "execution_count": 14,
   "id": "280cf0ae-d753-4744-8683-862cd24862f0",
   "metadata": {},
   "outputs": [],
   "source": [
    "sd_city_areas_content_fl = sd_city_areas_content_flc.layers[0]"
   ]
  },
  {
   "cell_type": "code",
   "execution_count": 15,
   "id": "9ea7b3e4-a4a4-4531-a03f-b44b4d0789a3",
   "metadata": {},
   "outputs": [
    {
     "data": {
      "text/plain": [
       "<FeatureLayer url:\"https://services1.arcgis.com/eGSDp8lpKe5izqVc/arcgis/rest/services/CommunityPlanningAreasSDCity/FeatureServer/0\">"
      ]
     },
     "execution_count": 15,
     "metadata": {},
     "output_type": "execute_result"
    }
   ],
   "source": [
    "sd_city_areas_content_fl"
   ]
  },
  {
   "cell_type": "code",
   "execution_count": 16,
   "id": "6ecd5071-1540-4499-8d8a-5cbaf4b55db1",
   "metadata": {},
   "outputs": [
    {
     "name": "stdout",
     "output_type": "stream",
     "text": [
      "CPU times: user 254 ms, sys: 18.4 ms, total: 272 ms\n",
      "Wall time: 2.7 s\n"
     ]
    },
    {
     "data": {
      "text/html": [
       "<div>\n",
       "<style scoped>\n",
       "    .dataframe tbody tr th:only-of-type {\n",
       "        vertical-align: middle;\n",
       "    }\n",
       "\n",
       "    .dataframe tbody tr th {\n",
       "        vertical-align: top;\n",
       "    }\n",
       "\n",
       "    .dataframe thead th {\n",
       "        text-align: right;\n",
       "    }\n",
       "</style>\n",
       "<table border=\"1\" class=\"dataframe\">\n",
       "  <thead>\n",
       "    <tr style=\"text-align: right;\">\n",
       "      <th></th>\n",
       "      <th>FID</th>\n",
       "      <th>OBJECTID</th>\n",
       "      <th>CPCODE</th>\n",
       "      <th>CPNAME</th>\n",
       "      <th>ACREAGE</th>\n",
       "      <th>Shape_STAr</th>\n",
       "      <th>Shape_STLe</th>\n",
       "      <th>ShapeSTAre</th>\n",
       "      <th>ShapeSTLen</th>\n",
       "      <th>Shape__Area</th>\n",
       "      <th>Shape__Length</th>\n",
       "      <th>SHAPE</th>\n",
       "    </tr>\n",
       "  </thead>\n",
       "  <tbody>\n",
       "    <tr>\n",
       "      <th>0</th>\n",
       "      <td>1</td>\n",
       "      <td>1</td>\n",
       "      <td>37</td>\n",
       "      <td>SOUTHEASTERN SAN DIEGO,SOUTHEASTERN</td>\n",
       "      <td>3049.665754</td>\n",
       "      <td>132842908.899</td>\n",
       "      <td>51202.267742</td>\n",
       "      <td>132842908.883943</td>\n",
       "      <td>51202.267742</td>\n",
       "      <td>17477623.855469</td>\n",
       "      <td>18565.577657</td>\n",
       "      <td>{\"rings\": [[[-13035836.4422912, 3857951.557089...</td>\n",
       "    </tr>\n",
       "    <tr>\n",
       "      <th>1</th>\n",
       "      <td>2</td>\n",
       "      <td>2</td>\n",
       "      <td>97</td>\n",
       "      <td>MILITARY FACILITIES</td>\n",
       "      <td>444.218254</td>\n",
       "      <td>19350069.7695</td>\n",
       "      <td>31304.013099</td>\n",
       "      <td>19350069.762598</td>\n",
       "      <td>31304.013099</td>\n",
       "      <td>2544856.328125</td>\n",
       "      <td>11343.480057</td>\n",
       "      <td>{\"rings\": [[[-13038426.5095588, 3854603.291244...</td>\n",
       "    </tr>\n",
       "  </tbody>\n",
       "</table>\n",
       "</div>"
      ],
      "text/plain": [
       "   FID  OBJECTID  CPCODE                               CPNAME      ACREAGE  \\\n",
       "0    1         1      37  SOUTHEASTERN SAN DIEGO,SOUTHEASTERN  3049.665754   \n",
       "1    2         2      97                  MILITARY FACILITIES   444.218254   \n",
       "\n",
       "      Shape_STAr    Shape_STLe        ShapeSTAre    ShapeSTLen  \\\n",
       "0  132842908.899  51202.267742  132842908.883943  51202.267742   \n",
       "1  19350069.7695  31304.013099   19350069.762598  31304.013099   \n",
       "\n",
       "       Shape__Area  Shape__Length  \\\n",
       "0  17477623.855469   18565.577657   \n",
       "1   2544856.328125   11343.480057   \n",
       "\n",
       "                                               SHAPE  \n",
       "0  {\"rings\": [[[-13035836.4422912, 3857951.557089...  \n",
       "1  {\"rings\": [[[-13038426.5095588, 3854603.291244...  "
      ]
     },
     "execution_count": 16,
     "metadata": {},
     "output_type": "execute_result"
    }
   ],
   "source": [
    "%%time\n",
    "sd_city_areas_fl_sdf = sd_city_areas_content_fl.query().sdf\n",
    "sd_city_areas_fl_sdf.head(2)"
   ]
  },
  {
   "cell_type": "code",
   "execution_count": 17,
   "id": "c0f59407-0c69-4a86-b002-169edd3d7705",
   "metadata": {},
   "outputs": [
    {
     "name": "stdout",
     "output_type": "stream",
     "text": [
      "Common columns between two layers: \n",
      "{'OBJECTID', 'FID', 'Shape__Length', 'ShapeSTAre', 'Shape__Area', 'SHAPE', 'ShapeSTLen'}\n",
      "Non-common columns between two layers: \n",
      "{'CPANAME', 'CPNAME', 'SPONSORNAM', 'SUBREGPLAN', 'CPCODE', 'CPASG_LABE', 'ACREAGE', 'Shape_STAr', 'AREA_', 'Shape_STLe', 'CPASG', 'PERIMETER'}\n"
     ]
    }
   ],
   "source": [
    "# Check non-common columns between the two sdef so that they are consistent while concatinating\n",
    "non_common_columns = find_non_common_columns(sd_county_areas_fl_sdf,sd_city_areas_fl_sdf)"
   ]
  },
  {
   "cell_type": "code",
   "execution_count": 18,
   "id": "27319d49-7d79-4129-92f1-4ce4b3b7d45c",
   "metadata": {},
   "outputs": [],
   "source": [
    "# I know that CPNAME from city and CPANAME from county are equivalent,\n",
    "# so let's update rename that column for one of them.\n",
    "# CPANAME makes more sense as in \"Community Planned Area Name\". \n",
    "# So let's rename the column name for spatial dataframe from SD City Layer.\n",
    "sd_city_areas_fl_sdf.rename(columns={\"CPNAME\": \"CPANAME\"},inplace=True)"
   ]
  },
  {
   "cell_type": "code",
   "execution_count": 19,
   "id": "eff12416-deec-4df6-b834-a0599d6d6676",
   "metadata": {},
   "outputs": [
    {
     "data": {
      "text/plain": [
       "Index(['FID', 'OBJECTID', 'CPCODE', 'CPANAME', 'ACREAGE', 'Shape_STAr',\n",
       "       'Shape_STLe', 'ShapeSTAre', 'ShapeSTLen', 'Shape__Area',\n",
       "       'Shape__Length', 'SHAPE'],\n",
       "      dtype='object')"
      ]
     },
     "execution_count": 19,
     "metadata": {},
     "output_type": "execute_result"
    }
   ],
   "source": [
    "sd_city_areas_fl_sdf.columns"
   ]
  },
  {
   "cell_type": "code",
   "execution_count": 20,
   "id": "13836f64-aafc-4582-aba8-55d80f2e8330",
   "metadata": {},
   "outputs": [
    {
     "name": "stdout",
     "output_type": "stream",
     "text": [
      "Common columns between two layers: \n",
      "{'OBJECTID', 'FID', 'Shape__Length', 'ShapeSTAre', 'CPANAME', 'Shape__Area', 'SHAPE', 'ShapeSTLen'}\n",
      "Non-common columns between two layers: \n",
      "{'ACREAGE', 'Shape_STAr', 'AREA_', 'SPONSORNAM', 'SUBREGPLAN', 'CPASG', 'CPCODE', 'Shape_STLe', 'CPASG_LABE', 'PERIMETER'}\n"
     ]
    }
   ],
   "source": [
    "# Check non-common columns again to see if CPNAME is gone from it now\n",
    "non_common_columns = find_non_common_columns(sd_county_areas_fl_sdf,sd_city_areas_fl_sdf)"
   ]
  },
  {
   "cell_type": "code",
   "execution_count": 21,
   "id": "9a8e7d76-7ce3-4420-a343-1fd11efb3152",
   "metadata": {},
   "outputs": [],
   "source": [
    "# Now that we are done with column name changes, \n",
    "# let's drop these uncommon columns from both dataframes to keep the dataframes consistent.\n",
    "\n",
    "# Since we care about Area name mostly for these spatial features i.e. CPANAME\n",
    "\n",
    "sd_city_areas_fl_sdf.drop(columns=non_common_columns, inplace=True, errors='ignore')\n",
    "sd_county_areas_fl_sdf.drop(columns=non_common_columns, inplace=True, errors='ignore')"
   ]
  },
  {
   "cell_type": "code",
   "execution_count": 22,
   "id": "5d8a0d94-b2e8-4886-8505-92373d6c32dd",
   "metadata": {},
   "outputs": [
    {
     "name": "stdout",
     "output_type": "stream",
     "text": [
      "Common columns between two layers: \n",
      "{'OBJECTID', 'FID', 'Shape__Length', 'ShapeSTAre', 'CPANAME', 'Shape__Area', 'SHAPE', 'ShapeSTLen'}\n",
      "Non-common columns between two layers: \n",
      "set()\n"
     ]
    }
   ],
   "source": [
    "# Let's check if there is no non-common column now\n",
    "non_common_columns = find_non_common_columns(sd_county_areas_fl_sdf,sd_city_areas_fl_sdf)"
   ]
  },
  {
   "cell_type": "code",
   "execution_count": 23,
   "id": "f026dc81-73d0-4058-a47b-51a88a781d22",
   "metadata": {},
   "outputs": [
    {
     "name": "stdout",
     "output_type": "stream",
     "text": [
      "City:\n"
     ]
    },
    {
     "data": {
      "text/html": [
       "<div>\n",
       "<style scoped>\n",
       "    .dataframe tbody tr th:only-of-type {\n",
       "        vertical-align: middle;\n",
       "    }\n",
       "\n",
       "    .dataframe tbody tr th {\n",
       "        vertical-align: top;\n",
       "    }\n",
       "\n",
       "    .dataframe thead th {\n",
       "        text-align: right;\n",
       "    }\n",
       "</style>\n",
       "<table border=\"1\" class=\"dataframe\">\n",
       "  <thead>\n",
       "    <tr style=\"text-align: right;\">\n",
       "      <th></th>\n",
       "      <th>FID</th>\n",
       "      <th>OBJECTID</th>\n",
       "      <th>CPANAME</th>\n",
       "      <th>ShapeSTAre</th>\n",
       "      <th>ShapeSTLen</th>\n",
       "      <th>Shape__Area</th>\n",
       "      <th>Shape__Length</th>\n",
       "      <th>SHAPE</th>\n",
       "    </tr>\n",
       "  </thead>\n",
       "  <tbody>\n",
       "    <tr>\n",
       "      <th>0</th>\n",
       "      <td>1</td>\n",
       "      <td>1</td>\n",
       "      <td>SOUTHEASTERN SAN DIEGO,SOUTHEASTERN</td>\n",
       "      <td>132842908.883943</td>\n",
       "      <td>51202.267742</td>\n",
       "      <td>17477623.855469</td>\n",
       "      <td>18565.577657</td>\n",
       "      <td>{\"rings\": [[[-13035836.4422912, 3857951.557089...</td>\n",
       "    </tr>\n",
       "    <tr>\n",
       "      <th>1</th>\n",
       "      <td>2</td>\n",
       "      <td>2</td>\n",
       "      <td>MILITARY FACILITIES</td>\n",
       "      <td>19350069.762598</td>\n",
       "      <td>31304.013099</td>\n",
       "      <td>2544856.328125</td>\n",
       "      <td>11343.480057</td>\n",
       "      <td>{\"rings\": [[[-13038426.5095588, 3854603.291244...</td>\n",
       "    </tr>\n",
       "  </tbody>\n",
       "</table>\n",
       "</div>"
      ],
      "text/plain": [
       "   FID  OBJECTID                              CPANAME        ShapeSTAre  \\\n",
       "0    1         1  SOUTHEASTERN SAN DIEGO,SOUTHEASTERN  132842908.883943   \n",
       "1    2         2                  MILITARY FACILITIES   19350069.762598   \n",
       "\n",
       "     ShapeSTLen      Shape__Area  Shape__Length  \\\n",
       "0  51202.267742  17477623.855469   18565.577657   \n",
       "1  31304.013099   2544856.328125   11343.480057   \n",
       "\n",
       "                                               SHAPE  \n",
       "0  {\"rings\": [[[-13035836.4422912, 3857951.557089...  \n",
       "1  {\"rings\": [[[-13038426.5095588, 3854603.291244...  "
      ]
     },
     "metadata": {},
     "output_type": "display_data"
    },
    {
     "name": "stdout",
     "output_type": "stream",
     "text": [
      "County:\n"
     ]
    },
    {
     "data": {
      "text/html": [
       "<div>\n",
       "<style scoped>\n",
       "    .dataframe tbody tr th:only-of-type {\n",
       "        vertical-align: middle;\n",
       "    }\n",
       "\n",
       "    .dataframe tbody tr th {\n",
       "        vertical-align: top;\n",
       "    }\n",
       "\n",
       "    .dataframe thead th {\n",
       "        text-align: right;\n",
       "    }\n",
       "</style>\n",
       "<table border=\"1\" class=\"dataframe\">\n",
       "  <thead>\n",
       "    <tr style=\"text-align: right;\">\n",
       "      <th></th>\n",
       "      <th>FID</th>\n",
       "      <th>OBJECTID</th>\n",
       "      <th>CPANAME</th>\n",
       "      <th>ShapeSTAre</th>\n",
       "      <th>ShapeSTLen</th>\n",
       "      <th>Shape__Area</th>\n",
       "      <th>Shape__Length</th>\n",
       "      <th>SHAPE</th>\n",
       "    </tr>\n",
       "  </thead>\n",
       "  <tbody>\n",
       "    <tr>\n",
       "      <th>0</th>\n",
       "      <td>1</td>\n",
       "      <td>1</td>\n",
       "      <td>Desert</td>\n",
       "      <td>3259688343.29593</td>\n",
       "      <td>339691.623046</td>\n",
       "      <td>434365912.613281</td>\n",
       "      <td>123995.732988</td>\n",
       "      <td>{\"rings\": [[[-12958569.3039048, 3925457.047805...</td>\n",
       "    </tr>\n",
       "    <tr>\n",
       "      <th>1</th>\n",
       "      <td>2</td>\n",
       "      <td>2</td>\n",
       "      <td>Julian</td>\n",
       "      <td>1454254222.26481</td>\n",
       "      <td>180042.918084</td>\n",
       "      <td>192965715.507813</td>\n",
       "      <td>65610.700218</td>\n",
       "      <td>{\"rings\": [[[-12973903.3079023, 3905884.074290...</td>\n",
       "    </tr>\n",
       "  </tbody>\n",
       "</table>\n",
       "</div>"
      ],
      "text/plain": [
       "   FID  OBJECTID CPANAME        ShapeSTAre     ShapeSTLen       Shape__Area  \\\n",
       "0    1         1  Desert  3259688343.29593  339691.623046  434365912.613281   \n",
       "1    2         2  Julian  1454254222.26481  180042.918084  192965715.507813   \n",
       "\n",
       "   Shape__Length                                              SHAPE  \n",
       "0  123995.732988  {\"rings\": [[[-12958569.3039048, 3925457.047805...  \n",
       "1   65610.700218  {\"rings\": [[[-12973903.3079023, 3905884.074290...  "
      ]
     },
     "metadata": {},
     "output_type": "display_data"
    }
   ],
   "source": [
    "# Now that there are no non-common columns. Lets print the spatial dataframes again now\n",
    "print(\"City:\")\n",
    "display(sd_city_areas_fl_sdf.head(2))\n",
    "print(\"County:\")\n",
    "display(sd_county_areas_fl_sdf.head(2))"
   ]
  },
  {
   "cell_type": "code",
   "execution_count": 24,
   "id": "6974c225-c053-4340-b4f2-1cd6c88e146c",
   "metadata": {},
   "outputs": [
    {
     "data": {
      "text/html": [
       "<div>\n",
       "<style scoped>\n",
       "    .dataframe tbody tr th:only-of-type {\n",
       "        vertical-align: middle;\n",
       "    }\n",
       "\n",
       "    .dataframe tbody tr th {\n",
       "        vertical-align: top;\n",
       "    }\n",
       "\n",
       "    .dataframe thead th {\n",
       "        text-align: right;\n",
       "    }\n",
       "</style>\n",
       "<table border=\"1\" class=\"dataframe\">\n",
       "  <thead>\n",
       "    <tr style=\"text-align: right;\">\n",
       "      <th></th>\n",
       "      <th>FID</th>\n",
       "      <th>OBJECTID</th>\n",
       "      <th>CPANAME</th>\n",
       "      <th>ShapeSTAre</th>\n",
       "      <th>ShapeSTLen</th>\n",
       "      <th>Shape__Area</th>\n",
       "      <th>Shape__Length</th>\n",
       "      <th>SHAPE</th>\n",
       "    </tr>\n",
       "  </thead>\n",
       "  <tbody>\n",
       "    <tr>\n",
       "      <th>0</th>\n",
       "      <td>1</td>\n",
       "      <td>1</td>\n",
       "      <td>SOUTHEASTERN SAN DIEGO,SOUTHEASTERN</td>\n",
       "      <td>132842908.883943</td>\n",
       "      <td>51202.267742</td>\n",
       "      <td>17477623.855469</td>\n",
       "      <td>18565.577657</td>\n",
       "      <td>{\"rings\": [[[-13035836.4422912, 3857951.557089...</td>\n",
       "    </tr>\n",
       "    <tr>\n",
       "      <th>1</th>\n",
       "      <td>2</td>\n",
       "      <td>2</td>\n",
       "      <td>MILITARY FACILITIES</td>\n",
       "      <td>19350069.762598</td>\n",
       "      <td>31304.013099</td>\n",
       "      <td>2544856.328125</td>\n",
       "      <td>11343.480057</td>\n",
       "      <td>{\"rings\": [[[-13038426.5095588, 3854603.291244...</td>\n",
       "    </tr>\n",
       "  </tbody>\n",
       "</table>\n",
       "</div>"
      ],
      "text/plain": [
       "   FID  OBJECTID                              CPANAME        ShapeSTAre  \\\n",
       "0    1         1  SOUTHEASTERN SAN DIEGO,SOUTHEASTERN  132842908.883943   \n",
       "1    2         2                  MILITARY FACILITIES   19350069.762598   \n",
       "\n",
       "     ShapeSTLen      Shape__Area  Shape__Length  \\\n",
       "0  51202.267742  17477623.855469   18565.577657   \n",
       "1  31304.013099   2544856.328125   11343.480057   \n",
       "\n",
       "                                               SHAPE  \n",
       "0  {\"rings\": [[[-13035836.4422912, 3857951.557089...  \n",
       "1  {\"rings\": [[[-13038426.5095588, 3854603.291244...  "
      ]
     },
     "execution_count": 24,
     "metadata": {},
     "output_type": "execute_result"
    }
   ],
   "source": [
    "# Let's union these spatial dataframes to later create a layer out of it.\n",
    "final_sedf = pd.concat([sd_city_areas_fl_sdf,sd_county_areas_fl_sdf])\n",
    "final_sedf.head(2)"
   ]
  },
  {
   "cell_type": "code",
   "execution_count": 25,
   "id": "f45fed1d-5f0e-4092-9fe6-4578ff4bc993",
   "metadata": {},
   "outputs": [
    {
     "name": "stdout",
     "output_type": "stream",
     "text": [
      "Shape of concatinated SEDF: (143, 8)\n"
     ]
    }
   ],
   "source": [
    "print(f\"Shape of concatinated SEDF: {final_sedf.shape}\")"
   ]
  },
  {
   "cell_type": "code",
   "execution_count": 26,
   "id": "272e8a07-8942-4c15-8e73-0568e0d901bc",
   "metadata": {},
   "outputs": [],
   "source": [
    "if sd_city_areas_fl_sdf.shape[0] + sd_county_areas_fl_sdf.shape[0] != final_sedf.shape[0]:\n",
    "    raise AssertionError(\"The concatenated SEDF is missing rows or having additional ones.\")"
   ]
  },
  {
   "cell_type": "code",
   "execution_count": 27,
   "id": "6a28ec2c-297b-4bbe-9cda-437ffb2c5e47",
   "metadata": {},
   "outputs": [
    {
     "name": "stdout",
     "output_type": "stream",
     "text": [
      "CPU times: user 620 ms, sys: 60.6 ms, total: 681 ms\n",
      "Wall time: 15.3 s\n"
     ]
    }
   ],
   "source": [
    "%%time\n",
    "# Convert back from a SEDF into a feature layer, and publishing on AGOL\n",
    "my_new_featurelayer = final_sedf.spatial.to_featurelayer(title=\"San Diego Community Planned Areas\", \n",
    "                                                         gis=gis, \n",
    "                                                         folder='nourish_gis',\n",
    "                                                         tags=['SanDiegoNeighborhoods','SanDiegoCommunityPlannedAreas'])\n"
   ]
  },
  {
   "cell_type": "code",
   "execution_count": 28,
   "id": "2a0fa43e-7742-4665-8e07-4310386f2d27",
   "metadata": {},
   "outputs": [
    {
     "name": "stdout",
     "output_type": "stream",
     "text": [
      "Parsing [Esri Consumer Spending Data ] for consumer_spending segment!!\n",
      "\tNumber of Variables: 360\n"
     ]
    }
   ],
   "source": [
    "# Get consumer spending geo-enrichment variables.\n",
    "consumer_spending_variables = get_enrichment_variables('consumer_spending')"
   ]
  },
  {
   "cell_type": "code",
   "execution_count": 29,
   "id": "bcbcd519-e383-4f90-bee3-e4485167989e",
   "metadata": {},
   "outputs": [
    {
     "name": "stdout",
     "output_type": "stream",
     "text": [
      "Parsing [Esri Demographics] for demographics segment!!\n",
      "\tNumber of Variables: 1923\n"
     ]
    }
   ],
   "source": [
    "# Get consumer spending geo-enrichment variables.\n",
    "demographics_variables = get_enrichment_variables('demographics')"
   ]
  },
  {
   "cell_type": "code",
   "execution_count": 30,
   "id": "3e63867e-a97b-48ff-a08d-a93e4ec72834",
   "metadata": {},
   "outputs": [],
   "source": [
    "# For now let's just enrich consumer spending and later come back for demographics\n",
    "final_enriched_df = enrich(study_areas=final_sedf, analysis_variables=consumer_spending_variables)"
   ]
  },
  {
   "cell_type": "code",
   "execution_count": 31,
   "id": "df56e699-051b-4662-93f1-323a3476608a",
   "metadata": {},
   "outputs": [
    {
     "name": "stdout",
     "output_type": "stream",
     "text": [
      "Shape of San Diego Community Planned areas sedf: (143, 8)\n",
      "Shape of final_enriched_df: (143, 366)\n"
     ]
    }
   ],
   "source": [
    "print(f\"Shape of San Diego Community Planned areas sedf: {final_sedf.shape}\")\n",
    "print(f\"Shape of final_enriched_df: {final_enriched_df.shape}\")\n"
   ]
  },
  {
   "cell_type": "code",
   "execution_count": 32,
   "id": "313bb1ef-7ab1-4be7-b360-40a8d798febd",
   "metadata": {},
   "outputs": [
    {
     "data": {
      "text/html": [
       "<div>\n",
       "<style scoped>\n",
       "    .dataframe tbody tr th:only-of-type {\n",
       "        vertical-align: middle;\n",
       "    }\n",
       "\n",
       "    .dataframe tbody tr th {\n",
       "        vertical-align: top;\n",
       "    }\n",
       "\n",
       "    .dataframe thead th {\n",
       "        text-align: right;\n",
       "    }\n",
       "</style>\n",
       "<table border=\"1\" class=\"dataframe\">\n",
       "  <thead>\n",
       "    <tr style=\"text-align: right;\">\n",
       "      <th></th>\n",
       "      <th>source_country</th>\n",
       "      <th>aggregation_method</th>\n",
       "      <th>population_to_polygon_size_rating</th>\n",
       "      <th>apportionment_confidence</th>\n",
       "      <th>has_data</th>\n",
       "      <th>x9036_x</th>\n",
       "      <th>x9036fy_x</th>\n",
       "      <th>x1131_x</th>\n",
       "      <th>x1132_x</th>\n",
       "      <th>x1133_x</th>\n",
       "      <th>...</th>\n",
       "      <th>x15001fy_x</th>\n",
       "      <th>x7017_x</th>\n",
       "      <th>x7018_x</th>\n",
       "      <th>x7019_x</th>\n",
       "      <th>x7020_x</th>\n",
       "      <th>x7017fy_x</th>\n",
       "      <th>x7018fy_x</th>\n",
       "      <th>x7019fy_x</th>\n",
       "      <th>x7020fy_x</th>\n",
       "      <th>SHAPE</th>\n",
       "    </tr>\n",
       "  </thead>\n",
       "  <tbody>\n",
       "    <tr>\n",
       "      <th>0</th>\n",
       "      <td>USA</td>\n",
       "      <td>BlockApportionment:US.BlockGroups;PointsLayer:...</td>\n",
       "      <td>2.191</td>\n",
       "      <td>2.576</td>\n",
       "      <td>1</td>\n",
       "      <td>2453212.0</td>\n",
       "      <td>2904627.0</td>\n",
       "      <td>41578643.0</td>\n",
       "      <td>12724787.0</td>\n",
       "      <td>6901501.0</td>\n",
       "      <td>...</td>\n",
       "      <td>277169568.0</td>\n",
       "      <td>5872877.0</td>\n",
       "      <td>898952.0</td>\n",
       "      <td>756978.0</td>\n",
       "      <td>4216946.0</td>\n",
       "      <td>6954589.0</td>\n",
       "      <td>1064589.0</td>\n",
       "      <td>896503.0</td>\n",
       "      <td>4993498.0</td>\n",
       "      <td>{\"rings\": [[[-13035836.4422912, 3857951.557089...</td>\n",
       "    </tr>\n",
       "    <tr>\n",
       "      <th>1</th>\n",
       "      <td>USA</td>\n",
       "      <td>BlockApportionment:US.BlockGroups;PointsLayer:...</td>\n",
       "      <td>2.191</td>\n",
       "      <td>2.576</td>\n",
       "      <td>1</td>\n",
       "      <td>132064.0</td>\n",
       "      <td>158218.0</td>\n",
       "      <td>2406915.0</td>\n",
       "      <td>772975.0</td>\n",
       "      <td>445996.0</td>\n",
       "      <td>...</td>\n",
       "      <td>15296968.0</td>\n",
       "      <td>348937.0</td>\n",
       "      <td>52985.0</td>\n",
       "      <td>40574.0</td>\n",
       "      <td>255378.0</td>\n",
       "      <td>418037.0</td>\n",
       "      <td>63478.0</td>\n",
       "      <td>48609.0</td>\n",
       "      <td>305951.0</td>\n",
       "      <td>{\"rings\": [[[-13038426.5095588, 3854603.291244...</td>\n",
       "    </tr>\n",
       "    <tr>\n",
       "      <th>2</th>\n",
       "      <td>USA</td>\n",
       "      <td>BlockApportionment:US.BlockGroups;PointsLayer:...</td>\n",
       "      <td>2.191</td>\n",
       "      <td>2.576</td>\n",
       "      <td>1</td>\n",
       "      <td>3896742.0</td>\n",
       "      <td>4639915.0</td>\n",
       "      <td>60771338.0</td>\n",
       "      <td>18991059.0</td>\n",
       "      <td>10051630.0</td>\n",
       "      <td>...</td>\n",
       "      <td>434817711.0</td>\n",
       "      <td>9473739.0</td>\n",
       "      <td>1409992.0</td>\n",
       "      <td>1171363.0</td>\n",
       "      <td>6892384.0</td>\n",
       "      <td>11281584.0</td>\n",
       "      <td>1678867.0</td>\n",
       "      <td>1394689.0</td>\n",
       "      <td>8208028.0</td>\n",
       "      <td>{\"rings\": [[[-13037099.6630002, 3843048.861360...</td>\n",
       "    </tr>\n",
       "  </tbody>\n",
       "</table>\n",
       "<p>3 rows × 366 columns</p>\n",
       "</div>"
      ],
      "text/plain": [
       "  source_country                                 aggregation_method  \\\n",
       "0            USA  BlockApportionment:US.BlockGroups;PointsLayer:...   \n",
       "1            USA  BlockApportionment:US.BlockGroups;PointsLayer:...   \n",
       "2            USA  BlockApportionment:US.BlockGroups;PointsLayer:...   \n",
       "\n",
       "   population_to_polygon_size_rating  apportionment_confidence  has_data  \\\n",
       "0                              2.191                     2.576         1   \n",
       "1                              2.191                     2.576         1   \n",
       "2                              2.191                     2.576         1   \n",
       "\n",
       "     x9036_x  x9036fy_x     x1131_x     x1132_x     x1133_x  ...   x15001fy_x  \\\n",
       "0  2453212.0  2904627.0  41578643.0  12724787.0   6901501.0  ...  277169568.0   \n",
       "1   132064.0   158218.0   2406915.0    772975.0    445996.0  ...   15296968.0   \n",
       "2  3896742.0  4639915.0  60771338.0  18991059.0  10051630.0  ...  434817711.0   \n",
       "\n",
       "     x7017_x    x7018_x    x7019_x    x7020_x   x7017fy_x  x7018fy_x  \\\n",
       "0  5872877.0   898952.0   756978.0  4216946.0   6954589.0  1064589.0   \n",
       "1   348937.0    52985.0    40574.0   255378.0    418037.0    63478.0   \n",
       "2  9473739.0  1409992.0  1171363.0  6892384.0  11281584.0  1678867.0   \n",
       "\n",
       "   x7019fy_x  x7020fy_x                                              SHAPE  \n",
       "0   896503.0  4993498.0  {\"rings\": [[[-13035836.4422912, 3857951.557089...  \n",
       "1    48609.0   305951.0  {\"rings\": [[[-13038426.5095588, 3854603.291244...  \n",
       "2  1394689.0  8208028.0  {\"rings\": [[[-13037099.6630002, 3843048.861360...  \n",
       "\n",
       "[3 rows x 366 columns]"
      ]
     },
     "execution_count": 32,
     "metadata": {},
     "output_type": "execute_result"
    }
   ],
   "source": [
    "final_enriched_df.head(3)"
   ]
  },
  {
   "cell_type": "code",
   "execution_count": 35,
   "id": "2e07e5d8-f76f-474a-bb23-92520e33cec9",
   "metadata": {},
   "outputs": [
    {
     "data": {
      "text/html": [
       "<div class=\"item_container\" style=\"height: auto; overflow: hidden; border: 1px solid #cfcfcf; border-radius: 2px; background: #f6fafa; line-height: 1.21429em; padding: 10px;\">\n",
       "                    <div class=\"item_left\" style=\"width: 210px; float: left;\">\n",
       "                       <a href='https://UCSDOnline.maps.arcgis.com/home/item.html?id=439f9347af184b1593309c916ea0fb8c' target='_blank'>\n",
       "                        <img src='http://static.arcgis.com/images/desktopapp.png' class=\"itemThumbnail\">\n",
       "                       </a>\n",
       "                    </div>\n",
       "\n",
       "                    <div class=\"item_right\"     style=\"float: none; width: auto; overflow: hidden;\">\n",
       "                        <a href='https://UCSDOnline.maps.arcgis.com/home/item.html?id=439f9347af184b1593309c916ea0fb8c' target='_blank'><b>San Diego Community Planned Areas</b>\n",
       "                        </a>\n",
       "                        <br/><img src='https://UCSDOnline.maps.arcgis.com/home/js/jsapi/esri/css/images/item_type_icons/featureshosted16.png' style=\"vertical-align:middle;\">Feature Layer Collection by akale_UCSDOnline\n",
       "                        <br/>Last Modified: February 24, 2023\n",
       "                        <br/>0 comments, 0 views\n",
       "                    </div>\n",
       "                </div>\n",
       "                "
      ],
      "text/plain": [
       "<Item title:\"San Diego Community Planned Areas\" type:Feature Layer Collection owner:akale_UCSDOnline>"
      ]
     },
     "execution_count": 35,
     "metadata": {},
     "output_type": "execute_result"
    }
   ],
   "source": [
    "my_new_featurelayer"
   ]
  },
  {
   "cell_type": "code",
   "execution_count": 36,
   "id": "65352074-44bf-4453-858f-8cc2299578e5",
   "metadata": {},
   "outputs": [
    {
     "name": "stderr",
     "output_type": "stream",
     "text": [
      "{\"cost\": -1}\n"
     ]
    },
    {
     "name": "stdout",
     "output_type": "stream",
     "text": [
      "CPU times: user 557 ms, sys: 78.9 ms, total: 635 ms\n",
      "Wall time: 51.7 s\n"
     ]
    }
   ],
   "source": [
    "%%time\n",
    "# Clearly when we do enrichment on memory for the polygons from sd community planned areas spatial fataframe,\n",
    "# we are losing the original columns.\n",
    "# So let's enrich the layer and create a new one directly.\n",
    "\n",
    "sd_city_comm_planned_areas_enriched = enrich_layer(my_new_featurelayer,\n",
    "                             analysis_variables=consumer_spending_variables,\n",
    "                             country='US', \n",
    "                             output_name='San Diego Neighbourhood Consumer Spending')"
   ]
  },
  {
   "cell_type": "code",
   "execution_count": 37,
   "id": "f1ec71e7-5d4b-41f5-ab53-3d957082b02d",
   "metadata": {},
   "outputs": [
    {
     "data": {
      "text/html": [
       "<div class=\"item_container\" style=\"height: auto; overflow: hidden; border: 1px solid #cfcfcf; border-radius: 2px; background: #f6fafa; line-height: 1.21429em; padding: 10px;\">\n",
       "                    <div class=\"item_left\" style=\"width: 210px; float: left;\">\n",
       "                       <a href='https://UCSDOnline.maps.arcgis.com/home/item.html?id=2973d4aff2694294ac49795124aa23df' target='_blank'>\n",
       "                        <img src='http://static.arcgis.com/images/desktopapp.png' class=\"itemThumbnail\">\n",
       "                       </a>\n",
       "                    </div>\n",
       "\n",
       "                    <div class=\"item_right\"     style=\"float: none; width: auto; overflow: hidden;\">\n",
       "                        <a href='https://UCSDOnline.maps.arcgis.com/home/item.html?id=2973d4aff2694294ac49795124aa23df' target='_blank'><b>San_Diego_Neighbourhood_Consumer_Spending</b>\n",
       "                        </a>\n",
       "                        <br/><img src='https://UCSDOnline.maps.arcgis.com/home/js/jsapi/esri/css/images/item_type_icons/featureshosted16.png' style=\"vertical-align:middle;\">Feature Layer Collection by akale_UCSDOnline\n",
       "                        <br/>Last Modified: February 24, 2023\n",
       "                        <br/>0 comments, 0 views\n",
       "                    </div>\n",
       "                </div>\n",
       "                "
      ],
      "text/plain": [
       "<Item title:\"San_Diego_Neighbourhood_Consumer_Spending\" type:Feature Layer Collection owner:akale_UCSDOnline>"
      ]
     },
     "execution_count": 37,
     "metadata": {},
     "output_type": "execute_result"
    }
   ],
   "source": [
    "sd_city_comm_planned_areas_enriched"
   ]
  },
  {
   "cell_type": "code",
   "execution_count": null,
   "id": "cc68a051-c82b-40c5-8e5c-0ae7693a246b",
   "metadata": {},
   "outputs": [],
   "source": []
  }
 ],
 "metadata": {
  "kernelspec": {
   "display_name": "Python 3 (ipykernel)",
   "language": "python",
   "name": "python3"
  },
  "language_info": {
   "codemirror_mode": {
    "name": "ipython",
    "version": 3
   },
   "file_extension": ".py",
   "mimetype": "text/x-python",
   "name": "python",
   "nbconvert_exporter": "python",
   "pygments_lexer": "ipython3",
   "version": "3.9.16"
  }
 },
 "nbformat": 4,
 "nbformat_minor": 5
}
