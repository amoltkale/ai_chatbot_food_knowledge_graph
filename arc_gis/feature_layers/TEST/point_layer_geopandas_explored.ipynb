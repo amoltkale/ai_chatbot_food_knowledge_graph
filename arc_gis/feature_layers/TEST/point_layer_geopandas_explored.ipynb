{
 "cells": [
  {
   "cell_type": "code",
   "execution_count": 1,
   "id": "3ccb8bac-cb4c-41e4-ac58-276465743795",
   "metadata": {},
   "outputs": [],
   "source": [
    "import pandas as pd\n",
    "import geopandas\n",
    "import matplotlib.pyplot as plt\n",
    "import sqlalchemy as sal\n",
    "import psycopg2\n",
    "import arcgis\n",
    "from arcgis.gis import GIS"
   ]
  },
  {
   "cell_type": "code",
   "execution_count": 2,
   "id": "57e1dc20-8f73-4fee-a71f-83f4903349ea",
   "metadata": {},
   "outputs": [
    {
     "name": "stdout",
     "output_type": "stream",
     "text": [
      "Enter the Client ID/APP ID generated from Arc GIS:\n"
     ]
    },
    {
     "name": "stdin",
     "output_type": "stream",
     "text": [
      " Elm5V3upnnV17Q3r\n"
     ]
    },
    {
     "name": "stdout",
     "output_type": "stream",
     "text": [
      "Please sign in to your GIS and paste the code that is obtained below.\n",
      "If a web browser does not automatically open, please navigate to the URL below yourself instead.\n",
      "Opening web browser to navigate to: https://ucsdonline.maps.arcgis.com/sharing/rest/oauth2/authorize?response_type=code&client_id=Elm5V3upnnV17Q3r&redirect_uri=urn%3Aietf%3Awg%3Aoauth%3A2.0%3Aoob&state=BWV5Kv739dbUfZI7i6rQ7ffh0q6HxZ&allow_verification=false\n"
     ]
    },
    {
     "name": "stdin",
     "output_type": "stream",
     "text": [
      "Enter code obtained on signing in using SAML:  ········\n"
     ]
    },
    {
     "name": "stderr",
     "output_type": "stream",
     "text": [
      "/Users/amolkale/Documents/DSE/DSE260-Capstone-Project/capstone/venv3.9/lib/python3.9/site-packages/urllib3/connectionpool.py:1045: InsecureRequestWarning: Unverified HTTPS request is being made to host 'ucsdonline.maps.arcgis.com'. Adding certificate verification is strongly advised. See: https://urllib3.readthedocs.io/en/1.26.x/advanced-usage.html#ssl-warnings\n",
      "  warnings.warn(\n"
     ]
    },
    {
     "data": {
      "text/plain": [
       "'2.1.0'"
      ]
     },
     "execution_count": 2,
     "metadata": {},
     "output_type": "execute_result"
    }
   ],
   "source": [
    "\n",
    "#gis = GIS(username='izaslavsky_ucsd')  # this will ask for password. \n",
    "print(\"Enter the Client ID/APP ID generated from Arc GIS:\")\n",
    "app_id = input()\n",
    "gis = GIS(\"https://ucsdonline.maps.arcgis.com/home\", client_id=app_id)\n",
    "arcgis.__version__\n",
    "# Elm5V3upnnV17Q3r"
   ]
  },
  {
   "cell_type": "code",
   "execution_count": 3,
   "id": "14d977e9-01f4-46fd-9f15-379cfb3e4abd",
   "metadata": {},
   "outputs": [],
   "source": [
    "# df = pd.DataFrame(\n",
    "#     {'City': ['Buenos Aires', 'Brasilia', 'Santiago', 'Bogota', 'Caracas'],\n",
    "#      'Country': ['Argentina', 'Brazil', 'Chile', 'Colombia', 'Venezuela'],\n",
    "#      'Latitude': [-34.58, -15.78, -33.45, 4.60, 10.48],\n",
    "#      'Longitude': [-58.66, -47.91, -70.66, -74.08, -66.86]})"
   ]
  },
  {
   "cell_type": "code",
   "execution_count": 4,
   "id": "3b3fb8ae-cbe6-4182-887b-92f6b088ca7a",
   "metadata": {},
   "outputs": [],
   "source": [
    "# gdf = geopandas.GeoDataFrame(\n",
    "#     df, geometry=geopandas.points_from_xy(df.Longitude, df.Latitude))"
   ]
  },
  {
   "cell_type": "code",
   "execution_count": 5,
   "id": "af5e68d3-8770-4e71-b914-59b5f830d832",
   "metadata": {},
   "outputs": [],
   "source": [
    "# print(gdf.head())"
   ]
  },
  {
   "cell_type": "code",
   "execution_count": 6,
   "id": "68cde741-c5dc-4b05-b4f0-e9c0749d2b26",
   "metadata": {},
   "outputs": [],
   "source": [
    "# world = geopandas.read_file(geopandas.datasets.get_path('naturalearth_lowres'))\n",
    "\n",
    "# # We restrict to South America.\n",
    "# ax = world[world.continent == 'South America'].plot(\n",
    "#     color='white', edgecolor='black')\n",
    "\n",
    "# # We can now plot our ``GeoDataFrame``.\n",
    "# gdf.plot(ax=ax, color='red')\n",
    "\n",
    "# plt.show()"
   ]
  },
  {
   "cell_type": "code",
   "execution_count": 7,
   "id": "0218c357-7752-4a61-b2a9-c43e53ea1d00",
   "metadata": {},
   "outputs": [],
   "source": [
    "# df"
   ]
  },
  {
   "cell_type": "code",
   "execution_count": null,
   "id": "29dc3171-769e-4d89-8fe3-30c5cef08f53",
   "metadata": {},
   "outputs": [],
   "source": [
    "print(\"Nourish User:\")\n",
    "nourish_user = input()\n",
    "print(\"Nourish Password:\")\n",
    "nourish_pswd = input()"
   ]
  },
  {
   "cell_type": "code",
   "execution_count": 9,
   "id": "35c077e3-c0d6-4ca0-9b0d-e602d5fd535b",
   "metadata": {},
   "outputs": [],
   "source": [
    "conn = psycopg2.connect(\n",
    "    host=\"awesome-hw.sdsc.edu\",\n",
    "    database=\"nourish\",\n",
    "    user=nourish_user,\n",
    "    password=nourish_pswd)"
   ]
  },
  {
   "cell_type": "code",
   "execution_count": 10,
   "id": "3509dc93-6fe2-420f-baf1-b5b681fb9f2f",
   "metadata": {},
   "outputs": [
    {
     "name": "stdout",
     "output_type": "stream",
     "text": [
      "PostgreSQL database version:\n"
     ]
    }
   ],
   "source": [
    "# create a cursor\n",
    "cur = conn.cursor()\n",
    "        \n",
    "\n",
    "# execute a statement\n",
    "print('PostgreSQL database version:')\n",
    "cur.execute('select * from ca_business where city like \\'%San Diego%\\'')\n",
    "\n",
    "        # display the PostgreSQL database server version\n",
    "ca_business_result = cur.fetchall()\n",
    "       \n",
    "\t# close the communication with the PostgreSQL\n",
    "cur.close()"
   ]
  },
  {
   "cell_type": "code",
   "execution_count": 11,
   "id": "60275bb6-39c1-472d-8a12-a008d297daf5",
   "metadata": {},
   "outputs": [],
   "source": [
    "ca_business_result_list = [(row[1],row[4],row[5],row[8]) for row in ca_business_result]\n",
    "#lat_long_list[:10]"
   ]
  },
  {
   "cell_type": "code",
   "execution_count": 12,
   "id": "73e479c0-4a90-435e-a878-10605a78bb17",
   "metadata": {},
   "outputs": [],
   "source": [
    "# Create a DataFrame\n",
    "dataFrame = pd.DataFrame(ca_business_result_list,\n",
    "              columns=(\"business_name\",\"latitude\", \"longitude\",\"categories\")\n",
    "              );"
   ]
  },
  {
   "cell_type": "code",
   "execution_count": 13,
   "id": "b33ccc36-d251-4f8c-8642-2d425ac7a230",
   "metadata": {},
   "outputs": [
    {
     "data": {
      "text/html": [
       "<div>\n",
       "<style scoped>\n",
       "    .dataframe tbody tr th:only-of-type {\n",
       "        vertical-align: middle;\n",
       "    }\n",
       "\n",
       "    .dataframe tbody tr th {\n",
       "        vertical-align: top;\n",
       "    }\n",
       "\n",
       "    .dataframe thead th {\n",
       "        text-align: right;\n",
       "    }\n",
       "</style>\n",
       "<table border=\"1\" class=\"dataframe\">\n",
       "  <thead>\n",
       "    <tr style=\"text-align: right;\">\n",
       "      <th></th>\n",
       "      <th>business_name</th>\n",
       "      <th>latitude</th>\n",
       "      <th>longitude</th>\n",
       "      <th>categories</th>\n",
       "    </tr>\n",
       "  </thead>\n",
       "  <tbody>\n",
       "    <tr>\n",
       "      <th>0</th>\n",
       "      <td>Cold Stone Creamery</td>\n",
       "      <td>32.760895999999995</td>\n",
       "      <td>-117.06579699999999</td>\n",
       "      <td>[Ice cream shop, Cake shop, Dessert restaurant...</td>\n",
       "    </tr>\n",
       "    <tr>\n",
       "      <th>1</th>\n",
       "      <td>Kite Country</td>\n",
       "      <td>32.7544652</td>\n",
       "      <td>-117.20883789999999</td>\n",
       "      <td>[Kite shop]</td>\n",
       "    </tr>\n",
       "    <tr>\n",
       "      <th>2</th>\n",
       "      <td>Torrey Gardens</td>\n",
       "      <td>32.9125922</td>\n",
       "      <td>-117.226253</td>\n",
       "      <td>[Apartment building, Apartment complex]</td>\n",
       "    </tr>\n",
       "    <tr>\n",
       "      <th>3</th>\n",
       "      <td>Hoxton Manor</td>\n",
       "      <td>32.7482676</td>\n",
       "      <td>-117.1264983</td>\n",
       "      <td>[Restaurant]</td>\n",
       "    </tr>\n",
       "    <tr>\n",
       "      <th>4</th>\n",
       "      <td>South Bark Dog Wash</td>\n",
       "      <td>32.7272795</td>\n",
       "      <td>-117.1299796</td>\n",
       "      <td>[Pet supply store, Dog trainer, Pet groomer]</td>\n",
       "    </tr>\n",
       "    <tr>\n",
       "      <th>...</th>\n",
       "      <td>...</td>\n",
       "      <td>...</td>\n",
       "      <td>...</td>\n",
       "      <td>...</td>\n",
       "    </tr>\n",
       "    <tr>\n",
       "      <th>20678</th>\n",
       "      <td>La Jolla Village Dr &amp; Genesee Av</td>\n",
       "      <td>32.8726346</td>\n",
       "      <td>-117.21308259999999</td>\n",
       "      <td>[Bus stop]</td>\n",
       "    </tr>\n",
       "    <tr>\n",
       "      <th>20679</th>\n",
       "      <td>Canyon Rim Apartments</td>\n",
       "      <td>32.972652499999995</td>\n",
       "      <td>-117.09548819999999</td>\n",
       "      <td>[Apartment building, Apartment complex, Low in...</td>\n",
       "    </tr>\n",
       "    <tr>\n",
       "      <th>20680</th>\n",
       "      <td>Russell W McCalley DDS Inc</td>\n",
       "      <td>32.8211237</td>\n",
       "      <td>-117.1842489</td>\n",
       "      <td>[Cosmetic dentist, Dentist]</td>\n",
       "    </tr>\n",
       "    <tr>\n",
       "      <th>20681</th>\n",
       "      <td>Walter Andersen Nursery</td>\n",
       "      <td>32.7469689</td>\n",
       "      <td>-117.1987556</td>\n",
       "      <td>[Plant nursery]</td>\n",
       "    </tr>\n",
       "    <tr>\n",
       "      <th>20682</th>\n",
       "      <td>Sunset Cliffs</td>\n",
       "      <td>32.7342948</td>\n",
       "      <td>-117.25588219999999</td>\n",
       "      <td>[Public beach]</td>\n",
       "    </tr>\n",
       "  </tbody>\n",
       "</table>\n",
       "<p>20683 rows × 4 columns</p>\n",
       "</div>"
      ],
      "text/plain": [
       "                          business_name            latitude  \\\n",
       "0                   Cold Stone Creamery  32.760895999999995   \n",
       "1                          Kite Country          32.7544652   \n",
       "2                        Torrey Gardens          32.9125922   \n",
       "3                          Hoxton Manor          32.7482676   \n",
       "4                   South Bark Dog Wash          32.7272795   \n",
       "...                                 ...                 ...   \n",
       "20678  La Jolla Village Dr & Genesee Av          32.8726346   \n",
       "20679             Canyon Rim Apartments  32.972652499999995   \n",
       "20680        Russell W McCalley DDS Inc          32.8211237   \n",
       "20681           Walter Andersen Nursery          32.7469689   \n",
       "20682                     Sunset Cliffs          32.7342948   \n",
       "\n",
       "                 longitude                                         categories  \n",
       "0      -117.06579699999999  [Ice cream shop, Cake shop, Dessert restaurant...  \n",
       "1      -117.20883789999999                                        [Kite shop]  \n",
       "2              -117.226253            [Apartment building, Apartment complex]  \n",
       "3             -117.1264983                                       [Restaurant]  \n",
       "4             -117.1299796       [Pet supply store, Dog trainer, Pet groomer]  \n",
       "...                    ...                                                ...  \n",
       "20678  -117.21308259999999                                         [Bus stop]  \n",
       "20679  -117.09548819999999  [Apartment building, Apartment complex, Low in...  \n",
       "20680         -117.1842489                        [Cosmetic dentist, Dentist]  \n",
       "20681         -117.1987556                                    [Plant nursery]  \n",
       "20682  -117.25588219999999                                     [Public beach]  \n",
       "\n",
       "[20683 rows x 4 columns]"
      ]
     },
     "execution_count": 13,
     "metadata": {},
     "output_type": "execute_result"
    }
   ],
   "source": [
    "dataFrame"
   ]
  },
  {
   "cell_type": "code",
   "execution_count": 14,
   "id": "332ea853-bed0-49a5-9cc5-fbe211a36bdc",
   "metadata": {},
   "outputs": [],
   "source": [
    "#!pip install psycopg2-binary"
   ]
  },
  {
   "cell_type": "code",
   "execution_count": 15,
   "id": "9f219355-2df0-4a6c-86a3-8937c7901881",
   "metadata": {},
   "outputs": [],
   "source": [
    "#!pip show psycopg2-binary"
   ]
  },
  {
   "cell_type": "code",
   "execution_count": 16,
   "id": "cdef6eea-6e2a-4050-ae98-e10f54fc834f",
   "metadata": {},
   "outputs": [],
   "source": [
    "gdf = geopandas.GeoDataFrame(\n",
    "    dataFrame, geometry=geopandas.points_from_xy(dataFrame.longitude, dataFrame.latitude))"
   ]
  },
  {
   "cell_type": "code",
   "execution_count": 17,
   "id": "c6b1028b-fe0f-4196-afc2-904928f4baf7",
   "metadata": {},
   "outputs": [],
   "source": [
    "from arcgis.features import GeoAccessor"
   ]
  },
  {
   "cell_type": "code",
   "execution_count": 18,
   "id": "5fd685d7-befb-4062-8abd-dca6a3c7830c",
   "metadata": {},
   "outputs": [],
   "source": [
    "ca_business_sgdf = GeoAccessor.from_geodataframe(gdf, inplace=False, column_name='SHAPE')"
   ]
  },
  {
   "cell_type": "code",
   "execution_count": 19,
   "id": "afeea213-6ae4-4e77-a5ba-ee7151ee6153",
   "metadata": {},
   "outputs": [
    {
     "data": {
      "text/html": [
       "<div>\n",
       "<style scoped>\n",
       "    .dataframe tbody tr th:only-of-type {\n",
       "        vertical-align: middle;\n",
       "    }\n",
       "\n",
       "    .dataframe tbody tr th {\n",
       "        vertical-align: top;\n",
       "    }\n",
       "\n",
       "    .dataframe thead th {\n",
       "        text-align: right;\n",
       "    }\n",
       "</style>\n",
       "<table border=\"1\" class=\"dataframe\">\n",
       "  <thead>\n",
       "    <tr style=\"text-align: right;\">\n",
       "      <th></th>\n",
       "      <th>business_name</th>\n",
       "      <th>latitude</th>\n",
       "      <th>longitude</th>\n",
       "      <th>categories</th>\n",
       "      <th>SHAPE</th>\n",
       "    </tr>\n",
       "  </thead>\n",
       "  <tbody>\n",
       "    <tr>\n",
       "      <th>0</th>\n",
       "      <td>Cold Stone Creamery</td>\n",
       "      <td>32.760895999999995</td>\n",
       "      <td>-117.06579699999999</td>\n",
       "      <td>[Ice cream shop, Cake shop, Dessert restaurant...</td>\n",
       "      <td>{\"x\": -117.06579699999999, \"y\": 32.76089599999...</td>\n",
       "    </tr>\n",
       "    <tr>\n",
       "      <th>1</th>\n",
       "      <td>Kite Country</td>\n",
       "      <td>32.7544652</td>\n",
       "      <td>-117.20883789999999</td>\n",
       "      <td>[Kite shop]</td>\n",
       "      <td>{\"x\": -117.20883789999999, \"y\": 32.7544652, \"s...</td>\n",
       "    </tr>\n",
       "    <tr>\n",
       "      <th>2</th>\n",
       "      <td>Torrey Gardens</td>\n",
       "      <td>32.9125922</td>\n",
       "      <td>-117.226253</td>\n",
       "      <td>[Apartment building, Apartment complex]</td>\n",
       "      <td>{\"x\": -117.226253, \"y\": 32.9125922, \"spatialRe...</td>\n",
       "    </tr>\n",
       "    <tr>\n",
       "      <th>3</th>\n",
       "      <td>Hoxton Manor</td>\n",
       "      <td>32.7482676</td>\n",
       "      <td>-117.1264983</td>\n",
       "      <td>[Restaurant]</td>\n",
       "      <td>{\"x\": -117.1264983, \"y\": 32.7482676, \"spatialR...</td>\n",
       "    </tr>\n",
       "    <tr>\n",
       "      <th>4</th>\n",
       "      <td>South Bark Dog Wash</td>\n",
       "      <td>32.7272795</td>\n",
       "      <td>-117.1299796</td>\n",
       "      <td>[Pet supply store, Dog trainer, Pet groomer]</td>\n",
       "      <td>{\"x\": -117.1299796, \"y\": 32.7272795, \"spatialR...</td>\n",
       "    </tr>\n",
       "    <tr>\n",
       "      <th>...</th>\n",
       "      <td>...</td>\n",
       "      <td>...</td>\n",
       "      <td>...</td>\n",
       "      <td>...</td>\n",
       "      <td>...</td>\n",
       "    </tr>\n",
       "    <tr>\n",
       "      <th>20678</th>\n",
       "      <td>La Jolla Village Dr &amp; Genesee Av</td>\n",
       "      <td>32.8726346</td>\n",
       "      <td>-117.21308259999999</td>\n",
       "      <td>[Bus stop]</td>\n",
       "      <td>{\"x\": -117.21308259999999, \"y\": 32.8726346, \"s...</td>\n",
       "    </tr>\n",
       "    <tr>\n",
       "      <th>20679</th>\n",
       "      <td>Canyon Rim Apartments</td>\n",
       "      <td>32.972652499999995</td>\n",
       "      <td>-117.09548819999999</td>\n",
       "      <td>[Apartment building, Apartment complex, Low in...</td>\n",
       "      <td>{\"x\": -117.09548819999999, \"y\": 32.97265249999...</td>\n",
       "    </tr>\n",
       "    <tr>\n",
       "      <th>20680</th>\n",
       "      <td>Russell W McCalley DDS Inc</td>\n",
       "      <td>32.8211237</td>\n",
       "      <td>-117.1842489</td>\n",
       "      <td>[Cosmetic dentist, Dentist]</td>\n",
       "      <td>{\"x\": -117.1842489, \"y\": 32.8211237, \"spatialR...</td>\n",
       "    </tr>\n",
       "    <tr>\n",
       "      <th>20681</th>\n",
       "      <td>Walter Andersen Nursery</td>\n",
       "      <td>32.7469689</td>\n",
       "      <td>-117.1987556</td>\n",
       "      <td>[Plant nursery]</td>\n",
       "      <td>{\"x\": -117.1987556, \"y\": 32.7469689, \"spatialR...</td>\n",
       "    </tr>\n",
       "    <tr>\n",
       "      <th>20682</th>\n",
       "      <td>Sunset Cliffs</td>\n",
       "      <td>32.7342948</td>\n",
       "      <td>-117.25588219999999</td>\n",
       "      <td>[Public beach]</td>\n",
       "      <td>{\"x\": -117.25588219999999, \"y\": 32.7342948, \"s...</td>\n",
       "    </tr>\n",
       "  </tbody>\n",
       "</table>\n",
       "<p>20683 rows × 5 columns</p>\n",
       "</div>"
      ],
      "text/plain": [
       "                          business_name            latitude  \\\n",
       "0                   Cold Stone Creamery  32.760895999999995   \n",
       "1                          Kite Country          32.7544652   \n",
       "2                        Torrey Gardens          32.9125922   \n",
       "3                          Hoxton Manor          32.7482676   \n",
       "4                   South Bark Dog Wash          32.7272795   \n",
       "...                                 ...                 ...   \n",
       "20678  La Jolla Village Dr & Genesee Av          32.8726346   \n",
       "20679             Canyon Rim Apartments  32.972652499999995   \n",
       "20680        Russell W McCalley DDS Inc          32.8211237   \n",
       "20681           Walter Andersen Nursery          32.7469689   \n",
       "20682                     Sunset Cliffs          32.7342948   \n",
       "\n",
       "                 longitude                                         categories  \\\n",
       "0      -117.06579699999999  [Ice cream shop, Cake shop, Dessert restaurant...   \n",
       "1      -117.20883789999999                                        [Kite shop]   \n",
       "2              -117.226253            [Apartment building, Apartment complex]   \n",
       "3             -117.1264983                                       [Restaurant]   \n",
       "4             -117.1299796       [Pet supply store, Dog trainer, Pet groomer]   \n",
       "...                    ...                                                ...   \n",
       "20678  -117.21308259999999                                         [Bus stop]   \n",
       "20679  -117.09548819999999  [Apartment building, Apartment complex, Low in...   \n",
       "20680         -117.1842489                        [Cosmetic dentist, Dentist]   \n",
       "20681         -117.1987556                                    [Plant nursery]   \n",
       "20682  -117.25588219999999                                     [Public beach]   \n",
       "\n",
       "                                                   SHAPE  \n",
       "0      {\"x\": -117.06579699999999, \"y\": 32.76089599999...  \n",
       "1      {\"x\": -117.20883789999999, \"y\": 32.7544652, \"s...  \n",
       "2      {\"x\": -117.226253, \"y\": 32.9125922, \"spatialRe...  \n",
       "3      {\"x\": -117.1264983, \"y\": 32.7482676, \"spatialR...  \n",
       "4      {\"x\": -117.1299796, \"y\": 32.7272795, \"spatialR...  \n",
       "...                                                  ...  \n",
       "20678  {\"x\": -117.21308259999999, \"y\": 32.8726346, \"s...  \n",
       "20679  {\"x\": -117.09548819999999, \"y\": 32.97265249999...  \n",
       "20680  {\"x\": -117.1842489, \"y\": 32.8211237, \"spatialR...  \n",
       "20681  {\"x\": -117.1987556, \"y\": 32.7469689, \"spatialR...  \n",
       "20682  {\"x\": -117.25588219999999, \"y\": 32.7342948, \"s...  \n",
       "\n",
       "[20683 rows x 5 columns]"
      ]
     },
     "execution_count": 19,
     "metadata": {},
     "output_type": "execute_result"
    }
   ],
   "source": [
    "ca_business_sgdf"
   ]
  },
  {
   "cell_type": "code",
   "execution_count": 20,
   "id": "e2b9a0c6-89f3-4321-8661-baaa531f066a",
   "metadata": {},
   "outputs": [
    {
     "name": "stdout",
     "output_type": "stream",
     "text": [
      "CPU times: user 15.1 s, sys: 554 ms, total: 15.7 s\n",
      "Wall time: 40.7 s\n"
     ]
    }
   ],
   "source": [
    "%%time\n",
    "# Convert back from a SEDF into a feature layer, and publishing on AGOL\n",
    "my_new_featurelayer = ca_business_sgdf.spatial.to_featurelayer(title=\"Test CA Business\", \n",
    "                                                         gis=gis, \n",
    "                                                         folder='nourish_gis',\n",
    "                                                         tags=['CABusiness'])"
   ]
  },
  {
   "cell_type": "code",
   "execution_count": null,
   "id": "f50683b4-989c-4a92-8700-0bc467eec938",
   "metadata": {},
   "outputs": [],
   "source": []
  }
 ],
 "metadata": {
  "kernelspec": {
   "display_name": "Python 3 (ipykernel)",
   "language": "python",
   "name": "python3"
  },
  "language_info": {
   "codemirror_mode": {
    "name": "ipython",
    "version": 3
   },
   "file_extension": ".py",
   "mimetype": "text/x-python",
   "name": "python",
   "nbconvert_exporter": "python",
   "pygments_lexer": "ipython3",
   "version": "3.9.16"
  }
 },
 "nbformat": 4,
 "nbformat_minor": 5
}
