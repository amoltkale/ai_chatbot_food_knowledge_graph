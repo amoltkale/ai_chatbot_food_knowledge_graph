{
 "cells": [
  {
   "cell_type": "markdown",
   "id": "0c58f162-7a28-449a-9c4f-32c9dd7bd187",
   "metadata": {},
   "source": [
    "### Motivation\n",
    "Test `arcgis.features.analysis.aggregate_points` module to check if it is possible to merge a Polygon Layer and a Point Layer together.  \n",
    "For test, let's use the existing block group sd county layer we have created: https://services1.arcgis.com/eGSDp8lpKe5izqVc/arcgis/rest/services/sandag_census_block_groups/FeatureServer  \n"
   ]
  },
  {
   "cell_type": "code",
   "execution_count": 26,
   "id": "1d80fa84-f6cd-404a-a43e-d1afe94b7cdd",
   "metadata": {},
   "outputs": [],
   "source": [
    "from arcgis.features.analysis import aggregate_points\n",
    "from arcgis.features import FeatureLayerCollection, FeatureLayer\n",
    "from arcgis.gis import GIS\n",
    "import sys\n",
    "sys.path.append('../../')\n",
    "from utils import get_config"
   ]
  },
  {
   "cell_type": "code",
   "execution_count": 27,
   "id": "df1a61ba-779f-49f1-b47e-a40ecf6a6d87",
   "metadata": {},
   "outputs": [
    {
     "name": "stdout",
     "output_type": "stream",
     "text": [
      "<configparser.ConfigParser object at 0x1523cf7c0>\n",
      "Please sign in to your GIS and paste the code that is obtained below.\n",
      "If a web browser does not automatically open, please navigate to the URL below yourself instead.\n",
      "Opening web browser to navigate to: https://ucsdonline.maps.arcgis.com/sharing/rest/oauth2/authorize?response_type=code&client_id=Elm5V3upnnV17Q3r&redirect_uri=urn%3Aietf%3Awg%3Aoauth%3A2.0%3Aoob&state=2D1Bw96dT6OImkb3GwwDCer4IyNx3S&allow_verification=false\n"
     ]
    },
    {
     "name": "stdin",
     "output_type": "stream",
     "text": [
      "Enter code obtained on signing in using SAML:  ········\n"
     ]
    },
    {
     "name": "stderr",
     "output_type": "stream",
     "text": [
      "/Users/amolkale/Documents/DSE/DSE260-Capstone-Project/capstone/venv3.9/lib/python3.9/site-packages/urllib3/connectionpool.py:1045: InsecureRequestWarning: Unverified HTTPS request is being made to host 'ucsdonline.maps.arcgis.com'. Adding certificate verification is strongly advised. See: https://urllib3.readthedocs.io/en/1.26.x/advanced-usage.html#ssl-warnings\n",
      "  warnings.warn(\n"
     ]
    }
   ],
   "source": [
    "app_id = get_config(\"arcgis\",\"clientid\")\n",
    "gis = GIS(\"https://ucsdonline.maps.arcgis.com/home\", client_id=app_id)"
   ]
  },
  {
   "cell_type": "markdown",
   "id": "a80e12dd-6ede-4e74-a144-e723808fe157",
   "metadata": {},
   "source": [
    "Getting the block group feature layer"
   ]
  },
  {
   "cell_type": "code",
   "execution_count": 28,
   "id": "9323479b-75ce-4ab8-b121-7dc0e4be2e04",
   "metadata": {},
   "outputs": [
    {
     "data": {
      "text/plain": [
       "'https://services1.arcgis.com/eGSDp8lpKe5izqVc/arcgis/rest/services/sandag_census_block_groups/FeatureServer/0'"
      ]
     },
     "execution_count": 28,
     "metadata": {},
     "output_type": "execute_result"
    }
   ],
   "source": [
    "sd_bg_flc = FeatureLayerCollection(url=\"https://services1.arcgis.com/eGSDp8lpKe5izqVc/arcgis/rest/services/sandag_census_block_groups/FeatureServer\",gis=gis)\n",
    "sd_bg_fl = FeatureLayer(sd_bg_flc.layers[0].url,gis=gis)\n",
    "sd_bg_fl_url"
   ]
  },
  {
   "cell_type": "markdown",
   "id": "51ee0e82-bf21-44d8-a932-e9329d9ecdbe",
   "metadata": {},
   "source": [
    "Getting the CA business point layer"
   ]
  },
  {
   "cell_type": "code",
   "execution_count": 29,
   "id": "a48ed4e4-e6d4-4a31-9080-e624fb42edc9",
   "metadata": {},
   "outputs": [
    {
     "data": {
      "text/plain": [
       "<FeatureLayer url:\"https://services1.arcgis.com/eGSDp8lpKe5izqVc/arcgis/rest/services/ad2ed6/FeatureServer/0\">"
      ]
     },
     "execution_count": 29,
     "metadata": {},
     "output_type": "execute_result"
    }
   ],
   "source": [
    "ca_biz_flc = FeatureLayerCollection(url=\"https://services1.arcgis.com/eGSDp8lpKe5izqVc/arcgis/rest/services/ad2ed6/FeatureServer\",gis=gis)\n",
    "ca_biz_fl = FeatureLayer(ca_biz_flc.layers[0].url,gis=gis)\n",
    "ca_biz_fl"
   ]
  },
  {
   "cell_type": "code",
   "execution_count": 30,
   "id": "7c060bc9-d498-4446-b6bc-4b97843a1f54",
   "metadata": {},
   "outputs": [
    {
     "data": {
      "text/plain": [
       "{'xmin': -13090748.26761642,\n",
       " 'ymin': 3833648.9812504807,\n",
       " 'xmax': -12922065.78867873,\n",
       " 'ymax': 3962578.978824853,\n",
       " 'spatialReference': {'wkid': 102100, 'latestWkid': 3857}}"
      ]
     },
     "execution_count": 30,
     "metadata": {},
     "output_type": "execute_result"
    }
   ],
   "source": [
    "extent = sd_bg_fl.properties[\"extent\"]\n",
    "extent"
   ]
  },
  {
   "cell_type": "code",
   "execution_count": 40,
   "id": "d4fd2e11-e85a-4373-a8a2-28133f49d8a0",
   "metadata": {},
   "outputs": [
    {
     "name": "stderr",
     "output_type": "stream",
     "text": [
      "{\"cost\": 47.68}\n"
     ]
    }
   ],
   "source": [
    "# This creates a FeatureCollection if not given an outputname\n",
    "aggregated_fc = aggregate_points(point_layer=ca_biz_fl,\n",
    "                                 polygon_layer=sd_bg_fl,\n",
    "                                 gis=gis,\n",
    "                                 #estimate=True,\n",
    "                                 #output_name=sd_bg_fl,\n",
    "                                 output_name='Test_Block_Group_SD_Businesses',\n",
    "                                 context={\"extent\":extent,\n",
    "                                          \"outSR\": {\"wkid\": 3857},\n",
    "                                          \"overwrite\": False,\n",
    "                                         })"
   ]
  },
  {
   "cell_type": "code",
   "execution_count": 36,
   "id": "0a8fd591-b91a-4338-abb2-01f5dd405bf1",
   "metadata": {},
   "outputs": [
    {
     "data": {
      "text/plain": [
       "arcgis.features.layer.FeatureLayer"
      ]
     },
     "execution_count": 36,
     "metadata": {},
     "output_type": "execute_result"
    }
   ],
   "source": [
    "type(sd_bg_fl)"
   ]
  },
  {
   "cell_type": "code",
   "execution_count": 39,
   "id": "c0225f7e-c9a3-469f-9384-5d25a956dec1",
   "metadata": {},
   "outputs": [
    {
     "data": {
      "text/plain": [
       "'https://services1.arcgis.com/eGSDp8lpKe5izqVc/arcgis/rest/services/sandag_census_block_groups/FeatureServer'"
      ]
     },
     "execution_count": 39,
     "metadata": {},
     "output_type": "execute_result"
    }
   ],
   "source": []
  },
  {
   "cell_type": "code",
   "execution_count": null,
   "id": "4e7d5819-a49b-43f5-95b1-68219929ebae",
   "metadata": {},
   "outputs": [],
   "source": []
  }
 ],
 "metadata": {
  "kernelspec": {
   "display_name": "Python 3 (ipykernel)",
   "language": "python",
   "name": "python3"
  },
  "language_info": {
   "codemirror_mode": {
    "name": "ipython",
    "version": 3
   },
   "file_extension": ".py",
   "mimetype": "text/x-python",
   "name": "python",
   "nbconvert_exporter": "python",
   "pygments_lexer": "ipython3",
   "version": "3.9.16"
  }
 },
 "nbformat": 4,
 "nbformat_minor": 5
}
