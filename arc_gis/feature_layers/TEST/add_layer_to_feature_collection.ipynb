{
 "cells": [
  {
   "cell_type": "code",
   "execution_count": 1,
   "id": "3f9ec6de-b378-4cbb-a944-3d6e654b9f91",
   "metadata": {},
   "outputs": [],
   "source": [
    "import arcgis\n",
    "from arcgis.gis import GIS\n",
    "from arcgis.features import *\n",
    "from feature_layer_utils import delete_existing_folder, explore_feature_layer, get_feature_layer"
   ]
  },
  {
   "cell_type": "code",
   "execution_count": 23,
   "id": "e2d34157-66b3-4512-9472-19caa2fe1034",
   "metadata": {},
   "outputs": [
    {
     "name": "stdout",
     "output_type": "stream",
     "text": [
      "Enter the Client ID/APP ID generated from Arc GIS:\n"
     ]
    },
    {
     "name": "stdin",
     "output_type": "stream",
     "text": [
      " Elm5V3upnnV17Q3r\n"
     ]
    },
    {
     "name": "stdout",
     "output_type": "stream",
     "text": [
      "Please sign in to your GIS and paste the code that is obtained below.\n",
      "If a web browser does not automatically open, please navigate to the URL below yourself instead.\n",
      "Opening web browser to navigate to: https://ucsdonline.maps.arcgis.com/sharing/rest/oauth2/authorize?response_type=code&client_id=Elm5V3upnnV17Q3r&redirect_uri=urn%3Aietf%3Awg%3Aoauth%3A2.0%3Aoob&state=lNNe9npAdoZZlxXlrHIFsa2PrzEnzD&allow_verification=false\n"
     ]
    },
    {
     "name": "stdin",
     "output_type": "stream",
     "text": [
      "Enter code obtained on signing in using SAML:  ········\n"
     ]
    },
    {
     "name": "stderr",
     "output_type": "stream",
     "text": [
      "/Users/amolkale/Documents/DSE/DSE260-Capstone-Project/capstone/venv3.9/lib/python3.9/site-packages/urllib3/connectionpool.py:1045: InsecureRequestWarning: Unverified HTTPS request is being made to host 'ucsdonline.maps.arcgis.com'. Adding certificate verification is strongly advised. See: https://urllib3.readthedocs.io/en/1.26.x/advanced-usage.html#ssl-warnings\n",
      "  warnings.warn(\n"
     ]
    },
    {
     "data": {
      "text/plain": [
       "'2.1.0'"
      ]
     },
     "execution_count": 23,
     "metadata": {},
     "output_type": "execute_result"
    }
   ],
   "source": [
    "#gis = GIS(username='izaslavsky_ucsd')  # this will ask for password. \n",
    "print(\"Enter the Client ID/APP ID generated from Arc GIS:\")\n",
    "app_id = input()\n",
    "gis = GIS(\"https://ucsdonline.maps.arcgis.com/home\", client_id=app_id)\n",
    "arcgis.__version__\n",
    "# Elm5V3upnnV17Q3r"
   ]
  },
  {
   "cell_type": "code",
   "execution_count": 31,
   "id": "06112075-9195-4e33-af2e-df6d582c19a6",
   "metadata": {},
   "outputs": [],
   "source": [
    "# Read the sample Feature layer collection you want to add the new layer to ?\n",
    "feature_layer_collection_url = 'https://services1.arcgis.com/eGSDp8lpKe5izqVc/arcgis/rest/services/aaf7b2/FeatureServer'\n",
    "# feature_layer_collection_url = 'https://services1.arcgis.com/eGSDp8lpKe5izqVc/arcgis/rest/services/San_Diego_Neighbourhood_Consumer_Spending/FeatureServer'"
   ]
  },
  {
   "cell_type": "code",
   "execution_count": 32,
   "id": "96049bd2-72b6-47ba-a49c-2403f80f0788",
   "metadata": {},
   "outputs": [],
   "source": [
    "# Searching for the fearure layer collection you wanna create\n",
    "#search_content = gis.content.search('title: sandag_census_block_groups', 'Feature Layer')\n",
    "search_content = gis.content.search('title: San Diego County Businesses', 'Feature Layer')"
   ]
  },
  {
   "cell_type": "code",
   "execution_count": 33,
   "id": "d9181d8f-f438-490f-98e0-93e8b13bc7a4",
   "metadata": {},
   "outputs": [],
   "source": [
    "feature_layer_collection = FeatureLayerCollection(feature_layer_collection_url,gis)"
   ]
  },
  {
   "cell_type": "code",
   "execution_count": 34,
   "id": "33aada66-0b24-4c6c-a031-20e73a97a830",
   "metadata": {},
   "outputs": [],
   "source": [
    "# feature_layer_collection_item = search_content[0]\n",
    "# feature_layer_collection_item"
   ]
  },
  {
   "cell_type": "code",
   "execution_count": 35,
   "id": "36a71017-8ea8-40de-a0fe-ca5efd91eed6",
   "metadata": {},
   "outputs": [],
   "source": [
    "# feature_layer_collection = FeatureLayerCollection.fromitem(feature_layer_collection_item)\n",
    "# feature_layer_collection"
   ]
  },
  {
   "cell_type": "code",
   "execution_count": 36,
   "id": "bccc1c4c-ab39-467e-942f-bf3188ef0871",
   "metadata": {},
   "outputs": [
    {
     "data": {
      "text/plain": [
       "{'wkid': 102100, 'latestWkid': 3857}"
      ]
     },
     "execution_count": 36,
     "metadata": {},
     "output_type": "execute_result"
    }
   ],
   "source": [
    "feature_layer_collection.properties['spatialReference']"
   ]
  },
  {
   "cell_type": "code",
   "execution_count": 37,
   "id": "4b3efe68-b4db-4655-a123-54478bf506db",
   "metadata": {},
   "outputs": [
    {
     "data": {
      "text/plain": [
       "<FeatureLayerManager url:\"https://services1.arcgis.com/eGSDp8lpKe5izqVc/arcgis/rest/admin/services/aaf7b2/FeatureServer/0\">"
      ]
     },
     "execution_count": 37,
     "metadata": {},
     "output_type": "execute_result"
    }
   ],
   "source": [
    "feature_layer_collection.manager.layers[0]"
   ]
  },
  {
   "cell_type": "code",
   "execution_count": null,
   "id": "7e63ebf1-b24d-4f3c-b093-cbcb3d664911",
   "metadata": {},
   "outputs": [],
   "source": [
    "dictPointLayer = {}\n",
    "dictPointLayer[\"geometryType\"] = 'esriGeometryPoint'\n",
    "dictPointLayer[\"globalIdField\"] = 'GlobalID'\n",
    "dictPointLayer[\"objectIdField\"] = 'FID'\n",
    "dictPointLayer[\"extent\"] = {\n",
    "         \"xmax\": 180.0,\"ymin\": -90.0,\"xmin\": -180.0,\"ymax\": 90.0, \n",
    "        \"spatialReference\": {\"wkid\": 4326, \"latestWkid\": 4326}\n",
    "        }\n",
    "dictPointLayer[\"name\"] = 'PointLayer'\n",
    "dictPointLayer[\"fields\"] = listFieldsPoint‍‍‍‍‍‍‍‍‍‍‍‍‍‍‍‍‍‍‍‍‍‍‍‍‍‍‍‍‍‍‍‍‍‍‍‍‍‍‍‍‍‍‍‍‍‍‍‍‍‍‍‍‍‍‍‍‍‍‍‍‍‍‍‍‍‍‍‍‍‍‍‍‍‍‍‍‍‍‍‍‍‍‍‍‍‍‍‍‍‍‍‍‍‍‍‍‍‍‍‍‍‍‍‍‍‍‍‍‍‍‍‍‍‍‍‍‍‍‍‍‍‍‍‍‍‍‍‍‍‍‍‍‍‍‍‍‍‍‍‍‍‍‍‍‍‍‍‍‍‍‍‍‍‍‍‍‍‍‍‍‍‍‍‍‍‍‍‍‍‍"
   ]
  },
  {
   "cell_type": "code",
   "execution_count": 38,
   "id": "8668cd68-ff71-401d-885a-9778fe2290c0",
   "metadata": {},
   "outputs": [
    {
     "data": {
      "text/plain": [
       "{\n",
       "  \"adminLayerInfo\": {\n",
       "    \"tableName\": \"db_10710.user_10710.AAF7B2_AAF7B2\",\n",
       "    \"geometryField\": {\n",
       "      \"name\": \"Shape\"\n",
       "    },\n",
       "    \"xssTrustedFields\": \"\"\n",
       "  },\n",
       "  \"id\": 0,\n",
       "  \"enableUseOfScaleOutReplicasWhenEditable\": true,\n",
       "  \"name\": \"aaf7b2\",\n",
       "  \"type\": \"Feature Layer\",\n",
       "  \"serviceItemId\": \"5f9b4b5e08d445b781f796dae6fc4e82\",\n",
       "  \"cacheMaxAge\": 30,\n",
       "  \"displayField\": \"\",\n",
       "  \"description\": \"\",\n",
       "  \"copyrightText\": \"\",\n",
       "  \"defaultVisibility\": true,\n",
       "  \"editingInfo\": {\n",
       "    \"lastEditDate\": 1678065963502,\n",
       "    \"schemaLastEditDate\": 1678065963502,\n",
       "    \"dataLastEditDate\": 1678065963502\n",
       "  },\n",
       "  \"relationships\": [],\n",
       "  \"isDataVersioned\": false,\n",
       "  \"hasContingentValuesDefinition\": false,\n",
       "  \"supportsAppend\": true,\n",
       "  \"supportsCalculate\": true,\n",
       "  \"supportsASyncCalculate\": true,\n",
       "  \"supportsTruncate\": true,\n",
       "  \"supportsAttachmentsByUploadId\": true,\n",
       "  \"supportsAttachmentsResizing\": true,\n",
       "  \"supportsRollbackOnFailureParameter\": true,\n",
       "  \"supportsStatistics\": true,\n",
       "  \"supportsExceedsLimitStatistics\": true,\n",
       "  \"supportsAdvancedQueries\": true,\n",
       "  \"supportsValidateSql\": true,\n",
       "  \"supportsCoordinatesQuantization\": true,\n",
       "  \"supportsLayerOverrides\": true,\n",
       "  \"supportsTilesAndBasicQueriesMode\": true,\n",
       "  \"supportsFieldDescriptionProperty\": true,\n",
       "  \"supportsQuantizationEditMode\": true,\n",
       "  \"supportsApplyEditsWithGlobalIds\": false,\n",
       "  \"supportsReturningQueryGeometry\": true,\n",
       "  \"advancedQueryCapabilities\": {\n",
       "    \"supportsPagination\": true,\n",
       "    \"supportsQueryAttachmentsCountOnly\": true,\n",
       "    \"supportsPaginationOnAggregatedQueries\": true,\n",
       "    \"supportsQueryRelatedPagination\": true,\n",
       "    \"supportsQueryWithDistance\": true,\n",
       "    \"supportsReturningQueryExtent\": true,\n",
       "    \"supportsStatistics\": true,\n",
       "    \"supportsOrderBy\": true,\n",
       "    \"supportsDistinct\": true,\n",
       "    \"supportsQueryWithResultType\": true,\n",
       "    \"supportsSqlExpression\": true,\n",
       "    \"supportsAdvancedQueryRelated\": true,\n",
       "    \"supportsCountDistinct\": true,\n",
       "    \"supportsPercentileStatistics\": true,\n",
       "    \"supportsSpatialAggregationStatistics\": true,\n",
       "    \"supportedSpatialAggregationStatistics\": [\n",
       "      \"EnvelopeAggregate\",\n",
       "      \"CentroidAggregate\",\n",
       "      \"ConvexHullAggregate\"\n",
       "    ],\n",
       "    \"supportsLod\": true,\n",
       "    \"supportsQueryWithLodSR\": false,\n",
       "    \"supportedLodTypes\": [\n",
       "      \"geohash\"\n",
       "    ],\n",
       "    \"supportsReturningGeometryCentroid\": false,\n",
       "    \"supportsQueryWithDatumTransformation\": true,\n",
       "    \"supportsHavingClause\": true,\n",
       "    \"supportsOutFieldSQLExpression\": true,\n",
       "    \"supportsMaxRecordCountFactor\": true,\n",
       "    \"supportsTopFeaturesQuery\": true,\n",
       "    \"supportsDisjointSpatialRel\": true,\n",
       "    \"supportsQueryWithCacheHint\": true,\n",
       "    \"supportedOperationsWithCacheHint\": [\n",
       "      \"query\",\n",
       "      \"queryTopFilter\",\n",
       "      \"queryAnalytics\",\n",
       "      \"queryAttachments\",\n",
       "      \"queryRelated\"\n",
       "    ],\n",
       "    \"supportsQueryAnalytic\": true,\n",
       "    \"supportsDefaultSR\": true,\n",
       "    \"supportsFullTextSearch\": true\n",
       "  },\n",
       "  \"advancedQueryAnalyticCapabilities\": {\n",
       "    \"supportsLinearRegression\": true,\n",
       "    \"supportsAsync\": true,\n",
       "    \"supportsPercentileAnalytic\": true\n",
       "  },\n",
       "  \"advancedEditingCapabilities\": {\n",
       "    \"supportedSqlFormatsInCalculate\": [\n",
       "      \"standard\"\n",
       "    ],\n",
       "    \"supportsAsyncApplyEdits\": true,\n",
       "    \"supportsReturnEditResults\": true,\n",
       "    \"supportsApplyEditsbyUploadID\": true,\n",
       "    \"supportedApplyEditsUploadIDFormats\": \"JSON\"\n",
       "  },\n",
       "  \"infoInEstimates\": [\n",
       "    \"extent\",\n",
       "    \"count\"\n",
       "  ],\n",
       "  \"useStandardizedQueries\": true,\n",
       "  \"geometryType\": \"esriGeometryPoint\",\n",
       "  \"minScale\": 0,\n",
       "  \"maxScale\": 0,\n",
       "  \"extent\": {\n",
       "    \"xmin\": -13500680.578853847,\n",
       "    \"ymin\": 3330906.1748427027,\n",
       "    \"xmax\": 20037507.067161843,\n",
       "    \"ymax\": 5236893.5676660035,\n",
       "    \"spatialReference\": {\n",
       "      \"wkid\": 102100,\n",
       "      \"latestWkid\": 3857\n",
       "    }\n",
       "  },\n",
       "  \"drawingInfo\": {\n",
       "    \"renderer\": {\n",
       "      \"type\": \"simple\",\n",
       "      \"symbol\": {\n",
       "        \"type\": \"esriPMS\",\n",
       "        \"url\": \"RedSphere.png\",\n",
       "        \"imageData\": \"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\",\n",
       "        \"contentType\": \"image/png\",\n",
       "        \"width\": 15,\n",
       "        \"height\": 15\n",
       "      }\n",
       "    }\n",
       "  },\n",
       "  \"allowGeometryUpdates\": true,\n",
       "  \"hasAttachments\": false,\n",
       "  \"htmlPopupType\": \"esriServerHTMLPopupTypeNone\",\n",
       "  \"hasM\": false,\n",
       "  \"hasZ\": false,\n",
       "  \"objectIdField\": \"FID\",\n",
       "  \"uniqueIdField\": {\n",
       "    \"name\": \"FID\",\n",
       "    \"isSystemMaintained\": true\n",
       "  },\n",
       "  \"globalIdField\": \"\",\n",
       "  \"typeIdField\": \"\",\n",
       "  \"fields\": [\n",
       "    {\n",
       "      \"name\": \"FID\",\n",
       "      \"type\": \"esriFieldTypeOID\",\n",
       "      \"actualType\": \"int\",\n",
       "      \"alias\": \"FID\",\n",
       "      \"sqlType\": \"sqlTypeInteger\",\n",
       "      \"nullable\": false,\n",
       "      \"editable\": false,\n",
       "      \"visible\": true,\n",
       "      \"domain\": null,\n",
       "      \"defaultValue\": null\n",
       "    },\n",
       "    {\n",
       "      \"name\": \"business_n\",\n",
       "      \"type\": \"esriFieldTypeString\",\n",
       "      \"actualType\": \"nvarchar\",\n",
       "      \"alias\": \"business_n\",\n",
       "      \"sqlType\": \"sqlTypeNVarchar\",\n",
       "      \"length\": 255,\n",
       "      \"nullable\": true,\n",
       "      \"editable\": true,\n",
       "      \"visible\": true,\n",
       "      \"domain\": null,\n",
       "      \"defaultValue\": null\n",
       "    },\n",
       "    {\n",
       "      \"name\": \"zip\",\n",
       "      \"type\": \"esriFieldTypeString\",\n",
       "      \"actualType\": \"nvarchar\",\n",
       "      \"alias\": \"zip\",\n",
       "      \"sqlType\": \"sqlTypeNVarchar\",\n",
       "      \"length\": 255,\n",
       "      \"nullable\": true,\n",
       "      \"editable\": true,\n",
       "      \"visible\": true,\n",
       "      \"domain\": null,\n",
       "      \"defaultValue\": null\n",
       "    },\n",
       "    {\n",
       "      \"name\": \"categories\",\n",
       "      \"type\": \"esriFieldTypeString\",\n",
       "      \"actualType\": \"nvarchar\",\n",
       "      \"alias\": \"categories\",\n",
       "      \"sqlType\": \"sqlTypeNVarchar\",\n",
       "      \"length\": 255,\n",
       "      \"nullable\": true,\n",
       "      \"editable\": true,\n",
       "      \"visible\": true,\n",
       "      \"domain\": null,\n",
       "      \"defaultValue\": null\n",
       "    },\n",
       "    {\n",
       "      \"name\": \"city\",\n",
       "      \"type\": \"esriFieldTypeString\",\n",
       "      \"actualType\": \"nvarchar\",\n",
       "      \"alias\": \"city\",\n",
       "      \"sqlType\": \"sqlTypeNVarchar\",\n",
       "      \"length\": 255,\n",
       "      \"nullable\": true,\n",
       "      \"editable\": true,\n",
       "      \"visible\": true,\n",
       "      \"domain\": null,\n",
       "      \"defaultValue\": null\n",
       "    }\n",
       "  ],\n",
       "  \"indexes\": [\n",
       "    {\n",
       "      \"name\": \"PK__AAF7B2_A__C1BEA5A234F95DEE\",\n",
       "      \"fields\": \"FID\",\n",
       "      \"isAscending\": true,\n",
       "      \"isUnique\": true,\n",
       "      \"description\": \"clustered, unique, primary key\"\n",
       "    },\n",
       "    {\n",
       "      \"name\": \"user_10710.AAF7B2_AAF7B2_Shape_sidx\",\n",
       "      \"fields\": \"Shape\",\n",
       "      \"isAscending\": true,\n",
       "      \"isUnique\": false,\n",
       "      \"description\": \"Shape Index\"\n",
       "    }\n",
       "  ],\n",
       "  \"dateFieldsTimeReference\": {\n",
       "    \"timeZone\": \"UTC\",\n",
       "    \"respectsDaylightSaving\": false\n",
       "  },\n",
       "  \"preferredTimeReference\": null,\n",
       "  \"types\": [],\n",
       "  \"templates\": [\n",
       "    {\n",
       "      \"name\": \"New Feature\",\n",
       "      \"description\": \"\",\n",
       "      \"drawingTool\": \"esriFeatureEditToolPoint\",\n",
       "      \"prototype\": {\n",
       "        \"attributes\": {\n",
       "          \"business_n\": null,\n",
       "          \"zip\": null,\n",
       "          \"categories\": null,\n",
       "          \"city\": null\n",
       "        }\n",
       "      }\n",
       "    }\n",
       "  ],\n",
       "  \"supportedQueryFormats\": \"JSON, geoJSON, PBF\",\n",
       "  \"supportedAppendFormats\": \"sqlite,geoPackage,shapefile,filegdb,featureCollection,geojson,csv,excel\",\n",
       "  \"supportedExportFormats\": \"csv,shapefile,sqlite,geoPackage,filegdb,featureCollection,geojson,excel\",\n",
       "  \"supportedSpatialRelationships\": [\n",
       "    \"esriSpatialRelIntersects\",\n",
       "    \"esriSpatialRelContains\",\n",
       "    \"esriSpatialRelCrosses\",\n",
       "    \"esriSpatialRelEnvelopeIntersects\",\n",
       "    \"esriSpatialRelIndexIntersects\",\n",
       "    \"esriSpatialRelOverlaps\",\n",
       "    \"esriSpatialRelTouches\",\n",
       "    \"esriSpatialRelWithin\",\n",
       "    \"esriSpatialRelDisjoint\",\n",
       "    \"esriSpatialRelRelation\"\n",
       "  ],\n",
       "  \"supportedContingentValuesFormats\": \"JSON, PBF\",\n",
       "  \"supportedSyncDataOptions\": 4,\n",
       "  \"hasStaticData\": true,\n",
       "  \"maxRecordCount\": 2000,\n",
       "  \"standardMaxRecordCount\": 32000,\n",
       "  \"standardMaxRecordCountNoGeometry\": 32000,\n",
       "  \"tileMaxRecordCount\": 8000,\n",
       "  \"maxRecordCountFactor\": 1,\n",
       "  \"capabilities\": \"Query\"\n",
       "}"
      ]
     },
     "execution_count": 38,
     "metadata": {},
     "output_type": "execute_result"
    }
   ],
   "source": [
    "feature_layer_collection.manager.layers[0].properties"
   ]
  },
  {
   "cell_type": "code",
   "execution_count": null,
   "id": "3a9d495a-79db-4853-aca8-699e2195fb84",
   "metadata": {},
   "outputs": [],
   "source": []
  }
 ],
 "metadata": {
  "kernelspec": {
   "display_name": "Python 3 (ipykernel)",
   "language": "python",
   "name": "python3"
  },
  "language_info": {
   "codemirror_mode": {
    "name": "ipython",
    "version": 3
   },
   "file_extension": ".py",
   "mimetype": "text/x-python",
   "name": "python",
   "nbconvert_exporter": "python",
   "pygments_lexer": "ipython3",
   "version": "3.9.16"
  }
 },
 "nbformat": 4,
 "nbformat_minor": 5
}
