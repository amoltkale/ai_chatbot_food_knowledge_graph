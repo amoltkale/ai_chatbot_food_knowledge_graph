{
 "cells": [
  {
   "cell_type": "code",
   "execution_count": 1,
   "id": "5738c355-2955-43de-817b-12546d4e956e",
   "metadata": {},
   "outputs": [],
   "source": [
    "from arcgis.gis import GIS\n",
    "from arcgis.features import FeatureLayerCollection, FeatureLayer"
   ]
  },
  {
   "cell_type": "code",
   "execution_count": 2,
   "id": "8e34307a-7d86-4a11-9427-e6c0aca68a86",
   "metadata": {},
   "outputs": [],
   "source": [
    "import sys\n",
    "sys.path.append('../../')\n",
    "from utils import get_config"
   ]
  },
  {
   "cell_type": "code",
   "execution_count": 3,
   "id": "6acdb95f-be99-479c-86e2-2ff39a78ace0",
   "metadata": {},
   "outputs": [
    {
     "name": "stdout",
     "output_type": "stream",
     "text": [
      "<configparser.ConfigParser object at 0x145951130>\n",
      "Please sign in to your GIS and paste the code that is obtained below.\n",
      "If a web browser does not automatically open, please navigate to the URL below yourself instead.\n",
      "Opening web browser to navigate to: https://ucsdonline.maps.arcgis.com/sharing/rest/oauth2/authorize?response_type=code&client_id=Elm5V3upnnV17Q3r&redirect_uri=urn%3Aietf%3Awg%3Aoauth%3A2.0%3Aoob&state=lYCG2W3pQQnc3fOv1KqrPHXAtOUkQs&allow_verification=false\n"
     ]
    },
    {
     "name": "stdin",
     "output_type": "stream",
     "text": [
      "Enter code obtained on signing in using SAML:  ········\n"
     ]
    },
    {
     "name": "stderr",
     "output_type": "stream",
     "text": [
      "/Users/amolkale/Documents/DSE/DSE260-Capstone-Project/capstone/venv3.9/lib/python3.9/site-packages/urllib3/connectionpool.py:1045: InsecureRequestWarning: Unverified HTTPS request is being made to host 'ucsdonline.maps.arcgis.com'. Adding certificate verification is strongly advised. See: https://urllib3.readthedocs.io/en/1.26.x/advanced-usage.html#ssl-warnings\n",
      "  warnings.warn(\n"
     ]
    }
   ],
   "source": [
    "app_id = get_config(\"arcgis\",\"clientid\")\n",
    "gis = GIS(\"https://ucsdonline.maps.arcgis.com/home\", client_id=app_id)"
   ]
  },
  {
   "cell_type": "code",
   "execution_count": 4,
   "id": "5f22dfe2-7086-4369-a4e0-bc4b305d8ed5",
   "metadata": {},
   "outputs": [],
   "source": [
    "test_flc = FeatureLayerCollection(gis=gis,\n",
    "                      url=\"https://services1.arcgis.com/eGSDp8lpKe5izqVc/arcgis/rest/services/CommunityPlanningAreasSDCity/FeatureServer\")"
   ]
  },
  {
   "cell_type": "code",
   "execution_count": 5,
   "id": "75a9f202-f0c3-4096-ac46-54f57498a3ab",
   "metadata": {},
   "outputs": [],
   "source": [
    "flc_fs = test_flc.query()"
   ]
  },
  {
   "cell_type": "code",
   "execution_count": null,
   "id": "aeea2425-7349-46e1-ba55-f6837bf76b7f",
   "metadata": {},
   "outputs": [],
   "source": []
  }
 ],
 "metadata": {
  "kernelspec": {
   "display_name": "Python 3 (ipykernel)",
   "language": "python",
   "name": "python3"
  },
  "language_info": {
   "codemirror_mode": {
    "name": "ipython",
    "version": 3
   },
   "file_extension": ".py",
   "mimetype": "text/x-python",
   "name": "python",
   "nbconvert_exporter": "python",
   "pygments_lexer": "ipython3",
   "version": "3.9.16"
  }
 },
 "nbformat": 4,
 "nbformat_minor": 5
}
