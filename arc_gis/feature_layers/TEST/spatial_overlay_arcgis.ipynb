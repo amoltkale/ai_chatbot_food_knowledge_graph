{
 "cells": [
  {
   "cell_type": "markdown",
   "id": "f0f53eca-3075-47bb-be09-ac28e6aca41c",
   "metadata": {},
   "source": [
    "## Motivation  \n",
    "I want to test out arcgis functionality which claims that it can a layer on another layer. "
   ]
  },
  {
   "cell_type": "markdown",
   "id": "fe9e0a05-3527-442b-a98d-3e48d9136ff7",
   "metadata": {},
   "source": [
    "## overlay_layers¶\n",
    "arcgis.features.analysis.overlay_layers(input_layer, overlay_layer, overlay_type='Intersect', snap_to_input=False, output_type='Input', tolerance=None, output_name=None, context=None, gis=None, estimate=False, future=False)"
   ]
  },
  {
   "cell_type": "markdown",
   "id": "e840b890-761a-4b42-9cc8-7131a62ec2e1",
   "metadata": {},
   "source": [
    "Let's try:  \n",
    "input_layer = `CommunityPlanningAreasSDCity` (Feature Layer Service URL: https://services1.arcgis.com/eGSDp8lpKe5izqVc/arcgis/rest/services/CommunityPlanningAreasSDCity/FeatureServer) \n",
    "  \n",
    "overlay_layer = `San Diego County Businesses` (Feature Layer Service URL: https://services1.arcgis.com/eGSDp8lpKe5izqVc/arcgis/rest/services/ad2ed6/FeatureServer)\n",
    "\n",
    "overlay_type = `Intersect` , Choice list: [‘identicalto’, ‘intersects’, ‘completelycontains’, ‘completelywithin’, ‘withindistance’]"
   ]
  },
  {
   "cell_type": "code",
   "execution_count": 2,
   "id": "e8c02791-4af3-4305-a4ac-d95050ea596d",
   "metadata": {},
   "outputs": [],
   "source": [
    "from arcgis.gis import GIS\n",
    "from arcgis.features import FeatureLayerCollection, FeatureLayer\n",
    "from arcgis.features.analysis import *\n",
    "import sys\n",
    "sys.path.append('../../')\n",
    "from utils import get_config"
   ]
  },
  {
   "cell_type": "code",
   "execution_count": 5,
   "id": "fcd5b6aa-84e9-4dd8-af57-d1d4217f6fee",
   "metadata": {},
   "outputs": [
    {
     "name": "stdout",
     "output_type": "stream",
     "text": [
      "<configparser.ConfigParser object at 0x1472c3ee0>\n",
      "Please sign in to your GIS and paste the code that is obtained below.\n",
      "If a web browser does not automatically open, please navigate to the URL below yourself instead.\n",
      "Opening web browser to navigate to: https://ucsdonline.maps.arcgis.com/sharing/rest/oauth2/authorize?response_type=code&client_id=Elm5V3upnnV17Q3r&redirect_uri=urn%3Aietf%3Awg%3Aoauth%3A2.0%3Aoob&state=fcsviO45dn8PRMjQGYW5lcvnGqguVN&allow_verification=false\n"
     ]
    },
    {
     "name": "stdin",
     "output_type": "stream",
     "text": [
      "Enter code obtained on signing in using SAML:  ········\n"
     ]
    },
    {
     "name": "stderr",
     "output_type": "stream",
     "text": [
      "/Users/amolkale/Documents/DSE/DSE260-Capstone-Project/capstone/venv3.9/lib/python3.9/site-packages/urllib3/connectionpool.py:1045: InsecureRequestWarning: Unverified HTTPS request is being made to host 'ucsdonline.maps.arcgis.com'. Adding certificate verification is strongly advised. See: https://urllib3.readthedocs.io/en/1.26.x/advanced-usage.html#ssl-warnings\n",
      "  warnings.warn(\n"
     ]
    }
   ],
   "source": [
    "app_id = get_config(\"arcgis\",\"clientid\")\n",
    "gis = GIS(\"https://ucsdonline.maps.arcgis.com/home\", client_id=app_id)"
   ]
  },
  {
   "cell_type": "code",
   "execution_count": 6,
   "id": "a19b83cd-5fdb-4dfc-8907-1c0afc9df7a7",
   "metadata": {},
   "outputs": [],
   "source": [
    "planned_community_sd_city_lyr = FeatureLayer(gis=gis,\n",
    "                                            url=\"https://services1.arcgis.com/eGSDp8lpKe5izqVc/arcgis/rest/services/CommunityPlanningAreasSDCity/FeatureServer/0\")\n",
    "sd_cnty_biz_lyr = FeatureLayer(gis=gis,\n",
    "                               url=\"https://services1.arcgis.com/eGSDp8lpKe5izqVc/arcgis/rest/services/ad2ed6/FeatureServer/0\")"
   ]
  },
  {
   "cell_type": "code",
   "execution_count": 8,
   "id": "1b4445f2-e8b3-4d0b-9313-1b4407ac34b5",
   "metadata": {},
   "outputs": [
    {
     "name": "stderr",
     "output_type": "stream",
     "text": [
      "{\"cost\": 46.579}\n"
     ]
    },
    {
     "data": {
      "text/html": [
       "<div class=\"item_container\" style=\"height: auto; overflow: hidden; border: 1px solid #cfcfcf; border-radius: 2px; background: #f6fafa; line-height: 1.21429em; padding: 10px;\">\n",
       "                    <div class=\"item_left\" style=\"width: 210px; float: left;\">\n",
       "                       <a href='https://UCSDOnline.maps.arcgis.com/home/item.html?id=95e041c3fcd9409ea69be184e29b7bf0' target='_blank'>\n",
       "                        <img src='http://static.arcgis.com/images/desktopapp.png' class=\"itemThumbnail\">\n",
       "                       </a>\n",
       "                    </div>\n",
       "\n",
       "                    <div class=\"item_right\"     style=\"float: none; width: auto; overflow: hidden;\">\n",
       "                        <a href='https://UCSDOnline.maps.arcgis.com/home/item.html?id=95e041c3fcd9409ea69be184e29b7bf0' target='_blank'><b>neigh_biz_overlay_features</b>\n",
       "                        </a>\n",
       "                        <br/><img src='https://UCSDOnline.maps.arcgis.com/home/js/jsapi/esri/css/images/item_type_icons/featureshosted16.png' style=\"vertical-align:middle;\">Feature Layer Collection by akale_UCSDOnline\n",
       "                        <br/>Last Modified: March 28, 2023\n",
       "                        <br/>0 comments, 0 views\n",
       "                    </div>\n",
       "                </div>\n",
       "                "
      ],
      "text/plain": [
       "<Item title:\"neigh_biz_overlay_features\" type:Feature Layer Collection owner:akale_UCSDOnline>"
      ]
     },
     "execution_count": 8,
     "metadata": {},
     "output_type": "execute_result"
    }
   ],
   "source": [
    "neigh_biz_overlay_features = overlay_layers(input_layer=planned_community_sd_city_lyr,\n",
    "                                              overlay_layer=sd_cnty_biz_lyr,\n",
    "                                              overlay_type='Intersect',\n",
    "                                              output_name='neigh biz overlay features',\n",
    "                                             )\n",
    "neigh_biz_overlay_features"
   ]
  },
  {
   "cell_type": "code",
   "execution_count": null,
   "id": "8733ff81-0b76-4327-9a12-449942106865",
   "metadata": {},
   "outputs": [],
   "source": []
  }
 ],
 "metadata": {
  "kernelspec": {
   "display_name": "Python 3 (ipykernel)",
   "language": "python",
   "name": "python3"
  },
  "language_info": {
   "codemirror_mode": {
    "name": "ipython",
    "version": 3
   },
   "file_extension": ".py",
   "mimetype": "text/x-python",
   "name": "python",
   "nbconvert_exporter": "python",
   "pygments_lexer": "ipython3",
   "version": "3.9.16"
  }
 },
 "nbformat": 4,
 "nbformat_minor": 5
}
