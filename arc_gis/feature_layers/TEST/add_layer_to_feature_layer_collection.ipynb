{
 "cells": [
  {
   "cell_type": "markdown",
   "id": "ed732c43",
   "metadata": {},
   "source": [
    "### Objective\n",
    "1. Create an object of existing Feature Layer Collection\n",
    "2. Pick a test feature layer from an existing url.\n",
    "3. Create a Spatially Enabled Dataframe using the feature layer.\n",
    "4. Insert the Feature layer into the Feature Layer Collection Service "
   ]
  },
  {
   "cell_type": "code",
   "execution_count": 4,
   "id": "3f9ec6de-b378-4cbb-a944-3d6e654b9f91",
   "metadata": {},
   "outputs": [],
   "source": [
    "import arcgis\n",
    "from arcgis.gis import GIS\n",
    "from arcgis.features import *\n",
    "import sys\n",
    "sys.path.append('../../../')\n",
    "from utils import get_config"
   ]
  },
  {
   "cell_type": "code",
   "execution_count": 86,
   "id": "e2d34157-66b3-4512-9472-19caa2fe1034",
   "metadata": {},
   "outputs": [
    {
     "name": "stdout",
     "output_type": "stream",
     "text": [
      "<configparser.ConfigParser object at 0x142887f40>\n",
      "Please sign in to your GIS and paste the code that is obtained below.\n",
      "If a web browser does not automatically open, please navigate to the URL below yourself instead.\n",
      "Opening web browser to navigate to: https://ucsdonline.maps.arcgis.com/sharing/rest/oauth2/authorize?response_type=code&client_id=Elm5V3upnnV17Q3r&redirect_uri=urn%3Aietf%3Awg%3Aoauth%3A2.0%3Aoob&state=JIkd79pvVv70eZks5W32tlon5pII8w&allow_verification=false\n",
      "Enter code obtained on signing in using SAML: ········\n"
     ]
    },
    {
     "name": "stderr",
     "output_type": "stream",
     "text": [
      "/Users/amolkale/Documents/DSE/DSE260-Capstone-Project/capstone/venv3.9/lib/python3.9/site-packages/urllib3/connectionpool.py:1045: InsecureRequestWarning: Unverified HTTPS request is being made to host 'ucsdonline.maps.arcgis.com'. Adding certificate verification is strongly advised. See: https://urllib3.readthedocs.io/en/1.26.x/advanced-usage.html#ssl-warnings\n",
      "  warnings.warn(\n"
     ]
    }
   ],
   "source": [
    "gis = GIS(\"https://ucsdonline.maps.arcgis.com/home\", client_id=get_config(\"arcgis\",\"clientid\"))"
   ]
  },
  {
   "cell_type": "code",
   "execution_count": 64,
   "id": "06112075-9195-4e33-af2e-df6d582c19a6",
   "metadata": {},
   "outputs": [],
   "source": [
    "# Read the sample Feature layer collection you want to add the new layer to ?\n",
    "feature_layer_collection_url = 'https://services1.arcgis.com/eGSDp8lpKe5izqVc/arcgis/rest/services/sandag_census_block_groups/FeatureServer'\n"
   ]
  },
  {
   "cell_type": "code",
   "execution_count": 65,
   "id": "96049bd2-72b6-47ba-a49c-2403f80f0788",
   "metadata": {},
   "outputs": [],
   "source": [
    "feature_lyr = FeatureLayer(gis=gis,\n",
    "                          url=\"https://services1.arcgis.com/eGSDp8lpKe5izqVc/arcgis/rest/services/a2aa2c/FeatureServer/0\")"
   ]
  },
  {
   "cell_type": "markdown",
   "id": "76e96428",
   "metadata": {},
   "source": [
    "The from_layer method imports a FeatureLayer to a Spatially Enabled DataFram"
   ]
  },
  {
   "cell_type": "code",
   "execution_count": 66,
   "id": "5071db5e",
   "metadata": {},
   "outputs": [
    {
     "name": "stdout",
     "output_type": "stream",
     "text": [
      "shape: (48, 10)\n"
     ]
    },
    {
     "data": {
      "text/html": [
       "<div>\n",
       "<style scoped>\n",
       "    .dataframe tbody tr th:only-of-type {\n",
       "        vertical-align: middle;\n",
       "    }\n",
       "\n",
       "    .dataframe tbody tr th {\n",
       "        vertical-align: top;\n",
       "    }\n",
       "\n",
       "    .dataframe thead th {\n",
       "        text-align: right;\n",
       "    }\n",
       "</style>\n",
       "<table border=\"1\" class=\"dataframe\">\n",
       "  <thead>\n",
       "    <tr style=\"text-align: right;\">\n",
       "      <th></th>\n",
       "      <th>FID</th>\n",
       "      <th>company_na</th>\n",
       "      <th>farm_addre</th>\n",
       "      <th>crops_prod</th>\n",
       "      <th>sells_at</th>\n",
       "      <th>practices</th>\n",
       "      <th>zip</th>\n",
       "      <th>longitude</th>\n",
       "      <th>latitude</th>\n",
       "      <th>SHAPE</th>\n",
       "    </tr>\n",
       "  </thead>\n",
       "  <tbody>\n",
       "    <tr>\n",
       "      <th>0</th>\n",
       "      <td>1</td>\n",
       "      <td>SAND N STRAW</td>\n",
       "      <td>629 Mar Vista Dr, Vista, California, 92081</td>\n",
       "      <td>An abundance of naturally grown local fruit an...</td>\n",
       "      <td>CSA</td>\n",
       "      <td>No information about practices, services &amp; att...</td>\n",
       "      <td>92081</td>\n",
       "      <td>-117.235804</td>\n",
       "      <td>33.181435</td>\n",
       "      <td>{\"x\": -13050629.968102194, \"y\": 3919411.287708...</td>\n",
       "    </tr>\n",
       "    <tr>\n",
       "      <th>1</th>\n",
       "      <td>2</td>\n",
       "      <td>FENTON FAMILY FARM</td>\n",
       "      <td>2235 Riverview Rd, Fallbrook, California, 92028</td>\n",
       "      <td>everything from Apples to Zapotes</td>\n",
       "      <td>Farmers Markets, Farm Stand, Wholesale, Restau...</td>\n",
       "      <td>Farming organically (non-certified), Permacult...</td>\n",
       "      <td>92028</td>\n",
       "      <td>-117.309912</td>\n",
       "      <td>33.422165</td>\n",
       "      <td>{\"x\": -13058879.634060513, \"y\": 3951474.248016...</td>\n",
       "    </tr>\n",
       "    <tr>\n",
       "      <th>2</th>\n",
       "      <td>3</td>\n",
       "      <td>RANDOL RIDGE RANCH</td>\n",
       "      <td>Ramona, California, 92065</td>\n",
       "      <td>Vegetables and fruits</td>\n",
       "      <td>CSA, Farm Stand</td>\n",
       "      <td>Farming organically (non-certified)</td>\n",
       "      <td>92065</td>\n",
       "      <td>-116.86648</td>\n",
       "      <td>33.042215</td>\n",
       "      <td>{\"x\": -13009517.044402285, \"y\": 3900908.640051...</td>\n",
       "    </tr>\n",
       "  </tbody>\n",
       "</table>\n",
       "</div>"
      ],
      "text/plain": [
       "   FID          company_na                                       farm_addre  \\\n",
       "0    1        SAND N STRAW       629 Mar Vista Dr, Vista, California, 92081   \n",
       "1    2  FENTON FAMILY FARM  2235 Riverview Rd, Fallbrook, California, 92028   \n",
       "2    3  RANDOL RIDGE RANCH                        Ramona, California, 92065   \n",
       "\n",
       "                                          crops_prod  \\\n",
       "0  An abundance of naturally grown local fruit an...   \n",
       "1                  everything from Apples to Zapotes   \n",
       "2                              Vegetables and fruits   \n",
       "\n",
       "                                            sells_at  \\\n",
       "0                                                CSA   \n",
       "1  Farmers Markets, Farm Stand, Wholesale, Restau...   \n",
       "2                                    CSA, Farm Stand   \n",
       "\n",
       "                                           practices    zip   longitude  \\\n",
       "0  No information about practices, services & att...  92081 -117.235804   \n",
       "1  Farming organically (non-certified), Permacult...  92028 -117.309912   \n",
       "2                Farming organically (non-certified)  92065  -116.86648   \n",
       "\n",
       "    latitude                                              SHAPE  \n",
       "0  33.181435  {\"x\": -13050629.968102194, \"y\": 3919411.287708...  \n",
       "1  33.422165  {\"x\": -13058879.634060513, \"y\": 3951474.248016...  \n",
       "2  33.042215  {\"x\": -13009517.044402285, \"y\": 3900908.640051...  "
      ]
     },
     "execution_count": 66,
     "metadata": {},
     "output_type": "execute_result"
    }
   ],
   "source": [
    "test_sd_farm_sdf = GeoAccessor.from_layer(feature_lyr)\n",
    "print(f\"shape: {test_sd_farm_sdf.shape}\")\n",
    "test_sd_farm_sdf.head(3)"
   ]
  },
  {
   "cell_type": "code",
   "execution_count": 67,
   "id": "d9181d8f-f438-490f-98e0-93e8b13bc7a4",
   "metadata": {},
   "outputs": [],
   "source": [
    "feature_layer_collection = FeatureLayerCollection(feature_layer_collection_url,gis)"
   ]
  },
  {
   "cell_type": "code",
   "execution_count": 69,
   "id": "b500fa96",
   "metadata": {},
   "outputs": [],
   "source": [
    "item = gis.content.search('sandag_census_block_groups','Feature Layer Collection')[-2]"
   ]
  },
  {
   "cell_type": "code",
   "execution_count": 70,
   "id": "9358d5cf",
   "metadata": {},
   "outputs": [
    {
     "data": {
      "text/plain": [
       "'d2bcaed179324f2ca6061172cdd66ab7'"
      ]
     },
     "execution_count": 70,
     "metadata": {},
     "output_type": "execute_result"
    }
   ],
   "source": [
    "service_id = item.id\n",
    "service_id"
   ]
  },
  {
   "cell_type": "code",
   "execution_count": 71,
   "id": "37883b87",
   "metadata": {},
   "outputs": [
    {
     "data": {
      "text/plain": [
       "Index(['FID', 'company_na', 'farm_addre', 'crops_prod', 'sells_at',\n",
       "       'practices', 'zip', 'longitude', 'latitude', 'SHAPE'],\n",
       "      dtype='object')"
      ]
     },
     "execution_count": 71,
     "metadata": {},
     "output_type": "execute_result"
    }
   ],
   "source": [
    "test_sd_farm_sdf.spatial._data.columns"
   ]
  },
  {
   "cell_type": "code",
   "execution_count": 72,
   "id": "fd9464e7",
   "metadata": {},
   "outputs": [
    {
     "data": {
      "text/plain": [
       "'d2bcaed179324f2ca6061172cdd66ab7'"
      ]
     },
     "execution_count": 72,
     "metadata": {},
     "output_type": "execute_result"
    }
   ],
   "source": [
    "feature_layer_collection.manager.properties[\"serviceItemId\"]"
   ]
  },
  {
   "cell_type": "code",
   "execution_count": 73,
   "id": "a1db21ca",
   "metadata": {},
   "outputs": [
    {
     "ename": "TypeError",
     "evalue": "list indices must be integers or slices, not NoneType",
     "output_type": "error",
     "traceback": [
      "\u001b[0;31m---------------------------------------------------------------------------\u001b[0m",
      "\u001b[0;31mTypeError\u001b[0m                                 Traceback (most recent call last)",
      "Cell \u001b[0;32mIn[73], line 1\u001b[0m\n\u001b[0;32m----> 1\u001b[0m \u001b[43mtest_sd_farm_sdf\u001b[49m\u001b[38;5;241;43m.\u001b[39;49m\u001b[43mspatial\u001b[49m\u001b[38;5;241;43m.\u001b[39;49m\u001b[43minsert_layer\u001b[49m\u001b[43m(\u001b[49m\u001b[43mfeature_service\u001b[49m\u001b[38;5;241;43m=\u001b[39;49m\u001b[43mservice_id\u001b[49m\u001b[43m,\u001b[49m\u001b[43mgis\u001b[49m\u001b[38;5;241;43m=\u001b[39;49m\u001b[43mgis\u001b[49m\u001b[43m,\u001b[49m\u001b[43mservice_name\u001b[49m\u001b[38;5;241;43m=\u001b[39;49m\u001b[38;5;124;43m'\u001b[39;49m\u001b[38;5;124;43mtest_service\u001b[39;49m\u001b[38;5;124;43m'\u001b[39;49m\u001b[43m)\u001b[49m\n",
      "File \u001b[0;32m~/Documents/DSE/DSE260-Capstone-Project/capstone/venv3.9/lib/python3.9/site-packages/arcgis/features/geo/_accessor.py:2524\u001b[0m, in \u001b[0;36mGeoAccessor.insert_layer\u001b[0;34m(self, feature_service, gis, sanitize_columns, service_name)\u001b[0m\n\u001b[1;32m   2517\u001b[0m     \u001b[38;5;28;01mif\u001b[39;00m (\n\u001b[1;32m   2518\u001b[0m         content\u001b[38;5;241m.\u001b[39mis_service_name_available(service_name, \u001b[38;5;124m\"\u001b[39m\u001b[38;5;124mfeatureService\u001b[39m\u001b[38;5;124m\"\u001b[39m)\n\u001b[1;32m   2519\u001b[0m         \u001b[38;5;129;01mis\u001b[39;00m \u001b[38;5;28;01mFalse\u001b[39;00m\n\u001b[1;32m   2520\u001b[0m     ):\n\u001b[1;32m   2521\u001b[0m         \u001b[38;5;28;01mraise\u001b[39;00m \u001b[38;5;167;01mValueError\u001b[39;00m(\n\u001b[1;32m   2522\u001b[0m             \u001b[38;5;124m\"\u001b[39m\u001b[38;5;124mThis service name is unavailable for Feature Service.\u001b[39m\u001b[38;5;124m\"\u001b[39m\n\u001b[1;32m   2523\u001b[0m         )\n\u001b[0;32m-> 2524\u001b[0m result \u001b[38;5;241m=\u001b[39m \u001b[43mcontent\u001b[49m\u001b[38;5;241;43m.\u001b[39;49m\u001b[43mimport_data\u001b[49m\u001b[43m(\u001b[49m\n\u001b[1;32m   2525\u001b[0m \u001b[43m    \u001b[49m\u001b[38;5;28;43mself\u001b[39;49m\u001b[38;5;241;43m.\u001b[39;49m\u001b[43m_data\u001b[49m\u001b[43m,\u001b[49m\n\u001b[1;32m   2526\u001b[0m \u001b[43m    \u001b[49m\u001b[43msanitize_columns\u001b[49m\u001b[38;5;241;43m=\u001b[39;49m\u001b[43msanitize_columns\u001b[49m\u001b[43m,\u001b[49m\n\u001b[1;32m   2527\u001b[0m \u001b[43m    \u001b[49m\u001b[43mservice_name\u001b[49m\u001b[38;5;241;43m=\u001b[39;49m\u001b[43mservice_name\u001b[49m\u001b[43m,\u001b[49m\n\u001b[1;32m   2528\u001b[0m \u001b[43m    \u001b[49m\u001b[43mappend\u001b[49m\u001b[38;5;241;43m=\u001b[39;49m\u001b[38;5;28;43;01mTrue\u001b[39;49;00m\u001b[43m,\u001b[49m\n\u001b[1;32m   2529\u001b[0m \u001b[43m    \u001b[49m\u001b[43mservice\u001b[49m\u001b[38;5;241;43m=\u001b[39;49m\u001b[43m{\u001b[49m\u001b[38;5;124;43m\"\u001b[39;49m\u001b[38;5;124;43mfeatureServiceId\u001b[39;49m\u001b[38;5;124;43m\"\u001b[39;49m\u001b[43m:\u001b[49m\u001b[43m \u001b[49m\u001b[43mfs_id\u001b[49m\u001b[43m,\u001b[49m\u001b[43m \u001b[49m\u001b[38;5;124;43m\"\u001b[39;49m\u001b[38;5;124;43mlayer\u001b[39;49m\u001b[38;5;124;43m\"\u001b[39;49m\u001b[43m:\u001b[49m\u001b[43m \u001b[49m\u001b[38;5;28;43;01mNone\u001b[39;49;00m\u001b[43m}\u001b[49m\u001b[43m,\u001b[49m\n\u001b[1;32m   2530\u001b[0m \u001b[43m\u001b[49m\u001b[43m)\u001b[49m\n\u001b[1;32m   2531\u001b[0m \u001b[38;5;28mself\u001b[39m\u001b[38;5;241m.\u001b[39m_data\u001b[38;5;241m.\u001b[39mcolumns \u001b[38;5;241m=\u001b[39m origin_columns\n\u001b[1;32m   2532\u001b[0m \u001b[38;5;28mself\u001b[39m\u001b[38;5;241m.\u001b[39m_data\u001b[38;5;241m.\u001b[39mindex \u001b[38;5;241m=\u001b[39m origin_index\n",
      "File \u001b[0;32m~/Documents/DSE/DSE260-Capstone-Project/capstone/venv3.9/lib/python3.9/site-packages/arcgis/gis/__init__.py:7595\u001b[0m, in \u001b[0;36mContentManager.import_data\u001b[0;34m(self, df, address_fields, folder, item_id, **kwargs)\u001b[0m\n\u001b[1;32m   7592\u001b[0m flc_manager \u001b[38;5;241m=\u001b[39m flc\u001b[38;5;241m.\u001b[39mmanager\n\u001b[1;32m   7594\u001b[0m \u001b[38;5;66;03m# Analyze the shapefile item to get definition for new feature layer\u001b[39;00m\n\u001b[0;32m-> 7595\u001b[0m publish_parameters_orig \u001b[38;5;241m=\u001b[39m \u001b[43mflc_manager\u001b[49m\u001b[38;5;241;43m.\u001b[39;49m\u001b[43mproperties\u001b[49m\u001b[43m[\u001b[49m\u001b[38;5;124;43m\"\u001b[39;49m\u001b[38;5;124;43mlayers\u001b[39;49m\u001b[38;5;124;43m\"\u001b[39;49m\u001b[43m]\u001b[49m\u001b[43m[\u001b[49m\u001b[43mfl_index\u001b[49m\u001b[43m]\u001b[49m\n\u001b[1;32m   7596\u001b[0m publish_parameters \u001b[38;5;241m=\u001b[39m \u001b[38;5;28mself\u001b[39m\u001b[38;5;241m.\u001b[39m_gis\u001b[38;5;241m.\u001b[39mcontent\u001b[38;5;241m.\u001b[39manalyze(\n\u001b[1;32m   7597\u001b[0m     item\u001b[38;5;241m=\u001b[39mitem, file_type\u001b[38;5;241m=\u001b[39m\u001b[38;5;124m\"\u001b[39m\u001b[38;5;124mshapefile\u001b[39m\u001b[38;5;124m\"\u001b[39m\n\u001b[1;32m   7598\u001b[0m )[\u001b[38;5;124m\"\u001b[39m\u001b[38;5;124mpublishParameters\u001b[39m\u001b[38;5;124m\"\u001b[39m][\u001b[38;5;124m\"\u001b[39m\u001b[38;5;124mlayers\u001b[39m\u001b[38;5;124m\"\u001b[39m][\u001b[38;5;241m0\u001b[39m]\n\u001b[1;32m   7600\u001b[0m \u001b[38;5;66;03m# Update to get all correct parameters to add to definition\u001b[39;00m\n",
      "\u001b[0;31mTypeError\u001b[0m: list indices must be integers or slices, not NoneType"
     ]
    }
   ],
   "source": [
    "test_sd_farm_sdf.spatial.insert_layer(feature_service=service_id,gis=gis,service_name='test_service')"
   ]
  }
 ],
 "metadata": {
  "kernelspec": {
   "display_name": "Python 3 (ipykernel)",
   "language": "python",
   "name": "python3"
  },
  "language_info": {
   "codemirror_mode": {
    "name": "ipython",
    "version": 3
   },
   "file_extension": ".py",
   "mimetype": "text/x-python",
   "name": "python",
   "nbconvert_exporter": "python",
   "pygments_lexer": "ipython3",
   "version": "3.9.16"
  }
 },
 "nbformat": 4,
 "nbformat_minor": 5
}
