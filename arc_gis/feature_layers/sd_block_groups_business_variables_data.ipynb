{
 "cells": [
  {
   "cell_type": "markdown",
   "id": "e075588d",
   "metadata": {},
   "source": [
    "### Objective\n",
    "Create San Diego Block group boundaries along with business variables. This would be achieved by using an enriched file we had create at block level."
   ]
  },
  {
   "cell_type": "code",
   "execution_count": 1,
   "id": "197caadb",
   "metadata": {},
   "outputs": [],
   "source": [
    "import arcgis\n",
    "from arcgis.gis import GIS\n",
    "from arcgis.features import FeatureLayer, FeatureLayerCollection, GeoAccessor\n",
    "import sys\n",
    "sys.path.append('../')\n",
    "sys.path.append('../../')\n",
    "from utils import get_config, format_json\n",
    "import pandas as pd\n",
    "from arcgis.geometry  import Geometry\n",
    "import json\n",
    "from feature_layer_utils import get_enrichment_variables, create_feature_layer\n",
    "from itertools import chain"
   ]
  },
  {
   "cell_type": "code",
   "execution_count": 2,
   "id": "d638df92",
   "metadata": {},
   "outputs": [],
   "source": [
    "from arcgis.features.geo._array import GeoArray"
   ]
  },
  {
   "cell_type": "code",
   "execution_count": 3,
   "id": "d1ddd186",
   "metadata": {},
   "outputs": [
    {
     "name": "stdout",
     "output_type": "stream",
     "text": [
      "<configparser.ConfigParser object at 0x105f86bb0>\n",
      "Please sign in to your GIS and paste the code that is obtained below.\n",
      "If a web browser does not automatically open, please navigate to the URL below yourself instead.\n",
      "Opening web browser to navigate to: https://ucsdonline.maps.arcgis.com/sharing/rest/oauth2/authorize?response_type=code&client_id=Elm5V3upnnV17Q3r&redirect_uri=urn%3Aietf%3Awg%3Aoauth%3A2.0%3Aoob&state=v5kf7vosEPb7qo2I9LKkz6LYOGaIBW&allow_verification=false\n",
      "Enter code obtained on signing in using SAML: ········\n"
     ]
    },
    {
     "name": "stderr",
     "output_type": "stream",
     "text": [
      "/Users/amolkale/Documents/DSE/DSE260-Capstone-Project/capstone/venv3.9/lib/python3.9/site-packages/urllib3/connectionpool.py:1045: InsecureRequestWarning: Unverified HTTPS request is being made to host 'ucsdonline.maps.arcgis.com'. Adding certificate verification is strongly advised. See: https://urllib3.readthedocs.io/en/1.26.x/advanced-usage.html#ssl-warnings\n",
      "  warnings.warn(\n"
     ]
    }
   ],
   "source": [
    "gis = GIS(\"https://ucsdonline.maps.arcgis.com/home\", client_id=get_config(\"arcgis\",\"clientid\"))"
   ]
  },
  {
   "cell_type": "code",
   "execution_count": 4,
   "id": "b932ca83",
   "metadata": {},
   "outputs": [
    {
     "name": "stdout",
     "output_type": "stream",
     "text": [
      "Shape: (2057, 4241)\n"
     ]
    },
    {
     "data": {
      "text/html": [
       "<div>\n",
       "<style scoped>\n",
       "    .dataframe tbody tr th:only-of-type {\n",
       "        vertical-align: middle;\n",
       "    }\n",
       "\n",
       "    .dataframe tbody tr th {\n",
       "        vertical-align: top;\n",
       "    }\n",
       "\n",
       "    .dataframe thead th {\n",
       "        text-align: right;\n",
       "    }\n",
       "</style>\n",
       "<table border=\"1\" class=\"dataframe\">\n",
       "  <thead>\n",
       "    <tr style=\"text-align: right;\">\n",
       "      <th></th>\n",
       "      <th>objectid</th>\n",
       "      <th>state_abbr</th>\n",
       "      <th>state_fips</th>\n",
       "      <th>county_fips</th>\n",
       "      <th>stcofips</th>\n",
       "      <th>tract_fips</th>\n",
       "      <th>blockgroup_fips</th>\n",
       "      <th>fips</th>\n",
       "      <th>pop_sqmi</th>\n",
       "      <th>sqmi</th>\n",
       "      <th>...</th>\n",
       "      <th>x1130fy_a</th>\n",
       "      <th>x1130fy_i</th>\n",
       "      <th>x1002fy_x</th>\n",
       "      <th>x1002fy_a</th>\n",
       "      <th>x1002fy_i</th>\n",
       "      <th>x1003fy_x</th>\n",
       "      <th>x1003fy_a</th>\n",
       "      <th>x1003fy_i</th>\n",
       "      <th>SHAPE</th>\n",
       "      <th>totpop_cy</th>\n",
       "    </tr>\n",
       "  </thead>\n",
       "  <tbody>\n",
       "    <tr>\n",
       "      <th>0</th>\n",
       "      <td>29002</td>\n",
       "      <td>CA</td>\n",
       "      <td>6</td>\n",
       "      <td>73</td>\n",
       "      <td>6073</td>\n",
       "      <td>100</td>\n",
       "      <td>1</td>\n",
       "      <td>60730001001</td>\n",
       "      <td>4788.0</td>\n",
       "      <td>0.25</td>\n",
       "      <td>...</td>\n",
       "      <td>11293.00</td>\n",
       "      <td>225.0</td>\n",
       "      <td>12946134.0</td>\n",
       "      <td>26693.06</td>\n",
       "      <td>218.0</td>\n",
       "      <td>7469031.0</td>\n",
       "      <td>15400.06</td>\n",
       "      <td>214.0</td>\n",
       "      <td>{'rings': [[[-117.18894090906399, 32.758807764...</td>\n",
       "      <td>1199.0</td>\n",
       "    </tr>\n",
       "    <tr>\n",
       "      <th>1</th>\n",
       "      <td>29003</td>\n",
       "      <td>CA</td>\n",
       "      <td>6</td>\n",
       "      <td>73</td>\n",
       "      <td>6073</td>\n",
       "      <td>100</td>\n",
       "      <td>2</td>\n",
       "      <td>60730001002</td>\n",
       "      <td>5032.4</td>\n",
       "      <td>0.34</td>\n",
       "      <td>...</td>\n",
       "      <td>11843.34</td>\n",
       "      <td>236.0</td>\n",
       "      <td>19996145.0</td>\n",
       "      <td>28484.54</td>\n",
       "      <td>233.0</td>\n",
       "      <td>11682118.0</td>\n",
       "      <td>16641.19</td>\n",
       "      <td>231.0</td>\n",
       "      <td>{'rings': [[[-117.18715990828298, 32.756859764...</td>\n",
       "      <td>1692.0</td>\n",
       "    </tr>\n",
       "    <tr>\n",
       "      <th>2</th>\n",
       "      <td>29004</td>\n",
       "      <td>CA</td>\n",
       "      <td>6</td>\n",
       "      <td>73</td>\n",
       "      <td>6073</td>\n",
       "      <td>201</td>\n",
       "      <td>1</td>\n",
       "      <td>60730002011</td>\n",
       "      <td>4385.0</td>\n",
       "      <td>0.20</td>\n",
       "      <td>...</td>\n",
       "      <td>7167.84</td>\n",
       "      <td>143.0</td>\n",
       "      <td>7516044.0</td>\n",
       "      <td>17120.83</td>\n",
       "      <td>140.0</td>\n",
       "      <td>4369363.0</td>\n",
       "      <td>9952.99</td>\n",
       "      <td>138.0</td>\n",
       "      <td>{'rings': [[[-117.168410904985, 32.75683776569...</td>\n",
       "      <td>902.0</td>\n",
       "    </tr>\n",
       "  </tbody>\n",
       "</table>\n",
       "<p>3 rows × 4241 columns</p>\n",
       "</div>"
      ],
      "text/plain": [
       "   objectid state_abbr  state_fips  county_fips  stcofips  tract_fips  \\\n",
       "0     29002         CA           6           73      6073         100   \n",
       "1     29003         CA           6           73      6073         100   \n",
       "2     29004         CA           6           73      6073         201   \n",
       "\n",
       "   blockgroup_fips         fips  pop_sqmi  sqmi  ... x1130fy_a x1130fy_i  \\\n",
       "0                1  60730001001    4788.0  0.25  ...  11293.00     225.0   \n",
       "1                2  60730001002    5032.4  0.34  ...  11843.34     236.0   \n",
       "2                1  60730002011    4385.0  0.20  ...   7167.84     143.0   \n",
       "\n",
       "    x1002fy_x  x1002fy_a  x1002fy_i   x1003fy_x  x1003fy_a  x1003fy_i  \\\n",
       "0  12946134.0   26693.06      218.0   7469031.0   15400.06      214.0   \n",
       "1  19996145.0   28484.54      233.0  11682118.0   16641.19      231.0   \n",
       "2   7516044.0   17120.83      140.0   4369363.0    9952.99      138.0   \n",
       "\n",
       "                                               SHAPE  totpop_cy  \n",
       "0  {'rings': [[[-117.18894090906399, 32.758807764...     1199.0  \n",
       "1  {'rings': [[[-117.18715990828298, 32.756859764...     1692.0  \n",
       "2  {'rings': [[[-117.168410904985, 32.75683776569...      902.0  \n",
       "\n",
       "[3 rows x 4241 columns]"
      ]
     },
     "execution_count": 4,
     "metadata": {},
     "output_type": "execute_result"
    }
   ],
   "source": [
    "df = pd.read_csv(\"../resources/full_enriched_san_diego_county_block_groups_cleaned.csv\")\n",
    "print(f\"Shape: {df.shape}\")\n",
    "df.head(3)"
   ]
  },
  {
   "cell_type": "markdown",
   "id": "aee0a1f6",
   "metadata": {},
   "source": [
    "Since we are reading from CSV file , the FIPS having a leading '0' are getting dropped. I am just adding them back."
   ]
  },
  {
   "cell_type": "code",
   "execution_count": 5,
   "id": "54450e67",
   "metadata": {},
   "outputs": [
    {
     "name": "stdout",
     "output_type": "stream",
     "text": [
      "Shape: (2057, 4241)\n"
     ]
    },
    {
     "data": {
      "text/html": [
       "<div>\n",
       "<style scoped>\n",
       "    .dataframe tbody tr th:only-of-type {\n",
       "        vertical-align: middle;\n",
       "    }\n",
       "\n",
       "    .dataframe tbody tr th {\n",
       "        vertical-align: top;\n",
       "    }\n",
       "\n",
       "    .dataframe thead th {\n",
       "        text-align: right;\n",
       "    }\n",
       "</style>\n",
       "<table border=\"1\" class=\"dataframe\">\n",
       "  <thead>\n",
       "    <tr style=\"text-align: right;\">\n",
       "      <th></th>\n",
       "      <th>objectid</th>\n",
       "      <th>state_abbr</th>\n",
       "      <th>state_fips</th>\n",
       "      <th>county_fips</th>\n",
       "      <th>stcofips</th>\n",
       "      <th>tract_fips</th>\n",
       "      <th>blockgroup_fips</th>\n",
       "      <th>fips</th>\n",
       "      <th>pop_sqmi</th>\n",
       "      <th>sqmi</th>\n",
       "      <th>...</th>\n",
       "      <th>x1130fy_a</th>\n",
       "      <th>x1130fy_i</th>\n",
       "      <th>x1002fy_x</th>\n",
       "      <th>x1002fy_a</th>\n",
       "      <th>x1002fy_i</th>\n",
       "      <th>x1003fy_x</th>\n",
       "      <th>x1003fy_a</th>\n",
       "      <th>x1003fy_i</th>\n",
       "      <th>SHAPE</th>\n",
       "      <th>totpop_cy</th>\n",
       "    </tr>\n",
       "  </thead>\n",
       "  <tbody>\n",
       "    <tr>\n",
       "      <th>0</th>\n",
       "      <td>29002</td>\n",
       "      <td>CA</td>\n",
       "      <td>6</td>\n",
       "      <td>73</td>\n",
       "      <td>6073</td>\n",
       "      <td>100</td>\n",
       "      <td>1</td>\n",
       "      <td>060730001001</td>\n",
       "      <td>4788.0</td>\n",
       "      <td>0.25</td>\n",
       "      <td>...</td>\n",
       "      <td>11293.00</td>\n",
       "      <td>225.0</td>\n",
       "      <td>12946134.0</td>\n",
       "      <td>26693.06</td>\n",
       "      <td>218.0</td>\n",
       "      <td>7469031.0</td>\n",
       "      <td>15400.06</td>\n",
       "      <td>214.0</td>\n",
       "      <td>{'rings': [[[-117.18894090906399, 32.758807764...</td>\n",
       "      <td>1199.0</td>\n",
       "    </tr>\n",
       "    <tr>\n",
       "      <th>1</th>\n",
       "      <td>29003</td>\n",
       "      <td>CA</td>\n",
       "      <td>6</td>\n",
       "      <td>73</td>\n",
       "      <td>6073</td>\n",
       "      <td>100</td>\n",
       "      <td>2</td>\n",
       "      <td>060730001002</td>\n",
       "      <td>5032.4</td>\n",
       "      <td>0.34</td>\n",
       "      <td>...</td>\n",
       "      <td>11843.34</td>\n",
       "      <td>236.0</td>\n",
       "      <td>19996145.0</td>\n",
       "      <td>28484.54</td>\n",
       "      <td>233.0</td>\n",
       "      <td>11682118.0</td>\n",
       "      <td>16641.19</td>\n",
       "      <td>231.0</td>\n",
       "      <td>{'rings': [[[-117.18715990828298, 32.756859764...</td>\n",
       "      <td>1692.0</td>\n",
       "    </tr>\n",
       "    <tr>\n",
       "      <th>2</th>\n",
       "      <td>29004</td>\n",
       "      <td>CA</td>\n",
       "      <td>6</td>\n",
       "      <td>73</td>\n",
       "      <td>6073</td>\n",
       "      <td>201</td>\n",
       "      <td>1</td>\n",
       "      <td>060730002011</td>\n",
       "      <td>4385.0</td>\n",
       "      <td>0.20</td>\n",
       "      <td>...</td>\n",
       "      <td>7167.84</td>\n",
       "      <td>143.0</td>\n",
       "      <td>7516044.0</td>\n",
       "      <td>17120.83</td>\n",
       "      <td>140.0</td>\n",
       "      <td>4369363.0</td>\n",
       "      <td>9952.99</td>\n",
       "      <td>138.0</td>\n",
       "      <td>{'rings': [[[-117.168410904985, 32.75683776569...</td>\n",
       "      <td>902.0</td>\n",
       "    </tr>\n",
       "  </tbody>\n",
       "</table>\n",
       "<p>3 rows × 4241 columns</p>\n",
       "</div>"
      ],
      "text/plain": [
       "   objectid state_abbr  state_fips  county_fips  stcofips  tract_fips  \\\n",
       "0     29002         CA           6           73      6073         100   \n",
       "1     29003         CA           6           73      6073         100   \n",
       "2     29004         CA           6           73      6073         201   \n",
       "\n",
       "   blockgroup_fips          fips  pop_sqmi  sqmi  ... x1130fy_a x1130fy_i  \\\n",
       "0                1  060730001001    4788.0  0.25  ...  11293.00     225.0   \n",
       "1                2  060730001002    5032.4  0.34  ...  11843.34     236.0   \n",
       "2                1  060730002011    4385.0  0.20  ...   7167.84     143.0   \n",
       "\n",
       "    x1002fy_x  x1002fy_a  x1002fy_i   x1003fy_x  x1003fy_a  x1003fy_i  \\\n",
       "0  12946134.0   26693.06      218.0   7469031.0   15400.06      214.0   \n",
       "1  19996145.0   28484.54      233.0  11682118.0   16641.19      231.0   \n",
       "2   7516044.0   17120.83      140.0   4369363.0    9952.99      138.0   \n",
       "\n",
       "                                               SHAPE  totpop_cy  \n",
       "0  {'rings': [[[-117.18894090906399, 32.758807764...     1199.0  \n",
       "1  {'rings': [[[-117.18715990828298, 32.756859764...     1692.0  \n",
       "2  {'rings': [[[-117.168410904985, 32.75683776569...      902.0  \n",
       "\n",
       "[3 rows x 4241 columns]"
      ]
     },
     "execution_count": 5,
     "metadata": {},
     "output_type": "execute_result"
    }
   ],
   "source": [
    "df['fips'] = df['fips'].astype(str)\n",
    "df['fips'] = '0' + df['fips']\n",
    "print(f\"Shape: {df.shape}\")\n",
    "df.head(3)"
   ]
  },
  {
   "cell_type": "code",
   "execution_count": 6,
   "id": "d0b646fb",
   "metadata": {},
   "outputs": [],
   "source": [
    "general_columns_retained = [\"fips\", \"SHAPE\"]\n"
   ]
  },
  {
   "cell_type": "code",
   "execution_count": 7,
   "id": "e9c8ad39",
   "metadata": {},
   "outputs": [
    {
     "name": "stdout",
     "output_type": "stream",
     "text": [
      "Parsing [Esri Business Data] for business segment!!\n",
      "\tNumber of Variables: 99\n"
     ]
    }
   ],
   "source": [
    "data_variables = get_enrichment_variables('business')"
   ]
  },
  {
   "cell_type": "markdown",
   "id": "a12c0543",
   "metadata": {},
   "source": [
    "Observations:  \n",
    "* Looks like all the variables were not harvested in out enrichment data.\n",
    "* We would pick the interection of varibales from our list and the enriched data we have."
   ]
  },
  {
   "cell_type": "code",
   "execution_count": 8,
   "id": "415e26c9",
   "metadata": {},
   "outputs": [],
   "source": [
    "intersection_list = list(set(df.columns) & set(data_variables))"
   ]
  },
  {
   "cell_type": "code",
   "execution_count": 9,
   "id": "200e1152",
   "metadata": {},
   "outputs": [
    {
     "name": "stdout",
     "output_type": "stream",
     "text": [
      "Size of Variables extracted: 99\n",
      "Size of Variables from enriched data: 4241\n",
      "Size of intersection: 99\n"
     ]
    }
   ],
   "source": [
    "print(f\"Size of Variables extracted: {len(data_variables)}\")\n",
    "print(f\"Size of Variables from enriched data: {len(df.columns)}\") # this could have additional columsn we dont care about.\n",
    "print(f\"Size of intersection: {len(intersection_list)}\")"
   ]
  },
  {
   "cell_type": "code",
   "execution_count": 10,
   "id": "e5ccc032",
   "metadata": {},
   "outputs": [],
   "source": [
    "intersection_list = list(chain(general_columns_retained, intersection_list))"
   ]
  },
  {
   "cell_type": "markdown",
   "id": "45a0f229",
   "metadata": {},
   "source": [
    "There is no documentation but it seems, I am not able to publish feature layer with more than 990 fields. So We would equally divide the variable list for respective segment."
   ]
  },
  {
   "cell_type": "code",
   "execution_count": 11,
   "id": "abed9c8d",
   "metadata": {},
   "outputs": [
    {
     "name": "stderr",
     "output_type": "stream",
     "text": [
      "/Users/amolkale/Documents/DSE/DSE260-Capstone-Project/capstone/arc_gis/feature_layers/feature_layer_utils.py:21: SettingWithCopyWarning: \n",
      "A value is trying to be set on a copy of a slice from a DataFrame.\n",
      "Try using .loc[row_indexer,col_indexer] = value instead\n",
      "\n",
      "See the caveats in the documentation: https://pandas.pydata.org/pandas-docs/stable/user_guide/indexing.html#returning-a-view-versus-a-copy\n",
      "  df[\"SHAPE\"] = GeoArray([Geometry(json.loads(format_json(x))) for x in df['SHAPE']])\n"
     ]
    },
    {
     "name": "stdout",
     "output_type": "stream",
     "text": [
      "Number of fields published as part of this layer: 103\n"
     ]
    },
    {
     "data": {
      "text/html": [
       "<div class=\"item_container\" style=\"height: auto; overflow: hidden; border: 1px solid #cfcfcf; border-radius: 2px; background: #f6fafa; line-height: 1.21429em; padding: 10px;\">\n",
       "                    <div class=\"item_left\" style=\"width: 210px; float: left;\">\n",
       "                       <a href='https://UCSDOnline.maps.arcgis.com/home/item.html?id=b77492f39d2e431c858d718396c5b7c7' target='_blank'>\n",
       "                        <img src='http://static.arcgis.com/images/desktopapp.png' class=\"itemThumbnail\">\n",
       "                       </a>\n",
       "                    </div>\n",
       "\n",
       "                    <div class=\"item_right\"     style=\"float: none; width: auto; overflow: hidden;\">\n",
       "                        <a href='https://UCSDOnline.maps.arcgis.com/home/item.html?id=b77492f39d2e431c858d718396c5b7c7' target='_blank'><b>San Diego Block Groups with Business Variables Data</b>\n",
       "                        </a>\n",
       "                        <br/><img src='https://UCSDOnline.maps.arcgis.com/home/js/jsapi/esri/css/images/item_type_icons/featureshosted16.png' style=\"vertical-align:middle;\">Feature Layer Collection by akale_UCSDOnline\n",
       "                        <br/>Last Modified: April 09, 2023\n",
       "                        <br/>0 comments, 0 views\n",
       "                    </div>\n",
       "                </div>\n",
       "                "
      ],
      "text/plain": [
       "<Item title:\"San Diego Block Groups with Business Variables Data\" type:Feature Layer Collection owner:akale_UCSDOnline>"
      ]
     },
     "metadata": {},
     "output_type": "display_data"
    },
    {
     "name": "stdout",
     "output_type": "stream",
     "text": [
      "CPU times: user 5.01 s, sys: 177 ms, total: 5.19 s\n",
      "Wall time: 26 s\n"
     ]
    }
   ],
   "source": [
    "%%time\n",
    "feature_layer = create_feature_layer(df, \n",
    "                                     gis=gis,\n",
    "                                     final_columns=intersection_list,\n",
    "                                     title=\"San Diego Block Groups with Business Variables Data\",\n",
    "                                     tags=['SanDiego', 'Business'],\n",
    "                                    )"
   ]
  },
  {
   "cell_type": "code",
   "execution_count": null,
   "id": "1da157b0",
   "metadata": {},
   "outputs": [],
   "source": []
  }
 ],
 "metadata": {
  "kernelspec": {
   "display_name": "Python 3 (ipykernel)",
   "language": "python",
   "name": "python3"
  },
  "language_info": {
   "codemirror_mode": {
    "name": "ipython",
    "version": 3
   },
   "file_extension": ".py",
   "mimetype": "text/x-python",
   "name": "python",
   "nbconvert_exporter": "python",
   "pygments_lexer": "ipython3",
   "version": "3.9.16"
  }
 },
 "nbformat": 4,
 "nbformat_minor": 5
}
