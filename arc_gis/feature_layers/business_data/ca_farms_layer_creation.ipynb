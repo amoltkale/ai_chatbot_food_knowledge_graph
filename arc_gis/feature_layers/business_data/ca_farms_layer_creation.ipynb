{
 "cells": [
  {
   "cell_type": "code",
   "execution_count": 1,
   "id": "9b26bd71-c041-4703-923d-a47c54c9f356",
   "metadata": {},
   "outputs": [],
   "source": [
    "import pandas as pd\n",
    "import geopandas\n",
    "import matplotlib.pyplot as plt\n",
    "import sqlalchemy as sal\n",
    "import psycopg2\n",
    "import arcgis\n",
    "from arcgis.gis import GIS\n",
    "import sys\n",
    "sys.path.append('../')\n",
    "from gis_resources import san_diego_county_zips\n",
    "import os\n",
    "from arcgis.geocoding import geocode\n",
    "from arcgis.features import GeoAccessor"
   ]
  },
  {
   "cell_type": "code",
   "execution_count": 2,
   "id": "885ea849-d836-4414-8205-d60f3bbb5afe",
   "metadata": {},
   "outputs": [
    {
     "name": "stdout",
     "output_type": "stream",
     "text": [
      "Enter the Client ID/APP ID generated from Arc GIS:\n"
     ]
    },
    {
     "name": "stdin",
     "output_type": "stream",
     "text": [
      " Elm5V3upnnV17Q3r\n"
     ]
    },
    {
     "name": "stdout",
     "output_type": "stream",
     "text": [
      "Please sign in to your GIS and paste the code that is obtained below.\n",
      "If a web browser does not automatically open, please navigate to the URL below yourself instead.\n",
      "Opening web browser to navigate to: https://ucsdonline.maps.arcgis.com/sharing/rest/oauth2/authorize?response_type=code&client_id=Elm5V3upnnV17Q3r&redirect_uri=urn%3Aietf%3Awg%3Aoauth%3A2.0%3Aoob&state=ywMFwANSpjPDDsIt9Md7yIh0Dc7qhm&allow_verification=false\n"
     ]
    },
    {
     "name": "stdin",
     "output_type": "stream",
     "text": [
      "Enter code obtained on signing in using SAML:  ········\n"
     ]
    },
    {
     "name": "stderr",
     "output_type": "stream",
     "text": [
      "/Users/amolkale/Documents/DSE/DSE260-Capstone-Project/capstone/venv3.9/lib/python3.9/site-packages/urllib3/connectionpool.py:1045: InsecureRequestWarning: Unverified HTTPS request is being made to host 'ucsdonline.maps.arcgis.com'. Adding certificate verification is strongly advised. See: https://urllib3.readthedocs.io/en/1.26.x/advanced-usage.html#ssl-warnings\n",
      "  warnings.warn(\n"
     ]
    },
    {
     "data": {
      "text/plain": [
       "'2.1.0'"
      ]
     },
     "execution_count": 2,
     "metadata": {},
     "output_type": "execute_result"
    }
   ],
   "source": [
    "\n",
    "#gis = GIS(username='izaslavsky_ucsd')  # this will ask for password. \n",
    "print(\"Enter the Client ID/APP ID generated from Arc GIS:\")\n",
    "app_id = input()\n",
    "gis = GIS(\"https://ucsdonline.maps.arcgis.com/home\", client_id=app_id)\n",
    "arcgis.__version__\n",
    "# Elm5V3upnnV17Q3r"
   ]
  },
  {
   "cell_type": "code",
   "execution_count": null,
   "id": "3921c22d-a7cc-4a0e-9e87-73ffe61de594",
   "metadata": {},
   "outputs": [],
   "source": [
    "print(\"Nourish User:\")\n",
    "nourish_user = input()\n",
    "print(\"Nourish Password:\")\n",
    "nourish_pswd = input()"
   ]
  },
  {
   "cell_type": "code",
   "execution_count": 4,
   "id": "e38f393a-104c-4a15-84d4-6facf9daf6a0",
   "metadata": {},
   "outputs": [],
   "source": [
    "conn = psycopg2.connect(\n",
    "    host=\"awesome-hw.sdsc.edu\",\n",
    "    database=\"nourish\",\n",
    "    user=nourish_user,\n",
    "    password=nourish_pswd)"
   ]
  },
  {
   "cell_type": "code",
   "execution_count": 5,
   "id": "edf536d6-a7b0-466b-9164-3eb14e5e96a2",
   "metadata": {},
   "outputs": [],
   "source": [
    "# create a cursor\n",
    "cur = conn.cursor()\n",
    "        \n",
    "\n",
    "# execute a statement\n",
    "cur.execute('select * from ca_farms_2')\n",
    "\n",
    "        # display the PostgreSQL database server version\n",
    "result = cur.fetchall()\n",
    "       \n",
    "\t# close the communication with the PostgreSQL\n",
    "cur.close()"
   ]
  },
  {
   "cell_type": "code",
   "execution_count": 6,
   "id": "0f9bae3d-9789-4632-9185-1f6a7ecb3f9b",
   "metadata": {},
   "outputs": [],
   "source": [
    "ca_farms_result_list = [(row[1],row[2],row[5],row[6],row[7]) for row in result]"
   ]
  },
  {
   "cell_type": "code",
   "execution_count": 7,
   "id": "9817fa0f-3ea3-4386-ab07-26e714b97f1e",
   "metadata": {},
   "outputs": [
    {
     "data": {
      "text/html": [
       "<div>\n",
       "<style scoped>\n",
       "    .dataframe tbody tr th:only-of-type {\n",
       "        vertical-align: middle;\n",
       "    }\n",
       "\n",
       "    .dataframe tbody tr th {\n",
       "        vertical-align: top;\n",
       "    }\n",
       "\n",
       "    .dataframe thead th {\n",
       "        text-align: right;\n",
       "    }\n",
       "</style>\n",
       "<table border=\"1\" class=\"dataframe\">\n",
       "  <thead>\n",
       "    <tr style=\"text-align: right;\">\n",
       "      <th></th>\n",
       "      <th>company_name</th>\n",
       "      <th>farm_address</th>\n",
       "      <th>crops_product</th>\n",
       "      <th>sells_at</th>\n",
       "      <th>practices</th>\n",
       "    </tr>\n",
       "  </thead>\n",
       "  <tbody>\n",
       "    <tr>\n",
       "      <th>0</th>\n",
       "      <td>SAND N STRAW</td>\n",
       "      <td>629 Mar Vista Dr, Vista, California, 92081</td>\n",
       "      <td>[An abundance of naturally grown local fruit a...</td>\n",
       "      <td>[CSA]</td>\n",
       "      <td>[No information about practices,  services &amp; a...</td>\n",
       "    </tr>\n",
       "    <tr>\n",
       "      <th>1</th>\n",
       "      <td>FOUR SEASONS MICROGREENS, LLC</td>\n",
       "      <td>111 Marvis Dr., Atwater, California, 95301</td>\n",
       "      <td>[Microgreens: salad mix,  arugula,  peas,  sun...</td>\n",
       "      <td>[CSA,  Farmers Markets,  Online,  Restaurants]</td>\n",
       "      <td>[Beginning farmers,  Woman-owned,  Farmer of C...</td>\n",
       "    </tr>\n",
       "    <tr>\n",
       "      <th>2</th>\n",
       "      <td>GUZMAN AND SON’S PRODUCE</td>\n",
       "      <td>5241 Arena Way, Atwater, California, 95301</td>\n",
       "      <td>[Jicama,  Sweet potatoes,  cherry tomatoes,  b...</td>\n",
       "      <td>[CSA,  Farmers Markets,  Online,  Wholesale]</td>\n",
       "      <td>[Certified Organic,  Woman-owned,  Farmer of C...</td>\n",
       "    </tr>\n",
       "    <tr>\n",
       "      <th>3</th>\n",
       "      <td>FENTON FAMILY FARM</td>\n",
       "      <td>2235 Riverview Rd, Fallbrook, California, 92028</td>\n",
       "      <td>[everything from Apples to Zapotes]</td>\n",
       "      <td>[Farmers Markets,  Farm Stand,  Wholesale,  Re...</td>\n",
       "      <td>[Farming organically (non-certified),  Permacu...</td>\n",
       "    </tr>\n",
       "    <tr>\n",
       "      <th>4</th>\n",
       "      <td>THREE FEATHERS FARM</td>\n",
       "      <td>14490 Watsonville Rd., Morgan Hill, California...</td>\n",
       "      <td>[Speciality Crop]</td>\n",
       "      <td>[Farmers Markets,  Wholesale,  Restaurants]</td>\n",
       "      <td>[Beginning farmers,  Farmer of Color-owned,  H...</td>\n",
       "    </tr>\n",
       "    <tr>\n",
       "      <th>...</th>\n",
       "      <td>...</td>\n",
       "      <td>...</td>\n",
       "      <td>...</td>\n",
       "      <td>...</td>\n",
       "      <td>...</td>\n",
       "    </tr>\n",
       "    <tr>\n",
       "      <th>633</th>\n",
       "      <td>MACEDO’S MINI ACRE</td>\n",
       "      <td>11175 Golf Link Rd, Turlock, California, 95380</td>\n",
       "      <td>[alpaca fleeces,  dryer balls,  yarn,  felt,  ...</td>\n",
       "      <td>[Farm Stand,  Online,  Wholesale]</td>\n",
       "      <td>[Farming organically (non-certified),  Pasture...</td>\n",
       "    </tr>\n",
       "    <tr>\n",
       "      <th>634</th>\n",
       "      <td>WILD OAT HOLLOW</td>\n",
       "      <td>Penngrove, California, 94951</td>\n",
       "      <td>[Yarn,  roving,  raw wool,  sheep skin,  clima...</td>\n",
       "      <td>[Farm Stand,  Online]</td>\n",
       "      <td>[Farming organically (non-certified),  No-Till...</td>\n",
       "    </tr>\n",
       "    <tr>\n",
       "      <th>635</th>\n",
       "      <td>BARBELL FARM</td>\n",
       "      <td>10466 Franklin Blvd, Elk Grove, California, 95757</td>\n",
       "      <td>[Pastured Poultry, Eggs, Pork, vegetables.]</td>\n",
       "      <td>[CSA,  Farm Stand,  Online]</td>\n",
       "      <td>[Farming organically (non-certified),  Climate...</td>\n",
       "    </tr>\n",
       "    <tr>\n",
       "      <th>636</th>\n",
       "      <td>PAUL’S PRODUCE</td>\n",
       "      <td>19655 Arnold Dr, Sonoma, California, 95476</td>\n",
       "      <td>[Fruits, vegetables]</td>\n",
       "      <td>[Wholesale]</td>\n",
       "      <td>[No information about practices,  services &amp; a...</td>\n",
       "    </tr>\n",
       "    <tr>\n",
       "      <th>637</th>\n",
       "      <td>RUSSIAN RIVER ORANICS</td>\n",
       "      <td>2349 Westside Rd, Healdsburg, California, 95448</td>\n",
       "      <td>[Fruits, vegetables]</td>\n",
       "      <td>[Farmers Markets,  Wholesale,  Restaurants]</td>\n",
       "      <td>[No information about practices,  services &amp; a...</td>\n",
       "    </tr>\n",
       "  </tbody>\n",
       "</table>\n",
       "<p>638 rows × 5 columns</p>\n",
       "</div>"
      ],
      "text/plain": [
       "                      company_name  \\\n",
       "0                     SAND N STRAW   \n",
       "1    FOUR SEASONS MICROGREENS, LLC   \n",
       "2         GUZMAN AND SON’S PRODUCE   \n",
       "3               FENTON FAMILY FARM   \n",
       "4              THREE FEATHERS FARM   \n",
       "..                             ...   \n",
       "633             MACEDO’S MINI ACRE   \n",
       "634                WILD OAT HOLLOW   \n",
       "635                   BARBELL FARM   \n",
       "636                 PAUL’S PRODUCE   \n",
       "637          RUSSIAN RIVER ORANICS   \n",
       "\n",
       "                                          farm_address  \\\n",
       "0           629 Mar Vista Dr, Vista, California, 92081   \n",
       "1           111 Marvis Dr., Atwater, California, 95301   \n",
       "2           5241 Arena Way, Atwater, California, 95301   \n",
       "3      2235 Riverview Rd, Fallbrook, California, 92028   \n",
       "4    14490 Watsonville Rd., Morgan Hill, California...   \n",
       "..                                                 ...   \n",
       "633     11175 Golf Link Rd, Turlock, California, 95380   \n",
       "634                       Penngrove, California, 94951   \n",
       "635  10466 Franklin Blvd, Elk Grove, California, 95757   \n",
       "636         19655 Arnold Dr, Sonoma, California, 95476   \n",
       "637    2349 Westside Rd, Healdsburg, California, 95448   \n",
       "\n",
       "                                         crops_product  \\\n",
       "0    [An abundance of naturally grown local fruit a...   \n",
       "1    [Microgreens: salad mix,  arugula,  peas,  sun...   \n",
       "2    [Jicama,  Sweet potatoes,  cherry tomatoes,  b...   \n",
       "3                  [everything from Apples to Zapotes]   \n",
       "4                                    [Speciality Crop]   \n",
       "..                                                 ...   \n",
       "633  [alpaca fleeces,  dryer balls,  yarn,  felt,  ...   \n",
       "634  [Yarn,  roving,  raw wool,  sheep skin,  clima...   \n",
       "635        [Pastured Poultry, Eggs, Pork, vegetables.]   \n",
       "636                               [Fruits, vegetables]   \n",
       "637                               [Fruits, vegetables]   \n",
       "\n",
       "                                              sells_at  \\\n",
       "0                                                [CSA]   \n",
       "1       [CSA,  Farmers Markets,  Online,  Restaurants]   \n",
       "2         [CSA,  Farmers Markets,  Online,  Wholesale]   \n",
       "3    [Farmers Markets,  Farm Stand,  Wholesale,  Re...   \n",
       "4          [Farmers Markets,  Wholesale,  Restaurants]   \n",
       "..                                                 ...   \n",
       "633                  [Farm Stand,  Online,  Wholesale]   \n",
       "634                              [Farm Stand,  Online]   \n",
       "635                        [CSA,  Farm Stand,  Online]   \n",
       "636                                        [Wholesale]   \n",
       "637        [Farmers Markets,  Wholesale,  Restaurants]   \n",
       "\n",
       "                                             practices  \n",
       "0    [No information about practices,  services & a...  \n",
       "1    [Beginning farmers,  Woman-owned,  Farmer of C...  \n",
       "2    [Certified Organic,  Woman-owned,  Farmer of C...  \n",
       "3    [Farming organically (non-certified),  Permacu...  \n",
       "4    [Beginning farmers,  Farmer of Color-owned,  H...  \n",
       "..                                                 ...  \n",
       "633  [Farming organically (non-certified),  Pasture...  \n",
       "634  [Farming organically (non-certified),  No-Till...  \n",
       "635  [Farming organically (non-certified),  Climate...  \n",
       "636  [No information about practices,  services & a...  \n",
       "637  [No information about practices,  services & a...  \n",
       "\n",
       "[638 rows x 5 columns]"
      ]
     },
     "execution_count": 7,
     "metadata": {},
     "output_type": "execute_result"
    }
   ],
   "source": [
    "# Create a DataFrame\n",
    "dataFrame = pd.DataFrame(ca_farms_result_list,\n",
    "              columns=(\"company_name\",\"farm_address\", \"crops_product\",\"sells_at\", \"practices\")\n",
    "              );\n",
    "dataFrame"
   ]
  },
  {
   "cell_type": "code",
   "execution_count": 8,
   "id": "9cc62878-1a8a-4d00-927b-b42de3e30e6f",
   "metadata": {},
   "outputs": [],
   "source": [
    "# Trying to capture the zip from farm address using regex\n",
    "dataFrame['zip'] = dataFrame['farm_address'].str.extract('^.*, ([0-9]{5})$', expand=True)"
   ]
  },
  {
   "cell_type": "code",
   "execution_count": 9,
   "id": "3a5e55a0-16b1-4d4c-8f6c-414bf0e25115",
   "metadata": {},
   "outputs": [],
   "source": [
    "# Just in case we don't have a farm address\n",
    "# dataFrame = dataFrame.astype({\"zip\": int})\n",
    "# dataFrame = dataFrame[~dataFrame['zip'].isna()]"
   ]
  },
  {
   "cell_type": "code",
   "execution_count": 10,
   "id": "ebb61b4b-1e6b-43f9-93e7-ee02633e6ffa",
   "metadata": {},
   "outputs": [],
   "source": [
    "# Pick the data for only San Diego County\n",
    "san_diego_county_zips_lst = san_diego_county_zips()"
   ]
  },
  {
   "cell_type": "code",
   "execution_count": 11,
   "id": "a0f1ab29-7eaf-44c6-825e-bce573408e85",
   "metadata": {},
   "outputs": [
    {
     "data": {
      "text/plain": [
       "['91910', '91911', '91913']"
      ]
     },
     "execution_count": 11,
     "metadata": {},
     "output_type": "execute_result"
    }
   ],
   "source": [
    "san_diego_county_zips_lst[:3]"
   ]
  },
  {
   "cell_type": "code",
   "execution_count": 12,
   "id": "4c9b0140-9747-4609-b852-7e3a4d96e2d4",
   "metadata": {},
   "outputs": [
    {
     "data": {
      "text/plain": [
       "(48, 6)"
      ]
     },
     "execution_count": 12,
     "metadata": {},
     "output_type": "execute_result"
    }
   ],
   "source": [
    "dataFrame = dataFrame[dataFrame[\"zip\"].isin(san_diego_county_zips())]\n",
    "dataFrame.shape"
   ]
  },
  {
   "cell_type": "code",
   "execution_count": 13,
   "id": "93d2326d-b19f-4596-8fff-609320ad066a",
   "metadata": {},
   "outputs": [
    {
     "name": "stderr",
     "output_type": "stream",
     "text": [
      "/var/folders/jg/d8_zwblj5ql38q843xmy7h9r0000gp/T/ipykernel_60699/2305921363.py:1: SettingWithCopyWarning: \n",
      "A value is trying to be set on a copy of a slice from a DataFrame.\n",
      "Try using .loc[row_indexer,col_indexer] = value instead\n",
      "\n",
      "See the caveats in the documentation: https://pandas.pydata.org/pandas-docs/stable/user_guide/indexing.html#returning-a-view-versus-a-copy\n",
      "  dataFrame['crops_product']=dataFrame.crops_product.apply(lambda x: ','.join(x))\n",
      "/var/folders/jg/d8_zwblj5ql38q843xmy7h9r0000gp/T/ipykernel_60699/2305921363.py:2: SettingWithCopyWarning: \n",
      "A value is trying to be set on a copy of a slice from a DataFrame.\n",
      "Try using .loc[row_indexer,col_indexer] = value instead\n",
      "\n",
      "See the caveats in the documentation: https://pandas.pydata.org/pandas-docs/stable/user_guide/indexing.html#returning-a-view-versus-a-copy\n",
      "  dataFrame['sells_at']=dataFrame.sells_at.apply(lambda x: ','.join(x))\n",
      "/var/folders/jg/d8_zwblj5ql38q843xmy7h9r0000gp/T/ipykernel_60699/2305921363.py:3: SettingWithCopyWarning: \n",
      "A value is trying to be set on a copy of a slice from a DataFrame.\n",
      "Try using .loc[row_indexer,col_indexer] = value instead\n",
      "\n",
      "See the caveats in the documentation: https://pandas.pydata.org/pandas-docs/stable/user_guide/indexing.html#returning-a-view-versus-a-copy\n",
      "  dataFrame['practices']=dataFrame.practices.apply(lambda x: ','.join(x))\n"
     ]
    }
   ],
   "source": [
    "dataFrame['crops_product']=dataFrame.crops_product.apply(lambda x: ','.join(x))\n",
    "dataFrame['sells_at']=dataFrame.sells_at.apply(lambda x: ','.join(x))\n",
    "dataFrame['practices']=dataFrame.practices.apply(lambda x: ','.join(x))"
   ]
  },
  {
   "cell_type": "code",
   "execution_count": 14,
   "id": "fa6ae10f-66d6-46c1-b773-bb3e8c461d04",
   "metadata": {},
   "outputs": [],
   "source": [
    "def get_lat_long(address):\n",
    "    loc = geocode(address)[0]['location']\n",
    "    return loc['x'],loc['y']"
   ]
  },
  {
   "cell_type": "code",
   "execution_count": 15,
   "id": "04a2104e-33e0-412a-9662-c3208d5fca26",
   "metadata": {},
   "outputs": [
    {
     "name": "stdout",
     "output_type": "stream",
     "text": [
      "Shape: (48, 8)\n"
     ]
    },
    {
     "name": "stderr",
     "output_type": "stream",
     "text": [
      "/var/folders/jg/d8_zwblj5ql38q843xmy7h9r0000gp/T/ipykernel_60699/1041540729.py:1: SettingWithCopyWarning: \n",
      "A value is trying to be set on a copy of a slice from a DataFrame.\n",
      "Try using .loc[row_indexer,col_indexer] = value instead\n",
      "\n",
      "See the caveats in the documentation: https://pandas.pydata.org/pandas-docs/stable/user_guide/indexing.html#returning-a-view-versus-a-copy\n",
      "  dataFrame[['longitude','latitude']] = dataFrame.apply(lambda row: get_lat_long(row.farm_address), axis='columns', result_type='expand')\n",
      "/var/folders/jg/d8_zwblj5ql38q843xmy7h9r0000gp/T/ipykernel_60699/1041540729.py:1: SettingWithCopyWarning: \n",
      "A value is trying to be set on a copy of a slice from a DataFrame.\n",
      "Try using .loc[row_indexer,col_indexer] = value instead\n",
      "\n",
      "See the caveats in the documentation: https://pandas.pydata.org/pandas-docs/stable/user_guide/indexing.html#returning-a-view-versus-a-copy\n",
      "  dataFrame[['longitude','latitude']] = dataFrame.apply(lambda row: get_lat_long(row.farm_address), axis='columns', result_type='expand')\n"
     ]
    },
    {
     "data": {
      "text/html": [
       "<div>\n",
       "<style scoped>\n",
       "    .dataframe tbody tr th:only-of-type {\n",
       "        vertical-align: middle;\n",
       "    }\n",
       "\n",
       "    .dataframe tbody tr th {\n",
       "        vertical-align: top;\n",
       "    }\n",
       "\n",
       "    .dataframe thead th {\n",
       "        text-align: right;\n",
       "    }\n",
       "</style>\n",
       "<table border=\"1\" class=\"dataframe\">\n",
       "  <thead>\n",
       "    <tr style=\"text-align: right;\">\n",
       "      <th></th>\n",
       "      <th>company_name</th>\n",
       "      <th>farm_address</th>\n",
       "      <th>crops_product</th>\n",
       "      <th>sells_at</th>\n",
       "      <th>practices</th>\n",
       "      <th>zip</th>\n",
       "      <th>longitude</th>\n",
       "      <th>latitude</th>\n",
       "    </tr>\n",
       "  </thead>\n",
       "  <tbody>\n",
       "    <tr>\n",
       "      <th>0</th>\n",
       "      <td>SAND N STRAW</td>\n",
       "      <td>629 Mar Vista Dr, Vista, California, 92081</td>\n",
       "      <td>An abundance of naturally grown local fruit an...</td>\n",
       "      <td>CSA</td>\n",
       "      <td>No information about practices, services &amp; att...</td>\n",
       "      <td>92081</td>\n",
       "      <td>-117.235804</td>\n",
       "      <td>33.181435</td>\n",
       "    </tr>\n",
       "    <tr>\n",
       "      <th>3</th>\n",
       "      <td>FENTON FAMILY FARM</td>\n",
       "      <td>2235 Riverview Rd, Fallbrook, California, 92028</td>\n",
       "      <td>everything from Apples to Zapotes</td>\n",
       "      <td>Farmers Markets, Farm Stand, Wholesale, Restau...</td>\n",
       "      <td>Farming organically (non-certified), Permacult...</td>\n",
       "      <td>92028</td>\n",
       "      <td>-117.309912</td>\n",
       "      <td>33.422165</td>\n",
       "    </tr>\n",
       "    <tr>\n",
       "      <th>9</th>\n",
       "      <td>RANDOL RIDGE RANCH</td>\n",
       "      <td>Ramona, California, 92065</td>\n",
       "      <td>Vegetables and fruits</td>\n",
       "      <td>CSA, Farm Stand</td>\n",
       "      <td>Farming organically (non-certified)</td>\n",
       "      <td>92065</td>\n",
       "      <td>-116.866480</td>\n",
       "      <td>33.042215</td>\n",
       "    </tr>\n",
       "    <tr>\n",
       "      <th>15</th>\n",
       "      <td>HILLCREST HEALTHY GROVE</td>\n",
       "      <td>744 Hillcrest Ln, Fallbrook, California, 92028</td>\n",
       "      <td>Avocadoes (available late January through May)...</td>\n",
       "      <td>Online</td>\n",
       "      <td>Farming organically (non-certified)</td>\n",
       "      <td>92028</td>\n",
       "      <td>-117.243262</td>\n",
       "      <td>33.391117</td>\n",
       "    </tr>\n",
       "    <tr>\n",
       "      <th>55</th>\n",
       "      <td>GARDEN OF EDEN ORGANICS</td>\n",
       "      <td>9928 Protea Gardens Rd, Escondido, California,...</td>\n",
       "      <td>Strawberries, Peaches, Apples, Radishes, Cucum...</td>\n",
       "      <td>CSA</td>\n",
       "      <td>Certified Organic</td>\n",
       "      <td>92026</td>\n",
       "      <td>-117.119996</td>\n",
       "      <td>33.195886</td>\n",
       "    </tr>\n",
       "  </tbody>\n",
       "</table>\n",
       "</div>"
      ],
      "text/plain": [
       "               company_name  \\\n",
       "0              SAND N STRAW   \n",
       "3        FENTON FAMILY FARM   \n",
       "9        RANDOL RIDGE RANCH   \n",
       "15  HILLCREST HEALTHY GROVE   \n",
       "55  GARDEN OF EDEN ORGANICS   \n",
       "\n",
       "                                         farm_address  \\\n",
       "0          629 Mar Vista Dr, Vista, California, 92081   \n",
       "3     2235 Riverview Rd, Fallbrook, California, 92028   \n",
       "9                           Ramona, California, 92065   \n",
       "15     744 Hillcrest Ln, Fallbrook, California, 92028   \n",
       "55  9928 Protea Gardens Rd, Escondido, California,...   \n",
       "\n",
       "                                        crops_product  \\\n",
       "0   An abundance of naturally grown local fruit an...   \n",
       "3                   everything from Apples to Zapotes   \n",
       "9                               Vegetables and fruits   \n",
       "15  Avocadoes (available late January through May)...   \n",
       "55  Strawberries, Peaches, Apples, Radishes, Cucum...   \n",
       "\n",
       "                                             sells_at  \\\n",
       "0                                                 CSA   \n",
       "3   Farmers Markets, Farm Stand, Wholesale, Restau...   \n",
       "9                                     CSA, Farm Stand   \n",
       "15                                             Online   \n",
       "55                                                CSA   \n",
       "\n",
       "                                            practices    zip   longitude  \\\n",
       "0   No information about practices, services & att...  92081 -117.235804   \n",
       "3   Farming organically (non-certified), Permacult...  92028 -117.309912   \n",
       "9                 Farming organically (non-certified)  92065 -116.866480   \n",
       "15                Farming organically (non-certified)  92028 -117.243262   \n",
       "55                                  Certified Organic  92026 -117.119996   \n",
       "\n",
       "     latitude  \n",
       "0   33.181435  \n",
       "3   33.422165  \n",
       "9   33.042215  \n",
       "15  33.391117  \n",
       "55  33.195886  "
      ]
     },
     "execution_count": 15,
     "metadata": {},
     "output_type": "execute_result"
    }
   ],
   "source": [
    "dataFrame[['longitude','latitude']] = dataFrame.apply(lambda row: get_lat_long(row.farm_address), axis='columns', result_type='expand')\n",
    "print(\"Shape:\",dataFrame.shape)\n",
    "dataFrame.head(5)"
   ]
  },
  {
   "cell_type": "code",
   "execution_count": 16,
   "id": "72b14f06-af49-4f0e-94a0-6c429086dc3d",
   "metadata": {},
   "outputs": [],
   "source": [
    "gdf = geopandas.GeoDataFrame(dataFrame, geometry=geopandas.points_from_xy(dataFrame.longitude, dataFrame.latitude))"
   ]
  },
  {
   "cell_type": "code",
   "execution_count": 17,
   "id": "a3788f82-1b25-4627-a2bf-161ebb235c9c",
   "metadata": {},
   "outputs": [],
   "source": [
    "ca_farms_sgdf = GeoAccessor.from_geodataframe(gdf, inplace=False, column_name='SHAPE')"
   ]
  },
  {
   "cell_type": "code",
   "execution_count": 18,
   "id": "adcb5224-c451-4f06-84e8-5c422d029cc9",
   "metadata": {},
   "outputs": [],
   "source": [
    "#ca_farms_sgdf['zip'] = ca_farms_sgdf['zip'].astype(str)"
   ]
  },
  {
   "cell_type": "code",
   "execution_count": 19,
   "id": "4f18a4a7-772e-414b-96a3-3b5dff524cb5",
   "metadata": {},
   "outputs": [
    {
     "data": {
      "text/html": [
       "<div>\n",
       "<style scoped>\n",
       "    .dataframe tbody tr th:only-of-type {\n",
       "        vertical-align: middle;\n",
       "    }\n",
       "\n",
       "    .dataframe tbody tr th {\n",
       "        vertical-align: top;\n",
       "    }\n",
       "\n",
       "    .dataframe thead th {\n",
       "        text-align: right;\n",
       "    }\n",
       "</style>\n",
       "<table border=\"1\" class=\"dataframe\">\n",
       "  <thead>\n",
       "    <tr style=\"text-align: right;\">\n",
       "      <th></th>\n",
       "      <th>company_name</th>\n",
       "      <th>farm_address</th>\n",
       "      <th>crops_product</th>\n",
       "      <th>sells_at</th>\n",
       "      <th>practices</th>\n",
       "      <th>zip</th>\n",
       "      <th>longitude</th>\n",
       "      <th>latitude</th>\n",
       "      <th>SHAPE</th>\n",
       "    </tr>\n",
       "  </thead>\n",
       "  <tbody>\n",
       "    <tr>\n",
       "      <th>0</th>\n",
       "      <td>SAND N STRAW</td>\n",
       "      <td>629 Mar Vista Dr, Vista, California, 92081</td>\n",
       "      <td>An abundance of naturally grown local fruit an...</td>\n",
       "      <td>CSA</td>\n",
       "      <td>No information about practices, services &amp; att...</td>\n",
       "      <td>92081</td>\n",
       "      <td>-117.235804</td>\n",
       "      <td>33.181435</td>\n",
       "      <td>{\"x\": -117.23580367734463, \"y\": 33.18143519721...</td>\n",
       "    </tr>\n",
       "    <tr>\n",
       "      <th>3</th>\n",
       "      <td>FENTON FAMILY FARM</td>\n",
       "      <td>2235 Riverview Rd, Fallbrook, California, 92028</td>\n",
       "      <td>everything from Apples to Zapotes</td>\n",
       "      <td>Farmers Markets, Farm Stand, Wholesale, Restau...</td>\n",
       "      <td>Farming organically (non-certified), Permacult...</td>\n",
       "      <td>92028</td>\n",
       "      <td>-117.309912</td>\n",
       "      <td>33.422165</td>\n",
       "      <td>{\"x\": -117.30991168753704, \"y\": 33.42216454605...</td>\n",
       "    </tr>\n",
       "    <tr>\n",
       "      <th>9</th>\n",
       "      <td>RANDOL RIDGE RANCH</td>\n",
       "      <td>Ramona, California, 92065</td>\n",
       "      <td>Vegetables and fruits</td>\n",
       "      <td>CSA, Farm Stand</td>\n",
       "      <td>Farming organically (non-certified)</td>\n",
       "      <td>92065</td>\n",
       "      <td>-116.866480</td>\n",
       "      <td>33.042215</td>\n",
       "      <td>{\"x\": -116.86647999999997, \"y\": 33.04221500000...</td>\n",
       "    </tr>\n",
       "    <tr>\n",
       "      <th>15</th>\n",
       "      <td>HILLCREST HEALTHY GROVE</td>\n",
       "      <td>744 Hillcrest Ln, Fallbrook, California, 92028</td>\n",
       "      <td>Avocadoes (available late January through May)...</td>\n",
       "      <td>Online</td>\n",
       "      <td>Farming organically (non-certified)</td>\n",
       "      <td>92028</td>\n",
       "      <td>-117.243262</td>\n",
       "      <td>33.391117</td>\n",
       "      <td>{\"x\": -117.24326197860914, \"y\": 33.39111747378...</td>\n",
       "    </tr>\n",
       "    <tr>\n",
       "      <th>55</th>\n",
       "      <td>GARDEN OF EDEN ORGANICS</td>\n",
       "      <td>9928 Protea Gardens Rd, Escondido, California,...</td>\n",
       "      <td>Strawberries, Peaches, Apples, Radishes, Cucum...</td>\n",
       "      <td>CSA</td>\n",
       "      <td>Certified Organic</td>\n",
       "      <td>92026</td>\n",
       "      <td>-117.119996</td>\n",
       "      <td>33.195886</td>\n",
       "      <td>{\"x\": -117.11999569885434, \"y\": 33.19588635265...</td>\n",
       "    </tr>\n",
       "  </tbody>\n",
       "</table>\n",
       "</div>"
      ],
      "text/plain": [
       "               company_name  \\\n",
       "0              SAND N STRAW   \n",
       "3        FENTON FAMILY FARM   \n",
       "9        RANDOL RIDGE RANCH   \n",
       "15  HILLCREST HEALTHY GROVE   \n",
       "55  GARDEN OF EDEN ORGANICS   \n",
       "\n",
       "                                         farm_address  \\\n",
       "0          629 Mar Vista Dr, Vista, California, 92081   \n",
       "3     2235 Riverview Rd, Fallbrook, California, 92028   \n",
       "9                           Ramona, California, 92065   \n",
       "15     744 Hillcrest Ln, Fallbrook, California, 92028   \n",
       "55  9928 Protea Gardens Rd, Escondido, California,...   \n",
       "\n",
       "                                        crops_product  \\\n",
       "0   An abundance of naturally grown local fruit an...   \n",
       "3                   everything from Apples to Zapotes   \n",
       "9                               Vegetables and fruits   \n",
       "15  Avocadoes (available late January through May)...   \n",
       "55  Strawberries, Peaches, Apples, Radishes, Cucum...   \n",
       "\n",
       "                                             sells_at  \\\n",
       "0                                                 CSA   \n",
       "3   Farmers Markets, Farm Stand, Wholesale, Restau...   \n",
       "9                                     CSA, Farm Stand   \n",
       "15                                             Online   \n",
       "55                                                CSA   \n",
       "\n",
       "                                            practices    zip   longitude  \\\n",
       "0   No information about practices, services & att...  92081 -117.235804   \n",
       "3   Farming organically (non-certified), Permacult...  92028 -117.309912   \n",
       "9                 Farming organically (non-certified)  92065 -116.866480   \n",
       "15                Farming organically (non-certified)  92028 -117.243262   \n",
       "55                                  Certified Organic  92026 -117.119996   \n",
       "\n",
       "     latitude                                              SHAPE  \n",
       "0   33.181435  {\"x\": -117.23580367734463, \"y\": 33.18143519721...  \n",
       "3   33.422165  {\"x\": -117.30991168753704, \"y\": 33.42216454605...  \n",
       "9   33.042215  {\"x\": -116.86647999999997, \"y\": 33.04221500000...  \n",
       "15  33.391117  {\"x\": -117.24326197860914, \"y\": 33.39111747378...  \n",
       "55  33.195886  {\"x\": -117.11999569885434, \"y\": 33.19588635265...  "
      ]
     },
     "execution_count": 19,
     "metadata": {},
     "output_type": "execute_result"
    }
   ],
   "source": [
    "ca_farms_sgdf.head(5)"
   ]
  },
  {
   "cell_type": "code",
   "execution_count": 20,
   "id": "8dc78888-031c-494d-b4c7-4badbcc8a7fd",
   "metadata": {},
   "outputs": [
    {
     "name": "stdout",
     "output_type": "stream",
     "text": [
      "CPU times: user 150 ms, sys: 22.3 ms, total: 172 ms\n",
      "Wall time: 10.2 s\n"
     ]
    }
   ],
   "source": [
    "%%time\n",
    "# Convert back from a SEDF into a feature layer, and publishing on AGOL\n",
    "my_new_featurelayer = ca_farms_sgdf.spatial.to_featurelayer(title=\"San Diego County Farms\", \n",
    "                                                         gis=gis, \n",
    "                                                         folder='nourish_gis',\n",
    "                                                         tags=['SanDiegoCountyFarms'])"
   ]
  },
  {
   "cell_type": "code",
   "execution_count": null,
   "id": "37eee05d-9a7b-483e-b3a7-15393f8f6ce2",
   "metadata": {},
   "outputs": [],
   "source": []
  }
 ],
 "metadata": {
  "kernelspec": {
   "display_name": "Python 3 (ipykernel)",
   "language": "python",
   "name": "python3"
  },
  "language_info": {
   "codemirror_mode": {
    "name": "ipython",
    "version": 3
   },
   "file_extension": ".py",
   "mimetype": "text/x-python",
   "name": "python",
   "nbconvert_exporter": "python",
   "pygments_lexer": "ipython3",
   "version": "3.9.16"
  }
 },
 "nbformat": 4,
 "nbformat_minor": 5
}
