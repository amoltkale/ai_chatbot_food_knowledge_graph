{
 "cells": [
  {
   "cell_type": "markdown",
   "id": "dc5ad91a",
   "metadata": {},
   "source": [
    "### Objective\n",
    "The objective of this notebook is :\n",
    "1. Aggregate point layer - `Fast Food Restaurants And Convenience Stores in California` with polygon layer - `California State Block Groups`\n",
    "2. This would give default count of such businesses in the block group boundaries."
   ]
  },
  {
   "cell_type": "code",
   "execution_count": 5,
   "id": "80ea9a11",
   "metadata": {},
   "outputs": [],
   "source": [
    "from arcgis.gis import GIS\n",
    "from arcgis.features import FeatureLayer, FeatureLayerCollection\n",
    "from arcgis.features.analysis import aggregate_points\n",
    "import sys\n",
    "sys.path.append('../../../')\n",
    "from utils import get_config"
   ]
  },
  {
   "cell_type": "code",
   "execution_count": 2,
   "id": "a1984418",
   "metadata": {},
   "outputs": [
    {
     "name": "stdout",
     "output_type": "stream",
     "text": [
      "<configparser.ConfigParser object at 0x108930e20>\n",
      "Please sign in to your GIS and paste the code that is obtained below.\n",
      "If a web browser does not automatically open, please navigate to the URL below yourself instead.\n",
      "Opening web browser to navigate to: https://ucsdonline.maps.arcgis.com/sharing/rest/oauth2/authorize?response_type=code&client_id=Elm5V3upnnV17Q3r&redirect_uri=urn%3Aietf%3Awg%3Aoauth%3A2.0%3Aoob&state=nWaZasyzZlU2XpChtMOESgKq3TgEgp&allow_verification=false\n",
      "Enter code obtained on signing in using SAML: ········\n"
     ]
    },
    {
     "name": "stderr",
     "output_type": "stream",
     "text": [
      "/Users/amolkale/Documents/DSE/DSE260-Capstone-Project/capstone/venv3.9/lib/python3.9/site-packages/urllib3/connectionpool.py:1045: InsecureRequestWarning: Unverified HTTPS request is being made to host 'ucsdonline.maps.arcgis.com'. Adding certificate verification is strongly advised. See: https://urllib3.readthedocs.io/en/1.26.x/advanced-usage.html#ssl-warnings\n",
      "  warnings.warn(\n"
     ]
    }
   ],
   "source": [
    "gis = GIS(\"https://ucsdonline.maps.arcgis.com/home\", client_id=get_config(\"arcgis\",\"clientid\"))"
   ]
  },
  {
   "cell_type": "markdown",
   "id": "fe7579ca",
   "metadata": {},
   "source": [
    "`Point Layer`:\n",
    "    Fast Food Restaurants And Convenience Stores in California\n",
    "    URL: https://services1.arcgis.com/eGSDp8lpKe5izqVc/arcgis/rest/services/a20e8e/FeatureServer/0  \n",
    "`Polygon Layer`:  \n",
    "    California State Block Groups\n",
    "    URL: https://services1.arcgis.com/eGSDp8lpKe5izqVc/arcgis/rest/services/acf37e/FeatureServer/0"
   ]
  },
  {
   "cell_type": "code",
   "execution_count": 4,
   "id": "12285f80",
   "metadata": {},
   "outputs": [],
   "source": [
    "biz_lyr = FeatureLayer(url = \"https://services1.arcgis.com/eGSDp8lpKe5izqVc/arcgis/rest/services/a20e8e/FeatureServer/0\",\n",
    "                     gis=gis)\n",
    "cal_block_grp_lyr = FeatureLayer(url=\"https://services1.arcgis.com/eGSDp8lpKe5izqVc/arcgis/rest/services/acf37e/FeatureServer/0\",\n",
    "                                gis=gis)"
   ]
  },
  {
   "cell_type": "code",
   "execution_count": 8,
   "id": "16fd88cb",
   "metadata": {},
   "outputs": [],
   "source": [
    "biz_lyr.container"
   ]
  },
  {
   "cell_type": "code",
   "execution_count": 9,
   "id": "4e1d5de6",
   "metadata": {},
   "outputs": [
    {
     "name": "stderr",
     "output_type": "stream",
     "text": [
      "{\"cost\": 48.236}\n"
     ]
    }
   ],
   "source": [
    "agg_result = aggregate_points(point_layer=biz_lyr,\n",
    "                              polygon_layer=cal_block_grp_lyr,\n",
    "                              keep_boundaries_with_no_points=True,\n",
    "                              output_name=\"Count of Fast Food Restaurants And Convenience Stores by block groups in California\"\n",
    "                )"
   ]
  },
  {
   "cell_type": "code",
   "execution_count": 10,
   "id": "7c2c5945",
   "metadata": {},
   "outputs": [
    {
     "data": {
      "text/html": [
       "<div class=\"item_container\" style=\"height: auto; overflow: hidden; border: 1px solid #cfcfcf; border-radius: 2px; background: #f6fafa; line-height: 1.21429em; padding: 10px;\">\n",
       "                    <div class=\"item_left\" style=\"width: 210px; float: left;\">\n",
       "                       <a href='https://UCSDOnline.maps.arcgis.com/home/item.html?id=0ed15b65ee314ea88ebd031c15598e7d' target='_blank'>\n",
       "                        <img src='http://static.arcgis.com/images/desktopapp.png' class=\"itemThumbnail\">\n",
       "                       </a>\n",
       "                    </div>\n",
       "\n",
       "                    <div class=\"item_right\"     style=\"float: none; width: auto; overflow: hidden;\">\n",
       "                        <a href='https://UCSDOnline.maps.arcgis.com/home/item.html?id=0ed15b65ee314ea88ebd031c15598e7d' target='_blank'><b>Count_of_Fast_Food_Restaurants_And_Convenience_Stores_by_block_groups_in_California</b>\n",
       "                        </a>\n",
       "                        <br/><img src='https://UCSDOnline.maps.arcgis.com/home/js/jsapi/esri/css/images/item_type_icons/featureshosted16.png' style=\"vertical-align:middle;\">Feature Layer Collection by akale_UCSDOnline\n",
       "                        <br/>Last Modified: April 04, 2023\n",
       "                        <br/>0 comments, 0 views\n",
       "                    </div>\n",
       "                </div>\n",
       "                "
      ],
      "text/plain": [
       "<Item title:\"Count_of_Fast_Food_Restaurants_And_Convenience_Stores_by_block_groups_in_California\" type:Feature Layer Collection owner:akale_UCSDOnline>"
      ]
     },
     "execution_count": 10,
     "metadata": {},
     "output_type": "execute_result"
    }
   ],
   "source": [
    "agg_result"
   ]
  },
  {
   "cell_type": "code",
   "execution_count": null,
   "id": "4e145c62",
   "metadata": {},
   "outputs": [],
   "source": []
  }
 ],
 "metadata": {
  "kernelspec": {
   "display_name": "Python 3 (ipykernel)",
   "language": "python",
   "name": "python3"
  },
  "language_info": {
   "codemirror_mode": {
    "name": "ipython",
    "version": 3
   },
   "file_extension": ".py",
   "mimetype": "text/x-python",
   "name": "python",
   "nbconvert_exporter": "python",
   "pygments_lexer": "ipython3",
   "version": "3.9.16"
  }
 },
 "nbformat": 4,
 "nbformat_minor": 5
}
