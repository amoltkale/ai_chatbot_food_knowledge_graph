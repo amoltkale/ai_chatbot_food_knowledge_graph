{
 "cells": [
  {
   "cell_type": "markdown",
   "id": "0ba816cb-6430-4a92-a314-01bc1bc8b197",
   "metadata": {},
   "source": [
    "### Objective:\n",
    "* Get Aggregated Data from `ca_business`, nourish db table. The businesses should be `fast food restaurants` and `Convenience store`\n",
    "* Create a layer using the aggregated count on each business. We could do this by joining this with our base california zip code feature layer.\n",
    "\n",
    "Iterations : Strategy to identify Food desert:\n",
    "1. Total Fast Food Restaurants and Convenience Stores per zip/sqmi/(pop/10000) - Done\n",
    "    * Count - 22655\n",
    "2. Total Fast Food Restaurants and Convenience Stores per zip/(pop/10000) - Done\n",
    "3. Total number of HPF serving businesses( pizza restaurants, ice cream shops, liquor stores etc.) / Total Food serving Businesses.\n",
    "    * Find out all the HPF food serving businesses from ca_business table.\n",
    "        * Liquor store\n",
    "        * Ice cream shop\n",
    "        * Pizza restaurant\n",
    "        * Pizza Takeout\n",
    "        * Sports bar\n",
    "        * Brewpub\n",
    "        * Brewery\n",
    "        * Candy store\n",
    "        * Hamburger restaurant\n",
    "        * Chicken wings restaurant\n",
    "        * Sports bar\n",
    "        * Dessert shop\n",
    "        * Donut shop\n",
    "        * Cocktail bar\n",
    "        * Wine bar\n",
    "        * Wine store\n",
    "        \n",
    "    * Find out Total Food serving Businesses\n",
    "    Single Filter in the categories.\n",
    "    * count of businesses: 39171.\n",
    "    Filter on categories and then filter on names:\n",
    "    * count of businesses: 47535\n",
    "4. Total number of HPF serving businesses(fast food restaurants, convenience stores, pizza restaurants, ice cream shops, liquor stores etc.) / Total nutiritional Food serving Businesses.\n",
    "5. Total number of HPF serving businesses( pizza restaurants, ice cream shops, liquor stores etc.) / Total Food serving Businesses but for a radius of may be X miles from a zip polygon [once we figure out queriying features within a distance].\n"
   ]
  },
  {
   "cell_type": "code",
   "execution_count": 1,
   "id": "710ac5ba-6621-4610-91f0-cc6e2b6d92b6",
   "metadata": {},
   "outputs": [],
   "source": [
    "import pandas as pd\n",
    "import psycopg2\n",
    "import arcgis\n",
    "from arcgis.gis import GIS\n",
    "from arcgis.features import FeatureLayer, FeatureLayerCollection\n",
    "import sys\n",
    "sys.path.append('../../')\n",
    "sys.path.append('../../../')\n",
    "from gis_resources import san_diego_county_zips\n",
    "from utils import get_config"
   ]
  },
  {
   "cell_type": "code",
   "execution_count": 2,
   "id": "2b30b57c-6fc0-4ea6-a0de-22e0d270832b",
   "metadata": {},
   "outputs": [
    {
     "name": "stdout",
     "output_type": "stream",
     "text": [
      "<configparser.ConfigParser object at 0x105aded60>\n",
      "<configparser.ConfigParser object at 0x105adebe0>\n"
     ]
    }
   ],
   "source": [
    "username = get_config(\"arcgis\",\"username\")\n",
    "password = get_config(\"arcgis\",\"passkey\")\n",
    "gis = GIS(\"https://ucsdonline.maps.arcgis.com/home\", username=username, password=password)"
   ]
  },
  {
   "cell_type": "code",
   "execution_count": 3,
   "id": "de85f38b-dc58-4be2-bf17-e28bbac4ce70",
   "metadata": {},
   "outputs": [
    {
     "name": "stdout",
     "output_type": "stream",
     "text": [
      "<configparser.ConfigParser object at 0x12acd2760>\n",
      "<configparser.ConfigParser object at 0x12af5dd60>\n"
     ]
    }
   ],
   "source": [
    "nourish_user = get_config(\"nourish_db\",\"username\")\n",
    "nourish_pswd = get_config(\"nourish_db\",\"passkey\")"
   ]
  },
  {
   "cell_type": "code",
   "execution_count": 4,
   "id": "15015dbf-31d9-4ddc-ae5b-269207697bb4",
   "metadata": {},
   "outputs": [],
   "source": [
    "conn = psycopg2.connect(\n",
    "    host=\"awesome-hw.sdsc.edu\",\n",
    "    database=\"nourish\",\n",
    "    user=nourish_user,\n",
    "    password=nourish_pswd)\n"
   ]
  },
  {
   "cell_type": "code",
   "execution_count": 5,
   "id": "e921d649",
   "metadata": {},
   "outputs": [],
   "source": [
    "# 'Ice cream shop' = any(categories) OR\n",
    "# 'Pizza restaurant' = any(categories) OR\n",
    "# 'Sports bar' = any(categories) OR \n",
    "# 'Brewpub' = any(categories) OR \n",
    "# 'Brewery' = any(categories) OR \n",
    "# 'Candy store' = any(categories) OR\n",
    "# 'Hamburger restaurant' = any(categories)"
   ]
  },
  {
   "cell_type": "code",
   "execution_count": 6,
   "id": "850d9ded-303f-41ac-bb05-34ca6875eff6",
   "metadata": {},
   "outputs": [
    {
     "name": "stdout",
     "output_type": "stream",
     "text": [
      "CPU times: user 6.28 ms, sys: 3.2 ms, total: 9.48 ms\n",
      "Wall time: 467 ms\n"
     ]
    }
   ],
   "source": [
    "%%time\n",
    "# create a cursor\n",
    "cur = conn.cursor()\n",
    "\n",
    "query_str = \"\"\"select zip, count(*)\n",
    "             as count, array_agg(distinct name) as restaurants\n",
    "            from ca_business\n",
    "            where ('Fast food restaurant' = any(categories) OR\n",
    "                   'Convenience store' = any(categories) OR\n",
    "                    'Ice cream shop' = any(categories) OR\n",
    "                    'Pizza restaurant' = any(categories) OR\n",
    "                    'Sports bar' = any(categories) OR \n",
    "                    'Brewpub' = any(categories) OR \n",
    "                    'Brewery' = any(categories) OR \n",
    "                    'Candy store' = any(categories) OR\n",
    "                    'Hamburger restaurant' = any(categories)\n",
    "                   )\n",
    "            group by zip\n",
    "            order by count desc, zip\"\"\"\n",
    "\n",
    "cur.execute(query_str)\n",
    "\n",
    "\n",
    "# display the PostgreSQL database server version\n",
    "ca_business_agg_result = cur.fetchall()\n",
    "       \n",
    "# Close the communication with the PostgreSQL\n",
    "cur.close()"
   ]
  },
  {
   "cell_type": "code",
   "execution_count": 7,
   "id": "9545f53a-a952-4d18-8c49-c629db3e98ba",
   "metadata": {},
   "outputs": [],
   "source": [
    "dataFrame = pd.DataFrame(ca_business_agg_result,\n",
    "              columns=(\"zip_code\",\"biz_cnt\", \"biz_names\")\n",
    "              );\n",
    "dataFrame['biz_names']=dataFrame.biz_names.apply(lambda x: ';'.join(x))\n",
    "dataFrame = dataFrame.dropna(subset=['zip_code'])\n",
    "#dataFrame"
   ]
  },
  {
   "cell_type": "code",
   "execution_count": 8,
   "id": "0d0e902b-a5ac-44ad-8af4-cb8fab8b7b3c",
   "metadata": {},
   "outputs": [],
   "source": [
    "# converting 'Weight' from float to int\n",
    "dataFrame['zip_code'] = dataFrame['zip_code'].astype(int)\n",
    "dataFrame['zip_code'] = dataFrame['zip_code'].astype(str)"
   ]
  },
  {
   "cell_type": "code",
   "execution_count": 9,
   "id": "6d71fa73-f54c-4cab-abc0-97b416a49bae",
   "metadata": {},
   "outputs": [],
   "source": [
    "#dataFrame"
   ]
  },
  {
   "cell_type": "markdown",
   "id": "bfaeeb97-dc95-4e9d-a9b7-241710b890c9",
   "metadata": {},
   "source": [
    "Let's get the california zip code layer and do a join to create a new updated layer.  \n",
    "`TOGO`: We should ideally update the layer but I do not know the process yet and we would not touch the base layer for now."
   ]
  },
  {
   "cell_type": "markdown",
   "id": "7f2f5215-e4e4-49c5-9b5b-b1a0fe7c1621",
   "metadata": {},
   "source": [
    "`Base california Zip code layer`: California Zip Codes 1.2\n",
    "\n",
    "`FL URL`: https://services1.arcgis.com/eGSDp8lpKe5izqVc/arcgis/rest/services/ae9a0c/FeatureServer"
   ]
  },
  {
   "cell_type": "code",
   "execution_count": 10,
   "id": "4389c6c3-d209-4fb2-a50c-fb0b23b22ccd",
   "metadata": {},
   "outputs": [],
   "source": [
    "flc = FeatureLayerCollection(gis=gis,\n",
    "                             url=\"https://services1.arcgis.com/eGSDp8lpKe5izqVc/arcgis/rest/services/ae9a0c/FeatureServer\")"
   ]
  },
  {
   "cell_type": "code",
   "execution_count": 11,
   "id": "ccaad2e0-fe94-4546-bc6d-e09b83577d38",
   "metadata": {},
   "outputs": [],
   "source": [
    "fs = flc.layers[0].query()"
   ]
  },
  {
   "cell_type": "code",
   "execution_count": 12,
   "id": "d9a89caf-b4e2-4222-9dfb-8e13bf0d4bbc",
   "metadata": {},
   "outputs": [
    {
     "name": "stdout",
     "output_type": "stream",
     "text": [
      "Shape: (1721, 11)\n"
     ]
    }
   ],
   "source": [
    "zip_cd_base_sdf = fs.sdf\n",
    "print(f\"Shape: {zip_cd_base_sdf.shape}\")\n",
    "#zip_cd_base_sdf.head(4)\n"
   ]
  },
  {
   "cell_type": "code",
   "execution_count": 13,
   "id": "e0d5e31e-0ded-4c30-ae04-0bfeb4b0da3a",
   "metadata": {},
   "outputs": [
    {
     "name": "stdout",
     "output_type": "stream",
     "text": [
      "Shape: (1721, 14)\n"
     ]
    }
   ],
   "source": [
    "updated_sdf=pd.merge(zip_cd_base_sdf,dataFrame, left_on='ZIP_CODE',right_on='zip_code', how='left')\n",
    "print(f\"Shape: {updated_sdf.shape}\")\n",
    "#updated_sdf.head(4)"
   ]
  },
  {
   "cell_type": "code",
   "execution_count": 14,
   "id": "15493622",
   "metadata": {},
   "outputs": [],
   "source": [
    "# Let's filter only san diego zips\n",
    "sd_zips = san_diego_county_zips()\n",
    "updated_sdf = updated_sdf[updated_sdf['ZIP_CODE'].isin(sd_zips)]"
   ]
  },
  {
   "cell_type": "code",
   "execution_count": 15,
   "id": "35697d0a-6f52-483e-a400-ff1d7320e8a3",
   "metadata": {},
   "outputs": [
    {
     "data": {
      "text/plain": [
       "14"
      ]
     },
     "execution_count": 15,
     "metadata": {},
     "output_type": "execute_result"
    }
   ],
   "source": [
    "# Number of zips with none of our business of interests\n",
    "updated_sdf['biz_cnt'].isna().sum()"
   ]
  },
  {
   "cell_type": "code",
   "execution_count": 16,
   "id": "34214094",
   "metadata": {},
   "outputs": [
    {
     "data": {
      "text/plain": [
       "95"
      ]
     },
     "execution_count": 16,
     "metadata": {},
     "output_type": "execute_result"
    }
   ],
   "source": [
    "# Number of zips with our business of interests\n",
    "updated_sdf['biz_cnt'].notna().sum()"
   ]
  },
  {
   "cell_type": "code",
   "execution_count": 17,
   "id": "6cdd3d52-1e50-4809-b458-43ae3f07220a",
   "metadata": {},
   "outputs": [
    {
     "data": {
      "text/html": [
       "<div>\n",
       "<style scoped>\n",
       "    .dataframe tbody tr th:only-of-type {\n",
       "        vertical-align: middle;\n",
       "    }\n",
       "\n",
       "    .dataframe tbody tr th {\n",
       "        vertical-align: top;\n",
       "    }\n",
       "\n",
       "    .dataframe thead th {\n",
       "        text-align: right;\n",
       "    }\n",
       "</style>\n",
       "<table border=\"1\" class=\"dataframe\">\n",
       "  <thead>\n",
       "    <tr style=\"text-align: right;\">\n",
       "      <th></th>\n",
       "      <th>ZIP_CODE</th>\n",
       "      <th>PO_NAME</th>\n",
       "      <th>STATE</th>\n",
       "      <th>SQMI</th>\n",
       "      <th>SHAPE</th>\n",
       "      <th>biz_cnt</th>\n",
       "      <th>biz_names</th>\n",
       "    </tr>\n",
       "  </thead>\n",
       "  <tbody>\n",
       "    <tr>\n",
       "      <th>340</th>\n",
       "      <td>91901</td>\n",
       "      <td>Alpine</td>\n",
       "      <td>CA</td>\n",
       "      <td>98.71</td>\n",
       "      <td>{'rings': [[[-12980686.298148, 3868599.6407556...</td>\n",
       "      <td>11.0</td>\n",
       "      <td>Carl's Jr.;Chevron;CVS;KFC;Little Caesars Pizz...</td>\n",
       "    </tr>\n",
       "    <tr>\n",
       "      <th>341</th>\n",
       "      <td>91902</td>\n",
       "      <td>Bonita</td>\n",
       "      <td>CA</td>\n",
       "      <td>12.87</td>\n",
       "      <td>{'rings': [[[-13020538.2306131, 3851695.198877...</td>\n",
       "      <td>8.0</td>\n",
       "      <td>7-Eleven;Colima's Mexican Foods;Cotijas Taco S...</td>\n",
       "    </tr>\n",
       "    <tr>\n",
       "      <th>342</th>\n",
       "      <td>91905</td>\n",
       "      <td>Boulevard</td>\n",
       "      <td>CA</td>\n",
       "      <td>130.91</td>\n",
       "      <td>{'rings': [[[-12936268.4075063, 3850327.339341...</td>\n",
       "      <td>1.0</td>\n",
       "      <td>Mountain Top Market &amp; Gas</td>\n",
       "    </tr>\n",
       "    <tr>\n",
       "      <th>343</th>\n",
       "      <td>91906</td>\n",
       "      <td>Campo</td>\n",
       "      <td>CA</td>\n",
       "      <td>155.88</td>\n",
       "      <td>{'rings': [[[-12952835.6198649, 3855658.061591...</td>\n",
       "      <td>4.0</td>\n",
       "      <td>Cameron Corners;Circle K;Sinclair;Subway</td>\n",
       "    </tr>\n",
       "  </tbody>\n",
       "</table>\n",
       "</div>"
      ],
      "text/plain": [
       "    ZIP_CODE    PO_NAME STATE    SQMI  \\\n",
       "340    91901     Alpine    CA   98.71   \n",
       "341    91902     Bonita    CA   12.87   \n",
       "342    91905  Boulevard    CA  130.91   \n",
       "343    91906      Campo    CA  155.88   \n",
       "\n",
       "                                                 SHAPE  biz_cnt  \\\n",
       "340  {'rings': [[[-12980686.298148, 3868599.6407556...     11.0   \n",
       "341  {'rings': [[[-13020538.2306131, 3851695.198877...      8.0   \n",
       "342  {'rings': [[[-12936268.4075063, 3850327.339341...      1.0   \n",
       "343  {'rings': [[[-12952835.6198649, 3855658.061591...      4.0   \n",
       "\n",
       "                                             biz_names  \n",
       "340  Carl's Jr.;Chevron;CVS;KFC;Little Caesars Pizz...  \n",
       "341  7-Eleven;Colima's Mexican Foods;Cotijas Taco S...  \n",
       "342                          Mountain Top Market & Gas  \n",
       "343           Cameron Corners;Circle K;Sinclair;Subway  "
      ]
     },
     "execution_count": 17,
     "metadata": {},
     "output_type": "execute_result"
    }
   ],
   "source": [
    "# Removing some unnecessary columns\n",
    "updated_sdf = updated_sdf.drop(['FID','zip_code','Shape__Are','Shape__Area','Shape__Len','Shape__Length','OBJECTID'], axis=1)\n",
    "updated_sdf.head(4)"
   ]
  },
  {
   "cell_type": "code",
   "execution_count": 18,
   "id": "57c91720",
   "metadata": {},
   "outputs": [
    {
     "data": {
      "text/plain": [
       "109"
      ]
     },
     "execution_count": 18,
     "metadata": {},
     "output_type": "execute_result"
    }
   ],
   "source": [
    "# Checking unique Zip codes.\n",
    "updated_sdf['ZIP_CODE'].unique().size"
   ]
  },
  {
   "cell_type": "code",
   "execution_count": 19,
   "id": "0ffa0e79",
   "metadata": {},
   "outputs": [
    {
     "data": {
      "text/html": [
       "<div>\n",
       "<style scoped>\n",
       "    .dataframe tbody tr th:only-of-type {\n",
       "        vertical-align: middle;\n",
       "    }\n",
       "\n",
       "    .dataframe tbody tr th {\n",
       "        vertical-align: top;\n",
       "    }\n",
       "\n",
       "    .dataframe thead th {\n",
       "        text-align: right;\n",
       "    }\n",
       "</style>\n",
       "<table border=\"1\" class=\"dataframe\">\n",
       "  <thead>\n",
       "    <tr style=\"text-align: right;\">\n",
       "      <th></th>\n",
       "      <th>std_geography_id</th>\n",
       "      <th>totpop_cy</th>\n",
       "    </tr>\n",
       "  </thead>\n",
       "  <tbody>\n",
       "    <tr>\n",
       "      <th>0</th>\n",
       "      <td>91910</td>\n",
       "      <td>79329.0</td>\n",
       "    </tr>\n",
       "    <tr>\n",
       "      <th>1</th>\n",
       "      <td>91911</td>\n",
       "      <td>88646.0</td>\n",
       "    </tr>\n",
       "    <tr>\n",
       "      <th>2</th>\n",
       "      <td>91913</td>\n",
       "      <td>54728.0</td>\n",
       "    </tr>\n",
       "    <tr>\n",
       "      <th>3</th>\n",
       "      <td>91914</td>\n",
       "      <td>17394.0</td>\n",
       "    </tr>\n",
       "    <tr>\n",
       "      <th>4</th>\n",
       "      <td>91915</td>\n",
       "      <td>34756.0</td>\n",
       "    </tr>\n",
       "    <tr>\n",
       "      <th>...</th>\n",
       "      <td>...</td>\n",
       "      <td>...</td>\n",
       "    </tr>\n",
       "    <tr>\n",
       "      <th>109</th>\n",
       "      <td>92152</td>\n",
       "      <td>298.0</td>\n",
       "    </tr>\n",
       "    <tr>\n",
       "      <th>110</th>\n",
       "      <td>92154</td>\n",
       "      <td>88330.0</td>\n",
       "    </tr>\n",
       "    <tr>\n",
       "      <th>111</th>\n",
       "      <td>92155</td>\n",
       "      <td>1399.0</td>\n",
       "    </tr>\n",
       "    <tr>\n",
       "      <th>112</th>\n",
       "      <td>92161</td>\n",
       "      <td>65.0</td>\n",
       "    </tr>\n",
       "    <tr>\n",
       "      <th>113</th>\n",
       "      <td>92672</td>\n",
       "      <td>36774.0</td>\n",
       "    </tr>\n",
       "  </tbody>\n",
       "</table>\n",
       "<p>114 rows × 2 columns</p>\n",
       "</div>"
      ],
      "text/plain": [
       "    std_geography_id  totpop_cy\n",
       "0              91910    79329.0\n",
       "1              91911    88646.0\n",
       "2              91913    54728.0\n",
       "3              91914    17394.0\n",
       "4              91915    34756.0\n",
       "..               ...        ...\n",
       "109            92152      298.0\n",
       "110            92154    88330.0\n",
       "111            92155     1399.0\n",
       "112            92161       65.0\n",
       "113            92672    36774.0\n",
       "\n",
       "[114 rows x 2 columns]"
      ]
     },
     "execution_count": 19,
     "metadata": {},
     "output_type": "execute_result"
    }
   ],
   "source": [
    "# Get population of the zip codes from demographics ?\n",
    "zip_demo_data = pd.read_csv('../../output/San_Diego_County/zip5/esri_demographics.csv')\n",
    "zip_demo_data = zip_demo_data[['std_geography_id','totpop_cy']]\n",
    "zip_demo_data['std_geography_id'] = zip_demo_data['std_geography_id'].astype(str)\n",
    "zip_demo_data"
   ]
  },
  {
   "cell_type": "code",
   "execution_count": 20,
   "id": "6873d68c",
   "metadata": {},
   "outputs": [
    {
     "data": {
      "text/html": [
       "<div>\n",
       "<style scoped>\n",
       "    .dataframe tbody tr th:only-of-type {\n",
       "        vertical-align: middle;\n",
       "    }\n",
       "\n",
       "    .dataframe tbody tr th {\n",
       "        vertical-align: top;\n",
       "    }\n",
       "\n",
       "    .dataframe thead th {\n",
       "        text-align: right;\n",
       "    }\n",
       "</style>\n",
       "<table border=\"1\" class=\"dataframe\">\n",
       "  <thead>\n",
       "    <tr style=\"text-align: right;\">\n",
       "      <th></th>\n",
       "      <th>ZIP_CODE</th>\n",
       "      <th>PO_NAME</th>\n",
       "      <th>STATE</th>\n",
       "      <th>SQMI</th>\n",
       "      <th>SHAPE</th>\n",
       "      <th>biz_cnt</th>\n",
       "      <th>biz_names</th>\n",
       "      <th>std_geography_id</th>\n",
       "      <th>totpop_cy</th>\n",
       "    </tr>\n",
       "  </thead>\n",
       "  <tbody>\n",
       "    <tr>\n",
       "      <th>0</th>\n",
       "      <td>91901</td>\n",
       "      <td>Alpine</td>\n",
       "      <td>CA</td>\n",
       "      <td>98.71</td>\n",
       "      <td>{'rings': [[[-12980686.298148, 3868599.6407556...</td>\n",
       "      <td>11.0</td>\n",
       "      <td>Carl's Jr.;Chevron;CVS;KFC;Little Caesars Pizz...</td>\n",
       "      <td>91901</td>\n",
       "      <td>17778.0</td>\n",
       "    </tr>\n",
       "    <tr>\n",
       "      <th>1</th>\n",
       "      <td>91902</td>\n",
       "      <td>Bonita</td>\n",
       "      <td>CA</td>\n",
       "      <td>12.87</td>\n",
       "      <td>{'rings': [[[-13020538.2306131, 3851695.198877...</td>\n",
       "      <td>8.0</td>\n",
       "      <td>7-Eleven;Colima's Mexican Foods;Cotijas Taco S...</td>\n",
       "      <td>91902</td>\n",
       "      <td>17713.0</td>\n",
       "    </tr>\n",
       "    <tr>\n",
       "      <th>2</th>\n",
       "      <td>91905</td>\n",
       "      <td>Boulevard</td>\n",
       "      <td>CA</td>\n",
       "      <td>130.91</td>\n",
       "      <td>{'rings': [[[-12936268.4075063, 3850327.339341...</td>\n",
       "      <td>1.0</td>\n",
       "      <td>Mountain Top Market &amp; Gas</td>\n",
       "      <td>91905</td>\n",
       "      <td>1780.0</td>\n",
       "    </tr>\n",
       "    <tr>\n",
       "      <th>3</th>\n",
       "      <td>91906</td>\n",
       "      <td>Campo</td>\n",
       "      <td>CA</td>\n",
       "      <td>155.88</td>\n",
       "      <td>{'rings': [[[-12952835.6198649, 3855658.061591...</td>\n",
       "      <td>4.0</td>\n",
       "      <td>Cameron Corners;Circle K;Sinclair;Subway</td>\n",
       "      <td>91906</td>\n",
       "      <td>3860.0</td>\n",
       "    </tr>\n",
       "    <tr>\n",
       "      <th>4</th>\n",
       "      <td>91910</td>\n",
       "      <td>Chula Vista</td>\n",
       "      <td>CA</td>\n",
       "      <td>11.93</td>\n",
       "      <td>{'rings': [[[-13032484.0253008, 3849772.356766...</td>\n",
       "      <td>52.0</td>\n",
       "      <td>7-Eleven;ampm;Burger King;Canada Steak Burger;...</td>\n",
       "      <td>91910</td>\n",
       "      <td>79329.0</td>\n",
       "    </tr>\n",
       "    <tr>\n",
       "      <th>...</th>\n",
       "      <td>...</td>\n",
       "      <td>...</td>\n",
       "      <td>...</td>\n",
       "      <td>...</td>\n",
       "      <td>...</td>\n",
       "      <td>...</td>\n",
       "      <td>...</td>\n",
       "      <td>...</td>\n",
       "      <td>...</td>\n",
       "    </tr>\n",
       "    <tr>\n",
       "      <th>104</th>\n",
       "      <td>92155</td>\n",
       "      <td>San Diego</td>\n",
       "      <td>CA</td>\n",
       "      <td>0.23</td>\n",
       "      <td>{'rings': [[[-13041507.8170711, 3852542.901068...</td>\n",
       "      <td>1.0</td>\n",
       "      <td>Subway</td>\n",
       "      <td>92155</td>\n",
       "      <td>1399.0</td>\n",
       "    </tr>\n",
       "    <tr>\n",
       "      <th>105</th>\n",
       "      <td>92173</td>\n",
       "      <td>San Ysidro</td>\n",
       "      <td>CA</td>\n",
       "      <td>3.59</td>\n",
       "      <td>{'rings': [[[-13027361.2248301, 3834756.011745...</td>\n",
       "      <td>27.0</td>\n",
       "      <td>7-Eleven;Burger King;Carl's Jr.;CARL'S JR. 110...</td>\n",
       "      <td>92173</td>\n",
       "      <td>29792.0</td>\n",
       "    </tr>\n",
       "    <tr>\n",
       "      <th>106</th>\n",
       "      <td>92182</td>\n",
       "      <td>San Diego</td>\n",
       "      <td>CA</td>\n",
       "      <td>0.28</td>\n",
       "      <td>{'rings': [[[-13031764.7900486, 3866068.797411...</td>\n",
       "      <td>2.0</td>\n",
       "      <td>Chipotle Mexican Grill;The Habit Burger Grill</td>\n",
       "      <td>92182</td>\n",
       "      <td>112.0</td>\n",
       "    </tr>\n",
       "    <tr>\n",
       "      <th>107</th>\n",
       "      <td>92536</td>\n",
       "      <td>Aguanga</td>\n",
       "      <td>CA</td>\n",
       "      <td>94.93</td>\n",
       "      <td>{'rings': [[[-13004733.3119469, 3972594.856524...</td>\n",
       "      <td>NaN</td>\n",
       "      <td>NaN</td>\n",
       "      <td>92536</td>\n",
       "      <td>3893.0</td>\n",
       "    </tr>\n",
       "    <tr>\n",
       "      <th>108</th>\n",
       "      <td>92672</td>\n",
       "      <td>San Clemente</td>\n",
       "      <td>CA</td>\n",
       "      <td>32.77</td>\n",
       "      <td>{'rings': [[[-13088130.0895787, 3955629.687965...</td>\n",
       "      <td>27.0</td>\n",
       "      <td>7-Eleven;Adolfo's Mexican Food;Burger Junkies;...</td>\n",
       "      <td>92672</td>\n",
       "      <td>36774.0</td>\n",
       "    </tr>\n",
       "  </tbody>\n",
       "</table>\n",
       "<p>109 rows × 9 columns</p>\n",
       "</div>"
      ],
      "text/plain": [
       "    ZIP_CODE       PO_NAME STATE    SQMI  \\\n",
       "0      91901        Alpine    CA   98.71   \n",
       "1      91902        Bonita    CA   12.87   \n",
       "2      91905     Boulevard    CA  130.91   \n",
       "3      91906         Campo    CA  155.88   \n",
       "4      91910   Chula Vista    CA   11.93   \n",
       "..       ...           ...   ...     ...   \n",
       "104    92155     San Diego    CA    0.23   \n",
       "105    92173    San Ysidro    CA    3.59   \n",
       "106    92182     San Diego    CA    0.28   \n",
       "107    92536       Aguanga    CA   94.93   \n",
       "108    92672  San Clemente    CA   32.77   \n",
       "\n",
       "                                                 SHAPE  biz_cnt  \\\n",
       "0    {'rings': [[[-12980686.298148, 3868599.6407556...     11.0   \n",
       "1    {'rings': [[[-13020538.2306131, 3851695.198877...      8.0   \n",
       "2    {'rings': [[[-12936268.4075063, 3850327.339341...      1.0   \n",
       "3    {'rings': [[[-12952835.6198649, 3855658.061591...      4.0   \n",
       "4    {'rings': [[[-13032484.0253008, 3849772.356766...     52.0   \n",
       "..                                                 ...      ...   \n",
       "104  {'rings': [[[-13041507.8170711, 3852542.901068...      1.0   \n",
       "105  {'rings': [[[-13027361.2248301, 3834756.011745...     27.0   \n",
       "106  {'rings': [[[-13031764.7900486, 3866068.797411...      2.0   \n",
       "107  {'rings': [[[-13004733.3119469, 3972594.856524...      NaN   \n",
       "108  {'rings': [[[-13088130.0895787, 3955629.687965...     27.0   \n",
       "\n",
       "                                             biz_names std_geography_id  \\\n",
       "0    Carl's Jr.;Chevron;CVS;KFC;Little Caesars Pizz...            91901   \n",
       "1    7-Eleven;Colima's Mexican Foods;Cotijas Taco S...            91902   \n",
       "2                            Mountain Top Market & Gas            91905   \n",
       "3             Cameron Corners;Circle K;Sinclair;Subway            91906   \n",
       "4    7-Eleven;ampm;Burger King;Canada Steak Burger;...            91910   \n",
       "..                                                 ...              ...   \n",
       "104                                             Subway            92155   \n",
       "105  7-Eleven;Burger King;Carl's Jr.;CARL'S JR. 110...            92173   \n",
       "106      Chipotle Mexican Grill;The Habit Burger Grill            92182   \n",
       "107                                                NaN            92536   \n",
       "108  7-Eleven;Adolfo's Mexican Food;Burger Junkies;...            92672   \n",
       "\n",
       "     totpop_cy  \n",
       "0      17778.0  \n",
       "1      17713.0  \n",
       "2       1780.0  \n",
       "3       3860.0  \n",
       "4      79329.0  \n",
       "..         ...  \n",
       "104     1399.0  \n",
       "105    29792.0  \n",
       "106      112.0  \n",
       "107     3893.0  \n",
       "108    36774.0  \n",
       "\n",
       "[109 rows x 9 columns]"
      ]
     },
     "execution_count": 20,
     "metadata": {},
     "output_type": "execute_result"
    }
   ],
   "source": [
    "# Getting the total population from demographics data from our zip code level demographics feature enrichement.\n",
    "final_merged = pd.merge(updated_sdf,zip_demo_data, left_on='ZIP_CODE',right_on='std_geography_id', how='left')\n",
    "final_merged"
   ]
  },
  {
   "cell_type": "code",
   "execution_count": 21,
   "id": "f214a4c2",
   "metadata": {},
   "outputs": [
    {
     "data": {
      "text/plain": [
       "ZIP_CODE                                                        92096\n",
       "PO_NAME                                                    San Marcos\n",
       "STATE                                                              CA\n",
       "SQMI                                                             0.35\n",
       "SHAPE               {'rings': [[[-13041416.4237302, 3912832.573622...\n",
       "biz_cnt                                                           NaN\n",
       "biz_names                                                         NaN\n",
       "std_geography_id                                                92096\n",
       "totpop_cy                                                         0.0\n",
       "Name: 66, dtype: object"
      ]
     },
     "execution_count": 21,
     "metadata": {},
     "output_type": "execute_result"
    }
   ],
   "source": [
    "# Check a zip with minimum population\n",
    "final_merged.loc[final_merged['totpop_cy'].idxmin()]"
   ]
  },
  {
   "cell_type": "code",
   "execution_count": 22,
   "id": "81916fba-5ca9-48fb-93b9-5bd06fd00fff",
   "metadata": {},
   "outputs": [],
   "source": [
    "# For example, if a certain region has a population of 1000 people, \n",
    "# and there are 50 ffr in the region with a total area of 25 square miles, \n",
    "# the density of ffr would be 50 / 25 = 2 fr per square mile. To normalize \n",
    "# this by population, you would divide 2 by 1000, which gives a normalized density \n",
    "# of 0.002 FFR per person in the region.\n",
    "\n",
    "# if we want to do per 1000 person, lets devide the population by 1000. So normalized density would be 2 FFR per 1000 people.\n",
    "def normalize_zip(num_biz, sqmi, pop, norm_pop):\n",
    "    return num_biz/sqmi/(pop/norm_pop)\n",
    "\n",
    "def normalize_zip_wo_sqmi(num_biz, sqmi, pop, norm_pop):\n",
    "    return num_biz/(pop/norm_pop)\n"
   ]
  },
  {
   "cell_type": "code",
   "execution_count": 23,
   "id": "bcdbb678",
   "metadata": {},
   "outputs": [
    {
     "data": {
      "text/html": [
       "<div>\n",
       "<style scoped>\n",
       "    .dataframe tbody tr th:only-of-type {\n",
       "        vertical-align: middle;\n",
       "    }\n",
       "\n",
       "    .dataframe tbody tr th {\n",
       "        vertical-align: top;\n",
       "    }\n",
       "\n",
       "    .dataframe thead th {\n",
       "        text-align: right;\n",
       "    }\n",
       "</style>\n",
       "<table border=\"1\" class=\"dataframe\">\n",
       "  <thead>\n",
       "    <tr style=\"text-align: right;\">\n",
       "      <th></th>\n",
       "      <th>ZIP_CODE</th>\n",
       "      <th>PO_NAME</th>\n",
       "      <th>STATE</th>\n",
       "      <th>SQMI</th>\n",
       "      <th>SHAPE</th>\n",
       "      <th>biz_cnt</th>\n",
       "      <th>biz_names</th>\n",
       "      <th>std_geography_id</th>\n",
       "      <th>totpop_cy</th>\n",
       "    </tr>\n",
       "  </thead>\n",
       "  <tbody>\n",
       "    <tr>\n",
       "      <th>66</th>\n",
       "      <td>92096</td>\n",
       "      <td>San Marcos</td>\n",
       "      <td>CA</td>\n",
       "      <td>0.35</td>\n",
       "      <td>{'rings': [[[-13041416.4237302, 3912832.573622...</td>\n",
       "      <td>NaN</td>\n",
       "      <td>NaN</td>\n",
       "      <td>92096</td>\n",
       "      <td>0.0</td>\n",
       "    </tr>\n",
       "  </tbody>\n",
       "</table>\n",
       "</div>"
      ],
      "text/plain": [
       "   ZIP_CODE     PO_NAME STATE  SQMI  \\\n",
       "66    92096  San Marcos    CA  0.35   \n",
       "\n",
       "                                                SHAPE  biz_cnt biz_names  \\\n",
       "66  {'rings': [[[-13041416.4237302, 3912832.573622...      NaN       NaN   \n",
       "\n",
       "   std_geography_id  totpop_cy  \n",
       "66            92096        0.0  "
      ]
     },
     "execution_count": 23,
     "metadata": {},
     "output_type": "execute_result"
    }
   ],
   "source": [
    "final_merged[final_merged['totpop_cy']==0.0]"
   ]
  },
  {
   "cell_type": "code",
   "execution_count": 24,
   "id": "2a251d0d",
   "metadata": {},
   "outputs": [],
   "source": [
    "# Removing the 0.0 pop. zips.. WHYYYY? \n",
    "final_merged = final_merged[final_merged['totpop_cy']>0.0]"
   ]
  },
  {
   "cell_type": "code",
   "execution_count": 25,
   "id": "8f721348",
   "metadata": {},
   "outputs": [
    {
     "name": "stderr",
     "output_type": "stream",
     "text": [
      "/var/folders/jg/d8_zwblj5ql38q843xmy7h9r0000gp/T/ipykernel_69998/3024816389.py:2: SettingWithCopyWarning: \n",
      "A value is trying to be set on a copy of a slice from a DataFrame.\n",
      "Try using .loc[row_indexer,col_indexer] = value instead\n",
      "\n",
      "See the caveats in the documentation: https://pandas.pydata.org/pandas-docs/stable/user_guide/indexing.html#returning-a-view-versus-a-copy\n",
      "  final_merged['n_density'] = final_merged.apply(lambda x: normalize_zip_wo_sqmi(x.biz_cnt, x.SQMI, x.totpop_cy, 10000), axis=1)\n"
     ]
    }
   ],
   "source": [
    "## Calculating the normalized density per of fast food rest per square mile per 10k people.\n",
    "final_merged['n_density'] = final_merged.apply(lambda x: normalize_zip_wo_sqmi(x.biz_cnt, x.SQMI, x.totpop_cy, 10000), axis=1)"
   ]
  },
  {
   "cell_type": "code",
   "execution_count": 26,
   "id": "08378794",
   "metadata": {},
   "outputs": [],
   "source": [
    "# std_geography_id is nothing but zip code, so removing it.\n",
    "final_merged = final_merged.drop(['std_geography_id'], axis=1)"
   ]
  },
  {
   "cell_type": "code",
   "execution_count": 27,
   "id": "5dde5371",
   "metadata": {},
   "outputs": [
    {
     "data": {
      "text/html": [
       "<div>\n",
       "<style scoped>\n",
       "    .dataframe tbody tr th:only-of-type {\n",
       "        vertical-align: middle;\n",
       "    }\n",
       "\n",
       "    .dataframe tbody tr th {\n",
       "        vertical-align: top;\n",
       "    }\n",
       "\n",
       "    .dataframe thead th {\n",
       "        text-align: right;\n",
       "    }\n",
       "</style>\n",
       "<table border=\"1\" class=\"dataframe\">\n",
       "  <thead>\n",
       "    <tr style=\"text-align: right;\">\n",
       "      <th></th>\n",
       "      <th>ZIP_CODE</th>\n",
       "      <th>PO_NAME</th>\n",
       "      <th>STATE</th>\n",
       "      <th>SQMI</th>\n",
       "      <th>SHAPE</th>\n",
       "      <th>biz_cnt</th>\n",
       "      <th>biz_names</th>\n",
       "      <th>totpop_cy</th>\n",
       "      <th>n_density</th>\n",
       "    </tr>\n",
       "  </thead>\n",
       "  <tbody>\n",
       "    <tr>\n",
       "      <th>0</th>\n",
       "      <td>91901</td>\n",
       "      <td>Alpine</td>\n",
       "      <td>CA</td>\n",
       "      <td>98.71</td>\n",
       "      <td>{'rings': [[[-12980686.298148, 3868599.6407556...</td>\n",
       "      <td>11.0</td>\n",
       "      <td>Carl's Jr.;Chevron;CVS;KFC;Little Caesars Pizz...</td>\n",
       "      <td>17778.0</td>\n",
       "      <td>6.187423</td>\n",
       "    </tr>\n",
       "    <tr>\n",
       "      <th>1</th>\n",
       "      <td>91902</td>\n",
       "      <td>Bonita</td>\n",
       "      <td>CA</td>\n",
       "      <td>12.87</td>\n",
       "      <td>{'rings': [[[-13020538.2306131, 3851695.198877...</td>\n",
       "      <td>8.0</td>\n",
       "      <td>7-Eleven;Colima's Mexican Foods;Cotijas Taco S...</td>\n",
       "      <td>17713.0</td>\n",
       "      <td>4.516457</td>\n",
       "    </tr>\n",
       "    <tr>\n",
       "      <th>2</th>\n",
       "      <td>91905</td>\n",
       "      <td>Boulevard</td>\n",
       "      <td>CA</td>\n",
       "      <td>130.91</td>\n",
       "      <td>{'rings': [[[-12936268.4075063, 3850327.339341...</td>\n",
       "      <td>1.0</td>\n",
       "      <td>Mountain Top Market &amp; Gas</td>\n",
       "      <td>1780.0</td>\n",
       "      <td>5.617978</td>\n",
       "    </tr>\n",
       "    <tr>\n",
       "      <th>3</th>\n",
       "      <td>91906</td>\n",
       "      <td>Campo</td>\n",
       "      <td>CA</td>\n",
       "      <td>155.88</td>\n",
       "      <td>{'rings': [[[-12952835.6198649, 3855658.061591...</td>\n",
       "      <td>4.0</td>\n",
       "      <td>Cameron Corners;Circle K;Sinclair;Subway</td>\n",
       "      <td>3860.0</td>\n",
       "      <td>10.362694</td>\n",
       "    </tr>\n",
       "    <tr>\n",
       "      <th>4</th>\n",
       "      <td>91910</td>\n",
       "      <td>Chula Vista</td>\n",
       "      <td>CA</td>\n",
       "      <td>11.93</td>\n",
       "      <td>{'rings': [[[-13032484.0253008, 3849772.356766...</td>\n",
       "      <td>52.0</td>\n",
       "      <td>7-Eleven;ampm;Burger King;Canada Steak Burger;...</td>\n",
       "      <td>79329.0</td>\n",
       "      <td>6.554980</td>\n",
       "    </tr>\n",
       "    <tr>\n",
       "      <th>...</th>\n",
       "      <td>...</td>\n",
       "      <td>...</td>\n",
       "      <td>...</td>\n",
       "      <td>...</td>\n",
       "      <td>...</td>\n",
       "      <td>...</td>\n",
       "      <td>...</td>\n",
       "      <td>...</td>\n",
       "      <td>...</td>\n",
       "    </tr>\n",
       "    <tr>\n",
       "      <th>104</th>\n",
       "      <td>92155</td>\n",
       "      <td>San Diego</td>\n",
       "      <td>CA</td>\n",
       "      <td>0.23</td>\n",
       "      <td>{'rings': [[[-13041507.8170711, 3852542.901068...</td>\n",
       "      <td>1.0</td>\n",
       "      <td>Subway</td>\n",
       "      <td>1399.0</td>\n",
       "      <td>7.147963</td>\n",
       "    </tr>\n",
       "    <tr>\n",
       "      <th>105</th>\n",
       "      <td>92173</td>\n",
       "      <td>San Ysidro</td>\n",
       "      <td>CA</td>\n",
       "      <td>3.59</td>\n",
       "      <td>{'rings': [[[-13027361.2248301, 3834756.011745...</td>\n",
       "      <td>27.0</td>\n",
       "      <td>7-Eleven;Burger King;Carl's Jr.;CARL'S JR. 110...</td>\n",
       "      <td>29792.0</td>\n",
       "      <td>9.062836</td>\n",
       "    </tr>\n",
       "    <tr>\n",
       "      <th>106</th>\n",
       "      <td>92182</td>\n",
       "      <td>San Diego</td>\n",
       "      <td>CA</td>\n",
       "      <td>0.28</td>\n",
       "      <td>{'rings': [[[-13031764.7900486, 3866068.797411...</td>\n",
       "      <td>2.0</td>\n",
       "      <td>Chipotle Mexican Grill;The Habit Burger Grill</td>\n",
       "      <td>112.0</td>\n",
       "      <td>178.571429</td>\n",
       "    </tr>\n",
       "    <tr>\n",
       "      <th>107</th>\n",
       "      <td>92536</td>\n",
       "      <td>Aguanga</td>\n",
       "      <td>CA</td>\n",
       "      <td>94.93</td>\n",
       "      <td>{'rings': [[[-13004733.3119469, 3972594.856524...</td>\n",
       "      <td>NaN</td>\n",
       "      <td>NaN</td>\n",
       "      <td>3893.0</td>\n",
       "      <td>NaN</td>\n",
       "    </tr>\n",
       "    <tr>\n",
       "      <th>108</th>\n",
       "      <td>92672</td>\n",
       "      <td>San Clemente</td>\n",
       "      <td>CA</td>\n",
       "      <td>32.77</td>\n",
       "      <td>{'rings': [[[-13088130.0895787, 3955629.687965...</td>\n",
       "      <td>27.0</td>\n",
       "      <td>7-Eleven;Adolfo's Mexican Food;Burger Junkies;...</td>\n",
       "      <td>36774.0</td>\n",
       "      <td>7.342144</td>\n",
       "    </tr>\n",
       "  </tbody>\n",
       "</table>\n",
       "<p>108 rows × 9 columns</p>\n",
       "</div>"
      ],
      "text/plain": [
       "    ZIP_CODE       PO_NAME STATE    SQMI  \\\n",
       "0      91901        Alpine    CA   98.71   \n",
       "1      91902        Bonita    CA   12.87   \n",
       "2      91905     Boulevard    CA  130.91   \n",
       "3      91906         Campo    CA  155.88   \n",
       "4      91910   Chula Vista    CA   11.93   \n",
       "..       ...           ...   ...     ...   \n",
       "104    92155     San Diego    CA    0.23   \n",
       "105    92173    San Ysidro    CA    3.59   \n",
       "106    92182     San Diego    CA    0.28   \n",
       "107    92536       Aguanga    CA   94.93   \n",
       "108    92672  San Clemente    CA   32.77   \n",
       "\n",
       "                                                 SHAPE  biz_cnt  \\\n",
       "0    {'rings': [[[-12980686.298148, 3868599.6407556...     11.0   \n",
       "1    {'rings': [[[-13020538.2306131, 3851695.198877...      8.0   \n",
       "2    {'rings': [[[-12936268.4075063, 3850327.339341...      1.0   \n",
       "3    {'rings': [[[-12952835.6198649, 3855658.061591...      4.0   \n",
       "4    {'rings': [[[-13032484.0253008, 3849772.356766...     52.0   \n",
       "..                                                 ...      ...   \n",
       "104  {'rings': [[[-13041507.8170711, 3852542.901068...      1.0   \n",
       "105  {'rings': [[[-13027361.2248301, 3834756.011745...     27.0   \n",
       "106  {'rings': [[[-13031764.7900486, 3866068.797411...      2.0   \n",
       "107  {'rings': [[[-13004733.3119469, 3972594.856524...      NaN   \n",
       "108  {'rings': [[[-13088130.0895787, 3955629.687965...     27.0   \n",
       "\n",
       "                                             biz_names  totpop_cy   n_density  \n",
       "0    Carl's Jr.;Chevron;CVS;KFC;Little Caesars Pizz...    17778.0    6.187423  \n",
       "1    7-Eleven;Colima's Mexican Foods;Cotijas Taco S...    17713.0    4.516457  \n",
       "2                            Mountain Top Market & Gas     1780.0    5.617978  \n",
       "3             Cameron Corners;Circle K;Sinclair;Subway     3860.0   10.362694  \n",
       "4    7-Eleven;ampm;Burger King;Canada Steak Burger;...    79329.0    6.554980  \n",
       "..                                                 ...        ...         ...  \n",
       "104                                             Subway     1399.0    7.147963  \n",
       "105  7-Eleven;Burger King;Carl's Jr.;CARL'S JR. 110...    29792.0    9.062836  \n",
       "106      Chipotle Mexican Grill;The Habit Burger Grill      112.0  178.571429  \n",
       "107                                                NaN     3893.0         NaN  \n",
       "108  7-Eleven;Adolfo's Mexican Food;Burger Junkies;...    36774.0    7.342144  \n",
       "\n",
       "[108 rows x 9 columns]"
      ]
     },
     "execution_count": 27,
     "metadata": {},
     "output_type": "execute_result"
    }
   ],
   "source": [
    "final_merged"
   ]
  },
  {
   "cell_type": "code",
   "execution_count": null,
   "id": "c225b94d",
   "metadata": {},
   "outputs": [],
   "source": []
  },
  {
   "cell_type": "code",
   "execution_count": 28,
   "id": "83edeb01-b784-4a82-a389-648622f3f3d2",
   "metadata": {},
   "outputs": [
    {
     "name": "stdout",
     "output_type": "stream",
     "text": [
      "CPU times: user 250 ms, sys: 26.1 ms, total: 276 ms\n",
      "Wall time: 10.9 s\n"
     ]
    },
    {
     "data": {
      "text/html": [
       "<div class=\"item_container\" style=\"height: auto; overflow: hidden; border: 1px solid #cfcfcf; border-radius: 2px; background: #f6fafa; line-height: 1.21429em; padding: 10px;\">\n",
       "                    <div class=\"item_left\" style=\"width: 210px; float: left;\">\n",
       "                       <a href='https://UCSDOnline.maps.arcgis.com/home/item.html?id=0cbfcafc1cf24749b8471c1ad88266a0' target='_blank'>\n",
       "                        <img src='http://static.arcgis.com/images/desktopapp.png' class=\"itemThumbnail\">\n",
       "                       </a>\n",
       "                    </div>\n",
       "\n",
       "                    <div class=\"item_right\"     style=\"float: none; width: auto; overflow: hidden;\">\n",
       "                        <a href='https://UCSDOnline.maps.arcgis.com/home/item.html?id=0cbfcafc1cf24749b8471c1ad88266a0' target='_blank'><b>San Diego HPF Normalized Density Per 10K w/o SQMI Norm</b>\n",
       "                        </a>\n",
       "                        <br/><img src='https://UCSDOnline.maps.arcgis.com/home/js/jsapi/esri/css/images/item_type_icons/featureshosted16.png' style=\"vertical-align:middle;\">Feature Layer Collection by akale_UCSD\n",
       "                        <br/>Last Modified: April 22, 2023\n",
       "                        <br/>0 comments, 0 views\n",
       "                    </div>\n",
       "                </div>\n",
       "                "
      ],
      "text/plain": [
       "<Item title:\"San Diego HPF Normalized Density Per 10K w/o SQMI Norm\" type:Feature Layer Collection owner:akale_UCSD>"
      ]
     },
     "execution_count": 28,
     "metadata": {},
     "output_type": "execute_result"
    }
   ],
   "source": [
    "%%time\n",
    "# Convert back from a SEDF into a feature layer Collection, and publishing on AGOL\n",
    "feature_layer_collection = final_merged.spatial.to_featurelayer(title=\"San Diego HPF Normalized Density Per 10K w/o SQMI Norm\", \n",
    "                                                         gis=gis, \n",
    "                                                         folder='nourish_gis',\n",
    "                                                         tags=['San Diego HPF Normalized Density'],\n",
    "                                                        )\n",
    "feature_layer_collection"
   ]
  },
  {
   "cell_type": "code",
   "execution_count": null,
   "id": "c038573a",
   "metadata": {},
   "outputs": [],
   "source": []
  }
 ],
 "metadata": {
  "kernelspec": {
   "display_name": "Python 3 (ipykernel)",
   "language": "python",
   "name": "python3"
  },
  "language_info": {
   "codemirror_mode": {
    "name": "ipython",
    "version": 3
   },
   "file_extension": ".py",
   "mimetype": "text/x-python",
   "name": "python",
   "nbconvert_exporter": "python",
   "pygments_lexer": "ipython3",
   "version": "3.9.16"
  }
 },
 "nbformat": 4,
 "nbformat_minor": 5
}
