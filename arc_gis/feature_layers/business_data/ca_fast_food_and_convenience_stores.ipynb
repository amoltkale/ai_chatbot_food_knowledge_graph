{
 "cells": [
  {
   "cell_type": "markdown",
   "id": "a2a557b1-b82f-44a5-8c97-ef06ab22372a",
   "metadata": {},
   "source": [
    "#### Details  \n",
    "This notebook has below implementation:\n",
    "1. Extract California Businesses from postgres nourish db table `ca_business`\n",
    "2. Filter out only Fast Food Restaurants and Convenience Stores.\n",
    "2. Convert the lat longs to POINT SHAPES.\n",
    "3. Publish the final spatially enabled dataframe as Feature Layer Collection Item."
   ]
  },
  {
   "cell_type": "code",
   "execution_count": 1,
   "id": "3ccb8bac-cb4c-41e4-ac58-276465743795",
   "metadata": {},
   "outputs": [],
   "source": [
    "import pandas as pd\n",
    "import matplotlib.pyplot as plt\n",
    "import sqlalchemy as sal\n",
    "import psycopg2\n",
    "import arcgis\n",
    "from arcgis.gis import GIS\n",
    "from arcgis.features import FeatureLayer, FeatureLayerCollection\n",
    "import sys\n",
    "sys.path.append('../../')\n",
    "sys.path.append('../../../')\n",
    "from gis_resources import san_diego_county_zips\n",
    "import os\n",
    "from utils import get_config\n",
    "from arcgis.features import GeoAccessor"
   ]
  },
  {
   "cell_type": "code",
   "execution_count": 2,
   "id": "57e1dc20-8f73-4fee-a71f-83f4903349ea",
   "metadata": {},
   "outputs": [
    {
     "name": "stdout",
     "output_type": "stream",
     "text": [
      "<configparser.ConfigParser object at 0x10dacb5e0>\n",
      "Please sign in to your GIS and paste the code that is obtained below.\n",
      "If a web browser does not automatically open, please navigate to the URL below yourself instead.\n",
      "Opening web browser to navigate to: https://ucsdonline.maps.arcgis.com/sharing/rest/oauth2/authorize?response_type=code&client_id=Elm5V3upnnV17Q3r&redirect_uri=urn%3Aietf%3Awg%3Aoauth%3A2.0%3Aoob&state=5nEcNRFc3NSPbgMKuxBvfV8ccyh8M7&allow_verification=false\n",
      "Enter code obtained on signing in using SAML: ········\n"
     ]
    },
    {
     "name": "stderr",
     "output_type": "stream",
     "text": [
      "/Users/amolkale/Documents/DSE/DSE260-Capstone-Project/capstone/venv3.9/lib/python3.9/site-packages/urllib3/connectionpool.py:1045: InsecureRequestWarning: Unverified HTTPS request is being made to host 'ucsdonline.maps.arcgis.com'. Adding certificate verification is strongly advised. See: https://urllib3.readthedocs.io/en/1.26.x/advanced-usage.html#ssl-warnings\n",
      "  warnings.warn(\n"
     ]
    }
   ],
   "source": [
    "gis = GIS(\"https://ucsdonline.maps.arcgis.com/home\", client_id=get_config(\"arcgis\",\"clientid\"))"
   ]
  },
  {
   "cell_type": "code",
   "execution_count": 3,
   "id": "29dc3171-769e-4d89-8fe3-30c5cef08f53",
   "metadata": {},
   "outputs": [
    {
     "name": "stdout",
     "output_type": "stream",
     "text": [
      "<configparser.ConfigParser object at 0x134579370>\n",
      "<configparser.ConfigParser object at 0x134562fd0>\n"
     ]
    }
   ],
   "source": [
    "nourish_user = get_config(\"nourish_db\",\"username\")\n",
    "nourish_pswd = get_config(\"nourish_db\",\"passkey\")"
   ]
  },
  {
   "cell_type": "code",
   "execution_count": 4,
   "id": "35c077e3-c0d6-4ca0-9b0d-e602d5fd535b",
   "metadata": {},
   "outputs": [],
   "source": [
    "conn = psycopg2.connect(\n",
    "    host=\"awesome-hw.sdsc.edu\",\n",
    "    database=\"nourish\",\n",
    "    user=nourish_user,\n",
    "    password=nourish_pswd)"
   ]
  },
  {
   "cell_type": "code",
   "execution_count": 5,
   "id": "3509dc93-6fe2-420f-baf1-b5b681fb9f2f",
   "metadata": {},
   "outputs": [],
   "source": [
    "# create a cursor\n",
    "cur = conn.cursor()\n",
    "        \n",
    "\n",
    "# execute a statement\n",
    "cur.execute(\"\"\"select * from ca_business \n",
    "                where ('Fast food restaurant' = any(categories) OR\n",
    "                     'Convenience store' = any(categories))\"\"\")\n",
    "\n",
    "        # display the PostgreSQL database server version\n",
    "ca_business_result = cur.fetchall()\n",
    "       \n",
    "\t# close the communication with the PostgreSQL\n",
    "cur.close()"
   ]
  },
  {
   "cell_type": "code",
   "execution_count": 6,
   "id": "60275bb6-39c1-472d-8a12-a008d297daf5",
   "metadata": {},
   "outputs": [],
   "source": [
    "ca_business_result_list = [(row[1],row[4],row[5],row[7],row[8],row[9]) for row in ca_business_result]\n",
    "#lat_long_list[:10]"
   ]
  },
  {
   "cell_type": "code",
   "execution_count": 7,
   "id": "73e479c0-4a90-435e-a878-10605a78bb17",
   "metadata": {},
   "outputs": [],
   "source": [
    "# Create a DataFrame\n",
    "# There could be some limitation to keeping `categories` as column since arcgis was messing up the data\n",
    "# , could it be a keyword ? Let's just change the name to 'business_type'\n",
    "dataFrame = pd.DataFrame(ca_business_result_list,\n",
    "              columns=(\"biz_name\",\"latitude\", \"longitude\",\"zip\", \"biz_type\",\"city\")\n",
    "              );"
   ]
  },
  {
   "cell_type": "code",
   "execution_count": 8,
   "id": "554f9618-8c0b-4148-8ab9-6920604107a7",
   "metadata": {},
   "outputs": [
    {
     "data": {
      "text/html": [
       "<div>\n",
       "<style scoped>\n",
       "    .dataframe tbody tr th:only-of-type {\n",
       "        vertical-align: middle;\n",
       "    }\n",
       "\n",
       "    .dataframe tbody tr th {\n",
       "        vertical-align: top;\n",
       "    }\n",
       "\n",
       "    .dataframe thead th {\n",
       "        text-align: right;\n",
       "    }\n",
       "</style>\n",
       "<table border=\"1\" class=\"dataframe\">\n",
       "  <thead>\n",
       "    <tr style=\"text-align: right;\">\n",
       "      <th></th>\n",
       "      <th>biz_name</th>\n",
       "      <th>latitude</th>\n",
       "      <th>longitude</th>\n",
       "      <th>zip</th>\n",
       "      <th>biz_type</th>\n",
       "      <th>city</th>\n",
       "    </tr>\n",
       "  </thead>\n",
       "  <tbody>\n",
       "    <tr>\n",
       "      <th>0</th>\n",
       "      <td>Chipotle Mexican Grill</td>\n",
       "      <td>34.013284399999996</td>\n",
       "      <td>-118.336625</td>\n",
       "      <td>90008.0</td>\n",
       "      <td>[Mexican restaurant, Caterer, Fast food restau...</td>\n",
       "      <td>Los Angeles</td>\n",
       "    </tr>\n",
       "    <tr>\n",
       "      <th>1</th>\n",
       "      <td>Champion Grill Buffet</td>\n",
       "      <td>37.3197598</td>\n",
       "      <td>-120.4759953</td>\n",
       "      <td>95348.0</td>\n",
       "      <td>[Buffet restaurant, Asian restaurant, Chinese ...</td>\n",
       "      <td>Merced</td>\n",
       "    </tr>\n",
       "  </tbody>\n",
       "</table>\n",
       "</div>"
      ],
      "text/plain": [
       "                 biz_name            latitude     longitude      zip  \\\n",
       "0  Chipotle Mexican Grill  34.013284399999996   -118.336625  90008.0   \n",
       "1   Champion Grill Buffet          37.3197598  -120.4759953  95348.0   \n",
       "\n",
       "                                            biz_type         city  \n",
       "0  [Mexican restaurant, Caterer, Fast food restau...  Los Angeles  \n",
       "1  [Buffet restaurant, Asian restaurant, Chinese ...       Merced  "
      ]
     },
     "execution_count": 8,
     "metadata": {},
     "output_type": "execute_result"
    }
   ],
   "source": [
    "dataFrame.head(2)"
   ]
  },
  {
   "cell_type": "code",
   "execution_count": 9,
   "id": "8768072e-954c-499a-9db9-9a252d92abc1",
   "metadata": {},
   "outputs": [],
   "source": [
    "# since some of the zip are not present in ca_business table\n",
    "dataFrame = dataFrame[~dataFrame['zip'].isna()]"
   ]
  },
  {
   "cell_type": "code",
   "execution_count": 10,
   "id": "f538efe1-6264-4f96-b5a9-73db9e78f4f9",
   "metadata": {},
   "outputs": [],
   "source": [
    "dataFrame = dataFrame.astype({\"zip\": int})"
   ]
  },
  {
   "cell_type": "code",
   "execution_count": 11,
   "id": "fce6a356-7702-472b-961b-be233767ef25",
   "metadata": {},
   "outputs": [],
   "source": [
    "# Pick the data for only San Diego County\n",
    "# san_diego_county_zips_lst = san_diego_county_zips()\n",
    "# san_diego_county_zips_lst[:10]"
   ]
  },
  {
   "cell_type": "code",
   "execution_count": 12,
   "id": "53e4f1e8-13b7-44ea-abb6-2b29509fef80",
   "metadata": {},
   "outputs": [],
   "source": [
    "# dataFrame = dataFrame[dataFrame[\"zip\"].isin(san_diego_county_zips_lst)]\n",
    "# dataFrame.head(2)"
   ]
  },
  {
   "cell_type": "code",
   "execution_count": 13,
   "id": "27de17f3",
   "metadata": {},
   "outputs": [],
   "source": [
    "ca_business_sgdf = pd.DataFrame.spatial.from_xy(dataFrame.copy(), 'longitude', 'latitude')"
   ]
  },
  {
   "cell_type": "code",
   "execution_count": 14,
   "id": "cdef6eea-6e2a-4050-ae98-e10f54fc834f",
   "metadata": {},
   "outputs": [],
   "source": [
    "# Converting the dataframe with lat/long column to geo dataframe using geopandas\n",
    "#gdf = geopandas.GeoDataFrame(dataFrame, geometry=geopandas.points_from_xy(dataFrame.longitude, dataFrame.latitude))"
   ]
  },
  {
   "cell_type": "code",
   "execution_count": 15,
   "id": "5fd685d7-befb-4062-8abd-dca6a3c7830c",
   "metadata": {},
   "outputs": [],
   "source": [
    "#ca_business_sgdf = GeoAccessor.from_geodataframe(gdf, inplace=False, column_name='SHAPE')"
   ]
  },
  {
   "cell_type": "code",
   "execution_count": 16,
   "id": "d4cb23fe-117f-4123-8d0b-c334bbf74bf7",
   "metadata": {},
   "outputs": [],
   "source": [
    "#ca_business_sgdf.info()"
   ]
  },
  {
   "cell_type": "code",
   "execution_count": 18,
   "id": "d5415b22-0098-4ac2-aac1-ced7fb9fe96d",
   "metadata": {},
   "outputs": [],
   "source": [
    "#ca_business_sgdf.head(5)\n",
    "ca_business_sgdf['biz_type'].fillna('',inplace=True)\n",
    "ca_business_sgdf['biz_type']=ca_business_sgdf.biz_type.apply(lambda x: ';'.join(x))\n",
    "#ca_business_sgdf"
   ]
  },
  {
   "cell_type": "code",
   "execution_count": 19,
   "id": "cca6a066-f111-4000-a6c7-fea0a8d6fcd0",
   "metadata": {},
   "outputs": [],
   "source": [
    "ca_business_sgdf=ca_business_sgdf.drop(['latitude','longitude'], axis=1)"
   ]
  },
  {
   "cell_type": "code",
   "execution_count": 20,
   "id": "83ec8fde-3947-4970-834a-0fcd0566deb5",
   "metadata": {},
   "outputs": [],
   "source": [
    "ca_business_sgdf['zip'] = ca_business_sgdf['zip'].astype(str)"
   ]
  },
  {
   "cell_type": "code",
   "execution_count": 21,
   "id": "f2abc3a2-447b-4d9f-85d4-8ec813def731",
   "metadata": {},
   "outputs": [
    {
     "name": "stdout",
     "output_type": "stream",
     "text": [
      "<class 'pandas.core.frame.DataFrame'>\n",
      "Int64Index: 22649 entries, 0 to 22654\n",
      "Data columns (total 5 columns):\n",
      " #   Column    Non-Null Count  Dtype   \n",
      "---  ------    --------------  -----   \n",
      " 0   biz_name  22649 non-null  object  \n",
      " 1   zip       22649 non-null  object  \n",
      " 2   biz_type  22649 non-null  object  \n",
      " 3   city      22603 non-null  object  \n",
      " 4   SHAPE     22649 non-null  geometry\n",
      "dtypes: geometry(1), object(4)\n",
      "memory usage: 1.0+ MB\n"
     ]
    }
   ],
   "source": [
    "ca_business_sgdf.info()"
   ]
  },
  {
   "cell_type": "code",
   "execution_count": 22,
   "id": "c163f755-7f1a-4b48-be97-aa4acd3c69e4",
   "metadata": {},
   "outputs": [
    {
     "name": "stdout",
     "output_type": "stream",
     "text": [
      "Shape of Dataframe: (22649, 5)\n"
     ]
    }
   ],
   "source": [
    "print(f\"Shape of Dataframe: {ca_business_sgdf.shape}\")"
   ]
  },
  {
   "cell_type": "code",
   "execution_count": 23,
   "id": "e2b9a0c6-89f3-4321-8661-baaa531f066a",
   "metadata": {},
   "outputs": [
    {
     "name": "stdout",
     "output_type": "stream",
     "text": [
      "CPU times: user 15 s, sys: 651 ms, total: 15.6 s\n",
      "Wall time: 51.2 s\n"
     ]
    }
   ],
   "source": [
    "%%time\n",
    "# Convert back from a SEDF into a feature layer Collection, and publishing on AGOL\n",
    "feature_layer_collection_item = ca_business_sgdf.spatial.to_featurelayer(title=\"Fast Food Restaurants And Convenience Stores in California\", \n",
    "                                                         gis=gis, \n",
    "                                                         folder='nourish_gis',\n",
    "                                                         tags=['FastFood','ConvenienceStores'],\n",
    "                                                        )"
   ]
  },
  {
   "cell_type": "code",
   "execution_count": 24,
   "id": "d45d54db-28c2-4b4d-b9c3-ddc339a70fbd",
   "metadata": {},
   "outputs": [
    {
     "data": {
      "text/html": [
       "<div class=\"item_container\" style=\"height: auto; overflow: hidden; border: 1px solid #cfcfcf; border-radius: 2px; background: #f6fafa; line-height: 1.21429em; padding: 10px;\">\n",
       "                    <div class=\"item_left\" style=\"width: 210px; float: left;\">\n",
       "                       <a href='https://UCSDOnline.maps.arcgis.com/home/item.html?id=8f582b1a10714043af0bdff8b38da550' target='_blank'>\n",
       "                        <img src='http://static.arcgis.com/images/desktopapp.png' class=\"itemThumbnail\">\n",
       "                       </a>\n",
       "                    </div>\n",
       "\n",
       "                    <div class=\"item_right\"     style=\"float: none; width: auto; overflow: hidden;\">\n",
       "                        <a href='https://UCSDOnline.maps.arcgis.com/home/item.html?id=8f582b1a10714043af0bdff8b38da550' target='_blank'><b>Fast Food Restaurants And Convenience Stores in California</b>\n",
       "                        </a>\n",
       "                        <br/><img src='https://UCSDOnline.maps.arcgis.com/home/js/jsapi/esri/css/images/item_type_icons/featureshosted16.png' style=\"vertical-align:middle;\">Feature Layer Collection by akale_UCSDOnline\n",
       "                        <br/>Last Modified: April 04, 2023\n",
       "                        <br/>0 comments, 0 views\n",
       "                    </div>\n",
       "                </div>\n",
       "                "
      ],
      "text/plain": [
       "<Item title:\"Fast Food Restaurants And Convenience Stores in California\" type:Feature Layer Collection owner:akale_UCSDOnline>"
      ]
     },
     "execution_count": 24,
     "metadata": {},
     "output_type": "execute_result"
    }
   ],
   "source": [
    "feature_layer_collection_item"
   ]
  },
  {
   "cell_type": "code",
   "execution_count": null,
   "id": "4528993c-5072-4135-b26f-0f244e04c00e",
   "metadata": {},
   "outputs": [],
   "source": []
  }
 ],
 "metadata": {
  "kernelspec": {
   "display_name": "Python 3 (ipykernel)",
   "language": "python",
   "name": "python3"
  },
  "language_info": {
   "codemirror_mode": {
    "name": "ipython",
    "version": 3
   },
   "file_extension": ".py",
   "mimetype": "text/x-python",
   "name": "python",
   "nbconvert_exporter": "python",
   "pygments_lexer": "ipython3",
   "version": "3.9.16"
  }
 },
 "nbformat": 4,
 "nbformat_minor": 5
}
