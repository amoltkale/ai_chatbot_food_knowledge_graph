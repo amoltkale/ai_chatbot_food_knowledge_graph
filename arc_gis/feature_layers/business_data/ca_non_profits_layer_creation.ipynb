{
 "cells": [
  {
   "cell_type": "code",
   "execution_count": 1,
   "id": "9b26bd71-c041-4703-923d-a47c54c9f356",
   "metadata": {},
   "outputs": [],
   "source": [
    "import pandas as pd\n",
    "import geopandas\n",
    "import matplotlib.pyplot as plt\n",
    "import sqlalchemy as sal\n",
    "import psycopg2\n",
    "import arcgis\n",
    "from arcgis.gis import GIS\n",
    "import sys\n",
    "sys.path.append('../')\n",
    "from gis_resources import san_diego_county_zips\n",
    "import os"
   ]
  },
  {
   "cell_type": "code",
   "execution_count": 2,
   "id": "885ea849-d836-4414-8205-d60f3bbb5afe",
   "metadata": {},
   "outputs": [
    {
     "name": "stdout",
     "output_type": "stream",
     "text": [
      "Enter the Client ID/APP ID generated from Arc GIS:\n"
     ]
    },
    {
     "name": "stdin",
     "output_type": "stream",
     "text": [
      " Elm5V3upnnV17Q3r\n"
     ]
    },
    {
     "name": "stdout",
     "output_type": "stream",
     "text": [
      "Please sign in to your GIS and paste the code that is obtained below.\n",
      "If a web browser does not automatically open, please navigate to the URL below yourself instead.\n",
      "Opening web browser to navigate to: https://ucsdonline.maps.arcgis.com/sharing/rest/oauth2/authorize?response_type=code&client_id=Elm5V3upnnV17Q3r&redirect_uri=urn%3Aietf%3Awg%3Aoauth%3A2.0%3Aoob&state=yTkTtbBHCudqixKI8NBE4sjayKB0CS&allow_verification=false\n"
     ]
    },
    {
     "name": "stdin",
     "output_type": "stream",
     "text": [
      "Enter code obtained on signing in using SAML:  ········\n"
     ]
    },
    {
     "name": "stderr",
     "output_type": "stream",
     "text": [
      "/Users/amolkale/Documents/DSE/DSE260-Capstone-Project/capstone/venv3.9/lib/python3.9/site-packages/urllib3/connectionpool.py:1045: InsecureRequestWarning: Unverified HTTPS request is being made to host 'ucsdonline.maps.arcgis.com'. Adding certificate verification is strongly advised. See: https://urllib3.readthedocs.io/en/1.26.x/advanced-usage.html#ssl-warnings\n",
      "  warnings.warn(\n"
     ]
    },
    {
     "data": {
      "text/plain": [
       "'2.1.0'"
      ]
     },
     "execution_count": 2,
     "metadata": {},
     "output_type": "execute_result"
    }
   ],
   "source": [
    "\n",
    "#gis = GIS(username='izaslavsky_ucsd')  # this will ask for password. \n",
    "print(\"Enter the Client ID/APP ID generated from Arc GIS:\")\n",
    "app_id = input()\n",
    "gis = GIS(\"https://ucsdonline.maps.arcgis.com/home\", client_id=app_id)\n",
    "arcgis.__version__\n",
    "# Elm5V3upnnV17Q3r"
   ]
  },
  {
   "cell_type": "code",
   "execution_count": null,
   "id": "3921c22d-a7cc-4a0e-9e87-73ffe61de594",
   "metadata": {},
   "outputs": [],
   "source": [
    "print(\"Nourish User:\")\n",
    "nourish_user = input()\n",
    "print(\"Nourish Password:\")\n",
    "nourish_pswd = input()"
   ]
  },
  {
   "cell_type": "code",
   "execution_count": 4,
   "id": "e38f393a-104c-4a15-84d4-6facf9daf6a0",
   "metadata": {},
   "outputs": [],
   "source": [
    "conn = psycopg2.connect(\n",
    "    host=\"awesome-hw.sdsc.edu\",\n",
    "    database=\"nourish\",\n",
    "    user=nourish_user,\n",
    "    password=nourish_pswd)"
   ]
  },
  {
   "cell_type": "code",
   "execution_count": 6,
   "id": "edf536d6-a7b0-466b-9164-3eb14e5e96a2",
   "metadata": {},
   "outputs": [],
   "source": [
    "# create a cursor\n",
    "cur = conn.cursor()\n",
    "        \n",
    "# execute a statement\n",
    "cur.execute('select * from ca_nonprofits')\n",
    "\n",
    "        # display the PostgreSQL database server version\n",
    "ca_nonprofits_result = cur.fetchall()\n",
    "       \n",
    "\t# close the communication with the PostgreSQL\n",
    "cur.close()"
   ]
  },
  {
   "cell_type": "code",
   "execution_count": 9,
   "id": "0f9bae3d-9789-4632-9185-1f6a7ecb3f9b",
   "metadata": {},
   "outputs": [
    {
     "data": {
      "text/plain": [
       "[('KIWANIS CLUB OF MORAGA VALLEY FOUNDATION',\n",
       "  'PO BOX 503',\n",
       "  'MORAGA',\n",
       "  'CA',\n",
       "  '94556-0503'),\n",
       " ('PROGRESSIVE PERSPECTIVES',\n",
       "  '98 WINDSOR AVE',\n",
       "  'SAN RAFAEL',\n",
       "  'CA',\n",
       "  '94901-1068'),\n",
       " ('WATER AND EDUCATION INTERNATIONAL',\n",
       "  'PO BOX 1088',\n",
       "  'VALLEJO',\n",
       "  'CA',\n",
       "  '94590-0210'),\n",
       " ('HUGS TO A FRESH START', '1408 ROLEEN DR', 'VALLEJO', 'CA', '94589-1527'),\n",
       " ('DOMINICAN REPUBLIC SPORTS & EDUCATION ACADEMY DRSEA INC',\n",
       "  '600 ANITA STREET',\n",
       "  'CHULA VISTA',\n",
       "  'CA',\n",
       "  '91911-4631'),\n",
       " ('NEHEMIAH MINISTRIES', '3409 MITCHELL AVE', 'SELMA', 'CA', '93662-4214'),\n",
       " ('NEW BEGINNING NEW LIFE YOUTH',\n",
       "  '5666 SORREL HILLS AVE',\n",
       "  'CHINO HILLS',\n",
       "  'CA',\n",
       "  '91709-7919'),\n",
       " ('COMMON GROUND WORLDWIDE', 'PO BOX 96', 'LOCKWOOD', 'CA', '93932-0096'),\n",
       " ('SOHINI SANGEET ACADEMY INC',\n",
       "  '1733 REED AVE',\n",
       "  'W SACRAMENTO',\n",
       "  'CA',\n",
       "  '95605-1610'),\n",
       " ('CONTEMPORARY DIALOGUE FOUNDATION',\n",
       "  '490 POST ST STE 526',\n",
       "  'SAN FRANCISCO',\n",
       "  'CA',\n",
       "  '94102-1406')]"
      ]
     },
     "execution_count": 9,
     "metadata": {},
     "output_type": "execute_result"
    }
   ],
   "source": [
    "ca_nonprofits_result_list = [(row[1],row[3],row[4],row[5],row[6]) for row in ca_business_result]\n",
    "ca_nonprofits_result_list[:10]"
   ]
  },
  {
   "cell_type": "code",
   "execution_count": null,
   "id": "9817fa0f-3ea3-4386-ab07-26e714b97f1e",
   "metadata": {},
   "outputs": [],
   "source": []
  }
 ],
 "metadata": {
  "kernelspec": {
   "display_name": "Python 3 (ipykernel)",
   "language": "python",
   "name": "python3"
  },
  "language_info": {
   "codemirror_mode": {
    "name": "ipython",
    "version": 3
   },
   "file_extension": ".py",
   "mimetype": "text/x-python",
   "name": "python",
   "nbconvert_exporter": "python",
   "pygments_lexer": "ipython3",
   "version": "3.9.16"
  }
 },
 "nbformat": 4,
 "nbformat_minor": 5
}
