{
 "cells": [
  {
   "cell_type": "markdown",
   "id": "a2a557b1-b82f-44a5-8c97-ef06ab22372a",
   "metadata": {},
   "source": [
    "#### Motivation\n",
    "* Create feature layer of businesses by joining san diego biz directory listing and businesses from ca_business (google scraped)"
   ]
  },
  {
   "cell_type": "code",
   "execution_count": 1,
   "id": "3ccb8bac-cb4c-41e4-ac58-276465743795",
   "metadata": {},
   "outputs": [],
   "source": [
    "import pandas as pd\n",
    "import geopandas\n",
    "import matplotlib.pyplot as plt\n",
    "import sqlalchemy as sal\n",
    "import psycopg2\n",
    "import arcgis\n",
    "from arcgis.gis import GIS\n",
    "from arcgis.features import FeatureLayer, FeatureLayerCollection\n",
    "import sys\n",
    "sys.path.append('../../')\n",
    "from gis_resources import san_diego_county_zips\n",
    "import os\n",
    "from utils import get_config"
   ]
  },
  {
   "cell_type": "code",
   "execution_count": 2,
   "id": "c6b1028b-fe0f-4196-afc2-904928f4baf7",
   "metadata": {},
   "outputs": [],
   "source": [
    "from arcgis.features import GeoAccessor"
   ]
  },
  {
   "cell_type": "code",
   "execution_count": 4,
   "id": "57e1dc20-8f73-4fee-a71f-83f4903349ea",
   "metadata": {},
   "outputs": [
    {
     "name": "stdout",
     "output_type": "stream",
     "text": [
      "<configparser.ConfigParser object at 0x1111a7640>\n",
      "Please sign in to your GIS and paste the code that is obtained below.\n",
      "If a web browser does not automatically open, please navigate to the URL below yourself instead.\n",
      "Opening web browser to navigate to: https://ucsdonline.maps.arcgis.com/sharing/rest/oauth2/authorize?response_type=code&client_id=Elm5V3upnnV17Q3r&redirect_uri=urn%3Aietf%3Awg%3Aoauth%3A2.0%3Aoob&state=nJR4Dg6QXRvRz3haB6MWgntD3ALFKs&allow_verification=false\n"
     ]
    },
    {
     "name": "stdin",
     "output_type": "stream",
     "text": [
      "Enter code obtained on signing in using SAML:  ········\n"
     ]
    },
    {
     "name": "stderr",
     "output_type": "stream",
     "text": [
      "/Users/amolkale/Documents/DSE/DSE260-Capstone-Project/capstone/venv3.9/lib/python3.9/site-packages/urllib3/connectionpool.py:1045: InsecureRequestWarning: Unverified HTTPS request is being made to host 'ucsdonline.maps.arcgis.com'. Adding certificate verification is strongly advised. See: https://urllib3.readthedocs.io/en/1.26.x/advanced-usage.html#ssl-warnings\n",
      "  warnings.warn(\n"
     ]
    }
   ],
   "source": [
    "gis = GIS(\"https://ucsdonline.maps.arcgis.com/home\", client_id=get_config(\"arcgis\",\"clientid\"))"
   ]
  },
  {
   "cell_type": "code",
   "execution_count": 5,
   "id": "29dc3171-769e-4d89-8fe3-30c5cef08f53",
   "metadata": {},
   "outputs": [
    {
     "name": "stdout",
     "output_type": "stream",
     "text": [
      "<configparser.ConfigParser object at 0x14ca6ca30>\n",
      "<configparser.ConfigParser object at 0x14ca6cd60>\n"
     ]
    }
   ],
   "source": [
    "nourish_user = get_config(\"nourish_db\",\"username\")\n",
    "nourish_pswd = get_config(\"nourish_db\",\"passkey\")"
   ]
  },
  {
   "cell_type": "code",
   "execution_count": 18,
   "id": "35c077e3-c0d6-4ca0-9b0d-e602d5fd535b",
   "metadata": {},
   "outputs": [],
   "source": [
    "conn = psycopg2.connect(\n",
    "    host=\"awesome-hw.sdsc.edu\",\n",
    "    database=\"nourish\",\n",
    "    user=nourish_user,\n",
    "    password=nourish_pswd)"
   ]
  },
  {
   "cell_type": "code",
   "execution_count": 19,
   "id": "2980cd39-816f-4173-92ee-45d8a97fcd65",
   "metadata": {},
   "outputs": [],
   "source": [
    "# create a cursor\n",
    "cur = conn.cursor()\n",
    "        \n",
    "\n",
    "# execute a statement\n",
    "cur.execute('select * from \"SD_City_Business_Directory\"')\n",
    "\n",
    "        # display the PostgreSQL database server version\n",
    "sd_city_biz_dir_results = cur.fetchall()\n",
    "       \n",
    "\t# close the communication with the PostgreSQL\n",
    "cur.close()"
   ]
  },
  {
   "cell_type": "code",
   "execution_count": 20,
   "id": "26803027-b469-47ba-a490-6cdb2b759160",
   "metadata": {},
   "outputs": [],
   "source": [
    "sd_city_biz_dir_list = [(row[1],row[2],row[3],row[4],row[5],row[6],row[13]) for row in sd_city_biz_dir_results]"
   ]
  },
  {
   "cell_type": "code",
   "execution_count": 23,
   "id": "196f2b3b-61d2-4e90-b220-a37f480aefa5",
   "metadata": {},
   "outputs": [
    {
     "name": "stdout",
     "output_type": "stream",
     "text": [
      "Shape: (50755, 7)\n"
     ]
    },
    {
     "data": {
      "text/html": [
       "<div>\n",
       "<style scoped>\n",
       "    .dataframe tbody tr th:only-of-type {\n",
       "        vertical-align: middle;\n",
       "    }\n",
       "\n",
       "    .dataframe tbody tr th {\n",
       "        vertical-align: top;\n",
       "    }\n",
       "\n",
       "    .dataframe thead th {\n",
       "        text-align: right;\n",
       "    }\n",
       "</style>\n",
       "<table border=\"1\" class=\"dataframe\">\n",
       "  <thead>\n",
       "    <tr style=\"text-align: right;\">\n",
       "      <th></th>\n",
       "      <th>business_name</th>\n",
       "      <th>ownership_type</th>\n",
       "      <th>address</th>\n",
       "      <th>city</th>\n",
       "      <th>zip</th>\n",
       "      <th>state</th>\n",
       "      <th>business_type</th>\n",
       "    </tr>\n",
       "  </thead>\n",
       "  <tbody>\n",
       "    <tr>\n",
       "      <th>0</th>\n",
       "      <td>#1 FIFTH AVE</td>\n",
       "      <td>LLC</td>\n",
       "      <td>3845 05TH AVE</td>\n",
       "      <td>SAN DIEGO</td>\n",
       "      <td>92103-3140</td>\n",
       "      <td>CA</td>\n",
       "      <td>DRINKING PLACES (ALCOHOLIC BEVERAGES)</td>\n",
       "    </tr>\n",
       "    <tr>\n",
       "      <th>1</th>\n",
       "      <td>% NATURAL GOMEZ</td>\n",
       "      <td>SOLE</td>\n",
       "      <td>4356 POPLAR ST</td>\n",
       "      <td>SAN DIEGO</td>\n",
       "      <td>92105-4657</td>\n",
       "      <td>CA</td>\n",
       "      <td>ALL OTHER HEALTH &amp; PERSONAL CARE STORES</td>\n",
       "    </tr>\n",
       "    <tr>\n",
       "      <th>2</th>\n",
       "      <td>&amp; SALLY J FERNANDEZ</td>\n",
       "      <td>SOLE</td>\n",
       "      <td>17471 PLAZA CERADO SUITE 98</td>\n",
       "      <td>SAN DIEGO</td>\n",
       "      <td>92128-2285</td>\n",
       "      <td>CA</td>\n",
       "      <td>OTHER ACCOUNTING SERVICES</td>\n",
       "    </tr>\n",
       "    <tr>\n",
       "      <th>3</th>\n",
       "      <td>(W)RIGHT ON COMMUNICATIONS INC</td>\n",
       "      <td>SCORP</td>\n",
       "      <td>402 W BROADWAY SUITE 2700</td>\n",
       "      <td>SAN DIEGO</td>\n",
       "      <td>92101-8580</td>\n",
       "      <td>CA</td>\n",
       "      <td>PUBLIC RELATIONS AGENCIES</td>\n",
       "    </tr>\n",
       "  </tbody>\n",
       "</table>\n",
       "</div>"
      ],
      "text/plain": [
       "                    business_name ownership_type                      address  \\\n",
       "0                    #1 FIFTH AVE            LLC                3845 05TH AVE   \n",
       "1                 % NATURAL GOMEZ           SOLE               4356 POPLAR ST   \n",
       "2             & SALLY J FERNANDEZ           SOLE  17471 PLAZA CERADO SUITE 98   \n",
       "3  (W)RIGHT ON COMMUNICATIONS INC          SCORP    402 W BROADWAY SUITE 2700   \n",
       "\n",
       "        city         zip state                            business_type  \n",
       "0  SAN DIEGO  92103-3140    CA    DRINKING PLACES (ALCOHOLIC BEVERAGES)  \n",
       "1  SAN DIEGO  92105-4657    CA  ALL OTHER HEALTH & PERSONAL CARE STORES  \n",
       "2  SAN DIEGO  92128-2285    CA                OTHER ACCOUNTING SERVICES  \n",
       "3  SAN DIEGO  92101-8580    CA                PUBLIC RELATIONS AGENCIES  "
      ]
     },
     "execution_count": 23,
     "metadata": {},
     "output_type": "execute_result"
    }
   ],
   "source": [
    "sd_city_biz_dataFrame = pd.DataFrame(sd_city_biz_dir_list,\n",
    "              columns=(\"business_name\",\"ownership_type\", \"address\",\"city\", \"zip\",\"state\",\"business_type\")\n",
    "              );\n",
    "print(f\"Shape: {sd_city_biz_dataFrame.shape}\")\n",
    "sd_city_biz_dataFrame.head(4)"
   ]
  },
  {
   "cell_type": "code",
   "execution_count": 21,
   "id": "5f8f6b25-ec26-44b6-9036-41298d7b0c46",
   "metadata": {},
   "outputs": [
    {
     "data": {
      "text/plain": [
       "('% NATURAL GOMEZ',\n",
       " 'SOLE',\n",
       " '4356 POPLAR ST',\n",
       " 'SAN DIEGO',\n",
       " '92105-4657',\n",
       " 'CA',\n",
       " 'ALL OTHER HEALTH & PERSONAL CARE STORES')"
      ]
     },
     "execution_count": 21,
     "metadata": {},
     "output_type": "execute_result"
    }
   ],
   "source": [
    "sd_city_biz_dir_list[1]"
   ]
  },
  {
   "cell_type": "code",
   "execution_count": 14,
   "id": "3509dc93-6fe2-420f-baf1-b5b681fb9f2f",
   "metadata": {},
   "outputs": [],
   "source": [
    "# create a cursor\n",
    "cur = conn.cursor()\n",
    "        \n",
    "\n",
    "# execute a statement\n",
    "cur.execute('select * from ca_business')\n",
    "\n",
    "        # display the PostgreSQL database server version\n",
    "ca_business_result = cur.fetchall()\n",
    "       \n",
    "\t# close the communication with the PostgreSQL\n",
    "cur.close()"
   ]
  },
  {
   "cell_type": "code",
   "execution_count": null,
   "id": "a4bdf352-6d54-43ca-9aef-a7d0e80cce2a",
   "metadata": {},
   "outputs": [],
   "source": []
  },
  {
   "cell_type": "code",
   "execution_count": 15,
   "id": "60275bb6-39c1-472d-8a12-a008d297daf5",
   "metadata": {},
   "outputs": [],
   "source": [
    "ca_business_result_list = [(row[1],row[4],row[5],row[7],row[8],row[9]) for row in ca_business_result]\n",
    "#lat_long_list[:10]"
   ]
  },
  {
   "cell_type": "code",
   "execution_count": 16,
   "id": "73e479c0-4a90-435e-a878-10605a78bb17",
   "metadata": {},
   "outputs": [],
   "source": [
    "# Create a DataFrame\n",
    "# There could be some limitation to keeping `categories` as column since arcgis was messing up the data\n",
    "# , could it be a keyword ? Let's just change the name to 'business_type'\n",
    "dataFrame = pd.DataFrame(ca_business_result_list,\n",
    "              columns=(\"business_name\",\"latitude\", \"longitude\",\"zip\", \"business_type\",\"city\")\n",
    "              );"
   ]
  },
  {
   "cell_type": "code",
   "execution_count": 17,
   "id": "554f9618-8c0b-4148-8ab9-6920604107a7",
   "metadata": {},
   "outputs": [
    {
     "data": {
      "text/html": [
       "<div>\n",
       "<style scoped>\n",
       "    .dataframe tbody tr th:only-of-type {\n",
       "        vertical-align: middle;\n",
       "    }\n",
       "\n",
       "    .dataframe tbody tr th {\n",
       "        vertical-align: top;\n",
       "    }\n",
       "\n",
       "    .dataframe thead th {\n",
       "        text-align: right;\n",
       "    }\n",
       "</style>\n",
       "<table border=\"1\" class=\"dataframe\">\n",
       "  <thead>\n",
       "    <tr style=\"text-align: right;\">\n",
       "      <th></th>\n",
       "      <th>business_name</th>\n",
       "      <th>latitude</th>\n",
       "      <th>longitude</th>\n",
       "      <th>zip</th>\n",
       "      <th>business_type</th>\n",
       "      <th>city</th>\n",
       "    </tr>\n",
       "  </thead>\n",
       "  <tbody>\n",
       "    <tr>\n",
       "      <th>0</th>\n",
       "      <td>Alley 6 Craft Distillery</td>\n",
       "      <td>38.6281104</td>\n",
       "      <td>-122.8759307</td>\n",
       "      <td>95448.0</td>\n",
       "      <td>[Distillery]</td>\n",
       "      <td>Healdsburg</td>\n",
       "    </tr>\n",
       "    <tr>\n",
       "      <th>1</th>\n",
       "      <td>Amami Sushi Bistro</td>\n",
       "      <td>37.6201856</td>\n",
       "      <td>-122.410203</td>\n",
       "      <td>94066.0</td>\n",
       "      <td>[Sushi restaurant]</td>\n",
       "      <td>San Bruno</td>\n",
       "    </tr>\n",
       "  </tbody>\n",
       "</table>\n",
       "</div>"
      ],
      "text/plain": [
       "              business_name    latitude     longitude      zip  \\\n",
       "0  Alley 6 Craft Distillery  38.6281104  -122.8759307  95448.0   \n",
       "1        Amami Sushi Bistro  37.6201856   -122.410203  94066.0   \n",
       "\n",
       "        business_type        city  \n",
       "0        [Distillery]  Healdsburg  \n",
       "1  [Sushi restaurant]   San Bruno  "
      ]
     },
     "execution_count": 17,
     "metadata": {},
     "output_type": "execute_result"
    }
   ],
   "source": [
    "dataFrame.head(2)"
   ]
  },
  {
   "cell_type": "code",
   "execution_count": 18,
   "id": "8768072e-954c-499a-9db9-9a252d92abc1",
   "metadata": {},
   "outputs": [],
   "source": [
    "# since some of the zip are not present in ca_business table\n",
    "dataFrame = dataFrame[~dataFrame['zip'].isna()]"
   ]
  },
  {
   "cell_type": "code",
   "execution_count": 19,
   "id": "f538efe1-6264-4f96-b5a9-73db9e78f4f9",
   "metadata": {},
   "outputs": [],
   "source": [
    "dataFrame = dataFrame.astype({\"zip\": int})"
   ]
  },
  {
   "cell_type": "code",
   "execution_count": 20,
   "id": "fce6a356-7702-472b-961b-be233767ef25",
   "metadata": {},
   "outputs": [
    {
     "data": {
      "text/plain": [
       "[91910, 91911, 91913, 91914, 91915, 91916, 91917, 91931, 91932, 91934]"
      ]
     },
     "execution_count": 20,
     "metadata": {},
     "output_type": "execute_result"
    }
   ],
   "source": [
    "# Pick the data for only San Diego County\n",
    "san_diego_county_zips_lst = san_diego_county_zips()\n",
    "san_diego_county_zips_lst[:10]"
   ]
  },
  {
   "cell_type": "code",
   "execution_count": 21,
   "id": "53e4f1e8-13b7-44ea-abb6-2b29509fef80",
   "metadata": {},
   "outputs": [
    {
     "data": {
      "text/html": [
       "<div>\n",
       "<style scoped>\n",
       "    .dataframe tbody tr th:only-of-type {\n",
       "        vertical-align: middle;\n",
       "    }\n",
       "\n",
       "    .dataframe tbody tr th {\n",
       "        vertical-align: top;\n",
       "    }\n",
       "\n",
       "    .dataframe thead th {\n",
       "        text-align: right;\n",
       "    }\n",
       "</style>\n",
       "<table border=\"1\" class=\"dataframe\">\n",
       "  <thead>\n",
       "    <tr style=\"text-align: right;\">\n",
       "      <th></th>\n",
       "      <th>business_name</th>\n",
       "      <th>latitude</th>\n",
       "      <th>longitude</th>\n",
       "      <th>zip</th>\n",
       "      <th>business_type</th>\n",
       "      <th>city</th>\n",
       "    </tr>\n",
       "  </thead>\n",
       "  <tbody>\n",
       "    <tr>\n",
       "      <th>4</th>\n",
       "      <td>Internet Solutions For Less</td>\n",
       "      <td>33.1863539</td>\n",
       "      <td>-117.25029649999999</td>\n",
       "      <td>92081</td>\n",
       "      <td>[Website designer, Design agency, Internet mar...</td>\n",
       "      <td>Vista</td>\n",
       "    </tr>\n",
       "    <tr>\n",
       "      <th>23</th>\n",
       "      <td>Wetzel's Pretzels</td>\n",
       "      <td>32.708565199999995</td>\n",
       "      <td>-117.17027739999999</td>\n",
       "      <td>92101</td>\n",
       "      <td>[Pretzel store]</td>\n",
       "      <td>San Diego</td>\n",
       "    </tr>\n",
       "  </tbody>\n",
       "</table>\n",
       "</div>"
      ],
      "text/plain": [
       "                  business_name            latitude            longitude  \\\n",
       "4   Internet Solutions For Less          33.1863539  -117.25029649999999   \n",
       "23            Wetzel's Pretzels  32.708565199999995  -117.17027739999999   \n",
       "\n",
       "      zip                                      business_type       city  \n",
       "4   92081  [Website designer, Design agency, Internet mar...      Vista  \n",
       "23  92101                                    [Pretzel store]  San Diego  "
      ]
     },
     "execution_count": 21,
     "metadata": {},
     "output_type": "execute_result"
    }
   ],
   "source": [
    "dataFrame = dataFrame[dataFrame[\"zip\"].isin(san_diego_county_zips_lst)]\n",
    "dataFrame.head(2)"
   ]
  },
  {
   "cell_type": "code",
   "execution_count": 22,
   "id": "cdef6eea-6e2a-4050-ae98-e10f54fc834f",
   "metadata": {},
   "outputs": [],
   "source": [
    "# Converting the dataframe with lat/long column to geo dataframe using geopandas\n",
    "gdf = geopandas.GeoDataFrame(dataFrame, geometry=geopandas.points_from_xy(dataFrame.longitude, dataFrame.latitude))"
   ]
  },
  {
   "cell_type": "code",
   "execution_count": 32,
   "id": "5fd685d7-befb-4062-8abd-dca6a3c7830c",
   "metadata": {},
   "outputs": [],
   "source": [
    "ca_business_sgdf = GeoAccessor.from_geodataframe(gdf, inplace=False, column_name='SHAPE')"
   ]
  },
  {
   "cell_type": "code",
   "execution_count": 26,
   "id": "d4cb23fe-117f-4123-8d0b-c334bbf74bf7",
   "metadata": {},
   "outputs": [],
   "source": [
    "#ca_business_sgdf.info()"
   ]
  },
  {
   "cell_type": "code",
   "execution_count": 34,
   "id": "d5415b22-0098-4ac2-aac1-ced7fb9fe96d",
   "metadata": {},
   "outputs": [],
   "source": [
    "#ca_business_sgdf.head(5)\n",
    "ca_business_sgdf['business_type'].fillna('',inplace=True)\n",
    "ca_business_sgdf['business_type']=ca_business_sgdf.business_type.apply(lambda x: ';'.join(x))\n",
    "#ca_business_sgdf"
   ]
  },
  {
   "cell_type": "code",
   "execution_count": 35,
   "id": "cca6a066-f111-4000-a6c7-fea0a8d6fcd0",
   "metadata": {},
   "outputs": [],
   "source": [
    "ca_business_sgdf=ca_business_sgdf.drop(['latitude','longitude'], axis=1)"
   ]
  },
  {
   "cell_type": "code",
   "execution_count": 36,
   "id": "83ec8fde-3947-4970-834a-0fcd0566deb5",
   "metadata": {},
   "outputs": [],
   "source": [
    "ca_business_sgdf['zip'] = ca_business_sgdf['zip'].astype(str)"
   ]
  },
  {
   "cell_type": "code",
   "execution_count": 37,
   "id": "f2abc3a2-447b-4d9f-85d4-8ec813def731",
   "metadata": {},
   "outputs": [
    {
     "name": "stdout",
     "output_type": "stream",
     "text": [
      "<class 'pandas.core.frame.DataFrame'>\n",
      "Int64Index: 46516 entries, 4 to 515948\n",
      "Data columns (total 5 columns):\n",
      " #   Column         Non-Null Count  Dtype   \n",
      "---  ------         --------------  -----   \n",
      " 0   business_name  46516 non-null  object  \n",
      " 1   zip            46516 non-null  object  \n",
      " 2   business_type  46516 non-null  object  \n",
      " 3   city           46381 non-null  object  \n",
      " 4   SHAPE          46516 non-null  geometry\n",
      "dtypes: geometry(1), object(4)\n",
      "memory usage: 2.1+ MB\n"
     ]
    }
   ],
   "source": [
    "ca_business_sgdf.info()"
   ]
  },
  {
   "cell_type": "code",
   "execution_count": 40,
   "id": "c163f755-7f1a-4b48-be97-aa4acd3c69e4",
   "metadata": {},
   "outputs": [
    {
     "name": "stdout",
     "output_type": "stream",
     "text": [
      "Shape of Dataframe: (46516, 5)\n"
     ]
    }
   ],
   "source": [
    "print(f\"Shape of Dataframe: {ca_business_sgdf.shape}\")"
   ]
  },
  {
   "cell_type": "code",
   "execution_count": 58,
   "id": "e2b9a0c6-89f3-4321-8661-baaa531f066a",
   "metadata": {},
   "outputs": [
    {
     "name": "stdout",
     "output_type": "stream",
     "text": [
      "CPU times: user 37.1 s, sys: 2.79 s, total: 39.9 s\n",
      "Wall time: 2min 3s\n"
     ]
    }
   ],
   "source": [
    "%%time\n",
    "# Convert back from a SEDF into a feature layer Collection, and publishing on AGOL\n",
    "feature_layer_collection_item = ca_business_sgdf.spatial.to_featurelayer(title=\"San Diego County Businesses 1.0\", \n",
    "                                                         gis=gis, \n",
    "                                                         folder='nourish_gis',\n",
    "                                                         tags=['SanDiegoCountyBusinesses'],\n",
    "                                                        )"
   ]
  },
  {
   "cell_type": "code",
   "execution_count": 59,
   "id": "d45d54db-28c2-4b4d-b9c3-ddc339a70fbd",
   "metadata": {},
   "outputs": [
    {
     "data": {
      "text/html": [
       "<div class=\"item_container\" style=\"height: auto; overflow: hidden; border: 1px solid #cfcfcf; border-radius: 2px; background: #f6fafa; line-height: 1.21429em; padding: 10px;\">\n",
       "                    <div class=\"item_left\" style=\"width: 210px; float: left;\">\n",
       "                       <a href='https://UCSDOnline.maps.arcgis.com/home/item.html?id=3f7fb039531c4e43a6b70d37de8935ad' target='_blank'>\n",
       "                        <img src='http://static.arcgis.com/images/desktopapp.png' class=\"itemThumbnail\">\n",
       "                       </a>\n",
       "                    </div>\n",
       "\n",
       "                    <div class=\"item_right\"     style=\"float: none; width: auto; overflow: hidden;\">\n",
       "                        <a href='https://UCSDOnline.maps.arcgis.com/home/item.html?id=3f7fb039531c4e43a6b70d37de8935ad' target='_blank'><b>San Diego County Businesses 1.0</b>\n",
       "                        </a>\n",
       "                        <br/><img src='https://UCSDOnline.maps.arcgis.com/home/js/jsapi/esri/css/images/item_type_icons/featureshosted16.png' style=\"vertical-align:middle;\">Feature Layer Collection by akale_UCSDOnline\n",
       "                        <br/>Last Modified: March 30, 2023\n",
       "                        <br/>0 comments, 0 views\n",
       "                    </div>\n",
       "                </div>\n",
       "                "
      ],
      "text/plain": [
       "<Item title:\"San Diego County Businesses 1.0\" type:Feature Layer Collection owner:akale_UCSDOnline>"
      ]
     },
     "execution_count": 59,
     "metadata": {},
     "output_type": "execute_result"
    }
   ],
   "source": [
    "feature_layer_collection_item"
   ]
  },
  {
   "cell_type": "code",
   "execution_count": null,
   "id": "4528993c-5072-4135-b26f-0f244e04c00e",
   "metadata": {},
   "outputs": [],
   "source": []
  }
 ],
 "metadata": {
  "kernelspec": {
   "display_name": "Python 3 (ipykernel)",
   "language": "python",
   "name": "python3"
  },
  "language_info": {
   "codemirror_mode": {
    "name": "ipython",
    "version": 3
   },
   "file_extension": ".py",
   "mimetype": "text/x-python",
   "name": "python",
   "nbconvert_exporter": "python",
   "pygments_lexer": "ipython3",
   "version": "3.9.16"
  }
 },
 "nbformat": 4,
 "nbformat_minor": 5
}
