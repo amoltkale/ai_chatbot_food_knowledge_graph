{
 "cells": [
  {
   "cell_type": "markdown",
   "id": "e3c8a9fa",
   "metadata": {},
   "source": [
    "### Objective\n",
    "* Create CA Obesity Layer using the shape file given by professor."
   ]
  },
  {
   "cell_type": "code",
   "execution_count": 1,
   "id": "181709bb",
   "metadata": {},
   "outputs": [],
   "source": [
    "import arcgis\n",
    "from arcgis.gis import GIS\n",
    "\n",
    "import sys\n",
    "sys.path.append('../')\n",
    "sys.path.append('../../')\n",
    "from gis_resources import san_diego_county_zips\n",
    "from utils import get_config"
   ]
  },
  {
   "cell_type": "code",
   "execution_count": 2,
   "id": "79d88891",
   "metadata": {},
   "outputs": [
    {
     "name": "stdout",
     "output_type": "stream",
     "text": [
      "<configparser.ConfigParser object at 0x10917cc10>\n",
      "<configparser.ConfigParser object at 0x109140cd0>\n"
     ]
    }
   ],
   "source": [
    "username = get_config(\"arcgis\",\"username\")\n",
    "password = get_config(\"arcgis\",\"passkey\")\n",
    "gis = GIS(\"https://ucsdonline.maps.arcgis.com/home\", username=username, password=password)"
   ]
  },
  {
   "cell_type": "markdown",
   "id": "8d7acf12",
   "metadata": {},
   "source": [
    "Adding the shapefile as an item to GIS."
   ]
  },
  {
   "cell_type": "code",
   "execution_count": 3,
   "id": "452f358d",
   "metadata": {},
   "outputs": [
    {
     "name": "stdout",
     "output_type": "stream",
     "text": [
      "CPU times: user 187 ms, sys: 79.5 ms, total: 267 ms\n",
      "Wall time: 21.6 s\n"
     ]
    }
   ],
   "source": [
    "%%time\n",
    "data = \"../resources/CA-Obesity.zip\"\n",
    "item_properties = {\n",
    "    \"title\": \"CA Obesity\",\n",
    "    \"type\": \"Shapefile\"\n",
    "}\n",
    "shpfile = gis.content.add(item_properties, data, folder=\"nourish_gis\")"
   ]
  },
  {
   "cell_type": "markdown",
   "id": "84888cfc",
   "metadata": {},
   "source": [
    "Publishing the shapefile as Feature layer"
   ]
  },
  {
   "cell_type": "code",
   "execution_count": 4,
   "id": "c0ea3ef7",
   "metadata": {},
   "outputs": [
    {
     "name": "stdout",
     "output_type": "stream",
     "text": [
      "CPU times: user 424 ms, sys: 212 ms, total: 636 ms\n",
      "Wall time: 7min 4s\n"
     ]
    }
   ],
   "source": [
    "%%time\n",
    "feature_layer_item = shpfile.publish()"
   ]
  },
  {
   "cell_type": "code",
   "execution_count": 5,
   "id": "24fdbdf8",
   "metadata": {},
   "outputs": [
    {
     "data": {
      "text/html": [
       "<div class=\"item_container\" style=\"height: auto; overflow: hidden; border: 1px solid #cfcfcf; border-radius: 2px; background: #f6fafa; line-height: 1.21429em; padding: 10px;\">\n",
       "                    <div class=\"item_left\" style=\"width: 210px; float: left;\">\n",
       "                       <a href='https://UCSDOnline.maps.arcgis.com/home/item.html?id=0be3d2d7d82846c6adee73d8e4a5a08a' target='_blank'>\n",
       "                        <img src='http://static.arcgis.com/images/desktopapp.png' class=\"itemThumbnail\">\n",
       "                       </a>\n",
       "                    </div>\n",
       "\n",
       "                    <div class=\"item_right\"     style=\"float: none; width: auto; overflow: hidden;\">\n",
       "                        <a href='https://UCSDOnline.maps.arcgis.com/home/item.html?id=0be3d2d7d82846c6adee73d8e4a5a08a' target='_blank'><b>CA Obesity</b>\n",
       "                        </a>\n",
       "                        <br/><img src='https://UCSDOnline.maps.arcgis.com/home/js/jsapi/esri/css/images/item_type_icons/featureshosted16.png' style=\"vertical-align:middle;\">Feature Layer Collection by akale_UCSD\n",
       "                        <br/>Last Modified: April 23, 2023\n",
       "                        <br/>0 comments, 0 views\n",
       "                    </div>\n",
       "                </div>\n",
       "                "
      ],
      "text/plain": [
       "<Item title:\"CA Obesity\" type:Feature Layer Collection owner:akale_UCSD>"
      ]
     },
     "execution_count": 5,
     "metadata": {},
     "output_type": "execute_result"
    }
   ],
   "source": [
    "feature_layer_item"
   ]
  }
 ],
 "metadata": {
  "kernelspec": {
   "display_name": "Python 3 (ipykernel)",
   "language": "python",
   "name": "python3"
  },
  "language_info": {
   "codemirror_mode": {
    "name": "ipython",
    "version": 3
   },
   "file_extension": ".py",
   "mimetype": "text/x-python",
   "name": "python",
   "nbconvert_exporter": "python",
   "pygments_lexer": "ipython3",
   "version": "3.9.16"
  }
 },
 "nbformat": 4,
 "nbformat_minor": 5
}
