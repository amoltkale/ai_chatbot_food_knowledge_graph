{
 "cells": [
  {
   "cell_type": "code",
   "execution_count": 3,
   "id": "3ccb8bac-cb4c-41e4-ac58-276465743795",
   "metadata": {},
   "outputs": [],
   "source": [
    "import pandas as pd\n",
    "import geopandas\n",
    "import matplotlib.pyplot as plt\n",
    "import sqlalchemy as sal\n",
    "import psycopg2\n",
    "import arcgis\n",
    "from arcgis.gis import GIS\n",
    "import sys\n",
    "sys.path.append('../')\n",
    "from gis_resources import san_diego_county_zips\n",
    "import os\n",
    "from utils import get_config"
   ]
  },
  {
   "cell_type": "code",
   "execution_count": 2,
   "id": "c6b1028b-fe0f-4196-afc2-904928f4baf7",
   "metadata": {},
   "outputs": [],
   "source": [
    "from arcgis.features import GeoAccessor"
   ]
  },
  {
   "cell_type": "code",
   "execution_count": 4,
   "id": "57e1dc20-8f73-4fee-a71f-83f4903349ea",
   "metadata": {},
   "outputs": [
    {
     "name": "stdout",
     "output_type": "stream",
     "text": [
      "<configparser.ConfigParser object at 0x145762430>\n",
      "Please sign in to your GIS and paste the code that is obtained below.\n",
      "If a web browser does not automatically open, please navigate to the URL below yourself instead.\n",
      "Opening web browser to navigate to: https://ucsdonline.maps.arcgis.com/sharing/rest/oauth2/authorize?response_type=code&client_id=Elm5V3upnnV17Q3r&redirect_uri=urn%3Aietf%3Awg%3Aoauth%3A2.0%3Aoob&state=hiJa7OZ02iA0P1EdQ0mRA6kXbqOOw2&allow_verification=false\n"
     ]
    },
    {
     "name": "stdin",
     "output_type": "stream",
     "text": [
      "Enter code obtained on signing in using SAML:  ········\n"
     ]
    },
    {
     "name": "stderr",
     "output_type": "stream",
     "text": [
      "/Users/amolkale/Documents/DSE/DSE260-Capstone-Project/capstone/venv3.9/lib/python3.9/site-packages/urllib3/connectionpool.py:1045: InsecureRequestWarning: Unverified HTTPS request is being made to host 'ucsdonline.maps.arcgis.com'. Adding certificate verification is strongly advised. See: https://urllib3.readthedocs.io/en/1.26.x/advanced-usage.html#ssl-warnings\n",
      "  warnings.warn(\n"
     ]
    }
   ],
   "source": [
    "gis = GIS(\"https://ucsdonline.maps.arcgis.com/home\", client_id=get_config(\"arcgis\",\"clientid\"))"
   ]
  },
  {
   "cell_type": "code",
   "execution_count": 4,
   "id": "14d977e9-01f4-46fd-9f15-379cfb3e4abd",
   "metadata": {},
   "outputs": [],
   "source": [
    "# df = pd.DataFrame(\n",
    "#     {'City': ['Buenos Aires', 'Brasilia', 'Santiago', 'Bogota', 'Caracas'],\n",
    "#      'Country': ['Argentina', 'Brazil', 'Chile', 'Colombia', 'Venezuela'],\n",
    "#      'Latitude': [-34.58, -15.78, -33.45, 4.60, 10.48],\n",
    "#      'Longitude': [-58.66, -47.91, -70.66, -74.08, -66.86]})"
   ]
  },
  {
   "cell_type": "code",
   "execution_count": 5,
   "id": "3b3fb8ae-cbe6-4182-887b-92f6b088ca7a",
   "metadata": {},
   "outputs": [],
   "source": [
    "# gdf = geopandas.GeoDataFrame(\n",
    "#     df, geometry=geopandas.points_from_xy(df.Longitude, df.Latitude))"
   ]
  },
  {
   "cell_type": "code",
   "execution_count": 6,
   "id": "af5e68d3-8770-4e71-b914-59b5f830d832",
   "metadata": {},
   "outputs": [],
   "source": [
    "# print(gdf.head())"
   ]
  },
  {
   "cell_type": "code",
   "execution_count": 7,
   "id": "68cde741-c5dc-4b05-b4f0-e9c0749d2b26",
   "metadata": {},
   "outputs": [],
   "source": [
    "# world = geopandas.read_file(geopandas.datasets.get_path('naturalearth_lowres'))\n",
    "\n",
    "# # We restrict to South America.\n",
    "# ax = world[world.continent == 'South America'].plot(\n",
    "#     color='white', edgecolor='black')\n",
    "\n",
    "# # We can now plot our ``GeoDataFrame``.\n",
    "# gdf.plot(ax=ax, color='red')\n",
    "\n",
    "# plt.show()"
   ]
  },
  {
   "cell_type": "code",
   "execution_count": 8,
   "id": "0218c357-7752-4a61-b2a9-c43e53ea1d00",
   "metadata": {},
   "outputs": [],
   "source": [
    "# df"
   ]
  },
  {
   "cell_type": "code",
   "execution_count": 5,
   "id": "29dc3171-769e-4d89-8fe3-30c5cef08f53",
   "metadata": {},
   "outputs": [
    {
     "name": "stdout",
     "output_type": "stream",
     "text": [
      "<configparser.ConfigParser object at 0x145fb0310>\n",
      "<configparser.ConfigParser object at 0x145fa7f10>\n"
     ]
    }
   ],
   "source": [
    "nourish_user = get_config(\"nourish_db\",\"username\")\n",
    "nourish_pswd = get_config(\"nourish_db\",\"passkey\")"
   ]
  },
  {
   "cell_type": "code",
   "execution_count": 6,
   "id": "35c077e3-c0d6-4ca0-9b0d-e602d5fd535b",
   "metadata": {},
   "outputs": [],
   "source": [
    "conn = psycopg2.connect(\n",
    "    host=\"awesome-hw.sdsc.edu\",\n",
    "    database=\"nourish\",\n",
    "    user=nourish_user,\n",
    "    password=nourish_pswd)"
   ]
  },
  {
   "cell_type": "code",
   "execution_count": 7,
   "id": "3509dc93-6fe2-420f-baf1-b5b681fb9f2f",
   "metadata": {},
   "outputs": [],
   "source": [
    "# create a cursor\n",
    "cur = conn.cursor()\n",
    "        \n",
    "\n",
    "# execute a statement\n",
    "cur.execute('select * from ca_business')\n",
    "\n",
    "        # display the PostgreSQL database server version\n",
    "ca_business_result = cur.fetchall()\n",
    "       \n",
    "\t# close the communication with the PostgreSQL\n",
    "cur.close()"
   ]
  },
  {
   "cell_type": "code",
   "execution_count": 9,
   "id": "60275bb6-39c1-472d-8a12-a008d297daf5",
   "metadata": {},
   "outputs": [],
   "source": [
    "ca_business_result_list = [(row[1],row[4],row[5],row[7],row[8],row[9]) for row in ca_business_result]\n",
    "#lat_long_list[:10]"
   ]
  },
  {
   "cell_type": "code",
   "execution_count": 10,
   "id": "73e479c0-4a90-435e-a878-10605a78bb17",
   "metadata": {},
   "outputs": [],
   "source": [
    "# Create a DataFrame\n",
    "# There could be some limitation to keeping `categories` as column since arcgis was messing up the data\n",
    "# , could it be a keyword ? Let's just change the name to 'business_type'\n",
    "dataFrame = pd.DataFrame(ca_business_result_list,\n",
    "              columns=(\"business_name\",\"latitude\", \"longitude\",\"zip\", \"business_type\",\"city\")\n",
    "              );"
   ]
  },
  {
   "cell_type": "code",
   "execution_count": 11,
   "id": "554f9618-8c0b-4148-8ab9-6920604107a7",
   "metadata": {},
   "outputs": [
    {
     "data": {
      "text/html": [
       "<div>\n",
       "<style scoped>\n",
       "    .dataframe tbody tr th:only-of-type {\n",
       "        vertical-align: middle;\n",
       "    }\n",
       "\n",
       "    .dataframe tbody tr th {\n",
       "        vertical-align: top;\n",
       "    }\n",
       "\n",
       "    .dataframe thead th {\n",
       "        text-align: right;\n",
       "    }\n",
       "</style>\n",
       "<table border=\"1\" class=\"dataframe\">\n",
       "  <thead>\n",
       "    <tr style=\"text-align: right;\">\n",
       "      <th></th>\n",
       "      <th>business_name</th>\n",
       "      <th>latitude</th>\n",
       "      <th>longitude</th>\n",
       "      <th>zip</th>\n",
       "      <th>business_type</th>\n",
       "      <th>city</th>\n",
       "    </tr>\n",
       "  </thead>\n",
       "  <tbody>\n",
       "    <tr>\n",
       "      <th>0</th>\n",
       "      <td>Alley 6 Craft Distillery</td>\n",
       "      <td>38.6281104</td>\n",
       "      <td>-122.8759307</td>\n",
       "      <td>95448.0</td>\n",
       "      <td>[Distillery]</td>\n",
       "      <td>Healdsburg</td>\n",
       "    </tr>\n",
       "    <tr>\n",
       "      <th>1</th>\n",
       "      <td>Amami Sushi Bistro</td>\n",
       "      <td>37.6201856</td>\n",
       "      <td>-122.410203</td>\n",
       "      <td>94066.0</td>\n",
       "      <td>[Sushi restaurant]</td>\n",
       "      <td>San Bruno</td>\n",
       "    </tr>\n",
       "  </tbody>\n",
       "</table>\n",
       "</div>"
      ],
      "text/plain": [
       "              business_name    latitude     longitude      zip  \\\n",
       "0  Alley 6 Craft Distillery  38.6281104  -122.8759307  95448.0   \n",
       "1        Amami Sushi Bistro  37.6201856   -122.410203  94066.0   \n",
       "\n",
       "        business_type        city  \n",
       "0        [Distillery]  Healdsburg  \n",
       "1  [Sushi restaurant]   San Bruno  "
      ]
     },
     "execution_count": 11,
     "metadata": {},
     "output_type": "execute_result"
    }
   ],
   "source": [
    "dataFrame.head(2)"
   ]
  },
  {
   "cell_type": "code",
   "execution_count": 12,
   "id": "8768072e-954c-499a-9db9-9a252d92abc1",
   "metadata": {},
   "outputs": [],
   "source": [
    "# since some of the zip are not present in ca_business table\n",
    "dataFrame = dataFrame[~dataFrame['zip'].isna()]"
   ]
  },
  {
   "cell_type": "code",
   "execution_count": null,
   "id": "f538efe1-6264-4f96-b5a9-73db9e78f4f9",
   "metadata": {},
   "outputs": [],
   "source": [
    "dataFrame = dataFrame.astype({\"zip\": int})"
   ]
  },
  {
   "cell_type": "code",
   "execution_count": 14,
   "id": "fce6a356-7702-472b-961b-be233767ef25",
   "metadata": {},
   "outputs": [
    {
     "data": {
      "text/plain": [
       "[91910, 91911, 91913, 91914, 91915, 91916, 91917, 91931, 91932, 91934]"
      ]
     },
     "execution_count": 14,
     "metadata": {},
     "output_type": "execute_result"
    }
   ],
   "source": [
    "# Pick the data for only San Diego County\n",
    "san_diego_county_zips_lst = san_diego_county_zips()\n",
    "san_diego_county_zips_lst[:10]"
   ]
  },
  {
   "cell_type": "code",
   "execution_count": 15,
   "id": "53e4f1e8-13b7-44ea-abb6-2b29509fef80",
   "metadata": {},
   "outputs": [
    {
     "data": {
      "text/html": [
       "<div>\n",
       "<style scoped>\n",
       "    .dataframe tbody tr th:only-of-type {\n",
       "        vertical-align: middle;\n",
       "    }\n",
       "\n",
       "    .dataframe tbody tr th {\n",
       "        vertical-align: top;\n",
       "    }\n",
       "\n",
       "    .dataframe thead th {\n",
       "        text-align: right;\n",
       "    }\n",
       "</style>\n",
       "<table border=\"1\" class=\"dataframe\">\n",
       "  <thead>\n",
       "    <tr style=\"text-align: right;\">\n",
       "      <th></th>\n",
       "      <th>business_name</th>\n",
       "      <th>latitude</th>\n",
       "      <th>longitude</th>\n",
       "      <th>zip</th>\n",
       "      <th>business_type</th>\n",
       "      <th>city</th>\n",
       "    </tr>\n",
       "  </thead>\n",
       "  <tbody>\n",
       "    <tr>\n",
       "      <th>4</th>\n",
       "      <td>Internet Solutions For Less</td>\n",
       "      <td>33.1863539</td>\n",
       "      <td>-117.25029649999999</td>\n",
       "      <td>92081</td>\n",
       "      <td>[Website designer, Design agency, Internet mar...</td>\n",
       "      <td>Vista</td>\n",
       "    </tr>\n",
       "    <tr>\n",
       "      <th>23</th>\n",
       "      <td>Wetzel's Pretzels</td>\n",
       "      <td>32.708565199999995</td>\n",
       "      <td>-117.17027739999999</td>\n",
       "      <td>92101</td>\n",
       "      <td>[Pretzel store]</td>\n",
       "      <td>San Diego</td>\n",
       "    </tr>\n",
       "  </tbody>\n",
       "</table>\n",
       "</div>"
      ],
      "text/plain": [
       "                  business_name            latitude            longitude  \\\n",
       "4   Internet Solutions For Less          33.1863539  -117.25029649999999   \n",
       "23            Wetzel's Pretzels  32.708565199999995  -117.17027739999999   \n",
       "\n",
       "      zip                                      business_type       city  \n",
       "4   92081  [Website designer, Design agency, Internet mar...      Vista  \n",
       "23  92101                                    [Pretzel store]  San Diego  "
      ]
     },
     "execution_count": 15,
     "metadata": {},
     "output_type": "execute_result"
    }
   ],
   "source": [
    "dataFrame = dataFrame[dataFrame[\"zip\"].isin(san_diego_county_zips_lst)]\n",
    "dataFrame.head(2)"
   ]
  },
  {
   "cell_type": "code",
   "execution_count": 16,
   "id": "cdef6eea-6e2a-4050-ae98-e10f54fc834f",
   "metadata": {},
   "outputs": [],
   "source": [
    "# Converting the dataframe with lat/long column to geo dataframe using geopandas\n",
    "gdf = geopandas.GeoDataFrame(dataFrame, geometry=geopandas.points_from_xy(dataFrame.longitude, dataFrame.latitude))"
   ]
  },
  {
   "cell_type": "code",
   "execution_count": 17,
   "id": "5fd685d7-befb-4062-8abd-dca6a3c7830c",
   "metadata": {},
   "outputs": [],
   "source": [
    "ca_business_sgdf = GeoAccessor.from_geodataframe(gdf, inplace=False, column_name='SHAPE')"
   ]
  },
  {
   "cell_type": "code",
   "execution_count": 19,
   "id": "d5415b22-0098-4ac2-aac1-ced7fb9fe96d",
   "metadata": {},
   "outputs": [],
   "source": [
    "#ca_business_sgdf.head(5)\n",
    "ca_business_sgdf['business_type'].fillna('',inplace=True)\n",
    "ca_business_sgdf['business_type']=ca_business_sgdf.business_type.apply(lambda x: ','.join(x))\n"
   ]
  },
  {
   "cell_type": "code",
   "execution_count": 20,
   "id": "cca6a066-f111-4000-a6c7-fea0a8d6fcd0",
   "metadata": {},
   "outputs": [],
   "source": [
    "ca_business_sgdf=ca_business_sgdf.drop(['latitude','longitude'], axis=1)"
   ]
  },
  {
   "cell_type": "code",
   "execution_count": 21,
   "id": "83ec8fde-3947-4970-834a-0fcd0566deb5",
   "metadata": {},
   "outputs": [],
   "source": [
    "ca_business_sgdf['zip'] = ca_business_sgdf['zip'].astype(str)"
   ]
  },
  {
   "cell_type": "code",
   "execution_count": 22,
   "id": "f2abc3a2-447b-4d9f-85d4-8ec813def731",
   "metadata": {},
   "outputs": [
    {
     "name": "stdout",
     "output_type": "stream",
     "text": [
      "<class 'pandas.core.frame.DataFrame'>\n",
      "Int64Index: 46516 entries, 4 to 515948\n",
      "Data columns (total 5 columns):\n",
      " #   Column         Non-Null Count  Dtype   \n",
      "---  ------         --------------  -----   \n",
      " 0   business_name  46516 non-null  object  \n",
      " 1   zip            46516 non-null  object  \n",
      " 2   business_type  46516 non-null  object  \n",
      " 3   city           46381 non-null  object  \n",
      " 4   SHAPE          46516 non-null  geometry\n",
      "dtypes: geometry(1), object(4)\n",
      "memory usage: 2.1+ MB\n"
     ]
    }
   ],
   "source": [
    "ca_business_sgdf.info()"
   ]
  },
  {
   "cell_type": "code",
   "execution_count": 23,
   "id": "e2b9a0c6-89f3-4321-8661-baaa531f066a",
   "metadata": {},
   "outputs": [
    {
     "name": "stdout",
     "output_type": "stream",
     "text": [
      "CPU times: user 37 s, sys: 1.82 s, total: 38.8 s\n",
      "Wall time: 1min 26s\n"
     ]
    }
   ],
   "source": [
    "%%time\n",
    "# Convert back from a SEDF into a feature layer, and publishing on AGOL\n",
    "my_new_featurelayer = ca_business_sgdf.spatial.to_featurelayer(title=\"San Diego County Businesses\", \n",
    "                                                         gis=gis, \n",
    "                                                         folder='nourish_gis',\n",
    "                                                         tags=['SanDiegoCountyBusinesses'])"
   ]
  },
  {
   "cell_type": "code",
   "execution_count": 28,
   "id": "c87ec758-933d-4338-ad99-4edc7fc8492e",
   "metadata": {},
   "outputs": [],
   "source": [
    "pd.set_option('display.max_colwidth', None)\n"
   ]
  },
  {
   "cell_type": "code",
   "execution_count": null,
   "id": "d45d54db-28c2-4b4d-b9c3-ddc339a70fbd",
   "metadata": {},
   "outputs": [],
   "source": []
  }
 ],
 "metadata": {
  "kernelspec": {
   "display_name": "Python 3 (ipykernel)",
   "language": "python",
   "name": "python3"
  },
  "language_info": {
   "codemirror_mode": {
    "name": "ipython",
    "version": 3
   },
   "file_extension": ".py",
   "mimetype": "text/x-python",
   "name": "python",
   "nbconvert_exporter": "python",
   "pygments_lexer": "ipython3",
   "version": "3.9.16"
  }
 },
 "nbformat": 4,
 "nbformat_minor": 5
}
