{
 "cells": [
  {
   "cell_type": "code",
   "execution_count": 1,
   "id": "3ccb8bac-cb4c-41e4-ac58-276465743795",
   "metadata": {},
   "outputs": [],
   "source": [
    "import pandas as pd\n",
    "import geopandas\n",
    "import matplotlib.pyplot as plt\n",
    "import sqlalchemy as sal\n",
    "import psycopg2\n",
    "import arcgis\n",
    "from arcgis.gis import GIS\n",
    "import sys\n",
    "sys.path.append('../')\n",
    "from gis_resources import san_diego_county_zips\n",
    "import os"
   ]
  },
  {
   "cell_type": "code",
   "execution_count": 2,
   "id": "c6b1028b-fe0f-4196-afc2-904928f4baf7",
   "metadata": {},
   "outputs": [],
   "source": [
    "from arcgis.features import GeoAccessor"
   ]
  },
  {
   "cell_type": "code",
   "execution_count": 3,
   "id": "57e1dc20-8f73-4fee-a71f-83f4903349ea",
   "metadata": {},
   "outputs": [
    {
     "name": "stdout",
     "output_type": "stream",
     "text": [
      "Enter the Client ID/APP ID generated from Arc GIS:\n"
     ]
    },
    {
     "name": "stdin",
     "output_type": "stream",
     "text": [
      " Elm5V3upnnV17Q3r\n"
     ]
    },
    {
     "name": "stdout",
     "output_type": "stream",
     "text": [
      "Please sign in to your GIS and paste the code that is obtained below.\n",
      "If a web browser does not automatically open, please navigate to the URL below yourself instead.\n",
      "Opening web browser to navigate to: https://ucsdonline.maps.arcgis.com/sharing/rest/oauth2/authorize?response_type=code&client_id=Elm5V3upnnV17Q3r&redirect_uri=urn%3Aietf%3Awg%3Aoauth%3A2.0%3Aoob&state=PVplAlUR3RIJfX3Q7qZUn35UHTy9qy&allow_verification=false\n"
     ]
    },
    {
     "name": "stdin",
     "output_type": "stream",
     "text": [
      "Enter code obtained on signing in using SAML:  ········\n"
     ]
    },
    {
     "name": "stderr",
     "output_type": "stream",
     "text": [
      "/Users/amolkale/Documents/DSE/DSE260-Capstone-Project/capstone/venv3.9/lib/python3.9/site-packages/urllib3/connectionpool.py:1045: InsecureRequestWarning: Unverified HTTPS request is being made to host 'ucsdonline.maps.arcgis.com'. Adding certificate verification is strongly advised. See: https://urllib3.readthedocs.io/en/1.26.x/advanced-usage.html#ssl-warnings\n",
      "  warnings.warn(\n"
     ]
    },
    {
     "data": {
      "text/plain": [
       "'2.1.0'"
      ]
     },
     "execution_count": 3,
     "metadata": {},
     "output_type": "execute_result"
    }
   ],
   "source": [
    "\n",
    "#gis = GIS(username='izaslavsky_ucsd')  # this will ask for password. \n",
    "print(\"Enter the Client ID/APP ID generated from Arc GIS:\")\n",
    "app_id = input()\n",
    "gis = GIS(\"https://ucsdonline.maps.arcgis.com/home\", client_id=app_id)\n",
    "arcgis.__version__\n",
    "# Elm5V3upnnV17Q3r"
   ]
  },
  {
   "cell_type": "code",
   "execution_count": 4,
   "id": "14d977e9-01f4-46fd-9f15-379cfb3e4abd",
   "metadata": {},
   "outputs": [],
   "source": [
    "# df = pd.DataFrame(\n",
    "#     {'City': ['Buenos Aires', 'Brasilia', 'Santiago', 'Bogota', 'Caracas'],\n",
    "#      'Country': ['Argentina', 'Brazil', 'Chile', 'Colombia', 'Venezuela'],\n",
    "#      'Latitude': [-34.58, -15.78, -33.45, 4.60, 10.48],\n",
    "#      'Longitude': [-58.66, -47.91, -70.66, -74.08, -66.86]})"
   ]
  },
  {
   "cell_type": "code",
   "execution_count": 5,
   "id": "3b3fb8ae-cbe6-4182-887b-92f6b088ca7a",
   "metadata": {},
   "outputs": [],
   "source": [
    "# gdf = geopandas.GeoDataFrame(\n",
    "#     df, geometry=geopandas.points_from_xy(df.Longitude, df.Latitude))"
   ]
  },
  {
   "cell_type": "code",
   "execution_count": 6,
   "id": "af5e68d3-8770-4e71-b914-59b5f830d832",
   "metadata": {},
   "outputs": [],
   "source": [
    "# print(gdf.head())"
   ]
  },
  {
   "cell_type": "code",
   "execution_count": 7,
   "id": "68cde741-c5dc-4b05-b4f0-e9c0749d2b26",
   "metadata": {},
   "outputs": [],
   "source": [
    "# world = geopandas.read_file(geopandas.datasets.get_path('naturalearth_lowres'))\n",
    "\n",
    "# # We restrict to South America.\n",
    "# ax = world[world.continent == 'South America'].plot(\n",
    "#     color='white', edgecolor='black')\n",
    "\n",
    "# # We can now plot our ``GeoDataFrame``.\n",
    "# gdf.plot(ax=ax, color='red')\n",
    "\n",
    "# plt.show()"
   ]
  },
  {
   "cell_type": "code",
   "execution_count": 8,
   "id": "0218c357-7752-4a61-b2a9-c43e53ea1d00",
   "metadata": {},
   "outputs": [],
   "source": [
    "# df"
   ]
  },
  {
   "cell_type": "code",
   "execution_count": null,
   "id": "29dc3171-769e-4d89-8fe3-30c5cef08f53",
   "metadata": {},
   "outputs": [],
   "source": [
    "print(\"Nourish User:\")\n",
    "nourish_user = input()\n",
    "print(\"Nourish Password:\")\n",
    "nourish_pswd = input()"
   ]
  },
  {
   "cell_type": "code",
   "execution_count": 10,
   "id": "35c077e3-c0d6-4ca0-9b0d-e602d5fd535b",
   "metadata": {},
   "outputs": [],
   "source": [
    "conn = psycopg2.connect(\n",
    "    host=\"awesome-hw.sdsc.edu\",\n",
    "    database=\"nourish\",\n",
    "    user=nourish_user,\n",
    "    password=nourish_pswd)"
   ]
  },
  {
   "cell_type": "code",
   "execution_count": 11,
   "id": "3509dc93-6fe2-420f-baf1-b5b681fb9f2f",
   "metadata": {},
   "outputs": [],
   "source": [
    "# create a cursor\n",
    "cur = conn.cursor()\n",
    "        \n",
    "\n",
    "# execute a statement\n",
    "cur.execute('select * from ca_business')\n",
    "\n",
    "        # display the PostgreSQL database server version\n",
    "ca_business_result = cur.fetchall()\n",
    "       \n",
    "\t# close the communication with the PostgreSQL\n",
    "cur.close()"
   ]
  },
  {
   "cell_type": "code",
   "execution_count": 12,
   "id": "60275bb6-39c1-472d-8a12-a008d297daf5",
   "metadata": {},
   "outputs": [],
   "source": [
    "ca_business_result_list = [(row[1],row[4],row[5],row[7],row[8],row[9]) for row in ca_business_result]\n",
    "#lat_long_list[:10]"
   ]
  },
  {
   "cell_type": "code",
   "execution_count": 13,
   "id": "73e479c0-4a90-435e-a878-10605a78bb17",
   "metadata": {},
   "outputs": [],
   "source": [
    "# Create a DataFrame\n",
    "dataFrame = pd.DataFrame(ca_business_result_list,\n",
    "              columns=(\"business_name\",\"latitude\", \"longitude\",\"zip\", \"categories\",\"city\")\n",
    "              );"
   ]
  },
  {
   "cell_type": "code",
   "execution_count": 14,
   "id": "554f9618-8c0b-4148-8ab9-6920604107a7",
   "metadata": {},
   "outputs": [
    {
     "data": {
      "text/html": [
       "<div>\n",
       "<style scoped>\n",
       "    .dataframe tbody tr th:only-of-type {\n",
       "        vertical-align: middle;\n",
       "    }\n",
       "\n",
       "    .dataframe tbody tr th {\n",
       "        vertical-align: top;\n",
       "    }\n",
       "\n",
       "    .dataframe thead th {\n",
       "        text-align: right;\n",
       "    }\n",
       "</style>\n",
       "<table border=\"1\" class=\"dataframe\">\n",
       "  <thead>\n",
       "    <tr style=\"text-align: right;\">\n",
       "      <th></th>\n",
       "      <th>business_name</th>\n",
       "      <th>latitude</th>\n",
       "      <th>longitude</th>\n",
       "      <th>zip</th>\n",
       "      <th>categories</th>\n",
       "      <th>city</th>\n",
       "    </tr>\n",
       "  </thead>\n",
       "  <tbody>\n",
       "    <tr>\n",
       "      <th>0</th>\n",
       "      <td>Flyers</td>\n",
       "      <td>34.1203512</td>\n",
       "      <td>-116.43687129999999</td>\n",
       "      <td>92284.0</td>\n",
       "      <td>[Gas station]</td>\n",
       "      <td>Yucca Valley</td>\n",
       "    </tr>\n",
       "    <tr>\n",
       "      <th>1</th>\n",
       "      <td>Del Taco</td>\n",
       "      <td>35.3679968</td>\n",
       "      <td>-119.04427109999999</td>\n",
       "      <td>93309.0</td>\n",
       "      <td>[Fast food restaurant, American restaurant, Ta...</td>\n",
       "      <td>Bakersfield</td>\n",
       "    </tr>\n",
       "    <tr>\n",
       "      <th>2</th>\n",
       "      <td>Lanza's Restaurant</td>\n",
       "      <td>39.2385632</td>\n",
       "      <td>-120.0348415</td>\n",
       "      <td>96143.0</td>\n",
       "      <td>[Italian restaurant]</td>\n",
       "      <td>Kings Beach</td>\n",
       "    </tr>\n",
       "    <tr>\n",
       "      <th>3</th>\n",
       "      <td>Taqueria La Esquinita</td>\n",
       "      <td>36.3159245</td>\n",
       "      <td>-119.708827</td>\n",
       "      <td>93202.0</td>\n",
       "      <td>[Mexican restaurant]</td>\n",
       "      <td>Armona</td>\n",
       "    </tr>\n",
       "    <tr>\n",
       "      <th>4</th>\n",
       "      <td>BikeLink eLockers: Ardenwood Park and Ride</td>\n",
       "      <td>37.551193</td>\n",
       "      <td>-122.054447</td>\n",
       "      <td>94555.0</td>\n",
       "      <td>[Parking lot for bicycles, Park &amp; ride]</td>\n",
       "      <td>Fremont</td>\n",
       "    </tr>\n",
       "    <tr>\n",
       "      <th>...</th>\n",
       "      <td>...</td>\n",
       "      <td>...</td>\n",
       "      <td>...</td>\n",
       "      <td>...</td>\n",
       "      <td>...</td>\n",
       "      <td>...</td>\n",
       "    </tr>\n",
       "    <tr>\n",
       "      <th>515957</th>\n",
       "      <td>Devil's Dozen Donut Shop</td>\n",
       "      <td>32.7255199</td>\n",
       "      <td>-117.169867</td>\n",
       "      <td>92101.0</td>\n",
       "      <td>[Donut shop]</td>\n",
       "      <td>San Diego</td>\n",
       "    </tr>\n",
       "    <tr>\n",
       "      <th>515958</th>\n",
       "      <td>Hollywood Star liquor</td>\n",
       "      <td>34.101556099999996</td>\n",
       "      <td>-118.3112881</td>\n",
       "      <td>90028.0</td>\n",
       "      <td>[Liquor store]</td>\n",
       "      <td>Los Angeles</td>\n",
       "    </tr>\n",
       "    <tr>\n",
       "      <th>515959</th>\n",
       "      <td>RE/MAX Premier Realty</td>\n",
       "      <td>33.6721534</td>\n",
       "      <td>-117.7917674</td>\n",
       "      <td>92604.0</td>\n",
       "      <td>[Real estate agency, Commercial real estate ag...</td>\n",
       "      <td>Irvine</td>\n",
       "    </tr>\n",
       "    <tr>\n",
       "      <th>515960</th>\n",
       "      <td>Mavenlink</td>\n",
       "      <td>33.670243899999996</td>\n",
       "      <td>-117.762992</td>\n",
       "      <td>92618.0</td>\n",
       "      <td>[Software company]</td>\n",
       "      <td>Irvine</td>\n",
       "    </tr>\n",
       "    <tr>\n",
       "      <th>515961</th>\n",
       "      <td>Normandie Recreation Center</td>\n",
       "      <td>34.0446612</td>\n",
       "      <td>-118.2998004</td>\n",
       "      <td>90006.0</td>\n",
       "      <td>[Recreation center, Park]</td>\n",
       "      <td>Los Angeles</td>\n",
       "    </tr>\n",
       "  </tbody>\n",
       "</table>\n",
       "<p>515962 rows × 6 columns</p>\n",
       "</div>"
      ],
      "text/plain": [
       "                                     business_name            latitude  \\\n",
       "0                                           Flyers          34.1203512   \n",
       "1                                         Del Taco          35.3679968   \n",
       "2                               Lanza's Restaurant          39.2385632   \n",
       "3                            Taqueria La Esquinita          36.3159245   \n",
       "4       BikeLink eLockers: Ardenwood Park and Ride           37.551193   \n",
       "...                                            ...                 ...   \n",
       "515957                    Devil's Dozen Donut Shop          32.7255199   \n",
       "515958                       Hollywood Star liquor  34.101556099999996   \n",
       "515959                       RE/MAX Premier Realty          33.6721534   \n",
       "515960                                   Mavenlink  33.670243899999996   \n",
       "515961                 Normandie Recreation Center          34.0446612   \n",
       "\n",
       "                  longitude      zip  \\\n",
       "0       -116.43687129999999  92284.0   \n",
       "1       -119.04427109999999  93309.0   \n",
       "2              -120.0348415  96143.0   \n",
       "3               -119.708827  93202.0   \n",
       "4               -122.054447  94555.0   \n",
       "...                     ...      ...   \n",
       "515957          -117.169867  92101.0   \n",
       "515958         -118.3112881  90028.0   \n",
       "515959         -117.7917674  92604.0   \n",
       "515960          -117.762992  92618.0   \n",
       "515961         -118.2998004  90006.0   \n",
       "\n",
       "                                               categories          city  \n",
       "0                                           [Gas station]  Yucca Valley  \n",
       "1       [Fast food restaurant, American restaurant, Ta...   Bakersfield  \n",
       "2                                    [Italian restaurant]   Kings Beach  \n",
       "3                                    [Mexican restaurant]        Armona  \n",
       "4                 [Parking lot for bicycles, Park & ride]       Fremont  \n",
       "...                                                   ...           ...  \n",
       "515957                                       [Donut shop]     San Diego  \n",
       "515958                                     [Liquor store]   Los Angeles  \n",
       "515959  [Real estate agency, Commercial real estate ag...        Irvine  \n",
       "515960                                 [Software company]        Irvine  \n",
       "515961                          [Recreation center, Park]   Los Angeles  \n",
       "\n",
       "[515962 rows x 6 columns]"
      ]
     },
     "execution_count": 14,
     "metadata": {},
     "output_type": "execute_result"
    }
   ],
   "source": [
    "dataFrame"
   ]
  },
  {
   "cell_type": "code",
   "execution_count": 15,
   "id": "8768072e-954c-499a-9db9-9a252d92abc1",
   "metadata": {},
   "outputs": [],
   "source": [
    "# since some of the zip are not present in ca_business table\n",
    "dataFrame = dataFrame[~dataFrame['zip'].isna()]"
   ]
  },
  {
   "cell_type": "code",
   "execution_count": 16,
   "id": "f538efe1-6264-4f96-b5a9-73db9e78f4f9",
   "metadata": {},
   "outputs": [
    {
     "data": {
      "text/plain": [
       "0         92284\n",
       "1         93309\n",
       "2         96143\n",
       "3         93202\n",
       "4         94555\n",
       "          ...  \n",
       "515957    92101\n",
       "515958    90028\n",
       "515959    92604\n",
       "515960    92618\n",
       "515961    90006\n",
       "Name: zip, Length: 506583, dtype: int64"
      ]
     },
     "execution_count": 16,
     "metadata": {},
     "output_type": "execute_result"
    }
   ],
   "source": [
    "\n",
    "dataFrame = dataFrame.astype({\"zip\": int})\n",
    "dataFrame['zip']"
   ]
  },
  {
   "cell_type": "code",
   "execution_count": 17,
   "id": "fce6a356-7702-472b-961b-be233767ef25",
   "metadata": {},
   "outputs": [
    {
     "data": {
      "text/plain": [
       "[91910, 91911, 91913, 91914, 91915, 91916, 91917, 91931, 91932, 91934]"
      ]
     },
     "execution_count": 17,
     "metadata": {},
     "output_type": "execute_result"
    }
   ],
   "source": [
    "# Pick the data for only San Diego County\n",
    "san_diego_county_zips_lst = san_diego_county_zips()\n",
    "#df[df['col1'].isin(['a', 'c', 'h'])]\n",
    "san_diego_county_zips_lst[:10]"
   ]
  },
  {
   "cell_type": "code",
   "execution_count": 18,
   "id": "53e4f1e8-13b7-44ea-abb6-2b29509fef80",
   "metadata": {},
   "outputs": [
    {
     "data": {
      "text/html": [
       "<div>\n",
       "<style scoped>\n",
       "    .dataframe tbody tr th:only-of-type {\n",
       "        vertical-align: middle;\n",
       "    }\n",
       "\n",
       "    .dataframe tbody tr th {\n",
       "        vertical-align: top;\n",
       "    }\n",
       "\n",
       "    .dataframe thead th {\n",
       "        text-align: right;\n",
       "    }\n",
       "</style>\n",
       "<table border=\"1\" class=\"dataframe\">\n",
       "  <thead>\n",
       "    <tr style=\"text-align: right;\">\n",
       "      <th></th>\n",
       "      <th>business_name</th>\n",
       "      <th>latitude</th>\n",
       "      <th>longitude</th>\n",
       "      <th>zip</th>\n",
       "      <th>categories</th>\n",
       "      <th>city</th>\n",
       "    </tr>\n",
       "  </thead>\n",
       "  <tbody>\n",
       "    <tr>\n",
       "      <th>7</th>\n",
       "      <td>G-Global - Almacén San Diego</td>\n",
       "      <td>32.55052</td>\n",
       "      <td>-116.944516</td>\n",
       "      <td>92154</td>\n",
       "      <td>[Customs broker, Distribution service, Transpo...</td>\n",
       "      <td>San Diego</td>\n",
       "    </tr>\n",
       "    <tr>\n",
       "      <th>17</th>\n",
       "      <td>Knowhere Games &amp; Comics</td>\n",
       "      <td>33.1379422</td>\n",
       "      <td>-117.17847099999999</td>\n",
       "      <td>92078</td>\n",
       "      <td>[Comic book store, Collectibles store, Game st...</td>\n",
       "      <td>San Marcos</td>\n",
       "    </tr>\n",
       "    <tr>\n",
       "      <th>20</th>\n",
       "      <td>Hilton Garden Inn Carlsbad Beach</td>\n",
       "      <td>33.121439699999996</td>\n",
       "      <td>-117.3260992</td>\n",
       "      <td>92011</td>\n",
       "      <td>[Hotel]</td>\n",
       "      <td>Carlsbad</td>\n",
       "    </tr>\n",
       "    <tr>\n",
       "      <th>32</th>\n",
       "      <td>Rolando's Taco Shop</td>\n",
       "      <td>32.695846599999996</td>\n",
       "      <td>-117.13851799999999</td>\n",
       "      <td>92113</td>\n",
       "      <td>[Mexican restaurant]</td>\n",
       "      <td>San Diego</td>\n",
       "    </tr>\n",
       "    <tr>\n",
       "      <th>69</th>\n",
       "      <td>A Childs Place Daycare</td>\n",
       "      <td>32.977381799999996</td>\n",
       "      <td>-117.13286339999999</td>\n",
       "      <td>92129</td>\n",
       "      <td>[Day care center]</td>\n",
       "      <td>San Diego</td>\n",
       "    </tr>\n",
       "    <tr>\n",
       "      <th>...</th>\n",
       "      <td>...</td>\n",
       "      <td>...</td>\n",
       "      <td>...</td>\n",
       "      <td>...</td>\n",
       "      <td>...</td>\n",
       "      <td>...</td>\n",
       "    </tr>\n",
       "    <tr>\n",
       "      <th>515947</th>\n",
       "      <td>Swell Coffee Co.</td>\n",
       "      <td>32.785516799999996</td>\n",
       "      <td>-117.2529374</td>\n",
       "      <td>92109</td>\n",
       "      <td>[Restaurant]</td>\n",
       "      <td>San Diego</td>\n",
       "    </tr>\n",
       "    <tr>\n",
       "      <th>515948</th>\n",
       "      <td>Hernandez Tire Pros</td>\n",
       "      <td>32.595175</td>\n",
       "      <td>-117.063655</td>\n",
       "      <td>91911</td>\n",
       "      <td>[Tire shop, Used tire shop, Wheel store]</td>\n",
       "      <td>Chula Vista</td>\n",
       "    </tr>\n",
       "    <tr>\n",
       "      <th>515949</th>\n",
       "      <td>Rosecrans plaza</td>\n",
       "      <td>32.7525338</td>\n",
       "      <td>-117.20612009999999</td>\n",
       "      <td>92110</td>\n",
       "      <td>[Shopping mall, Restaurant]</td>\n",
       "      <td>San Diego</td>\n",
       "    </tr>\n",
       "    <tr>\n",
       "      <th>515955</th>\n",
       "      <td>Bank of America ATM (Drive-thru)</td>\n",
       "      <td>32.797305099999996</td>\n",
       "      <td>-117.2534197</td>\n",
       "      <td>92109</td>\n",
       "      <td>[ATM]</td>\n",
       "      <td>San Diego</td>\n",
       "    </tr>\n",
       "    <tr>\n",
       "      <th>515957</th>\n",
       "      <td>Devil's Dozen Donut Shop</td>\n",
       "      <td>32.7255199</td>\n",
       "      <td>-117.169867</td>\n",
       "      <td>92101</td>\n",
       "      <td>[Donut shop]</td>\n",
       "      <td>San Diego</td>\n",
       "    </tr>\n",
       "  </tbody>\n",
       "</table>\n",
       "<p>46516 rows × 6 columns</p>\n",
       "</div>"
      ],
      "text/plain": [
       "                           business_name            latitude  \\\n",
       "7           G-Global - Almacén San Diego            32.55052   \n",
       "17               Knowhere Games & Comics          33.1379422   \n",
       "20      Hilton Garden Inn Carlsbad Beach  33.121439699999996   \n",
       "32                   Rolando's Taco Shop  32.695846599999996   \n",
       "69                A Childs Place Daycare  32.977381799999996   \n",
       "...                                  ...                 ...   \n",
       "515947                  Swell Coffee Co.  32.785516799999996   \n",
       "515948               Hernandez Tire Pros           32.595175   \n",
       "515949                   Rosecrans plaza          32.7525338   \n",
       "515955  Bank of America ATM (Drive-thru)  32.797305099999996   \n",
       "515957          Devil's Dozen Donut Shop          32.7255199   \n",
       "\n",
       "                  longitude    zip  \\\n",
       "7               -116.944516  92154   \n",
       "17      -117.17847099999999  92078   \n",
       "20             -117.3260992  92011   \n",
       "32      -117.13851799999999  92113   \n",
       "69      -117.13286339999999  92129   \n",
       "...                     ...    ...   \n",
       "515947         -117.2529374  92109   \n",
       "515948          -117.063655  91911   \n",
       "515949  -117.20612009999999  92110   \n",
       "515955         -117.2534197  92109   \n",
       "515957          -117.169867  92101   \n",
       "\n",
       "                                               categories         city  \n",
       "7       [Customs broker, Distribution service, Transpo...    San Diego  \n",
       "17      [Comic book store, Collectibles store, Game st...   San Marcos  \n",
       "20                                                [Hotel]     Carlsbad  \n",
       "32                                   [Mexican restaurant]    San Diego  \n",
       "69                                      [Day care center]    San Diego  \n",
       "...                                                   ...          ...  \n",
       "515947                                       [Restaurant]    San Diego  \n",
       "515948           [Tire shop, Used tire shop, Wheel store]  Chula Vista  \n",
       "515949                        [Shopping mall, Restaurant]    San Diego  \n",
       "515955                                              [ATM]    San Diego  \n",
       "515957                                       [Donut shop]    San Diego  \n",
       "\n",
       "[46516 rows x 6 columns]"
      ]
     },
     "execution_count": 18,
     "metadata": {},
     "output_type": "execute_result"
    }
   ],
   "source": [
    "dataFrame = dataFrame[dataFrame[\"zip\"].isin(san_diego_county_zips_lst)]\n",
    "dataFrame"
   ]
  },
  {
   "cell_type": "code",
   "execution_count": null,
   "id": "b33ccc36-d251-4f8c-8642-2d425ac7a230",
   "metadata": {},
   "outputs": [],
   "source": []
  },
  {
   "cell_type": "code",
   "execution_count": 19,
   "id": "332ea853-bed0-49a5-9cc5-fbe211a36bdc",
   "metadata": {},
   "outputs": [],
   "source": [
    "#!pip install psycopg2-binary"
   ]
  },
  {
   "cell_type": "code",
   "execution_count": 20,
   "id": "9f219355-2df0-4a6c-86a3-8937c7901881",
   "metadata": {},
   "outputs": [],
   "source": [
    "#!pip show psycopg2-binary"
   ]
  },
  {
   "cell_type": "code",
   "execution_count": 21,
   "id": "cdef6eea-6e2a-4050-ae98-e10f54fc834f",
   "metadata": {},
   "outputs": [],
   "source": [
    "gdf = geopandas.GeoDataFrame(\n",
    "    dataFrame, geometry=geopandas.points_from_xy(dataFrame.longitude, dataFrame.latitude))"
   ]
  },
  {
   "cell_type": "code",
   "execution_count": 22,
   "id": "5fd685d7-befb-4062-8abd-dca6a3c7830c",
   "metadata": {},
   "outputs": [],
   "source": [
    "ca_business_sgdf = GeoAccessor.from_geodataframe(gdf, inplace=False, column_name='SHAPE')"
   ]
  },
  {
   "cell_type": "code",
   "execution_count": 23,
   "id": "d5415b22-0098-4ac2-aac1-ced7fb9fe96d",
   "metadata": {},
   "outputs": [],
   "source": [
    "#ca_business_sgdf.head(5)\n",
    "ca_business_sgdf['categories'].fillna('',inplace=True)\n",
    "ca_business_sgdf['categories']=ca_business_sgdf.categories.apply(lambda x: ','.join(x))\n"
   ]
  },
  {
   "cell_type": "code",
   "execution_count": 24,
   "id": "cca6a066-f111-4000-a6c7-fea0a8d6fcd0",
   "metadata": {},
   "outputs": [],
   "source": [
    "ca_business_sgdf=ca_business_sgdf.drop(['latitude','longitude'], axis=1)"
   ]
  },
  {
   "cell_type": "code",
   "execution_count": 25,
   "id": "83ec8fde-3947-4970-834a-0fcd0566deb5",
   "metadata": {},
   "outputs": [],
   "source": [
    "ca_business_sgdf['zip'] = ca_business_sgdf['zip'].astype(str)"
   ]
  },
  {
   "cell_type": "code",
   "execution_count": 26,
   "id": "f2abc3a2-447b-4d9f-85d4-8ec813def731",
   "metadata": {},
   "outputs": [
    {
     "name": "stdout",
     "output_type": "stream",
     "text": [
      "<class 'pandas.core.frame.DataFrame'>\n",
      "Int64Index: 46516 entries, 7 to 515957\n",
      "Data columns (total 5 columns):\n",
      " #   Column         Non-Null Count  Dtype   \n",
      "---  ------         --------------  -----   \n",
      " 0   business_name  46516 non-null  object  \n",
      " 1   zip            46516 non-null  object  \n",
      " 2   categories     46516 non-null  object  \n",
      " 3   city           46381 non-null  object  \n",
      " 4   SHAPE          46516 non-null  geometry\n",
      "dtypes: geometry(1), object(4)\n",
      "memory usage: 2.1+ MB\n"
     ]
    }
   ],
   "source": [
    "ca_business_sgdf.info()"
   ]
  },
  {
   "cell_type": "code",
   "execution_count": 27,
   "id": "e2b9a0c6-89f3-4321-8661-baaa531f066a",
   "metadata": {},
   "outputs": [
    {
     "name": "stdout",
     "output_type": "stream",
     "text": [
      "CPU times: user 32.9 s, sys: 1.83 s, total: 34.7 s\n",
      "Wall time: 1min 11s\n"
     ]
    }
   ],
   "source": [
    "%%time\n",
    "# Convert back from a SEDF into a feature layer, and publishing on AGOL\n",
    "my_new_featurelayer = ca_business_sgdf.spatial.to_featurelayer(title=\"San Diego County Businesses\", \n",
    "                                                         gis=gis, \n",
    "                                                         folder='nourish_gis',\n",
    "                                                         tags=['SanDiegoCountyBusinesses'])"
   ]
  },
  {
   "cell_type": "code",
   "execution_count": 28,
   "id": "c87ec758-933d-4338-ad99-4edc7fc8492e",
   "metadata": {},
   "outputs": [],
   "source": [
    "pd.set_option('display.max_colwidth', None)\n"
   ]
  },
  {
   "cell_type": "code",
   "execution_count": 29,
   "id": "f9ce9afa-5f59-4398-ac7a-c98386461b8f",
   "metadata": {},
   "outputs": [
    {
     "data": {
      "text/html": [
       "<div>\n",
       "<style scoped>\n",
       "    .dataframe tbody tr th:only-of-type {\n",
       "        vertical-align: middle;\n",
       "    }\n",
       "\n",
       "    .dataframe tbody tr th {\n",
       "        vertical-align: top;\n",
       "    }\n",
       "\n",
       "    .dataframe thead th {\n",
       "        text-align: right;\n",
       "    }\n",
       "</style>\n",
       "<table border=\"1\" class=\"dataframe\">\n",
       "  <thead>\n",
       "    <tr style=\"text-align: right;\">\n",
       "      <th></th>\n",
       "      <th>business_name</th>\n",
       "      <th>zip</th>\n",
       "      <th>categories</th>\n",
       "      <th>city</th>\n",
       "      <th>SHAPE</th>\n",
       "    </tr>\n",
       "  </thead>\n",
       "  <tbody>\n",
       "    <tr>\n",
       "      <th>7</th>\n",
       "      <td>G-Global - Almacén San Diego</td>\n",
       "      <td>92154</td>\n",
       "      <td>Customs broker,Distribution service,Transportation service</td>\n",
       "      <td>San Diego</td>\n",
       "      <td>{\"x\": -116.944516, \"y\": 32.55052, \"spatialReference\": {\"wkid\": 4326}}</td>\n",
       "    </tr>\n",
       "    <tr>\n",
       "      <th>17</th>\n",
       "      <td>Knowhere Games &amp; Comics</td>\n",
       "      <td>92078</td>\n",
       "      <td>Comic book store,Collectibles store,Game store,Toy store</td>\n",
       "      <td>San Marcos</td>\n",
       "      <td>{\"x\": -117.17847099999999, \"y\": 33.1379422, \"spatialReference\": {\"wkid\": 4326}}</td>\n",
       "    </tr>\n",
       "    <tr>\n",
       "      <th>20</th>\n",
       "      <td>Hilton Garden Inn Carlsbad Beach</td>\n",
       "      <td>92011</td>\n",
       "      <td>Hotel</td>\n",
       "      <td>Carlsbad</td>\n",
       "      <td>{\"x\": -117.3260992, \"y\": 33.121439699999996, \"spatialReference\": {\"wkid\": 4326}}</td>\n",
       "    </tr>\n",
       "    <tr>\n",
       "      <th>32</th>\n",
       "      <td>Rolando's Taco Shop</td>\n",
       "      <td>92113</td>\n",
       "      <td>Mexican restaurant</td>\n",
       "      <td>San Diego</td>\n",
       "      <td>{\"x\": -117.13851799999999, \"y\": 32.695846599999996, \"spatialReference\": {\"wkid\": 4326}}</td>\n",
       "    </tr>\n",
       "    <tr>\n",
       "      <th>69</th>\n",
       "      <td>A Childs Place Daycare</td>\n",
       "      <td>92129</td>\n",
       "      <td>Day care center</td>\n",
       "      <td>San Diego</td>\n",
       "      <td>{\"x\": -117.13286339999999, \"y\": 32.977381799999996, \"spatialReference\": {\"wkid\": 4326}}</td>\n",
       "    </tr>\n",
       "    <tr>\n",
       "      <th>...</th>\n",
       "      <td>...</td>\n",
       "      <td>...</td>\n",
       "      <td>...</td>\n",
       "      <td>...</td>\n",
       "      <td>...</td>\n",
       "    </tr>\n",
       "    <tr>\n",
       "      <th>515947</th>\n",
       "      <td>Swell Coffee Co.</td>\n",
       "      <td>92109</td>\n",
       "      <td>Restaurant</td>\n",
       "      <td>San Diego</td>\n",
       "      <td>{\"x\": -117.2529374, \"y\": 32.785516799999996, \"spatialReference\": {\"wkid\": 4326}}</td>\n",
       "    </tr>\n",
       "    <tr>\n",
       "      <th>515948</th>\n",
       "      <td>Hernandez Tire Pros</td>\n",
       "      <td>91911</td>\n",
       "      <td>Tire shop,Used tire shop,Wheel store</td>\n",
       "      <td>Chula Vista</td>\n",
       "      <td>{\"x\": -117.063655, \"y\": 32.595175, \"spatialReference\": {\"wkid\": 4326}}</td>\n",
       "    </tr>\n",
       "    <tr>\n",
       "      <th>515949</th>\n",
       "      <td>Rosecrans plaza</td>\n",
       "      <td>92110</td>\n",
       "      <td>Shopping mall,Restaurant</td>\n",
       "      <td>San Diego</td>\n",
       "      <td>{\"x\": -117.20612009999999, \"y\": 32.7525338, \"spatialReference\": {\"wkid\": 4326}}</td>\n",
       "    </tr>\n",
       "    <tr>\n",
       "      <th>515955</th>\n",
       "      <td>Bank of America ATM (Drive-thru)</td>\n",
       "      <td>92109</td>\n",
       "      <td>ATM</td>\n",
       "      <td>San Diego</td>\n",
       "      <td>{\"x\": -117.2534197, \"y\": 32.797305099999996, \"spatialReference\": {\"wkid\": 4326}}</td>\n",
       "    </tr>\n",
       "    <tr>\n",
       "      <th>515957</th>\n",
       "      <td>Devil's Dozen Donut Shop</td>\n",
       "      <td>92101</td>\n",
       "      <td>Donut shop</td>\n",
       "      <td>San Diego</td>\n",
       "      <td>{\"x\": -117.169867, \"y\": 32.7255199, \"spatialReference\": {\"wkid\": 4326}}</td>\n",
       "    </tr>\n",
       "  </tbody>\n",
       "</table>\n",
       "<p>46516 rows × 5 columns</p>\n",
       "</div>"
      ],
      "text/plain": [
       "                           business_name    zip  \\\n",
       "7           G-Global - Almacén San Diego  92154   \n",
       "17               Knowhere Games & Comics  92078   \n",
       "20      Hilton Garden Inn Carlsbad Beach  92011   \n",
       "32                   Rolando's Taco Shop  92113   \n",
       "69                A Childs Place Daycare  92129   \n",
       "...                                  ...    ...   \n",
       "515947                  Swell Coffee Co.  92109   \n",
       "515948               Hernandez Tire Pros  91911   \n",
       "515949                   Rosecrans plaza  92110   \n",
       "515955  Bank of America ATM (Drive-thru)  92109   \n",
       "515957          Devil's Dozen Donut Shop  92101   \n",
       "\n",
       "                                                        categories  \\\n",
       "7       Customs broker,Distribution service,Transportation service   \n",
       "17        Comic book store,Collectibles store,Game store,Toy store   \n",
       "20                                                           Hotel   \n",
       "32                                              Mexican restaurant   \n",
       "69                                                 Day care center   \n",
       "...                                                            ...   \n",
       "515947                                                  Restaurant   \n",
       "515948                        Tire shop,Used tire shop,Wheel store   \n",
       "515949                                    Shopping mall,Restaurant   \n",
       "515955                                                         ATM   \n",
       "515957                                                  Donut shop   \n",
       "\n",
       "               city  \\\n",
       "7         San Diego   \n",
       "17       San Marcos   \n",
       "20         Carlsbad   \n",
       "32        San Diego   \n",
       "69        San Diego   \n",
       "...             ...   \n",
       "515947    San Diego   \n",
       "515948  Chula Vista   \n",
       "515949    San Diego   \n",
       "515955    San Diego   \n",
       "515957    San Diego   \n",
       "\n",
       "                                                                                          SHAPE  \n",
       "7                         {\"x\": -116.944516, \"y\": 32.55052, \"spatialReference\": {\"wkid\": 4326}}  \n",
       "17              {\"x\": -117.17847099999999, \"y\": 33.1379422, \"spatialReference\": {\"wkid\": 4326}}  \n",
       "20             {\"x\": -117.3260992, \"y\": 33.121439699999996, \"spatialReference\": {\"wkid\": 4326}}  \n",
       "32      {\"x\": -117.13851799999999, \"y\": 32.695846599999996, \"spatialReference\": {\"wkid\": 4326}}  \n",
       "69      {\"x\": -117.13286339999999, \"y\": 32.977381799999996, \"spatialReference\": {\"wkid\": 4326}}  \n",
       "...                                                                                         ...  \n",
       "515947         {\"x\": -117.2529374, \"y\": 32.785516799999996, \"spatialReference\": {\"wkid\": 4326}}  \n",
       "515948                   {\"x\": -117.063655, \"y\": 32.595175, \"spatialReference\": {\"wkid\": 4326}}  \n",
       "515949          {\"x\": -117.20612009999999, \"y\": 32.7525338, \"spatialReference\": {\"wkid\": 4326}}  \n",
       "515955         {\"x\": -117.2534197, \"y\": 32.797305099999996, \"spatialReference\": {\"wkid\": 4326}}  \n",
       "515957                  {\"x\": -117.169867, \"y\": 32.7255199, \"spatialReference\": {\"wkid\": 4326}}  \n",
       "\n",
       "[46516 rows x 5 columns]"
      ]
     },
     "execution_count": 29,
     "metadata": {},
     "output_type": "execute_result"
    }
   ],
   "source": [
    "ca_business_sgdf"
   ]
  },
  {
   "cell_type": "code",
   "execution_count": null,
   "id": "39e58b01-c905-4789-81e9-6ffcad3cc640",
   "metadata": {},
   "outputs": [],
   "source": []
  }
 ],
 "metadata": {
  "kernelspec": {
   "display_name": "Python 3 (ipykernel)",
   "language": "python",
   "name": "python3"
  },
  "language_info": {
   "codemirror_mode": {
    "name": "ipython",
    "version": 3
   },
   "file_extension": ".py",
   "mimetype": "text/x-python",
   "name": "python",
   "nbconvert_exporter": "python",
   "pygments_lexer": "ipython3",
   "version": "3.9.16"
  }
 },
 "nbformat": 4,
 "nbformat_minor": 5
}
