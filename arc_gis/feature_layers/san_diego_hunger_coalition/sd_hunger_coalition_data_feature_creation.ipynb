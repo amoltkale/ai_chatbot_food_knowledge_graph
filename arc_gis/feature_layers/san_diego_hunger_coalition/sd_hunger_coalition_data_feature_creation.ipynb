{
 "cells": [
  {
   "cell_type": "code",
   "execution_count": 29,
   "id": "8d06ad51-85c3-46ec-b591-d496eb357a19",
   "metadata": {},
   "outputs": [],
   "source": [
    "import pandas as pd\n",
    "import functools as ft\n",
    "from arcgis.features import FeatureLayer, FeatureLayerCollection\n",
    "from arcgis.gis import GIS\n",
    "import sys\n",
    "sys.path.append('../../')\n",
    "from utils import get_config"
   ]
  },
  {
   "cell_type": "code",
   "execution_count": 30,
   "id": "961af545-3534-41cd-a13d-5e37f2109bd5",
   "metadata": {},
   "outputs": [
    {
     "name": "stdout",
     "output_type": "stream",
     "text": [
      "<configparser.ConfigParser object at 0x1355ed8b0>\n",
      "Please sign in to your GIS and paste the code that is obtained below.\n",
      "If a web browser does not automatically open, please navigate to the URL below yourself instead.\n",
      "Opening web browser to navigate to: https://ucsdonline.maps.arcgis.com/sharing/rest/oauth2/authorize?response_type=code&client_id=Elm5V3upnnV17Q3r&redirect_uri=urn%3Aietf%3Awg%3Aoauth%3A2.0%3Aoob&state=yXv2ItxF7ulXOuGTxP9x5PkGqjN7FG&allow_verification=false\n"
     ]
    },
    {
     "name": "stdin",
     "output_type": "stream",
     "text": [
      "Enter code obtained on signing in using SAML:  ········\n"
     ]
    },
    {
     "name": "stderr",
     "output_type": "stream",
     "text": [
      "/Users/amolkale/Documents/DSE/DSE260-Capstone-Project/capstone/venv3.9/lib/python3.9/site-packages/urllib3/connectionpool.py:1045: InsecureRequestWarning: Unverified HTTPS request is being made to host 'ucsdonline.maps.arcgis.com'. Adding certificate verification is strongly advised. See: https://urllib3.readthedocs.io/en/1.26.x/advanced-usage.html#ssl-warnings\n",
      "  warnings.warn(\n"
     ]
    }
   ],
   "source": [
    "gis = GIS(\"https://ucsdonline.maps.arcgis.com/home\", client_id=get_config(\"arcgis\",\"clientid\"))"
   ]
  },
  {
   "cell_type": "code",
   "execution_count": 43,
   "id": "7c06a03d-eb58-453d-86d1-19c120dbde9a",
   "metadata": {},
   "outputs": [],
   "source": [
    "df = pd.read_excel('../../resources/September+2022+Data+Tables.xlsx',sheet_name=[1,2,3,5,6],header=[3])\n"
   ]
  },
  {
   "cell_type": "code",
   "execution_count": 44,
   "id": "334b0242-19c3-4f4b-bcd9-2b14dcce4290",
   "metadata": {},
   "outputs": [],
   "source": [
    "CFUtilSept2022Zip = df[1]\n",
    "CFEnrollSept2022Zip = df[2]\n",
    "NutriInsecSept2022Zip = df[3]\n",
    "FoodAssistSept2022Zip = df[5]\n",
    "MealsMissSept2022Zip = df[6]"
   ]
  },
  {
   "cell_type": "code",
   "execution_count": 45,
   "id": "edcdcb82-611e-414e-b9d4-0e1c082c711e",
   "metadata": {},
   "outputs": [
    {
     "data": {
      "text/plain": [
       "(105, 5)"
      ]
     },
     "execution_count": 45,
     "metadata": {},
     "output_type": "execute_result"
    }
   ],
   "source": [
    "CFUtilSept2022Zip.shape"
   ]
  },
  {
   "cell_type": "code",
   "execution_count": 46,
   "id": "b84817ac-9707-4bb6-8888-08e4dd8d3cc1",
   "metadata": {},
   "outputs": [
    {
     "data": {
      "text/plain": [
       "(105, 5)"
      ]
     },
     "execution_count": 46,
     "metadata": {},
     "output_type": "execute_result"
    }
   ],
   "source": [
    "CFEnrollSept2022Zip.shape"
   ]
  },
  {
   "cell_type": "code",
   "execution_count": 47,
   "id": "590670b9-2866-4b2d-b582-c551db29173e",
   "metadata": {},
   "outputs": [
    {
     "data": {
      "text/plain": [
       "(106, 3)"
      ]
     },
     "execution_count": 47,
     "metadata": {},
     "output_type": "execute_result"
    }
   ],
   "source": [
    "NutriInsecSept2022Zip.shape"
   ]
  },
  {
   "cell_type": "code",
   "execution_count": 48,
   "id": "bbf03662-9cc2-4723-8e0e-6016fe76eb02",
   "metadata": {},
   "outputs": [
    {
     "data": {
      "text/plain": [
       "(106, 3)"
      ]
     },
     "execution_count": 48,
     "metadata": {},
     "output_type": "execute_result"
    }
   ],
   "source": [
    "FoodAssistSept2022Zip.shape"
   ]
  },
  {
   "cell_type": "code",
   "execution_count": 49,
   "id": "6e1511c2-0ca4-4679-a604-bb405c80dfed",
   "metadata": {},
   "outputs": [
    {
     "data": {
      "text/plain": [
       "(106, 3)"
      ]
     },
     "execution_count": 49,
     "metadata": {},
     "output_type": "execute_result"
    }
   ],
   "source": [
    "MealsMissSept2022Zip.shape"
   ]
  },
  {
   "cell_type": "code",
   "execution_count": 50,
   "id": "a8b606a2-a1ad-45ff-86a2-f5a4534485c4",
   "metadata": {},
   "outputs": [],
   "source": [
    "dfs = [CFUtilSept2022Zip, CFEnrollSept2022Zip, NutriInsecSept2022Zip, FoodAssistSept2022Zip, MealsMissSept2022Zip]"
   ]
  },
  {
   "cell_type": "code",
   "execution_count": 51,
   "id": "fee19571-8685-45bc-855a-1b755359957b",
   "metadata": {},
   "outputs": [
    {
     "name": "stdout",
     "output_type": "stream",
     "text": [
      "shape: (105, 15)\n"
     ]
    },
    {
     "name": "stderr",
     "output_type": "stream",
     "text": [
      "/var/folders/jg/d8_zwblj5ql38q843xmy7h9r0000gp/T/ipykernel_1203/1153191520.py:1: FutureWarning: Passing 'suffixes' which cause duplicate columns {'City/Unincorperated Community_x'} in the result is deprecated and will raise a MergeError in a future version.\n",
      "  df_final = ft.reduce(lambda left, right: pd.merge(left, right, on='Zip Code'), dfs)\n"
     ]
    },
    {
     "data": {
      "text/html": [
       "<div>\n",
       "<style scoped>\n",
       "    .dataframe tbody tr th:only-of-type {\n",
       "        vertical-align: middle;\n",
       "    }\n",
       "\n",
       "    .dataframe tbody tr th {\n",
       "        vertical-align: top;\n",
       "    }\n",
       "\n",
       "    .dataframe thead th {\n",
       "        text-align: right;\n",
       "    }\n",
       "</style>\n",
       "<table border=\"1\" class=\"dataframe\">\n",
       "  <thead>\n",
       "    <tr style=\"text-align: right;\">\n",
       "      <th></th>\n",
       "      <th>City/Unincorperated Community_x</th>\n",
       "      <th>Zip Code</th>\n",
       "      <th>Utilization Rate at 130% FPL</th>\n",
       "      <th>Utilization Rate at 150% FPL</th>\n",
       "      <th>Utilization Rate at 185% FPL</th>\n",
       "      <th>City/Unincorperated Community_y</th>\n",
       "      <th>Eligible at 130% FPL</th>\n",
       "      <th>Eligible at 150% FPL</th>\n",
       "      <th>Eligible at 185% FPL</th>\n",
       "      <th>City/Unincorperated Community_x</th>\n",
       "      <th>Estimated Nutrition Insecure Population</th>\n",
       "      <th>City/Unincorperated Community_y</th>\n",
       "      <th>Total Food Assistance</th>\n",
       "      <th>City/Unincorperated Community</th>\n",
       "      <th>Estimated Monthly Missing Meals</th>\n",
       "    </tr>\n",
       "  </thead>\n",
       "  <tbody>\n",
       "    <tr>\n",
       "      <th>0</th>\n",
       "      <td>Alpine</td>\n",
       "      <td>91901</td>\n",
       "      <td>0.565951</td>\n",
       "      <td>0.519576</td>\n",
       "      <td>0.399857</td>\n",
       "      <td>Alpine</td>\n",
       "      <td>878.643231</td>\n",
       "      <td>1056.957698</td>\n",
       "      <td>1708.499817</td>\n",
       "      <td>Alpine</td>\n",
       "      <td>2915.444512</td>\n",
       "      <td>Alpine</td>\n",
       "      <td>98977.580112</td>\n",
       "      <td>Alpine</td>\n",
       "      <td>64163.154939</td>\n",
       "    </tr>\n",
       "    <tr>\n",
       "      <th>1</th>\n",
       "      <td>Bonita</td>\n",
       "      <td>91902</td>\n",
       "      <td>1.204196</td>\n",
       "      <td>0.998779</td>\n",
       "      <td>0.831174</td>\n",
       "      <td>Bonita</td>\n",
       "      <td>-204.275700</td>\n",
       "      <td>1.472152</td>\n",
       "      <td>244.688886</td>\n",
       "      <td>Bonita</td>\n",
       "      <td>1731.132123</td>\n",
       "      <td>Bonita</td>\n",
       "      <td>99878.078599</td>\n",
       "      <td>Bonita</td>\n",
       "      <td>-14680.714700</td>\n",
       "    </tr>\n",
       "    <tr>\n",
       "      <th>2</th>\n",
       "      <td>Boulevard</td>\n",
       "      <td>91905</td>\n",
       "      <td>0.974482</td>\n",
       "      <td>0.839351</td>\n",
       "      <td>0.678730</td>\n",
       "      <td>Boulevard</td>\n",
       "      <td>13.080221</td>\n",
       "      <td>82.909599</td>\n",
       "      <td>202.077458</td>\n",
       "      <td>Boulevard</td>\n",
       "      <td>602.377366</td>\n",
       "      <td>Boulevard</td>\n",
       "      <td>34315.333773</td>\n",
       "      <td>Boulevard</td>\n",
       "      <td>1296.114643</td>\n",
       "    </tr>\n",
       "  </tbody>\n",
       "</table>\n",
       "</div>"
      ],
      "text/plain": [
       "  City/Unincorperated Community_x  Zip Code  Utilization Rate at 130% FPL  \\\n",
       "0                          Alpine     91901                      0.565951   \n",
       "1                          Bonita     91902                      1.204196   \n",
       "2                       Boulevard     91905                      0.974482   \n",
       "\n",
       "   Utilization Rate at 150% FPL  Utilization Rate at 185% FPL  \\\n",
       "0                      0.519576                      0.399857   \n",
       "1                      0.998779                      0.831174   \n",
       "2                      0.839351                      0.678730   \n",
       "\n",
       "  City/Unincorperated Community_y  Eligible at 130% FPL  Eligible at 150% FPL  \\\n",
       "0                          Alpine            878.643231           1056.957698   \n",
       "1                          Bonita           -204.275700              1.472152   \n",
       "2                       Boulevard             13.080221             82.909599   \n",
       "\n",
       "   Eligible at 185% FPL City/Unincorperated Community_x  \\\n",
       "0           1708.499817                          Alpine   \n",
       "1            244.688886                          Bonita   \n",
       "2            202.077458                       Boulevard   \n",
       "\n",
       "   Estimated Nutrition Insecure Population City/Unincorperated Community_y  \\\n",
       "0                              2915.444512                          Alpine   \n",
       "1                              1731.132123                          Bonita   \n",
       "2                               602.377366                       Boulevard   \n",
       "\n",
       "   Total Food Assistance City/Unincorperated Community  \\\n",
       "0           98977.580112                        Alpine   \n",
       "1           99878.078599                        Bonita   \n",
       "2           34315.333773                     Boulevard   \n",
       "\n",
       "   Estimated Monthly Missing Meals  \n",
       "0                     64163.154939  \n",
       "1                    -14680.714700  \n",
       "2                      1296.114643  "
      ]
     },
     "execution_count": 51,
     "metadata": {},
     "output_type": "execute_result"
    }
   ],
   "source": [
    "df_final = ft.reduce(lambda left, right: pd.merge(left, right, on='Zip Code'), dfs)\n",
    "print(f\"shape: {df_final.shape}\")\n",
    "df_final.head(3)"
   ]
  },
  {
   "cell_type": "code",
   "execution_count": 52,
   "id": "2ccaab76-1eca-4a1f-81d7-2a6b1a5f485f",
   "metadata": {},
   "outputs": [
    {
     "name": "stdout",
     "output_type": "stream",
     "text": [
      "shape: (105, 11)\n"
     ]
    },
    {
     "data": {
      "text/html": [
       "<div>\n",
       "<style scoped>\n",
       "    .dataframe tbody tr th:only-of-type {\n",
       "        vertical-align: middle;\n",
       "    }\n",
       "\n",
       "    .dataframe tbody tr th {\n",
       "        vertical-align: top;\n",
       "    }\n",
       "\n",
       "    .dataframe thead th {\n",
       "        text-align: right;\n",
       "    }\n",
       "</style>\n",
       "<table border=\"1\" class=\"dataframe\">\n",
       "  <thead>\n",
       "    <tr style=\"text-align: right;\">\n",
       "      <th></th>\n",
       "      <th>Zip Code</th>\n",
       "      <th>Utilization Rate at 130% FPL</th>\n",
       "      <th>Utilization Rate at 150% FPL</th>\n",
       "      <th>Utilization Rate at 185% FPL</th>\n",
       "      <th>Eligible at 130% FPL</th>\n",
       "      <th>Eligible at 150% FPL</th>\n",
       "      <th>Eligible at 185% FPL</th>\n",
       "      <th>Estimated Nutrition Insecure Population</th>\n",
       "      <th>Total Food Assistance</th>\n",
       "      <th>City/Unincorperated Community</th>\n",
       "      <th>Estimated Monthly Missing Meals</th>\n",
       "    </tr>\n",
       "  </thead>\n",
       "  <tbody>\n",
       "    <tr>\n",
       "      <th>0</th>\n",
       "      <td>91901</td>\n",
       "      <td>0.565951</td>\n",
       "      <td>0.519576</td>\n",
       "      <td>0.399857</td>\n",
       "      <td>878.643231</td>\n",
       "      <td>1056.957698</td>\n",
       "      <td>1708.499817</td>\n",
       "      <td>2915.444512</td>\n",
       "      <td>98977.580112</td>\n",
       "      <td>Alpine</td>\n",
       "      <td>64163.154939</td>\n",
       "    </tr>\n",
       "    <tr>\n",
       "      <th>1</th>\n",
       "      <td>91902</td>\n",
       "      <td>1.204196</td>\n",
       "      <td>0.998779</td>\n",
       "      <td>0.831174</td>\n",
       "      <td>-204.275700</td>\n",
       "      <td>1.472152</td>\n",
       "      <td>244.688886</td>\n",
       "      <td>1731.132123</td>\n",
       "      <td>99878.078599</td>\n",
       "      <td>Bonita</td>\n",
       "      <td>-14680.714700</td>\n",
       "    </tr>\n",
       "    <tr>\n",
       "      <th>2</th>\n",
       "      <td>91905</td>\n",
       "      <td>0.974482</td>\n",
       "      <td>0.839351</td>\n",
       "      <td>0.678730</td>\n",
       "      <td>13.080221</td>\n",
       "      <td>82.909599</td>\n",
       "      <td>202.077458</td>\n",
       "      <td>602.377366</td>\n",
       "      <td>34315.333773</td>\n",
       "      <td>Boulevard</td>\n",
       "      <td>1296.114643</td>\n",
       "    </tr>\n",
       "  </tbody>\n",
       "</table>\n",
       "</div>"
      ],
      "text/plain": [
       "  Zip Code  Utilization Rate at 130% FPL  Utilization Rate at 150% FPL  \\\n",
       "0    91901                      0.565951                      0.519576   \n",
       "1    91902                      1.204196                      0.998779   \n",
       "2    91905                      0.974482                      0.839351   \n",
       "\n",
       "   Utilization Rate at 185% FPL  Eligible at 130% FPL  Eligible at 150% FPL  \\\n",
       "0                      0.399857            878.643231           1056.957698   \n",
       "1                      0.831174           -204.275700              1.472152   \n",
       "2                      0.678730             13.080221             82.909599   \n",
       "\n",
       "   Eligible at 185% FPL  Estimated Nutrition Insecure Population  \\\n",
       "0           1708.499817                              2915.444512   \n",
       "1            244.688886                              1731.132123   \n",
       "2            202.077458                               602.377366   \n",
       "\n",
       "   Total Food Assistance City/Unincorperated Community  \\\n",
       "0           98977.580112                        Alpine   \n",
       "1           99878.078599                        Bonita   \n",
       "2           34315.333773                     Boulevard   \n",
       "\n",
       "   Estimated Monthly Missing Meals  \n",
       "0                     64163.154939  \n",
       "1                    -14680.714700  \n",
       "2                      1296.114643  "
      ]
     },
     "execution_count": 52,
     "metadata": {},
     "output_type": "execute_result"
    }
   ],
   "source": [
    "df_final = df_final.drop(['City/Unincorperated Community_y','City/Unincorperated Community_x'], axis=1)\n",
    "df_final['Zip Code'] = df_final['Zip Code'].astype(str)\n",
    "print(f\"shape: {df_final.shape}\")\n",
    "df_final.head(3)"
   ]
  },
  {
   "cell_type": "code",
   "execution_count": 53,
   "id": "06d69bb0-92f3-42dc-a532-5489080cbb80",
   "metadata": {},
   "outputs": [],
   "source": [
    "sd_zip_flc = FeatureLayerCollection(gis=gis,\n",
    "                      url=\"https://services1.arcgis.com/eGSDp8lpKe5izqVc/arcgis/rest/services/a4fe8f/FeatureServer\")"
   ]
  },
  {
   "cell_type": "code",
   "execution_count": 54,
   "id": "2123f1d2-736a-482c-8e11-35083aa85e72",
   "metadata": {},
   "outputs": [],
   "source": [
    "sd_zip_sdf = sd_zip_flc.layers[0].query().sdf"
   ]
  },
  {
   "cell_type": "code",
   "execution_count": 55,
   "id": "212a38de-6f68-4e5c-b98b-997cffdccc43",
   "metadata": {},
   "outputs": [
    {
     "name": "stdout",
     "output_type": "stream",
     "text": [
      "sd_zip_sdf shape: (109, 11)\n"
     ]
    },
    {
     "data": {
      "text/html": [
       "<div>\n",
       "<style scoped>\n",
       "    .dataframe tbody tr th:only-of-type {\n",
       "        vertical-align: middle;\n",
       "    }\n",
       "\n",
       "    .dataframe tbody tr th {\n",
       "        vertical-align: top;\n",
       "    }\n",
       "\n",
       "    .dataframe thead th {\n",
       "        text-align: right;\n",
       "    }\n",
       "</style>\n",
       "<table border=\"1\" class=\"dataframe\">\n",
       "  <thead>\n",
       "    <tr style=\"text-align: right;\">\n",
       "      <th></th>\n",
       "      <th>FID</th>\n",
       "      <th>OBJECTID</th>\n",
       "      <th>ZIP_CODE</th>\n",
       "      <th>PO_NAME</th>\n",
       "      <th>STATE</th>\n",
       "      <th>SQMI</th>\n",
       "      <th>Shape__Are</th>\n",
       "      <th>Shape__Len</th>\n",
       "      <th>Shape__Area</th>\n",
       "      <th>Shape__Length</th>\n",
       "      <th>SHAPE</th>\n",
       "    </tr>\n",
       "  </thead>\n",
       "  <tbody>\n",
       "    <tr>\n",
       "      <th>0</th>\n",
       "      <td>1</td>\n",
       "      <td>341.0</td>\n",
       "      <td>91901</td>\n",
       "      <td>Alpine</td>\n",
       "      <td>CA</td>\n",
       "      <td>98.71</td>\n",
       "      <td>2751885514.80566</td>\n",
       "      <td>318537.985459</td>\n",
       "      <td>362914208.480469</td>\n",
       "      <td>115678.321974</td>\n",
       "      <td>{\"rings\": [[[-12980686.298148, 3868599.6407556...</td>\n",
       "    </tr>\n",
       "    <tr>\n",
       "      <th>1</th>\n",
       "      <td>2</td>\n",
       "      <td>342.0</td>\n",
       "      <td>91902</td>\n",
       "      <td>Bonita</td>\n",
       "      <td>CA</td>\n",
       "      <td>12.87</td>\n",
       "      <td>359079757.443848</td>\n",
       "      <td>149152.9387</td>\n",
       "      <td>47213907.144531</td>\n",
       "      <td>54051.586015</td>\n",
       "      <td>{\"rings\": [[[-13020538.2306131, 3851695.198877...</td>\n",
       "    </tr>\n",
       "    <tr>\n",
       "      <th>2</th>\n",
       "      <td>3</td>\n",
       "      <td>343.0</td>\n",
       "      <td>91905</td>\n",
       "      <td>Boulevard</td>\n",
       "      <td>CA</td>\n",
       "      <td>130.91</td>\n",
       "      <td>3649534295.33887</td>\n",
       "      <td>384006.444396</td>\n",
       "      <td>480438438.941406</td>\n",
       "      <td>139368.68137</td>\n",
       "      <td>{\"rings\": [[[-12936268.4075063, 3850327.339341...</td>\n",
       "    </tr>\n",
       "  </tbody>\n",
       "</table>\n",
       "</div>"
      ],
      "text/plain": [
       "   FID  OBJECTID ZIP_CODE    PO_NAME STATE    SQMI        Shape__Are  \\\n",
       "0    1     341.0    91901     Alpine    CA   98.71  2751885514.80566   \n",
       "1    2     342.0    91902     Bonita    CA   12.87  359079757.443848   \n",
       "2    3     343.0    91905  Boulevard    CA  130.91  3649534295.33887   \n",
       "\n",
       "      Shape__Len       Shape__Area  Shape__Length  \\\n",
       "0  318537.985459  362914208.480469  115678.321974   \n",
       "1    149152.9387   47213907.144531   54051.586015   \n",
       "2  384006.444396  480438438.941406   139368.68137   \n",
       "\n",
       "                                               SHAPE  \n",
       "0  {\"rings\": [[[-12980686.298148, 3868599.6407556...  \n",
       "1  {\"rings\": [[[-13020538.2306131, 3851695.198877...  \n",
       "2  {\"rings\": [[[-12936268.4075063, 3850327.339341...  "
      ]
     },
     "execution_count": 55,
     "metadata": {},
     "output_type": "execute_result"
    }
   ],
   "source": [
    "print(f\"sd_zip_sdf shape: {sd_zip_sdf.shape}\")\n",
    "sd_zip_sdf.head(3)"
   ]
  },
  {
   "cell_type": "code",
   "execution_count": 58,
   "id": "db2f06d2-a050-4daa-9e90-037b10669616",
   "metadata": {},
   "outputs": [
    {
     "name": "stdout",
     "output_type": "stream",
     "text": [
      "updated_sdf shape: (109, 22)\n"
     ]
    },
    {
     "data": {
      "text/html": [
       "<div>\n",
       "<style scoped>\n",
       "    .dataframe tbody tr th:only-of-type {\n",
       "        vertical-align: middle;\n",
       "    }\n",
       "\n",
       "    .dataframe tbody tr th {\n",
       "        vertical-align: top;\n",
       "    }\n",
       "\n",
       "    .dataframe thead th {\n",
       "        text-align: right;\n",
       "    }\n",
       "</style>\n",
       "<table border=\"1\" class=\"dataframe\">\n",
       "  <thead>\n",
       "    <tr style=\"text-align: right;\">\n",
       "      <th></th>\n",
       "      <th>FID</th>\n",
       "      <th>OBJECTID</th>\n",
       "      <th>ZIP_CODE</th>\n",
       "      <th>PO_NAME</th>\n",
       "      <th>STATE</th>\n",
       "      <th>SQMI</th>\n",
       "      <th>Shape__Are</th>\n",
       "      <th>Shape__Len</th>\n",
       "      <th>Shape__Area</th>\n",
       "      <th>Shape__Length</th>\n",
       "      <th>...</th>\n",
       "      <th>Utilization Rate at 130% FPL</th>\n",
       "      <th>Utilization Rate at 150% FPL</th>\n",
       "      <th>Utilization Rate at 185% FPL</th>\n",
       "      <th>Eligible at 130% FPL</th>\n",
       "      <th>Eligible at 150% FPL</th>\n",
       "      <th>Eligible at 185% FPL</th>\n",
       "      <th>Estimated Nutrition Insecure Population</th>\n",
       "      <th>Total Food Assistance</th>\n",
       "      <th>City/Unincorperated Community</th>\n",
       "      <th>Estimated Monthly Missing Meals</th>\n",
       "    </tr>\n",
       "  </thead>\n",
       "  <tbody>\n",
       "    <tr>\n",
       "      <th>0</th>\n",
       "      <td>1</td>\n",
       "      <td>341.0</td>\n",
       "      <td>91901</td>\n",
       "      <td>Alpine</td>\n",
       "      <td>CA</td>\n",
       "      <td>98.71</td>\n",
       "      <td>2751885514.80566</td>\n",
       "      <td>318537.985459</td>\n",
       "      <td>362914208.480469</td>\n",
       "      <td>115678.321974</td>\n",
       "      <td>...</td>\n",
       "      <td>0.565951</td>\n",
       "      <td>0.519576</td>\n",
       "      <td>0.399857</td>\n",
       "      <td>878.643231</td>\n",
       "      <td>1056.957698</td>\n",
       "      <td>1708.499817</td>\n",
       "      <td>2915.444512</td>\n",
       "      <td>9.897758e+04</td>\n",
       "      <td>Alpine</td>\n",
       "      <td>64163.154939</td>\n",
       "    </tr>\n",
       "    <tr>\n",
       "      <th>1</th>\n",
       "      <td>2</td>\n",
       "      <td>342.0</td>\n",
       "      <td>91902</td>\n",
       "      <td>Bonita</td>\n",
       "      <td>CA</td>\n",
       "      <td>12.87</td>\n",
       "      <td>359079757.443848</td>\n",
       "      <td>149152.9387</td>\n",
       "      <td>47213907.144531</td>\n",
       "      <td>54051.586015</td>\n",
       "      <td>...</td>\n",
       "      <td>1.204196</td>\n",
       "      <td>0.998779</td>\n",
       "      <td>0.831174</td>\n",
       "      <td>-204.275700</td>\n",
       "      <td>1.472152</td>\n",
       "      <td>244.688886</td>\n",
       "      <td>1731.132123</td>\n",
       "      <td>9.987808e+04</td>\n",
       "      <td>Bonita</td>\n",
       "      <td>-14680.714700</td>\n",
       "    </tr>\n",
       "    <tr>\n",
       "      <th>2</th>\n",
       "      <td>3</td>\n",
       "      <td>343.0</td>\n",
       "      <td>91905</td>\n",
       "      <td>Boulevard</td>\n",
       "      <td>CA</td>\n",
       "      <td>130.91</td>\n",
       "      <td>3649534295.33887</td>\n",
       "      <td>384006.444396</td>\n",
       "      <td>480438438.941406</td>\n",
       "      <td>139368.68137</td>\n",
       "      <td>...</td>\n",
       "      <td>0.974482</td>\n",
       "      <td>0.839351</td>\n",
       "      <td>0.678730</td>\n",
       "      <td>13.080221</td>\n",
       "      <td>82.909599</td>\n",
       "      <td>202.077458</td>\n",
       "      <td>602.377366</td>\n",
       "      <td>3.431533e+04</td>\n",
       "      <td>Boulevard</td>\n",
       "      <td>1296.114643</td>\n",
       "    </tr>\n",
       "    <tr>\n",
       "      <th>3</th>\n",
       "      <td>4</td>\n",
       "      <td>344.0</td>\n",
       "      <td>91906</td>\n",
       "      <td>Campo</td>\n",
       "      <td>CA</td>\n",
       "      <td>155.88</td>\n",
       "      <td>4345856599.50879</td>\n",
       "      <td>462516.749614</td>\n",
       "      <td>571716460.464844</td>\n",
       "      <td>167703.490291</td>\n",
       "      <td>...</td>\n",
       "      <td>0.493107</td>\n",
       "      <td>0.459273</td>\n",
       "      <td>0.411442</td>\n",
       "      <td>770.685756</td>\n",
       "      <td>880.891707</td>\n",
       "      <td>1067.609004</td>\n",
       "      <td>1956.356724</td>\n",
       "      <td>6.288367e+04</td>\n",
       "      <td>Campo</td>\n",
       "      <td>48505.497510</td>\n",
       "    </tr>\n",
       "    <tr>\n",
       "      <th>4</th>\n",
       "      <td>5</td>\n",
       "      <td>345.0</td>\n",
       "      <td>91910</td>\n",
       "      <td>Chula Vista</td>\n",
       "      <td>CA</td>\n",
       "      <td>11.93</td>\n",
       "      <td>332696268.246094</td>\n",
       "      <td>115253.631136</td>\n",
       "      <td>43710042.933594</td>\n",
       "      <td>41718.213366</td>\n",
       "      <td>...</td>\n",
       "      <td>1.108731</td>\n",
       "      <td>0.889078</td>\n",
       "      <td>0.663608</td>\n",
       "      <td>-1035.660319</td>\n",
       "      <td>1317.561417</td>\n",
       "      <td>5353.354978</td>\n",
       "      <td>18449.896189</td>\n",
       "      <td>1.102475e+06</td>\n",
       "      <td>Chula Vista</td>\n",
       "      <td>-206007.003163</td>\n",
       "    </tr>\n",
       "    <tr>\n",
       "      <th>5</th>\n",
       "      <td>6</td>\n",
       "      <td>346.0</td>\n",
       "      <td>91911</td>\n",
       "      <td>Chula Vista</td>\n",
       "      <td>CA</td>\n",
       "      <td>11.92</td>\n",
       "      <td>332270060.502441</td>\n",
       "      <td>95620.198295</td>\n",
       "      <td>43624112.914062</td>\n",
       "      <td>34604.775724</td>\n",
       "      <td>...</td>\n",
       "      <td>1.273259</td>\n",
       "      <td>1.047712</td>\n",
       "      <td>0.762591</td>\n",
       "      <td>-3292.744650</td>\n",
       "      <td>-698.694988</td>\n",
       "      <td>4776.474544</td>\n",
       "      <td>23782.748899</td>\n",
       "      <td>1.460727e+06</td>\n",
       "      <td>Chula Vista</td>\n",
       "      <td>-342510.397000</td>\n",
       "    </tr>\n",
       "  </tbody>\n",
       "</table>\n",
       "<p>6 rows × 22 columns</p>\n",
       "</div>"
      ],
      "text/plain": [
       "   FID  OBJECTID ZIP_CODE      PO_NAME STATE    SQMI        Shape__Are  \\\n",
       "0    1     341.0    91901       Alpine    CA   98.71  2751885514.80566   \n",
       "1    2     342.0    91902       Bonita    CA   12.87  359079757.443848   \n",
       "2    3     343.0    91905    Boulevard    CA  130.91  3649534295.33887   \n",
       "3    4     344.0    91906        Campo    CA  155.88  4345856599.50879   \n",
       "4    5     345.0    91910  Chula Vista    CA   11.93  332696268.246094   \n",
       "5    6     346.0    91911  Chula Vista    CA   11.92  332270060.502441   \n",
       "\n",
       "      Shape__Len       Shape__Area  Shape__Length  ...  \\\n",
       "0  318537.985459  362914208.480469  115678.321974  ...   \n",
       "1    149152.9387   47213907.144531   54051.586015  ...   \n",
       "2  384006.444396  480438438.941406   139368.68137  ...   \n",
       "3  462516.749614  571716460.464844  167703.490291  ...   \n",
       "4  115253.631136   43710042.933594   41718.213366  ...   \n",
       "5   95620.198295   43624112.914062   34604.775724  ...   \n",
       "\n",
       "  Utilization Rate at 130% FPL Utilization Rate at 150% FPL  \\\n",
       "0                     0.565951                     0.519576   \n",
       "1                     1.204196                     0.998779   \n",
       "2                     0.974482                     0.839351   \n",
       "3                     0.493107                     0.459273   \n",
       "4                     1.108731                     0.889078   \n",
       "5                     1.273259                     1.047712   \n",
       "\n",
       "   Utilization Rate at 185% FPL  Eligible at 130% FPL  Eligible at 150% FPL  \\\n",
       "0                      0.399857            878.643231           1056.957698   \n",
       "1                      0.831174           -204.275700              1.472152   \n",
       "2                      0.678730             13.080221             82.909599   \n",
       "3                      0.411442            770.685756            880.891707   \n",
       "4                      0.663608          -1035.660319           1317.561417   \n",
       "5                      0.762591          -3292.744650           -698.694988   \n",
       "\n",
       "   Eligible at 185% FPL  Estimated Nutrition Insecure Population  \\\n",
       "0           1708.499817                              2915.444512   \n",
       "1            244.688886                              1731.132123   \n",
       "2            202.077458                               602.377366   \n",
       "3           1067.609004                              1956.356724   \n",
       "4           5353.354978                             18449.896189   \n",
       "5           4776.474544                             23782.748899   \n",
       "\n",
       "   Total Food Assistance  City/Unincorperated Community  \\\n",
       "0           9.897758e+04                         Alpine   \n",
       "1           9.987808e+04                         Bonita   \n",
       "2           3.431533e+04                      Boulevard   \n",
       "3           6.288367e+04                          Campo   \n",
       "4           1.102475e+06                    Chula Vista   \n",
       "5           1.460727e+06                    Chula Vista   \n",
       "\n",
       "   Estimated Monthly Missing Meals  \n",
       "0                     64163.154939  \n",
       "1                    -14680.714700  \n",
       "2                      1296.114643  \n",
       "3                     48505.497510  \n",
       "4                   -206007.003163  \n",
       "5                   -342510.397000  \n",
       "\n",
       "[6 rows x 22 columns]"
      ]
     },
     "execution_count": 58,
     "metadata": {},
     "output_type": "execute_result"
    }
   ],
   "source": [
    "updated_sdf = pd.merge(sd_zip_sdf, df_final, left_on='ZIP_CODE',right_on='Zip Code', how='left')\n",
    "print(f\"updated_sdf shape: {updated_sdf.shape}\")\n",
    "updated_sdf.head(6)"
   ]
  },
  {
   "cell_type": "code",
   "execution_count": 59,
   "id": "51581530-b318-4396-b8bc-ee7f755771be",
   "metadata": {},
   "outputs": [
    {
     "name": "stdout",
     "output_type": "stream",
     "text": [
      "CPU times: user 306 ms, sys: 204 ms, total: 510 ms\n",
      "Wall time: 11.1 s\n"
     ]
    },
    {
     "data": {
      "text/html": [
       "<div class=\"item_container\" style=\"height: auto; overflow: hidden; border: 1px solid #cfcfcf; border-radius: 2px; background: #f6fafa; line-height: 1.21429em; padding: 10px;\">\n",
       "                    <div class=\"item_left\" style=\"width: 210px; float: left;\">\n",
       "                       <a href='https://UCSDOnline.maps.arcgis.com/home/item.html?id=a8f6bcc4aa9e4c0aa1a5c2dc4d9a6022' target='_blank'>\n",
       "                        <img src='http://static.arcgis.com/images/desktopapp.png' class=\"itemThumbnail\">\n",
       "                       </a>\n",
       "                    </div>\n",
       "\n",
       "                    <div class=\"item_right\"     style=\"float: none; width: auto; overflow: hidden;\">\n",
       "                        <a href='https://UCSDOnline.maps.arcgis.com/home/item.html?id=a8f6bcc4aa9e4c0aa1a5c2dc4d9a6022' target='_blank'><b>Food Insecurity for San Diego by Zip Code</b>\n",
       "                        </a>\n",
       "                        <br/><img src='https://UCSDOnline.maps.arcgis.com/home/js/jsapi/esri/css/images/item_type_icons/featureshosted16.png' style=\"vertical-align:middle;\">Feature Layer Collection by akale_UCSDOnline\n",
       "                        <br/>Last Modified: April 01, 2023\n",
       "                        <br/>0 comments, 0 views\n",
       "                    </div>\n",
       "                </div>\n",
       "                "
      ],
      "text/plain": [
       "<Item title:\"Food Insecurity for San Diego by Zip Code\" type:Feature Layer Collection owner:akale_UCSDOnline>"
      ]
     },
     "execution_count": 59,
     "metadata": {},
     "output_type": "execute_result"
    }
   ],
   "source": [
    "%%time\n",
    "# Convert back from a SEDF into a feature layer Collection, and publishing on AGOL\n",
    "feature_layer_collection = updated_sdf.spatial.to_featurelayer(title=\"Food Insecurity for San Diego by Zip Code\", \n",
    "                                                         gis=gis, \n",
    "                                                         folder='nourish_gis',\n",
    "                                                         tags=['Food Insecurity for San Diego by Zip Code'],\n",
    "                                                        )\n",
    "feature_layer_collection"
   ]
  },
  {
   "cell_type": "code",
   "execution_count": null,
   "id": "5f515e50-7a83-4805-ae8f-420e580fdb2e",
   "metadata": {},
   "outputs": [],
   "source": []
  }
 ],
 "metadata": {
  "kernelspec": {
   "display_name": "Python 3 (ipykernel)",
   "language": "python",
   "name": "python3"
  },
  "language_info": {
   "codemirror_mode": {
    "name": "ipython",
    "version": 3
   },
   "file_extension": ".py",
   "mimetype": "text/x-python",
   "name": "python",
   "nbconvert_exporter": "python",
   "pygments_lexer": "ipython3",
   "version": "3.9.16"
  }
 },
 "nbformat": 4,
 "nbformat_minor": 5
}
