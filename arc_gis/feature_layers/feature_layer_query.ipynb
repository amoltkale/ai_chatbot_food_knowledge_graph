{
 "cells": [
  {
   "cell_type": "code",
   "execution_count": 1,
   "id": "4475bd3e-7190-46e4-8e90-b8669978f5e8",
   "metadata": {},
   "outputs": [],
   "source": [
    "import arcgis\n",
    "from arcgis.gis import GIS\n",
    "from arcgis.features import *\n",
    "import pandas as pd\n",
    "from feature_layer_utils import *"
   ]
  },
  {
   "cell_type": "code",
   "execution_count": 2,
   "id": "f8e43506-c67a-49e9-86f2-9d66eab8e6ee",
   "metadata": {},
   "outputs": [
    {
     "name": "stdout",
     "output_type": "stream",
     "text": [
      "Enter the Client ID/APP ID generated from Arc GIS:\n"
     ]
    },
    {
     "name": "stdin",
     "output_type": "stream",
     "text": [
      " Elm5V3upnnV17Q3r\n"
     ]
    },
    {
     "name": "stdout",
     "output_type": "stream",
     "text": [
      "Please sign in to your GIS and paste the code that is obtained below.\n",
      "If a web browser does not automatically open, please navigate to the URL below yourself instead.\n",
      "Opening web browser to navigate to: https://ucsdonline.maps.arcgis.com/sharing/rest/oauth2/authorize?response_type=code&client_id=Elm5V3upnnV17Q3r&redirect_uri=urn%3Aietf%3Awg%3Aoauth%3A2.0%3Aoob&state=gIh3pUO3zaa0zaB8pj9P4nTLLmF5vH&allow_verification=false\n"
     ]
    },
    {
     "name": "stdin",
     "output_type": "stream",
     "text": [
      "Enter code obtained on signing in using SAML:  ········\n"
     ]
    },
    {
     "name": "stderr",
     "output_type": "stream",
     "text": [
      "/Users/amolkale/Documents/DSE/DSE260-Capstone-Project/capstone/venv3.9/lib/python3.9/site-packages/urllib3/connectionpool.py:1045: InsecureRequestWarning: Unverified HTTPS request is being made to host 'ucsdonline.maps.arcgis.com'. Adding certificate verification is strongly advised. See: https://urllib3.readthedocs.io/en/1.26.x/advanced-usage.html#ssl-warnings\n",
      "  warnings.warn(\n"
     ]
    },
    {
     "data": {
      "text/plain": [
       "'2.1.0'"
      ]
     },
     "execution_count": 2,
     "metadata": {},
     "output_type": "execute_result"
    }
   ],
   "source": [
    "\n",
    "#gis = GIS(username='izaslavsky_ucsd')  # this will ask for password. \n",
    "print(\"Enter the Client ID/APP ID generated from Arc GIS:\")\n",
    "app_id = input()\n",
    "gis = GIS(\"https://ucsdonline.maps.arcgis.com/home\", client_id=app_id)\n",
    "arcgis.__version__\n",
    "# Elm5V3upnnV17Q3r"
   ]
  },
  {
   "cell_type": "code",
   "execution_count": 3,
   "id": "dc254c7f-4c5d-4e64-be23-552b5ce631b1",
   "metadata": {},
   "outputs": [],
   "source": [
    "sd_enriched_feature_layer = get_feature_layer('https://services1.arcgis.com/eGSDp8lpKe5izqVc/arcgis/rest/services/San_Diego_Neighbourhood_Consumer_Spending/FeatureServer/0',gis)\n"
   ]
  },
  {
   "cell_type": "markdown",
   "id": "94db73c6-929b-4a76-95be-6073295b5bec",
   "metadata": {},
   "source": [
    "#### Find out the consumer spending on Bread for 2022 in Mira Mesa"
   ]
  },
  {
   "cell_type": "code",
   "execution_count": 4,
   "id": "aeba1596-391c-45bc-b666-219848994a5e",
   "metadata": {},
   "outputs": [],
   "source": [
    "CPANAME = \"\\'Mira Mesa\\'\"  # name to search\n",
    "out_fields = [\"CPANAME\", \"X1010_X\",\"OBJECTID_1\"]  # fields to return\n",
    "where = f\"CPANAME = {CPANAME}\""
   ]
  },
  {
   "cell_type": "code",
   "execution_count": 5,
   "id": "a15ee860-3ac1-431b-9dc3-bb776fd98ef0",
   "metadata": {},
   "outputs": [
    {
     "data": {
      "text/plain": [
       "\"CPANAME = 'Mira Mesa'\""
      ]
     },
     "execution_count": 5,
     "metadata": {},
     "output_type": "execute_result"
    }
   ],
   "source": [
    "where"
   ]
  },
  {
   "cell_type": "code",
   "execution_count": 6,
   "id": "c36fa880-dc06-4b63-953e-fefc4f83eb85",
   "metadata": {},
   "outputs": [],
   "source": [
    "record_row = sd_enriched_feature_layer.query(\n",
    "    where=where,\n",
    "    out_fields=out_fields\n",
    ")\n"
   ]
  },
  {
   "cell_type": "code",
   "execution_count": 7,
   "id": "650edb68-389a-4662-8761-800e6550211f",
   "metadata": {},
   "outputs": [
    {
     "data": {
      "text/html": [
       "<div>\n",
       "<style scoped>\n",
       "    .dataframe tbody tr th:only-of-type {\n",
       "        vertical-align: middle;\n",
       "    }\n",
       "\n",
       "    .dataframe tbody tr th {\n",
       "        vertical-align: top;\n",
       "    }\n",
       "\n",
       "    .dataframe thead th {\n",
       "        text-align: right;\n",
       "    }\n",
       "</style>\n",
       "<table border=\"1\" class=\"dataframe\">\n",
       "  <thead>\n",
       "    <tr style=\"text-align: right;\">\n",
       "      <th></th>\n",
       "      <th>CPANAME</th>\n",
       "      <th>X1010_X</th>\n",
       "      <th>OBJECTID_1</th>\n",
       "      <th>SHAPE</th>\n",
       "    </tr>\n",
       "  </thead>\n",
       "  <tbody>\n",
       "    <tr>\n",
       "      <th>0</th>\n",
       "      <td>MIRA MESA</td>\n",
       "      <td>5203959.0</td>\n",
       "      <td>106</td>\n",
       "      <td>{\"rings\": [[[-13046948.246, 3880324.3849], [-1...</td>\n",
       "    </tr>\n",
       "  </tbody>\n",
       "</table>\n",
       "</div>"
      ],
      "text/plain": [
       "     CPANAME    X1010_X  OBJECTID_1  \\\n",
       "0  MIRA MESA  5203959.0         106   \n",
       "\n",
       "                                               SHAPE  \n",
       "0  {\"rings\": [[[-13046948.246, 3880324.3849], [-1...  "
      ]
     },
     "execution_count": 7,
     "metadata": {},
     "output_type": "execute_result"
    }
   ],
   "source": [
    "record_row.sdf"
   ]
  },
  {
   "cell_type": "code",
   "execution_count": 9,
   "id": "1944aedf-0992-4326-908b-efefea444b01",
   "metadata": {},
   "outputs": [],
   "source": [
    "#### Find out Bread consumption for 2022 in Mira Mesa"
   ]
  },
  {
   "cell_type": "markdown",
   "id": "f79519de-25ce-4dd1-b9fc-ef80a2bfb525",
   "metadata": {},
   "source": [
    "#### Query range of values : Find all the neighborhoods where consumers spent more that 2 million dollars on Bread in 2022."
   ]
  },
  {
   "cell_type": "code",
   "execution_count": 8,
   "id": "c00462ff-bdf7-4af0-aeea-ea2cbeedf723",
   "metadata": {},
   "outputs": [
    {
     "data": {
      "text/html": [
       "<div>\n",
       "<style scoped>\n",
       "    .dataframe tbody tr th:only-of-type {\n",
       "        vertical-align: middle;\n",
       "    }\n",
       "\n",
       "    .dataframe tbody tr th {\n",
       "        vertical-align: top;\n",
       "    }\n",
       "\n",
       "    .dataframe thead th {\n",
       "        text-align: right;\n",
       "    }\n",
       "</style>\n",
       "<table border=\"1\" class=\"dataframe\">\n",
       "  <thead>\n",
       "    <tr style=\"text-align: right;\">\n",
       "      <th></th>\n",
       "      <th>CPANAME</th>\n",
       "      <th>X1010_X</th>\n",
       "      <th>OBJECTID_1</th>\n",
       "      <th>SHAPE</th>\n",
       "    </tr>\n",
       "  </thead>\n",
       "  <tbody>\n",
       "    <tr>\n",
       "      <th>0</th>\n",
       "      <td>GREATER NORTH PARK</td>\n",
       "      <td>4057060.0</td>\n",
       "      <td>68</td>\n",
       "      <td>{\"rings\": [[[-13040804.6113, 3860999.3313], [-...</td>\n",
       "    </tr>\n",
       "    <tr>\n",
       "      <th>1</th>\n",
       "      <td>MID-CITY:CITY HEIGHTS</td>\n",
       "      <td>2449028.0</td>\n",
       "      <td>71</td>\n",
       "      <td>{\"rings\": [[[-13037513.805, 3857815.0702], [-1...</td>\n",
       "    </tr>\n",
       "    <tr>\n",
       "      <th>2</th>\n",
       "      <td>DOWNTOWN</td>\n",
       "      <td>4707996.0</td>\n",
       "      <td>72</td>\n",
       "      <td>{\"rings\": [[[-13043139.7245, 3859275.1508], [-...</td>\n",
       "    </tr>\n",
       "    <tr>\n",
       "      <th>3</th>\n",
       "      <td>PACIFIC BEACH</td>\n",
       "      <td>3768542.0</td>\n",
       "      <td>74</td>\n",
       "      <td>{\"rings\": [[[-13048018.771, 3869040.1256], [-1...</td>\n",
       "    </tr>\n",
       "    <tr>\n",
       "      <th>4</th>\n",
       "      <td>UPTOWN</td>\n",
       "      <td>4390960.0</td>\n",
       "      <td>75</td>\n",
       "      <td>{\"rings\": [[[-13040302.9278, 3864050.5045], [-...</td>\n",
       "    </tr>\n",
       "    <tr>\n",
       "      <th>5</th>\n",
       "      <td>SKYLINE-PARADISE HILLS</td>\n",
       "      <td>2674592.0</td>\n",
       "      <td>83</td>\n",
       "      <td>{\"rings\": [[[-13027744.4473, 3858425.5076], [-...</td>\n",
       "    </tr>\n",
       "    <tr>\n",
       "      <th>6</th>\n",
       "      <td>CARMEL VALLEY</td>\n",
       "      <td>4034687.0</td>\n",
       "      <td>85</td>\n",
       "      <td>{\"rings\": [[[-13045641.104, 3886168.9924], [-1...</td>\n",
       "    </tr>\n",
       "    <tr>\n",
       "      <th>7</th>\n",
       "      <td>RANCHO BERNARDO</td>\n",
       "      <td>3941037.0</td>\n",
       "      <td>87</td>\n",
       "      <td>{\"rings\": [[[-13030280.5879, 3902111.1552], [-...</td>\n",
       "    </tr>\n",
       "    <tr>\n",
       "      <th>8</th>\n",
       "      <td>LA JOLLA</td>\n",
       "      <td>4019633.0</td>\n",
       "      <td>90</td>\n",
       "      <td>{\"rings\": [[[-13051987.2482, 3880191.4744], [-...</td>\n",
       "    </tr>\n",
       "    <tr>\n",
       "      <th>9</th>\n",
       "      <td>MISSION VALLEY</td>\n",
       "      <td>2287473.0</td>\n",
       "      <td>91</td>\n",
       "      <td>{\"rings\": [[[-13043119.3253, 3863357.3207], [-...</td>\n",
       "    </tr>\n",
       "    <tr>\n",
       "      <th>10</th>\n",
       "      <td>CLAIREMONT MESA</td>\n",
       "      <td>5874075.0</td>\n",
       "      <td>92</td>\n",
       "      <td>{\"rings\": [[[-13044214.3292, 3875078.4077], [-...</td>\n",
       "    </tr>\n",
       "    <tr>\n",
       "      <th>11</th>\n",
       "      <td>RANCHO PENASQUITOS</td>\n",
       "      <td>3450888.0</td>\n",
       "      <td>95</td>\n",
       "      <td>{\"rings\": [[[-13039944.6173, 3892420.0087], [-...</td>\n",
       "    </tr>\n",
       "    <tr>\n",
       "      <th>12</th>\n",
       "      <td>SCRIPPS MIRAMAR RANCH</td>\n",
       "      <td>2097997.0</td>\n",
       "      <td>96</td>\n",
       "      <td>{\"rings\": [[[-13031306.2425, 3884737.9772], [-...</td>\n",
       "    </tr>\n",
       "    <tr>\n",
       "      <th>13</th>\n",
       "      <td>Spring Valley</td>\n",
       "      <td>2944213.0</td>\n",
       "      <td>97</td>\n",
       "      <td>{\"rings\": [[[-13024998.3521, 3862512.1202], [-...</td>\n",
       "    </tr>\n",
       "    <tr>\n",
       "      <th>14</th>\n",
       "      <td>OTAY MESA-NESTOR</td>\n",
       "      <td>2217397.0</td>\n",
       "      <td>98</td>\n",
       "      <td>{\"rings\": [[[-13037099.663, 3843048.8614], [-1...</td>\n",
       "    </tr>\n",
       "    <tr>\n",
       "      <th>15</th>\n",
       "      <td>TIERRASANTA</td>\n",
       "      <td>2275204.0</td>\n",
       "      <td>102</td>\n",
       "      <td>{\"rings\": [[[-13027312.5845, 3874730.6478], [-...</td>\n",
       "    </tr>\n",
       "    <tr>\n",
       "      <th>16</th>\n",
       "      <td>MIRA MESA</td>\n",
       "      <td>5203959.0</td>\n",
       "      <td>106</td>\n",
       "      <td>{\"rings\": [[[-13046948.246, 3880324.3849], [-1...</td>\n",
       "    </tr>\n",
       "    <tr>\n",
       "      <th>17</th>\n",
       "      <td>NAVAJO</td>\n",
       "      <td>4501244.0</td>\n",
       "      <td>108</td>\n",
       "      <td>{\"rings\": [[[-13035757.0359, 3866007.7937], [-...</td>\n",
       "    </tr>\n",
       "    <tr>\n",
       "      <th>18</th>\n",
       "      <td>UNIVERSITY</td>\n",
       "      <td>4782492.0</td>\n",
       "      <td>109</td>\n",
       "      <td>{\"rings\": [[[-13052649.1116, 3885535.2141], [-...</td>\n",
       "    </tr>\n",
       "    <tr>\n",
       "      <th>19</th>\n",
       "      <td>PENINSULA</td>\n",
       "      <td>3738561.0</td>\n",
       "      <td>112</td>\n",
       "      <td>{\"rings\": [[[-13050768.8644, 3851343.0747], [-...</td>\n",
       "    </tr>\n",
       "    <tr>\n",
       "      <th>20</th>\n",
       "      <td>Fallbrook</td>\n",
       "      <td>2902911.0</td>\n",
       "      <td>123</td>\n",
       "      <td>{\"rings\": [[[-13051087.4973, 3952777.0418], [-...</td>\n",
       "    </tr>\n",
       "    <tr>\n",
       "      <th>21</th>\n",
       "      <td>Valle De Oro</td>\n",
       "      <td>3351657.0</td>\n",
       "      <td>126</td>\n",
       "      <td>{\"rings\": [[[-13018196.0901, 3867056.0895], [-...</td>\n",
       "    </tr>\n",
       "    <tr>\n",
       "      <th>22</th>\n",
       "      <td>San Dieguito</td>\n",
       "      <td>3545691.0</td>\n",
       "      <td>133</td>\n",
       "      <td>{\"rings\": [[[-13051411.5814, 3896445.5439], [-...</td>\n",
       "    </tr>\n",
       "    <tr>\n",
       "      <th>23</th>\n",
       "      <td>Lakeside</td>\n",
       "      <td>4555367.0</td>\n",
       "      <td>134</td>\n",
       "      <td>{\"rings\": [[[-13004280.2877, 3890549.4964], [-...</td>\n",
       "    </tr>\n",
       "    <tr>\n",
       "      <th>24</th>\n",
       "      <td>Ramona</td>\n",
       "      <td>2430280.0</td>\n",
       "      <td>140</td>\n",
       "      <td>{\"rings\": [[[-12993991.2465, 3911793.7528], [-...</td>\n",
       "    </tr>\n",
       "  </tbody>\n",
       "</table>\n",
       "</div>"
      ],
      "text/plain": [
       "                   CPANAME    X1010_X  OBJECTID_1  \\\n",
       "0       GREATER NORTH PARK  4057060.0          68   \n",
       "1    MID-CITY:CITY HEIGHTS  2449028.0          71   \n",
       "2                 DOWNTOWN  4707996.0          72   \n",
       "3            PACIFIC BEACH  3768542.0          74   \n",
       "4                   UPTOWN  4390960.0          75   \n",
       "5   SKYLINE-PARADISE HILLS  2674592.0          83   \n",
       "6            CARMEL VALLEY  4034687.0          85   \n",
       "7          RANCHO BERNARDO  3941037.0          87   \n",
       "8                 LA JOLLA  4019633.0          90   \n",
       "9           MISSION VALLEY  2287473.0          91   \n",
       "10         CLAIREMONT MESA  5874075.0          92   \n",
       "11      RANCHO PENASQUITOS  3450888.0          95   \n",
       "12   SCRIPPS MIRAMAR RANCH  2097997.0          96   \n",
       "13           Spring Valley  2944213.0          97   \n",
       "14        OTAY MESA-NESTOR  2217397.0          98   \n",
       "15             TIERRASANTA  2275204.0         102   \n",
       "16               MIRA MESA  5203959.0         106   \n",
       "17                  NAVAJO  4501244.0         108   \n",
       "18              UNIVERSITY  4782492.0         109   \n",
       "19               PENINSULA  3738561.0         112   \n",
       "20               Fallbrook  2902911.0         123   \n",
       "21            Valle De Oro  3351657.0         126   \n",
       "22            San Dieguito  3545691.0         133   \n",
       "23                Lakeside  4555367.0         134   \n",
       "24                  Ramona  2430280.0         140   \n",
       "\n",
       "                                                SHAPE  \n",
       "0   {\"rings\": [[[-13040804.6113, 3860999.3313], [-...  \n",
       "1   {\"rings\": [[[-13037513.805, 3857815.0702], [-1...  \n",
       "2   {\"rings\": [[[-13043139.7245, 3859275.1508], [-...  \n",
       "3   {\"rings\": [[[-13048018.771, 3869040.1256], [-1...  \n",
       "4   {\"rings\": [[[-13040302.9278, 3864050.5045], [-...  \n",
       "5   {\"rings\": [[[-13027744.4473, 3858425.5076], [-...  \n",
       "6   {\"rings\": [[[-13045641.104, 3886168.9924], [-1...  \n",
       "7   {\"rings\": [[[-13030280.5879, 3902111.1552], [-...  \n",
       "8   {\"rings\": [[[-13051987.2482, 3880191.4744], [-...  \n",
       "9   {\"rings\": [[[-13043119.3253, 3863357.3207], [-...  \n",
       "10  {\"rings\": [[[-13044214.3292, 3875078.4077], [-...  \n",
       "11  {\"rings\": [[[-13039944.6173, 3892420.0087], [-...  \n",
       "12  {\"rings\": [[[-13031306.2425, 3884737.9772], [-...  \n",
       "13  {\"rings\": [[[-13024998.3521, 3862512.1202], [-...  \n",
       "14  {\"rings\": [[[-13037099.663, 3843048.8614], [-1...  \n",
       "15  {\"rings\": [[[-13027312.5845, 3874730.6478], [-...  \n",
       "16  {\"rings\": [[[-13046948.246, 3880324.3849], [-1...  \n",
       "17  {\"rings\": [[[-13035757.0359, 3866007.7937], [-...  \n",
       "18  {\"rings\": [[[-13052649.1116, 3885535.2141], [-...  \n",
       "19  {\"rings\": [[[-13050768.8644, 3851343.0747], [-...  \n",
       "20  {\"rings\": [[[-13051087.4973, 3952777.0418], [-...  \n",
       "21  {\"rings\": [[[-13018196.0901, 3867056.0895], [-...  \n",
       "22  {\"rings\": [[[-13051411.5814, 3896445.5439], [-...  \n",
       "23  {\"rings\": [[[-13004280.2877, 3890549.4964], [-...  \n",
       "24  {\"rings\": [[[-12993991.2465, 3911793.7528], [-...  "
      ]
     },
     "execution_count": 8,
     "metadata": {},
     "output_type": "execute_result"
    }
   ],
   "source": [
    "sd_enriched_feature_layer.query(where='X1010_X > 2000000',\n",
    "                                out_fields=out_fields).sdf\n",
    "                                "
   ]
  },
  {
   "cell_type": "code",
   "execution_count": null,
   "id": "5c232ef6-9382-40cc-b53b-0672d9c9836c",
   "metadata": {},
   "outputs": [],
   "source": []
  }
 ],
 "metadata": {
  "kernelspec": {
   "display_name": "Python 3 (ipykernel)",
   "language": "python",
   "name": "python3"
  },
  "language_info": {
   "codemirror_mode": {
    "name": "ipython",
    "version": 3
   },
   "file_extension": ".py",
   "mimetype": "text/x-python",
   "name": "python",
   "nbconvert_exporter": "python",
   "pygments_lexer": "ipython3",
   "version": "3.9.16"
  }
 },
 "nbformat": 4,
 "nbformat_minor": 5
}
