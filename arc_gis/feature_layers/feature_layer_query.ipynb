{
 "cells": [
  {
   "cell_type": "code",
   "execution_count": 1,
   "id": "4475bd3e-7190-46e4-8e90-b8669978f5e8",
   "metadata": {},
   "outputs": [],
   "source": [
    "import arcgis\n",
    "from arcgis.gis import GIS\n",
    "from arcgis.features import *\n",
    "import pandas as pd\n",
    "from feature_layer_utils import *"
   ]
  },
  {
   "cell_type": "code",
   "execution_count": 54,
   "id": "f8e43506-c67a-49e9-86f2-9d66eab8e6ee",
   "metadata": {},
   "outputs": [
    {
     "name": "stdout",
     "output_type": "stream",
     "text": [
      "Enter the Client ID/APP ID generated from Arc GIS:\n"
     ]
    },
    {
     "name": "stdin",
     "output_type": "stream",
     "text": [
      " Elm5V3upnnV17Q3r\n"
     ]
    },
    {
     "name": "stdout",
     "output_type": "stream",
     "text": [
      "Please sign in to your GIS and paste the code that is obtained below.\n",
      "If a web browser does not automatically open, please navigate to the URL below yourself instead.\n",
      "Opening web browser to navigate to: https://ucsdonline.maps.arcgis.com/sharing/rest/oauth2/authorize?response_type=code&client_id=Elm5V3upnnV17Q3r&redirect_uri=urn%3Aietf%3Awg%3Aoauth%3A2.0%3Aoob&state=KZME9yuxJYj7o38loQtd50ojMqR9bL&allow_verification=false\n"
     ]
    },
    {
     "name": "stdin",
     "output_type": "stream",
     "text": [
      "Enter code obtained on signing in using SAML:  ········\n"
     ]
    },
    {
     "name": "stderr",
     "output_type": "stream",
     "text": [
      "/Users/amolkale/Documents/DSE/DSE260-Capstone-Project/capstone/venv3.9/lib/python3.9/site-packages/urllib3/connectionpool.py:1045: InsecureRequestWarning: Unverified HTTPS request is being made to host 'ucsdonline.maps.arcgis.com'. Adding certificate verification is strongly advised. See: https://urllib3.readthedocs.io/en/1.26.x/advanced-usage.html#ssl-warnings\n",
      "  warnings.warn(\n"
     ]
    },
    {
     "data": {
      "text/plain": [
       "'2.1.0'"
      ]
     },
     "execution_count": 54,
     "metadata": {},
     "output_type": "execute_result"
    }
   ],
   "source": [
    "\n",
    "#gis = GIS(username='izaslavsky_ucsd')  # this will ask for password. \n",
    "print(\"Enter the Client ID/APP ID generated from Arc GIS:\")\n",
    "app_id = input()\n",
    "gis = GIS(\"https://ucsdonline.maps.arcgis.com/home\", client_id=app_id)\n",
    "arcgis.__version__\n",
    "# Elm5V3upnnV17Q3r"
   ]
  },
  {
   "cell_type": "code",
   "execution_count": 55,
   "id": "dc254c7f-4c5d-4e64-be23-552b5ce631b1",
   "metadata": {},
   "outputs": [],
   "source": [
    "sd_enriched_feature_layer = get_feature_layer('https://services1.arcgis.com/eGSDp8lpKe5izqVc/arcgis/rest/services/San_Diego_Neighbourhood_Consumer_Spending/FeatureServer/0',gis)\n"
   ]
  },
  {
   "cell_type": "code",
   "execution_count": 63,
   "id": "aeba1596-391c-45bc-b666-219848994a5e",
   "metadata": {},
   "outputs": [],
   "source": [
    "CPANAME = \"\\'Mira Mesa\\'\"  # name to search\n",
    "out_fields = [\"CPANAME\", \"X1010_X\",\"OBJECTID_1\"]  # fields to return\n",
    "where = f\"CPANAME = {CPANAME}\""
   ]
  },
  {
   "cell_type": "code",
   "execution_count": 64,
   "id": "a15ee860-3ac1-431b-9dc3-bb776fd98ef0",
   "metadata": {},
   "outputs": [
    {
     "data": {
      "text/plain": [
       "\"CPANAME = 'Mira Mesa'\""
      ]
     },
     "execution_count": 64,
     "metadata": {},
     "output_type": "execute_result"
    }
   ],
   "source": [
    "where"
   ]
  },
  {
   "cell_type": "code",
   "execution_count": 65,
   "id": "c36fa880-dc06-4b63-953e-fefc4f83eb85",
   "metadata": {},
   "outputs": [],
   "source": [
    "record_row = sd_enriched_feature_layer.query(\n",
    "    where=where,\n",
    "    out_fields=out_fields\n",
    ")\n"
   ]
  },
  {
   "cell_type": "code",
   "execution_count": 79,
   "id": "650edb68-389a-4662-8761-800e6550211f",
   "metadata": {},
   "outputs": [
    {
     "data": {
      "text/html": [
       "<div>\n",
       "<style scoped>\n",
       "    .dataframe tbody tr th:only-of-type {\n",
       "        vertical-align: middle;\n",
       "    }\n",
       "\n",
       "    .dataframe tbody tr th {\n",
       "        vertical-align: top;\n",
       "    }\n",
       "\n",
       "    .dataframe thead th {\n",
       "        text-align: right;\n",
       "    }\n",
       "</style>\n",
       "<table border=\"1\" class=\"dataframe\">\n",
       "  <thead>\n",
       "    <tr style=\"text-align: right;\">\n",
       "      <th></th>\n",
       "      <th>CPANAME</th>\n",
       "      <th>X1010_X</th>\n",
       "      <th>OBJECTID_1</th>\n",
       "      <th>SHAPE</th>\n",
       "    </tr>\n",
       "  </thead>\n",
       "  <tbody>\n",
       "    <tr>\n",
       "      <th>0</th>\n",
       "      <td>MIRA MESA</td>\n",
       "      <td>5203959.0</td>\n",
       "      <td>106</td>\n",
       "      <td>{\"rings\": [[[-13046948.246, 3880324.3849], [-1...</td>\n",
       "    </tr>\n",
       "  </tbody>\n",
       "</table>\n",
       "</div>"
      ],
      "text/plain": [
       "     CPANAME    X1010_X  OBJECTID_1  \\\n",
       "0  MIRA MESA  5203959.0         106   \n",
       "\n",
       "                                               SHAPE  \n",
       "0  {\"rings\": [[[-13046948.246, 3880324.3849], [-1...  "
      ]
     },
     "execution_count": 79,
     "metadata": {},
     "output_type": "execute_result"
    }
   ],
   "source": [
    "record_row.sdf"
   ]
  },
  {
   "cell_type": "code",
   "execution_count": 66,
   "id": "72a503a5-a07c-43e0-b656-9360a06255ed",
   "metadata": {},
   "outputs": [
    {
     "data": {
      "text/plain": [
       "arcgis.features.feature.FeatureSet"
      ]
     },
     "execution_count": 66,
     "metadata": {},
     "output_type": "execute_result"
    }
   ],
   "source": [
    "type(record_row)\n"
   ]
  },
  {
   "cell_type": "code",
   "execution_count": 70,
   "id": "b49fe88c-3210-4211-8d6d-c3c89f570637",
   "metadata": {},
   "outputs": [
    {
     "data": {
      "text/plain": [
       "'2022 Bread'"
      ]
     },
     "execution_count": 70,
     "metadata": {},
     "output_type": "execute_result"
    }
   ],
   "source": [
    "record_row.fields[1]['alias']"
   ]
  },
  {
   "cell_type": "code",
   "execution_count": 68,
   "id": "c3e983e8-902d-4814-a82c-c914f4d2e112",
   "metadata": {},
   "outputs": [
    {
     "data": {
      "text/plain": [
       "arcgis.features.feature.FeatureSet"
      ]
     },
     "execution_count": 68,
     "metadata": {},
     "output_type": "execute_result"
    }
   ],
   "source": [
    "type(record_row)"
   ]
  },
  {
   "cell_type": "code",
   "execution_count": 69,
   "id": "bcbf439f-c500-4cdb-af0f-6a3a5ef9280a",
   "metadata": {},
   "outputs": [
    {
     "data": {
      "text/plain": [
       "[{'name': 'CPANAME',\n",
       "  'type': 'esriFieldTypeString',\n",
       "  'alias': 'CPANAME',\n",
       "  'sqlType': 'sqlTypeNVarchar',\n",
       "  'length': 255,\n",
       "  'domain': None,\n",
       "  'defaultValue': None},\n",
       " {'name': 'X1010_X',\n",
       "  'type': 'esriFieldTypeDouble',\n",
       "  'alias': '2022 Bread',\n",
       "  'sqlType': 'sqlTypeDecimal',\n",
       "  'domain': None,\n",
       "  'defaultValue': None},\n",
       " {'name': 'OBJECTID_1',\n",
       "  'type': 'esriFieldTypeOID',\n",
       "  'alias': 'OBJECTID_1',\n",
       "  'sqlType': 'sqlTypeInteger',\n",
       "  'domain': None,\n",
       "  'defaultValue': None}]"
      ]
     },
     "execution_count": 69,
     "metadata": {},
     "output_type": "execute_result"
    }
   ],
   "source": [
    "record_row.fields"
   ]
  },
  {
   "cell_type": "code",
   "execution_count": null,
   "id": "48534cf6-2ba2-4173-9fcf-90f9ffced724",
   "metadata": {},
   "outputs": [],
   "source": []
  },
  {
   "cell_type": "code",
   "execution_count": null,
   "id": "c00462ff-bdf7-4af0-aeea-ea2cbeedf723",
   "metadata": {},
   "outputs": [],
   "source": []
  }
 ],
 "metadata": {
  "kernelspec": {
   "display_name": "Python 3 (ipykernel)",
   "language": "python",
   "name": "python3"
  },
  "language_info": {
   "codemirror_mode": {
    "name": "ipython",
    "version": 3
   },
   "file_extension": ".py",
   "mimetype": "text/x-python",
   "name": "python",
   "nbconvert_exporter": "python",
   "pygments_lexer": "ipython3",
   "version": "3.9.16"
  }
 },
 "nbformat": 4,
 "nbformat_minor": 5
}
