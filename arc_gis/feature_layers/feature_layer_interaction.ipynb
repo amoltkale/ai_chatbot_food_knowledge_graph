{
 "cells": [
  {
   "cell_type": "code",
   "execution_count": 1,
   "id": "1ee9c532-f954-4ff1-bb76-cf45fc30b940",
   "metadata": {},
   "outputs": [],
   "source": [
    "import arcgis\n",
    "from arcgis.gis import GIS\n",
    "from arcgis.features import *\n",
    "import pandas as pd\n",
    "from IPython.display import display\n"
   ]
  },
  {
   "cell_type": "code",
   "execution_count": 2,
   "id": "458c0b02-317a-4118-9189-5c63d5758cd0",
   "metadata": {},
   "outputs": [
    {
     "name": "stdout",
     "output_type": "stream",
     "text": [
      "Enter the Client ID/APP ID generated from Arc GIS:\n"
     ]
    },
    {
     "name": "stdin",
     "output_type": "stream",
     "text": [
      " Elm5V3upnnV17Q3r\n"
     ]
    },
    {
     "name": "stdout",
     "output_type": "stream",
     "text": [
      "Please sign in to your GIS and paste the code that is obtained below.\n",
      "If a web browser does not automatically open, please navigate to the URL below yourself instead.\n",
      "Opening web browser to navigate to: https://ucsdonline.maps.arcgis.com/sharing/rest/oauth2/authorize?response_type=code&client_id=Elm5V3upnnV17Q3r&redirect_uri=urn%3Aietf%3Awg%3Aoauth%3A2.0%3Aoob&state=qpPsjne5bp5YADDFFjphQ3KeLjWjL1&allow_verification=false\n"
     ]
    },
    {
     "name": "stdin",
     "output_type": "stream",
     "text": [
      "Enter code obtained on signing in using SAML:  ········\n"
     ]
    },
    {
     "name": "stderr",
     "output_type": "stream",
     "text": [
      "/Users/amolkale/Documents/DSE/DSE260-Capstone-Project/capstone/venv3.9/lib/python3.9/site-packages/urllib3/connectionpool.py:1045: InsecureRequestWarning: Unverified HTTPS request is being made to host 'ucsdonline.maps.arcgis.com'. Adding certificate verification is strongly advised. See: https://urllib3.readthedocs.io/en/1.26.x/advanced-usage.html#ssl-warnings\n",
      "  warnings.warn(\n"
     ]
    },
    {
     "data": {
      "text/plain": [
       "'2.1.0'"
      ]
     },
     "execution_count": 2,
     "metadata": {},
     "output_type": "execute_result"
    }
   ],
   "source": [
    "\n",
    "#gis = GIS(username='izaslavsky_ucsd')  # this will ask for password. \n",
    "print(\"Enter the Client ID/APP ID generated from Arc GIS:\")\n",
    "app_id = input()\n",
    "gis = GIS(\"https://ucsdonline.maps.arcgis.com/home\", client_id=app_id)\n",
    "arcgis.__version__\n",
    "# Elm5V3upnnV17Q3r"
   ]
  },
  {
   "cell_type": "code",
   "execution_count": 3,
   "id": "b3e9dde4-330e-4b58-8996-df1dccacf825",
   "metadata": {},
   "outputs": [],
   "source": [
    "def get_feature_layer(service_url):\n",
    "    return FeatureLayer(url=service_url,gis=gis)"
   ]
  },
  {
   "cell_type": "code",
   "execution_count": 4,
   "id": "82c8ab8a-1e97-417f-babd-911b1bc2cb72",
   "metadata": {},
   "outputs": [],
   "source": [
    "def explore_feature_layer(feature_layer):\n",
    "    \n",
    "    print(f'Layer Name: {feature_layer.properties.name}')\n",
    "    print(f'\\tCopyright Text: {feature_layer.properties.copyrightText}')\n",
    "    \n",
    "    # one of the properties to check serviceItemId\n",
    "    print(f'\\tserviceItemId: {feature_layer.properties.serviceItemId}')\n",
    "    \n",
    "    print(f'\\tDescription: {feature_layer.properties.description}')\n",
    "    \n",
    "    # what operations are possible over this layer ?\n",
    "    print(f'\\tCapabalities: {feature_layer.properties.capabilities}')\n",
    "    \n",
    "    # How can we determine CRS of a layer (called \"spatial_reference\"). \n",
    "\n",
    "    # By converting it to a featureset - using query() without parameters -  and then retrieving its spatial reference\n",
    "    # note that \"spatial reference\" is a property of a featureset, but not of a layer\n",
    "\n",
    "\n",
    "    feature_set = feature_layer.query()\n",
    "    print(f'\\tType of feature set: {type(feature_set)}')\n",
    "    print(f'\\tSpatial Reference for the Feature Layer: {feature_set.spatial_reference}')\n",
    "    print('\\tSample Records from the layer:-')\n",
    "    feature_layer_spatial_df = feature_set.sdf\n",
    "    print(f'\\tTotal Records: {len(feature_layer_spatial_df)}')\n",
    "    display(feature_layer_spatial_df.head(4))"
   ]
  },
  {
   "cell_type": "markdown",
   "id": "c6698b7c-4417-4f73-8545-cb33a4c1f62d",
   "metadata": {
    "tags": []
   },
   "source": [
    "##### Exploring some other Feature Layer which is already present in UCSDOnline"
   ]
  },
  {
   "cell_type": "code",
   "execution_count": 5,
   "id": "84760c82-3ea9-437c-a411-1d614168007d",
   "metadata": {},
   "outputs": [
    {
     "name": "stdout",
     "output_type": "stream",
     "text": [
      "Layer Name: PrivateOwnedVacantUndeveloped_SanDiegoCounty_2019\n",
      "\tCopyright Text: H-HUB at UC San Diego\n",
      "SANDAG, Data Solutions Division\n",
      "Data, Analytics and Modeling Department\n",
      "\tserviceItemId: 2fcb4ad8fca84454aafba971782c3f72\n",
      "\tDescription: <DIV STYLE=\"text-align:Left;\"><DIV><DIV><DIV STYLE=\"font-size:12pt\"><P><SPAN>Layer was created by referencing SANGIS/SANDAG's Current Land Use layer (2019) and Land Ownership (2019). Parcels that were categorized as vacant/undeveloped were selected if they were within or are parcels that did not delineate any owners (assumed as private property).</SPAN></P><P><SPAN /></P><P><SPAN>SANDAG performs an annual land use and housing unit inventory in the interest of maintaining a robust and accurate catalog of the existing conditions for any given year. This catalog of snapshots are the base year inputs to SANDAG’s Regional Demographic, Economic, and Land Use Models. Prior to performing our annual inventory, the polygon geometry for the regionwide layer is updated with a snapshot of parcels from SanGIS, representative of January 1st of the given year. Land use information has been updated continuously since 2000 using aerial photography, the County Assessor Master Property Records file, and other ancillary information. Adjacent parcel polygons with the same land use have been aggregated (dissolved) into a single feature. The land use information was reviewed by each of the local jurisdictions and the County of San Diego to ensure its accuracy. Users should be aware that this data may be too generalized for some local planning projects. </SPAN></P></DIV></DIV></DIV></DIV>\n",
      "\tCapabalities: Query,Extract\n"
     ]
    },
    {
     "ename": "Exception",
     "evalue": "Your request has timed out.\n(Error Code: 504)",
     "output_type": "error",
     "traceback": [
      "\u001b[0;31m---------------------------------------------------------------------------\u001b[0m",
      "\u001b[0;31mException\u001b[0m                                 Traceback (most recent call last)",
      "Cell \u001b[0;32mIn[5], line 2\u001b[0m\n\u001b[1;32m      1\u001b[0m \u001b[38;5;66;03m# Let's check \u001b[39;00m\n\u001b[0;32m----> 2\u001b[0m \u001b[43mexplore_feature_layer\u001b[49m\u001b[43m(\u001b[49m\u001b[43mget_feature_layer\u001b[49m\u001b[43m(\u001b[49m\u001b[43mservice_url\u001b[49m\u001b[38;5;241;43m=\u001b[39;49m\u001b[38;5;124;43m'\u001b[39;49m\u001b[38;5;124;43mhttps://services1.arcgis.com/eGSDp8lpKe5izqVc/arcgis/rest/services/PrivateOwnedVacantUndeveloped_SanDiegoCounty_2019/FeatureServer/0\u001b[39;49m\u001b[38;5;124;43m'\u001b[39;49m\u001b[43m)\u001b[49m\u001b[43m)\u001b[49m\n",
      "Cell \u001b[0;32mIn[4], line 20\u001b[0m, in \u001b[0;36mexplore_feature_layer\u001b[0;34m(feature_layer)\u001b[0m\n\u001b[1;32m     12\u001b[0m \u001b[38;5;28mprint\u001b[39m(\u001b[38;5;124mf\u001b[39m\u001b[38;5;124m'\u001b[39m\u001b[38;5;130;01m\\t\u001b[39;00m\u001b[38;5;124mCapabalities: \u001b[39m\u001b[38;5;132;01m{\u001b[39;00mfeature_layer\u001b[38;5;241m.\u001b[39mproperties\u001b[38;5;241m.\u001b[39mcapabilities\u001b[38;5;132;01m}\u001b[39;00m\u001b[38;5;124m'\u001b[39m)\n\u001b[1;32m     14\u001b[0m \u001b[38;5;66;03m# How can we determine CRS of a layer (called \"spatial_reference\"). \u001b[39;00m\n\u001b[1;32m     15\u001b[0m \n\u001b[1;32m     16\u001b[0m \u001b[38;5;66;03m# By converting it to a featureset - using query() without parameters -  and then retrieving its spatial reference\u001b[39;00m\n\u001b[1;32m     17\u001b[0m \u001b[38;5;66;03m# note that \"spatial reference\" is a property of a featureset, but not of a layer\u001b[39;00m\n\u001b[0;32m---> 20\u001b[0m feature_set \u001b[38;5;241m=\u001b[39m \u001b[43mfeature_layer\u001b[49m\u001b[38;5;241;43m.\u001b[39;49m\u001b[43mquery\u001b[49m\u001b[43m(\u001b[49m\u001b[43m)\u001b[49m\n\u001b[1;32m     21\u001b[0m \u001b[38;5;28mprint\u001b[39m(\u001b[38;5;124mf\u001b[39m\u001b[38;5;124m'\u001b[39m\u001b[38;5;130;01m\\t\u001b[39;00m\u001b[38;5;124mType of feature set: \u001b[39m\u001b[38;5;132;01m{\u001b[39;00m\u001b[38;5;28mtype\u001b[39m(feature_set)\u001b[38;5;132;01m}\u001b[39;00m\u001b[38;5;124m'\u001b[39m)\n\u001b[1;32m     22\u001b[0m \u001b[38;5;28mprint\u001b[39m(\u001b[38;5;124mf\u001b[39m\u001b[38;5;124m'\u001b[39m\u001b[38;5;130;01m\\t\u001b[39;00m\u001b[38;5;124mSpatial Reference for the Feature Layer: \u001b[39m\u001b[38;5;132;01m{\u001b[39;00mfeature_set\u001b[38;5;241m.\u001b[39mspatial_reference\u001b[38;5;132;01m}\u001b[39;00m\u001b[38;5;124m'\u001b[39m)\n",
      "File \u001b[0;32m~/Documents/DSE/DSE260-Capstone-Project/capstone/venv3.9/lib/python3.9/site-packages/arcgis/features/layer.py:2340\u001b[0m, in \u001b[0;36mFeatureLayer.query\u001b[0;34m(self, where, out_fields, time_filter, geometry_filter, return_geometry, return_count_only, return_ids_only, return_distinct_values, return_extent_only, group_by_fields_for_statistics, statistic_filter, result_offset, result_record_count, object_ids, distance, units, max_allowable_offset, out_sr, geometry_precision, gdb_version, order_by_fields, out_statistics, return_z, return_m, multipatch_option, quantization_parameters, return_centroid, return_all_records, result_type, historic_moment, sql_format, return_true_curves, return_exceeded_limit_features, as_df, datum_transformation, **kwargs)\u001b[0m\n\u001b[1;32m   2338\u001b[0m params[\u001b[38;5;124m\"\u001b[39m\u001b[38;5;124mresultOffset\u001b[39m\u001b[38;5;124m\"\u001b[39m] \u001b[38;5;241m=\u001b[39m max_records \u001b[38;5;241m*\u001b[39m i\n\u001b[1;32m   2339\u001b[0m \u001b[38;5;28;01mif\u001b[39;00m \u001b[38;5;129;01mnot\u001b[39;00m as_df:\n\u001b[0;32m-> 2340\u001b[0m     records \u001b[38;5;241m=\u001b[39m \u001b[38;5;28;43mself\u001b[39;49m\u001b[38;5;241;43m.\u001b[39;49m\u001b[43m_query\u001b[49m\u001b[43m(\u001b[49m\u001b[43murl\u001b[49m\u001b[43m,\u001b[49m\u001b[43m \u001b[49m\u001b[43mparams\u001b[49m\u001b[43m,\u001b[49m\u001b[43m \u001b[49m\u001b[43mraw\u001b[49m\u001b[38;5;241;43m=\u001b[39;49m\u001b[43mas_raw\u001b[49m\u001b[43m)\u001b[49m\n\u001b[1;32m   2342\u001b[0m     \u001b[38;5;28;01mif\u001b[39;00m result:\n\u001b[1;32m   2343\u001b[0m         \u001b[38;5;28;01mif\u001b[39;00m \u001b[38;5;124m\"\u001b[39m\u001b[38;5;124mfeatures\u001b[39m\u001b[38;5;124m\"\u001b[39m \u001b[38;5;129;01min\u001b[39;00m result:\n",
      "File \u001b[0;32m~/Documents/DSE/DSE260-Capstone-Project/capstone/venv3.9/lib/python3.9/site-packages/arcgis/features/layer.py:3602\u001b[0m, in \u001b[0;36mFeatureLayer._query\u001b[0;34m(self, url, params, raw, **kwargs)\u001b[0m\n\u001b[1;32m   3599\u001b[0m                     \u001b[38;5;28;01mraise\u001b[39;00m queryException2\n\u001b[1;32m   3601\u001b[0m     \u001b[38;5;28;01melse\u001b[39;00m:\n\u001b[0;32m-> 3602\u001b[0m         \u001b[38;5;28;01mraise\u001b[39;00m queryException\n\u001b[1;32m   3604\u001b[0m \u001b[38;5;28;01mdef\u001b[39;00m \u001b[38;5;21mis_true\u001b[39m(x):\n\u001b[1;32m   3605\u001b[0m     \u001b[38;5;28;01mif\u001b[39;00m \u001b[38;5;28misinstance\u001b[39m(x, \u001b[38;5;28mbool\u001b[39m) \u001b[38;5;129;01mand\u001b[39;00m x:\n",
      "File \u001b[0;32m~/Documents/DSE/DSE260-Capstone-Project/capstone/venv3.9/lib/python3.9/site-packages/arcgis/features/layer.py:3555\u001b[0m, in \u001b[0;36mFeatureLayer._query\u001b[0;34m(self, url, params, raw, **kwargs)\u001b[0m\n\u001b[1;32m   3553\u001b[0m \u001b[38;5;250m\u001b[39m\u001b[38;5;124;03m\"\"\"returns results of query\"\"\"\u001b[39;00m\n\u001b[1;32m   3554\u001b[0m \u001b[38;5;28;01mtry\u001b[39;00m:\n\u001b[0;32m-> 3555\u001b[0m     result \u001b[38;5;241m=\u001b[39m \u001b[38;5;28;43mself\u001b[39;49m\u001b[38;5;241;43m.\u001b[39;49m\u001b[43m_con\u001b[49m\u001b[38;5;241;43m.\u001b[39;49m\u001b[43mpost\u001b[49m\u001b[43m(\u001b[49m\n\u001b[1;32m   3556\u001b[0m \u001b[43m        \u001b[49m\u001b[43mpath\u001b[49m\u001b[38;5;241;43m=\u001b[39;49m\u001b[43murl\u001b[49m\u001b[43m,\u001b[49m\n\u001b[1;32m   3557\u001b[0m \u001b[43m        \u001b[49m\u001b[43mpostdata\u001b[49m\u001b[38;5;241;43m=\u001b[39;49m\u001b[43mparams\u001b[49m\u001b[43m,\u001b[49m\n\u001b[1;32m   3558\u001b[0m \u001b[43m    \u001b[49m\u001b[43m)\u001b[49m\n\u001b[1;32m   3559\u001b[0m \u001b[38;5;28;01mexcept\u001b[39;00m \u001b[38;5;167;01mException\u001b[39;00m \u001b[38;5;28;01mas\u001b[39;00m queryException:\n\u001b[1;32m   3560\u001b[0m     error_list \u001b[38;5;241m=\u001b[39m [\n\u001b[1;32m   3561\u001b[0m         \u001b[38;5;124m\"\u001b[39m\u001b[38;5;124mError performing query operation\u001b[39m\u001b[38;5;124m\"\u001b[39m,\n\u001b[1;32m   3562\u001b[0m         \u001b[38;5;124m\"\u001b[39m\u001b[38;5;124mHTTP Error 504: GATEWAY_TIMEOUT\u001b[39m\u001b[38;5;124m\"\u001b[39m,\n\u001b[1;32m   3563\u001b[0m     ]\n",
      "File \u001b[0;32m~/Documents/DSE/DSE260-Capstone-Project/capstone/venv3.9/lib/python3.9/site-packages/arcgis/gis/_impl/_con/_connection.py:1528\u001b[0m, in \u001b[0;36mConnection.post\u001b[0;34m(self, path, params, files, **kwargs)\u001b[0m\n\u001b[1;32m   1526\u001b[0m \u001b[38;5;28;01mif\u001b[39;00m return_raw_response:\n\u001b[1;32m   1527\u001b[0m     \u001b[38;5;28;01mreturn\u001b[39;00m resp\n\u001b[0;32m-> 1528\u001b[0m \u001b[38;5;28;01mreturn\u001b[39;00m \u001b[38;5;28;43mself\u001b[39;49m\u001b[38;5;241;43m.\u001b[39;49m\u001b[43m_handle_response\u001b[49m\u001b[43m(\u001b[49m\n\u001b[1;32m   1529\u001b[0m \u001b[43m    \u001b[49m\u001b[43mresp\u001b[49m\u001b[38;5;241;43m=\u001b[39;49m\u001b[43mresp\u001b[49m\u001b[43m,\u001b[49m\n\u001b[1;32m   1530\u001b[0m \u001b[43m    \u001b[49m\u001b[43mout_path\u001b[49m\u001b[38;5;241;43m=\u001b[39;49m\u001b[43mout_path\u001b[49m\u001b[43m,\u001b[49m\n\u001b[1;32m   1531\u001b[0m \u001b[43m    \u001b[49m\u001b[43mfile_name\u001b[49m\u001b[38;5;241;43m=\u001b[39;49m\u001b[43mfile_name\u001b[49m\u001b[43m,\u001b[49m\n\u001b[1;32m   1532\u001b[0m \u001b[43m    \u001b[49m\u001b[43mtry_json\u001b[49m\u001b[38;5;241;43m=\u001b[39;49m\u001b[43mtry_json\u001b[49m\u001b[43m,\u001b[49m\n\u001b[1;32m   1533\u001b[0m \u001b[43m    \u001b[49m\u001b[43mforce_bytes\u001b[49m\u001b[38;5;241;43m=\u001b[39;49m\u001b[43mkwargs\u001b[49m\u001b[38;5;241;43m.\u001b[39;49m\u001b[43mpop\u001b[49m\u001b[43m(\u001b[49m\u001b[38;5;124;43m\"\u001b[39;49m\u001b[38;5;124;43mforce_bytes\u001b[39;49m\u001b[38;5;124;43m\"\u001b[39;49m\u001b[43m,\u001b[49m\u001b[43m \u001b[49m\u001b[38;5;28;43;01mFalse\u001b[39;49;00m\u001b[43m)\u001b[49m\u001b[43m,\u001b[49m\n\u001b[1;32m   1534\u001b[0m \u001b[43m\u001b[49m\u001b[43m)\u001b[49m\n",
      "File \u001b[0;32m~/Documents/DSE/DSE260-Capstone-Project/capstone/venv3.9/lib/python3.9/site-packages/arcgis/gis/_impl/_con/_connection.py:1008\u001b[0m, in \u001b[0;36mConnection._handle_response\u001b[0;34m(self, resp, file_name, out_path, try_json, force_bytes, ignore_error_key)\u001b[0m\n\u001b[1;32m   1006\u001b[0m             \u001b[38;5;28;01mreturn\u001b[39;00m data\n\u001b[1;32m   1007\u001b[0m         errorcode \u001b[38;5;241m=\u001b[39m data[\u001b[38;5;124m\"\u001b[39m\u001b[38;5;124merror\u001b[39m\u001b[38;5;124m\"\u001b[39m][\u001b[38;5;124m\"\u001b[39m\u001b[38;5;124mcode\u001b[39m\u001b[38;5;124m\"\u001b[39m] \u001b[38;5;28;01mif\u001b[39;00m \u001b[38;5;124m\"\u001b[39m\u001b[38;5;124mcode\u001b[39m\u001b[38;5;124m\"\u001b[39m \u001b[38;5;129;01min\u001b[39;00m data[\u001b[38;5;124m\"\u001b[39m\u001b[38;5;124merror\u001b[39m\u001b[38;5;124m\"\u001b[39m] \u001b[38;5;28;01melse\u001b[39;00m \u001b[38;5;241m0\u001b[39m\n\u001b[0;32m-> 1008\u001b[0m         \u001b[38;5;28;43mself\u001b[39;49m\u001b[38;5;241;43m.\u001b[39;49m\u001b[43m_handle_json_error\u001b[49m\u001b[43m(\u001b[49m\u001b[43mdata\u001b[49m\u001b[43m[\u001b[49m\u001b[38;5;124;43m\"\u001b[39;49m\u001b[38;5;124;43merror\u001b[39;49m\u001b[38;5;124;43m\"\u001b[39;49m\u001b[43m]\u001b[49m\u001b[43m,\u001b[49m\u001b[43m \u001b[49m\u001b[43merrorcode\u001b[49m\u001b[43m)\u001b[49m\n\u001b[1;32m   1009\u001b[0m     \u001b[38;5;28;01mreturn\u001b[39;00m data\n\u001b[1;32m   1010\u001b[0m \u001b[38;5;28;01melse\u001b[39;00m:\n",
      "File \u001b[0;32m~/Documents/DSE/DSE260-Capstone-Project/capstone/venv3.9/lib/python3.9/site-packages/arcgis/gis/_impl/_con/_connection.py:1031\u001b[0m, in \u001b[0;36mConnection._handle_json_error\u001b[0;34m(self, error, errorcode)\u001b[0m\n\u001b[1;32m   1028\u001b[0m                 \u001b[38;5;66;03m# _log.error(errordetail)\u001b[39;00m\n\u001b[1;32m   1030\u001b[0m errormessage \u001b[38;5;241m=\u001b[39m errormessage \u001b[38;5;241m+\u001b[39m \u001b[38;5;124m\"\u001b[39m\u001b[38;5;130;01m\\n\u001b[39;00m\u001b[38;5;124m(Error Code: \u001b[39m\u001b[38;5;124m\"\u001b[39m \u001b[38;5;241m+\u001b[39m \u001b[38;5;28mstr\u001b[39m(errorcode) \u001b[38;5;241m+\u001b[39m \u001b[38;5;124m\"\u001b[39m\u001b[38;5;124m)\u001b[39m\u001b[38;5;124m\"\u001b[39m\n\u001b[0;32m-> 1031\u001b[0m \u001b[38;5;28;01mraise\u001b[39;00m \u001b[38;5;167;01mException\u001b[39;00m(errormessage)\n",
      "\u001b[0;31mException\u001b[0m: Your request has timed out.\n(Error Code: 504)"
     ]
    }
   ],
   "source": [
    "# Let's check \n",
    "explore_feature_layer(get_feature_layer(service_url='https://services1.arcgis.com/eGSDp8lpKe5izqVc/arcgis/rest/services/PrivateOwnedVacantUndeveloped_SanDiegoCounty_2019/FeatureServer/0'))"
   ]
  },
  {
   "cell_type": "code",
   "execution_count": 6,
   "id": "ed0b9fc7-3db7-41f2-a2ac-9a4f10a82ce0",
   "metadata": {},
   "outputs": [
    {
     "name": "stdout",
     "output_type": "stream",
     "text": [
      "Layer Name: Community_Points\n",
      "\tCopyright Text: \n",
      "\tserviceItemId: e435c0dd31c3447db9503272edf7abf0\n",
      "\tDescription: Community_Points\n",
      "\tCapabalities: Query\n",
      "\tType of feature set: <class 'arcgis.features.feature.FeatureSet'>\n",
      "\tSpatial Reference for the Feature Layer: {'wkid': 102100, 'latestWkid': 3857}\n",
      "\tSample Records from the layer:-\n",
      "\tTotal Records: 177\n"
     ]
    },
    {
     "data": {
      "text/html": [
       "<div>\n",
       "<style scoped>\n",
       "    .dataframe tbody tr th:only-of-type {\n",
       "        vertical-align: middle;\n",
       "    }\n",
       "\n",
       "    .dataframe tbody tr th {\n",
       "        vertical-align: top;\n",
       "    }\n",
       "\n",
       "    .dataframe thead th {\n",
       "        text-align: right;\n",
       "    }\n",
       "</style>\n",
       "<table border=\"1\" class=\"dataframe\">\n",
       "  <thead>\n",
       "    <tr style=\"text-align: right;\">\n",
       "      <th></th>\n",
       "      <th>FID</th>\n",
       "      <th>COMMUNITY</th>\n",
       "      <th>SHAPE</th>\n",
       "    </tr>\n",
       "  </thead>\n",
       "  <tbody>\n",
       "    <tr>\n",
       "      <th>0</th>\n",
       "      <td>1</td>\n",
       "      <td>Mission Bay Park</td>\n",
       "      <td>{\"points\": [[-13048064.9721881, 3865355.478422...</td>\n",
       "    </tr>\n",
       "    <tr>\n",
       "      <th>1</th>\n",
       "      <td>2</td>\n",
       "      <td>Talmadge</td>\n",
       "      <td>{\"points\": [[-13034435.8036788, 3863301.786055...</td>\n",
       "    </tr>\n",
       "    <tr>\n",
       "      <th>2</th>\n",
       "      <td>3</td>\n",
       "      <td>Mission Valley West</td>\n",
       "      <td>{\"points\": [[-13044335.6135952, 3863972.882063...</td>\n",
       "    </tr>\n",
       "    <tr>\n",
       "      <th>3</th>\n",
       "      <td>4</td>\n",
       "      <td>North Park</td>\n",
       "      <td>{\"points\": [[-13039251.3320859, 3861537.064216...</td>\n",
       "    </tr>\n",
       "  </tbody>\n",
       "</table>\n",
       "</div>"
      ],
      "text/plain": [
       "   FID            COMMUNITY                                              SHAPE\n",
       "0    1     Mission Bay Park  {\"points\": [[-13048064.9721881, 3865355.478422...\n",
       "1    2             Talmadge  {\"points\": [[-13034435.8036788, 3863301.786055...\n",
       "2    3  Mission Valley West  {\"points\": [[-13044335.6135952, 3863972.882063...\n",
       "3    4           North Park  {\"points\": [[-13039251.3320859, 3861537.064216..."
      ]
     },
     "metadata": {},
     "output_type": "display_data"
    }
   ],
   "source": [
    "# Exploring breweries features:\n",
    "explore_feature_layer(get_feature_layer('https://services1.arcgis.com/eGSDp8lpKe5izqVc/arcgis/rest/services/Brewery_Locations_in_San_Diego_WFL1/FeatureServer/0'))"
   ]
  },
  {
   "cell_type": "code",
   "execution_count": 7,
   "id": "c7115438-bdde-4c23-bd09-5292078a0db8",
   "metadata": {},
   "outputs": [],
   "source": [
    "service_url = 'https://services1.arcgis.com/eGSDp8lpKe5izqVc/arcgis/rest/services/sandag_census_block_groups/FeatureServer/0'"
   ]
  },
  {
   "cell_type": "code",
   "execution_count": 8,
   "id": "5a07b0f4-24d5-4e6a-a13f-168ebb4409a4",
   "metadata": {},
   "outputs": [],
   "source": [
    "#SANDAG census block groups layer \n",
    "sd_bg_boundaries_feature_layer = get_feature_layer(service_url=service_url)"
   ]
  },
  {
   "cell_type": "code",
   "execution_count": 9,
   "id": "23b8e512-edf0-4ef2-b1ef-2d0fb95b9654",
   "metadata": {},
   "outputs": [
    {
     "name": "stdout",
     "output_type": "stream",
     "text": [
      "Layer Name: sandag_census_block_groups\n",
      "\tCopyright Text: \n",
      "\tserviceItemId: d2bcaed179324f2ca6061172cdd66ab7\n",
      "\tDescription: \n",
      "\tCapabalities: Query\n",
      "\tType of feature set: <class 'arcgis.features.feature.FeatureSet'>\n",
      "\tSpatial Reference for the Feature Layer: {'wkid': 102100, 'latestWkid': 3857}\n",
      "\tSample Records from the layer:-\n",
      "\tTotal Records: 1794\n"
     ]
    },
    {
     "data": {
      "text/html": [
       "<div>\n",
       "<style scoped>\n",
       "    .dataframe tbody tr th:only-of-type {\n",
       "        vertical-align: middle;\n",
       "    }\n",
       "\n",
       "    .dataframe tbody tr th {\n",
       "        vertical-align: top;\n",
       "    }\n",
       "\n",
       "    .dataframe thead th {\n",
       "        text-align: right;\n",
       "    }\n",
       "</style>\n",
       "<table border=\"1\" class=\"dataframe\">\n",
       "  <thead>\n",
       "    <tr style=\"text-align: right;\">\n",
       "      <th></th>\n",
       "      <th>FID</th>\n",
       "      <th>OBJECTID</th>\n",
       "      <th>CTBLOCKGRO</th>\n",
       "      <th>CT</th>\n",
       "      <th>BLOCKGROUP</th>\n",
       "      <th>ShapeSTAre</th>\n",
       "      <th>ShapeSTLen</th>\n",
       "      <th>Shape__Area</th>\n",
       "      <th>Shape__Length</th>\n",
       "      <th>SHAPE</th>\n",
       "    </tr>\n",
       "  </thead>\n",
       "  <tbody>\n",
       "    <tr>\n",
       "      <th>0</th>\n",
       "      <td>1</td>\n",
       "      <td>1</td>\n",
       "      <td>1001</td>\n",
       "      <td>100</td>\n",
       "      <td>1</td>\n",
       "      <td>6681219.411387</td>\n",
       "      <td>15859.711771</td>\n",
       "      <td>880044.207031</td>\n",
       "      <td>5755.742638</td>\n",
       "      <td>{\"rings\": [[[-13045373.0245459, 3863378.855160...</td>\n",
       "    </tr>\n",
       "    <tr>\n",
       "      <th>1</th>\n",
       "      <td>2</td>\n",
       "      <td>2</td>\n",
       "      <td>1002</td>\n",
       "      <td>100</td>\n",
       "      <td>2</td>\n",
       "      <td>9886056.59993</td>\n",
       "      <td>18009.236719</td>\n",
       "      <td>1302113.480469</td>\n",
       "      <td>6534.817965</td>\n",
       "      <td>{\"rings\": [[[-13045398.5344079, 3863208.089962...</td>\n",
       "    </tr>\n",
       "    <tr>\n",
       "      <th>2</th>\n",
       "      <td>3</td>\n",
       "      <td>3</td>\n",
       "      <td>2011</td>\n",
       "      <td>201</td>\n",
       "      <td>1</td>\n",
       "      <td>8250527.564342</td>\n",
       "      <td>11853.222287</td>\n",
       "      <td>1086741.710938</td>\n",
       "      <td>4301.72955</td>\n",
       "      <td>{\"rings\": [[[-13043465.8865252, 3863221.674069...</td>\n",
       "    </tr>\n",
       "    <tr>\n",
       "      <th>3</th>\n",
       "      <td>4</td>\n",
       "      <td>4</td>\n",
       "      <td>2021</td>\n",
       "      <td>202</td>\n",
       "      <td>1</td>\n",
       "      <td>4319103.262502</td>\n",
       "      <td>12043.278905</td>\n",
       "      <td>568776.804688</td>\n",
       "      <td>4370.04466</td>\n",
       "      <td>{\"rings\": [[[-13043560.4265136, 3862026.868732...</td>\n",
       "    </tr>\n",
       "  </tbody>\n",
       "</table>\n",
       "</div>"
      ],
      "text/plain": [
       "   FID  OBJECTID  CTBLOCKGRO   CT  BLOCKGROUP      ShapeSTAre    ShapeSTLen  \\\n",
       "0    1         1        1001  100           1  6681219.411387  15859.711771   \n",
       "1    2         2        1002  100           2   9886056.59993  18009.236719   \n",
       "2    3         3        2011  201           1  8250527.564342  11853.222287   \n",
       "3    4         4        2021  202           1  4319103.262502  12043.278905   \n",
       "\n",
       "      Shape__Area  Shape__Length  \\\n",
       "0   880044.207031    5755.742638   \n",
       "1  1302113.480469    6534.817965   \n",
       "2  1086741.710938     4301.72955   \n",
       "3   568776.804688     4370.04466   \n",
       "\n",
       "                                               SHAPE  \n",
       "0  {\"rings\": [[[-13045373.0245459, 3863378.855160...  \n",
       "1  {\"rings\": [[[-13045398.5344079, 3863208.089962...  \n",
       "2  {\"rings\": [[[-13043465.8865252, 3863221.674069...  \n",
       "3  {\"rings\": [[[-13043560.4265136, 3862026.868732...  "
      ]
     },
     "metadata": {},
     "output_type": "display_data"
    }
   ],
   "source": [
    "explore_feature_layer(sd_bg_boundaries_feature_layer)"
   ]
  },
  {
   "cell_type": "code",
   "execution_count": 10,
   "id": "e9abb349-8e19-41db-9ccb-fd0af5c8b04c",
   "metadata": {},
   "outputs": [
    {
     "data": {
      "text/html": [
       "<div class=\"item_container\" style=\"height: auto; overflow: hidden; border: 1px solid #cfcfcf; border-radius: 2px; background: #f6fafa; line-height: 1.21429em; padding: 10px;\">\n",
       "                    <div class=\"item_left\" style=\"width: 210px; float: left;\">\n",
       "                       <a href='https://UCSDOnline.maps.arcgis.com/home/item.html?id=d2bcaed179324f2ca6061172cdd66ab7' target='_blank'>\n",
       "                        <img src='data:image/png;base64,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' width='200' height='133' class=\"itemThumbnail\">\n",
       "                       </a>\n",
       "                    </div>\n",
       "\n",
       "                    <div class=\"item_right\"     style=\"float: none; width: auto; overflow: hidden;\">\n",
       "                        <a href='https://UCSDOnline.maps.arcgis.com/home/item.html?id=d2bcaed179324f2ca6061172cdd66ab7' target='_blank'><b>sandag_census_block_groups</b>\n",
       "                        </a>\n",
       "                        <br/>This is a testing census block groups boundaries feature layer from sandag.org.<img src='https://UCSDOnline.maps.arcgis.com/home/js/jsapi/esri/css/images/item_type_icons/featureshosted16.png' style=\"vertical-align:middle;\">Feature Layer Collection by akale_UCSDOnline\n",
       "                        <br/>Last Modified: February 18, 2023\n",
       "                        <br/>0 comments, 9 views\n",
       "                    </div>\n",
       "                </div>\n",
       "                "
      ],
      "text/plain": [
       "<Item title:\"sandag_census_block_groups\" type:Feature Layer Collection owner:akale_UCSDOnline>"
      ]
     },
     "execution_count": 10,
     "metadata": {},
     "output_type": "execute_result"
    }
   ],
   "source": [
    "# explore the same from AGOL UI:\n",
    "gis.content.get('d2bcaed179324f2ca6061172cdd66ab7')"
   ]
  },
  {
   "cell_type": "code",
   "execution_count": 11,
   "id": "e6ebc24c-768a-48eb-b285-ace337d02c32",
   "metadata": {},
   "outputs": [],
   "source": [
    "def query_feature_layer(query_expression,feature_layer):\n",
    "    arcgis.features.find_locations.find_existing_locations(input_layers=[feature_layer],expressions=query_expression)\n",
    "    "
   ]
  },
  {
   "cell_type": "code",
   "execution_count": 12,
   "id": "145e449f-476c-4c5f-be0b-78fe386ee114",
   "metadata": {},
   "outputs": [],
   "source": [
    "block_grp_expr = {\"operator\":\"and\",\"layer\":0,\"where\":\"CTBLOCKGROUP = '192,071'\"}"
   ]
  },
  {
   "cell_type": "code",
   "execution_count": 13,
   "id": "48107b50-d456-4341-b515-d30049ffe8c1",
   "metadata": {},
   "outputs": [],
   "source": [
    "block_grp_spatial_query = {\n",
    "\"operator\": \"and\",\n",
    "\"layer\": 0,\n",
    "\"spatialRel\": \"withinDistance\",\n",
    "\"selectingLayer\": 0,\n",
    "\"distance\": 10,\n",
    "\"units\": \"miles\"\n",
    "}"
   ]
  },
  {
   "cell_type": "code",
   "execution_count": 14,
   "id": "abfe3397-e7da-4a74-b693-5f22d9093a2b",
   "metadata": {},
   "outputs": [],
   "source": [
    "#query_feature_layer(block_grp_expr,sd_bg_boundaries_feature_layer)"
   ]
  },
  {
   "cell_type": "code",
   "execution_count": 15,
   "id": "b56ab433-3e19-44dc-9461-7addf8cd0efd",
   "metadata": {},
   "outputs": [],
   "source": [
    "# Try it for feature layer hosted with SANDAG\n",
    "#query_feature_layer(block_grp_expr,get_feature_layer(service_url='https://gissd.sandag.org/rdw/rest/services/Census/Census_ZIP/MapServer/2'))\n",
    "\n"
   ]
  },
  {
   "cell_type": "markdown",
   "id": "2495dc69-77d9-4c5b-92c9-0c3d2be59e74",
   "metadata": {},
   "source": [
    "#### Query the Feature layer"
   ]
  },
  {
   "cell_type": "code",
   "execution_count": 16,
   "id": "3f594adc-b86e-4587-90e2-310ae0d63b29",
   "metadata": {},
   "outputs": [
    {
     "data": {
      "text/plain": [
       "'d2bcaed179324f2ca6061172cdd66ab7'"
      ]
     },
     "execution_count": 16,
     "metadata": {},
     "output_type": "execute_result"
    }
   ],
   "source": [
    "sd_bg_boundaries_feature_layer.properties.serviceItemId"
   ]
  },
  {
   "cell_type": "code",
   "execution_count": 17,
   "id": "8bcd801a-fe12-4d43-be82-c35c1ba45a50",
   "metadata": {},
   "outputs": [],
   "source": [
    "record_name = '1001'  # name to search\n",
    "out_fields = [\"CTBLOCKGRO\", \"CT\", \"BLOCKGROUP\"]  # fields to return\n",
    "where = f\"CTBLOCKGRO = {record_name}\""
   ]
  },
  {
   "cell_type": "code",
   "execution_count": 18,
   "id": "7b10dfaa",
   "metadata": {},
   "outputs": [
    {
     "data": {
      "text/plain": [
       "'CTBLOCKGRO = 1001'"
      ]
     },
     "execution_count": 18,
     "metadata": {},
     "output_type": "execute_result"
    }
   ],
   "source": [
    "where"
   ]
  },
  {
   "cell_type": "code",
   "execution_count": 20,
   "id": "89731737",
   "metadata": {},
   "outputs": [
    {
     "data": {
      "text/html": [
       "<div>\n",
       "<style scoped>\n",
       "    .dataframe tbody tr th:only-of-type {\n",
       "        vertical-align: middle;\n",
       "    }\n",
       "\n",
       "    .dataframe tbody tr th {\n",
       "        vertical-align: top;\n",
       "    }\n",
       "\n",
       "    .dataframe thead th {\n",
       "        text-align: right;\n",
       "    }\n",
       "</style>\n",
       "<table border=\"1\" class=\"dataframe\">\n",
       "  <thead>\n",
       "    <tr style=\"text-align: right;\">\n",
       "      <th></th>\n",
       "      <th>FID</th>\n",
       "      <th>CTBLOCKGRO</th>\n",
       "      <th>CT</th>\n",
       "      <th>BLOCKGROUP</th>\n",
       "      <th>SHAPE</th>\n",
       "    </tr>\n",
       "  </thead>\n",
       "  <tbody>\n",
       "    <tr>\n",
       "      <th>0</th>\n",
       "      <td>1</td>\n",
       "      <td>1001</td>\n",
       "      <td>100</td>\n",
       "      <td>1</td>\n",
       "      <td>{\"rings\": [[[-13045373.0245459, 3863378.855160...</td>\n",
       "    </tr>\n",
       "  </tbody>\n",
       "</table>\n",
       "</div>"
      ],
      "text/plain": [
       "   FID  CTBLOCKGRO   CT  BLOCKGROUP  \\\n",
       "0    1        1001  100           1   \n",
       "\n",
       "                                               SHAPE  \n",
       "0  {\"rings\": [[[-13045373.0245459, 3863378.855160...  "
      ]
     },
     "execution_count": 20,
     "metadata": {},
     "output_type": "execute_result"
    }
   ],
   "source": [
    "record_row = sd_bg_boundaries_feature_layer.query(\n",
    "    where=where,\n",
    "    out_fields=out_fields\n",
    ").sdf\n",
    "\n",
    "record_row"
   ]
  },
  {
   "cell_type": "code",
   "execution_count": 21,
   "id": "fe791a38-6fef-4733-8eb7-9f89dcbff9c1",
   "metadata": {},
   "outputs": [],
   "source": [
    "featureset = sd_bg_boundaries_feature_layer.query()"
   ]
  },
  {
   "cell_type": "code",
   "execution_count": 22,
   "id": "bb0dc1ae-3468-4549-b970-79b697330269",
   "metadata": {},
   "outputs": [
    {
     "data": {
      "text/plain": [
       "[{'name': 'FID',\n",
       "  'type': 'esriFieldTypeOID',\n",
       "  'alias': 'FID',\n",
       "  'sqlType': 'sqlTypeInteger',\n",
       "  'domain': None,\n",
       "  'defaultValue': None},\n",
       " {'name': 'OBJECTID',\n",
       "  'type': 'esriFieldTypeSmallInteger',\n",
       "  'alias': 'OBJECTID',\n",
       "  'sqlType': 'sqlTypeSmallInt',\n",
       "  'domain': None,\n",
       "  'defaultValue': None},\n",
       " {'name': 'CTBLOCKGRO',\n",
       "  'type': 'esriFieldTypeInteger',\n",
       "  'alias': 'CTBLOCKGRO',\n",
       "  'sqlType': 'sqlTypeInteger',\n",
       "  'domain': None,\n",
       "  'defaultValue': None},\n",
       " {'name': 'CT',\n",
       "  'type': 'esriFieldTypeInteger',\n",
       "  'alias': 'CT',\n",
       "  'sqlType': 'sqlTypeInteger',\n",
       "  'domain': None,\n",
       "  'defaultValue': None},\n",
       " {'name': 'BLOCKGROUP',\n",
       "  'type': 'esriFieldTypeSmallInteger',\n",
       "  'alias': 'BLOCKGROUP',\n",
       "  'sqlType': 'sqlTypeSmallInt',\n",
       "  'domain': None,\n",
       "  'defaultValue': None},\n",
       " {'name': 'ShapeSTAre',\n",
       "  'type': 'esriFieldTypeDouble',\n",
       "  'alias': 'ShapeSTAre',\n",
       "  'sqlType': 'sqlTypeFloat',\n",
       "  'domain': None,\n",
       "  'defaultValue': None},\n",
       " {'name': 'ShapeSTLen',\n",
       "  'type': 'esriFieldTypeDouble',\n",
       "  'alias': 'ShapeSTLen',\n",
       "  'sqlType': 'sqlTypeFloat',\n",
       "  'domain': None,\n",
       "  'defaultValue': None},\n",
       " {'name': 'Shape__Area',\n",
       "  'type': 'esriFieldTypeDouble',\n",
       "  'alias': 'Shape__Area',\n",
       "  'sqlType': 'sqlTypeFloat',\n",
       "  'domain': None,\n",
       "  'defaultValue': None},\n",
       " {'name': 'Shape__Length',\n",
       "  'type': 'esriFieldTypeDouble',\n",
       "  'alias': 'Shape__Length',\n",
       "  'sqlType': 'sqlTypeFloat',\n",
       "  'domain': None,\n",
       "  'defaultValue': None}]"
      ]
     },
     "execution_count": 22,
     "metadata": {},
     "output_type": "execute_result"
    }
   ],
   "source": [
    "featureset.fields"
   ]
  },
  {
   "cell_type": "code",
   "execution_count": 23,
   "id": "83bee91f-2342-42c4-812d-30714e1ce27d",
   "metadata": {},
   "outputs": [
    {
     "data": {
      "text/html": [
       "<div>\n",
       "<style scoped>\n",
       "    .dataframe tbody tr th:only-of-type {\n",
       "        vertical-align: middle;\n",
       "    }\n",
       "\n",
       "    .dataframe tbody tr th {\n",
       "        vertical-align: top;\n",
       "    }\n",
       "\n",
       "    .dataframe thead th {\n",
       "        text-align: right;\n",
       "    }\n",
       "</style>\n",
       "<table border=\"1\" class=\"dataframe\">\n",
       "  <thead>\n",
       "    <tr style=\"text-align: right;\">\n",
       "      <th></th>\n",
       "      <th>FID</th>\n",
       "      <th>CTBLOCKGRO</th>\n",
       "      <th>SHAPE</th>\n",
       "    </tr>\n",
       "  </thead>\n",
       "  <tbody>\n",
       "    <tr>\n",
       "      <th>0</th>\n",
       "      <td>1</td>\n",
       "      <td>1001</td>\n",
       "      <td>{\"rings\": [[[-13045373.0245459, 3863378.855160...</td>\n",
       "    </tr>\n",
       "  </tbody>\n",
       "</table>\n",
       "</div>"
      ],
      "text/plain": [
       "   FID  CTBLOCKGRO                                              SHAPE\n",
       "0    1        1001  {\"rings\": [[[-13045373.0245459, 3863378.855160..."
      ]
     },
     "execution_count": 23,
     "metadata": {},
     "output_type": "execute_result"
    }
   ],
   "source": [
    "sd_bg_boundaries_feature_layer.query(where=\"CTBLOCKGRO = '1001'\",out_fields=[\"CTBLOCKGRO\"]).sdf"
   ]
  },
  {
   "cell_type": "code",
   "execution_count": 24,
   "id": "5a8b35a9-bf02-4519-a08c-1c3f70a06846",
   "metadata": {},
   "outputs": [
    {
     "data": {
      "text/html": [
       "<div>\n",
       "<style scoped>\n",
       "    .dataframe tbody tr th:only-of-type {\n",
       "        vertical-align: middle;\n",
       "    }\n",
       "\n",
       "    .dataframe tbody tr th {\n",
       "        vertical-align: top;\n",
       "    }\n",
       "\n",
       "    .dataframe thead th {\n",
       "        text-align: right;\n",
       "    }\n",
       "</style>\n",
       "<table border=\"1\" class=\"dataframe\">\n",
       "  <thead>\n",
       "    <tr style=\"text-align: right;\">\n",
       "      <th></th>\n",
       "      <th>FID</th>\n",
       "      <th>OBJECTID</th>\n",
       "      <th>CTBLOCKGRO</th>\n",
       "      <th>CT</th>\n",
       "      <th>BLOCKGROUP</th>\n",
       "      <th>ShapeSTAre</th>\n",
       "      <th>ShapeSTLen</th>\n",
       "      <th>Shape__Area</th>\n",
       "      <th>Shape__Length</th>\n",
       "      <th>SHAPE</th>\n",
       "    </tr>\n",
       "  </thead>\n",
       "  <tbody>\n",
       "    <tr>\n",
       "      <th>0</th>\n",
       "      <td>1</td>\n",
       "      <td>1</td>\n",
       "      <td>1001</td>\n",
       "      <td>100</td>\n",
       "      <td>1</td>\n",
       "      <td>6681219.411387</td>\n",
       "      <td>15859.711771</td>\n",
       "      <td>880044.207031</td>\n",
       "      <td>5755.742638</td>\n",
       "      <td>{\"rings\": [[[-13045373.0245459, 3863378.855160...</td>\n",
       "    </tr>\n",
       "  </tbody>\n",
       "</table>\n",
       "</div>"
      ],
      "text/plain": [
       "   FID  OBJECTID  CTBLOCKGRO   CT  BLOCKGROUP      ShapeSTAre    ShapeSTLen  \\\n",
       "0    1         1        1001  100           1  6681219.411387  15859.711771   \n",
       "\n",
       "     Shape__Area  Shape__Length  \\\n",
       "0  880044.207031    5755.742638   \n",
       "\n",
       "                                               SHAPE  \n",
       "0  {\"rings\": [[[-13045373.0245459, 3863378.855160...  "
      ]
     },
     "execution_count": 24,
     "metadata": {},
     "output_type": "execute_result"
    }
   ],
   "source": [
    "sd_bg_boundaries_feature_layer.query(where=\"CTBLOCKGRO = '1001'\").sdf"
   ]
  },
  {
   "cell_type": "code",
   "execution_count": 25,
   "id": "8567e42a-d430-41ac-b37a-3d22828d90f1",
   "metadata": {},
   "outputs": [
    {
     "data": {
      "text/html": [
       "<div>\n",
       "<style scoped>\n",
       "    .dataframe tbody tr th:only-of-type {\n",
       "        vertical-align: middle;\n",
       "    }\n",
       "\n",
       "    .dataframe tbody tr th {\n",
       "        vertical-align: top;\n",
       "    }\n",
       "\n",
       "    .dataframe thead th {\n",
       "        text-align: right;\n",
       "    }\n",
       "</style>\n",
       "<table border=\"1\" class=\"dataframe\">\n",
       "  <thead>\n",
       "    <tr style=\"text-align: right;\">\n",
       "      <th></th>\n",
       "      <th>FID</th>\n",
       "      <th>OBJECTID</th>\n",
       "      <th>CTBLOCKGRO</th>\n",
       "      <th>CT</th>\n",
       "      <th>BLOCKGROUP</th>\n",
       "      <th>ShapeSTAre</th>\n",
       "      <th>ShapeSTLen</th>\n",
       "      <th>Shape__Area</th>\n",
       "      <th>Shape__Length</th>\n",
       "      <th>SHAPE</th>\n",
       "    </tr>\n",
       "  </thead>\n",
       "  <tbody>\n",
       "    <tr>\n",
       "      <th>0</th>\n",
       "      <td>1</td>\n",
       "      <td>1</td>\n",
       "      <td>1001</td>\n",
       "      <td>100</td>\n",
       "      <td>1</td>\n",
       "      <td>6681219.411387</td>\n",
       "      <td>15859.711771</td>\n",
       "      <td>880044.207031</td>\n",
       "      <td>5755.742638</td>\n",
       "      <td>{\"rings\": [[[-13045373.0245459, 3863378.855160...</td>\n",
       "    </tr>\n",
       "    <tr>\n",
       "      <th>1</th>\n",
       "      <td>2</td>\n",
       "      <td>2</td>\n",
       "      <td>1002</td>\n",
       "      <td>100</td>\n",
       "      <td>2</td>\n",
       "      <td>9886056.59993</td>\n",
       "      <td>18009.236719</td>\n",
       "      <td>1302113.480469</td>\n",
       "      <td>6534.817965</td>\n",
       "      <td>{\"rings\": [[[-13045398.5344079, 3863208.089962...</td>\n",
       "    </tr>\n",
       "    <tr>\n",
       "      <th>2</th>\n",
       "      <td>3</td>\n",
       "      <td>3</td>\n",
       "      <td>2011</td>\n",
       "      <td>201</td>\n",
       "      <td>1</td>\n",
       "      <td>8250527.564342</td>\n",
       "      <td>11853.222287</td>\n",
       "      <td>1086741.710938</td>\n",
       "      <td>4301.72955</td>\n",
       "      <td>{\"rings\": [[[-13043465.8865252, 3863221.674069...</td>\n",
       "    </tr>\n",
       "    <tr>\n",
       "      <th>3</th>\n",
       "      <td>4</td>\n",
       "      <td>4</td>\n",
       "      <td>2021</td>\n",
       "      <td>202</td>\n",
       "      <td>1</td>\n",
       "      <td>4319103.262502</td>\n",
       "      <td>12043.278905</td>\n",
       "      <td>568776.804688</td>\n",
       "      <td>4370.04466</td>\n",
       "      <td>{\"rings\": [[[-13043560.4265136, 3862026.868732...</td>\n",
       "    </tr>\n",
       "    <tr>\n",
       "      <th>4</th>\n",
       "      <td>5</td>\n",
       "      <td>5</td>\n",
       "      <td>2022</td>\n",
       "      <td>202</td>\n",
       "      <td>2</td>\n",
       "      <td>3348465.343567</td>\n",
       "      <td>9276.109036</td>\n",
       "      <td>440992.289062</td>\n",
       "      <td>3365.580506</td>\n",
       "      <td>{\"rings\": [[[-13044064.8153232, 3862217.598105...</td>\n",
       "    </tr>\n",
       "    <tr>\n",
       "      <th>...</th>\n",
       "      <td>...</td>\n",
       "      <td>...</td>\n",
       "      <td>...</td>\n",
       "      <td>...</td>\n",
       "      <td>...</td>\n",
       "      <td>...</td>\n",
       "      <td>...</td>\n",
       "      <td>...</td>\n",
       "      <td>...</td>\n",
       "      <td>...</td>\n",
       "    </tr>\n",
       "    <tr>\n",
       "      <th>1789</th>\n",
       "      <td>1790</td>\n",
       "      <td>1790</td>\n",
       "      <td>220001</td>\n",
       "      <td>22000</td>\n",
       "      <td>1</td>\n",
       "      <td>3974201.050908</td>\n",
       "      <td>10313.6487</td>\n",
       "      <td>522644.226562</td>\n",
       "      <td>3739.037497</td>\n",
       "      <td>{\"rings\": [[[-13034367.549584, 3853507.5518652...</td>\n",
       "    </tr>\n",
       "    <tr>\n",
       "      <th>1790</th>\n",
       "      <td>1791</td>\n",
       "      <td>1791</td>\n",
       "      <td>220002</td>\n",
       "      <td>22000</td>\n",
       "      <td>2</td>\n",
       "      <td>4402106.014903</td>\n",
       "      <td>9456.429688</td>\n",
       "      <td>578825.335938</td>\n",
       "      <td>3431.410906</td>\n",
       "      <td>{\"rings\": [[[-13033690.9494303, 3852217.666941...</td>\n",
       "    </tr>\n",
       "    <tr>\n",
       "      <th>1791</th>\n",
       "      <td>1792</td>\n",
       "      <td>1792</td>\n",
       "      <td>221001</td>\n",
       "      <td>22100</td>\n",
       "      <td>1</td>\n",
       "      <td>134212538.432881</td>\n",
       "      <td>53537.685684</td>\n",
       "      <td>17830867.625</td>\n",
       "      <td>19501.337886</td>\n",
       "      <td>{\"rings\": [[[-13057399.5599429, 3915123.065531...</td>\n",
       "    </tr>\n",
       "    <tr>\n",
       "      <th>1792</th>\n",
       "      <td>1793</td>\n",
       "      <td>1793</td>\n",
       "      <td>221002</td>\n",
       "      <td>22100</td>\n",
       "      <td>2</td>\n",
       "      <td>36550523.200048</td>\n",
       "      <td>32222.242963</td>\n",
       "      <td>4854332.558594</td>\n",
       "      <td>11739.772297</td>\n",
       "      <td>{\"rings\": [[[-13054134.336033, 3911221.9159382...</td>\n",
       "    </tr>\n",
       "    <tr>\n",
       "      <th>1793</th>\n",
       "      <td>1794</td>\n",
       "      <td>1794</td>\n",
       "      <td>221003</td>\n",
       "      <td>22100</td>\n",
       "      <td>3</td>\n",
       "      <td>29512354.52646</td>\n",
       "      <td>23984.467209</td>\n",
       "      <td>3918565.378906</td>\n",
       "      <td>8734.131545</td>\n",
       "      <td>{\"rings\": [[[-13054719.9879255, 3910455.159842...</td>\n",
       "    </tr>\n",
       "  </tbody>\n",
       "</table>\n",
       "<p>1794 rows × 10 columns</p>\n",
       "</div>"
      ],
      "text/plain": [
       "       FID  OBJECTID  CTBLOCKGRO     CT  BLOCKGROUP        ShapeSTAre  \\\n",
       "0        1         1        1001    100           1    6681219.411387   \n",
       "1        2         2        1002    100           2     9886056.59993   \n",
       "2        3         3        2011    201           1    8250527.564342   \n",
       "3        4         4        2021    202           1    4319103.262502   \n",
       "4        5         5        2022    202           2    3348465.343567   \n",
       "...    ...       ...         ...    ...         ...               ...   \n",
       "1789  1790      1790      220001  22000           1    3974201.050908   \n",
       "1790  1791      1791      220002  22000           2    4402106.014903   \n",
       "1791  1792      1792      221001  22100           1  134212538.432881   \n",
       "1792  1793      1793      221002  22100           2   36550523.200048   \n",
       "1793  1794      1794      221003  22100           3    29512354.52646   \n",
       "\n",
       "        ShapeSTLen     Shape__Area  Shape__Length  \\\n",
       "0     15859.711771   880044.207031    5755.742638   \n",
       "1     18009.236719  1302113.480469    6534.817965   \n",
       "2     11853.222287  1086741.710938     4301.72955   \n",
       "3     12043.278905   568776.804688     4370.04466   \n",
       "4      9276.109036   440992.289062    3365.580506   \n",
       "...            ...             ...            ...   \n",
       "1789    10313.6487   522644.226562    3739.037497   \n",
       "1790   9456.429688   578825.335938    3431.410906   \n",
       "1791  53537.685684    17830867.625   19501.337886   \n",
       "1792  32222.242963  4854332.558594   11739.772297   \n",
       "1793  23984.467209  3918565.378906    8734.131545   \n",
       "\n",
       "                                                  SHAPE  \n",
       "0     {\"rings\": [[[-13045373.0245459, 3863378.855160...  \n",
       "1     {\"rings\": [[[-13045398.5344079, 3863208.089962...  \n",
       "2     {\"rings\": [[[-13043465.8865252, 3863221.674069...  \n",
       "3     {\"rings\": [[[-13043560.4265136, 3862026.868732...  \n",
       "4     {\"rings\": [[[-13044064.8153232, 3862217.598105...  \n",
       "...                                                 ...  \n",
       "1789  {\"rings\": [[[-13034367.549584, 3853507.5518652...  \n",
       "1790  {\"rings\": [[[-13033690.9494303, 3852217.666941...  \n",
       "1791  {\"rings\": [[[-13057399.5599429, 3915123.065531...  \n",
       "1792  {\"rings\": [[[-13054134.336033, 3911221.9159382...  \n",
       "1793  {\"rings\": [[[-13054719.9879255, 3910455.159842...  \n",
       "\n",
       "[1794 rows x 10 columns]"
      ]
     },
     "execution_count": 25,
     "metadata": {},
     "output_type": "execute_result"
    }
   ],
   "source": [
    "featureset.sdf"
   ]
  },
  {
   "cell_type": "code",
   "execution_count": 26,
   "id": "59e828d1-57b2-4048-a8dd-29c1a2024594",
   "metadata": {},
   "outputs": [
    {
     "name": "stdout",
     "output_type": "stream",
     "text": [
      "Layer Name: Communities\n",
      "\tCopyright Text: City of San Diego, Planning Department\n",
      "\tserviceItemId: 5d202b61e047494d8402bb541cd210d3\n",
      "\tDescription: Community plan boundaries for the City of San Diego land use policy plans specific to these geographic areas. Land use policies within jurisdictional boundaries have the ability to create a citywide land use and policy document called the General Plan. Many cities in California are small enough that their General Plans are single volumes. Larger cities, such as San Diego, often subdivide the city into a number of community plans, or \"mini\" land use policy plans for more specific geographic areas.\n",
      "\tCapabalities: Map,Query,Data\n",
      "\tType of feature set: <class 'arcgis.features.feature.FeatureSet'>\n",
      "\tSpatial Reference for the Feature Layer: {'wkid': 102646, 'latestWkid': 2230}\n",
      "\tSample Records from the layer:-\n",
      "\tTotal Records: 63\n"
     ]
    },
    {
     "data": {
      "text/html": [
       "<div>\n",
       "<style scoped>\n",
       "    .dataframe tbody tr th:only-of-type {\n",
       "        vertical-align: middle;\n",
       "    }\n",
       "\n",
       "    .dataframe tbody tr th {\n",
       "        vertical-align: top;\n",
       "    }\n",
       "\n",
       "    .dataframe thead th {\n",
       "        text-align: right;\n",
       "    }\n",
       "</style>\n",
       "<table border=\"1\" class=\"dataframe\">\n",
       "  <thead>\n",
       "    <tr style=\"text-align: right;\">\n",
       "      <th></th>\n",
       "      <th>OBJECTID</th>\n",
       "      <th>CPCODE</th>\n",
       "      <th>CPNAME</th>\n",
       "      <th>ACREAGE</th>\n",
       "      <th>Shape_STAr</th>\n",
       "      <th>Shape_STLe</th>\n",
       "      <th>OBJECTID_1</th>\n",
       "      <th>Shape_Length</th>\n",
       "      <th>Shape_Area</th>\n",
       "      <th>SHAPE</th>\n",
       "    </tr>\n",
       "  </thead>\n",
       "  <tbody>\n",
       "    <tr>\n",
       "      <th>0</th>\n",
       "      <td>1</td>\n",
       "      <td>37.0</td>\n",
       "      <td>SOUTHEASTERN SAN DIEGO,SOUTHEASTERN</td>\n",
       "      <td>2928.980564</td>\n",
       "      <td>127586393.391</td>\n",
       "      <td>62401.141743</td>\n",
       "      <td>1</td>\n",
       "      <td>62401.142359</td>\n",
       "      <td>127586393.998232</td>\n",
       "      <td>{\"rings\": [[[6299335.573509052, 1842145.088913...</td>\n",
       "    </tr>\n",
       "    <tr>\n",
       "      <th>1</th>\n",
       "      <td>2</td>\n",
       "      <td>97.0</td>\n",
       "      <td>MILITARY FACILITIES</td>\n",
       "      <td>444.216478</td>\n",
       "      <td>19350069.7559</td>\n",
       "      <td>31304.013099</td>\n",
       "      <td>2</td>\n",
       "      <td>31304.012715</td>\n",
       "      <td>19350069.843836</td>\n",
       "      <td>{\"rings\": [[[6292102.003750384, 1832996.009085...</td>\n",
       "    </tr>\n",
       "    <tr>\n",
       "      <th>2</th>\n",
       "      <td>3</td>\n",
       "      <td>25.0</td>\n",
       "      <td>OTAY MESA-NESTOR</td>\n",
       "      <td>5367.820835</td>\n",
       "      <td>233822275.519</td>\n",
       "      <td>95210.708583</td>\n",
       "      <td>3</td>\n",
       "      <td>95210.708387</td>\n",
       "      <td>233822274.788668</td>\n",
       "      <td>{\"rings\": [[[6295505.4736445695, 1801168.19906...</td>\n",
       "    </tr>\n",
       "    <tr>\n",
       "      <th>3</th>\n",
       "      <td>4</td>\n",
       "      <td>26.0</td>\n",
       "      <td>OTAY MESA</td>\n",
       "      <td>9316.129163</td>\n",
       "      <td>405811314.098</td>\n",
       "      <td>105906.774574</td>\n",
       "      <td>4</td>\n",
       "      <td>105906.77455</td>\n",
       "      <td>405811316.136828</td>\n",
       "      <td>{\"rings\": [[[6324392.343625978, 1795734.959091...</td>\n",
       "    </tr>\n",
       "  </tbody>\n",
       "</table>\n",
       "</div>"
      ],
      "text/plain": [
       "   OBJECTID  CPCODE                               CPNAME      ACREAGE  \\\n",
       "0         1    37.0  SOUTHEASTERN SAN DIEGO,SOUTHEASTERN  2928.980564   \n",
       "1         2    97.0                  MILITARY FACILITIES   444.216478   \n",
       "2         3    25.0                     OTAY MESA-NESTOR  5367.820835   \n",
       "3         4    26.0                            OTAY MESA  9316.129163   \n",
       "\n",
       "      Shape_STAr     Shape_STLe  OBJECTID_1  Shape_Length        Shape_Area  \\\n",
       "0  127586393.391   62401.141743           1  62401.142359  127586393.998232   \n",
       "1  19350069.7559   31304.013099           2  31304.012715   19350069.843836   \n",
       "2  233822275.519   95210.708583           3  95210.708387  233822274.788668   \n",
       "3  405811314.098  105906.774574           4  105906.77455  405811316.136828   \n",
       "\n",
       "                                               SHAPE  \n",
       "0  {\"rings\": [[[6299335.573509052, 1842145.088913...  \n",
       "1  {\"rings\": [[[6292102.003750384, 1832996.009085...  \n",
       "2  {\"rings\": [[[6295505.4736445695, 1801168.19906...  \n",
       "3  {\"rings\": [[[6324392.343625978, 1795734.959091...  "
      ]
     },
     "metadata": {},
     "output_type": "display_data"
    }
   ],
   "source": [
    "# From webmaps.sandiego.gov San Diego Communities\n",
    "explore_feature_layer(get_feature_layer(service_url='https://webmaps.sandiego.gov/arcgis/rest/services/SD_Sidewalks_v5/MapServer/12'))"
   ]
  },
  {
   "cell_type": "code",
   "execution_count": 27,
   "id": "8949b68a-95c8-4a60-9e02-96a421591e2c",
   "metadata": {},
   "outputs": [
    {
     "name": "stdout",
     "output_type": "stream",
     "text": [
      "Layer Name: Council Districts\n",
      "\tCopyright Text: City of San Diego\n",
      "\tserviceItemId: 5d202b61e047494d8402bb541cd210d3\n",
      "\tDescription: On August 25, 2011, the Redistricting Commission of the City of San Diego voted 7-0 to adopt the Final Redistricting Plan, which specifies the boundaries of districts for San Diego City Council. The Final Plan complies with the redistricting criteria and legal requirements of San Diego City Charter sections 5 and 5.1; the U.S. Constitution; the federal Voting Rights Act of 1965; and related cases and statutes. The Redistricting Commission also added a 9th Council District, as directed by the voters of the City of San Diego in a Charter amendment enacted in 2010. The Redistricting Commission of the City of San Diego is vested with sole and exclusive authority to adopt plans that specify the boundaries of districts for San Diego City Council. San Diego City Charter sections 5 and 5.1 were enacted by the voters in 1992 to create an independent Redistricting Commission to draw City Council districts in compliance with the law.\n",
      "\tCapabalities: Map,Query,Data\n",
      "\tType of feature set: <class 'arcgis.features.feature.FeatureSet'>\n",
      "\tSpatial Reference for the Feature Layer: {'wkid': 102646, 'latestWkid': 2230}\n",
      "\tSample Records from the layer:-\n",
      "\tTotal Records: 9\n"
     ]
    },
    {
     "data": {
      "text/html": [
       "<div>\n",
       "<style scoped>\n",
       "    .dataframe tbody tr th:only-of-type {\n",
       "        vertical-align: middle;\n",
       "    }\n",
       "\n",
       "    .dataframe tbody tr th {\n",
       "        vertical-align: top;\n",
       "    }\n",
       "\n",
       "    .dataframe thead th {\n",
       "        text-align: right;\n",
       "    }\n",
       "</style>\n",
       "<table border=\"1\" class=\"dataframe\">\n",
       "  <thead>\n",
       "    <tr style=\"text-align: right;\">\n",
       "      <th></th>\n",
       "      <th>OBJECTID_1</th>\n",
       "      <th>OBJECTID</th>\n",
       "      <th>DISTRICT</th>\n",
       "      <th>PHONE</th>\n",
       "      <th>WEBSITE</th>\n",
       "      <th>PERIMETER</th>\n",
       "      <th>AREA</th>\n",
       "      <th>Shape_STAr</th>\n",
       "      <th>Shape_STLe</th>\n",
       "      <th>OBJECTID_12</th>\n",
       "      <th>Shape_Length</th>\n",
       "      <th>Shape_Area</th>\n",
       "      <th>SHAPE</th>\n",
       "    </tr>\n",
       "  </thead>\n",
       "  <tbody>\n",
       "    <tr>\n",
       "      <th>0</th>\n",
       "      <td>1.0</td>\n",
       "      <td>1</td>\n",
       "      <td>1.0</td>\n",
       "      <td>(619) 236-6611</td>\n",
       "      <td>http://www.sandiego.gov/citycouncil/cd1/index....</td>\n",
       "      <td>249608.621107</td>\n",
       "      <td>1298260375.36</td>\n",
       "      <td>1298260375.37</td>\n",
       "      <td>249608.621107</td>\n",
       "      <td>1</td>\n",
       "      <td>249608.621107</td>\n",
       "      <td>1298260375.363319</td>\n",
       "      <td>{\"rings\": [[[6250677.896486506, 1874134.378356...</td>\n",
       "    </tr>\n",
       "    <tr>\n",
       "      <th>1</th>\n",
       "      <td>2.0</td>\n",
       "      <td>2</td>\n",
       "      <td>2.0</td>\n",
       "      <td>(619) 236-6622</td>\n",
       "      <td>http://www.sandiego.gov/citycouncil/cd2/index....</td>\n",
       "      <td>235764.574688</td>\n",
       "      <td>1071351044.4</td>\n",
       "      <td>1071351044.41</td>\n",
       "      <td>235764.574688</td>\n",
       "      <td>2</td>\n",
       "      <td>235764.574688</td>\n",
       "      <td>1071351044.401846</td>\n",
       "      <td>{\"rings\": [[[6278620.431152508, 1838503.230130...</td>\n",
       "    </tr>\n",
       "    <tr>\n",
       "      <th>2</th>\n",
       "      <td>3.0</td>\n",
       "      <td>3</td>\n",
       "      <td>3.0</td>\n",
       "      <td>(619) 236-6633</td>\n",
       "      <td>http://www.sandiego.gov/citycouncil/cd3/index....</td>\n",
       "      <td>123627.108763</td>\n",
       "      <td>416385033.793</td>\n",
       "      <td>416385033.794</td>\n",
       "      <td>123627.108763</td>\n",
       "      <td>3</td>\n",
       "      <td>123627.108763</td>\n",
       "      <td>416385033.793338</td>\n",
       "      <td>{\"rings\": [[[6278916.697620347, 1838454.854899...</td>\n",
       "    </tr>\n",
       "    <tr>\n",
       "      <th>3</th>\n",
       "      <td>4.0</td>\n",
       "      <td>4</td>\n",
       "      <td>4.0</td>\n",
       "      <td>(619) 236-6644</td>\n",
       "      <td>http://www.sandiego.gov/citycouncil/cd4/index....</td>\n",
       "      <td>142771.667643</td>\n",
       "      <td>479647101.512</td>\n",
       "      <td>479647101.51</td>\n",
       "      <td>142771.667643</td>\n",
       "      <td>4</td>\n",
       "      <td>142771.667643</td>\n",
       "      <td>479647101.511649</td>\n",
       "      <td>{\"rings\": [[[6315499.381344587, 1855477.991128...</td>\n",
       "    </tr>\n",
       "  </tbody>\n",
       "</table>\n",
       "</div>"
      ],
      "text/plain": [
       "   OBJECTID_1  OBJECTID  DISTRICT           PHONE  \\\n",
       "0         1.0         1       1.0  (619) 236-6611   \n",
       "1         2.0         2       2.0  (619) 236-6622   \n",
       "2         3.0         3       3.0  (619) 236-6633   \n",
       "3         4.0         4       4.0  (619) 236-6644   \n",
       "\n",
       "                                             WEBSITE      PERIMETER  \\\n",
       "0  http://www.sandiego.gov/citycouncil/cd1/index....  249608.621107   \n",
       "1  http://www.sandiego.gov/citycouncil/cd2/index....  235764.574688   \n",
       "2  http://www.sandiego.gov/citycouncil/cd3/index....  123627.108763   \n",
       "3  http://www.sandiego.gov/citycouncil/cd4/index....  142771.667643   \n",
       "\n",
       "            AREA     Shape_STAr     Shape_STLe  OBJECTID_12   Shape_Length  \\\n",
       "0  1298260375.36  1298260375.37  249608.621107            1  249608.621107   \n",
       "1   1071351044.4  1071351044.41  235764.574688            2  235764.574688   \n",
       "2  416385033.793  416385033.794  123627.108763            3  123627.108763   \n",
       "3  479647101.512   479647101.51  142771.667643            4  142771.667643   \n",
       "\n",
       "          Shape_Area                                              SHAPE  \n",
       "0  1298260375.363319  {\"rings\": [[[6250677.896486506, 1874134.378356...  \n",
       "1  1071351044.401846  {\"rings\": [[[6278620.431152508, 1838503.230130...  \n",
       "2   416385033.793338  {\"rings\": [[[6278916.697620347, 1838454.854899...  \n",
       "3   479647101.511649  {\"rings\": [[[6315499.381344587, 1855477.991128...  "
      ]
     },
     "metadata": {},
     "output_type": "display_data"
    }
   ],
   "source": [
    "# From webmaps.sandiego.gov San Diego Counsil Districts\n",
    "explore_feature_layer(get_feature_layer(service_url='https://webmaps.sandiego.gov/arcgis/rest/services/SD_Sidewalks_v5/MapServer/11'))"
   ]
  }
 ],
 "metadata": {
  "kernelspec": {
   "display_name": "Python 3 (ipykernel)",
   "language": "python",
   "name": "python3"
  },
  "language_info": {
   "codemirror_mode": {
    "name": "ipython",
    "version": 3
   },
   "file_extension": ".py",
   "mimetype": "text/x-python",
   "name": "python",
   "nbconvert_exporter": "python",
   "pygments_lexer": "ipython3",
   "version": "3.9.16"
  }
 },
 "nbformat": 4,
 "nbformat_minor": 5
}
