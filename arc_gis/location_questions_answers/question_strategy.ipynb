{
 "cells": [
  {
   "cell_type": "markdown",
   "id": "50e45024",
   "metadata": {},
   "source": [
    "## Prompt and actions on Questions\n"
   ]
  },
  {
   "cell_type": "markdown",
   "id": "10d3c07d",
   "metadata": {},
   "source": [
    "* Look at `registrants` Table in postgres\n",
    "* Consider home address as the location to start query from multiple locations.\n",
    "* Secondly, search for locations in question from `prospective_business_description` column."
   ]
  },
  {
   "cell_type": "code",
   "execution_count": 9,
   "id": "7789fd26",
   "metadata": {},
   "outputs": [],
   "source": [
    "import arcgis\n",
    "from arcgis.gis import GIS\n",
    "from arcgis.geoenrichment import *\n",
    "from arcgis.features import FeatureLayer, FeatureLayerCollection, GeoAccessor\n",
    "import pandas as pd\n",
    "import sys\n",
    "sys.path.append('../../')\n",
    "from utils import get_config"
   ]
  },
  {
   "cell_type": "markdown",
   "id": "dc0cdfe3",
   "metadata": {},
   "source": [
    "### Check if the user belongs to a Food desert"
   ]
  },
  {
   "cell_type": "markdown",
   "id": "79d68f8e",
   "metadata": {},
   "source": [
    "#### Check meal_gap or CalFresh data to check Food insecurity rate for some radius of area\n",
    "* Map the meal gap data is at County level, not sure if it is really helpful for us.\n",
    "* CalFresh Data might need to be standardized, but it is on zip level."
   ]
  },
  {
   "cell_type": "markdown",
   "id": "d68df23b",
   "metadata": {},
   "source": [
    "##### Can we query a geography within a certain radius of a location."
   ]
  },
  {
   "cell_type": "code",
   "execution_count": null,
   "id": "5142a32b",
   "metadata": {},
   "outputs": [],
   "source": []
  },
  {
   "cell_type": "markdown",
   "id": "9f17dad3",
   "metadata": {},
   "source": [
    "#### Check Food Swamp: Desnsity of fast food and Convenience Store"
   ]
  },
  {
   "cell_type": "code",
   "execution_count": null,
   "id": "3363ff75",
   "metadata": {},
   "outputs": [],
   "source": []
  },
  {
   "cell_type": "markdown",
   "id": "33911a4b",
   "metadata": {},
   "source": [
    "#### Does this have Highly Palatable Food."
   ]
  },
  {
   "cell_type": "code",
   "execution_count": null,
   "id": "eaa55bfd",
   "metadata": {},
   "outputs": [],
   "source": []
  },
  {
   "cell_type": "markdown",
   "id": "59d55ee8",
   "metadata": {},
   "source": [
    "#### e.g. Mexican Food business in Chula Vista and business type as Food Truck. (Business type data to be picked up from where? )"
   ]
  },
  {
   "cell_type": "code",
   "execution_count": null,
   "id": "6c2340d9",
   "metadata": {},
   "outputs": [],
   "source": []
  },
  {
   "cell_type": "code",
   "execution_count": null,
   "id": "ad730f18",
   "metadata": {},
   "outputs": [],
   "source": []
  },
  {
   "cell_type": "code",
   "execution_count": 3,
   "id": "843e3118",
   "metadata": {},
   "outputs": [
    {
     "name": "stdout",
     "output_type": "stream",
     "text": [
      "<configparser.ConfigParser object at 0x104ccb880>\n",
      "<configparser.ConfigParser object at 0x12ac48be0>\n"
     ]
    }
   ],
   "source": [
    "username = get_config(\"arcgis\",\"username\")\n",
    "password = get_config(\"arcgis\",\"passkey\")"
   ]
  },
  {
   "cell_type": "code",
   "execution_count": null,
   "id": "efeae05d",
   "metadata": {},
   "outputs": [],
   "source": []
  },
  {
   "cell_type": "code",
   "execution_count": 2,
   "id": "72a185f9",
   "metadata": {},
   "outputs": [],
   "source": [
    "gis = GIS(\"https://ucsdonline.maps.arcgis.com/home\", username=username, password=password)"
   ]
  },
  {
   "cell_type": "markdown",
   "id": "805bc405",
   "metadata": {},
   "source": [
    "#### Render a map"
   ]
  },
  {
   "cell_type": "code",
   "execution_count": 6,
   "id": "b5c98e40",
   "metadata": {},
   "outputs": [
    {
     "data": {
      "application/vnd.jupyter.widget-view+json": {
       "model_id": "18654f930cef4d0a847c444d98b7c193",
       "version_major": 2,
       "version_minor": 0
      },
      "text/plain": [
       "MapView(layout=Layout(height='400px', width='100%'))"
      ]
     },
     "metadata": {},
     "output_type": "display_data"
    },
    {
     "data": {
      "text/html": [
       "<div class=\"map-static-img-preview-88c7fc50-4b0c-470d-adf9-b6095cf8b674\"><img src=\"\"></img></div>"
      ],
      "text/plain": [
       "<IPython.core.display.HTML object>"
      ]
     },
     "metadata": {},
     "output_type": "display_data"
    },
    {
     "data": {
      "text/html": [
       "<div class=\"map-html-embed-preview-88c7fc50-4b0c-470d-adf9-b6095cf8b674\"></div>"
      ],
      "text/plain": [
       "<IPython.core.display.HTML object>"
      ]
     },
     "metadata": {},
     "output_type": "display_data"
    }
   ],
   "source": [
    "m1 = gis.map(\"United States\", zoomlevel=4)\n",
    "m1"
   ]
  },
  {
   "cell_type": "code",
   "execution_count": 10,
   "id": "7f3eb5f3",
   "metadata": {},
   "outputs": [
    {
     "data": {
      "text/html": [
       "<div>\n",
       "<style scoped>\n",
       "    .dataframe tbody tr th:only-of-type {\n",
       "        vertical-align: middle;\n",
       "    }\n",
       "\n",
       "    .dataframe tbody tr th {\n",
       "        vertical-align: top;\n",
       "    }\n",
       "\n",
       "    .dataframe thead th {\n",
       "        text-align: right;\n",
       "    }\n",
       "</style>\n",
       "<table border=\"1\" class=\"dataframe\">\n",
       "  <thead>\n",
       "    <tr style=\"text-align: right;\">\n",
       "      <th></th>\n",
       "      <th>FID</th>\n",
       "      <th>name</th>\n",
       "      <th>address</th>\n",
       "      <th>longitude</th>\n",
       "      <th>latitude</th>\n",
       "      <th>SHAPE</th>\n",
       "    </tr>\n",
       "  </thead>\n",
       "  <tbody>\n",
       "    <tr>\n",
       "      <th>0</th>\n",
       "      <td>1</td>\n",
       "      <td>Colorado Farm and Art Market</td>\n",
       "      <td>7350 Pine Creek Road, Colorado Springs, Colora...</td>\n",
       "      <td>-104.813284</td>\n",
       "      <td>38.937974</td>\n",
       "      <td>{\"x\": -11667761.399188498, \"y\": 4712790.752459...</td>\n",
       "    </tr>\n",
       "    <tr>\n",
       "      <th>1</th>\n",
       "      <td>2</td>\n",
       "      <td>Market in The Park</td>\n",
       "      <td>300 Conti, Mobile, Alabama 36602</td>\n",
       "      <td>-88.044585</td>\n",
       "      <td>30.690215</td>\n",
       "      <td>{\"x\": -9801078.355560867, \"y\": 3592582.7091098...</td>\n",
       "    </tr>\n",
       "    <tr>\n",
       "      <th>2</th>\n",
       "      <td>3</td>\n",
       "      <td>The Territory Farmers' Market</td>\n",
       "      <td>2000 Territory Drive, Galena, Illinois 61036</td>\n",
       "      <td>-90.317574</td>\n",
       "      <td>42.399287</td>\n",
       "      <td>{\"x\": -10054106.340682408, \"y\": 5220979.678882...</td>\n",
       "    </tr>\n",
       "    <tr>\n",
       "      <th>3</th>\n",
       "      <td>4</td>\n",
       "      <td>City of Plymouth Farmers Market</td>\n",
       "      <td>15500 County Road 6, Plymouth, Minnesota 55447</td>\n",
       "      <td>-93.47626</td>\n",
       "      <td>44.99638</td>\n",
       "      <td>{\"x\": -10405729.674340973, \"y\": 5620951.682596...</td>\n",
       "    </tr>\n",
       "    <tr>\n",
       "      <th>4</th>\n",
       "      <td>5</td>\n",
       "      <td>Durham Farmers' Market</td>\n",
       "      <td>501 Foster Street, Durham, North Carolina 27701</td>\n",
       "      <td>-78.901498</td>\n",
       "      <td>36.000645</td>\n",
       "      <td>{\"x\": -8783274.560550418, \"y\": 4300710.0709383...</td>\n",
       "    </tr>\n",
       "    <tr>\n",
       "      <th>...</th>\n",
       "      <td>...</td>\n",
       "      <td>...</td>\n",
       "      <td>...</td>\n",
       "      <td>...</td>\n",
       "      <td>...</td>\n",
       "      <td>...</td>\n",
       "    </tr>\n",
       "    <tr>\n",
       "      <th>1051</th>\n",
       "      <td>1052</td>\n",
       "      <td>Bexley Farmers Market</td>\n",
       "      <td>South Dawson Avenue &amp; East Main Street, Bexley...</td>\n",
       "      <td>-82.93572</td>\n",
       "      <td>39.95714</td>\n",
       "      <td>{\"x\": -9232362.116269127, \"y\": 4859715.9343609...</td>\n",
       "    </tr>\n",
       "    <tr>\n",
       "      <th>1052</th>\n",
       "      <td>1053</td>\n",
       "      <td>2nd Street Market</td>\n",
       "      <td>600 East 2nd Street, Dayton, OH, USA</td>\n",
       "      <td>-84.180817</td>\n",
       "      <td>39.762778</td>\n",
       "      <td>{\"x\": -9370965.65404552, \"y\": 4831529.48735039...</td>\n",
       "    </tr>\n",
       "    <tr>\n",
       "      <th>1053</th>\n",
       "      <td>1054</td>\n",
       "      <td>Farmers Market Centerville Texas</td>\n",
       "      <td>114 E St Marys St, Centerville, TX, USA</td>\n",
       "      <td>-95.978552</td>\n",
       "      <td>31.258045</td>\n",
       "      <td>{\"x\": -10684283.583522432, \"y\": 3666306.799085...</td>\n",
       "    </tr>\n",
       "    <tr>\n",
       "      <th>1054</th>\n",
       "      <td>1055</td>\n",
       "      <td>Downtown Beloit Farmers' Market - Winter</td>\n",
       "      <td>557 E Grand Ave, Beloit, WI, USA</td>\n",
       "      <td>-89.031517</td>\n",
       "      <td>42.499645</td>\n",
       "      <td>{\"x\": -9910943.143985387, \"y\": 5236120.2130659...</td>\n",
       "    </tr>\n",
       "    <tr>\n",
       "      <th>1055</th>\n",
       "      <td>1056</td>\n",
       "      <td>Galax Farmers Market</td>\n",
       "      <td>206 North Main Street, Galax, VA, USA</td>\n",
       "      <td>-80.925411</td>\n",
       "      <td>36.663288</td>\n",
       "      <td>{\"x\": -9008575.500733461, \"y\": 4392276.8173528...</td>\n",
       "    </tr>\n",
       "  </tbody>\n",
       "</table>\n",
       "<p>1056 rows × 6 columns</p>\n",
       "</div>"
      ],
      "text/plain": [
       "       FID                                      name  \\\n",
       "0        1              Colorado Farm and Art Market   \n",
       "1        2                        Market in The Park   \n",
       "2        3             The Territory Farmers' Market   \n",
       "3        4           City of Plymouth Farmers Market   \n",
       "4        5                    Durham Farmers' Market   \n",
       "...    ...                                       ...   \n",
       "1051  1052                     Bexley Farmers Market   \n",
       "1052  1053                         2nd Street Market   \n",
       "1053  1054          Farmers Market Centerville Texas   \n",
       "1054  1055  Downtown Beloit Farmers' Market - Winter   \n",
       "1055  1056                      Galax Farmers Market   \n",
       "\n",
       "                                                address   longitude  \\\n",
       "0     7350 Pine Creek Road, Colorado Springs, Colora... -104.813284   \n",
       "1                      300 Conti, Mobile, Alabama 36602  -88.044585   \n",
       "2          2000 Territory Drive, Galena, Illinois 61036  -90.317574   \n",
       "3        15500 County Road 6, Plymouth, Minnesota 55447   -93.47626   \n",
       "4       501 Foster Street, Durham, North Carolina 27701  -78.901498   \n",
       "...                                                 ...         ...   \n",
       "1051  South Dawson Avenue & East Main Street, Bexley...   -82.93572   \n",
       "1052               600 East 2nd Street, Dayton, OH, USA  -84.180817   \n",
       "1053            114 E St Marys St, Centerville, TX, USA  -95.978552   \n",
       "1054                   557 E Grand Ave, Beloit, WI, USA  -89.031517   \n",
       "1055              206 North Main Street, Galax, VA, USA  -80.925411   \n",
       "\n",
       "       latitude                                              SHAPE  \n",
       "0     38.937974  {\"x\": -11667761.399188498, \"y\": 4712790.752459...  \n",
       "1     30.690215  {\"x\": -9801078.355560867, \"y\": 3592582.7091098...  \n",
       "2     42.399287  {\"x\": -10054106.340682408, \"y\": 5220979.678882...  \n",
       "3      44.99638  {\"x\": -10405729.674340973, \"y\": 5620951.682596...  \n",
       "4     36.000645  {\"x\": -8783274.560550418, \"y\": 4300710.0709383...  \n",
       "...         ...                                                ...  \n",
       "1051   39.95714  {\"x\": -9232362.116269127, \"y\": 4859715.9343609...  \n",
       "1052  39.762778  {\"x\": -9370965.65404552, \"y\": 4831529.48735039...  \n",
       "1053  31.258045  {\"x\": -10684283.583522432, \"y\": 3666306.799085...  \n",
       "1054  42.499645  {\"x\": -9910943.143985387, \"y\": 5236120.2130659...  \n",
       "1055  36.663288  {\"x\": -9008575.500733461, \"y\": 4392276.8173528...  \n",
       "\n",
       "[1056 rows x 6 columns]"
      ]
     },
     "execution_count": 10,
     "metadata": {},
     "output_type": "execute_result"
    }
   ],
   "source": [
    "# Let's use a sample feature layer available with us on US map. \n",
    "# Lets take farmers market which we can plot using symbol on basis of zip \n",
    "fl = FeatureLayer(gis=gis,\n",
    "            url=\"https://services1.arcgis.com/eGSDp8lpKe5izqVc/arcgis/rest/services/a09656/FeatureServer/0\")\n",
    "\n",
    "df = GeoAccessor.from_layer(fl)\n",
    "df"
   ]
  },
  {
   "cell_type": "code",
   "execution_count": 11,
   "id": "3c044b69",
   "metadata": {},
   "outputs": [
    {
     "data": {
      "text/plain": [
       "True"
      ]
     },
     "execution_count": 11,
     "metadata": {},
     "output_type": "execute_result"
    }
   ],
   "source": [
    "df.spatial.plot(map_widget= m1)"
   ]
  },
  {
   "cell_type": "code",
   "execution_count": 12,
   "id": "8aeaaafb",
   "metadata": {},
   "outputs": [
    {
     "data": {
      "text/html": [
       "<div>\n",
       "<style scoped>\n",
       "    .dataframe tbody tr th:only-of-type {\n",
       "        vertical-align: middle;\n",
       "    }\n",
       "\n",
       "    .dataframe tbody tr th {\n",
       "        vertical-align: top;\n",
       "    }\n",
       "\n",
       "    .dataframe thead th {\n",
       "        text-align: right;\n",
       "    }\n",
       "</style>\n",
       "<table border=\"1\" class=\"dataframe\">\n",
       "  <thead>\n",
       "    <tr style=\"text-align: right;\">\n",
       "      <th></th>\n",
       "      <th>Shape_Length</th>\n",
       "      <th>Shape_Area</th>\n",
       "      <th>OBJECTID</th>\n",
       "      <th>NAME</th>\n",
       "      <th>STATE_NAME</th>\n",
       "      <th>STATE_FIPS</th>\n",
       "      <th>CNTY_FIPS</th>\n",
       "      <th>FIPS</th>\n",
       "      <th>POP2000</th>\n",
       "      <th>POP2007</th>\n",
       "      <th>...</th>\n",
       "      <th>HSE_UNITS</th>\n",
       "      <th>VACANT</th>\n",
       "      <th>OWNER_OCC</th>\n",
       "      <th>RENTER_OCC</th>\n",
       "      <th>NO_FARMS97</th>\n",
       "      <th>AVG_SIZE97</th>\n",
       "      <th>CROP_ACR97</th>\n",
       "      <th>AVG_SALE97</th>\n",
       "      <th>SQMI</th>\n",
       "      <th>SHAPE</th>\n",
       "    </tr>\n",
       "  </thead>\n",
       "  <tbody>\n",
       "    <tr>\n",
       "      <th>0</th>\n",
       "      <td>3.879553</td>\n",
       "      <td>0.590994</td>\n",
       "      <td>2953</td>\n",
       "      <td>Adams</td>\n",
       "      <td>Washington</td>\n",
       "      <td>53</td>\n",
       "      <td>001</td>\n",
       "      <td>53001</td>\n",
       "      <td>16428</td>\n",
       "      <td>17555</td>\n",
       "      <td>...</td>\n",
       "      <td>5773</td>\n",
       "      <td>544</td>\n",
       "      <td>3576</td>\n",
       "      <td>1653</td>\n",
       "      <td>628.0</td>\n",
       "      <td>1746.0</td>\n",
       "      <td>808651.0</td>\n",
       "      <td>321.45</td>\n",
       "      <td>1930.0</td>\n",
       "      <td>{\"rings\": [[[-119.36961802215399, 46.737285024...</td>\n",
       "    </tr>\n",
       "    <tr>\n",
       "      <th>1</th>\n",
       "      <td>2.127905</td>\n",
       "      <td>0.193369</td>\n",
       "      <td>2954</td>\n",
       "      <td>Asotin</td>\n",
       "      <td>Washington</td>\n",
       "      <td>53</td>\n",
       "      <td>003</td>\n",
       "      <td>53003</td>\n",
       "      <td>20551</td>\n",
       "      <td>21237</td>\n",
       "      <td>...</td>\n",
       "      <td>9111</td>\n",
       "      <td>747</td>\n",
       "      <td>5612</td>\n",
       "      <td>2752</td>\n",
       "      <td>140.0</td>\n",
       "      <td>2175.0</td>\n",
       "      <td>87282.0</td>\n",
       "      <td>69.59</td>\n",
       "      <td>640.6</td>\n",
       "      <td>{\"rings\": [[[-117.48006100031489, 46.085736986...</td>\n",
       "    </tr>\n",
       "    <tr>\n",
       "      <th>2</th>\n",
       "      <td>3.259149</td>\n",
       "      <td>0.531696</td>\n",
       "      <td>2955</td>\n",
       "      <td>Benton</td>\n",
       "      <td>Washington</td>\n",
       "      <td>53</td>\n",
       "      <td>005</td>\n",
       "      <td>53005</td>\n",
       "      <td>142475</td>\n",
       "      <td>164259</td>\n",
       "      <td>...</td>\n",
       "      <td>55963</td>\n",
       "      <td>3097</td>\n",
       "      <td>36344</td>\n",
       "      <td>16522</td>\n",
       "      <td>1078.0</td>\n",
       "      <td>568.0</td>\n",
       "      <td>440291.0</td>\n",
       "      <td>278.79</td>\n",
       "      <td>1760.0</td>\n",
       "      <td>{\"rings\": [[[-119.87687899986594, 46.562399986...</td>\n",
       "    </tr>\n",
       "    <tr>\n",
       "      <th>3</th>\n",
       "      <td>6.259164</td>\n",
       "      <td>0.932106</td>\n",
       "      <td>2956</td>\n",
       "      <td>Chelan</td>\n",
       "      <td>Washington</td>\n",
       "      <td>53</td>\n",
       "      <td>007</td>\n",
       "      <td>53007</td>\n",
       "      <td>66616</td>\n",
       "      <td>71939</td>\n",
       "      <td>...</td>\n",
       "      <td>30407</td>\n",
       "      <td>5386</td>\n",
       "      <td>16178</td>\n",
       "      <td>8843</td>\n",
       "      <td>1113.0</td>\n",
       "      <td>111.0</td>\n",
       "      <td>41046.0</td>\n",
       "      <td>131.54</td>\n",
       "      <td>2993.7</td>\n",
       "      <td>{\"rings\": [[[-121.17981297788657, 47.896832976...</td>\n",
       "    </tr>\n",
       "    <tr>\n",
       "      <th>4</th>\n",
       "      <td>5.62703</td>\n",
       "      <td>0.551224</td>\n",
       "      <td>2957</td>\n",
       "      <td>Clallam</td>\n",
       "      <td>Washington</td>\n",
       "      <td>53</td>\n",
       "      <td>009</td>\n",
       "      <td>53009</td>\n",
       "      <td>64525</td>\n",
       "      <td>70908</td>\n",
       "      <td>...</td>\n",
       "      <td>30683</td>\n",
       "      <td>3519</td>\n",
       "      <td>19757</td>\n",
       "      <td>7407</td>\n",
       "      <td>292.0</td>\n",
       "      <td>72.0</td>\n",
       "      <td>12116.0</td>\n",
       "      <td>20.58</td>\n",
       "      <td>1764.3</td>\n",
       "      <td>{\"rings\": [[[-124.73315299891175, 48.163761012...</td>\n",
       "    </tr>\n",
       "  </tbody>\n",
       "</table>\n",
       "<p>5 rows × 53 columns</p>\n",
       "</div>"
      ],
      "text/plain": [
       "   Shape_Length  Shape_Area  OBJECTID     NAME  STATE_NAME STATE_FIPS  \\\n",
       "0      3.879553    0.590994      2953    Adams  Washington         53   \n",
       "1      2.127905    0.193369      2954   Asotin  Washington         53   \n",
       "2      3.259149    0.531696      2955   Benton  Washington         53   \n",
       "3      6.259164    0.932106      2956   Chelan  Washington         53   \n",
       "4       5.62703    0.551224      2957  Clallam  Washington         53   \n",
       "\n",
       "  CNTY_FIPS   FIPS  POP2000  POP2007  ...  HSE_UNITS  VACANT  OWNER_OCC  \\\n",
       "0       001  53001    16428    17555  ...       5773     544       3576   \n",
       "1       003  53003    20551    21237  ...       9111     747       5612   \n",
       "2       005  53005   142475   164259  ...      55963    3097      36344   \n",
       "3       007  53007    66616    71939  ...      30407    5386      16178   \n",
       "4       009  53009    64525    70908  ...      30683    3519      19757   \n",
       "\n",
       "   RENTER_OCC  NO_FARMS97  AVG_SIZE97  CROP_ACR97  AVG_SALE97    SQMI  \\\n",
       "0        1653       628.0      1746.0    808651.0      321.45  1930.0   \n",
       "1        2752       140.0      2175.0     87282.0       69.59   640.6   \n",
       "2       16522      1078.0       568.0    440291.0      278.79  1760.0   \n",
       "3        8843      1113.0       111.0     41046.0      131.54  2993.7   \n",
       "4        7407       292.0        72.0     12116.0       20.58  1764.3   \n",
       "\n",
       "                                               SHAPE  \n",
       "0  {\"rings\": [[[-119.36961802215399, 46.737285024...  \n",
       "1  {\"rings\": [[[-117.48006100031489, 46.085736986...  \n",
       "2  {\"rings\": [[[-119.87687899986594, 46.562399986...  \n",
       "3  {\"rings\": [[[-121.17981297788657, 47.896832976...  \n",
       "4  {\"rings\": [[[-124.73315299891175, 48.163761012...  \n",
       "\n",
       "[5 rows x 53 columns]"
      ]
     },
     "execution_count": 12,
     "metadata": {},
     "output_type": "execute_result"
    }
   ],
   "source": [
    "from arcgis.features import FeatureLayer\n",
    "fl = FeatureLayer(\"https://sampleserver6.arcgisonline.com/arcgis/rest/services/Census/MapServer/2\")\n",
    "county_sdf = fl.query(\"STATE_NAME='Washington'\", out_sr=4326).sdf\n",
    "county_sdf.head()"
   ]
  },
  {
   "cell_type": "code",
   "execution_count": 14,
   "id": "c10dad2b",
   "metadata": {},
   "outputs": [
    {
     "data": {
      "application/vnd.jupyter.widget-view+json": {
       "model_id": "eb374a0bbabd4ce9b9cfe6e7c4359888",
       "version_major": 2,
       "version_minor": 0
      },
      "text/plain": [
       "MapView(layout=Layout(height='400px', width='100%'))"
      ]
     },
     "metadata": {},
     "output_type": "display_data"
    },
    {
     "data": {
      "text/html": [
       "<div class=\"map-static-img-preview-7246db0e-42a2-4ee1-bf80-dbb82ef90677\"><img src=\"\"></img></div>"
      ],
      "text/plain": [
       "<IPython.core.display.HTML object>"
      ]
     },
     "metadata": {},
     "output_type": "display_data"
    },
    {
     "data": {
      "text/html": [
       "<div class=\"map-html-embed-preview-7246db0e-42a2-4ee1-bf80-dbb82ef90677\"></div>"
      ],
      "text/plain": [
       "<IPython.core.display.HTML object>"
      ]
     },
     "metadata": {},
     "output_type": "display_data"
    }
   ],
   "source": [
    "m9 = gis.map('Seattle, WA', zoomlevel=6)\n",
    "m9"
   ]
  },
  {
   "cell_type": "code",
   "execution_count": 17,
   "id": "e9598b8c",
   "metadata": {},
   "outputs": [
    {
     "name": "stdout",
     "output_type": "stream",
     "text": [
      "Backward Diagonal     \t\\\n",
      "Forward Diagonal      \t/\n",
      "Vertical Bar          \t|\n",
      "Horizontal Bar        \t-\n",
      "Diagonal Cross        \tx\n",
      "Cross                 \t+\n",
      "Solid Fill (default)  \ts\n"
     ]
    }
   ],
   "source": [
    "from arcgis.mapping import show_styles\n",
    "import time\n",
    "for idx, style in show_styles('Polygon').iterrows():\n",
    "    m9.remove_layers()\n",
    "    time.sleep(0.5)\n",
    "    \n",
    "    print(f\"{style['ESRI_STYLE']:22}\\t{style['MARKER']}\")\n",
    "    county_sdf.spatial.plot(map_widget=m9,\n",
    "                           renderer_type='s',\n",
    "                           cmap = 'RdPu',  # use a red to purple color map\n",
    "                           symbol_type='simple',\n",
    "                           symbol_style=style['MARKER'],\n",
    "                           outline_style='s',\n",
    "                           outline_color=[0,0,0,255],\n",
    "                           line_width=1.0)"
   ]
  },
  {
   "cell_type": "code",
   "execution_count": 23,
   "id": "a5903ac2",
   "metadata": {},
   "outputs": [
    {
     "data": {
      "text/plain": [
       "True"
      ]
     },
     "execution_count": 23,
     "metadata": {},
     "output_type": "execute_result"
    }
   ],
   "source": [
    "m9.remove_layers()\n",
    "county_sdf.spatial.plot(map_widget=m9,\n",
    "                           renderer_type='s',\n",
    "                           cmap = 'RdPu',  # use a red to purple color map\n",
    "                           symbol_type='simple',\n",
    "                           symbol_style='-',\n",
    "                           outline_style='s',\n",
    "                           outline_color=[0,0,0,255],\n",
    "                           line_width=1.0)"
   ]
  },
  {
   "cell_type": "code",
   "execution_count": null,
   "id": "9772c8ba",
   "metadata": {},
   "outputs": [],
   "source": []
  }
 ],
 "metadata": {
  "kernelspec": {
   "display_name": "Python 3 (ipykernel)",
   "language": "python",
   "name": "python3"
  },
  "language_info": {
   "codemirror_mode": {
    "name": "ipython",
    "version": 3
   },
   "file_extension": ".py",
   "mimetype": "text/x-python",
   "name": "python",
   "nbconvert_exporter": "python",
   "pygments_lexer": "ipython3",
   "version": "3.9.16"
  }
 },
 "nbformat": 4,
 "nbformat_minor": 5
}
