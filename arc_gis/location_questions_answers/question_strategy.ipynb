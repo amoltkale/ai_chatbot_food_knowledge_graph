{
 "cells": [
  {
   "cell_type": "markdown",
   "id": "49c4535e",
   "metadata": {},
   "source": [
    "## Prompt and actions on Questions\n"
   ]
  },
  {
   "cell_type": "markdown",
   "id": "fc5d683a",
   "metadata": {},
   "source": [
    "* Look at `registrants` Table in postgres\n",
    "* Consider home address as the location to start query from multiple locations.\n",
    "* Secondly, search for locations in question from `prospective_business_description` column."
   ]
  },
  {
   "cell_type": "code",
   "execution_count": 121,
   "id": "d6f61360",
   "metadata": {},
   "outputs": [],
   "source": [
    "import arcgis\n",
    "from arcgis.gis import GIS\n",
    "from arcgis.geoenrichment import *\n",
    "from arcgis.features import FeatureLayer, FeatureLayerCollection, GeoAccessor\n",
    "from arcgis.geocoding import geocode\n",
    "import pandas as pd\n",
    "import sys\n",
    "sys.path.append('../../')\n",
    "from utils import get_config"
   ]
  },
  {
   "cell_type": "markdown",
   "id": "5714eed8",
   "metadata": {},
   "source": [
    "### Check if the user belongs to a Food desert"
   ]
  },
  {
   "cell_type": "markdown",
   "id": "0d6871a5",
   "metadata": {},
   "source": [
    "#### Check meal_gap or CalFresh data to check Food insecurity rate for some radius of area\n",
    "* Map the meal gap data is at County level, not sure if it is really helpful for us.\n",
    "* CalFresh Data might need to be standardized, but it is on zip level."
   ]
  },
  {
   "cell_type": "markdown",
   "id": "f75e7bfb",
   "metadata": {},
   "source": [
    "##### Can we query a geography within a certain radius of a location."
   ]
  },
  {
   "cell_type": "code",
   "execution_count": null,
   "id": "a81ecb83",
   "metadata": {},
   "outputs": [],
   "source": []
  },
  {
   "cell_type": "markdown",
   "id": "5ffe4918",
   "metadata": {},
   "source": [
    "##### Can we get list of block groups given a region. For now we will consider planned community areas."
   ]
  },
  {
   "cell_type": "code",
   "execution_count": 96,
   "id": "c2cee87f",
   "metadata": {},
   "outputs": [],
   "source": [
    "## Get the relevant block groups\n",
    "region_of_interest = 'RANCHO PENASQUITOS'\n",
    "region_of_interest = region_of_interest.lower()\n",
    "cpa_bg_map = pd.read_csv(\"../resources/san_diego_county_cpa_blk_grp_map.csv\", dtype ='str')\n",
    "mask = cpa_bg_map['CPANAME']==region_of_interest\n",
    "block_groups_in_region = cpa_bg_map[mask]\n",
    "block_groups_in_region_list = block_groups_in_region['fips'].tolist()"
   ]
  },
  {
   "cell_type": "code",
   "execution_count": 97,
   "id": "2401ee0c",
   "metadata": {},
   "outputs": [
    {
     "data": {
      "text/plain": [
       "['060730083361',\n",
       " '060730083362',\n",
       " '060730083371',\n",
       " '060730083372',\n",
       " '060730083373',\n",
       " '060730083651',\n",
       " '060730083652',\n",
       " '060730083661',\n",
       " '060730083662',\n",
       " '060730083663']"
      ]
     },
     "execution_count": 97,
     "metadata": {},
     "output_type": "execute_result"
    }
   ],
   "source": [
    "block_groups_in_region_list[:10]"
   ]
  },
  {
   "cell_type": "markdown",
   "id": "e69ef09a",
   "metadata": {},
   "source": [
    "#### Option 1"
   ]
  },
  {
   "cell_type": "code",
   "execution_count": 98,
   "id": "486b70fe",
   "metadata": {},
   "outputs": [],
   "source": [
    "# Query the block group for respective variables and feature layer.\n",
    "variables = \"demographics\"\n",
    "if variables==\"demographics\":\n",
    "    url = \"https://services1.arcgis.com/eGSDp8lpKe5izqVc/arcgis/rest/services/aff1b6/FeatureServer/0\"\n",
    "ft_lyr = FeatureLayer(gis=gis,\n",
    "                       url=url)\n",
    "out_fields = [\"fips\", \"occeduc_cy\",\"pif60_cy\",\"OCCFOOD_CY\"]  "
   ]
  },
  {
   "cell_type": "code",
   "execution_count": 145,
   "id": "aba2ebe1",
   "metadata": {},
   "outputs": [
    {
     "data": {
      "text/html": [
       "<div>\n",
       "<style scoped>\n",
       "    .dataframe tbody tr th:only-of-type {\n",
       "        vertical-align: middle;\n",
       "    }\n",
       "\n",
       "    .dataframe tbody tr th {\n",
       "        vertical-align: top;\n",
       "    }\n",
       "\n",
       "    .dataframe thead th {\n",
       "        text-align: right;\n",
       "    }\n",
       "</style>\n",
       "<table border=\"1\" class=\"dataframe\">\n",
       "  <thead>\n",
       "    <tr style=\"text-align: right;\">\n",
       "      <th></th>\n",
       "      <th>FID</th>\n",
       "      <th>fips</th>\n",
       "      <th>occeduc_cy</th>\n",
       "      <th>pif60_cy</th>\n",
       "      <th>occfood_cy</th>\n",
       "      <th>SHAPE</th>\n",
       "    </tr>\n",
       "  </thead>\n",
       "  <tbody>\n",
       "    <tr>\n",
       "      <th>0</th>\n",
       "      <td>508</td>\n",
       "      <td>060730170181</td>\n",
       "      <td>41.0</td>\n",
       "      <td>2.0</td>\n",
       "      <td>82.0</td>\n",
       "      <td>{\"rings\": [[[-13035625.351, 3890389.58830002],...</td>\n",
       "    </tr>\n",
       "    <tr>\n",
       "      <th>1</th>\n",
       "      <td>509</td>\n",
       "      <td>060730170182</td>\n",
       "      <td>28.0</td>\n",
       "      <td>0.0</td>\n",
       "      <td>77.0</td>\n",
       "      <td>{\"rings\": [[[-13035887.7309999, 3888939.776800...</td>\n",
       "    </tr>\n",
       "  </tbody>\n",
       "</table>\n",
       "</div>"
      ],
      "text/plain": [
       "   FID          fips  occeduc_cy  pif60_cy  occfood_cy  \\\n",
       "0  508  060730170181        41.0       2.0        82.0   \n",
       "1  509  060730170182        28.0       0.0        77.0   \n",
       "\n",
       "                                               SHAPE  \n",
       "0  {\"rings\": [[[-13035625.351, 3890389.58830002],...  \n",
       "1  {\"rings\": [[[-13035887.7309999, 3888939.776800...  "
      ]
     },
     "execution_count": 145,
     "metadata": {},
     "output_type": "execute_result"
    }
   ],
   "source": [
    "where = \"fips IN (\" + \",\".join(block_groups_in_region_list) + \")\"\n",
    "#print(where)\n",
    "result_rows = ft_lyr.query(\n",
    "    where=where,\n",
    "    out_fields=out_fields,\n",
    "    return_geometry=True,\n",
    "    as_df=True,\n",
    ")\n",
    "result_rows.head(2)"
   ]
  },
  {
   "cell_type": "code",
   "execution_count": 155,
   "id": "4552976e",
   "metadata": {},
   "outputs": [
    {
     "name": "stdout",
     "output_type": "stream",
     "text": [
      "Map Centre: rancho penasquitos, San Diego County\n"
     ]
    },
    {
     "data": {
      "application/vnd.jupyter.widget-view+json": {
       "model_id": "1235bfd94c7c45bfa1c64c63453c7913",
       "version_major": 2,
       "version_minor": 0
      },
      "text/plain": [
       "MapView(layout=Layout(height='400px', width='100%'))"
      ]
     },
     "metadata": {},
     "output_type": "display_data"
    },
    {
     "data": {
      "text/html": [
       "<div class=\"map-static-img-preview-67a11c7f-61e3-4b32-a543-bbf7a1e4ed0e\"><img src=\"\"></img></div>"
      ],
      "text/plain": [
       "<IPython.core.display.HTML object>"
      ]
     },
     "metadata": {},
     "output_type": "display_data"
    },
    {
     "data": {
      "text/html": [
       "<div class=\"map-html-embed-preview-67a11c7f-61e3-4b32-a543-bbf7a1e4ed0e\"></div>"
      ],
      "text/plain": [
       "<IPython.core.display.HTML object>"
      ]
     },
     "metadata": {},
     "output_type": "display_data"
    }
   ],
   "source": [
    "map_centre = region_of_interest+\", San Diego County\"\n",
    "print(f\"Map Centre: {map_centre}\")\n",
    "m1 = gis.map(map_centre, zoomlevel=12)\n",
    "result_rows.spatial.plot(renderer_type='c',\n",
    "#                          method='esriClassifyNaturalBreaks',\n",
    "#                          class_count=10,  # choose the number of classes\n",
    "#                          col='occeduc_cy',\n",
    "#                          cmap='hot',  # color map to pick colors from for each class\n",
    "#                          alpha=0.7 ,\n",
    "                          \n",
    "                         map_widget= m1,)\n",
    "m1"
   ]
  },
  {
   "cell_type": "markdown",
   "id": "db690419",
   "metadata": {},
   "source": [
    "#### Option 2"
   ]
  },
  {
   "cell_type": "code",
   "execution_count": 136,
   "id": "172a3b33",
   "metadata": {},
   "outputs": [],
   "source": [
    "registrant_address = \"11010 Caminito Alvarez, San Diego, 92126\"\n",
    "matched_registrant_address = geocode(address=registrant_address,\n",
    "                 max_locations = 1\n",
    "                )\n",
    "# matched_registrant_address"
   ]
  },
  {
   "cell_type": "code",
   "execution_count": 151,
   "id": "e0727ebc",
   "metadata": {},
   "outputs": [
    {
     "data": {
      "text/plain": [
       "[{'address': '11010 Caminito Alvarez, San Diego, California, 92126',\n",
       "  'location': {'x': -117.1675950182451, 'y': 32.90706625343636},\n",
       "  'score': 100,\n",
       "  'attributes': {'Loc_name': 'World',\n",
       "   'Status': 'M',\n",
       "   'Score': 100,\n",
       "   'Match_addr': '11010 Caminito Alvarez, San Diego, California, 92126',\n",
       "   'LongLabel': '11010 Caminito Alvarez, San Diego, CA, 92126, USA',\n",
       "   'ShortLabel': '11010 Caminito Alvarez',\n",
       "   'Addr_type': 'PointAddress',\n",
       "   'Type': '',\n",
       "   'PlaceName': '',\n",
       "   'Place_addr': '11010 Caminito Alvarez, San Diego, California, 92126',\n",
       "   'Phone': '',\n",
       "   'URL': '',\n",
       "   'Rank': 20,\n",
       "   'AddBldg': '',\n",
       "   'AddNum': '11010',\n",
       "   'AddNumFrom': '',\n",
       "   'AddNumTo': '',\n",
       "   'AddRange': '',\n",
       "   'Side': '',\n",
       "   'StPreDir': '',\n",
       "   'StPreType': 'Caminito',\n",
       "   'StName': 'Alvarez',\n",
       "   'StType': '',\n",
       "   'StDir': '',\n",
       "   'BldgType': '',\n",
       "   'BldgName': '',\n",
       "   'LevelType': '',\n",
       "   'LevelName': '',\n",
       "   'UnitType': '',\n",
       "   'UnitName': '',\n",
       "   'SubAddr': '',\n",
       "   'StAddr': '11010 Caminito Alvarez',\n",
       "   'Block': '',\n",
       "   'Sector': '',\n",
       "   'Nbrhd': '',\n",
       "   'District': '',\n",
       "   'City': 'San Diego',\n",
       "   'MetroArea': '',\n",
       "   'Subregion': 'San Diego County',\n",
       "   'Region': 'California',\n",
       "   'RegionAbbr': 'CA',\n",
       "   'Territory': '',\n",
       "   'Zone': '',\n",
       "   'Postal': '92126',\n",
       "   'PostalExt': '5742',\n",
       "   'Country': 'USA',\n",
       "   'CntryName': 'United States',\n",
       "   'LangCode': 'ENG',\n",
       "   'Distance': 0,\n",
       "   'X': -117.1675950182451,\n",
       "   'Y': 32.90706625343636,\n",
       "   'DisplayX': -117.16758596578967,\n",
       "   'DisplayY': 32.90734998085878,\n",
       "   'Xmin': -117.16858596578967,\n",
       "   'Xmax': -117.16658596578966,\n",
       "   'Ymin': 32.906349980858785,\n",
       "   'Ymax': 32.90834998085878,\n",
       "   'ExInfo': ''},\n",
       "  'extent': {'xmin': -117.16858596578967,\n",
       "   'ymin': 32.906349980858785,\n",
       "   'xmax': -117.16658596578966,\n",
       "   'ymax': 32.90834998085878}}]"
      ]
     },
     "execution_count": 151,
     "metadata": {},
     "output_type": "execute_result"
    }
   ],
   "source": [
    "matched_registrant_address"
   ]
  },
  {
   "cell_type": "code",
   "execution_count": 135,
   "id": "dc25c723",
   "metadata": {},
   "outputs": [
    {
     "name": "stdout",
     "output_type": "stream",
     "text": [
      "Important Fields: \n",
      " Address Matched: 11010 Caminito Alvarez, San Diego, California, 92126 \n",
      " Latitude,Longitude: [-117.1675950182451, 32.90706625343636]\n",
      " Match SCore: 100\n"
     ]
    }
   ],
   "source": [
    "lat_long = [matched_registrant_address[0]['location']['x'],matched_registrant_address[0]['location']['y']]\n",
    "address_score = matched_registrant_address[0]['score']\n",
    "address_identified = matched_registrant_address[0]['address']\n",
    "print(f\"Important Fields: \\n Address Matched: {address_identified} \\n Latitude,Longitude: {lat_long}\\n Match SCore: {address_score}\")"
   ]
  },
  {
   "cell_type": "code",
   "execution_count": 150,
   "id": "b7f8d8b7",
   "metadata": {},
   "outputs": [
    {
     "ename": "KeyError",
     "evalue": "'spatialReference'",
     "output_type": "error",
     "traceback": [
      "\u001b[0;31m---------------------------------------------------------------------------\u001b[0m",
      "\u001b[0;31mKeyError\u001b[0m                                  Traceback (most recent call last)",
      "Cell \u001b[0;32mIn[150], line 4\u001b[0m\n\u001b[1;32m      2\u001b[0m point_geometry\n\u001b[1;32m      3\u001b[0m \u001b[38;5;28;01mfrom\u001b[39;00m \u001b[38;5;21;01marcgis\u001b[39;00m\u001b[38;5;21;01m.\u001b[39;00m\u001b[38;5;21;01mgeometry\u001b[39;00m \u001b[38;5;28;01mimport\u001b[39;00m Point\n\u001b[0;32m----> 4\u001b[0m point \u001b[38;5;241m=\u001b[39m Point(point_geometry[\u001b[38;5;124m'\u001b[39m\u001b[38;5;124mx\u001b[39m\u001b[38;5;124m'\u001b[39m], point_geometry[\u001b[38;5;124m'\u001b[39m\u001b[38;5;124my\u001b[39m\u001b[38;5;124m'\u001b[39m], \u001b[43mpoint_geometry\u001b[49m\u001b[43m[\u001b[49m\u001b[38;5;124;43m'\u001b[39;49m\u001b[38;5;124;43mspatialReference\u001b[39;49m\u001b[38;5;124;43m'\u001b[39;49m\u001b[43m]\u001b[49m)\n\u001b[1;32m      5\u001b[0m point\n",
      "\u001b[0;31mKeyError\u001b[0m: 'spatialReference'"
     ]
    }
   ],
   "source": [
    "point_geometry = matched_registrant_address[0]['location']\n",
    "point_geometry\n",
    "from arcgis.geometry import Point\n",
    "point = Point(point_geometry['x'], point_geometry['y'], point_geometry['spatialReference'])\n",
    "point"
   ]
  },
  {
   "cell_type": "code",
   "execution_count": 149,
   "id": "eaa34568",
   "metadata": {},
   "outputs": [
    {
     "data": {
      "text/html": [
       "<div>\n",
       "<style scoped>\n",
       "    .dataframe tbody tr th:only-of-type {\n",
       "        vertical-align: middle;\n",
       "    }\n",
       "\n",
       "    .dataframe tbody tr th {\n",
       "        vertical-align: top;\n",
       "    }\n",
       "\n",
       "    .dataframe thead th {\n",
       "        text-align: right;\n",
       "    }\n",
       "</style>\n",
       "<table border=\"1\" class=\"dataframe\">\n",
       "  <thead>\n",
       "    <tr style=\"text-align: right;\">\n",
       "      <th></th>\n",
       "      <th>FID</th>\n",
       "      <th>fips</th>\n",
       "      <th>blkf20_cy</th>\n",
       "      <th>mage69_fy</th>\n",
       "      <th>whtm5_cy</th>\n",
       "      <th>pif60_cy</th>\n",
       "      <th>asn10_fy</th>\n",
       "      <th>occeduc_cy</th>\n",
       "      <th>oldrgenscy</th>\n",
       "      <th>medoage_cy</th>\n",
       "      <th>...</th>\n",
       "      <th>male55_fy</th>\n",
       "      <th>mage16_fy</th>\n",
       "      <th>age71_fy</th>\n",
       "      <th>medmmagefy</th>\n",
       "      <th>hagebasefy</th>\n",
       "      <th>othf35_fy</th>\n",
       "      <th>a65i0_cy</th>\n",
       "      <th>Shape__Area</th>\n",
       "      <th>Shape__Length</th>\n",
       "      <th>SHAPE</th>\n",
       "    </tr>\n",
       "  </thead>\n",
       "  <tbody>\n",
       "  </tbody>\n",
       "</table>\n",
       "<p>0 rows × 918 columns</p>\n",
       "</div>"
      ],
      "text/plain": [
       "Empty DataFrame\n",
       "Columns: [FID, fips, blkf20_cy, mage69_fy, whtm5_cy, pif60_cy, asn10_fy, occeduc_cy, oldrgenscy, medoage_cy, oth0_cy, blkf75_fy, fage3_fy, whtm85_cy, aim45_cy, pi0_cy, chlddep_fy, blkm85_cy, agedep_fy, mage13_fy, pim70_fy, fem65_fy, pim85_cy, a15i150_fy, asn15_cy, a75i15_fy, mltf50_cy, a75i200_fy, a65di35_cy, a65i100_fy, graddeg_cy, val300k_cy, oth45_cy, famgrwcyfy, occpers_cy, mltm40_fy, othm10_fy, a15di0_cy, senior_fy, mage41_fy, genz_cy, aggia75_fy, di50_cy, fage73_fy, asnf25_fy, male10_fy, mlt20_fy, renter_cy, whtf35_cy, fem75_cy, fage37_fy, whtm45_fy, othm70_fy, mlt35_fy, wht55_fy, aggia65_fy, asn20_fy, aim15_cy, magebasefy, mage57_fy, hsp30_fy, mltf0_fy, mltmbasefy, a35i25_fy, blk40_cy, othf30_fy, othm45_cy, media75_cy, iagebasecy, blk85_fy, a55i35_cy, ai30_cy, a35i15_fy, blkm25_cy, hspf0_cy, nonhisp_cy, mltm20_fy, pop30_fy, hspf80_fy, aif85_fy, mage2_fy, mage63_fy, wht0_fy, avgia55_fy, othf75_cy, fem21up_cy, a35i50_cy, pop75_cy, mlt40_cy, blk45_fy, avgia75_cy, male50_cy, pifbase_cy, aif10_fy, a45i25_fy, oth70_cy, aif35_fy, popdens_fy, wht60_cy, aimbase_fy, ...]\n",
       "Index: []\n",
       "\n",
       "[0 rows x 918 columns]"
      ]
     },
     "execution_count": 149,
     "metadata": {},
     "output_type": "execute_result"
    }
   ],
   "source": [
    "result_rows_2 = ft_lyr.query(\n",
    "    where=where,\n",
    "    #out_fields=out_fields,\n",
    "    return_geometry=True,\n",
    "    as_df=True,\n",
    "    geometry=-117,32,\n",
    "    geometryType='esriGeometryPoint',\n",
    "    spatialRel='esriSpatialRelTouches'\n",
    ")\n",
    "result_rows_2.head(2)"
   ]
  },
  {
   "cell_type": "code",
   "execution_count": 112,
   "id": "8fb89c4b",
   "metadata": {},
   "outputs": [
    {
     "name": "stdout",
     "output_type": "stream",
     "text": [
      "Accent              Accent_r            Blues               Blues_r             BrBG\n",
      "BrBG_r              BuGn                BuGn_r              BuPu                BuPu_r\n",
      "CMRmap              CMRmap_r            Dark2               Dark2_r             GnBu\n",
      "GnBu_r              Greens              Greens_r            Greys               Greys_r\n",
      "OrRd                OrRd_r              Oranges             Oranges_r           PRGn\n",
      "PRGn_r              Paired              Paired_r            Pastel1             Pastel1_r\n",
      "Pastel2             Pastel2_r           PiYG                PiYG_r              PuBu\n",
      "PuBuGn              PuBuGn_r            PuBu_r              PuOr                PuOr_r\n",
      "PuRd                PuRd_r              Purples             Purples_r           RdBu\n",
      "RdBu_r              RdGy                RdGy_r              RdPu                RdPu_r\n",
      "RdYlBu              RdYlBu_r            RdYlGn              RdYlGn_r            Reds\n",
      "Reds_r              Set1                Set1_r              Set2                Set2_r\n",
      "Set3                Set3_r              Spectral            Spectral_r          Wistia\n",
      "Wistia_r            YlGn                YlGnBu              YlGnBu_r            YlGn_r\n",
      "YlOrBr              YlOrBr_r            YlOrRd              YlOrRd_r            afmhot\n",
      "afmhot_r            autumn              autumn_r            binary              binary_r\n",
      "bone                bone_r              brg                 brg_r               bwr\n",
      "bwr_r               cool                cool_r              coolwarm            coolwarm_r\n",
      "copper              copper_r            cubehelix           cubehelix_r         flag\n",
      "flag_r              gist_earth          gist_earth_r        gist_gray           gist_gray_r\n",
      "gist_heat           gist_heat_r         gist_ncar           gist_ncar_r         gist_rainbow\n",
      "gist_rainbow_r      gist_stern          gist_stern_r        gist_yarg           gist_yarg_r\n",
      "gnuplot             gnuplot2            gnuplot2_r          gnuplot_r           gray\n",
      "gray_r              hot                 hot_r               hsv                 hsv_r\n",
      "inferno             inferno_r           jet                 jet_r               magma\n",
      "magma_r             nipy_spectral       nipy_spectral_r     ocean               ocean_r\n",
      "pink                pink_r              plasma              plasma_r            prism\n",
      "prism_r             rainbow             rainbow_r           seismic             seismic_r\n",
      "spring              spring_r            summer              summer_r            terrain\n",
      "terrain_r           viridis             viridis_r           winter              winter_r\n"
     ]
    }
   ],
   "source": [
    "from arcgis.mapping import symbol\n",
    "\n",
    "colormaps = symbol.ALLOWED_CMAPS\n",
    "for a,b,c,d,e in zip(colormaps[::5], colormaps[1::5], colormaps[2::5], colormaps[3::5], colormaps[4::5]):\n",
    "    print(\"{:<20}{:<20}{:<20}{:<20}{:<}\".format(a,b,c,d,e))"
   ]
  },
  {
   "cell_type": "code",
   "execution_count": 116,
   "id": "1f8d5977",
   "metadata": {},
   "outputs": [
    {
     "data": {
      "image/png": "[encoded data removed]",
      "text/plain": [
       "<Figure size 600x80 with 4 Axes>"
      ]
     },
     "metadata": {},
     "output_type": "display_data"
    },
    {
     "data": {
      "image/png": "[encoded data removed]",
      "text/plain": [
       "<Figure size 600x600 with 30 Axes>"
      ]
     },
     "metadata": {},
     "output_type": "display_data"
    }
   ],
   "source": [
    "from arcgis.mapping import display_colormaps\n",
    "display_colormaps(['Greens_r', 'PRGn', 'Dark2', 'Set1'])\n",
    "display_colormaps(colormaps[1::5])"
   ]
  },
  {
   "cell_type": "markdown",
   "id": "0ec63344",
   "metadata": {},
   "source": [
    "#### Check Food Swamp: Desnsity of fast food and Convenience Store"
   ]
  },
  {
   "cell_type": "code",
   "execution_count": null,
   "id": "5a4d5288",
   "metadata": {},
   "outputs": [],
   "source": []
  },
  {
   "cell_type": "markdown",
   "id": "2e000b4d",
   "metadata": {},
   "source": [
    "#### Does this have Highly Palatable Food."
   ]
  },
  {
   "cell_type": "code",
   "execution_count": null,
   "id": "4a38ae49",
   "metadata": {},
   "outputs": [],
   "source": []
  },
  {
   "cell_type": "markdown",
   "id": "264431c0",
   "metadata": {},
   "source": [
    "#### e.g. Mexican Food business in Chula Vista and business type as Food Truck. (Business type data to be picked up from where? )"
   ]
  },
  {
   "cell_type": "code",
   "execution_count": null,
   "id": "38531113",
   "metadata": {},
   "outputs": [],
   "source": []
  },
  {
   "cell_type": "code",
   "execution_count": null,
   "id": "a7e52af2",
   "metadata": {},
   "outputs": [],
   "source": []
  },
  {
   "cell_type": "code",
   "execution_count": 3,
   "id": "d1e34c5f",
   "metadata": {},
   "outputs": [
    {
     "name": "stdout",
     "output_type": "stream",
     "text": [
      "<configparser.ConfigParser object at 0x104ccb880>\n",
      "<configparser.ConfigParser object at 0x12ac48be0>\n"
     ]
    }
   ],
   "source": [
    "username = get_config(\"arcgis\",\"username\")\n",
    "password = get_config(\"arcgis\",\"passkey\")"
   ]
  },
  {
   "cell_type": "code",
   "execution_count": null,
   "id": "3e6c1f6a",
   "metadata": {},
   "outputs": [],
   "source": []
  },
  {
   "cell_type": "code",
   "execution_count": 2,
   "id": "a351d3c4",
   "metadata": {},
   "outputs": [],
   "source": [
    "gis = GIS(\"https://ucsdonline.maps.arcgis.com/home\", username=username, password=password)"
   ]
  },
  {
   "cell_type": "markdown",
   "id": "42dd5aff",
   "metadata": {},
   "source": [
    "#### Render a map"
   ]
  },
  {
   "cell_type": "code",
   "execution_count": 6,
   "id": "b6fd54c4",
   "metadata": {},
   "outputs": [
    {
     "data": {
      "application/vnd.jupyter.widget-view+json": {
       "model_id": "18654f930cef4d0a847c444d98b7c193",
       "version_major": 2,
       "version_minor": 0
      },
      "text/plain": [
       "MapView(layout=Layout(height='400px', width='100%'))"
      ]
     },
     "metadata": {},
     "output_type": "display_data"
    },
    {
     "data": {
      "text/html": [
       "<div class=\"map-static-img-preview-88c7fc50-4b0c-470d-adf9-b6095cf8b674\"><img src=\"\"></img></div>"
      ],
      "text/plain": [
       "<IPython.core.display.HTML object>"
      ]
     },
     "metadata": {},
     "output_type": "display_data"
    },
    {
     "data": {
      "text/html": [
       "<div class=\"map-html-embed-preview-88c7fc50-4b0c-470d-adf9-b6095cf8b674\"></div>"
      ],
      "text/plain": [
       "<IPython.core.display.HTML object>"
      ]
     },
     "metadata": {},
     "output_type": "display_data"
    }
   ],
   "source": [
    "m1 = gis.map(\"United States\", zoomlevel=4)\n",
    "m1"
   ]
  },
  {
   "cell_type": "code",
   "execution_count": 10,
   "id": "84c1c021",
   "metadata": {},
   "outputs": [
    {
     "data": {
      "text/html": [
       "<div>\n",
       "<style scoped>\n",
       "    .dataframe tbody tr th:only-of-type {\n",
       "        vertical-align: middle;\n",
       "    }\n",
       "\n",
       "    .dataframe tbody tr th {\n",
       "        vertical-align: top;\n",
       "    }\n",
       "\n",
       "    .dataframe thead th {\n",
       "        text-align: right;\n",
       "    }\n",
       "</style>\n",
       "<table border=\"1\" class=\"dataframe\">\n",
       "  <thead>\n",
       "    <tr style=\"text-align: right;\">\n",
       "      <th></th>\n",
       "      <th>FID</th>\n",
       "      <th>name</th>\n",
       "      <th>address</th>\n",
       "      <th>longitude</th>\n",
       "      <th>latitude</th>\n",
       "      <th>SHAPE</th>\n",
       "    </tr>\n",
       "  </thead>\n",
       "  <tbody>\n",
       "    <tr>\n",
       "      <th>0</th>\n",
       "      <td>1</td>\n",
       "      <td>Colorado Farm and Art Market</td>\n",
       "      <td>7350 Pine Creek Road, Colorado Springs, Colora...</td>\n",
       "      <td>-104.813284</td>\n",
       "      <td>38.937974</td>\n",
       "      <td>{\"x\": -11667761.399188498, \"y\": 4712790.752459...</td>\n",
       "    </tr>\n",
       "    <tr>\n",
       "      <th>1</th>\n",
       "      <td>2</td>\n",
       "      <td>Market in The Park</td>\n",
       "      <td>300 Conti, Mobile, Alabama 36602</td>\n",
       "      <td>-88.044585</td>\n",
       "      <td>30.690215</td>\n",
       "      <td>{\"x\": -9801078.355560867, \"y\": 3592582.7091098...</td>\n",
       "    </tr>\n",
       "    <tr>\n",
       "      <th>2</th>\n",
       "      <td>3</td>\n",
       "      <td>The Territory Farmers' Market</td>\n",
       "      <td>2000 Territory Drive, Galena, Illinois 61036</td>\n",
       "      <td>-90.317574</td>\n",
       "      <td>42.399287</td>\n",
       "      <td>{\"x\": -10054106.340682408, \"y\": 5220979.678882...</td>\n",
       "    </tr>\n",
       "    <tr>\n",
       "      <th>3</th>\n",
       "      <td>4</td>\n",
       "      <td>City of Plymouth Farmers Market</td>\n",
       "      <td>15500 County Road 6, Plymouth, Minnesota 55447</td>\n",
       "      <td>-93.47626</td>\n",
       "      <td>44.99638</td>\n",
       "      <td>{\"x\": -10405729.674340973, \"y\": 5620951.682596...</td>\n",
       "    </tr>\n",
       "    <tr>\n",
       "      <th>4</th>\n",
       "      <td>5</td>\n",
       "      <td>Durham Farmers' Market</td>\n",
       "      <td>501 Foster Street, Durham, North Carolina 27701</td>\n",
       "      <td>-78.901498</td>\n",
       "      <td>36.000645</td>\n",
       "      <td>{\"x\": -8783274.560550418, \"y\": 4300710.0709383...</td>\n",
       "    </tr>\n",
       "    <tr>\n",
       "      <th>...</th>\n",
       "      <td>...</td>\n",
       "      <td>...</td>\n",
       "      <td>...</td>\n",
       "      <td>...</td>\n",
       "      <td>...</td>\n",
       "      <td>...</td>\n",
       "    </tr>\n",
       "    <tr>\n",
       "      <th>1051</th>\n",
       "      <td>1052</td>\n",
       "      <td>Bexley Farmers Market</td>\n",
       "      <td>South Dawson Avenue &amp; East Main Street, Bexley...</td>\n",
       "      <td>-82.93572</td>\n",
       "      <td>39.95714</td>\n",
       "      <td>{\"x\": -9232362.116269127, \"y\": 4859715.9343609...</td>\n",
       "    </tr>\n",
       "    <tr>\n",
       "      <th>1052</th>\n",
       "      <td>1053</td>\n",
       "      <td>2nd Street Market</td>\n",
       "      <td>600 East 2nd Street, Dayton, OH, USA</td>\n",
       "      <td>-84.180817</td>\n",
       "      <td>39.762778</td>\n",
       "      <td>{\"x\": -9370965.65404552, \"y\": 4831529.48735039...</td>\n",
       "    </tr>\n",
       "    <tr>\n",
       "      <th>1053</th>\n",
       "      <td>1054</td>\n",
       "      <td>Farmers Market Centerville Texas</td>\n",
       "      <td>114 E St Marys St, Centerville, TX, USA</td>\n",
       "      <td>-95.978552</td>\n",
       "      <td>31.258045</td>\n",
       "      <td>{\"x\": -10684283.583522432, \"y\": 3666306.799085...</td>\n",
       "    </tr>\n",
       "    <tr>\n",
       "      <th>1054</th>\n",
       "      <td>1055</td>\n",
       "      <td>Downtown Beloit Farmers' Market - Winter</td>\n",
       "      <td>557 E Grand Ave, Beloit, WI, USA</td>\n",
       "      <td>-89.031517</td>\n",
       "      <td>42.499645</td>\n",
       "      <td>{\"x\": -9910943.143985387, \"y\": 5236120.2130659...</td>\n",
       "    </tr>\n",
       "    <tr>\n",
       "      <th>1055</th>\n",
       "      <td>1056</td>\n",
       "      <td>Galax Farmers Market</td>\n",
       "      <td>206 North Main Street, Galax, VA, USA</td>\n",
       "      <td>-80.925411</td>\n",
       "      <td>36.663288</td>\n",
       "      <td>{\"x\": -9008575.500733461, \"y\": 4392276.8173528...</td>\n",
       "    </tr>\n",
       "  </tbody>\n",
       "</table>\n",
       "<p>1056 rows × 6 columns</p>\n",
       "</div>"
      ],
      "text/plain": [
       "       FID                                      name  \\\n",
       "0        1              Colorado Farm and Art Market   \n",
       "1        2                        Market in The Park   \n",
       "2        3             The Territory Farmers' Market   \n",
       "3        4           City of Plymouth Farmers Market   \n",
       "4        5                    Durham Farmers' Market   \n",
       "...    ...                                       ...   \n",
       "1051  1052                     Bexley Farmers Market   \n",
       "1052  1053                         2nd Street Market   \n",
       "1053  1054          Farmers Market Centerville Texas   \n",
       "1054  1055  Downtown Beloit Farmers' Market - Winter   \n",
       "1055  1056                      Galax Farmers Market   \n",
       "\n",
       "                                                address   longitude  \\\n",
       "0     7350 Pine Creek Road, Colorado Springs, Colora... -104.813284   \n",
       "1                      300 Conti, Mobile, Alabama 36602  -88.044585   \n",
       "2          2000 Territory Drive, Galena, Illinois 61036  -90.317574   \n",
       "3        15500 County Road 6, Plymouth, Minnesota 55447   -93.47626   \n",
       "4       501 Foster Street, Durham, North Carolina 27701  -78.901498   \n",
       "...                                                 ...         ...   \n",
       "1051  South Dawson Avenue & East Main Street, Bexley...   -82.93572   \n",
       "1052               600 East 2nd Street, Dayton, OH, USA  -84.180817   \n",
       "1053            114 E St Marys St, Centerville, TX, USA  -95.978552   \n",
       "1054                   557 E Grand Ave, Beloit, WI, USA  -89.031517   \n",
       "1055              206 North Main Street, Galax, VA, USA  -80.925411   \n",
       "\n",
       "       latitude                                              SHAPE  \n",
       "0     38.937974  {\"x\": -11667761.399188498, \"y\": 4712790.752459...  \n",
       "1     30.690215  {\"x\": -9801078.355560867, \"y\": 3592582.7091098...  \n",
       "2     42.399287  {\"x\": -10054106.340682408, \"y\": 5220979.678882...  \n",
       "3      44.99638  {\"x\": -10405729.674340973, \"y\": 5620951.682596...  \n",
       "4     36.000645  {\"x\": -8783274.560550418, \"y\": 4300710.0709383...  \n",
       "...         ...                                                ...  \n",
       "1051   39.95714  {\"x\": -9232362.116269127, \"y\": 4859715.9343609...  \n",
       "1052  39.762778  {\"x\": -9370965.65404552, \"y\": 4831529.48735039...  \n",
       "1053  31.258045  {\"x\": -10684283.583522432, \"y\": 3666306.799085...  \n",
       "1054  42.499645  {\"x\": -9910943.143985387, \"y\": 5236120.2130659...  \n",
       "1055  36.663288  {\"x\": -9008575.500733461, \"y\": 4392276.8173528...  \n",
       "\n",
       "[1056 rows x 6 columns]"
      ]
     },
     "execution_count": 10,
     "metadata": {},
     "output_type": "execute_result"
    }
   ],
   "source": [
    "# Let's use a sample feature layer available with us on US map. \n",
    "# Lets take farmers market which we can plot using symbol on basis of zip \n",
    "fl = FeatureLayer(gis=gis,\n",
    "            url=\"https://services1.arcgis.com/eGSDp8lpKe5izqVc/arcgis/rest/services/a09656/FeatureServer/0\")\n",
    "\n",
    "df = GeoAccessor.from_layer(fl)\n",
    "df"
   ]
  },
  {
   "cell_type": "code",
   "execution_count": 11,
   "id": "e525eda2",
   "metadata": {},
   "outputs": [
    {
     "data": {
      "text/plain": [
       "True"
      ]
     },
     "execution_count": 11,
     "metadata": {},
     "output_type": "execute_result"
    }
   ],
   "source": [
    "df.spatial.plot(map_widget= m1)"
   ]
  },
  {
   "cell_type": "code",
   "execution_count": null,
   "id": "679e907a",
   "metadata": {},
   "outputs": [],
   "source": []
  }
 ],
 "metadata": {
  "kernelspec": {
   "display_name": "Python 3 (ipykernel)",
   "language": "python",
   "name": "python3"
  },
  "language_info": {
   "codemirror_mode": {
    "name": "ipython",
    "version": 3
   },
   "file_extension": ".py",
   "mimetype": "text/x-python",
   "name": "python",
   "nbconvert_exporter": "python",
   "pygments_lexer": "ipython3",
   "version": "3.9.16"
  }
 },
 "nbformat": 4,
 "nbformat_minor": 5
}
