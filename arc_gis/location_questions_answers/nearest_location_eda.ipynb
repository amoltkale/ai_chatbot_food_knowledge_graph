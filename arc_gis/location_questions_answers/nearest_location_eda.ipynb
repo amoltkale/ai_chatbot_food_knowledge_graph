{
 "cells": [
  {
   "cell_type": "code",
   "execution_count": 27,
   "id": "18291bfe",
   "metadata": {},
   "outputs": [],
   "source": [
    "from arcgis.gis import GIS\n",
    "import arcgis.network as network\n",
    "from arcgis.geocoding import geocode, reverse_geocode\n",
    "from arcgis.features import Feature, FeatureSet\n",
    "\n",
    "import sys\n",
    "sys.path.append('../../')\n",
    "from utils import get_config\n",
    "\n",
    "from IPython.display import HTML\n"
   ]
  },
  {
   "cell_type": "code",
   "execution_count": 2,
   "id": "249298f1",
   "metadata": {},
   "outputs": [],
   "source": [
    "username = get_config(\"arcgis\",\"username\")\n",
    "password = get_config(\"arcgis\",\"passkey\")\n",
    "gis = GIS(\"https://ucsdonline.maps.arcgis.com/home\", username=username, password=password)"
   ]
  },
  {
   "cell_type": "code",
   "execution_count": 3,
   "id": "2a637f89",
   "metadata": {},
   "outputs": [
    {
     "data": {
      "text/plain": [
       "'https://route.arcgis.com/arcgis/rest/services/World/ClosestFacility/NAServer/ClosestFacility_World'"
      ]
     },
     "execution_count": 3,
     "metadata": {},
     "output_type": "execute_result"
    }
   ],
   "source": [
    "analysis_url = gis.properties.helperServices.closestFacility.url\n",
    "analysis_url"
   ]
  },
  {
   "cell_type": "code",
   "execution_count": 4,
   "id": "b735e916",
   "metadata": {},
   "outputs": [
    {
     "data": {
      "text/plain": [
       "<ClosestFacilityLayer url:\"https://route.arcgis.com/arcgis/rest/services/World/ClosestFacility/NAServer/ClosestFacility_World\">"
      ]
     },
     "execution_count": 4,
     "metadata": {},
     "output_type": "execute_result"
    }
   ],
   "source": [
    "cf_layer = network.ClosestFacilityLayer(analysis_url, gis=gis)\n",
    "cf_layer"
   ]
  },
  {
   "cell_type": "code",
   "execution_count": 5,
   "id": "bffe29c0",
   "metadata": {},
   "outputs": [],
   "source": [
    "sba_addresses = ['550 West C St. suite 550, San Diego',\n",
    "                 '880 National City Blvd, San Diego',\n",
    "                 '530 B St. Suite 700, San Diego',\n",
    "                 '7675 Dagget St. Suite 340, San Diego']"
   ]
  },
  {
   "cell_type": "code",
   "execution_count": 6,
   "id": "7f502581",
   "metadata": {},
   "outputs": [],
   "source": [
    "sba_feat_list = []\n",
    "\n",
    "for address in sba_addresses:\n",
    "    hit = geocoding.geocode(address, max_locations=1)[0]\n",
    "    sba_feat = Feature(geometry=hit['location'], attributes=hit['attributes'])\n",
    "\n",
    "    sba_feat_list.append(sba_feat)"
   ]
  },
  {
   "cell_type": "code",
   "execution_count": 7,
   "id": "ef6f4441",
   "metadata": {},
   "outputs": [],
   "source": [
    "sba_fset = FeatureSet(features=sba_feat_list, \n",
    "                            geometry_type='esriGeometryPoint', \n",
    "                            spatial_reference={'latestWkid': 4326})"
   ]
  },
  {
   "cell_type": "code",
   "execution_count": 8,
   "id": "f9200925",
   "metadata": {},
   "outputs": [
    {
     "data": {
      "text/html": [
       "<div>\n",
       "<style scoped>\n",
       "    .dataframe tbody tr th:only-of-type {\n",
       "        vertical-align: middle;\n",
       "    }\n",
       "\n",
       "    .dataframe tbody tr th {\n",
       "        vertical-align: top;\n",
       "    }\n",
       "\n",
       "    .dataframe thead th {\n",
       "        text-align: right;\n",
       "    }\n",
       "</style>\n",
       "<table border=\"1\" class=\"dataframe\">\n",
       "  <thead>\n",
       "    <tr style=\"text-align: right;\">\n",
       "      <th></th>\n",
       "      <th>Loc_name</th>\n",
       "      <th>Status</th>\n",
       "      <th>Score</th>\n",
       "      <th>Match_addr</th>\n",
       "      <th>LongLabel</th>\n",
       "      <th>ShortLabel</th>\n",
       "      <th>Addr_type</th>\n",
       "      <th>Type</th>\n",
       "      <th>PlaceName</th>\n",
       "      <th>Place_addr</th>\n",
       "      <th>...</th>\n",
       "      <th>Y</th>\n",
       "      <th>DisplayX</th>\n",
       "      <th>DisplayY</th>\n",
       "      <th>Xmin</th>\n",
       "      <th>Xmax</th>\n",
       "      <th>Ymin</th>\n",
       "      <th>Ymax</th>\n",
       "      <th>ExInfo</th>\n",
       "      <th>OBJECTID</th>\n",
       "      <th>SHAPE</th>\n",
       "    </tr>\n",
       "  </thead>\n",
       "  <tbody>\n",
       "    <tr>\n",
       "      <th>0</th>\n",
       "      <td>World</td>\n",
       "      <td>M</td>\n",
       "      <td>100</td>\n",
       "      <td>550 W C St, Ste 550, San Diego, California, 92101</td>\n",
       "      <td>550 W C St, Ste 550, San Diego, CA, 92101, USA</td>\n",
       "      <td>550 W C St, Ste 550</td>\n",
       "      <td>Subaddress</td>\n",
       "      <td></td>\n",
       "      <td></td>\n",
       "      <td>550 W C St, Ste 550, San Diego, California, 92101</td>\n",
       "      <td>...</td>\n",
       "      <td>32.716748</td>\n",
       "      <td>-117.167841</td>\n",
       "      <td>32.717346</td>\n",
       "      <td>-117.168841</td>\n",
       "      <td>-117.166841</td>\n",
       "      <td>32.716346</td>\n",
       "      <td>32.718346</td>\n",
       "      <td></td>\n",
       "      <td>1</td>\n",
       "      <td>{\"x\": -117.1678410271033, \"y\": 32.716747514306...</td>\n",
       "    </tr>\n",
       "    <tr>\n",
       "      <th>1</th>\n",
       "      <td>World</td>\n",
       "      <td>M</td>\n",
       "      <td>100</td>\n",
       "      <td>880 National City Blvd, National City, Califor...</td>\n",
       "      <td>880 National City Blvd, National City, CA, 919...</td>\n",
       "      <td>880 National City Blvd</td>\n",
       "      <td>StreetAddress</td>\n",
       "      <td></td>\n",
       "      <td></td>\n",
       "      <td>880 National City Blvd, National City, Califor...</td>\n",
       "      <td>...</td>\n",
       "      <td>32.675143</td>\n",
       "      <td>-117.106795</td>\n",
       "      <td>32.675143</td>\n",
       "      <td>-117.107795</td>\n",
       "      <td>-117.105795</td>\n",
       "      <td>32.674143</td>\n",
       "      <td>32.676143</td>\n",
       "      <td></td>\n",
       "      <td>2</td>\n",
       "      <td>{\"x\": -117.10679481570502, \"y\": 32.67514250187...</td>\n",
       "    </tr>\n",
       "    <tr>\n",
       "      <th>2</th>\n",
       "      <td>World</td>\n",
       "      <td>M</td>\n",
       "      <td>100</td>\n",
       "      <td>530 B St, Ste 700, San Diego, California, 92101</td>\n",
       "      <td>530 B St, Ste 700, San Diego, CA, 92101, USA</td>\n",
       "      <td>530 B St, Ste 700</td>\n",
       "      <td>Subaddress</td>\n",
       "      <td></td>\n",
       "      <td></td>\n",
       "      <td>530 B St, Ste 700, San Diego, California, 92101</td>\n",
       "      <td>...</td>\n",
       "      <td>32.717828</td>\n",
       "      <td>-117.15973</td>\n",
       "      <td>32.718124</td>\n",
       "      <td>-117.16073</td>\n",
       "      <td>-117.15873</td>\n",
       "      <td>32.717124</td>\n",
       "      <td>32.719124</td>\n",
       "      <td></td>\n",
       "      <td>3</td>\n",
       "      <td>{\"x\": -117.15973002703848, \"y\": 32.71782752253...</td>\n",
       "    </tr>\n",
       "    <tr>\n",
       "      <th>3</th>\n",
       "      <td>World</td>\n",
       "      <td>M</td>\n",
       "      <td>100</td>\n",
       "      <td>7675 Dagget St, Ste 340, San Diego, California...</td>\n",
       "      <td>7675 Dagget St, Ste 340, San Diego, CA, 92111,...</td>\n",
       "      <td>7675 Dagget St, Ste 340</td>\n",
       "      <td>Subaddress</td>\n",
       "      <td></td>\n",
       "      <td></td>\n",
       "      <td>7675 Dagget St, Ste 340, San Diego, California...</td>\n",
       "      <td>...</td>\n",
       "      <td>32.823538</td>\n",
       "      <td>-117.158369</td>\n",
       "      <td>32.823228</td>\n",
       "      <td>-117.159369</td>\n",
       "      <td>-117.157369</td>\n",
       "      <td>32.822228</td>\n",
       "      <td>32.824228</td>\n",
       "      <td></td>\n",
       "      <td>4</td>\n",
       "      <td>{\"x\": -117.15837534384727, \"y\": 32.82353845090...</td>\n",
       "    </tr>\n",
       "  </tbody>\n",
       "</table>\n",
       "<p>4 rows × 60 columns</p>\n",
       "</div>"
      ],
      "text/plain": [
       "  Loc_name Status  Score                                         Match_addr  \\\n",
       "0    World      M    100  550 W C St, Ste 550, San Diego, California, 92101   \n",
       "1    World      M    100  880 National City Blvd, National City, Califor...   \n",
       "2    World      M    100    530 B St, Ste 700, San Diego, California, 92101   \n",
       "3    World      M    100  7675 Dagget St, Ste 340, San Diego, California...   \n",
       "\n",
       "                                           LongLabel               ShortLabel  \\\n",
       "0     550 W C St, Ste 550, San Diego, CA, 92101, USA      550 W C St, Ste 550   \n",
       "1  880 National City Blvd, National City, CA, 919...   880 National City Blvd   \n",
       "2       530 B St, Ste 700, San Diego, CA, 92101, USA        530 B St, Ste 700   \n",
       "3  7675 Dagget St, Ste 340, San Diego, CA, 92111,...  7675 Dagget St, Ste 340   \n",
       "\n",
       "       Addr_type Type PlaceName  \\\n",
       "0     Subaddress                  \n",
       "1  StreetAddress                  \n",
       "2     Subaddress                  \n",
       "3     Subaddress                  \n",
       "\n",
       "                                          Place_addr  ...          Y  \\\n",
       "0  550 W C St, Ste 550, San Diego, California, 92101  ...  32.716748   \n",
       "1  880 National City Blvd, National City, Califor...  ...  32.675143   \n",
       "2    530 B St, Ste 700, San Diego, California, 92101  ...  32.717828   \n",
       "3  7675 Dagget St, Ste 340, San Diego, California...  ...  32.823538   \n",
       "\n",
       "     DisplayX   DisplayY        Xmin        Xmax       Ymin       Ymax ExInfo  \\\n",
       "0 -117.167841  32.717346 -117.168841 -117.166841  32.716346  32.718346          \n",
       "1 -117.106795  32.675143 -117.107795 -117.105795  32.674143  32.676143          \n",
       "2  -117.15973  32.718124  -117.16073  -117.15873  32.717124  32.719124          \n",
       "3 -117.158369  32.823228 -117.159369 -117.157369  32.822228  32.824228          \n",
       "\n",
       "  OBJECTID                                              SHAPE  \n",
       "0        1  {\"x\": -117.1678410271033, \"y\": 32.716747514306...  \n",
       "1        2  {\"x\": -117.10679481570502, \"y\": 32.67514250187...  \n",
       "2        3  {\"x\": -117.15973002703848, \"y\": 32.71782752253...  \n",
       "3        4  {\"x\": -117.15837534384727, \"y\": 32.82353845090...  \n",
       "\n",
       "[4 rows x 60 columns]"
      ]
     },
     "execution_count": 8,
     "metadata": {},
     "output_type": "execute_result"
    }
   ],
   "source": [
    "sba_fset.sdf"
   ]
  },
  {
   "cell_type": "code",
   "execution_count": 9,
   "id": "136efc2f",
   "metadata": {},
   "outputs": [
    {
     "data": {
      "application/vnd.jupyter.widget-view+json": {
       "model_id": "6924a4a41e7f43f699fb9117a7b459c6",
       "version_major": 2,
       "version_minor": 0
      },
      "text/plain": [
       "MapView(layout=Layout(height='400px', width='100%'))"
      ]
     },
     "metadata": {},
     "output_type": "display_data"
    },
    {
     "data": {
      "text/html": [
       "<div class=\"map-static-img-preview-632a25e9-006a-4de1-b4b3-07af45853a18\"><img src=\"\"></img></div>"
      ],
      "text/plain": [
       "<IPython.core.display.HTML object>"
      ]
     },
     "metadata": {},
     "output_type": "display_data"
    },
    {
     "data": {
      "text/html": [
       "<div class=\"map-html-embed-preview-632a25e9-006a-4de1-b4b3-07af45853a18\"></div>"
      ],
      "text/plain": [
       "<IPython.core.display.HTML object>"
      ]
     },
     "metadata": {},
     "output_type": "display_data"
    }
   ],
   "source": [
    "map1 = gis.map('San Diego County',zoomlevel=8)\n",
    "map1.basemap = 'arcgis-light-gray'\n",
    "map1\n"
   ]
  },
  {
   "cell_type": "code",
   "execution_count": 10,
   "id": "54436cf6",
   "metadata": {},
   "outputs": [],
   "source": [
    "map1.draw(sba_fset, symbol={\"type\": \"esriSMS\",\"style\": \"esriSMSSquare\", \"color\": \"blue\",\"size\": 10,})"
   ]
  },
  {
   "cell_type": "code",
   "execution_count": 11,
   "id": "ec157b96",
   "metadata": {},
   "outputs": [],
   "source": [
    "user_coords = '-117.01707999999996, 32.67422000000005,'"
   ]
  },
  {
   "cell_type": "code",
   "execution_count": 12,
   "id": "b25bddf7",
   "metadata": {},
   "outputs": [],
   "source": [
    "reverse_geocode = geocoding.reverse_geocode({\"x\": user_coords.split(',')[0], \n",
    "                                              \"y\": user_coords.split(',')[1]})"
   ]
  },
  {
   "cell_type": "code",
   "execution_count": 13,
   "id": "d8243ec5",
   "metadata": {},
   "outputs": [],
   "source": [
    "user_location_feature = Feature(geometry=reverse_geocode['location'], \n",
    "                           attributes=reverse_geocode['address'])"
   ]
  },
  {
   "cell_type": "code",
   "execution_count": 14,
   "id": "31a4f513",
   "metadata": {},
   "outputs": [],
   "source": [
    "user_location_fset = FeatureSet([user_location_feature], geometry_type='esriGeometryPoint',\n",
    "                          spatial_reference={'latestWkid': 4326})"
   ]
  },
  {
   "cell_type": "code",
   "execution_count": 15,
   "id": "c5c3efb2",
   "metadata": {},
   "outputs": [],
   "source": [
    "map1.draw(user_location_fset, symbol={\"type\": \"esriSMS\",\"style\": \"esriSMSCircle\",\"color\": \"[76,115,0,255]\",\"size\": 10})\n"
   ]
  },
  {
   "cell_type": "code",
   "execution_count": 16,
   "id": "5fb1d5b8",
   "metadata": {},
   "outputs": [
    {
     "data": {
      "text/html": [
       "<div>\n",
       "<style scoped>\n",
       "    .dataframe tbody tr th:only-of-type {\n",
       "        vertical-align: middle;\n",
       "    }\n",
       "\n",
       "    .dataframe tbody tr th {\n",
       "        vertical-align: top;\n",
       "    }\n",
       "\n",
       "    .dataframe thead th {\n",
       "        text-align: right;\n",
       "    }\n",
       "</style>\n",
       "<table border=\"1\" class=\"dataframe\">\n",
       "  <thead>\n",
       "    <tr style=\"text-align: right;\">\n",
       "      <th></th>\n",
       "      <th>Match_addr</th>\n",
       "      <th>LongLabel</th>\n",
       "      <th>ShortLabel</th>\n",
       "      <th>Addr_type</th>\n",
       "      <th>Type</th>\n",
       "      <th>PlaceName</th>\n",
       "      <th>AddNum</th>\n",
       "      <th>Address</th>\n",
       "      <th>Block</th>\n",
       "      <th>Sector</th>\n",
       "      <th>...</th>\n",
       "      <th>Subregion</th>\n",
       "      <th>Region</th>\n",
       "      <th>RegionAbbr</th>\n",
       "      <th>Territory</th>\n",
       "      <th>Postal</th>\n",
       "      <th>PostalExt</th>\n",
       "      <th>CntryName</th>\n",
       "      <th>CountryCode</th>\n",
       "      <th>OBJECTID</th>\n",
       "      <th>SHAPE</th>\n",
       "    </tr>\n",
       "  </thead>\n",
       "  <tbody>\n",
       "    <tr>\n",
       "      <th>0</th>\n",
       "      <td>5338-5338 Bonita Rd, Bonita, California, 91902</td>\n",
       "      <td>5338-5338 Bonita Rd, Bonita, CA, 91902, USA</td>\n",
       "      <td>5338-5338 Bonita Rd</td>\n",
       "      <td>StreetAddress</td>\n",
       "      <td></td>\n",
       "      <td></td>\n",
       "      <td>5338</td>\n",
       "      <td>5338 Bonita Rd</td>\n",
       "      <td></td>\n",
       "      <td></td>\n",
       "      <td>...</td>\n",
       "      <td>San Diego County</td>\n",
       "      <td>California</td>\n",
       "      <td>CA</td>\n",
       "      <td></td>\n",
       "      <td>91902</td>\n",
       "      <td></td>\n",
       "      <td>United States</td>\n",
       "      <td>USA</td>\n",
       "      <td>1</td>\n",
       "      <td>{\"x\": -117.01706142557242, \"y\": 32.67416657418...</td>\n",
       "    </tr>\n",
       "  </tbody>\n",
       "</table>\n",
       "<p>1 rows × 24 columns</p>\n",
       "</div>"
      ],
      "text/plain": [
       "                                       Match_addr  \\\n",
       "0  5338-5338 Bonita Rd, Bonita, California, 91902   \n",
       "\n",
       "                                     LongLabel           ShortLabel  \\\n",
       "0  5338-5338 Bonita Rd, Bonita, CA, 91902, USA  5338-5338 Bonita Rd   \n",
       "\n",
       "       Addr_type Type PlaceName AddNum         Address Block Sector  ...  \\\n",
       "0  StreetAddress                  5338  5338 Bonita Rd               ...   \n",
       "\n",
       "          Subregion      Region RegionAbbr Territory Postal PostalExt  \\\n",
       "0  San Diego County  California         CA            91902             \n",
       "\n",
       "       CntryName CountryCode OBJECTID  \\\n",
       "0  United States         USA        1   \n",
       "\n",
       "                                               SHAPE  \n",
       "0  {\"x\": -117.01706142557242, \"y\": 32.67416657418...  \n",
       "\n",
       "[1 rows x 24 columns]"
      ]
     },
     "execution_count": 16,
     "metadata": {},
     "output_type": "execute_result"
    }
   ],
   "source": [
    "user_location_fset.sdf"
   ]
  },
  {
   "cell_type": "code",
   "execution_count": 17,
   "id": "3f8625e8",
   "metadata": {},
   "outputs": [
    {
     "data": {
      "text/plain": [
       "{'address': {'Match_addr': '5338-5338 Bonita Rd, Bonita, California, 91902',\n",
       "  'LongLabel': '5338-5338 Bonita Rd, Bonita, CA, 91902, USA',\n",
       "  'ShortLabel': '5338-5338 Bonita Rd',\n",
       "  'Addr_type': 'StreetAddress',\n",
       "  'Type': '',\n",
       "  'PlaceName': '',\n",
       "  'AddNum': '5338',\n",
       "  'Address': '5338 Bonita Rd',\n",
       "  'Block': '',\n",
       "  'Sector': '',\n",
       "  'Neighborhood': 'Bonita',\n",
       "  'District': '',\n",
       "  'City': 'Bonita',\n",
       "  'MetroArea': 'San Diego Metro Area',\n",
       "  'Subregion': 'San Diego County',\n",
       "  'Region': 'California',\n",
       "  'RegionAbbr': 'CA',\n",
       "  'Territory': '',\n",
       "  'Postal': '91902',\n",
       "  'PostalExt': '',\n",
       "  'CntryName': 'United States',\n",
       "  'CountryCode': 'USA',\n",
       "  'OBJECTID': 1,\n",
       "  'SHAPE': {'x': -117.01706142557242,\n",
       "   'y': 32.674166574183324,\n",
       "   'spatialReference': {'latestWkid': 4326},\n",
       "   'type': 'point'}},\n",
       " 'location': {'x': -117.01706142557242,\n",
       "  'y': 32.674166574183324,\n",
       "  'spatialReference': {'latestWkid': 4326},\n",
       "  'type': 'point'}}"
      ]
     },
     "execution_count": 17,
     "metadata": {},
     "output_type": "execute_result"
    }
   ],
   "source": [
    "reverse_geocode"
   ]
  },
  {
   "cell_type": "code",
   "execution_count": 37,
   "id": "698d2ffb",
   "metadata": {},
   "outputs": [
    {
     "data": {
      "text/plain": [
       "dict_keys(['requestID', 'routes', 'facilities', 'messages'])"
      ]
     },
     "execution_count": 37,
     "metadata": {},
     "output_type": "execute_result"
    }
   ],
   "source": [
    "result = cf_layer.solve_closest_facility(incidents=user_location_fset,\n",
    "                                        facilities=sba_fset,\n",
    "                                        default_target_facility_count=4,\n",
    "                                        return_facilities=True,\n",
    "                                        impedance_attribute_name='TravelTime',\n",
    "                                        accumulate_attribute_names=['Miles','TravelTime'])\n",
    "result.keys()\n"
   ]
  },
  {
   "cell_type": "code",
   "execution_count": 43,
   "id": "323e1ae8",
   "metadata": {},
   "outputs": [],
   "source": [
    "# result['routes']['features']"
   ]
  },
  {
   "cell_type": "code",
   "execution_count": 19,
   "id": "79c562fa",
   "metadata": {},
   "outputs": [],
   "source": [
    "line_feat_list = []\n",
    "for line_dict in result['routes']['features']:\n",
    "    f1 = Feature(line_dict['geometry'], line_dict['attributes'])\n",
    "    line_feat_list.append(f1)"
   ]
  },
  {
   "cell_type": "code",
   "execution_count": 20,
   "id": "26aa0972",
   "metadata": {},
   "outputs": [],
   "source": [
    "routes_fset = FeatureSet(line_feat_list, \n",
    "                         geometry_type=result['routes']['geometryType'],\n",
    "                         spatial_reference= result['routes']['spatialReference'])"
   ]
  },
  {
   "cell_type": "code",
   "execution_count": 21,
   "id": "fff91427",
   "metadata": {},
   "outputs": [
    {
     "data": {
      "text/html": [
       "<div>\n",
       "<style scoped>\n",
       "    .dataframe tbody tr th:only-of-type {\n",
       "        vertical-align: middle;\n",
       "    }\n",
       "\n",
       "    .dataframe tbody tr th {\n",
       "        vertical-align: top;\n",
       "    }\n",
       "\n",
       "    .dataframe thead th {\n",
       "        text-align: right;\n",
       "    }\n",
       "</style>\n",
       "<table border=\"1\" class=\"dataframe\">\n",
       "  <thead>\n",
       "    <tr style=\"text-align: right;\">\n",
       "      <th></th>\n",
       "      <th>ObjectID</th>\n",
       "      <th>FacilityID</th>\n",
       "      <th>FacilityRank</th>\n",
       "      <th>Name</th>\n",
       "      <th>IncidentCurbApproach</th>\n",
       "      <th>FacilityCurbApproach</th>\n",
       "      <th>IncidentID</th>\n",
       "      <th>Total_TravelTime</th>\n",
       "      <th>Total_Miles</th>\n",
       "      <th>Total_Kilometers</th>\n",
       "      <th>Shape_Length</th>\n",
       "      <th>SHAPE</th>\n",
       "    </tr>\n",
       "  </thead>\n",
       "  <tbody>\n",
       "    <tr>\n",
       "      <th>0</th>\n",
       "      <td>1</td>\n",
       "      <td>2</td>\n",
       "      <td>1</td>\n",
       "      <td>5338 Bonita Rd - Location 2</td>\n",
       "      <td>1</td>\n",
       "      <td>1</td>\n",
       "      <td>1</td>\n",
       "      <td>11.793344</td>\n",
       "      <td>8.279131</td>\n",
       "      <td>13.324187</td>\n",
       "      <td>0.133011</td>\n",
       "      <td>{\"paths\": [[[-117.01708054799997, 32.674221549...</td>\n",
       "    </tr>\n",
       "    <tr>\n",
       "      <th>1</th>\n",
       "      <td>2</td>\n",
       "      <td>3</td>\n",
       "      <td>2</td>\n",
       "      <td>5338 Bonita Rd - Location 3</td>\n",
       "      <td>1</td>\n",
       "      <td>1</td>\n",
       "      <td>1</td>\n",
       "      <td>18.237284</td>\n",
       "      <td>13.635431</td>\n",
       "      <td>21.944333</td>\n",
       "      <td>0.216505</td>\n",
       "      <td>{\"paths\": [[[-117.01708054799997, 32.674221549...</td>\n",
       "    </tr>\n",
       "    <tr>\n",
       "      <th>2</th>\n",
       "      <td>3</td>\n",
       "      <td>1</td>\n",
       "      <td>3</td>\n",
       "      <td>5338 Bonita Rd - Location 1</td>\n",
       "      <td>1</td>\n",
       "      <td>1</td>\n",
       "      <td>1</td>\n",
       "      <td>21.199016</td>\n",
       "      <td>13.137797</td>\n",
       "      <td>21.143388</td>\n",
       "      <td>0.210413</td>\n",
       "      <td>{\"paths\": [[[-117.01708054799997, 32.674221549...</td>\n",
       "    </tr>\n",
       "    <tr>\n",
       "      <th>3</th>\n",
       "      <td>4</td>\n",
       "      <td>4</td>\n",
       "      <td>4</td>\n",
       "      <td>5338 Bonita Rd - Location 4</td>\n",
       "      <td>1</td>\n",
       "      <td>2</td>\n",
       "      <td>1</td>\n",
       "      <td>21.465569</td>\n",
       "      <td>17.628884</td>\n",
       "      <td>28.371332</td>\n",
       "      <td>0.271582</td>\n",
       "      <td>{\"paths\": [[[-117.01708054799997, 32.674221549...</td>\n",
       "    </tr>\n",
       "  </tbody>\n",
       "</table>\n",
       "</div>"
      ],
      "text/plain": [
       "   ObjectID  FacilityID  FacilityRank                         Name  \\\n",
       "0         1           2             1  5338 Bonita Rd - Location 2   \n",
       "1         2           3             2  5338 Bonita Rd - Location 3   \n",
       "2         3           1             3  5338 Bonita Rd - Location 1   \n",
       "3         4           4             4  5338 Bonita Rd - Location 4   \n",
       "\n",
       "   IncidentCurbApproach  FacilityCurbApproach  IncidentID  Total_TravelTime  \\\n",
       "0                     1                     1           1         11.793344   \n",
       "1                     1                     1           1         18.237284   \n",
       "2                     1                     1           1         21.199016   \n",
       "3                     1                     2           1         21.465569   \n",
       "\n",
       "   Total_Miles  Total_Kilometers  Shape_Length  \\\n",
       "0     8.279131         13.324187      0.133011   \n",
       "1    13.635431         21.944333      0.216505   \n",
       "2    13.137797         21.143388      0.210413   \n",
       "3    17.628884         28.371332      0.271582   \n",
       "\n",
       "                                               SHAPE  \n",
       "0  {\"paths\": [[[-117.01708054799997, 32.674221549...  \n",
       "1  {\"paths\": [[[-117.01708054799997, 32.674221549...  \n",
       "2  {\"paths\": [[[-117.01708054799997, 32.674221549...  \n",
       "3  {\"paths\": [[[-117.01708054799997, 32.674221549...  "
      ]
     },
     "execution_count": 21,
     "metadata": {},
     "output_type": "execute_result"
    }
   ],
   "source": [
    "df1 = routes_fset.sdf\n",
    "df1"
   ]
  },
  {
   "cell_type": "code",
   "execution_count": 22,
   "id": "87ae7c7a",
   "metadata": {},
   "outputs": [],
   "source": [
    "allocation_line_symbol_4 = {'type': 'esriSLS', 'style': 'esriSLSSolid',\n",
    "                                'color': [0,0,255,100], 'width': 6}\n",
    "map1.draw(routes_fset, symbol = allocation_line_symbol_4)"
   ]
  },
  {
   "cell_type": "code",
   "execution_count": 23,
   "id": "3b4fcf3e",
   "metadata": {},
   "outputs": [],
   "source": [
    "df1['sba_address'] = sba_addresses\n",
    "df1['user_location_address'] = [user_location_feature.attributes['Match_addr'] for i in range(len(sba_addresses))]\n",
    "\n"
   ]
  },
  {
   "cell_type": "code",
   "execution_count": 25,
   "id": "37a6c675",
   "metadata": {},
   "outputs": [
    {
     "data": {
      "text/html": [
       "<div>\n",
       "<style scoped>\n",
       "    .dataframe tbody tr th:only-of-type {\n",
       "        vertical-align: middle;\n",
       "    }\n",
       "\n",
       "    .dataframe tbody tr th {\n",
       "        vertical-align: top;\n",
       "    }\n",
       "\n",
       "    .dataframe thead th {\n",
       "        text-align: right;\n",
       "    }\n",
       "</style>\n",
       "<table border=\"1\" class=\"dataframe\">\n",
       "  <thead>\n",
       "    <tr style=\"text-align: right;\">\n",
       "      <th></th>\n",
       "      <th>sba_address</th>\n",
       "      <th>user_location_address</th>\n",
       "      <th>Total_Miles</th>\n",
       "      <th>Total_TravelTime</th>\n",
       "    </tr>\n",
       "  </thead>\n",
       "  <tbody>\n",
       "    <tr>\n",
       "      <th>0</th>\n",
       "      <td>550 West C St. suite 550, San Diego</td>\n",
       "      <td>5338-5338 Bonita Rd, Bonita, California, 91902</td>\n",
       "      <td>8.279131</td>\n",
       "      <td>11.793344</td>\n",
       "    </tr>\n",
       "    <tr>\n",
       "      <th>1</th>\n",
       "      <td>880 National City Blvd, San Diego</td>\n",
       "      <td>5338-5338 Bonita Rd, Bonita, California, 91902</td>\n",
       "      <td>13.635431</td>\n",
       "      <td>18.237284</td>\n",
       "    </tr>\n",
       "    <tr>\n",
       "      <th>2</th>\n",
       "      <td>530 B St. Suite 700, San Diego</td>\n",
       "      <td>5338-5338 Bonita Rd, Bonita, California, 91902</td>\n",
       "      <td>13.137797</td>\n",
       "      <td>21.199016</td>\n",
       "    </tr>\n",
       "    <tr>\n",
       "      <th>3</th>\n",
       "      <td>7675 Dagget St. Suite 340, San Diego</td>\n",
       "      <td>5338-5338 Bonita Rd, Bonita, California, 91902</td>\n",
       "      <td>17.628884</td>\n",
       "      <td>21.465569</td>\n",
       "    </tr>\n",
       "  </tbody>\n",
       "</table>\n",
       "</div>"
      ],
      "text/plain": [
       "                            sba_address  \\\n",
       "0   550 West C St. suite 550, San Diego   \n",
       "1     880 National City Blvd, San Diego   \n",
       "2        530 B St. Suite 700, San Diego   \n",
       "3  7675 Dagget St. Suite 340, San Diego   \n",
       "\n",
       "                            user_location_address  Total_Miles  \\\n",
       "0  5338-5338 Bonita Rd, Bonita, California, 91902     8.279131   \n",
       "1  5338-5338 Bonita Rd, Bonita, California, 91902    13.635431   \n",
       "2  5338-5338 Bonita Rd, Bonita, California, 91902    13.137797   \n",
       "3  5338-5338 Bonita Rd, Bonita, California, 91902    17.628884   \n",
       "\n",
       "   Total_TravelTime  \n",
       "0         11.793344  \n",
       "1         18.237284  \n",
       "2         21.199016  \n",
       "3         21.465569  "
      ]
     },
     "execution_count": 25,
     "metadata": {},
     "output_type": "execute_result"
    }
   ],
   "source": [
    "df1[['sba_address','user_location_address','Total_Miles','Total_TravelTime']]\n"
   ]
  },
  {
   "cell_type": "markdown",
   "id": "dac3880f",
   "metadata": {},
   "source": [
    "#### Try Geocoding address from registrant table"
   ]
  },
  {
   "cell_type": "code",
   "execution_count": 31,
   "id": "fcd36bd0",
   "metadata": {},
   "outputs": [],
   "source": [
    "user_address = '581 Moss St, 91911, Chula Vista, CA'\n",
    "matched_address = geocode(user_address, max_locations=1)[0]"
   ]
  },
  {
   "cell_type": "code",
   "execution_count": 32,
   "id": "dd3bdbce",
   "metadata": {},
   "outputs": [],
   "source": [
    "#matched_address"
   ]
  },
  {
   "cell_type": "code",
   "execution_count": 35,
   "id": "23c81ef1",
   "metadata": {},
   "outputs": [
    {
     "data": {
      "text/plain": [
       "{\"geometry\": {\"x\": -117.08191738328053, \"y\": 32.61388094286144}, \"attributes\": {\"Loc_name\": \"World\", \"Status\": \"M\", \"Score\": 100, \"Match_addr\": \"581 Moss St, Chula Vista, California, 91911\", \"LongLabel\": \"581 Moss St, Chula Vista, CA, 91911, USA\", \"ShortLabel\": \"581 Moss St\", \"Addr_type\": \"PointAddress\", \"Type\": \"\", \"PlaceName\": \"\", \"Place_addr\": \"581 Moss St, Chula Vista, California, 91911\", \"Phone\": \"\", \"URL\": \"\", \"Rank\": 20, \"AddBldg\": \"\", \"AddNum\": \"581\", \"AddNumFrom\": \"\", \"AddNumTo\": \"\", \"AddRange\": \"\", \"Side\": \"\", \"StPreDir\": \"\", \"StPreType\": \"\", \"StName\": \"Moss\", \"StType\": \"St\", \"StDir\": \"\", \"BldgType\": \"\", \"BldgName\": \"\", \"LevelType\": \"\", \"LevelName\": \"\", \"UnitType\": \"\", \"UnitName\": \"\", \"SubAddr\": \"\", \"StAddr\": \"581 Moss St\", \"Block\": \"\", \"Sector\": \"\", \"Nbrhd\": \"\", \"District\": \"\", \"City\": \"Chula Vista\", \"MetroArea\": \"\", \"Subregion\": \"San Diego County\", \"Region\": \"California\", \"RegionAbbr\": \"CA\", \"Territory\": \"\", \"Zone\": \"\", \"Postal\": \"91911\", \"PostalExt\": \"1706\", \"Country\": \"USA\", \"CntryName\": \"United States\", \"LangCode\": \"ENG\", \"Distance\": 0, \"X\": -117.08191738328053, \"Y\": 32.61388094286144, \"DisplayX\": -117.081842029971, \"DisplayY\": 32.61369201476391, \"Xmin\": -117.082842029971, \"Xmax\": -117.080842029971, \"Ymin\": 32.612692014763915, \"Ymax\": 32.61469201476391, \"ExInfo\": \"\"}}"
      ]
     },
     "execution_count": 35,
     "metadata": {},
     "output_type": "execute_result"
    }
   ],
   "source": [
    "user_address_feature = Feature(geometry=matched_address['location'], attributes=matched_address['attributes'])\n",
    "user_address_feature"
   ]
  },
  {
   "cell_type": "code",
   "execution_count": 45,
   "id": "4ecdc90c",
   "metadata": {},
   "outputs": [],
   "source": [
    "feat_dict = matched_address['attributes']\n"
   ]
  },
  {
   "cell_type": "code",
   "execution_count": 46,
   "id": "d4626c73",
   "metadata": {},
   "outputs": [
    {
     "data": {
      "text/plain": [
       "{'Loc_name': 'World',\n",
       " 'Status': 'M',\n",
       " 'Score': 100,\n",
       " 'Match_addr': '581 Moss St, Chula Vista, California, 91911',\n",
       " 'LongLabel': '581 Moss St, Chula Vista, CA, 91911, USA',\n",
       " 'ShortLabel': '581 Moss St',\n",
       " 'Addr_type': 'PointAddress',\n",
       " 'Type': '',\n",
       " 'PlaceName': '',\n",
       " 'Place_addr': '581 Moss St, Chula Vista, California, 91911',\n",
       " 'Phone': '',\n",
       " 'URL': '',\n",
       " 'Rank': 20,\n",
       " 'AddBldg': '',\n",
       " 'AddNum': '581',\n",
       " 'AddNumFrom': '',\n",
       " 'AddNumTo': '',\n",
       " 'AddRange': '',\n",
       " 'Side': '',\n",
       " 'StPreDir': '',\n",
       " 'StPreType': '',\n",
       " 'StName': 'Moss',\n",
       " 'StType': 'St',\n",
       " 'StDir': '',\n",
       " 'BldgType': '',\n",
       " 'BldgName': '',\n",
       " 'LevelType': '',\n",
       " 'LevelName': '',\n",
       " 'UnitType': '',\n",
       " 'UnitName': '',\n",
       " 'SubAddr': '',\n",
       " 'StAddr': '581 Moss St',\n",
       " 'Block': '',\n",
       " 'Sector': '',\n",
       " 'Nbrhd': '',\n",
       " 'District': '',\n",
       " 'City': 'Chula Vista',\n",
       " 'MetroArea': '',\n",
       " 'Subregion': 'San Diego County',\n",
       " 'Region': 'California',\n",
       " 'RegionAbbr': 'CA',\n",
       " 'Territory': '',\n",
       " 'Zone': '',\n",
       " 'Postal': '91911',\n",
       " 'PostalExt': '1706',\n",
       " 'Country': 'USA',\n",
       " 'CntryName': 'United States',\n",
       " 'LangCode': 'ENG',\n",
       " 'Distance': 0,\n",
       " 'X': -117.08191738328053,\n",
       " 'Y': 32.61388094286144,\n",
       " 'DisplayX': -117.081842029971,\n",
       " 'DisplayY': 32.61369201476391,\n",
       " 'Xmin': -117.082842029971,\n",
       " 'Xmax': -117.080842029971,\n",
       " 'Ymin': 32.612692014763915,\n",
       " 'Ymax': 32.61469201476391,\n",
       " 'ExInfo': '',\n",
       " 'org_name': 'San Diego and Imperial SBDC Network (Lead Office)'}"
      ]
     },
     "execution_count": 46,
     "metadata": {},
     "output_type": "execute_result"
    }
   ],
   "source": [
    "feat_dict['org_name'] = 'San Diego and Imperial SBDC Network (Lead Office)'\n",
    "feat_dict"
   ]
  },
  {
   "cell_type": "code",
   "execution_count": null,
   "id": "1e19df4e",
   "metadata": {},
   "outputs": [],
   "source": []
  }
 ],
 "metadata": {
  "kernelspec": {
   "display_name": "Python 3 (ipykernel)",
   "language": "python",
   "name": "python3"
  },
  "language_info": {
   "codemirror_mode": {
    "name": "ipython",
    "version": 3
   },
   "file_extension": ".py",
   "mimetype": "text/x-python",
   "name": "python",
   "nbconvert_exporter": "python",
   "pygments_lexer": "ipython3",
   "version": "3.9.16"
  }
 },
 "nbformat": 4,
 "nbformat_minor": 5
}
