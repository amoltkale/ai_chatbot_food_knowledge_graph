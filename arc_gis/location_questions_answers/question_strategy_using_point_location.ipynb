{
 "cells": [
  {
   "cell_type": "markdown",
   "id": "cd308b12",
   "metadata": {},
   "source": [
    "## Prompt and actions on Questions\n"
   ]
  },
  {
   "cell_type": "markdown",
   "id": "7be1f7d3",
   "metadata": {},
   "source": [
    "* Look at `registrants` Table in postgres\n",
    "* Fetch the region/neignourhood in the query.\n",
    "* Get all the block groups under the neigbourhood using neigbbourhood-block group mapping file created using overlay layer between them.\n",
    "* Create bounding box extent with the region as centre of San Diego County.\n",
    "* Highlight the block groups relevant for our region.\n",
    "* Classify the block groups according to a score or rank created using combination of variables."
   ]
  },
  {
   "cell_type": "code",
   "execution_count": 1,
   "id": "2594c999",
   "metadata": {},
   "outputs": [],
   "source": [
    "import arcgis\n",
    "from arcgis.gis import GIS\n",
    "from arcgis.features import FeatureLayer, FeatureLayerCollection, GeoAccessor\n",
    "from arcgis.geocoding import geocode\n",
    "from arcgis.geometry import buffer, Point\n",
    "\n",
    "import pandas as pd\n",
    "\n",
    "import sys\n",
    "sys.path.append('../../')\n",
    "from utils import get_config"
   ]
  },
  {
   "cell_type": "code",
   "execution_count": 2,
   "id": "0132d5f3",
   "metadata": {},
   "outputs": [
    {
     "name": "stdout",
     "output_type": "stream",
     "text": [
      "<configparser.ConfigParser object at 0x12ce009d0>\n",
      "<configparser.ConfigParser object at 0x12ce00940>\n"
     ]
    }
   ],
   "source": [
    "username = get_config(\"arcgis\",\"username\")\n",
    "password = get_config(\"arcgis\",\"passkey\")\n",
    "gis = GIS(\"https://ucsdonline.maps.arcgis.com/home\", username=username, password=password)"
   ]
  },
  {
   "cell_type": "markdown",
   "id": "c418d1a3",
   "metadata": {},
   "source": [
    "### Check if the user belongs to a Food desert"
   ]
  },
  {
   "cell_type": "markdown",
   "id": "d64187c6",
   "metadata": {},
   "source": [
    "#### Check meal_gap or CalFresh data to check Food insecurity rate for some radius of area\n",
    "* Map the meal gap data is at County level, not sure if it is really helpful for us.\n",
    "* CalFresh Data might need to be standardized, but it is on zip level."
   ]
  },
  {
   "cell_type": "markdown",
   "id": "89d1bfbc",
   "metadata": {},
   "source": [
    "##### Can we query a geography within a certain radius of a location."
   ]
  },
  {
   "cell_type": "code",
   "execution_count": null,
   "id": "1d231024",
   "metadata": {},
   "outputs": [],
   "source": []
  },
  {
   "cell_type": "markdown",
   "id": "373d7ed6",
   "metadata": {},
   "source": [
    "##### Can we get list of block groups given a region. For now we will consider planned community areas."
   ]
  },
  {
   "cell_type": "markdown",
   "id": "7a69bf1e",
   "metadata": {},
   "source": [
    "#### Option 1"
   ]
  },
  {
   "cell_type": "code",
   "execution_count": null,
   "id": "a40b7768",
   "metadata": {},
   "outputs": [],
   "source": [
    "## Get the relevant block groups\n",
    "region_of_interest = 'RANCHO PENASQUITOS'\n",
    "region_of_interest = region_of_interest.lower()\n",
    "cpa_bg_map = pd.read_csv(\"../resources/san_diego_county_cpa_blk_grp_map.csv\", dtype ='str')\n",
    "mask = cpa_bg_map['CPANAME']==region_of_interest\n",
    "block_groups_in_region = cpa_bg_map[mask]\n",
    "block_groups_in_region_list = block_groups_in_region['fips'].tolist()"
   ]
  },
  {
   "cell_type": "code",
   "execution_count": 3,
   "id": "bb676e37",
   "metadata": {},
   "outputs": [],
   "source": [
    "# Query the block group for respective variables and feature layer.\n",
    "variables = \"demographics\"\n",
    "if variables==\"demographics\":\n",
    "    url = \"https://services1.arcgis.com/eGSDp8lpKe5izqVc/arcgis/rest/services/aff1b6/FeatureServer/0\"\n",
    "ft_lyr = FeatureLayer(gis=gis,\n",
    "                       url=url)\n",
    "out_fields = [\"fips\", \"occeduc_cy\",\"pif60_cy\",\"OCCFOOD_CY\"]  "
   ]
  },
  {
   "cell_type": "code",
   "execution_count": 6,
   "id": "8c7566a3",
   "metadata": {},
   "outputs": [
    {
     "data": {
      "text/html": [
       "<div>\n",
       "<style scoped>\n",
       "    .dataframe tbody tr th:only-of-type {\n",
       "        vertical-align: middle;\n",
       "    }\n",
       "\n",
       "    .dataframe tbody tr th {\n",
       "        vertical-align: top;\n",
       "    }\n",
       "\n",
       "    .dataframe thead th {\n",
       "        text-align: right;\n",
       "    }\n",
       "</style>\n",
       "<table border=\"1\" class=\"dataframe\">\n",
       "  <thead>\n",
       "    <tr style=\"text-align: right;\">\n",
       "      <th></th>\n",
       "      <th>FID</th>\n",
       "      <th>fips</th>\n",
       "      <th>occeduc_cy</th>\n",
       "      <th>pif60_cy</th>\n",
       "      <th>occfood_cy</th>\n",
       "      <th>SHAPE</th>\n",
       "    </tr>\n",
       "  </thead>\n",
       "  <tbody>\n",
       "    <tr>\n",
       "      <th>0</th>\n",
       "      <td>508</td>\n",
       "      <td>060730170181</td>\n",
       "      <td>41.0</td>\n",
       "      <td>2.0</td>\n",
       "      <td>82.0</td>\n",
       "      <td>{\"rings\": [[[-13035625.351, 3890389.58830002],...</td>\n",
       "    </tr>\n",
       "    <tr>\n",
       "      <th>1</th>\n",
       "      <td>509</td>\n",
       "      <td>060730170182</td>\n",
       "      <td>28.0</td>\n",
       "      <td>0.0</td>\n",
       "      <td>77.0</td>\n",
       "      <td>{\"rings\": [[[-13035887.7309999, 3888939.776800...</td>\n",
       "    </tr>\n",
       "  </tbody>\n",
       "</table>\n",
       "</div>"
      ],
      "text/plain": [
       "   FID          fips  occeduc_cy  pif60_cy  occfood_cy  \\\n",
       "0  508  060730170181        41.0       2.0        82.0   \n",
       "1  509  060730170182        28.0       0.0        77.0   \n",
       "\n",
       "                                               SHAPE  \n",
       "0  {\"rings\": [[[-13035625.351, 3890389.58830002],...  \n",
       "1  {\"rings\": [[[-13035887.7309999, 3888939.776800...  "
      ]
     },
     "execution_count": 6,
     "metadata": {},
     "output_type": "execute_result"
    }
   ],
   "source": [
    "where = \"fips IN (\" + \",\".join(block_groups_in_region_list) + \")\"\n",
    "#print(where)\n",
    "result_rows = ft_lyr.query(\n",
    "    where=where,\n",
    "    out_fields=out_fields,\n",
    "    return_geometry=True,\n",
    "    as_df=True,\n",
    ")\n",
    "result_rows.head(2)"
   ]
  },
  {
   "cell_type": "markdown",
   "id": "1c7c3108",
   "metadata": {},
   "source": [
    "#### Option 2"
   ]
  },
  {
   "cell_type": "code",
   "execution_count": 4,
   "id": "b5c66ac9",
   "metadata": {},
   "outputs": [],
   "source": [
    "registrant_address = \"11010 Caminito Alvarez, San Diego, 92126\"\n",
    "matched_registrant_address = geocode(address=registrant_address,\n",
    "                 max_locations = 1\n",
    "                )\n",
    "# matched_registrant_address"
   ]
  },
  {
   "cell_type": "code",
   "execution_count": 5,
   "id": "45e92ae7",
   "metadata": {},
   "outputs": [],
   "source": [
    "#matched_registrant_address"
   ]
  },
  {
   "cell_type": "code",
   "execution_count": 6,
   "id": "40dd3eb7",
   "metadata": {},
   "outputs": [
    {
     "name": "stdout",
     "output_type": "stream",
     "text": [
      "Important Fields: \n",
      " Address Matched: 11010 Caminito Alvarez, San Diego, California, 92126 \n",
      " Latitude,Longitude: [-117.1675950182451, 32.90706625343636]\n",
      " Match SCore: 100\n"
     ]
    }
   ],
   "source": [
    "lat_long = [matched_registrant_address[0]['location']['x'],matched_registrant_address[0]['location']['y']]\n",
    "address_score = matched_registrant_address[0]['score']\n",
    "address_identified = matched_registrant_address[0]['address']\n",
    "print(f\"Important Fields: \\n Address Matched: {address_identified} \\n Latitude,Longitude: {lat_long}\\n Match SCore: {address_score}\")"
   ]
  },
  {
   "cell_type": "code",
   "execution_count": 16,
   "id": "d72de0da",
   "metadata": {},
   "outputs": [
    {
     "name": "stdout",
     "output_type": "stream",
     "text": [
      "point_location: {'x': -117.1675950182451, 'y': 32.90706625343636}\n"
     ]
    }
   ],
   "source": [
    "point_location = matched_registrant_address[0]['location']\n",
    "print(f\"point_location: {point_location}\")\n",
    "point_geom = Point({\"x\": point_location['x'], \"y\": point_location['y'], \"spatialReference\" : {\n",
    "      \"wkid\": 102100,\n",
    "      \"latestWkid\": 3857\n",
    "    }})\n",
    "\n",
    "## This buffer query was failing because ESRI takes constant values instead of names for unit.\n",
    "# So here 9035 is Value for constant esriSRUnit_SurveyMile\twhich is described as 'US Survey Mile'\n",
    "# Link for more constants: http://resources.arcgis.com/en/help/arcobjects-cpp/componenthelp/index.html#/esriSRUnitType_Constants/000w00000042000000/\n",
    "buffer_geom = buffer(geometries=[point_geom], distances=5.0, unit='9035', in_sr={\n",
    "      \"wkid\": 102100,\n",
    "      \"latestWkid\": 3857\n",
    "    })\n"
   ]
  },
  {
   "cell_type": "code",
   "execution_count": 17,
   "id": "72e27462",
   "metadata": {},
   "outputs": [
    {
     "data": {
      "image/svg+xml": [
       "<svg xmlns=\"http://www.w3.org/2000/svg\" xmlns:xlink=\"http://www.w3.org/1999/xlink\" width=\"300\" height=\"300\" viewBox=\"-8807.642575968208 -8657.567914696527 17380.949961899925 17380.949961899925\" preserveAspectRatio=\"xMinYMin meet\"><g transform=\"matrix(1,0,0,-1,0,65.81413250687183)\"><path fill-rule=\"evenodd\" fill=\"#66cc99\" stroke=\"#555555\" stroke-width=\"115.87299974599951\" opacity=\"0.6\" d=\"M -117.1675950182446,8079.643159725623 L 135.58649377908984,8075.672581210606 L 388.09114480615233,8063.764764147173 L 640.0971664576332,8043.93146011312 L 891.3558592152217,8016.192242185024 L 1141.6192610839942,7980.574485621982 L 1390.6403923009727,7937.113340849539 L 1638.1734990743314,7885.851698770458 L 1883.9742961127172,7826.840148436579 L 2127.8002077053475,7760.136927123529 L 2369.4106071149363,7685.807862857568 L 2608.5670540472447,7603.926309451268 L 2845.0335299628578,7514.5730741121615 L 3078.5766709989884,7417.836337695784 L 3308.9659982714443,7313.811567681807 L 3535.974145329442,7202.601423959174 L 3759.3770825388647,7084.315657513177 L 3978.9543381724498,6959.0710021144805 L 4194.489215988768,6826.991059116996 L 4405.769009085259,6688.206175478257 L 4612.585209814254,6542.853315122711 L 4814.733715554855,6391.075923774867 L 5012.0150301375825,6233.023787395678 L 5204.234460723003,6068.852884361883 L 5391.202309940062,5898.7252315341875 L 5572.734063094487,5722.8087243661685 L 5748.650570262506,5541.276971211743 L 5918.778223090203,5354.309121994684 L 6082.949126123997,5162.089691409263 L 6241.001262503186,4964.808376826536 L 6392.77865385103,4762.659871085935 L 6538.131514206576,4555.8436703569405 L 6676.916397845316,4344.563877260449 L 6808.996340842801,4129.028999444129 L 6934.240996241497,3909.4517438105445 L 7052.526762687494,3686.048806601123 L 7163.736906410127,3459.040659543124 L 7267.761676424103,3228.6513322706696 L 7364.49841284048,2995.108191234539 L 7453.851648179587,2758.641715318926 L 7535.7332015858865,2519.4852683866175 L 7610.062265851848,2277.8748689770287 L 7676.765487164897,2034.0489573844 L 7735.777037498778,1788.2481603460121 L 7787.038679577859,1540.7150535726535 L 7830.4998243503005,1291.693922355675 L 7866.117580913343,1041.4305204869027 L 7893.856798841439,790.1718277293141 L 7913.690102875492,538.1658060778332 L 7925.597919938925,285.6611550507708 L 7929.568498453942,32.90706625343636 L 7925.597919938925,-219.84702254389805 L 7913.690102875492,-472.3516735709605 L 7893.856798841439,-724.3576952224432 L 7866.117580913342,-975.6163879800318 L 7830.4998243503,-1225.8797898488042 L 7787.038679577858,-1474.9009210657825 L 7735.777037498778,-1722.4340278391394 L 7676.765487164898,-1968.2348248775254 L 7610.062265851848,-2212.060736470156 L 7535.7332015858865,-2453.6711358797447 L 7453.851648179587,-2692.827582812053 L 7364.49841284048,-2929.294058727666 L 7267.761676424103,-3162.837199763797 L 7163.736906410126,-3393.2265270362527 L 7052.526762687494,-3620.2346740942503 L 6934.240996241495,-3843.637611303675 L 6808.9963408428,-4063.2148669372577 L 6676.916397845313,-4278.74974475358 L 6538.131514206575,-4490.02953785007 L 6392.77865385103,-4696.845738579063 L 6241.001262503187,-4898.994244319663 L 6082.9491261239955,-5096.275558902392 L 5918.778223090203,-5288.494989487812 L 5748.650570262505,-5475.462838704872 L 5572.734063094487,-5656.994591859297 L 5391.202309940064,-5832.911099027315 L 5204.2344607230025,-6003.038751855012 L 5012.015030137583,-6167.209654888805 L 4814.733715554854,-6325.261791267995 L 4612.585209814254,-6477.039182615839 L 4405.7690090852575,-6622.392042971386 L 4194.489215988768,-6761.176926610125 L 3978.954338172446,-6893.2568696076105 L 3759.3770825388665,-7018.501525006304 L 3535.974145329442,-7136.787291452302 L 3308.9659982714443,-7247.997435174935 L 3078.5766709989884,-7352.022205188912 L 2845.0335299628578,-7448.75894160529 L 2608.567054047243,-7538.112176944397 L 2369.4106071149363,-7619.993730350696 L 2127.8002077053457,-7694.322794616658 L 1883.9742961127172,-7761.026015929707 L 1638.1734990743278,-7820.037566263587 L 1390.640392300971,-7871.299208342668 L 1141.6192610839942,-7914.76035311511 L 891.3558592152235,-7950.378109678151 L 640.0971664576332,-7978.117327606248 L 388.09114480615233,-7997.950631640301 L 135.58649377908804,-8009.858448703734 L -117.1675950182446,-8013.829027218751 L -369.9216838155773,-8009.858448703734 L -622.4263348426415,-7997.950631640301 L -874.4323564941224,-7978.117327606248 L -1125.691049251713,-7950.378109678151 L -1375.9544511204833,-7914.76035311511 L -1624.9755823374635,-7871.299208342667 L -1872.5086891108203,-7820.037566263587 L -2118.30948614921,-7761.026015929707 L -2362.1353977418385,-7694.322794616657 L -2603.7457971514295,-7619.993730350695 L -2842.9022440837357,-7538.112176944396 L -3079.3687199993506,-7448.758941605289 L -3312.9118610354813,-7352.022205188911 L -3543.301188307934,-7247.997435174935 L -3770.309335365935,-7136.787291452301 L -3993.712272575353,-7018.501525006306 L -4213.289528208936,-6893.256869607611 L -4428.824406025257,-6761.1769266101255 L -4640.104199121748,-6622.392042971387 L -4846.920399850744,-6477.039182615839 L -5049.0689055913435,-6325.261791267996 L -5246.350220174073,-6167.209654888806 L -5438.569650759492,-6003.038751855012 L -5625.537499976554,-5832.911099027315 L -5807.069253130977,-5656.994591859297 L -5982.985760298995,-5475.462838704873 L -6153.113413126693,-5288.494989487812 L -6317.284316160488,-5096.27555890239 L -6475.336452539676,-4898.994244319663 L -6627.11384388752,-4696.845738579064 L -6772.466704243069,-4490.029537850065 L -6911.251587881808,-4278.749744753574 L -7043.331530879292,-4063.214866937256 L -7168.576186277986,-3843.6376113036727 L -7286.861952723987,-3620.234674094245 L -7398.072096446619,-3393.2265270362473 L -7502.096866460595,-3162.8371997637946 L -7598.833602876972,-2929.294058727664 L -7688.18683821608,-2692.827582812046 L -7770.068391622377,-2453.6711358797456 L -7844.397455888337,-2212.0607364701586 L -7911.100677201387,-1968.23482487753 L -7970.112227535268,-1722.434027839137 L -8021.373869614349,-1474.90092106578 L -8064.83501438679,-1225.8797898488033 L -8100.4527709498325,-975.6163879800328 L -8128.19198887793,-724.3576952224389 L -8148.025292911982,-472.3516735709579 L -8159.933109975415,-219.84702254389728 L -8163.903688490433,32.907066253435374 L -8159.9331099754145,285.6611550507752 L -8148.025292911982,538.1658060778287 L -8128.191988877929,790.1718277293168 L -8100.452770949833,1041.4305204869033 L -8064.83501438679,1291.6939223556813 L -8021.373869614349,1540.7150535726507 L -7970.112227535267,1788.2481603460149 L -7911.100677201388,2034.0489573844009 L -7844.3974558883365,2277.874868977036 L -7770.068391622378,2519.4852683866166 L -7688.186838216076,2758.64171531893 L -7598.83360287697,2995.108191234541 L -7502.09686646059,3228.6513322706787 L -7398.072096446616,3459.0406595431245 L -7286.8619527239825,3686.0488066011285 L -7168.576186277985,3909.45174381055 L -7043.331530879289,4129.028999444133 L -6911.2515878818085,4344.563877260444 L -6772.4667042430665,4555.8436703569405 L -6627.1138438875205,4762.659871085934 L -6475.336452539674,4964.80837682654 L -6317.28431616049,5162.08969140926 L -6153.113413126692,5354.3091219946855 L -5982.985760298997,5541.276971211744 L -5807.069253130979,5722.808724366168 L -5625.537499976555,5898.725231534186 L -5438.569650759491,6068.852884361886 L -5246.350220174071,6233.0237873956785 L -5049.068905591345,6391.075923774867 L -4846.9203998507455,6542.85331512271 L -4640.104199121746,6688.20617547826 L -4428.824406025256,6826.991059116998 L -4213.289528208938,6959.071002114482 L -3993.7122725753547,7084.315657513177 L -3770.309335365927,7202.601423959178 L -3543.3011883079294,7313.81156768181 L -3312.9118610354767,7417.836337695785 L -3079.368719999346,7514.573074112162 L -2842.902244083728,7603.926309451271 L -2603.7457971514277,7685.807862857568 L -2362.1353977418335,7760.13692712353 L -2118.309486149212,7826.840148436578 L -1872.5086891108188,7885.851698770459 L -1624.975582337462,7937.11334084954 L -1375.9544511204851,7980.574485621981 L -1125.6910492517147,8016.192242185023 L -874.4323564941208,8043.93146011312 L -622.42633484264,8063.764764147173 L -369.9216838155793,8075.672581210606 L -117.1675950182446,8079.643159725623 z\" /></g></svg>"
      ],
      "text/plain": [
       "{'rings': [[[-117.1675950182446, 8079.643159725623],\n",
       "   [135.58649377908984, 8075.672581210606],\n",
       "   [388.09114480615233, 8063.764764147173],\n",
       "   [640.0971664576332, 8043.93146011312],\n",
       "   [891.3558592152217, 8016.192242185024],\n",
       "   [1141.6192610839942, 7980.574485621982],\n",
       "   [1390.6403923009727, 7937.113340849539],\n",
       "   [1638.1734990743314, 7885.851698770458],\n",
       "   [1883.9742961127172, 7826.840148436579],\n",
       "   [2127.8002077053475, 7760.136927123529],\n",
       "   [2369.4106071149363, 7685.807862857568],\n",
       "   [2608.5670540472447, 7603.926309451268],\n",
       "   [2845.0335299628578, 7514.5730741121615],\n",
       "   [3078.5766709989884, 7417.836337695784],\n",
       "   [3308.9659982714443, 7313.811567681807],\n",
       "   [3535.974145329442, 7202.601423959174],\n",
       "   [3759.3770825388647, 7084.315657513177],\n",
       "   [3978.9543381724498, 6959.0710021144805],\n",
       "   [4194.489215988768, 6826.991059116996],\n",
       "   [4405.769009085259, 6688.206175478257],\n",
       "   [4612.585209814254, 6542.853315122711],\n",
       "   [4814.733715554855, 6391.075923774867],\n",
       "   [5012.0150301375825, 6233.023787395678],\n",
       "   [5204.234460723003, 6068.852884361883],\n",
       "   [5391.202309940062, 5898.7252315341875],\n",
       "   [5572.734063094487, 5722.8087243661685],\n",
       "   [5748.650570262506, 5541.276971211743],\n",
       "   [5918.778223090203, 5354.309121994684],\n",
       "   [6082.949126123997, 5162.089691409263],\n",
       "   [6241.001262503186, 4964.808376826536],\n",
       "   [6392.77865385103, 4762.659871085935],\n",
       "   [6538.131514206576, 4555.8436703569405],\n",
       "   [6676.916397845316, 4344.563877260449],\n",
       "   [6808.996340842801, 4129.028999444129],\n",
       "   [6934.240996241497, 3909.4517438105445],\n",
       "   [7052.526762687494, 3686.048806601123],\n",
       "   [7163.736906410127, 3459.040659543124],\n",
       "   [7267.761676424103, 3228.6513322706696],\n",
       "   [7364.49841284048, 2995.108191234539],\n",
       "   [7453.851648179587, 2758.641715318926],\n",
       "   [7535.7332015858865, 2519.4852683866175],\n",
       "   [7610.062265851848, 2277.8748689770287],\n",
       "   [7676.765487164897, 2034.0489573844],\n",
       "   [7735.777037498778, 1788.2481603460121],\n",
       "   [7787.038679577859, 1540.7150535726535],\n",
       "   [7830.4998243503005, 1291.693922355675],\n",
       "   [7866.117580913343, 1041.4305204869027],\n",
       "   [7893.856798841439, 790.1718277293141],\n",
       "   [7913.690102875492, 538.1658060778332],\n",
       "   [7925.597919938925, 285.6611550507708],\n",
       "   [7929.568498453942, 32.90706625343636],\n",
       "   [7925.597919938925, -219.84702254389805],\n",
       "   [7913.690102875492, -472.3516735709605],\n",
       "   [7893.856798841439, -724.3576952224432],\n",
       "   [7866.117580913342, -975.6163879800318],\n",
       "   [7830.4998243503, -1225.8797898488042],\n",
       "   [7787.038679577858, -1474.9009210657825],\n",
       "   [7735.777037498778, -1722.4340278391394],\n",
       "   [7676.765487164898, -1968.2348248775254],\n",
       "   [7610.062265851848, -2212.060736470156],\n",
       "   [7535.7332015858865, -2453.6711358797447],\n",
       "   [7453.851648179587, -2692.827582812053],\n",
       "   [7364.49841284048, -2929.294058727666],\n",
       "   [7267.761676424103, -3162.837199763797],\n",
       "   [7163.736906410126, -3393.2265270362527],\n",
       "   [7052.526762687494, -3620.2346740942503],\n",
       "   [6934.240996241495, -3843.637611303675],\n",
       "   [6808.9963408428, -4063.2148669372577],\n",
       "   [6676.916397845313, -4278.74974475358],\n",
       "   [6538.131514206575, -4490.02953785007],\n",
       "   [6392.77865385103, -4696.845738579063],\n",
       "   [6241.001262503187, -4898.994244319663],\n",
       "   [6082.9491261239955, -5096.275558902392],\n",
       "   [5918.778223090203, -5288.494989487812],\n",
       "   [5748.650570262505, -5475.462838704872],\n",
       "   [5572.734063094487, -5656.994591859297],\n",
       "   [5391.202309940064, -5832.911099027315],\n",
       "   [5204.2344607230025, -6003.038751855012],\n",
       "   [5012.015030137583, -6167.209654888805],\n",
       "   [4814.733715554854, -6325.261791267995],\n",
       "   [4612.585209814254, -6477.039182615839],\n",
       "   [4405.7690090852575, -6622.392042971386],\n",
       "   [4194.489215988768, -6761.176926610125],\n",
       "   [3978.954338172446, -6893.2568696076105],\n",
       "   [3759.3770825388665, -7018.501525006304],\n",
       "   [3535.974145329442, -7136.787291452302],\n",
       "   [3308.9659982714443, -7247.997435174935],\n",
       "   [3078.5766709989884, -7352.022205188912],\n",
       "   [2845.0335299628578, -7448.75894160529],\n",
       "   [2608.567054047243, -7538.112176944397],\n",
       "   [2369.4106071149363, -7619.993730350696],\n",
       "   [2127.8002077053457, -7694.322794616658],\n",
       "   [1883.9742961127172, -7761.026015929707],\n",
       "   [1638.1734990743278, -7820.037566263587],\n",
       "   [1390.640392300971, -7871.299208342668],\n",
       "   [1141.6192610839942, -7914.76035311511],\n",
       "   [891.3558592152235, -7950.378109678151],\n",
       "   [640.0971664576332, -7978.117327606248],\n",
       "   [388.09114480615233, -7997.950631640301],\n",
       "   [135.58649377908804, -8009.858448703734],\n",
       "   [-117.1675950182446, -8013.829027218751],\n",
       "   [-369.9216838155773, -8009.858448703734],\n",
       "   [-622.4263348426415, -7997.950631640301],\n",
       "   [-874.4323564941224, -7978.117327606248],\n",
       "   [-1125.691049251713, -7950.378109678151],\n",
       "   [-1375.9544511204833, -7914.76035311511],\n",
       "   [-1624.9755823374635, -7871.299208342667],\n",
       "   [-1872.5086891108203, -7820.037566263587],\n",
       "   [-2118.30948614921, -7761.026015929707],\n",
       "   [-2362.1353977418385, -7694.322794616657],\n",
       "   [-2603.7457971514295, -7619.993730350695],\n",
       "   [-2842.9022440837357, -7538.112176944396],\n",
       "   [-3079.3687199993506, -7448.758941605289],\n",
       "   [-3312.9118610354813, -7352.022205188911],\n",
       "   [-3543.301188307934, -7247.997435174935],\n",
       "   [-3770.309335365935, -7136.787291452301],\n",
       "   [-3993.712272575353, -7018.501525006306],\n",
       "   [-4213.289528208936, -6893.256869607611],\n",
       "   [-4428.824406025257, -6761.1769266101255],\n",
       "   [-4640.104199121748, -6622.392042971387],\n",
       "   [-4846.920399850744, -6477.039182615839],\n",
       "   [-5049.0689055913435, -6325.261791267996],\n",
       "   [-5246.350220174073, -6167.209654888806],\n",
       "   [-5438.569650759492, -6003.038751855012],\n",
       "   [-5625.537499976554, -5832.911099027315],\n",
       "   [-5807.069253130977, -5656.994591859297],\n",
       "   [-5982.985760298995, -5475.462838704873],\n",
       "   [-6153.113413126693, -5288.494989487812],\n",
       "   [-6317.284316160488, -5096.27555890239],\n",
       "   [-6475.336452539676, -4898.994244319663],\n",
       "   [-6627.11384388752, -4696.845738579064],\n",
       "   [-6772.466704243069, -4490.029537850065],\n",
       "   [-6911.251587881808, -4278.749744753574],\n",
       "   [-7043.331530879292, -4063.214866937256],\n",
       "   [-7168.576186277986, -3843.6376113036727],\n",
       "   [-7286.861952723987, -3620.234674094245],\n",
       "   [-7398.072096446619, -3393.2265270362473],\n",
       "   [-7502.096866460595, -3162.8371997637946],\n",
       "   [-7598.833602876972, -2929.294058727664],\n",
       "   [-7688.18683821608, -2692.827582812046],\n",
       "   [-7770.068391622377, -2453.6711358797456],\n",
       "   [-7844.397455888337, -2212.0607364701586],\n",
       "   [-7911.100677201387, -1968.23482487753],\n",
       "   [-7970.112227535268, -1722.434027839137],\n",
       "   [-8021.373869614349, -1474.90092106578],\n",
       "   [-8064.83501438679, -1225.8797898488033],\n",
       "   [-8100.4527709498325, -975.6163879800328],\n",
       "   [-8128.19198887793, -724.3576952224389],\n",
       "   [-8148.025292911982, -472.3516735709579],\n",
       "   [-8159.933109975415, -219.84702254389728],\n",
       "   [-8163.903688490433, 32.907066253435374],\n",
       "   [-8159.9331099754145, 285.6611550507752],\n",
       "   [-8148.025292911982, 538.1658060778287],\n",
       "   [-8128.191988877929, 790.1718277293168],\n",
       "   [-8100.452770949833, 1041.4305204869033],\n",
       "   [-8064.83501438679, 1291.6939223556813],\n",
       "   [-8021.373869614349, 1540.7150535726507],\n",
       "   [-7970.112227535267, 1788.2481603460149],\n",
       "   [-7911.100677201388, 2034.0489573844009],\n",
       "   [-7844.3974558883365, 2277.874868977036],\n",
       "   [-7770.068391622378, 2519.4852683866166],\n",
       "   [-7688.186838216076, 2758.64171531893],\n",
       "   [-7598.83360287697, 2995.108191234541],\n",
       "   [-7502.09686646059, 3228.6513322706787],\n",
       "   [-7398.072096446616, 3459.0406595431245],\n",
       "   [-7286.8619527239825, 3686.0488066011285],\n",
       "   [-7168.576186277985, 3909.45174381055],\n",
       "   [-7043.331530879289, 4129.028999444133],\n",
       "   [-6911.2515878818085, 4344.563877260444],\n",
       "   [-6772.4667042430665, 4555.8436703569405],\n",
       "   [-6627.1138438875205, 4762.659871085934],\n",
       "   [-6475.336452539674, 4964.80837682654],\n",
       "   [-6317.28431616049, 5162.08969140926],\n",
       "   [-6153.113413126692, 5354.3091219946855],\n",
       "   [-5982.985760298997, 5541.276971211744],\n",
       "   [-5807.069253130979, 5722.808724366168],\n",
       "   [-5625.537499976555, 5898.725231534186],\n",
       "   [-5438.569650759491, 6068.852884361886],\n",
       "   [-5246.350220174071, 6233.0237873956785],\n",
       "   [-5049.068905591345, 6391.075923774867],\n",
       "   [-4846.9203998507455, 6542.85331512271],\n",
       "   [-4640.104199121746, 6688.20617547826],\n",
       "   [-4428.824406025256, 6826.991059116998],\n",
       "   [-4213.289528208938, 6959.071002114482],\n",
       "   [-3993.7122725753547, 7084.315657513177],\n",
       "   [-3770.309335365927, 7202.601423959178],\n",
       "   [-3543.3011883079294, 7313.81156768181],\n",
       "   [-3312.9118610354767, 7417.836337695785],\n",
       "   [-3079.368719999346, 7514.573074112162],\n",
       "   [-2842.902244083728, 7603.926309451271],\n",
       "   [-2603.7457971514277, 7685.807862857568],\n",
       "   [-2362.1353977418335, 7760.13692712353],\n",
       "   [-2118.309486149212, 7826.840148436578],\n",
       "   [-1872.5086891108188, 7885.851698770459],\n",
       "   [-1624.975582337462, 7937.11334084954],\n",
       "   [-1375.9544511204851, 7980.574485621981],\n",
       "   [-1125.6910492517147, 8016.192242185023],\n",
       "   [-874.4323564941208, 8043.93146011312],\n",
       "   [-622.42633484264, 8063.764764147173],\n",
       "   [-369.9216838155793, 8075.672581210606],\n",
       "   [-117.1675950182446, 8079.643159725623]]],\n",
       " 'spatialReference': {'wkid': 102100, 'latestWkid': 3857}}"
      ]
     },
     "execution_count": 17,
     "metadata": {},
     "output_type": "execute_result"
    }
   ],
   "source": [
    "buffer_geom[0]"
   ]
  },
  {
   "cell_type": "code",
   "execution_count": 18,
   "id": "1a43d3c0",
   "metadata": {},
   "outputs": [],
   "source": [
    "from arcgis.geometry.filters import intersects\n",
    "buffer_filter = intersects(buffer_geom[0],{\n",
    "      \"wkid\": 102100,\n",
    "      \"latestWkid\": 3857\n",
    "    })\n"
   ]
  },
  {
   "cell_type": "code",
   "execution_count": 19,
   "id": "4a4ca638",
   "metadata": {},
   "outputs": [
    {
     "data": {
      "text/plain": [
       "{'wkid': 102100, 'latestWkid': 3857}"
      ]
     },
     "execution_count": 19,
     "metadata": {},
     "output_type": "execute_result"
    }
   ],
   "source": [
    "buffer_filter['inSR']"
   ]
  },
  {
   "cell_type": "code",
   "execution_count": 20,
   "id": "62fc08c2",
   "metadata": {},
   "outputs": [
    {
     "data": {
      "text/html": [
       "<div>\n",
       "<style scoped>\n",
       "    .dataframe tbody tr th:only-of-type {\n",
       "        vertical-align: middle;\n",
       "    }\n",
       "\n",
       "    .dataframe tbody tr th {\n",
       "        vertical-align: top;\n",
       "    }\n",
       "\n",
       "    .dataframe thead th {\n",
       "        text-align: right;\n",
       "    }\n",
       "</style>\n",
       "<table border=\"1\" class=\"dataframe\">\n",
       "  <thead>\n",
       "    <tr style=\"text-align: right;\">\n",
       "      <th></th>\n",
       "      <th>FID</th>\n",
       "      <th>fips</th>\n",
       "      <th>blkf20_cy</th>\n",
       "      <th>mage69_fy</th>\n",
       "      <th>whtm5_cy</th>\n",
       "      <th>pif60_cy</th>\n",
       "      <th>asn10_fy</th>\n",
       "      <th>occeduc_cy</th>\n",
       "      <th>oldrgenscy</th>\n",
       "      <th>medoage_cy</th>\n",
       "      <th>...</th>\n",
       "      <th>male55_fy</th>\n",
       "      <th>mage16_fy</th>\n",
       "      <th>age71_fy</th>\n",
       "      <th>medmmagefy</th>\n",
       "      <th>hagebasefy</th>\n",
       "      <th>othf35_fy</th>\n",
       "      <th>a65i0_cy</th>\n",
       "      <th>Shape__Area</th>\n",
       "      <th>Shape__Length</th>\n",
       "      <th>SHAPE</th>\n",
       "    </tr>\n",
       "  </thead>\n",
       "  <tbody>\n",
       "  </tbody>\n",
       "</table>\n",
       "<p>0 rows × 918 columns</p>\n",
       "</div>"
      ],
      "text/plain": [
       "Empty DataFrame\n",
       "Columns: [FID, fips, blkf20_cy, mage69_fy, whtm5_cy, pif60_cy, asn10_fy, occeduc_cy, oldrgenscy, medoage_cy, oth0_cy, blkf75_fy, fage3_fy, whtm85_cy, aim45_cy, pi0_cy, chlddep_fy, blkm85_cy, agedep_fy, mage13_fy, pim70_fy, fem65_fy, pim85_cy, a15i150_fy, asn15_cy, a75i15_fy, mltf50_cy, a75i200_fy, a65di35_cy, a65i100_fy, graddeg_cy, val300k_cy, oth45_cy, famgrwcyfy, occpers_cy, mltm40_fy, othm10_fy, a15di0_cy, senior_fy, mage41_fy, genz_cy, aggia75_fy, di50_cy, fage73_fy, asnf25_fy, male10_fy, mlt20_fy, renter_cy, whtf35_cy, fem75_cy, fage37_fy, whtm45_fy, othm70_fy, mlt35_fy, wht55_fy, aggia65_fy, asn20_fy, aim15_cy, magebasefy, mage57_fy, hsp30_fy, mltf0_fy, mltmbasefy, a35i25_fy, blk40_cy, othf30_fy, othm45_cy, media75_cy, iagebasecy, blk85_fy, a55i35_cy, ai30_cy, a35i15_fy, blkm25_cy, hspf0_cy, nonhisp_cy, mltm20_fy, pop30_fy, hspf80_fy, aif85_fy, mage2_fy, mage63_fy, wht0_fy, avgia55_fy, othf75_cy, fem21up_cy, a35i50_cy, pop75_cy, mlt40_cy, blk45_fy, avgia75_cy, male50_cy, pifbase_cy, aif10_fy, a45i25_fy, oth70_cy, aif35_fy, popdens_fy, wht60_cy, aimbase_fy, ...]\n",
       "Index: []\n",
       "\n",
       "[0 rows x 918 columns]"
      ]
     },
     "execution_count": 20,
     "metadata": {},
     "output_type": "execute_result"
    }
   ],
   "source": [
    "features_df = ft_lyr.query(geometry_filter=buffer_filter,as_df=True)\n",
    "features_df"
   ]
  },
  {
   "cell_type": "code",
   "execution_count": 92,
   "id": "d9d47c21",
   "metadata": {},
   "outputs": [
    {
     "data": {
      "text/html": [
       "<div>\n",
       "<style scoped>\n",
       "    .dataframe tbody tr th:only-of-type {\n",
       "        vertical-align: middle;\n",
       "    }\n",
       "\n",
       "    .dataframe tbody tr th {\n",
       "        vertical-align: top;\n",
       "    }\n",
       "\n",
       "    .dataframe thead th {\n",
       "        text-align: right;\n",
       "    }\n",
       "</style>\n",
       "<table border=\"1\" class=\"dataframe\">\n",
       "  <thead>\n",
       "    <tr style=\"text-align: right;\">\n",
       "      <th></th>\n",
       "      <th>FID</th>\n",
       "      <th>fips</th>\n",
       "      <th>blkf20_cy</th>\n",
       "      <th>mage69_fy</th>\n",
       "      <th>whtm5_cy</th>\n",
       "      <th>pif60_cy</th>\n",
       "      <th>asn10_fy</th>\n",
       "      <th>occeduc_cy</th>\n",
       "      <th>oldrgenscy</th>\n",
       "      <th>medoage_cy</th>\n",
       "      <th>...</th>\n",
       "      <th>male55_fy</th>\n",
       "      <th>mage16_fy</th>\n",
       "      <th>age71_fy</th>\n",
       "      <th>medmmagefy</th>\n",
       "      <th>hagebasefy</th>\n",
       "      <th>othf35_fy</th>\n",
       "      <th>a65i0_cy</th>\n",
       "      <th>Shape__Area</th>\n",
       "      <th>Shape__Length</th>\n",
       "      <th>SHAPE</th>\n",
       "    </tr>\n",
       "  </thead>\n",
       "  <tbody>\n",
       "  </tbody>\n",
       "</table>\n",
       "<p>0 rows × 918 columns</p>\n",
       "</div>"
      ],
      "text/plain": [
       "Empty DataFrame\n",
       "Columns: [FID, fips, blkf20_cy, mage69_fy, whtm5_cy, pif60_cy, asn10_fy, occeduc_cy, oldrgenscy, medoage_cy, oth0_cy, blkf75_fy, fage3_fy, whtm85_cy, aim45_cy, pi0_cy, chlddep_fy, blkm85_cy, agedep_fy, mage13_fy, pim70_fy, fem65_fy, pim85_cy, a15i150_fy, asn15_cy, a75i15_fy, mltf50_cy, a75i200_fy, a65di35_cy, a65i100_fy, graddeg_cy, val300k_cy, oth45_cy, famgrwcyfy, occpers_cy, mltm40_fy, othm10_fy, a15di0_cy, senior_fy, mage41_fy, genz_cy, aggia75_fy, di50_cy, fage73_fy, asnf25_fy, male10_fy, mlt20_fy, renter_cy, whtf35_cy, fem75_cy, fage37_fy, whtm45_fy, othm70_fy, mlt35_fy, wht55_fy, aggia65_fy, asn20_fy, aim15_cy, magebasefy, mage57_fy, hsp30_fy, mltf0_fy, mltmbasefy, a35i25_fy, blk40_cy, othf30_fy, othm45_cy, media75_cy, iagebasecy, blk85_fy, a55i35_cy, ai30_cy, a35i15_fy, blkm25_cy, hspf0_cy, nonhisp_cy, mltm20_fy, pop30_fy, hspf80_fy, aif85_fy, mage2_fy, mage63_fy, wht0_fy, avgia55_fy, othf75_cy, fem21up_cy, a35i50_cy, pop75_cy, mlt40_cy, blk45_fy, avgia75_cy, male50_cy, pifbase_cy, aif10_fy, a45i25_fy, oth70_cy, aif35_fy, popdens_fy, wht60_cy, aimbase_fy, ...]\n",
       "Index: []\n",
       "\n",
       "[0 rows x 918 columns]"
      ]
     },
     "execution_count": 92,
     "metadata": {},
     "output_type": "execute_result"
    }
   ],
   "source": [
    "# Define the spatial relationship for the query\n",
    "spatial_relationship = \"esriSpatialRelIntersects\"\n",
    "\n",
    "# Define the query parameters\n",
    "query_params = {\"geometry\": buffer_geom, \"geometryType\": \"esriGeometryPoint\", \"inSR\": 3857, \"spatialRel\": spatial_relationship}\n",
    "\n",
    "result_rows_2 = ft_lyr.query(\n",
    "    where=\"1=1\",\n",
    "    #out_fields=out_fields,\n",
    "    return_geometry=True,\n",
    "    as_df=True,\n",
    "    **query_params\n",
    ")\n",
    "result_rows_2.head(2)\n"
   ]
  },
  {
   "cell_type": "code",
   "execution_count": 73,
   "id": "515e8958",
   "metadata": {},
   "outputs": [],
   "source": [
    "# from arcgis.mapping import symbol\n",
    "\n",
    "# colormaps = symbol.ALLOWED_CMAPS\n",
    "# for a,b,c,d,e in zip(colormaps[::5], colormaps[1::5], colormaps[2::5], colormaps[3::5], colormaps[4::5]):\n",
    "#     print(\"{:<20}{:<20}{:<20}{:<20}{:<}\".format(a,b,c,d,e))\n"
   ]
  },
  {
   "cell_type": "code",
   "execution_count": 74,
   "id": "bb19b34c",
   "metadata": {},
   "outputs": [],
   "source": [
    "# from arcgis.mapping import display_colormaps\n",
    "# display_colormaps(['Greens_r', 'PRGn', 'Dark2', 'Set1'])\n",
    "# display_colormaps(colormaps[1::5])"
   ]
  },
  {
   "cell_type": "markdown",
   "id": "cc8d8077",
   "metadata": {},
   "source": [
    "#### Check Food Swamp: Desnsity of fast food and Convenience Store"
   ]
  },
  {
   "cell_type": "code",
   "execution_count": null,
   "id": "00e8362c",
   "metadata": {},
   "outputs": [],
   "source": []
  },
  {
   "cell_type": "markdown",
   "id": "c5efb556",
   "metadata": {},
   "source": [
    "#### Does this have Highly Palatable Food."
   ]
  },
  {
   "cell_type": "code",
   "execution_count": null,
   "id": "dec410f3",
   "metadata": {},
   "outputs": [],
   "source": []
  },
  {
   "cell_type": "markdown",
   "id": "7009f2f7",
   "metadata": {},
   "source": [
    "#### e.g. Mexican Food business in Chula Vista and business type as Food Truck. (Business type data to be picked up from where? )"
   ]
  },
  {
   "cell_type": "code",
   "execution_count": null,
   "id": "fb673039",
   "metadata": {},
   "outputs": [],
   "source": []
  },
  {
   "cell_type": "code",
   "execution_count": null,
   "id": "fa3fb36d",
   "metadata": {},
   "outputs": [],
   "source": []
  },
  {
   "cell_type": "markdown",
   "id": "d518520f",
   "metadata": {},
   "source": [
    "#### Render a map"
   ]
  },
  {
   "cell_type": "code",
   "execution_count": 11,
   "id": "9e70c0e6",
   "metadata": {},
   "outputs": [
    {
     "data": {
      "text/plain": [
       "True"
      ]
     },
     "execution_count": 11,
     "metadata": {},
     "output_type": "execute_result"
    }
   ],
   "source": []
  },
  {
   "cell_type": "code",
   "execution_count": null,
   "id": "665ab645",
   "metadata": {},
   "outputs": [],
   "source": []
  }
 ],
 "metadata": {
  "kernelspec": {
   "display_name": "Python 3 (ipykernel)",
   "language": "python",
   "name": "python3"
  },
  "language_info": {
   "codemirror_mode": {
    "name": "ipython",
    "version": 3
   },
   "file_extension": ".py",
   "mimetype": "text/x-python",
   "name": "python",
   "nbconvert_exporter": "python",
   "pygments_lexer": "ipython3",
   "version": "3.9.16"
  }
 },
 "nbformat": 4,
 "nbformat_minor": 5
}
