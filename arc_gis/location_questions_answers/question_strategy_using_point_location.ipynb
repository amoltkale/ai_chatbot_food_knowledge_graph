{
 "cells": [
  {
   "cell_type": "markdown",
   "id": "cd308b12",
   "metadata": {},
   "source": [
    "## Prompt and actions on Questions\n"
   ]
  },
  {
   "cell_type": "markdown",
   "id": "7be1f7d3",
   "metadata": {},
   "source": [
    "* Look at `registrants` Table in postgres\n",
    "* Fetch the region/neignourhood in the query.\n",
    "* Get all the block groups under the neigbourhood using neigbbourhood-block group mapping file created using overlay layer between them.\n",
    "* Create bounding box extent with the region as centre of San Diego County.\n",
    "* Highlight the block groups relevant for our region.\n",
    "* Classify the block groups according to a score or rank created using combination of variables."
   ]
  },
  {
   "cell_type": "code",
   "execution_count": 1,
   "id": "2594c999",
   "metadata": {},
   "outputs": [],
   "source": [
    "import arcgis\n",
    "from arcgis.gis import GIS\n",
    "from arcgis.features import FeatureLayer, FeatureLayerCollection, GeoAccessor\n",
    "from arcgis.geocoding import geocode\n",
    "from arcgis.geometry import buffer, Point\n",
    "from arcgis.geometry.filters import intersects\n",
    "\n",
    "import pandas as pd\n",
    "\n",
    "import sys\n",
    "sys.path.append('../../')\n",
    "from utils import get_config"
   ]
  },
  {
   "cell_type": "code",
   "execution_count": 2,
   "id": "0132d5f3",
   "metadata": {},
   "outputs": [
    {
     "name": "stdout",
     "output_type": "stream",
     "text": [
      "<configparser.ConfigParser object at 0x107afae20>\n",
      "<configparser.ConfigParser object at 0x107acdee0>\n"
     ]
    }
   ],
   "source": [
    "username = get_config(\"arcgis\",\"username\")\n",
    "password = get_config(\"arcgis\",\"passkey\")\n",
    "gis = GIS(\"https://ucsdonline.maps.arcgis.com/home\", username=username, password=password)"
   ]
  },
  {
   "cell_type": "markdown",
   "id": "c418d1a3",
   "metadata": {},
   "source": [
    "### Check if the user belongs to a Food desert"
   ]
  },
  {
   "cell_type": "markdown",
   "id": "d64187c6",
   "metadata": {},
   "source": [
    "#### Check meal_gap or CalFresh data to check Food insecurity rate for some radius of area\n",
    "* Map the meal gap data is at County level, not sure if it is really helpful for us.\n",
    "* CalFresh Data might need to be standardized, but it is on zip level."
   ]
  },
  {
   "cell_type": "markdown",
   "id": "7a69bf1e",
   "metadata": {},
   "source": [
    "#### Picking some random variable from demographics for Map rending POC"
   ]
  },
  {
   "cell_type": "code",
   "execution_count": 3,
   "id": "8c7566a3",
   "metadata": {},
   "outputs": [],
   "source": [
    "# Query the block group for respective variables and feature layer.\n",
    "variables = \"demographics\"\n",
    "if variables==\"demographics\":\n",
    "    url = \"https://services1.arcgis.com/eGSDp8lpKe5izqVc/arcgis/rest/services/aff1b6/FeatureServer/0\"\n",
    "ft_lyr = FeatureLayer(gis=gis,\n",
    "                       url=url)\n",
    "\n",
    "# Picking up sample variables for just poc on rendering maps as per our need.\n",
    "out_fields = [\"fips\", \"occeduc_cy\",\"pif60_cy\",\"OCCFOOD_CY\"]  "
   ]
  },
  {
   "cell_type": "markdown",
   "id": "89d1bfbc",
   "metadata": {},
   "source": [
    "##### Can we query a geography within a certain radius of a location."
   ]
  },
  {
   "cell_type": "markdown",
   "id": "1c7c3108",
   "metadata": {},
   "source": [
    "#### Picking home address from registrant table"
   ]
  },
  {
   "cell_type": "code",
   "execution_count": 4,
   "id": "b5c66ac9",
   "metadata": {},
   "outputs": [],
   "source": [
    "registrant_address = \"11010 Caminito Alvarez, San Diego, 92126\"\n",
    "matched_registrant_address = geocode(address=registrant_address,\n",
    "                 max_locations = 1\n",
    "                )\n",
    "# matched_registrant_address"
   ]
  },
  {
   "cell_type": "markdown",
   "id": "a650235f",
   "metadata": {},
   "source": [
    "Listing the address matched..."
   ]
  },
  {
   "cell_type": "code",
   "execution_count": 5,
   "id": "40dd3eb7",
   "metadata": {},
   "outputs": [
    {
     "name": "stdout",
     "output_type": "stream",
     "text": [
      "Important Fields: \n",
      " Address Matched: 11010 Caminito Alvarez, San Diego, California, 92126 \n",
      " Latitude,Longitude: [32.90706625343636, -117.1675950182451]\n",
      " Match SCore: 100\n"
     ]
    }
   ],
   "source": [
    "lat_long = [matched_registrant_address[0]['location']['y'],matched_registrant_address[0]['location']['x']]\n",
    "address_score = matched_registrant_address[0]['score']\n",
    "address_identified = matched_registrant_address[0]['address']\n",
    "print(f\"Important Fields: \\n Address Matched: {address_identified} \\n Latitude,Longitude: {lat_long}\\n Match SCore: {address_score}\")"
   ]
  },
  {
   "cell_type": "markdown",
   "id": "90ef5f9a",
   "metadata": {},
   "source": [
    "#### Creating a Point Geometry and create a 2.0 Mile radius to create a buffer"
   ]
  },
  {
   "cell_type": "code",
   "execution_count": 6,
   "id": "d72de0da",
   "metadata": {},
   "outputs": [
    {
     "name": "stdout",
     "output_type": "stream",
     "text": [
      "point_location: {'x': -117.1675950182451, 'y': 32.90706625343636}\n"
     ]
    }
   ],
   "source": [
    "point_location = matched_registrant_address[0]['location']\n",
    "print(f\"point_location: {point_location}\")\n",
    "point_geom = Point({\"x\": point_location['x'], \"y\": point_location['y'], \"spatialReference\" : {'wkid': 4326, 'latestWkid': 4326}})\n",
    "\n",
    "## This buffer query was failing because ESRI takes constant values instead of names for unit.\n",
    "# So here 9035 is Value for constant esriSRUnit_SurveyMile which is described as 'US Survey Mile'\n",
    "# Link for more constants: http://resources.arcgis.com/en/help/arcobjects-cpp/componenthelp/index.html#/esriSRUnitType_Constants/000w00000042000000/\n",
    "buffer_geom = buffer(geometries=[point_geom], distances=1.0, unit='9035', in_sr={'wkid': 4326, 'latestWkid': 4326})\n"
   ]
  },
  {
   "cell_type": "code",
   "execution_count": 19,
   "id": "56df1aab",
   "metadata": {},
   "outputs": [
    {
     "data": {
      "image/svg+xml": [
       "<svg xmlns=\"http://www.w3.org/2000/svg\" xmlns:xlink=\"http://www.w3.org/1999/xlink\" width=\"100.0\" height=\"100.0\" viewBox=\"-117.18616291019556 32.89117950698898 0.03713578390092209 0.03177345916194696\" preserveAspectRatio=\"xMinYMin meet\"><g transform=\"matrix(1,0,0,-1,0,65.81413247313992)\"><path fill-rule=\"evenodd\" fill=\"#66cc99\" stroke=\"#555555\" stroke-width=\"0.0007427156780184419\" opacity=\"0.6\" d=\"M -117.16759501824511,32.921577566747196 L -117.16639481106876,32.921542212197636 L -117.16520045403242,32.92143632087566 L -117.16401776871925,32.921260408920254 L -117.16285251973893,32.921015333763314 L -117.16171038659083,32.920702289944316 L -117.16059693594472,32.920322803279866 L -117.1595175944757,32.91987872341642 L -117.15847762238579,32.91937221480287 L -117.15748208774265,32.91880574612741 L -117.15653584176054,32.91818207827023 L -117.15564349514491,32.917504250831286 L -117.15480939561627,32.91677556729935 L -117.15403760672243,32.91599957893458 L -117.15333188804364,32.91518006744414 L -117.15269567688583,32.91432102653524 L -117.15213207155173,32.91342664243625 L -117.15164381627073,32.91250127348102 L -117.15123328786031,32.91154942885638 L -117.15090248418392,32.910575746616644 L -117.15065301446008,32.909584971072626 L -117.1504860914697,32.90858192966562 L -117.15040252569838,32.907571509439244 L -117.1504027214413,32.906558633223845 L -117.15048667488848,32.90554823564984 L -117.15065397419917,32.90454523910671 L -117.15090380156308,32.903554529764804 L -117.15123493723827,32.902580933776875 L -117.1516457655442,32.90162919377497 L -117.15213428278037,32.90070394577703 L -117.15269810703057,32.89980969661559 L -117.15333448980446,32.898950801998076 L -117.15404032945906,32.89813144530547 L -117.15481218633371,32.897355617232044 L -117.15564629952507,32.89662709636504 L -117.15653860521927,32.89594943079855 L -117.15748475649242,32.89532592087066 L -117.15848014448243,32.894759603107445 L -117.15951992082942,32.89425323545174 L -117.16059902127571,32.89380928384815 L -117.16171219031048,32.89342991024914 L -117.1628540067399,32.89311696210048 L -117.16401891005873,32.89287196335665 L -117.16520122749556,32.89269610706986 L -117.16639520160096,32.89259024958844 L -117.16759501824511,32.89255490639272 L -117.16879483488924,32.89259024958843 L -117.16998880899466,32.89269610706986 L -117.17117112643149,32.89287196335666 L -117.17233602975031,32.89311696210048 L -117.17347784617972,32.89342991024914 L -117.1745910152145,32.89380928384815 L -117.17567011566078,32.89425323545174 L -117.17670989200778,32.894759603107445 L -117.17770527999778,32.89532592087066 L -117.17865143127095,32.89594943079855 L -117.17954373696514,32.89662709636504 L -117.18037785015649,32.897355617232044 L -117.18114970703115,32.89813144530547 L -117.18185554668574,32.898950801998076 L -117.18249192945964,32.89980969661559 L -117.18305575370984,32.90070394577703 L -117.18354427094602,32.90162919377497 L -117.18395509925193,32.902580933776875 L -117.18428623492713,32.9035545297648 L -117.18453606229104,32.9045452391067 L -117.18470336160172,32.90554823564984 L -117.18478731504891,32.906558633223845 L -117.18478751079182,32.907571509439244 L -117.18470394502052,32.90858192966562 L -117.18453702203014,32.909584971072626 L -117.18428755230629,32.910575746616644 L -117.18395674862991,32.91154942885638 L -117.18354622021948,32.91250127348102 L -117.18305796493847,32.91342664243625 L -117.18249435960438,32.91432102653524 L -117.18185814844657,32.91518006744414 L -117.18115242976778,32.91599957893458 L -117.18038064087395,32.91677556729935 L -117.17954654134529,32.917504250831286 L -117.17865419472967,32.91818207827023 L -117.17770794874755,32.91880574612741 L -117.17671241410441,32.91937221480288 L -117.1756724420145,32.91987872341642 L -117.17459310054548,32.920322803279866 L -117.17347964989938,32.920702289944316 L -117.17233751675127,32.92101533376331 L -117.17117226777097,32.92126040892026 L -117.1699895824578,32.92143632087565 L -117.16879522542146,32.921542212197636 L -117.16759501824511,32.921577566747196 z\" /></g></svg>"
      ],
      "text/plain": [
       "{'rings': [[[-117.16759501824511, 32.921577566747196],\n",
       "   [-117.16639481106876, 32.921542212197636],\n",
       "   [-117.16520045403242, 32.92143632087566],\n",
       "   [-117.16401776871925, 32.921260408920254],\n",
       "   [-117.16285251973893, 32.921015333763314],\n",
       "   [-117.16171038659083, 32.920702289944316],\n",
       "   [-117.16059693594472, 32.920322803279866],\n",
       "   [-117.1595175944757, 32.91987872341642],\n",
       "   [-117.15847762238579, 32.91937221480287],\n",
       "   [-117.15748208774265, 32.91880574612741],\n",
       "   [-117.15653584176054, 32.91818207827023],\n",
       "   [-117.15564349514491, 32.917504250831286],\n",
       "   [-117.15480939561627, 32.91677556729935],\n",
       "   [-117.15403760672243, 32.91599957893458],\n",
       "   [-117.15333188804364, 32.91518006744414],\n",
       "   [-117.15269567688583, 32.91432102653524],\n",
       "   [-117.15213207155173, 32.91342664243625],\n",
       "   [-117.15164381627073, 32.91250127348102],\n",
       "   [-117.15123328786031, 32.91154942885638],\n",
       "   [-117.15090248418392, 32.910575746616644],\n",
       "   [-117.15065301446008, 32.909584971072626],\n",
       "   [-117.1504860914697, 32.90858192966562],\n",
       "   [-117.15040252569838, 32.907571509439244],\n",
       "   [-117.1504027214413, 32.906558633223845],\n",
       "   [-117.15048667488848, 32.90554823564984],\n",
       "   [-117.15065397419917, 32.90454523910671],\n",
       "   [-117.15090380156308, 32.903554529764804],\n",
       "   [-117.15123493723827, 32.902580933776875],\n",
       "   [-117.1516457655442, 32.90162919377497],\n",
       "   [-117.15213428278037, 32.90070394577703],\n",
       "   [-117.15269810703057, 32.89980969661559],\n",
       "   [-117.15333448980446, 32.898950801998076],\n",
       "   [-117.15404032945906, 32.89813144530547],\n",
       "   [-117.15481218633371, 32.897355617232044],\n",
       "   [-117.15564629952507, 32.89662709636504],\n",
       "   [-117.15653860521927, 32.89594943079855],\n",
       "   [-117.15748475649242, 32.89532592087066],\n",
       "   [-117.15848014448243, 32.894759603107445],\n",
       "   [-117.15951992082942, 32.89425323545174],\n",
       "   [-117.16059902127571, 32.89380928384815],\n",
       "   [-117.16171219031048, 32.89342991024914],\n",
       "   [-117.1628540067399, 32.89311696210048],\n",
       "   [-117.16401891005873, 32.89287196335665],\n",
       "   [-117.16520122749556, 32.89269610706986],\n",
       "   [-117.16639520160096, 32.89259024958844],\n",
       "   [-117.16759501824511, 32.89255490639272],\n",
       "   [-117.16879483488924, 32.89259024958843],\n",
       "   [-117.16998880899466, 32.89269610706986],\n",
       "   [-117.17117112643149, 32.89287196335666],\n",
       "   [-117.17233602975031, 32.89311696210048],\n",
       "   [-117.17347784617972, 32.89342991024914],\n",
       "   [-117.1745910152145, 32.89380928384815],\n",
       "   [-117.17567011566078, 32.89425323545174],\n",
       "   [-117.17670989200778, 32.894759603107445],\n",
       "   [-117.17770527999778, 32.89532592087066],\n",
       "   [-117.17865143127095, 32.89594943079855],\n",
       "   [-117.17954373696514, 32.89662709636504],\n",
       "   [-117.18037785015649, 32.897355617232044],\n",
       "   [-117.18114970703115, 32.89813144530547],\n",
       "   [-117.18185554668574, 32.898950801998076],\n",
       "   [-117.18249192945964, 32.89980969661559],\n",
       "   [-117.18305575370984, 32.90070394577703],\n",
       "   [-117.18354427094602, 32.90162919377497],\n",
       "   [-117.18395509925193, 32.902580933776875],\n",
       "   [-117.18428623492713, 32.9035545297648],\n",
       "   [-117.18453606229104, 32.9045452391067],\n",
       "   [-117.18470336160172, 32.90554823564984],\n",
       "   [-117.18478731504891, 32.906558633223845],\n",
       "   [-117.18478751079182, 32.907571509439244],\n",
       "   [-117.18470394502052, 32.90858192966562],\n",
       "   [-117.18453702203014, 32.909584971072626],\n",
       "   [-117.18428755230629, 32.910575746616644],\n",
       "   [-117.18395674862991, 32.91154942885638],\n",
       "   [-117.18354622021948, 32.91250127348102],\n",
       "   [-117.18305796493847, 32.91342664243625],\n",
       "   [-117.18249435960438, 32.91432102653524],\n",
       "   [-117.18185814844657, 32.91518006744414],\n",
       "   [-117.18115242976778, 32.91599957893458],\n",
       "   [-117.18038064087395, 32.91677556729935],\n",
       "   [-117.17954654134529, 32.917504250831286],\n",
       "   [-117.17865419472967, 32.91818207827023],\n",
       "   [-117.17770794874755, 32.91880574612741],\n",
       "   [-117.17671241410441, 32.91937221480288],\n",
       "   [-117.1756724420145, 32.91987872341642],\n",
       "   [-117.17459310054548, 32.920322803279866],\n",
       "   [-117.17347964989938, 32.920702289944316],\n",
       "   [-117.17233751675127, 32.92101533376331],\n",
       "   [-117.17117226777097, 32.92126040892026],\n",
       "   [-117.1699895824578, 32.92143632087565],\n",
       "   [-117.16879522542146, 32.921542212197636],\n",
       "   [-117.16759501824511, 32.921577566747196]]],\n",
       " 'spatialReference': {'wkid': 4326, 'latestWkid': 4326},\n",
       " 'type': 'polygon'}"
      ]
     },
     "execution_count": 19,
     "metadata": {},
     "output_type": "execute_result"
    }
   ],
   "source": [
    "target_geometry = buffer_geom[0]\n",
    "target_geometry"
   ]
  },
  {
   "cell_type": "markdown",
   "id": "0f32034f",
   "metadata": {},
   "source": [
    "Creating spatial intersect filter for the radius buffer"
   ]
  },
  {
   "cell_type": "code",
   "execution_count": 20,
   "id": "1a43d3c0",
   "metadata": {},
   "outputs": [],
   "source": [
    "\n",
    "buffer_filter = intersects(target_geometry,{'wkid': 4326, 'latestWkid': 4326})\n"
   ]
  },
  {
   "cell_type": "code",
   "execution_count": 21,
   "id": "67fbf8f0",
   "metadata": {},
   "outputs": [
    {
     "data": {
      "text/plain": [
       "{'wkid': 4326, 'latestWkid': 4326}"
      ]
     },
     "execution_count": 21,
     "metadata": {},
     "output_type": "execute_result"
    }
   ],
   "source": [
    "buffer_filter['inSR']"
   ]
  },
  {
   "cell_type": "markdown",
   "id": "2b89366d",
   "metadata": {},
   "source": [
    "Querying the respective variable feature layer with this spatial filter."
   ]
  },
  {
   "cell_type": "code",
   "execution_count": 22,
   "id": "f8266fac",
   "metadata": {},
   "outputs": [
    {
     "name": "stdout",
     "output_type": "stream",
     "text": [
      "Number of block groups identified: 15\n"
     ]
    },
    {
     "data": {
      "text/html": [
       "<div>\n",
       "<style scoped>\n",
       "    .dataframe tbody tr th:only-of-type {\n",
       "        vertical-align: middle;\n",
       "    }\n",
       "\n",
       "    .dataframe tbody tr th {\n",
       "        vertical-align: top;\n",
       "    }\n",
       "\n",
       "    .dataframe thead th {\n",
       "        text-align: right;\n",
       "    }\n",
       "</style>\n",
       "<table border=\"1\" class=\"dataframe\">\n",
       "  <thead>\n",
       "    <tr style=\"text-align: right;\">\n",
       "      <th></th>\n",
       "      <th>FID</th>\n",
       "      <th>fips</th>\n",
       "      <th>occeduc_cy</th>\n",
       "      <th>pif60_cy</th>\n",
       "      <th>occfood_cy</th>\n",
       "      <th>SHAPE</th>\n",
       "    </tr>\n",
       "  </thead>\n",
       "  <tbody>\n",
       "    <tr>\n",
       "      <th>0</th>\n",
       "      <td>565</td>\n",
       "      <td>060730083462</td>\n",
       "      <td>16.0</td>\n",
       "      <td>0.0</td>\n",
       "      <td>3.0</td>\n",
       "      <td>{\"rings\": [[[-13043684.4378, 3883791.263], [-1...</td>\n",
       "    </tr>\n",
       "    <tr>\n",
       "      <th>1</th>\n",
       "      <td>570</td>\n",
       "      <td>060730083481</td>\n",
       "      <td>19.0</td>\n",
       "      <td>0.0</td>\n",
       "      <td>72.0</td>\n",
       "      <td>{\"rings\": [[[-13041588.8481, 3884982.09870001]...</td>\n",
       "    </tr>\n",
       "    <tr>\n",
       "      <th>2</th>\n",
       "      <td>571</td>\n",
       "      <td>060730083482</td>\n",
       "      <td>28.0</td>\n",
       "      <td>1.0</td>\n",
       "      <td>11.0</td>\n",
       "      <td>{\"rings\": [[[-13041527.1770999, 3884297.419799...</td>\n",
       "    </tr>\n",
       "  </tbody>\n",
       "</table>\n",
       "</div>"
      ],
      "text/plain": [
       "   FID          fips  occeduc_cy  pif60_cy  occfood_cy  \\\n",
       "0  565  060730083462        16.0       0.0         3.0   \n",
       "1  570  060730083481        19.0       0.0        72.0   \n",
       "2  571  060730083482        28.0       1.0        11.0   \n",
       "\n",
       "                                               SHAPE  \n",
       "0  {\"rings\": [[[-13043684.4378, 3883791.263], [-1...  \n",
       "1  {\"rings\": [[[-13041588.8481, 3884982.09870001]...  \n",
       "2  {\"rings\": [[[-13041527.1770999, 3884297.419799...  "
      ]
     },
     "execution_count": 22,
     "metadata": {},
     "output_type": "execute_result"
    }
   ],
   "source": [
    "result_rows = ft_lyr.query(out_fields=out_fields,\n",
    "                            return_geometry=True,\n",
    "                            geometry_filter=buffer_filter,\n",
    "                            as_df=True)\n",
    "print(f\"Number of block groups identified: {result_rows.shape[0]}\")\n",
    "result_rows.head(3)"
   ]
  },
  {
   "cell_type": "markdown",
   "id": "d92a55da",
   "metadata": {},
   "source": [
    "#### Creating a bounding box"
   ]
  },
  {
   "cell_type": "code",
   "execution_count": 23,
   "id": "35cc7d21",
   "metadata": {},
   "outputs": [
    {
     "name": "stdout",
     "output_type": "stream",
     "text": [
      "Map Centre: [32.90706625343636, -117.1675950182451]\n"
     ]
    },
    {
     "data": {
      "application/vnd.jupyter.widget-view+json": {
       "model_id": "0a2230059ade403a88feec1af38097cc",
       "version_major": 2,
       "version_minor": 0
      },
      "text/plain": [
       "MapView(layout=Layout(height='400px', width='100%'))"
      ]
     },
     "metadata": {},
     "output_type": "display_data"
    },
    {
     "data": {
      "text/html": [
       "<div class=\"map-static-img-preview-832dfecf-76e0-4a57-94d4-a820ee07e608\"><img src=\"\"></img></div>"
      ],
      "text/plain": [
       "<IPython.core.display.HTML object>"
      ]
     },
     "metadata": {},
     "output_type": "display_data"
    },
    {
     "data": {
      "text/html": [
       "<div class=\"map-html-embed-preview-832dfecf-76e0-4a57-94d4-a820ee07e608\"></div>"
      ],
      "text/plain": [
       "<IPython.core.display.HTML object>"
      ]
     },
     "metadata": {},
     "output_type": "display_data"
    }
   ],
   "source": [
    "map_centre = [point_location['y'],point_location['x']]\n",
    "print(f\"Map Centre: {map_centre}\")\n",
    "m1 = gis.map(map_centre, zoomlevel=12)\n",
    "\n",
    "# Drawing a radius boundary for ease of demo.\n",
    "m1.draw(target_geometry)\n",
    "m1"
   ]
  },
  {
   "cell_type": "markdown",
   "id": "efeacbfb",
   "metadata": {},
   "source": [
    "#### Identify the relevant block groups"
   ]
  },
  {
   "cell_type": "code",
   "execution_count": 24,
   "id": "2dc4c4a9",
   "metadata": {},
   "outputs": [
    {
     "data": {
      "application/vnd.jupyter.widget-view+json": {
       "model_id": "e836f85376984f58a7f3e91a1ba5fa0c",
       "version_major": 2,
       "version_minor": 0
      },
      "text/plain": [
       "MapView(layout=Layout(height='400px', width='100%'))"
      ]
     },
     "metadata": {},
     "output_type": "display_data"
    },
    {
     "data": {
      "text/html": [
       "<div class=\"map-static-img-preview-7e9c486d-ace8-4528-9f59-5046681ae287\"><img src=\"\"></img></div>"
      ],
      "text/plain": [
       "<IPython.core.display.HTML object>"
      ]
     },
     "metadata": {},
     "output_type": "display_data"
    },
    {
     "data": {
      "text/html": [
       "<div class=\"map-html-embed-preview-7e9c486d-ace8-4528-9f59-5046681ae287\"></div>"
      ],
      "text/plain": [
       "<IPython.core.display.HTML object>"
      ]
     },
     "metadata": {},
     "output_type": "display_data"
    }
   ],
   "source": [
    "m2 = gis.map(map_centre, zoomlevel=12)\n",
    "result_rows.spatial.plot(renderer_type='c',                          \n",
    "                         map_widget= m2,)\n",
    "# Drawing a radius boundary for ease of demo.\n",
    "m2.draw(target_geometry)\n",
    "m2"
   ]
  },
  {
   "cell_type": "markdown",
   "id": "18f9c488",
   "metadata": {},
   "source": [
    "#### Classify the Block Groups"
   ]
  },
  {
   "cell_type": "code",
   "execution_count": 15,
   "id": "5e5ed83d",
   "metadata": {},
   "outputs": [
    {
     "data": {
      "application/vnd.jupyter.widget-view+json": {
       "model_id": "8edf34b7b32f49a28204af2db08b050c",
       "version_major": 2,
       "version_minor": 0
      },
      "text/plain": [
       "MapView(layout=Layout(height='400px', width='100%'))"
      ]
     },
     "metadata": {},
     "output_type": "display_data"
    },
    {
     "data": {
      "text/html": [
       "<div class=\"map-static-img-preview-a6c4e4e1-d287-4d55-b1b8-b95e9e4349ec\"><img src=\"\"></img></div>"
      ],
      "text/plain": [
       "<IPython.core.display.HTML object>"
      ]
     },
     "metadata": {},
     "output_type": "display_data"
    },
    {
     "data": {
      "text/html": [
       "<div class=\"map-html-embed-preview-a6c4e4e1-d287-4d55-b1b8-b95e9e4349ec\"></div>"
      ],
      "text/plain": [
       "<IPython.core.display.HTML object>"
      ]
     },
     "metadata": {},
     "output_type": "display_data"
    }
   ],
   "source": [
    "m3 = gis.map(map_centre, zoomlevel=12)\n",
    "result_rows.spatial.plot(renderer_type='c',\n",
    "                         method='esriClassifyNaturalBreaks',\n",
    "                         class_count=10,  # choose the number of classes\n",
    "                         col='occeduc_cy',\n",
    "                         cmap='hot',  # color map to pick colors from for each class\n",
    "                         alpha=0.7 ,\n",
    "                          \n",
    "                         map_widget= m3,)\n",
    "m3"
   ]
  },
  {
   "cell_type": "markdown",
   "id": "cc8d8077",
   "metadata": {},
   "source": [
    "#### Check Food Swamp: Desnsity of fast food and Convenience Store"
   ]
  },
  {
   "cell_type": "code",
   "execution_count": null,
   "id": "00e8362c",
   "metadata": {},
   "outputs": [],
   "source": []
  },
  {
   "cell_type": "markdown",
   "id": "c5efb556",
   "metadata": {},
   "source": [
    "#### Does this have Highly Palatable Food."
   ]
  },
  {
   "cell_type": "code",
   "execution_count": null,
   "id": "dec410f3",
   "metadata": {},
   "outputs": [],
   "source": []
  },
  {
   "cell_type": "markdown",
   "id": "7009f2f7",
   "metadata": {},
   "source": [
    "#### e.g. Mexican Food business in Chula Vista and business type as Food Truck. (Business type data to be picked up from where? )"
   ]
  },
  {
   "cell_type": "code",
   "execution_count": null,
   "id": "fb673039",
   "metadata": {},
   "outputs": [],
   "source": []
  },
  {
   "cell_type": "markdown",
   "id": "d518520f",
   "metadata": {},
   "source": [
    "#### Render a map"
   ]
  },
  {
   "cell_type": "code",
   "execution_count": null,
   "id": "665ab645",
   "metadata": {},
   "outputs": [],
   "source": []
  }
 ],
 "metadata": {
  "kernelspec": {
   "display_name": "Python 3 (ipykernel)",
   "language": "python",
   "name": "python3"
  },
  "language_info": {
   "codemirror_mode": {
    "name": "ipython",
    "version": 3
   },
   "file_extension": ".py",
   "mimetype": "text/x-python",
   "name": "python",
   "nbconvert_exporter": "python",
   "pygments_lexer": "ipython3",
   "version": "3.9.16"
  }
 },
 "nbformat": 4,
 "nbformat_minor": 5
}
