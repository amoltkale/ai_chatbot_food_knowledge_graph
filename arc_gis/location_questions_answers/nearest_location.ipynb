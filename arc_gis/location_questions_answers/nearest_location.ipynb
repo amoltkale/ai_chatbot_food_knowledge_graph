{
 "cells": [
  {
   "cell_type": "code",
   "execution_count": 1,
   "id": "8a5982ba",
   "metadata": {},
   "outputs": [],
   "source": [
    "from arcgis.gis import GIS\n",
    "import arcgis.network as network\n",
    "from arcgis.geocoding import geocode, reverse_geocode\n",
    "from arcgis.features import Feature, FeatureSet\n",
    "\n",
    "import sys\n",
    "sys.path.append('../../')\n",
    "from utils import get_config\n",
    "\n",
    "from IPython.display import HTML\n"
   ]
  },
  {
   "cell_type": "code",
   "execution_count": null,
   "id": "3440b6a5",
   "metadata": {},
   "outputs": [],
   "source": []
  },
  {
   "cell_type": "code",
   "execution_count": 26,
   "id": "b7e3428c",
   "metadata": {},
   "outputs": [],
   "source": [
    "def nearest_facilities(originating_address, all_facility_addresses, default_target_facility_count=4):\n",
    "    username = get_config(\"arcgis\",\"username\")\n",
    "    password = get_config(\"arcgis\",\"passkey\")\n",
    "    gis = GIS(\"https://ucsdonline.maps.arcgis.com/home\", username=username, password=password)\n",
    "    \n",
    "    analysis_url = gis.properties.helperServices.closestFacility.url\n",
    "    cf_layer = network.ClosestFacilityLayer(analysis_url, gis=gis)\n",
    "\n",
    "    facility_feat_list = []\n",
    "    matched_facility_address = []\n",
    "\n",
    "    for address in all_facility_addresses:\n",
    "        hit = geocode(address, max_locations=1)[0]\n",
    "        facility_feat = Feature(geometry=hit['location'], attributes=hit['attributes'])\n",
    "        matched_facility_address.append(facility_feat.attributes['Match_addr'])\n",
    "        facility_feat_list.append(facility_feat)\n",
    "\n",
    "    facility_fset = FeatureSet(features=facility_feat_list, \n",
    "                                geometry_type='esriGeometryPoint', \n",
    "                                spatial_reference={'latestWkid': 4326})\n",
    "        \n",
    "    # originating_address = '581 Moss St, 91911, Chula Vista, CA'\n",
    "    originating_matched_address = geocode(originating_address, max_locations=1)[0]\n",
    "        \n",
    "    originating_address_feature = Feature(geometry=originating_matched_address['location'], attributes=originating_matched_address['attributes'])\n",
    "    originating_address_fset = FeatureSet([originating_address_feature], geometry_type='esriGeometryPoint',\n",
    "                          spatial_reference={'latestWkid': 4326})\n",
    "    \n",
    "    result = cf_layer.solve_closest_facility(incidents=originating_address_fset,\n",
    "                                        facilities=facility_fset,\n",
    "                                        default_target_facility_count=len(all_facility_addresses),\n",
    "                                        return_facilities=True,\n",
    "                                        impedance_attribute_name='TravelTime',\n",
    "                                        accumulate_attribute_names=['Miles','TravelTime'])\n",
    "    line_feat_list = []\n",
    "    for line_dict in result['routes']['features']:\n",
    "        f1 = Feature(line_dict['geometry'], line_dict['attributes'])\n",
    "        line_feat_list.append(f1)\n",
    "        \n",
    "    routes_fset = FeatureSet(line_feat_list, \n",
    "                         geometry_type=result['routes']['geometryType'],\n",
    "                         spatial_reference= result['routes']['spatialReference'])\n",
    "    df1 = routes_fset.sdf\n",
    "    \n",
    "    df1['facility_address'] = matched_facility_address\n",
    "    df1['originating_address'] = [originating_address_feature.attributes['Match_addr'] for i in range(len(all_facility_addresses))]\n",
    "    df1 = df1[['facility_address','originating_address','Total_Miles','Total_TravelTime']]\n",
    "    return df1\n"
   ]
  },
  {
   "cell_type": "code",
   "execution_count": 41,
   "id": "84588366",
   "metadata": {},
   "outputs": [],
   "source": [
    "def nearest_facility(originating_address, all_facility_addresses):\n",
    "    username = get_config(\"arcgis\",\"username\")\n",
    "    password = get_config(\"arcgis\",\"passkey\")\n",
    "    gis = GIS(\"https://ucsdonline.maps.arcgis.com/home\", username=username, password=password)\n",
    "    \n",
    "    analysis_url = gis.properties.helperServices.closestFacility.url\n",
    "    cf_layer = network.ClosestFacilityLayer(analysis_url, gis=gis)\n",
    "\n",
    "    facility_feat_list = []\n",
    "    matched_facility_address = []\n",
    "\n",
    "    for address in all_facility_addresses:\n",
    "        hit = geocode(address, max_locations=1)[0]\n",
    "        facility_feat = Feature(geometry=hit['location'], attributes=hit['attributes'])\n",
    "        matched_facility_address.append(facility_feat.attributes['Match_addr'])\n",
    "        facility_feat_list.append(facility_feat)\n",
    "\n",
    "    facility_fset = FeatureSet(features=facility_feat_list, \n",
    "                                geometry_type='esriGeometryPoint', \n",
    "                                spatial_reference={'latestWkid': 4326})\n",
    "        \n",
    "    # originating_address = '581 Moss St, 91911, Chula Vista, CA'\n",
    "    originating_matched_address = geocode(originating_address, max_locations=1)[0]\n",
    "        \n",
    "    originating_address_feature = Feature(geometry=originating_matched_address['location'], attributes=originating_matched_address['attributes'])\n",
    "    originating_address_fset = FeatureSet([originating_address_feature], geometry_type='esriGeometryPoint',\n",
    "                          spatial_reference={'latestWkid': 4326})\n",
    "    \n",
    "    result = cf_layer.solve_closest_facility(incidents=originating_address_fset,\n",
    "                                        facilities=facility_fset,\n",
    "                                        default_target_facility_count=len(all_facility_addresses),\n",
    "                                        return_facilities=True,\n",
    "                                        impedance_attribute_name='TravelTime',\n",
    "                                        accumulate_attribute_names=['Miles','TravelTime'])\n",
    "    line_feat_list = []\n",
    "    for line_dict in result['routes']['features']:\n",
    "        f1 = Feature(line_dict['geometry'], line_dict['attributes'])\n",
    "        line_feat_list.append(f1)\n",
    "        \n",
    "    routes_fset = FeatureSet(line_feat_list, \n",
    "                         geometry_type=result['routes']['geometryType'],\n",
    "                         spatial_reference= result['routes']['spatialReference'])\n",
    "    df1 = routes_fset.sdf\n",
    "    \n",
    "    df1['facility_address'] = matched_facility_address\n",
    "    df1['originating_address'] = [originating_address_feature.attributes['Match_addr'] for i in range(len(all_facility_addresses))]\n",
    "    df1 = df1[['facility_address','originating_address','Total_Miles','Total_TravelTime']]\n",
    "    \n",
    "    # select the row with the minimum Total_Miles\n",
    "    min_miles_index = df1['Total_Miles'].idxmin()\n",
    "    min_miles_row = df1.loc[min_miles_index]\n",
    "\n",
    "    return min_miles_row.to_json()\n"
   ]
  },
  {
   "cell_type": "code",
   "execution_count": 32,
   "id": "84baac89",
   "metadata": {},
   "outputs": [],
   "source": [
    "sba_addresses = ['550 West C St. suite 550, San Diego',\n",
    "                 '880 National City Blvd, San Diego',\n",
    "                 '530 B St. Suite 700, San Diego',\n",
    "                 '7675 Dagget St. Suite 340, San Diego',\n",
    "                 '1178 Caminito Alvarez, San Diego']"
   ]
  },
  {
   "cell_type": "code",
   "execution_count": 33,
   "id": "21db03bc",
   "metadata": {},
   "outputs": [],
   "source": [
    "originating_address = '581 Moss St, 91911, Chula Vista, CA'"
   ]
  },
  {
   "cell_type": "code",
   "execution_count": 42,
   "id": "21de87fa",
   "metadata": {},
   "outputs": [
    {
     "name": "stdout",
     "output_type": "stream",
     "text": [
      "{\"facility_address\":\"550 W C St, Ste 550, San Diego, California, 92101\",\"originating_address\":\"581 Moss St, Chula Vista, California, 91911\",\"Total_Miles\":5.3147842882,\"Total_TravelTime\":8.2612650342}\n"
     ]
    }
   ],
   "source": [
    "print(nearest_facility(originating_address,sba_addresses))"
   ]
  },
  {
   "cell_type": "code",
   "execution_count": null,
   "id": "e7e3e46a",
   "metadata": {},
   "outputs": [],
   "source": []
  }
 ],
 "metadata": {
  "kernelspec": {
   "display_name": "Python 3 (ipykernel)",
   "language": "python",
   "name": "python3"
  },
  "language_info": {
   "codemirror_mode": {
    "name": "ipython",
    "version": 3
   },
   "file_extension": ".py",
   "mimetype": "text/x-python",
   "name": "python",
   "nbconvert_exporter": "python",
   "pygments_lexer": "ipython3",
   "version": "3.9.16"
  }
 },
 "nbformat": 4,
 "nbformat_minor": 5
}
