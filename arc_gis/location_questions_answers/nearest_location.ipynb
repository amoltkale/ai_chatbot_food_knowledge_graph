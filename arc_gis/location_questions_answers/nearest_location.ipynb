{
 "cells": [
  {
   "cell_type": "markdown",
   "id": "3ff263a9",
   "metadata": {},
   "source": [
    "## Objective of this notebook is to test the arcgis.network module to give the nearest facility to a given address. "
   ]
  },
  {
   "cell_type": "code",
   "execution_count": 85,
   "id": "8a5982ba",
   "metadata": {},
   "outputs": [],
   "source": [
    "from arcgis.gis import GIS\n",
    "import arcgis.network as network\n",
    "from arcgis.geocoding import geocode, reverse_geocode\n",
    "from arcgis.features import Feature, FeatureSet, FeatureLayer\n",
    "from arcgis.geometry import SpatialReference, project\n",
    "\n",
    "\n",
    "import sys\n",
    "sys.path.append('../../')\n",
    "from utils import get_config\n",
    "\n",
    "from IPython.display import HTML\n"
   ]
  },
  {
   "cell_type": "code",
   "execution_count": 45,
   "id": "3440b6a5",
   "metadata": {},
   "outputs": [],
   "source": [
    "username = get_config(\"arcgis\",\"username\")\n",
    "password = get_config(\"arcgis\",\"passkey\")\n",
    "gis = GIS(\"https://ucsdonline.maps.arcgis.com/home\", username=username, password=password)\n"
   ]
  },
  {
   "cell_type": "code",
   "execution_count": 134,
   "id": "b6a01cdf",
   "metadata": {},
   "outputs": [],
   "source": [
    "def nearest_facility(originating_address, facilities_feat_lyr, gis, as_df=False, return_all_facilities=False):\n",
    "\n",
    "    # Pulling in the necessary modules for network analysis\n",
    "    analysis_url = gis.properties.helperServices.closestFacility.url\n",
    "    cf_layer = network.ClosestFacilityLayer(analysis_url, gis=gis)\n",
    "    \n",
    "    \n",
    "    # These would be for all the details for original address\n",
    "    facility_feat_list = []\n",
    "    matched_facility_address = []\n",
    "    contact_numbers = []\n",
    "\n",
    "    # Need to do this to convert SBA feature layer to 4326 for it to work\n",
    "    fset = facilities_feat_lyr.query()\n",
    "    all_geometries = [i['geometry'] for i in fset.to_dict()['features']]\n",
    "    all_attributes = [i['attributes'] for i in fset.to_dict()['features']]\n",
    "    all_geometries_sr4326 = project(all_geometries ,in_sr={'latestWkid': 3857}, out_sr={'latestWkid': 4326})\n",
    "\n",
    "    # creating facilities feature set\n",
    "    for i in range(len(all_geometries_sr4326)):\n",
    "        facility_feat = Feature(geometry=all_geometries_sr4326[i],attributes=all_attributes[i])\n",
    "        matched_facility_address.append(facility_feat.attributes['Match_addr'])\n",
    "        contact_numbers.append(facility_feat.attributes['cont_nmbr'])\n",
    "        facility_feat_list.append(facility_feat)\n",
    "\n",
    "\n",
    "    facility_fset = FeatureSet(features=facility_feat_list, \n",
    "                                geometry_type='esriGeometryPoint', \n",
    "                                spatial_reference={'latestWkid': 4326})\n",
    "    count_of_facilities = len(facility_fset)\n",
    "        \n",
    "    # working on geocoding and cretaing origininating address feature\n",
    "    # originating_address = '581 Moss St, 91911, Chula Vista, CA'\n",
    "    originating_matched_address = geocode(originating_address, max_locations=1)[0]\n",
    "        \n",
    "    originating_address_feature = Feature(geometry=originating_matched_address['location'], attributes=originating_matched_address['attributes'])\n",
    "    originating_address_fset = FeatureSet([originating_address_feature], geometry_type='esriGeometryPoint',\n",
    "                          spatial_reference={'latestWkid': 4326})\n",
    "    \n",
    "    ## solving nearest facility\n",
    "    result = cf_layer.solve_closest_facility(incidents=originating_address_fset,\n",
    "                                        facilities=facility_fset,\n",
    "                                        default_target_facility_count=count_of_facilities,\n",
    "                                        return_facilities=True,\n",
    "                                        impedance_attribute_name='TravelTime',\n",
    "                                        accumulate_attribute_names=['Miles','TravelTime'])\n",
    "    line_feat_list = []\n",
    "    for line_dict in result['routes']['features']:\n",
    "        f1 = Feature(line_dict['geometry'], line_dict['attributes'])\n",
    "        line_feat_list.append(f1)\n",
    "        \n",
    "    routes_fset = FeatureSet(line_feat_list, \n",
    "                         geometry_type=result['routes']['geometryType'],\n",
    "                         spatial_reference= result['routes']['spatialReference'])\n",
    "    df1 = routes_fset.sdf\n",
    "    \n",
    "    df1['facility_address'] = matched_facility_address\n",
    "    df1['originating_address'] = [originating_address_feature.attributes['Match_addr'] for i in range(count_of_facilities)]\n",
    "    df1['contact_number'] = contact_numbers\n",
    "    df1 = df1[['facility_address','originating_address','contact_number','Total_Miles','Total_TravelTime']]\n",
    "    \n",
    "    if return_all_facilities:\n",
    "        if as_df:\n",
    "            return df1\n",
    "        else:\n",
    "            raise ValueError('as_df should be True if return_all_facilities is True')\n",
    "\n",
    "            \n",
    "    # picking the minimum distance from user location\n",
    "    # select the row with the minimum Total_Miles\n",
    "    min_miles_index = df1['Total_Miles'].idxmin()\n",
    "    min_miles_row = df1.loc[min_miles_index]\n",
    "    \n",
    "    return min_miles_row.to_json()\n"
   ]
  },
  {
   "cell_type": "code",
   "execution_count": 33,
   "id": "21db03bc",
   "metadata": {},
   "outputs": [],
   "source": [
    "originating_address = '581 Moss St, 91911, Chula Vista, CA'"
   ]
  },
  {
   "cell_type": "code",
   "execution_count": 112,
   "id": "bc68c120",
   "metadata": {},
   "outputs": [],
   "source": [
    "#nearest_facility(originating_address,sba_addresses, gis, return_all_facilities=False, as_df=True)"
   ]
  },
  {
   "cell_type": "code",
   "execution_count": 113,
   "id": "d8f953e7",
   "metadata": {},
   "outputs": [
    {
     "data": {
      "text/plain": [
       "<FeatureLayer url:\"https://services1.arcgis.com/eGSDp8lpKe5izqVc/arcgis/rest/services/a8d231/FeatureServer/0\">"
      ]
     },
     "execution_count": 113,
     "metadata": {},
     "output_type": "execute_result"
    }
   ],
   "source": [
    "sba_feat_layer = FeatureLayer(gis= gis, url = \"https://services1.arcgis.com/eGSDp8lpKe5izqVc/arcgis/rest/services/a8d231/FeatureServer/0\")\n",
    "sba_feat_layer"
   ]
  },
  {
   "cell_type": "code",
   "execution_count": 135,
   "id": "81d60c25",
   "metadata": {},
   "outputs": [
    {
     "data": {
      "text/html": [
       "<div>\n",
       "<style scoped>\n",
       "    .dataframe tbody tr th:only-of-type {\n",
       "        vertical-align: middle;\n",
       "    }\n",
       "\n",
       "    .dataframe tbody tr th {\n",
       "        vertical-align: top;\n",
       "    }\n",
       "\n",
       "    .dataframe thead th {\n",
       "        text-align: right;\n",
       "    }\n",
       "</style>\n",
       "<table border=\"1\" class=\"dataframe\">\n",
       "  <thead>\n",
       "    <tr style=\"text-align: right;\">\n",
       "      <th></th>\n",
       "      <th>facility_address</th>\n",
       "      <th>originating_address</th>\n",
       "      <th>contact_number</th>\n",
       "      <th>Total_Miles</th>\n",
       "      <th>Total_TravelTime</th>\n",
       "    </tr>\n",
       "  </thead>\n",
       "  <tbody>\n",
       "    <tr>\n",
       "      <th>0</th>\n",
       "      <td>880 National City Blvd, National City, Califor...</td>\n",
       "      <td>581 Moss St, Chula Vista, California, 91911</td>\n",
       "      <td>619-482-6388</td>\n",
       "      <td>5.314784</td>\n",
       "      <td>8.261265</td>\n",
       "    </tr>\n",
       "    <tr>\n",
       "      <th>1</th>\n",
       "      <td>880 National City Blvd, National City, Califor...</td>\n",
       "      <td>581 Moss St, Chula Vista, California, 91911</td>\n",
       "      <td>619-482-6391</td>\n",
       "      <td>5.314784</td>\n",
       "      <td>8.261265</td>\n",
       "    </tr>\n",
       "    <tr>\n",
       "      <th>2</th>\n",
       "      <td>530 B St, Ste 700, San Diego, California, 92101</td>\n",
       "      <td>581 Moss St, Chula Vista, California, 91911</td>\n",
       "      <td></td>\n",
       "      <td>5.314784</td>\n",
       "      <td>8.261265</td>\n",
       "    </tr>\n",
       "    <tr>\n",
       "      <th>3</th>\n",
       "      <td>5998 Alcala Park, San Diego, California, 92110</td>\n",
       "      <td>581 Moss St, Chula Vista, California, 91911</td>\n",
       "      <td>619-260-4547</td>\n",
       "      <td>5.314784</td>\n",
       "      <td>8.261265</td>\n",
       "    </tr>\n",
       "    <tr>\n",
       "      <th>4</th>\n",
       "      <td>7675 Dagget St, Ste 340, San Diego, California...</td>\n",
       "      <td>581 Moss St, Chula Vista, California, 91911</td>\n",
       "      <td>858-277-2822</td>\n",
       "      <td>10.671084</td>\n",
       "      <td>14.705206</td>\n",
       "    </tr>\n",
       "    <tr>\n",
       "      <th>5</th>\n",
       "      <td>127 E Lexington Ave, El Cajon, California, 92020</td>\n",
       "      <td>581 Moss St, Chula Vista, California, 91911</td>\n",
       "      <td>619-258-3670</td>\n",
       "      <td>11.376841</td>\n",
       "      <td>17.669297</td>\n",
       "    </tr>\n",
       "    <tr>\n",
       "      <th>6</th>\n",
       "      <td>9605 Scranton Rd, Ste 110, San Diego, Californ...</td>\n",
       "      <td>581 Moss St, Chula Vista, California, 91911</td>\n",
       "      <td>858-964-1300</td>\n",
       "      <td>15.552446</td>\n",
       "      <td>19.526123</td>\n",
       "    </tr>\n",
       "    <tr>\n",
       "      <th>7</th>\n",
       "      <td>880 National City Blvd, National City, Califor...</td>\n",
       "      <td>581 Moss St, Chula Vista, California, 91911</td>\n",
       "      <td>619-482-6388</td>\n",
       "      <td>16.738909</td>\n",
       "      <td>19.635598</td>\n",
       "    </tr>\n",
       "    <tr>\n",
       "      <th>8</th>\n",
       "      <td>880 National City Blvd, National City, Califor...</td>\n",
       "      <td>581 Moss St, Chula Vista, California, 91911</td>\n",
       "      <td>619-482-6391</td>\n",
       "      <td>18.400493</td>\n",
       "      <td>21.958246</td>\n",
       "    </tr>\n",
       "    <tr>\n",
       "      <th>9</th>\n",
       "      <td>550 W C St, Ste 550, San Diego, California, 92101</td>\n",
       "      <td>581 Moss St, Chula Vista, California, 91911</td>\n",
       "      <td>619-557-7250</td>\n",
       "      <td>22.271443</td>\n",
       "      <td>24.845808</td>\n",
       "    </tr>\n",
       "  </tbody>\n",
       "</table>\n",
       "</div>"
      ],
      "text/plain": [
       "                                    facility_address  \\\n",
       "0  880 National City Blvd, National City, Califor...   \n",
       "1  880 National City Blvd, National City, Califor...   \n",
       "2    530 B St, Ste 700, San Diego, California, 92101   \n",
       "3     5998 Alcala Park, San Diego, California, 92110   \n",
       "4  7675 Dagget St, Ste 340, San Diego, California...   \n",
       "5   127 E Lexington Ave, El Cajon, California, 92020   \n",
       "6  9605 Scranton Rd, Ste 110, San Diego, Californ...   \n",
       "7  880 National City Blvd, National City, Califor...   \n",
       "8  880 National City Blvd, National City, Califor...   \n",
       "9  550 W C St, Ste 550, San Diego, California, 92101   \n",
       "\n",
       "                           originating_address contact_number  Total_Miles  \\\n",
       "0  581 Moss St, Chula Vista, California, 91911   619-482-6388     5.314784   \n",
       "1  581 Moss St, Chula Vista, California, 91911   619-482-6391     5.314784   \n",
       "2  581 Moss St, Chula Vista, California, 91911                    5.314784   \n",
       "3  581 Moss St, Chula Vista, California, 91911   619-260-4547     5.314784   \n",
       "4  581 Moss St, Chula Vista, California, 91911   858-277-2822    10.671084   \n",
       "5  581 Moss St, Chula Vista, California, 91911   619-258-3670    11.376841   \n",
       "6  581 Moss St, Chula Vista, California, 91911   858-964-1300    15.552446   \n",
       "7  581 Moss St, Chula Vista, California, 91911   619-482-6388    16.738909   \n",
       "8  581 Moss St, Chula Vista, California, 91911   619-482-6391    18.400493   \n",
       "9  581 Moss St, Chula Vista, California, 91911   619-557-7250    22.271443   \n",
       "\n",
       "   Total_TravelTime  \n",
       "0          8.261265  \n",
       "1          8.261265  \n",
       "2          8.261265  \n",
       "3          8.261265  \n",
       "4         14.705206  \n",
       "5         17.669297  \n",
       "6         19.526123  \n",
       "7         19.635598  \n",
       "8         21.958246  \n",
       "9         24.845808  "
      ]
     },
     "execution_count": 135,
     "metadata": {},
     "output_type": "execute_result"
    }
   ],
   "source": [
    "nearest_facility(originating_address, facilities_feat_lyr=sba_feat_layer, gis =gis, as_df=True, return_all_facilities=True)"
   ]
  },
  {
   "cell_type": "code",
   "execution_count": 136,
   "id": "5ccbf7b9",
   "metadata": {},
   "outputs": [
    {
     "data": {
      "text/plain": [
       "'{\"facility_address\":\"880 National City Blvd, National City, California, 91950\",\"originating_address\":\"581 Moss St, Chula Vista, California, 91911\",\"contact_number\":\"619-482-6388\",\"Total_Miles\":5.3147842882,\"Total_TravelTime\":8.2612650342}'"
      ]
     },
     "execution_count": 136,
     "metadata": {},
     "output_type": "execute_result"
    }
   ],
   "source": [
    "nearest_facility(originating_address, facilities_feat_lyr=sba_feat_layer, gis =gis, as_df=False, return_all_facilities=False)\n"
   ]
  },
  {
   "cell_type": "code",
   "execution_count": null,
   "id": "2769c4de",
   "metadata": {},
   "outputs": [],
   "source": []
  }
 ],
 "metadata": {
  "kernelspec": {
   "display_name": "Python 3 (ipykernel)",
   "language": "python",
   "name": "python3"
  },
  "language_info": {
   "codemirror_mode": {
    "name": "ipython",
    "version": 3
   },
   "file_extension": ".py",
   "mimetype": "text/x-python",
   "name": "python",
   "nbconvert_exporter": "python",
   "pygments_lexer": "ipython3",
   "version": "3.9.16"
  }
 },
 "nbformat": 4,
 "nbformat_minor": 5
}
