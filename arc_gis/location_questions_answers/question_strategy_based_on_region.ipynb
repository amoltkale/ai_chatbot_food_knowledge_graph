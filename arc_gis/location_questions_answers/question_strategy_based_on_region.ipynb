{
 "cells": [
  {
   "cell_type": "markdown",
   "id": "cd308b12",
   "metadata": {},
   "source": [
    "## Prompt and actions on Questions\n"
   ]
  },
  {
   "cell_type": "markdown",
   "id": "7be1f7d3",
   "metadata": {},
   "source": [
    "* Look at `registrants` Table in postgres\n",
    "* Fetch the region/neignourhood in the query.\n",
    "* Get all the block groups under the neigbourhood using neigbbourhood-block group mapping file created using overlay layer between them.\n",
    "* Create bounding box extent with the region as centre of San Diego County.\n",
    "* Highlight the block groups relevant for our region.\n",
    "* Classify the block groups according to a score or rank created using combination of variables."
   ]
  },
  {
   "cell_type": "code",
   "execution_count": 1,
   "id": "2594c999",
   "metadata": {},
   "outputs": [],
   "source": [
    "import arcgis\n",
    "from arcgis.gis import GIS\n",
    "from arcgis.features import FeatureLayer, FeatureLayerCollection, GeoAccessor\n",
    "from arcgis.geocoding import geocode\n",
    "from arcgis.geometry import buffer, Point\n",
    "\n",
    "import pandas as pd\n",
    "\n",
    "import sys\n",
    "sys.path.append('../../')\n",
    "from utils import get_config"
   ]
  },
  {
   "cell_type": "code",
   "execution_count": 2,
   "id": "0132d5f3",
   "metadata": {},
   "outputs": [
    {
     "name": "stdout",
     "output_type": "stream",
     "text": [
      "<configparser.ConfigParser object at 0x112180a60>\n",
      "<configparser.ConfigParser object at 0x112180700>\n"
     ]
    }
   ],
   "source": [
    "username = get_config(\"arcgis\",\"username\")\n",
    "password = get_config(\"arcgis\",\"passkey\")\n",
    "gis = GIS(\"https://ucsdonline.maps.arcgis.com/home\", username=username, password=password)"
   ]
  },
  {
   "cell_type": "markdown",
   "id": "c418d1a3",
   "metadata": {},
   "source": [
    "### Check if the user belongs to a Food desert"
   ]
  },
  {
   "cell_type": "markdown",
   "id": "d64187c6",
   "metadata": {},
   "source": [
    "#### Check meal_gap or CalFresh data to check Food insecurity rate for some radius of area\n",
    "* Map the meal gap data is at County level, not sure if it is really helpful for us.\n",
    "* CalFresh Data might need to be standardized, but it is on zip level."
   ]
  },
  {
   "cell_type": "markdown",
   "id": "373d7ed6",
   "metadata": {},
   "source": [
    "##### Can we get list of block groups given a region. For now we will consider planned community areas."
   ]
  },
  {
   "cell_type": "code",
   "execution_count": 3,
   "id": "3c42a5ed",
   "metadata": {},
   "outputs": [],
   "source": [
    "## Get the relevant block groups\n",
    "region_of_interest = 'RANCHO PENASQUITOS'\n",
    "# region_of_interest = 'MIRA MESA'\n",
    "region_of_interest = region_of_interest.lower()\n",
    "cpa_bg_map = pd.read_csv(\"../resources/san_diego_county_cpa_blk_grp_map.csv\", dtype ='str')\n",
    "mask = cpa_bg_map['CPANAME']==region_of_interest\n",
    "block_groups_in_region = cpa_bg_map[mask]\n",
    "block_groups_in_region_list = block_groups_in_region['fips'].tolist()"
   ]
  },
  {
   "cell_type": "code",
   "execution_count": 4,
   "id": "9f122118",
   "metadata": {},
   "outputs": [
    {
     "data": {
      "text/plain": [
       "['060730083361',\n",
       " '060730083362',\n",
       " '060730083371',\n",
       " '060730083372',\n",
       " '060730083373',\n",
       " '060730083651',\n",
       " '060730083652',\n",
       " '060730083661',\n",
       " '060730083662',\n",
       " '060730083663']"
      ]
     },
     "execution_count": 4,
     "metadata": {},
     "output_type": "execute_result"
    }
   ],
   "source": [
    "block_groups_in_region_list[:10]"
   ]
  },
  {
   "cell_type": "markdown",
   "id": "7a69bf1e",
   "metadata": {},
   "source": [
    "#### Picking some random variable from demographics for Map rending POC"
   ]
  },
  {
   "cell_type": "code",
   "execution_count": 5,
   "id": "bb676e37",
   "metadata": {},
   "outputs": [],
   "source": [
    "# Query the block group for respective variables and feature layer.\n",
    "variables = \"demographics\"\n",
    "if variables==\"demographics\":\n",
    "    url = \"https://services1.arcgis.com/eGSDp8lpKe5izqVc/arcgis/rest/services/aff1b6/FeatureServer/0\"\n",
    "ft_lyr = FeatureLayer(gis=gis,\n",
    "                       url=url)\n",
    "\n",
    "# Picking up sample variables for just poc on rendering maps as per our need.\n",
    "out_fields = [\"fips\", \"occeduc_cy\",\"pif60_cy\",\"OCCFOOD_CY\"]  "
   ]
  },
  {
   "cell_type": "markdown",
   "id": "24a02371",
   "metadata": {},
   "source": [
    "#### Feature layer Query to get the features fro identified block groups."
   ]
  },
  {
   "cell_type": "code",
   "execution_count": 6,
   "id": "8c7566a3",
   "metadata": {},
   "outputs": [
    {
     "data": {
      "text/html": [
       "<div>\n",
       "<style scoped>\n",
       "    .dataframe tbody tr th:only-of-type {\n",
       "        vertical-align: middle;\n",
       "    }\n",
       "\n",
       "    .dataframe tbody tr th {\n",
       "        vertical-align: top;\n",
       "    }\n",
       "\n",
       "    .dataframe thead th {\n",
       "        text-align: right;\n",
       "    }\n",
       "</style>\n",
       "<table border=\"1\" class=\"dataframe\">\n",
       "  <thead>\n",
       "    <tr style=\"text-align: right;\">\n",
       "      <th></th>\n",
       "      <th>FID</th>\n",
       "      <th>fips</th>\n",
       "      <th>occeduc_cy</th>\n",
       "      <th>pif60_cy</th>\n",
       "      <th>occfood_cy</th>\n",
       "      <th>SHAPE</th>\n",
       "    </tr>\n",
       "  </thead>\n",
       "  <tbody>\n",
       "    <tr>\n",
       "      <th>0</th>\n",
       "      <td>508</td>\n",
       "      <td>060730170181</td>\n",
       "      <td>41.0</td>\n",
       "      <td>2.0</td>\n",
       "      <td>82.0</td>\n",
       "      <td>{\"rings\": [[[-13035625.351, 3890389.58830002],...</td>\n",
       "    </tr>\n",
       "    <tr>\n",
       "      <th>1</th>\n",
       "      <td>509</td>\n",
       "      <td>060730170182</td>\n",
       "      <td>28.0</td>\n",
       "      <td>0.0</td>\n",
       "      <td>77.0</td>\n",
       "      <td>{\"rings\": [[[-13035887.7309999, 3888939.776800...</td>\n",
       "    </tr>\n",
       "  </tbody>\n",
       "</table>\n",
       "</div>"
      ],
      "text/plain": [
       "   FID          fips  occeduc_cy  pif60_cy  occfood_cy  \\\n",
       "0  508  060730170181        41.0       2.0        82.0   \n",
       "1  509  060730170182        28.0       0.0        77.0   \n",
       "\n",
       "                                               SHAPE  \n",
       "0  {\"rings\": [[[-13035625.351, 3890389.58830002],...  \n",
       "1  {\"rings\": [[[-13035887.7309999, 3888939.776800...  "
      ]
     },
     "execution_count": 6,
     "metadata": {},
     "output_type": "execute_result"
    }
   ],
   "source": [
    "where = \"fips IN (\" + \",\".join(block_groups_in_region_list) + \")\"\n",
    "#print(where)\n",
    "result_rows = ft_lyr.query(\n",
    "    where=where,\n",
    "    out_fields=out_fields,\n",
    "    return_geometry=True,\n",
    "    as_df=True,\n",
    ")\n",
    "result_rows.head(2)"
   ]
  },
  {
   "cell_type": "markdown",
   "id": "30f1d459",
   "metadata": {},
   "source": [
    "#### Creating a bounding box"
   ]
  },
  {
   "cell_type": "code",
   "execution_count": 7,
   "id": "fce8950d",
   "metadata": {},
   "outputs": [
    {
     "name": "stdout",
     "output_type": "stream",
     "text": [
      "Map Centre: rancho penasquitos, San Diego County\n"
     ]
    },
    {
     "data": {
      "application/vnd.jupyter.widget-view+json": {
       "model_id": "bf337bbcb5c841669a14d1a4ce0baa86",
       "version_major": 2,
       "version_minor": 0
      },
      "text/plain": [
       "MapView(layout=Layout(height='400px', width='100%'))"
      ]
     },
     "metadata": {},
     "output_type": "display_data"
    },
    {
     "data": {
      "text/html": [
       "<div class=\"map-static-img-preview-4798d276-de10-4084-9d12-d06dfe204d72\"><img src=\"\"></img></div>"
      ],
      "text/plain": [
       "<IPython.core.display.HTML object>"
      ]
     },
     "metadata": {},
     "output_type": "display_data"
    },
    {
     "data": {
      "text/html": [
       "<div class=\"map-html-embed-preview-4798d276-de10-4084-9d12-d06dfe204d72\"></div>"
      ],
      "text/plain": [
       "<IPython.core.display.HTML object>"
      ]
     },
     "metadata": {},
     "output_type": "display_data"
    }
   ],
   "source": [
    "map_centre = region_of_interest+\", San Diego County\"\n",
    "print(f\"Map Centre: {map_centre}\")\n",
    "m1 = gis.map(map_centre, zoomlevel=12)\n",
    "m1"
   ]
  },
  {
   "cell_type": "markdown",
   "id": "099e8a7f",
   "metadata": {},
   "source": [
    "#### Identify the relevant block groups"
   ]
  },
  {
   "cell_type": "code",
   "execution_count": 8,
   "id": "939fd8e4",
   "metadata": {},
   "outputs": [
    {
     "name": "stdout",
     "output_type": "stream",
     "text": [
      "Map Centre: rancho penasquitos, San Diego County\n"
     ]
    },
    {
     "data": {
      "application/vnd.jupyter.widget-view+json": {
       "model_id": "5a9f5230f5f3477fa84169c8a44aafdc",
       "version_major": 2,
       "version_minor": 0
      },
      "text/plain": [
       "MapView(layout=Layout(height='400px', width='100%'))"
      ]
     },
     "metadata": {},
     "output_type": "display_data"
    },
    {
     "data": {
      "text/html": [
       "<div class=\"map-static-img-preview-0dc1910c-8e73-478e-ae37-2f6f9591deb4\"><img src=\"\"></img></div>"
      ],
      "text/plain": [
       "<IPython.core.display.HTML object>"
      ]
     },
     "metadata": {},
     "output_type": "display_data"
    },
    {
     "data": {
      "text/html": [
       "<div class=\"map-html-embed-preview-0dc1910c-8e73-478e-ae37-2f6f9591deb4\"></div>"
      ],
      "text/plain": [
       "<IPython.core.display.HTML object>"
      ]
     },
     "metadata": {},
     "output_type": "display_data"
    }
   ],
   "source": [
    "map_centre = region_of_interest+\", San Diego County\"\n",
    "print(f\"Map Centre: {map_centre}\")\n",
    "m2 = gis.map(map_centre, zoomlevel=12)\n",
    "result_rows.spatial.plot(renderer_type='c',                          \n",
    "                         map_widget= m2,)\n",
    "m2"
   ]
  },
  {
   "cell_type": "markdown",
   "id": "2f2cea50",
   "metadata": {},
   "source": [
    "#### Classify the Block Groups"
   ]
  },
  {
   "cell_type": "code",
   "execution_count": 9,
   "id": "29647d8d",
   "metadata": {},
   "outputs": [
    {
     "name": "stdout",
     "output_type": "stream",
     "text": [
      "Map Centre: rancho penasquitos, San Diego County\n"
     ]
    },
    {
     "data": {
      "application/vnd.jupyter.widget-view+json": {
       "model_id": "bb3f2d0ad5c34b4083b2fe8bed37a3c6",
       "version_major": 2,
       "version_minor": 0
      },
      "text/plain": [
       "MapView(layout=Layout(height='400px', width='100%'))"
      ]
     },
     "metadata": {},
     "output_type": "display_data"
    },
    {
     "data": {
      "text/html": [
       "<div class=\"map-static-img-preview-c60fc4fe-74c1-49ef-a77b-4a4a7bbaced6\"><img src=\"\"></img></div>"
      ],
      "text/plain": [
       "<IPython.core.display.HTML object>"
      ]
     },
     "metadata": {},
     "output_type": "display_data"
    },
    {
     "data": {
      "text/html": [
       "<div class=\"map-html-embed-preview-c60fc4fe-74c1-49ef-a77b-4a4a7bbaced6\"></div>"
      ],
      "text/plain": [
       "<IPython.core.display.HTML object>"
      ]
     },
     "metadata": {},
     "output_type": "display_data"
    }
   ],
   "source": [
    "map_centre = region_of_interest+\", San Diego County\"\n",
    "print(f\"Map Centre: {map_centre}\")\n",
    "m3 = gis.map(map_centre, zoomlevel=12)\n",
    "result_rows.spatial.plot(renderer_type='c',\n",
    "                         method='esriClassifyNaturalBreaks',\n",
    "                         class_count=10,  # choose the number of classes\n",
    "                         col='occeduc_cy',\n",
    "                         cmap='hot',  # color map to pick colors from for each class\n",
    "                         alpha=0.7 ,\n",
    "                          \n",
    "                         map_widget= m3,)\n",
    "m3"
   ]
  },
  {
   "cell_type": "code",
   "execution_count": null,
   "id": "665ab645",
   "metadata": {},
   "outputs": [],
   "source": []
  }
 ],
 "metadata": {
  "kernelspec": {
   "display_name": "Python 3 (ipykernel)",
   "language": "python",
   "name": "python3"
  },
  "language_info": {
   "codemirror_mode": {
    "name": "ipython",
    "version": 3
   },
   "file_extension": ".py",
   "mimetype": "text/x-python",
   "name": "python",
   "nbconvert_exporter": "python",
   "pygments_lexer": "ipython3",
   "version": "3.9.16"
  }
 },
 "nbformat": 4,
 "nbformat_minor": 5
}
