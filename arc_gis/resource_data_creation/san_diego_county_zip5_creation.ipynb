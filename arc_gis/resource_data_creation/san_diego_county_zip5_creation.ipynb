{
 "cells": [
  {
   "cell_type": "markdown",
   "id": "040154da-e36e-41d1-9a2b-2534eb942f16",
   "metadata": {},
   "source": [
    "Let us pick the San Diego County Zips and store it for our further use."
   ]
  },
  {
   "cell_type": "code",
   "execution_count": 1,
   "id": "f8e47036-3608-4106-8001-023535d54511",
   "metadata": {},
   "outputs": [],
   "source": [
    "import arcgis\n",
    "from arcgis.gis import GIS\n",
    "from arcgis import geometry\n",
    "from arcgis.features import GeoAccessor, GeoSeriesAccessor\n",
    "from arcgis.geoenrichment import *\n",
    "import pandas as pd\n",
    "import pickle"
   ]
  },
  {
   "cell_type": "code",
   "execution_count": 3,
   "id": "a1f781b5-6df1-47fd-8935-b8725435e977",
   "metadata": {},
   "outputs": [],
   "source": [
    "# #gis = GIS(username='izaslavsky_ucsd')  # this will ask for password. \n",
    "# print(\"Enter the Client ID/APP ID generated from Arc GIS:\")\n",
    "# app_id = input()\n",
    "# gis = GIS(\"https://ucsdonline.maps.arcgis.com/home\", client_id=app_id)\n",
    "# arcgis.__version__\n",
    "# # Elm5V3upnnV17Q3r"
   ]
  },
  {
   "cell_type": "code",
   "execution_count": null,
   "id": "2a3caf00-3d2d-4227-891b-95dea58a58aa",
   "metadata": {},
   "outputs": [],
   "source": [
    "usa = Country.get('US')"
   ]
  },
  {
   "cell_type": "code",
   "execution_count": null,
   "id": "0af34136-a7a5-4f41-804c-91763917aee8",
   "metadata": {},
   "outputs": [],
   "source": [
    "zips = usa.subgeographies.states['California'].counties['San_Diego_County'].zip5"
   ]
  },
  {
   "cell_type": "code",
   "execution_count": null,
   "id": "d07cac84-b446-454e-a020-e09eb60d37be",
   "metadata": {},
   "outputs": [],
   "source": [
    "sd_zip_list = list(zips.keys())"
   ]
  },
  {
   "cell_type": "code",
   "execution_count": null,
   "id": "1f1a45fd-7861-4747-940c-1d5068120de8",
   "metadata": {},
   "outputs": [],
   "source": [
    "with open(\"../resources/san_diego_county_zips\", \"wb\") as fp:   #Pickling\n",
    "    pickle.dump(sd_zip_list, fp)"
   ]
  },
  {
   "cell_type": "code",
   "execution_count": null,
   "id": "63ca9031-8bf1-4eb4-8034-92f0a9bf8b6d",
   "metadata": {},
   "outputs": [],
   "source": [
    "with open(\"../resources/san_diego_county_zips\", \"rb\") as fp:   # Unpickling\n",
    "    read_list = pickle.load(fp)\n",
    "read_list[:10]"
   ]
  },
  {
   "cell_type": "code",
   "execution_count": null,
   "id": "7557462d-7ffa-4e1b-9b0c-78a4bf6830ee",
   "metadata": {},
   "outputs": [],
   "source": []
  },
  {
   "cell_type": "code",
   "execution_count": null,
   "id": "1519ef51-332e-447e-ac24-b99f89d4b6ca",
   "metadata": {},
   "outputs": [],
   "source": []
  }
 ],
 "metadata": {
  "kernelspec": {
   "display_name": "Python 3 (ipykernel)",
   "language": "python",
   "name": "python3"
  },
  "language_info": {
   "codemirror_mode": {
    "name": "ipython",
    "version": 3
   },
   "file_extension": ".py",
   "mimetype": "text/x-python",
   "name": "python",
   "nbconvert_exporter": "python",
   "pygments_lexer": "ipython3",
   "version": "3.9.16"
  }
 },
 "nbformat": 4,
 "nbformat_minor": 5
}
