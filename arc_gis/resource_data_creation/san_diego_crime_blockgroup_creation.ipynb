{
 "cells": [
  {
   "cell_type": "markdown",
   "id": "e697a221-530e-4b13-946e-ccd10b3a93ea",
   "metadata": {},
   "source": [
    "### Motivation\n",
    "* This notebook is for exploring USA Census block group boundaries from a 2020 Census\n",
    "We will try to see if we can use the existing feature layer created from Esri :  \n",
    "Feature Layer: https://services.arcgis.com/P3ePLMYs2RVChkJx/arcgis/rest/services/USA_Census_BlockGroups/FeatureServer  \n",
    "Feature Layer Details: https://esri.maps.arcgis.com/home/item.html?id=2f5e592494d243b0aa5c253e75e792a4\n",
    "* Using this layer, we would pick San Diego County FIPS data  \n",
    "* Enrich the Dataframe with consumer spending and other variables"
   ]
  },
  {
   "cell_type": "code",
   "execution_count": 6,
   "id": "38fb7b3b-3d70-49d6-8527-6bf543655062",
   "metadata": {},
   "outputs": [],
   "source": [
    "from arcgis.gis import GIS\n",
    "from arcgis.features import FeatureLayerCollection, FeatureLayer\n",
    "from arcgis.geoenrichment import enrich, Country\n",
    "#from feature_layer_utils import get_enrichment_variables\n",
    "import itertools\n",
    "import sys\n",
    "sys.path.append('../../')\n",
    "from utils import get_config"
   ]
  },
  {
   "cell_type": "code",
   "execution_count": 7,
   "id": "846cf77a-e2e8-409c-be0c-99784f0d5b90",
   "metadata": {},
   "outputs": [],
   "source": [
    "username = get_config(\"arcgis\",\"username\")\n",
    "password = get_config(\"arcgis\",\"passkey\")\n",
    "gis = GIS(\"https://ucsdonline.maps.arcgis.com/home\", username=username, password=password)"
   ]
  },
  {
   "cell_type": "markdown",
   "id": "13ede984-035a-4b03-8566-bf6084412b68",
   "metadata": {},
   "source": [
    "#### Selecting only San Diego County block groups from US block groups"
   ]
  },
  {
   "cell_type": "code",
   "execution_count": 8,
   "id": "6feee856-309e-4cbd-bd92-1596be70ad30",
   "metadata": {},
   "outputs": [],
   "source": [
    "fls = \"https://services.arcgis.com/P3ePLMYs2RVChkJx/arcgis/rest/services/USA_Census_BlockGroups/FeatureServer\""
   ]
  },
  {
   "cell_type": "code",
   "execution_count": 9,
   "id": "2401b5ba-ca5a-4d24-886a-82439ee98b02",
   "metadata": {},
   "outputs": [],
   "source": [
    "flc = FeatureLayerCollection(fls)"
   ]
  },
  {
   "cell_type": "code",
   "execution_count": 10,
   "id": "f0169edd-1ae3-4716-801d-5abfc0abbc83",
   "metadata": {},
   "outputs": [],
   "source": [
    "fl_url = flc.layers[0].url"
   ]
  },
  {
   "cell_type": "code",
   "execution_count": 11,
   "id": "7018177b-ac3f-4528-87a9-f263e03cfc87",
   "metadata": {},
   "outputs": [],
   "source": [
    "us_block_grp_fl = FeatureLayer(fl_url)"
   ]
  },
  {
   "cell_type": "markdown",
   "id": "dcfd48c2-e870-4506-a958-33e5592c59b1",
   "metadata": {},
   "source": [
    "Selecting FIPS='073' which is for San Diego County as our data"
   ]
  },
  {
   "cell_type": "code",
   "execution_count": 12,
   "id": "cdc59246-f0cd-478e-9886-78f3905c81b7",
   "metadata": {},
   "outputs": [],
   "source": [
    "san_diego_county_fip = '073'\n",
    "imperial_county_fip = '025'"
   ]
  },
  {
   "cell_type": "code",
   "execution_count": 13,
   "id": "a7ef1467-4a6c-4b36-b2d4-257ae2b4d351",
   "metadata": {},
   "outputs": [],
   "source": [
    "san_diego_county_block_grp_fs = us_block_grp_fl.query(where=f\"STATE_FIPS='06' AND COUNTY_FIPS='{san_diego_county_fip}'\")"
   ]
  },
  {
   "cell_type": "code",
   "execution_count": 14,
   "id": "b98383eb-d805-4a42-93c3-85dbfa255d2a",
   "metadata": {},
   "outputs": [
    {
     "name": "stdout",
     "output_type": "stream",
     "text": [
      "Shape: (2057, 14)\n"
     ]
    },
    {
     "data": {
      "text/html": [
       "<div>\n",
       "<style scoped>\n",
       "    .dataframe tbody tr th:only-of-type {\n",
       "        vertical-align: middle;\n",
       "    }\n",
       "\n",
       "    .dataframe tbody tr th {\n",
       "        vertical-align: top;\n",
       "    }\n",
       "\n",
       "    .dataframe thead th {\n",
       "        text-align: right;\n",
       "    }\n",
       "</style>\n",
       "<table border=\"1\" class=\"dataframe\">\n",
       "  <thead>\n",
       "    <tr style=\"text-align: right;\">\n",
       "      <th></th>\n",
       "      <th>OBJECTID</th>\n",
       "      <th>STATE_ABBR</th>\n",
       "      <th>STATE_FIPS</th>\n",
       "      <th>COUNTY_FIPS</th>\n",
       "      <th>STCOFIPS</th>\n",
       "      <th>TRACT_FIPS</th>\n",
       "      <th>BLOCKGROUP_FIPS</th>\n",
       "      <th>FIPS</th>\n",
       "      <th>POPULATION</th>\n",
       "      <th>POP_SQMI</th>\n",
       "      <th>SQMI</th>\n",
       "      <th>Shape__Area</th>\n",
       "      <th>Shape__Length</th>\n",
       "      <th>SHAPE</th>\n",
       "    </tr>\n",
       "  </thead>\n",
       "  <tbody>\n",
       "    <tr>\n",
       "      <th>0</th>\n",
       "      <td>29002</td>\n",
       "      <td>CA</td>\n",
       "      <td>06</td>\n",
       "      <td>073</td>\n",
       "      <td>06073</td>\n",
       "      <td>000100</td>\n",
       "      <td>1</td>\n",
       "      <td>060730001001</td>\n",
       "      <td>1197</td>\n",
       "      <td>4788.0</td>\n",
       "      <td>0.25</td>\n",
       "      <td>0.000063</td>\n",
       "      <td>0.04273</td>\n",
       "      <td>{\"rings\": [[[-117.188940909064, 32.75880776425...</td>\n",
       "    </tr>\n",
       "    <tr>\n",
       "      <th>1</th>\n",
       "      <td>29003</td>\n",
       "      <td>CA</td>\n",
       "      <td>06</td>\n",
       "      <td>073</td>\n",
       "      <td>06073</td>\n",
       "      <td>000100</td>\n",
       "      <td>2</td>\n",
       "      <td>060730001002</td>\n",
       "      <td>1711</td>\n",
       "      <td>5032.4</td>\n",
       "      <td>0.34</td>\n",
       "      <td>0.000084</td>\n",
       "      <td>0.052974</td>\n",
       "      <td>{\"rings\": [[[-117.187159908283, 32.75685976468...</td>\n",
       "    </tr>\n",
       "    <tr>\n",
       "      <th>2</th>\n",
       "      <td>29004</td>\n",
       "      <td>CA</td>\n",
       "      <td>06</td>\n",
       "      <td>073</td>\n",
       "      <td>06073</td>\n",
       "      <td>000201</td>\n",
       "      <td>1</td>\n",
       "      <td>060730002011</td>\n",
       "      <td>877</td>\n",
       "      <td>4385.0</td>\n",
       "      <td>0.2</td>\n",
       "      <td>0.000049</td>\n",
       "      <td>0.036512</td>\n",
       "      <td>{\"rings\": [[[-117.168410904985, 32.75683776569...</td>\n",
       "    </tr>\n",
       "    <tr>\n",
       "      <th>3</th>\n",
       "      <td>29005</td>\n",
       "      <td>CA</td>\n",
       "      <td>06</td>\n",
       "      <td>073</td>\n",
       "      <td>06073</td>\n",
       "      <td>000202</td>\n",
       "      <td>1</td>\n",
       "      <td>060730002021</td>\n",
       "      <td>1295</td>\n",
       "      <td>8633.3</td>\n",
       "      <td>0.15</td>\n",
       "      <td>0.000038</td>\n",
       "      <td>0.036458</td>\n",
       "      <td>{\"rings\": [[[-117.172296905513, 32.74893776444...</td>\n",
       "    </tr>\n",
       "  </tbody>\n",
       "</table>\n",
       "</div>"
      ],
      "text/plain": [
       "   OBJECTID STATE_ABBR STATE_FIPS COUNTY_FIPS STCOFIPS TRACT_FIPS  \\\n",
       "0     29002         CA         06         073    06073     000100   \n",
       "1     29003         CA         06         073    06073     000100   \n",
       "2     29004         CA         06         073    06073     000201   \n",
       "3     29005         CA         06         073    06073     000202   \n",
       "\n",
       "  BLOCKGROUP_FIPS          FIPS  POPULATION  POP_SQMI  SQMI  Shape__Area  \\\n",
       "0               1  060730001001        1197    4788.0  0.25     0.000063   \n",
       "1               2  060730001002        1711    5032.4  0.34     0.000084   \n",
       "2               1  060730002011         877    4385.0   0.2     0.000049   \n",
       "3               1  060730002021        1295    8633.3  0.15     0.000038   \n",
       "\n",
       "   Shape__Length                                              SHAPE  \n",
       "0        0.04273  {\"rings\": [[[-117.188940909064, 32.75880776425...  \n",
       "1       0.052974  {\"rings\": [[[-117.187159908283, 32.75685976468...  \n",
       "2       0.036512  {\"rings\": [[[-117.168410904985, 32.75683776569...  \n",
       "3       0.036458  {\"rings\": [[[-117.172296905513, 32.74893776444...  "
      ]
     },
     "execution_count": 14,
     "metadata": {},
     "output_type": "execute_result"
    }
   ],
   "source": [
    "san_diego_county_block_grp_fs_sdf = san_diego_county_block_grp_fs.sdf\n",
    "print(f\"Shape: {san_diego_county_block_grp_fs_sdf.shape}\")\n",
    "san_diego_county_block_grp_fs_sdf.head(4)"
   ]
  },
  {
   "cell_type": "markdown",
   "id": "9d626ac7-f713-497d-b65e-1faf5694c3da",
   "metadata": {},
   "source": [
    "#### Enrich the feature set for san diego county with variables"
   ]
  },
  {
   "cell_type": "markdown",
   "id": "562b2e87-b217-47dd-8a50-8d6b5dcc18ef",
   "metadata": {},
   "source": [
    "For enrichment, we can provide the feature set or the spatially enabled df.\n",
    "Let us just pass down the sdf since we have visualized it already."
   ]
  },
  {
   "cell_type": "code",
   "execution_count": 15,
   "id": "2ff2aec6-be7b-44d4-af94-5569b14b0365",
   "metadata": {},
   "outputs": [
    {
     "name": "stdout",
     "output_type": "stream",
     "text": [
      "Shape: (2057, 40)\n"
     ]
    },
    {
     "data": {
      "text/html": [
       "<div>\n",
       "<style scoped>\n",
       "    .dataframe tbody tr th:only-of-type {\n",
       "        vertical-align: middle;\n",
       "    }\n",
       "\n",
       "    .dataframe tbody tr th {\n",
       "        vertical-align: top;\n",
       "    }\n",
       "\n",
       "    .dataframe thead th {\n",
       "        text-align: right;\n",
       "    }\n",
       "</style>\n",
       "<table border=\"1\" class=\"dataframe\">\n",
       "  <thead>\n",
       "    <tr style=\"text-align: right;\">\n",
       "      <th></th>\n",
       "      <th>objectid</th>\n",
       "      <th>state_abbr</th>\n",
       "      <th>state_fips</th>\n",
       "      <th>county_fips</th>\n",
       "      <th>stcofips</th>\n",
       "      <th>tract_fips</th>\n",
       "      <th>blockgroup_fips</th>\n",
       "      <th>fips</th>\n",
       "      <th>totpop_cy</th>\n",
       "      <th>pop_sqmi</th>\n",
       "      <th>...</th>\n",
       "      <th>percagg</th>\n",
       "      <th>murdagg</th>\n",
       "      <th>rapeagg</th>\n",
       "      <th>robbagg</th>\n",
       "      <th>asstagg</th>\n",
       "      <th>procagg</th>\n",
       "      <th>burgagg</th>\n",
       "      <th>larcagg</th>\n",
       "      <th>mvehagg</th>\n",
       "      <th>SHAPE</th>\n",
       "    </tr>\n",
       "  </thead>\n",
       "  <tbody>\n",
       "    <tr>\n",
       "      <th>0</th>\n",
       "      <td>29002</td>\n",
       "      <td>CA</td>\n",
       "      <td>06</td>\n",
       "      <td>073</td>\n",
       "      <td>06073</td>\n",
       "      <td>000100</td>\n",
       "      <td>1</td>\n",
       "      <td>060730001001</td>\n",
       "      <td>1197</td>\n",
       "      <td>4788.0</td>\n",
       "      <td>...</td>\n",
       "      <td>38368.0</td>\n",
       "      <td>20383.0</td>\n",
       "      <td>21582.0</td>\n",
       "      <td>58751.0</td>\n",
       "      <td>34771.0</td>\n",
       "      <td>92323.0</td>\n",
       "      <td>65945.0</td>\n",
       "      <td>88726.0</td>\n",
       "      <td>159467.0</td>\n",
       "      <td>{\"rings\": [[[-117.18894090906399, 32.758807764...</td>\n",
       "    </tr>\n",
       "    <tr>\n",
       "      <th>1</th>\n",
       "      <td>29003</td>\n",
       "      <td>CA</td>\n",
       "      <td>06</td>\n",
       "      <td>073</td>\n",
       "      <td>06073</td>\n",
       "      <td>000100</td>\n",
       "      <td>2</td>\n",
       "      <td>060730001002</td>\n",
       "      <td>1711</td>\n",
       "      <td>5032.4</td>\n",
       "      <td>...</td>\n",
       "      <td>93060.0</td>\n",
       "      <td>54144.0</td>\n",
       "      <td>33840.0</td>\n",
       "      <td>147204.0</td>\n",
       "      <td>84600.0</td>\n",
       "      <td>170892.0</td>\n",
       "      <td>121824.0</td>\n",
       "      <td>170892.0</td>\n",
       "      <td>250416.0</td>\n",
       "      <td>{\"rings\": [[[-117.18715990828298, 32.756859764...</td>\n",
       "    </tr>\n",
       "    <tr>\n",
       "      <th>2</th>\n",
       "      <td>29004</td>\n",
       "      <td>CA</td>\n",
       "      <td>06</td>\n",
       "      <td>073</td>\n",
       "      <td>06073</td>\n",
       "      <td>000201</td>\n",
       "      <td>1</td>\n",
       "      <td>060730002011</td>\n",
       "      <td>877</td>\n",
       "      <td>4385.0</td>\n",
       "      <td>...</td>\n",
       "      <td>108240.0</td>\n",
       "      <td>9922.0</td>\n",
       "      <td>82082.0</td>\n",
       "      <td>128986.0</td>\n",
       "      <td>106436.0</td>\n",
       "      <td>142516.0</td>\n",
       "      <td>82984.0</td>\n",
       "      <td>145222.0</td>\n",
       "      <td>221892.0</td>\n",
       "      <td>{\"rings\": [[[-117.168410904985, 32.75683776569...</td>\n",
       "    </tr>\n",
       "    <tr>\n",
       "      <th>3</th>\n",
       "      <td>29005</td>\n",
       "      <td>CA</td>\n",
       "      <td>06</td>\n",
       "      <td>073</td>\n",
       "      <td>06073</td>\n",
       "      <td>000202</td>\n",
       "      <td>1</td>\n",
       "      <td>060730002021</td>\n",
       "      <td>1295</td>\n",
       "      <td>8633.3</td>\n",
       "      <td>...</td>\n",
       "      <td>32075.0</td>\n",
       "      <td>5132.0</td>\n",
       "      <td>89810.0</td>\n",
       "      <td>12830.0</td>\n",
       "      <td>30792.0</td>\n",
       "      <td>107772.0</td>\n",
       "      <td>102640.0</td>\n",
       "      <td>111621.0</td>\n",
       "      <td>94942.0</td>\n",
       "      <td>{\"rings\": [[[-117.17229690551298, 32.748937764...</td>\n",
       "    </tr>\n",
       "  </tbody>\n",
       "</table>\n",
       "<p>4 rows × 40 columns</p>\n",
       "</div>"
      ],
      "text/plain": [
       "   objectid state_abbr state_fips county_fips stcofips tract_fips  \\\n",
       "0     29002         CA         06         073    06073     000100   \n",
       "1     29003         CA         06         073    06073     000100   \n",
       "2     29004         CA         06         073    06073     000201   \n",
       "3     29005         CA         06         073    06073     000202   \n",
       "\n",
       "  blockgroup_fips          fips  totpop_cy  pop_sqmi  ...   percagg  murdagg  \\\n",
       "0               1  060730001001       1197    4788.0  ...   38368.0  20383.0   \n",
       "1               2  060730001002       1711    5032.4  ...   93060.0  54144.0   \n",
       "2               1  060730002011        877    4385.0  ...  108240.0   9922.0   \n",
       "3               1  060730002021       1295    8633.3  ...   32075.0   5132.0   \n",
       "\n",
       "   rapeagg   robbagg   asstagg   procagg   burgagg   larcagg   mvehagg  \\\n",
       "0  21582.0   58751.0   34771.0   92323.0   65945.0   88726.0  159467.0   \n",
       "1  33840.0  147204.0   84600.0  170892.0  121824.0  170892.0  250416.0   \n",
       "2  82082.0  128986.0  106436.0  142516.0   82984.0  145222.0  221892.0   \n",
       "3  89810.0   12830.0   30792.0  107772.0  102640.0  111621.0   94942.0   \n",
       "\n",
       "                                               SHAPE  \n",
       "0  {\"rings\": [[[-117.18894090906399, 32.758807764...  \n",
       "1  {\"rings\": [[[-117.18715990828298, 32.756859764...  \n",
       "2  {\"rings\": [[[-117.168410904985, 32.75683776569...  \n",
       "3  {\"rings\": [[[-117.17229690551298, 32.748937764...  \n",
       "\n",
       "[4 rows x 40 columns]"
      ]
     },
     "execution_count": 15,
     "metadata": {},
     "output_type": "execute_result"
    }
   ],
   "source": [
    "san_diego_block_groups_enriched_df = enrich(study_areas=san_diego_county_block_grp_fs_sdf,\n",
    "                                           data_collections=['crime'],\n",
    "                                           #analysis_variables=itertools.chain(*[market_potential_variables,demographics_variables,business_variables]),\n",
    "                                           gis=gis,\n",
    "                                       )\n",
    "print(f\"Shape: {san_diego_block_groups_enriched_df.shape}\")\n",
    "san_diego_block_groups_enriched_df.head(4)"
   ]
  },
  {
   "cell_type": "code",
   "execution_count": 16,
   "id": "86af4b30",
   "metadata": {},
   "outputs": [
    {
     "data": {
      "text/plain": [
       "Index(['objectid', 'state_abbr', 'state_fips', 'county_fips', 'stcofips',\n",
       "       'tract_fips', 'blockgroup_fips', 'fips', 'totpop_cy', 'pop_sqmi',\n",
       "       'sqmi', 'source_country', 'aggregation_method',\n",
       "       'population_to_polygon_size_rating', 'apportionment_confidence',\n",
       "       'has_data', 'totpop_cy', 'totpop_fy', 'popgrwcyfy', 'crmcytotc',\n",
       "       'crmcyperc', 'crmcymurd', 'crmcyrape', 'crmcyrobb', 'crmcyasst',\n",
       "       'crmcyproc', 'crmcyburg', 'crmcylarc', 'crmcymveh', 'totcagg',\n",
       "       'percagg', 'murdagg', 'rapeagg', 'robbagg', 'asstagg', 'procagg',\n",
       "       'burgagg', 'larcagg', 'mvehagg', 'SHAPE'],\n",
       "      dtype='object')"
      ]
     },
     "execution_count": 16,
     "metadata": {},
     "output_type": "execute_result"
    }
   ],
   "source": [
    "san_diego_block_groups_enriched_df.columns"
   ]
  },
  {
   "cell_type": "code",
   "execution_count": 18,
   "id": "fd012372-6361-4426-9408-a2fcff5636de",
   "metadata": {},
   "outputs": [],
   "source": [
    "san_diego_block_groups_enriched_df.to_csv('../resources/only_crime_enriched_san_diego_county_block_groups.csv', index=False)"
   ]
  }
 ],
 "metadata": {
  "kernelspec": {
   "display_name": "Python 3 (ipykernel)",
   "language": "python",
   "name": "python3"
  },
  "language_info": {
   "codemirror_mode": {
    "name": "ipython",
    "version": 3
   },
   "file_extension": ".py",
   "mimetype": "text/x-python",
   "name": "python",
   "nbconvert_exporter": "python",
   "pygments_lexer": "ipython3",
   "version": "3.9.16"
  }
 },
 "nbformat": 4,
 "nbformat_minor": 5
}
