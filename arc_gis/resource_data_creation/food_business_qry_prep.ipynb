{
 "cells": [
  {
   "cell_type": "code",
   "execution_count": 1,
   "id": "d5c0406c-926a-4271-bc34-df5abedb4463",
   "metadata": {},
   "outputs": [
    {
     "name": "stdout",
     "output_type": "stream",
     "text": [
      "ERROR! Session/line number was not unique in database. History logging moved to new session 939\n"
     ]
    }
   ],
   "source": [
    "import sys\n",
    "import csv\n",
    "\n",
    "from pathlib import Path\n",
    "\n",
    "import psycopg2\n",
    "\n",
    "import pandas as pd\n",
    "\n",
    "sys.path.append('../../')\n",
    "from utils import get_config"
   ]
  },
  {
   "cell_type": "code",
   "execution_count": 2,
   "id": "ee4845b2-a19f-4c4d-b80e-92edf5a6aa35",
   "metadata": {},
   "outputs": [],
   "source": [
    "resource_p = Path(\"../resources\")\n",
    "\n",
    "# unhealthy food biz files\n",
    "hdf_p = resource_p / \"partial_unhealthy_food_biz.csv\"\n",
    "hdf_noise_p = resource_p / \"noise_unhealthy_food_biz.csv\"\n",
    "\n",
    "# all food biz\n",
    "all_food_p = resource_p / \"partial_all_food_biz.csv\"\n",
    "noise_all_p = resource_p / \"noise_all_food_biz.csv\""
   ]
  },
  {
   "cell_type": "code",
   "execution_count": 3,
   "id": "1af88bf0-e2b4-4cce-86de-ad0022ea6786",
   "metadata": {},
   "outputs": [],
   "source": [
    "def read_categories_csv(p):\n",
    "    with open(p) as csvfile:\n",
    "        reader = csv.reader(csvfile)\n",
    "        res = []\n",
    "        for row in reader:\n",
    "            res.append(row[0])\n",
    "    return res"
   ]
  },
  {
   "cell_type": "code",
   "execution_count": 4,
   "id": "0dddb4d8-8dad-4c47-9f5f-78a4c2c94d29",
   "metadata": {},
   "outputs": [
    {
     "name": "stdout",
     "output_type": "stream",
     "text": [
      "<configparser.ConfigParser object at 0x11b3f51f0>\n",
      "<configparser.ConfigParser object at 0x11b3f5fa0>\n"
     ]
    }
   ],
   "source": [
    "nourish_user = get_config(\"nourish_db\",\"username\")\n",
    "nourish_pswd = get_config(\"nourish_db\",\"passkey\")\n",
    "\n",
    "conn = psycopg2.connect(\n",
    "    host=\"awesome-hw.sdsc.edu\",\n",
    "    database=\"nourish\",\n",
    "    user=nourish_user,\n",
    "    password=nourish_pswd)"
   ]
  },
  {
   "cell_type": "code",
   "execution_count": 5,
   "id": "0ae9b687-17df-44ec-a32f-113b5a39cdc0",
   "metadata": {},
   "outputs": [
    {
     "data": {
      "text/html": [
       "<div>\n",
       "<style scoped>\n",
       "    .dataframe tbody tr th:only-of-type {\n",
       "        vertical-align: middle;\n",
       "    }\n",
       "\n",
       "    .dataframe tbody tr th {\n",
       "        vertical-align: top;\n",
       "    }\n",
       "\n",
       "    .dataframe thead th {\n",
       "        text-align: right;\n",
       "    }\n",
       "</style>\n",
       "<table border=\"1\" class=\"dataframe\">\n",
       "  <thead>\n",
       "    <tr style=\"text-align: right;\">\n",
       "      <th></th>\n",
       "      <th>categories</th>\n",
       "      <th>category_count</th>\n",
       "    </tr>\n",
       "  </thead>\n",
       "  <tbody>\n",
       "    <tr>\n",
       "      <th>0</th>\n",
       "      <td>Restaurant</td>\n",
       "      <td>38523</td>\n",
       "    </tr>\n",
       "    <tr>\n",
       "      <th>1</th>\n",
       "      <td>Fast food restaurant</td>\n",
       "      <td>15560</td>\n",
       "    </tr>\n",
       "    <tr>\n",
       "      <th>2</th>\n",
       "      <td>Mexican restaurant</td>\n",
       "      <td>13969</td>\n",
       "    </tr>\n",
       "    <tr>\n",
       "      <th>3</th>\n",
       "      <td>Auto repair shop</td>\n",
       "      <td>13163</td>\n",
       "    </tr>\n",
       "    <tr>\n",
       "      <th>4</th>\n",
       "      <td>Beauty salon</td>\n",
       "      <td>10758</td>\n",
       "    </tr>\n",
       "    <tr>\n",
       "      <th>...</th>\n",
       "      <td>...</td>\n",
       "      <td>...</td>\n",
       "    </tr>\n",
       "    <tr>\n",
       "      <th>4015</th>\n",
       "      <td>Regional council</td>\n",
       "      <td>1</td>\n",
       "    </tr>\n",
       "    <tr>\n",
       "      <th>4016</th>\n",
       "      <td>Residential area</td>\n",
       "      <td>1</td>\n",
       "    </tr>\n",
       "    <tr>\n",
       "      <th>4017</th>\n",
       "      <td>Sheepskin and wool products supplier</td>\n",
       "      <td>1</td>\n",
       "    </tr>\n",
       "    <tr>\n",
       "      <th>4018</th>\n",
       "      <td>Ladder supplier</td>\n",
       "      <td>1</td>\n",
       "    </tr>\n",
       "    <tr>\n",
       "      <th>4019</th>\n",
       "      <td>Pharmaceutical products wholesaler</td>\n",
       "      <td>1</td>\n",
       "    </tr>\n",
       "  </tbody>\n",
       "</table>\n",
       "<p>4020 rows × 2 columns</p>\n",
       "</div>"
      ],
      "text/plain": [
       "                                categories  category_count\n",
       "0                               Restaurant           38523\n",
       "1                     Fast food restaurant           15560\n",
       "2                       Mexican restaurant           13969\n",
       "3                         Auto repair shop           13163\n",
       "4                             Beauty salon           10758\n",
       "...                                    ...             ...\n",
       "4015                      Regional council               1\n",
       "4016                      Residential area               1\n",
       "4017  Sheepskin and wool products supplier               1\n",
       "4018                       Ladder supplier               1\n",
       "4019    Pharmaceutical products wholesaler               1\n",
       "\n",
       "[4020 rows x 2 columns]"
      ]
     },
     "execution_count": 5,
     "metadata": {},
     "output_type": "execute_result"
    }
   ],
   "source": [
    "# Get resgistrant attributes\n",
    "qry = \"\"\"\n",
    "WITH unnested_cats AS (SELECT unnest(categories) AS cats\n",
    "FROM ca_business)\n",
    "SELECT cats, count(cats) as category_count\n",
    "FROM unnested_cats\n",
    "GROUP BY cats\n",
    "ORDER BY category_count DESC;\n",
    "\"\"\"\n",
    "\n",
    "\n",
    "cur = conn.cursor()\n",
    "\n",
    "# execute a statement\n",
    "cur.execute(qry)\n",
    "\n",
    "\n",
    "# display the PostgreSQL database server version\n",
    "res = cur.fetchall()\n",
    "# res = [c[0] for c in col_names]\n",
    "       \n",
    "# Close the communication with the PostgreSQL\n",
    "cur.close()\n",
    "\n",
    "# create category df\n",
    "categories_df = pd.DataFrame(res, columns=[\"categories\", \"category_count\"])\n",
    "categories_df"
   ]
  },
  {
   "cell_type": "code",
   "execution_count": 6,
   "id": "dd668f10-8942-476c-80d2-fefd689aa5f3",
   "metadata": {},
   "outputs": [
    {
     "data": {
      "text/html": [
       "<div>\n",
       "<style scoped>\n",
       "    .dataframe tbody tr th:only-of-type {\n",
       "        vertical-align: middle;\n",
       "    }\n",
       "\n",
       "    .dataframe tbody tr th {\n",
       "        vertical-align: top;\n",
       "    }\n",
       "\n",
       "    .dataframe thead th {\n",
       "        text-align: right;\n",
       "    }\n",
       "</style>\n",
       "<table border=\"1\" class=\"dataframe\">\n",
       "  <thead>\n",
       "    <tr style=\"text-align: right;\">\n",
       "      <th></th>\n",
       "      <th>categories</th>\n",
       "      <th>category_count</th>\n",
       "    </tr>\n",
       "  </thead>\n",
       "  <tbody>\n",
       "    <tr>\n",
       "      <th>1</th>\n",
       "      <td>Fast food restaurant</td>\n",
       "      <td>15560</td>\n",
       "    </tr>\n",
       "    <tr>\n",
       "      <th>16</th>\n",
       "      <td>Bar</td>\n",
       "      <td>8184</td>\n",
       "    </tr>\n",
       "    <tr>\n",
       "      <th>18</th>\n",
       "      <td>Pizza restaurant</td>\n",
       "      <td>7898</td>\n",
       "    </tr>\n",
       "    <tr>\n",
       "      <th>21</th>\n",
       "      <td>Hamburger restaurant</td>\n",
       "      <td>7281</td>\n",
       "    </tr>\n",
       "    <tr>\n",
       "      <th>22</th>\n",
       "      <td>Convenience store</td>\n",
       "      <td>7107</td>\n",
       "    </tr>\n",
       "  </tbody>\n",
       "</table>\n",
       "</div>"
      ],
      "text/plain": [
       "              categories  category_count\n",
       "1   Fast food restaurant           15560\n",
       "16                   Bar            8184\n",
       "18      Pizza restaurant            7898\n",
       "21  Hamburger restaurant            7281\n",
       "22     Convenience store            7107"
      ]
     },
     "execution_count": 6,
     "metadata": {},
     "output_type": "execute_result"
    }
   ],
   "source": [
    "# read in hdf files\n",
    "hdf_list = read_categories_csv(hdf_p)\n",
    "hdf_noise_list = read_categories_csv(hdf_noise_p)\n",
    "\n",
    "# https://stackoverflow.com/a/37864171\n",
    "m = (categories_df[\"categories\"].str.contains('|'.join(hdf_list), case=False)) | (categories_df[\"categories\"] == \"Bar\")\n",
    "filtered_hpf = categories_df.loc[m]\n",
    "\n",
    "# Remove some noisy hits from matching on bar\n",
    "filtered_hpf = filtered_hpf[~filtered_hpf[\"categories\"].str.contains('|'.join(hdf_noise_list), case=False)]\n",
    "\n",
    "filtered_hpf[\"categories\"].to_csv(resource_p / \"exact_unhealthy_categories.csv\", index=False)\n",
    "\n",
    "filtered_hpf.head()"
   ]
  },
  {
   "cell_type": "code",
   "execution_count": 7,
   "id": "30effc91-b53c-4ce4-9bc0-063041ca1076",
   "metadata": {},
   "outputs": [
    {
     "name": "stderr",
     "output_type": "stream",
     "text": [
      "/var/folders/wd/y5szpxf50s70ykknr5mg_1n00000gn/T/ipykernel_29725/2979570344.py:10: UserWarning: This pattern is interpreted as a regular expression, and has match groups. To actually get the groups, use str.extract.\n",
      "  m = (categories_df[\"categories\"].str.contains('|'.join(all_food_list), case=False)) | (categories_df[\"categories\"] == \"Bar\")\n"
     ]
    },
    {
     "data": {
      "text/html": [
       "<div>\n",
       "<style scoped>\n",
       "    .dataframe tbody tr th:only-of-type {\n",
       "        vertical-align: middle;\n",
       "    }\n",
       "\n",
       "    .dataframe tbody tr th {\n",
       "        vertical-align: top;\n",
       "    }\n",
       "\n",
       "    .dataframe thead th {\n",
       "        text-align: right;\n",
       "    }\n",
       "</style>\n",
       "<table border=\"1\" class=\"dataframe\">\n",
       "  <thead>\n",
       "    <tr style=\"text-align: right;\">\n",
       "      <th></th>\n",
       "      <th>categories</th>\n",
       "      <th>category_count</th>\n",
       "    </tr>\n",
       "  </thead>\n",
       "  <tbody>\n",
       "    <tr>\n",
       "      <th>0</th>\n",
       "      <td>Restaurant</td>\n",
       "      <td>38523</td>\n",
       "    </tr>\n",
       "    <tr>\n",
       "      <th>1</th>\n",
       "      <td>Fast food restaurant</td>\n",
       "      <td>15560</td>\n",
       "    </tr>\n",
       "    <tr>\n",
       "      <th>2</th>\n",
       "      <td>Mexican restaurant</td>\n",
       "      <td>13969</td>\n",
       "    </tr>\n",
       "    <tr>\n",
       "      <th>5</th>\n",
       "      <td>Coffee shop</td>\n",
       "      <td>10487</td>\n",
       "    </tr>\n",
       "    <tr>\n",
       "      <th>7</th>\n",
       "      <td>Grocery store</td>\n",
       "      <td>10070</td>\n",
       "    </tr>\n",
       "    <tr>\n",
       "      <th>...</th>\n",
       "      <td>...</td>\n",
       "      <td>...</td>\n",
       "    </tr>\n",
       "    <tr>\n",
       "      <th>3952</th>\n",
       "      <td>Industrial supermarket</td>\n",
       "      <td>1</td>\n",
       "    </tr>\n",
       "    <tr>\n",
       "      <th>3962</th>\n",
       "      <td>Anago restaurant</td>\n",
       "      <td>1</td>\n",
       "    </tr>\n",
       "    <tr>\n",
       "      <th>3982</th>\n",
       "      <td>Chanko restaurant</td>\n",
       "      <td>1</td>\n",
       "    </tr>\n",
       "    <tr>\n",
       "      <th>3993</th>\n",
       "      <td>Alsace restaurant</td>\n",
       "      <td>1</td>\n",
       "    </tr>\n",
       "    <tr>\n",
       "      <th>4001</th>\n",
       "      <td>Shochu brewery</td>\n",
       "      <td>1</td>\n",
       "    </tr>\n",
       "  </tbody>\n",
       "</table>\n",
       "<p>479 rows × 2 columns</p>\n",
       "</div>"
      ],
      "text/plain": [
       "                  categories  category_count\n",
       "0                 Restaurant           38523\n",
       "1       Fast food restaurant           15560\n",
       "2         Mexican restaurant           13969\n",
       "5                Coffee shop           10487\n",
       "7              Grocery store           10070\n",
       "...                      ...             ...\n",
       "3952  Industrial supermarket               1\n",
       "3962        Anago restaurant               1\n",
       "3982       Chanko restaurant               1\n",
       "3993       Alsace restaurant               1\n",
       "4001          Shochu brewery               1\n",
       "\n",
       "[479 rows x 2 columns]"
      ]
     },
     "execution_count": 7,
     "metadata": {},
     "output_type": "execute_result"
    }
   ],
   "source": [
    "# make total food list\n",
    "# read in hdf files\n",
    "all_food_list = read_categories_csv(all_food_p)\n",
    "noise_list = read_categories_csv(noise_all_p)\n",
    "\n",
    "# combine hdf list and all food list\n",
    "all_food_list = all_food_list + hdf_list\n",
    "all_food_list = list(set(all_food_list))\n",
    "\n",
    "m = (categories_df[\"categories\"].str.contains('|'.join(all_food_list), case=False)) | (categories_df[\"categories\"] == \"Bar\")\n",
    "filtered_food = categories_df.loc[m]\n",
    "\n",
    "# Remove some noisy hits from matching on bar\n",
    "filtered_food = filtered_food[~filtered_food[\"categories\"].str.contains('|'.join(noise_list), case=False)]\n",
    "\n",
    "filtered_food[\"categories\"].to_csv(resource_p / \"exact_food_categories.csv\", index=False)\n",
    "\n",
    "filtered_food"
   ]
  },
  {
   "cell_type": "code",
   "execution_count": 8,
   "id": "5cb178aa-8c5e-4a84-af5b-478004a3dfa1",
   "metadata": {},
   "outputs": [],
   "source": [
    "# rewrite csv files\n",
    "partial_df = pd.DataFrame(all_food_list)\n",
    "partial_df.rename(columns={0: \"categories\"}, inplace=True)\n",
    "partial_df.to_csv(resource_p / \"partial_all_food_biz.csv\", index=False, header=None)\n",
    "\n",
    "noise_df = pd.DataFrame(noise_list)\n",
    "noise_df.rename(columns={0: \"categories\"}, inplace=True)\n",
    "noise_df.to_csv(resource_p / \"noise_all_food_biz.csv\", index=False, header=None)\n",
    "\n",
    "\n",
    "partial_df = pd.DataFrame(hdf_list)\n",
    "partial_df.rename(columns={0: \"categories\"}, inplace=True)\n",
    "partial_df.to_csv(resource_p / \"partial_unhealthy_food_biz.csv\", index=False, header=None)\n",
    "\n",
    "noise_df = pd.DataFrame(hdf_noise_list)\n",
    "noise_df.rename(columns={0: \"categories\"}, inplace=True)\n",
    "noise_df.to_csv(resource_p / \"noise_unhealthy_food_biz.csv\", index=False, header=None)"
   ]
  },
  {
   "cell_type": "markdown",
   "id": "0fe38e68-9cc5-4d8a-88fb-a36ee236e430",
   "metadata": {},
   "source": [
    "# Test lists via qry construction"
   ]
  },
  {
   "cell_type": "markdown",
   "id": "bf682c7e-0b59-4a87-95db-efba64a2424e",
   "metadata": {},
   "source": [
    "## HDF QRY"
   ]
  },
  {
   "cell_type": "code",
   "execution_count": 9,
   "id": "bdb507a0-20f7-45af-8ba1-58037ac47cec",
   "metadata": {},
   "outputs": [
    {
     "data": {
      "text/plain": [
       "\"WITH store_names AS (SELECT DISTINCT name AS dist_names FROM ca_business WHERE ('Fast food restaurant' = any(categories) OR 'Bar' = any(categories) OR 'Pizza restaurant' = any(categories) OR 'Hamburger restaurant' = any(categories) OR 'Convenience store' = any(categories) OR 'Liquor store' = any(categories) OR 'Ice cream shop' = any(categories) OR 'Dessert shop' = any(categories) OR 'Pizza delivery' = any(categories) OR 'Bar & grill' = any(categories) OR 'Pizza Takeout' = any(categories) OR 'Chicken wings restaurant' = any(categories) OR 'Donut shop' = any(categories) OR 'Cocktail bar' = any(categories) OR 'Wine bar' = any(categories) OR 'Wine store' = any(categories) OR 'Sports bar' = any(categories) OR 'Brewery' = any(categories) OR 'Beer store' = any(categories) OR 'Candy store' = any(categories) OR 'Dessert restaurant' = any(categories) OR 'Chocolate shop' = any(categories) OR 'Hot dog restaurant' = any(categories) OR 'Brewpub' = any(categories) OR 'Pastry shop' = any(categories) OR 'Beer garden' = any(categories) OR 'Cookie shop' = any(categories) OR 'Fried chicken takeaway' = any(categories) OR 'Hot dog stand' = any(categories) OR 'Beer hall' = any(categories) OR 'Crêperie' = any(categories) OR 'Irish pub' = any(categories) OR 'Pie shop' = any(categories) OR 'Cupcake shop' = any(categories) OR 'Gay bar' = any(categories) OR 'Patisserie' = any(categories) OR 'Cider bar' = any(categories) OR 'Popcorn store' = any(categories) OR 'Confectionery' = any(categories) OR 'Chocolate artisan' = any(categories) OR 'Hong Kong style fast food restaurant' = any(categories) OR 'Pizza takeaway' = any(categories) OR 'Piano bar' = any(categories) OR 'Sweets and dessert buffet' = any(categories) OR 'Chocolate cafe' = any(categories) OR 'Dart bar' = any(categories) OR 'Tiki bar' = any(categories) OR 'State liquor store' = any(categories) OR 'Pizza' = any(categories) OR 'Sake brewery' = any(categories) OR 'Liquor wholesaler' = any(categories) OR 'Japanese confectionery shop' = any(categories) OR 'Japanese sweets restaurant' = any(categories) OR 'Confectionery wholesaler' = any(categories) OR 'Indian sweets shop' = any(categories) OR 'Japanese cheap sweets shop' = any(categories) OR 'Shochu brewery' = any(categories))) SELECT COUNT(*) as count from ca_business inner join store_names on ca_business.name = store_names.dist_names;\""
      ]
     },
     "execution_count": 9,
     "metadata": {},
     "output_type": "execute_result"
    }
   ],
   "source": [
    "# create where clause for query\n",
    "qry_where_list = [f\"'{c}' = any(categories) OR \" for c in filtered_hpf[\"categories\"].tolist()]\n",
    "# clean up last or\n",
    "qry_where_list[-1] = qry_where_list[-1].replace(\" OR \", \"\")\n",
    "qry_where = \"WHERE (\" + ''.join(qry_where_list) + \")\"\n",
    "\n",
    "qry = \"WITH store_names AS (SELECT DISTINCT name AS dist_names \" \\\n",
    "      \"FROM ca_business \" \\\n",
    "      f\"{qry_where}) \" \\\n",
    "      \"SELECT COUNT(*) \" \\\n",
    "      \"as count \" \\\n",
    "      \"from ca_business inner join store_names on ca_business.name = store_names.dist_names;\"\n",
    "qry"
   ]
  },
  {
   "cell_type": "code",
   "execution_count": 10,
   "id": "fa27d058-9a2c-465f-9369-2f1a510d803d",
   "metadata": {},
   "outputs": [
    {
     "data": {
      "text/plain": [
       "(70914,)"
      ]
     },
     "execution_count": 10,
     "metadata": {},
     "output_type": "execute_result"
    }
   ],
   "source": [
    "cur = conn.cursor()\n",
    "\n",
    "# execute a statement\n",
    "cur.execute(qry)\n",
    "\n",
    "\n",
    "# display the PostgreSQL database server version\n",
    "res = cur.fetchall()\n",
    "# res = [c[0] for c in col_names]\n",
    "       \n",
    "# Close the communication with the PostgreSQL\n",
    "cur.close()\n",
    "res[0]"
   ]
  },
  {
   "cell_type": "code",
   "execution_count": 11,
   "id": "60d8074e-522e-4e0a-95bf-90dd28d3e85e",
   "metadata": {},
   "outputs": [
    {
     "data": {
      "text/plain": [
       "\"WITH store_names AS (SELECT DISTINCT name AS dist_names FROM ca_business WHERE ('Fast food restaurant' = any(categories) OR 'Bar' = any(categories) OR 'Pizza restaurant' = any(categories) OR 'Hamburger restaurant' = any(categories) OR 'Convenience store' = any(categories) OR 'Liquor store' = any(categories) OR 'Ice cream shop' = any(categories) OR 'Dessert shop' = any(categories) OR 'Pizza delivery' = any(categories) OR 'Bar & grill' = any(categories) OR 'Pizza Takeout' = any(categories) OR 'Chicken wings restaurant' = any(categories) OR 'Donut shop' = any(categories) OR 'Cocktail bar' = any(categories) OR 'Wine bar' = any(categories) OR 'Wine store' = any(categories) OR 'Sports bar' = any(categories) OR 'Brewery' = any(categories) OR 'Beer store' = any(categories) OR 'Candy store' = any(categories) OR 'Dessert restaurant' = any(categories) OR 'Chocolate shop' = any(categories) OR 'Hot dog restaurant' = any(categories) OR 'Brewpub' = any(categories) OR 'Pastry shop' = any(categories) OR 'Beer garden' = any(categories) OR 'Cookie shop' = any(categories) OR 'Fried chicken takeaway' = any(categories) OR 'Hot dog stand' = any(categories) OR 'Beer hall' = any(categories) OR 'Crêperie' = any(categories) OR 'Irish pub' = any(categories) OR 'Pie shop' = any(categories) OR 'Cupcake shop' = any(categories) OR 'Gay bar' = any(categories) OR 'Patisserie' = any(categories) OR 'Cider bar' = any(categories) OR 'Popcorn store' = any(categories) OR 'Confectionery' = any(categories) OR 'Chocolate artisan' = any(categories) OR 'Hong Kong style fast food restaurant' = any(categories) OR 'Pizza takeaway' = any(categories) OR 'Piano bar' = any(categories) OR 'Sweets and dessert buffet' = any(categories) OR 'Chocolate cafe' = any(categories) OR 'Dart bar' = any(categories) OR 'Tiki bar' = any(categories) OR 'State liquor store' = any(categories) OR 'Pizza' = any(categories) OR 'Sake brewery' = any(categories) OR 'Liquor wholesaler' = any(categories) OR 'Japanese confectionery shop' = any(categories) OR 'Japanese sweets restaurant' = any(categories) OR 'Confectionery wholesaler' = any(categories) OR 'Indian sweets shop' = any(categories) OR 'Japanese cheap sweets shop' = any(categories) OR 'Shochu brewery' = any(categories))), hpf_stores AS (SELECT * FROM ca_business INNER JOIN store_names ON ca_business.name = store_names.dist_names) SELECT COUNT(*) as count, array_agg(distinct name) as restaurants FROM hpf_stores WHERE name NOT IN (SELECT DISTINCT name FROM ca_business WHERE 'Supermarket' = any(categories));\""
      ]
     },
     "execution_count": 11,
     "metadata": {},
     "output_type": "execute_result"
    }
   ],
   "source": [
    "qry = \"WITH store_names AS \" \\\n",
    "            \"(SELECT DISTINCT name AS dist_names \" \\\n",
    "             \"FROM ca_business \" \\\n",
    "        f\"{qry_where}), \" \\\n",
    "            \"hpf_stores AS \" \\\n",
    "                \"(SELECT * FROM ca_business INNER JOIN store_names ON ca_business.name = store_names.dist_names) \" \\\n",
    "        \"SELECT COUNT(*) as count, array_agg(distinct name) as restaurants \" \\\n",
    "        \"FROM hpf_stores \" \\\n",
    "        \"WHERE name NOT IN (SELECT DISTINCT name FROM ca_business WHERE 'Supermarket' = any(categories));\"\n",
    "qry"
   ]
  },
  {
   "cell_type": "code",
   "execution_count": 12,
   "id": "1faa69f1-5455-4715-b573-1d42d9b9b66b",
   "metadata": {},
   "outputs": [
    {
     "data": {
      "text/plain": [
       "68539"
      ]
     },
     "execution_count": 12,
     "metadata": {},
     "output_type": "execute_result"
    }
   ],
   "source": [
    "cur = conn.cursor()\n",
    "\n",
    "# execute a statement\n",
    "cur.execute(qry)\n",
    "\n",
    "\n",
    "# display the PostgreSQL database server version\n",
    "res = cur.fetchall()\n",
    "# res = [c[0] for c in col_names]\n",
    "       \n",
    "# Close the communication with the PostgreSQL\n",
    "cur.close()\n",
    "res[0][0]"
   ]
  },
  {
   "cell_type": "code",
   "execution_count": 13,
   "id": "5d5b70c5-9e29-4ad9-a92f-73006b741bb9",
   "metadata": {},
   "outputs": [
    {
     "data": {
      "text/plain": [
       "\"WITH store_names AS (SELECT DISTINCT name AS dist_names FROM ca_business WHERE ('Fast food restaurant' = any(categories) OR 'Bar' = any(categories) OR 'Pizza restaurant' = any(categories) OR 'Hamburger restaurant' = any(categories) OR 'Convenience store' = any(categories) OR 'Liquor store' = any(categories) OR 'Ice cream shop' = any(categories) OR 'Dessert shop' = any(categories) OR 'Pizza delivery' = any(categories) OR 'Bar & grill' = any(categories) OR 'Pizza Takeout' = any(categories) OR 'Chicken wings restaurant' = any(categories) OR 'Donut shop' = any(categories) OR 'Cocktail bar' = any(categories) OR 'Wine bar' = any(categories) OR 'Wine store' = any(categories) OR 'Sports bar' = any(categories) OR 'Brewery' = any(categories) OR 'Beer store' = any(categories) OR 'Candy store' = any(categories) OR 'Dessert restaurant' = any(categories) OR 'Chocolate shop' = any(categories) OR 'Hot dog restaurant' = any(categories) OR 'Brewpub' = any(categories) OR 'Pastry shop' = any(categories) OR 'Beer garden' = any(categories) OR 'Cookie shop' = any(categories) OR 'Fried chicken takeaway' = any(categories) OR 'Hot dog stand' = any(categories) OR 'Beer hall' = any(categories) OR 'Crêperie' = any(categories) OR 'Irish pub' = any(categories) OR 'Pie shop' = any(categories) OR 'Cupcake shop' = any(categories) OR 'Gay bar' = any(categories) OR 'Patisserie' = any(categories) OR 'Cider bar' = any(categories) OR 'Popcorn store' = any(categories) OR 'Confectionery' = any(categories) OR 'Chocolate artisan' = any(categories) OR 'Hong Kong style fast food restaurant' = any(categories) OR 'Pizza takeaway' = any(categories) OR 'Piano bar' = any(categories) OR 'Sweets and dessert buffet' = any(categories) OR 'Chocolate cafe' = any(categories) OR 'Dart bar' = any(categories) OR 'Tiki bar' = any(categories) OR 'State liquor store' = any(categories) OR 'Pizza' = any(categories) OR 'Sake brewery' = any(categories) OR 'Liquor wholesaler' = any(categories) OR 'Japanese confectionery shop' = any(categories) OR 'Japanese sweets restaurant' = any(categories) OR 'Confectionery wholesaler' = any(categories) OR 'Indian sweets shop' = any(categories) OR 'Japanese cheap sweets shop' = any(categories) OR 'Shochu brewery' = any(categories))), hpf_stores AS (SELECT * FROM ca_business INNER JOIN store_names ON ca_business.name = store_names.dist_names) SELECT zip, count(*) as count, array_agg(distinct name) as restaurants FROM hpf_stores WHERE name NOT IN (SELECT DISTINCT name FROM ca_business WHERE 'Supermarket' = any(categories)) group by zip order by count desc, zip;\""
      ]
     },
     "execution_count": 13,
     "metadata": {},
     "output_type": "execute_result"
    }
   ],
   "source": [
    "qry = \"WITH store_names AS \" \\\n",
    "            \"(SELECT DISTINCT name AS dist_names \" \\\n",
    "             \"FROM ca_business \" \\\n",
    "        f\"{qry_where}), \" \\\n",
    "            \"hpf_stores AS \" \\\n",
    "                \"(SELECT * FROM ca_business INNER JOIN store_names ON ca_business.name = store_names.dist_names) \" \\\n",
    "        \"SELECT zip, count(*) as count, array_agg(distinct name) as restaurants \" \\\n",
    "        \"FROM hpf_stores \" \\\n",
    "        \"WHERE name NOT IN (SELECT DISTINCT name FROM ca_business WHERE 'Supermarket' = any(categories)) \" \\\n",
    "        \"group by zip \" \\\n",
    "        \"order by count desc, zip;\"\n",
    "qry"
   ]
  },
  {
   "cell_type": "code",
   "execution_count": 14,
   "id": "d3cc25e4-4f66-4bd7-819b-e545e1ecfaf2",
   "metadata": {},
   "outputs": [
    {
     "data": {
      "text/html": [
       "<div>\n",
       "<style scoped>\n",
       "    .dataframe tbody tr th:only-of-type {\n",
       "        vertical-align: middle;\n",
       "    }\n",
       "\n",
       "    .dataframe tbody tr th {\n",
       "        vertical-align: top;\n",
       "    }\n",
       "\n",
       "    .dataframe thead th {\n",
       "        text-align: right;\n",
       "    }\n",
       "</style>\n",
       "<table border=\"1\" class=\"dataframe\">\n",
       "  <thead>\n",
       "    <tr style=\"text-align: right;\">\n",
       "      <th></th>\n",
       "      <th>Zip</th>\n",
       "      <th>Count</th>\n",
       "      <th>Names</th>\n",
       "    </tr>\n",
       "  </thead>\n",
       "  <tbody>\n",
       "    <tr>\n",
       "      <th>0</th>\n",
       "      <td>92101.0</td>\n",
       "      <td>490</td>\n",
       "      <td>[10 Barrel Brewing San Diego, 1919, 1st and Iv...</td>\n",
       "    </tr>\n",
       "    <tr>\n",
       "      <th>1</th>\n",
       "      <td>94103.0</td>\n",
       "      <td>267</td>\n",
       "      <td>[3rd Street Tap Room, 54 Mint Ristorante Itali...</td>\n",
       "    </tr>\n",
       "    <tr>\n",
       "      <th>2</th>\n",
       "      <td>90028.0</td>\n",
       "      <td>263</td>\n",
       "      <td>[101 Coffee Shop, 25 Degrees, 33 Taps Hollywoo...</td>\n",
       "    </tr>\n",
       "    <tr>\n",
       "      <th>3</th>\n",
       "      <td>94110.0</td>\n",
       "      <td>253</td>\n",
       "      <td>[20 Spot, 24th Street Bar, 49'ERS Liquors &amp; Gr...</td>\n",
       "    </tr>\n",
       "    <tr>\n",
       "      <th>4</th>\n",
       "      <td>94102.0</td>\n",
       "      <td>229</td>\n",
       "      <td>[2G Japanese Brasserie, 620 Jones, 7-Eleven, A...</td>\n",
       "    </tr>\n",
       "    <tr>\n",
       "      <th>...</th>\n",
       "      <td>...</td>\n",
       "      <td>...</td>\n",
       "      <td>...</td>\n",
       "    </tr>\n",
       "    <tr>\n",
       "      <th>1608</th>\n",
       "      <td>96124.0</td>\n",
       "      <td>1</td>\n",
       "      <td>[Lakeside Bar]</td>\n",
       "    </tr>\n",
       "    <tr>\n",
       "      <th>1609</th>\n",
       "      <td>96128.0</td>\n",
       "      <td>1</td>\n",
       "      <td>[Shell]</td>\n",
       "    </tr>\n",
       "    <tr>\n",
       "      <th>1610</th>\n",
       "      <td>96134.0</td>\n",
       "      <td>1</td>\n",
       "      <td>[Stateline General Store and Liquor]</td>\n",
       "    </tr>\n",
       "    <tr>\n",
       "      <th>1611</th>\n",
       "      <td>97701.0</td>\n",
       "      <td>1</td>\n",
       "      <td>[St Helena Wine Co]</td>\n",
       "    </tr>\n",
       "    <tr>\n",
       "      <th>1612</th>\n",
       "      <td>98887.0</td>\n",
       "      <td>1</td>\n",
       "      <td>[Grumpy Bears Retreat]</td>\n",
       "    </tr>\n",
       "  </tbody>\n",
       "</table>\n",
       "<p>1613 rows × 3 columns</p>\n",
       "</div>"
      ],
      "text/plain": [
       "          Zip  Count                                              Names\n",
       "0     92101.0    490  [10 Barrel Brewing San Diego, 1919, 1st and Iv...\n",
       "1     94103.0    267  [3rd Street Tap Room, 54 Mint Ristorante Itali...\n",
       "2     90028.0    263  [101 Coffee Shop, 25 Degrees, 33 Taps Hollywoo...\n",
       "3     94110.0    253  [20 Spot, 24th Street Bar, 49'ERS Liquors & Gr...\n",
       "4     94102.0    229  [2G Japanese Brasserie, 620 Jones, 7-Eleven, A...\n",
       "...       ...    ...                                                ...\n",
       "1608  96124.0      1                                     [Lakeside Bar]\n",
       "1609  96128.0      1                                            [Shell]\n",
       "1610  96134.0      1               [Stateline General Store and Liquor]\n",
       "1611  97701.0      1                                [St Helena Wine Co]\n",
       "1612  98887.0      1                             [Grumpy Bears Retreat]\n",
       "\n",
       "[1613 rows x 3 columns]"
      ]
     },
     "execution_count": 14,
     "metadata": {},
     "output_type": "execute_result"
    }
   ],
   "source": [
    "cur = conn.cursor()\n",
    "\n",
    "# execute a statement\n",
    "cur.execute(qry)\n",
    "\n",
    "\n",
    "# display the PostgreSQL database server version\n",
    "res = cur.fetchall()\n",
    "# res = [c[0] for c in col_names]\n",
    "       \n",
    "# Close the communication with the PostgreSQL\n",
    "cur.close()\n",
    "pd.DataFrame(res, columns=[\"Zip\", \"Count\", \"Names\"])"
   ]
  },
  {
   "cell_type": "markdown",
   "id": "69edbce5-75b7-4fdf-9b91-1675abc8e5b3",
   "metadata": {},
   "source": [
    "## ALL BIZ QRY"
   ]
  },
  {
   "cell_type": "code",
   "execution_count": 15,
   "id": "2ca67331-1e41-4d8f-85dd-ea4489b7207f",
   "metadata": {},
   "outputs": [
    {
     "name": "stdout",
     "output_type": "stream",
     "text": [
      "'Farmers'' market' = any(categories) OR \n"
     ]
    },
    {
     "data": {
      "text/plain": [
       "20543"
      ]
     },
     "execution_count": 15,
     "metadata": {},
     "output_type": "execute_result"
    }
   ],
   "source": [
    "# create where clause for query\n",
    "# qry_where_list = [f\"'{c}' = any(categories) OR \" for c in filtered_food[\"categories\"].tolist()]\n",
    "qry_where_list = []\n",
    "for c in filtered_food[\"categories\"].tolist():\n",
    "    \n",
    "    if \"'\" in c:\n",
    "        where_part = c.replace(\"'\", \"''\")\n",
    "        where_part = \"'\" + where_part + \"' = any(categories) OR \"\n",
    "        # qry_where = qry_where + f\"'{where_part}'\"\n",
    "    else:\n",
    "        where_part = \"'\" + c + \"' = any(categories) OR \"\n",
    "    qry_where_list.append(where_part)\n",
    "# clean up last or\n",
    "qry_where_list[-1] = qry_where_list[-1].replace(\" OR \", \"\")\n",
    "\n",
    "qry_where = \"WHERE (\"\n",
    "for w in qry_where_list:\n",
    "    if \"Farmer\" in w:\n",
    "        print(fr\"{w}\")\n",
    "    qry_where = fr\"{qry_where}{w} \"\n",
    "qry_where = qry_where  + \"))\"\n",
    "    \n",
    "# qry_where = \"WHERE (\" + ''.join(qry_where_list) + \")\"\n",
    "\n",
    "# qry = \"WITH store_names AS (SELECT DISTINCT name AS dist_names \" \\\n",
    "#       \"FROM ca_business \" \\\n",
    "#       f\"{qry_where}) \" \\\n",
    "#       \"SELECT COUNT(*) \" \\\n",
    "#       \"as count \" \\\n",
    "#       \"from ca_business inner join store_names on ca_business.name = store_names.dist_names;\"\n",
    "\n",
    "qry = \"\"\"WITH store_names AS (SELECT DISTINCT name AS dist_names FROM ca_business %s SELECT COUNT(*) as count from ca_business inner join store_names on ca_business.name = store_names.dist_names;\"\"\" % (qry_where)\n",
    "len(qry)"
   ]
  },
  {
   "cell_type": "code",
   "execution_count": 16,
   "id": "53c2e9ba-f0cc-442f-aacd-c2965aa53008",
   "metadata": {},
   "outputs": [
    {
     "data": {
      "text/plain": [
       "(153920,)"
      ]
     },
     "execution_count": 16,
     "metadata": {},
     "output_type": "execute_result"
    }
   ],
   "source": [
    "cur = conn.cursor()\n",
    "\n",
    "# execute a statement\n",
    "cur.execute(qry)\n",
    "\n",
    "\n",
    "# display the PostgreSQL database server version\n",
    "res = cur.fetchall()\n",
    "# res = [c[0] for c in col_names]\n",
    "       \n",
    "# Close the communication with the PostgreSQL\n",
    "cur.close()\n",
    "res[0]"
   ]
  },
  {
   "cell_type": "code",
   "execution_count": 17,
   "id": "595a6fa6-f780-45ce-bb6c-41a203a35825",
   "metadata": {},
   "outputs": [
    {
     "data": {
      "text/plain": [
       "20669"
      ]
     },
     "execution_count": 17,
     "metadata": {},
     "output_type": "execute_result"
    }
   ],
   "source": [
    "qry = \"WITH store_names AS \" \\\n",
    "            \"(SELECT DISTINCT name AS dist_names \" \\\n",
    "             \"FROM ca_business \" \\\n",
    "        f\"{qry_where}, \" \\\n",
    "            \"hpf_stores AS \" \\\n",
    "                \"(SELECT * FROM ca_business INNER JOIN store_names ON ca_business.name = store_names.dist_names) \" \\\n",
    "        \"SELECT zip, count(*) as count, array_agg(distinct name) as restaurants \" \\\n",
    "        \"FROM hpf_stores \" \\\n",
    "        \"group by zip \" \\\n",
    "        \"order by count desc, zip;\"\n",
    "len(qry)"
   ]
  },
  {
   "cell_type": "code",
   "execution_count": 18,
   "id": "859cdd2f-b8a1-4c8a-8302-09030cd44ec4",
   "metadata": {},
   "outputs": [
    {
     "data": {
      "text/html": [
       "<div>\n",
       "<style scoped>\n",
       "    .dataframe tbody tr th:only-of-type {\n",
       "        vertical-align: middle;\n",
       "    }\n",
       "\n",
       "    .dataframe tbody tr th {\n",
       "        vertical-align: top;\n",
       "    }\n",
       "\n",
       "    .dataframe thead th {\n",
       "        text-align: right;\n",
       "    }\n",
       "</style>\n",
       "<table border=\"1\" class=\"dataframe\">\n",
       "  <thead>\n",
       "    <tr style=\"text-align: right;\">\n",
       "      <th></th>\n",
       "      <th>Zip</th>\n",
       "      <th>Count</th>\n",
       "      <th>Names</th>\n",
       "    </tr>\n",
       "  </thead>\n",
       "  <tbody>\n",
       "    <tr>\n",
       "      <th>0</th>\n",
       "      <td>92101.0</td>\n",
       "      <td>932</td>\n",
       "      <td>[1010 Caffe, 10 Barrel Brewing San Diego, 12th...</td>\n",
       "    </tr>\n",
       "    <tr>\n",
       "      <th>1</th>\n",
       "      <td>94110.0</td>\n",
       "      <td>717</td>\n",
       "      <td>[20 Spot, 23rd liquor store, 23rd &amp; Mission Pr...</td>\n",
       "    </tr>\n",
       "    <tr>\n",
       "      <th>2</th>\n",
       "      <td>94103.0</td>\n",
       "      <td>608</td>\n",
       "      <td>[1601 Bar &amp; Kitchen, 18 Rabbits, 3rd Street Ta...</td>\n",
       "    </tr>\n",
       "    <tr>\n",
       "      <th>3</th>\n",
       "      <td>NaN</td>\n",
       "      <td>519</td>\n",
       "      <td>[., 1105 Cooperative, 1675 E. Mariposa Rd. Sto...</td>\n",
       "    </tr>\n",
       "    <tr>\n",
       "      <th>4</th>\n",
       "      <td>94109.0</td>\n",
       "      <td>499</td>\n",
       "      <td>[1608 Bistro, 1760, 707 Sutter, 721 Lounge, 80...</td>\n",
       "    </tr>\n",
       "    <tr>\n",
       "      <th>...</th>\n",
       "      <td>...</td>\n",
       "      <td>...</td>\n",
       "      <td>...</td>\n",
       "    </tr>\n",
       "    <tr>\n",
       "      <th>1811</th>\n",
       "      <td>98887.0</td>\n",
       "      <td>1</td>\n",
       "      <td>[Grumpy Bears Retreat]</td>\n",
       "    </tr>\n",
       "    <tr>\n",
       "      <th>1812</th>\n",
       "      <td>98940.0</td>\n",
       "      <td>1</td>\n",
       "      <td>[A Mi Estilo Mexican Restaurant]</td>\n",
       "    </tr>\n",
       "    <tr>\n",
       "      <th>1813</th>\n",
       "      <td>98960.0</td>\n",
       "      <td>1</td>\n",
       "      <td>[Reyes Market]</td>\n",
       "    </tr>\n",
       "    <tr>\n",
       "      <th>1814</th>\n",
       "      <td>99321.0</td>\n",
       "      <td>1</td>\n",
       "      <td>[Queen Bean Caffé Crafton Hills College]</td>\n",
       "    </tr>\n",
       "    <tr>\n",
       "      <th>1815</th>\n",
       "      <td>99531.0</td>\n",
       "      <td>1</td>\n",
       "      <td>[Salmon River Outpost]</td>\n",
       "    </tr>\n",
       "  </tbody>\n",
       "</table>\n",
       "<p>1816 rows × 3 columns</p>\n",
       "</div>"
      ],
      "text/plain": [
       "          Zip  Count                                              Names\n",
       "0     92101.0    932  [1010 Caffe, 10 Barrel Brewing San Diego, 12th...\n",
       "1     94110.0    717  [20 Spot, 23rd liquor store, 23rd & Mission Pr...\n",
       "2     94103.0    608  [1601 Bar & Kitchen, 18 Rabbits, 3rd Street Ta...\n",
       "3         NaN    519  [., 1105 Cooperative, 1675 E. Mariposa Rd. Sto...\n",
       "4     94109.0    499  [1608 Bistro, 1760, 707 Sutter, 721 Lounge, 80...\n",
       "...       ...    ...                                                ...\n",
       "1811  98887.0      1                             [Grumpy Bears Retreat]\n",
       "1812  98940.0      1                   [A Mi Estilo Mexican Restaurant]\n",
       "1813  98960.0      1                                     [Reyes Market]\n",
       "1814  99321.0      1           [Queen Bean Caffé Crafton Hills College]\n",
       "1815  99531.0      1                             [Salmon River Outpost]\n",
       "\n",
       "[1816 rows x 3 columns]"
      ]
     },
     "execution_count": 18,
     "metadata": {},
     "output_type": "execute_result"
    }
   ],
   "source": [
    "cur = conn.cursor()\n",
    "\n",
    "# execute a statement\n",
    "cur.execute(qry)\n",
    "\n",
    "\n",
    "# display the PostgreSQL database server version\n",
    "res = cur.fetchall()\n",
    "# res = [c[0] for c in col_names]\n",
    "       \n",
    "# Close the communication with the PostgreSQL\n",
    "cur.close()\n",
    "pd.DataFrame(res, columns=[\"Zip\", \"Count\", \"Names\"])"
   ]
  },
  {
   "cell_type": "code",
   "execution_count": null,
   "id": "60585011-b630-4ea2-b143-d12dc13d13de",
   "metadata": {},
   "outputs": [],
   "source": []
  },
  {
   "cell_type": "code",
   "execution_count": null,
   "id": "ff2e3fc2-f882-4d36-9b0c-35c4d148c3b3",
   "metadata": {},
   "outputs": [],
   "source": []
  },
  {
   "cell_type": "code",
   "execution_count": null,
   "id": "50d15eae-6d21-4e80-95d6-c953522c40fc",
   "metadata": {},
   "outputs": [],
   "source": []
  },
  {
   "cell_type": "code",
   "execution_count": null,
   "id": "6ea800eb-36ac-4961-9fe7-e20a95a1a6a0",
   "metadata": {},
   "outputs": [],
   "source": []
  },
  {
   "cell_type": "code",
   "execution_count": 12,
   "id": "a737b833-9754-4855-91ce-e94c7b404d2a",
   "metadata": {},
   "outputs": [
    {
     "data": {
      "text/html": [
       "<div>\n",
       "<style scoped>\n",
       "    .dataframe tbody tr th:only-of-type {\n",
       "        vertical-align: middle;\n",
       "    }\n",
       "\n",
       "    .dataframe tbody tr th {\n",
       "        vertical-align: top;\n",
       "    }\n",
       "\n",
       "    .dataframe thead th {\n",
       "        text-align: right;\n",
       "    }\n",
       "</style>\n",
       "<table border=\"1\" class=\"dataframe\">\n",
       "  <thead>\n",
       "    <tr style=\"text-align: right;\">\n",
       "      <th></th>\n",
       "      <th>categories</th>\n",
       "      <th>category_count</th>\n",
       "    </tr>\n",
       "  </thead>\n",
       "  <tbody>\n",
       "    <tr>\n",
       "      <th>7</th>\n",
       "      <td>Grocery store</td>\n",
       "      <td>10070</td>\n",
       "    </tr>\n",
       "    <tr>\n",
       "      <th>265</th>\n",
       "      <td>Grocery delivery service</td>\n",
       "      <td>1019</td>\n",
       "    </tr>\n",
       "    <tr>\n",
       "      <th>484</th>\n",
       "      <td>Mexican grocery store</td>\n",
       "      <td>479</td>\n",
       "    </tr>\n",
       "    <tr>\n",
       "      <th>514</th>\n",
       "      <td>Gourmet grocery store</td>\n",
       "      <td>447</td>\n",
       "    </tr>\n",
       "    <tr>\n",
       "      <th>543</th>\n",
       "      <td>Asian grocery store</td>\n",
       "      <td>421</td>\n",
       "    </tr>\n",
       "    <tr>\n",
       "      <th>818</th>\n",
       "      <td>Indian grocery store</td>\n",
       "      <td>241</td>\n",
       "    </tr>\n",
       "    <tr>\n",
       "      <th>1508</th>\n",
       "      <td>Korean grocery store</td>\n",
       "      <td>76</td>\n",
       "    </tr>\n",
       "    <tr>\n",
       "      <th>1534</th>\n",
       "      <td>Italian grocery store</td>\n",
       "      <td>73</td>\n",
       "    </tr>\n",
       "    <tr>\n",
       "      <th>1634</th>\n",
       "      <td>Japanese grocery store</td>\n",
       "      <td>61</td>\n",
       "    </tr>\n",
       "    <tr>\n",
       "      <th>2194</th>\n",
       "      <td>Kosher grocery store</td>\n",
       "      <td>27</td>\n",
       "    </tr>\n",
       "    <tr>\n",
       "      <th>2479</th>\n",
       "      <td>Russian grocery store</td>\n",
       "      <td>17</td>\n",
       "    </tr>\n",
       "  </tbody>\n",
       "</table>\n",
       "</div>"
      ],
      "text/plain": [
       "                    categories  category_count\n",
       "7                Grocery store           10070\n",
       "265   Grocery delivery service            1019\n",
       "484      Mexican grocery store             479\n",
       "514      Gourmet grocery store             447\n",
       "543        Asian grocery store             421\n",
       "818       Indian grocery store             241\n",
       "1508      Korean grocery store              76\n",
       "1534     Italian grocery store              73\n",
       "1634    Japanese grocery store              61\n",
       "2194      Kosher grocery store              27\n",
       "2479     Russian grocery store              17"
      ]
     },
     "execution_count": 12,
     "metadata": {},
     "output_type": "execute_result"
    }
   ],
   "source": [
    "# TODO since certain categories like liquor store also apply to grocery chains\n",
    "# also create list of store names that should not be in HPF list\n",
    "# ex: Safeway\n",
    "other_list = [\"grocery\"]\n",
    "\n",
    "m = (categories_df[\"categories\"].str.contains('|'.join(other_list), case=False))\n",
    "other_df = categories_df.loc[m]\n",
    "\n",
    "# Remove some noisy hits from matching on bar\n",
    "# filtered_food = filtered_food[~filtered_food[\"categories\"].str.contains('|'.join(noise_list), case=False)]\n",
    "\n",
    "# filtered_food[\"categories\"].to_csv(resource_p / \"exact_food_categories.csv\", index=False)\n",
    "\n",
    "other_df"
   ]
  },
  {
   "cell_type": "code",
   "execution_count": null,
   "id": "a25acfbd-04d5-49f7-9598-83890d735d13",
   "metadata": {},
   "outputs": [],
   "source": []
  }
 ],
 "metadata": {
  "kernelspec": {
   "display_name": "Python 3 (ipykernel)",
   "language": "python",
   "name": "python3"
  },
  "language_info": {
   "codemirror_mode": {
    "name": "ipython",
    "version": 3
   },
   "file_extension": ".py",
   "mimetype": "text/x-python",
   "name": "python",
   "nbconvert_exporter": "python",
   "pygments_lexer": "ipython3",
   "version": "3.9.16"
  }
 },
 "nbformat": 4,
 "nbformat_minor": 5
}
