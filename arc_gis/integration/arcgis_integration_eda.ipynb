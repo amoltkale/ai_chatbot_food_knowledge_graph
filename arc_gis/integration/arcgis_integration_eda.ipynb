{
 "cells": [
  {
   "cell_type": "code",
   "execution_count": 1,
   "id": "9994ed3a-0462-49e4-893a-19f755ced2ec",
   "metadata": {},
   "outputs": [],
   "source": [
    "import sys\n",
    "import os\n",
    "\n",
    "import psycopg2\n",
    "import spacy\n",
    "\n",
    "import arcgis\n",
    "from arcgis.gis import GIS\n",
    "from arcgis.features import FeatureLayer, FeatureLayerCollection\n",
    "\n",
    "import pandas as pd\n",
    "\n",
    "sys.path.append('../../')\n",
    "from utils import get_config\n",
    "\n",
    "sys.path.append('../')\n",
    "from gis_resources import san_diego_county_zips"
   ]
  },
  {
   "cell_type": "code",
   "execution_count": 2,
   "id": "6bdfb230-459d-436b-aef6-d6cb8bd00687",
   "metadata": {},
   "outputs": [],
   "source": [
    "nlp_spacy = spacy.load(\"en_core_web_md\")"
   ]
  },
  {
   "cell_type": "code",
   "execution_count": 3,
   "id": "cf210796-d79c-4ea6-925e-2ee95d134472",
   "metadata": {},
   "outputs": [
    {
     "name": "stdout",
     "output_type": "stream",
     "text": [
      "<configparser.ConfigParser object at 0x13042e940>\n",
      "<configparser.ConfigParser object at 0x110e586d0>\n"
     ]
    }
   ],
   "source": [
    "nourish_user = get_config(\"nourish_db\",\"username\")\n",
    "nourish_pswd = get_config(\"nourish_db\",\"passkey\")"
   ]
  },
  {
   "cell_type": "code",
   "execution_count": 4,
   "id": "ff20d9aa-2c49-4881-8df3-56d8d9a27c5c",
   "metadata": {},
   "outputs": [],
   "source": [
    "conn = psycopg2.connect(\n",
    "    host=\"awesome-hw.sdsc.edu\",\n",
    "    database=\"nourish\",\n",
    "    user=nourish_user,\n",
    "    password=nourish_pswd)"
   ]
  },
  {
   "cell_type": "code",
   "execution_count": 5,
   "id": "3b160c72-00a4-4f65-b8da-99f7aef23f24",
   "metadata": {},
   "outputs": [],
   "source": [
    "# 32: Manuel,Gonzalez -> prospective food truck owner\n",
    "registrant_id = 32"
   ]
  },
  {
   "cell_type": "code",
   "execution_count": 6,
   "id": "95a68f94-d6be-477a-9e5c-7300dcfd3ede",
   "metadata": {},
   "outputs": [],
   "source": [
    "# Get resgistrant attributes\n",
    "col_qry = \"\"\"\n",
    "SELECT\n",
    "    column_name\n",
    "FROM\n",
    "    information_schema.columns\n",
    "WHERE\n",
    "    table_name = 'registrants';\n",
    "\"\"\"\n",
    "\n",
    "\n",
    "cur = conn.cursor()\n",
    "\n",
    "# execute a statement\n",
    "cur.execute(col_qry)\n",
    "\n",
    "\n",
    "# display the PostgreSQL database server version\n",
    "col_names = cur.fetchall()\n",
    "col_names = [c[0] for c in col_names]\n",
    "       \n",
    "# Close the communication with the PostgreSQL\n",
    "cur.close()"
   ]
  },
  {
   "cell_type": "code",
   "execution_count": 7,
   "id": "08b6ed72-e6d9-4aba-8646-f0b876933547",
   "metadata": {},
   "outputs": [],
   "source": [
    "# Get registrant of interest\n",
    "# create a cursor\n",
    "cur = conn.cursor()\n",
    "\n",
    "query_str = f\"select * \"\\\n",
    "            f\"from registrants \" \\\n",
    "            f\"where id = {registrant_id}\"\n",
    "\n",
    "# execute a statement\n",
    "cur.execute(query_str)\n",
    "\n",
    "\n",
    "# display the PostgreSQL database server version\n",
    "reg_obs = cur.fetchall()\n",
    "       \n",
    "# Close the communication with the PostgreSQL\n",
    "cur.close()"
   ]
  },
  {
   "cell_type": "code",
   "execution_count": 8,
   "id": "b2eb761e-373d-4629-9a77-4a08a8fd451a",
   "metadata": {},
   "outputs": [
    {
     "data": {
      "text/html": [
       "<div>\n",
       "<style scoped>\n",
       "    .dataframe tbody tr th:only-of-type {\n",
       "        vertical-align: middle;\n",
       "    }\n",
       "\n",
       "    .dataframe tbody tr th {\n",
       "        vertical-align: top;\n",
       "    }\n",
       "\n",
       "    .dataframe thead th {\n",
       "        text-align: right;\n",
       "    }\n",
       "</style>\n",
       "<table border=\"1\" class=\"dataframe\">\n",
       "  <thead>\n",
       "    <tr style=\"text-align: right;\">\n",
       "      <th></th>\n",
       "      <th>id</th>\n",
       "      <th>first_name</th>\n",
       "      <th>last_name</th>\n",
       "      <th>middle_name</th>\n",
       "      <th>email</th>\n",
       "      <th>phone</th>\n",
       "      <th>gender</th>\n",
       "      <th>ethnicity</th>\n",
       "      <th>languages_spoken</th>\n",
       "      <th>languages_written</th>\n",
       "      <th>...</th>\n",
       "      <th>insert_dts</th>\n",
       "      <th>update_dts</th>\n",
       "      <th>home_city</th>\n",
       "      <th>home_state</th>\n",
       "      <th>home_zip</th>\n",
       "      <th>biz_city</th>\n",
       "      <th>biz_state</th>\n",
       "      <th>biz_zip</th>\n",
       "      <th>home_street_address</th>\n",
       "      <th>biz_stree_address</th>\n",
       "    </tr>\n",
       "  </thead>\n",
       "  <tbody>\n",
       "    <tr>\n",
       "      <th>0</th>\n",
       "      <td>32</td>\n",
       "      <td>Manuel</td>\n",
       "      <td>Gonzalez</td>\n",
       "      <td>None</td>\n",
       "      <td>[m.gonzalez@gmail.com]</td>\n",
       "      <td>[619-231-4824]</td>\n",
       "      <td>Male</td>\n",
       "      <td>[Hispanic]</td>\n",
       "      <td>[Spanish, English]</td>\n",
       "      <td>[Spanish, English]</td>\n",
       "      <td>...</td>\n",
       "      <td>2023-04-16 19:11:50.029601</td>\n",
       "      <td>None</td>\n",
       "      <td>San Diego</td>\n",
       "      <td>CA</td>\n",
       "      <td>92154</td>\n",
       "      <td>[]</td>\n",
       "      <td>CA</td>\n",
       "      <td>[]</td>\n",
       "      <td>1372-74 Del Sol Ln</td>\n",
       "      <td>None</td>\n",
       "    </tr>\n",
       "  </tbody>\n",
       "</table>\n",
       "<p>1 rows × 31 columns</p>\n",
       "</div>"
      ],
      "text/plain": [
       "   id first_name last_name middle_name                   email  \\\n",
       "0  32     Manuel  Gonzalez        None  [m.gonzalez@gmail.com]   \n",
       "\n",
       "            phone gender   ethnicity    languages_spoken   languages_written  \\\n",
       "0  [619-231-4824]   Male  [Hispanic]  [Spanish, English]  [Spanish, English]   \n",
       "\n",
       "   ...                 insert_dts update_dts  home_city home_state home_zip  \\\n",
       "0  ... 2023-04-16 19:11:50.029601       None  San Diego         CA    92154   \n",
       "\n",
       "  biz_city biz_state biz_zip home_street_address biz_stree_address  \n",
       "0       []        CA      []  1372-74 Del Sol Ln              None  \n",
       "\n",
       "[1 rows x 31 columns]"
      ]
     },
     "execution_count": 8,
     "metadata": {},
     "output_type": "execute_result"
    }
   ],
   "source": [
    "# make df\n",
    "df = pd.DataFrame(reg_obs,\n",
    "              columns=col_names)\n",
    "df"
   ]
  },
  {
   "cell_type": "code",
   "execution_count": 9,
   "id": "48d90d15-a2c9-4ca6-ad40-8c9553686f8e",
   "metadata": {},
   "outputs": [
    {
     "data": {
      "text/plain": [
       "'I would like to set up a small Mexican grocery somewhere within 10 miles from home. There is an old store that is up for sale, and it would be great to buy it. I need to do some renovations to get it ready for business. While my wife and I will work in the store, I need to have a couple of employees to get me supplies. '"
      ]
     },
     "execution_count": 9,
     "metadata": {},
     "output_type": "execute_result"
    }
   ],
   "source": [
    "df['prospective_business_description'].values[0]"
   ]
  },
  {
   "cell_type": "code",
   "execution_count": null,
   "id": "1e078b21-c954-4f7d-9306-26b0754a1226",
   "metadata": {},
   "outputs": [],
   "source": []
  },
  {
   "cell_type": "code",
   "execution_count": null,
   "id": "57d02b99-728e-4175-98b7-ddd29ba5d949",
   "metadata": {},
   "outputs": [],
   "source": []
  },
  {
   "cell_type": "code",
   "execution_count": null,
   "id": "9067f822-1b71-4ad4-a73f-ea237d142839",
   "metadata": {},
   "outputs": [],
   "source": []
  },
  {
   "cell_type": "code",
   "execution_count": null,
   "id": "5fdaa01c-792f-46bf-838a-f2ba87d75c89",
   "metadata": {},
   "outputs": [],
   "source": [
    "raise NotImplementedError"
   ]
  },
  {
   "cell_type": "code",
   "execution_count": 3,
   "id": "99503dfc-0bc6-41b8-a269-2c3427c73ed3",
   "metadata": {},
   "outputs": [
    {
     "name": "stdout",
     "output_type": "stream",
     "text": [
      "<configparser.ConfigParser object at 0x11213b6d0>\n",
      "Please sign in to your GIS and paste the code that is obtained below.\n",
      "If a web browser does not automatically open, please navigate to the URL below yourself instead.\n",
      "Opening web browser to navigate to: https://ucsdonline.maps.arcgis.com/sharing/rest/oauth2/authorize?response_type=code&client_id=nxo9a9QQpwjWn6Fi&redirect_uri=urn%3Aietf%3Awg%3Aoauth%3A2.0%3Aoob&state=rb295sl6RN7cDZOqt1cCJAEipcyxQw&allow_verification=false\n"
     ]
    },
    {
     "name": "stdin",
     "output_type": "stream",
     "text": [
      "Enter code obtained on signing in using SAML:  ········\n"
     ]
    },
    {
     "name": "stderr",
     "output_type": "stream",
     "text": [
      "/Users/mpstickle/school/capstone/capstone/arc_gis/venv3.9/lib/python3.9/site-packages/urllib3/connectionpool.py:1045: InsecureRequestWarning: Unverified HTTPS request is being made to host 'ucsdonline.maps.arcgis.com'. Adding certificate verification is strongly advised. See: https://urllib3.readthedocs.io/en/1.26.x/advanced-usage.html#ssl-warnings\n",
      "  warnings.warn(\n"
     ]
    }
   ],
   "source": [
    "gis = GIS(\"https://ucsdonline.maps.arcgis.com/home\", client_id=get_config(\"arcgis\",\"clientid\"))"
   ]
  }
 ],
 "metadata": {
  "kernelspec": {
   "display_name": "Python 3 (ipykernel)",
   "language": "python",
   "name": "python3"
  },
  "language_info": {
   "codemirror_mode": {
    "name": "ipython",
    "version": 3
   },
   "file_extension": ".py",
   "mimetype": "text/x-python",
   "name": "python",
   "nbconvert_exporter": "python",
   "pygments_lexer": "ipython3",
   "version": "3.9.16"
  }
 },
 "nbformat": 4,
 "nbformat_minor": 5
}
