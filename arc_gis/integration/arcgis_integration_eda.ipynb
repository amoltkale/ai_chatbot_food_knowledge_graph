{
 "cells": [
  {
   "cell_type": "code",
   "execution_count": 1,
   "id": "9994ed3a-0462-49e4-893a-19f755ced2ec",
   "metadata": {},
   "outputs": [],
   "source": [
    "import sys\n",
    "import os\n",
    "\n",
    "import psycopg2\n",
    "\n",
    "import arcgis\n",
    "from arcgis.gis import GIS\n",
    "from arcgis.features import FeatureLayer, FeatureLayerCollection\n",
    "\n",
    "from langchain.agents import initialize_agent\n",
    "from langchain.llms import OpenAI\n",
    "from langchain import LLMChain\n",
    "from langchain.prompts import PromptTemplate\n",
    "\n",
    "import pandas as pd\n",
    "\n",
    "sys.path.append('../../')\n",
    "from utils import get_config\n",
    "\n",
    "sys.path.append('../')\n",
    "from gis_resources import san_diego_county_zips"
   ]
  },
  {
   "cell_type": "code",
   "execution_count": 2,
   "id": "cf210796-d79c-4ea6-925e-2ee95d134472",
   "metadata": {},
   "outputs": [
    {
     "name": "stdout",
     "output_type": "stream",
     "text": [
      "<configparser.ConfigParser object at 0x1100e6dc0>\n",
      "<configparser.ConfigParser object at 0x11004df10>\n",
      "<configparser.ConfigParser object at 0x11007cac0>\n"
     ]
    }
   ],
   "source": [
    "nourish_user = get_config(\"nourish_db\",\"username\")\n",
    "nourish_pswd = get_config(\"nourish_db\",\"passkey\")\n",
    "ai_key = get_config(\"open_ai\",\"key\")"
   ]
  },
  {
   "cell_type": "code",
   "execution_count": 3,
   "id": "ff20d9aa-2c49-4881-8df3-56d8d9a27c5c",
   "metadata": {},
   "outputs": [],
   "source": [
    "conn = psycopg2.connect(\n",
    "    host=\"awesome-hw.sdsc.edu\",\n",
    "    database=\"nourish\",\n",
    "    user=nourish_user,\n",
    "    password=nourish_pswd)"
   ]
  },
  {
   "cell_type": "code",
   "execution_count": 4,
   "id": "3b160c72-00a4-4f65-b8da-99f7aef23f24",
   "metadata": {},
   "outputs": [],
   "source": [
    "# 32: Manuel,Gonzalez -> prospective food truck owner\n",
    "registrant_id = 32"
   ]
  },
  {
   "cell_type": "code",
   "execution_count": 5,
   "id": "95a68f94-d6be-477a-9e5c-7300dcfd3ede",
   "metadata": {},
   "outputs": [],
   "source": [
    "# Get resgistrant attributes\n",
    "col_qry = \"\"\"\n",
    "SELECT\n",
    "    column_name\n",
    "FROM\n",
    "    information_schema.columns\n",
    "WHERE\n",
    "    table_name = 'registrants';\n",
    "\"\"\"\n",
    "\n",
    "\n",
    "cur = conn.cursor()\n",
    "\n",
    "# execute a statement\n",
    "cur.execute(col_qry)\n",
    "\n",
    "\n",
    "# display the PostgreSQL database server version\n",
    "col_names = cur.fetchall()\n",
    "col_names = [c[0] for c in col_names]\n",
    "       \n",
    "# Close the communication with the PostgreSQL\n",
    "cur.close()"
   ]
  },
  {
   "cell_type": "code",
   "execution_count": 6,
   "id": "08b6ed72-e6d9-4aba-8646-f0b876933547",
   "metadata": {},
   "outputs": [],
   "source": [
    "# Get registrant of interest\n",
    "# create a cursor\n",
    "cur = conn.cursor()\n",
    "\n",
    "query_str = f\"select * \"\\\n",
    "            f\"from registrants \" \\\n",
    "            f\"where id = {registrant_id}\"\n",
    "\n",
    "# execute a statement\n",
    "cur.execute(query_str)\n",
    "\n",
    "\n",
    "# display the PostgreSQL database server version\n",
    "reg_obs = cur.fetchall()\n",
    "       \n",
    "# Close the communication with the PostgreSQL\n",
    "cur.close()"
   ]
  },
  {
   "cell_type": "code",
   "execution_count": 7,
   "id": "b2eb761e-373d-4629-9a77-4a08a8fd451a",
   "metadata": {},
   "outputs": [
    {
     "data": {
      "text/html": [
       "<div>\n",
       "<style scoped>\n",
       "    .dataframe tbody tr th:only-of-type {\n",
       "        vertical-align: middle;\n",
       "    }\n",
       "\n",
       "    .dataframe tbody tr th {\n",
       "        vertical-align: top;\n",
       "    }\n",
       "\n",
       "    .dataframe thead th {\n",
       "        text-align: right;\n",
       "    }\n",
       "</style>\n",
       "<table border=\"1\" class=\"dataframe\">\n",
       "  <thead>\n",
       "    <tr style=\"text-align: right;\">\n",
       "      <th></th>\n",
       "      <th>id</th>\n",
       "      <th>first_name</th>\n",
       "      <th>last_name</th>\n",
       "      <th>middle_name</th>\n",
       "      <th>email</th>\n",
       "      <th>phone</th>\n",
       "      <th>gender</th>\n",
       "      <th>ethnicity</th>\n",
       "      <th>languages_spoken</th>\n",
       "      <th>languages_written</th>\n",
       "      <th>...</th>\n",
       "      <th>insert_dts</th>\n",
       "      <th>update_dts</th>\n",
       "      <th>home_city</th>\n",
       "      <th>home_state</th>\n",
       "      <th>home_zip</th>\n",
       "      <th>biz_city</th>\n",
       "      <th>biz_state</th>\n",
       "      <th>biz_zip</th>\n",
       "      <th>home_street_address</th>\n",
       "      <th>biz_stree_address</th>\n",
       "    </tr>\n",
       "  </thead>\n",
       "  <tbody>\n",
       "    <tr>\n",
       "      <th>0</th>\n",
       "      <td>32</td>\n",
       "      <td>Manuel</td>\n",
       "      <td>Gonzalez</td>\n",
       "      <td>None</td>\n",
       "      <td>[m.gonzalez@gmail.com]</td>\n",
       "      <td>[619-231-4824]</td>\n",
       "      <td>Male</td>\n",
       "      <td>[Hispanic]</td>\n",
       "      <td>[Spanish, English]</td>\n",
       "      <td>[Spanish, English]</td>\n",
       "      <td>...</td>\n",
       "      <td>2023-04-16 19:11:50.029601</td>\n",
       "      <td>None</td>\n",
       "      <td>San Diego</td>\n",
       "      <td>CA</td>\n",
       "      <td>92154</td>\n",
       "      <td>[]</td>\n",
       "      <td>CA</td>\n",
       "      <td>[]</td>\n",
       "      <td>1372-74 Del Sol Ln</td>\n",
       "      <td>None</td>\n",
       "    </tr>\n",
       "  </tbody>\n",
       "</table>\n",
       "<p>1 rows × 31 columns</p>\n",
       "</div>"
      ],
      "text/plain": [
       "   id first_name last_name middle_name                   email  \\\n",
       "0  32     Manuel  Gonzalez        None  [m.gonzalez@gmail.com]   \n",
       "\n",
       "            phone gender   ethnicity    languages_spoken   languages_written  \\\n",
       "0  [619-231-4824]   Male  [Hispanic]  [Spanish, English]  [Spanish, English]   \n",
       "\n",
       "   ...                 insert_dts update_dts  home_city home_state home_zip  \\\n",
       "0  ... 2023-04-16 19:11:50.029601       None  San Diego         CA    92154   \n",
       "\n",
       "  biz_city biz_state biz_zip home_street_address biz_stree_address  \n",
       "0       []        CA      []  1372-74 Del Sol Ln              None  \n",
       "\n",
       "[1 rows x 31 columns]"
      ]
     },
     "execution_count": 7,
     "metadata": {},
     "output_type": "execute_result"
    }
   ],
   "source": [
    "# make df\n",
    "df = pd.DataFrame(reg_obs,\n",
    "              columns=col_names)\n",
    "df"
   ]
  },
  {
   "cell_type": "code",
   "execution_count": 8,
   "id": "1e078b21-c954-4f7d-9306-26b0754a1226",
   "metadata": {},
   "outputs": [],
   "source": [
    "def convert_df(df):\n",
    "    assert df.shape[0] == 1\n",
    "    res_df = df.copy()\n",
    "    res_df.dropna(inplace=True, axis=1)\n",
    "    res_df.drop(columns=[\"id\", \"insert_dts\"], inplace=True)\n",
    "    return {c.replace(\"biz\", \"business\"): res_df[c][0] for c in res_df.columns}"
   ]
  },
  {
   "cell_type": "code",
   "execution_count": 9,
   "id": "48d90d15-a2c9-4ca6-ad40-8c9553686f8e",
   "metadata": {},
   "outputs": [
    {
     "data": {
      "text/plain": [
       "\"Here is some information about a person. There information is given in json format below.Please welcome this person as if you are talking to them and summarize their business needs, location, and funding needs. Please do not repeat their personal information back to them since they already know this and you are talking to them.{'first_name': 'Manuel', 'last_name': 'Gonzalez', 'email': ['m.gonzalez@gmail.com'], 'phone': ['619-231-4824'], 'gender': 'Male', 'ethnicity': ['Hispanic'], 'languages_spoken': ['Spanish', 'English'], 'languages_written': ['Spanish', 'English'], 'extending_existing_business': False, 'prospective_business_description': 'I would like to set up a small Mexican grocery somewhere within 10 miles from home. There is an old store that is up for sale, and it would be great to buy it. I need to do some renovations to get it ready for business. While my wife and I will work in the store, I need to have a couple of employees to get me supplies. ', 'desired_funding': Decimal('70000'), 'business_role': 'owner', 'is_veteran': False, 'home_city': 'San Diego', 'home_state': 'CA', 'home_zip': '92154', 'business_city': [], 'business_state': 'CA', 'business_zip': [], 'home_street_address': '1372-74 Del Sol Ln'}\""
      ]
     },
     "execution_count": 9,
     "metadata": {},
     "output_type": "execute_result"
    }
   ],
   "source": [
    "# Put together prospective user information to give base context to user\n",
    "user_info = convert_df(df)\n",
    "\n",
    "\n",
    "# Initial prompt\n",
    "prompt = f\"Here is some information about a person. There information is given in json format below.\" \\\n",
    "        \"Please welcome this person as if you are talking to them and summarize their business needs, location, and funding needs. \" \\\n",
    "        \"Please do not repeat their personal information back to them since they already know this and you are talking to them.\" \\\n",
    "        f\"{user_info}\"\n",
    "# prompt = f\"This is {df['first_name']} {df['last_name']}. \" \\\n",
    "#           \"The following information relates to their experience and business goals: \" \\\n",
    "#          f\"gender: {df['gender']}, ethnicity: {df['ethnicity']}, is vetran: {df['is_veteran']} \" \\\n",
    "#          f\"business description: {df['current_business_description']} {df['prospective_business_description']}. \" \\\n",
    "#          f\"Please welcome this person and summarize their business, location, and funding needs for {df['biz_state']}.\"\n",
    "\n",
    "\n",
    "# df['prospective_business_description'].values[0]\n",
    "prompt"
   ]
  },
  {
   "cell_type": "code",
   "execution_count": 10,
   "id": "6bdfb230-459d-436b-aef6-d6cb8bd00687",
   "metadata": {},
   "outputs": [],
   "source": [
    "llm = OpenAI(temperature=0, verbose=True, openai_api_key=ai_key)\n",
    "\n",
    "# If you want to test -> uses up $0.00046\n",
    "# text = \"What would be a good company name for a company that makes colorful socks?\"\n",
    "# print(llm(text))"
   ]
  },
  {
   "cell_type": "code",
   "execution_count": 11,
   "id": "892b1646-7902-4fff-9fd7-93ecfeda99fb",
   "metadata": {},
   "outputs": [
    {
     "name": "stdout",
     "output_type": "stream",
     "text": [
      "\n",
      "\n",
      "Welcome Manuel! It sounds like you are looking to set up a small Mexican grocery in San Diego, CA. You are looking to purchase an existing store and need to do some renovations. You also need to hire a couple of employees. You are looking for $70,000 in funding to help you get started.\n"
     ]
    }
   ],
   "source": [
    "print(llm(prompt))"
   ]
  },
  {
   "cell_type": "code",
   "execution_count": null,
   "id": "368c0aee-cb4c-4b2a-b223-d17ebd9b75e2",
   "metadata": {},
   "outputs": [],
   "source": [
    "# Eventually plan out the tools\n",
    "# tools = [\"Location\", \"Cuisine\"]"
   ]
  },
  {
   "cell_type": "code",
   "execution_count": null,
   "id": "9067f822-1b71-4ad4-a73f-ea237d142839",
   "metadata": {},
   "outputs": [],
   "source": []
  },
  {
   "cell_type": "code",
   "execution_count": null,
   "id": "5fdaa01c-792f-46bf-838a-f2ba87d75c89",
   "metadata": {},
   "outputs": [],
   "source": [
    "raise NotImplementedError"
   ]
  },
  {
   "cell_type": "code",
   "execution_count": 3,
   "id": "99503dfc-0bc6-41b8-a269-2c3427c73ed3",
   "metadata": {},
   "outputs": [
    {
     "name": "stdout",
     "output_type": "stream",
     "text": [
      "<configparser.ConfigParser object at 0x11213b6d0>\n",
      "Please sign in to your GIS and paste the code that is obtained below.\n",
      "If a web browser does not automatically open, please navigate to the URL below yourself instead.\n",
      "Opening web browser to navigate to: https://ucsdonline.maps.arcgis.com/sharing/rest/oauth2/authorize?response_type=code&client_id=nxo9a9QQpwjWn6Fi&redirect_uri=urn%3Aietf%3Awg%3Aoauth%3A2.0%3Aoob&state=rb295sl6RN7cDZOqt1cCJAEipcyxQw&allow_verification=false\n"
     ]
    },
    {
     "name": "stdin",
     "output_type": "stream",
     "text": [
      "Enter code obtained on signing in using SAML:  ········\n"
     ]
    },
    {
     "name": "stderr",
     "output_type": "stream",
     "text": [
      "/Users/mpstickle/school/capstone/capstone/arc_gis/venv3.9/lib/python3.9/site-packages/urllib3/connectionpool.py:1045: InsecureRequestWarning: Unverified HTTPS request is being made to host 'ucsdonline.maps.arcgis.com'. Adding certificate verification is strongly advised. See: https://urllib3.readthedocs.io/en/1.26.x/advanced-usage.html#ssl-warnings\n",
      "  warnings.warn(\n"
     ]
    }
   ],
   "source": [
    "gis = GIS(\"https://ucsdonline.maps.arcgis.com/home\", client_id=get_config(\"arcgis\",\"clientid\"))"
   ]
  }
 ],
 "metadata": {
  "kernelspec": {
   "display_name": "Python 3 (ipykernel)",
   "language": "python",
   "name": "python3"
  },
  "language_info": {
   "codemirror_mode": {
    "name": "ipython",
    "version": 3
   },
   "file_extension": ".py",
   "mimetype": "text/x-python",
   "name": "python",
   "nbconvert_exporter": "python",
   "pygments_lexer": "ipython3",
   "version": "3.9.16"
  }
 },
 "nbformat": 4,
 "nbformat_minor": 5
}
