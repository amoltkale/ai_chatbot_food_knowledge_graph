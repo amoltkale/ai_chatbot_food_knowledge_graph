{
 "cells": [
  {
   "cell_type": "code",
   "execution_count": 1,
   "id": "4fa91809-469d-4320-8d4c-27292b9c1e9d",
   "metadata": {},
   "outputs": [],
   "source": [
    "foodon_parsing = True"
   ]
  },
  {
   "cell_type": "code",
   "execution_count": 2,
   "id": "6cf80b4f-ca0e-4970-8592-110e6390e4e0",
   "metadata": {},
   "outputs": [
    {
     "name": "stderr",
     "output_type": "stream",
     "text": [
      "* Owlready2 * Warning: optimized Cython parser module 'owlready2_optimized' is not available, defaulting to slower Python implementation\n"
     ]
    }
   ],
   "source": [
    "import csv\n",
    "\n",
    "from pathlib import Path\n",
    "\n",
    "from owlready2 import *\n",
    "\n",
    "import pandas as pd"
   ]
  },
  {
   "cell_type": "code",
   "execution_count": 3,
   "id": "c393aa7d-6207-47ca-aeab-8e04572a8f6a",
   "metadata": {},
   "outputs": [],
   "source": [
    "# set up out path\n",
    "data_p = Path(\"../../ontologies\")\n",
    "\n",
    "out_p = data_p / \"out/\"\n",
    "out_p.mkdir(exist_ok=True)"
   ]
  },
  {
   "cell_type": "code",
   "execution_count": 4,
   "id": "076be356-d7f0-4608-826d-8ee61ae7ba41",
   "metadata": {},
   "outputs": [],
   "source": [
    "# set paths\n",
    "ontology_p = \"../../ontologies\"\n",
    "\n",
    "if foodon_parsing:\n",
    "    # load foodon ontology\n",
    "    foodon_p   = ontology_p + \"/foodon_filtered.owl\"\n",
    "    onto = get_ontology(foodon_p).load()\n",
    "    node_prefix = \"foodon\"\n",
    "\n",
    "    # create write paths\n",
    "    node_p = out_p / \"nodes.csv\"\n",
    "    rel_p  = out_p / \"rel.csv\"\n",
    "else:\n",
    "    # load upper ontology\n",
    "    # upper_p   = ontology_p + \"/test_nourishUpperOntology.owl\"\n",
    "    upper_p   = ontology_p + \"/nourishUpperOntology.owl\"\n",
    "    onto = get_ontology(upper_p).load()\n",
    "    node_prefix = \"upper\"\n",
    "\n",
    "    # create write paths\n",
    "    node_p = out_p / \"upper_nodes.csv\"\n",
    "    rel_p  = out_p / \"upper_rel.csv\""
   ]
  },
  {
   "cell_type": "code",
   "execution_count": 5,
   "id": "a70c9f0d-0865-444d-baa7-bc0a16d33f88",
   "metadata": {},
   "outputs": [],
   "source": [
    "# create node files\n",
    "with open(node_p, 'w') as csvfile:\n",
    "    fieldnames = ['node_id:ID', 'descriptive_label:string[]', 'iri', ':LABEL']\n",
    "    writer = csv.DictWriter(csvfile, fieldnames=fieldnames)\n",
    "\n",
    "    writer.writeheader()\n",
    "\n",
    "\n",
    "with open(rel_p, 'w') as csvfile:\n",
    "    fieldnames = [':START_ID', ':END_ID', ':TYPE', 'restriction', 'label']\n",
    "    writer = csv.DictWriter(csvfile, fieldnames=fieldnames)\n",
    "\n",
    "    writer.writeheader()"
   ]
  },
  {
   "cell_type": "code",
   "execution_count": 6,
   "id": "75b5a222-2cab-4a50-b05e-21cb1810227b",
   "metadata": {},
   "outputs": [],
   "source": [
    "def create_transitionary_node(node_type, node_counter):\n",
    "    # pass\n",
    "    # AND_00000001\n",
    "    # OR_00000001\n",
    "    # BLANK_00000001\n",
    "    \n",
    "    node = f\"{node_type.upper()}_{node_counter}\"\n",
    "    node_counter = node_counter + 1\n",
    "    return node, node_counter\n",
    "\n",
    "def append_node(node, node_p:Path, *, node_type:str=''):\n",
    "    '''\n",
    "    input:\n",
    "        node:\n",
    "            case 1: owlready2.entity.ThingClass\n",
    "            case 2: Type: str: node = string name\n",
    "        node_p: path to node file to append node to\n",
    "        onto_type: node type for and/or\n",
    "    '''\n",
    "    # construct node row\n",
    "    if isinstance(node, owlready2.entity.ThingClass) or isinstance(node, owlready2.prop.ObjectPropertyClass):\n",
    "        # ThingClass node\n",
    "        try:\n",
    "            node_label = ';'.join(node.label)\n",
    "        except:\n",
    "            node_label = ''\n",
    "        node_line = [str(node), node_label, str(node.iri), node_type]\n",
    "    elif isinstance(node, str):\n",
    "        # Case: blank, and/or nodes\n",
    "        node_line = [node, '', '', node_type]\n",
    "    else:\n",
    "        raise ValueError\n",
    "    # write node to file\n",
    "    with open(node_p, 'a') as f:\n",
    "        node_writer = csv.writer(f, delimiter=',')\n",
    "        node_writer.writerow(node_line)\n",
    "        \n",
    "def append_relation(source_id:str, target_id:str,\n",
    "                    edge_type:str, restriction:str=''):\n",
    "    try:\n",
    "        edge_label = ';'.join(edge_type.label)\n",
    "    except:\n",
    "        edge_label = ''\n",
    "        \n",
    "    # construct relation row\n",
    "    rel_line = [source_id, target_id, edge_type, restriction,edge_label]\n",
    "    # write to file\n",
    "    with open(rel_p, 'a') as f:\n",
    "        rel_writer = csv.writer(f, delimiter=',')\n",
    "        rel_writer.writerow(rel_line)\n",
    "\n",
    "def get_details_of_restriction(res):\n",
    "    return res.property,res.type,res.value"
   ]
  },
  {
   "cell_type": "code",
   "execution_count": 7,
   "id": "2a22e710-a699-484d-9cd2-ec3eba06cbe1",
   "metadata": {},
   "outputs": [],
   "source": [
    "def parse_logic(unknown_node, known_node, edge_type, restriction_type, and_count, or_count, blank_count, not_count, oo_count, node_prefix):\n",
    "    match type(unknown_node):\n",
    "        case owlready2.entity.ThingClass:\n",
    "            # case: stop rule\n",
    "            append_node(unknown_node,node_p,node_type=\"Concept\")\n",
    "            if isinstance(known_node, str) and (\"AND\" in known_node or \"OR\" in known_node):\n",
    "                # AND/OR nodes are the targets of classes in conjunctons\n",
    "                append_relation(unknown_node, known_node, edge_type, restriction_type)\n",
    "            else:\n",
    "                append_relation(known_node, unknown_node, edge_type, restriction_type)\n",
    "        \n",
    "        case owlready2.prop.ObjectPropertyClass:\n",
    "            append_node(unknown_node,node_p,node_type=\"Property\")\n",
    "            if isinstance(known_node, str) and (\"AND\" in known_node or \"OR\" in known_node):\n",
    "                # AND/OR nodes are the targets of classes in conjunctons\n",
    "                append_relation(unknown_node, known_node, edge_type, restriction_type)\n",
    "            else:\n",
    "                append_relation(known_node, unknown_node, edge_type, restriction_type)\n",
    "\n",
    "        case owlready2.class_construct.And:\n",
    "            ## AND Node creation\n",
    "            and_node, and_count = create_transitionary_node(f'{node_prefix}_AND',and_count)\n",
    "            append_node(and_node,node_p,node_type='AND')\n",
    "            # made edge between AND and known\n",
    "            append_relation(known_node, and_node, edge_type, restriction_type)\n",
    "            \n",
    "            # Iterate through AND list\n",
    "            for connected_node in unknown_node.is_a:\n",
    "                # make recursion call on connected node\n",
    "                and_count, or_count, blank_count, not_count, oo_count = parse_logic(connected_node, and_node, \"member_of\",\n",
    "                    restriction_type, and_count, or_count, blank_count, not_count, oo_count, node_prefix)\n",
    "                \n",
    "        case owlready2.class_construct.Or:\n",
    "            ## AND Node creation\n",
    "            or_node, or_count = create_transitionary_node(f'{node_prefix}_OR', or_count)\n",
    "            append_node(or_node,node_p,node_type='OR')\n",
    "            # made edge between OR and known\n",
    "            append_relation(known_node, or_node, edge_type, restriction_type)\n",
    "            \n",
    "            # Iterate through OR list\n",
    "            for connected_node in unknown_node.Classes:\n",
    "                # make recursion call on connected node\n",
    "                and_count, or_count, blank_count, not_count, oo_count = parse_logic(connected_node, or_node, \"member_of\",\n",
    "                    restriction_type, and_count, or_count, blank_count, not_count, oo_count, node_prefix)\n",
    "\n",
    "        case owlready2.class_construct.Restriction:\n",
    "            ## BLANK Node Creatiom\n",
    "            blank_node, blank_count = create_transitionary_node(f'{node_prefix}_BLANK', blank_count)\n",
    "            append_node(blank_node, node_p, node_type='BLANK')\n",
    "            # make edge between known and blank\n",
    "            append_relation(blank_node, known_node, edge_type, restriction_type)\n",
    "            \n",
    "            # Get values out of restriction\n",
    "            edge_label, restriction, new_unknown_type = get_details_of_restriction(unknown_node)\n",
    "            \n",
    "            match restriction:\n",
    "                case 24: # SOME\n",
    "                    restriction_name = \"SOME\"\n",
    "                case 25: # ONLY\n",
    "                    restriction_name = \"ONLY\"\n",
    "                case 26: # EXACTLY\n",
    "                    restriction_name = \"EXACTLY\"\n",
    "                case 27: # MIN\n",
    "                    restriction_name = \"MIN\"\n",
    "                case 28:\n",
    "                    restriction_name = \"MAX\"\n",
    "                case 29:\n",
    "                    restriction_name = \"VALUE\"\n",
    "                case _:\n",
    "                    print(restriction)\n",
    "                    print(unknown_node)\n",
    "                    raise NotImplementedError\n",
    "            \n",
    "            assert isinstance(edge_label, owlready2.prop.ObjectPropertyClass) or \\\n",
    "                    isinstance(edge_label, owlready2.prop.DataPropertyClass), f\"{edge_label} {type(edge_label)}\"\n",
    "            and_count, or_count, blank_count, not_count, oo_count = parse_logic(new_unknown_type, blank_node, edge_label,\n",
    "                restriction_name, and_count, or_count, blank_count, not_count, oo_count, node_prefix)\n",
    "            \n",
    "        case owlready2.class_construct.Not:\n",
    "            ## Not Node Creatiom\n",
    "            not_node, not_count = create_transitionary_node(f'{node_prefix}_NOT', not_count)\n",
    "            append_node(not_node, node_p, node_type='NOT')\n",
    "            # make edge between known and blank\n",
    "            append_relation(not_node, known_node, edge_type, restriction_type)\n",
    "            \n",
    "            # Get values out of restriction\n",
    "            and_count, or_count, blank_count, not_count, oo_count = parse_logic(unknown_node.Class, not_node, \"member_of\",\n",
    "                restriction_type, and_count, or_count, blank_count, not_count, oo_count, node_prefix)\n",
    "            \n",
    "        case owlready2.class_construct.OneOf:\n",
    "            ## OneOf Node creation\n",
    "            oo_node, oo_count = create_transitionary_node(f'{node_prefix}_OneOf', oo_count)\n",
    "            append_node(oo_node,node_p,node_type='OneOf')\n",
    "            # made edge between OneOf and known\n",
    "            append_relation(known_node, oo_node, edge_type, restriction_type)\n",
    "            \n",
    "            # Iterate through AND list\n",
    "            # print(unknown_node.instances)\n",
    "            for connected_node in unknown_node.instances:\n",
    "                # OneOf instance returns list of instances of type OneOf node\n",
    "                # therefore, we need to temporarily cast connected node to type thing class\n",
    "                # types.new_class(connected_node.name, (Thing,))\n",
    "                \n",
    "                # make recursion call on connected node\n",
    "                and_count, or_count, blank_count, not_count, oo_count = parse_logic(\n",
    "                    types.new_class(connected_node.name, (Thing,)), oo_node, \n",
    "                    \"member_of\", restriction_type, and_count, or_count, \n",
    "                    blank_count, not_count, oo_count, node_prefix)\n",
    "            \n",
    "\n",
    "        case _:\n",
    "            # print out type\n",
    "            raise TypeError(f\"Unknown type: {type(unknown_node)}\")\n",
    "    return and_count, or_count, blank_count, not_count, oo_count"
   ]
  },
  {
   "cell_type": "code",
   "execution_count": 8,
   "id": "b9ad5b6b-c48e-4df9-bc4b-622b43ec07af",
   "metadata": {},
   "outputs": [
    {
     "name": "stderr",
     "output_type": "stream",
     "text": [
      "* Owlready2 * Warning: ignoring cyclic subclass of/subproperty of, involving:\n",
      "  http://purl.obolibrary.org/obo/FOODON_00002511\n",
      "\n",
      "* Owlready2 * Warning: ignoring cyclic subclass of/subproperty of, involving:\n",
      "  http://purl.obolibrary.org/obo/FOODON_03315876\n",
      "\n"
     ]
    }
   ],
   "source": [
    "# main loop\n",
    "and_count = 0\n",
    "or_count = 0\n",
    "blank_count = 0\n",
    "not_count = 0\n",
    "oo_count = 0\n",
    "\n",
    "for c in onto.classes():\n",
    "    # if c.name == \"FOODON_00002396\":\n",
    "    # if c.name == \"FOODON_00002403\":\n",
    "    # if c.name == \"FOODON_00002114\":\n",
    "    #     break\n",
    "        \n",
    "    # add class to node file\n",
    "    append_node(c,node_p,node_type=\"Concept\")\n",
    "\n",
    "    # check if equivalence is not empty\n",
    "    if list(c.equivalent_to):\n",
    "        for sc in c.equivalent_to:\n",
    "            and_count, or_count, blank_count, not_count, oo_count = parse_logic(\n",
    "                sc, c, \"equivalent_to\", \"\", and_count, or_count, blank_count, not_count, oo_count, node_prefix)\n",
    "    elif list(c.is_a):\n",
    "        for sc in c.is_a:\n",
    "            and_count, or_count, blank_count, not_count, oo_count = parse_logic(\n",
    "                sc, c, \"is_a\", \"\", and_count, or_count, blank_count, not_count, oo_count, node_prefix)\n",
    "    else:\n",
    "        print(\":(\")\n",
    "\n",
    "for p in onto.object_properties():\n",
    "\n",
    "    # add class to node file\n",
    "    append_node(p,node_p,node_type=\"Property\")\n",
    "\n",
    "    # check if equivalence is not empty\n",
    "    if list(p.subclasses()):\n",
    "        for sp in p.subclasses():\n",
    "            and_count, or_count, blank_count, not_count, oo_count = parse_logic(\n",
    "                sp, p, \"is_a\", \"\", and_count, or_count, blank_count, not_count, oo_count, node_prefix)"
   ]
  },
  {
   "cell_type": "code",
   "execution_count": 9,
   "id": "b84d5517-0e61-482f-ba22-4f9448c1003b",
   "metadata": {},
   "outputs": [
    {
     "name": "stdout",
     "output_type": "stream",
     "text": [
      "(91653, 4)\n"
     ]
    },
    {
     "data": {
      "text/plain": [
       "(46044, 4)"
      ]
     },
     "execution_count": 9,
     "metadata": {},
     "output_type": "execute_result"
    }
   ],
   "source": [
    "node_df = pd.read_csv(node_p)\n",
    "print(node_df.shape)\n",
    "node_df.drop_duplicates(inplace=True)\n",
    "node_df.to_csv(node_p,index=False)\n",
    "node_df.shape"
   ]
  },
  {
   "cell_type": "code",
   "execution_count": 10,
   "id": "1f3fbb91-eb9e-47e5-b87e-9d72a034a4d2",
   "metadata": {},
   "outputs": [
    {
     "name": "stdout",
     "output_type": "stream",
     "text": [
      "(59566, 5)\n"
     ]
    },
    {
     "data": {
      "text/plain": [
       "(59566, 5)"
      ]
     },
     "execution_count": 10,
     "metadata": {},
     "output_type": "execute_result"
    }
   ],
   "source": [
    "rel_df = pd.read_csv(rel_p)\n",
    "print(rel_df.shape)\n",
    "rel_df.drop_duplicates(inplace=True)\n",
    "rel_df.to_csv(rel_p,index=False)\n",
    "rel_df.shape"
   ]
  },
  {
   "cell_type": "code",
   "execution_count": 11,
   "id": "b90f8604-0457-4495-9e76-914547d22d80",
   "metadata": {},
   "outputs": [
    {
     "data": {
      "text/html": [
       "<div>\n",
       "<style scoped>\n",
       "    .dataframe tbody tr th:only-of-type {\n",
       "        vertical-align: middle;\n",
       "    }\n",
       "\n",
       "    .dataframe tbody tr th {\n",
       "        vertical-align: top;\n",
       "    }\n",
       "\n",
       "    .dataframe thead th {\n",
       "        text-align: right;\n",
       "    }\n",
       "</style>\n",
       "<table border=\"1\" class=\"dataframe\">\n",
       "  <thead>\n",
       "    <tr style=\"text-align: right;\">\n",
       "      <th></th>\n",
       "      <th>:START_ID</th>\n",
       "      <th>:END_ID</th>\n",
       "      <th>:TYPE</th>\n",
       "      <th>restriction</th>\n",
       "      <th>label</th>\n",
       "    </tr>\n",
       "  </thead>\n",
       "  <tbody>\n",
       "    <tr>\n",
       "      <th>0</th>\n",
       "      <td>obo.FOODON_00002403</td>\n",
       "      <td>FOODON_AND_0</td>\n",
       "      <td>equivalent_to</td>\n",
       "      <td>NaN</td>\n",
       "      <td>NaN</td>\n",
       "    </tr>\n",
       "    <tr>\n",
       "      <th>1</th>\n",
       "      <td>obo.ENVO_00010483</td>\n",
       "      <td>FOODON_AND_0</td>\n",
       "      <td>member_of</td>\n",
       "      <td>NaN</td>\n",
       "      <td>NaN</td>\n",
       "    </tr>\n",
       "    <tr>\n",
       "      <th>2</th>\n",
       "      <td>FOODON_BLANK_0</td>\n",
       "      <td>FOODON_AND_0</td>\n",
       "      <td>member_of</td>\n",
       "      <td>NaN</td>\n",
       "      <td>NaN</td>\n",
       "    </tr>\n",
       "    <tr>\n",
       "      <th>3</th>\n",
       "      <td>FOODON_BLANK_0</td>\n",
       "      <td>obo.CHEBI_33290</td>\n",
       "      <td>obo.RO_0000087</td>\n",
       "      <td>SOME</td>\n",
       "      <td>has role</td>\n",
       "    </tr>\n",
       "    <tr>\n",
       "      <th>4</th>\n",
       "      <td>obo.FOODON_00001002</td>\n",
       "      <td>obo.FOODON_00002403</td>\n",
       "      <td>is_a</td>\n",
       "      <td>NaN</td>\n",
       "      <td>NaN</td>\n",
       "    </tr>\n",
       "    <tr>\n",
       "      <th>...</th>\n",
       "      <td>...</td>\n",
       "      <td>...</td>\n",
       "      <td>...</td>\n",
       "      <td>...</td>\n",
       "      <td>...</td>\n",
       "    </tr>\n",
       "    <tr>\n",
       "      <th>59561</th>\n",
       "      <td>obo.RO_0000056</td>\n",
       "      <td>obo.OBI_0000312</td>\n",
       "      <td>is_a</td>\n",
       "      <td>NaN</td>\n",
       "      <td>NaN</td>\n",
       "    </tr>\n",
       "    <tr>\n",
       "      <th>59562</th>\n",
       "      <td>obo.RO_0000052</td>\n",
       "      <td>obo.RO_0000079</td>\n",
       "      <td>is_a</td>\n",
       "      <td>NaN</td>\n",
       "      <td>NaN</td>\n",
       "    </tr>\n",
       "    <tr>\n",
       "      <th>59563</th>\n",
       "      <td>obo.RO_0000052</td>\n",
       "      <td>obo.RO_0000080</td>\n",
       "      <td>is_a</td>\n",
       "      <td>NaN</td>\n",
       "      <td>NaN</td>\n",
       "    </tr>\n",
       "    <tr>\n",
       "      <th>59564</th>\n",
       "      <td>obo.RO_0000052</td>\n",
       "      <td>obo.RO_0000081</td>\n",
       "      <td>is_a</td>\n",
       "      <td>NaN</td>\n",
       "      <td>NaN</td>\n",
       "    </tr>\n",
       "    <tr>\n",
       "      <th>59565</th>\n",
       "      <td>obo.RO_0000052</td>\n",
       "      <td>obo.RO_0000092</td>\n",
       "      <td>is_a</td>\n",
       "      <td>NaN</td>\n",
       "      <td>NaN</td>\n",
       "    </tr>\n",
       "  </tbody>\n",
       "</table>\n",
       "<p>59566 rows × 5 columns</p>\n",
       "</div>"
      ],
      "text/plain": [
       "                 :START_ID              :END_ID           :TYPE restriction  \\\n",
       "0      obo.FOODON_00002403         FOODON_AND_0   equivalent_to         NaN   \n",
       "1        obo.ENVO_00010483         FOODON_AND_0       member_of         NaN   \n",
       "2           FOODON_BLANK_0         FOODON_AND_0       member_of         NaN   \n",
       "3           FOODON_BLANK_0      obo.CHEBI_33290  obo.RO_0000087        SOME   \n",
       "4      obo.FOODON_00001002  obo.FOODON_00002403            is_a         NaN   \n",
       "...                    ...                  ...             ...         ...   \n",
       "59561       obo.RO_0000056      obo.OBI_0000312            is_a         NaN   \n",
       "59562       obo.RO_0000052       obo.RO_0000079            is_a         NaN   \n",
       "59563       obo.RO_0000052       obo.RO_0000080            is_a         NaN   \n",
       "59564       obo.RO_0000052       obo.RO_0000081            is_a         NaN   \n",
       "59565       obo.RO_0000052       obo.RO_0000092            is_a         NaN   \n",
       "\n",
       "          label  \n",
       "0           NaN  \n",
       "1           NaN  \n",
       "2           NaN  \n",
       "3      has role  \n",
       "4           NaN  \n",
       "...         ...  \n",
       "59561       NaN  \n",
       "59562       NaN  \n",
       "59563       NaN  \n",
       "59564       NaN  \n",
       "59565       NaN  \n",
       "\n",
       "[59566 rows x 5 columns]"
      ]
     },
     "execution_count": 11,
     "metadata": {},
     "output_type": "execute_result"
    }
   ],
   "source": [
    "rel_df"
   ]
  },
  {
   "cell_type": "code",
   "execution_count": 12,
   "id": "5b703c90-88a9-423c-ab55-25dd6ed67773",
   "metadata": {},
   "outputs": [
    {
     "data": {
      "text/plain": [
       "array([nan, 'SOME', 'ONLY', 'MIN', 'EXACTLY'], dtype=object)"
      ]
     },
     "execution_count": 12,
     "metadata": {},
     "output_type": "execute_result"
    }
   ],
   "source": [
    "rel_df.restriction.unique()"
   ]
  },
  {
   "cell_type": "markdown",
   "id": "1a63a2ca-a976-4ed7-aa22-e7656653bbf9",
   "metadata": {},
   "source": [
    "# DO NOT PASS"
   ]
  },
  {
   "cell_type": "markdown",
   "id": "d6ef098e-eda1-46a9-afe7-a9bd2c567614",
   "metadata": {},
   "source": [
    "## YE HAVE BEEN WARNED"
   ]
  },
  {
   "cell_type": "markdown",
   "id": "4794b595-ab69-4207-86eb-8a713c453898",
   "metadata": {},
   "source": [
    "### SERIOUSLY DONT DO IT"
   ]
  },
  {
   "cell_type": "markdown",
   "id": "a76db5df-4aac-4ae3-b4e0-aa6a9caa495d",
   "metadata": {},
   "source": [
    "#### I SEE YOU DONT LISTEN, GOOD LUCK BRAVE ADVENTURER"
   ]
  },
  {
   "cell_type": "code",
   "execution_count": 9,
   "id": "a8fdd97f-70f7-43f4-88f5-fbbe8c3eb326",
   "metadata": {},
   "outputs": [
    {
     "data": {
      "text/plain": [
       "obo.IAO_0000078"
      ]
     },
     "execution_count": 9,
     "metadata": {},
     "output_type": "execute_result"
    }
   ],
   "source": [
    "c"
   ]
  },
  {
   "cell_type": "code",
   "execution_count": 10,
   "id": "5b721a1c-28ab-444c-a33a-f18c7954a586",
   "metadata": {},
   "outputs": [
    {
     "data": {
      "text/plain": [
       "[OneOf([obo.IAO_0000002, obo.IAO_0000120, obo.IAO_0000121, obo.IAO_0000122, obo.IAO_0000123, obo.IAO_0000124, obo.IAO_0000125, obo.IAO_0000423, obo.IAO_0000428])]"
      ]
     },
     "execution_count": 10,
     "metadata": {},
     "output_type": "execute_result"
    }
   ],
   "source": [
    "c.equivalent_to"
   ]
  },
  {
   "cell_type": "code",
   "execution_count": 11,
   "id": "5f60cae6-6365-4caf-b840-e7b2d358a1af",
   "metadata": {},
   "outputs": [
    {
     "data": {
      "text/plain": [
       "owlready2.class_construct.OneOf"
      ]
     },
     "execution_count": 11,
     "metadata": {},
     "output_type": "execute_result"
    }
   ],
   "source": [
    "type(c.equivalent_to[0])"
   ]
  },
  {
   "cell_type": "code",
   "execution_count": 14,
   "id": "d536fa67-2c1a-4baf-840f-bb7b8fcaa4ee",
   "metadata": {},
   "outputs": [
    {
     "data": {
      "text/plain": [
       "[obo.IAO_0000002,\n",
       " obo.IAO_0000120,\n",
       " obo.IAO_0000121,\n",
       " obo.IAO_0000122,\n",
       " obo.IAO_0000123,\n",
       " obo.IAO_0000124,\n",
       " obo.IAO_0000125,\n",
       " obo.IAO_0000423,\n",
       " obo.IAO_0000428]"
      ]
     },
     "execution_count": 14,
     "metadata": {},
     "output_type": "execute_result"
    }
   ],
   "source": [
    "c.equivalent_to[0].instances"
   ]
  },
  {
   "cell_type": "code",
   "execution_count": 15,
   "id": "bfc39168-8b56-4df1-af46-c9e018e24ed0",
   "metadata": {},
   "outputs": [
    {
     "data": {
      "text/plain": [
       "'http://purl.obolibrary.org/obo/IAO_0000078'"
      ]
     },
     "execution_count": 15,
     "metadata": {},
     "output_type": "execute_result"
    }
   ],
   "source": [
    "c.iri"
   ]
  },
  {
   "cell_type": "code",
   "execution_count": 11,
   "id": "ae7185b3-0a10-4ef0-b8ee-75ec2bff87b0",
   "metadata": {},
   "outputs": [
    {
     "data": {
      "text/plain": [
       "owlready2.util.CallbackList"
      ]
     },
     "execution_count": 11,
     "metadata": {},
     "output_type": "execute_result"
    }
   ],
   "source": [
    "type(c.equivalent_to[0].instances)"
   ]
  },
  {
   "cell_type": "code",
   "execution_count": 15,
   "id": "1a124392-7c35-455d-977e-707afd1a6f6f",
   "metadata": {},
   "outputs": [
    {
     "data": {
      "text/plain": [
       "obo.IAO_0000428"
      ]
     },
     "execution_count": 15,
     "metadata": {},
     "output_type": "execute_result"
    }
   ],
   "source": [
    "for a in c.equivalent_to[0].instances:\n",
    "    pass\n",
    "a"
   ]
  },
  {
   "cell_type": "code",
   "execution_count": 19,
   "id": "f9c8f3df-c4ca-4a72-ac3b-b61d9c4a0a89",
   "metadata": {},
   "outputs": [
    {
     "data": {
      "text/plain": [
       "'IAO_0000428'"
      ]
     },
     "execution_count": 19,
     "metadata": {},
     "output_type": "execute_result"
    }
   ],
   "source": [
    "a.name"
   ]
  },
  {
   "cell_type": "code",
   "execution_count": 21,
   "id": "db48295a-a410-410b-8a6b-54372fe2914c",
   "metadata": {},
   "outputs": [
    {
     "data": {
      "text/plain": [
       "owlready2.entity.ThingClass"
      ]
     },
     "execution_count": 21,
     "metadata": {},
     "output_type": "execute_result"
    }
   ],
   "source": [
    "type(types.new_class(a.name, (Thing,)))"
   ]
  },
  {
   "cell_type": "code",
   "execution_count": 23,
   "id": "c9bd2663-c391-4156-84a2-001641a3085f",
   "metadata": {},
   "outputs": [
    {
     "data": {
      "text/plain": [
       "331"
      ]
     },
     "execution_count": 23,
     "metadata": {},
     "output_type": "execute_result"
    }
   ],
   "source": [
    "len(list(onto.classes()))"
   ]
  },
  {
   "cell_type": "code",
   "execution_count": null,
   "id": "2817642f-0aa0-4b00-8445-287f6de43e84",
   "metadata": {},
   "outputs": [],
   "source": []
  },
  {
   "cell_type": "code",
   "execution_count": null,
   "id": "f93737d0-6e61-4a15-919c-7b10abf95b60",
   "metadata": {},
   "outputs": [],
   "source": []
  },
  {
   "cell_type": "code",
   "execution_count": null,
   "id": "ab4d22e0-0f71-436d-86c3-96295b7e7817",
   "metadata": {},
   "outputs": [],
   "source": []
  },
  {
   "cell_type": "code",
   "execution_count": null,
   "id": "cf738e23-731d-48e1-a4f8-31f58a56a31d",
   "metadata": {},
   "outputs": [],
   "source": []
  },
  {
   "cell_type": "code",
   "execution_count": null,
   "id": "37c834b9-4527-4bc6-af35-52a19fc3d2d2",
   "metadata": {},
   "outputs": [],
   "source": []
  },
  {
   "cell_type": "code",
   "execution_count": null,
   "id": "eefbeca4-342f-4557-93ed-a80438fadf0c",
   "metadata": {},
   "outputs": [],
   "source": []
  },
  {
   "cell_type": "code",
   "execution_count": null,
   "id": "cf049ddd-5b4d-4e6d-bdee-73cafb91cbd2",
   "metadata": {},
   "outputs": [],
   "source": []
  },
  {
   "cell_type": "code",
   "execution_count": null,
   "id": "d13da3bd-08bd-4bf7-bf41-bdb9fe664311",
   "metadata": {},
   "outputs": [],
   "source": []
  },
  {
   "cell_type": "code",
   "execution_count": null,
   "id": "c009efab-9faf-4dc4-990b-705092a8f80f",
   "metadata": {},
   "outputs": [],
   "source": []
  },
  {
   "cell_type": "code",
   "execution_count": null,
   "id": "d56c395f-77f3-4d48-b5e5-29b4ba68d12b",
   "metadata": {},
   "outputs": [],
   "source": []
  },
  {
   "cell_type": "code",
   "execution_count": 40,
   "id": "6e42372c-e0ef-4048-80c6-4264303c6e68",
   "metadata": {},
   "outputs": [
    {
     "data": {
      "text/plain": [
       "obo.BFO_0000050"
      ]
     },
     "execution_count": 40,
     "metadata": {},
     "output_type": "execute_result"
    }
   ],
   "source": [
    "set([len(p.is_a) for p in onto.object_properties()])\n",
    "for p in onto.object_properties():\n",
    "    if len(p.is_a) > 1:\n",
    "        break\n",
    "p"
   ]
  },
  {
   "cell_type": "code",
   "execution_count": 44,
   "id": "9ef2c911-a6a2-452e-b19a-cf2302cbab32",
   "metadata": {},
   "outputs": [
    {
     "data": {
      "text/plain": [
       "['part of', 'part of', 'part_of']"
      ]
     },
     "execution_count": 44,
     "metadata": {},
     "output_type": "execute_result"
    }
   ],
   "source": [
    "p.label"
   ]
  },
  {
   "cell_type": "code",
   "execution_count": 45,
   "id": "c2439f42-bde7-4778-a243-a96aa160cdc4",
   "metadata": {},
   "outputs": [
    {
     "data": {
      "text/plain": [
       "[owl.ObjectProperty, owl.ObjectProperty]"
      ]
     },
     "execution_count": 45,
     "metadata": {},
     "output_type": "execute_result"
    }
   ],
   "source": [
    "p.is_a"
   ]
  },
  {
   "cell_type": "code",
   "execution_count": 47,
   "id": "67228aba-db6f-48c5-be7d-9e6922024dbc",
   "metadata": {},
   "outputs": [
    {
     "data": {
      "text/plain": [
       "[]"
      ]
     },
     "execution_count": 47,
     "metadata": {},
     "output_type": "execute_result"
    }
   ],
   "source": [
    "list(p.subclasses())"
   ]
  },
  {
   "cell_type": "code",
   "execution_count": 48,
   "id": "fa15b4ca-fba7-4d45-a693-1369ae5ba406",
   "metadata": {},
   "outputs": [
    {
     "data": {
      "text/plain": [
       "obo.RO_0000057"
      ]
     },
     "execution_count": 48,
     "metadata": {},
     "output_type": "execute_result"
    }
   ],
   "source": [
    "set([len(p.is_a) for p in onto.object_properties()])\n",
    "for p in onto.object_properties():\n",
    "    if len(list(p.subclasses())) > 1:\n",
    "        break\n",
    "p"
   ]
  },
  {
   "cell_type": "code",
   "execution_count": 39,
   "id": "c3c58066-13c0-4a1b-a168-bc02f3d562fe",
   "metadata": {},
   "outputs": [
    {
     "data": {
      "text/plain": [
       "'http://purl.obolibrary.org/obo/RO_0000057'"
      ]
     },
     "execution_count": 39,
     "metadata": {},
     "output_type": "execute_result"
    }
   ],
   "source": [
    "p.iri"
   ]
  },
  {
   "cell_type": "code",
   "execution_count": 37,
   "id": "adf4e757-a14b-46e5-a793-4012af2e48be",
   "metadata": {},
   "outputs": [
    {
     "data": {
      "text/plain": [
       "['has participant', 'has_participant']"
      ]
     },
     "execution_count": 37,
     "metadata": {},
     "output_type": "execute_result"
    }
   ],
   "source": [
    "p.label"
   ]
  },
  {
   "cell_type": "code",
   "execution_count": 38,
   "id": "2242339e-b9d0-45db-bc53-4580708ede5c",
   "metadata": {},
   "outputs": [
    {
     "data": {
      "text/plain": [
       "[(obo.OBI_0000293, ['has_specified_input']),\n",
       " (obo.OBI_0000299, ['has_specified_output'])]"
      ]
     },
     "execution_count": 38,
     "metadata": {},
     "output_type": "execute_result"
    }
   ],
   "source": [
    "[(pc, pc.label) for pc in p.subclasses()]"
   ]
  },
  {
   "cell_type": "code",
   "execution_count": 29,
   "id": "512cc12d-71bc-4acd-b39d-d9be86fb2f5d",
   "metadata": {},
   "outputs": [
    {
     "data": {
      "text/plain": [
       "{0, 1, 2, 4}"
      ]
     },
     "execution_count": 29,
     "metadata": {},
     "output_type": "execute_result"
    }
   ],
   "source": [
    "set([len(list(p.subclasses())) for p in onto.object_properties()])"
   ]
  },
  {
   "cell_type": "code",
   "execution_count": 27,
   "id": "a503aea0-b807-4d7a-ac09-001e6d7a9b51",
   "metadata": {},
   "outputs": [
    {
     "data": {
      "text/plain": [
       "[]"
      ]
     },
     "execution_count": 27,
     "metadata": {},
     "output_type": "execute_result"
    }
   ],
   "source": [
    "list(p.subclasses())"
   ]
  },
  {
   "cell_type": "code",
   "execution_count": 13,
   "id": "81565e0f-7429-42b8-8d34-509a5edc7843",
   "metadata": {},
   "outputs": [
    {
     "data": {
      "text/plain": [
       "owl.ObjectProperty"
      ]
     },
     "execution_count": 13,
     "metadata": {},
     "output_type": "execute_result"
    }
   ],
   "source": [
    "p.is_a[0]"
   ]
  },
  {
   "cell_type": "code",
   "execution_count": null,
   "id": "923a7969-cb71-4700-829b-7fa157b97d61",
   "metadata": {},
   "outputs": [],
   "source": []
  },
  {
   "cell_type": "code",
   "execution_count": 14,
   "id": "6931cf33-69c5-4fc7-be0f-6388e5303e7b",
   "metadata": {},
   "outputs": [
    {
     "data": {
      "text/plain": [
       "obo.FOODON_00002396"
      ]
     },
     "execution_count": 14,
     "metadata": {},
     "output_type": "execute_result"
    }
   ],
   "source": [
    "c"
   ]
  },
  {
   "cell_type": "code",
   "execution_count": 11,
   "id": "d595aded-b990-44eb-9d70-f336abb66ce8",
   "metadata": {},
   "outputs": [
    {
     "data": {
      "text/plain": [
       "[Not(obo.RO_0001000.some(obo.FOODON_03411355)) & obo.BFO_0000051.some(obo.CHEBI_18346 | obo.CHEBI_48408)]"
      ]
     },
     "execution_count": 11,
     "metadata": {},
     "output_type": "execute_result"
    }
   ],
   "source": [
    "c.equivalent_to"
   ]
  },
  {
   "cell_type": "code",
   "execution_count": 12,
   "id": "d37562f0-6712-4e61-a84f-00fa20ddafc8",
   "metadata": {},
   "outputs": [
    {
     "data": {
      "text/plain": [
       "owlready2.class_construct.Not"
      ]
     },
     "execution_count": 12,
     "metadata": {},
     "output_type": "execute_result"
    }
   ],
   "source": [
    "type(c.equivalent_to[0].is_a[0])"
   ]
  },
  {
   "cell_type": "code",
   "execution_count": 19,
   "id": "574c0b6f-44e2-43c4-a844-6b7d0ca9be88",
   "metadata": {},
   "outputs": [
    {
     "data": {
      "text/plain": [
       "'http://purl.obolibrary.org/obo/FOODON_00002396'"
      ]
     },
     "execution_count": 19,
     "metadata": {},
     "output_type": "execute_result"
    }
   ],
   "source": [
    "c.iri"
   ]
  },
  {
   "cell_type": "code",
   "execution_count": 26,
   "id": "5a1ab715-7f6f-45f3-9ed4-fb17ab6efd01",
   "metadata": {},
   "outputs": [
    {
     "data": {
      "text/plain": [
       "Not(obo.RO_0001000.some(obo.FOODON_03411355))"
      ]
     },
     "execution_count": 26,
     "metadata": {},
     "output_type": "execute_result"
    }
   ],
   "source": [
    "c.equivalent_to[0].is_a[0]"
   ]
  },
  {
   "cell_type": "code",
   "execution_count": 37,
   "id": "0736e23d-220c-4acd-a60d-135e7ed8ec73",
   "metadata": {},
   "outputs": [
    {
     "data": {
      "text/plain": [
       "[]"
      ]
     },
     "execution_count": 37,
     "metadata": {},
     "output_type": "execute_result"
    }
   ],
   "source": [
    "c.equivalent_to[0].is_a[0].subclasses()"
   ]
  },
  {
   "cell_type": "code",
   "execution_count": 39,
   "id": "ab7f400c-2064-49c7-9664-1fec7b25dd33",
   "metadata": {},
   "outputs": [
    {
     "data": {
      "text/plain": [
       "()"
      ]
     },
     "execution_count": 39,
     "metadata": {},
     "output_type": "execute_result"
    }
   ],
   "source": [
    "c.equivalent_to[0].is_a[0].is_a"
   ]
  },
  {
   "cell_type": "code",
   "execution_count": 43,
   "id": "3a5d6357-94d8-4e24-9227-a1581be8b402",
   "metadata": {},
   "outputs": [
    {
     "data": {
      "text/plain": [
       "Not(Not(obo.RO_0001000.some(obo.FOODON_03411355)))"
      ]
     },
     "execution_count": 43,
     "metadata": {},
     "output_type": "execute_result"
    }
   ],
   "source": [
    "c.equivalent_to[0].is_a[0].__invert__()"
   ]
  },
  {
   "cell_type": "code",
   "execution_count": 45,
   "id": "78d2fbee-4534-43fd-8044-9d50e543b7cd",
   "metadata": {},
   "outputs": [
    {
     "data": {
      "text/plain": [
       "owlready2.class_construct.Restriction"
      ]
     },
     "execution_count": 45,
     "metadata": {},
     "output_type": "execute_result"
    }
   ],
   "source": [
    "type(c.equivalent_to[0].is_a[0].Class)"
   ]
  },
  {
   "cell_type": "code",
   "execution_count": 21,
   "id": "24541ee9-0c95-490b-8a51-c021ba481b42",
   "metadata": {},
   "outputs": [
    {
     "data": {
      "text/plain": [
       "obo.CHEBI_18346 | obo.CHEBI_48408"
      ]
     },
     "execution_count": 21,
     "metadata": {},
     "output_type": "execute_result"
    }
   ],
   "source": [
    "c.equivalent_to[0].is_a[-1].value"
   ]
  },
  {
   "cell_type": "code",
   "execution_count": 22,
   "id": "e0c4024a-790c-476e-a598-a503adbd4214",
   "metadata": {},
   "outputs": [
    {
     "data": {
      "text/plain": [
       "owlready2.class_construct.Or"
      ]
     },
     "execution_count": 22,
     "metadata": {},
     "output_type": "execute_result"
    }
   ],
   "source": [
    "type(c.equivalent_to[0].is_a[-1].value)"
   ]
  },
  {
   "cell_type": "code",
   "execution_count": 29,
   "id": "1cac1980-5447-43b0-ba41-cff039eacef4",
   "metadata": {},
   "outputs": [
    {
     "data": {
      "text/plain": [
       "obo.CHEBI_18346"
      ]
     },
     "execution_count": 29,
     "metadata": {},
     "output_type": "execute_result"
    }
   ],
   "source": [
    "c.equivalent_to[0].is_a[-1].value.Classes[0]"
   ]
  },
  {
   "cell_type": "code",
   "execution_count": null,
   "id": "49eec341-1da8-4a66-9c7a-16e2db16172a",
   "metadata": {},
   "outputs": [],
   "source": []
  },
  {
   "cell_type": "code",
   "execution_count": 6,
   "id": "5515eea2-2508-4f68-93c7-e7d53368714d",
   "metadata": {},
   "outputs": [
    {
     "data": {
      "text/plain": [
       "obo.CDNO_0200657"
      ]
     },
     "execution_count": 6,
     "metadata": {},
     "output_type": "execute_result"
    }
   ],
   "source": [
    "# get types\n",
    "rel_types = set()\n",
    "for c in onto.classes():\n",
    "    # break\n",
    "    # if c.name == \"FOODON_03420103\":\n",
    "    if c.name == \"CDNO_0200657\":\n",
    "    # if c.name == \"FOODON_00002403\":\n",
    "        break\n",
    "\n",
    "    if list(c.equivalent_to):\n",
    "        for sc in c.equivalent_to:\n",
    "            rel_types.add(type(sc))\n",
    "            # if isinstance(sc, owlready2.class_construct.Or):\n",
    "            #     print(c.iri)\n",
    "    elif list(c.is_a):\n",
    "        for sc in c.is_a:\n",
    "            rel_types.add(type(sc))\n",
    "            # if isinstance(sc, owlready2.class_construct.Or):\n",
    "            #     print(c.iri)\n",
    "rel_types\n",
    "c"
   ]
  },
  {
   "cell_type": "code",
   "execution_count": 25,
   "id": "a6537560-c404-40e7-859c-96554bf939c5",
   "metadata": {},
   "outputs": [
    {
     "data": {
      "text/plain": [
       "obo.RO_0000087.some(obo.CHEBI_33290)"
      ]
     },
     "execution_count": 25,
     "metadata": {},
     "output_type": "execute_result"
    }
   ],
   "source": [
    "c.equivalent_to[-1].is_a[-1]"
   ]
  },
  {
   "cell_type": "code",
   "execution_count": 24,
   "id": "b7060025-7b1f-4b3a-a7e6-dc8151aa9d73",
   "metadata": {},
   "outputs": [
    {
     "data": {
      "text/plain": [
       "obo.CHEBI_33290"
      ]
     },
     "execution_count": 24,
     "metadata": {},
     "output_type": "execute_result"
    }
   ],
   "source": [
    "c.equivalent_to[-1].is_a[-1].value"
   ]
  },
  {
   "cell_type": "code",
   "execution_count": 29,
   "id": "44124775-3459-40fe-94b2-5cf1fee9b89f",
   "metadata": {},
   "outputs": [
    {
     "data": {
      "text/plain": [
       "obo.RO_0000052.some(obo.CDNO_0000027 & obo.BFO_0000050.some(obo.BFO_0000040))"
      ]
     },
     "execution_count": 29,
     "metadata": {},
     "output_type": "execute_result"
    }
   ],
   "source": [
    "c.equivalent_to[0].is_a[-1]"
   ]
  },
  {
   "cell_type": "code",
   "execution_count": 32,
   "id": "194f5a27-1867-4a19-b7ab-4b3baf9b2bb1",
   "metadata": {},
   "outputs": [
    {
     "data": {
      "text/plain": [
       "owlready2.class_construct.And"
      ]
     },
     "execution_count": 32,
     "metadata": {},
     "output_type": "execute_result"
    }
   ],
   "source": [
    "type(c.equivalent_to[0].is_a[-1].value)"
   ]
  },
  {
   "cell_type": "code",
   "execution_count": 36,
   "id": "488d4675-481d-445c-97c5-bea0814292b2",
   "metadata": {},
   "outputs": [
    {
     "data": {
      "text/plain": [
       "owlready2.prop.ObjectPropertyClass"
      ]
     },
     "execution_count": 36,
     "metadata": {},
     "output_type": "execute_result"
    }
   ],
   "source": [
    "type(c.equivalent_to[0].is_a[-1].property)"
   ]
  },
  {
   "cell_type": "code",
   "execution_count": 31,
   "id": "c2561036-8e0f-403d-b017-89ac12d0ce62",
   "metadata": {},
   "outputs": [
    {
     "data": {
      "text/plain": [
       ".time:TemporalUnit"
      ]
     },
     "execution_count": 31,
     "metadata": {},
     "output_type": "execute_result"
    }
   ],
   "source": [
    "c"
   ]
  },
  {
   "cell_type": "code",
   "execution_count": 7,
   "id": "126fddb2-6be9-4eae-8840-f71044ec7f91",
   "metadata": {},
   "outputs": [
    {
     "name": "stdout",
     "output_type": "stream",
     "text": [
      "http://purl.obolibrary.org/obo/FOODON_00002403\n",
      "object: obo.FOODON_00002403 label: ['food material']\n",
      "equivalent to: [obo.ENVO_00010483 & obo.RO_0000087.some(obo.CHEBI_33290)]\n",
      "is a: [obo.ENVO_00010483, obo.RO_0000087.some(obo.CHEBI_33290)]\n"
     ]
    }
   ],
   "source": [
    "for c in onto.classes():\n",
    "    # if c.name == \"FOODON_00002114\":\n",
    "    #     break\n",
    "    break\n",
    "print(c.iri)\n",
    "print(f\"object: {c} label: {c.label}\")\n",
    "print(f\"equivalent to: {c.equivalent_to}\")\n",
    "print(f\"is a: {c.is_a}\")"
   ]
  },
  {
   "cell_type": "code",
   "execution_count": 8,
   "id": "6588592e-8012-4a7f-b64b-8e027105b855",
   "metadata": {},
   "outputs": [
    {
     "data": {
      "text/plain": [
       "[obo.ENVO_00010483 & obo.RO_0000087.some(obo.CHEBI_33290)]"
      ]
     },
     "execution_count": 8,
     "metadata": {},
     "output_type": "execute_result"
    }
   ],
   "source": [
    "c.equivalent_to"
   ]
  },
  {
   "cell_type": "code",
   "execution_count": 32,
   "id": "c39fc9a2-6ef8-4e91-ae02-0a80f61b1d8a",
   "metadata": {},
   "outputs": [
    {
     "data": {
      "text/plain": [
       "(2, 0, 2)"
      ]
     },
     "execution_count": 32,
     "metadata": {},
     "output_type": "execute_result"
    }
   ],
   "source": [
    "# and_count, or_count, blank_count = parse_logic(sc, c, \"equivalent_to\")\n",
    "and_count = 0\n",
    "or_count = 0\n",
    "blank_count = 0\n",
    "parse_logic(c.equivalent_to[-1], c, \"equivalent_to\", and_count, or_count, blank_count)"
   ]
  },
  {
   "cell_type": "code",
   "execution_count": 55,
   "id": "5ce625b0-1e41-4450-9442-81be63d73f72",
   "metadata": {},
   "outputs": [
    {
     "ename": "NameError",
     "evalue": "name 'restriction' is not defined",
     "output_type": "error",
     "traceback": [
      "\u001b[0;31m---------------------------------------------------------------------------\u001b[0m",
      "\u001b[0;31mNameError\u001b[0m                                 Traceback (most recent call last)",
      "Cell \u001b[0;32mIn[55], line 1\u001b[0m\n\u001b[0;32m----> 1\u001b[0m \u001b[43mrestriction\u001b[49m\n",
      "\u001b[0;31mNameError\u001b[0m: name 'restriction' is not defined"
     ]
    }
   ],
   "source": [
    "restriction"
   ]
  },
  {
   "cell_type": "code",
   "execution_count": 9,
   "id": "e6420821-729d-4620-aad3-9a72bb343795",
   "metadata": {},
   "outputs": [
    {
     "data": {
      "text/plain": [
       "owlready2.entity._EquivalentToList"
      ]
     },
     "execution_count": 9,
     "metadata": {},
     "output_type": "execute_result"
    }
   ],
   "source": [
    "type(c.equivalent_to)"
   ]
  },
  {
   "cell_type": "code",
   "execution_count": 8,
   "id": "6c16ed12-ee92-41f9-a130-b53e802e9a54",
   "metadata": {},
   "outputs": [
    {
     "data": {
      "text/plain": [
       "owlready2.class_construct.And"
      ]
     },
     "execution_count": 8,
     "metadata": {},
     "output_type": "execute_result"
    }
   ],
   "source": [
    "type(list(c.equivalent_to)[0])"
   ]
  },
  {
   "cell_type": "code",
   "execution_count": 8,
   "id": "4958694d-c5a7-4767-98ca-750a25cac004",
   "metadata": {},
   "outputs": [
    {
     "data": {
      "text/plain": [
       "[obo.ENVO_00010483, obo.RO_0000087.some(obo.CHEBI_33290)]"
      ]
     },
     "execution_count": 8,
     "metadata": {},
     "output_type": "execute_result"
    }
   ],
   "source": [
    "#TODO need to verify against a class with different is_a and equivalent_to\n",
    "c.equivalent_to[0].get_Classes() # same as doing is_a below\n",
    "c.equivalent_to[0].get_is_a() # also same as doing is_a"
   ]
  },
  {
   "cell_type": "code",
   "execution_count": 9,
   "id": "cf2959d7-d9d6-4fb0-8c6b-536bdb7a7e73",
   "metadata": {},
   "outputs": [
    {
     "data": {
      "text/plain": [
       "[obo.ENVO_00010483, obo.RO_0000087.some(obo.CHEBI_33290)]"
      ]
     },
     "execution_count": 9,
     "metadata": {},
     "output_type": "execute_result"
    }
   ],
   "source": [
    "c.equivalent_to[0].is_a"
   ]
  },
  {
   "cell_type": "code",
   "execution_count": 10,
   "id": "e11e1c2d-43fc-4629-bbec-5e542d5bf683",
   "metadata": {},
   "outputs": [
    {
     "data": {
      "text/plain": [
       "owlready2.entity.ThingClass"
      ]
     },
     "execution_count": 10,
     "metadata": {},
     "output_type": "execute_result"
    }
   ],
   "source": [
    "type(c.equivalent_to[0].is_a[0])"
   ]
  },
  {
   "cell_type": "code",
   "execution_count": 11,
   "id": "0bb6e931-28cd-4988-a917-63cd5b7725ba",
   "metadata": {},
   "outputs": [
    {
     "data": {
      "text/plain": [
       "obo.RO_0000087.some(obo.CHEBI_33290)"
      ]
     },
     "execution_count": 11,
     "metadata": {},
     "output_type": "execute_result"
    }
   ],
   "source": [
    "c.equivalent_to[0].is_a[-1]"
   ]
  },
  {
   "cell_type": "code",
   "execution_count": 12,
   "id": "7e7b7109-44f8-454a-9542-bbadd4912a0e",
   "metadata": {},
   "outputs": [
    {
     "data": {
      "text/plain": [
       "owlready2.class_construct.Restriction"
      ]
     },
     "execution_count": 12,
     "metadata": {},
     "output_type": "execute_result"
    }
   ],
   "source": [
    "type(c.equivalent_to[0].is_a[-1]) # if type restriction"
   ]
  },
  {
   "cell_type": "code",
   "execution_count": 13,
   "id": "0ef61c00-4699-47e3-9f93-a2afc1c55705",
   "metadata": {},
   "outputs": [
    {
     "data": {
      "text/plain": [
       "obo.RO_0000087"
      ]
     },
     "execution_count": 13,
     "metadata": {},
     "output_type": "execute_result"
    }
   ],
   "source": [
    "c.equivalent_to[0].is_a[-1].property # grab property as edge"
   ]
  },
  {
   "cell_type": "code",
   "execution_count": 14,
   "id": "770bb635-fdf4-40e4-a4c5-5ff054579580",
   "metadata": {},
   "outputs": [
    {
     "data": {
      "text/plain": [
       "obo.CHEBI_33290"
      ]
     },
     "execution_count": 14,
     "metadata": {},
     "output_type": "execute_result"
    }
   ],
   "source": [
    "c.equivalent_to[0].is_a[-1].value # grab value as node"
   ]
  },
  {
   "cell_type": "code",
   "execution_count": 15,
   "id": "0a49fde7-1633-4244-95e1-09dcf814ff46",
   "metadata": {},
   "outputs": [
    {
     "data": {
      "text/plain": [
       "24"
      ]
     },
     "execution_count": 15,
     "metadata": {},
     "output_type": "execute_result"
    }
   ],
   "source": [
    "c.equivalent_to[0].is_a[-1].type #TODO: is this specific to some? if so, what do the other map to?"
   ]
  },
  {
   "cell_type": "code",
   "execution_count": 16,
   "id": "498749c3-fb1a-4c27-8c70-1c65a067f0ef",
   "metadata": {},
   "outputs": [
    {
     "data": {
      "text/plain": [
       "owlready2.entity.ThingClass"
      ]
     },
     "execution_count": 16,
     "metadata": {},
     "output_type": "execute_result"
    }
   ],
   "source": [
    "type(list(c.is_a)[0])"
   ]
  },
  {
   "cell_type": "code",
   "execution_count": 25,
   "id": "774eaa68-5424-40d7-9b65-320ab9f150ce",
   "metadata": {},
   "outputs": [
    {
     "data": {
      "text/plain": [
       "owlready2.class_construct.And"
      ]
     },
     "execution_count": 25,
     "metadata": {},
     "output_type": "execute_result"
    }
   ],
   "source": [
    "rel_list = c.is_a\n",
    "# isinstance(rel_list[-1], owlready2.class_construct.And)\n",
    "type(rel_list[-1])"
   ]
  },
  {
   "cell_type": "code",
   "execution_count": 39,
   "id": "30597440-171f-4902-9949-037e8a452069",
   "metadata": {},
   "outputs": [
    {
     "data": {
      "text/plain": [
       "0"
      ]
     },
     "execution_count": 39,
     "metadata": {},
     "output_type": "execute_result"
    }
   ],
   "source": [
    "len(list(c.equivalent_to))"
   ]
  },
  {
   "cell_type": "code",
   "execution_count": null,
   "id": "a625c163-9b5b-4f72-ad7c-095382f75b27",
   "metadata": {},
   "outputs": [],
   "source": []
  },
  {
   "cell_type": "code",
   "execution_count": 10,
   "id": "ce79c0c9-0342-4690-930d-963dad3b1837",
   "metadata": {},
   "outputs": [
    {
     "name": "stdout",
     "output_type": "stream",
     "text": [
      "http://purl.obolibrary.org/obo/FOODON_00002114\n",
      "object: obo.FOODON_00002114 label: ['pie food product']\n",
      "equivalent to: []\n",
      "is a: [obo.FOODON_00001180, obo.FOODON_00002347, obo.FOODON_00002644, obo.BFO_0000051.some(obo.FOODON_03306766) & obo.BFO_0000051.some(obo.FOODON_03306773) & obo.RO_0000086.some(obo.FOODON_00002407)]\n"
     ]
    }
   ],
   "source": [
    "for c in onto.classes():\n",
    "    if c.name == \"FOODON_00002114\":\n",
    "        break\n",
    "print(c.iri)\n",
    "print(f\"object: {c} label: {c.label}\")\n",
    "print(f\"equivalent to: {c.equivalent_to}\")\n",
    "print(f\"is a: {c.is_a}\")"
   ]
  },
  {
   "cell_type": "code",
   "execution_count": 11,
   "id": "1903d01b-0210-4627-b06f-10ae88e8854d",
   "metadata": {},
   "outputs": [
    {
     "data": {
      "text/plain": [
       "[owlready2.entity.ThingClass,\n",
       " owlready2.entity.ThingClass,\n",
       " owlready2.entity.ThingClass,\n",
       " owlready2.class_construct.And]"
      ]
     },
     "execution_count": 11,
     "metadata": {},
     "output_type": "execute_result"
    }
   ],
   "source": [
    "[type(sc) for sc in c.is_a]"
   ]
  },
  {
   "cell_type": "code",
   "execution_count": 14,
   "id": "f8db0476-9d54-4585-af3c-40e95ad7596a",
   "metadata": {},
   "outputs": [
    {
     "data": {
      "text/plain": [
       "obo.BFO_0000051.some(obo.FOODON_03306766) & obo.BFO_0000051.some(obo.FOODON_03306773) & obo.RO_0000086.some(obo.FOODON_00002407)"
      ]
     },
     "execution_count": 14,
     "metadata": {},
     "output_type": "execute_result"
    }
   ],
   "source": [
    "c.is_a[-1]"
   ]
  },
  {
   "cell_type": "code",
   "execution_count": 15,
   "id": "d68e0ca6-2061-4221-8c45-e698a83c5354",
   "metadata": {},
   "outputs": [
    {
     "data": {
      "text/plain": [
       "[obo.BFO_0000051.some(obo.FOODON_03306766),\n",
       " obo.BFO_0000051.some(obo.FOODON_03306773),\n",
       " obo.RO_0000086.some(obo.FOODON_00002407)]"
      ]
     },
     "execution_count": 15,
     "metadata": {},
     "output_type": "execute_result"
    }
   ],
   "source": [
    "c.is_a[-1].is_a"
   ]
  },
  {
   "cell_type": "code",
   "execution_count": 21,
   "id": "3bba1da1-cd0e-41f1-bce6-56999821eaed",
   "metadata": {},
   "outputs": [
    {
     "data": {
      "text/plain": [
       "[owlready2.class_construct.Restriction,\n",
       " owlready2.class_construct.Restriction,\n",
       " owlready2.class_construct.Restriction]"
      ]
     },
     "execution_count": 21,
     "metadata": {},
     "output_type": "execute_result"
    }
   ],
   "source": [
    "c.is_a[-1].is_a\n",
    "[type(sc_restriction) for sc_restriction in c.is_a[-1].is_a]"
   ]
  }
 ],
 "metadata": {
  "kernelspec": {
   "display_name": "Python 3 (ipykernel)",
   "language": "python",
   "name": "python3"
  },
  "language_info": {
   "codemirror_mode": {
    "name": "ipython",
    "version": 3
   },
   "file_extension": ".py",
   "mimetype": "text/x-python",
   "name": "python",
   "nbconvert_exporter": "python",
   "pygments_lexer": "ipython3",
   "version": "3.10.9"
  }
 },
 "nbformat": 4,
 "nbformat_minor": 5
}
