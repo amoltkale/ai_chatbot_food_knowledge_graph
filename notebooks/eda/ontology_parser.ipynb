{
 "cells": [
  {
   "cell_type": "code",
   "execution_count": 1,
   "id": "6cf80b4f-ca0e-4970-8592-110e6390e4e0",
   "metadata": {},
   "outputs": [
    {
     "name": "stderr",
     "output_type": "stream",
     "text": [
      "* Owlready2 * Warning: optimized Cython parser module 'owlready2_optimized' is not available, defaulting to slower Python implementation\n"
     ]
    }
   ],
   "source": [
    "import csv\n",
    "\n",
    "from pathlib import Path\n",
    "\n",
    "from owlready2 import *"
   ]
  },
  {
   "cell_type": "code",
   "execution_count": 18,
   "id": "c393aa7d-6207-47ca-aeab-8e04572a8f6a",
   "metadata": {},
   "outputs": [],
   "source": [
    "# set up out path\n",
    "data_p = Path(\"../../ontologies\")\n",
    "\n",
    "out_p = data_p / \"out/\"\n",
    "out_p.mkdir(exist_ok=True)\n",
    "\n",
    "node_p = out_p / \"nodes.csv\"\n",
    "with open(node_p, 'w') as csvfile:\n",
    "    fieldnames = [':ID', 'descriptive_label:string[]', 'iri', ':LABEL']\n",
    "    writer = csv.DictWriter(csvfile, fieldnames=fieldnames)\n",
    "\n",
    "    writer.writeheader()\n",
    "\n",
    "rel_p  = out_p / \"rel.csv\"\n",
    "with open(rel_p, 'w') as csvfile:\n",
    "    fieldnames = [':START_ID', ':END_ID', ':TYPE', 'restriction']\n",
    "    writer = csv.DictWriter(csvfile, fieldnames=fieldnames)\n",
    "\n",
    "    writer.writeheader()"
   ]
  },
  {
   "cell_type": "code",
   "execution_count": 15,
   "id": "75b5a222-2cab-4a50-b05e-21cb1810227b",
   "metadata": {},
   "outputs": [],
   "source": [
    "def create_transitionary_node(node_type, node_counter):\n",
    "    # pass\n",
    "    # AND_00000001\n",
    "    # OR_00000001\n",
    "    # BLANK_00000001\n",
    "    node_counter = node_counter + 1\n",
    "    node = f\"{node_type.upper()}_{node_counter}\"\n",
    "    return node, node_counter\n",
    "\n",
    "def append_node(node, node_p:Path, *, node_type:str=''):\n",
    "    '''\n",
    "    input:\n",
    "        node:\n",
    "            case 1: owlready2.entity.ThingClass\n",
    "            case 2: Type: str: node = string name\n",
    "        node_p: path to node file to append node to\n",
    "        onto_type: node type for and/or\n",
    "    '''\n",
    "    # construct node row\n",
    "    if isinstance(node, owlready2.entity.ThingClass):\n",
    "        # ThingClass node\n",
    "        node_line = [str(node.name), ';'.join(node.label), str(node.iri), node_type]\n",
    "    elif isinstance(node, str):\n",
    "        # Case: blank, and/or nodes\n",
    "        node_line = [node, '', '', node_type]\n",
    "    else:\n",
    "        raise ValueError\n",
    "    # write node to file\n",
    "    with open(node_p, 'a') as f:\n",
    "        node_writer = csv.writer(f, delimiter=',')\n",
    "        node_writer.writerow(node_line)\n",
    "        \n",
    "def append_relation(source_id:str, target_id:str,\n",
    "                    edge_type:str, *, restriction:str=''):\n",
    "    # construct relation row\n",
    "    rel_line = [source_id, target_id, edge_type, restriction]\n",
    "    # write to file\n",
    "    with open(rel_p, 'a') as f:\n",
    "        rel_writer = csv.writer(f, delimiter=',')\n",
    "        rel_writer.writerow(rel_line)"
   ]
  },
  {
   "cell_type": "code",
   "execution_count": null,
   "id": "b9ad5b6b-c48e-4df9-bc4b-622b43ec07af",
   "metadata": {},
   "outputs": [
    {
     "name": "stdout",
     "output_type": "stream",
     "text": [
      "obo.CDNO_0000001\n"
     ]
    }
   ],
   "source": [
    "# skeleton loop\n",
    "raise NotImplementedError\n",
    "and_counter = 0\n",
    "or_counter = 0\n",
    "blank_counter = 0\n",
    "for c in onto.classes():\n",
    "    # Append class node to class csv\n",
    "    try:\n",
    "        # check if label is present\n",
    "        c.label\n",
    "        \n",
    "        # add class to node file\n",
    "        \n",
    "        # check if equivalence is not empty\n",
    "        if list(c.equivalent_to):\n",
    "            for sc in c.equivalent_to:\n",
    "                parse_axiom(sc)\n",
    "            # parse equivalence and continue\n",
    "            # parse_grammar(parent_node, relation_type)\n",
    "            # parse_grammar(c, \"equivalent_to\")\n",
    "        elif list(c.is_a):\n",
    "            for sc in c.is_a:\n",
    "                parse_axiom(sc)\n",
    "            # parse is_a\n",
    "            # parse_grammar()\n",
    "            # parse_grammar(c, \"is_a\")\n",
    "        else:\n",
    "            # log node with neither\n",
    "    except ValueError:\n",
    "        #TODO write to log file\n",
    "        # parse grammar, leave descriptive label as empty for now\n",
    "        # pass"
   ]
  },
  {
   "cell_type": "code",
   "execution_count": 4,
   "id": "076be356-d7f0-4608-826d-8ee61ae7ba41",
   "metadata": {},
   "outputs": [],
   "source": [
    "# set paths\n",
    "ontology_p = \"../../ontologies\"\n",
    "\n",
    "foodon_p   = ontology_p + \"/foodon_filtered.owl\""
   ]
  },
  {
   "cell_type": "code",
   "execution_count": 5,
   "id": "cb695b1e-52a0-4e18-a389-3c0314682331",
   "metadata": {},
   "outputs": [],
   "source": [
    "# load ontology\n",
    "onto = get_ontology(foodon_p).load()"
   ]
  },
  {
   "cell_type": "code",
   "execution_count": 37,
   "id": "5515eea2-2508-4f68-93c7-e7d53368714d",
   "metadata": {},
   "outputs": [
    {
     "name": "stdout",
     "output_type": "stream",
     "text": [
      "http://purl.obolibrary.org/obo/FOODON_03420103\n",
      "http://purl.obolibrary.org/obo/FOODON_03460263\n",
      "http://purl.obolibrary.org/obo/FOODON_03411563\n",
      "http://purl.obolibrary.org/obo/FOODON_03460177\n",
      "http://purl.obolibrary.org/obo/FOODON_03460231\n",
      "http://purl.obolibrary.org/obo/FOODON_03310788\n",
      "http://purl.obolibrary.org/obo/FOODON_03440022\n",
      "http://purl.obolibrary.org/obo/FOODON_00002200\n",
      "http://purl.obolibrary.org/obo/FOODON_03411021\n",
      "http://purl.obolibrary.org/obo/FOODON_03490194\n",
      "http://purl.obolibrary.org/obo/FOODON_03315308\n",
      "http://purl.obolibrary.org/obo/FOODON_03412628\n",
      "http://purl.obolibrary.org/obo/FOODON_03000217\n",
      "http://purl.obolibrary.org/obo/FOODON_03000218\n",
      "http://purl.obolibrary.org/obo/FOODON_03000219\n",
      "http://purl.obolibrary.org/obo/FOODON_03000220\n",
      "http://purl.obolibrary.org/obo/FOODON_03000225\n",
      "http://purl.obolibrary.org/obo/FOODON_03000226\n",
      "http://purl.obolibrary.org/obo/FOODON_03000227\n",
      "http://purl.obolibrary.org/obo/FOODON_03000228\n",
      "http://purl.obolibrary.org/obo/FOODON_03000229\n",
      "http://purl.obolibrary.org/obo/FOODON_03000238\n",
      "http://purl.obolibrary.org/obo/FOODON_03000241\n",
      "http://purl.obolibrary.org/obo/FOODON_03000243\n",
      "http://purl.obolibrary.org/obo/FOODON_03000245\n",
      "http://purl.obolibrary.org/obo/FOODON_03000246\n",
      "http://purl.obolibrary.org/obo/FOODON_03000433\n",
      "http://purl.obolibrary.org/obo/FOODON_03412255\n",
      "http://purl.obolibrary.org/obo/FOODON_03460364\n",
      "http://purl.obolibrary.org/obo/FOODON_03316466\n",
      "http://purl.obolibrary.org/obo/FOODON_03312067\n",
      "http://purl.obolibrary.org/obo/FOODON_03411142\n",
      "http://purl.obolibrary.org/obo/FOODON_03420110\n",
      "http://purl.obolibrary.org/obo/FOODON_03420168\n",
      "http://purl.obolibrary.org/obo/FOODON_03460254\n",
      "http://purl.obolibrary.org/obo/FOODON_03470142\n",
      "http://purl.obolibrary.org/obo/FOODON_03490203\n",
      "http://purl.obolibrary.org/obo/FOODON_03530088\n"
     ]
    },
    {
     "data": {
      "text/plain": [
       "{owlready2.class_construct.And,\n",
       " owlready2.class_construct.Or,\n",
       " owlready2.class_construct.Restriction,\n",
       " owlready2.entity.ThingClass}"
      ]
     },
     "execution_count": 37,
     "metadata": {},
     "output_type": "execute_result"
    }
   ],
   "source": [
    "# get types\n",
    "rel_types = set()\n",
    "for c in onto.classes():\n",
    "    # if c == \"obo.FOODON_03420103\":\n",
    "    #     break\n",
    "    # break\n",
    "    if list(c.equivalent_to):\n",
    "        for sc in c.equivalent_to:\n",
    "            rel_types.add(type(sc))\n",
    "            if isinstance(sc, owlready2.class_construct.Or):\n",
    "                print(c.iri)\n",
    "    elif list(c.is_a):\n",
    "        for sc in c.is_a:\n",
    "            rel_types.add(type(sc))\n",
    "            if isinstance(sc, owlready2.class_construct.Or):\n",
    "                print(c.iri)\n",
    "rel_types"
   ]
  },
  {
   "cell_type": "code",
   "execution_count": 31,
   "id": "c2561036-8e0f-403d-b017-89ac12d0ce62",
   "metadata": {},
   "outputs": [
    {
     "data": {
      "text/plain": [
       ".time:TemporalUnit"
      ]
     },
     "execution_count": 31,
     "metadata": {},
     "output_type": "execute_result"
    }
   ],
   "source": [
    "c"
   ]
  },
  {
   "cell_type": "code",
   "execution_count": 7,
   "id": "126fddb2-6be9-4eae-8840-f71044ec7f91",
   "metadata": {},
   "outputs": [
    {
     "name": "stdout",
     "output_type": "stream",
     "text": [
      "http://purl.obolibrary.org/obo/FOODON_00002403\n",
      "object: obo.FOODON_00002403 label: ['food material']\n",
      "equivalent to: [obo.ENVO_00010483 & obo.RO_0000087.some(obo.CHEBI_33290)]\n",
      "is a: [obo.ENVO_00010483, obo.RO_0000087.some(obo.CHEBI_33290)]\n"
     ]
    }
   ],
   "source": [
    "for c in onto.classes():\n",
    "    # if c.name == \"FOODON_00002114\":\n",
    "    #     break\n",
    "    break\n",
    "print(c.iri)\n",
    "print(f\"object: {c} label: {c.label}\")\n",
    "print(f\"equivalent to: {c.equivalent_to}\")\n",
    "print(f\"is a: {c.is_a}\")"
   ]
  },
  {
   "cell_type": "code",
   "execution_count": 8,
   "id": "6588592e-8012-4a7f-b64b-8e027105b855",
   "metadata": {},
   "outputs": [
    {
     "data": {
      "text/plain": [
       "[obo.ENVO_00010483 & obo.RO_0000087.some(obo.CHEBI_33290)]"
      ]
     },
     "execution_count": 8,
     "metadata": {},
     "output_type": "execute_result"
    }
   ],
   "source": [
    "c.equivalent_to"
   ]
  },
  {
   "cell_type": "code",
   "execution_count": null,
   "id": "2a22e710-a699-484d-9cd2-ec3eba06cbe1",
   "metadata": {},
   "outputs": [],
   "source": [
    "def parse_logic(source, target, edge_type, *, restriction=''):\n",
    "    # raise NotImplementedError\n",
    "    # TODO figure out inputs and outputs\n",
    "    # Plan: execute recurssively until tyoe ThingClass found\n",
    "    match type(source):\n",
    "        case owlready2.entity.ThingClass:\n",
    "            append_rel()\n",
    "            # case: stop rule\n",
    "            # create edge\n",
    "            # return\n",
    "        case owlready2.class_construct.And:\n",
    "            # make recursive call to drill down further -> (blank_and, relation_type)\n",
    "            trans_node = create_transitionary_node(node_type='and', target_node)\n",
    "            append_node(trans_node)\n",
    "            append_rel() # append relations from target to AND node\n",
    "        case owlready2.class_construct.Or:\n",
    "            # make recursive call to parse_logic -> (blank_or, relation_type)\n",
    "            create_transitionary_node(node_type='or', target_node)\n",
    "            append_rel() # append relations from target to OR node\n",
    "            append_node(trans_node)\n",
    "        case owlready2.class_construct.Restriction:\n",
    "            # make recursive call to create edge\n",
    "            create_transitionary_node('BLANK', target_node)\n",
    "            append_node(trans_node)\n",
    "            append_rel() # append relations from target to BLANK node\n",
    "            parse_logic(trans_node, target.value, target.property)\n",
    "            assert \"some\" in str(source)\n",
    "            # add assert to verify only some restriction\n",
    "        case _:\n",
    "            # print out type\n",
    "            raise TypeError\n",
    "    return sub_axioms"
   ]
  },
  {
   "cell_type": "code",
   "execution_count": 38,
   "id": "215b2ce4-5e0f-446c-9cda-10b0683c3d47",
   "metadata": {},
   "outputs": [],
   "source": [
    "def append_node(onto_class, node_p, *, onto_type=''):\n",
    "    # construct node row\n",
    "    node_line = [str(onto_class.name), str(onto_class.label), str(onto_class.iri), str(onto_type)]\n",
    "    # write node to file\n",
    "    with open(node_p, 'a') as f:\n",
    "        node_writer = csv.writer(f, delimiter=',')\n",
    "        node_writer.writerow(node_line)\n",
    "        \n",
    "def append_relation(parent:owlready2.entity.ThingClass, target:owlready2.entity.ThingClass,\n",
    "                    edge_type:str, *, restriction:str=''):\n",
    "    # construct relation row\n",
    "    rel_line = [str(parent.name), str(target.name), edge_type, restriction]\n",
    "    # write to file\n",
    "    with open(rel_p, 'a') as f:\n",
    "        rel_writer = csv.writer(f, delimiter=',')\n",
    "        rel_writer.writerow(rel_line)"
   ]
  },
  {
   "cell_type": "code",
   "execution_count": 19,
   "id": "ee9f45a3-79a1-427d-8777-324180ef4f48",
   "metadata": {},
   "outputs": [],
   "source": [
    "append_node(\"or_0001\", node_p, node_type='or')\n",
    "append_node(\"and_0001\", node_p, node_type=\"and\")\n",
    "append_node(c, node_p)\n",
    "append_node(c, node_p)"
   ]
  },
  {
   "cell_type": "code",
   "execution_count": 47,
   "id": "ccb6e556-a775-47ca-882f-58b0235a4187",
   "metadata": {},
   "outputs": [],
   "source": [
    "append_relation(c, c, \"test\", restriction=\"some\")\n",
    "append_relation(c, c, \"test\", restriction=\"some\")\n",
    "append_relation(c, c, \"test\", restriction=\"some\")"
   ]
  },
  {
   "cell_type": "code",
   "execution_count": 9,
   "id": "e6420821-729d-4620-aad3-9a72bb343795",
   "metadata": {},
   "outputs": [
    {
     "data": {
      "text/plain": [
       "owlready2.entity._EquivalentToList"
      ]
     },
     "execution_count": 9,
     "metadata": {},
     "output_type": "execute_result"
    }
   ],
   "source": [
    "type(c.equivalent_to)"
   ]
  },
  {
   "cell_type": "code",
   "execution_count": 8,
   "id": "6c16ed12-ee92-41f9-a130-b53e802e9a54",
   "metadata": {},
   "outputs": [
    {
     "data": {
      "text/plain": [
       "owlready2.class_construct.And"
      ]
     },
     "execution_count": 8,
     "metadata": {},
     "output_type": "execute_result"
    }
   ],
   "source": [
    "type(list(c.equivalent_to)[0])"
   ]
  },
  {
   "cell_type": "code",
   "execution_count": 8,
   "id": "4958694d-c5a7-4767-98ca-750a25cac004",
   "metadata": {},
   "outputs": [
    {
     "data": {
      "text/plain": [
       "[obo.ENVO_00010483, obo.RO_0000087.some(obo.CHEBI_33290)]"
      ]
     },
     "execution_count": 8,
     "metadata": {},
     "output_type": "execute_result"
    }
   ],
   "source": [
    "#TODO need to verify against a class with different is_a and equivalent_to\n",
    "c.equivalent_to[0].get_Classes() # same as doing is_a below\n",
    "c.equivalent_to[0].get_is_a() # also same as doing is_a"
   ]
  },
  {
   "cell_type": "code",
   "execution_count": 9,
   "id": "cf2959d7-d9d6-4fb0-8c6b-536bdb7a7e73",
   "metadata": {},
   "outputs": [
    {
     "data": {
      "text/plain": [
       "[obo.ENVO_00010483, obo.RO_0000087.some(obo.CHEBI_33290)]"
      ]
     },
     "execution_count": 9,
     "metadata": {},
     "output_type": "execute_result"
    }
   ],
   "source": [
    "c.equivalent_to[0].is_a"
   ]
  },
  {
   "cell_type": "code",
   "execution_count": 10,
   "id": "e11e1c2d-43fc-4629-bbec-5e542d5bf683",
   "metadata": {},
   "outputs": [
    {
     "data": {
      "text/plain": [
       "owlready2.entity.ThingClass"
      ]
     },
     "execution_count": 10,
     "metadata": {},
     "output_type": "execute_result"
    }
   ],
   "source": [
    "type(c.equivalent_to[0].is_a[0])"
   ]
  },
  {
   "cell_type": "code",
   "execution_count": 11,
   "id": "0bb6e931-28cd-4988-a917-63cd5b7725ba",
   "metadata": {},
   "outputs": [
    {
     "data": {
      "text/plain": [
       "obo.RO_0000087.some(obo.CHEBI_33290)"
      ]
     },
     "execution_count": 11,
     "metadata": {},
     "output_type": "execute_result"
    }
   ],
   "source": [
    "c.equivalent_to[0].is_a[-1]"
   ]
  },
  {
   "cell_type": "code",
   "execution_count": 12,
   "id": "7e7b7109-44f8-454a-9542-bbadd4912a0e",
   "metadata": {},
   "outputs": [
    {
     "data": {
      "text/plain": [
       "owlready2.class_construct.Restriction"
      ]
     },
     "execution_count": 12,
     "metadata": {},
     "output_type": "execute_result"
    }
   ],
   "source": [
    "type(c.equivalent_to[0].is_a[-1]) # if type restriction"
   ]
  },
  {
   "cell_type": "code",
   "execution_count": 13,
   "id": "0ef61c00-4699-47e3-9f93-a2afc1c55705",
   "metadata": {},
   "outputs": [
    {
     "data": {
      "text/plain": [
       "obo.RO_0000087"
      ]
     },
     "execution_count": 13,
     "metadata": {},
     "output_type": "execute_result"
    }
   ],
   "source": [
    "c.equivalent_to[0].is_a[-1].property # grab property as edge"
   ]
  },
  {
   "cell_type": "code",
   "execution_count": 14,
   "id": "770bb635-fdf4-40e4-a4c5-5ff054579580",
   "metadata": {},
   "outputs": [
    {
     "data": {
      "text/plain": [
       "obo.CHEBI_33290"
      ]
     },
     "execution_count": 14,
     "metadata": {},
     "output_type": "execute_result"
    }
   ],
   "source": [
    "c.equivalent_to[0].is_a[-1].value # grab value as node"
   ]
  },
  {
   "cell_type": "code",
   "execution_count": 15,
   "id": "0a49fde7-1633-4244-95e1-09dcf814ff46",
   "metadata": {},
   "outputs": [
    {
     "data": {
      "text/plain": [
       "24"
      ]
     },
     "execution_count": 15,
     "metadata": {},
     "output_type": "execute_result"
    }
   ],
   "source": [
    "c.equivalent_to[0].is_a[-1].type #TODO: is this specific to some? if so, what do the other map to?"
   ]
  },
  {
   "cell_type": "code",
   "execution_count": 16,
   "id": "498749c3-fb1a-4c27-8c70-1c65a067f0ef",
   "metadata": {},
   "outputs": [
    {
     "data": {
      "text/plain": [
       "owlready2.entity.ThingClass"
      ]
     },
     "execution_count": 16,
     "metadata": {},
     "output_type": "execute_result"
    }
   ],
   "source": [
    "type(list(c.is_a)[0])"
   ]
  },
  {
   "cell_type": "code",
   "execution_count": 25,
   "id": "774eaa68-5424-40d7-9b65-320ab9f150ce",
   "metadata": {},
   "outputs": [
    {
     "data": {
      "text/plain": [
       "owlready2.class_construct.And"
      ]
     },
     "execution_count": 25,
     "metadata": {},
     "output_type": "execute_result"
    }
   ],
   "source": [
    "rel_list = c.is_a\n",
    "# isinstance(rel_list[-1], owlready2.class_construct.And)\n",
    "type(rel_list[-1])"
   ]
  },
  {
   "cell_type": "code",
   "execution_count": 39,
   "id": "30597440-171f-4902-9949-037e8a452069",
   "metadata": {},
   "outputs": [
    {
     "data": {
      "text/plain": [
       "0"
      ]
     },
     "execution_count": 39,
     "metadata": {},
     "output_type": "execute_result"
    }
   ],
   "source": [
    "len(list(c.equivalent_to))"
   ]
  },
  {
   "cell_type": "code",
   "execution_count": null,
   "id": "a625c163-9b5b-4f72-ad7c-095382f75b27",
   "metadata": {},
   "outputs": [],
   "source": []
  },
  {
   "cell_type": "code",
   "execution_count": 10,
   "id": "ce79c0c9-0342-4690-930d-963dad3b1837",
   "metadata": {},
   "outputs": [
    {
     "name": "stdout",
     "output_type": "stream",
     "text": [
      "http://purl.obolibrary.org/obo/FOODON_00002114\n",
      "object: obo.FOODON_00002114 label: ['pie food product']\n",
      "equivalent to: []\n",
      "is a: [obo.FOODON_00001180, obo.FOODON_00002347, obo.FOODON_00002644, obo.BFO_0000051.some(obo.FOODON_03306766) & obo.BFO_0000051.some(obo.FOODON_03306773) & obo.RO_0000086.some(obo.FOODON_00002407)]\n"
     ]
    }
   ],
   "source": [
    "for c in onto.classes():\n",
    "    if c.name == \"FOODON_00002114\":\n",
    "        break\n",
    "print(c.iri)\n",
    "print(f\"object: {c} label: {c.label}\")\n",
    "print(f\"equivalent to: {c.equivalent_to}\")\n",
    "print(f\"is a: {c.is_a}\")"
   ]
  },
  {
   "cell_type": "code",
   "execution_count": 11,
   "id": "1903d01b-0210-4627-b06f-10ae88e8854d",
   "metadata": {},
   "outputs": [
    {
     "data": {
      "text/plain": [
       "[owlready2.entity.ThingClass,\n",
       " owlready2.entity.ThingClass,\n",
       " owlready2.entity.ThingClass,\n",
       " owlready2.class_construct.And]"
      ]
     },
     "execution_count": 11,
     "metadata": {},
     "output_type": "execute_result"
    }
   ],
   "source": [
    "[type(sc) for sc in c.is_a]"
   ]
  },
  {
   "cell_type": "code",
   "execution_count": 14,
   "id": "f8db0476-9d54-4585-af3c-40e95ad7596a",
   "metadata": {},
   "outputs": [
    {
     "data": {
      "text/plain": [
       "obo.BFO_0000051.some(obo.FOODON_03306766) & obo.BFO_0000051.some(obo.FOODON_03306773) & obo.RO_0000086.some(obo.FOODON_00002407)"
      ]
     },
     "execution_count": 14,
     "metadata": {},
     "output_type": "execute_result"
    }
   ],
   "source": [
    "c.is_a[-1]"
   ]
  },
  {
   "cell_type": "code",
   "execution_count": 15,
   "id": "d68e0ca6-2061-4221-8c45-e698a83c5354",
   "metadata": {},
   "outputs": [
    {
     "data": {
      "text/plain": [
       "[obo.BFO_0000051.some(obo.FOODON_03306766),\n",
       " obo.BFO_0000051.some(obo.FOODON_03306773),\n",
       " obo.RO_0000086.some(obo.FOODON_00002407)]"
      ]
     },
     "execution_count": 15,
     "metadata": {},
     "output_type": "execute_result"
    }
   ],
   "source": [
    "c.is_a[-1].is_a"
   ]
  },
  {
   "cell_type": "code",
   "execution_count": 21,
   "id": "3bba1da1-cd0e-41f1-bce6-56999821eaed",
   "metadata": {},
   "outputs": [
    {
     "data": {
      "text/plain": [
       "[owlready2.class_construct.Restriction,\n",
       " owlready2.class_construct.Restriction,\n",
       " owlready2.class_construct.Restriction]"
      ]
     },
     "execution_count": 21,
     "metadata": {},
     "output_type": "execute_result"
    }
   ],
   "source": [
    "c.is_a[-1].is_a\n",
    "[type(sc_restriction) for sc_restriction in c.is_a[-1].is_a]"
   ]
  }
 ],
 "metadata": {
  "kernelspec": {
   "display_name": "Python 3 (ipykernel)",
   "language": "python",
   "name": "python3"
  },
  "language_info": {
   "codemirror_mode": {
    "name": "ipython",
    "version": 3
   },
   "file_extension": ".py",
   "mimetype": "text/x-python",
   "name": "python",
   "nbconvert_exporter": "python",
   "pygments_lexer": "ipython3",
   "version": "3.10.8"
  }
 },
 "nbformat": 4,
 "nbformat_minor": 5
}
