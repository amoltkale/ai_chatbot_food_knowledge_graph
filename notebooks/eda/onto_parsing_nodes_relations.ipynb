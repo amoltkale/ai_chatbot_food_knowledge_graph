{
 "cells": [
  {
   "cell_type": "code",
   "execution_count": 22,
   "id": "97847281-7c86-4e76-9d71-b872d18898ed",
   "metadata": {},
   "outputs": [],
   "source": [
    "# Ontology Parsing to the Graph"
   ]
  },
  {
   "cell_type": "code",
   "execution_count": 2,
   "id": "e1a5ca91-6d23-4b6f-afcd-d8cfd8d85961",
   "metadata": {},
   "outputs": [],
   "source": [
    "import csv\n",
    "\n",
    "from pathlib import Path\n",
    "\n",
    "from owlready2 import *\n",
    "\n",
    "import pandas as pd"
   ]
  },
  {
   "cell_type": "code",
   "execution_count": 3,
   "id": "428ce0a9-ba3c-414e-867e-d64172ffba43",
   "metadata": {},
   "outputs": [],
   "source": [
    "#Counters and Constants\n",
    "or_cnt = 1\n",
    "and_cnt = 1\n",
    "blank_cnt = 1"
   ]
  },
  {
   "cell_type": "code",
   "execution_count": 4,
   "id": "09eb44c2-cbea-435c-ad5f-1a6eecc2c7d8",
   "metadata": {},
   "outputs": [],
   "source": [
    "# set up out path\n",
    "data_p = Path(\"../../ontologies\")\n",
    "\n",
    "out_p = data_p / \"out/\"\n",
    "out_p.mkdir(exist_ok=True)\n",
    "\n",
    "node_p = out_p / \"nodes.csv\"\n",
    "with open(node_p, 'w') as csvfile:\n",
    "    fieldnames = [':ID', 'descriptive_label:string[]', 'iri', ':LABEL']\n",
    "    writer = csv.DictWriter(csvfile, fieldnames=fieldnames)\n",
    "\n",
    "    writer.writeheader()\n",
    "\n",
    "rel_p  = out_p / \"rel.csv\"\n",
    "with open(rel_p, 'w') as csvfile:\n",
    "    fieldnames = [':START_ID', ':END_ID', ':TYPE', 'restriction']\n",
    "    writer = csv.DictWriter(csvfile, fieldnames=fieldnames)\n",
    "\n",
    "    writer.writeheader()"
   ]
  },
  {
   "cell_type": "code",
   "execution_count": 5,
   "id": "3f78e68c-af94-4bb5-bbc2-013c418fe447",
   "metadata": {},
   "outputs": [],
   "source": [
    "def create_transitionary_node(node_type, node_counter):\n",
    "    # pass\n",
    "    # AND_00000001\n",
    "    # OR_00000001\n",
    "    # BLANK_00000001\n",
    "    \n",
    "    node = f\"{node_type.upper()}_{node_counter}\"\n",
    "    node_counter = node_counter + 1\n",
    "    return node, node_counter\n",
    "\n",
    "def append_node(node, node_p:Path, *, node_type:str=''):\n",
    "    '''\n",
    "    input:\n",
    "        node:\n",
    "            case 1: owlready2.entity.ThingClass\n",
    "            case 2: Type: str: node = string name\n",
    "        node_p: path to node file to append node to\n",
    "        onto_type: node type for and/or\n",
    "    '''\n",
    "    # construct node row\n",
    "    if isinstance(node, owlready2.entity.ThingClass):\n",
    "        # ThingClass node\n",
    "        try:\n",
    "            node_label = ';'.join(node.label)\n",
    "        except:\n",
    "            node_label = ''\n",
    "        node_line = [str(node.name), node_label, str(node.iri), node_type]\n",
    "    elif isinstance(node, str):\n",
    "        # Case: blank, and/or nodes\n",
    "        node_line = [node, '', '', node_type]\n",
    "    else:\n",
    "        raise ValueError\n",
    "    # write node to file\n",
    "    with open(node_p, 'a') as f:\n",
    "        node_writer = csv.writer(f, delimiter=',')\n",
    "        node_writer.writerow(node_line)\n",
    "        \n",
    "def append_relation(source_id:str, target_id:str,\n",
    "                    edge_type:str, *, restriction:str=''):\n",
    "    # construct relation row\n",
    "    rel_line = [source_id, target_id, edge_type, restriction]\n",
    "    # write to file\n",
    "    with open(rel_p, 'a') as f:\n",
    "        rel_writer = csv.writer(f, delimiter=',')\n",
    "        rel_writer.writerow(rel_line)"
   ]
  },
  {
   "cell_type": "markdown",
   "id": "72207837-3311-4463-a1ba-5fe9c676199e",
   "metadata": {},
   "source": [
    "### foodon.owl"
   ]
  },
  {
   "cell_type": "code",
   "execution_count": 6,
   "id": "c8021455-21a2-4229-80d5-0c28dc340b9c",
   "metadata": {},
   "outputs": [],
   "source": [
    "#!pip install owlready2"
   ]
  },
  {
   "cell_type": "code",
   "execution_count": 7,
   "id": "86d250d3-319a-4acb-b67c-34d07557563c",
   "metadata": {},
   "outputs": [],
   "source": [
    "# set paths\n",
    "ontology_p = \"../../ontologies\"\n",
    "\n",
    "foodon_p   = ontology_p + \"/foodon_filtered.owl\""
   ]
  },
  {
   "cell_type": "code",
   "execution_count": 8,
   "id": "e3f7f239-1a79-4722-958d-291f818052c1",
   "metadata": {},
   "outputs": [],
   "source": [
    "# IRIS[\"https://raw.githubusercontent.com/FoodOntology/foodon/master/foodon.owl#obo\"]"
   ]
  },
  {
   "cell_type": "code",
   "execution_count": 9,
   "id": "67e584a6-7581-4c28-86c4-64505b9c62a9",
   "metadata": {},
   "outputs": [],
   "source": [
    "# load ontology\n",
    "onto = get_ontology(foodon_p).load()"
   ]
  },
  {
   "cell_type": "markdown",
   "id": "714fa227-994f-4f52-871a-c0878e9d276a",
   "metadata": {},
   "source": [
    "##### Exploring foodonto classes"
   ]
  },
  {
   "cell_type": "code",
   "execution_count": 10,
   "id": "c5536be0-2951-4607-8f19-ced07c0fe90e",
   "metadata": {},
   "outputs": [],
   "source": [
    "## Get the namespace for testing\n",
    "obo = get_namespace(\"http://purl.obolibrary.org/obo/\")"
   ]
  },
  {
   "cell_type": "code",
   "execution_count": 11,
   "id": "f7b3fa55-0395-4a2b-83e4-664bcd8b1f95",
   "metadata": {},
   "outputs": [],
   "source": [
    "def get_details_of_restriction(res):\n",
    "#     print(\"\\t\\tEdge Label:\",res.property)\n",
    "#     print(\"\\t\\tType:\",res.type)\n",
    "#     print(\"\\t\\tBlank connected Node:\",res.value)\n",
    "    return res.property,res.type,res.value"
   ]
  },
  {
   "cell_type": "code",
   "execution_count": 12,
   "id": "f95b8077-9592-4c97-b2d0-37671ab75eb2",
   "metadata": {},
   "outputs": [],
   "source": [
    "\n",
    "def traverse_is_a_or_equivalent_to(parent,child_class,child_relation,and_cnt,or_cnt,blank_cnt):\n",
    "    #print(\"\\tParent Entity:\",parent)\n",
    "    append_node(child_class,node_p,node_type='THING_CLASS')\n",
    "    \n",
    "    if type(parent)==owlready2.class_construct.And:\n",
    "        \n",
    "        ## AND Node creation\n",
    "        and_node,and_cnt = create_transitionary_node('AND',and_cnt)\n",
    "        append_node(and_node,node_p,node_type='AND')\n",
    "        append_relation(child_class,and_node,child_relation)\n",
    "        \n",
    "        for connected_node in parent.is_a:\n",
    "            if type(connected_node)==owlready2.class_construct.Restriction:\n",
    "                #print(\"\\tBlank Node Connected Entity:\",connected_node)\n",
    "                \n",
    "                ## Blank Node creation\n",
    "                blank_node,blank_cnt = create_transitionary_node('BLANK',blank_cnt)\n",
    "                append_node(blank_node,node_p,node_type='BLANK')\n",
    "                \n",
    "                # Blank to AND\n",
    "                append_relation(and_node,blank_node,'member_of')\n",
    "                edge_label,restriction,target_node = get_details_of_restriction(connected_node)\n",
    "                #assert restriction == 24\n",
    "                \n",
    "                # Blank to Final Node\n",
    "                append_node(target_node,node_p,node_type='THING_CLASS')\n",
    "                append_relation(blank_node,target_node,edge_label,restriction=restriction)\n",
    "            \n",
    "            elif isinstance(connected_node,owlready2.entity.ThingClass):\n",
    "                #print(\"\\tAND Connected Node:\",connected_node)\n",
    "                append_node(connected_node,node_p,node_type='THING_CLASS')\n",
    "                append_relation(and_node,connected_node,'member_of')\n",
    "            else:\n",
    "                raise TypeError(\"Type Erro with connected node:\",connected_node.name)\n",
    "\n",
    "\n",
    "    elif type(parent)==owlready2.class_construct.Or:\n",
    "        \n",
    "        ## OR Node creation\n",
    "        or_node,or_cnt = create_transitionary_node('OR',or_cnt)\n",
    "        append_node(or_node,node_p,node_type='OR')\n",
    "        \n",
    "        # Child to OR\n",
    "        append_relation(child_class,or_node,child_relation)\n",
    "        \n",
    "        for connected_node in parent.is_a:\n",
    "            if type(connected_node)==owlready2.class_construct.Restriction:\n",
    "                #print(\"\\tBlank Node Connected Entity:\",connected_node)\n",
    "                \n",
    "                ## Blank Node creation\n",
    "                blank_node,blank_cnt = create_transitionary_node('BLANK',blank_cnt)\n",
    "                append_node(blank_node,node_p,node_type='BLANK')\n",
    "                \n",
    "                # Blank to OR\n",
    "                append_relation(or_node,blank_node,'member_of')\n",
    "                edge_label,restriction,target_node = get_details_of_restriction(connected_node)\n",
    "                #assert restriction == 24\n",
    "                \n",
    "                # Blank to Final Node\n",
    "                append_node(target_node,node_p,node_type='THING_CLASS')\n",
    "                append_relation(blank_node,target_node,edge_label,restriction=restriction)\n",
    "            \n",
    "            elif isinstance(connected_node,owlready2.entity.ThingClass):\n",
    "                #print(\"\\tOR Connected Node:\",connected_node)\n",
    "                append_node(connected_node,node_p,node_type='THING_CLASS')\n",
    "                append_relation(or_node,connected_node,'member_of')\n",
    "            else:\n",
    "                raise TypeError(\"Type Erro with connected node:\",connected_node.name)\n",
    "                \n",
    "    elif isinstance(parent,owlready2.class_construct.Restriction):\n",
    "        blank_node,blank_cnt = create_transitionary_node('BLANK',blank_cnt)\n",
    "        append_node(blank_node,node_p,node_type='BLANK')\n",
    "        append_relation(child_class,blank_node,child_relation)\n",
    "        edge_label,restriction,target_node = get_details_of_restriction(parent)\n",
    "        #assert restriction == 24\n",
    "        append_relation(blank_node,target_node,edge_label,restriction=restriction)\n",
    "        \n",
    "    elif isinstance(parent,owlready2.entity.ThingClass):\n",
    "        append_node(parent,node_p,node_type='THING_CLASS')\n",
    "        append_relation(child_class,parent,child_relation)\n",
    "        "
   ]
  },
  {
   "cell_type": "code",
   "execution_count": 13,
   "id": "9c0a887f-13df-410e-9995-c1386ba89c8e",
   "metadata": {},
   "outputs": [],
   "source": [
    "def class_details(klass):\n",
    "    #print(\"label:\",klass.label)\n",
    "    if list(klass.equivalent_to):\n",
    "        #print(\"equivalent_to:\",list(klass.equivalent_to))\n",
    "        for parent in klass.equivalent_to:\n",
    "            traverse_is_a_or_equivalent_to(parent,klass,'equivalent_to',and_cnt,or_cnt,blank_cnt)\n",
    "    else:\n",
    "        #print(\"is_a:\",list(klass.is_a))\n",
    "        for parent in klass.is_a:\n",
    "            traverse_is_a_or_equivalent_to(parent,klass,'is_a',and_cnt,or_cnt,blank_cnt)"
   ]
  },
  {
   "cell_type": "code",
   "execution_count": 14,
   "id": "b279b373-bc06-422c-a6d2-27322f03f55b",
   "metadata": {},
   "outputs": [],
   "source": [
    "#c=obo.FOODON_00002114 #is_a example\n",
    "#c=obo.FOODON_00002403 #is_equivalent example\n",
    "#c=obo.FOODON_00002403"
   ]
  },
  {
   "cell_type": "code",
   "execution_count": 15,
   "id": "b8d3efe4-7ac8-425a-8331-ba1a8ea0a337",
   "metadata": {},
   "outputs": [],
   "source": [
    "#class_details(c)\n"
   ]
  },
  {
   "cell_type": "code",
   "execution_count": 16,
   "id": "4f163e90-aafd-4350-95ca-f704640aaf89",
   "metadata": {},
   "outputs": [
    {
     "name": "stderr",
     "output_type": "stream",
     "text": [
      "* Owlready2 * Warning: ignoring cyclic subclass of/subproperty of, involving:\n",
      "  http://purl.obolibrary.org/obo/FOODON_00002511\n",
      "\n",
      "* Owlready2 * Warning: ignoring cyclic subclass of/subproperty of, involving:\n",
      "  http://purl.obolibrary.org/obo/FOODON_03315876\n",
      "\n"
     ]
    },
    {
     "name": "stdout",
     "output_type": "stream",
     "text": [
      "Broken Classes: 1525\n",
      "CPU times: user 15.3 s, sys: 12.1 s, total: 27.3 s\n",
      "Wall time: 27.6 s\n"
     ]
    }
   ],
   "source": [
    "%%time\n",
    "cnt = 0\n",
    "for klass in onto.classes(): \n",
    "#     if cnt==10:\n",
    "#         break\n",
    "    #if re.search('FOODON', klass.name):\n",
    "    try:\n",
    "        class_details(klass)\n",
    "    except:\n",
    "        cnt+=1\n",
    "print(\"Broken Classes:\",cnt)"
   ]
  },
  {
   "cell_type": "code",
   "execution_count": 17,
   "id": "1fd4bc24-09a3-43ce-a5a7-ebc8b5eb4ba0",
   "metadata": {},
   "outputs": [
    {
     "data": {
      "text/plain": [
       "[]"
      ]
     },
     "execution_count": 17,
     "metadata": {},
     "output_type": "execute_result"
    }
   ],
   "source": [
    "klass.equivalent_to"
   ]
  },
  {
   "cell_type": "code",
   "execution_count": 18,
   "id": "92f604a0-d19b-4817-9cd7-15c5a31e9fe4",
   "metadata": {},
   "outputs": [
    {
     "data": {
      "text/plain": [
       "'https://www.w3.org/TR/owl-time/#time:TemporalUnit'"
      ]
     },
     "execution_count": 18,
     "metadata": {},
     "output_type": "execute_result"
    }
   ],
   "source": [
    "klass.iri"
   ]
  },
  {
   "cell_type": "code",
   "execution_count": 19,
   "id": "ad09e181-86e1-4eee-bc45-a27f059e9644",
   "metadata": {},
   "outputs": [
    {
     "data": {
      "text/plain": [
       "(32031, 4)"
      ]
     },
     "execution_count": 19,
     "metadata": {},
     "output_type": "execute_result"
    }
   ],
   "source": [
    "node_df = pd.read_csv(node_p)\n",
    "node_df.drop_duplicates(inplace=True)\n",
    "node_df.shape"
   ]
  },
  {
   "cell_type": "code",
   "execution_count": 20,
   "id": "8f501adf-28ee-4316-ab6b-3240e5bdaf4f",
   "metadata": {},
   "outputs": [
    {
     "data": {
      "text/plain": [
       "(42913, 4)"
      ]
     },
     "execution_count": 20,
     "metadata": {},
     "output_type": "execute_result"
    }
   ],
   "source": [
    "rel_df = pd.read_csv(rel_p)\n",
    "rel_df.drop_duplicates(inplace=True)\n",
    "rel_df.shape"
   ]
  },
  {
   "cell_type": "code",
   "execution_count": 21,
   "id": "d06034f4-c951-441c-a3e1-a08519e81d87",
   "metadata": {
    "jupyter": {
     "source_hidden": true
    },
    "tags": []
   },
   "outputs": [],
   "source": [
    "def class_details(klass):\n",
    "    print(\"label:\",klass.label)\n",
    "    if list(klass.equivalent_to):\n",
    "        print(\"equivalent_to:\",list(klass.equivalent_to))\n",
    "        for parent in klass.equivalent_to:\n",
    "            print(\"\\tParent Entity:\",parent)\n",
    "            if type(parent)==owlready2.class_construct.And:\n",
    "                    for connected_node in parent.is_a:\n",
    "                        if type(connected_node)==owlready2.class_construct.Restriction:\n",
    "                            print(\"\\tBlank Node Connected Entity:\",connected_node)\n",
    "                            get_details_of_restriction(connected_node)\n",
    "                        else:\n",
    "                            print(\"\\tAnd Connected Node:\",connected_node)\n",
    "    else:\n",
    "        print(\"is_a:\",list(klass.is_a))\n",
    "        for parent in klass.is_a:\n",
    "            print(\"\\tParent Entity:\",parent)\n",
    "            if type(parent)==owlready2.class_construct.And:\n",
    "                for connected_node in parent.is_a:\n",
    "                    if type(connected_node)==owlready2.class_construct.Restriction:\n",
    "                        print(\"\\tBlank Node Connected Entity:\",connected_node)\n",
    "                        get_details_of_restriction(connected_node)\n",
    "                    else:\n",
    "                        print(\"\\tAnd Connected Node:\",connected_node)"
   ]
  }
 ],
 "metadata": {
  "kernelspec": {
   "display_name": "Python 3 (ipykernel)",
   "language": "python",
   "name": "python3"
  },
  "language_info": {
   "codemirror_mode": {
    "name": "ipython",
    "version": 3
   },
   "file_extension": ".py",
   "mimetype": "text/x-python",
   "name": "python",
   "nbconvert_exporter": "python",
   "pygments_lexer": "ipython3",
   "version": "3.8.2"
  }
 },
 "nbformat": 4,
 "nbformat_minor": 5
}
