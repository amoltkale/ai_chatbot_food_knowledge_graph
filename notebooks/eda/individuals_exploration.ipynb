{
 "cells": [
  {
   "cell_type": "code",
   "execution_count": 1,
   "id": "89e663ec-0c09-43a5-a3b7-29d92070f9fa",
   "metadata": {},
   "outputs": [],
   "source": [
    "# Ontology Alignment or Mapping\n",
    "# Author: Amol Kale"
   ]
  },
  {
   "cell_type": "code",
   "execution_count": 12,
   "id": "e1a5ca91-6d23-4b6f-afcd-d8cfd8d85961",
   "metadata": {},
   "outputs": [],
   "source": [
    "from owlready2 import *\n",
    "import pandas as pd"
   ]
  },
  {
   "cell_type": "markdown",
   "id": "72207837-3311-4463-a1ba-5fe9c676199e",
   "metadata": {},
   "source": [
    "### foodon.owl"
   ]
  },
  {
   "cell_type": "code",
   "execution_count": 13,
   "id": "c8021455-21a2-4229-80d5-0c28dc340b9c",
   "metadata": {},
   "outputs": [],
   "source": [
    "#!pip install owlready2"
   ]
  },
  {
   "cell_type": "code",
   "execution_count": 14,
   "id": "86d250d3-319a-4acb-b67c-34d07557563c",
   "metadata": {},
   "outputs": [],
   "source": [
    "onto_path.append(\"/Users/amolkale/Documents/DSE/Capstone Project\")\n",
    "onto = get_ontology(\"https://raw.githubusercontent.com/FoodOntology/foodon/master/foodon.owl\").load()"
   ]
  },
  {
   "cell_type": "code",
   "execution_count": 15,
   "id": "e3f7f239-1a79-4722-958d-291f818052c1",
   "metadata": {},
   "outputs": [],
   "source": [
    "# IRIS[\"https://raw.githubusercontent.com/FoodOntology/foodon/master/foodon.owl#obo\"]"
   ]
  },
  {
   "cell_type": "code",
   "execution_count": 16,
   "id": "6d56ce59-d24d-4ede-885a-a66656b0701b",
   "metadata": {},
   "outputs": [
    {
     "name": "stderr",
     "output_type": "stream",
     "text": [
      "* Owlready2 * Warning: ignoring cyclic subclass of/subproperty of, involving:\n",
      "  http://purl.obolibrary.org/obo/FOODON_00002511\n",
      "\n",
      "* Owlready2 * Warning: ignoring cyclic subclass of/subproperty of, involving:\n",
      "  http://purl.obolibrary.org/obo/FOODON_03315876\n",
      "\n"
     ]
    }
   ],
   "source": [
    "onto_set = list(onto.classes())\n",
    "#onto_set = set([str(clss).lower().strip().split('.')[1] for clss in onto_set])"
   ]
  },
  {
   "cell_type": "code",
   "execution_count": 17,
   "id": "31294160-0798-4958-971c-5af756d6d368",
   "metadata": {},
   "outputs": [
    {
     "name": "stdout",
     "output_type": "stream",
     "text": [
      "No. of Classes in Food onto: 34112\n"
     ]
    }
   ],
   "source": [
    "print(\"No. of Classes in Food onto:\",len(onto_set))"
   ]
  },
  {
   "cell_type": "code",
   "execution_count": 18,
   "id": "47a6e3e1-8032-4abb-abe2-0a49e4a56bba",
   "metadata": {},
   "outputs": [],
   "source": [
    "onto.save(\"/Users/amolkale/Documents/DSE/Capstone Project/local_onto_repo/foodon_nt.txt\",format = \"ntriples\")"
   ]
  },
  {
   "cell_type": "code",
   "execution_count": 19,
   "id": "65895519-8730-48a1-b1ee-956fef2fdb7b",
   "metadata": {},
   "outputs": [],
   "source": [
    "# import pandas as pd\n",
    "# df = pd.DataFrame(columns = ['class','iri', 'is_a', 'get_parents_of','subclasses','equivalent_to'])\n",
    "# print(df)"
   ]
  },
  {
   "cell_type": "code",
   "execution_count": 106,
   "id": "f9199b4c-0eb2-476e-96d0-936310ac0aa8",
   "metadata": {},
   "outputs": [],
   "source": [
    "import textwrap\n",
    "'''Pretty print the data'''\n",
    "def print_property(txt,i):\n",
    "    prefix = \"     :\"\n",
    "    wrapper = textwrap.TextWrapper(initial_indent=prefix, width=70, subsequent_indent=' '*len(prefix))\n",
    "    print(wrapper.fill((txt+\":\").ljust(20, ' ')+str(i)+\"\\n\"))\n",
    "    #print((txt+\":\").ljust(20, ' '),i,\"\\n\")"
   ]
  },
  {
   "cell_type": "code",
   "execution_count": null,
   "id": "724796d2-7ddf-47c9-a2ab-80a4e400a5c1",
   "metadata": {},
   "outputs": [],
   "source": [
    "##### Exploring foodonto classes"
   ]
  },
  {
   "cell_type": "code",
   "execution_count": 93,
   "id": "7b5b34a0-5143-4efe-a971-ad9cca9db623",
   "metadata": {},
   "outputs": [],
   "source": [
    "def print_class_info(klass):\n",
    "    \n",
    "\n",
    "    \n",
    "    print_property(\"label\",list(klass.label))\n",
    "\n",
    "    # The .subclasses() method returns the list of direct subclasses of a class.\n",
    "    print_property(\"subclasses\",list(klass.subclasses()))"
   ]
  },
  {
   "cell_type": "markdown",
   "id": "0f1045cc-52b7-4696-b574-fa3b2c4383c3",
   "metadata": {},
   "source": [
    "***Exploring foodonto classes [chia food product]***"
   ]
  },
  {
   "cell_type": "code",
   "execution_count": 23,
   "id": "e39d0d8f-e4ef-42a9-a365-a7d4db597553",
   "metadata": {},
   "outputs": [
    {
     "data": {
      "text/plain": [
       "60"
      ]
     },
     "execution_count": 23,
     "metadata": {},
     "output_type": "execute_result"
    }
   ],
   "source": [
    "len(list(onto.individuals()))"
   ]
  },
  {
   "cell_type": "code",
   "execution_count": 39,
   "id": "ed56b8c8-d58d-4cf4-a5bb-785219f59293",
   "metadata": {},
   "outputs": [
    {
     "data": {
      "text/plain": [
       "70"
      ]
     },
     "execution_count": 39,
     "metadata": {},
     "output_type": "execute_result"
    }
   ],
   "source": [
    "len(list(onto.annotation_properties()))"
   ]
  },
  {
   "cell_type": "code",
   "execution_count": 40,
   "id": "36bad8dc-e009-4540-838d-b61345927e8c",
   "metadata": {},
   "outputs": [
    {
     "data": {
      "text/plain": [
       "65"
      ]
     },
     "execution_count": 40,
     "metadata": {},
     "output_type": "execute_result"
    }
   ],
   "source": [
    "len(list(onto.object_properties()))"
   ]
  },
  {
   "cell_type": "code",
   "execution_count": 79,
   "id": "103caaff-7c8d-42bf-9acb-038f326548e8",
   "metadata": {},
   "outputs": [
    {
     "name": "stdout",
     "output_type": "stream",
     "text": [
      "obo.IAO_0000122\n",
      "label:               ['ready for release'] \n",
      "\n",
      "get_properties:      {22-rdf-syntax-ns.type, rdf-schema.label, obo.IAO_0000115, obo.IAO_0000111} \n",
      "\n",
      "get_relations [(obo.FOODON_03412767, 'http://purl.obolibrary.org/obo/foodon.owl/a%20species%20of%20flowering%20plant%20in%20the%20myrtle%20family,%20Myrtaceae%20–%20is%20native%20to%20the%20highlands%20of%20southern%20Brazil,%20eastern%20Paraguay,%20Uruguay,%20northern%20Argentina,%20and%20Colombia.'), (obo.FOODON_03601062, 'https://www.greenerchoices.org/hormone-free')]\n",
      "get_relations [(obo.IAO_0000111, 'editor preferred label'), (obo.IAO_0000111, 'editor preferred label')]\n",
      "is_a:                [obo.IAO_0000078] \n",
      "\n",
      "get_inverse_properties: [(obo.FOODON_00003346, rdf-schema.comment), (obo.FOODON_00003924, obo.IAO_0000232), (obo.FOODON_00002574, obo.IAO_0000119), (obo.FOODON_00002901, obo.IAO_0000119), (obo.FOODON_00002999, obo.IAO_0000119), (obo.FOODON_00002929, obo.IAO_0000117)] \n",
      "\n",
      "****************************************************************************************************\n",
      "obo.IAO_0000125\n",
      "label:               ['pending final vetting'] \n",
      "\n",
      "get_properties:      {22-rdf-syntax-ns.type, rdf-schema.label, obo.IAO_0000115, obo.IAO_0000111} \n",
      "\n",
      "get_relations [(obo.FOODON_03412767, 'http://purl.obolibrary.org/obo/foodon.owl/a%20species%20of%20flowering%20plant%20in%20the%20myrtle%20family,%20Myrtaceae%20–%20is%20native%20to%20the%20highlands%20of%20southern%20Brazil,%20eastern%20Paraguay,%20Uruguay,%20northern%20Argentina,%20and%20Colombia.'), (obo.FOODON_03601062, 'https://www.greenerchoices.org/hormone-free')]\n",
      "get_relations [(obo.IAO_0000111, 'editor preferred label'), (obo.IAO_0000111, 'editor preferred label')]\n",
      "is_a:                [obo.IAO_0000078] \n",
      "\n",
      "get_inverse_properties: [(obo.IAO_0000118, obo.IAO_0000114), (obo.IAO_0000412, obo.IAO_0000114), (obo.IAO_0100001, obo.IAO_0000114), (obo.IAO_0000136, obo.IAO_0000114), (obo.RO_0001000, obo.IAO_0000114), (obo.RO_0001001, obo.IAO_0000114)] \n",
      "\n",
      "****************************************************************************************************\n",
      "obo.IAO_0000123\n",
      "label:               ['metadata incomplete'] \n",
      "\n",
      "get_properties:      {22-rdf-syntax-ns.type, rdf-schema.label, obo.IAO_0000115, obo.IAO_0000111} \n",
      "\n",
      "get_relations [(obo.FOODON_03412767, 'http://purl.obolibrary.org/obo/foodon.owl/a%20species%20of%20flowering%20plant%20in%20the%20myrtle%20family,%20Myrtaceae%20–%20is%20native%20to%20the%20highlands%20of%20southern%20Brazil,%20eastern%20Paraguay,%20Uruguay,%20northern%20Argentina,%20and%20Colombia.'), (obo.FOODON_03601062, 'https://www.greenerchoices.org/hormone-free')]\n",
      "get_relations [(obo.IAO_0000111, 'editor preferred label'), (obo.IAO_0000111, 'editor preferred label')]\n",
      "is_a:                [obo.IAO_0000078] \n",
      "\n",
      "get_inverse_properties: [(obo.OBI_0001927, obo.IAO_0000114), (obo.OBI_0001930, obo.IAO_0000114), (obo.FOODON_00001574, obo.IAO_0000114), (obo.FOODON_00001809, obo.IAO_0000114), (obo.IAO_0000416, obo.IAO_0000114), (obo.NCBITaxon_159738, obo.IAO_0000114)] \n",
      "\n",
      "****************************************************************************************************\n"
     ]
    }
   ],
   "source": [
    "##individuals\n",
    "cnt = 0\n",
    "for i in onto.individuals(): \n",
    "    if cnt==3:\n",
    "        break\n",
    "\n",
    "    print(i)\n",
    "    \n",
    "    print_property(\"label\",i.label)\n",
    "\n",
    "    print_property(\"get_properties\",i.get_properties())\n",
    "    \n",
    "    for p in i.get_properties():\n",
    "        try:\n",
    "            print(\"get_relations\",list(p.get_relations())[:2])\n",
    "        except:\n",
    "            pass\n",
    "    \n",
    "    print_property(\"is_a\",i.is_a)\n",
    "\n",
    "    print_property(\"get_inverse_properties\",list(i.get_inverse_properties())[:6])\n",
    "    #print_property(\"get_inverse_properties\",len(list(i.get_inverse_properties())))\n",
    "    cnt=cnt+1\n",
    "    print(\"*\"*100)"
   ]
  },
  {
   "cell_type": "code",
   "execution_count": 36,
   "id": "63b123b9-68d7-435b-9273-e6bd238ecc5f",
   "metadata": {},
   "outputs": [
    {
     "name": "stdout",
     "output_type": "stream",
     "text": [
      "21368\n"
     ]
    }
   ],
   "source": [
    "##individuals\n",
    "cnt = 0\n",
    "for i in onto.individuals(): \n",
    "    len_prop = len(list(i.get_inverse_properties()))\n",
    "    cnt=cnt+len_prop\n",
    "print(cnt)"
   ]
  },
  {
   "cell_type": "markdown",
   "id": "c28d6194-6d90-480a-82fe-e8b283f58391",
   "metadata": {},
   "source": [
    "#### Classes Exploration"
   ]
  },
  {
   "cell_type": "code",
   "execution_count": null,
   "id": "090f2022-de5d-4318-9168-fb077def2b93",
   "metadata": {},
   "outputs": [],
   "source": []
  },
  {
   "cell_type": "markdown",
   "id": "dbf39f70-cf7b-4cdd-aa44-853784051437",
   "metadata": {},
   "source": [
    "### DUL2 Exploration\n"
   ]
  },
  {
   "cell_type": "code",
   "execution_count": 3,
   "id": "26217716-0f0b-41c6-b530-f46b4a27010d",
   "metadata": {},
   "outputs": [],
   "source": [
    "dul_onto = get_ontology(\"/Users/amolkale/Documents/DSE/Capstone Project/local_onto_repo/DUL2.owl\").load()\n"
   ]
  },
  {
   "cell_type": "code",
   "execution_count": 4,
   "id": "df437574-9225-4392-b1c2-ee2a81891319",
   "metadata": {},
   "outputs": [],
   "source": [
    "dul_onto_set = list(dul_onto.classes())\n",
    "#dul_onto_set = set([str(clss).lower().strip().split('.')[1] for clss in dul_onto_set])\n"
   ]
  },
  {
   "cell_type": "code",
   "execution_count": 5,
   "id": "0b2cf59f-589b-4ae4-80d3-97937658dc43",
   "metadata": {},
   "outputs": [
    {
     "name": "stdout",
     "output_type": "stream",
     "text": [
      "No.of classes in DUL2 onto 74\n"
     ]
    }
   ],
   "source": [
    "print(\"No.of classes in DUL2 onto\",len(dul_onto_set))\n"
   ]
  },
  {
   "cell_type": "code",
   "execution_count": 9,
   "id": "2a26bf58-296f-4352-b848-094d24f88c50",
   "metadata": {},
   "outputs": [
    {
     "name": "stdout",
     "output_type": "stream",
     "text": [
      "class:               owl.Thing\n",
      "label:               []\n",
      "iri:                 http://www.w3.org/2002/07/owl#Thing\n",
      "is_a:                []\n",
      "get_parents_of:      []\n",
      "subclasses:          [owl.Thing, DUL2.Entity]\n",
      "equivalent_to:       []\n",
      "ancestors:           {owl.Thing}\n",
      "****************************************************************************************************\n",
      "class:               DUL2.Agent\n",
      "label:               ['Agent', 'Agente']\n",
      "iri:                 http://www.ontologydesignpatterns.org/ont/dul/DUL.owl#Agent\n",
      "is_a:                [DUL2.Object]\n",
      "get_parents_of:      [DUL2.Object]\n",
      "subclasses:          [DUL2.SocialAgent, DUL2.Person, DUL2.PhysicalAgent]\n",
      "equivalent_to:       []\n",
      "ancestors:           {DUL2.Agent, DUL2.Entity, DUL2.Object, owl.Thing}\n",
      "****************************************************************************************************\n",
      "class:               DUL2.SocialAgent\n",
      "label:               ['Agente sociale', 'Social agent']\n",
      "iri:                 http://www.ontologydesignpatterns.org/ont/dul/DUL.owl#SocialAgent\n",
      "is_a:                [DUL2.Agent, DUL2.SocialObject, DUL2.actsThrough.some(DUL2.PhysicalAgent)]\n",
      "get_parents_of:      [DUL2.Agent, DUL2.SocialObject, DUL2.actsThrough.some(DUL2.PhysicalAgent)]\n",
      "subclasses:          [DUL2.CollectiveAgent, DUL2.Organization, DUL2.Personification, DUL2.SocialPerson]\n",
      "equivalent_to:       []\n",
      "ancestors:           {DUL2.SocialObject, DUL2.Object, owl.Thing, DUL2.Agent, DUL2.Entity, DUL2.SocialAgent}\n",
      "****************************************************************************************************\n",
      "class:               DUL2.Entity\n",
      "label:               ['Entity', 'Entità']\n",
      "iri:                 http://www.ontologydesignpatterns.org/ont/dul/DUL.owl#Entity\n",
      "is_a:                [owl.Thing]\n",
      "get_parents_of:      []\n",
      "subclasses:          [DUL2.Object, DUL2.Event, DUL2.Quality, DUL2.Abstract, DUL2.InformationEntity]\n",
      "equivalent_to:       []\n",
      "ancestors:           {DUL2.Entity, owl.Thing}\n",
      "****************************************************************************************************\n",
      "class:               DUL2.Concept\n",
      "label:               ['Concept', 'Concetto']\n",
      "iri:                 http://www.ontologydesignpatterns.org/ont/dul/DUL.owl#Concept\n",
      "is_a:                [DUL2.SocialObject, DUL2.isDefinedIn.some(DUL2.Description), DUL2.hasPart.only(DUL2.Concept)]\n",
      "get_parents_of:      [DUL2.SocialObject, DUL2.isDefinedIn.some(DUL2.Description), DUL2.hasPart.only(DUL2.Concept)]\n",
      "subclasses:          [DUL2.Role, DUL2.Parameter, DUL2.EventType, DUL2.LocalConcept]\n",
      "equivalent_to:       []\n",
      "ancestors:           {DUL2.SocialObject, DUL2.Object, owl.Thing, DUL2.Entity, DUL2.Concept}\n",
      "****************************************************************************************************\n"
     ]
    }
   ],
   "source": [
    "cnt = 0\n",
    "for i in dul_onto.classes(): \n",
    "    if cnt==5:\n",
    "        break\n",
    "    print_property(\"class\",i)\n",
    "    print_property(\"label\",i.label)\n",
    "    \n",
    "    # Get the iri\n",
    "    print_property(\"iri\",i.iri)\n",
    "\n",
    "\n",
    "    ## the .is_a attribute for getting the list of superclasses\n",
    "    print_property(\"is_a\",list(i.is_a))\n",
    "\n",
    "    print_property(\"get_parents_of\",dul_onto.get_parents_of(i))\n",
    "\n",
    "    # The .subclasses() method returns the list of direct subclasses of a class.\n",
    "    print_property(\"subclasses\",list(i.subclasses()))\n",
    "\n",
    "    print_property(\"equivalent_to\",i.equivalent_to)\n",
    "\n",
    "\n",
    "    # print(\"descendants\")\n",
    "    # print(i.descendants())\n",
    "    print_property(\"ancestors\",i.ancestors())\n",
    "    \n",
    "    cnt=cnt+1\n",
    "    print(\"*\"*100)"
   ]
  },
  {
   "cell_type": "code",
   "execution_count": 20,
   "id": "609b8c41-e3ea-4310-af2d-05dfe57f36ce",
   "metadata": {},
   "outputs": [
    {
     "data": {
      "text/plain": [
       "[owl.Thing,\n",
       " DUL2.Agent,\n",
       " DUL2.SocialAgent,\n",
       " DUL2.Entity,\n",
       " DUL2.Concept,\n",
       " DUL2.Collection,\n",
       " DUL2.SocialObject,\n",
       " DUL2.InformationRealization,\n",
       " DUL2.Object,\n",
       " DUL2.Description]"
      ]
     },
     "execution_count": 20,
     "metadata": {},
     "output_type": "execute_result"
    }
   ],
   "source": [
    "list(dul_onto_set)[:10]"
   ]
  },
  {
   "cell_type": "code",
   "execution_count": 21,
   "id": "5d2b774f-99e8-4872-9b25-80e243964d7e",
   "metadata": {},
   "outputs": [
    {
     "data": {
      "text/plain": [
       "[obo.FOODON_00002403,\n",
       " obo.FOODON_00001002,\n",
       " Thesaurus.C103180,\n",
       " obo.OBI_0000658,\n",
       " obo.AGRO_00000025,\n",
       " obo.AGRO_00002071,\n",
       " obo.AGRO_00000322,\n",
       " obo.AGRO_00000360,\n",
       " obo.ENVO_01000408,\n",
       " obo.AGRO_00000363]"
      ]
     },
     "execution_count": 21,
     "metadata": {},
     "output_type": "execute_result"
    }
   ],
   "source": [
    "list(onto_set)[:10]"
   ]
  },
  {
   "cell_type": "code",
   "execution_count": null,
   "id": "cac70f3b-7911-4894-bb25-85b2293599da",
   "metadata": {},
   "outputs": [],
   "source": []
  }
 ],
 "metadata": {
  "kernelspec": {
   "display_name": "Python 3 (ipykernel)",
   "language": "python",
   "name": "python3"
  },
  "language_info": {
   "codemirror_mode": {
    "name": "ipython",
    "version": 3
   },
   "file_extension": ".py",
   "mimetype": "text/x-python",
   "name": "python",
   "nbconvert_exporter": "python",
   "pygments_lexer": "ipython3",
   "version": "3.8.2"
  }
 },
 "nbformat": 4,
 "nbformat_minor": 5
}
