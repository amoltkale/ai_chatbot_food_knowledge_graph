{
 "cells": [
  {
   "cell_type": "code",
   "execution_count": 1,
   "id": "6cf80b4f-ca0e-4970-8592-110e6390e4e0",
   "metadata": {},
   "outputs": [
    {
     "name": "stderr",
     "output_type": "stream",
     "text": [
      "* Owlready2 * Warning: optimized Cython parser module 'owlready2_optimized' is not available, defaulting to slower Python implementation\n"
     ]
    }
   ],
   "source": [
    "import csv\n",
    "\n",
    "from pathlib import Path\n",
    "\n",
    "import owlready2\n",
    "import owlready2.namespace as owl_namespace\n",
    "from owlready2 import get_ontology\n",
    "\n",
    "import pandas as pd"
   ]
  },
  {
   "cell_type": "code",
   "execution_count": 3,
   "id": "c393aa7d-6207-47ca-aeab-8e04572a8f6a",
   "metadata": {},
   "outputs": [],
   "source": [
    "# set up out path\n",
    "data_p = Path(\"../../ontologies\")\n",
    "\n",
    "out_p = data_p / \"out/\"\n",
    "out_p.mkdir(exist_ok=True)\n",
    "\n",
    "node_p = out_p / \"nodes.csv\"\n",
    "with open(node_p, 'w') as csvfile:\n",
    "    fieldnames = ['node_id:ID', 'descriptive_label:string[]', 'iri', ':LABEL']\n",
    "    writer = csv.DictWriter(csvfile, fieldnames=fieldnames)\n",
    "\n",
    "    writer.writeheader()\n",
    "\n",
    "rel_p  = out_p / \"rel.csv\"\n",
    "with open(rel_p, 'w') as csvfile:\n",
    "    fieldnames = [':START_ID', ':END_ID', ':TYPE', 'restriction', 'label']\n",
    "    writer = csv.DictWriter(csvfile, fieldnames=fieldnames)\n",
    "\n",
    "    writer.writeheader()"
   ]
  },
  {
   "cell_type": "code",
   "execution_count": 6,
   "id": "076be356-d7f0-4608-826d-8ee61ae7ba41",
   "metadata": {},
   "outputs": [],
   "source": [
    "# set paths\n",
    "ontology_p = \"../../ontologies\"\n",
    "\n",
    "foodon_p   = ontology_p + \"/foodon_filtered.owl\""
   ]
  },
  {
   "cell_type": "code",
   "execution_count": 7,
   "id": "cb695b1e-52a0-4e18-a389-3c0314682331",
   "metadata": {},
   "outputs": [],
   "source": [
    "# load ontology\n",
    "onto = get_ontology(foodon_p).load()"
   ]
  },
  {
   "cell_type": "code",
   "execution_count": 8,
   "id": "75b5a222-2cab-4a50-b05e-21cb1810227b",
   "metadata": {},
   "outputs": [],
   "source": [
    "def create_transitionary_node(node_type, node_counter):\n",
    "    # pass\n",
    "    # AND_00000001\n",
    "    # OR_00000001\n",
    "    # BLANK_00000001\n",
    "    \n",
    "    node = f\"{node_type.upper()}_{node_counter}\"\n",
    "    node_counter = node_counter + 1\n",
    "    return node, node_counter\n",
    "\n",
    "def append_node(node, node_p:Path, *, node_type:str=''):\n",
    "    '''\n",
    "    input:\n",
    "        node:\n",
    "            case 1: owlready2.entity.ThingClass\n",
    "            case 2: Type: str: node = string name\n",
    "        node_p: path to node file to append node to\n",
    "        onto_type: node type for and/or\n",
    "    '''\n",
    "    # construct node row\n",
    "    if isinstance(node, owlready2.entity.ThingClass):\n",
    "        # ThingClass node\n",
    "        try:\n",
    "            node_label = ';'.join(node.label)\n",
    "        except:\n",
    "            node_label = ''\n",
    "        node_line = [str(node), node_label, str(node.iri), node_type]\n",
    "    elif isinstance(node, str):\n",
    "        # Case: blank, and/or nodes\n",
    "        node_line = [node, '', '', node_type]\n",
    "    else:\n",
    "        raise ValueError\n",
    "    # write node to file\n",
    "    with open(node_p, 'a') as f:\n",
    "        node_writer = csv.writer(f, delimiter=',')\n",
    "        node_writer.writerow(node_line)\n",
    "        \n",
    "def append_relation(source_id:str, target_id:str,\n",
    "                    edge_type:str, restriction:str=''):\n",
    "    try:\n",
    "        edge_label = ';'.join(edge_type.label)\n",
    "    except:\n",
    "        edge_label = ''\n",
    "        \n",
    "    # construct relation row\n",
    "    rel_line = [source_id, target_id, edge_type, restriction,edge_label]\n",
    "    # write to file\n",
    "    with open(rel_p, 'a') as f:\n",
    "        rel_writer = csv.writer(f, delimiter=',')\n",
    "        rel_writer.writerow(rel_line)\n",
    "\n",
    "def get_details_of_restriction(res):\n",
    "    return res.property,res.type,res.value"
   ]
  },
  {
   "cell_type": "code",
   "execution_count": 9,
   "id": "2a22e710-a699-484d-9cd2-ec3eba06cbe1",
   "metadata": {},
   "outputs": [],
   "source": [
    "def parse_logic(unknown_node, known_node, edge_type, restriction_type, and_count, or_count, blank_count, not_count):\n",
    "    match type(unknown_node):\n",
    "        case owlready2.entity.ThingClass:\n",
    "            # case: stop rule\n",
    "            append_node(unknown_node,node_p,node_type=\"Concept\")\n",
    "            if isinstance(known_node, str) and (\"AND\" in known_node or \"OR\" in known_node):\n",
    "                # AND/OR nodes are the targets of classes in conjunctons\n",
    "                append_relation(unknown_node, known_node, edge_type, restriction_type)\n",
    "            else:\n",
    "                append_relation(known_node, unknown_node, edge_type, restriction_type)\n",
    "        case owlready2.class_construct.And:\n",
    "            ## AND Node creation\n",
    "            and_node, and_count = create_transitionary_node('AND',and_count)\n",
    "            append_node(and_node,node_p,node_type='AND')\n",
    "            # made edge between AND and known\n",
    "            append_relation(known_node, and_node, edge_type, restriction_type)\n",
    "            \n",
    "            # Iterate through AND list\n",
    "            for connected_node in unknown_node.is_a:\n",
    "                # make recursion call on connected node\n",
    "                and_count, or_count, blank_count, not_count = parse_logic(connected_node, and_node, \"member_of\", restriction_type,\n",
    "                                                               and_count, or_count, blank_count, not_count)\n",
    "                \n",
    "        case owlready2.class_construct.Or:\n",
    "            ## AND Node creation\n",
    "            or_node, or_count = create_transitionary_node('OR', or_count)\n",
    "            append_node(or_node,node_p,node_type='OR')\n",
    "            # made edge between OR and known\n",
    "            append_relation(known_node, or_node, edge_type, restriction_type)\n",
    "            \n",
    "            # Iterate through OR list\n",
    "            for connected_node in unknown_node.Classes:\n",
    "                # make recursion call on connected node\n",
    "                and_count, or_count, blank_count, not_count = parse_logic(connected_node, or_node, \"member_of\", restriction_type,\n",
    "                                                               and_count, or_count, blank_count, not_count)\n",
    "\n",
    "        case owlready2.class_construct.Restriction:\n",
    "            ## BLANK Node Creatiom\n",
    "            blank_node, blank_count = create_transitionary_node('BLANK', blank_count)\n",
    "            append_node(blank_node, node_p, node_type='BLANK')\n",
    "            # make edge between known and blank\n",
    "            append_relation(blank_node, known_node, edge_type, restriction_type)\n",
    "            \n",
    "            # Get values out of restriction\n",
    "            edge_label, restriction, new_unknown_type = get_details_of_restriction(unknown_node)\n",
    "            \n",
    "            match restriction:\n",
    "                case owl_namespace.SOME:\n",
    "                    restriction_name = \"SOME\"\n",
    "                case owl_namespace.ONLY:\n",
    "                    restriction_name = \"ONLY\"\n",
    "                case owl_namespace.EXACTLY:\n",
    "                    restriction_name = \"EXACTLY\"\n",
    "                case owl_namespace.MIN:\n",
    "                    restriction_name = \"MIN\"\n",
    "                case owl_namespace.MAX:\n",
    "                    restriction_name = \"MAX\"\n",
    "                case owl_namespace.VALUE:\n",
    "                    restriction_name = \"VALUE\"\n",
    "                case _:\n",
    "                    print(restriction)\n",
    "                    print(unknown_node)\n",
    "                    raise NotImplementedError\n",
    "            \n",
    "            assert isinstance(edge_label, owlready2.prop.ObjectPropertyClass), f\"{edge_label} {type(edge_label)}\"\n",
    "            and_count, or_count, blank_count, not_count = parse_logic(new_unknown_type, blank_node, edge_label, restriction_name,\n",
    "                                                           and_count, or_count, blank_count, not_count)\n",
    "            \n",
    "        case owlready2.class_construct.Not:\n",
    "            ## Not Node Creatiom\n",
    "            not_node, not_count = create_transitionary_node('NOT', not_count)\n",
    "            append_node(not_node, node_p, node_type='NOT')\n",
    "            # make edge between known and blank\n",
    "            append_relation(not_node, known_node, edge_type, restriction_type)\n",
    "            \n",
    "            # Get values out of restriction\n",
    "            and_count, or_count, blank_count, not_count = parse_logic(unknown_node.Class, not_node, \"member_of\", restriction_type,\n",
    "                                                           and_count, or_count, blank_count, not_count)           \n",
    "            \n",
    "\n",
    "        case _:\n",
    "            # print out type\n",
    "            raise TypeError\n",
    "    return and_count, or_count, blank_count, not_count"
   ]
  },
  {
   "cell_type": "code",
   "execution_count": 10,
   "id": "b9ad5b6b-c48e-4df9-bc4b-622b43ec07af",
   "metadata": {},
   "outputs": [
    {
     "name": "stderr",
     "output_type": "stream",
     "text": [
      "* Owlready2 * Warning: ignoring cyclic subclass of/subproperty of, involving:\n",
      "  http://purl.obolibrary.org/obo/FOODON_00002511\n",
      "\n",
      "* Owlready2 * Warning: ignoring cyclic subclass of/subproperty of, involving:\n",
      "  http://purl.obolibrary.org/obo/FOODON_03315876\n",
      "\n"
     ]
    }
   ],
   "source": [
    "# skeleton loop\n",
    "and_count = 0\n",
    "or_count = 0\n",
    "blank_count = 0\n",
    "not_count = 0\n",
    "for c in onto.classes():\n",
    "    # if c.name == \"FOODON_00002396\":\n",
    "    # if c.name == \"FOODON_00002403\":\n",
    "    # if c.name == \"FOODON_00002114\":\n",
    "    #     break\n",
    "        \n",
    "    # add class to node file\n",
    "    append_node(c,node_p,node_type=\"Concept\")\n",
    "\n",
    "    # check if equivalence is not empty\n",
    "    if list(c.equivalent_to):\n",
    "        for sc in c.equivalent_to:\n",
    "            and_count, or_count, blank_count, not_count = parse_logic(sc, c, \"equivalent_to\", \"\", and_count, or_count, blank_count, not_count)\n",
    "    elif list(c.is_a):\n",
    "        for sc in c.is_a:\n",
    "            and_count, or_count, blank_count, not_count = parse_logic(sc, c, \"is_a\", \"\", and_count, or_count, blank_count, not_count)\n",
    "    else:\n",
    "        print(\":(\")"
   ]
  },
  {
   "cell_type": "code",
   "execution_count": 11,
   "id": "b84d5517-0e61-482f-ba22-4f9448c1003b",
   "metadata": {},
   "outputs": [
    {
     "name": "stdout",
     "output_type": "stream",
     "text": [
      "(91576, 4)\n"
     ]
    },
    {
     "data": {
      "text/plain": [
       "(45979, 4)"
      ]
     },
     "execution_count": 11,
     "metadata": {},
     "output_type": "execute_result"
    }
   ],
   "source": [
    "node_df = pd.read_csv(node_p)\n",
    "print(node_df.shape)\n",
    "node_df.drop_duplicates(inplace=True)\n",
    "node_df.to_csv(node_p,index=False)\n",
    "node_df.shape"
   ]
  },
  {
   "cell_type": "code",
   "execution_count": 12,
   "id": "1f3fbb91-eb9e-47e5-b87e-9d72a034a4d2",
   "metadata": {},
   "outputs": [
    {
     "name": "stdout",
     "output_type": "stream",
     "text": [
      "(59554, 5)\n"
     ]
    },
    {
     "data": {
      "text/plain": [
       "(59554, 5)"
      ]
     },
     "execution_count": 12,
     "metadata": {},
     "output_type": "execute_result"
    }
   ],
   "source": [
    "rel_df = pd.read_csv(rel_p)\n",
    "print(rel_df.shape)\n",
    "rel_df.drop_duplicates(inplace=True)\n",
    "rel_df.to_csv(rel_p,index=False)\n",
    "rel_df.shape"
   ]
  },
  {
   "cell_type": "code",
   "execution_count": 13,
   "id": "b90f8604-0457-4495-9e76-914547d22d80",
   "metadata": {},
   "outputs": [
    {
     "data": {
      "text/html": [
       "<div>\n",
       "<style scoped>\n",
       "    .dataframe tbody tr th:only-of-type {\n",
       "        vertical-align: middle;\n",
       "    }\n",
       "\n",
       "    .dataframe tbody tr th {\n",
       "        vertical-align: top;\n",
       "    }\n",
       "\n",
       "    .dataframe thead th {\n",
       "        text-align: right;\n",
       "    }\n",
       "</style>\n",
       "<table border=\"1\" class=\"dataframe\">\n",
       "  <thead>\n",
       "    <tr style=\"text-align: right;\">\n",
       "      <th></th>\n",
       "      <th>:START_ID</th>\n",
       "      <th>:END_ID</th>\n",
       "      <th>:TYPE</th>\n",
       "      <th>restriction</th>\n",
       "      <th>label</th>\n",
       "    </tr>\n",
       "  </thead>\n",
       "  <tbody>\n",
       "    <tr>\n",
       "      <th>0</th>\n",
       "      <td>obo.FOODON_00002403</td>\n",
       "      <td>AND_0</td>\n",
       "      <td>equivalent_to</td>\n",
       "      <td>NaN</td>\n",
       "      <td>NaN</td>\n",
       "    </tr>\n",
       "    <tr>\n",
       "      <th>1</th>\n",
       "      <td>obo.ENVO_00010483</td>\n",
       "      <td>AND_0</td>\n",
       "      <td>member_of</td>\n",
       "      <td>NaN</td>\n",
       "      <td>NaN</td>\n",
       "    </tr>\n",
       "    <tr>\n",
       "      <th>2</th>\n",
       "      <td>BLANK_0</td>\n",
       "      <td>AND_0</td>\n",
       "      <td>member_of</td>\n",
       "      <td>NaN</td>\n",
       "      <td>NaN</td>\n",
       "    </tr>\n",
       "    <tr>\n",
       "      <th>3</th>\n",
       "      <td>BLANK_0</td>\n",
       "      <td>obo.CHEBI_33290</td>\n",
       "      <td>obo.RO_0000087</td>\n",
       "      <td>SOME</td>\n",
       "      <td>has role</td>\n",
       "    </tr>\n",
       "    <tr>\n",
       "      <th>4</th>\n",
       "      <td>obo.FOODON_00001002</td>\n",
       "      <td>obo.FOODON_00002403</td>\n",
       "      <td>is_a</td>\n",
       "      <td>NaN</td>\n",
       "      <td>NaN</td>\n",
       "    </tr>\n",
       "    <tr>\n",
       "      <th>...</th>\n",
       "      <td>...</td>\n",
       "      <td>...</td>\n",
       "      <td>...</td>\n",
       "      <td>...</td>\n",
       "      <td>...</td>\n",
       "    </tr>\n",
       "    <tr>\n",
       "      <th>59549</th>\n",
       "      <td>obo.UO_0010047</td>\n",
       "      <td>obo.UO_0000095</td>\n",
       "      <td>is_a</td>\n",
       "      <td>NaN</td>\n",
       "      <td>NaN</td>\n",
       "    </tr>\n",
       "    <tr>\n",
       "      <th>59550</th>\n",
       "      <td>obo.UO_0010051</td>\n",
       "      <td>obo.UO_1010051</td>\n",
       "      <td>is_a</td>\n",
       "      <td>NaN</td>\n",
       "      <td>NaN</td>\n",
       "    </tr>\n",
       "    <tr>\n",
       "      <th>59551</th>\n",
       "      <td>obo.UO_1010051</td>\n",
       "      <td>obo.UO_0000111</td>\n",
       "      <td>is_a</td>\n",
       "      <td>NaN</td>\n",
       "      <td>NaN</td>\n",
       "    </tr>\n",
       "    <tr>\n",
       "      <th>59552</th>\n",
       "      <td>.time:Duration</td>\n",
       "      <td>obo.BFO_0000038</td>\n",
       "      <td>is_a</td>\n",
       "      <td>NaN</td>\n",
       "      <td>NaN</td>\n",
       "    </tr>\n",
       "    <tr>\n",
       "      <th>59553</th>\n",
       "      <td>.time:TemporalUnit</td>\n",
       "      <td>obo.BFO_0000038</td>\n",
       "      <td>is_a</td>\n",
       "      <td>NaN</td>\n",
       "      <td>NaN</td>\n",
       "    </tr>\n",
       "  </tbody>\n",
       "</table>\n",
       "<p>59554 rows × 5 columns</p>\n",
       "</div>"
      ],
      "text/plain": [
       "                 :START_ID              :END_ID           :TYPE restriction  \\\n",
       "0      obo.FOODON_00002403                AND_0   equivalent_to         NaN   \n",
       "1        obo.ENVO_00010483                AND_0       member_of         NaN   \n",
       "2                  BLANK_0                AND_0       member_of         NaN   \n",
       "3                  BLANK_0      obo.CHEBI_33290  obo.RO_0000087        SOME   \n",
       "4      obo.FOODON_00001002  obo.FOODON_00002403            is_a         NaN   \n",
       "...                    ...                  ...             ...         ...   \n",
       "59549       obo.UO_0010047       obo.UO_0000095            is_a         NaN   \n",
       "59550       obo.UO_0010051       obo.UO_1010051            is_a         NaN   \n",
       "59551       obo.UO_1010051       obo.UO_0000111            is_a         NaN   \n",
       "59552       .time:Duration      obo.BFO_0000038            is_a         NaN   \n",
       "59553   .time:TemporalUnit      obo.BFO_0000038            is_a         NaN   \n",
       "\n",
       "          label  \n",
       "0           NaN  \n",
       "1           NaN  \n",
       "2           NaN  \n",
       "3      has role  \n",
       "4           NaN  \n",
       "...         ...  \n",
       "59549       NaN  \n",
       "59550       NaN  \n",
       "59551       NaN  \n",
       "59552       NaN  \n",
       "59553       NaN  \n",
       "\n",
       "[59554 rows x 5 columns]"
      ]
     },
     "execution_count": 13,
     "metadata": {},
     "output_type": "execute_result"
    }
   ],
   "source": [
    "rel_df"
   ]
  },
  {
   "cell_type": "code",
   "execution_count": null,
   "id": "ffd2b783",
   "metadata": {},
   "outputs": [],
   "source": []
  },
  {
   "cell_type": "code",
   "execution_count": 14,
   "id": "5b703c90-88a9-423c-ab55-25dd6ed67773",
   "metadata": {},
   "outputs": [
    {
     "data": {
      "text/plain": [
       "array([nan, 'SOME', 'ONLY', 'MIN', 'EXACTLY'], dtype=object)"
      ]
     },
     "execution_count": 14,
     "metadata": {},
     "output_type": "execute_result"
    }
   ],
   "source": [
    "rel_df.restriction.unique()"
   ]
  },
  {
   "cell_type": "markdown",
   "id": "1a63a2ca-a976-4ed7-aa22-e7656653bbf9",
   "metadata": {},
   "source": [
    "## Build relationship nodes with subproperties"
   ]
  },
  {
   "cell_type": "code",
   "execution_count": 19,
   "id": "a8fdd97f-70f7-43f4-88f5-fbbe8c3eb326",
   "metadata": {},
   "outputs": [],
   "source": [
    "# for cls in onto.classes():\n",
    "#     print(cls)\n",
    "#     for subcls in cls.subclasses():\n",
    "#         print(10 * \" \", subcls)"
   ]
  },
  {
   "cell_type": "code",
   "execution_count": 20,
   "id": "af9563ce",
   "metadata": {},
   "outputs": [
    {
     "name": "stdout",
     "output_type": "stream",
     "text": [
      "obo.OBI_0000295\n"
     ]
    }
   ],
   "source": [
    "for p in onto.object_properties():\n",
    "    try:\n",
    "        lbl = list(set(p.label))[0]\n",
    "    except:\n",
    "        pass\n",
    "    if lbl == \"is_specified_input_of\":\n",
    "        break\n",
    "\n",
    "print(p)"
   ]
  },
  {
   "cell_type": "code",
   "execution_count": 21,
   "id": "e6921843",
   "metadata": {},
   "outputs": [
    {
     "name": "stdout",
     "output_type": "stream",
     "text": [
      "['is_specified_input_of']\n",
      "[owl.ObjectProperty, obo.RO_0000056]\n",
      "[obo.OBI_0000295, obo.RO_0000056, owl.ObjectProperty, 22-rdf-syntax-ns.Property, <class 'object'>]\n",
      "get_ontology(\"http://purl.obolibrary.org/obo/foodon.owl/\").get_namespace(\"http://purl.obolibrary.org/obo/\")\n",
      "400\n",
      "[]\n"
     ]
    }
   ],
   "source": [
    "print(p.label)\n",
    "print(p.is_a)\n",
    "print(p.mro())\n",
    "print(p.namespace)\n",
    "print(p.storid)\n",
    "print([i for i in p.get_relations()])"
   ]
  },
  {
   "cell_type": "code",
   "execution_count": 22,
   "id": "09d8e4cc",
   "metadata": {},
   "outputs": [],
   "source": [
    "def create_relation_object_nodes_relations(\n",
    "    ontology,\n",
    "    relation_object_nodes_file,\n",
    "    relation_object_relations_file,\n",
    "):\n",
    "\n",
    "    relation_object_nodes_header = [\n",
    "        \"relationId:ID(Relation)\",\n",
    "        \"relation_label\",\n",
    "        \":LABEL\",\n",
    "    ]\n",
    "    relation_object_nodes = {}\n",
    "\n",
    "    relation_object_relations_header = [\n",
    "        \":START_ID(Relation)\",\n",
    "        \":END_ID(Relation)\",\n",
    "        \":TYPE\",\n",
    "    ]\n",
    "    relation_object_relations = []\n",
    "\n",
    "    # Loop through all properties.\n",
    "    for prop in ontology.object_properties():\n",
    "\n",
    "        # Handle this property (as long as it has a label, add it to the list of relation_object_nodes)\n",
    "        # list(set(prop.label)) is used since sometimes labels are repeated.\n",
    "        if len(list(set(prop.label))) != 0:\n",
    "            if not str(prop) in relation_object_nodes:\n",
    "                node = [str(prop), list(set(prop.label)), \"Relation\"]\n",
    "                relation_object_nodes[str(prop)] = node\n",
    "\n",
    "        # Check for is_a relations.\n",
    "        for p in set(prop.is_a):\n",
    "\n",
    "            # If the is_a relation points to just another property, treat it as above:\n",
    "            # (as long as it has a label, add it ot the list of relation_object_nodes).\n",
    "            # Also add the \"is_a\" relation to the relations.\n",
    "            if isinstance(p, owlready2.prop.ObjectPropertyClass):\n",
    "                if len(list(set(p.label))) != 0:\n",
    "                    if not str(p) in relation_object_nodes:\n",
    "                        node = [str(p), list(set(p.label))]\n",
    "                        relation_object_nodes[str(p)] = node\n",
    "                    if (str(prop) in relation_object_nodes) and (\n",
    "                        str(p) in relation_object_nodes\n",
    "                    ):\n",
    "                        relation_object_relations.append([str(prop), str(p), \"is_a\"])\n",
    "\n",
    "    with open(relation_object_nodes_file, \"w\", newline=\"\") as f:\n",
    "        writer = csv.writer(f)\n",
    "        writer.writerow(relation_object_nodes_header)\n",
    "        writer.writerows(relation_object_nodes.values())\n",
    "\n",
    "    with open(relation_object_relations_file, \"w\", newline=\"\") as f:\n",
    "        writer = csv.writer(f)\n",
    "        writer.writerow(relation_object_relations_header)\n",
    "        writer.writerows(relation_object_relations)"
   ]
  },
  {
   "cell_type": "code",
   "execution_count": 24,
   "id": "5a0edaec",
   "metadata": {},
   "outputs": [],
   "source": [
    "create_relation_object_nodes_relations(\n",
    "    ontology=onto,\n",
    "    relation_object_nodes_file=\"relation_property_nodes.csv\",\n",
    "    relation_object_relations_file=\"relation_property_relations.csv\",\n",
    ")"
   ]
  },
  {
   "cell_type": "markdown",
   "id": "25db931b",
   "metadata": {},
   "source": [
    "From `<neo4j_directory>/import/`, use the following command to load the data into neo4j:\n",
    "\n",
    "`../bin/neo4j-admin import --force --nodes=Relations=relation_object_nodes.csv --relationships=relation_object_relations.csv`"
   ]
  }
 ],
 "metadata": {
  "kernelspec": {
   "display_name": "Python 3 (ipykernel)",
   "language": "python",
   "name": "python3"
  },
  "language_info": {
   "codemirror_mode": {
    "name": "ipython",
    "version": 3
   },
   "file_extension": ".py",
   "mimetype": "text/x-python",
   "name": "python",
   "nbconvert_exporter": "python",
   "pygments_lexer": "ipython3",
   "version": "3.10.9"
  }
 },
 "nbformat": 4,
 "nbformat_minor": 5
}
