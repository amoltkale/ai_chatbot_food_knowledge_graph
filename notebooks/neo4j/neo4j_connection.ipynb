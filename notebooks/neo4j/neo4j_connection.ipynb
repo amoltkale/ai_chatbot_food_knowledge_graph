{
 "cells": [
  {
   "cell_type": "code",
   "execution_count": 4,
   "id": "7ce349bc-af3c-4619-8a43-621cb3003bda",
   "metadata": {},
   "outputs": [],
   "source": [
    "#!pip install py2neo"
   ]
  },
  {
   "cell_type": "code",
   "execution_count": 1,
   "id": "dfa33c5c-cc7e-4774-9da2-1e59f8a1739f",
   "metadata": {},
   "outputs": [],
   "source": [
    "from py2neo import Graph"
   ]
  },
  {
   "cell_type": "code",
   "execution_count": 2,
   "id": "f79a220c-dbea-451f-8f94-7791f26d98bf",
   "metadata": {},
   "outputs": [],
   "source": [
    "#graph = Graph(\"bolt://awesome-hw.sdsc.edu:7689\", auth=(\"neo4j\", \"N7ara-Is\"))\n",
    "graph = Graph(\"neo4j://localhost:7687\", auth=(\"neo4j\", \"a\"))"
   ]
  },
  {
   "cell_type": "code",
   "execution_count": 3,
   "id": "7f365723-ce7a-4c2a-8fd5-fb744339cde3",
   "metadata": {},
   "outputs": [],
   "source": [
    "query = \"MATCH (n) return n limit  5\""
   ]
  },
  {
   "cell_type": "code",
   "execution_count": 4,
   "id": "5f1aae23-6d89-4019-80c0-dc693bf98387",
   "metadata": {},
   "outputs": [
    {
     "data": {
      "text/plain": [
       "[{'n': Node('Concept', descriptive_label=['food material'], iri='http://purl.obolibrary.org/obo/FOODON_00002403', node_id='obo.FOODON_00002403')},\n",
       " {'n': Node('AND', node_id='AND_0')},\n",
       " {'n': Node('Concept', descriptive_label=['environmental material'], iri='http://purl.obolibrary.org/obo/ENVO_00010483', node_id='obo.ENVO_00010483')},\n",
       " {'n': Node('BLANK', node_id='BLANK_0')},\n",
       " {'n': Node('Concept', descriptive_label=['food'], iri='http://purl.obolibrary.org/obo/CHEBI_33290', node_id='obo.CHEBI_33290')}]"
      ]
     },
     "execution_count": 4,
     "metadata": {},
     "output_type": "execute_result"
    }
   ],
   "source": [
    "graph.run(query).data()"
   ]
  },
  {
   "cell_type": "code",
   "execution_count": null,
   "id": "80fa5804-e234-446a-b160-9c422e68818c",
   "metadata": {},
   "outputs": [],
   "source": []
  }
 ],
 "metadata": {
  "kernelspec": {
   "display_name": "Python 3 (ipykernel)",
   "language": "python",
   "name": "python3"
  },
  "language_info": {
   "codemirror_mode": {
    "name": "ipython",
    "version": 3
   },
   "file_extension": ".py",
   "mimetype": "text/x-python",
   "name": "python",
   "nbconvert_exporter": "python",
   "pygments_lexer": "ipython3",
   "version": "3.10.9"
  }
 },
 "nbformat": 4,
 "nbformat_minor": 5
}
