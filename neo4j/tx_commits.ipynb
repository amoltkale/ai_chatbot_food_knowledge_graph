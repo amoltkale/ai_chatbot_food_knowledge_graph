{
 "cells": [
  {
   "cell_type": "code",
   "execution_count": 3,
   "id": "7ce349bc-af3c-4619-8a43-621cb3003bda",
   "metadata": {},
   "outputs": [],
   "source": [
    "#!pip install py2neo"
   ]
  },
  {
   "cell_type": "code",
   "execution_count": 1,
   "id": "dfa33c5c-cc7e-4774-9da2-1e59f8a1739f",
   "metadata": {},
   "outputs": [],
   "source": [
    "from py2neo import Graph"
   ]
  },
  {
   "cell_type": "code",
   "execution_count": 2,
   "id": "f79a220c-dbea-451f-8f94-7791f26d98bf",
   "metadata": {},
   "outputs": [],
   "source": [
    "#graph = Graph(\"bolt://awesome-hw.sdsc.edu:7689\", auth=(\"neo4j\", \"N7ara-Is\"))\n",
    "graph = Graph(\"neo4j://localhost:7687\", auth=(\"neo4j\", \"food_graph\"))"
   ]
  },
  {
   "cell_type": "code",
   "execution_count": 3,
   "id": "7f365723-ce7a-4c2a-8fd5-fb744339cde3",
   "metadata": {},
   "outputs": [],
   "source": [
    "query = \"MATCH (n) return n limit  5\""
   ]
  },
  {
   "cell_type": "code",
   "execution_count": 4,
   "id": "5f1aae23-6d89-4019-80c0-dc693bf98387",
   "metadata": {},
   "outputs": [
    {
     "data": {
      "text/plain": [
       "[{'n': Node('_GraphConfig', _applyNeo4jNaming=False, _classLabel='Class', _dataTypePropertyLabel='Property', _domainRel='DOMAIN', _handleMultival=0, _handleRDFTypes=2, _handleVocabUris=0, _keepCustomDataTypes=False, _keepLangTag=True, _objectPropertyLabel='Relationship', _rangeRel='RANGE', _subClassOfRel='SCO', _subPropertyOfRel='SPO')},\n",
       " {'n': Node('_NsPrefDef', n4sch='neo4j://graph.schema#')},\n",
       " {'n': Node('Resource', 'n4sch__Class', n4sch__label='Automobile', n4sch__name='Automobile', uri='http://localhost/ontologies/2019/1/10/automobile#Automobile')},\n",
       " {'n': Node('Resource', 'n4sch__Class', n4sch__label='Beetle Convertible', n4sch__name='Beetle_Convertible', uri='http://localhost/ontologies/2019/1/10/automobile#Beetle_Convertible')},\n",
       " {'n': Node('Resource', 'n4sch__Class', n4sch__label='e-Golf', n4sch__name='e-Golf', uri='http://localhost/ontologies/2019/1/10/automobile#e-Golf')}]"
      ]
     },
     "execution_count": 4,
     "metadata": {},
     "output_type": "execute_result"
    }
   ],
   "source": [
    "graph.run(query).data()"
   ]
  },
  {
   "cell_type": "code",
   "execution_count": 5,
   "id": "59285e24-a71a-40b1-bf7f-5e2aac0cc978",
   "metadata": {},
   "outputs": [],
   "source": [
    "create_node_query = 'CALL apoc.create.node([\"Person\", \"Actor\"], {name: \"Tom Hanks\"});'"
   ]
  },
  {
   "cell_type": "code",
   "execution_count": 7,
   "id": "489fe14c-a407-4092-af7a-8013bedd307c",
   "metadata": {},
   "outputs": [
    {
     "data": {
      "text/html": [
       "<table><tr><th>node</th></tr><tr><td style=\"text-align:left\">(_0:Actor:Person {name: &#039;Tom Hanks&#039;})</td></tr></table>"
      ],
      "text/plain": [
       " node                                  \n",
       "---------------------------------------\n",
       " (_0:Actor:Person {name: 'Tom Hanks'}) "
      ]
     },
     "execution_count": 7,
     "metadata": {},
     "output_type": "execute_result"
    }
   ],
   "source": [
    "graph.run(create_node_query)"
   ]
  },
  {
   "cell_type": "code",
   "execution_count": 6,
   "id": "90c2e6b7-33f0-4862-acee-4bd63e45ce10",
   "metadata": {},
   "outputs": [],
   "source": [
    "def delete_all(graph):\n",
    "    delete_query = 'MATCH (n) DETACH DELETE n;'\n",
    "    graph.run(delete_query)"
   ]
  },
  {
   "cell_type": "code",
   "execution_count": 7,
   "id": "25d91519-f233-4e62-a4a1-4e43ef866397",
   "metadata": {},
   "outputs": [],
   "source": [
    "delete_all(graph)"
   ]
  },
  {
   "cell_type": "code",
   "execution_count": 13,
   "id": "66db25c1-140c-4cbc-97b5-fdd138772058",
   "metadata": {},
   "outputs": [
    {
     "data": {
      "text/plain": [
       "Graph('neo4j://localhost:7687')"
      ]
     },
     "execution_count": 13,
     "metadata": {},
     "output_type": "execute_result"
    }
   ],
   "source": [
    "graph"
   ]
  },
  {
   "cell_type": "code",
   "execution_count": 15,
   "id": "824bd472-2341-4d85-bf32-a263a70afaf1",
   "metadata": {},
   "outputs": [
    {
     "data": {
      "text/plain": [
       "\"{1: 'abc', 2: 'asd'}\""
      ]
     },
     "execution_count": 15,
     "metadata": {},
     "output_type": "execute_result"
    }
   ],
   "source": [
    "test_map = {}\n",
    "test_map[1] = \"abc\"\n",
    "test_map[2] = \"asd\"\n",
    "str(test_map)"
   ]
  },
  {
   "cell_type": "code",
   "execution_count": 12,
   "id": "64b2eb19-5cea-4162-9c20-8e703ca9963a",
   "metadata": {},
   "outputs": [
    {
     "data": {
      "text/plain": [
       "'CALL apoc.create.nodes([\"EHuman\"],[{name: \"Tom Cruise\", placeOfBirth: \"Syracuse, New York, United States\"}, {name: \"Reese Witherspoon\", placeOfBirth: \"New Orleans, Louisiana, United States\"}]);'"
      ]
     },
     "execution_count": 12,
     "metadata": {},
     "output_type": "execute_result"
    }
   ],
   "source": [
    "create_nodes_string = '[\"EHuman\"],[{name: \"Tom Cruise\", placeOfBirth: \"Syracuse, New York, United States\"}, {name: \"Reese Witherspoon\", placeOfBirth: \"New Orleans, Louisiana, United States\"}]'\n",
    "create_nodes_query = 'CALL apoc.create.nodes('+create_nodes_string+');'\n",
    "create_nodes_query"
   ]
  },
  {
   "cell_type": "code",
   "execution_count": 11,
   "id": "e0d2f22c-01d1-4627-b1ce-c06c02deb00d",
   "metadata": {},
   "outputs": [
    {
     "data": {
      "text/html": [
       "<table><tr><th>node</th></tr><tr><td style=\"text-align:left\">(_2:EHuman:EMovieStar {name: &#039;Tom Cruise&#039;, placeOfBirth: &#039;Syracuse, New York, United States&#039;})</td></tr><tr><td style=\"text-align:left\">(_3:EHuman:EMovieStar {name: &#039;Reese Witherspoon&#039;, placeOfBirth: &#039;New Orleans, Louisiana, United States&#039;})</td></tr></table>"
      ],
      "text/plain": [
       " node                                                                                                      \n",
       "-----------------------------------------------------------------------------------------------------------\n",
       " (_2:EHuman:EMovieStar {name: 'Tom Cruise', placeOfBirth: 'Syracuse, New York, United States'})            \n",
       " (_3:EHuman:EMovieStar {name: 'Reese Witherspoon', placeOfBirth: 'New Orleans, Louisiana, United States'}) "
      ]
     },
     "execution_count": 11,
     "metadata": {},
     "output_type": "execute_result"
    }
   ],
   "source": [
    "graph.run(create_nodes_query)"
   ]
  },
  {
   "cell_type": "code",
   "execution_count": 3,
   "id": "f6f0e27e-dc2b-4de4-a627-38bdf0bf0d97",
   "metadata": {},
   "outputs": [],
   "source": [
    "import csv\n",
    "# read head of a csv file\n",
    "def get_header(file):\n",
    "    # opening the csv file\n",
    "    with open(file) as csv_file:\n",
    "\n",
    "        # reading the csv file using DictReader\n",
    "        csv_reader = csv.DictReader(csv_file)\n",
    "\n",
    "        # converting the file to dictionary\n",
    "        # by first converting to list\n",
    "        # and then converting the list to dict\n",
    "        dict_from_csv = dict(list(csv_reader)[0])\n",
    "\n",
    "        print(dict_from_csv)\n",
    "        \n",
    "        # making a list from the keys of the dict\n",
    "        list_of_column_names = list(dict_from_csv.keys())\n",
    "    \n",
    "\n",
    "    return list_of_column_names,dict_from_csv\n",
    "    \n",
    "    "
   ]
  },
  {
   "cell_type": "code",
   "execution_count": 4,
   "id": "d8842f8f-83d2-4652-a166-4756ac717810",
   "metadata": {},
   "outputs": [
    {
     "name": "stdout",
     "output_type": "stream",
     "text": [
      "{'node_id:ID': 'obo.FOODON_00002403', 'descriptive_label:string[]': 'food material', 'iri': 'http://purl.obolibrary.org/obo/FOODON_00002403', ':LABEL': 'Concept'}\n"
     ]
    }
   ],
   "source": [
    "list_of_column_names,dict_from_csv = get_header(\"../../ontologies/out/nodes.csv\")\n"
   ]
  },
  {
   "cell_type": "code",
   "execution_count": 5,
   "id": "6b4d9ddc-433e-4a97-a951-ec4ac4286ca6",
   "metadata": {},
   "outputs": [
    {
     "data": {
      "text/plain": [
       "['Concept']"
      ]
     },
     "execution_count": 5,
     "metadata": {},
     "output_type": "execute_result"
    }
   ],
   "source": [
    "node_label = ['Concept']\n",
    "node_label"
   ]
  },
  {
   "cell_type": "code",
   "execution_count": 6,
   "id": "828aa841-fc31-4113-a8d5-ab74ff99bb43",
   "metadata": {},
   "outputs": [],
   "source": [
    "test_query = 'CALL apoc.create.nodes('+str(node_label)+','+'['+str(dict_from_csv)+'])'"
   ]
  },
  {
   "cell_type": "code",
   "execution_count": 7,
   "id": "64219b5b-90d6-4c82-80f0-6954feb60015",
   "metadata": {},
   "outputs": [
    {
     "data": {
      "text/plain": [
       "\"CALL apoc.create.nodes(['Concept'],[{'node_id:ID': 'obo.FOODON_00002403', 'descriptive_label:string[]': 'food material', 'iri': 'http://purl.obolibrary.org/obo/FOODON_00002403', ':LABEL': 'Concept'}])\""
      ]
     },
     "execution_count": 7,
     "metadata": {},
     "output_type": "execute_result"
    }
   ],
   "source": [
    "test_query"
   ]
  },
  {
   "cell_type": "code",
   "execution_count": 8,
   "id": "23bb62b6-1689-460c-bcd5-45826aa977e6",
   "metadata": {},
   "outputs": [
    {
     "ename": "ClientError",
     "evalue": "[Statement.SyntaxError] Invalid input '[': expected \"+\" or \"-\" (line 1, column 36 (offset: 35))\n\"CALL apoc.create.nodes(['Concept'],[{'node_id:ID': 'obo.FOODON_00002403', 'descriptive_label:string[]': 'food material', 'iri': 'http://purl.obolibrary.org/obo/FOODON_00002403', ':LABEL': 'Concept'}])\"\n                                    ^",
     "output_type": "error",
     "traceback": [
      "\u001b[0;31m---------------------------------------------------------------------------\u001b[0m",
      "\u001b[0;31mClientError\u001b[0m                               Traceback (most recent call last)",
      "Cell \u001b[0;32mIn[8], line 1\u001b[0m\n\u001b[0;32m----> 1\u001b[0m \u001b[43mgraph\u001b[49m\u001b[38;5;241;43m.\u001b[39;49m\u001b[43mrun\u001b[49m\u001b[43m(\u001b[49m\u001b[43mtest_query\u001b[49m\u001b[43m)\u001b[49m\n",
      "File \u001b[0;32m~/Documents/DSE/DSE260-Capstone-Project/capstone/venv3.10/lib/python3.10/site-packages/py2neo/database.py:405\u001b[0m, in \u001b[0;36mGraph.run\u001b[0;34m(self, cypher, parameters, **kwparameters)\u001b[0m\n\u001b[1;32m    395\u001b[0m \u001b[38;5;28;01mdef\u001b[39;00m \u001b[38;5;21mrun\u001b[39m(\u001b[38;5;28mself\u001b[39m, cypher, parameters\u001b[38;5;241m=\u001b[39m\u001b[38;5;28;01mNone\u001b[39;00m, \u001b[38;5;241m*\u001b[39m\u001b[38;5;241m*\u001b[39mkwparameters):\n\u001b[1;32m    396\u001b[0m \u001b[38;5;250m    \u001b[39m\u001b[38;5;124;03m\"\"\" Run a single read/write query within an auto-commit\u001b[39;00m\n\u001b[1;32m    397\u001b[0m \u001b[38;5;124;03m    :class:`~py2neo.Transaction`.\u001b[39;00m\n\u001b[1;32m    398\u001b[0m \n\u001b[0;32m   (...)\u001b[0m\n\u001b[1;32m    403\u001b[0m \u001b[38;5;124;03m    :return:\u001b[39;00m\n\u001b[1;32m    404\u001b[0m \u001b[38;5;124;03m    \"\"\"\u001b[39;00m\n\u001b[0;32m--> 405\u001b[0m     \u001b[38;5;28;01mreturn\u001b[39;00m \u001b[38;5;28;43mself\u001b[39;49m\u001b[38;5;241;43m.\u001b[39;49m\u001b[43mauto\u001b[49m\u001b[43m(\u001b[49m\u001b[43m)\u001b[49m\u001b[38;5;241;43m.\u001b[39;49m\u001b[43mrun\u001b[49m\u001b[43m(\u001b[49m\u001b[43mcypher\u001b[49m\u001b[43m,\u001b[49m\u001b[43m \u001b[49m\u001b[43mparameters\u001b[49m\u001b[43m,\u001b[49m\u001b[43m \u001b[49m\u001b[38;5;241;43m*\u001b[39;49m\u001b[38;5;241;43m*\u001b[39;49m\u001b[43mkwparameters\u001b[49m\u001b[43m)\u001b[49m\n",
      "File \u001b[0;32m~/Documents/DSE/DSE260-Capstone-Project/capstone/venv3.10/lib/python3.10/site-packages/py2neo/database.py:992\u001b[0m, in \u001b[0;36mTransaction.run\u001b[0;34m(self, cypher, parameters, **kwparameters)\u001b[0m\n\u001b[1;32m    988\u001b[0m     \u001b[38;5;28;01melse\u001b[39;00m:\n\u001b[1;32m    989\u001b[0m         result \u001b[38;5;241m=\u001b[39m \u001b[38;5;28mself\u001b[39m\u001b[38;5;241m.\u001b[39m_connector\u001b[38;5;241m.\u001b[39mauto_run(cypher, parameters,\n\u001b[1;32m    990\u001b[0m                                           graph_name\u001b[38;5;241m=\u001b[39m\u001b[38;5;28mself\u001b[39m\u001b[38;5;241m.\u001b[39mgraph\u001b[38;5;241m.\u001b[39mname,\n\u001b[1;32m    991\u001b[0m                                           readonly\u001b[38;5;241m=\u001b[39m\u001b[38;5;28mself\u001b[39m\u001b[38;5;241m.\u001b[39mreadonly)\n\u001b[0;32m--> 992\u001b[0m     \u001b[38;5;28;43mself\u001b[39;49m\u001b[38;5;241;43m.\u001b[39;49m\u001b[43m_connector\u001b[49m\u001b[38;5;241;43m.\u001b[39;49m\u001b[43mpull\u001b[49m\u001b[43m(\u001b[49m\u001b[43mresult\u001b[49m\u001b[43m,\u001b[49m\u001b[43m \u001b[49m\u001b[38;5;241;43m-\u001b[39;49m\u001b[38;5;241;43m1\u001b[39;49m\u001b[43m)\u001b[49m\n\u001b[1;32m    993\u001b[0m     \u001b[38;5;28;01mreturn\u001b[39;00m Cursor(result, hydrant)\n\u001b[1;32m    994\u001b[0m \u001b[38;5;28;01mfinally\u001b[39;00m:\n",
      "File \u001b[0;32m~/Documents/DSE/DSE260-Capstone-Project/capstone/venv3.10/lib/python3.10/site-packages/py2neo/client/__init__.py:1434\u001b[0m, in \u001b[0;36mConnector.pull\u001b[0;34m(self, result, n)\u001b[0m\n\u001b[1;32m   1432\u001b[0m cx \u001b[38;5;241m=\u001b[39m \u001b[38;5;28mself\u001b[39m\u001b[38;5;241m.\u001b[39m_reacquire(result\u001b[38;5;241m.\u001b[39mtransaction)\n\u001b[1;32m   1433\u001b[0m \u001b[38;5;28;01mtry\u001b[39;00m:\n\u001b[0;32m-> 1434\u001b[0m     \u001b[43mcx\u001b[49m\u001b[38;5;241;43m.\u001b[39;49m\u001b[43mpull\u001b[49m\u001b[43m(\u001b[49m\u001b[43mresult\u001b[49m\u001b[43m,\u001b[49m\u001b[43m \u001b[49m\u001b[43mn\u001b[49m\u001b[38;5;241;43m=\u001b[39;49m\u001b[43mn\u001b[49m\u001b[43m)\u001b[49m\n\u001b[1;32m   1435\u001b[0m \u001b[38;5;28;01mexcept\u001b[39;00m (ConnectionUnavailable, ConnectionBroken):\n\u001b[1;32m   1436\u001b[0m     \u001b[38;5;28mself\u001b[39m\u001b[38;5;241m.\u001b[39mprune(cx\u001b[38;5;241m.\u001b[39mprofile)\n",
      "File \u001b[0;32m~/Documents/DSE/DSE260-Capstone-Project/capstone/venv3.10/lib/python3.10/site-packages/py2neo/client/bolt.py:1001\u001b[0m, in \u001b[0;36mBolt4x0.pull\u001b[0;34m(self, result, n, capacity)\u001b[0m\n\u001b[1;32m    998\u001b[0m     raise_from(ConnectionBroken(\u001b[38;5;124m\"\u001b[39m\u001b[38;5;124mTransaction broken by disconnection \u001b[39m\u001b[38;5;124m\"\u001b[39m\n\u001b[1;32m    999\u001b[0m                                 \u001b[38;5;124m\"\u001b[39m\u001b[38;5;124mduring pull\u001b[39m\u001b[38;5;124m\"\u001b[39m), error)\n\u001b[1;32m   1000\u001b[0m \u001b[38;5;28;01melse\u001b[39;00m:\n\u001b[0;32m-> 1001\u001b[0m     \u001b[38;5;28;43mself\u001b[39;49m\u001b[38;5;241;43m.\u001b[39;49m\u001b[43m_audit\u001b[49m\u001b[43m(\u001b[49m\u001b[38;5;28;43mself\u001b[39;49m\u001b[38;5;241;43m.\u001b[39;49m\u001b[43m_transaction\u001b[49m\u001b[43m)\u001b[49m\n\u001b[1;32m   1002\u001b[0m     \u001b[38;5;28;01mreturn\u001b[39;00m response\n",
      "File \u001b[0;32m~/Documents/DSE/DSE260-Capstone-Project/capstone/venv3.10/lib/python3.10/site-packages/py2neo/client/bolt.py:810\u001b[0m, in \u001b[0;36mBolt1._audit\u001b[0;34m(self, task)\u001b[0m\n\u001b[1;32m    808\u001b[0m     \u001b[38;5;28;01mreturn\u001b[39;00m\n\u001b[1;32m    809\u001b[0m \u001b[38;5;28;01mtry\u001b[39;00m:\n\u001b[0;32m--> 810\u001b[0m     \u001b[43mtask\u001b[49m\u001b[38;5;241;43m.\u001b[39;49m\u001b[43maudit\u001b[49m\u001b[43m(\u001b[49m\u001b[43m)\u001b[49m\n\u001b[1;32m    811\u001b[0m \u001b[38;5;28;01mexcept\u001b[39;00m Neo4jError:\n\u001b[1;32m    812\u001b[0m     \u001b[38;5;28mself\u001b[39m\u001b[38;5;241m.\u001b[39mreset(force\u001b[38;5;241m=\u001b[39m\u001b[38;5;28;01mTrue\u001b[39;00m)\n",
      "File \u001b[0;32m~/Documents/DSE/DSE260-Capstone-Project/capstone/venv3.10/lib/python3.10/site-packages/py2neo/client/bolt.py:1140\u001b[0m, in \u001b[0;36mItemizedTask.audit\u001b[0;34m(self)\u001b[0m\n\u001b[1;32m   1138\u001b[0m \u001b[38;5;28;01mdef\u001b[39;00m \u001b[38;5;21maudit\u001b[39m(\u001b[38;5;28mself\u001b[39m):\n\u001b[1;32m   1139\u001b[0m     \u001b[38;5;28;01mfor\u001b[39;00m item \u001b[38;5;129;01min\u001b[39;00m \u001b[38;5;28mself\u001b[39m\u001b[38;5;241m.\u001b[39m_items:\n\u001b[0;32m-> 1140\u001b[0m         \u001b[43mitem\u001b[49m\u001b[38;5;241;43m.\u001b[39;49m\u001b[43maudit\u001b[49m\u001b[43m(\u001b[49m\u001b[43m)\u001b[49m\n",
      "File \u001b[0;32m~/Documents/DSE/DSE260-Capstone-Project/capstone/venv3.10/lib/python3.10/site-packages/py2neo/client/bolt.py:1140\u001b[0m, in \u001b[0;36mItemizedTask.audit\u001b[0;34m(self)\u001b[0m\n\u001b[1;32m   1138\u001b[0m \u001b[38;5;28;01mdef\u001b[39;00m \u001b[38;5;21maudit\u001b[39m(\u001b[38;5;28mself\u001b[39m):\n\u001b[1;32m   1139\u001b[0m     \u001b[38;5;28;01mfor\u001b[39;00m item \u001b[38;5;129;01min\u001b[39;00m \u001b[38;5;28mself\u001b[39m\u001b[38;5;241m.\u001b[39m_items:\n\u001b[0;32m-> 1140\u001b[0m         \u001b[43mitem\u001b[49m\u001b[38;5;241;43m.\u001b[39;49m\u001b[43maudit\u001b[49m\u001b[43m(\u001b[49m\u001b[43m)\u001b[49m\n",
      "File \u001b[0;32m~/Documents/DSE/DSE260-Capstone-Project/capstone/venv3.10/lib/python3.10/site-packages/py2neo/client/bolt.py:1303\u001b[0m, in \u001b[0;36mBoltResponse.audit\u001b[0;34m(self)\u001b[0m\n\u001b[1;32m   1301\u001b[0m \u001b[38;5;28;01mif\u001b[39;00m \u001b[38;5;28mself\u001b[39m\u001b[38;5;241m.\u001b[39m_failure:\n\u001b[1;32m   1302\u001b[0m     \u001b[38;5;28mself\u001b[39m\u001b[38;5;241m.\u001b[39mset_ignored()\n\u001b[0;32m-> 1303\u001b[0m     \u001b[38;5;28;01mraise\u001b[39;00m \u001b[38;5;28mself\u001b[39m\u001b[38;5;241m.\u001b[39m_failure\n",
      "\u001b[0;31mClientError\u001b[0m: [Statement.SyntaxError] Invalid input '[': expected \"+\" or \"-\" (line 1, column 36 (offset: 35))\n\"CALL apoc.create.nodes(['Concept'],[{'node_id:ID': 'obo.FOODON_00002403', 'descriptive_label:string[]': 'food material', 'iri': 'http://purl.obolibrary.org/obo/FOODON_00002403', ':LABEL': 'Concept'}])\"\n                                    ^"
     ]
    }
   ],
   "source": [
    "graph.run(test_query)"
   ]
  },
  {
   "cell_type": "code",
   "execution_count": 3,
   "id": "f1a833c2-a15c-457a-81f3-9ae96ec48fbe",
   "metadata": {},
   "outputs": [],
   "source": [
    "tx = graph.begin()\n"
   ]
  },
  {
   "cell_type": "code",
   "execution_count": 4,
   "id": "2a901c5b-6e68-43d2-98b1-9b0204391ddd",
   "metadata": {},
   "outputs": [
    {
     "ename": "ClientError",
     "evalue": "[Statement.SyntaxError] Invalid input 'name': expected \")\", \"WHERE\", \"{\" or a parameter (line 1, column 23 (offset: 22))\n\"CREATE (person:Person name: $name) RETURN person\"\n                       ^",
     "output_type": "error",
     "traceback": [
      "\u001b[0;31m---------------------------------------------------------------------------\u001b[0m",
      "\u001b[0;31mClientError\u001b[0m                               Traceback (most recent call last)",
      "Cell \u001b[0;32mIn[4], line 2\u001b[0m\n\u001b[1;32m      1\u001b[0m \u001b[38;5;28;01mfor\u001b[39;00m name \u001b[38;5;129;01min\u001b[39;00m [\u001b[38;5;124m\"\u001b[39m\u001b[38;5;124mAlice\u001b[39m\u001b[38;5;124m\"\u001b[39m, \u001b[38;5;124m\"\u001b[39m\u001b[38;5;124mBob\u001b[39m\u001b[38;5;124m\"\u001b[39m, \u001b[38;5;124m\"\u001b[39m\u001b[38;5;124mCarol\u001b[39m\u001b[38;5;124m\"\u001b[39m]:\n\u001b[0;32m----> 2\u001b[0m     \u001b[43mtx\u001b[49m\u001b[38;5;241;43m.\u001b[39;49m\u001b[43mevaluate\u001b[49m\u001b[43m(\u001b[49m\u001b[38;5;124;43m\"\u001b[39;49m\u001b[38;5;124;43mCREATE (person:Person name: $name) RETURN person\u001b[39;49m\u001b[38;5;124;43m\"\u001b[39;49m\u001b[43m,\u001b[49m\u001b[43m \u001b[49m\u001b[43mname\u001b[49m\u001b[38;5;241;43m=\u001b[39;49m\u001b[43mname\u001b[49m\u001b[43m)\u001b[49m\n\u001b[1;32m      3\u001b[0m alice, bob, carol \u001b[38;5;241m=\u001b[39m [result\u001b[38;5;241m.\u001b[39mone \u001b[38;5;28;01mfor\u001b[39;00m result \u001b[38;5;129;01min\u001b[39;00m tx\u001b[38;5;241m.\u001b[39mcommit()]\n",
      "File \u001b[0;32m~/Documents/DSE/DSE260-Capstone-Project/capstone/venv3.10/lib/python3.10/site-packages/py2neo/database.py:1006\u001b[0m, in \u001b[0;36mTransaction.evaluate\u001b[0;34m(self, cypher, parameters, **kwparameters)\u001b[0m\n\u001b[1;32m    998\u001b[0m \u001b[38;5;28;01mdef\u001b[39;00m \u001b[38;5;21mevaluate\u001b[39m(\u001b[38;5;28mself\u001b[39m, cypher, parameters\u001b[38;5;241m=\u001b[39m\u001b[38;5;28;01mNone\u001b[39;00m, \u001b[38;5;241m*\u001b[39m\u001b[38;5;241m*\u001b[39mkwparameters):\n\u001b[1;32m    999\u001b[0m \u001b[38;5;250m    \u001b[39m\u001b[38;5;124;03m\"\"\" Execute a single Cypher query and return the value from\u001b[39;00m\n\u001b[1;32m   1000\u001b[0m \u001b[38;5;124;03m    the first column of the first record.\u001b[39;00m\n\u001b[1;32m   1001\u001b[0m \n\u001b[0;32m   (...)\u001b[0m\n\u001b[1;32m   1004\u001b[0m \u001b[38;5;124;03m    :returns: single return value or :const:`None`\u001b[39;00m\n\u001b[1;32m   1005\u001b[0m \u001b[38;5;124;03m    \"\"\"\u001b[39;00m\n\u001b[0;32m-> 1006\u001b[0m     \u001b[38;5;28;01mreturn\u001b[39;00m \u001b[38;5;28;43mself\u001b[39;49m\u001b[38;5;241;43m.\u001b[39;49m\u001b[43mrun\u001b[49m\u001b[43m(\u001b[49m\u001b[43mcypher\u001b[49m\u001b[43m,\u001b[49m\u001b[43m \u001b[49m\u001b[43mparameters\u001b[49m\u001b[43m,\u001b[49m\u001b[43m \u001b[49m\u001b[38;5;241;43m*\u001b[39;49m\u001b[38;5;241;43m*\u001b[39;49m\u001b[43mkwparameters\u001b[49m\u001b[43m)\u001b[49m\u001b[38;5;241m.\u001b[39mevaluate(\u001b[38;5;241m0\u001b[39m)\n",
      "File \u001b[0;32m~/Documents/DSE/DSE260-Capstone-Project/capstone/venv3.10/lib/python3.10/site-packages/py2neo/database.py:992\u001b[0m, in \u001b[0;36mTransaction.run\u001b[0;34m(self, cypher, parameters, **kwparameters)\u001b[0m\n\u001b[1;32m    988\u001b[0m     \u001b[38;5;28;01melse\u001b[39;00m:\n\u001b[1;32m    989\u001b[0m         result \u001b[38;5;241m=\u001b[39m \u001b[38;5;28mself\u001b[39m\u001b[38;5;241m.\u001b[39m_connector\u001b[38;5;241m.\u001b[39mauto_run(cypher, parameters,\n\u001b[1;32m    990\u001b[0m                                           graph_name\u001b[38;5;241m=\u001b[39m\u001b[38;5;28mself\u001b[39m\u001b[38;5;241m.\u001b[39mgraph\u001b[38;5;241m.\u001b[39mname,\n\u001b[1;32m    991\u001b[0m                                           readonly\u001b[38;5;241m=\u001b[39m\u001b[38;5;28mself\u001b[39m\u001b[38;5;241m.\u001b[39mreadonly)\n\u001b[0;32m--> 992\u001b[0m     \u001b[38;5;28;43mself\u001b[39;49m\u001b[38;5;241;43m.\u001b[39;49m\u001b[43m_connector\u001b[49m\u001b[38;5;241;43m.\u001b[39;49m\u001b[43mpull\u001b[49m\u001b[43m(\u001b[49m\u001b[43mresult\u001b[49m\u001b[43m,\u001b[49m\u001b[43m \u001b[49m\u001b[38;5;241;43m-\u001b[39;49m\u001b[38;5;241;43m1\u001b[39;49m\u001b[43m)\u001b[49m\n\u001b[1;32m    993\u001b[0m     \u001b[38;5;28;01mreturn\u001b[39;00m Cursor(result, hydrant)\n\u001b[1;32m    994\u001b[0m \u001b[38;5;28;01mfinally\u001b[39;00m:\n",
      "File \u001b[0;32m~/Documents/DSE/DSE260-Capstone-Project/capstone/venv3.10/lib/python3.10/site-packages/py2neo/client/__init__.py:1434\u001b[0m, in \u001b[0;36mConnector.pull\u001b[0;34m(self, result, n)\u001b[0m\n\u001b[1;32m   1432\u001b[0m cx \u001b[38;5;241m=\u001b[39m \u001b[38;5;28mself\u001b[39m\u001b[38;5;241m.\u001b[39m_reacquire(result\u001b[38;5;241m.\u001b[39mtransaction)\n\u001b[1;32m   1433\u001b[0m \u001b[38;5;28;01mtry\u001b[39;00m:\n\u001b[0;32m-> 1434\u001b[0m     \u001b[43mcx\u001b[49m\u001b[38;5;241;43m.\u001b[39;49m\u001b[43mpull\u001b[49m\u001b[43m(\u001b[49m\u001b[43mresult\u001b[49m\u001b[43m,\u001b[49m\u001b[43m \u001b[49m\u001b[43mn\u001b[49m\u001b[38;5;241;43m=\u001b[39;49m\u001b[43mn\u001b[49m\u001b[43m)\u001b[49m\n\u001b[1;32m   1435\u001b[0m \u001b[38;5;28;01mexcept\u001b[39;00m (ConnectionUnavailable, ConnectionBroken):\n\u001b[1;32m   1436\u001b[0m     \u001b[38;5;28mself\u001b[39m\u001b[38;5;241m.\u001b[39mprune(cx\u001b[38;5;241m.\u001b[39mprofile)\n",
      "File \u001b[0;32m~/Documents/DSE/DSE260-Capstone-Project/capstone/venv3.10/lib/python3.10/site-packages/py2neo/client/bolt.py:1001\u001b[0m, in \u001b[0;36mBolt4x0.pull\u001b[0;34m(self, result, n, capacity)\u001b[0m\n\u001b[1;32m    998\u001b[0m     raise_from(ConnectionBroken(\u001b[38;5;124m\"\u001b[39m\u001b[38;5;124mTransaction broken by disconnection \u001b[39m\u001b[38;5;124m\"\u001b[39m\n\u001b[1;32m    999\u001b[0m                                 \u001b[38;5;124m\"\u001b[39m\u001b[38;5;124mduring pull\u001b[39m\u001b[38;5;124m\"\u001b[39m), error)\n\u001b[1;32m   1000\u001b[0m \u001b[38;5;28;01melse\u001b[39;00m:\n\u001b[0;32m-> 1001\u001b[0m     \u001b[38;5;28;43mself\u001b[39;49m\u001b[38;5;241;43m.\u001b[39;49m\u001b[43m_audit\u001b[49m\u001b[43m(\u001b[49m\u001b[38;5;28;43mself\u001b[39;49m\u001b[38;5;241;43m.\u001b[39;49m\u001b[43m_transaction\u001b[49m\u001b[43m)\u001b[49m\n\u001b[1;32m   1002\u001b[0m     \u001b[38;5;28;01mreturn\u001b[39;00m response\n",
      "File \u001b[0;32m~/Documents/DSE/DSE260-Capstone-Project/capstone/venv3.10/lib/python3.10/site-packages/py2neo/client/bolt.py:810\u001b[0m, in \u001b[0;36mBolt1._audit\u001b[0;34m(self, task)\u001b[0m\n\u001b[1;32m    808\u001b[0m     \u001b[38;5;28;01mreturn\u001b[39;00m\n\u001b[1;32m    809\u001b[0m \u001b[38;5;28;01mtry\u001b[39;00m:\n\u001b[0;32m--> 810\u001b[0m     \u001b[43mtask\u001b[49m\u001b[38;5;241;43m.\u001b[39;49m\u001b[43maudit\u001b[49m\u001b[43m(\u001b[49m\u001b[43m)\u001b[49m\n\u001b[1;32m    811\u001b[0m \u001b[38;5;28;01mexcept\u001b[39;00m Neo4jError:\n\u001b[1;32m    812\u001b[0m     \u001b[38;5;28mself\u001b[39m\u001b[38;5;241m.\u001b[39mreset(force\u001b[38;5;241m=\u001b[39m\u001b[38;5;28;01mTrue\u001b[39;00m)\n",
      "File \u001b[0;32m~/Documents/DSE/DSE260-Capstone-Project/capstone/venv3.10/lib/python3.10/site-packages/py2neo/client/bolt.py:1140\u001b[0m, in \u001b[0;36mItemizedTask.audit\u001b[0;34m(self)\u001b[0m\n\u001b[1;32m   1138\u001b[0m \u001b[38;5;28;01mdef\u001b[39;00m \u001b[38;5;21maudit\u001b[39m(\u001b[38;5;28mself\u001b[39m):\n\u001b[1;32m   1139\u001b[0m     \u001b[38;5;28;01mfor\u001b[39;00m item \u001b[38;5;129;01min\u001b[39;00m \u001b[38;5;28mself\u001b[39m\u001b[38;5;241m.\u001b[39m_items:\n\u001b[0;32m-> 1140\u001b[0m         \u001b[43mitem\u001b[49m\u001b[38;5;241;43m.\u001b[39;49m\u001b[43maudit\u001b[49m\u001b[43m(\u001b[49m\u001b[43m)\u001b[49m\n",
      "File \u001b[0;32m~/Documents/DSE/DSE260-Capstone-Project/capstone/venv3.10/lib/python3.10/site-packages/py2neo/client/bolt.py:1140\u001b[0m, in \u001b[0;36mItemizedTask.audit\u001b[0;34m(self)\u001b[0m\n\u001b[1;32m   1138\u001b[0m \u001b[38;5;28;01mdef\u001b[39;00m \u001b[38;5;21maudit\u001b[39m(\u001b[38;5;28mself\u001b[39m):\n\u001b[1;32m   1139\u001b[0m     \u001b[38;5;28;01mfor\u001b[39;00m item \u001b[38;5;129;01min\u001b[39;00m \u001b[38;5;28mself\u001b[39m\u001b[38;5;241m.\u001b[39m_items:\n\u001b[0;32m-> 1140\u001b[0m         \u001b[43mitem\u001b[49m\u001b[38;5;241;43m.\u001b[39;49m\u001b[43maudit\u001b[49m\u001b[43m(\u001b[49m\u001b[43m)\u001b[49m\n",
      "File \u001b[0;32m~/Documents/DSE/DSE260-Capstone-Project/capstone/venv3.10/lib/python3.10/site-packages/py2neo/client/bolt.py:1303\u001b[0m, in \u001b[0;36mBoltResponse.audit\u001b[0;34m(self)\u001b[0m\n\u001b[1;32m   1301\u001b[0m \u001b[38;5;28;01mif\u001b[39;00m \u001b[38;5;28mself\u001b[39m\u001b[38;5;241m.\u001b[39m_failure:\n\u001b[1;32m   1302\u001b[0m     \u001b[38;5;28mself\u001b[39m\u001b[38;5;241m.\u001b[39mset_ignored()\n\u001b[0;32m-> 1303\u001b[0m     \u001b[38;5;28;01mraise\u001b[39;00m \u001b[38;5;28mself\u001b[39m\u001b[38;5;241m.\u001b[39m_failure\n",
      "\u001b[0;31mClientError\u001b[0m: [Statement.SyntaxError] Invalid input 'name': expected \")\", \"WHERE\", \"{\" or a parameter (line 1, column 23 (offset: 22))\n\"CREATE (person:Person name: $name) RETURN person\"\n                       ^"
     ]
    }
   ],
   "source": [
    "\n",
    "for name in [\"Alice\", \"Bob\", \"Carol\"]:\n",
    "    tx.evaluate(\"CREATE (person:Person name: $name) RETURN person\", name=name)\n",
    "alice, bob, carol = [result.one for result in tx.commit()]"
   ]
  },
  {
   "cell_type": "code",
   "execution_count": 7,
   "id": "c03a9abe-eaa8-4c66-bcbf-0b0d64cc08e5",
   "metadata": {},
   "outputs": [
    {
     "ename": "SyntaxError",
     "evalue": "incomplete input (3044195719.py, line 8)",
     "output_type": "error",
     "traceback": [
      "\u001b[0;36m  Cell \u001b[0;32mIn[7], line 8\u001b[0;36m\u001b[0m\n\u001b[0;31m    g.exists(ab\u001b[0m\n\u001b[0m               ^\u001b[0m\n\u001b[0;31mSyntaxError\u001b[0m\u001b[0;31m:\u001b[0m incomplete input\n"
     ]
    }
   ],
   "source": [
    "a = Node(\"Person\", name=\"Alice\")\n",
    "tx.create(a)\n",
    "b = Node(\"Person\", name=\"Bob\")\n",
    "tx.create(b)\n",
    "# ab = Relationship(a, \"KNOWS\", b)\n",
    "# tx.create(ab)\n",
    "tx.commit()\n",
    "g.exists(ab"
   ]
  },
  {
   "cell_type": "code",
   "execution_count": null,
   "id": "1b8b01de-de06-48f5-ba7e-5df7d00992cc",
   "metadata": {},
   "outputs": [],
   "source": []
  }
 ],
 "metadata": {
  "kernelspec": {
   "display_name": "Python 3 (ipykernel)",
   "language": "python",
   "name": "python3"
  },
  "language_info": {
   "codemirror_mode": {
    "name": "ipython",
    "version": 3
   },
   "file_extension": ".py",
   "mimetype": "text/x-python",
   "name": "python",
   "nbconvert_exporter": "python",
   "pygments_lexer": "ipython3",
   "version": "3.10.9"
  }
 },
 "nbformat": 4,
 "nbformat_minor": 5
}
