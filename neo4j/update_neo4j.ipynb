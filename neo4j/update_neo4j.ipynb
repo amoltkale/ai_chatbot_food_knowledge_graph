{
 "cells": [
  {
   "cell_type": "code",
   "execution_count": 1,
   "id": "7ce349bc-af3c-4619-8a43-621cb3003bda",
   "metadata": {},
   "outputs": [],
   "source": [
    "#!pip install py2neo"
   ]
  },
  {
   "cell_type": "code",
   "execution_count": 2,
   "id": "dfa33c5c-cc7e-4774-9da2-1e59f8a1739f",
   "metadata": {},
   "outputs": [],
   "source": [
    "from py2neo import Graph, Node, Relationship\n",
    "from py2neo import cypher"
   ]
  },
  {
   "cell_type": "code",
   "execution_count": 3,
   "id": "f79a220c-dbea-451f-8f94-7791f26d98bf",
   "metadata": {},
   "outputs": [],
   "source": [
    "#graph = Graph(\"bolt://awesome-hw.sdsc.edu:7689\", auth=(\"neo4j\", \"N7ara-Is\"))\n",
    "graph = Graph(\"neo4j://localhost:7687\", auth=(\"neo4j\", \"food_graph\"))"
   ]
  },
  {
   "cell_type": "code",
   "execution_count": 4,
   "id": "3414c8a9-b00f-4cf8-88d0-d422c9a321a9",
   "metadata": {},
   "outputs": [],
   "source": [
    "def delete_all(graph):\n",
    "    delete_query = 'MATCH (n) DETACH DELETE n;'\n",
    "    graph.run(delete_query)"
   ]
  },
  {
   "cell_type": "code",
   "execution_count": 5,
   "id": "5452c58a-3fb9-460a-8307-c2edbefbbf58",
   "metadata": {},
   "outputs": [],
   "source": [
    "delete_all(graph)"
   ]
  },
  {
   "cell_type": "code",
   "execution_count": 6,
   "id": "f1a833c2-a15c-457a-81f3-9ae96ec48fbe",
   "metadata": {},
   "outputs": [],
   "source": [
    "tx = graph.begin()"
   ]
  },
  {
   "cell_type": "code",
   "execution_count": 7,
   "id": "06417107-06f1-4f37-a3b7-9f0c4232916e",
   "metadata": {},
   "outputs": [],
   "source": [
    "a = Node(\"Person\", name=\"Alice\")"
   ]
  },
  {
   "cell_type": "code",
   "execution_count": 8,
   "id": "c03a9abe-eaa8-4c66-bcbf-0b0d64cc08e5",
   "metadata": {},
   "outputs": [],
   "source": [
    "attr = cypher.cypher_escape(\"phone\")\n",
    "a = Node(\"Person\", name=\"Alice\")\n",
    "tx.create(a)\n",
    "b = Node(\"Person\", name=\"Bob\")\n",
    "tx.create(b)\n",
    "ab = Relationship(a, \"KNOWS\", b)\n",
    "tx.create(ab)\n",
    "amol = Node(\"Person\", name=\"Amol\", ln=\"Kale\")\n",
    "kunal = Node(\"Person\", name=\"Kunal\")\n",
    "aphone = Node(\"Phone\", iri=\"123\")\n",
    "phone_rel = Relationship(amol, \"HAS_PHONE\", aphone)\n",
    "tx.create(amol)\n",
    "tx.create(aphone)\n",
    "tx.create(phone_rel)\n",
    "graph.merge(kunal,\"Person\",\"name\")\n",
    "graph.commit(tx)"
   ]
  },
  {
   "cell_type": "code",
   "execution_count": 9,
   "id": "1b8b01de-de06-48f5-ba7e-5df7d00992cc",
   "metadata": {},
   "outputs": [
    {
     "data": {
      "text/plain": [
       "True"
      ]
     },
     "execution_count": 9,
     "metadata": {},
     "output_type": "execute_result"
    }
   ],
   "source": [
    "\n",
    "graph.exists(ab)"
   ]
  },
  {
   "cell_type": "code",
   "execution_count": 10,
   "id": "8cd3452a-80f1-468a-8273-f319522bd846",
   "metadata": {},
   "outputs": [
    {
     "data": {
      "text/plain": [
       "True"
      ]
     },
     "execution_count": 10,
     "metadata": {},
     "output_type": "execute_result"
    }
   ],
   "source": [
    "graph.exists(a)"
   ]
  },
  {
   "cell_type": "code",
   "execution_count": 11,
   "id": "fe882f65-24ba-4157-8e0c-c0e04523023f",
   "metadata": {},
   "outputs": [
    {
     "data": {
      "text/plain": [
       "3254892759962446199"
      ]
     },
     "execution_count": 11,
     "metadata": {},
     "output_type": "execute_result"
    }
   ],
   "source": [
    "hash(amol)"
   ]
  },
  {
   "cell_type": "code",
   "execution_count": 12,
   "id": "091a772a-62c9-4a45-88f8-628131e3c1da",
   "metadata": {},
   "outputs": [
    {
     "data": {
      "text/plain": [
       "3254892759962446193"
      ]
     },
     "execution_count": 12,
     "metadata": {},
     "output_type": "execute_result"
    }
   ],
   "source": [
    "hash(kunal)"
   ]
  },
  {
   "cell_type": "code",
   "execution_count": 13,
   "id": "a73e0fa2-e71c-4672-ab83-0dc2a4969204",
   "metadata": {},
   "outputs": [],
   "source": [
    "amol2 = Node(\"Person\", name=\"Amol\")"
   ]
  },
  {
   "cell_type": "code",
   "execution_count": 14,
   "id": "286af80c-2ddc-4924-9134-f3ffb32fb062",
   "metadata": {},
   "outputs": [
    {
     "data": {
      "text/plain": [
       "4412741152"
      ]
     },
     "execution_count": 14,
     "metadata": {},
     "output_type": "execute_result"
    }
   ],
   "source": [
    "hash(amol2)"
   ]
  },
  {
   "cell_type": "code",
   "execution_count": 15,
   "id": "5cab08f1-e221-4c91-b00f-3465667e21cf",
   "metadata": {},
   "outputs": [
    {
     "data": {
      "text/plain": [
       "'Amol'"
      ]
     },
     "execution_count": 15,
     "metadata": {},
     "output_type": "execute_result"
    }
   ],
   "source": [
    "amol2[\"name\"]"
   ]
  },
  {
   "cell_type": "code",
   "execution_count": 16,
   "id": "d9ff05c4-5a94-4130-8bd4-7f4ee75ec98a",
   "metadata": {},
   "outputs": [
    {
     "data": {
      "text/plain": [
       "False"
      ]
     },
     "execution_count": 16,
     "metadata": {},
     "output_type": "execute_result"
    }
   ],
   "source": [
    "amol == amol2"
   ]
  },
  {
   "cell_type": "code",
   "execution_count": 18,
   "id": "6d4424b3-abb7-4c17-b5a3-2471a5b9f48b",
   "metadata": {},
   "outputs": [],
   "source": [
    "matt = Node(\"Person\", name=\"Matt\")"
   ]
  },
  {
   "cell_type": "code",
   "execution_count": 19,
   "id": "ae1e68ba-c8ba-4d87-8e48-3cf47315229d",
   "metadata": {},
   "outputs": [],
   "source": [
    "matthew = Node(\"Person\", name=\"Matt\")"
   ]
  },
  {
   "cell_type": "code",
   "execution_count": 20,
   "id": "fe2e3e03-bece-4620-a9e9-ce417d9a900c",
   "metadata": {},
   "outputs": [
    {
     "data": {
      "text/plain": [
       "False"
      ]
     },
     "execution_count": 20,
     "metadata": {},
     "output_type": "execute_result"
    }
   ],
   "source": []
  },
  {
   "cell_type": "code",
   "execution_count": null,
   "id": "29fcfcd8-01d7-4ed5-b366-8581aa5b3b5d",
   "metadata": {},
   "outputs": [],
   "source": []
  }
 ],
 "metadata": {
  "kernelspec": {
   "display_name": "Python 3 (ipykernel)",
   "language": "python",
   "name": "python3"
  },
  "language_info": {
   "codemirror_mode": {
    "name": "ipython",
    "version": 3
   },
   "file_extension": ".py",
   "mimetype": "text/x-python",
   "name": "python",
   "nbconvert_exporter": "python",
   "pygments_lexer": "ipython3",
   "version": "3.10.9"
  }
 },
 "nbformat": 4,
 "nbformat_minor": 5
}
