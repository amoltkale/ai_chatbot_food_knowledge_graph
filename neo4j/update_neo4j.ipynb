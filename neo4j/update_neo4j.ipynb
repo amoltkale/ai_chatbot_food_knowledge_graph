{
 "cells": [
  {
   "cell_type": "code",
   "execution_count": 7,
   "id": "7ce349bc-af3c-4619-8a43-621cb3003bda",
   "metadata": {},
   "outputs": [
    {
     "name": "stdout",
     "output_type": "stream",
     "text": [
      "Python 3.10.9\r\n"
     ]
    }
   ],
   "source": [
    "#!pip install py2neo\n",
    "!python --version"
   ]
  },
  {
   "cell_type": "code",
   "execution_count": 18,
   "id": "dfa33c5c-cc7e-4774-9da2-1e59f8a1739f",
   "metadata": {},
   "outputs": [],
   "source": [
    "from py2neo import Graph, Node, Relationship\n",
    "from py2neo import cypher\n",
    "import pandas as pd"
   ]
  },
  {
   "cell_type": "code",
   "execution_count": 9,
   "id": "f79a220c-dbea-451f-8f94-7791f26d98bf",
   "metadata": {},
   "outputs": [],
   "source": [
    "#graph = Graph(\"bolt://awesome-hw.sdsc.edu:7689\", auth=(\"neo4j\", \"N7ara-Is\"))\n",
    "graph = Graph(\"neo4j://localhost:7687\", auth=(\"neo4j\", \"food_graph\"))"
   ]
  },
  {
   "cell_type": "code",
   "execution_count": 10,
   "id": "3414c8a9-b00f-4cf8-88d0-d422c9a321a9",
   "metadata": {},
   "outputs": [],
   "source": [
    "def delete_all(graph):\n",
    "    delete_query = 'MATCH (n) DETACH DELETE n;'\n",
    "    graph.run(delete_query)"
   ]
  },
  {
   "cell_type": "code",
   "execution_count": 11,
   "id": "5452c58a-3fb9-460a-8307-c2edbefbbf58",
   "metadata": {},
   "outputs": [],
   "source": [
    "delete_all(graph)"
   ]
  },
  {
   "cell_type": "code",
   "execution_count": 12,
   "id": "b688c14a",
   "metadata": {},
   "outputs": [],
   "source": [
    "def create_node_on_neo4j(graph, node_label, node_properties):\n",
    "    \"\"\"This routine creates a node and commits it on the neo4j database with given property dictionary.\"\"\"\n",
    "    tx = graph.begin()\n",
    "    nd = Node(node_label,**node_properties)\n",
    "    tx.create(nd)\n",
    "    graph.commit(tx)"
   ]
  },
  {
   "cell_type": "code",
   "execution_count": null,
   "id": "4527679c",
   "metadata": {},
   "outputs": [],
   "source": [
    "def create_sub_graph_on_neo4j(graph,node_df,relationship_df):\n",
    "    \"\"\"This routine creates all the nodes and relationships and then updated the neo4j graph instance.\"\"\"\n",
    "    tx = graph.begin()\n",
    "   "
   ]
  },
  {
   "cell_type": "code",
   "execution_count": 19,
   "id": "b605d736",
   "metadata": {},
   "outputs": [
    {
     "data": {
      "text/html": [
       "<div>\n",
       "<style scoped>\n",
       "    .dataframe tbody tr th:only-of-type {\n",
       "        vertical-align: middle;\n",
       "    }\n",
       "\n",
       "    .dataframe tbody tr th {\n",
       "        vertical-align: top;\n",
       "    }\n",
       "\n",
       "    .dataframe thead th {\n",
       "        text-align: right;\n",
       "    }\n",
       "</style>\n",
       "<table border=\"1\" class=\"dataframe\">\n",
       "  <thead>\n",
       "    <tr style=\"text-align: right;\">\n",
       "      <th></th>\n",
       "      <th>node_id:ID</th>\n",
       "      <th>descriptive_label:string[]</th>\n",
       "      <th>iri</th>\n",
       "      <th>:LABEL</th>\n",
       "    </tr>\n",
       "  </thead>\n",
       "  <tbody>\n",
       "    <tr>\n",
       "      <th>0</th>\n",
       "      <td>owl.Thing</td>\n",
       "      <td>NaN</td>\n",
       "      <td>http://www.w3.org/2002/07/owl#Thing</td>\n",
       "      <td>Thing</td>\n",
       "    </tr>\n",
       "    <tr>\n",
       "      <th>1</th>\n",
       "      <td>owl.Nothing</td>\n",
       "      <td>NaN</td>\n",
       "      <td>http://www.w3.org/2002/07/owl#Nothing</td>\n",
       "      <td>Nothing</td>\n",
       "    </tr>\n",
       "    <tr>\n",
       "      <th>2</th>\n",
       "      <td>obo.BFO_0000002</td>\n",
       "      <td>continuant;continuant</td>\n",
       "      <td>http://purl.obolibrary.org/obo/BFO_0000002</td>\n",
       "      <td>Concept</td>\n",
       "    </tr>\n",
       "    <tr>\n",
       "      <th>3</th>\n",
       "      <td>obo.BFO_0000001</td>\n",
       "      <td>BFO:entity;entity;entity</td>\n",
       "      <td>http://purl.obolibrary.org/obo/BFO_0000001</td>\n",
       "      <td>Concept</td>\n",
       "    </tr>\n",
       "    <tr>\n",
       "      <th>4</th>\n",
       "      <td>UPPER_BLANK_0</td>\n",
       "      <td>NaN</td>\n",
       "      <td>NaN</td>\n",
       "      <td>BLANK</td>\n",
       "    </tr>\n",
       "    <tr>\n",
       "      <th>...</th>\n",
       "      <td>...</td>\n",
       "      <td>...</td>\n",
       "      <td>...</td>\n",
       "      <td>...</td>\n",
       "    </tr>\n",
       "    <tr>\n",
       "      <th>50274</th>\n",
       "      <td>LanguageRepresentation.hasMember</td>\n",
       "      <td>has member</td>\n",
       "      <td>https://www.omg.org/spec/LCC/Languages/Languag...</td>\n",
       "      <td>Property</td>\n",
       "    </tr>\n",
       "    <tr>\n",
       "      <th>50275</th>\n",
       "      <td>LanguageRepresentation.isMemberOf</td>\n",
       "      <td>is member of</td>\n",
       "      <td>https://www.omg.org/spec/LCC/Languages/Languag...</td>\n",
       "      <td>Property</td>\n",
       "    </tr>\n",
       "    <tr>\n",
       "      <th>50276</th>\n",
       "      <td>LanguageRepresentation.identifies</td>\n",
       "      <td>identifies</td>\n",
       "      <td>https://www.omg.org/spec/LCC/Languages/Languag...</td>\n",
       "      <td>Property</td>\n",
       "    </tr>\n",
       "    <tr>\n",
       "      <th>50277</th>\n",
       "      <td>.time:hasDuration</td>\n",
       "      <td>NaN</td>\n",
       "      <td>https://www.w3.org/TR/owl-time/#time:hasDuration</td>\n",
       "      <td>Property</td>\n",
       "    </tr>\n",
       "    <tr>\n",
       "      <th>50278</th>\n",
       "      <td>.time:unitType</td>\n",
       "      <td>NaN</td>\n",
       "      <td>https://www.w3.org/TR/owl-time/#time:unitType</td>\n",
       "      <td>Property</td>\n",
       "    </tr>\n",
       "  </tbody>\n",
       "</table>\n",
       "<p>50279 rows × 4 columns</p>\n",
       "</div>"
      ],
      "text/plain": [
       "                              node_id:ID descriptive_label:string[]  \\\n",
       "0                              owl.Thing                        NaN   \n",
       "1                            owl.Nothing                        NaN   \n",
       "2                        obo.BFO_0000002      continuant;continuant   \n",
       "3                        obo.BFO_0000001   BFO:entity;entity;entity   \n",
       "4                          UPPER_BLANK_0                        NaN   \n",
       "...                                  ...                        ...   \n",
       "50274   LanguageRepresentation.hasMember                 has member   \n",
       "50275  LanguageRepresentation.isMemberOf               is member of   \n",
       "50276  LanguageRepresentation.identifies                 identifies   \n",
       "50277                  .time:hasDuration                        NaN   \n",
       "50278                     .time:unitType                        NaN   \n",
       "\n",
       "                                                     iri    :LABEL  \n",
       "0                    http://www.w3.org/2002/07/owl#Thing     Thing  \n",
       "1                  http://www.w3.org/2002/07/owl#Nothing   Nothing  \n",
       "2             http://purl.obolibrary.org/obo/BFO_0000002   Concept  \n",
       "3             http://purl.obolibrary.org/obo/BFO_0000001   Concept  \n",
       "4                                                    NaN     BLANK  \n",
       "...                                                  ...       ...  \n",
       "50274  https://www.omg.org/spec/LCC/Languages/Languag...  Property  \n",
       "50275  https://www.omg.org/spec/LCC/Languages/Languag...  Property  \n",
       "50276  https://www.omg.org/spec/LCC/Languages/Languag...  Property  \n",
       "50277   https://www.w3.org/TR/owl-time/#time:hasDuration  Property  \n",
       "50278      https://www.w3.org/TR/owl-time/#time:unitType  Property  \n",
       "\n",
       "[50279 rows x 4 columns]"
      ]
     },
     "execution_count": 19,
     "metadata": {},
     "output_type": "execute_result"
    }
   ],
   "source": [
    "node_df = pd.read_csv(\"resources/nodes.csv\")\n",
    "node_df"
   ]
  },
  {
   "cell_type": "code",
   "execution_count": 23,
   "id": "47957187",
   "metadata": {},
   "outputs": [
    {
     "data": {
      "text/plain": [
       "['node_id:ID', 'descriptive_label:string[]', 'iri', ':LABEL']"
      ]
     },
     "execution_count": 23,
     "metadata": {},
     "output_type": "execute_result"
    }
   ],
   "source": [
    "property_keys = list(node_df.columns)\n",
    "property_keys"
   ]
  },
  {
   "cell_type": "code",
   "execution_count": 13,
   "id": "cd33d23f",
   "metadata": {},
   "outputs": [],
   "source": [
    "node_properties_dict = {'name': 'Luffy','dob': '2-Jan-1990', 'profession': 'pirate'}"
   ]
  },
  {
   "cell_type": "code",
   "execution_count": 15,
   "id": "59410151",
   "metadata": {},
   "outputs": [
    {
     "data": {
      "text/plain": [
       "{'name': 'Luffy', 'dob': '2-Jan-1990', 'profession': 'pirate'}"
      ]
     },
     "execution_count": 15,
     "metadata": {},
     "output_type": "execute_result"
    }
   ],
   "source": [
    "node_properties_dict"
   ]
  },
  {
   "cell_type": "code",
   "execution_count": 17,
   "id": "383e0a10",
   "metadata": {},
   "outputs": [],
   "source": [
    "create_node(graph, \"Person\", node_properties_dict)"
   ]
  },
  {
   "cell_type": "code",
   "execution_count": 15,
   "id": "06417107-06f1-4f37-a3b7-9f0c4232916e",
   "metadata": {},
   "outputs": [],
   "source": [
    "a = Node(\"Person\", name=\"Alice\")\n",
    "graph.merge(a,\"Person\",\"name\")\n",
    "graph.merge(a,\"Person\",\"name\")\n",
    "graph.commit(tx)"
   ]
  },
  {
   "cell_type": "code",
   "execution_count": 8,
   "id": "c03a9abe-eaa8-4c66-bcbf-0b0d64cc08e5",
   "metadata": {},
   "outputs": [],
   "source": [
    "#attr = cypher.cypher_escape(\"phone\")\n",
    "a = Node(\"Person\", name=\"Alice\")\n",
    "tx.create(a)\n",
    "b = Node(\"Person\", name=\"Bob\")\n",
    "tx.create(b)\n",
    "ab = Relationship(a, \"KNOWS\", b)\n",
    "tx.create(ab)\n",
    "amol = Node(\"Person\", name=\"Amol\", ln=\"Kale\")\n",
    "kunal = Node(\"Person\", name=\"Kunal\")\n",
    "aphone = Node(\"Phone\", iri=\"123\")\n",
    "phone_rel = Relationship(amol, \"HAS_PHONE\", aphone)\n",
    "tx.create(amol)\n",
    "tx.create(aphone)\n",
    "tx.create(phone_rel)\n",
    "graph.merge(kunal,\"Person\",\"name\")\n",
    "graph.commit(tx)"
   ]
  },
  {
   "cell_type": "code",
   "execution_count": 9,
   "id": "1b8b01de-de06-48f5-ba7e-5df7d00992cc",
   "metadata": {},
   "outputs": [
    {
     "data": {
      "text/plain": [
       "True"
      ]
     },
     "execution_count": 9,
     "metadata": {},
     "output_type": "execute_result"
    }
   ],
   "source": [
    "\n",
    "graph.exists(ab)"
   ]
  },
  {
   "cell_type": "code",
   "execution_count": 10,
   "id": "8cd3452a-80f1-468a-8273-f319522bd846",
   "metadata": {},
   "outputs": [
    {
     "data": {
      "text/plain": [
       "True"
      ]
     },
     "execution_count": 10,
     "metadata": {},
     "output_type": "execute_result"
    }
   ],
   "source": [
    "graph.exists(a)"
   ]
  },
  {
   "cell_type": "code",
   "execution_count": 11,
   "id": "fe882f65-24ba-4157-8e0c-c0e04523023f",
   "metadata": {},
   "outputs": [
    {
     "data": {
      "text/plain": [
       "3254892759962446199"
      ]
     },
     "execution_count": 11,
     "metadata": {},
     "output_type": "execute_result"
    }
   ],
   "source": [
    "hash(amol)"
   ]
  },
  {
   "cell_type": "code",
   "execution_count": 12,
   "id": "091a772a-62c9-4a45-88f8-628131e3c1da",
   "metadata": {},
   "outputs": [
    {
     "data": {
      "text/plain": [
       "3254892759962446193"
      ]
     },
     "execution_count": 12,
     "metadata": {},
     "output_type": "execute_result"
    }
   ],
   "source": [
    "hash(kunal)"
   ]
  },
  {
   "cell_type": "code",
   "execution_count": 13,
   "id": "a73e0fa2-e71c-4672-ab83-0dc2a4969204",
   "metadata": {},
   "outputs": [],
   "source": [
    "amol2 = Node(\"Person\", name=\"Amol\")"
   ]
  },
  {
   "cell_type": "code",
   "execution_count": 14,
   "id": "286af80c-2ddc-4924-9134-f3ffb32fb062",
   "metadata": {},
   "outputs": [
    {
     "data": {
      "text/plain": [
       "4412741152"
      ]
     },
     "execution_count": 14,
     "metadata": {},
     "output_type": "execute_result"
    }
   ],
   "source": [
    "hash(amol2)"
   ]
  },
  {
   "cell_type": "code",
   "execution_count": 15,
   "id": "5cab08f1-e221-4c91-b00f-3465667e21cf",
   "metadata": {},
   "outputs": [
    {
     "data": {
      "text/plain": [
       "'Amol'"
      ]
     },
     "execution_count": 15,
     "metadata": {},
     "output_type": "execute_result"
    }
   ],
   "source": [
    "amol2[\"name\"]"
   ]
  },
  {
   "cell_type": "code",
   "execution_count": 16,
   "id": "d9ff05c4-5a94-4130-8bd4-7f4ee75ec98a",
   "metadata": {},
   "outputs": [
    {
     "data": {
      "text/plain": [
       "False"
      ]
     },
     "execution_count": 16,
     "metadata": {},
     "output_type": "execute_result"
    }
   ],
   "source": [
    "amol == amol2"
   ]
  },
  {
   "cell_type": "code",
   "execution_count": 18,
   "id": "6d4424b3-abb7-4c17-b5a3-2471a5b9f48b",
   "metadata": {},
   "outputs": [],
   "source": [
    "matt = Node(\"Person\", name=\"Matt\")"
   ]
  },
  {
   "cell_type": "code",
   "execution_count": 19,
   "id": "ae1e68ba-c8ba-4d87-8e48-3cf47315229d",
   "metadata": {},
   "outputs": [],
   "source": [
    "matthew = Node(\"Person\", name=\"Matt\")"
   ]
  },
  {
   "cell_type": "code",
   "execution_count": 20,
   "id": "fe2e3e03-bece-4620-a9e9-ce417d9a900c",
   "metadata": {},
   "outputs": [
    {
     "data": {
      "text/plain": [
       "False"
      ]
     },
     "execution_count": 20,
     "metadata": {},
     "output_type": "execute_result"
    }
   ],
   "source": []
  },
  {
   "cell_type": "code",
   "execution_count": null,
   "id": "29fcfcd8-01d7-4ed5-b366-8581aa5b3b5d",
   "metadata": {},
   "outputs": [],
   "source": []
  }
 ],
 "metadata": {
  "kernelspec": {
   "display_name": "Python 3 (ipykernel)",
   "language": "python",
   "name": "python3"
  },
  "language_info": {
   "codemirror_mode": {
    "name": "ipython",
    "version": 3
   },
   "file_extension": ".py",
   "mimetype": "text/x-python",
   "name": "python",
   "nbconvert_exporter": "python",
   "pygments_lexer": "ipython3",
   "version": "3.10.9"
  }
 },
 "nbformat": 4,
 "nbformat_minor": 5
}
