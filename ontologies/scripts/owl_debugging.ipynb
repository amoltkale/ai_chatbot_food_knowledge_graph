{
 "cells": [
  {
   "cell_type": "code",
   "execution_count": 1,
   "id": "35b58af3-6f98-4380-963e-09d035d88e36",
   "metadata": {},
   "outputs": [
    {
     "name": "stderr",
     "output_type": "stream",
     "text": [
      "* Owlready2 * Warning: optimized Cython parser module 'owlready2_optimized' is not available, defaulting to slower Python implementation\n"
     ]
    }
   ],
   "source": [
    "import csv\n",
    "\n",
    "from pathlib import Path\n",
    "\n",
    "from owlready2 import *\n",
    "\n",
    "import pandas as pd\n",
    "\n",
    "from onto_lib.onto_classes import *\n",
    "from onto_lib.utils import create_csvs"
   ]
  },
  {
   "cell_type": "code",
   "execution_count": 2,
   "id": "4455adc1-4490-470d-815e-88f6f0f3daec",
   "metadata": {},
   "outputs": [],
   "source": [
    "# set up out path\n",
    "data_p = Path(\"../../../data/\")\n",
    "\n",
    "# set paths\n",
    "ontology_p = \"../../../data/\"\n",
    "\n",
    "# set onto path\n",
    "# upper_p   = ontology_p + \"/nourish-merged-2.owl\"\n",
    "# upper_p   = ontology_p + \"/usgovt-ontology.owl\"\n",
    "upper_p   = ontology_p + \"/foodcomposite.owl\""
   ]
  },
  {
   "cell_type": "code",
   "execution_count": 3,
   "id": "92aae923-ec66-4b3b-8d99-be4b90af3845",
   "metadata": {},
   "outputs": [
    {
     "name": "stderr",
     "output_type": "stream",
     "text": [
      "* Owlready2 * WARNING: AnnotationProperty http://purl.obolibrary.org/obo/RO_0001900 belongs to more than one entity types: [owl.ObjectProperty, owl.AnnotationProperty, obo.RO_0002422]; I'm trying to fix it...\n",
      "* Owlready2 * WARNING: AnnotationProperty http://purl.obolibrary.org/obo/RO_0040042 belongs to more than one entity types: [owl.ObjectProperty, owl.AnnotationProperty, obo.RO_0002422]; I'm trying to fix it...\n"
     ]
    }
   ],
   "source": [
    "# load ontologies\n",
    "onto = get_ontology(upper_p).load()"
   ]
  },
  {
   "cell_type": "code",
   "execution_count": 4,
   "id": "1a7f3671-5a52-4ecd-9fe7-3de7a773621b",
   "metadata": {},
   "outputs": [
    {
     "name": "stderr",
     "output_type": "stream",
     "text": [
      "* Owlready2 * Warning: ignoring cyclic subclass of/subproperty of, involving:\n",
      "  http://purl.obolibrary.org/obo/FOODON_00002511\n",
      "\n",
      "* Owlready2 * Warning: ignoring cyclic subclass of/subproperty of, involving:\n",
      "  http://purl.obolibrary.org/obo/FOODON_03315876\n",
      "\n"
     ]
    },
    {
     "name": "stdout",
     "output_type": "stream",
     "text": [
      "obo.GO_0016053\n",
      "http://purl.obolibrary.org/obo/GO_0016053\n"
     ]
    },
    {
     "ename": "TypeError",
     "evalue": "metaclass conflict: the metaclass of a derived class must be a (non-strict) subclass of the metaclasses of all its bases",
     "output_type": "error",
     "traceback": [
      "\u001b[0;31m---------------------------------------------------------------------------\u001b[0m",
      "\u001b[0;31mTypeError\u001b[0m                                 Traceback (most recent call last)",
      "Cell \u001b[0;32mIn[4], line 1\u001b[0m\n\u001b[0;32m----> 1\u001b[0m annot_dict \u001b[38;5;241m=\u001b[39m \u001b[43minitialize_annots\u001b[49m\u001b[43m(\u001b[49m\u001b[43monto\u001b[49m\u001b[43m)\u001b[49m\n",
      "File \u001b[0;32m~/school/capstone/capstone/ontologies/scripts/onto_lib/onto_classes.py:26\u001b[0m, in \u001b[0;36minitialize_annots\u001b[0;34m(onto)\u001b[0m\n\u001b[1;32m     24\u001b[0m     \u001b[38;5;28mprint\u001b[39m(c)\n\u001b[1;32m     25\u001b[0m     \u001b[38;5;28mprint\u001b[39m(c\u001b[38;5;241m.\u001b[39miri)\n\u001b[0;32m---> 26\u001b[0m     \u001b[38;5;28;01mraise\u001b[39;00m e\n\u001b[1;32m     28\u001b[0m annot_dict \u001b[38;5;241m=\u001b[39m {a: \u001b[38;5;28;01mNone\u001b[39;00m \u001b[38;5;28;01mfor\u001b[39;00m a \u001b[38;5;129;01min\u001b[39;00m annot_set}\n\u001b[1;32m     29\u001b[0m \u001b[38;5;28;01mreturn\u001b[39;00m annot_dict\n",
      "File \u001b[0;32m~/school/capstone/capstone/ontologies/scripts/onto_lib/onto_classes.py:21\u001b[0m, in \u001b[0;36minitialize_annots\u001b[0;34m(onto)\u001b[0m\n\u001b[1;32m     19\u001b[0m annot_set \u001b[38;5;241m=\u001b[39m \u001b[38;5;28mset\u001b[39m()\n\u001b[1;32m     20\u001b[0m \u001b[38;5;28;01mtry\u001b[39;00m:\n\u001b[0;32m---> 21\u001b[0m     \u001b[38;5;28;01mfor\u001b[39;00m c \u001b[38;5;129;01min\u001b[39;00m onto\u001b[38;5;241m.\u001b[39mclasses():\n\u001b[1;32m     22\u001b[0m         annot_set \u001b[38;5;241m=\u001b[39m annot_set \u001b[38;5;241m|\u001b[39m get_annots(c)\n\u001b[1;32m     23\u001b[0m \u001b[38;5;28;01mexcept\u001b[39;00m \u001b[38;5;167;01mTypeError\u001b[39;00m \u001b[38;5;28;01mas\u001b[39;00m e:\n",
      "File \u001b[0;32m~/school/capstone/capstone/venv/lib/python3.10/site-packages/owlready2/namespace.py:288\u001b[0m, in \u001b[0;36m_GraphManager.classes\u001b[0;34m(self)\u001b[0m\n\u001b[1;32m    286\u001b[0m \u001b[38;5;28;01mdef\u001b[39;00m \u001b[38;5;21mclasses\u001b[39m(\u001b[38;5;28mself\u001b[39m):\n\u001b[1;32m    287\u001b[0m   \u001b[38;5;28;01mfor\u001b[39;00m s \u001b[38;5;129;01min\u001b[39;00m \u001b[38;5;28mself\u001b[39m\u001b[38;5;241m.\u001b[39m_get_obj_triples_po_s(rdf_type, owl_class):\n\u001b[0;32m--> 288\u001b[0m     \u001b[38;5;28;01mif\u001b[39;00m \u001b[38;5;129;01mnot\u001b[39;00m s \u001b[38;5;241m<\u001b[39m \u001b[38;5;241m0\u001b[39m: \u001b[38;5;28;01myield\u001b[39;00m \u001b[38;5;28;43mself\u001b[39;49m\u001b[38;5;241;43m.\u001b[39;49m\u001b[43mworld\u001b[49m\u001b[38;5;241;43m.\u001b[39;49m\u001b[43m_get_by_storid\u001b[49m\u001b[43m(\u001b[49m\u001b[43ms\u001b[49m\u001b[43m)\u001b[49m\n",
      "File \u001b[0;32m~/school/capstone/capstone/venv/lib/python3.10/site-packages/owlready2/namespace.py:698\u001b[0m, in \u001b[0;36mWorld._get_by_storid\u001b[0;34m(self, storid, full_iri, main_type, main_onto, trace, default_to_none)\u001b[0m\n\u001b[1;32m    695\u001b[0m \u001b[38;5;28;01mif\u001b[39;00m \u001b[38;5;129;01mnot\u001b[39;00m entity \u001b[38;5;129;01mis\u001b[39;00m \u001b[38;5;28;01mNone\u001b[39;00m: \u001b[38;5;28;01mreturn\u001b[39;00m entity\n\u001b[1;32m    697\u001b[0m \u001b[38;5;28;01mtry\u001b[39;00m:\n\u001b[0;32m--> 698\u001b[0m   \u001b[38;5;28;01mreturn\u001b[39;00m \u001b[38;5;28;43mself\u001b[39;49m\u001b[38;5;241;43m.\u001b[39;49m\u001b[43m_load_by_storid\u001b[49m\u001b[43m(\u001b[49m\u001b[43mstorid\u001b[49m\u001b[43m,\u001b[49m\u001b[43m \u001b[49m\u001b[43mfull_iri\u001b[49m\u001b[43m,\u001b[49m\u001b[43m \u001b[49m\u001b[43mmain_type\u001b[49m\u001b[43m,\u001b[49m\u001b[43m \u001b[49m\u001b[43mmain_onto\u001b[49m\u001b[43m,\u001b[49m\u001b[43m \u001b[49m\u001b[43mdefault_to_none\u001b[49m\u001b[43m)\u001b[49m\n\u001b[1;32m    699\u001b[0m \u001b[38;5;28;01mexcept\u001b[39;00m \u001b[38;5;167;01mRecursionError\u001b[39;00m:\n\u001b[1;32m    700\u001b[0m   \u001b[38;5;28;01mreturn\u001b[39;00m \u001b[38;5;28mself\u001b[39m\u001b[38;5;241m.\u001b[39m_load_by_storid(storid, full_iri, main_type, main_onto, default_to_none, ())\n",
      "File \u001b[0;32m~/school/capstone/capstone/venv/lib/python3.10/site-packages/owlready2/namespace.py:782\u001b[0m, in \u001b[0;36mWorld._load_by_storid\u001b[0;34m(self, storid, full_iri, main_type, main_onto, default_to_none, trace)\u001b[0m\n\u001b[1;32m    780\u001b[0m \u001b[38;5;28;01mif\u001b[39;00m   main_type \u001b[38;5;129;01mis\u001b[39;00m ThingClass:\n\u001b[1;32m    781\u001b[0m   types \u001b[38;5;241m=\u001b[39m \u001b[38;5;28mtuple\u001b[39m(is_a_entities) \u001b[38;5;129;01mor\u001b[39;00m (Thing,)\n\u001b[0;32m--> 782\u001b[0m   entity \u001b[38;5;241m=\u001b[39m \u001b[43mThingClass\u001b[49m\u001b[43m(\u001b[49m\u001b[43mname\u001b[49m\u001b[43m,\u001b[49m\u001b[43m \u001b[49m\u001b[43mtypes\u001b[49m\u001b[43m,\u001b[49m\u001b[43m \u001b[49m\u001b[43m{\u001b[49m\u001b[43m \u001b[49m\u001b[38;5;124;43m\"\u001b[39;49m\u001b[38;5;124;43mnamespace\u001b[39;49m\u001b[38;5;124;43m\"\u001b[39;49m\u001b[43m \u001b[49m\u001b[43m:\u001b[49m\u001b[43m \u001b[49m\u001b[43mnamespace\u001b[49m\u001b[43m,\u001b[49m\u001b[43m \u001b[49m\u001b[38;5;124;43m\"\u001b[39;49m\u001b[38;5;124;43mstorid\u001b[39;49m\u001b[38;5;124;43m\"\u001b[39;49m\u001b[43m \u001b[49m\u001b[43m:\u001b[49m\u001b[43m \u001b[49m\u001b[43mstorid\u001b[49m\u001b[43m \u001b[49m\u001b[43m}\u001b[49m\u001b[43m \u001b[49m\u001b[43m)\u001b[49m\n\u001b[1;32m    784\u001b[0m \u001b[38;5;28;01melif\u001b[39;00m main_type \u001b[38;5;129;01mis\u001b[39;00m ObjectPropertyClass:\n\u001b[1;32m    785\u001b[0m   \u001b[38;5;28;01mtry\u001b[39;00m:\n",
      "File \u001b[0;32m~/school/capstone/capstone/venv/lib/python3.10/site-packages/owlready2/entity.py:144\u001b[0m, in \u001b[0;36mEntityClass.__new__\u001b[0;34m(MetaClass, name, superclasses, obj_dict)\u001b[0m\n\u001b[1;32m    135\u001b[0m _is_a \u001b[38;5;241m=\u001b[39m CallbackList(_is_a, \u001b[38;5;28;01mNone\u001b[39;00m, MetaClass\u001b[38;5;241m.\u001b[39m_class_is_a_changed)\n\u001b[1;32m    136\u001b[0m obj_dict\u001b[38;5;241m.\u001b[39mupdate(\n\u001b[1;32m    137\u001b[0m   _name          \u001b[38;5;241m=\u001b[39m name,\n\u001b[1;32m    138\u001b[0m   namespace      \u001b[38;5;241m=\u001b[39m namespace,\n\u001b[0;32m   (...)\u001b[0m\n\u001b[1;32m    141\u001b[0m   _equivalent_to \u001b[38;5;241m=\u001b[39m \u001b[38;5;28;01mNone\u001b[39;00m,\n\u001b[1;32m    142\u001b[0m )\n\u001b[0;32m--> 144\u001b[0m Class \u001b[38;5;241m=\u001b[39m namespace\u001b[38;5;241m.\u001b[39mworld\u001b[38;5;241m.\u001b[39m_entities[storid] \u001b[38;5;241m=\u001b[39m _is_a\u001b[38;5;241m.\u001b[39m_obj \u001b[38;5;241m=\u001b[39m \u001b[38;5;28;43mtype\u001b[39;49m\u001b[38;5;241;43m.\u001b[39;49m\u001b[38;5;21;43m__new__\u001b[39;49m\u001b[43m(\u001b[49m\u001b[43mMetaClass\u001b[49m\u001b[43m,\u001b[49m\u001b[43m \u001b[49m\u001b[43mname\u001b[49m\u001b[43m,\u001b[49m\u001b[43m \u001b[49m\u001b[43msuperclasses\u001b[49m\u001b[43m,\u001b[49m\u001b[43m \u001b[49m\u001b[43mobj_dict\u001b[49m\u001b[43m)\u001b[49m\n\u001b[1;32m    145\u001b[0m _cache_entity(Class)\n\u001b[1;32m    147\u001b[0m \u001b[38;5;28;01mif\u001b[39;00m \u001b[38;5;129;01mnot\u001b[39;00m LOADING:\n",
      "\u001b[0;31mTypeError\u001b[0m: metaclass conflict: the metaclass of a derived class must be a (non-strict) subclass of the metaclasses of all its bases"
     ]
    }
   ],
   "source": [
    "annot_dict = initialize_annots(onto)"
   ]
  },
  {
   "cell_type": "code",
   "execution_count": 5,
   "id": "5935a326-2e1a-4c2d-9734-47761a8c9a87",
   "metadata": {},
   "outputs": [],
   "source": [
    "path_dict = {\"node\": \"./test_nodes.csv\",\n",
    "             \"rel\":  \"./test_rels.csv\",\n",
    "            #  \"pattern\": out_p / \"pattern.csv\"\n",
    "             }\n",
    "create_csvs(path_dict, annot_list=list(annot_dict.keys()))"
   ]
  },
  {
   "cell_type": "code",
   "execution_count": 6,
   "id": "733e82f8-d248-4d65-93d7-a898cb5fe813",
   "metadata": {},
   "outputs": [
    {
     "name": "stdout",
     "output_type": "stream",
     "text": [
      "owl.Thing does not have equivalent_to or is_a properties.\n"
     ]
    }
   ],
   "source": [
    "g = create_graph(onto, path_dict)"
   ]
  },
  {
   "cell_type": "code",
   "execution_count": 7,
   "id": "4ae90366-74ea-46ce-ace2-91e186c3c49c",
   "metadata": {},
   "outputs": [
    {
     "name": "stderr",
     "output_type": "stream",
     "text": [
      "/var/folders/wd/y5szpxf50s70ykknr5mg_1n00000gn/T/ipykernel_28698/3036961189.py:1: DtypeWarning: Columns (4,5,7,8,9,10,11,12,13,14,15,16,17,18,19,20,23,24,25,26,27,28,29,30,31,34,36,37,38,39,40,41,42,43,44,45,49,52,54,55,57,58,59,60,61,62,63,64,65,67,71,72,73,74,75,77,78,79,80,81) have mixed types. Specify dtype option on import or set low_memory=False.\n",
      "  class_node_df = pd.read_csv(path_dict[\"node\"])\n"
     ]
    },
    {
     "name": "stdout",
     "output_type": "stream",
     "text": [
      "44666\n"
     ]
    },
    {
     "data": {
      "text/plain": [
       "44666"
      ]
     },
     "execution_count": 7,
     "metadata": {},
     "output_type": "execute_result"
    }
   ],
   "source": [
    "class_node_df = pd.read_csv(path_dict[\"node\"])\n",
    "print(class_node_df.shape[0])\n",
    "class_node_df.drop_duplicates().shape[0]"
   ]
  },
  {
   "cell_type": "code",
   "execution_count": 7,
   "id": "74bbc503-432b-4b7f-990f-8a942bdfe141",
   "metadata": {},
   "outputs": [
    {
     "name": "stdout",
     "output_type": "stream",
     "text": [
      "59666\n"
     ]
    },
    {
     "data": {
      "text/plain": [
       "59666"
      ]
     },
     "execution_count": 7,
     "metadata": {},
     "output_type": "execute_result"
    }
   ],
   "source": [
    "class_rel_df = pd.read_csv(path_dict[\"rel\"])\n",
    "print(class_rel_df.shape[0])\n",
    "class_rel_df.drop_duplicates().shape[0]"
   ]
  },
  {
   "cell_type": "code",
   "execution_count": 20,
   "id": "234e559b-a826-4e5f-ad78-63dd81d7f0ba",
   "metadata": {},
   "outputs": [
    {
     "name": "stdout",
     "output_type": "stream",
     "text": [
      "65411\n"
     ]
    },
    {
     "data": {
      "text/plain": [
       "59666"
      ]
     },
     "execution_count": 20,
     "metadata": {},
     "output_type": "execute_result"
    }
   ],
   "source": [
    "class_rel_df = pd.read_csv(path_dict[\"rel\"])\n",
    "print(class_rel_df.shape[0])\n",
    "class_rel_df.drop_duplicates().shape[0]"
   ]
  },
  {
   "cell_type": "code",
   "execution_count": 8,
   "id": "39ea717a-3ce4-4bdd-8728-a0a4559a4fb6",
   "metadata": {},
   "outputs": [
    {
     "name": "stdout",
     "output_type": "stream",
     "text": [
      "50279\n"
     ]
    },
    {
     "data": {
      "text/plain": [
       "50279"
      ]
     },
     "execution_count": 8,
     "metadata": {},
     "output_type": "execute_result"
    }
   ],
   "source": [
    "old_node_df = pd.read_csv(data_p / \"out/nodes.csv\")\n",
    "print(old_node_df.shape[0])\n",
    "old_node_df.drop_duplicates().shape[0]"
   ]
  },
  {
   "cell_type": "code",
   "execution_count": 8,
   "id": "f367cd7e-63c7-46b5-a38a-0e6a66bddb11",
   "metadata": {},
   "outputs": [
    {
     "name": "stdout",
     "output_type": "stream",
     "text": [
      "65314\n"
     ]
    },
    {
     "data": {
      "text/plain": [
       "65314"
      ]
     },
     "execution_count": 8,
     "metadata": {},
     "output_type": "execute_result"
    }
   ],
   "source": [
    "old_rels_df = pd.read_csv(data_p / \"out/rels.csv\")\n",
    "print(old_rels_df.shape[0])\n",
    "old_rels_df.drop_duplicates().shape[0]"
   ]
  },
  {
   "cell_type": "code",
   "execution_count": 27,
   "id": "cc672412-c9ea-44a0-9a50-f1995391992e",
   "metadata": {},
   "outputs": [
    {
     "data": {
      "text/plain": [
       "{(1, 1), (1, 2), (2, 1), (4, 4)}"
      ]
     },
     "execution_count": 27,
     "metadata": {},
     "output_type": "execute_result"
    }
   ],
   "source": [
    "# b = 'BLANK_7515'\n",
    "# if 'UPPER' not in b:\n",
    "#     print(\":)\")\n",
    "a = set([(1,1), (1,2), (1,1), (2,1)])\n",
    "if (4,4) not in a:\n",
    "    a.add((4,4))\n",
    "a"
   ]
  },
  {
   "cell_type": "code",
   "execution_count": 15,
   "id": "06990e40-e015-403c-8a02-deea5b292b56",
   "metadata": {},
   "outputs": [
    {
     "data": {
      "text/plain": [
       "[]"
      ]
     },
     "execution_count": 15,
     "metadata": {},
     "output_type": "execute_result"
    }
   ],
   "source": [
    "diff_set = set(old_node_df['node_id:ID'].tolist()).difference(class_node_df['node_id:ID'].tolist())\n",
    "[a for a in diff_set if a if 'UPPER' not in a]"
   ]
  },
  {
   "cell_type": "code",
   "execution_count": 17,
   "id": "42d18909-6682-4178-b673-820e488f64ff",
   "metadata": {},
   "outputs": [
    {
     "data": {
      "text/plain": [
       "owlready2.prop.ObjectPropertyClass"
      ]
     },
     "execution_count": 17,
     "metadata": {},
     "output_type": "execute_result"
    }
   ],
   "source": [
    "type(g.root)"
   ]
  },
  {
   "cell_type": "code",
   "execution_count": 2,
   "id": "ec1b6fa0-91bc-4b3c-8295-5eec4323e486",
   "metadata": {},
   "outputs": [],
   "source": [
    "def initialize_annots(onto):\n",
    "    annot_set = set()\n",
    "    for c in onto.classes():\n",
    "        annot_set = annot_set | get_annots(c)\n",
    "\n",
    "    annot_dict = {a: None for a in annot_set}\n",
    "    return annot_dict\n",
    "\n",
    "def get_annots(c):\n",
    "    annot_set = set()\n",
    "    for class_prop in c.get_class_properties():\n",
    "        match class_prop:\n",
    "            case owlready2.annotation.AnnotationPropertyClass():\n",
    "                '''\n",
    "                The examples why extracting the annotations need to be in a try block:\n",
    "                ValueError: Cannot read literal of datatype 570!: obo.IAO_0000117, obo.IAO_0000119\n",
    "                ValueError: Cannot read literal of datatype 571!: rdf-schema.label\n",
    "                ValueError: Cannot read literal of datatype 576! 1.1.date\n",
    "                ValueError: Cannot read literal of datatype 6103!: oboInOwl.hasDbXref\n",
    "                '''\n",
    "\n",
    "                try:\n",
    "                    p_str = \"\"\n",
    "                    for p_item in class_prop.__getitem__(c):\n",
    "                        if p_item is None:\n",
    "                            continue\n",
    "                        if len(p_str) > 0:\n",
    "                            p_str = p_str + \"###\" + str(p_item)\n",
    "                        else:\n",
    "                            p_str = str(p_item)\n",
    "                    if p_str == \"None\":\n",
    "                        continue\n",
    "                    # check name of annotation\n",
    "                    if class_prop.label.first() is None:\n",
    "                        annot_str = str(class_prop)\n",
    "                    else:\n",
    "                        annot_str = class_prop.label.first()\n",
    "                    annot_set.add(annot_str)\n",
    "                except:\n",
    "                    pass\n",
    "\n",
    "            case owlready2.prop.ObjectPropertyClass() | owlready2.prop.DataPropertyClass():\n",
    "                pass\n",
    "            case _:\n",
    "                raise TypeError(f\"Unknown type: {type(class_prop)}\")\n",
    "    return annot_set"
   ]
  },
  {
   "cell_type": "code",
   "execution_count": 2,
   "id": "52a6c6d4-cac6-44f0-b034-906d000ec020",
   "metadata": {},
   "outputs": [],
   "source": [
    "def old_get_annots(c):\n",
    "    annot_set = set()\n",
    "    for class_prop in c.get_class_properties():\n",
    "        match class_prop:\n",
    "            case owlready2.annotation.AnnotationPropertyClass():\n",
    "                '''\n",
    "                The examples why extracting the annotations need to be in a try block:\n",
    "                ValueError: Cannot read literal of datatype 570!: obo.IAO_0000117, obo.IAO_0000119\n",
    "                ValueError: Cannot read literal of datatype 571!: rdf-schema.label\n",
    "                ValueError: Cannot read literal of datatype 576! 1.1.date\n",
    "                ValueError: Cannot read literal of datatype 6103!: oboInOwl.hasDbXref\n",
    "                '''\n",
    "\n",
    "                try:\n",
    "                    p_str = \"\"\n",
    "                    for p_item in class_prop.__getitem__(c):\n",
    "                        if p_item is None:\n",
    "                            continue\n",
    "                        if len(p_str) > 0:\n",
    "                            p_str = p_str + \"###\" + str(p_item)\n",
    "                        else:\n",
    "                            p_str = str(p_item)\n",
    "                    if p_str == \"None\":\n",
    "                        continue\n",
    "                    # check name of annotation\n",
    "                    if class_prop.label.first() is None:\n",
    "                        annot_str = str(class_prop)\n",
    "                    else:\n",
    "                        annot_str = class_prop.label.first()\n",
    "                    annot_set.add(annot_str)\n",
    "                except:\n",
    "                    pass\n",
    "\n",
    "            case owlready2.prop.ObjectPropertyClass() | owlready2.prop.DataPropertyClass():\n",
    "                pass\n",
    "            case _:\n",
    "                raise TypeError(f\"Unknown type: {type(class_prop)}\")\n",
    "    return annot_set"
   ]
  },
  {
   "cell_type": "code",
   "execution_count": 7,
   "id": "41674a4c-9493-4b9f-9e5a-9580e90fbde3",
   "metadata": {},
   "outputs": [
    {
     "data": {
      "text/plain": [
       "[None,\n",
       " None,\n",
       " None,\n",
       " None,\n",
       " None,\n",
       " None,\n",
       " None,\n",
       " None,\n",
       " None,\n",
       " None,\n",
       " None,\n",
       " None,\n",
       " None,\n",
       " None,\n",
       " None,\n",
       " None,\n",
       " None,\n",
       " None,\n",
       " None,\n",
       " None,\n",
       " None,\n",
       " None,\n",
       " None,\n",
       " None,\n",
       " None,\n",
       " None,\n",
       " None,\n",
       " None,\n",
       " None,\n",
       " None,\n",
       " None,\n",
       " None,\n",
       " None,\n",
       " None,\n",
       " None,\n",
       " None,\n",
       " None,\n",
       " None,\n",
       " None,\n",
       " None,\n",
       " None,\n",
       " None,\n",
       " None,\n",
       " None,\n",
       " None,\n",
       " None,\n",
       " None,\n",
       " None,\n",
       " None,\n",
       " None,\n",
       " None,\n",
       " None,\n",
       " None,\n",
       " None,\n",
       " None,\n",
       " None,\n",
       " None,\n",
       " None,\n",
       " None,\n",
       " None,\n",
       " None,\n",
       " None,\n",
       " None,\n",
       " None,\n",
       " None,\n",
       " None,\n",
       " None,\n",
       " None,\n",
       " None,\n",
       " None,\n",
       " None,\n",
       " None,\n",
       " None,\n",
       " None,\n",
       " None,\n",
       " None,\n",
       " None,\n",
       " None]"
      ]
     },
     "execution_count": 7,
     "metadata": {},
     "output_type": "execute_result"
    }
   ],
   "source": [
    "[annot_dict[k] for k in sorted(annot_dict.keys())]"
   ]
  },
  {
   "cell_type": "code",
   "execution_count": 13,
   "id": "eb1634f5-f619-40ba-bd23-69220e564b67",
   "metadata": {},
   "outputs": [],
   "source": [
    "for c in onto.classes():\n",
    "    # if c.name == \"IAO_0000078\": # curation status -> OneOf example\n",
    "    if c.name == \"FOODON_00002396\": # synthetic vanilla extract\n",
    "    # if c.name == \"FOODON_00002403\": #food_material\n",
    "    # if c.name == \"FOODON_00002114\":\n",
    "    # if c.name == \"CDNO_0000001\": # breaks cause no label\n",
    "        break"
   ]
  },
  {
   "cell_type": "code",
   "execution_count": 14,
   "id": "241e6f53-a012-4a7f-a409-01e5b7109f9c",
   "metadata": {},
   "outputs": [
    {
     "name": "stdout",
     "output_type": "stream",
     "text": [
      "label: ['synthetic vanilla extract']\n",
      "Equivalent to: Not(obo.RO_0001000.some(obo.FOODON_03411355)) & obo.BFO_0000051.some(obo.CHEBI_18346 | obo.CHEBI_48408)\n"
     ]
    }
   ],
   "source": [
    "print(f\"label: {c.label}\\nEquivalent to: {c.equivalent_to[0]}\")"
   ]
  },
  {
   "cell_type": "code",
   "execution_count": 15,
   "id": "a1167219-22b3-4910-a731-314181e11ebe",
   "metadata": {},
   "outputs": [],
   "source": [
    "# test making graph\n",
    "entity_set = set()\n",
    "transition_set = set()\n",
    "\n",
    "# Add node and create graph\n",
    "root_node = EntityNode(c, \"Concept\")\n",
    "g = Graph(root_node, entity_set, transition_set)\n",
    "\n",
    "# Add children to root node\n",
    "if list(c.equivalent_to):\n",
    "    for child in c.equivalent_to:\n",
    "        parse_logic(child, root_node,\n",
    "                    edge=\"equivalent_to\", edge_direction=\"target\",\n",
    "                    restr_key=None, restr_value=None\n",
    "                    )\n",
    "\n",
    "elif list(c.is_a):\n",
    "    for child in c.is_a:\n",
    "        parse_logic(child, root_node,\n",
    "                    edge=\"is_a\", edge_direction=\"target\",\n",
    "                    restr_key=None, restr_value=None\n",
    "                    )\n",
    "\n",
    "else:\n",
    "    print(f\"{c} does not have equivalent_to or is_a properties.\")"
   ]
  },
  {
   "cell_type": "code",
   "execution_count": 6,
   "id": "3976f8a7-2afd-46a7-8943-bb19fccb4723",
   "metadata": {},
   "outputs": [
    {
     "ename": "AttributeError",
     "evalue": "'children' annotation property is not defined.",
     "output_type": "error",
     "traceback": [
      "\u001b[0;31m---------------------------------------------------------------------------\u001b[0m",
      "\u001b[0;31mAttributeError\u001b[0m                            Traceback (most recent call last)",
      "Cell \u001b[0;32mIn[6], line 1\u001b[0m\n\u001b[0;32m----> 1\u001b[0m \u001b[43mg\u001b[49m\u001b[38;5;241;43m.\u001b[39;49m\u001b[43mroot\u001b[49m\u001b[38;5;241;43m.\u001b[39;49m\u001b[43mchildren\u001b[49m\n",
      "File \u001b[0;32m~/school/capstone/capstone/venv/lib/python3.10/site-packages/owlready2/prop.py:272\u001b[0m, in \u001b[0;36mPropertyClass.__getattr__\u001b[0;34m(Prop, attr)\u001b[0m\n\u001b[1;32m    269\u001b[0m \u001b[38;5;66;03m#l = CURRENT_NAMESPACES.get()\u001b[39;00m\n\u001b[1;32m    270\u001b[0m \u001b[38;5;66;03m#Annot = ((l and l[-1]) or Prop.namespace).world._props.get(attr)\u001b[39;00m\n\u001b[1;32m    271\u001b[0m \u001b[38;5;28;01mif\u001b[39;00m Annot \u001b[38;5;129;01mis\u001b[39;00m \u001b[38;5;28;01mNone\u001b[39;00m:\n\u001b[0;32m--> 272\u001b[0m   \u001b[38;5;28;01mraise\u001b[39;00m \u001b[38;5;167;01mAttributeError\u001b[39;00m(\u001b[38;5;124m\"\u001b[39m\u001b[38;5;124m'\u001b[39m\u001b[38;5;132;01m%s\u001b[39;00m\u001b[38;5;124m'\u001b[39m\u001b[38;5;124m annotation property is not defined.\u001b[39m\u001b[38;5;124m\"\u001b[39m \u001b[38;5;241m%\u001b[39m attr)\n\u001b[1;32m    273\u001b[0m \u001b[38;5;28;01mif\u001b[39;00m \u001b[38;5;129;01mnot\u001b[39;00m issubclass_python(Annot, AnnotationProperty):\n\u001b[1;32m    274\u001b[0m   \u001b[38;5;28;01mraise\u001b[39;00m \u001b[38;5;167;01mAttributeError\u001b[39;00m(\u001b[38;5;124m\"\u001b[39m\u001b[38;5;124mProperty can only have annotation property values!\u001b[39m\u001b[38;5;124m\"\u001b[39m)\n",
      "\u001b[0;31mAttributeError\u001b[0m: 'children' annotation property is not defined."
     ]
    }
   ],
   "source": [
    "g.root.children"
   ]
  },
  {
   "cell_type": "code",
   "execution_count": 17,
   "id": "560c90a6-8bb8-4f16-a8d9-c6a3aad18e6a",
   "metadata": {},
   "outputs": [
    {
     "data": {
      "text/plain": [
       "[{'node': <onto_lib.onto_classes.TransitionNode at 0x11b8aaaa0>,\n",
       "  'direction': 'source',\n",
       "  'rel_type': 'member_of',\n",
       "  'rel_label': '',\n",
       "  'restriction': None,\n",
       "  'restriction_value': None},\n",
       " {'node': <onto_lib.onto_classes.TransitionNode at 0x11b8a9960>,\n",
       "  'direction': 'source',\n",
       "  'rel_type': 'member_of',\n",
       "  'rel_label': '',\n",
       "  'restriction': None,\n",
       "  'restriction_value': None}]"
      ]
     },
     "execution_count": 17,
     "metadata": {},
     "output_type": "execute_result"
    }
   ],
   "source": [
    "root_node.children[0][\"node\"].children"
   ]
  },
  {
   "cell_type": "code",
   "execution_count": 19,
   "id": "d2ebab04-0799-4e11-aa2e-c38a9caa10eb",
   "metadata": {},
   "outputs": [],
   "source": [
    "def export_traverse(*, node_p, rel_p, node, node_set=set()):\n",
    "    match node:\n",
    "        case Graph():\n",
    "            # initialize recursion\n",
    "            # node_children = node.root.children\n",
    "            node = node.root\n",
    "            node_set = append_node_row(node_p, node, node_set)\n",
    "        case EntityNode():\n",
    "             # node_children = node.children\n",
    "            pass\n",
    "        case TransitionNode():\n",
    "            # node_children = node.children\n",
    "            # if transitionNode has no children -> return and do not write empty node\n",
    "            if len(node.children) == 0:\n",
    "                return\n",
    "            \n",
    "    for n in node.children:\n",
    "        node_set = append_node_row(node_p, n[\"node\"], node_set)\n",
    "        append_edge_row(rel_p, node, n)\n",
    "        export_traverse(node_p=node_p, rel_p=rel_p,node=n['node'], node_set=node_set)\n",
    "\n",
    "def append_node_row(node_p, n, node_set):\n",
    "    # node_id:ID,label:string[],iri,:LABEL\n",
    "    # return [n.id, n.label, n.iri, n.neo_type]\n",
    "    if n.id not in node_set:\n",
    "        row = [n.id, n.label, n.iri, n.neo_type]\n",
    "        node_set.add(n.id)\n",
    "\n",
    "        with open(node_p, 'a') as f:\n",
    "            w = csv.writer(f, delimiter=',')\n",
    "            w.writerow(row)\n",
    "\n",
    "    return node_set\n",
    "\n",
    "def append_edge_row(rel_p, parent_n, child_n):\n",
    "    # :START_ID,:END_ID,:TYPE,restriction,restriction_value,label\n",
    "    if child_n[\"direction\"] == \"target\":\n",
    "        row = [parent_n.id, child_n[\"node\"].id, child_n[\"rel_type\"], \n",
    "                child_n['restriction'], child_n['restriction_value'],\n",
    "                child_n['rel_label'],\n",
    "               ]\n",
    "    else:\n",
    "        row = [child_n[\"node\"].id, parent_n.id, child_n[\"rel_type\"], \n",
    "                child_n['restriction'], child_n['restriction_value'],\n",
    "                child_n['rel_label'],\n",
    "               ]\n",
    "        \n",
    "    with open(rel_p, 'a') as f:\n",
    "        w = csv.writer(f, delimiter=',')\n",
    "        w.writerow(row)"
   ]
  },
  {
   "cell_type": "code",
   "execution_count": 20,
   "id": "3b65c6c7-44cc-42cb-bd1d-d44fd760a28a",
   "metadata": {},
   "outputs": [
    {
     "data": {
      "text/plain": [
       "{'node': './nodes.csv', 'rel': './rels.csv'}"
      ]
     },
     "execution_count": 20,
     "metadata": {},
     "output_type": "execute_result"
    }
   ],
   "source": [
    "path_dict"
   ]
  },
  {
   "cell_type": "code",
   "execution_count": 21,
   "id": "b54721be-2944-4bf9-bcd7-c3befbd01c72",
   "metadata": {},
   "outputs": [],
   "source": [
    "# export_traverse(g)\n",
    "node_set = set()\n",
    "export_traverse(node_p=path_dict[\"node\"], rel_p=path_dict[\"rel\"],node=g, node_set=node_set)"
   ]
  },
  {
   "cell_type": "code",
   "execution_count": 13,
   "id": "da6f3fae-d27d-4b1b-bf8f-9f8650baf64e",
   "metadata": {},
   "outputs": [
    {
     "data": {
      "text/plain": [
       "{'node': <onto_classes.TransitionNode at 0x1157d6ec0>,\n",
       " 'direction': 'target',\n",
       " 'rel_type': 'equivalent_to',\n",
       " 'restriction': None,\n",
       " 'restriction_value': None}"
      ]
     },
     "execution_count": 13,
     "metadata": {},
     "output_type": "execute_result"
    }
   ],
   "source": [
    "type(g)\n",
    "g.root.children[0]"
   ]
  },
  {
   "cell_type": "code",
   "execution_count": 28,
   "id": "5e0d6810-cbc9-4495-ad0d-a954092422a4",
   "metadata": {},
   "outputs": [
    {
     "name": "stdout",
     "output_type": "stream",
     "text": [
      ":)\n"
     ]
    }
   ],
   "source": [
    "match g:\n",
    "    case Graph():\n",
    "        print(\":)\")\n",
    "    case _:\n",
    "        print(\":(\")"
   ]
  },
  {
   "cell_type": "code",
   "execution_count": null,
   "id": "7cc07b0e-a35f-4eb5-b0a0-08cb42377d90",
   "metadata": {},
   "outputs": [],
   "source": [
    "'''\n",
    "Still need to add annotations\n",
    "\n",
    "Now that graph is successfully created!\n",
    "Write function to navigate through graph\n",
    "    Need to check set of nodes before writing to node file!\n",
    "        Can be harsh with transition nodes and throw an error if not unique?\n",
    "\n",
    "\n",
    "\n",
    "    start at root and go through all children\n",
    "    IF type is TRANSITIONNODE WITH NO CHILDREN\n",
    "        prune\n",
    "        remove node from transition list\n",
    "    ELSE\n",
    "        Check to see if ENTITYNODE is in set\n",
    "        Write node row csv out\n",
    "        Write rel row csv out\n",
    "'''"
   ]
  },
  {
   "cell_type": "code",
   "execution_count": null,
   "id": "eb222dcd-890f-4b8f-b43e-45da9256e3bc",
   "metadata": {},
   "outputs": [],
   "source": [
    "raise NotImplementedError"
   ]
  },
  {
   "cell_type": "code",
   "execution_count": 8,
   "id": "ffa5b2e6-16dd-495c-bbe6-ffeb46884efb",
   "metadata": {},
   "outputs": [
    {
     "data": {
      "text/plain": [
       "obo.ENVO_00010483 & obo.RO_0000087.some(obo.CHEBI_33290)"
      ]
     },
     "execution_count": 8,
     "metadata": {},
     "output_type": "execute_result"
    }
   ],
   "source": [
    "c.equivalent_to[0]"
   ]
  },
  {
   "cell_type": "code",
   "execution_count": 6,
   "id": "eb5428fc-1002-4fd7-b15a-71aa7b1c83f8",
   "metadata": {},
   "outputs": [],
   "source": [
    "# create tree for food material\n",
    "graph = EntityNode(c, \"Concept\")\n",
    "\n",
    "# create AND node\n",
    "and_trans_node = TransitionNode(\"and_0001\", \"AND\")\n",
    "\n",
    "# Add AND node to graph\n",
    "graph.add_child(and_trans_node, direction=\"source\", rel_type=\"equivalent_to\")\n",
    "\n",
    "# Add links to AND\n",
    "envo_node = EntityNode(c.equivalent_to[0].is_a[0], \"Concept\") # obo.ENVO_00010483 -> No children\n",
    "and_trans_node.add_child(envo_node, direction=\"source\", rel_type=\"member_of\")\n",
    "\n",
    "# Add BLANK node\n",
    "blank_trans_node = TransitionNode(\"BLANK_0001\", \"BLANK\")\n",
    "\n",
    "# Connect blank node to AND\n",
    "and_trans_node.add_child(blank_trans_node, direction=\"target\", rel_type=\"member_of\")\n",
    "\n",
    "# Create entity node and connect with blank node\n",
    "restriction = c.equivalent_to[0].is_a[1]\n",
    "chebi_node = EntityNode(restriction.value, \"Concept\") # obo.ENVO_00010483 -> No children\n",
    "blank_trans_node.add_child(envo_node, direction=\"source\", rel_type=restriction.property)"
   ]
  },
  {
   "cell_type": "code",
   "execution_count": null,
   "id": "f643655c-91d9-4502-843c-29fe11c5abbd",
   "metadata": {},
   "outputs": [],
   "source": [
    "'''\n",
    "What we really want:\n",
    "class Graph\n",
    "    root: starting node\n",
    "    entity: list\n",
    "    transition: list\n",
    "    \n",
    "functions: export, prune, func to verify nodes not already in list\n",
    "2 graphs:\n",
    "    Main graph with complete node list\n",
    "    Sub graph: each pattern\n",
    "    \n",
    "Other classes:\n",
    "    set_children\n",
    "        Entity -> check if equivalent_to or is_a is valid list\n",
    "                  the launch point into creating graph\n",
    "        Transition -> match on property type (AND, OR, NOT, etc)\n",
    "                      Unwrap and add nodes + children as appropriate\n",
    "        \n",
    "    get_children: retrieve children of node\n",
    "    \n",
    "    add_node: Add checks for both entity and transition\n",
    "        Transition -> Modify __init__ call to take one of those types and create node\n",
    "    \n",
    "\n",
    "\n",
    "'''\n",
    "'''\n",
    "trace: trace tree and name nodes\n",
    "    No longer needed since transition nodes can take full name of their description\n",
    "\n",
    "prune: verify all transition nodes have children\n",
    "    Def needed to verify integrity of tree due to bad nodes\n",
    "    \n",
    "write: write tree out to node and rel csv files\n",
    "    Still need to add annotations to EntityNodes\n",
    "'''\n",
    "# def trace(g):\n",
    "    "
   ]
  },
  {
   "cell_type": "code",
   "execution_count": 12,
   "id": "0587b428-8da8-483a-9502-2343722e53b5",
   "metadata": {},
   "outputs": [
    {
     "data": {
      "text/plain": [
       "[{'node': <onto_classes.EntityNode at 0x11f64d4e0>,\n",
       "  'direction': 'source',\n",
       "  'rel_type': 'member_of'},\n",
       " {'node': <onto_classes.TransitionNode at 0x11f64d360>,\n",
       "  'direction': 'target',\n",
       "  'rel_type': 'member_of'}]"
      ]
     },
     "execution_count": 12,
     "metadata": {},
     "output_type": "execute_result"
    }
   ],
   "source": [
    "graph.children[0][\"node\"].children"
   ]
  },
  {
   "cell_type": "code",
   "execution_count": null,
   "id": "2317274c-fe0c-473a-9848-eb860f3c0f37",
   "metadata": {},
   "outputs": [],
   "source": []
  },
  {
   "cell_type": "code",
   "execution_count": null,
   "id": "f51f9b34-5de9-419f-8ef3-e857336685f2",
   "metadata": {},
   "outputs": [],
   "source": []
  },
  {
   "cell_type": "code",
   "execution_count": 9,
   "id": "1bd30a7d-a9e3-4b88-95ea-bba80491a9be",
   "metadata": {},
   "outputs": [
    {
     "data": {
      "text/plain": [
       "obo.RO_0000087.some(obo.CHEBI_33290)"
      ]
     },
     "execution_count": 9,
     "metadata": {},
     "output_type": "execute_result"
    }
   ],
   "source": [
    "c.equivalent_to[0].is_a[1]"
   ]
  },
  {
   "cell_type": "code",
   "execution_count": 10,
   "id": "e31119c5-ca9a-40e4-8d6e-533c912fd5df",
   "metadata": {},
   "outputs": [
    {
     "data": {
      "text/plain": [
       "owlready2.class_construct.Restriction"
      ]
     },
     "execution_count": 10,
     "metadata": {},
     "output_type": "execute_result"
    }
   ],
   "source": [
    "type(c.equivalent_to[0].is_a[1])"
   ]
  },
  {
   "cell_type": "code",
   "execution_count": 13,
   "id": "5af22fff-0a83-45cb-b6fb-27938c1a576f",
   "metadata": {},
   "outputs": [
    {
     "data": {
      "text/plain": [
       "'BLANK_obo.RO_0000087.some(obo.CHEBI_33290)'"
      ]
     },
     "execution_count": 13,
     "metadata": {},
     "output_type": "execute_result"
    }
   ],
   "source": [
    "\"BLANK_\" + str(c.equivalent_to[0].is_a[1])"
   ]
  },
  {
   "cell_type": "code",
   "execution_count": 12,
   "id": "fe62f287-0551-4243-b5e3-bec11db885c2",
   "metadata": {},
   "outputs": [
    {
     "data": {
      "text/plain": [
       "obo.RO_0000087"
      ]
     },
     "execution_count": 12,
     "metadata": {},
     "output_type": "execute_result"
    }
   ],
   "source": [
    "c.equivalent_to[0].is_a[1].property"
   ]
  },
  {
   "cell_type": "code",
   "execution_count": 14,
   "id": "df7bd58e-6eea-4609-ba03-2e4b725d9ba5",
   "metadata": {},
   "outputs": [
    {
     "data": {
      "text/plain": [
       "obo.CHEBI_33290"
      ]
     },
     "execution_count": 14,
     "metadata": {},
     "output_type": "execute_result"
    }
   ],
   "source": [
    "c.equivalent_to[0].is_a[1].value"
   ]
  },
  {
   "cell_type": "code",
   "execution_count": null,
   "id": "85d5c639-1573-4fc9-aed9-09f6cc4a8bfd",
   "metadata": {},
   "outputs": [],
   "source": [
    "# Add transition node\n"
   ]
  },
  {
   "cell_type": "code",
   "execution_count": null,
   "id": "1a4b1f0f-6d34-4270-8150-91a62fb2e964",
   "metadata": {},
   "outputs": [],
   "source": [
    "# class EntityNode:\n",
    "#     # def __init__(self, entity, neo_type, parent=None):\n",
    "#     def __init__(self, entity, neo_type):\n",
    "#         self.id = str(entity)\n",
    "#         self.label = ';'.join(entity.label)\n",
    "#         self.iri = entity.iri\n",
    "#         self.neo_type = neo_type\n",
    "#         self.children = []"
   ]
  },
  {
   "cell_type": "code",
   "execution_count": null,
   "id": "93a6184b-7761-4fce-9d5f-99b7dd5d0d44",
   "metadata": {},
   "outputs": [],
   "source": [
    "# def export_traverse(node):\n",
    "#     match node:\n",
    "#         case Graph():\n",
    "#             # initialize recursion\n",
    "#             node_children = node.root.children\n",
    "#             print(node.root.id)\n",
    "#             print('------------')\n",
    "            \n",
    "#             # write out edges and parent node\n",
    "#             # TODO\n",
    "#         case EntityNode() | TransitionNode():\n",
    "#             node_children = node.children\n",
    "            \n",
    "#     for n in node_children:\n",
    "#         print(n['node'].id)\n",
    "#         print(create_node_row(n['node']))\n",
    "#         print('vvvvvvvvvvvvv')\n",
    "#         export_traverse(n['node'])\n",
    "#         # write out edges\n",
    "#         #TODO\n",
    "        \n",
    "#         # Go through node's children\n",
    "#         # for child in n[\"node\"].children:\n",
    "#         #     print(f\"\\n{child['node'].id}\")\n",
    "#         #     print(create_node_row(child['node']))\n",
    "#         #     print('+++++++++++++++')\n",
    "#         #     export_traverse(child['node'])\n",
    "            \n",
    "# def create_node_row(n):\n",
    "#     # node_id:ID,label:string[],iri,:LABEL\n",
    "#     return [n.id, n.label, n.iri, n.neo_type]"
   ]
  }
 ],
 "metadata": {
  "kernelspec": {
   "display_name": "Python 3 (ipykernel)",
   "language": "python",
   "name": "python3"
  },
  "language_info": {
   "codemirror_mode": {
    "name": "ipython",
    "version": 3
   },
   "file_extension": ".py",
   "mimetype": "text/x-python",
   "name": "python",
   "nbconvert_exporter": "python",
   "pygments_lexer": "ipython3",
   "version": "3.10.9"
  }
 },
 "nbformat": 4,
 "nbformat_minor": 5
}
