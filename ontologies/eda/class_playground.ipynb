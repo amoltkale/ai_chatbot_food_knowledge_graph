{
 "cells": [
  {
   "cell_type": "code",
   "execution_count": 1,
   "id": "35b58af3-6f98-4380-963e-09d035d88e36",
   "metadata": {},
   "outputs": [
    {
     "name": "stderr",
     "output_type": "stream",
     "text": [
      "* Owlready2 * Warning: optimized Cython parser module 'owlready2_optimized' is not available, defaulting to slower Python implementation\n"
     ]
    }
   ],
   "source": [
    "import csv\n",
    "\n",
    "from pathlib import Path\n",
    "\n",
    "from owlready2 import *\n",
    "\n",
    "import pandas as pd\n",
    "\n",
    "from onto_classes import *"
   ]
  },
  {
   "cell_type": "code",
   "execution_count": 2,
   "id": "4455adc1-4490-470d-815e-88f6f0f3daec",
   "metadata": {},
   "outputs": [],
   "source": [
    "# set up out path\n",
    "data_p = Path(\"../../data/\")\n",
    "\n",
    "# set paths\n",
    "ontology_p = \"../../data/\"\n",
    "\n",
    "# set onto path\n",
    "upper_p   = ontology_p + \"/nourish-merged-2.owl\""
   ]
  },
  {
   "cell_type": "code",
   "execution_count": 3,
   "id": "92aae923-ec66-4b3b-8d99-be4b90af3845",
   "metadata": {},
   "outputs": [],
   "source": [
    "# load ontologies\n",
    "onto = get_ontology(upper_p).load()"
   ]
  },
  {
   "cell_type": "code",
   "execution_count": 4,
   "id": "eb1634f5-f619-40ba-bd23-69220e564b67",
   "metadata": {},
   "outputs": [],
   "source": [
    "for c in onto.classes():\n",
    "    # if c.name == \"IAO_0000078\": # curation status -> OneOf example\n",
    "    # if c.name == \"FOODON_00002396\":\n",
    "    if c.name == \"FOODON_00002403\": #food_material\n",
    "    # if c.name == \"FOODON_00002114\":\n",
    "    # if c.name == \"CDNO_0000001\": # breaks cause no label\n",
    "        break"
   ]
  },
  {
   "cell_type": "code",
   "execution_count": 5,
   "id": "241e6f53-a012-4a7f-a409-01e5b7109f9c",
   "metadata": {},
   "outputs": [
    {
     "name": "stdout",
     "output_type": "stream",
     "text": [
      "label: ['food material']\n",
      "Equivalent to: obo.ENVO_00010483 & obo.RO_0000087.some(obo.CHEBI_33290)\n"
     ]
    }
   ],
   "source": [
    "print(f\"label: {c.label}\\nEquivalent to: {c.equivalent_to[0]}\")"
   ]
  },
  {
   "cell_type": "code",
   "execution_count": 6,
   "id": "a1167219-22b3-4910-a731-314181e11ebe",
   "metadata": {},
   "outputs": [],
   "source": [
    "# test making graph\n",
    "entity_set = set()\n",
    "transition_set = set()\n",
    "\n",
    "# Add node and create graph\n",
    "root_node = EntityNode(c, \"Concept\")\n",
    "g = Graph(root_node, entity_set, transition_set)\n",
    "\n",
    "# Add children to root node\n",
    "if list(c.equivalent_to):\n",
    "    for child in c.equivalent_to:\n",
    "        parse_logic(child, root_node,\n",
    "                    edge=\"equivalent_to\", edge_direction=\"target\",\n",
    "                    restr_key=None, restr_value=None\n",
    "                    )\n",
    "\n",
    "elif list(c.is_a):\n",
    "    for child in c.is_a:\n",
    "        parse_logic(child, root_node,\n",
    "                    edge=\"is_a\", edge_direction=\"target\",\n",
    "                    restr_key=None, restr_value=None\n",
    "                    )\n",
    "\n",
    "else:\n",
    "    print(f\"{c} does not have equivalent_to or is_a properties.\")"
   ]
  },
  {
   "cell_type": "code",
   "execution_count": 7,
   "id": "3976f8a7-2afd-46a7-8943-bb19fccb4723",
   "metadata": {},
   "outputs": [
    {
     "data": {
      "text/plain": [
       "[{'node': <onto_classes.TransitionNode at 0x116191570>,\n",
       "  'direction': 'target',\n",
       "  'rel_type': 'equivalent_to',\n",
       "  'rel_label': '',\n",
       "  'restriction': None,\n",
       "  'restriction_value': None}]"
      ]
     },
     "execution_count": 7,
     "metadata": {},
     "output_type": "execute_result"
    }
   ],
   "source": [
    "g.root.children"
   ]
  },
  {
   "cell_type": "code",
   "execution_count": 8,
   "id": "560c90a6-8bb8-4f16-a8d9-c6a3aad18e6a",
   "metadata": {},
   "outputs": [
    {
     "data": {
      "text/plain": [
       "[{'node': <onto_classes.EntityNode at 0x1161926b0>,\n",
       "  'direction': 'source',\n",
       "  'rel_type': 'member_of',\n",
       "  'rel_label': '',\n",
       "  'restriction': None,\n",
       "  'restriction_value': None},\n",
       " {'node': <onto_classes.TransitionNode at 0x1088514b0>,\n",
       "  'direction': 'source',\n",
       "  'rel_type': 'member_of',\n",
       "  'rel_label': '',\n",
       "  'restriction': None,\n",
       "  'restriction_value': None}]"
      ]
     },
     "execution_count": 8,
     "metadata": {},
     "output_type": "execute_result"
    }
   ],
   "source": [
    "root_node.children[0][\"node\"].children"
   ]
  },
  {
   "cell_type": "code",
   "execution_count": 9,
   "id": "d2ebab04-0799-4e11-aa2e-c38a9caa10eb",
   "metadata": {},
   "outputs": [],
   "source": [
    "def export_traverse(node, parent_id=None):\n",
    "    match node:\n",
    "        case Graph():\n",
    "            # initialize recursion\n",
    "            # node_children = node.root.children\n",
    "            \n",
    "            print(node.root.id)\n",
    "            print(create_node_row(node.root))\n",
    "            node = node.root\n",
    "            print('------------')\n",
    "            \n",
    "            \n",
    "            # write out edges and parent node\n",
    "            # TODO\n",
    "        case EntityNode():\n",
    "             # node_children = node.children\n",
    "            pass\n",
    "        case TransitionNode():\n",
    "            # node_children = node.children\n",
    "            # if transitionNode has no children -> return and do not write empty node\n",
    "            if len(node.children) == 0:\n",
    "                return\n",
    "            \n",
    "            \n",
    "    for n in node.children:\n",
    "        print(n['node'].id)\n",
    "        print(create_node_row(n['node']))\n",
    "        print(create_edge_row(node, n))\n",
    "        print('vvvvvvvvvvvvv')\n",
    "        export_traverse(n['node'])\n",
    "        \n",
    "        # write out edges\n",
    "        #TODO\n",
    "            \n",
    "def create_node_row(n):\n",
    "    # node_id:ID,label:string[],iri,:LABEL\n",
    "    return [n.id, n.label, n.iri, n.neo_type]\n",
    "\n",
    "def create_edge_row(parent_n, child_n):\n",
    "    # :START_ID,:END_ID,:TYPE,restriction,restriction_value,label\n",
    "    if child_n[\"direction\"] == \"target\":\n",
    "        return [parent_n.id, child_n[\"node\"].id, child_n[\"rel_type\"], \n",
    "                child_n['restriction'], child_n['restriction_value'],\n",
    "                child_n['rel_label'],\n",
    "               ]\n",
    "    else:\n",
    "        return [child_n[\"node\"].id, parent_n.id, child_n[\"rel_type\"], \n",
    "                child_n['restriction'], child_n['restriction_value'],\n",
    "                child_n['rel_label'],\n",
    "               ]\n",
    "    "
   ]
  },
  {
   "cell_type": "code",
   "execution_count": 12,
   "id": "b54721be-2944-4bf9-bcd7-c3befbd01c72",
   "metadata": {},
   "outputs": [
    {
     "name": "stdout",
     "output_type": "stream",
     "text": [
      "obo.FOODON_00002403\n",
      "['obo.FOODON_00002403', 'food material', 'http://purl.obolibrary.org/obo/FOODON_00002403', 'Concept']\n",
      "------------\n",
      "AND_obo.ENVO_00010483 & obo.RO_0000087.some(obo.CHEBI_33290)\n",
      "['AND_obo.ENVO_00010483 & obo.RO_0000087.some(obo.CHEBI_33290)', None, None, 'AND']\n",
      "['obo.FOODON_00002403', 'AND_obo.ENVO_00010483 & obo.RO_0000087.some(obo.CHEBI_33290)', 'equivalent_to', None, None, '']\n",
      "vvvvvvvvvvvvv\n",
      "2\n",
      "obo.ENVO_00010483\n",
      "['obo.ENVO_00010483', 'environmental material', 'http://purl.obolibrary.org/obo/ENVO_00010483', 'Concept']\n",
      "['obo.ENVO_00010483', 'AND_obo.ENVO_00010483 & obo.RO_0000087.some(obo.CHEBI_33290)', 'member_of', None, None, '']\n",
      "vvvvvvvvvvvvv\n",
      "BLANK_obo.RO_0000087.some(obo.CHEBI_33290)\n",
      "['BLANK_obo.RO_0000087.some(obo.CHEBI_33290)', None, None, 'BLANK']\n",
      "['BLANK_obo.RO_0000087.some(obo.CHEBI_33290)', 'AND_obo.ENVO_00010483 & obo.RO_0000087.some(obo.CHEBI_33290)', 'member_of', None, None, '']\n",
      "vvvvvvvvvvvvv\n",
      "1\n",
      "obo.CHEBI_33290\n",
      "['obo.CHEBI_33290', 'food', 'http://purl.obolibrary.org/obo/CHEBI_33290', 'Concept']\n",
      "['BLANK_obo.RO_0000087.some(obo.CHEBI_33290)', 'obo.CHEBI_33290', obo.RO_0000087, 'SOME', None, 'has role']\n",
      "vvvvvvvvvvvvv\n"
     ]
    }
   ],
   "source": [
    "export_traverse(g)"
   ]
  },
  {
   "cell_type": "code",
   "execution_count": 13,
   "id": "da6f3fae-d27d-4b1b-bf8f-9f8650baf64e",
   "metadata": {},
   "outputs": [
    {
     "data": {
      "text/plain": [
       "{'node': <onto_classes.TransitionNode at 0x1157d6ec0>,\n",
       " 'direction': 'target',\n",
       " 'rel_type': 'equivalent_to',\n",
       " 'restriction': None,\n",
       " 'restriction_value': None}"
      ]
     },
     "execution_count": 13,
     "metadata": {},
     "output_type": "execute_result"
    }
   ],
   "source": [
    "type(g)\n",
    "g.root.children[0]"
   ]
  },
  {
   "cell_type": "code",
   "execution_count": 28,
   "id": "5e0d6810-cbc9-4495-ad0d-a954092422a4",
   "metadata": {},
   "outputs": [
    {
     "name": "stdout",
     "output_type": "stream",
     "text": [
      ":)\n"
     ]
    }
   ],
   "source": [
    "match g:\n",
    "    case Graph():\n",
    "        print(\":)\")\n",
    "    case _:\n",
    "        print(\":(\")"
   ]
  },
  {
   "cell_type": "code",
   "execution_count": 10,
   "id": "733e82f8-d248-4d65-93d7-a898cb5fe813",
   "metadata": {},
   "outputs": [
    {
     "name": "stdout",
     "output_type": "stream",
     "text": [
      "owl.Thing does not have equivalent_to or is_a properties.\n"
     ]
    },
    {
     "name": "stderr",
     "output_type": "stream",
     "text": [
      "* Owlready2 * Warning: ignoring cyclic subclass of/subproperty of, involving:\n",
      "  http://purl.obolibrary.org/obo/FOODON_00002511\n",
      "\n",
      "* Owlready2 * Warning: ignoring cyclic subclass of/subproperty of, involving:\n",
      "  http://purl.obolibrary.org/obo/FOODON_03315876\n",
      "\n"
     ]
    },
    {
     "data": {
      "text/plain": [
       "<onto_classes.Graph at 0x11790f2e0>"
      ]
     },
     "execution_count": 10,
     "metadata": {},
     "output_type": "execute_result"
    }
   ],
   "source": [
    "create_graph(onto)"
   ]
  },
  {
   "cell_type": "code",
   "execution_count": null,
   "id": "7cc07b0e-a35f-4eb5-b0a0-08cb42377d90",
   "metadata": {},
   "outputs": [],
   "source": [
    "'''\n",
    "Still need to add annotations\n",
    "\n",
    "Now that graph is successfully created!\n",
    "Write function to navigate through graph\n",
    "    Need to check set of nodes before writing to node file!\n",
    "        Can be harsh with transition nodes and throw an error if not unique?\n",
    "\n",
    "\n",
    "\n",
    "    start at root and go through all children\n",
    "    IF type is TRANSITIONNODE WITH NO CHILDREN\n",
    "        prune\n",
    "        remove node from transition list\n",
    "    ELSE\n",
    "        Check to see if ENTITYNODE is in set\n",
    "        Write node row csv out\n",
    "        Write rel row csv out\n",
    "'''"
   ]
  },
  {
   "cell_type": "code",
   "execution_count": null,
   "id": "eb222dcd-890f-4b8f-b43e-45da9256e3bc",
   "metadata": {},
   "outputs": [],
   "source": [
    "raise NotImplementedError"
   ]
  },
  {
   "cell_type": "code",
   "execution_count": 8,
   "id": "ffa5b2e6-16dd-495c-bbe6-ffeb46884efb",
   "metadata": {},
   "outputs": [
    {
     "data": {
      "text/plain": [
       "obo.ENVO_00010483 & obo.RO_0000087.some(obo.CHEBI_33290)"
      ]
     },
     "execution_count": 8,
     "metadata": {},
     "output_type": "execute_result"
    }
   ],
   "source": [
    "c.equivalent_to[0]"
   ]
  },
  {
   "cell_type": "code",
   "execution_count": 6,
   "id": "eb5428fc-1002-4fd7-b15a-71aa7b1c83f8",
   "metadata": {},
   "outputs": [],
   "source": [
    "# create tree for food material\n",
    "graph = EntityNode(c, \"Concept\")\n",
    "\n",
    "# create AND node\n",
    "and_trans_node = TransitionNode(\"and_0001\", \"AND\")\n",
    "\n",
    "# Add AND node to graph\n",
    "graph.add_child(and_trans_node, direction=\"source\", rel_type=\"equivalent_to\")\n",
    "\n",
    "# Add links to AND\n",
    "envo_node = EntityNode(c.equivalent_to[0].is_a[0], \"Concept\") # obo.ENVO_00010483 -> No children\n",
    "and_trans_node.add_child(envo_node, direction=\"source\", rel_type=\"member_of\")\n",
    "\n",
    "# Add BLANK node\n",
    "blank_trans_node = TransitionNode(\"BLANK_0001\", \"BLANK\")\n",
    "\n",
    "# Connect blank node to AND\n",
    "and_trans_node.add_child(blank_trans_node, direction=\"target\", rel_type=\"member_of\")\n",
    "\n",
    "# Create entity node and connect with blank node\n",
    "restriction = c.equivalent_to[0].is_a[1]\n",
    "chebi_node = EntityNode(restriction.value, \"Concept\") # obo.ENVO_00010483 -> No children\n",
    "blank_trans_node.add_child(envo_node, direction=\"source\", rel_type=restriction.property)"
   ]
  },
  {
   "cell_type": "code",
   "execution_count": null,
   "id": "f643655c-91d9-4502-843c-29fe11c5abbd",
   "metadata": {},
   "outputs": [],
   "source": [
    "'''\n",
    "What we really want:\n",
    "class Graph\n",
    "    root: starting node\n",
    "    entity: list\n",
    "    transition: list\n",
    "    \n",
    "functions: export, prune, func to verify nodes not already in list\n",
    "2 graphs:\n",
    "    Main graph with complete node list\n",
    "    Sub graph: each pattern\n",
    "    \n",
    "Other classes:\n",
    "    set_children\n",
    "        Entity -> check if equivalent_to or is_a is valid list\n",
    "                  the launch point into creating graph\n",
    "        Transition -> match on property type (AND, OR, NOT, etc)\n",
    "                      Unwrap and add nodes + children as appropriate\n",
    "        \n",
    "    get_children: retrieve children of node\n",
    "    \n",
    "    add_node: Add checks for both entity and transition\n",
    "        Transition -> Modify __init__ call to take one of those types and create node\n",
    "    \n",
    "\n",
    "\n",
    "'''\n",
    "'''\n",
    "trace: trace tree and name nodes\n",
    "    No longer needed since transition nodes can take full name of their description\n",
    "\n",
    "prune: verify all transition nodes have children\n",
    "    Def needed to verify integrity of tree due to bad nodes\n",
    "    \n",
    "write: write tree out to node and rel csv files\n",
    "    Still need to add annotations to EntityNodes\n",
    "'''\n",
    "# def trace(g):\n",
    "    "
   ]
  },
  {
   "cell_type": "code",
   "execution_count": 12,
   "id": "0587b428-8da8-483a-9502-2343722e53b5",
   "metadata": {},
   "outputs": [
    {
     "data": {
      "text/plain": [
       "[{'node': <onto_classes.EntityNode at 0x11f64d4e0>,\n",
       "  'direction': 'source',\n",
       "  'rel_type': 'member_of'},\n",
       " {'node': <onto_classes.TransitionNode at 0x11f64d360>,\n",
       "  'direction': 'target',\n",
       "  'rel_type': 'member_of'}]"
      ]
     },
     "execution_count": 12,
     "metadata": {},
     "output_type": "execute_result"
    }
   ],
   "source": [
    "graph.children[0][\"node\"].children"
   ]
  },
  {
   "cell_type": "code",
   "execution_count": null,
   "id": "2317274c-fe0c-473a-9848-eb860f3c0f37",
   "metadata": {},
   "outputs": [],
   "source": []
  },
  {
   "cell_type": "code",
   "execution_count": null,
   "id": "f51f9b34-5de9-419f-8ef3-e857336685f2",
   "metadata": {},
   "outputs": [],
   "source": []
  },
  {
   "cell_type": "code",
   "execution_count": 9,
   "id": "1bd30a7d-a9e3-4b88-95ea-bba80491a9be",
   "metadata": {},
   "outputs": [
    {
     "data": {
      "text/plain": [
       "obo.RO_0000087.some(obo.CHEBI_33290)"
      ]
     },
     "execution_count": 9,
     "metadata": {},
     "output_type": "execute_result"
    }
   ],
   "source": [
    "c.equivalent_to[0].is_a[1]"
   ]
  },
  {
   "cell_type": "code",
   "execution_count": 10,
   "id": "e31119c5-ca9a-40e4-8d6e-533c912fd5df",
   "metadata": {},
   "outputs": [
    {
     "data": {
      "text/plain": [
       "owlready2.class_construct.Restriction"
      ]
     },
     "execution_count": 10,
     "metadata": {},
     "output_type": "execute_result"
    }
   ],
   "source": [
    "type(c.equivalent_to[0].is_a[1])"
   ]
  },
  {
   "cell_type": "code",
   "execution_count": 13,
   "id": "5af22fff-0a83-45cb-b6fb-27938c1a576f",
   "metadata": {},
   "outputs": [
    {
     "data": {
      "text/plain": [
       "'BLANK_obo.RO_0000087.some(obo.CHEBI_33290)'"
      ]
     },
     "execution_count": 13,
     "metadata": {},
     "output_type": "execute_result"
    }
   ],
   "source": [
    "\"BLANK_\" + str(c.equivalent_to[0].is_a[1])"
   ]
  },
  {
   "cell_type": "code",
   "execution_count": 12,
   "id": "fe62f287-0551-4243-b5e3-bec11db885c2",
   "metadata": {},
   "outputs": [
    {
     "data": {
      "text/plain": [
       "obo.RO_0000087"
      ]
     },
     "execution_count": 12,
     "metadata": {},
     "output_type": "execute_result"
    }
   ],
   "source": [
    "c.equivalent_to[0].is_a[1].property"
   ]
  },
  {
   "cell_type": "code",
   "execution_count": 14,
   "id": "df7bd58e-6eea-4609-ba03-2e4b725d9ba5",
   "metadata": {},
   "outputs": [
    {
     "data": {
      "text/plain": [
       "obo.CHEBI_33290"
      ]
     },
     "execution_count": 14,
     "metadata": {},
     "output_type": "execute_result"
    }
   ],
   "source": [
    "c.equivalent_to[0].is_a[1].value"
   ]
  },
  {
   "cell_type": "code",
   "execution_count": null,
   "id": "85d5c639-1573-4fc9-aed9-09f6cc4a8bfd",
   "metadata": {},
   "outputs": [],
   "source": [
    "# Add transition node\n"
   ]
  },
  {
   "cell_type": "code",
   "execution_count": null,
   "id": "1a4b1f0f-6d34-4270-8150-91a62fb2e964",
   "metadata": {},
   "outputs": [],
   "source": [
    "# class EntityNode:\n",
    "#     # def __init__(self, entity, neo_type, parent=None):\n",
    "#     def __init__(self, entity, neo_type):\n",
    "#         self.id = str(entity)\n",
    "#         self.label = ';'.join(entity.label)\n",
    "#         self.iri = entity.iri\n",
    "#         self.neo_type = neo_type\n",
    "#         self.children = []"
   ]
  },
  {
   "cell_type": "code",
   "execution_count": null,
   "id": "93a6184b-7761-4fce-9d5f-99b7dd5d0d44",
   "metadata": {},
   "outputs": [],
   "source": [
    "# def export_traverse(node):\n",
    "#     match node:\n",
    "#         case Graph():\n",
    "#             # initialize recursion\n",
    "#             node_children = node.root.children\n",
    "#             print(node.root.id)\n",
    "#             print('------------')\n",
    "            \n",
    "#             # write out edges and parent node\n",
    "#             # TODO\n",
    "#         case EntityNode() | TransitionNode():\n",
    "#             node_children = node.children\n",
    "            \n",
    "#     for n in node_children:\n",
    "#         print(n['node'].id)\n",
    "#         print(create_node_row(n['node']))\n",
    "#         print('vvvvvvvvvvvvv')\n",
    "#         export_traverse(n['node'])\n",
    "#         # write out edges\n",
    "#         #TODO\n",
    "        \n",
    "#         # Go through node's children\n",
    "#         # for child in n[\"node\"].children:\n",
    "#         #     print(f\"\\n{child['node'].id}\")\n",
    "#         #     print(create_node_row(child['node']))\n",
    "#         #     print('+++++++++++++++')\n",
    "#         #     export_traverse(child['node'])\n",
    "            \n",
    "# def create_node_row(n):\n",
    "#     # node_id:ID,label:string[],iri,:LABEL\n",
    "#     return [n.id, n.label, n.iri, n.neo_type]"
   ]
  }
 ],
 "metadata": {
  "kernelspec": {
   "display_name": "Python 3 (ipykernel)",
   "language": "python",
   "name": "python3"
  },
  "language_info": {
   "codemirror_mode": {
    "name": "ipython",
    "version": 3
   },
   "file_extension": ".py",
   "mimetype": "text/x-python",
   "name": "python",
   "nbconvert_exporter": "python",
   "pygments_lexer": "ipython3",
   "version": "3.10.9"
  }
 },
 "nbformat": 4,
 "nbformat_minor": 5
}
