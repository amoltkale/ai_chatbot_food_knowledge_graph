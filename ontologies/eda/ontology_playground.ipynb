{
 "cells": [
  {
   "cell_type": "code",
   "execution_count": 1,
   "id": "4fa91809-469d-4320-8d4c-27292b9c1e9d",
   "metadata": {},
   "outputs": [],
   "source": [
    "foodon_parsing = False"
   ]
  },
  {
   "cell_type": "code",
   "execution_count": 2,
   "id": "6cf80b4f-ca0e-4970-8592-110e6390e4e0",
   "metadata": {},
   "outputs": [
    {
     "name": "stderr",
     "output_type": "stream",
     "text": [
      "* Owlready2 * Warning: optimized Cython parser module 'owlready2_optimized' is not available, defaulting to slower Python implementation\n"
     ]
    }
   ],
   "source": [
    "import csv\n",
    "\n",
    "from pathlib import Path\n",
    "\n",
    "from owlready2 import *\n",
    "\n",
    "import pandas as pd"
   ]
  },
  {
   "cell_type": "code",
   "execution_count": 3,
   "id": "c393aa7d-6207-47ca-aeab-8e04572a8f6a",
   "metadata": {},
   "outputs": [],
   "source": [
    "# set up out path\n",
    "data_p = Path(\"../../../data/ontologies\")\n",
    "\n",
    "out_p = data_p / \"out/\"\n",
    "out_p.mkdir(exist_ok=True)"
   ]
  },
  {
   "cell_type": "code",
   "execution_count": 4,
   "id": "076be356-d7f0-4608-826d-8ee61ae7ba41",
   "metadata": {},
   "outputs": [],
   "source": [
    "# set paths\n",
    "ontology_p = \"../../../data/\"\n",
    "err_p = out_p / \"error_log.csv\"\n",
    "\n",
    "if foodon_parsing:\n",
    "    # load foodon ontology\n",
    "    foodon_p   = ontology_p + \"/foodon_filtered.owl\"\n",
    "    onto = get_ontology(foodon_p).load()\n",
    "    node_prefix = \"foodon\"\n",
    "\n",
    "    # create write paths\n",
    "    node_p = out_p / \"nodes.csv\"\n",
    "    rel_p  = out_p / \"rel.csv\"\n",
    "else:\n",
    "    # load upper ontology\n",
    "    # upper_p   = ontology_p + \"/test_nourishUpperOntology.owl\"\n",
    "    upper_p   = ontology_p + \"/nourish-merged-2.owl\"\n",
    "    onto = get_ontology(upper_p).load()\n",
    "    node_prefix = \"upper\"\n",
    "\n",
    "    # create write paths\n",
    "    node_p = out_p / \"merged_nodes.csv\"\n",
    "    rel_p  = out_p / \"merged_rel.csv\""
   ]
  },
  {
   "cell_type": "code",
   "execution_count": 5,
   "id": "a70c9f0d-0865-444d-baa7-bc0a16d33f88",
   "metadata": {},
   "outputs": [],
   "source": [
    "# create node files\n",
    "with open(node_p, 'w') as csvfile:\n",
    "    fieldnames = ['node_id:ID', 'descriptive_label:string[]', 'iri', ':LABEL']\n",
    "    writer = csv.DictWriter(csvfile, fieldnames=fieldnames)\n",
    "\n",
    "    writer.writeheader()\n",
    "\n",
    "\n",
    "with open(rel_p, 'w') as csvfile:\n",
    "    fieldnames = [':START_ID', ':END_ID', ':TYPE', 'restriction', 'restriction_value', 'label']\n",
    "    writer = csv.DictWriter(csvfile, fieldnames=fieldnames)\n",
    "\n",
    "    writer.writeheader()\n",
    "    \n",
    "with open(err_p, 'w') as csvfile:\n",
    "    fieldnames = ['class', 'known', 'unknown', 'type_err', 'iri']\n",
    "    writer = csv.DictWriter(csvfile, fieldnames=fieldnames)\n",
    "\n",
    "    writer.writeheader()"
   ]
  },
  {
   "cell_type": "code",
   "execution_count": 6,
   "id": "75b5a222-2cab-4a50-b05e-21cb1810227b",
   "metadata": {},
   "outputs": [],
   "source": [
    "def create_transitionary_node(node_type, node_counter):\n",
    "    # pass\n",
    "    # AND_00000001\n",
    "    # OR_00000001\n",
    "    # BLANK_00000001\n",
    "    \n",
    "    node = f\"{node_type.upper()}_{node_counter}\"\n",
    "    node_counter = node_counter + 1\n",
    "    return node, node_counter\n",
    "\n",
    "def append_node(node, node_p:Path, *, node_type:str=''):\n",
    "    '''\n",
    "    input:\n",
    "        node:\n",
    "            case 1: owlready2.entity.ThingClass\n",
    "            case 2: Type: str: node = string name\n",
    "        node_p: path to node file to append node to\n",
    "        onto_type: node type for and/or\n",
    "    '''\n",
    "    # construct node row\n",
    "    if isinstance(node, owlready2.entity.ThingClass) or isinstance(node, owlready2.prop.ObjectPropertyClass) \\\n",
    "        | isinstance(node, owl.Thing) | isinstance(node, owl.Nothing):\n",
    "        # ThingClass node\n",
    "        try:\n",
    "            node_label = ';'.join(node.label)\n",
    "        except:\n",
    "            node_label = ''\n",
    "        node_line = [str(node), node_label, str(node.iri), node_type]\n",
    "    elif isinstance(node, str):\n",
    "        # Case: blank, and/or nodes\n",
    "        node_line = [node, '', '', node_type]\n",
    "    else:\n",
    "        raise ValueError\n",
    "    # write node to file\n",
    "    with open(node_p, 'a') as f:\n",
    "        node_writer = csv.writer(f, delimiter=',')\n",
    "        node_writer.writerow(node_line)\n",
    "        \n",
    "def append_relation(source_id:str, target_id:str,\n",
    "                    edge_type:str, restriction, restriction_val):\n",
    "    try:\n",
    "        edge_label = ';'.join(edge_type.label)\n",
    "    except:\n",
    "        edge_label = ''\n",
    "        \n",
    "    # construct relation row\n",
    "    rel_line = [source_id, target_id, edge_type, restriction, restriction_val, edge_label]\n",
    "    # write to file\n",
    "    with open(rel_p, 'a') as f:\n",
    "        rel_writer = csv.writer(f, delimiter=',')\n",
    "        rel_writer.writerow(rel_line)\n",
    "\n",
    "def get_details_of_restriction(res):\n",
    "    return res.property,res.type,res.value"
   ]
  },
  {
   "cell_type": "code",
   "execution_count": 7,
   "id": "2a22e710-a699-484d-9cd2-ec3eba06cbe1",
   "metadata": {},
   "outputs": [],
   "source": [
    "def parse_logic(unknown_node, known_node, edge_type, restriction_type, restriction_value,\n",
    "                and_count, or_count, blank_count, not_count, oo_count, node_prefix, premature_nodes):\n",
    "    match unknown_node:\n",
    "        case owlready2.entity.ThingClass():\n",
    "            # case: stop rule\n",
    "            if unknown_node.name == \"Thing\":\n",
    "                append_node(unknown_node,node_p,node_type=\"Thing\")\n",
    "            elif unknown_node.name == \"Nothing\":\n",
    "                append_node(unknown_node,node_p,node_type=\"Nothing\")\n",
    "            else:\n",
    "                append_node(unknown_node,node_p,node_type=\"Concept\")\n",
    "\n",
    "            # append_node(unknown_node,node_p,node_type=\"Concept\")\n",
    "            if isinstance(known_node, str) and (\"AND\" in known_node or \"OR\" in known_node):\n",
    "                # AND/OR nodes are the targets of classes in conjunctons\n",
    "                append_relation(unknown_node, known_node, edge_type, restriction_type, restriction_value)\n",
    "            else:\n",
    "                append_relation(known_node, unknown_node, edge_type, restriction_type, restriction_value)\n",
    "            if isinstance(known_node, str) and (\"AND\" in known_node or \"OR\" in known_node):\n",
    "                # AND/OR nodes are the targets of classes in conjunctons\n",
    "                append_relation(unknown_node, known_node, edge_type, restriction_type, restriction_value)\n",
    "            else:\n",
    "                append_relation(known_node, unknown_node, edge_type, restriction_type, restriction_value)\n",
    "        \n",
    "        case owlready2.prop.ObjectPropertyClass():\n",
    "            append_node(unknown_node,node_p,node_type=\"Property\")\n",
    "            if isinstance(known_node, str) and (\"AND\" in known_node or \"OR\" in known_node):\n",
    "                # AND/OR nodes are the targets of classes in conjunctons\n",
    "                append_relation(known_node, unknown_node, edge_type, restriction_type, restriction_value)\n",
    "            else:\n",
    "                append_relation(unknown_node, known_node, edge_type, restriction_type, restriction_value)\n",
    "\n",
    "        case owlready2.class_construct.And():\n",
    "            ## AND Node creation\n",
    "            and_node, and_count = create_transitionary_node(f'{node_prefix}_AND',and_count)\n",
    "            append_node(and_node,node_p,node_type='AND')\n",
    "            # made edge between AND and known\n",
    "            append_relation(known_node, and_node, edge_type, restriction_type, restriction_value)\n",
    "            \n",
    "            # Iterate through AND list\n",
    "            for connected_node in unknown_node.is_a:\n",
    "                # make recursion call on connected node\n",
    "                and_count, or_count, blank_count, not_count, oo_count, premature_nodes = parse_logic(connected_node, and_node, \"member_of\",\n",
    "                    restriction_type, restriction_value, and_count, or_count, blank_count, not_count, oo_count, node_prefix, premature_nodes)\n",
    "                \n",
    "        case owlready2.class_construct.Or():\n",
    "            ## AND Node creation\n",
    "            or_node, or_count = create_transitionary_node(f'{node_prefix}_OR', or_count)\n",
    "            append_node(or_node,node_p,node_type='OR')\n",
    "            # made edge between OR and known\n",
    "            append_relation(known_node, or_node, edge_type, restriction_type, restriction_value)\n",
    "            \n",
    "            # Iterate through OR list\n",
    "            for connected_node in unknown_node.Classes:\n",
    "                # make recursion call on connected node\n",
    "                and_count, or_count, blank_count, not_count, oo_count, premature_nodes = parse_logic(connected_node, or_node, \"member_of\",\n",
    "                    restriction_type, restriction_value, and_count, or_count, blank_count, not_count, oo_count, node_prefix, premature_nodes)\n",
    "\n",
    "        case owlready2.class_construct.Restriction():\n",
    "            ## BLANK Node Creatiom\n",
    "            blank_node, blank_count = create_transitionary_node(f'{node_prefix}_BLANK', blank_count)\n",
    "            append_node(blank_node, node_p, node_type='BLANK')\n",
    "            # make edge between known and blank\n",
    "            append_relation(blank_node, known_node, edge_type, restriction_type, restriction_value)\n",
    "            \n",
    "            # Get values out of restriction\n",
    "            edge_label, restriction, new_unknown_type = get_details_of_restriction(unknown_node)\n",
    "            restr_value = \"\"\n",
    "            match restriction:\n",
    "                case 24: # SOME\n",
    "                    restriction_name = \"SOME\"\n",
    "                case 25: # ONLY\n",
    "                    restriction_name = \"ONLY\"\n",
    "                case 26: # EXACTLY\n",
    "                    restriction_name = \"EXACTLY\"\n",
    "                    restr_value = unknown_node.cardinality\n",
    "                case 27: # MIN\n",
    "                    restriction_name = \"MIN\"\n",
    "                    restr_value = unknown_node.cardinality\n",
    "                case 28:\n",
    "                    restriction_name = \"MAX\"\n",
    "                    restr_value = unknown_node.cardinality\n",
    "                case 29:\n",
    "                    restriction_name = \"VALUE\"\n",
    "                    restr_value = unknown_node.cardinality\n",
    "                case _:\n",
    "                    print(restriction)\n",
    "                    print(unknown_node)\n",
    "                    raise NotImplementedError\n",
    "            \n",
    "            assert isinstance(edge_label, owlready2.prop.ObjectPropertyClass) or \\\n",
    "                    isinstance(edge_label, owlready2.prop.DataPropertyClass), f\"{edge_label} {type(edge_label)}\"\n",
    "            and_count, or_count, blank_count, not_count, oo_count, premature_nodes = parse_logic(new_unknown_type, blank_node, edge_label,\n",
    "                restriction_name, restr_value, and_count, or_count, blank_count, not_count, oo_count, node_prefix, premature_nodes)\n",
    "            \n",
    "        case owlready2.class_construct.Not():\n",
    "            ## Not Node Creatiom\n",
    "            not_node, not_count = create_transitionary_node(f'{node_prefix}_NOT', not_count)\n",
    "            append_node(not_node, node_p, node_type='NOT')\n",
    "            # make edge between known and blank\n",
    "            append_relation(not_node, known_node, edge_type, restriction_type, restriction_value)\n",
    "            \n",
    "            # Get values out of restriction\n",
    "            and_count, or_count, blank_count, not_count, oo_count, premature_nodes = parse_logic(unknown_node.Class, not_node, \"member_of\",\n",
    "                restriction_type, restriction_value, and_count, or_count, blank_count, not_count, oo_count, node_prefix, premature_nodes)\n",
    "            \n",
    "        case owlready2.class_construct.OneOf():\n",
    "            ## OneOf Node creation\n",
    "            oo_node, oo_count = create_transitionary_node(f'{node_prefix}_OneOf', oo_count)\n",
    "            append_node(oo_node,node_p,node_type='OneOf')\n",
    "            # made edge between OneOf and known\n",
    "            append_relation(known_node, oo_node, edge_type, restriction_type, restriction_value)\n",
    "            \n",
    "            # Iterate through AND list\n",
    "            # print(unknown_node.instances)\n",
    "            for connected_node in unknown_node.instances:\n",
    "                # OneOf instance returns list of instances of type OneOf node\n",
    "                # therefore, we need to temporarily cast connected node to type thing class\n",
    "                # types.new_class(connected_node.name, (Thing,))\n",
    "                \n",
    "                # make recursion call on connected node\n",
    "                and_count, or_count, blank_count, not_count, oo_count, premature_nodes = parse_logic(\n",
    "                    types.new_class(connected_node.name, (Thing,)), oo_node, \n",
    "                    \"member_of\", restriction_type, restriction_value, and_count, or_count, \n",
    "                    blank_count, not_count, oo_count, node_prefix, premature_nodes)\n",
    "        case type() | bool() | None:\n",
    "            # TODO remove previous node if it is blank?\n",
    "            # safer option: store all unsafe connections and go in and check that there are no connections\n",
    "            '''\n",
    "            Tends to come from poorly defined restrictions\n",
    "            Merchant Category Code -[hasMerchantCategoryDescription]->Some(str)\n",
    "            Translation: Merchant category code with a valid category description of str\n",
    "            example class & iri: FunctionalEntities.MerchantCategoryCode, \n",
    "            https://spec.edmcouncil.org/fibo/ontology/BE/FunctionalEntities/FunctionalEntities/MerchantCategoryCode\n",
    "            Under FunctionalEntities.MerchantCategoryCode is_a:\n",
    "            [ClassificationSchemes.IndustrySectorClassifier,\n",
    "             LanguageRepresentation.CodeElement,\n",
    "             CountryRepresentation.classifies.some(FunctionalEntities.Merchant),\n",
    "             Relations.isDefinedIn.exactly(1, FunctionalEntities.MerchantCategoryCodeScheme),\n",
    "             FunctionalEntities.hasMerchantCategoryDescription.some(<class 'str'>),\n",
    "             LanguageRepresentation.hasTag.exactly(1, <class 'str'>)]\n",
    "            '''\n",
    "            premature_nodes.add(known_node)\n",
    "        case owl.Thing():\n",
    "            if unknown_node.name == \"Nothing\":\n",
    "                append_node(unknown_node,node_p,node_type=\"Nothing\")\n",
    "            else:\n",
    "                append_node(unknown_node,node_p,node_type=\"Thing\")\n",
    "        case _:\n",
    "            # print out type\n",
    "            # print(f\"node: {c} Unknown type: {type(unknown_node)} on {c.iri}\")\n",
    "            row = [c, known_node, unknown_node, type(unknown_node), c.iri]\n",
    "            with open(err_p, 'a') as f:\n",
    "                err_writer = csv.writer(f, delimiter=',')\n",
    "                err_writer.writerow(row)\n",
    "            # pass\n",
    "            raise TypeError(f\"Unknown type: {type(unknown_node)}\")\n",
    "    return and_count, or_count, blank_count, not_count, oo_count, premature_nodes"
   ]
  },
  {
   "cell_type": "code",
   "execution_count": 8,
   "id": "b9ad5b6b-c48e-4df9-bc4b-622b43ec07af",
   "metadata": {},
   "outputs": [
    {
     "name": "stdout",
     "output_type": "stream",
     "text": [
      ":(\n"
     ]
    },
    {
     "name": "stderr",
     "output_type": "stream",
     "text": [
      "* Owlready2 * Warning: ignoring cyclic subclass of/subproperty of, involving:\n",
      "  http://purl.obolibrary.org/obo/FOODON_00002511\n",
      "\n",
      "* Owlready2 * Warning: ignoring cyclic subclass of/subproperty of, involving:\n",
      "  http://purl.obolibrary.org/obo/FOODON_03315876\n",
      "\n"
     ]
    }
   ],
   "source": [
    "# main loop\n",
    "# special handle owl.Thing (type: THING) and owl.Nothing (type: NOTHING)\n",
    "and_count = 0\n",
    "or_count = 0\n",
    "blank_count = 0\n",
    "not_count = 0\n",
    "oo_count = 0\n",
    "premature_nodes = set()\n",
    "for c in onto.classes():\n",
    "    # if c.name == \"FOODON_00002396\":\n",
    "    # if c.name == \"FOODON_00002403\":\n",
    "    # if c.name == \"FOODON_00002114\":\n",
    "    #     break\n",
    "    # add class to node file\n",
    "    if c.name == \"Thing\":\n",
    "        append_node(c,node_p,node_type=\"Thing\")\n",
    "    elif c.name == \"Nothing\":\n",
    "        append_node(c,node_p,node_type=\"Nothing\")\n",
    "    else:\n",
    "        append_node(c,node_p,node_type=\"Concept\")\n",
    "\n",
    "    # check if equivalence is not empty\n",
    "    if list(c.equivalent_to):\n",
    "        for sc in c.equivalent_to:\n",
    "            and_count, or_count, blank_count, not_count, oo_count, premature_nodes = parse_logic(\n",
    "                sc, c, \"equivalent_to\", \"\", \"\", and_count, or_count, blank_count, not_count, oo_count, node_prefix, premature_nodes)\n",
    "    elif list(c.is_a):\n",
    "        for sc in c.is_a:\n",
    "            and_count, or_count, blank_count, not_count, oo_count, premature_nodes = parse_logic(\n",
    "                sc, c, \"is_a\", \"\", \"\", and_count, or_count, blank_count, not_count, oo_count, node_prefix, premature_nodes)\n",
    "    else:\n",
    "        print(\":(\")\n",
    "\n",
    "for p in onto.object_properties():\n",
    "    # reverse direction of subproperties\n",
    "    # change edge type to subproperty\n",
    "    # add class to node file\n",
    "    append_node(p,node_p,node_type=\"Property\")\n",
    "\n",
    "    # check if equivalence is not empty\n",
    "    if list(p.subclasses()):\n",
    "        for sp in p.subclasses():\n",
    "            and_count, or_count, blank_count, not_count, oo_count, premature_nodes = parse_logic(\n",
    "                sp, p, \"subproperty_of\", \"\", \"\", and_count, or_count, blank_count, not_count, oo_count, node_prefix, premature_nodes)"
   ]
  },
  {
   "cell_type": "code",
   "execution_count": 9,
   "id": "b84d5517-0e61-482f-ba22-4f9448c1003b",
   "metadata": {},
   "outputs": [
    {
     "name": "stdout",
     "output_type": "stream",
     "text": [
      "(98303, 4)\n"
     ]
    },
    {
     "data": {
      "text/plain": [
       "(49406, 4)"
      ]
     },
     "execution_count": 9,
     "metadata": {},
     "output_type": "execute_result"
    }
   ],
   "source": [
    "node_df = pd.read_csv(node_p)\n",
    "print(node_df.shape)\n",
    "node_df.drop_duplicates(subset='node_id:ID', inplace=True)\n",
    "node_df.to_csv(node_p,index=False)\n",
    "node_df.shape"
   ]
  },
  {
   "cell_type": "code",
   "execution_count": 10,
   "id": "1f3fbb91-eb9e-47e5-b87e-9d72a034a4d2",
   "metadata": {},
   "outputs": [
    {
     "name": "stdout",
     "output_type": "stream",
     "text": [
      "(111759, 6)\n"
     ]
    },
    {
     "data": {
      "text/plain": [
       "(63975, 6)"
      ]
     },
     "execution_count": 10,
     "metadata": {},
     "output_type": "execute_result"
    }
   ],
   "source": [
    "rel_df = pd.read_csv(rel_p)\n",
    "print(rel_df.shape)\n",
    "rel_df.drop_duplicates(inplace=True)\n",
    "rel_df.to_csv(rel_p,index=False)\n",
    "rel_df.shape"
   ]
  },
  {
   "cell_type": "code",
   "execution_count": 11,
   "id": "534988c8-bf25-4492-bbee-674dfb4e1d4d",
   "metadata": {},
   "outputs": [
    {
     "name": "stdout",
     "output_type": "stream",
     "text": [
      "(63916, 6)\n"
     ]
    },
    {
     "data": {
      "text/plain": [
       "(49347, 4)"
      ]
     },
     "execution_count": 11,
     "metadata": {},
     "output_type": "execute_result"
    }
   ],
   "source": [
    "for iffy_n in premature_nodes:\n",
    "    m = rel_df[\":START_ID\"].str.contains(iffy_n) | rel_df[\":END_ID\"].str.contains(iffy_n)\n",
    "    if m.sum() < 2:\n",
    "        rel_df.drop(rel_df[m].index, inplace=True)\n",
    "        n = node_df['node_id:ID'].str.contains(iffy_n)\n",
    "        node_df.drop(node_df[n].index, inplace=True)\n",
    "print(rel_df.shape)\n",
    "node_df.shape"
   ]
  },
  {
   "cell_type": "code",
   "execution_count": 12,
   "id": "adb200b0-f796-4772-924b-a2c8a56549b5",
   "metadata": {},
   "outputs": [],
   "source": [
    "node_df.to_csv(node_p,index=False)\n",
    "rel_df.to_csv(rel_p,index=False)"
   ]
  },
  {
   "cell_type": "code",
   "execution_count": 13,
   "id": "b90f8604-0457-4495-9e76-914547d22d80",
   "metadata": {},
   "outputs": [
    {
     "data": {
      "text/html": [
       "<div>\n",
       "<style scoped>\n",
       "    .dataframe tbody tr th:only-of-type {\n",
       "        vertical-align: middle;\n",
       "    }\n",
       "\n",
       "    .dataframe tbody tr th {\n",
       "        vertical-align: top;\n",
       "    }\n",
       "\n",
       "    .dataframe thead th {\n",
       "        text-align: right;\n",
       "    }\n",
       "</style>\n",
       "<table border=\"1\" class=\"dataframe\">\n",
       "  <thead>\n",
       "    <tr style=\"text-align: right;\">\n",
       "      <th></th>\n",
       "      <th>:START_ID</th>\n",
       "      <th>:END_ID</th>\n",
       "      <th>:TYPE</th>\n",
       "      <th>restriction</th>\n",
       "      <th>restriction_value</th>\n",
       "      <th>label</th>\n",
       "    </tr>\n",
       "  </thead>\n",
       "  <tbody>\n",
       "    <tr>\n",
       "      <th>0</th>\n",
       "      <td>owl.Nothing</td>\n",
       "      <td>owl.Thing</td>\n",
       "      <td>is_a</td>\n",
       "      <td>NaN</td>\n",
       "      <td>NaN</td>\n",
       "      <td>NaN</td>\n",
       "    </tr>\n",
       "    <tr>\n",
       "      <th>2</th>\n",
       "      <td>Thesaurus.C103180</td>\n",
       "      <td>obo.OBI_0000658</td>\n",
       "      <td>is_a</td>\n",
       "      <td>NaN</td>\n",
       "      <td>NaN</td>\n",
       "      <td>NaN</td>\n",
       "    </tr>\n",
       "    <tr>\n",
       "      <th>4</th>\n",
       "      <td>MESH.D000047</td>\n",
       "      <td>DUL.Organization</td>\n",
       "      <td>is_a</td>\n",
       "      <td>NaN</td>\n",
       "      <td>NaN</td>\n",
       "      <td>NaN</td>\n",
       "    </tr>\n",
       "    <tr>\n",
       "      <th>6</th>\n",
       "      <td>MESH.D000073576</td>\n",
       "      <td>DUL.Organization</td>\n",
       "      <td>is_a</td>\n",
       "      <td>NaN</td>\n",
       "      <td>NaN</td>\n",
       "      <td>NaN</td>\n",
       "    </tr>\n",
       "    <tr>\n",
       "      <th>8</th>\n",
       "      <td>MESH.D002608</td>\n",
       "      <td>DUL.Organization</td>\n",
       "      <td>is_a</td>\n",
       "      <td>NaN</td>\n",
       "      <td>NaN</td>\n",
       "      <td>NaN</td>\n",
       "    </tr>\n",
       "    <tr>\n",
       "      <th>...</th>\n",
       "      <td>...</td>\n",
       "      <td>...</td>\n",
       "      <td>...</td>\n",
       "      <td>...</td>\n",
       "      <td>...</td>\n",
       "      <td>...</td>\n",
       "    </tr>\n",
       "    <tr>\n",
       "      <th>111754</th>\n",
       "      <td>Analytics.hasArgument</td>\n",
       "      <td>LanguageRepresentation.has</td>\n",
       "      <td>subproperty_of</td>\n",
       "      <td>NaN</td>\n",
       "      <td>NaN</td>\n",
       "      <td>NaN</td>\n",
       "    </tr>\n",
       "    <tr>\n",
       "      <th>111755</th>\n",
       "      <td>Analytics.hasExpression</td>\n",
       "      <td>LanguageRepresentation.has</td>\n",
       "      <td>subproperty_of</td>\n",
       "      <td>NaN</td>\n",
       "      <td>NaN</td>\n",
       "      <td>NaN</td>\n",
       "    </tr>\n",
       "    <tr>\n",
       "      <th>111756</th>\n",
       "      <td>Analytics.hasFormula</td>\n",
       "      <td>LanguageRepresentation.has</td>\n",
       "      <td>subproperty_of</td>\n",
       "      <td>NaN</td>\n",
       "      <td>NaN</td>\n",
       "      <td>NaN</td>\n",
       "    </tr>\n",
       "    <tr>\n",
       "      <th>111757</th>\n",
       "      <td>LanguageRepresentation.hasDenotation</td>\n",
       "      <td>LanguageRepresentation.has</td>\n",
       "      <td>subproperty_of</td>\n",
       "      <td>NaN</td>\n",
       "      <td>NaN</td>\n",
       "      <td>NaN</td>\n",
       "    </tr>\n",
       "    <tr>\n",
       "      <th>111758</th>\n",
       "      <td>LanguageRepresentation.hasEarlierForm</td>\n",
       "      <td>LanguageRepresentation.has</td>\n",
       "      <td>subproperty_of</td>\n",
       "      <td>NaN</td>\n",
       "      <td>NaN</td>\n",
       "      <td>NaN</td>\n",
       "    </tr>\n",
       "  </tbody>\n",
       "</table>\n",
       "<p>63916 rows × 6 columns</p>\n",
       "</div>"
      ],
      "text/plain": [
       "                                    :START_ID                     :END_ID  \\\n",
       "0                                 owl.Nothing                   owl.Thing   \n",
       "2                           Thesaurus.C103180             obo.OBI_0000658   \n",
       "4                                MESH.D000047            DUL.Organization   \n",
       "6                             MESH.D000073576            DUL.Organization   \n",
       "8                                MESH.D002608            DUL.Organization   \n",
       "...                                       ...                         ...   \n",
       "111754                  Analytics.hasArgument  LanguageRepresentation.has   \n",
       "111755                Analytics.hasExpression  LanguageRepresentation.has   \n",
       "111756                   Analytics.hasFormula  LanguageRepresentation.has   \n",
       "111757   LanguageRepresentation.hasDenotation  LanguageRepresentation.has   \n",
       "111758  LanguageRepresentation.hasEarlierForm  LanguageRepresentation.has   \n",
       "\n",
       "                 :TYPE restriction  restriction_value label  \n",
       "0                 is_a         NaN                NaN   NaN  \n",
       "2                 is_a         NaN                NaN   NaN  \n",
       "4                 is_a         NaN                NaN   NaN  \n",
       "6                 is_a         NaN                NaN   NaN  \n",
       "8                 is_a         NaN                NaN   NaN  \n",
       "...                ...         ...                ...   ...  \n",
       "111754  subproperty_of         NaN                NaN   NaN  \n",
       "111755  subproperty_of         NaN                NaN   NaN  \n",
       "111756  subproperty_of         NaN                NaN   NaN  \n",
       "111757  subproperty_of         NaN                NaN   NaN  \n",
       "111758  subproperty_of         NaN                NaN   NaN  \n",
       "\n",
       "[63916 rows x 6 columns]"
      ]
     },
     "execution_count": 13,
     "metadata": {},
     "output_type": "execute_result"
    }
   ],
   "source": [
    "rel_df"
   ]
  },
  {
   "cell_type": "code",
   "execution_count": 14,
   "id": "5b703c90-88a9-423c-ab55-25dd6ed67773",
   "metadata": {},
   "outputs": [
    {
     "data": {
      "text/plain": [
       "array([nan, 'SOME', 'ONLY', 'MIN', 'EXACTLY', 'MAX'], dtype=object)"
      ]
     },
     "execution_count": 14,
     "metadata": {},
     "output_type": "execute_result"
    }
   ],
   "source": [
    "rel_df.restriction.unique()"
   ]
  },
  {
   "cell_type": "code",
   "execution_count": 15,
   "id": "2de33d85-b006-4c8b-9d61-e49d84b4536d",
   "metadata": {},
   "outputs": [
    {
     "data": {
      "text/plain": [
       "array([nan,  0.,  1.,  2.,  3.])"
      ]
     },
     "execution_count": 15,
     "metadata": {},
     "output_type": "execute_result"
    }
   ],
   "source": [
    "rel_df.restriction_value.unique()"
   ]
  },
  {
   "cell_type": "markdown",
   "id": "1a63a2ca-a976-4ed7-aa22-e7656653bbf9",
   "metadata": {},
   "source": [
    "# DO NOT PASS"
   ]
  },
  {
   "cell_type": "markdown",
   "id": "d6ef098e-eda1-46a9-afe7-a9bd2c567614",
   "metadata": {},
   "source": [
    "## YE HAVE BEEN WARNED"
   ]
  },
  {
   "cell_type": "markdown",
   "id": "4794b595-ab69-4207-86eb-8a713c453898",
   "metadata": {},
   "source": [
    "### SERIOUSLY DONT DO IT"
   ]
  },
  {
   "cell_type": "markdown",
   "id": "a76db5df-4aac-4ae3-b4e0-aa6a9caa495d",
   "metadata": {},
   "source": [
    "#### I SEE YOU DONT LISTEN, GOOD LUCK BRAVE ADVENTURER"
   ]
  },
  {
   "cell_type": "code",
   "execution_count": 114,
   "id": "ec489a4c-0027-4043-aa22-b819079094dc",
   "metadata": {},
   "outputs": [],
   "source": [
    "for c in onto.classes():\n",
    "    # if c.name == \"FOODON_00002396\":\n",
    "    # if c.name == \"FOODON_03510019\":\n",
    "    # if c.name == \"FOODON_00002403\":\n",
    "    if c.name == \"FOODON_00002114\":\n",
    "        break"
   ]
  },
  {
   "cell_type": "code",
   "execution_count": 115,
   "id": "a8fdd97f-70f7-43f4-88f5-fbbe8c3eb326",
   "metadata": {},
   "outputs": [
    {
     "data": {
      "text/plain": [
       "obo.FOODON_00002114"
      ]
     },
     "execution_count": 115,
     "metadata": {},
     "output_type": "execute_result"
    }
   ],
   "source": [
    "c"
   ]
  },
  {
   "cell_type": "code",
   "execution_count": 118,
   "id": "fb70fc0a-387b-4bb8-a94b-63e06d486df4",
   "metadata": {},
   "outputs": [
    {
     "data": {
      "text/plain": [
       "['pie food product']"
      ]
     },
     "execution_count": 118,
     "metadata": {},
     "output_type": "execute_result"
    }
   ],
   "source": [
    "c.label"
   ]
  },
  {
   "cell_type": "code",
   "execution_count": 110,
   "id": "b93bf0a1-83da-462d-80ac-cf363ee077e9",
   "metadata": {},
   "outputs": [
    {
     "data": {
      "text/plain": [
       "obo.RO_0000087"
      ]
     },
     "execution_count": 110,
     "metadata": {},
     "output_type": "execute_result"
    }
   ],
   "source": [
    "# \"FOODON_00002403\"\n",
    "# test_p = c.equivalent_to[0].is_a[1].property\n",
    "# test_p\n",
    "# test_p.is_functional_for(c)"
   ]
  },
  {
   "cell_type": "code",
   "execution_count": 129,
   "id": "a494777d-04d8-460b-9bdb-781b818c41b3",
   "metadata": {},
   "outputs": [
    {
     "data": {
      "text/plain": [
       "['pie food product']"
      ]
     },
     "execution_count": 129,
     "metadata": {},
     "output_type": "execute_result"
    }
   ],
   "source": [
    "c.label"
   ]
  },
  {
   "cell_type": "code",
   "execution_count": 140,
   "id": "88d4094d-8cd4-40ff-b9c7-9cba470e8a7b",
   "metadata": {},
   "outputs": [
    {
     "name": "stdout",
     "output_type": "stream",
     "text": [
      "['pie food product']\n",
      "HAS ROLE: []\n",
      "INDIRECT HAS ROLE: ['food']\n"
     ]
    }
   ],
   "source": [
    "print(c.label)\n",
    "print(f\"HAS ROLE: {c.RO_0000087}\")\n",
    "print(f\"INDIRECT HAS ROLE: {c.INDIRECT_RO_0000087[0].label}\")"
   ]
  },
  {
   "cell_type": "code",
   "execution_count": 141,
   "id": "5edf22b2-daa0-4faf-b2c7-d2dbe8568625",
   "metadata": {},
   "outputs": [
    {
     "name": "stdout",
     "output_type": "stream",
     "text": [
      "['pie food product']\n",
      "PART OF: []\n",
      "INDIRECT PART OF: [['prepared food product (us cfr)'], ['bakery product (us cfr)'], ['multicomponent meal (us cfr)'], ['vegetable or vegetable product (us cfr)']]\n"
     ]
    }
   ],
   "source": [
    "print(c.label)\n",
    "print(f\"PART OF: {c.BFO_0000050}\")\n",
    "print(f\"INDIRECT PART OF: {[indirect_part_of.label for indirect_part_of in c.INDIRECT_BFO_0000050]}\")"
   ]
  },
  {
   "cell_type": "code",
   "execution_count": 142,
   "id": "69243348-4084-46d9-b7b2-8075c4e1db99",
   "metadata": {},
   "outputs": [
    {
     "name": "stdout",
     "output_type": "stream",
     "text": [
      "['pie food product']\n",
      "HAS PART: [['pie crust'], ['pie filling']]\n",
      "INDIRECT HAS PART: [['pie crust'], ['pie filling']]\n"
     ]
    }
   ],
   "source": [
    "print(c.label)\n",
    "print(f\"HAS PART: {[hp.label for hp in c.BFO_0000051]}\")\n",
    "print(f\"INDIRECT HAS PART: {[hp.label for hp in c.INDIRECT_BFO_0000051]}\")"
   ]
  },
  {
   "cell_type": "code",
   "execution_count": 90,
   "id": "50e93427-226e-44b0-8669-e50eb2927fa5",
   "metadata": {},
   "outputs": [
    {
     "data": {
      "text/plain": [
       "obo.BFO_0000051"
      ]
     },
     "execution_count": 90,
     "metadata": {},
     "output_type": "execute_result"
    }
   ],
   "source": [
    "# c.name == \"FOODON_03510019\"\n",
    "test_p = c.is_a[-1].is_a[0].property\n",
    "test_p"
   ]
  },
  {
   "cell_type": "code",
   "execution_count": 100,
   "id": "3f95be2c-4738-4b44-a691-291a9d813baa",
   "metadata": {},
   "outputs": [
    {
     "data": {
      "text/plain": [
       "False"
      ]
     },
     "execution_count": 100,
     "metadata": {},
     "output_type": "execute_result"
    }
   ],
   "source": [
    "test_p.is_functional_for(c)"
   ]
  },
  {
   "cell_type": "code",
   "execution_count": 93,
   "id": "076519e1-fc0b-4c5c-ba9c-16ab7b81aece",
   "metadata": {},
   "outputs": [],
   "source": [
    "for r in test_p.get_relations():\n",
    "    print(r)"
   ]
  },
  {
   "cell_type": "code",
   "execution_count": 8,
   "id": "d71bc9fa-0eef-4a90-87fc-78edd781af05",
   "metadata": {},
   "outputs": [
    {
     "data": {
      "text/html": [
       "<div>\n",
       "<style scoped>\n",
       "    .dataframe tbody tr th:only-of-type {\n",
       "        vertical-align: middle;\n",
       "    }\n",
       "\n",
       "    .dataframe tbody tr th {\n",
       "        vertical-align: top;\n",
       "    }\n",
       "\n",
       "    .dataframe thead th {\n",
       "        text-align: right;\n",
       "    }\n",
       "</style>\n",
       "<table border=\"1\" class=\"dataframe\">\n",
       "  <thead>\n",
       "    <tr style=\"text-align: right;\">\n",
       "      <th></th>\n",
       "      <th>annotation</th>\n",
       "      <th>descriptive_label</th>\n",
       "    </tr>\n",
       "  </thead>\n",
       "  <tbody>\n",
       "    <tr>\n",
       "      <th>0</th>\n",
       "      <td>22-rdf-syntax-ns.type</td>\n",
       "      <td>[]</td>\n",
       "    </tr>\n",
       "    <tr>\n",
       "      <th>1</th>\n",
       "      <td>owl.qualifiedCardinality</td>\n",
       "      <td>[]</td>\n",
       "    </tr>\n",
       "    <tr>\n",
       "      <th>2</th>\n",
       "      <td>owl.minQualifiedCardinality</td>\n",
       "      <td>[]</td>\n",
       "    </tr>\n",
       "    <tr>\n",
       "      <th>3</th>\n",
       "      <td>rdf-schema.comment</td>\n",
       "      <td>[]</td>\n",
       "    </tr>\n",
       "    <tr>\n",
       "      <th>4</th>\n",
       "      <td>rdf-schema.label</td>\n",
       "      <td>[]</td>\n",
       "    </tr>\n",
       "    <tr>\n",
       "      <th>...</th>\n",
       "      <td>...</td>\n",
       "      <td>...</td>\n",
       "    </tr>\n",
       "    <tr>\n",
       "      <th>223</th>\n",
       "      <td>AnnotationVocabulary.usageNote</td>\n",
       "      <td>[]</td>\n",
       "    </tr>\n",
       "    <tr>\n",
       "      <th>224</th>\n",
       "      <td>AnnotationVocabulary.abbreviation</td>\n",
       "      <td>[abbreviation]</td>\n",
       "    </tr>\n",
       "    <tr>\n",
       "      <th>225</th>\n",
       "      <td>AnnotationVocabulary.acronym</td>\n",
       "      <td>[acronym]</td>\n",
       "    </tr>\n",
       "    <tr>\n",
       "      <th>226</th>\n",
       "      <td>AnnotationVocabulary.logicalDefinition</td>\n",
       "      <td>[logical definition]</td>\n",
       "    </tr>\n",
       "    <tr>\n",
       "      <th>227</th>\n",
       "      <td>AnnotationVocabulary.symbol</td>\n",
       "      <td>[symbol]</td>\n",
       "    </tr>\n",
       "  </tbody>\n",
       "</table>\n",
       "<p>228 rows × 2 columns</p>\n",
       "</div>"
      ],
      "text/plain": [
       "                                 annotation     descriptive_label\n",
       "0                     22-rdf-syntax-ns.type                    []\n",
       "1                  owl.qualifiedCardinality                    []\n",
       "2               owl.minQualifiedCardinality                    []\n",
       "3                        rdf-schema.comment                    []\n",
       "4                          rdf-schema.label                    []\n",
       "..                                      ...                   ...\n",
       "223          AnnotationVocabulary.usageNote                    []\n",
       "224       AnnotationVocabulary.abbreviation        [abbreviation]\n",
       "225            AnnotationVocabulary.acronym             [acronym]\n",
       "226  AnnotationVocabulary.logicalDefinition  [logical definition]\n",
       "227             AnnotationVocabulary.symbol              [symbol]\n",
       "\n",
       "[228 rows x 2 columns]"
      ]
     },
     "execution_count": 8,
     "metadata": {},
     "output_type": "execute_result"
    }
   ],
   "source": [
    "annot_list = [(a, a.label) for a in onto.annotation_properties()]\n",
    "annot_df = pd.DataFrame(annot_list)\n",
    "annot_df.rename(columns={0:\"annotation\", 1:\"descriptive_label\"}, inplace=True)\n",
    "annot_df.to_csv(out_p / \"annot_list.csv\", index=False)\n",
    "annot_df"
   ]
  },
  {
   "cell_type": "code",
   "execution_count": 9,
   "id": "596d5817-b97d-4e5b-b09c-2a13118066c2",
   "metadata": {},
   "outputs": [
    {
     "data": {
      "text/plain": [
       "PosixPath('../../../data/ontologies/out')"
      ]
     },
     "execution_count": 9,
     "metadata": {},
     "output_type": "execute_result"
    }
   ],
   "source": [
    "out_p"
   ]
  },
  {
   "cell_type": "code",
   "execution_count": 10,
   "id": "481a18ea-c431-448c-98cc-4f228c604f0c",
   "metadata": {},
   "outputs": [
    {
     "data": {
      "text/plain": [
       "['cattle as consumer']"
      ]
     },
     "execution_count": 10,
     "metadata": {},
     "output_type": "execute_result"
    }
   ],
   "source": [
    "c.label"
   ]
  },
  {
   "cell_type": "code",
   "execution_count": 11,
   "id": "c9c4abb4-894d-46d7-aad0-7acdf3ee3e5b",
   "metadata": {},
   "outputs": [
    {
     "data": {
      "text/plain": [
       "'http://purl.obolibrary.org/obo/FOODON_03510019'"
      ]
     },
     "execution_count": 11,
     "metadata": {},
     "output_type": "execute_result"
    }
   ],
   "source": [
    "c.iri"
   ]
  },
  {
   "cell_type": "code",
   "execution_count": 12,
   "id": "54b21cc7-843a-4ad9-8bec-930b84f69520",
   "metadata": {},
   "outputs": [
    {
     "data": {
      "text/plain": [
       "['requires discussion']"
      ]
     },
     "execution_count": 12,
     "metadata": {},
     "output_type": "execute_result"
    }
   ],
   "source": [
    "c.IAO_0000114[0].label"
   ]
  },
  {
   "cell_type": "code",
   "execution_count": 13,
   "id": "42c9dfed-bfcb-4162-b3ca-53d4bd9b1d41",
   "metadata": {},
   "outputs": [
    {
     "data": {
      "text/plain": [
       "[]"
      ]
     },
     "execution_count": 13,
     "metadata": {},
     "output_type": "execute_result"
    }
   ],
   "source": [
    "c.synonym"
   ]
  },
  {
   "cell_type": "code",
   "execution_count": 15,
   "id": "a96dd4d8-e036-4467-ab20-6a65582cfd77",
   "metadata": {},
   "outputs": [
    {
     "data": {
      "text/plain": [
       "owlready2.prop.IndividualValueList"
      ]
     },
     "execution_count": 15,
     "metadata": {},
     "output_type": "execute_result"
    }
   ],
   "source": [
    "type(c.comment)"
   ]
  },
  {
   "cell_type": "code",
   "execution_count": 16,
   "id": "e8e94153-3523-41bd-8b4b-8b862a6f9514",
   "metadata": {},
   "outputs": [
    {
     "name": "stdout",
     "output_type": "stream",
     "text": [
      "Name: IAO_0000114 \tannot:rdfs:label: ['has curation status', 'has curation status']\n",
      "\t[obo.IAO_0000428]\n",
      "Name: IAO_0000412 \tannot:rdfs:label: ['imported from']\n",
      "\t['http://langual.org']\n",
      "Name: type \tannot:rdfs:label: []\n",
      "\t[None]\n",
      "Name: hasDbXref \tannot:rdfs:label: ['database_cross_reference']\n",
      "\t['http://www.langual.org/langual_thesaurus.asp?termid=P0019']\n",
      "Name: label \tannot:rdfs:label: []\n",
      "\t['cattle as consumer']\n"
     ]
    }
   ],
   "source": [
    "for class_prop in c.get_class_properties():\n",
    "    match class_prop:\n",
    "        case owlready2.annotation.AnnotationPropertyClass():\n",
    "            print(f\"Name: {class_prop.name} \\tannot:rdfs:label: {class_prop.label}\")\n",
    "            # print(c[class_prop.name])\n",
    "            print(f\"\\t{class_prop.__getitem__(c)}\")\n",
    "        case owlready2.prop.ObjectPropertyClass():\n",
    "            pass\n",
    "        case _:\n",
    "            raise TypeError"
   ]
  },
  {
   "cell_type": "code",
   "execution_count": null,
   "id": "96451909-6f3b-4ba7-a322-02520e62f2b1",
   "metadata": {},
   "outputs": [],
   "source": []
  },
  {
   "cell_type": "code",
   "execution_count": 98,
   "id": "5714ff26-2469-4c36-a116-806174804600",
   "metadata": {},
   "outputs": [],
   "source": [
    "# p_s = {}\n",
    "# for p in onto.object_properties():\n",
    "#     # if p._class_property_type:\n",
    "#     # if p._class_property_some:\n",
    "#     if p.get_relations():\n",
    "#         # print(p.label)\n",
    "#         print(list(p.get_relations()))\n",
    "#         # print(p._class_property_some)\n",
    "#         # print(issubclass_python(p, TransitiveProperty))\n",
    "#         # p_s[p.name] = list(p._class_property_some)\n",
    "#     # break\n",
    "# # p.label\n",
    "# p_s"
   ]
  },
  {
   "cell_type": "code",
   "execution_count": 59,
   "id": "1aa8d41d-b7c4-487f-a8f5-8a6b94a9bb9a",
   "metadata": {},
   "outputs": [
    {
     "data": {
      "text/plain": [
       "[]"
      ]
     },
     "execution_count": 59,
     "metadata": {},
     "output_type": "execute_result"
    }
   ],
   "source": [
    "p_s = {}\n",
    "for p in onto.object_properties():\n",
    "    # if p._class_property_type:\n",
    "    if p.get_property_chain():\n",
    "        p_s[p.name] = list(p.get_property_chain())\n",
    "    # break\n",
    "p.label"
   ]
  },
  {
   "cell_type": "code",
   "execution_count": 73,
   "id": "8845a810-f149-476c-a83e-1b3101424270",
   "metadata": {},
   "outputs": [
    {
     "data": {
      "text/plain": [
       "[]"
      ]
     },
     "execution_count": 73,
     "metadata": {},
     "output_type": "execute_result"
    }
   ],
   "source": [
    "p.get_property_chain()"
   ]
  },
  {
   "cell_type": "code",
   "execution_count": 60,
   "id": "b97c0140-cd87-48e9-8ac0-44d862b6e484",
   "metadata": {},
   "outputs": [
    {
     "data": {
      "text/plain": [
       "{'RO_0002131': [PropertyChain([obo.BFO_0000050, obo.BFO_0000050]),\n",
       "  PropertyChain([obo.BFO_0000051, obo.BFO_0000050]),\n",
       "  PropertyChain([obo.BFO_0000051, obo.RO_0002131]),\n",
       "  PropertyChain([obo.RO_0002131, obo.BFO_0000050])],\n",
       " 'BFO_0000062': [PropertyChain([obo.BFO_0000050, obo.BFO_0000062]),\n",
       "  PropertyChain([obo.RO_0002091, obo.BFO_0000062]),\n",
       "  PropertyChain([obo.RO_0002092, obo.BFO_0000062])],\n",
       " 'RO_0002086': [PropertyChain([obo.RO_0002093, obo.BFO_0000062])],\n",
       " 'BFO_0000063': [PropertyChain([obo.BFO_0000050, obo.BFO_0000063]),\n",
       "  PropertyChain([obo.RO_0002092, obo.BFO_0000063])],\n",
       " 'BFO_0000066': [PropertyChain([obo.BFO_0000050, obo.BFO_0000066]),\n",
       "  PropertyChain([obo.BFO_0000066, obo.BFO_0000050])],\n",
       " 'RO_0000057': [PropertyChain([obo.BFO_0000051, obo.BFO_0000055, obo.RO_0000052]),\n",
       "  PropertyChain([obo.BFO_0000051, obo.RO_0000057])],\n",
       " 'RO_0002314': [PropertyChain([obo.RO_0000052, obo.BFO_0000050]),\n",
       "  PropertyChain([obo.RO_0002314, obo.BFO_0000050])],\n",
       " 'RO_0001025': [PropertyChain([obo.RO_0001025, obo.BFO_0000050])],\n",
       " 'RO_0001018': [PropertyChain([obo.RO_0001025, obo.BFO_0000050])],\n",
       " 'RO_0002170': [PropertyChain([Inverse(obo.RO_0002176), obo.RO_0002176])],\n",
       " 'RO_0002134': [PropertyChain([obo.RO_0002134, obo.BFO_0000050])],\n",
       " 'RO_0002130': [PropertyChain([obo.RO_0002130, obo.BFO_0000050])],\n",
       " 'RO_0002011': [PropertyChain([obo.RO_0002211, obo.RO_0002313])],\n",
       " 'RO_0002211': [PropertyChain([obo.RO_0002211, obo.RO_0002025]),\n",
       "  PropertyChain([obo.RO_0002230, obo.RO_0002211]),\n",
       "  PropertyChain([obo.RO_0002578, obo.RO_0002578])],\n",
       " 'RO_0002233': [PropertyChain([obo.RO_0002224, obo.RO_0002233])],\n",
       " 'RO_0002479': [PropertyChain([obo.BFO_0000051, obo.BFO_0000066])],\n",
       " 'RO_0002087': [PropertyChain([obo.RO_0002224, obo.RO_0002230])],\n",
       " 'RO_0002090': [PropertyChain([obo.RO_0002230, obo.RO_0002224])],\n",
       " 'RO_0002100': [PropertyChain([obo.RO_0002100, obo.BFO_0000050])],\n",
       " 'RO_0002102': [PropertyChain([obo.RO_0002102, obo.BFO_0000050])],\n",
       " 'RO_0002113': [PropertyChain([obo.RO_0002113, obo.BFO_0000050])],\n",
       " 'RO_0002110': [PropertyChain([obo.RO_0002110, obo.BFO_0000050])],\n",
       " 'RO_0002121': [PropertyChain([obo.RO_0002121, obo.BFO_0000050])],\n",
       " 'RO_0002158': [PropertyChain([obo.RO_0002156, obo.RO_0002157])],\n",
       " 'RO_0002162': [PropertyChain([obo.BFO_0000050, obo.RO_0002162]),\n",
       "  PropertyChain([obo.BFO_0000051, obo.RO_0002162]),\n",
       "  PropertyChain([obo.RO_0002202, obo.RO_0002162]),\n",
       "  PropertyChain([obo.RO_0002206, obo.RO_0002162]),\n",
       "  PropertyChain([obo.RO_0002214, obo.RO_0002162]),\n",
       "  PropertyChain([obo.RO_0002215, obo.RO_0002162]),\n",
       "  PropertyChain([obo.RO_0002225, obo.RO_0002162]),\n",
       "  PropertyChain([obo.RO_0002254, obo.RO_0002162]),\n",
       "  PropertyChain([obo.RO_0002295, obo.RO_0002162])],\n",
       " 'RO_0002206': [PropertyChain([obo.RO_0002206, obo.BFO_0000050])],\n",
       " 'RO_0002225': [PropertyChain([obo.RO_0002207, obo.BFO_0000050])],\n",
       " 'RO_0002254': [PropertyChain([obo.BFO_0000051, obo.RO_0002202])],\n",
       " 'RO_0002177': [PropertyChain([obo.RO_0002371, obo.BFO_0000050])],\n",
       " 'RO_0002204': [PropertyChain([obo.RO_0002512, obo.RO_0002510])],\n",
       " 'RO_0002205': [PropertyChain([obo.RO_0002511, obo.RO_0002513])],\n",
       " 'RO_0002444': [PropertyChain([obo.RO_0002462, obo.RO_0002468, Inverse(obo.RO_0002463)])],\n",
       " 'RO_0002212': [PropertyChain([obo.RO_0002230, obo.RO_0002212])],\n",
       " 'RO_0002213': [PropertyChain([obo.RO_0002212, obo.RO_0002212]),\n",
       "  PropertyChain([obo.RO_0002230, obo.RO_0002213])],\n",
       " 'RO_0002216': [PropertyChain([obo.RO_0002215, obo.BFO_0000050])],\n",
       " 'RO_0002226': [PropertyChain([obo.RO_0002207, obo.RO_0001025])],\n",
       " 'RO_0002231': [PropertyChain([obo.RO_0002224, obo.BFO_0000066])],\n",
       " 'RO_0002232': [PropertyChain([obo.RO_0002230, obo.BFO_0000066])],\n",
       " 'RO_0002234': [PropertyChain([obo.RO_0002230, obo.RO_0002234])],\n",
       " 'RO_0002255': [PropertyChain([obo.RO_0002203, obo.BFO_0000050])],\n",
       " 'RO_0002263': [PropertyChain([obo.RO_0002327, obo.RO_0002411])],\n",
       " 'RO_0002264': [PropertyChain([obo.RO_0002327, obo.RO_0002418])],\n",
       " 'RO_0002327': [PropertyChain([obo.RO_0002327, obo.BFO_0000051]),\n",
       "  PropertyChain([obo.RO_0002327, obo.RO_0002017])],\n",
       " 'RO_0002287': [PropertyChain([obo.BFO_0000050, obo.RO_0002210])],\n",
       " 'RO_0002329': [PropertyChain([obo.BFO_0000050, obo.RO_0002215])],\n",
       " 'RO_0002331': [PropertyChain([obo.RO_0002327, obo.BFO_0000050]),\n",
       "  PropertyChain([obo.RO_0002331, obo.BFO_0000050])],\n",
       " 'RO_0002338': [PropertyChain([obo.RO_0002338, obo.BFO_0000050])],\n",
       " 'RO_0002339': [PropertyChain([obo.RO_0002339, obo.BFO_0000050])],\n",
       " 'RO_0002379': [PropertyChain([obo.RO_0001025, Inverse(obo.RO_0001025)])],\n",
       " 'RO_0002380': [PropertyChain([obo.RO_0002377, obo.RO_0002381])],\n",
       " 'RO_0002400': [PropertyChain([obo.RO_0002224, obo.RO_0002400])],\n",
       " 'RO_0002403': [PropertyChain([obo.RO_0002411, obo.RO_0002402])],\n",
       " 'RO_0002407': [PropertyChain([obo.RO_0002407, obo.RO_0002629]),\n",
       "  PropertyChain([obo.RO_0002409, obo.RO_0002409]),\n",
       "  PropertyChain([obo.RO_0002629, obo.RO_0002407]),\n",
       "  PropertyChain([obo.RO_0002629, obo.RO_0002629])],\n",
       " 'RO_0002409': [PropertyChain([obo.RO_0002409, obo.RO_0002630]),\n",
       "  PropertyChain([obo.RO_0002630, obo.RO_0002409]),\n",
       "  PropertyChain([obo.RO_0002630, obo.RO_0002630])],\n",
       " 'RO_0002413': [PropertyChain([obo.RO_0002402, obo.RO_0002400])],\n",
       " 'RO_0002428': [PropertyChain([obo.RO_0002327, obo.RO_0002211]),\n",
       "  PropertyChain([obo.RO_0002331, obo.RO_0002211])],\n",
       " 'RO_0002429': [PropertyChain([obo.RO_0002327, obo.RO_0002213]),\n",
       "  PropertyChain([obo.RO_0002331, obo.RO_0002213])],\n",
       " 'RO_0002430': [PropertyChain([obo.RO_0002327, obo.RO_0002212]),\n",
       "  PropertyChain([obo.RO_0002331, obo.RO_0002212])],\n",
       " 'RO_0002432': [PropertyChain([obo.RO_0002327, obo.BFO_0000066])],\n",
       " 'RO_0002440': [PropertyChain([obo.RO_0002461, obo.RO_0002465, Inverse(obo.RO_0002461)])],\n",
       " 'RO_0002441': [PropertyChain([obo.RO_0002461, obo.RO_0002466, Inverse(obo.RO_0002461)])],\n",
       " 'RO_0002442': [PropertyChain([obo.RO_0002461, obo.RO_0002467, Inverse(obo.RO_0002461)])],\n",
       " 'RO_0002443': [PropertyChain([obo.RO_0002461, obo.RO_0002468, Inverse(obo.RO_0002461)])],\n",
       " 'RO_0002447': [PropertyChain([obo.RO_0002215, obo.RO_0002481, obo.RO_0002400])],\n",
       " 'RO_0002448': [PropertyChain([obo.RO_0002327, obo.RO_0002211, obo.RO_0002333])],\n",
       " 'RO_0002449': [PropertyChain([obo.RO_0002327, obo.RO_0002630, obo.RO_0002333])],\n",
       " 'RO_0002450': [PropertyChain([obo.RO_0002327, obo.RO_0002629, obo.RO_0002333])],\n",
       " 'RO_0002480': [PropertyChain([obo.RO_0002215, obo.RO_0002482, obo.RO_0002400])],\n",
       " 'RO_0002488': [PropertyChain([obo.RO_0002488, obo.BFO_0000050]),\n",
       "  PropertyChain([obo.RO_0002583, obo.BFO_0000050])],\n",
       " 'RO_0002496': [PropertyChain([obo.BFO_0000050, obo.RO_0002496]),\n",
       "  PropertyChain([obo.RO_0002258, obo.RO_0002496]),\n",
       "  PropertyChain([obo.RO_0002496, obo.BFO_0000050]),\n",
       "  PropertyChain([obo.RO_0002496, obo.BFO_0000062]),\n",
       "  PropertyChain([obo.RO_0002496, obo.RO_0002082]),\n",
       "  PropertyChain([obo.RO_0002583, obo.BFO_0000062, Inverse(obo.RO_0002583)])],\n",
       " 'RO_0002492': [PropertyChain([obo.RO_0002492, obo.BFO_0000050]),\n",
       "  PropertyChain([obo.RO_0002593, obo.BFO_0000050])],\n",
       " 'RO_0002497': [PropertyChain([obo.BFO_0000050, obo.RO_0002497]),\n",
       "  PropertyChain([obo.RO_0002286, obo.RO_0002497]),\n",
       "  PropertyChain([obo.RO_0002497, obo.BFO_0000050]),\n",
       "  PropertyChain([obo.RO_0002497, obo.BFO_0000063]),\n",
       "  PropertyChain([obo.RO_0002497, obo.RO_0002082]),\n",
       "  PropertyChain([obo.RO_0002593, obo.BFO_0000063, Inverse(obo.RO_0002593)])],\n",
       " 'RO_0002509': [PropertyChain([obo.RO_0002507, obo.BFO_0000050])],\n",
       " 'RO_0002566': [PropertyChain([obo.RO_0002327, obo.RO_0002411, obo.RO_0002233]),\n",
       "  PropertyChain([obo.RO_0002327, obo.RO_0002411, obo.RO_0002333])],\n",
       " 'RO_0002526': [PropertyChain([obo.RO_0002524, obo.RO_0002525])],\n",
       " 'RO_0002553': [PropertyChain([obo.RO_0002444, obo.RO_0002444])],\n",
       " 'RO_0002554': [PropertyChain([obo.RO_0002445, obo.RO_0002445])],\n",
       " 'RO_0002584': [PropertyChain([obo.BFO_0000051, obo.RO_0002215])],\n",
       " 'RO_0002596': [PropertyChain([obo.RO_0002215, obo.RO_0002211])],\n",
       " 'RO_0002597': [PropertyChain([obo.RO_0002215, obo.RO_0002212])],\n",
       " 'RO_0002598': [PropertyChain([obo.RO_0002215, obo.RO_0002213])],\n",
       " 'RO_0003000': [PropertyChain([Inverse(obo.BFO_0000066), obo.RO_0002234])],\n",
       " 'RO_0004024': [PropertyChain([obo.RO_0004024, obo.BFO_0000050]),\n",
       "  PropertyChain([obo.RO_0004025, obo.RO_0002215])],\n",
       " 'RO_0004025': [PropertyChain([obo.RO_0004025, obo.BFO_0000050])],\n",
       " 'RO_0004028': [PropertyChain([obo.RO_0009501, obo.RO_0002233])],\n",
       " 'RO_0009501': [PropertyChain([obo.BFO_0000054, obo.RO_0002404])],\n",
       " 'RO_0004031': [PropertyChain([obo.RO_0002327, obo.BFO_0000051])],\n",
       " 'RO_0004032': [PropertyChain([obo.RO_0002327, obo.RO_0004047])],\n",
       " 'RO_0004033': [PropertyChain([obo.RO_0002327, obo.RO_0004046])],\n",
       " 'RO_0004034': [PropertyChain([obo.RO_0002327, obo.RO_0002304])],\n",
       " 'RO_0004035': [PropertyChain([obo.RO_0002327, obo.RO_0002305])],\n",
       " 'RO_0010001': [PropertyChain([obo.RO_0000052, obo.RO_0000058])],\n",
       " 'RO_0010002': [PropertyChain([obo.RO_0000059, obo.RO_0000053])],\n",
       " 'RO_0013001': [PropertyChain([obo.RO_0013001, obo.BFO_0000050])],\n",
       " 'RO_0013002': [PropertyChain([obo.RO_0013002, obo.BFO_0000050])],\n",
       " 'RO_0013003': [PropertyChain([obo.RO_0013003, obo.BFO_0000050])],\n",
       " 'RO_0013007': [PropertyChain([obo.RO_0013007, obo.BFO_0000050])],\n",
       " 'RO_0015001': [PropertyChain([obo.RO_0015001, obo.RO_0015003])],\n",
       " 'RO_0017001': [PropertyChain([obo.RO_0002215, obo.RO_0002233])],\n",
       " 'RO_0018002': [PropertyChain([obo.RO_0002215, obo.RO_0018001, obo.RO_0002400])],\n",
       " 'RO_0019000': [PropertyChain([obo.RO_0002211, obo.RO_0019000])],\n",
       " 'RO_0019001': [PropertyChain([obo.RO_0002213, obo.RO_0019001])],\n",
       " 'RO_0019002': [PropertyChain([obo.RO_0002212, obo.RO_0019001]),\n",
       "  PropertyChain([obo.RO_0002213, obo.RO_0019002])],\n",
       " 'isAffectedBy': [PropertyChain([Parties.undergoes, Parties.hasActor])],\n",
       " 'hasSubsidiary': [PropertyChain([Roles.playsRole, CorporateControl.isParentCompanyOf])],\n",
       " 'actsOn': [PropertyChain([Parties.actsIn, Parties.hasUndergoer])],\n",
       " 'isWhollyOwnedBy': [PropertyChain([Roles.playsRole, CorporateControl.isSubsidiaryOf])],\n",
       " 'experiences': [PropertyChain([Roles.playsRole, Parties.undergoes])],\n",
       " 'hasDirectOwningEntity': [PropertyChain([OwnershipParties.hasDirectOwnership, OwnershipParties.hasOwningEntity])],\n",
       " 'hasInvestmentEntity': [PropertyChain([OwnershipParties.hasInvestmentOwnership, OwnershipParties.hasOwnedEntity])],\n",
       " 'playsActiveRoleIn': [PropertyChain([Roles.playsRole, Parties.actsIn])],\n",
       " 'isExperiencedBy': [PropertyChain([Parties.hasUndergoer, Roles.isPlayedBy])],\n",
       " 'hasActiveParty': [PropertyChain([Parties.hasActor, Roles.isPlayedBy])],\n",
       " 'recordsTransaction': [PropertyChain([ClientsAndAccounts.appliesToAccount, Documents.hasRecord, RegistrationAuthorities.hasRegistryEntry])],\n",
       " 'hasGeneratingEntityIdentifier': [PropertyChain([FinancialProductsAndServices.hasGeneratingEntity, LanguageRepresentation.isIdentifiedBy])],\n",
       " 'playsActiveRoleThatDirectlyAffects': [PropertyChain([Roles.playsRole, Parties.actsIn, Parties.hasUndergoer, Roles.isPlayedBy])],\n",
       " 'experiencesDirectly': [PropertyChain([Roles.playsRole, Parties.undergoes, Parties.hasActor, Roles.isPlayedBy])],\n",
       " 'isDirectlyAffectedBy': [PropertyChain([Parties.undergoes, Parties.hasActor, Roles.isPlayedBy])],\n",
       " 'directlyAffects': [PropertyChain([Parties.actsIn, Parties.hasUndergoer, Roles.isPlayedBy])],\n",
       " 'experiencesWith': [PropertyChain([Roles.playsRole, Parties.undergoes, Parties.hasActor])],\n",
       " 'playsActiveRoleThatAffects': [PropertyChain([Roles.playsRole, Parties.actsIn, Parties.hasUndergoer])]}"
      ]
     },
     "execution_count": 60,
     "metadata": {},
     "output_type": "execute_result"
    }
   ],
   "source": [
    "p_s"
   ]
  },
  {
   "cell_type": "code",
   "execution_count": 53,
   "id": "1e87c989-e141-4a1b-aaea-55bb078c858b",
   "metadata": {},
   "outputs": [
    {
     "data": {
      "text/plain": [
       "[]"
      ]
     },
     "execution_count": 53,
     "metadata": {},
     "output_type": "execute_result"
    }
   ],
   "source": [
    "p.get_class_property_type()"
   ]
  },
  {
   "cell_type": "code",
   "execution_count": 31,
   "id": "4c103d6b-eabf-4bbe-8e12-fb6fa0f9a84a",
   "metadata": {},
   "outputs": [
    {
     "data": {
      "text/plain": [
       "78"
      ]
     },
     "execution_count": 31,
     "metadata": {},
     "output_type": "execute_result"
    }
   ],
   "source": [
    "p._owl_equivalent"
   ]
  },
  {
   "cell_type": "code",
   "execution_count": null,
   "id": "57ff6021-cd29-4ce0-9456-7368ca281935",
   "metadata": {},
   "outputs": [],
   "source": []
  },
  {
   "cell_type": "code",
   "execution_count": 85,
   "id": "e8d102a4-b1fe-4a55-b3f7-c7d7917e6110",
   "metadata": {},
   "outputs": [
    {
     "data": {
      "text/plain": [
       "[obo.IAO_0000428]"
      ]
     },
     "execution_count": 85,
     "metadata": {},
     "output_type": "execute_result"
    }
   ],
   "source": [
    "# class_prop\n",
    "class_prop.__getitem__(c)"
   ]
  },
  {
   "cell_type": "code",
   "execution_count": 81,
   "id": "87a6f96e-ceb1-4a8b-af0d-bc8ade335f9d",
   "metadata": {},
   "outputs": [
    {
     "data": {
      "text/plain": [
       "obo.IAO_0000428"
      ]
     },
     "execution_count": 81,
     "metadata": {},
     "output_type": "execute_result"
    }
   ],
   "source": [
    "c.IAO_0000114[0]"
   ]
  },
  {
   "cell_type": "code",
   "execution_count": 68,
   "id": "89a66b16-05a2-4fa1-abd5-88b009719a6c",
   "metadata": {},
   "outputs": [
    {
     "data": {
      "text/plain": [
       "[owlready2.prop.ObjectPropertyClass,\n",
       " owlready2.annotation.AnnotationPropertyClass,\n",
       " owlready2.annotation.AnnotationPropertyClass,\n",
       " owlready2.annotation.AnnotationPropertyClass,\n",
       " owlready2.annotation.AnnotationPropertyClass,\n",
       " owlready2.annotation.AnnotationPropertyClass]"
      ]
     },
     "execution_count": 68,
     "metadata": {},
     "output_type": "execute_result"
    }
   ],
   "source": [
    "[type(c_p) for c_p in c.get_class_properties()]"
   ]
  },
  {
   "cell_type": "code",
   "execution_count": 65,
   "id": "a163fb7f-5f22-453b-84bf-d05c28b3d319",
   "metadata": {},
   "outputs": [
    {
     "data": {
      "text/plain": [
       "[(obo.RO_0002162,\n",
       "  ['in taxon'],\n",
       "  owlready2.prop.ObjectPropertyClass,\n",
       "  'http://purl.obolibrary.org/obo/RO_0002162'),\n",
       " (obo.IAO_0000114,\n",
       "  ['has curation status', 'has curation status'],\n",
       "  owlready2.annotation.AnnotationPropertyClass,\n",
       "  'http://purl.obolibrary.org/obo/IAO_0000114'),\n",
       " (rdf-schema.label,\n",
       "  [],\n",
       "  owlready2.annotation.AnnotationPropertyClass,\n",
       "  'http://www.w3.org/2000/01/rdf-schema#label'),\n",
       " (22-rdf-syntax-ns.type,\n",
       "  [],\n",
       "  owlready2.annotation.AnnotationPropertyClass,\n",
       "  'http://www.w3.org/1999/02/22-rdf-syntax-ns#type'),\n",
       " (obo.IAO_0000412,\n",
       "  ['imported from'],\n",
       "  owlready2.annotation.AnnotationPropertyClass,\n",
       "  'http://purl.obolibrary.org/obo/IAO_0000412'),\n",
       " (oboInOwl.hasDbXref,\n",
       "  ['database_cross_reference'],\n",
       "  owlready2.annotation.AnnotationPropertyClass,\n",
       "  'http://www.geneontology.org/formats/oboInOwl#hasDbXref')]"
      ]
     },
     "execution_count": 65,
     "metadata": {},
     "output_type": "execute_result"
    }
   ],
   "source": [
    "[(c_p, c_p.label, type(c_p), c_p.iri) for c_p in c.get_class_properties()]"
   ]
  },
  {
   "cell_type": "code",
   "execution_count": 57,
   "id": "1e311fb3-62d7-46f6-961f-924dd5debf5e",
   "metadata": {},
   "outputs": [
    {
     "ename": "InterfaceError",
     "evalue": "Error binding parameter 1 - probably unsupported type.",
     "output_type": "error",
     "traceback": [
      "\u001b[0;31m---------------------------------------------------------------------------\u001b[0m",
      "\u001b[0;31mInterfaceError\u001b[0m                            Traceback (most recent call last)",
      "Cell \u001b[0;32mIn[57], line 4\u001b[0m\n\u001b[1;32m      1\u001b[0m \u001b[38;5;66;03m# c.annotation_property\u001b[39;00m\n\u001b[1;32m      2\u001b[0m \u001b[38;5;66;03m# [s for s in onto._get_obj_triples_po_s(c, owl_annotation_property)]\u001b[39;00m\n\u001b[1;32m      3\u001b[0m onto\u001b[38;5;241m.\u001b[39m_get_obj_triples_po_s(c, owl_annotation_property)\n\u001b[0;32m----> 4\u001b[0m \u001b[38;5;28;01mfor\u001b[39;00m s \u001b[38;5;129;01min\u001b[39;00m onto\u001b[38;5;241m.\u001b[39m_get_obj_triples_po_s(c, owl_annotation_property):\n\u001b[1;32m      5\u001b[0m     \u001b[38;5;28mprint\u001b[39m(s)\n",
      "File \u001b[0;32m~/school/capstone/capstone/venv/lib/python3.10/site-packages/owlready2/triplelite.py:1394\u001b[0m, in \u001b[0;36mSubGraph._get_obj_triples_po_s\u001b[0;34m(self, p, o)\u001b[0m\n\u001b[1;32m   1393\u001b[0m \u001b[38;5;28;01mdef\u001b[39;00m \u001b[38;5;21m_get_obj_triples_po_s\u001b[39m(\u001b[38;5;28mself\u001b[39m, p, o):\n\u001b[0;32m-> 1394\u001b[0m   \u001b[38;5;28;01mfor\u001b[39;00m (x,) \u001b[38;5;129;01min\u001b[39;00m \u001b[38;5;28;43mself\u001b[39;49m\u001b[38;5;241;43m.\u001b[39;49m\u001b[43mexecute\u001b[49m\u001b[43m(\u001b[49m\u001b[38;5;124;43m\"\u001b[39;49m\u001b[38;5;124;43mSELECT s FROM objs WHERE c=? AND p=? AND o=?\u001b[39;49m\u001b[38;5;124;43m\"\u001b[39;49m\u001b[43m,\u001b[49m\u001b[43m \u001b[49m\u001b[43m(\u001b[49m\u001b[38;5;28;43mself\u001b[39;49m\u001b[38;5;241;43m.\u001b[39;49m\u001b[43mc\u001b[49m\u001b[43m,\u001b[49m\u001b[43m \u001b[49m\u001b[43mp\u001b[49m\u001b[43m,\u001b[49m\u001b[43m \u001b[49m\u001b[43mo\u001b[49m\u001b[43m)\u001b[49m\u001b[43m)\u001b[49m\u001b[38;5;241m.\u001b[39mfetchall(): \u001b[38;5;28;01myield\u001b[39;00m x\n",
      "\u001b[0;31mInterfaceError\u001b[0m: Error binding parameter 1 - probably unsupported type."
     ]
    }
   ],
   "source": [
    "# c.annotation_property\n",
    "# [s for s in onto._get_obj_triples_po_s(c, owl_annotation_property)]\n",
    "onto._get_obj_triples_po_s(c, owl_annotation_property)\n",
    "for s in onto._get_obj_triples_po_s(c, owl_annotation_property):\n",
    "    print(s)"
   ]
  },
  {
   "cell_type": "code",
   "execution_count": null,
   "id": "bbef41b1-c719-44e9-afc2-9d6f0eec45cc",
   "metadata": {},
   "outputs": [],
   "source": []
  },
  {
   "cell_type": "code",
   "execution_count": null,
   "id": "6a6dc251-8bf0-4d22-b557-280f2df27e04",
   "metadata": {},
   "outputs": [],
   "source": []
  },
  {
   "cell_type": "code",
   "execution_count": null,
   "id": "b6b581a9-4acb-40d7-bcfa-61e7cd86cbc1",
   "metadata": {},
   "outputs": [],
   "source": []
  },
  {
   "cell_type": "code",
   "execution_count": null,
   "id": "5b721a1c-28ab-444c-a33a-f18c7954a586",
   "metadata": {},
   "outputs": [],
   "source": [
    "c.equivalent_to"
   ]
  },
  {
   "cell_type": "code",
   "execution_count": null,
   "id": "5f60cae6-6365-4caf-b840-e7b2d358a1af",
   "metadata": {},
   "outputs": [],
   "source": [
    "type(c.equivalent_to[0])"
   ]
  },
  {
   "cell_type": "code",
   "execution_count": null,
   "id": "d536fa67-2c1a-4baf-840f-bb7b8fcaa4ee",
   "metadata": {},
   "outputs": [],
   "source": [
    "c.equivalent_to[0].instances"
   ]
  },
  {
   "cell_type": "code",
   "execution_count": null,
   "id": "bfc39168-8b56-4df1-af46-c9e018e24ed0",
   "metadata": {},
   "outputs": [],
   "source": [
    "c.iri"
   ]
  },
  {
   "cell_type": "code",
   "execution_count": null,
   "id": "ae7185b3-0a10-4ef0-b8ee-75ec2bff87b0",
   "metadata": {},
   "outputs": [],
   "source": [
    "type(c.equivalent_to[0].instances)"
   ]
  },
  {
   "cell_type": "code",
   "execution_count": null,
   "id": "1a124392-7c35-455d-977e-707afd1a6f6f",
   "metadata": {},
   "outputs": [],
   "source": [
    "for a in c.equivalent_to[0].instances:\n",
    "    pass\n",
    "a"
   ]
  },
  {
   "cell_type": "code",
   "execution_count": null,
   "id": "f9c8f3df-c4ca-4a72-ac3b-b61d9c4a0a89",
   "metadata": {},
   "outputs": [],
   "source": [
    "a.name"
   ]
  },
  {
   "cell_type": "code",
   "execution_count": null,
   "id": "db48295a-a410-410b-8a6b-54372fe2914c",
   "metadata": {},
   "outputs": [],
   "source": [
    "type(types.new_class(a.name, (Thing,)))"
   ]
  },
  {
   "cell_type": "code",
   "execution_count": null,
   "id": "c9bd2663-c391-4156-84a2-001641a3085f",
   "metadata": {},
   "outputs": [],
   "source": [
    "len(list(onto.classes()))"
   ]
  },
  {
   "cell_type": "code",
   "execution_count": null,
   "id": "2817642f-0aa0-4b00-8445-287f6de43e84",
   "metadata": {},
   "outputs": [],
   "source": []
  },
  {
   "cell_type": "code",
   "execution_count": null,
   "id": "f93737d0-6e61-4a15-919c-7b10abf95b60",
   "metadata": {},
   "outputs": [],
   "source": []
  },
  {
   "cell_type": "code",
   "execution_count": null,
   "id": "ab4d22e0-0f71-436d-86c3-96295b7e7817",
   "metadata": {},
   "outputs": [],
   "source": []
  },
  {
   "cell_type": "code",
   "execution_count": null,
   "id": "cf738e23-731d-48e1-a4f8-31f58a56a31d",
   "metadata": {},
   "outputs": [],
   "source": []
  },
  {
   "cell_type": "code",
   "execution_count": null,
   "id": "37c834b9-4527-4bc6-af35-52a19fc3d2d2",
   "metadata": {},
   "outputs": [],
   "source": []
  },
  {
   "cell_type": "code",
   "execution_count": null,
   "id": "eefbeca4-342f-4557-93ed-a80438fadf0c",
   "metadata": {},
   "outputs": [],
   "source": []
  },
  {
   "cell_type": "code",
   "execution_count": null,
   "id": "cf049ddd-5b4d-4e6d-bdee-73cafb91cbd2",
   "metadata": {},
   "outputs": [],
   "source": []
  },
  {
   "cell_type": "code",
   "execution_count": null,
   "id": "d13da3bd-08bd-4bf7-bf41-bdb9fe664311",
   "metadata": {},
   "outputs": [],
   "source": []
  },
  {
   "cell_type": "code",
   "execution_count": null,
   "id": "c009efab-9faf-4dc4-990b-705092a8f80f",
   "metadata": {},
   "outputs": [],
   "source": []
  },
  {
   "cell_type": "code",
   "execution_count": null,
   "id": "d56c395f-77f3-4d48-b5e5-29b4ba68d12b",
   "metadata": {},
   "outputs": [],
   "source": []
  },
  {
   "cell_type": "code",
   "execution_count": null,
   "id": "6e42372c-e0ef-4048-80c6-4264303c6e68",
   "metadata": {},
   "outputs": [],
   "source": [
    "set([len(p.is_a) for p in onto.object_properties()])\n",
    "for p in onto.object_properties():\n",
    "    if len(p.is_a) > 1:\n",
    "        break\n",
    "p"
   ]
  },
  {
   "cell_type": "code",
   "execution_count": null,
   "id": "9ef2c911-a6a2-452e-b19a-cf2302cbab32",
   "metadata": {},
   "outputs": [],
   "source": [
    "p.label"
   ]
  },
  {
   "cell_type": "code",
   "execution_count": null,
   "id": "c2439f42-bde7-4778-a243-a96aa160cdc4",
   "metadata": {},
   "outputs": [],
   "source": [
    "p.is_a"
   ]
  },
  {
   "cell_type": "code",
   "execution_count": null,
   "id": "67228aba-db6f-48c5-be7d-9e6922024dbc",
   "metadata": {},
   "outputs": [],
   "source": [
    "list(p.subclasses())"
   ]
  },
  {
   "cell_type": "code",
   "execution_count": null,
   "id": "fa15b4ca-fba7-4d45-a693-1369ae5ba406",
   "metadata": {},
   "outputs": [],
   "source": [
    "set([len(p.is_a) for p in onto.object_properties()])\n",
    "for p in onto.object_properties():\n",
    "    if len(list(p.subclasses())) > 1:\n",
    "        break\n",
    "p"
   ]
  },
  {
   "cell_type": "code",
   "execution_count": null,
   "id": "c3c58066-13c0-4a1b-a168-bc02f3d562fe",
   "metadata": {},
   "outputs": [],
   "source": [
    "p.iri"
   ]
  },
  {
   "cell_type": "code",
   "execution_count": null,
   "id": "adf4e757-a14b-46e5-a793-4012af2e48be",
   "metadata": {},
   "outputs": [],
   "source": [
    "p.label"
   ]
  },
  {
   "cell_type": "code",
   "execution_count": null,
   "id": "2242339e-b9d0-45db-bc53-4580708ede5c",
   "metadata": {},
   "outputs": [],
   "source": [
    "[(pc, pc.label) for pc in p.subclasses()]"
   ]
  },
  {
   "cell_type": "code",
   "execution_count": null,
   "id": "512cc12d-71bc-4acd-b39d-d9be86fb2f5d",
   "metadata": {},
   "outputs": [],
   "source": [
    "set([len(list(p.subclasses())) for p in onto.object_properties()])"
   ]
  },
  {
   "cell_type": "code",
   "execution_count": null,
   "id": "a503aea0-b807-4d7a-ac09-001e6d7a9b51",
   "metadata": {},
   "outputs": [],
   "source": [
    "list(p.subclasses())"
   ]
  },
  {
   "cell_type": "code",
   "execution_count": null,
   "id": "81565e0f-7429-42b8-8d34-509a5edc7843",
   "metadata": {},
   "outputs": [],
   "source": [
    "p.is_a[0]"
   ]
  },
  {
   "cell_type": "code",
   "execution_count": null,
   "id": "923a7969-cb71-4700-829b-7fa157b97d61",
   "metadata": {},
   "outputs": [],
   "source": []
  },
  {
   "cell_type": "code",
   "execution_count": null,
   "id": "6931cf33-69c5-4fc7-be0f-6388e5303e7b",
   "metadata": {},
   "outputs": [],
   "source": [
    "c"
   ]
  },
  {
   "cell_type": "code",
   "execution_count": null,
   "id": "d595aded-b990-44eb-9d70-f336abb66ce8",
   "metadata": {},
   "outputs": [],
   "source": [
    "c.equivalent_to"
   ]
  },
  {
   "cell_type": "code",
   "execution_count": null,
   "id": "d37562f0-6712-4e61-a84f-00fa20ddafc8",
   "metadata": {},
   "outputs": [],
   "source": [
    "type(c.equivalent_to[0].is_a[0])"
   ]
  },
  {
   "cell_type": "code",
   "execution_count": null,
   "id": "574c0b6f-44e2-43c4-a844-6b7d0ca9be88",
   "metadata": {},
   "outputs": [],
   "source": [
    "c.iri"
   ]
  },
  {
   "cell_type": "code",
   "execution_count": null,
   "id": "5a1ab715-7f6f-45f3-9ed4-fb17ab6efd01",
   "metadata": {},
   "outputs": [],
   "source": [
    "c.equivalent_to[0].is_a[0]"
   ]
  },
  {
   "cell_type": "code",
   "execution_count": null,
   "id": "0736e23d-220c-4acd-a60d-135e7ed8ec73",
   "metadata": {},
   "outputs": [],
   "source": [
    "c.equivalent_to[0].is_a[0].subclasses()"
   ]
  },
  {
   "cell_type": "code",
   "execution_count": null,
   "id": "ab7f400c-2064-49c7-9664-1fec7b25dd33",
   "metadata": {},
   "outputs": [],
   "source": [
    "c.equivalent_to[0].is_a[0].is_a"
   ]
  },
  {
   "cell_type": "code",
   "execution_count": null,
   "id": "3a5d6357-94d8-4e24-9227-a1581be8b402",
   "metadata": {},
   "outputs": [],
   "source": [
    "c.equivalent_to[0].is_a[0].__invert__()"
   ]
  },
  {
   "cell_type": "code",
   "execution_count": null,
   "id": "78d2fbee-4534-43fd-8044-9d50e543b7cd",
   "metadata": {},
   "outputs": [],
   "source": [
    "type(c.equivalent_to[0].is_a[0].Class)"
   ]
  },
  {
   "cell_type": "code",
   "execution_count": null,
   "id": "24541ee9-0c95-490b-8a51-c021ba481b42",
   "metadata": {},
   "outputs": [],
   "source": [
    "c.equivalent_to[0].is_a[-1].value"
   ]
  },
  {
   "cell_type": "code",
   "execution_count": null,
   "id": "e0c4024a-790c-476e-a598-a503adbd4214",
   "metadata": {},
   "outputs": [],
   "source": [
    "type(c.equivalent_to[0].is_a[-1].value)"
   ]
  },
  {
   "cell_type": "code",
   "execution_count": null,
   "id": "1cac1980-5447-43b0-ba41-cff039eacef4",
   "metadata": {},
   "outputs": [],
   "source": [
    "c.equivalent_to[0].is_a[-1].value.Classes[0]"
   ]
  },
  {
   "cell_type": "code",
   "execution_count": null,
   "id": "49eec341-1da8-4a66-9c7a-16e2db16172a",
   "metadata": {},
   "outputs": [],
   "source": []
  },
  {
   "cell_type": "code",
   "execution_count": null,
   "id": "5515eea2-2508-4f68-93c7-e7d53368714d",
   "metadata": {},
   "outputs": [],
   "source": [
    "# get types\n",
    "rel_types = set()\n",
    "for c in onto.classes():\n",
    "    # break\n",
    "    # if c.name == \"FOODON_03420103\":\n",
    "    if c.name == \"CDNO_0200657\":\n",
    "    # if c.name == \"FOODON_00002403\":\n",
    "        break\n",
    "\n",
    "    if list(c.equivalent_to):\n",
    "        for sc in c.equivalent_to:\n",
    "            rel_types.add(type(sc))\n",
    "            # if isinstance(sc, owlready2.class_construct.Or):\n",
    "            #     print(c.iri)\n",
    "    elif list(c.is_a):\n",
    "        for sc in c.is_a:\n",
    "            rel_types.add(type(sc))\n",
    "            # if isinstance(sc, owlready2.class_construct.Or):\n",
    "            #     print(c.iri)\n",
    "rel_types\n",
    "c"
   ]
  },
  {
   "cell_type": "code",
   "execution_count": null,
   "id": "a6537560-c404-40e7-859c-96554bf939c5",
   "metadata": {},
   "outputs": [],
   "source": [
    "c.equivalent_to[-1].is_a[-1]"
   ]
  },
  {
   "cell_type": "code",
   "execution_count": null,
   "id": "b7060025-7b1f-4b3a-a7e6-dc8151aa9d73",
   "metadata": {},
   "outputs": [],
   "source": [
    "c.equivalent_to[-1].is_a[-1].value"
   ]
  },
  {
   "cell_type": "code",
   "execution_count": null,
   "id": "44124775-3459-40fe-94b2-5cf1fee9b89f",
   "metadata": {},
   "outputs": [],
   "source": [
    "c.equivalent_to[0].is_a[-1]"
   ]
  },
  {
   "cell_type": "code",
   "execution_count": null,
   "id": "194f5a27-1867-4a19-b7ab-4b3baf9b2bb1",
   "metadata": {},
   "outputs": [],
   "source": [
    "type(c.equivalent_to[0].is_a[-1].value)"
   ]
  },
  {
   "cell_type": "code",
   "execution_count": null,
   "id": "488d4675-481d-445c-97c5-bea0814292b2",
   "metadata": {},
   "outputs": [],
   "source": [
    "type(c.equivalent_to[0].is_a[-1].property)"
   ]
  },
  {
   "cell_type": "code",
   "execution_count": null,
   "id": "c2561036-8e0f-403d-b017-89ac12d0ce62",
   "metadata": {},
   "outputs": [],
   "source": [
    "c"
   ]
  },
  {
   "cell_type": "code",
   "execution_count": null,
   "id": "126fddb2-6be9-4eae-8840-f71044ec7f91",
   "metadata": {},
   "outputs": [],
   "source": [
    "for c in onto.classes():\n",
    "    # if c.name == \"FOODON_00002114\":\n",
    "    #     break\n",
    "    break\n",
    "print(c.iri)\n",
    "print(f\"object: {c} label: {c.label}\")\n",
    "print(f\"equivalent to: {c.equivalent_to}\")\n",
    "print(f\"is a: {c.is_a}\")"
   ]
  },
  {
   "cell_type": "code",
   "execution_count": null,
   "id": "6588592e-8012-4a7f-b64b-8e027105b855",
   "metadata": {},
   "outputs": [],
   "source": [
    "c.equivalent_to"
   ]
  },
  {
   "cell_type": "code",
   "execution_count": null,
   "id": "c39fc9a2-6ef8-4e91-ae02-0a80f61b1d8a",
   "metadata": {},
   "outputs": [],
   "source": [
    "# and_count, or_count, blank_count = parse_logic(sc, c, \"equivalent_to\")\n",
    "and_count = 0\n",
    "or_count = 0\n",
    "blank_count = 0\n",
    "parse_logic(c.equivalent_to[-1], c, \"equivalent_to\", and_count, or_count, blank_count)"
   ]
  },
  {
   "cell_type": "code",
   "execution_count": null,
   "id": "5ce625b0-1e41-4450-9442-81be63d73f72",
   "metadata": {},
   "outputs": [],
   "source": [
    "restriction"
   ]
  },
  {
   "cell_type": "code",
   "execution_count": null,
   "id": "e6420821-729d-4620-aad3-9a72bb343795",
   "metadata": {},
   "outputs": [],
   "source": [
    "type(c.equivalent_to)"
   ]
  },
  {
   "cell_type": "code",
   "execution_count": null,
   "id": "6c16ed12-ee92-41f9-a130-b53e802e9a54",
   "metadata": {},
   "outputs": [],
   "source": [
    "type(list(c.equivalent_to)[0])"
   ]
  },
  {
   "cell_type": "code",
   "execution_count": null,
   "id": "4958694d-c5a7-4767-98ca-750a25cac004",
   "metadata": {},
   "outputs": [],
   "source": [
    "#TODO need to verify against a class with different is_a and equivalent_to\n",
    "c.equivalent_to[0].get_Classes() # same as doing is_a below\n",
    "c.equivalent_to[0].get_is_a() # also same as doing is_a"
   ]
  },
  {
   "cell_type": "code",
   "execution_count": null,
   "id": "cf2959d7-d9d6-4fb0-8c6b-536bdb7a7e73",
   "metadata": {},
   "outputs": [],
   "source": [
    "c.equivalent_to[0].is_a"
   ]
  },
  {
   "cell_type": "code",
   "execution_count": null,
   "id": "e11e1c2d-43fc-4629-bbec-5e542d5bf683",
   "metadata": {},
   "outputs": [],
   "source": [
    "type(c.equivalent_to[0].is_a[0])"
   ]
  },
  {
   "cell_type": "code",
   "execution_count": null,
   "id": "0bb6e931-28cd-4988-a917-63cd5b7725ba",
   "metadata": {},
   "outputs": [],
   "source": [
    "c.equivalent_to[0].is_a[-1]"
   ]
  },
  {
   "cell_type": "code",
   "execution_count": null,
   "id": "7e7b7109-44f8-454a-9542-bbadd4912a0e",
   "metadata": {},
   "outputs": [],
   "source": [
    "type(c.equivalent_to[0].is_a[-1]) # if type restriction"
   ]
  },
  {
   "cell_type": "code",
   "execution_count": null,
   "id": "0ef61c00-4699-47e3-9f93-a2afc1c55705",
   "metadata": {},
   "outputs": [],
   "source": [
    "c.equivalent_to[0].is_a[-1].property # grab property as edge"
   ]
  },
  {
   "cell_type": "code",
   "execution_count": null,
   "id": "770bb635-fdf4-40e4-a4c5-5ff054579580",
   "metadata": {},
   "outputs": [],
   "source": [
    "c.equivalent_to[0].is_a[-1].value # grab value as node"
   ]
  },
  {
   "cell_type": "code",
   "execution_count": null,
   "id": "0a49fde7-1633-4244-95e1-09dcf814ff46",
   "metadata": {},
   "outputs": [],
   "source": [
    "c.equivalent_to[0].is_a[-1].type #TODO: is this specific to some? if so, what do the other map to?"
   ]
  },
  {
   "cell_type": "code",
   "execution_count": null,
   "id": "498749c3-fb1a-4c27-8c70-1c65a067f0ef",
   "metadata": {},
   "outputs": [],
   "source": [
    "type(list(c.is_a)[0])"
   ]
  },
  {
   "cell_type": "code",
   "execution_count": null,
   "id": "774eaa68-5424-40d7-9b65-320ab9f150ce",
   "metadata": {},
   "outputs": [],
   "source": [
    "rel_list = c.is_a\n",
    "# isinstance(rel_list[-1], owlready2.class_construct.And)\n",
    "type(rel_list[-1])"
   ]
  },
  {
   "cell_type": "code",
   "execution_count": null,
   "id": "30597440-171f-4902-9949-037e8a452069",
   "metadata": {},
   "outputs": [],
   "source": [
    "len(list(c.equivalent_to))"
   ]
  },
  {
   "cell_type": "code",
   "execution_count": null,
   "id": "a625c163-9b5b-4f72-ad7c-095382f75b27",
   "metadata": {},
   "outputs": [],
   "source": []
  },
  {
   "cell_type": "code",
   "execution_count": null,
   "id": "ce79c0c9-0342-4690-930d-963dad3b1837",
   "metadata": {},
   "outputs": [],
   "source": [
    "for c in onto.classes():\n",
    "    if c.name == \"FOODON_00002114\":\n",
    "        break\n",
    "print(c.iri)\n",
    "print(f\"object: {c} label: {c.label}\")\n",
    "print(f\"equivalent to: {c.equivalent_to}\")\n",
    "print(f\"is a: {c.is_a}\")"
   ]
  },
  {
   "cell_type": "code",
   "execution_count": null,
   "id": "1903d01b-0210-4627-b06f-10ae88e8854d",
   "metadata": {},
   "outputs": [],
   "source": [
    "[type(sc) for sc in c.is_a]"
   ]
  },
  {
   "cell_type": "code",
   "execution_count": null,
   "id": "f8db0476-9d54-4585-af3c-40e95ad7596a",
   "metadata": {},
   "outputs": [],
   "source": [
    "c.is_a[-1]"
   ]
  },
  {
   "cell_type": "code",
   "execution_count": null,
   "id": "d68e0ca6-2061-4221-8c45-e698a83c5354",
   "metadata": {},
   "outputs": [],
   "source": [
    "c.is_a[-1].is_a"
   ]
  },
  {
   "cell_type": "code",
   "execution_count": null,
   "id": "3bba1da1-cd0e-41f1-bce6-56999821eaed",
   "metadata": {},
   "outputs": [],
   "source": [
    "c.is_a[-1].is_a\n",
    "[type(sc_restriction) for sc_restriction in c.is_a[-1].is_a]"
   ]
  }
 ],
 "metadata": {
  "kernelspec": {
   "display_name": "Python 3 (ipykernel)",
   "language": "python",
   "name": "python3"
  },
  "language_info": {
   "codemirror_mode": {
    "name": "ipython",
    "version": 3
   },
   "file_extension": ".py",
   "mimetype": "text/x-python",
   "name": "python",
   "nbconvert_exporter": "python",
   "pygments_lexer": "ipython3",
   "version": "3.10.9"
  }
 },
 "nbformat": 4,
 "nbformat_minor": 5
}
