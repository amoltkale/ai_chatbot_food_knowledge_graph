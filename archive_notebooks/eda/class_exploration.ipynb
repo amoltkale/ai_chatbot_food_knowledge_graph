{
 "cells": [
  {
   "cell_type": "code",
   "execution_count": null,
   "id": "97847281-7c86-4e76-9d71-b872d18898ed",
   "metadata": {},
   "outputs": [],
   "source": [
    "# Ontology Alignment or Mapping\n",
    "# Author: Amol Kale"
   ]
  },
  {
   "cell_type": "code",
   "execution_count": 1,
   "id": "e1a5ca91-6d23-4b6f-afcd-d8cfd8d85961",
   "metadata": {},
   "outputs": [],
   "source": [
    "from owlready2 import *\n",
    "import pandas as pd"
   ]
  },
  {
   "cell_type": "markdown",
   "id": "72207837-3311-4463-a1ba-5fe9c676199e",
   "metadata": {},
   "source": [
    "### foodon.owl"
   ]
  },
  {
   "cell_type": "code",
   "execution_count": 2,
   "id": "c8021455-21a2-4229-80d5-0c28dc340b9c",
   "metadata": {},
   "outputs": [],
   "source": [
    "#!pip install owlready2"
   ]
  },
  {
   "cell_type": "code",
   "execution_count": 3,
   "id": "86d250d3-319a-4acb-b67c-34d07557563c",
   "metadata": {},
   "outputs": [],
   "source": [
    "onto_path.append(\"/Users/amolkale/Documents/DSE/Capstone Project\")\n",
    "#onto = get_ontology(\"https://raw.githubusercontent.com/FoodOntology/foodon/master/foodon.owl\").load()\n",
    "onto = get_ontology(\"/Users/amolkale/Documents/DSE/Capstone Project/local_onto_repo/foodon_filtered.owl\").load()"
   ]
  },
  {
   "cell_type": "code",
   "execution_count": 4,
   "id": "e3f7f239-1a79-4722-958d-291f818052c1",
   "metadata": {},
   "outputs": [],
   "source": [
    "# IRIS[\"https://raw.githubusercontent.com/FoodOntology/foodon/master/foodon.owl#obo\"]"
   ]
  },
  {
   "cell_type": "code",
   "execution_count": 5,
   "id": "6d56ce59-d24d-4ede-885a-a66656b0701b",
   "metadata": {},
   "outputs": [
    {
     "name": "stderr",
     "output_type": "stream",
     "text": [
      "* Owlready2 * Warning: ignoring cyclic subclass of/subproperty of, involving:\n",
      "  http://purl.obolibrary.org/obo/FOODON_00002511\n",
      "\n",
      "* Owlready2 * Warning: ignoring cyclic subclass of/subproperty of, involving:\n",
      "  http://purl.obolibrary.org/obo/FOODON_03315876\n",
      "\n"
     ]
    }
   ],
   "source": [
    "onto_set = list(onto.classes())\n",
    "#onto_set = set([str(clss).lower().strip().split('.')[1] for clss in onto_set])"
   ]
  },
  {
   "cell_type": "code",
   "execution_count": 6,
   "id": "31294160-0798-4958-971c-5af756d6d368",
   "metadata": {},
   "outputs": [
    {
     "name": "stdout",
     "output_type": "stream",
     "text": [
      "No. of Classes in Food onto: 32022\n"
     ]
    }
   ],
   "source": [
    "print(\"No. of Classes in Food onto:\",len(onto_set))"
   ]
  },
  {
   "cell_type": "code",
   "execution_count": 7,
   "id": "47a6e3e1-8032-4abb-abe2-0a49e4a56bba",
   "metadata": {},
   "outputs": [],
   "source": [
    "onto.save(\"/Users/amolkale/Documents/DSE/Capstone Project/local_onto_repo/foodon_nt.txt\",format = \"ntriples\")"
   ]
  },
  {
   "cell_type": "code",
   "execution_count": 8,
   "id": "f9199b4c-0eb2-476e-96d0-936310ac0aa8",
   "metadata": {},
   "outputs": [],
   "source": [
    "import textwrap\n",
    "'''Pretty print the data'''\n",
    "def print_property(txt,i):\n",
    "#     prefix = \"*\"\n",
    "#     wrapper = textwrap.TextWrapper(initial_indent=prefix, width=70, subsequent_indent=' '*len(prefix))\n",
    "#     print(wrapper.fill((txt+\":\").ljust(10*padding_len, ' ')+str(i)+\"\\n\"))\n",
    "    print((txt+\":\").ljust(20, ' '),i,\"\\n\")\n",
    "    "
   ]
  },
  {
   "cell_type": "markdown",
   "id": "714fa227-994f-4f52-871a-c0878e9d276a",
   "metadata": {},
   "source": [
    "##### Exploring foodonto classes"
   ]
  },
  {
   "cell_type": "code",
   "execution_count": 32,
   "id": "0713ab08-c4cf-46f5-b4d4-86bd8602cac6",
   "metadata": {},
   "outputs": [
    {
     "name": "stdout",
     "output_type": "stream",
     "text": [
      "class:               obo.FOODON_00002403 \n",
      "\n",
      "label:               ['food material'] \n",
      "\n",
      "iri:                 http://purl.obolibrary.org/obo/FOODON_00002403 \n",
      "\n",
      "is_a:                [obo.ENVO_00010483, obo.RO_0000087.some(obo.CHEBI_33290)] \n",
      "\n",
      "get_parents_of:      [obo.ENVO_00010483, obo.RO_0000087.some(obo.CHEBI_33290)] \n",
      "\n",
      "subclasses:          [obo.FOODON_00001002, obo.FOODON_03411041, obo.ENVO_02000047, obo.ENVO_02000055, obo.FOODON_00003374, obo.FOODON_00003402, obo.FOODON_00003385, obo.FOODON_00003437, obo.FOODON_00004100, obo.FOODON_03400361] \n",
      "\n",
      "equivalent_to:       [obo.ENVO_00010483 & obo.RO_0000087.some(obo.CHEBI_33290)] \n",
      "\n",
      "ancestors:           {obo.BFO_0000040, obo.BFO_0000004, obo.BFO_0000002, obo.BFO_0000001, obo.FOODON_00002403, obo.ENVO_00010483, owl.Thing, obo.BFO_0000024} \n",
      "\n",
      "****************************************************************************************************\n",
      "class:               obo.FOODON_00001002 \n",
      "\n",
      "label:               ['food product'] \n",
      "\n",
      "iri:                 http://purl.obolibrary.org/obo/FOODON_00001002 \n",
      "\n",
      "is_a:                [obo.FOODON_00002403] \n",
      "\n",
      "get_parents_of:      [obo.FOODON_00002403] \n",
      "\n",
      "subclasses:          [obo.FOODON_00002381, obo.FOODON_03311737, obo.FOODON_00002645, obo.FOODON_00001714, obo.FOODON_00002373, obo.FOODON_00001180, obo.FOODON_00002501, obo.FOODON_00001871, obo.FOODON_00001796, obo.FOODON_00002147, obo.FOODON_00001872, obo.FOODON_00002454, obo.FOODON_00004277, obo.FOODON_03430154, obo.FOODON_03530151, obo.FOODON_03601004] \n",
      "\n",
      "equivalent_to:       [] \n",
      "\n",
      "ancestors:           {obo.BFO_0000040, obo.BFO_0000004, obo.BFO_0000002, obo.FOODON_00001002, obo.BFO_0000001, obo.FOODON_00002403, obo.ENVO_00010483, owl.Thing, obo.BFO_0000024} \n",
      "\n",
      "****************************************************************************************************\n",
      "class:               Thesaurus.C103180 \n",
      "\n",
      "label:               ['data standard'] \n",
      "\n",
      "iri:                 http://ncicb.nci.nih.gov/xml/owl/EVS/Thesaurus.owl#C103180 \n",
      "\n",
      "is_a:                [obo.OBI_0000658] \n",
      "\n",
      "get_parents_of:      [obo.OBI_0000658] \n",
      "\n",
      "subclasses:          [] \n",
      "\n",
      "equivalent_to:       [] \n",
      "\n",
      "ancestors:           {obo.OBI_0000658, obo.IAO_0000033, obo.BFO_0000002, obo.IAO_0000030, obo.BFO_0000001, obo.BFO_0000031, owl.Thing, Thesaurus.C103180} \n",
      "\n",
      "****************************************************************************************************\n"
     ]
    }
   ],
   "source": [
    "cnt = 0\n",
    "for i in onto.classes(): \n",
    "    if cnt==3:\n",
    "        break\n",
    "    #if(str(i)==\"obo.FOODON_00000071\"):\n",
    "    \n",
    "#     df = df.append({'class' : str(i), 'iri' : str(i.iri), 'is_a' : str(i.is_a), \n",
    "#                     'get_parents_of' : str(onto.get_parents_of(i)), 'subclasses': str(list(i.subclasses())), \n",
    "#                     'equivalent_to': i.equivalent_to}\n",
    "#                    , ignore_index = True)\n",
    "    \n",
    "    #print(\"class\".ljust(20, ' '),i)\n",
    "    print_property(\"class\",i)\n",
    "    print_property(\"label\",i.label)\n",
    "    \n",
    "    # Get the iri\n",
    "    print_property(\"iri\",i.iri)\n",
    "\n",
    "\n",
    "    ## the .is_a attribute for getting the list of superclasses\n",
    "    print_property(\"is_a\",list(i.is_a))\n",
    "\n",
    "    print_property(\"get_parents_of\",onto.get_parents_of(i))\n",
    "\n",
    "    # The .subclasses() method returns the list of direct subclasses of a class.\n",
    "    print_property(\"subclasses\",list(i.subclasses()))\n",
    "\n",
    "    print_property(\"equivalent_to\",i.equivalent_to)\n",
    "\n",
    "    print_property(\"ancestors\",i.ancestors())\n",
    "    \n",
    "    cnt=cnt+1\n",
    "    print(\"*\"*100)\n",
    "#df"
   ]
  },
  {
   "cell_type": "code",
   "execution_count": 10,
   "id": "7b5b34a0-5143-4efe-a971-ad9cca9db623",
   "metadata": {},
   "outputs": [],
   "source": [
    "def print_class_info(klass,padding_l): \n",
    "    print_property(\"class\",str(klass))\n",
    "    print_property(\"label\",list(klass.label))\n",
    "    print(list(klass.subclasses()))\n",
    "    return list(klass.subclasses())\n"
   ]
  },
  {
   "cell_type": "code",
   "execution_count": 11,
   "id": "5a55856c-c184-441c-b0d2-0071131318bb",
   "metadata": {},
   "outputs": [],
   "source": [
    "obo = get_namespace(\"http://purl.obolibrary.org/obo/\")"
   ]
  },
  {
   "cell_type": "code",
   "execution_count": 12,
   "id": "d633b376-aa00-43b5-a4e4-a6b0060171f9",
   "metadata": {},
   "outputs": [
    {
     "data": {
      "text/plain": [
       "[obo.FOODON_00002961, obo.FOODON_03000241]"
      ]
     },
     "execution_count": 12,
     "metadata": {},
     "output_type": "execute_result"
    }
   ],
   "source": [
    "list(obo.FOODON_03000431.subclasses())"
   ]
  },
  {
   "cell_type": "code",
   "execution_count": 13,
   "id": "371adf09-7aa8-48c9-8221-87d2f948cc06",
   "metadata": {},
   "outputs": [
    {
     "data": {
      "text/plain": [
       "True"
      ]
     },
     "execution_count": 13,
     "metadata": {},
     "output_type": "execute_result"
    }
   ],
   "source": [
    "bool(list(obo.FOODON_03000431.subclasses()))"
   ]
  },
  {
   "cell_type": "code",
   "execution_count": 14,
   "id": "51562b1a-c735-4080-8022-af9d981028c2",
   "metadata": {},
   "outputs": [
    {
     "data": {
      "text/plain": [
       "False"
      ]
     },
     "execution_count": 14,
     "metadata": {},
     "output_type": "execute_result"
    }
   ],
   "source": [
    "bool(list(obo.FOODON_00002961.subclasses()))"
   ]
  },
  {
   "cell_type": "markdown",
   "id": "0f1045cc-52b7-4696-b574-fa3b2c4383c3",
   "metadata": {},
   "source": [
    "***Exploring foodonto classes [chia food product]***"
   ]
  },
  {
   "cell_type": "code",
   "execution_count": 15,
   "id": "e2611d91-f874-47fc-a15d-2ab69e3b0912",
   "metadata": {},
   "outputs": [
    {
     "name": "stdout",
     "output_type": "stream",
     "text": [
      "class:               obo.FOODON_03000431 \n",
      "\n",
      "label:               ['chia food product'] \n",
      "\n",
      "class:               obo.FOODON_00002961 \n",
      "\n",
      "label:               ['chia seed (whole)'] \n",
      "\n",
      "[]\n",
      "class:               obo.FOODON_03000241 \n",
      "\n",
      "label:               ['chia seed (whole or parts)'] \n",
      "\n",
      "[]\n"
     ]
    }
   ],
   "source": [
    "for klass in onto.classes(): \n",
    "    star=1\n",
    "    if str(klass)=='obo.FOODON_03000431':\n",
    "        padding_l = 1\n",
    "        print_property(\"class\",str(klass))\n",
    "        print_property(\"label\",list(klass.label))\n",
    "        \n",
    "        padding_l+=1\n",
    "        \n",
    "        for j in klass.subclasses():\n",
    "            print_class_info(j,padding_l)\n",
    "        break\n",
    "        "
   ]
  },
  {
   "cell_type": "code",
   "execution_count": 16,
   "id": "3bb4f51f-8a7b-47d6-a18e-0a8377b75714",
   "metadata": {},
   "outputs": [
    {
     "name": "stdout",
     "output_type": "stream",
     "text": [
      "class:               obo.FOODON_03000431 \n",
      "\n",
      "label:               ['chia food product'] \n",
      "\n",
      "[obo.FOODON_00002961, obo.FOODON_03000241]\n",
      "class:               obo.FOODON_00002961 \n",
      "\n",
      "label:               ['chia seed (whole)'] \n",
      "\n",
      "[]\n",
      "class:               obo.FOODON_03000241 \n",
      "\n",
      "label:               ['chia seed (whole or parts)'] \n",
      "\n",
      "[]\n"
     ]
    }
   ],
   "source": [
    "klass = obo.FOODON_03000431\n",
    "sub_classes = print_class_info(klass,1)\n",
    "for i in range(0,len(list(sub_classes))):\n",
    "    print_class_info(list(sub_classes)[i],2)"
   ]
  },
  {
   "cell_type": "code",
   "execution_count": 27,
   "id": "ed3b68f9-41c7-42f5-8fe9-c196b9b1ae13",
   "metadata": {},
   "outputs": [
    {
     "name": "stdout",
     "output_type": "stream",
     "text": [
      "class: obo.FOODON_03000241\n",
      "class Label: ['chia seed (whole or parts)']\n",
      "\n",
      "\tNo. of properties: 5\n",
      "\tProperty Name:\t rdf-schema.label\n",
      "\tProperty Label:\t []\n",
      "\tProperty Name:\t obo.IAO_0000115\n",
      "\tProperty Label:\t ['definition', 'definition', 'textual definition']\n",
      "\n",
      "\t\tNo. of relations: 14373\n",
      "\t\t------------------------------\n",
      "\t\tRelation No.  1\n",
      "\t\tSubject\t obo.FOODON_03412767 - ['pineapple guava plant']\n",
      "\t\tObject\t http://purl.obolibrary.org/obo/foodon.owl/a%20species%20of%20flowering%20plant%20in%20the%20myrtle%20family,%20Myrtaceae%20–%20is%20native%20to%20the%20highlands%20of%20southern%20Brazil,%20eastern%20Paraguay,%20Uruguay,%20northern%20Argentina,%20and%20Colombia.\n",
      "\t\tRelation No.  2\n",
      "\t\tSubject\t obo.FOODON_03601062 - ['hormone-free food product claim']\n",
      "\t\tObject\t https://www.greenerchoices.org/hormone-free\n",
      "\t\tRelation No.  3\n",
      "\t\tSubject\t obo.NCBITaxon_183653 - ['Peprilus triacanthus']\n",
      "\t\tObject\t http://purl.obolibrary.org/obo/foodon.owl/A%20fish%20of%20the%20family%20Stromateidae\n",
      "\t\tRelation No.  4\n",
      "\t\tSubject\t obo.BFO_0000179 - ['BFO OWL specification label']\n",
      "\t\tObject\t Relates an entity in the ontology to the name of the variable that is used to represent it in the code that generates the BFO OWL file from the lispy specification.\n",
      "\t\tRelation No.  5\n",
      "\t\tSubject\t obo.BFO_0000180 - ['BFO CLIF specification label']\n",
      "\t\tObject\t Relates an entity in the ontology to the term that is used to represent it in the the CLIF specification of BFO2\n",
      "\tProperty Name:\t oboInOwl.hasExactSynonym\n",
      "\tProperty Label:\t ['has_exact_synonym']\n",
      "\n",
      "\t\tNo. of relations: 13647\n",
      "\t\t------------------------------\n",
      "\t\tRelation No.  1\n",
      "\t\tSubject\t obo.FOODON_00001302 - ['lasagne food product']\n",
      "\t\tObject\t obo.IAO_0000122 - ['ready for release']\n",
      "\t\tRelation No.  2\n",
      "\t\tSubject\t obo.FOODON_00002808 - ['olive oil (extra-virgin)']\n",
      "\t\tObject\t obo.IAO_0000122 - ['ready for release']\n",
      "\t\tRelation No.  3\n",
      "\t\tSubject\t obo.FOODON_00003512 - ['lollo bionda']\n",
      "\t\tObject\t http://purl.obolibrary.org/obo/curled%20lettuce\n",
      "\t\tRelation No.  4\n",
      "\t\tSubject\t obo.FOODON_00003512 - ['lollo bionda']\n",
      "\t\tObject\t http://purl.obolibrary.org/obo/green%20coral%20lettuce\n",
      "\t\tRelation No.  5\n",
      "\t\tSubject\t obo.FOODON_00003512 - ['lollo bionda']\n",
      "\t\tObject\t http://purl.obolibrary.org/obo/lactuca%20sativa%20var.%20crispa\n",
      "\tProperty Name:\t obo.IAO_0000117\n",
      "\tProperty Label:\t ['term editor']\n",
      "\tProperty Name:\t 22-rdf-syntax-ns.type\n",
      "\tProperty Label:\t []\n"
     ]
    }
   ],
   "source": [
    "klass = obo.FOODON_03000241\n",
    "#klass = obo.FOODON_03301388\n",
    "print(\"class:\",klass)\n",
    "print(\"class Label:\",klass.label)\n",
    "print(\"\\n\\tNo. of properties:\",len(list(klass.get_properties(klass))))\n",
    "for p in klass.get_properties(klass):\n",
    "    print(\"\\tProperty Name:\\t\",p)\n",
    "    print(\"\\tProperty Label:\\t\",p.label)\n",
    "    try:\n",
    "        rels_cnt=1\n",
    "        rels = list(p.get_relations())\n",
    "        print(\"\\n\\t\\tNo. of relations:\",len(rels))\n",
    "        print(\"\\t\\t\"+\"-\"*30)\n",
    "        for rel in list(p.get_relations())[:5]:\n",
    "            try:\n",
    "                print(\"\\t\\tRelation No. \",rels_cnt)\n",
    "                print(\"\\t\\tSubject\\t\",rel[0],\"-\",rel[0].label)\n",
    "                print(\"\\t\\tObject\\t\",rel[1],\"-\",rel[1].label)\n",
    "            except:\n",
    "                print(\"\\t\\tObject\\t\",rel[1])\n",
    "                pass\n",
    "            rels_cnt+=1    \n",
    "    except:\n",
    "        pass"
   ]
  },
  {
   "cell_type": "code",
   "execution_count": 23,
   "id": "088bf5b9-11e4-4df3-a381-396e2af7c5ff",
   "metadata": {},
   "outputs": [
    {
     "data": {
      "text/plain": [
       "[]"
      ]
     },
     "execution_count": 23,
     "metadata": {},
     "output_type": "execute_result"
    }
   ],
   "source": [
    "list(obo.FOODON_03306092.subclasses())[:5]\n"
   ]
  },
  {
   "cell_type": "code",
   "execution_count": null,
   "id": "c5536be0-2951-4607-8f19-ced07c0fe90e",
   "metadata": {},
   "outputs": [],
   "source": []
  }
 ],
 "metadata": {
  "kernelspec": {
   "display_name": "Python 3 (ipykernel)",
   "language": "python",
   "name": "python3"
  },
  "language_info": {
   "codemirror_mode": {
    "name": "ipython",
    "version": 3
   },
   "file_extension": ".py",
   "mimetype": "text/x-python",
   "name": "python",
   "nbconvert_exporter": "python",
   "pygments_lexer": "ipython3",
   "version": "3.8.2"
  }
 },
 "nbformat": 4,
 "nbformat_minor": 5
}
