{
 "cells": [
  {
   "cell_type": "code",
   "execution_count": 1,
   "id": "97847281-7c86-4e76-9d71-b872d18898ed",
   "metadata": {},
   "outputs": [],
   "source": [
    "# Ontology Parsing to the Graph\n",
    "# Author: Amol Kale"
   ]
  },
  {
   "cell_type": "code",
   "execution_count": 2,
   "id": "e1a5ca91-6d23-4b6f-afcd-d8cfd8d85961",
   "metadata": {},
   "outputs": [],
   "source": [
    "from owlready2 import *"
   ]
  },
  {
   "cell_type": "markdown",
   "id": "72207837-3311-4463-a1ba-5fe9c676199e",
   "metadata": {},
   "source": [
    "### foodon.owl"
   ]
  },
  {
   "cell_type": "code",
   "execution_count": 3,
   "id": "c8021455-21a2-4229-80d5-0c28dc340b9c",
   "metadata": {},
   "outputs": [],
   "source": [
    "#!pip install owlready2"
   ]
  },
  {
   "cell_type": "code",
   "execution_count": 4,
   "id": "86d250d3-319a-4acb-b67c-34d07557563c",
   "metadata": {},
   "outputs": [],
   "source": [
    "onto_path.append(\"/Users/amolkale/Documents/DSE/Capstone Project\")\n",
    "#onto = get_ontology(\"https://raw.githubusercontent.com/FoodOntology/foodon/master/foodon.owl\").load()\n",
    "onto = get_ontology(\"../../local_onto_repo/foodon_filtered.owl\").load()"
   ]
  },
  {
   "cell_type": "code",
   "execution_count": 5,
   "id": "e3f7f239-1a79-4722-958d-291f818052c1",
   "metadata": {},
   "outputs": [],
   "source": [
    "# IRIS[\"https://raw.githubusercontent.com/FoodOntology/foodon/master/foodon.owl#obo\"]"
   ]
  },
  {
   "cell_type": "code",
   "execution_count": 6,
   "id": "6d56ce59-d24d-4ede-885a-a66656b0701b",
   "metadata": {},
   "outputs": [
    {
     "name": "stderr",
     "output_type": "stream",
     "text": [
      "* Owlready2 * Warning: ignoring cyclic subclass of/subproperty of, involving:\n",
      "  http://purl.obolibrary.org/obo/FOODON_00002511\n",
      "\n",
      "* Owlready2 * Warning: ignoring cyclic subclass of/subproperty of, involving:\n",
      "  http://purl.obolibrary.org/obo/FOODON_03315876\n",
      "\n"
     ]
    }
   ],
   "source": [
    "onto_set = list(onto.classes())\n",
    "#onto_set = set([str(clss).lower().strip().split('.')[1] for clss in onto_set])"
   ]
  },
  {
   "cell_type": "code",
   "execution_count": 7,
   "id": "31294160-0798-4958-971c-5af756d6d368",
   "metadata": {},
   "outputs": [
    {
     "name": "stdout",
     "output_type": "stream",
     "text": [
      "No. of Classes in Food onto: 32022\n"
     ]
    }
   ],
   "source": [
    "print(\"No. of Classes in Food onto:\",len(onto_set))"
   ]
  },
  {
   "cell_type": "markdown",
   "id": "714fa227-994f-4f52-871a-c0878e9d276a",
   "metadata": {},
   "source": [
    "##### Exploring foodonto classes"
   ]
  },
  {
   "cell_type": "code",
   "execution_count": 8,
   "id": "c5536be0-2951-4607-8f19-ced07c0fe90e",
   "metadata": {},
   "outputs": [],
   "source": [
    "## Get the namespace for testing\n",
    "obo = get_namespace(\"http://purl.obolibrary.org/obo/\")"
   ]
  },
  {
   "cell_type": "code",
   "execution_count": 44,
   "id": "f7b3fa55-0395-4a2b-83e4-664bcd8b1f95",
   "metadata": {},
   "outputs": [],
   "source": [
    "def get_details_of_restriction(res):\n",
    "    print(\"\\t\\tEdge Label:\",res.property)\n",
    "    print(\"\\t\\tType:\",res.type)\n",
    "    print(\"\\t\\tBlank connected Node:\",res.value)\n",
    "        "
   ]
  },
  {
   "cell_type": "code",
   "execution_count": 82,
   "id": "f95b8077-9592-4c97-b2d0-37671ab75eb2",
   "metadata": {},
   "outputs": [],
   "source": [
    "def traverse_is_a_or_equivalent_to(parent):\n",
    "    print(\"\\tParent Entity:\",parent)\n",
    "    if type(parent)==owlready2.class_construct.And:\n",
    "        for connected_node in parent.is_a:\n",
    "            if type(connected_node)==owlready2.class_construct.Restriction:\n",
    "                print(\"\\tBlank Node Connected Entity:\",connected_node)\n",
    "                get_details_of_restriction(connected_node)\n",
    "            else:\n",
    "                print(\"\\tAND Connected Node:\",connected_node)"
   ]
  },
  {
   "cell_type": "code",
   "execution_count": 89,
   "id": "9c0a887f-13df-410e-9995-c1386ba89c8e",
   "metadata": {},
   "outputs": [],
   "source": [
    "def class_details(klass):\n",
    "    print(\"label:\",klass.label)\n",
    "    if list(klass.equivalent_to):\n",
    "        print(\"equivalent_to:\",list(klass.equivalent_to))\n",
    "        for parent in klass.equivalent_to:\n",
    "            traverse_is_a_or_equivalent_to(parent)\n",
    "    else:\n",
    "        print(\"is_a:\",list(klass.is_a))\n",
    "        for parent in klass.is_a:\n",
    "            traverse_is_a_or_equivalent_to(parent)"
   ]
  },
  {
   "cell_type": "code",
   "execution_count": 73,
   "id": "b279b373-bc06-422c-a6d2-27322f03f55b",
   "metadata": {},
   "outputs": [],
   "source": [
    "c=obo.FOODON_00002114 #is_a example\n",
    "#c=obo.FOODON_00002403 #is_equivalent example"
   ]
  },
  {
   "cell_type": "code",
   "execution_count": 75,
   "id": "b8d3efe4-7ac8-425a-8331-ba1a8ea0a337",
   "metadata": {},
   "outputs": [
    {
     "name": "stdout",
     "output_type": "stream",
     "text": [
      "label: ['pie food product']\n",
      "is_a: [obo.FOODON_00001180, obo.FOODON_00002347, obo.FOODON_00002644, obo.BFO_0000051.some(obo.FOODON_03306766) & obo.BFO_0000051.some(obo.FOODON_03306773) & obo.RO_0000086.some(obo.FOODON_00002407)]\n",
      "\tParent Entity: obo.FOODON_00001180\n",
      "\tParent Entity: obo.FOODON_00002347\n",
      "\tParent Entity: obo.FOODON_00002644\n",
      "\tParent Entity: obo.BFO_0000051.some(obo.FOODON_03306766) & obo.BFO_0000051.some(obo.FOODON_03306773) & obo.RO_0000086.some(obo.FOODON_00002407)\n",
      "\tBlank Node Connected Entity: obo.BFO_0000051.some(obo.FOODON_03306766)\n",
      "\t\tEdge Label: obo.BFO_0000051\n",
      "\t\tType: 24\n",
      "\t\tBlank connected Node: obo.FOODON_03306766\n",
      "\tBlank Node Connected Entity: obo.BFO_0000051.some(obo.FOODON_03306773)\n",
      "\t\tEdge Label: obo.BFO_0000051\n",
      "\t\tType: 24\n",
      "\t\tBlank connected Node: obo.FOODON_03306773\n",
      "\tBlank Node Connected Entity: obo.RO_0000086.some(obo.FOODON_00002407)\n",
      "\t\tEdge Label: obo.RO_0000086\n",
      "\t\tType: 24\n",
      "\t\tBlank connected Node: obo.FOODON_00002407\n"
     ]
    }
   ],
   "source": [
    "class_details(c)\n"
   ]
  },
  {
   "cell_type": "code",
   "execution_count": 78,
   "id": "4f163e90-aafd-4350-95ca-f704640aaf89",
   "metadata": {},
   "outputs": [
    {
     "name": "stdout",
     "output_type": "stream",
     "text": [
      "label: ['food material']\n",
      "equivalent_to: [obo.ENVO_00010483 & obo.RO_0000087.some(obo.CHEBI_33290)]\n",
      "\tParent Entity: obo.ENVO_00010483 & obo.RO_0000087.some(obo.CHEBI_33290)\n",
      "\tAnd Connected Node: obo.ENVO_00010483\n",
      "\tBlank Node Connected Entity: obo.RO_0000087.some(obo.CHEBI_33290)\n",
      "\t\tEdge Label: obo.RO_0000087\n",
      "\t\tType: 24\n",
      "\t\tBlank connected Node: obo.CHEBI_33290\n",
      "****************************************************************************************************\n",
      "label: ['food product']\n",
      "is_a: [obo.FOODON_00002403]\n",
      "\tParent Entity: obo.FOODON_00002403\n",
      "****************************************************************************************************\n",
      "label: ['data standard']\n",
      "is_a: [obo.OBI_0000658]\n",
      "\tParent Entity: obo.OBI_0000658\n",
      "****************************************************************************************************\n",
      "label: ['data representational model']\n",
      "is_a: [obo.IAO_0000033]\n",
      "\tParent Entity: obo.IAO_0000033\n",
      "****************************************************************************************************\n",
      "label: ['harvest process']\n",
      "is_a: [obo.AGRO_00002071]\n",
      "\tParent Entity: obo.AGRO_00002071\n",
      "****************************************************************************************************\n",
      "label: ['agricultural process']\n",
      "is_a: [obo.OBI_0000011]\n",
      "\tParent Entity: obo.OBI_0000011\n",
      "****************************************************************************************************\n",
      "label: ['treatment']\n",
      "is_a: [obo.AGRO_00002071]\n",
      "\tParent Entity: obo.AGRO_00002071\n",
      "****************************************************************************************************\n",
      "label: ['experimental site']\n",
      "is_a: [obo.ENVO_01000408]\n",
      "\tParent Entity: obo.ENVO_01000408\n",
      "****************************************************************************************************\n",
      "label: ['environmental zone']\n",
      "is_a: [obo.BFO_0000029]\n",
      "\tParent Entity: obo.BFO_0000029\n",
      "****************************************************************************************************\n",
      "label: ['greenhouse']\n",
      "is_a: [obo.AGRO_00000360]\n",
      "\tParent Entity: obo.AGRO_00000360\n",
      "****************************************************************************************************\n"
     ]
    }
   ],
   "source": [
    "cnt = 0\n",
    "for klass in onto.classes(): \n",
    "    if cnt==10:\n",
    "        break\n",
    "    #if re.search('FOODON', klass.name):\n",
    "    class_details(klass)\n",
    "    cnt+=1\n",
    "    print(\"*\"*100)"
   ]
  },
  {
   "cell_type": "code",
   "execution_count": 88,
   "id": "6a41e0cc-bbfd-4206-a98d-5187d4139eed",
   "metadata": {},
   "outputs": [
    {
     "data": {
      "text/plain": [
       "[obo.FOODON_03420175 | obo.FOODON_03420218]"
      ]
     },
     "execution_count": 88,
     "metadata": {},
     "output_type": "execute_result"
    }
   ],
   "source": [
    "obo.FOODON_03420103.equivalent_to"
   ]
  },
  {
   "cell_type": "code",
   "execution_count": null,
   "id": "ad09e181-86e1-4eee-bc45-a27f059e9644",
   "metadata": {},
   "outputs": [],
   "source": []
  },
  {
   "cell_type": "code",
   "execution_count": 59,
   "id": "d06034f4-c951-441c-a3e1-a08519e81d87",
   "metadata": {
    "jupyter": {
     "source_hidden": true
    },
    "tags": []
   },
   "outputs": [],
   "source": [
    "def class_details(klass):\n",
    "    print(\"label:\",klass.label)\n",
    "    if list(klass.equivalent_to):\n",
    "        print(\"equivalent_to:\",list(klass.equivalent_to))\n",
    "        for parent in klass.equivalent_to:\n",
    "            print(\"\\tParent Entity:\",parent)\n",
    "            if type(parent)==owlready2.class_construct.And:\n",
    "                    for connected_node in parent.is_a:\n",
    "                        if type(connected_node)==owlready2.class_construct.Restriction:\n",
    "                            print(\"\\tBlank Node Connected Entity:\",connected_node)\n",
    "                            get_details_of_restriction(connected_node)\n",
    "                        else:\n",
    "                            print(\"\\tAnd Connected Node:\",connected_node)\n",
    "    else:\n",
    "        print(\"is_a:\",list(klass.is_a))\n",
    "        for parent in klass.is_a:\n",
    "            print(\"\\tParent Entity:\",parent)\n",
    "            if type(parent)==owlready2.class_construct.And:\n",
    "                for connected_node in parent.is_a:\n",
    "                    if type(connected_node)==owlready2.class_construct.Restriction:\n",
    "                        print(\"\\tBlank Node Connected Entity:\",connected_node)\n",
    "                        get_details_of_restriction(connected_node)\n",
    "                    else:\n",
    "                        print(\"\\tAnd Connected Node:\",connected_node)"
   ]
  }
 ],
 "metadata": {
  "kernelspec": {
   "display_name": "Python 3 (ipykernel)",
   "language": "python",
   "name": "python3"
  },
  "language_info": {
   "codemirror_mode": {
    "name": "ipython",
    "version": 3
   },
   "file_extension": ".py",
   "mimetype": "text/x-python",
   "name": "python",
   "nbconvert_exporter": "python",
   "pygments_lexer": "ipython3",
   "version": "3.8.2"
  }
 },
 "nbformat": 4,
 "nbformat_minor": 5
}
