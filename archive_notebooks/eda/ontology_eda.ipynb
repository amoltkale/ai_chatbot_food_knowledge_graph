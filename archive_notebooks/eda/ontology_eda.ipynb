{
 "cells": [
  {
   "cell_type": "code",
   "execution_count": 1,
   "id": "8f2f4503-2cbc-4626-a7e9-9873f6d444d6",
   "metadata": {},
   "outputs": [
    {
     "name": "stderr",
     "output_type": "stream",
     "text": [
      "* Owlready2 * Warning: optimized Cython parser module 'owlready2_optimized' is not available, defaulting to slower Python implementation\n"
     ]
    }
   ],
   "source": [
    "from pathlib import Path\n",
    "\n",
    "from owlready2 import *"
   ]
  },
  {
   "cell_type": "code",
   "execution_count": 2,
   "id": "466c2f64-d1a2-44bc-9fa0-d7f4818c9c6a",
   "metadata": {},
   "outputs": [],
   "source": [
    "ontology_p = \"ontologies\"\n",
    "\n",
    "foodon_p   = ontology_p + \"/foodon_filtered.owl\"\n",
    "\n",
    "dul_p      = ontology_p + \"/DUL2.owl\""
   ]
  },
  {
   "cell_type": "code",
   "execution_count": 3,
   "id": "0fb9a155-f8e1-4c0c-9af0-457c0030c8c9",
   "metadata": {},
   "outputs": [
    {
     "data": {
      "text/plain": [
       "obo.FOODON_00002403"
      ]
     },
     "execution_count": 3,
     "metadata": {},
     "output_type": "execute_result"
    }
   ],
   "source": [
    "foodon_onto = get_ontology(foodon_p).load()\n",
    "i = 0\n",
    "for c in foodon_onto.classes():\n",
    "    break\n",
    "c"
   ]
  },
  {
   "cell_type": "code",
   "execution_count": 4,
   "id": "8e74ce15-04e5-45dc-a4f6-51f0a43805be",
   "metadata": {},
   "outputs": [
    {
     "name": "stdout",
     "output_type": "stream",
     "text": [
      "http://purl.obolibrary.org/obo/FOODON_00002403\n",
      "object: obo.FOODON_00002403 label: ['food material'] see also: [] isDefinedBy: []\n",
      "comment: []\n",
      "backwardCompatibleWith: [] incompatibleWith: [] deprecated: []\n",
      "version: [] prior version: []\n"
     ]
    }
   ],
   "source": [
    "'''\n",
    "The following annotations are available by default: comment, isDefinedBy, label, seeAlso, backwardCompatibleWith,\n",
    "deprecated, incompatibleWith, priorVersion, versionInfo.\n",
    "'''\n",
    "print(c.iri)\n",
    "print(f\"object: {c} label: {c.label} see also: {c.seeAlso} isDefinedBy: {c.isDefinedBy}\")\n",
    "print(f\"comment: {c.comment}\")\n",
    "print(f\"backwardCompatibleWith: {c.backwardCompatibleWith} incompatibleWith: {c.incompatibleWith} deprecated: {c.deprecated}\")\n",
    "print(f\"version: {c.versionInfo} prior version: {c.priorVersion}\")"
   ]
  },
  {
   "cell_type": "code",
   "execution_count": 5,
   "id": "71a55fe2-2d51-4fda-8603-e912f5fd48cb",
   "metadata": {},
   "outputs": [
    {
     "data": {
      "text/plain": [
       "['Any substance that can be consumed by an organism to satisfy nutritional or other health needs, or to provide a social or organoleptic food experience']"
      ]
     },
     "execution_count": 5,
     "metadata": {},
     "output_type": "execute_result"
    }
   ],
   "source": [
    "c.IAO_0000115"
   ]
  },
  {
   "cell_type": "code",
   "execution_count": 6,
   "id": "2a752815-4264-49ba-b854-ef75eaf92eec",
   "metadata": {},
   "outputs": [
    {
     "data": {
      "text/plain": [
       "[]"
      ]
     },
     "execution_count": 6,
     "metadata": {},
     "output_type": "execute_result"
    }
   ],
   "source": [
    "c.description"
   ]
  },
  {
   "cell_type": "code",
   "execution_count": 7,
   "id": "23deb139-15b3-468e-8928-071cf1644efd",
   "metadata": {},
   "outputs": [
    {
     "data": {
      "text/plain": [
       "[obo.ENVO_00010483, obo.RO_0000087.some(obo.CHEBI_33290)]"
      ]
     },
     "execution_count": 7,
     "metadata": {},
     "output_type": "execute_result"
    }
   ],
   "source": [
    "c.is_a"
   ]
  },
  {
   "cell_type": "code",
   "execution_count": 8,
   "id": "5a786328-ec4b-44f0-917e-8b92da58c043",
   "metadata": {},
   "outputs": [
    {
     "data": {
      "text/plain": [
       "[obo.ENVO_00010483 & obo.RO_0000087.some(obo.CHEBI_33290)]"
      ]
     },
     "execution_count": 8,
     "metadata": {},
     "output_type": "execute_result"
    }
   ],
   "source": [
    "c.equivalent_to"
   ]
  },
  {
   "cell_type": "code",
   "execution_count": 9,
   "id": "bea7044f-6528-4523-ab3a-8f145aac95c5",
   "metadata": {},
   "outputs": [
    {
     "data": {
      "text/plain": [
       "[(obo.ENVO_00010483, ['environmental material']),\n",
       " (obo.BFO_0000024, ['fiat object', 'fiat object part']),\n",
       " (obo.BFO_0000002, ['continuant', 'continuant']),\n",
       " (obo.BFO_0000040, ['material entity', 'material entity']),\n",
       " (owl.Thing, []),\n",
       " (obo.BFO_0000001, ['entity', 'entity']),\n",
       " (obo.BFO_0000004, ['independent continuant', 'independent continuant']),\n",
       " (obo.FOODON_00002403, ['food material'])]"
      ]
     },
     "execution_count": 9,
     "metadata": {},
     "output_type": "execute_result"
    }
   ],
   "source": [
    "# list(c.ancestors())\n",
    "[(i, i.label) for i in c.ancestors()]"
   ]
  },
  {
   "cell_type": "code",
   "execution_count": 10,
   "id": "57cbbfd6-fdb2-415c-887e-8e4e017ea77b",
   "metadata": {},
   "outputs": [
    {
     "name": "stderr",
     "output_type": "stream",
     "text": [
      "* Owlready2 * Warning: ignoring cyclic subclass of/subproperty of, involving:\n",
      "  http://purl.obolibrary.org/obo/FOODON_03315876\n",
      "\n"
     ]
    },
    {
     "data": {
      "text/plain": [
       "20607"
      ]
     },
     "execution_count": 10,
     "metadata": {},
     "output_type": "execute_result"
    }
   ],
   "source": [
    "len(list(c.descendants()))"
   ]
  },
  {
   "cell_type": "code",
   "execution_count": 11,
   "id": "086d3738-201e-4091-a77e-014974d00553",
   "metadata": {},
   "outputs": [
    {
     "data": {
      "text/plain": [
       "[(obo.FOODON_00001002, ['food product']),\n",
       " (obo.FOODON_03411041, ['chemical food component']),\n",
       " (obo.ENVO_02000047, ['animal feed']),\n",
       " (obo.ENVO_02000055, ['plant feed']),\n",
       " (obo.FOODON_00003374, ['harvested food material']),\n",
       " (obo.FOODON_00003402, ['pre-harvest food material']),\n",
       " (obo.FOODON_00003385, ['local food']),\n",
       " (obo.FOODON_00003437, ['harvestable food material']),\n",
       " (obo.FOODON_00004100, ['food material by component concentration']),\n",
       " (obo.FOODON_03400361, ['agency food product type'])]"
      ]
     },
     "execution_count": 11,
     "metadata": {},
     "output_type": "execute_result"
    }
   ],
   "source": [
    "[(i, i.label) for i in c.subclasses()]"
   ]
  },
  {
   "cell_type": "code",
   "execution_count": 12,
   "id": "18781e2f-c488-4bf1-90e8-8fa6ecb05a9a",
   "metadata": {},
   "outputs": [
    {
     "data": {
      "text/plain": [
       "[(obo.FOODON_00001002, ['food product']),\n",
       " (obo.FOODON_03411041, ['chemical food component']),\n",
       " (obo.ENVO_02000047, ['animal feed']),\n",
       " (obo.ENVO_02000055, ['plant feed']),\n",
       " (obo.FOODON_00003374, ['harvested food material']),\n",
       " (obo.FOODON_00003402, ['pre-harvest food material']),\n",
       " (obo.FOODON_00003385, ['local food']),\n",
       " (obo.FOODON_00003437, ['harvestable food material']),\n",
       " (obo.FOODON_00004100, ['food material by component concentration']),\n",
       " (obo.FOODON_03400361, ['agency food product type'])]"
      ]
     },
     "execution_count": 12,
     "metadata": {},
     "output_type": "execute_result"
    }
   ],
   "source": [
    "# [type(i) for i in foodon_onto.get_parents_of(c)]\n",
    "[(i, i.label) for i in foodon_onto.get_children_of(c)]"
   ]
  },
  {
   "cell_type": "code",
   "execution_count": 13,
   "id": "3c2d352a-9be2-44ba-af11-20c79c8f1c34",
   "metadata": {},
   "outputs": [
    {
     "data": {
      "text/plain": [
       "[obo.ENVO_00010483 & obo.RO_0000087.some(obo.CHEBI_33290)]"
      ]
     },
     "execution_count": 13,
     "metadata": {},
     "output_type": "execute_result"
    }
   ],
   "source": [
    "# foodon_onto.get_properties(c)\n",
    "c.equivalent_to"
   ]
  },
  {
   "cell_type": "code",
   "execution_count": 14,
   "id": "5ed979bc-6482-438d-b119-f0fcaa395f74",
   "metadata": {},
   "outputs": [
    {
     "data": {
      "text/plain": [
       "[obo.ENVO_00010483, obo.RO_0000087.some(obo.CHEBI_33290)]"
      ]
     },
     "execution_count": 14,
     "metadata": {},
     "output_type": "execute_result"
    }
   ],
   "source": [
    "c.is_a"
   ]
  },
  {
   "cell_type": "code",
   "execution_count": 15,
   "id": "9b3df80b-1dac-4243-8724-29c42360af9a",
   "metadata": {},
   "outputs": [
    {
     "data": {
      "text/plain": [
       "[]"
      ]
     },
     "execution_count": 15,
     "metadata": {},
     "output_type": "execute_result"
    }
   ],
   "source": [
    "list(c.instances())"
   ]
  },
  {
   "cell_type": "code",
   "execution_count": 16,
   "id": "ebf5d613-101a-4f5d-b13c-a6b5e7f6c96c",
   "metadata": {},
   "outputs": [
    {
     "data": {
      "text/plain": [
       "[obo.COB_0000511,\n",
       " .time:numericDuration,\n",
       " obo.BFO_0000050,\n",
       " obo.BFO_0000051,\n",
       " obo.BFO_0000054]"
      ]
     },
     "execution_count": 16,
     "metadata": {},
     "output_type": "execute_result"
    }
   ],
   "source": [
    "foodon_properties = list(foodon_onto.properties())\n",
    "foodon_properties[:5]"
   ]
  },
  {
   "cell_type": "code",
   "execution_count": 17,
   "id": "a812e750-6ae9-448e-b98e-bb5e774b4b58",
   "metadata": {},
   "outputs": [
    {
     "data": {
      "text/plain": [
       "['has part', 'has part', 'has_part']"
      ]
     },
     "execution_count": 17,
     "metadata": {},
     "output_type": "execute_result"
    }
   ],
   "source": [
    "# for prop in foodon_properties:\n",
    "    # print(len(list(prop.get_relations())))\n",
    "#     try:\n",
    "#         c.prop.get_relations()\n",
    "#         print(\":)\")\n",
    "#     except:\n",
    "#         pass\n",
    "prop = foodon_properties[3]\n",
    "prop.label"
   ]
  },
  {
   "cell_type": "code",
   "execution_count": 18,
   "id": "9d814ef5-93fa-48a5-bb7b-fc455bd97532",
   "metadata": {},
   "outputs": [
    {
     "data": {
      "text/plain": [
       "[]"
      ]
     },
     "execution_count": 18,
     "metadata": {},
     "output_type": "execute_result"
    }
   ],
   "source": [
    "list(prop.get_relations())"
   ]
  },
  {
   "cell_type": "code",
   "execution_count": 19,
   "id": "5d2f0874-7b05-4630-8b17-66dcce3caa76",
   "metadata": {},
   "outputs": [
    {
     "name": "stdout",
     "output_type": "stream",
     "text": [
      "http://purl.obolibrary.org/obo/FOODON_00002114\n",
      "object: obo.FOODON_00002114 label: ['pie food product'] see also: [] isDefinedBy: []\n",
      "comment: []\n",
      "backwardCompatibleWith: [] incompatibleWith: [] deprecated: []\n",
      "version: [] prior version: []\n"
     ]
    }
   ],
   "source": [
    "for p in foodon_onto.classes():\n",
    "    if p.name == \"FOODON_00002114\":\n",
    "        break\n",
    "print(p.iri)\n",
    "print(f\"object: {p} label: {p.label} see also: {p.seeAlso} isDefinedBy: {p.isDefinedBy}\")\n",
    "print(f\"comment: {c.comment}\")\n",
    "print(f\"backwardCompatibleWith: {p.backwardCompatibleWith} incompatibleWith: {p.incompatibleWith} deprecated: {p.deprecated}\")\n",
    "print(f\"version: {p.versionInfo} prior version: {p.priorVersion}\")\n",
    "# p.label"
   ]
  },
  {
   "cell_type": "code",
   "execution_count": 20,
   "id": "e6108a2f-9ece-4640-9fa1-93fe3f5d1f16",
   "metadata": {},
   "outputs": [
    {
     "data": {
      "text/plain": [
       "[]"
      ]
     },
     "execution_count": 20,
     "metadata": {},
     "output_type": "execute_result"
    }
   ],
   "source": [
    "p.IAO_0000115"
   ]
  },
  {
   "cell_type": "code",
   "execution_count": 21,
   "id": "bfdea5c1-e79f-4505-b960-c71ce5b12fde",
   "metadata": {},
   "outputs": [
    {
     "data": {
      "text/plain": [
       "[obo.FOODON_00001180,\n",
       " obo.FOODON_00002347,\n",
       " obo.FOODON_00002644,\n",
       " obo.BFO_0000051.some(obo.FOODON_03306766) & obo.BFO_0000051.some(obo.FOODON_03306773) & obo.RO_0000086.some(obo.FOODON_00002407)]"
      ]
     },
     "execution_count": 21,
     "metadata": {},
     "output_type": "execute_result"
    }
   ],
   "source": [
    "p.is_a"
   ]
  },
  {
   "cell_type": "code",
   "execution_count": 22,
   "id": "364c588b-ae97-430d-8a92-3f421680be45",
   "metadata": {},
   "outputs": [
    {
     "data": {
      "text/plain": [
       "[obo.FOODON_00001180,\n",
       " obo.FOODON_00002347,\n",
       " obo.FOODON_00002644,\n",
       " obo.BFO_0000051.some(obo.FOODON_03306766) & obo.BFO_0000051.some(obo.FOODON_03306773) & obo.RO_0000086.some(obo.FOODON_00002407)]"
      ]
     },
     "execution_count": 22,
     "metadata": {},
     "output_type": "execute_result"
    }
   ],
   "source": [
    "foodon_onto.get_parents_of(p)"
   ]
  },
  {
   "cell_type": "code",
   "execution_count": 23,
   "id": "87b205fb-9334-4ced-a49e-2295a9d8e6cc",
   "metadata": {},
   "outputs": [
    {
     "data": {
      "text/plain": [
       "[]"
      ]
     },
     "execution_count": 23,
     "metadata": {},
     "output_type": "execute_result"
    }
   ],
   "source": [
    "p.equivalent_to"
   ]
  },
  {
   "cell_type": "code",
   "execution_count": 24,
   "id": "2d7e43e6-8465-487e-afc1-12d571842753",
   "metadata": {},
   "outputs": [
    {
     "data": {
      "text/plain": [
       "[(obo.FOODON_03315926, ['meat pie food product']),\n",
       " (obo.FOODON_00001890, ['fruit pie food product']),\n",
       " (obo.FOODON_00001779, ['cow milk pie food product']),\n",
       " (obo.FOODON_03306779, ['pie (frozen)']),\n",
       " (obo.FOODON_03317288, ['pie (baked)']),\n",
       " (obo.FOODON_00002476, ['pie (whole)']),\n",
       " (obo.FOODON_00002848, ['enchilada']),\n",
       " (obo.FOODON_03301930, ['pie (sweetened)']),\n",
       " (obo.FOODON_03306543, ['wiesbadner tartlet']),\n",
       " (obo.FOODON_03306768, ['cheese pie']),\n",
       " (obo.FOODON_03306772, ['cream pie made with synthetic topping or filling']),\n",
       " (obo.FOODON_03306781, ['pecan pie']),\n",
       " (obo.FOODON_03307479, ['toaster pastry']),\n",
       " (obo.FOODON_03309486, ['squash pie']),\n",
       " (obo.FOODON_03310541, ['tuna pot pie']),\n",
       " (obo.FOODON_03310773, ['pie (unsweetened, served as entree)']),\n",
       " (obo.FOODON_03315200, ['pudding-filled pie'])]"
      ]
     },
     "execution_count": 24,
     "metadata": {},
     "output_type": "execute_result"
    }
   ],
   "source": [
    "[(i, i.label) for i in p.subclasses()]"
   ]
  },
  {
   "cell_type": "code",
   "execution_count": 25,
   "id": "db112d4b-bda7-4acf-ae3b-a4720e332bc9",
   "metadata": {},
   "outputs": [
    {
     "data": {
      "text/plain": [
       "[(obo.FOODON_00002645, ['food product by process']),\n",
       " (obo.FOODON_00002347, ['wheat based bakery food product']),\n",
       " (obo.FOODON_00002151, ['plant seed based bakery food product']),\n",
       " (obo.ENVO_00010483, ['environmental material']),\n",
       " (obo.FOODON_03316579, ['multi-component plant food product']),\n",
       " (obo.FOODON_00001015, ['plant food product']),\n",
       " (obo.FOODON_00001002, ['food product']),\n",
       " (obo.BFO_0000040, ['material entity', 'material entity']),\n",
       " (obo.FOODON_00001173, ['plant seed food product']),\n",
       " (obo.BFO_0000001, ['entity', 'entity']),\n",
       " (obo.FOODON_00001180, ['prepared food product']),\n",
       " (obo.FOODON_00001626, ['bakery food product']),\n",
       " (obo.FOODON_00002114, ['pie food product']),\n",
       " (owl.Thing, []),\n",
       " (obo.FOODON_00001917, ['grain based bakery food product']),\n",
       " (obo.FOODON_00002403, ['food material']),\n",
       " (obo.FOODON_00002125, ['plant based bakery food product']),\n",
       " (obo.BFO_0000024, ['fiat object', 'fiat object part']),\n",
       " (obo.FOODON_00001093, ['cereal grain food product']),\n",
       " (obo.BFO_0000002, ['continuant', 'continuant']),\n",
       " (obo.BFO_0000004, ['independent continuant', 'independent continuant']),\n",
       " (obo.FOODON_00002381, ['food product by organism']),\n",
       " (obo.FOODON_03460177, ['plant seed or nut food product']),\n",
       " (obo.FOODON_00002501, ['multi-component food product']),\n",
       " (obo.FOODON_00002644, ['food (filled)'])]"
      ]
     },
     "execution_count": 25,
     "metadata": {},
     "output_type": "execute_result"
    }
   ],
   "source": [
    "[(i, i.label) for i in p.ancestors()]"
   ]
  },
  {
   "cell_type": "code",
   "execution_count": 28,
   "id": "b556fd84-4c1e-444e-960c-9b457478cae8",
   "metadata": {},
   "outputs": [
    {
     "name": "stdout",
     "output_type": "stream",
     "text": [
      "http://purl.obolibrary.org/obo/FOODON_00001002\n",
      "object: obo.FOODON_00001002 label: ['food product'] see also: [] isDefinedBy: []\n",
      "comment: []\n",
      "backwardCompatibleWith: [] incompatibleWith: [] deprecated: []\n",
      "version: [] prior version: []\n",
      "is a: [obo.FOODON_00002403]\n"
     ]
    },
    {
     "name": "stderr",
     "output_type": "stream",
     "text": [
      "* Owlready2 * Warning: ignoring cyclic subclass of/subproperty of, involving:\n",
      "  http://purl.obolibrary.org/obo/FOODON_00002511\n",
      "\n"
     ]
    },
    {
     "name": "stdout",
     "output_type": "stream",
     "text": [
      "http://purl.obolibrary.org/obo/FOODON_03000431\n",
      "object: obo.FOODON_03000431 label: ['chia food product'] see also: [] isDefinedBy: []\n",
      "comment: []\n",
      "backwardCompatibleWith: [] incompatibleWith: [] deprecated: []\n",
      "version: [] prior version: []\n",
      "is a: [obo.FOODON_00001173]\n",
      "http://purl.obolibrary.org/obo/FOODON_03311651\n",
      "object: obo.FOODON_03311651 label: ['bubod (food product)'] see also: ['https://www.jstage.jst.go.jp/article/jbrewsocjapan1988/85/11/85_11_818/_article'] isDefinedBy: []\n",
      "comment: []\n",
      "backwardCompatibleWith: [] incompatibleWith: [] deprecated: []\n",
      "version: [] prior version: []\n",
      "is a: [obo.FOODON_00001015, obo.FOODON_00001145, obo.RO_0001000.some(obo.FOODON_03411016), obo.RO_0002350.some(obo.FOODON_03400125)]\n"
     ]
    }
   ],
   "source": [
    "class_labels = ['chia food product', 'bubod (food product)', 'food product']\n",
    "broken_classes = {}\n",
    "for p in foodon_onto.classes():\n",
    "    try:\n",
    "        if p.label[0] in class_labels:\n",
    "            print(p.iri)\n",
    "            print(f\"object: {p} label: {p.label} see also: {p.seeAlso} isDefinedBy: {p.isDefinedBy}\")\n",
    "            print(f\"comment: {c.comment}\")\n",
    "            print(f\"backwardCompatibleWith: {p.backwardCompatibleWith} incompatibleWith: {p.incompatibleWith} deprecated: {p.deprecated}\")\n",
    "            print(f\"version: {p.versionInfo} prior version: {p.priorVersion}\")\n",
    "            print(f\"is a: {p.is_a}\")\n",
    "            print(f\"equivalent to: {p.equivalent_to()}\")\n",
    "    except:\n",
    "        # print(p.__class__)\n",
    "        broken_classes[p] = [p.iri]\n",
    "        # break\n",
    "        pass"
   ]
  },
  {
   "cell_type": "code",
   "execution_count": 27,
   "id": "095a585e-8247-45c1-bc92-8c84415ef59c",
   "metadata": {},
   "outputs": [
    {
     "data": {
      "text/plain": [
       "'https://www.w3.org/TR/owl-time/#time:TemporalUnit'"
      ]
     },
     "execution_count": 27,
     "metadata": {},
     "output_type": "execute_result"
    }
   ],
   "source": [
    "# p.IAO_0000115\n",
    "p.iri"
   ]
  },
  {
   "cell_type": "code",
   "execution_count": 28,
   "id": "573949b4-dfc4-456d-aa32-5f389b4545fe",
   "metadata": {},
   "outputs": [],
   "source": [
    "import pandas as pd"
   ]
  },
  {
   "cell_type": "code",
   "execution_count": 29,
   "id": "99148140-4eac-4987-bc09-09e487136ea3",
   "metadata": {},
   "outputs": [
    {
     "data": {
      "text/html": [
       "<div>\n",
       "<style scoped>\n",
       "    .dataframe tbody tr th:only-of-type {\n",
       "        vertical-align: middle;\n",
       "    }\n",
       "\n",
       "    .dataframe tbody tr th {\n",
       "        vertical-align: top;\n",
       "    }\n",
       "\n",
       "    .dataframe thead th {\n",
       "        text-align: right;\n",
       "    }\n",
       "</style>\n",
       "<table border=\"1\" class=\"dataframe\">\n",
       "  <thead>\n",
       "    <tr style=\"text-align: right;\">\n",
       "      <th></th>\n",
       "      <th>class_name</th>\n",
       "      <th>iri</th>\n",
       "    </tr>\n",
       "  </thead>\n",
       "  <tbody>\n",
       "    <tr>\n",
       "      <th>obo.FOODON_00001002</th>\n",
       "      <td>obo.FOODON_00001002</td>\n",
       "      <td>http://purl.obolibrary.org/obo/FOODON_00001002</td>\n",
       "    </tr>\n",
       "    <tr>\n",
       "      <th>obo.CDNO_0000001</th>\n",
       "      <td>obo.CDNO_0000001</td>\n",
       "      <td>http://purl.obolibrary.org/obo/CDNO_0000001</td>\n",
       "    </tr>\n",
       "    <tr>\n",
       "      <th>obo.CDNO_0000002</th>\n",
       "      <td>obo.CDNO_0000002</td>\n",
       "      <td>http://purl.obolibrary.org/obo/CDNO_0000002</td>\n",
       "    </tr>\n",
       "    <tr>\n",
       "      <th>obo.CDNO_0000003</th>\n",
       "      <td>obo.CDNO_0000003</td>\n",
       "      <td>http://purl.obolibrary.org/obo/CDNO_0000003</td>\n",
       "    </tr>\n",
       "    <tr>\n",
       "      <th>obo.CHEBI_16646</th>\n",
       "      <td>obo.CHEBI_16646</td>\n",
       "      <td>http://purl.obolibrary.org/obo/CHEBI_16646</td>\n",
       "    </tr>\n",
       "  </tbody>\n",
       "</table>\n",
       "</div>"
      ],
      "text/plain": [
       "                              class_name  \\\n",
       "obo.FOODON_00001002  obo.FOODON_00001002   \n",
       "obo.CDNO_0000001        obo.CDNO_0000001   \n",
       "obo.CDNO_0000002        obo.CDNO_0000002   \n",
       "obo.CDNO_0000003        obo.CDNO_0000003   \n",
       "obo.CHEBI_16646          obo.CHEBI_16646   \n",
       "\n",
       "                                                                iri  \n",
       "obo.FOODON_00001002  http://purl.obolibrary.org/obo/FOODON_00001002  \n",
       "obo.CDNO_0000001        http://purl.obolibrary.org/obo/CDNO_0000001  \n",
       "obo.CDNO_0000002        http://purl.obolibrary.org/obo/CDNO_0000002  \n",
       "obo.CDNO_0000003        http://purl.obolibrary.org/obo/CDNO_0000003  \n",
       "obo.CHEBI_16646          http://purl.obolibrary.org/obo/CHEBI_16646  "
      ]
     },
     "execution_count": 29,
     "metadata": {},
     "output_type": "execute_result"
    }
   ],
   "source": [
    "broken_classes = pd.DataFrame(broken_classes).T\n",
    "broken_classes[\"class_name\"] = broken_classes.index\n",
    "broken_classes.rename(columns={0:\"iri\"}, inplace=True)\n",
    "broken_classes = broken_classes[broken_classes.columns.tolist()[::-1]]\n",
    "broken_classes.to_csv('no_labels.csv', index=False)\n",
    "broken_classes.head()"
   ]
  },
  {
   "cell_type": "code",
   "execution_count": 30,
   "id": "ea03376f-6c5e-4d33-87ba-4bab2c775023",
   "metadata": {},
   "outputs": [
    {
     "data": {
      "text/plain": [
       "(908, 2)"
      ]
     },
     "execution_count": 30,
     "metadata": {},
     "output_type": "execute_result"
    }
   ],
   "source": [
    "broken_classes.shape"
   ]
  },
  {
   "cell_type": "code",
   "execution_count": 31,
   "id": "4298294c-b9c1-4d2f-bf15-7eafeb66e083",
   "metadata": {},
   "outputs": [
    {
     "data": {
      "text/plain": [
       "['iri', 'class_name']"
      ]
     },
     "execution_count": 31,
     "metadata": {},
     "output_type": "execute_result"
    }
   ],
   "source": [
    "broken_classes.columns.tolist()[::-1]"
   ]
  },
  {
   "cell_type": "code",
   "execution_count": 32,
   "id": "6b66f994-d50c-4156-b7ab-11eac1583afe",
   "metadata": {},
   "outputs": [
    {
     "data": {
      "text/plain": [
       "[obo.COB_0000511, .time:numericDuration]"
      ]
     },
     "execution_count": 32,
     "metadata": {},
     "output_type": "execute_result"
    }
   ],
   "source": [
    "list(foodon_onto.data_properties())"
   ]
  },
  {
   "cell_type": "code",
   "execution_count": 33,
   "id": "0323a3c1-f763-4c33-ab8e-972f83432201",
   "metadata": {},
   "outputs": [
    {
     "data": {
      "text/plain": [
       "32022"
      ]
     },
     "execution_count": 33,
     "metadata": {},
     "output_type": "execute_result"
    }
   ],
   "source": [
    "foodon_onto = get_ontology(foodon_p).load()\n",
    "i = 0\n",
    "for c in foodon_onto.classes():\n",
    "    i = i + 1\n",
    "i"
   ]
  },
  {
   "cell_type": "code",
   "execution_count": 34,
   "id": "2b949fb9-2208-4dc6-8dc8-ea4e38aac633",
   "metadata": {},
   "outputs": [
    {
     "data": {
      "text/plain": [
       "60"
      ]
     },
     "execution_count": 34,
     "metadata": {},
     "output_type": "execute_result"
    }
   ],
   "source": [
    "i = 0\n",
    "for c in foodon_onto.individuals():\n",
    "    i = i + 1\n",
    "i"
   ]
  },
  {
   "cell_type": "code",
   "execution_count": 35,
   "id": "324341b5-65a5-4f5e-bdfb-6ac7b1e92c48",
   "metadata": {},
   "outputs": [
    {
     "data": {
      "text/plain": [
       "65"
      ]
     },
     "execution_count": 35,
     "metadata": {},
     "output_type": "execute_result"
    }
   ],
   "source": [
    "len(list(foodon_onto.object_properties()))"
   ]
  },
  {
   "cell_type": "code",
   "execution_count": 36,
   "id": "5fa11509-76bf-4b97-af37-7177195106ad",
   "metadata": {},
   "outputs": [
    {
     "data": {
      "text/plain": [
       "65"
      ]
     },
     "execution_count": 36,
     "metadata": {},
     "output_type": "execute_result"
    }
   ],
   "source": [
    "len(list(foodon_onto.object_properties()))"
   ]
  },
  {
   "cell_type": "code",
   "execution_count": 37,
   "id": "a515f000-cefa-4f45-85d2-7462bdee2471",
   "metadata": {},
   "outputs": [
    {
     "data": {
      "text/plain": [
       "74"
      ]
     },
     "execution_count": 37,
     "metadata": {},
     "output_type": "execute_result"
    }
   ],
   "source": [
    "dul_onto = get_ontology(dul_p).load()\n",
    "i = 0\n",
    "for c in dul_onto.classes():\n",
    "    i = i + 1\n",
    "i"
   ]
  },
  {
   "cell_type": "code",
   "execution_count": 38,
   "id": "978c4a90-16f5-4d9e-8f3e-3c6ff5776c6e",
   "metadata": {},
   "outputs": [
    {
     "data": {
      "text/plain": [
       "[owl.Thing,\n",
       " DUL.Event,\n",
       " DUL2.Agent,\n",
       " DUL2.SocialAgent,\n",
       " DUL2.Entity,\n",
       " DUL2.Concept,\n",
       " DUL2.Collection,\n",
       " DUL2.SocialObject,\n",
       " DUL2.InformationRealization,\n",
       " DUL2.Object,\n",
       " DUL2.Description,\n",
       " DUL2.Role,\n",
       " DUL2.Task,\n",
       " DUL2.Action,\n",
       " DUL2.InformationObject,\n",
       " DUL2.Parameter,\n",
       " DUL2.Situation,\n",
       " DUL2.Quality,\n",
       " DUL2.Region,\n",
       " DUL2.TimeInterval,\n",
       " DUL2.Abstract,\n",
       " DUL2.Amount,\n",
       " DUL2.PhysicalAttribute,\n",
       " DUL2.SpaceRegion,\n",
       " DUL2.BiologicalObject,\n",
       " DUL2.PhysicalBody,\n",
       " DUL2.ChemicalObject,\n",
       " DUL2.Classification,\n",
       " DUL2.Collective,\n",
       " DUL2.CollectiveAgent,\n",
       " DUL2.Community,\n",
       " DUL2.Configuration,\n",
       " DUL2.Contract,\n",
       " DUL2.Design,\n",
       " DUL2.DesignedArtifact,\n",
       " DUL2.PhysicalArtifact,\n",
       " DUL2.DesignedSubstance,\n",
       " DUL2.FunctionalSubstance,\n",
       " DUL2.Diagnosis,\n",
       " DUL2.EventType,\n",
       " DUL2.Substance,\n",
       " DUL2.Goal,\n",
       " DUL2.Group,\n",
       " DUL2.Plan,\n",
       " DUL2.InformationEntity,\n",
       " DUL2.PhysicalObject,\n",
       " DUL2.LocalConcept,\n",
       " DUL2.Method,\n",
       " DUL2.Narrative,\n",
       " DUL2.NaturalPerson,\n",
       " DUL2.Person,\n",
       " DUL2.PhysicalAgent,\n",
       " DUL2.Norm,\n",
       " DUL2.Organism,\n",
       " DUL2.Organization,\n",
       " DUL2.Pattern,\n",
       " DUL2.Relation,\n",
       " DUL2.Personification,\n",
       " DUL2.PhysicalPlace,\n",
       " DUL2.Place,\n",
       " DUL2.PlanExecution,\n",
       " DUL2.Process,\n",
       " DUL2.Project,\n",
       " DUL2.Right,\n",
       " DUL2.SocialObjectAttribute,\n",
       " DUL2.SocialPerson,\n",
       " DUL2.SocialRelation,\n",
       " DUL2.SpatioTemporalRegion,\n",
       " DUL2.Theory,\n",
       " DUL2.Transition,\n",
       " DUL2.TypeCollection,\n",
       " DUL2.UnitOfMeasure,\n",
       " DUL2.Workflow,\n",
       " DUL2.WorkflowExecution]"
      ]
     },
     "execution_count": 38,
     "metadata": {},
     "output_type": "execute_result"
    }
   ],
   "source": [
    "list(dul_onto.classes())"
   ]
  },
  {
   "cell_type": "code",
   "execution_count": 39,
   "id": "563c44f1-1f3d-4f9e-a22f-06a906d6016f",
   "metadata": {},
   "outputs": [
    {
     "data": {
      "text/plain": [
       "[DUL2.sameSettingAs,\n",
       " DUL2.overlaps,\n",
       " DUL2.nearTo,\n",
       " DUL2.unifies,\n",
       " DUL2.isUnifiedBy,\n",
       " DUL2.isSuperordinatedTo,\n",
       " DUL2.isSubordinatedTo,\n",
       " DUL2.specializes,\n",
       " DUL2.isSpecializedBy,\n",
       " DUL2.satisfies,\n",
       " DUL2.isSatisfiedBy,\n",
       " DUL2.realizesInformationAbout,\n",
       " DUL2.isReferenceOfInformationRealizedBy,\n",
       " DUL2.realizes,\n",
       " DUL2.isRealizedBy,\n",
       " DUL2.parametrizes,\n",
       " DUL2.isParametrizedBy,\n",
       " DUL2.isTimeOfObservationOf,\n",
       " DUL2.isObservableAt,\n",
       " DUL2.isConceptUsedIn,\n",
       " DUL2.isReferenceOf,\n",
       " DUL2.isAbout,\n",
       " DUL2.isAgentInvolvedIn,\n",
       " DUL2.involvesAgent,\n",
       " DUL2.isIntroducedBy,\n",
       " DUL2.introduces,\n",
       " DUL2.isTimeIncludedIn,\n",
       " DUL2.includesTime,\n",
       " DUL2.isObjectIncludedIn,\n",
       " DUL2.isEventIncludedIn,\n",
       " DUL2.isAgentIncludedIn,\n",
       " DUL2.includesObject,\n",
       " DUL2.includesAgent,\n",
       " DUL2.isActionIncludedIn,\n",
       " DUL2.includesEvent,\n",
       " DUL2.includesAction,\n",
       " DUL2.isTimeIntervalOf,\n",
       " DUL2.hasTimeInterval,\n",
       " DUL2.isTaskOf,\n",
       " DUL2.hasTask,\n",
       " DUL2.isSettingFor,\n",
       " DUL2.hasSetting,\n",
       " DUL2.isRoleOf,\n",
       " DUL2.hasRole,\n",
       " DUL2.isRegionFor,\n",
       " DUL2.hasRegion,\n",
       " DUL2.isQualityOf,\n",
       " DUL2.hasQuality,\n",
       " DUL2.isPreconditionOf,\n",
       " DUL2.hasPrecondition,\n",
       " DUL2.isPostconditionOf,\n",
       " DUL2.hasPostcondition,\n",
       " DUL2.isParticipantIn,\n",
       " DUL2.hasParticipant,\n",
       " DUL2.isPartOf,\n",
       " DUL2.isParameterFor,\n",
       " DUL2.isRelatedToConcept,\n",
       " DUL2.hasParameter,\n",
       " DUL2.isMemberOf,\n",
       " DUL2.hasMember,\n",
       " DUL2.isLocationOf,\n",
       " DUL2.hasLocation,\n",
       " DUL2.isConstraintFor,\n",
       " DUL2.hasConstraint,\n",
       " DUL2.isConstituentOf,\n",
       " DUL2.hasConstituent,\n",
       " DUL2.isComponentOf,\n",
       " DUL2.hasPart,\n",
       " DUL2.hasComponent,\n",
       " DUL2.hasCommonBoundary,\n",
       " DUL2.farFrom,\n",
       " DUL2.isConceptExpressedBy,\n",
       " DUL2.expressesConcept,\n",
       " DUL2.isExpressedBy,\n",
       " DUL2.expresses,\n",
       " DUL2.isExpandedIn,\n",
       " DUL2.isRelatedToDescription,\n",
       " DUL2.expands,\n",
       " DUL2.isExecutedIn,\n",
       " DUL2.executesTask,\n",
       " DUL2.precedes,\n",
       " DUL2.directlyPrecedes,\n",
       " DUL2.follows,\n",
       " DUL2.directlyFollows,\n",
       " DUL2.isDescribedBy,\n",
       " DUL2.describes,\n",
       " DUL2.isTaskDefinedIn,\n",
       " DUL2.definesTask,\n",
       " DUL2.isRoleDefinedIn,\n",
       " DUL2.definesRole,\n",
       " DUL2.isDefinedIn,\n",
       " DUL2.usesConcept,\n",
       " DUL2.defines,\n",
       " DUL2.isCoveredBy,\n",
       " DUL2.covers,\n",
       " DUL2.coparticipatesWith,\n",
       " DUL2.isConcretelyExpressedBy,\n",
       " DUL2.concretelyExpresses,\n",
       " DUL2.isConceptualizedBy,\n",
       " DUL2.conceptualizes,\n",
       " DUL2.isClassifiedBy,\n",
       " DUL2.classifies,\n",
       " DUL2.isCharacterizedBy,\n",
       " DUL2.characterizes,\n",
       " DUL2.actsThrough,\n",
       " DUL2.associatedWith,\n",
       " DUL2.actsFor]"
      ]
     },
     "execution_count": 39,
     "metadata": {},
     "output_type": "execute_result"
    }
   ],
   "source": [
    "a = list(dul_onto.object_properties())\n",
    "a.sort(reverse=True)\n",
    "a"
   ]
  },
  {
   "cell_type": "code",
   "execution_count": 40,
   "id": "5322dc28-b65c-46a2-add3-c248eba480cb",
   "metadata": {},
   "outputs": [
    {
     "data": {
      "text/plain": [
       "74"
      ]
     },
     "execution_count": 40,
     "metadata": {},
     "output_type": "execute_result"
    }
   ],
   "source": [
    "len(list(dul_onto.classes()))"
   ]
  }
 ],
 "metadata": {
  "kernelspec": {
   "display_name": "Python 3 (ipykernel)",
   "language": "python",
   "name": "python3"
  },
  "language_info": {
   "codemirror_mode": {
    "name": "ipython",
    "version": 3
   },
   "file_extension": ".py",
   "mimetype": "text/x-python",
   "name": "python",
   "nbconvert_exporter": "python",
   "pygments_lexer": "ipython3",
   "version": "3.10.8"
  }
 },
 "nbformat": 4,
 "nbformat_minor": 5
}
