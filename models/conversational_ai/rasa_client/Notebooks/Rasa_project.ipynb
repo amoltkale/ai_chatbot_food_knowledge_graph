{
 "cells": [
  {
   "cell_type": "markdown",
   "id": "87217728-2fca-41bc-b18f-5297fdc87120",
   "metadata": {},
   "source": [
    "## Rasa Client - AI feature\n"
   ]
  },
  {
   "cell_type": "markdown",
   "id": "a1764683-9273-4f30-a093-b3aa8a468daf",
   "metadata": {},
   "source": [
    "### Installing Rasa Client\n",
    "Read before running Jupyter notebook. Running asynchronous Rasa code in Jupyter Notebooks requires an extra requirement. Since Jupyter Notebooks already run on event loops. Install this requirement in the command line before launching jupyter:\n",
    "\n",
    "pip install nest_asyncio\n",
    "\n",
    "### Run the following commands from Terminal.   \n",
    "\n",
    "##### 1. First install a tool that allows you to create a virtual environment for the version of Python you will be using. Remember Rasa requires Python version 3.6 - 3.9.\n",
    "    \n",
    "##### 2. Next  create a folder for your project to go into.\n",
    "    Example: mkdir rasa-client \n",
    "    cd rasa-client\n",
    "##### 3. Next create a new environment for Rasa using the environment tool you selected.\n",
    "   \n",
    "##### 4. Next activate the environment.\n",
    "   \n",
    "##### 5.Install Rasa\n",
    "    pip install rasa\n"
   ]
  },
  {
   "cell_type": "code",
   "execution_count": null,
   "id": "ae34471e-ab4d-4da6-b205-f54847de184a",
   "metadata": {},
   "outputs": [],
   "source": [
    "import nest_asyncio\n",
    "\n",
    "nest_asyncio.apply()\n",
    "print(\"Event loop ready.\")"
   ]
  },
  {
   "cell_type": "code",
   "execution_count": null,
   "id": "6c38a1d6-fd55-407b-8858-1af7b0cded41",
   "metadata": {},
   "outputs": [],
   "source": [
    "#create an initial project - only run this once.\n",
    "from rasa.cli.scaffold import create_initial_project\n",
    "import os\n",
    "\n",
    "project = \"test-project\"\n",
    "create_initial_project(project)\n",
    "\n",
    "# move into project directory and show files\n",
    "os.chdir(project)\n",
    "print(os.listdir(\".\"))"
   ]
  },
  {
   "cell_type": "code",
   "execution_count": null,
   "id": "a5f3bce7-57a6-4e99-b8d9-bbec5466c93f",
   "metadata": {},
   "outputs": [],
   "source": [
    "#take a look at what's in the directory,\n",
    "!ls"
   ]
  },
  {
   "cell_type": "code",
   "execution_count": null,
   "id": "4d9e2e5d-910c-4286-ae75-e686bedbddf0",
   "metadata": {},
   "outputs": [],
   "source": [
    "## Configuration files\n",
    "\n",
    "config = \"config.yml\"\n",
    "training_files = \"data/\"\n",
    "domain = \"domain.yml\"\n",
    "output = \"models/\"\n",
    "print(config, training_files, domain, output)"
   ]
  },
  {
   "cell_type": "code",
   "execution_count": null,
   "id": "589f4f21-f087-4c1a-9f98-ae858ea4f2d6",
   "metadata": {},
   "outputs": [],
   "source": [
    "## Train a model\n",
    "\n",
    "import rasa\n",
    "\n",
    "model_path = rasa.train(domain, config, [training_files], output)\n",
    "print(model_path)"
   ]
  },
  {
   "cell_type": "code",
   "execution_count": null,
   "id": "063d196b-adeb-4666-b246-197338fff232",
   "metadata": {},
   "outputs": [],
   "source": [
    "#copy the model .gz file that was created in the above step to the model path in this cell.\n",
    "print(model_path)\n",
    "model_path = \"models/20230214-184512-coal-spline.tar.gz\""
   ]
  },
  {
   "cell_type": "markdown",
   "id": "98588331-da03-4489-9e6e-fd9db82d05e9",
   "metadata": {},
   "source": [
    "### Chat with your assistant\n"
   ]
  },
  {
   "cell_type": "code",
   "execution_count": null,
   "id": "38640673-954c-43ac-a505-a43bd262e71e",
   "metadata": {},
   "outputs": [],
   "source": [
    "from rasa.jupyter import chat\n",
    "\n",
    "#endpoints = 'endpoints.yml'\n",
    "endpoints = None #we don't have endpoints set up yet but this will change\n",
    "chat(model_path, endpoints)\n"
   ]
  },
  {
   "cell_type": "markdown",
   "id": "b888fc54-160c-44aa-9626-8b71b5efa91f",
   "metadata": {},
   "source": [
    "### Evaluate your model against test data"
   ]
  },
  {
   "cell_type": "code",
   "execution_count": null,
   "id": "2e5839de-d89b-4e60-93b2-6003c4fa8aca",
   "metadata": {},
   "outputs": [],
   "source": [
    "import rasa.shared.data as data\n",
    "nlu_data_directory = data.get_nlu_directory(training_files)\n",
    "stories_directory = data.get_core_directory(training_files)\n",
    "print(stories_directory, nlu_data_directory)"
   ]
  },
  {
   "cell_type": "markdown",
   "id": "3d065f15-3905-44bd-8924-9e0f2ce2199d",
   "metadata": {},
   "source": [
    "### Test your model"
   ]
  },
  {
   "cell_type": "code",
   "execution_count": null,
   "id": "f99c302e-ade1-43e0-9596-1683f135d875",
   "metadata": {},
   "outputs": [],
   "source": [
    "rasa.test(model_path, stories_directory, nlu_data_directory)\n",
    "print(\"Done testing.\")"
   ]
  },
  {
   "cell_type": "markdown",
   "id": "7aded742-c9a5-46c2-b97d-7b9010c1a80a",
   "metadata": {},
   "source": [
    "The results of the core evaluation will be written to a file called results. NLU errors will be reported to errors.json. Together, they contain information about the accuracy of your model's predictions and other metrics.\n"
   ]
  },
  {
   "cell_type": "code",
   "execution_count": null,
   "id": "cb4aa31a-7ecc-4b75-9577-ec0cbac74f73",
   "metadata": {},
   "outputs": [],
   "source": [
    "if os.path.isfile(\"errors.json\"):\n",
    "    print(\"NLU Errors:\")\n",
    "    print(open(\"errors.json\").read())\n",
    "else:\n",
    "    print(\"No NLU errors.\")\n",
    "\n",
    "if os.path.isdir(\"results\"):\n",
    "      print(\"\\n\")\n",
    "      print(\"Core Errors:\")\n",
    "      print(open(\"results/failed_test_stories.yml\").read())"
   ]
  },
  {
   "cell_type": "markdown",
   "id": "853ba52a-324b-4beb-9853-9cb794cf27a8",
   "metadata": {},
   "source": [
    "### Now let's try chatting again\n"
   ]
  },
  {
   "cell_type": "code",
   "execution_count": null,
   "id": "98a2e74c-89f5-40a4-8925-d10714de39e2",
   "metadata": {},
   "outputs": [],
   "source": [
    "endpoints = None\n",
    "chat(model_path, endpoints)"
   ]
  },
  {
   "cell_type": "code",
   "execution_count": null,
   "id": "d5d552a0-2c15-4825-bb04-ba559b8867c4",
   "metadata": {},
   "outputs": [],
   "source": []
  }
 ],
 "metadata": {
  "kernelspec": {
   "display_name": "Python 3",
   "language": "python",
   "name": "python3"
  },
  "language_info": {
   "codemirror_mode": {
    "name": "ipython",
    "version": 3
   },
   "file_extension": ".py",
   "mimetype": "text/x-python",
   "name": "python",
   "nbconvert_exporter": "python",
   "pygments_lexer": "ipython3",
   "version": "3.8.8"
  }
 },
 "nbformat": 4,
 "nbformat_minor": 5
}
