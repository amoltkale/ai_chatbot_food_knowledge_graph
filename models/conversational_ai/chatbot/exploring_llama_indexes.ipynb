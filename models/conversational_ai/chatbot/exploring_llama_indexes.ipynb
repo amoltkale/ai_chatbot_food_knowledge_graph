{
 "cells": [
  {
   "cell_type": "code",
   "execution_count": 3,
   "id": "3b5cb2e2",
   "metadata": {},
   "outputs": [],
   "source": [
    "from llama_index import Document\n",
    "from llama_index.node_parser import SimpleNodeParser"
   ]
  },
  {
   "cell_type": "code",
   "execution_count": 2,
   "id": "3be5f605",
   "metadata": {},
   "outputs": [
    {
     "data": {
      "text/plain": [
       "[Document(text='We are working on creating a chatbot which would answer questions on location recommendation', doc_id='af500a73-956e-4eba-b588-bdeda76f2b14', embedding=None, doc_hash='91b23c795828a1d2d934064c099d09e3430edbc8fa3e8e1089241de82db56f90', extra_info=None),\n",
       " Document(text='The other use of the chatbot is to help the end user or small business entrepreneur with guidance on regulation', doc_id='925ae63d-30ff-4d19-a285-37976301a6a2', embedding=None, doc_hash='d5c767eb1ec7e2fb1c363cdbc8b4e0fbfad586a02b9259489acdb8460a4155b1', extra_info=None)]"
      ]
     },
     "execution_count": 2,
     "metadata": {},
     "output_type": "execute_result"
    }
   ],
   "source": [
    "text_list = ['We are working on creating a chatbot which would answer questions on location recommendation',\n",
    "             'The other use of the chatbot is to help the end user or small business entrepreneur with guidance on regulation']\n",
    "documents = [Document(t) for t in text_list]\n",
    "documents"
   ]
  },
  {
   "cell_type": "code",
   "execution_count": 4,
   "id": "3ef9ef18",
   "metadata": {},
   "outputs": [
    {
     "data": {
      "text/plain": [
       "[Node(text='We are working on creating a chatbot which would answer questions on location recommendation', doc_id='6a6fd17b-2f7e-41f6-bcc2-17f7676047e2', embedding=None, doc_hash='91b23c795828a1d2d934064c099d09e3430edbc8fa3e8e1089241de82db56f90', extra_info=None, node_info={'start': 0, 'end': 92}, relationships={<DocumentRelationship.SOURCE: '1'>: 'af500a73-956e-4eba-b588-bdeda76f2b14'}),\n",
       " Node(text='The other use of the chatbot is to help the end user or small business entrepreneur with guidance on regulation', doc_id='4c9c6c40-44ce-41b5-af91-a5b952a08b05', embedding=None, doc_hash='d5c767eb1ec7e2fb1c363cdbc8b4e0fbfad586a02b9259489acdb8460a4155b1', extra_info=None, node_info={'start': 0, 'end': 111}, relationships={<DocumentRelationship.SOURCE: '1'>: '925ae63d-30ff-4d19-a285-37976301a6a2'})]"
      ]
     },
     "execution_count": 4,
     "metadata": {},
     "output_type": "execute_result"
    }
   ],
   "source": [
    "parser = SimpleNodeParser()\n",
    "\n",
    "nodes = parser.get_nodes_from_documents(documents)\n",
    "nodes"
   ]
  },
  {
   "cell_type": "code",
   "execution_count": null,
   "id": "5430b2d7",
   "metadata": {},
   "outputs": [],
   "source": []
  }
 ],
 "metadata": {
  "kernelspec": {
   "display_name": "Python 3 (ipykernel)",
   "language": "python",
   "name": "python3"
  },
  "language_info": {
   "codemirror_mode": {
    "name": "ipython",
    "version": 3
   },
   "file_extension": ".py",
   "mimetype": "text/x-python",
   "name": "python",
   "nbconvert_exporter": "python",
   "pygments_lexer": "ipython3",
   "version": "3.9.16"
  }
 },
 "nbformat": 4,
 "nbformat_minor": 5
}
