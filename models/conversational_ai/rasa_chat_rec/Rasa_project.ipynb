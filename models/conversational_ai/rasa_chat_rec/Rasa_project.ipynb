{
 "cells": [
  {
   "cell_type": "markdown",
   "id": "87217728-2fca-41bc-b18f-5297fdc87120",
   "metadata": {},
   "source": [
    "## Rasa Client - AI feature\n"
   ]
  },
  {
   "cell_type": "markdown",
   "id": "a1764683-9273-4f30-a093-b3aa8a468daf",
   "metadata": {},
   "source": [
    "### Installing Rasa Client\n",
    "Read before running Jupyter notebook. Running asynchronous Rasa code in Jupyter Notebooks requires an extra requirement. Since Jupyter Notebooks already run on event loops. Install this requirement in the command line before launching jupyter:\n",
    "\n",
    "pip install nest_asyncio\n",
    "\n",
    "### Run the following commands from Terminal.   \n",
    "\n",
    "##### 1. First install a tool that allows you to create a virtual environment for the version of Python you will be using. Remember Rasa requires Python version 3.6 - 3.9.\n",
    "    \n",
    "##### 2. Next  create a folder for your project to go into.\n",
    "    Example: mkdir rasa_chatbox \n",
    "    cd rasa_chatbox\n",
    "##### 3. Next create a new environment for Rasa using the environment tool you selected.\n",
    "   \n",
    "##### 4. Next activate the environment.\n",
    "   \n",
    "##### 5.Install Rasa\n",
    "    pip install rasa\n",
    "    \n",
    "************ Run Rasa Chat from the terminal using a cloned recommender example *******************\n",
    "## Clone the github branch rasa_chat\n",
    "\n",
    "\n",
    "### Run and train a Rasa model from the terminal\n",
    "Open a terminal window\n",
    "cd to the rasa_chat directory and run the following commands\n",
    "make sure you are in the rasa_chat directory from the cloned repo,\n",
    "\n",
    "#### Run the following commands:\n",
    "\n",
    "\"rasa train\" \n",
    "\"rasa run actions\"\n",
    "\n",
    "#### To chat with the bot on the command line, run:\n",
    "\"rasa shell\"\n",
    "\n",
    "#### Stopping the chatbox\n",
    "type: \"/stop\" in the terminal\n",
    "\n"
   ]
  },
  {
   "cell_type": "code",
   "execution_count": 1,
   "id": "ae34471e-ab4d-4da6-b205-f54847de184a",
   "metadata": {},
   "outputs": [
    {
     "name": "stdout",
     "output_type": "stream",
     "text": [
      "Event loop ready.\n"
     ]
    }
   ],
   "source": [
    "import nest_asyncio\n",
    "import rasa\n",
    "\n",
    "nest_asyncio.apply()\n",
    "print(\"Event loop ready.\")"
   ]
  },
  {
   "cell_type": "code",
   "execution_count": 20,
   "id": "6c38a1d6-fd55-407b-8858-1af7b0cded41",
   "metadata": {},
   "outputs": [
    {
     "name": "stdout",
     "output_type": "stream",
     "text": [
      "['.DS_Store', 'tests', 'models', 'endpoints.yml', '.rasa', 'credentials.yml', 'actions', 'Rasa_project.ipynb', 'config.yml', '.ipynb_checkpoints', 'domain.yml', 'data', 'knowledge_base_data.json']\n"
     ]
    }
   ],
   "source": [
    "#create an initial project - only run this once.\n",
    "from rasa.cli.scaffold import create_initial_project\n",
    "import os\n",
    "\n",
    "project = \"test-project\"\n",
    "#create_initial_project(project)\n",
    "\n",
    "# move into project directory and show files\n",
    "#os.chdir(project)\n",
    "print(os.listdir(\".\"))"
   ]
  },
  {
   "cell_type": "code",
   "execution_count": 21,
   "id": "a5f3bce7-57a6-4e99-b8d9-bbec5466c93f",
   "metadata": {},
   "outputs": [
    {
     "name": "stdout",
     "output_type": "stream",
     "text": [
      "Rasa_project.ipynb       \u001b[34mdata\u001b[m\u001b[m                     \u001b[34mmodels\u001b[m\u001b[m\n",
      "\u001b[34mactions\u001b[m\u001b[m                  domain.yml               \u001b[34mtests\u001b[m\u001b[m\n",
      "config.yml               endpoints.yml\n",
      "credentials.yml          knowledge_base_data.json\n"
     ]
    }
   ],
   "source": [
    "#Endpoints, config, domain and credentials .yml files should exist in the directory where you ran Rasa\n",
    "!ls"
   ]
  },
  {
   "cell_type": "code",
   "execution_count": null,
   "id": "3809cfbd-505d-4381-907b-f3c5680e93f2",
   "metadata": {},
   "outputs": [],
   "source": []
  },
  {
   "cell_type": "code",
   "execution_count": 7,
   "id": "38174101-fc11-4cd8-a15e-0c9891ad4511",
   "metadata": {},
   "outputs": [
    {
     "name": "stdout",
     "output_type": "stream",
     "text": [
      "{'id': 0, 'name': 'Donath', 'cuisine': 'Italian', 'outside-seating': True, 'price-range': 'mid-range'}\n",
      "{'id': 1, 'name': 'Berlin Burrito Company', 'cuisine': 'Mexican', 'outside-seating': False, 'price-range': 'cheap'}\n",
      "{'id': 2, 'name': 'I due forni', 'cuisine': 'Italian', 'outside-seating': True, 'price-range': 'mid-range'}\n",
      "{'id': 3, 'name': 'Lụa Restaurant', 'cuisine': 'Vietnamese', 'outside-seating': True, 'price-range': 'cheap'}\n",
      "{'id': 4, 'name': 'Pfefferberg', 'cuisine': 'German', 'outside-seating': True, 'price-range': 'mid-range'}\n",
      "{'id': 5, 'name': 'Marubi Ramen', 'cuisine': 'Japanese', 'outside-seating': False, 'price-range': 'cheap'}\n",
      "{'id': 6, 'name': 'Gong Gan', 'cuisine': 'Korean', 'outside-seating': True, 'price-range': 'cheap'}\n"
     ]
    }
   ],
   "source": [
    "#Argis database infor will replace this code; Endpoints will need to be configured\n",
    "#to retrive data from Argis\n",
    "\n",
    "import json\n",
    "  \n",
    "# Opening JSON file\n",
    "f = open('knowledge_base_data.json')\n",
    "  \n",
    "# returns JSON object as \n",
    "# a dictionary\n",
    "data = json.load(f)\n",
    "  \n",
    "# Iterating through the json\n",
    "# list\n",
    "for i in data['restaurant']:\n",
    "    print(i)\n",
    "  \n",
    "# Closing file\n",
    "#print(data)\n",
    "f.close()"
   ]
  },
  {
   "cell_type": "code",
   "execution_count": 5,
   "id": "8d58060e-21cf-4a5e-a311-3f869833081c",
   "metadata": {},
   "outputs": [
    {
     "name": "stderr",
     "output_type": "stream",
     "text": [
      "/Users/galore/anaconda3/lib/python3.8/site-packages/requests_toolbelt/_compat.py:56: DeprecationWarning: 'urllib3.contrib.pyopenssl' module is deprecated and will be removed in a future release of urllib3 2.x. Read more in this issue: https://github.com/urllib3/urllib3/issues/2680\n",
      "  from requests.packages.urllib3.contrib.pyopenssl \\\n",
      "\u001b[93m/Users/galore/anaconda3/lib/python3.8/site-packages/rasa/shared/core/slot_mappings.py:221: UserWarning: Slot auto-fill has been removed in 3.0 and replaced with a new explicit mechanism to set slots. Please refer to https://rasa.com/docs/rasa/domain#slots to learn more.\n",
      "  rasa.shared.utils.io.raise_warning(\n",
      "\u001b[0m\u001b[93m/Users/galore/anaconda3/lib/python3.8/site-packages/rasa/shared/utils/io.py:98: UserWarning: Issue found in 'data/.ipynb_checkpoints/stories-checkpoint.yml': \n",
      "Found intent 'mood_great' in stories which is not part of the domain.\n",
      "  More info at https://rasa.com/docs/rasa/stories\n",
      "\u001b[0m\u001b[93m/Users/galore/anaconda3/lib/python3.8/site-packages/rasa/shared/utils/io.py:98: UserWarning: Issue found in 'data/.ipynb_checkpoints/stories-checkpoint.yml': \n",
      "Found intent 'mood_unhappy' in stories which is not part of the domain.\n",
      "  More info at https://rasa.com/docs/rasa/stories\n",
      "\u001b[0m\u001b[93m/Users/galore/anaconda3/lib/python3.8/site-packages/rasa/shared/utils/io.py:98: UserWarning: Issue found in 'data/.ipynb_checkpoints/stories-checkpoint.yml': \n",
      "Found intent 'affirm' in stories which is not part of the domain.\n",
      "  More info at https://rasa.com/docs/rasa/stories\n",
      "\u001b[0m\u001b[93m/Users/galore/anaconda3/lib/python3.8/site-packages/rasa/shared/utils/io.py:98: UserWarning: Issue found in 'data/.ipynb_checkpoints/stories-checkpoint.yml': \n",
      "Found intent 'deny' in stories which is not part of the domain.\n",
      "  More info at https://rasa.com/docs/rasa/stories\n",
      "\u001b[0m\u001b[93m/Users/galore/anaconda3/lib/python3.8/site-packages/rasa/shared/core/slot_mappings.py:221: UserWarning: Slot auto-fill has been removed in 3.0 and replaced with a new explicit mechanism to set slots. Please refer to https://rasa.com/docs/rasa/domain#slots to learn more.\n",
      "  rasa.shared.utils.io.raise_warning(\n",
      "\u001b[0m"
     ]
    },
    {
     "name": "stdout",
     "output_type": "stream",
     "text": [
      "Your Rasa model is trained and saved at 'models/20230226-160634-miniature-fern.tar.gz'.\n",
      "TrainingResult(model='models/20230226-160634-miniature-fern.tar.gz', code=0, dry_run_results=None)\n"
     ]
    }
   ],
   "source": [
    "\n",
    "## do not run this cell if you were ran the rasa train command from the terminal.\n",
    "\n",
    "#model_path = rasa.train(domain, config, [training_files], output)\n",
    "#print(model_path)"
   ]
  },
  {
   "cell_type": "code",
   "execution_count": 15,
   "id": "4d9e2e5d-910c-4286-ae75-e686bedbddf0",
   "metadata": {},
   "outputs": [
    {
     "name": "stdout",
     "output_type": "stream",
     "text": [
      "config.yml data/ domain.yml models/\n"
     ]
    }
   ],
   "source": [
    "## Configuration files\n",
    "\n",
    "config = \"config.yml\"\n",
    "training_files = \"data/\"\n",
    "domain = \"domain.yml\"\n",
    "output = \"models/\"\n",
    "print(config, training_files, domain, output)"
   ]
  },
  {
   "cell_type": "markdown",
   "id": "a2bf2fa8-67e8-408c-b6ab-21ba188a72b5",
   "metadata": {},
   "source": [
    "\n",
    "rasa init\tCreates a new project with example training data, actions, and config files.\n",
    "\n",
    "rasa train\tTrains a model using your NLU data and stories, saves trained model in ./models.\n",
    "\n",
    "rasa interactive\tStarts an interactive learning session to create new training data by chatting to your assistant.\n",
    "\n",
    "rasa shell\tLoads your trained model and lets you talk to your assistant on the command line.\n",
    "\n",
    "rasa run\tStarts a server with your trained model.\n",
    "\n",
    "rasa run actions\tStarts an action server using the Rasa SDK.\n",
    "\n",
    "rasa visualize\tGenerates a visual representation of your stories.\n",
    "rasa test\tTests a trained Rasa model on any files starting with test_.\n",
    "\n",
    "rasa data split nlu\tPerforms a 80/20 split of your NLU training data.\n",
    "\n",
    "rasa data convert\tConverts training data between different formats.\n",
    "\n",
    "rasa data migrate\tMigrates 2.0 domain to 3.0 format.\n",
    "\n",
    "rasa data validate\tChecks the domain, NLU and conversation data for inconsistencies.\n",
    "\n",
    "rasa export\tExports conversations from a tracker store to an event broker.\n",
    "\n",
    "rasa evaluate markers\tExtracts markers from an existing tracker store.\n",
    "\n",
    "rasa -h\tShows all available commands."
   ]
  },
  {
   "cell_type": "code",
   "execution_count": null,
   "id": "e3830948-b078-40cc-8325-abb4f66c38c1",
   "metadata": {},
   "outputs": [],
   "source": []
  },
  {
   "cell_type": "code",
   "execution_count": 16,
   "id": "589f4f21-f087-4c1a-9f98-ae858ea4f2d6",
   "metadata": {},
   "outputs": [
    {
     "name": "stderr",
     "output_type": "stream",
     "text": [
      "\u001b[93m/Users/galore/anaconda3/lib/python3.8/site-packages/rasa/shared/utils/io.py:98: UserWarning: Issue found in 'data/.ipynb_checkpoints/stories-checkpoint.yml': \n",
      "Found intent 'mood_great' in stories which is not part of the domain.\n",
      "  More info at https://rasa.com/docs/rasa/stories\n",
      "\u001b[0m\u001b[93m/Users/galore/anaconda3/lib/python3.8/site-packages/rasa/shared/utils/io.py:98: UserWarning: Issue found in 'data/.ipynb_checkpoints/stories-checkpoint.yml': \n",
      "Found intent 'mood_unhappy' in stories which is not part of the domain.\n",
      "  More info at https://rasa.com/docs/rasa/stories\n",
      "\u001b[0m\u001b[93m/Users/galore/anaconda3/lib/python3.8/site-packages/rasa/shared/utils/io.py:98: UserWarning: Issue found in 'data/.ipynb_checkpoints/stories-checkpoint.yml': \n",
      "Found intent 'affirm' in stories which is not part of the domain.\n",
      "  More info at https://rasa.com/docs/rasa/stories\n",
      "\u001b[0m\u001b[93m/Users/galore/anaconda3/lib/python3.8/site-packages/rasa/shared/utils/io.py:98: UserWarning: Issue found in 'data/.ipynb_checkpoints/stories-checkpoint.yml': \n",
      "Found intent 'deny' in stories which is not part of the domain.\n",
      "  More info at https://rasa.com/docs/rasa/stories\n",
      "\u001b[0m\u001b[93m/Users/galore/anaconda3/lib/python3.8/site-packages/rasa/shared/core/slot_mappings.py:221: UserWarning: Slot auto-fill has been removed in 3.0 and replaced with a new explicit mechanism to set slots. Please refer to https://rasa.com/docs/rasa/domain#slots to learn more.\n",
      "  rasa.shared.utils.io.raise_warning(\n",
      "\u001b[0m"
     ]
    },
    {
     "name": "stdout",
     "output_type": "stream",
     "text": [
      "Your Rasa model is trained and saved at 'models/20230226-200416-forward-mouth.tar.gz'.\n",
      "TrainingResult(model='models/20230226-200416-forward-mouth.tar.gz', code=0, dry_run_results=None)\n"
     ]
    }
   ],
   "source": [
    "## Train a model\n",
    "\n",
    "\n",
    "model_path = rasa.train(domain, config, [training_files], output)\n",
    "print(model_path)"
   ]
  },
  {
   "cell_type": "code",
   "execution_count": 17,
   "id": "063d196b-adeb-4666-b246-197338fff232",
   "metadata": {},
   "outputs": [
    {
     "name": "stderr",
     "output_type": "stream",
     "text": [
      "/Users/galore/anaconda3/lib/python3.8/site-packages/ipykernel/ipkernel.py:287: DeprecationWarning: `should_run_async` will not call `transform_cell` automatically in the future. Please pass the result to `transformed_cell` argument and any exception that happen during thetransform in `preprocessing_exc_tuple` in IPython 7.17 and above.\n",
      "  and should_run_async(code)\n"
     ]
    }
   ],
   "source": [
    "#copy the model .gz file that was created in the above step to the model path in this cell.\n",
    "#copy the model .gz file that was created in the command line\n",
    "#print(model_path)\n",
    "model_path = \"models/20230226-190459-blocky-broadcast.tar.gz\"\n"
   ]
  },
  {
   "cell_type": "markdown",
   "id": "98588331-da03-4489-9e6e-fd9db82d05e9",
   "metadata": {},
   "source": [
    "### Chat with your assistant\n"
   ]
  },
  {
   "cell_type": "code",
   "execution_count": 19,
   "id": "38640673-954c-43ac-a505-a43bd262e71e",
   "metadata": {},
   "outputs": [
    {
     "name": "stderr",
     "output_type": "stream",
     "text": [
      "\u001b[93m/Users/galore/anaconda3/lib/python3.8/site-packages/rasa/shared/core/slot_mappings.py:221: UserWarning: Slot auto-fill has been removed in 3.0 and replaced with a new explicit mechanism to set slots. Please refer to https://rasa.com/docs/rasa/domain#slots to learn more.\n",
      "  rasa.shared.utils.io.raise_warning(\n",
      "\u001b[0m/Users/galore/anaconda3/lib/python3.8/site-packages/tensorflow/python/framework/indexed_slices.py:444: UserWarning: Converting sparse IndexedSlices(IndexedSlices(indices=Tensor(\"gradients/cond_grad/gradients/cond/GatherV2_grad/Reshape_1:0\", shape=(None,), dtype=int32), values=Tensor(\"gradients/cond_grad/gradients/cond/GatherV2_grad/Reshape:0\", shape=(None,), dtype=float32), dense_shape=Tensor(\"gradients/cond_grad/gradients/cond/GatherV2_grad/Cast:0\", shape=(1,), dtype=int32))) to a dense Tensor of unknown shape. This may consume a large amount of memory.\n",
      "  warnings.warn(\n",
      "\u001b[93m/Users/galore/anaconda3/lib/python3.8/site-packages/rasa/utils/train_utils.py:528: UserWarning: constrain_similarities is set to `False`. It is recommended to set it to `True` when using cross-entropy loss.\n",
      "  rasa.shared.utils.io.raise_warning(\n",
      "\u001b[0m"
     ]
    },
    {
     "name": "stdout",
     "output_type": "stream",
     "text": [
      "Your bot is ready to talk! Type your messages here or send '/stop'.\n"
     ]
    },
    {
     "name": "stdin",
     "output_type": "stream",
     "text": [
      " hi there\n"
     ]
    },
    {
     "name": "stdout",
     "output_type": "stream",
     "text": [
      "Hello! How can I help you?\n"
     ]
    },
    {
     "name": "stdin",
     "output_type": "stream",
     "text": [
      " what restaurants can you recommend?\n",
      " /stop\n"
     ]
    }
   ],
   "source": [
    "from rasa.jupyter import chat\n",
    "\n",
    "#endpoints = 'endpoints.yml'\n",
    "endpoints = None\n",
    "chat(model_path, endpoints)\n"
   ]
  },
  {
   "cell_type": "markdown",
   "id": "b888fc54-160c-44aa-9626-8b71b5efa91f",
   "metadata": {},
   "source": [
    "### Evaluate your model against test data"
   ]
  },
  {
   "cell_type": "code",
   "execution_count": null,
   "id": "2e5839de-d89b-4e60-93b2-6003c4fa8aca",
   "metadata": {},
   "outputs": [],
   "source": [
    "import rasa.shared.data as data\n",
    "nlu_data_directory = data.get_nlu_directory(training_files)\n",
    "stories_directory = data.get_core_directory(training_files)\n",
    "print(stories_directory, nlu_data_directory)"
   ]
  },
  {
   "cell_type": "markdown",
   "id": "3d065f15-3905-44bd-8924-9e0f2ce2199d",
   "metadata": {},
   "source": [
    "### Test your model"
   ]
  },
  {
   "cell_type": "code",
   "execution_count": null,
   "id": "f99c302e-ade1-43e0-9596-1683f135d875",
   "metadata": {},
   "outputs": [],
   "source": [
    "rasa.test(model_path, stories_directory, nlu_data_directory)\n",
    "print(\"Done testing.\")"
   ]
  },
  {
   "cell_type": "markdown",
   "id": "7aded742-c9a5-46c2-b97d-7b9010c1a80a",
   "metadata": {},
   "source": [
    "The results of the core evaluation will be written to a file called results. NLU errors will be reported to errors.json. Together, they contain information about the accuracy of your model's predictions and other metrics.\n"
   ]
  },
  {
   "cell_type": "code",
   "execution_count": null,
   "id": "cb4aa31a-7ecc-4b75-9577-ec0cbac74f73",
   "metadata": {},
   "outputs": [],
   "source": [
    "if os.path.isfile(\"errors.json\"):\n",
    "    print(\"NLU Errors:\")\n",
    "    print(open(\"errors.json\").read())\n",
    "else:\n",
    "    print(\"No NLU errors.\")\n",
    "\n",
    "if os.path.isdir(\"results\"):\n",
    "      print(\"\\n\")\n",
    "      print(\"Core Errors:\")\n",
    "      print(open(\"results/failed_test_stories.yml\").read())"
   ]
  },
  {
   "cell_type": "markdown",
   "id": "853ba52a-324b-4beb-9853-9cb794cf27a8",
   "metadata": {},
   "source": [
    "### Now let's try chatting again\n"
   ]
  },
  {
   "cell_type": "code",
   "execution_count": null,
   "id": "98a2e74c-89f5-40a4-8925-d10714de39e2",
   "metadata": {},
   "outputs": [],
   "source": [
    "endpoints = None\n",
    "chat(model_path, endpoints)"
   ]
  },
  {
   "cell_type": "code",
   "execution_count": null,
   "id": "d5d552a0-2c15-4825-bb04-ba559b8867c4",
   "metadata": {},
   "outputs": [],
   "source": []
  }
 ],
 "metadata": {
  "kernelspec": {
   "display_name": "Python 3",
   "language": "python",
   "name": "python3"
  },
  "language_info": {
   "codemirror_mode": {
    "name": "ipython",
    "version": 3
   },
   "file_extension": ".py",
   "mimetype": "text/x-python",
   "name": "python",
   "nbconvert_exporter": "python",
   "pygments_lexer": "ipython3",
   "version": "3.8.8"
  }
 },
 "nbformat": 4,
 "nbformat_minor": 5
}
