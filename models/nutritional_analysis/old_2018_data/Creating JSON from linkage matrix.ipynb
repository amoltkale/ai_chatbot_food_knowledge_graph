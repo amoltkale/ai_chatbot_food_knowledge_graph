{
 "cells": [
  {
   "cell_type": "code",
   "execution_count": 5,
   "id": "832fc416-3d9e-4177-aee1-e2def7116ea7",
   "metadata": {},
   "outputs": [],
   "source": [
    "import json\n",
    "import numpy as np\n",
    "import pandas as pd"
   ]
  },
  {
   "cell_type": "code",
   "execution_count": 2,
   "id": "dd56f59f-d03b-479e-92de-5c3cfe8ab09e",
   "metadata": {},
   "outputs": [],
   "source": [
    "# csv paths\n",
    "nutrient_matrix_data_p = r\"../../data/Nutrients_Branded_Foods_2018/\"\n",
    "\n",
    "nutrient_matrix_csv_p = nutrient_matrix_data_p + \"nutrients_matrix.csv.gz\""
   ]
  },
  {
   "cell_type": "code",
   "execution_count": 7,
   "id": "6953c3df-9b5f-445d-9caf-a28fd4182ad7",
   "metadata": {},
   "outputs": [],
   "source": [
    "#parameters to save the linkage matrix\n",
    "metric = 'euclidean'\n",
    "\n",
    "linkage = 'ward'\n",
    "\n",
    "fname = nutrient_matrix_data_p + 'hcluster_nutrients_' + metric + '_' + linkage + '.npy'"
   ]
  },
  {
   "cell_type": "code",
   "execution_count": 6,
   "id": "a47d6c3b-61dd-4a23-800e-7f2a1c34211f",
   "metadata": {},
   "outputs": [],
   "source": [
    "#read data\n",
    "nutrients_matrix = pd.read_csv(nutrient_matrix_csv_p)\n",
    "#set ndb no as index\n",
    "nutrients_matrix.set_index(\"NDB_No\", inplace = True)\n",
    "#create a list of indices where all entries are zero\n",
    "nutrients_zero_rows = nutrients_matrix.loc[(nutrients_matrix==0).all(axis=1)].index\n",
    "#filter out indicies where all entires are zero\n",
    "nutrients_matrix = nutrients_matrix[~nutrients_matrix.index.isin(nutrients_zero_rows)]"
   ]
  },
  {
   "cell_type": "markdown",
   "id": "6414a4d8-7e41-443f-8c37-92b89f9f1f6f",
   "metadata": {},
   "source": [
    "#### Create a json object from the linkage matrix"
   ]
  },
  {
   "cell_type": "code",
   "execution_count": 8,
   "id": "480963ec-c90e-447a-9d67-00bf4347f532",
   "metadata": {},
   "outputs": [],
   "source": [
    "linkage_matrix = np.load(fname, allow_pickle=True)"
   ]
  },
  {
   "cell_type": "markdown",
   "id": "56bf3025-4970-4eee-81a1-6cf0f4c75200",
   "metadata": {},
   "source": [
    "Build the json object with recursion.\n",
    "Inspiration:\n",
    "\n",
    "https://stackoverflow.com/questions/65462806/how-to-parse-data-from-scikitlearn-agglomerative-clustering"
   ]
  },
  {
   "cell_type": "code",
   "execution_count": 17,
   "id": "47f70c6a-470b-423d-bdc7-26134dfddf94",
   "metadata": {},
   "outputs": [],
   "source": [
    "def create_tree(linked, leaf_labels):\n",
    "    ## inner func to recurvise-ly walk the linkage matrix\n",
    "    def recurTree(tree):\n",
    "        k = tree['clust']\n",
    "        ## no children for this node\n",
    "        if k not in inter:\n",
    "            tree['nbd_no'] = int(leaf_labels[k])\n",
    "            del tree[\"clust\"]\n",
    "            del tree[\"children\"]\n",
    "            return\n",
    "        for n in inter[k]:\n",
    "            ## build child nodes\n",
    "            node = {\n",
    "                \"clust\": int(n),\n",
    "                \"parent\": k,\n",
    "                \"children\": []\n",
    "            }\n",
    "            ## add to children\n",
    "            tree['children'].append(node)\n",
    "            ## next recursion\n",
    "            recurTree(node)      \n",
    "    \n",
    "    num_rows, _ = linked.shape\n",
    "    inter = {}\n",
    "    i = 0\n",
    "    # loop linked matrix convert to dictionary\n",
    "    for row in linked:\n",
    "        i += 1\n",
    "        inter[i + num_rows] = [row[0],row[1]]\n",
    "\n",
    "    # start tree data structure\n",
    "    tree = {\n",
    "        \"clust\": i + num_rows,\n",
    "        #\"parent\": None,\n",
    "        \"children\": []\n",
    "    }\n",
    "    # start recursion\n",
    "    recurTree(tree);\n",
    "    return tree"
   ]
  },
  {
   "cell_type": "code",
   "execution_count": null,
   "id": "4536ce03-9f1a-4f93-a05e-0af574e9cefc",
   "metadata": {
    "tags": []
   },
   "outputs": [],
   "source": [
    "d = create_tree(linkage_matrix, nutrients_matrix.index)"
   ]
  },
  {
   "cell_type": "code",
   "execution_count": 41,
   "id": "ac3fb466-cfe0-4ca4-9841-72c1ed387d9c",
   "metadata": {},
   "outputs": [],
   "source": [
    "json.dump(d, open(nutrient_matrix_data_p + 'hcluster_nutrients_' + metric + '_' + linkage + 'json', \"w\"))"
   ]
  },
  {
   "cell_type": "markdown",
   "id": "92db3052-8efd-49ec-b3d2-fda53eec8947",
   "metadata": {},
   "source": [
    "Function version of building the json object without recursion"
   ]
  },
  {
   "cell_type": "code",
   "execution_count": 6,
   "id": "762a0c95-c6f4-4829-a0a9-2a872d5c6eac",
   "metadata": {},
   "outputs": [],
   "source": [
    "def test(linked, leaf_labels):\n",
    "    num_rows, _ = linked.shape\n",
    "    inter = {}\n",
    "    i = 0\n",
    "    # loop linked matrix convert to dictionary\n",
    "    for row in linked:\n",
    "        #print(row[0], row[1])\n",
    "        i += 1\n",
    "        #if the index is within the original matrix, then its a leaf node\n",
    "        if row[0] <= num_rows:\n",
    "            child1 = { \"nbd_no\": int(leaf_labels[row[0]]), \"parent\":  int(i + num_rows)}\n",
    "        else:\n",
    "            child1 = {\"cluster\": int(row[0]), \"parent\": int(i + num_rows), \"children\": inter[row[0]]['children']}\n",
    "            del inter[row[0]]\n",
    "        if row[1] <= num_rows:\n",
    "            child2 = { \"nbd_no\": int(leaf_labels[row[1]]), \"parent\":  int(i + num_rows)}\n",
    "        else:\n",
    "            child2 = {\"cluster\": int(row[1]), \"parent\": int(i + num_rows), \"children\": inter[row[1]]['children']}    \n",
    "            del inter[row[1]]\n",
    "        inter[i + num_rows] = {\"cluster\": int(i + num_rows),\n",
    "            #\"parent\": None,\n",
    "            \"children\": [child1, child2]\n",
    "                              }\n",
    "        #print(inter)\n",
    "    return inter[i + num_rows]"
   ]
  },
  {
   "cell_type": "code",
   "execution_count": 11,
   "id": "a7deadc9-8190-4acb-8328-a2e9cb1618ae",
   "metadata": {},
   "outputs": [],
   "source": [
    "g = test(linkage_matrix, nutrients_matrix.index)"
   ]
  },
  {
   "cell_type": "code",
   "execution_count": null,
   "id": "50101016-a5ee-43c5-b60b-ab5b364525cd",
   "metadata": {},
   "outputs": [],
   "source": [
    "g"
   ]
  },
  {
   "cell_type": "code",
   "execution_count": null,
   "id": "84d2b874-d71e-4b2f-8273-0a739c1c2cc3",
   "metadata": {},
   "outputs": [],
   "source": [
    "json.dump(g, open('tst.json', \"w\"))"
   ]
  }
 ],
 "metadata": {
  "kernelspec": {
   "display_name": "Python 3 (ipykernel)",
   "language": "python",
   "name": "python3"
  },
  "language_info": {
   "codemirror_mode": {
    "name": "ipython",
    "version": 3
   },
   "file_extension": ".py",
   "mimetype": "text/x-python",
   "name": "python",
   "nbconvert_exporter": "python",
   "pygments_lexer": "ipython3",
   "version": "3.10.10"
  }
 },
 "nbformat": 4,
 "nbformat_minor": 5
}
