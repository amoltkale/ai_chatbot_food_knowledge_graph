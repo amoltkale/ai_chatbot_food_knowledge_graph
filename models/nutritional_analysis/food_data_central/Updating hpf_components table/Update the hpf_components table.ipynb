{
 "cells": [
  {
   "cell_type": "markdown",
   "id": "1fb263ba",
   "metadata": {},
   "source": [
    "### Updating the hpf_component table"
   ]
  },
  {
   "cell_type": "code",
   "execution_count": 2,
   "id": "74267fbb",
   "metadata": {
    "tags": []
   },
   "outputs": [],
   "source": [
    "import os\n",
    "import pyodbc\n",
    "import pandas as pd\n",
    "import numpy as np\n",
    "import sqlalchemy as sal\n",
    "\n",
    "from sqlalchemy import text"
   ]
  },
  {
   "cell_type": "markdown",
   "id": "d51d423e",
   "metadata": {},
   "source": [
    "## Connect to the data\n",
    "Downloaded the 2021 access database for full data from food data central: https://fdc.nal.usda.gov/download-datasets.html"
   ]
  },
  {
   "cell_type": "markdown",
   "id": "d5413e10",
   "metadata": {},
   "source": [
    "#### Make a DF of ndb and gtin_upc"
   ]
  },
  {
   "cell_type": "code",
   "execution_count": 3,
   "id": "3b766442",
   "metadata": {},
   "outputs": [
    {
     "name": "stderr",
     "output_type": "stream",
     "text": [
      "D:\\anaconda3\\lib\\site-packages\\pandas\\io\\sql.py:762: UserWarning: pandas only support SQLAlchemy connectable(engine/connection) ordatabase string URI or sqlite3 DBAPI2 connectionother DBAPI2 objects are not tested, please consider using SQLAlchemy\n",
      "  warnings.warn(\n"
     ]
    }
   ],
   "source": [
    "cwd = os.getcwd()\n",
    "\n",
    "cnxn = pyodbc.connect(r'Driver={Microsoft Access Driver (*.mdb, *.accdb)};DBQ=E:\\OneDrive\\Documents\\Classes\\DSE Capstone\\Data\\USDA branded food products database\\BFPD\\BFPD_07132018.accdb;')\n",
    "\n",
    "query = '''SELECT NDB_Number, gtin_upc\n",
    "FROM Products;\n",
    "'''\n",
    "\n",
    "ndb_gtin = pd.read_sql(query, cnxn)\n",
    "\n",
    "cnxn.close()"
   ]
  },
  {
   "cell_type": "code",
   "execution_count": 4,
   "id": "f5372c73",
   "metadata": {},
   "outputs": [],
   "source": [
    "ndb_gtin['NDB_Number'] = ndb_gtin['NDB_Number'].astype(int)"
   ]
  },
  {
   "cell_type": "code",
   "execution_count": 5,
   "id": "ba81a480",
   "metadata": {
    "scrolled": true
   },
   "outputs": [
    {
     "name": "stdout",
     "output_type": "stream",
     "text": [
      "(239089, 2)\n"
     ]
    },
    {
     "data": {
      "text/html": [
       "<div>\n",
       "<style scoped>\n",
       "    .dataframe tbody tr th:only-of-type {\n",
       "        vertical-align: middle;\n",
       "    }\n",
       "\n",
       "    .dataframe tbody tr th {\n",
       "        vertical-align: top;\n",
       "    }\n",
       "\n",
       "    .dataframe thead th {\n",
       "        text-align: right;\n",
       "    }\n",
       "</style>\n",
       "<table border=\"1\" class=\"dataframe\">\n",
       "  <thead>\n",
       "    <tr style=\"text-align: right;\">\n",
       "      <th></th>\n",
       "      <th>NDB_Number</th>\n",
       "      <th>gtin_upc</th>\n",
       "    </tr>\n",
       "  </thead>\n",
       "  <tbody>\n",
       "    <tr>\n",
       "      <th>0</th>\n",
       "      <td>45001524</td>\n",
       "      <td>019022128593</td>\n",
       "    </tr>\n",
       "    <tr>\n",
       "      <th>1</th>\n",
       "      <td>45001528</td>\n",
       "      <td>5051379043735</td>\n",
       "    </tr>\n",
       "    <tr>\n",
       "      <th>2</th>\n",
       "      <td>45001529</td>\n",
       "      <td>5051379009434</td>\n",
       "    </tr>\n",
       "    <tr>\n",
       "      <th>3</th>\n",
       "      <td>45001530</td>\n",
       "      <td>5051379019969</td>\n",
       "    </tr>\n",
       "    <tr>\n",
       "      <th>4</th>\n",
       "      <td>45001531</td>\n",
       "      <td>5051379009526</td>\n",
       "    </tr>\n",
       "  </tbody>\n",
       "</table>\n",
       "</div>"
      ],
      "text/plain": [
       "   NDB_Number       gtin_upc\n",
       "0    45001524   019022128593\n",
       "1    45001528  5051379043735\n",
       "2    45001529  5051379009434\n",
       "3    45001530  5051379019969\n",
       "4    45001531  5051379009526"
      ]
     },
     "execution_count": 5,
     "metadata": {},
     "output_type": "execute_result"
    }
   ],
   "source": [
    "print(ndb_gtin.shape)\n",
    "ndb_gtin.head()"
   ]
  },
  {
   "cell_type": "markdown",
   "id": "c4cbf9db",
   "metadata": {},
   "source": [
    "#### Make a DF of fdc_id  and gtin_upc"
   ]
  },
  {
   "cell_type": "code",
   "execution_count": 6,
   "id": "cb2761e6",
   "metadata": {},
   "outputs": [
    {
     "name": "stderr",
     "output_type": "stream",
     "text": [
      "D:\\anaconda3\\lib\\site-packages\\pandas\\io\\sql.py:762: UserWarning: pandas only support SQLAlchemy connectable(engine/connection) ordatabase string URI or sqlite3 DBAPI2 connectionother DBAPI2 objects are not tested, please consider using SQLAlchemy\n",
      "  warnings.warn(\n"
     ]
    }
   ],
   "source": [
    "cnxn = pyodbc.connect(r'Driver={Microsoft Access Driver (*.mdb, *.accdb)};DBQ=E:\\OneDrive\\Documents\\Classes\\DSE Capstone\\Data\\USDA branded food products database\\FoodData Central\\FoodData_Central_access.accdb;')\n",
    "\n",
    "query = '''SELECT fdc_id, gtin_upc\n",
    "FROM branded_food;\n",
    "'''\n",
    "\n",
    "fdc_gtin = pd.read_sql(query, cnxn)\n",
    "\n",
    "cnxn.close()"
   ]
  },
  {
   "cell_type": "code",
   "execution_count": 7,
   "id": "61589eb9",
   "metadata": {},
   "outputs": [
    {
     "name": "stdout",
     "output_type": "stream",
     "text": [
      "(373897, 2)\n"
     ]
    },
    {
     "data": {
      "text/html": [
       "<div>\n",
       "<style scoped>\n",
       "    .dataframe tbody tr th:only-of-type {\n",
       "        vertical-align: middle;\n",
       "    }\n",
       "\n",
       "    .dataframe tbody tr th {\n",
       "        vertical-align: top;\n",
       "    }\n",
       "\n",
       "    .dataframe thead th {\n",
       "        text-align: right;\n",
       "    }\n",
       "</style>\n",
       "<table border=\"1\" class=\"dataframe\">\n",
       "  <thead>\n",
       "    <tr style=\"text-align: right;\">\n",
       "      <th></th>\n",
       "      <th>fdc_id</th>\n",
       "      <th>gtin_upc</th>\n",
       "    </tr>\n",
       "  </thead>\n",
       "  <tbody>\n",
       "    <tr>\n",
       "      <th>0</th>\n",
       "      <td>344646</td>\n",
       "      <td>00038000162367</td>\n",
       "    </tr>\n",
       "    <tr>\n",
       "      <th>1</th>\n",
       "      <td>344922</td>\n",
       "      <td>00084059100010</td>\n",
       "    </tr>\n",
       "    <tr>\n",
       "      <th>2</th>\n",
       "      <td>345313</td>\n",
       "      <td>10030100800337</td>\n",
       "    </tr>\n",
       "    <tr>\n",
       "      <th>3</th>\n",
       "      <td>345315</td>\n",
       "      <td>10030100800467</td>\n",
       "    </tr>\n",
       "    <tr>\n",
       "      <th>4</th>\n",
       "      <td>345321</td>\n",
       "      <td>10030100800344</td>\n",
       "    </tr>\n",
       "  </tbody>\n",
       "</table>\n",
       "</div>"
      ],
      "text/plain": [
       "   fdc_id        gtin_upc\n",
       "0  344646  00038000162367\n",
       "1  344922  00084059100010\n",
       "2  345313  10030100800337\n",
       "3  345315  10030100800467\n",
       "4  345321  10030100800344"
      ]
     },
     "execution_count": 7,
     "metadata": {},
     "output_type": "execute_result"
    }
   ],
   "source": [
    "print(fdc_gtin.shape)\n",
    "fdc_gtin.head()"
   ]
  },
  {
   "cell_type": "code",
   "execution_count": 8,
   "id": "4dec34c7",
   "metadata": {},
   "outputs": [
    {
     "data": {
      "text/html": [
       "<div>\n",
       "<style scoped>\n",
       "    .dataframe tbody tr th:only-of-type {\n",
       "        vertical-align: middle;\n",
       "    }\n",
       "\n",
       "    .dataframe tbody tr th {\n",
       "        vertical-align: top;\n",
       "    }\n",
       "\n",
       "    .dataframe thead th {\n",
       "        text-align: right;\n",
       "    }\n",
       "</style>\n",
       "<table border=\"1\" class=\"dataframe\">\n",
       "  <thead>\n",
       "    <tr style=\"text-align: right;\">\n",
       "      <th></th>\n",
       "      <th>fdc_id</th>\n",
       "      <th>gtin_upc</th>\n",
       "      <th>NDB_Number</th>\n",
       "    </tr>\n",
       "  </thead>\n",
       "  <tbody>\n",
       "    <tr>\n",
       "      <th>0</th>\n",
       "      <td>344646</td>\n",
       "      <td>00038000162367</td>\n",
       "      <td>45127070</td>\n",
       "    </tr>\n",
       "    <tr>\n",
       "      <th>1</th>\n",
       "      <td>344922</td>\n",
       "      <td>00084059100010</td>\n",
       "      <td>45127725</td>\n",
       "    </tr>\n",
       "    <tr>\n",
       "      <th>2</th>\n",
       "      <td>345313</td>\n",
       "      <td>10030100800337</td>\n",
       "      <td>45128624</td>\n",
       "    </tr>\n",
       "    <tr>\n",
       "      <th>3</th>\n",
       "      <td>345315</td>\n",
       "      <td>10030100800467</td>\n",
       "      <td>45128628</td>\n",
       "    </tr>\n",
       "    <tr>\n",
       "      <th>4</th>\n",
       "      <td>345321</td>\n",
       "      <td>10030100800344</td>\n",
       "      <td>45128640</td>\n",
       "    </tr>\n",
       "    <tr>\n",
       "      <th>...</th>\n",
       "      <td>...</td>\n",
       "      <td>...</td>\n",
       "      <td>...</td>\n",
       "    </tr>\n",
       "    <tr>\n",
       "      <th>239026</th>\n",
       "      <td>2127408</td>\n",
       "      <td>753656715339</td>\n",
       "      <td>45376397</td>\n",
       "    </tr>\n",
       "    <tr>\n",
       "      <th>239027</th>\n",
       "      <td>2127409</td>\n",
       "      <td>035046102500</td>\n",
       "      <td>45376401</td>\n",
       "    </tr>\n",
       "    <tr>\n",
       "      <th>239028</th>\n",
       "      <td>2182684</td>\n",
       "      <td>857451000314</td>\n",
       "      <td>45350274</td>\n",
       "    </tr>\n",
       "    <tr>\n",
       "      <th>239029</th>\n",
       "      <td>2183011</td>\n",
       "      <td>4710172030014</td>\n",
       "      <td>45090367</td>\n",
       "    </tr>\n",
       "    <tr>\n",
       "      <th>239030</th>\n",
       "      <td>2183029</td>\n",
       "      <td>9556041601634</td>\n",
       "      <td>45362493</td>\n",
       "    </tr>\n",
       "  </tbody>\n",
       "</table>\n",
       "<p>239031 rows × 3 columns</p>\n",
       "</div>"
      ],
      "text/plain": [
       "         fdc_id        gtin_upc  NDB_Number\n",
       "0        344646  00038000162367    45127070\n",
       "1        344922  00084059100010    45127725\n",
       "2        345313  10030100800337    45128624\n",
       "3        345315  10030100800467    45128628\n",
       "4        345321  10030100800344    45128640\n",
       "...         ...             ...         ...\n",
       "239026  2127408    753656715339    45376397\n",
       "239027  2127409    035046102500    45376401\n",
       "239028  2182684    857451000314    45350274\n",
       "239029  2183011   4710172030014    45090367\n",
       "239030  2183029   9556041601634    45362493\n",
       "\n",
       "[239031 rows x 3 columns]"
      ]
     },
     "execution_count": 8,
     "metadata": {},
     "output_type": "execute_result"
    }
   ],
   "source": [
    "fdc_gtin_ndb = fdc_gtin.merge(ndb_gtin, left_on = \"gtin_upc\", right_on = \"gtin_upc\", how = \"inner\")\n",
    "fdc_gtin_ndb"
   ]
  },
  {
   "cell_type": "markdown",
   "id": "2a577b07-3e6c-4727-93d6-7610e5225d07",
   "metadata": {
    "tags": []
   },
   "source": [
    "#### Connect to the nourish database and pull hpf_component data"
   ]
  },
  {
   "cell_type": "code",
   "execution_count": 9,
   "id": "9860a0cf",
   "metadata": {
    "tags": []
   },
   "outputs": [],
   "source": [
    "nourish_user = \"gmichael\"\n",
    "\n",
    "nourish_pswd = \"567khcwx3s\"\n",
    "\n",
    "engine = sal.create_engine('postgresql+psycopg2://' + nourish_user + ':' + nourish_pswd + '@awesome-hw.sdsc.edu/nourish')\n",
    "conn = engine.connect()"
   ]
  },
  {
   "cell_type": "markdown",
   "id": "8eb73bd1-eb8b-46fe-859c-38abf6ef908b",
   "metadata": {},
   "source": [
    "#### Pull the list of nutrients by product\n",
    "Use array_agg to get a list of nutrients and values. Delimit by '|'."
   ]
  },
  {
   "cell_type": "code",
   "execution_count": 10,
   "id": "bad5e657",
   "metadata": {},
   "outputs": [
    {
     "data": {
      "text/plain": [
       "[(45162472, False, True, False), (45085807, False, True, False)]"
      ]
     },
     "execution_count": 10,
     "metadata": {},
     "output_type": "execute_result"
    }
   ],
   "source": [
    "query_nutrients = text('''select * from hpf_component''')\n",
    "\n",
    "result = conn.execute(query_nutrients)\n",
    "\n",
    "hpf_data = [i for i in result]\n",
    "\n",
    "hpf_data[0:2]"
   ]
  },
  {
   "cell_type": "code",
   "execution_count": 11,
   "id": "869ba25a",
   "metadata": {},
   "outputs": [
    {
     "name": "stdout",
     "output_type": "stream",
     "text": [
      "(59040, 4)\n"
     ]
    },
    {
     "data": {
      "text/html": [
       "<div>\n",
       "<style scoped>\n",
       "    .dataframe tbody tr th:only-of-type {\n",
       "        vertical-align: middle;\n",
       "    }\n",
       "\n",
       "    .dataframe tbody tr th {\n",
       "        vertical-align: top;\n",
       "    }\n",
       "\n",
       "    .dataframe thead th {\n",
       "        text-align: right;\n",
       "    }\n",
       "</style>\n",
       "<table border=\"1\" class=\"dataframe\">\n",
       "  <thead>\n",
       "    <tr style=\"text-align: right;\">\n",
       "      <th></th>\n",
       "      <th>NDB_No</th>\n",
       "      <th>fsdo</th>\n",
       "      <th>fs</th>\n",
       "      <th>csdo</th>\n",
       "    </tr>\n",
       "  </thead>\n",
       "  <tbody>\n",
       "    <tr>\n",
       "      <th>0</th>\n",
       "      <td>45162472</td>\n",
       "      <td>False</td>\n",
       "      <td>True</td>\n",
       "      <td>False</td>\n",
       "    </tr>\n",
       "    <tr>\n",
       "      <th>1</th>\n",
       "      <td>45085807</td>\n",
       "      <td>False</td>\n",
       "      <td>True</td>\n",
       "      <td>False</td>\n",
       "    </tr>\n",
       "    <tr>\n",
       "      <th>2</th>\n",
       "      <td>45351070</td>\n",
       "      <td>False</td>\n",
       "      <td>False</td>\n",
       "      <td>True</td>\n",
       "    </tr>\n",
       "    <tr>\n",
       "      <th>3</th>\n",
       "      <td>45248412</td>\n",
       "      <td>False</td>\n",
       "      <td>False</td>\n",
       "      <td>True</td>\n",
       "    </tr>\n",
       "    <tr>\n",
       "      <th>4</th>\n",
       "      <td>45152103</td>\n",
       "      <td>False</td>\n",
       "      <td>True</td>\n",
       "      <td>False</td>\n",
       "    </tr>\n",
       "  </tbody>\n",
       "</table>\n",
       "</div>"
      ],
      "text/plain": [
       "     NDB_No   fsdo     fs   csdo\n",
       "0  45162472  False   True  False\n",
       "1  45085807  False   True  False\n",
       "2  45351070  False  False   True\n",
       "3  45248412  False  False   True\n",
       "4  45152103  False   True  False"
      ]
     },
     "execution_count": 11,
     "metadata": {},
     "output_type": "execute_result"
    }
   ],
   "source": [
    "hpf_df = pd.DataFrame(hpf_data)\n",
    "print(hpf_df.shape)\n",
    "hpf_df.head()"
   ]
  },
  {
   "cell_type": "code",
   "execution_count": 15,
   "id": "470a6a5c",
   "metadata": {},
   "outputs": [
    {
     "data": {
      "text/html": [
       "<div>\n",
       "<style scoped>\n",
       "    .dataframe tbody tr th:only-of-type {\n",
       "        vertical-align: middle;\n",
       "    }\n",
       "\n",
       "    .dataframe tbody tr th {\n",
       "        vertical-align: top;\n",
       "    }\n",
       "\n",
       "    .dataframe thead th {\n",
       "        text-align: right;\n",
       "    }\n",
       "</style>\n",
       "<table border=\"1\" class=\"dataframe\">\n",
       "  <thead>\n",
       "    <tr style=\"text-align: right;\">\n",
       "      <th></th>\n",
       "      <th>NDB_No</th>\n",
       "      <th>fsdo</th>\n",
       "      <th>fs</th>\n",
       "      <th>csdo</th>\n",
       "      <th>fdc_id</th>\n",
       "      <th>gtin_upc</th>\n",
       "    </tr>\n",
       "  </thead>\n",
       "  <tbody>\n",
       "    <tr>\n",
       "      <th>0</th>\n",
       "      <td>45162472</td>\n",
       "      <td>False</td>\n",
       "      <td>True</td>\n",
       "      <td>False</td>\n",
       "      <td>1880619.0</td>\n",
       "      <td>809424900756</td>\n",
       "    </tr>\n",
       "    <tr>\n",
       "      <th>1</th>\n",
       "      <td>45085807</td>\n",
       "      <td>False</td>\n",
       "      <td>True</td>\n",
       "      <td>False</td>\n",
       "      <td>1864950.0</td>\n",
       "      <td>185255000231</td>\n",
       "    </tr>\n",
       "    <tr>\n",
       "      <th>2</th>\n",
       "      <td>45351070</td>\n",
       "      <td>False</td>\n",
       "      <td>False</td>\n",
       "      <td>True</td>\n",
       "      <td>1942022.0</td>\n",
       "      <td>846107018070</td>\n",
       "    </tr>\n",
       "    <tr>\n",
       "      <th>3</th>\n",
       "      <td>45248412</td>\n",
       "      <td>False</td>\n",
       "      <td>False</td>\n",
       "      <td>True</td>\n",
       "      <td>2087698.0</td>\n",
       "      <td>029000017986</td>\n",
       "    </tr>\n",
       "    <tr>\n",
       "      <th>4</th>\n",
       "      <td>45152103</td>\n",
       "      <td>False</td>\n",
       "      <td>True</td>\n",
       "      <td>False</td>\n",
       "      <td>1876804.0</td>\n",
       "      <td>066909100548</td>\n",
       "    </tr>\n",
       "  </tbody>\n",
       "</table>\n",
       "</div>"
      ],
      "text/plain": [
       "     NDB_No   fsdo     fs   csdo     fdc_id      gtin_upc\n",
       "0  45162472  False   True  False  1880619.0  809424900756\n",
       "1  45085807  False   True  False  1864950.0  185255000231\n",
       "2  45351070  False  False   True  1942022.0  846107018070\n",
       "3  45248412  False  False   True  2087698.0  029000017986\n",
       "4  45152103  False   True  False  1876804.0  066909100548"
      ]
     },
     "execution_count": 15,
     "metadata": {},
     "output_type": "execute_result"
    }
   ],
   "source": [
    "hpf_with_fdcid = hpf_df.merge(fdc_gtin_ndb, left_on = \"NDB_No\", right_on = \"NDB_Number\", how = \"left\")\n",
    "hpf_with_fdcid.drop(columns = [\"NDB_Number\"], inplace = True)\n",
    "hpf_with_fdcid.head()"
   ]
  },
  {
   "cell_type": "code",
   "execution_count": 20,
   "id": "46011256",
   "metadata": {},
   "outputs": [
    {
     "name": "stderr",
     "output_type": "stream",
     "text": [
      "C:\\Users\\Garrett Michael\\AppData\\Local\\Temp\\ipykernel_17156\\593446804.py:2: SettingWithCopyWarning: \n",
      "A value is trying to be set on a copy of a slice from a DataFrame.\n",
      "Try using .loc[row_indexer,col_indexer] = value instead\n",
      "\n",
      "See the caveats in the documentation: https://pandas.pydata.org/pandas-docs/stable/user_guide/indexing.html#returning-a-view-versus-a-copy\n",
      "  hpf_with_fdcid_noblanks['fdc_id'] = hpf_with_fdcid_noblanks['fdc_id'].astype(int)\n"
     ]
    }
   ],
   "source": [
    "hpf_with_fdcid_noblanks = hpf_with_fdcid.dropna(subset = \"fdc_id\")\n",
    "hpf_with_fdcid_noblanks['fdc_id'] = hpf_with_fdcid_noblanks['fdc_id'].astype(int)\n",
    "hpf_with_fdcid_noblanks.to_csv('hpf_component_with_fdcid.csv', index = False)"
   ]
  },
  {
   "cell_type": "code",
   "execution_count": 13,
   "id": "b172ae73",
   "metadata": {},
   "outputs": [
    {
     "data": {
      "text/plain": [
       "9"
      ]
     },
     "execution_count": 13,
     "metadata": {},
     "output_type": "execute_result"
    }
   ],
   "source": [
    "sum(hpf_with_fdcid.fdc_id.isna())"
   ]
  },
  {
   "cell_type": "markdown",
   "id": "d744ce4b",
   "metadata": {},
   "source": [
    "#### Try to find the missing fdc_ids"
   ]
  },
  {
   "cell_type": "code",
   "execution_count": 18,
   "id": "e9e9b474",
   "metadata": {},
   "outputs": [
    {
     "data": {
      "text/plain": [
       "{45086702, 45157012, 45240564, 45282135, 45295897, 45304209}"
      ]
     },
     "execution_count": 18,
     "metadata": {},
     "output_type": "execute_result"
    }
   ],
   "source": [
    "ndb_missing_fdc = hpf_with_fdcid[hpf_with_fdcid.fdc_id.isna()][\"NDB_No\"].to_list()\n",
    "#do a set because there are dupes\n",
    "set(ndb_missing_fdc)"
   ]
  },
  {
   "cell_type": "code",
   "execution_count": 16,
   "id": "db88dfe6",
   "metadata": {},
   "outputs": [
    {
     "data": {
      "text/html": [
       "<div>\n",
       "<style scoped>\n",
       "    .dataframe tbody tr th:only-of-type {\n",
       "        vertical-align: middle;\n",
       "    }\n",
       "\n",
       "    .dataframe tbody tr th {\n",
       "        vertical-align: top;\n",
       "    }\n",
       "\n",
       "    .dataframe thead th {\n",
       "        text-align: right;\n",
       "    }\n",
       "</style>\n",
       "<table border=\"1\" class=\"dataframe\">\n",
       "  <thead>\n",
       "    <tr style=\"text-align: right;\">\n",
       "      <th></th>\n",
       "      <th>NDB_Number</th>\n",
       "      <th>gtin_upc</th>\n",
       "    </tr>\n",
       "  </thead>\n",
       "  <tbody>\n",
       "    <tr>\n",
       "      <th>37308</th>\n",
       "      <td>45086702</td>\n",
       "      <td>25016673</td>\n",
       "    </tr>\n",
       "    <tr>\n",
       "      <th>74058</th>\n",
       "      <td>45157012</td>\n",
       "      <td>076410904108</td>\n",
       "    </tr>\n",
       "    <tr>\n",
       "      <th>145772</th>\n",
       "      <td>45240564</td>\n",
       "      <td>25016666</td>\n",
       "    </tr>\n",
       "    <tr>\n",
       "      <th>175847</th>\n",
       "      <td>45282135</td>\n",
       "      <td>076410902838</td>\n",
       "    </tr>\n",
       "    <tr>\n",
       "      <th>186639</th>\n",
       "      <td>45295897</td>\n",
       "      <td>03800031310</td>\n",
       "    </tr>\n",
       "    <tr>\n",
       "      <th>187062</th>\n",
       "      <td>45304209</td>\n",
       "      <td>03812008</td>\n",
       "    </tr>\n",
       "  </tbody>\n",
       "</table>\n",
       "</div>"
      ],
      "text/plain": [
       "        NDB_Number      gtin_upc\n",
       "37308     45086702      25016673\n",
       "74058     45157012  076410904108\n",
       "145772    45240564      25016666\n",
       "175847    45282135  076410902838\n",
       "186639    45295897   03800031310\n",
       "187062    45304209      03812008"
      ]
     },
     "execution_count": 16,
     "metadata": {},
     "output_type": "execute_result"
    }
   ],
   "source": [
    "ndb_gtin[ndb_gtin[\"NDB_Number\"].isin(ndb_missing_fdc)]"
   ]
  },
  {
   "cell_type": "code",
   "execution_count": 21,
   "id": "5f52e86d",
   "metadata": {},
   "outputs": [],
   "source": [
    "gtins = ndb_gtin[ndb_gtin[\"NDB_Number\"].isin(ndb_missing_fdc)][\"gtin_upc\"].to_list()"
   ]
  },
  {
   "cell_type": "code",
   "execution_count": null,
   "id": "d50aa492",
   "metadata": {},
   "outputs": [],
   "source": []
  }
 ],
 "metadata": {
  "kernelspec": {
   "display_name": "Python 3 (ipykernel)",
   "language": "python",
   "name": "python3"
  },
  "language_info": {
   "codemirror_mode": {
    "name": "ipython",
    "version": 3
   },
   "file_extension": ".py",
   "mimetype": "text/x-python",
   "name": "python",
   "nbconvert_exporter": "python",
   "pygments_lexer": "ipython3",
   "version": "3.9.13"
  }
 },
 "nbformat": 4,
 "nbformat_minor": 5
}
