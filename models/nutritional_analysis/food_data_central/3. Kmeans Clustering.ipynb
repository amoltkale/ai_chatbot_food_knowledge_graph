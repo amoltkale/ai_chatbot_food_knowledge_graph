{
 "cells": [
  {
   "cell_type": "markdown",
   "id": "c1426320-b1e1-4286-804b-66e4c1eb4136",
   "metadata": {},
   "source": [
    "# Cluster the nutrients matrix via kmeans\n",
    "\n",
    "Goal:\n",
    "\n",
    "Take the dimension reduced (via PCA) version of the nutrients matrix created in a prior notebook and perform kmeans on it. Performing kmeans is a necessary to increase the speed of hierarchical clustering as it will be performed on the centroids of the clusters"
   ]
  },
  {
   "cell_type": "code",
   "execution_count": 1,
   "id": "832fc416-3d9e-4177-aee1-e2def7116ea7",
   "metadata": {
    "tags": []
   },
   "outputs": [],
   "source": [
    "import numpy as np\n",
    "import pandas as pd\n",
    "import matplotlib.pyplot as plt\n",
    "import time\n",
    "\n",
    "from sklearn.cluster import KMeans"
   ]
  },
  {
   "cell_type": "code",
   "execution_count": 2,
   "id": "dd56f59f-d03b-479e-92de-5c3cfe8ab09e",
   "metadata": {
    "tags": []
   },
   "outputs": [],
   "source": [
    "# csv paths\n",
    "nutrient_matrix_data_p = r\"../data/\"\n",
    "\n",
    "nutrient_matrix_pca_csv_p = nutrient_matrix_data_p + \"nutrients_matrix_pca.csv.gz\""
   ]
  },
  {
   "cell_type": "markdown",
   "id": "8ba8e08e-08fa-46db-8af3-c38d32bcdbc5",
   "metadata": {},
   "source": [
    "#### Import cleaned nutrient data. Set the fdc_id to the index. Remove zero rows."
   ]
  },
  {
   "cell_type": "code",
   "execution_count": 3,
   "id": "5687fe43-bc82-4a1a-96ce-9cf12a21688f",
   "metadata": {
    "tags": []
   },
   "outputs": [
    {
     "name": "stdout",
     "output_type": "stream",
     "text": [
      "(1590701, 65)\n"
     ]
    },
    {
     "data": {
      "text/html": [
       "<div>\n",
       "<style scoped>\n",
       "    .dataframe tbody tr th:only-of-type {\n",
       "        vertical-align: middle;\n",
       "    }\n",
       "\n",
       "    .dataframe tbody tr th {\n",
       "        vertical-align: top;\n",
       "    }\n",
       "\n",
       "    .dataframe thead th {\n",
       "        text-align: right;\n",
       "    }\n",
       "</style>\n",
       "<table border=\"1\" class=\"dataframe\">\n",
       "  <thead>\n",
       "    <tr style=\"text-align: right;\">\n",
       "      <th></th>\n",
       "      <th>0</th>\n",
       "      <th>1</th>\n",
       "      <th>2</th>\n",
       "      <th>3</th>\n",
       "      <th>4</th>\n",
       "      <th>5</th>\n",
       "      <th>6</th>\n",
       "      <th>7</th>\n",
       "      <th>8</th>\n",
       "      <th>9</th>\n",
       "      <th>...</th>\n",
       "      <th>55</th>\n",
       "      <th>56</th>\n",
       "      <th>57</th>\n",
       "      <th>58</th>\n",
       "      <th>59</th>\n",
       "      <th>60</th>\n",
       "      <th>61</th>\n",
       "      <th>62</th>\n",
       "      <th>63</th>\n",
       "      <th>64</th>\n",
       "    </tr>\n",
       "    <tr>\n",
       "      <th>fdc_id</th>\n",
       "      <th></th>\n",
       "      <th></th>\n",
       "      <th></th>\n",
       "      <th></th>\n",
       "      <th></th>\n",
       "      <th></th>\n",
       "      <th></th>\n",
       "      <th></th>\n",
       "      <th></th>\n",
       "      <th></th>\n",
       "      <th></th>\n",
       "      <th></th>\n",
       "      <th></th>\n",
       "      <th></th>\n",
       "      <th></th>\n",
       "      <th></th>\n",
       "      <th></th>\n",
       "      <th></th>\n",
       "      <th></th>\n",
       "      <th></th>\n",
       "      <th></th>\n",
       "    </tr>\n",
       "  </thead>\n",
       "  <tbody>\n",
       "    <tr>\n",
       "      <th>344604</th>\n",
       "      <td>-0.007552</td>\n",
       "      <td>-1.400151</td>\n",
       "      <td>0.097258</td>\n",
       "      <td>0.045458</td>\n",
       "      <td>0.049453</td>\n",
       "      <td>0.019196</td>\n",
       "      <td>0.163201</td>\n",
       "      <td>-0.003585</td>\n",
       "      <td>0.035777</td>\n",
       "      <td>0.024830</td>\n",
       "      <td>...</td>\n",
       "      <td>-0.026410</td>\n",
       "      <td>0.041591</td>\n",
       "      <td>-0.004853</td>\n",
       "      <td>-0.019035</td>\n",
       "      <td>0.001287</td>\n",
       "      <td>-0.024380</td>\n",
       "      <td>0.006185</td>\n",
       "      <td>-0.006895</td>\n",
       "      <td>-0.010728</td>\n",
       "      <td>0.024357</td>\n",
       "    </tr>\n",
       "    <tr>\n",
       "      <th>344605</th>\n",
       "      <td>-0.007552</td>\n",
       "      <td>-1.400148</td>\n",
       "      <td>0.097258</td>\n",
       "      <td>0.045458</td>\n",
       "      <td>0.049453</td>\n",
       "      <td>0.019196</td>\n",
       "      <td>0.163199</td>\n",
       "      <td>-0.003584</td>\n",
       "      <td>0.035780</td>\n",
       "      <td>0.024831</td>\n",
       "      <td>...</td>\n",
       "      <td>-0.026415</td>\n",
       "      <td>0.041571</td>\n",
       "      <td>-0.004857</td>\n",
       "      <td>-0.019031</td>\n",
       "      <td>0.001289</td>\n",
       "      <td>-0.024398</td>\n",
       "      <td>0.006096</td>\n",
       "      <td>-0.006882</td>\n",
       "      <td>-0.010721</td>\n",
       "      <td>0.024363</td>\n",
       "    </tr>\n",
       "    <tr>\n",
       "      <th>344606</th>\n",
       "      <td>-0.002998</td>\n",
       "      <td>-0.924938</td>\n",
       "      <td>0.061935</td>\n",
       "      <td>0.113642</td>\n",
       "      <td>0.035358</td>\n",
       "      <td>0.025363</td>\n",
       "      <td>0.327843</td>\n",
       "      <td>0.015355</td>\n",
       "      <td>0.289016</td>\n",
       "      <td>-0.068408</td>\n",
       "      <td>...</td>\n",
       "      <td>-0.069557</td>\n",
       "      <td>0.139652</td>\n",
       "      <td>-0.005474</td>\n",
       "      <td>-0.047251</td>\n",
       "      <td>0.097320</td>\n",
       "      <td>-0.025371</td>\n",
       "      <td>0.015223</td>\n",
       "      <td>-0.005454</td>\n",
       "      <td>0.008299</td>\n",
       "      <td>-0.057664</td>\n",
       "    </tr>\n",
       "    <tr>\n",
       "      <th>344607</th>\n",
       "      <td>-0.002998</td>\n",
       "      <td>-0.924938</td>\n",
       "      <td>0.061935</td>\n",
       "      <td>0.113642</td>\n",
       "      <td>0.035358</td>\n",
       "      <td>0.025363</td>\n",
       "      <td>0.327843</td>\n",
       "      <td>0.015355</td>\n",
       "      <td>0.289016</td>\n",
       "      <td>-0.068408</td>\n",
       "      <td>...</td>\n",
       "      <td>-0.069557</td>\n",
       "      <td>0.139652</td>\n",
       "      <td>-0.005474</td>\n",
       "      <td>-0.047251</td>\n",
       "      <td>0.097320</td>\n",
       "      <td>-0.025371</td>\n",
       "      <td>0.015223</td>\n",
       "      <td>-0.005454</td>\n",
       "      <td>0.008299</td>\n",
       "      <td>-0.057664</td>\n",
       "    </tr>\n",
       "    <tr>\n",
       "      <th>344608</th>\n",
       "      <td>-0.004066</td>\n",
       "      <td>-0.694697</td>\n",
       "      <td>0.045839</td>\n",
       "      <td>0.075089</td>\n",
       "      <td>0.037210</td>\n",
       "      <td>0.050376</td>\n",
       "      <td>0.591255</td>\n",
       "      <td>0.013635</td>\n",
       "      <td>0.124902</td>\n",
       "      <td>-0.024720</td>\n",
       "      <td>...</td>\n",
       "      <td>-0.007984</td>\n",
       "      <td>0.041261</td>\n",
       "      <td>0.000803</td>\n",
       "      <td>-0.011797</td>\n",
       "      <td>0.103713</td>\n",
       "      <td>0.050000</td>\n",
       "      <td>-0.010583</td>\n",
       "      <td>-0.018607</td>\n",
       "      <td>-0.064377</td>\n",
       "      <td>-0.039917</td>\n",
       "    </tr>\n",
       "  </tbody>\n",
       "</table>\n",
       "<p>5 rows × 65 columns</p>\n",
       "</div>"
      ],
      "text/plain": [
       "               0         1         2         3         4         5         6  \\\n",
       "fdc_id                                                                         \n",
       "344604 -0.007552 -1.400151  0.097258  0.045458  0.049453  0.019196  0.163201   \n",
       "344605 -0.007552 -1.400148  0.097258  0.045458  0.049453  0.019196  0.163199   \n",
       "344606 -0.002998 -0.924938  0.061935  0.113642  0.035358  0.025363  0.327843   \n",
       "344607 -0.002998 -0.924938  0.061935  0.113642  0.035358  0.025363  0.327843   \n",
       "344608 -0.004066 -0.694697  0.045839  0.075089  0.037210  0.050376  0.591255   \n",
       "\n",
       "               7         8         9  ...        55        56        57  \\\n",
       "fdc_id                                ...                                 \n",
       "344604 -0.003585  0.035777  0.024830  ... -0.026410  0.041591 -0.004853   \n",
       "344605 -0.003584  0.035780  0.024831  ... -0.026415  0.041571 -0.004857   \n",
       "344606  0.015355  0.289016 -0.068408  ... -0.069557  0.139652 -0.005474   \n",
       "344607  0.015355  0.289016 -0.068408  ... -0.069557  0.139652 -0.005474   \n",
       "344608  0.013635  0.124902 -0.024720  ... -0.007984  0.041261  0.000803   \n",
       "\n",
       "              58        59        60        61        62        63        64  \n",
       "fdc_id                                                                        \n",
       "344604 -0.019035  0.001287 -0.024380  0.006185 -0.006895 -0.010728  0.024357  \n",
       "344605 -0.019031  0.001289 -0.024398  0.006096 -0.006882 -0.010721  0.024363  \n",
       "344606 -0.047251  0.097320 -0.025371  0.015223 -0.005454  0.008299 -0.057664  \n",
       "344607 -0.047251  0.097320 -0.025371  0.015223 -0.005454  0.008299 -0.057664  \n",
       "344608 -0.011797  0.103713  0.050000 -0.010583 -0.018607 -0.064377 -0.039917  \n",
       "\n",
       "[5 rows x 65 columns]"
      ]
     },
     "execution_count": 3,
     "metadata": {},
     "output_type": "execute_result"
    }
   ],
   "source": [
    "nutrients_matrix = pd.read_csv(nutrient_matrix_pca_csv_p)\n",
    "nutrients_matrix.set_index(\"fdc_id\", inplace = True)\n",
    "print(nutrients_matrix.shape)\n",
    "nutrients_matrix.head()"
   ]
  },
  {
   "cell_type": "code",
   "execution_count": 9,
   "id": "f08fc52f-e176-4540-a64d-71ca93dde6e3",
   "metadata": {
    "tags": []
   },
   "outputs": [
    {
     "name": "stdout",
     "output_type": "stream",
     "text": [
      "It has been 98201.8580725193 seconds since the loop started\n"
     ]
    },
    {
     "ename": "NameError",
     "evalue": "name 'i' is not defined",
     "output_type": "error",
     "traceback": [
      "\u001b[0;31m---------------------------------------------------------------------------\u001b[0m",
      "\u001b[0;31mNameError\u001b[0m                                 Traceback (most recent call last)",
      "Cell \u001b[0;32mIn[9], line 6\u001b[0m\n\u001b[1;32m      4\u001b[0m now \u001b[38;5;241m=\u001b[39m time\u001b[38;5;241m.\u001b[39mtime()\n\u001b[1;32m      5\u001b[0m \u001b[38;5;28mprint\u001b[39m(\u001b[38;5;124m\"\u001b[39m\u001b[38;5;124mIt has been \u001b[39m\u001b[38;5;132;01m{0}\u001b[39;00m\u001b[38;5;124m seconds since the loop started\u001b[39m\u001b[38;5;124m\"\u001b[39m\u001b[38;5;241m.\u001b[39mformat(now \u001b[38;5;241m-\u001b[39m program_starts))\n\u001b[0;32m----> 6\u001b[0m \u001b[38;5;28mprint\u001b[39m(\u001b[43mi\u001b[49m, kmeans\u001b[38;5;241m.\u001b[39minertia_)\n",
      "\u001b[0;31mNameError\u001b[0m: name 'i' is not defined"
     ]
    }
   ],
   "source": [
    "program_starts = time.time()\n",
    "kmeans = KMeans(n_clusters=10000,init='k-means++',n_init=10,max_iter=300)\n",
    "kmeans.fit(nutrients_matrix)\n",
    "now = time.time()\n",
    "print(\"It has been {0} seconds since the loop started\".format(now - program_starts))\n",
    "print(kmeans.inertia_)"
   ]
  },
  {
   "cell_type": "code",
   "execution_count": 16,
   "id": "1abbb3d8-7b81-4cde-bb58-8960459efa4a",
   "metadata": {
    "tags": []
   },
   "outputs": [],
   "source": [
    "pd.DataFrame(kmeans.cluster_centers_).to_csv(nutrient_matrix_data_p + \"10000_cluster_centers.csv\")"
   ]
  },
  {
   "cell_type": "code",
   "execution_count": 25,
   "id": "fa7ea2d4-10fb-4886-ae77-0b4e4834d1fc",
   "metadata": {
    "tags": []
   },
   "outputs": [],
   "source": [
    "nutrients_matrix.reset_index().merge(pd.DataFrame({\"labels\":kmeans.labels_}), left_index = True, right_index = True)[['fdc_id', 'labels']].to_csv(nutrient_matrix_data_p + \"nutrients_pca_kmeans_labeled.csv\")"
   ]
  },
  {
   "cell_type": "code",
   "execution_count": null,
   "id": "29b33c47-c139-4261-a10f-b1546416e1f0",
   "metadata": {},
   "outputs": [],
   "source": []
  }
 ],
 "metadata": {
  "kernelspec": {
   "display_name": "Python 3 (ipykernel)",
   "language": "python",
   "name": "python3"
  },
  "language_info": {
   "codemirror_mode": {
    "name": "ipython",
    "version": 3
   },
   "file_extension": ".py",
   "mimetype": "text/x-python",
   "name": "python",
   "nbconvert_exporter": "python",
   "pygments_lexer": "ipython3",
   "version": "3.10.9"
  }
 },
 "nbformat": 4,
 "nbformat_minor": 5
}
