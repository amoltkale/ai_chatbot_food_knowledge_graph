{
 "cells": [
  {
   "cell_type": "markdown",
   "id": "773f584d-e71a-42e7-bf66-cd2e1998ac52",
   "metadata": {},
   "source": [
    "# Dedupe ingredients\n",
    "\n",
    "This notebook will get all unique ingredients that were extracted from a previous notebook and attempt to deduplicate them. The end product will be a list of unique ingredients"
   ]
  },
  {
   "cell_type": "markdown",
   "id": "1fb263ba",
   "metadata": {},
   "source": [
    "## Get a unique list of ingredients (contain dupes and misspellings)"
   ]
  },
  {
   "cell_type": "code",
   "execution_count": 1,
   "id": "9bc351c0-bd84-4e2d-9d80-c133ffadb76b",
   "metadata": {
    "tags": []
   },
   "outputs": [
    {
     "name": "stdout",
     "output_type": "stream",
     "text": [
      "Requirement already satisfied: pandas-dedupe in /opt/conda/lib/python3.10/site-packages (1.5.0)\n",
      "Requirement already satisfied: unidecode in /opt/conda/lib/python3.10/site-packages (from pandas-dedupe) (1.3.6)\n",
      "Requirement already satisfied: pandas in /opt/conda/lib/python3.10/site-packages (from pandas-dedupe) (2.0.0)\n",
      "Requirement already satisfied: dedupe>=2.0.0 in /opt/conda/lib/python3.10/site-packages (from pandas-dedupe) (2.0.23)\n",
      "Requirement already satisfied: simplecosine>=1.2 in /opt/conda/lib/python3.10/site-packages (from dedupe>=2.0.0->pandas-dedupe) (1.2)\n",
      "Requirement already satisfied: haversine>=0.4.1 in /opt/conda/lib/python3.10/site-packages (from dedupe>=2.0.0->pandas-dedupe) (2.8.0)\n",
      "Requirement already satisfied: dedupe-variable-datetime in /opt/conda/lib/python3.10/site-packages (from dedupe>=2.0.0->pandas-dedupe) (0.1.5)\n",
      "Requirement already satisfied: BTrees>=4.1.4 in /opt/conda/lib/python3.10/site-packages (from dedupe>=2.0.0->pandas-dedupe) (5.0)\n",
      "Requirement already satisfied: numpy>=1.20 in /opt/conda/lib/python3.10/site-packages (from dedupe>=2.0.0->pandas-dedupe) (1.23.5)\n",
      "Requirement already satisfied: zope.index in /opt/conda/lib/python3.10/site-packages (from dedupe>=2.0.0->pandas-dedupe) (6.0)\n",
      "Requirement already satisfied: doublemetaphone in /opt/conda/lib/python3.10/site-packages (from dedupe>=2.0.0->pandas-dedupe) (1.1)\n",
      "Requirement already satisfied: dedupe-Levenshtein-search in /opt/conda/lib/python3.10/site-packages (from dedupe>=2.0.0->pandas-dedupe) (1.4.5)\n",
      "Requirement already satisfied: scikit-learn in /opt/conda/lib/python3.10/site-packages (from dedupe>=2.0.0->pandas-dedupe) (1.2.2)\n",
      "Requirement already satisfied: typing-extensions in /opt/conda/lib/python3.10/site-packages (from dedupe>=2.0.0->pandas-dedupe) (4.5.0)\n",
      "Requirement already satisfied: categorical-distance>=1.9 in /opt/conda/lib/python3.10/site-packages (from dedupe>=2.0.0->pandas-dedupe) (1.9)\n",
      "Requirement already satisfied: highered>=0.2.0 in /opt/conda/lib/python3.10/site-packages (from dedupe>=2.0.0->pandas-dedupe) (0.2.1)\n",
      "Requirement already satisfied: affinegap>=1.3 in /opt/conda/lib/python3.10/site-packages (from dedupe>=2.0.0->pandas-dedupe) (1.12)\n",
      "Requirement already satisfied: python-dateutil>=2.8.2 in /opt/conda/lib/python3.10/site-packages (from pandas->pandas-dedupe) (2.8.2)\n",
      "Requirement already satisfied: pytz>=2020.1 in /opt/conda/lib/python3.10/site-packages (from pandas->pandas-dedupe) (2023.3)\n",
      "Requirement already satisfied: tzdata>=2022.1 in /opt/conda/lib/python3.10/site-packages (from pandas->pandas-dedupe) (2023.3)\n",
      "Requirement already satisfied: zope.interface>=5.0.0 in /opt/conda/lib/python3.10/site-packages (from BTrees>=4.1.4->dedupe>=2.0.0->pandas-dedupe) (6.0)\n",
      "Requirement already satisfied: persistent>=4.1.0 in /opt/conda/lib/python3.10/site-packages (from BTrees>=4.1.4->dedupe>=2.0.0->pandas-dedupe) (5.0)\n",
      "Requirement already satisfied: pyhacrf-datamade>=0.2.0 in /opt/conda/lib/python3.10/site-packages (from highered>=0.2.0->dedupe>=2.0.0->pandas-dedupe) (0.2.6)\n",
      "Requirement already satisfied: six>=1.5 in /opt/conda/lib/python3.10/site-packages (from python-dateutil>=2.8.2->pandas->pandas-dedupe) (1.16.0)\n",
      "Requirement already satisfied: datetime-distance in /opt/conda/lib/python3.10/site-packages (from dedupe-variable-datetime->dedupe>=2.0.0->pandas-dedupe) (0.1.3)\n",
      "Requirement already satisfied: future in /opt/conda/lib/python3.10/site-packages (from dedupe-variable-datetime->dedupe>=2.0.0->pandas-dedupe) (0.18.3)\n",
      "Requirement already satisfied: threadpoolctl>=2.0.0 in /opt/conda/lib/python3.10/site-packages (from scikit-learn->dedupe>=2.0.0->pandas-dedupe) (3.1.0)\n",
      "Requirement already satisfied: scipy>=1.3.2 in /opt/conda/lib/python3.10/site-packages (from scikit-learn->dedupe>=2.0.0->pandas-dedupe) (1.10.1)\n",
      "Requirement already satisfied: joblib>=1.1.1 in /opt/conda/lib/python3.10/site-packages (from scikit-learn->dedupe>=2.0.0->pandas-dedupe) (1.2.0)\n",
      "Requirement already satisfied: setuptools in /opt/conda/lib/python3.10/site-packages (from zope.index->dedupe>=2.0.0->pandas-dedupe) (67.6.1)\n",
      "Requirement already satisfied: cffi in /opt/conda/lib/python3.10/site-packages (from persistent>=4.1.0->BTrees>=4.1.4->dedupe>=2.0.0->pandas-dedupe) (1.15.1)\n",
      "Requirement already satisfied: PyLBFGS>=0.1.3 in /opt/conda/lib/python3.10/site-packages (from pyhacrf-datamade>=0.2.0->highered>=0.2.0->dedupe>=2.0.0->pandas-dedupe) (0.2.0.14)\n",
      "Requirement already satisfied: pycparser in /opt/conda/lib/python3.10/site-packages (from cffi->persistent>=4.1.0->BTrees>=4.1.4->dedupe>=2.0.0->pandas-dedupe) (2.21)\n"
     ]
    }
   ],
   "source": [
    "!pip install pandas-dedupe"
   ]
  },
  {
   "cell_type": "code",
   "execution_count": 2,
   "id": "1630513a-e446-4dd1-8bb2-4f71b04892da",
   "metadata": {
    "tags": []
   },
   "outputs": [
    {
     "name": "stdout",
     "output_type": "stream",
     "text": [
      "Requirement already satisfied: py_stringmatching in /opt/conda/lib/python3.10/site-packages (0.4.3)\n",
      "Requirement already satisfied: six in /opt/conda/lib/python3.10/site-packages (from py_stringmatching) (1.16.0)\n",
      "Requirement already satisfied: numpy>=1.7.0 in /opt/conda/lib/python3.10/site-packages (from py_stringmatching) (1.23.5)\n",
      "Note: you may need to restart the kernel to use updated packages.\n"
     ]
    }
   ],
   "source": [
    "pip install py_stringmatching"
   ]
  },
  {
   "cell_type": "code",
   "execution_count": 3,
   "id": "74267fbb",
   "metadata": {
    "tags": []
   },
   "outputs": [],
   "source": [
    "import pandas as pd\n",
    "import pandas_dedupe\n",
    "import py_stringmatching as sm\n",
    "import numpy as np\n",
    "\n",
    "from ast import literal_eval\n",
    "from itertools import chain\n",
    "from sklearn.feature_extraction.text import CountVectorizer"
   ]
  },
  {
   "cell_type": "code",
   "execution_count": 4,
   "id": "cbec2849-68dc-4acf-bd12-ef19f14015c6",
   "metadata": {
    "tags": []
   },
   "outputs": [],
   "source": [
    "ingredients_extracted_csv_p = r\"../../data/ingredients_extracted.csv.gz\""
   ]
  },
  {
   "cell_type": "markdown",
   "id": "2a577b07-3e6c-4727-93d6-7610e5225d07",
   "metadata": {
    "tags": []
   },
   "source": [
    "#### Pull a previously cleaned data set"
   ]
  },
  {
   "cell_type": "markdown",
   "id": "86bf1885-1c8e-41c7-bb85-c9fcd58b2125",
   "metadata": {},
   "source": [
    "Make a dataframe of the queried data"
   ]
  },
  {
   "cell_type": "code",
   "execution_count": 5,
   "id": "a035fe4b-8d0b-4a4d-afba-6c21196420a6",
   "metadata": {
    "tags": []
   },
   "outputs": [
    {
     "name": "stdout",
     "output_type": "stream",
     "text": [
      "CPU times: user 57.6 s, sys: 4.35 s, total: 1min 1s\n",
      "Wall time: 1min 2s\n"
     ]
    },
    {
     "data": {
      "text/html": [
       "<div>\n",
       "<style scoped>\n",
       "    .dataframe tbody tr th:only-of-type {\n",
       "        vertical-align: middle;\n",
       "    }\n",
       "\n",
       "    .dataframe tbody tr th {\n",
       "        vertical-align: top;\n",
       "    }\n",
       "\n",
       "    .dataframe thead th {\n",
       "        text-align: right;\n",
       "    }\n",
       "</style>\n",
       "<table border=\"1\" class=\"dataframe\">\n",
       "  <thead>\n",
       "    <tr style=\"text-align: right;\">\n",
       "      <th></th>\n",
       "      <th>fdc_id</th>\n",
       "      <th>ingredients_tokenized</th>\n",
       "    </tr>\n",
       "  </thead>\n",
       "  <tbody>\n",
       "    <tr>\n",
       "      <th>0</th>\n",
       "      <td>356068</td>\n",
       "      <td>{PALM, SOY LECITHIN, SUGAR, CORNSTARCH, VEGETA...</td>\n",
       "    </tr>\n",
       "    <tr>\n",
       "      <th>1</th>\n",
       "      <td>356069</td>\n",
       "      <td>{CRUSHED TOMATOES, SALT, ONIONS, DISTILLED VIN...</td>\n",
       "    </tr>\n",
       "    <tr>\n",
       "      <th>2</th>\n",
       "      <td>356070</td>\n",
       "      <td>{NATURAL FLAVORS, PALM OILS, SOY LECITHIN, SUG...</td>\n",
       "    </tr>\n",
       "    <tr>\n",
       "      <th>3</th>\n",
       "      <td>356071</td>\n",
       "      <td>{CRUSHED TOMATOES, SALT, ONIONS, DISTILLED VIN...</td>\n",
       "    </tr>\n",
       "    <tr>\n",
       "      <th>4</th>\n",
       "      <td>356072</td>\n",
       "      <td>{SEA SALT, WHEY, CORNSTARCH, NATURAL FLAVOR, B...</td>\n",
       "    </tr>\n",
       "  </tbody>\n",
       "</table>\n",
       "</div>"
      ],
      "text/plain": [
       "   fdc_id                              ingredients_tokenized\n",
       "0  356068  {PALM, SOY LECITHIN, SUGAR, CORNSTARCH, VEGETA...\n",
       "1  356069  {CRUSHED TOMATOES, SALT, ONIONS, DISTILLED VIN...\n",
       "2  356070  {NATURAL FLAVORS, PALM OILS, SOY LECITHIN, SUG...\n",
       "3  356071  {CRUSHED TOMATOES, SALT, ONIONS, DISTILLED VIN...\n",
       "4  356072  {SEA SALT, WHEY, CORNSTARCH, NATURAL FLAVOR, B..."
      ]
     },
     "execution_count": 5,
     "metadata": {},
     "output_type": "execute_result"
    }
   ],
   "source": [
    "%%time\n",
    "ingredient_df = pd.read_csv(ingredients_extracted_csv_p, converters={\"ingredients_tokenized\": literal_eval})\n",
    "ingredient_df.head()"
   ]
  },
  {
   "cell_type": "markdown",
   "id": "5d76dbaa-5241-4aa0-8b5f-d77e692bcb68",
   "metadata": {},
   "source": [
    "#### Get a unique list of ingredients"
   ]
  },
  {
   "cell_type": "code",
   "execution_count": 6,
   "id": "b8e7d138-5f0d-4aea-b1a0-801095884b99",
   "metadata": {
    "tags": []
   },
   "outputs": [
    {
     "data": {
      "text/plain": [
       "149192"
      ]
     },
     "execution_count": 6,
     "metadata": {},
     "output_type": "execute_result"
    }
   ],
   "source": [
    "ingredient_list = ingredient_df['ingredients_tokenized'].to_list()\n",
    "ingredient_list = list(chain.from_iterable(ingredient_list))\n",
    "ingredient_list = set(ingredient_list)\n",
    "len(ingredient_list)"
   ]
  },
  {
   "cell_type": "code",
   "execution_count": 7,
   "id": "10b2130e-651e-4dc3-809d-312c04fd1e61",
   "metadata": {
    "tags": []
   },
   "outputs": [],
   "source": [
    "qg2_tok = sm.QgramTokenizer(qval=3, padding = False)"
   ]
  },
  {
   "cell_type": "code",
   "execution_count": 8,
   "id": "b09f483a-8fc0-4a20-ae0c-d3a5476c61f8",
   "metadata": {
    "tags": []
   },
   "outputs": [
    {
     "data": {
      "text/html": [
       "<div>\n",
       "<style scoped>\n",
       "    .dataframe tbody tr th:only-of-type {\n",
       "        vertical-align: middle;\n",
       "    }\n",
       "\n",
       "    .dataframe tbody tr th {\n",
       "        vertical-align: top;\n",
       "    }\n",
       "\n",
       "    .dataframe thead th {\n",
       "        text-align: right;\n",
       "    }\n",
       "</style>\n",
       "<table border=\"1\" class=\"dataframe\">\n",
       "  <thead>\n",
       "    <tr style=\"text-align: right;\">\n",
       "      <th></th>\n",
       "      <th>Ingredients</th>\n",
       "    </tr>\n",
       "  </thead>\n",
       "  <tbody>\n",
       "    <tr>\n",
       "      <th>0</th>\n",
       "      <td>TRUE LEMON</td>\n",
       "    </tr>\n",
       "    <tr>\n",
       "      <th>1</th>\n",
       "      <td>ORGANIC COLLARD GREENS ORGANIC KALE</td>\n",
       "    </tr>\n",
       "    <tr>\n",
       "      <th>2</th>\n",
       "      <td>CHOCOLATY PIECES</td>\n",
       "    </tr>\n",
       "    <tr>\n",
       "      <th>3</th>\n",
       "      <td>MALTODEXTRIN†</td>\n",
       "    </tr>\n",
       "    <tr>\n",
       "      <th>4</th>\n",
       "      <td>E153</td>\n",
       "    </tr>\n",
       "    <tr>\n",
       "      <th>...</th>\n",
       "      <td>...</td>\n",
       "    </tr>\n",
       "    <tr>\n",
       "      <th>149187</th>\n",
       "      <td>CONTAINS LESS THAN 1 % OF SUNFLOWER OIL</td>\n",
       "    </tr>\n",
       "    <tr>\n",
       "      <th>149188</th>\n",
       "      <td>FROM PERU</td>\n",
       "    </tr>\n",
       "    <tr>\n",
       "      <th>149189</th>\n",
       "      <td>HERBAL EXTRACT</td>\n",
       "    </tr>\n",
       "    <tr>\n",
       "      <th>149190</th>\n",
       "      <td>WHOLE WHITE FLOUR</td>\n",
       "    </tr>\n",
       "    <tr>\n",
       "      <th>149191</th>\n",
       "      <td>APPLE ORANGE</td>\n",
       "    </tr>\n",
       "  </tbody>\n",
       "</table>\n",
       "<p>149192 rows × 1 columns</p>\n",
       "</div>"
      ],
      "text/plain": [
       "                                    Ingredients\n",
       "0                                    TRUE LEMON\n",
       "1           ORGANIC COLLARD GREENS ORGANIC KALE\n",
       "2                              CHOCOLATY PIECES\n",
       "3                                 MALTODEXTRIN†\n",
       "4                                          E153\n",
       "...                                         ...\n",
       "149187  CONTAINS LESS THAN 1 % OF SUNFLOWER OIL\n",
       "149188                                FROM PERU\n",
       "149189                           HERBAL EXTRACT\n",
       "149190                        WHOLE WHITE FLOUR\n",
       "149191                             APPLE ORANGE\n",
       "\n",
       "[149192 rows x 1 columns]"
      ]
     },
     "execution_count": 8,
     "metadata": {},
     "output_type": "execute_result"
    }
   ],
   "source": [
    "ingredient_list_df = pd.DataFrame(ingredient_list, columns = [\"Ingredients\"])\n",
    "ingredient_list_df"
   ]
  },
  {
   "cell_type": "code",
   "execution_count": 9,
   "id": "3fb716be-0228-401d-84d3-1f48f34e7e2f",
   "metadata": {
    "tags": []
   },
   "outputs": [
    {
     "name": "stderr",
     "output_type": "stream",
     "text": [
      "/opt/conda/lib/python3.10/site-packages/sklearn/feature_extraction/text.py:528: UserWarning: The parameter 'token_pattern' will not be used since 'tokenizer' is not None'\n",
      "  warnings.warn(\n"
     ]
    },
    {
     "name": "stdout",
     "output_type": "stream",
     "text": [
      "(149192, 15438)\n",
      "CPU times: user 3.37 s, sys: 72.5 ms, total: 3.45 s\n",
      "Wall time: 3.45 s\n"
     ]
    }
   ],
   "source": [
    "%%time\n",
    "#Turn the list of tokenized ingredients into a sparse matrix\n",
    "#establish and fit the CountVectorizer\n",
    "cv = CountVectorizer(lowercase = False, tokenizer=qg2_tok.tokenize)\n",
    "cv.fit(ingredient_list_df[\"Ingredients\"])\n",
    "IngredientsSparseMatrix = cv.transform(ingredient_list_df[\"Ingredients\"])\n",
    "#transpose the sparse matrix df. This will allow for matrix multiplication\n",
    "IngredientsSparseMatrixTranspose = IngredientsSparseMatrix.T\n",
    "print(IngredientsSparseMatrix.shape)"
   ]
  },
  {
   "cell_type": "code",
   "execution_count": null,
   "id": "31eb521d-2992-4381-a6a8-8360b0d5bc90",
   "metadata": {
    "tags": []
   },
   "outputs": [],
   "source": [
    "%%time\n",
    "#this will result in OrgNames values as row indexes and IncName values as column indexes\n",
    "AdjacencyMatrix = IngredientsSparseMatrix.dot(IngredientsSparseMatrixTranspose)\n",
    "print(AdjacencyMatrix.shape)"
   ]
  },
  {
   "cell_type": "markdown",
   "id": "1eec7935-9ce1-49e1-8074-68c278a98701",
   "metadata": {},
   "source": [
    "## Dedupe the ingredients"
   ]
  },
  {
   "cell_type": "code",
   "execution_count": null,
   "id": "c87a32ad-394d-447a-986a-176a1896818a",
   "metadata": {
    "tags": []
   },
   "outputs": [
    {
     "name": "stdout",
     "output_type": "stream",
     "text": [
      "Importing data ...\n"
     ]
    }
   ],
   "source": [
    "ingredient_df = pandas_dedupe.dedupe_dataframe(ingredient_df, [\"ingredients_tokenized\"])"
   ]
  },
  {
   "cell_type": "markdown",
   "id": "f1226004-35ad-4426-8eda-beb11ece931f",
   "metadata": {},
   "source": [
    "#### Export the data"
   ]
  },
  {
   "cell_type": "code",
   "execution_count": 12,
   "id": "57886c29-0ba2-470b-9168-dd5ace6ed8c8",
   "metadata": {
    "tags": []
   },
   "outputs": [],
   "source": [
    "del ingredient_df['ingredients']"
   ]
  },
  {
   "cell_type": "code",
   "execution_count": 14,
   "id": "376784af-a286-45cf-9384-4eed57cb1868",
   "metadata": {
    "tags": []
   },
   "outputs": [],
   "source": [
    "ingredient_df.to_csv(ingredients_extracted_csv_p, \n",
    "                   index = False, compression = \"gzip\")"
   ]
  },
  {
   "cell_type": "code",
   "execution_count": null,
   "id": "4d28732a-78cf-4147-b760-5d06a51814d7",
   "metadata": {},
   "outputs": [],
   "source": []
  }
 ],
 "metadata": {
  "kernelspec": {
   "display_name": "Python 3 (ipykernel)",
   "language": "python",
   "name": "python3"
  },
  "language_info": {
   "codemirror_mode": {
    "name": "ipython",
    "version": 3
   },
   "file_extension": ".py",
   "mimetype": "text/x-python",
   "name": "python",
   "nbconvert_exporter": "python",
   "pygments_lexer": "ipython3",
   "version": "3.10.10"
  }
 },
 "nbformat": 4,
 "nbformat_minor": 5
}
