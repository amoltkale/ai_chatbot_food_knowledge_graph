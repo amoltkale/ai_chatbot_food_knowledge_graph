{
 "cells": [
  {
   "cell_type": "markdown",
   "id": "2f7fc47b",
   "metadata": {},
   "source": [
    "# Hierarchical clustering on food products"
   ]
  },
  {
   "cell_type": "markdown",
   "id": "0cca100f",
   "metadata": {},
   "source": [
    "Goals:\n",
    "    \n",
    "Do agglomerative clustering on the centroids of the results received from Kmeans on the scaled/PCA food products matrix and return a linkage matrix."
   ]
  },
  {
   "cell_type": "code",
   "execution_count": 1,
   "id": "e124d15a",
   "metadata": {
    "tags": []
   },
   "outputs": [],
   "source": [
    "import numpy as np\n",
    "import pandas as pd\n",
    "import time\n",
    "\n",
    "from sklearn.cluster import AgglomerativeClustering"
   ]
  },
  {
   "cell_type": "code",
   "execution_count": 2,
   "id": "222914fe-0c0b-4cfe-878c-2357e7f2c0a4",
   "metadata": {
    "tags": []
   },
   "outputs": [],
   "source": [
    "# csv paths\n",
    "data_p = r\"../data/\"\n",
    "\n",
    "nutrient_matrix_centroids_p = data_p + \"10000_cluster_centers.csv\""
   ]
  },
  {
   "cell_type": "code",
   "execution_count": 3,
   "id": "56945f32-55cd-422f-9b4f-ffac4d07bdc2",
   "metadata": {
    "tags": []
   },
   "outputs": [
    {
     "name": "stdout",
     "output_type": "stream",
     "text": [
      "(10000, 65)\n"
     ]
    },
    {
     "data": {
      "text/html": [
       "<div>\n",
       "<style scoped>\n",
       "    .dataframe tbody tr th:only-of-type {\n",
       "        vertical-align: middle;\n",
       "    }\n",
       "\n",
       "    .dataframe tbody tr th {\n",
       "        vertical-align: top;\n",
       "    }\n",
       "\n",
       "    .dataframe thead th {\n",
       "        text-align: right;\n",
       "    }\n",
       "</style>\n",
       "<table border=\"1\" class=\"dataframe\">\n",
       "  <thead>\n",
       "    <tr style=\"text-align: right;\">\n",
       "      <th></th>\n",
       "      <th>0</th>\n",
       "      <th>1</th>\n",
       "      <th>2</th>\n",
       "      <th>3</th>\n",
       "      <th>4</th>\n",
       "      <th>5</th>\n",
       "      <th>6</th>\n",
       "      <th>7</th>\n",
       "      <th>8</th>\n",
       "      <th>9</th>\n",
       "      <th>...</th>\n",
       "      <th>55</th>\n",
       "      <th>56</th>\n",
       "      <th>57</th>\n",
       "      <th>58</th>\n",
       "      <th>59</th>\n",
       "      <th>60</th>\n",
       "      <th>61</th>\n",
       "      <th>62</th>\n",
       "      <th>63</th>\n",
       "      <th>64</th>\n",
       "    </tr>\n",
       "  </thead>\n",
       "  <tbody>\n",
       "    <tr>\n",
       "      <th>0</th>\n",
       "      <td>-0.007690</td>\n",
       "      <td>-1.544650</td>\n",
       "      <td>0.107352</td>\n",
       "      <td>0.050278</td>\n",
       "      <td>0.056822</td>\n",
       "      <td>0.026857</td>\n",
       "      <td>0.230026</td>\n",
       "      <td>-0.002547</td>\n",
       "      <td>0.024334</td>\n",
       "      <td>0.046679</td>\n",
       "      <td>...</td>\n",
       "      <td>-0.016528</td>\n",
       "      <td>0.028247</td>\n",
       "      <td>-0.004425</td>\n",
       "      <td>-0.016682</td>\n",
       "      <td>0.007527</td>\n",
       "      <td>-0.014596</td>\n",
       "      <td>0.001947</td>\n",
       "      <td>-0.016372</td>\n",
       "      <td>-0.045266</td>\n",
       "      <td>0.029749</td>\n",
       "    </tr>\n",
       "    <tr>\n",
       "      <th>1</th>\n",
       "      <td>2781.483444</td>\n",
       "      <td>-2.252280</td>\n",
       "      <td>0.208276</td>\n",
       "      <td>-30.908771</td>\n",
       "      <td>-2.048539</td>\n",
       "      <td>-0.009266</td>\n",
       "      <td>0.024520</td>\n",
       "      <td>0.035365</td>\n",
       "      <td>0.470243</td>\n",
       "      <td>-0.048265</td>\n",
       "      <td>...</td>\n",
       "      <td>-0.036156</td>\n",
       "      <td>-0.098135</td>\n",
       "      <td>0.052281</td>\n",
       "      <td>0.103860</td>\n",
       "      <td>-0.133967</td>\n",
       "      <td>0.077619</td>\n",
       "      <td>-0.018594</td>\n",
       "      <td>0.215010</td>\n",
       "      <td>0.305988</td>\n",
       "      <td>0.150995</td>\n",
       "    </tr>\n",
       "    <tr>\n",
       "      <th>2</th>\n",
       "      <td>-0.011709</td>\n",
       "      <td>28.407393</td>\n",
       "      <td>-2.572315</td>\n",
       "      <td>-49.383371</td>\n",
       "      <td>711.784932</td>\n",
       "      <td>-1.048449</td>\n",
       "      <td>-9.489603</td>\n",
       "      <td>0.080867</td>\n",
       "      <td>3.083876</td>\n",
       "      <td>-0.543342</td>\n",
       "      <td>...</td>\n",
       "      <td>-0.511399</td>\n",
       "      <td>0.759729</td>\n",
       "      <td>-0.054034</td>\n",
       "      <td>-0.291077</td>\n",
       "      <td>-0.297037</td>\n",
       "      <td>-0.763396</td>\n",
       "      <td>0.221420</td>\n",
       "      <td>0.085775</td>\n",
       "      <td>0.620891</td>\n",
       "      <td>-0.067246</td>\n",
       "    </tr>\n",
       "    <tr>\n",
       "      <th>3</th>\n",
       "      <td>6.957604</td>\n",
       "      <td>8.825611</td>\n",
       "      <td>-0.857121</td>\n",
       "      <td>150.304901</td>\n",
       "      <td>10.068917</td>\n",
       "      <td>0.065692</td>\n",
       "      <td>-0.232524</td>\n",
       "      <td>-0.281654</td>\n",
       "      <td>-5.210221</td>\n",
       "      <td>2.005412</td>\n",
       "      <td>...</td>\n",
       "      <td>-0.091213</td>\n",
       "      <td>-1.760647</td>\n",
       "      <td>0.824565</td>\n",
       "      <td>1.182382</td>\n",
       "      <td>-1.781599</td>\n",
       "      <td>1.140641</td>\n",
       "      <td>-0.297284</td>\n",
       "      <td>2.107869</td>\n",
       "      <td>2.977343</td>\n",
       "      <td>1.503632</td>\n",
       "    </tr>\n",
       "    <tr>\n",
       "      <th>4</th>\n",
       "      <td>-0.009737</td>\n",
       "      <td>63.177010</td>\n",
       "      <td>892.732755</td>\n",
       "      <td>1.345903</td>\n",
       "      <td>0.652844</td>\n",
       "      <td>-325.665472</td>\n",
       "      <td>27.671720</td>\n",
       "      <td>0.290043</td>\n",
       "      <td>-0.126729</td>\n",
       "      <td>2.239691</td>\n",
       "      <td>...</td>\n",
       "      <td>-0.070477</td>\n",
       "      <td>2.081161</td>\n",
       "      <td>-1.119267</td>\n",
       "      <td>-1.016106</td>\n",
       "      <td>-2.356392</td>\n",
       "      <td>-4.189894</td>\n",
       "      <td>0.720082</td>\n",
       "      <td>0.421630</td>\n",
       "      <td>0.001571</td>\n",
       "      <td>0.395123</td>\n",
       "    </tr>\n",
       "  </tbody>\n",
       "</table>\n",
       "<p>5 rows × 65 columns</p>\n",
       "</div>"
      ],
      "text/plain": [
       "             0          1           2           3           4           5  \\\n",
       "0    -0.007690  -1.544650    0.107352    0.050278    0.056822    0.026857   \n",
       "1  2781.483444  -2.252280    0.208276  -30.908771   -2.048539   -0.009266   \n",
       "2    -0.011709  28.407393   -2.572315  -49.383371  711.784932   -1.048449   \n",
       "3     6.957604   8.825611   -0.857121  150.304901   10.068917    0.065692   \n",
       "4    -0.009737  63.177010  892.732755    1.345903    0.652844 -325.665472   \n",
       "\n",
       "           6         7         8         9  ...        55        56        57  \\\n",
       "0   0.230026 -0.002547  0.024334  0.046679  ... -0.016528  0.028247 -0.004425   \n",
       "1   0.024520  0.035365  0.470243 -0.048265  ... -0.036156 -0.098135  0.052281   \n",
       "2  -9.489603  0.080867  3.083876 -0.543342  ... -0.511399  0.759729 -0.054034   \n",
       "3  -0.232524 -0.281654 -5.210221  2.005412  ... -0.091213 -1.760647  0.824565   \n",
       "4  27.671720  0.290043 -0.126729  2.239691  ... -0.070477  2.081161 -1.119267   \n",
       "\n",
       "         58        59        60        61        62        63        64  \n",
       "0 -0.016682  0.007527 -0.014596  0.001947 -0.016372 -0.045266  0.029749  \n",
       "1  0.103860 -0.133967  0.077619 -0.018594  0.215010  0.305988  0.150995  \n",
       "2 -0.291077 -0.297037 -0.763396  0.221420  0.085775  0.620891 -0.067246  \n",
       "3  1.182382 -1.781599  1.140641 -0.297284  2.107869  2.977343  1.503632  \n",
       "4 -1.016106 -2.356392 -4.189894  0.720082  0.421630  0.001571  0.395123  \n",
       "\n",
       "[5 rows x 65 columns]"
      ]
     },
     "execution_count": 3,
     "metadata": {},
     "output_type": "execute_result"
    }
   ],
   "source": [
    "nutrient_matrix_centroids = pd.read_csv(nutrient_matrix_centroids_p, index_col=0)\n",
    "print(nutrient_matrix_centroids.shape)\n",
    "nutrient_matrix_centroids.head()"
   ]
  },
  {
   "cell_type": "markdown",
   "id": "20bdc28a",
   "metadata": {},
   "source": [
    "### Do Hierarchical clustering and save the linkage matrix"
   ]
  },
  {
   "cell_type": "code",
   "execution_count": 4,
   "id": "832f1f89",
   "metadata": {
    "tags": []
   },
   "outputs": [],
   "source": [
    "fname = data_p + \"hcluster_nutrients_10000centroids_kmeans.npy\""
   ]
  },
  {
   "cell_type": "code",
   "execution_count": 5,
   "id": "706ed182",
   "metadata": {
    "tags": []
   },
   "outputs": [
    {
     "name": "stdout",
     "output_type": "stream",
     "text": [
      "It has been 5.88123083114624 seconds since the loop started\n"
     ]
    }
   ],
   "source": [
    "program_starts = time.time()\n",
    "agglo_cluster = AgglomerativeClustering(linkage = 'ward', compute_full_tree = True).fit(nutrient_matrix_centroids)\n",
    "now = time.time()\n",
    "print(\"It has been {0} seconds since the loop started\".format(now - program_starts))"
   ]
  },
  {
   "cell_type": "code",
   "execution_count": 6,
   "id": "42109e57",
   "metadata": {
    "tags": []
   },
   "outputs": [
    {
     "data": {
      "text/plain": [
       "array([[ 4355,  7799],\n",
       "       [ 1138,  6078],\n",
       "       [ 2052,  8967],\n",
       "       ...,\n",
       "       [   10, 19995],\n",
       "       [19974, 19996],\n",
       "       [    1, 19997]])"
      ]
     },
     "execution_count": 6,
     "metadata": {},
     "output_type": "execute_result"
    }
   ],
   "source": [
    "linkage_matrix = agglo_cluster.children_\n",
    "linkage_matrix"
   ]
  },
  {
   "cell_type": "code",
   "execution_count": 7,
   "id": "458b5aa1",
   "metadata": {
    "tags": []
   },
   "outputs": [
    {
     "data": {
      "text/plain": [
       "(9999, 2)"
      ]
     },
     "execution_count": 7,
     "metadata": {},
     "output_type": "execute_result"
    }
   ],
   "source": [
    "linkage_matrix.shape"
   ]
  },
  {
   "cell_type": "code",
   "execution_count": 8,
   "id": "42aabff7",
   "metadata": {
    "tags": []
   },
   "outputs": [],
   "source": [
    "with open(fname, 'wb') as f:\n",
    "    np.save(f,  linkage_matrix, fix_imports= False)"
   ]
  }
 ],
 "metadata": {
  "kernelspec": {
   "display_name": "Python 3 (ipykernel)",
   "language": "python",
   "name": "python3"
  },
  "language_info": {
   "codemirror_mode": {
    "name": "ipython",
    "version": 3
   },
   "file_extension": ".py",
   "mimetype": "text/x-python",
   "name": "python",
   "nbconvert_exporter": "python",
   "pygments_lexer": "ipython3",
   "version": "3.10.9"
  }
 },
 "nbformat": 4,
 "nbformat_minor": 5
}
