{
 "cells": [
  {
   "cell_type": "markdown",
   "id": "2f7fc47b",
   "metadata": {},
   "source": [
    "# Hyper-Palatable Foods (HPF) Food product clustering"
   ]
  },
  {
   "cell_type": "markdown",
   "id": "0cca100f",
   "metadata": {},
   "source": [
    "Goal:\n",
    "    \n",
    "Pull a subset of the nutrient matrix created in a previous notebook and calculate the following variables:\n",
    "* PFAT: Percent calories (kilocalories) from fat\n",
    "* PSUGR: Percent calories (kilocalories) from simple sugars\n",
    "* PCARB: Percent calories (kilocalories) from carbohydrates\n",
    "* PSODI: Percent sodium by food weight (in grams) per portion\n",
    "\n",
    "Using the variables, calculate if each USDA food product satisfies the conditions to fall into any of the three different HPF clusters: \n",
    "\n",
    "1) FSOD: Fat and Sodium (>25% kcal from fat, ≥0.30% sodium by weight)\n",
    "2) FS: Fat and Simple Sugars (>20% kcal from fat,>20% kcal from sugar)\n",
    "3) CSOD: Carbohydrates and Sodium (>40% kcal from carbohydrates, ≥0.20% sodium by weight)\n",
    "\n",
    "A food product can exist in one, all or none. If a food doesn't fall into any of these clusters, it is possible the food is not hyper palatable. True/False columns will be returned for each cluster. The methods for this notebook follow directly from the 2019 article [Hyper-Palatable Foods: Development of a Quantitative Definition and Application to the US Food System Database](https://www.researchgate.net/publication/337039170_Hyper-Palatable_Foods_Development_of_a_Quantitative_Definition_and_Application_to_the_US_Food_System_Database).\n",
    "\n",
    "\n",
    "Other misc resources:\n",
    "* https://github.com/USDA/USDA-APIs/issues/120"
   ]
  },
  {
   "cell_type": "markdown",
   "id": "7fff4293-9a86-4648-b997-7f3a1d1f3e02",
   "metadata": {},
   "source": [
    "## Setup"
   ]
  },
  {
   "cell_type": "code",
   "execution_count": 1,
   "id": "e124d15a",
   "metadata": {
    "tags": []
   },
   "outputs": [],
   "source": [
    "import numpy as np\n",
    "import pandas as pd\n",
    "import sqlalchemy as sal\n",
    "\n",
    "from sqlalchemy import text"
   ]
  },
  {
   "cell_type": "code",
   "execution_count": 2,
   "id": "91966072-003d-4556-832c-cb343cbf75a1",
   "metadata": {
    "tags": []
   },
   "outputs": [],
   "source": [
    "nutrient_matrix_data_p = r\"../../data/\"\n",
    "\n",
    "nutrient_matrix_csv_p = nutrient_matrix_data_p + \"nutrients_matrix.csv.gz\"\n",
    "\n",
    "nutrient_matrix_nutriscore_p = nutrient_matrix_data_p + \"usda_2022_hpf_component.csv.gz\""
   ]
  },
  {
   "cell_type": "markdown",
   "id": "ea52c7cc-be2a-430a-bb43-9997a605a2f7",
   "metadata": {},
   "source": [
    "#### Import the data cleaned in a previous notebook. Set the fdc_id to the index."
   ]
  },
  {
   "cell_type": "code",
   "execution_count": 3,
   "id": "4b2fb1fe",
   "metadata": {
    "tags": []
   },
   "outputs": [
    {
     "name": "stdout",
     "output_type": "stream",
     "text": [
      "(1590701, 103)\n"
     ]
    },
    {
     "data": {
      "text/html": [
       "<div>\n",
       "<style scoped>\n",
       "    .dataframe tbody tr th:only-of-type {\n",
       "        vertical-align: middle;\n",
       "    }\n",
       "\n",
       "    .dataframe tbody tr th {\n",
       "        vertical-align: top;\n",
       "    }\n",
       "\n",
       "    .dataframe thead th {\n",
       "        text-align: right;\n",
       "    }\n",
       "</style>\n",
       "<table border=\"1\" class=\"dataframe\">\n",
       "  <thead>\n",
       "    <tr style=\"text-align: right;\">\n",
       "      <th></th>\n",
       "      <th>1003</th>\n",
       "      <th>1004</th>\n",
       "      <th>1005</th>\n",
       "      <th>1008</th>\n",
       "      <th>1079</th>\n",
       "      <th>1082</th>\n",
       "      <th>1084</th>\n",
       "      <th>1087</th>\n",
       "      <th>1089</th>\n",
       "      <th>1092</th>\n",
       "      <th>...</th>\n",
       "      <th>1099</th>\n",
       "      <th>1196</th>\n",
       "      <th>1316</th>\n",
       "      <th>1233</th>\n",
       "      <th>1112</th>\n",
       "      <th>1111</th>\n",
       "      <th>1273</th>\n",
       "      <th>1236</th>\n",
       "      <th>1080</th>\n",
       "      <th>1068</th>\n",
       "    </tr>\n",
       "    <tr>\n",
       "      <th>fdc_id</th>\n",
       "      <th></th>\n",
       "      <th></th>\n",
       "      <th></th>\n",
       "      <th></th>\n",
       "      <th></th>\n",
       "      <th></th>\n",
       "      <th></th>\n",
       "      <th></th>\n",
       "      <th></th>\n",
       "      <th></th>\n",
       "      <th></th>\n",
       "      <th></th>\n",
       "      <th></th>\n",
       "      <th></th>\n",
       "      <th></th>\n",
       "      <th></th>\n",
       "      <th></th>\n",
       "      <th></th>\n",
       "      <th></th>\n",
       "      <th></th>\n",
       "      <th></th>\n",
       "    </tr>\n",
       "  </thead>\n",
       "  <tbody>\n",
       "    <tr>\n",
       "      <th>344604</th>\n",
       "      <td>0.81</td>\n",
       "      <td>0.41</td>\n",
       "      <td>4.07</td>\n",
       "      <td>24.0</td>\n",
       "      <td>0.8</td>\n",
       "      <td>0.0</td>\n",
       "      <td>0.0</td>\n",
       "      <td>13.0</td>\n",
       "      <td>0.00</td>\n",
       "      <td>179.0</td>\n",
       "      <td>...</td>\n",
       "      <td>0.0</td>\n",
       "      <td>0.0</td>\n",
       "      <td>0.0</td>\n",
       "      <td>0.0</td>\n",
       "      <td>0.0</td>\n",
       "      <td>0.0</td>\n",
       "      <td>0.0</td>\n",
       "      <td>0.0</td>\n",
       "      <td>0.0</td>\n",
       "      <td>0.0</td>\n",
       "    </tr>\n",
       "    <tr>\n",
       "      <th>344605</th>\n",
       "      <td>0.81</td>\n",
       "      <td>0.41</td>\n",
       "      <td>4.07</td>\n",
       "      <td>24.0</td>\n",
       "      <td>0.8</td>\n",
       "      <td>0.0</td>\n",
       "      <td>0.0</td>\n",
       "      <td>16.0</td>\n",
       "      <td>0.00</td>\n",
       "      <td>179.0</td>\n",
       "      <td>...</td>\n",
       "      <td>0.0</td>\n",
       "      <td>0.0</td>\n",
       "      <td>0.0</td>\n",
       "      <td>0.0</td>\n",
       "      <td>0.0</td>\n",
       "      <td>0.0</td>\n",
       "      <td>0.0</td>\n",
       "      <td>0.0</td>\n",
       "      <td>0.0</td>\n",
       "      <td>0.0</td>\n",
       "    </tr>\n",
       "    <tr>\n",
       "      <th>344606</th>\n",
       "      <td>23.21</td>\n",
       "      <td>2.68</td>\n",
       "      <td>0.00</td>\n",
       "      <td>0.0</td>\n",
       "      <td>0.0</td>\n",
       "      <td>0.0</td>\n",
       "      <td>0.0</td>\n",
       "      <td>0.0</td>\n",
       "      <td>1.29</td>\n",
       "      <td>0.0</td>\n",
       "      <td>...</td>\n",
       "      <td>0.0</td>\n",
       "      <td>0.0</td>\n",
       "      <td>0.0</td>\n",
       "      <td>0.0</td>\n",
       "      <td>0.0</td>\n",
       "      <td>0.0</td>\n",
       "      <td>0.0</td>\n",
       "      <td>0.0</td>\n",
       "      <td>0.0</td>\n",
       "      <td>0.0</td>\n",
       "    </tr>\n",
       "    <tr>\n",
       "      <th>344607</th>\n",
       "      <td>23.21</td>\n",
       "      <td>2.68</td>\n",
       "      <td>0.00</td>\n",
       "      <td>0.0</td>\n",
       "      <td>0.0</td>\n",
       "      <td>0.0</td>\n",
       "      <td>0.0</td>\n",
       "      <td>0.0</td>\n",
       "      <td>1.29</td>\n",
       "      <td>0.0</td>\n",
       "      <td>...</td>\n",
       "      <td>0.0</td>\n",
       "      <td>0.0</td>\n",
       "      <td>0.0</td>\n",
       "      <td>0.0</td>\n",
       "      <td>0.0</td>\n",
       "      <td>0.0</td>\n",
       "      <td>0.0</td>\n",
       "      <td>0.0</td>\n",
       "      <td>0.0</td>\n",
       "      <td>0.0</td>\n",
       "    </tr>\n",
       "    <tr>\n",
       "      <th>344608</th>\n",
       "      <td>18.75</td>\n",
       "      <td>15.18</td>\n",
       "      <td>0.00</td>\n",
       "      <td>0.0</td>\n",
       "      <td>0.0</td>\n",
       "      <td>0.0</td>\n",
       "      <td>0.0</td>\n",
       "      <td>18.0</td>\n",
       "      <td>0.96</td>\n",
       "      <td>0.0</td>\n",
       "      <td>...</td>\n",
       "      <td>0.0</td>\n",
       "      <td>0.0</td>\n",
       "      <td>0.0</td>\n",
       "      <td>0.0</td>\n",
       "      <td>0.0</td>\n",
       "      <td>0.0</td>\n",
       "      <td>0.0</td>\n",
       "      <td>0.0</td>\n",
       "      <td>0.0</td>\n",
       "      <td>0.0</td>\n",
       "    </tr>\n",
       "  </tbody>\n",
       "</table>\n",
       "<p>5 rows × 103 columns</p>\n",
       "</div>"
      ],
      "text/plain": [
       "         1003   1004  1005  1008  1079  1082  1084  1087  1089   1092  ...   \n",
       "fdc_id                                                                 ...   \n",
       "344604   0.81   0.41  4.07  24.0   0.8   0.0   0.0  13.0  0.00  179.0  ...  \\\n",
       "344605   0.81   0.41  4.07  24.0   0.8   0.0   0.0  16.0  0.00  179.0  ...   \n",
       "344606  23.21   2.68  0.00   0.0   0.0   0.0   0.0   0.0  1.29    0.0  ...   \n",
       "344607  23.21   2.68  0.00   0.0   0.0   0.0   0.0   0.0  1.29    0.0  ...   \n",
       "344608  18.75  15.18  0.00   0.0   0.0   0.0   0.0  18.0  0.96    0.0  ...   \n",
       "\n",
       "        1099  1196  1316  1233  1112  1111  1273  1236  1080  1068  \n",
       "fdc_id                                                              \n",
       "344604   0.0   0.0   0.0   0.0   0.0   0.0   0.0   0.0   0.0   0.0  \n",
       "344605   0.0   0.0   0.0   0.0   0.0   0.0   0.0   0.0   0.0   0.0  \n",
       "344606   0.0   0.0   0.0   0.0   0.0   0.0   0.0   0.0   0.0   0.0  \n",
       "344607   0.0   0.0   0.0   0.0   0.0   0.0   0.0   0.0   0.0   0.0  \n",
       "344608   0.0   0.0   0.0   0.0   0.0   0.0   0.0   0.0   0.0   0.0  \n",
       "\n",
       "[5 rows x 103 columns]"
      ]
     },
     "execution_count": 3,
     "metadata": {},
     "output_type": "execute_result"
    }
   ],
   "source": [
    "nutrients_matrix = pd.read_csv(nutrient_matrix_csv_p)\n",
    "nutrients_matrix.set_index(\"fdc_id\", inplace = True)\n",
    "print(nutrients_matrix.shape)\n",
    "nutrients_matrix.head()"
   ]
  },
  {
   "cell_type": "markdown",
   "id": "c6db2844-4ef6-4bf0-8654-9a67f2e3e49e",
   "metadata": {},
   "source": [
    "## Choose a subset of the nutrients\n",
    "\n",
    "In the main article, the measurements of fat, simple sugars, carbohydrates, and sodium were the focuses of the analyses. The following assumptions were made:\n",
    "\n",
    "* The article:\n",
    "    - \"Percent calories (kilocalories) from fat (PFAT), simple sugars (PSUGR), and carbohydrates (PCARB) per serving was calculated using standard values of 9 kcal/g for fat and 4 kcal/g for carbohydrates and simple sugars (46). Percent kilocalories from carbohydrates was calculated from a total carbohydrates variable, which included fiber. Fiber slows the process of absorption of carbohydrates and sugar into the system, enhances satiety, and can alter palatability and food texture (47). Therefore, we subtracted fiber before calculating percent kilocalories from carbohydrates. To avoid overlap between the carbohydrates and simple sugars variables, we also subtracted sugar before calculating percent kilocalories from carbohydrates. The total sugars variable, which  consisted of  both  naturally  occurring  and  added  sugars, was used to calculate percent kilocalories from simple sugars. For sodium, percent sodium  by food  weight (PSODI) (in grams) per portion was calculated\"\n",
    "\n",
    "* FoodData Central (their [documentation](https://fdc.nal.usda.gov/data-documentation.html)):\n",
    "    - For calories, Atwater General Factors of 4, 9, and 4 for protein, fat and carbohydrate, respectively are used to calculated total energy in kcal.\n",
    "\n",
    "Variables\n",
    "\n",
    "* Fat: Use Total Lipid (Fat)\n",
    "* Simple Sugar: Use 'SUGARS, TOTAL'. \"The total sugars variable, which  consisted of  both  naturally  occurring  and  added  sugars,  was used to calculate percent kilocalories from simple sugars.\"\n",
    "* Carbohydrate: Use 'CARBOHYDRATE, BY DIFFERENCE', subtract 'FIBER, TOTAL DIETARY' and 'SUGARS, TOTAL'\n",
    "    - Food Data Central: \"Carbohydrate content, referred to as “carbohydrate by difference” in the tables, is expressed as the difference between 100 and the sum of the percentages of water, protein, total lipid (fat), ash, and alcohol (when present).\" Documentation for foundation foods: \"Values for carbohydrate by difference include total dietary fiber content. \"\n",
    "    - Article: \"...we subtracted fiber before calculating percent kilocal-ories from carbohydrates. To avoid overlap between the carbohydrates and simple sugars variables, we also subtracted sugar before calculat-ing percent kilocalories from carbohydrates.\"\n",
    "* Use: 'SODIUM, NA'"
   ]
  },
  {
   "cell_type": "code",
   "execution_count": 4,
   "id": "30316fba-59f0-40fd-a936-552e28beb9d0",
   "metadata": {
    "tags": []
   },
   "outputs": [],
   "source": [
    "subset = ['ENERGY', 'TOTAL LIPID (FAT)', 'SUGARS, TOTAL', 'CARBOHYDRATE, BY DIFFERENCE', 'FIBER, TOTAL DIETARY', 'SODIUM, NA']"
   ]
  },
  {
   "cell_type": "markdown",
   "id": "58074a2c-1864-48a8-a088-99f99b060887",
   "metadata": {},
   "source": [
    "#### Get the list of nutrient names from nourish"
   ]
  },
  {
   "cell_type": "code",
   "execution_count": 5,
   "id": "ec987913-84d1-45a8-b011-1228450e6640",
   "metadata": {
    "tags": []
   },
   "outputs": [
    {
     "name": "stdout",
     "output_type": "stream",
     "text": [
      "Requirement already satisfied: psycopg2-binary in /opt/conda/lib/python3.10/site-packages (2.9.6)\n",
      "Note: you may need to restart the kernel to use updated packages.\n"
     ]
    }
   ],
   "source": [
    "pip install psycopg2-binary"
   ]
  },
  {
   "cell_type": "code",
   "execution_count": 6,
   "id": "e17074e4-0473-4bea-841a-5e93bbf000ee",
   "metadata": {
    "tags": []
   },
   "outputs": [],
   "source": [
    "nourish_user = \"gmichael\"\n",
    "\n",
    "nourish_pswd = \"567khcwx3s\"\n",
    "\n",
    "engine = sal.create_engine('postgresql+psycopg2://' + nourish_user + ':' + nourish_pswd + '@awesome-hw.sdsc.edu/nourish')\n",
    "conn = engine.connect()"
   ]
  },
  {
   "cell_type": "code",
   "execution_count": 7,
   "id": "30ef9f2a-82b5-4eda-bcae-b251851c482b",
   "metadata": {
    "tags": []
   },
   "outputs": [
    {
     "data": {
      "text/plain": [
       "[(2047, 'Energy (Atwater General Factors)', 'KCAL', Decimal('957'), '280.0'),\n",
       " (2048, 'Energy (Atwater Specific Factors)', 'KCAL', Decimal('958'), '290.0')]"
      ]
     },
     "execution_count": 7,
     "metadata": {},
     "output_type": "execute_result"
    }
   ],
   "source": [
    "query_nutrients = text('''SELECT *\n",
    "from \"usda_2022_nutrient_master\"''')\n",
    "\n",
    "result = conn.execute(query_nutrients)\n",
    "\n",
    "nutrient_names = [i for i in result]\n",
    "\n",
    "nutrient_names[0:2]"
   ]
  },
  {
   "cell_type": "code",
   "execution_count": 8,
   "id": "fdb2a5a2-818a-44a1-915f-f186d4fabc18",
   "metadata": {
    "tags": []
   },
   "outputs": [
    {
     "data": {
      "text/html": [
       "<div>\n",
       "<style scoped>\n",
       "    .dataframe tbody tr th:only-of-type {\n",
       "        vertical-align: middle;\n",
       "    }\n",
       "\n",
       "    .dataframe tbody tr th {\n",
       "        vertical-align: top;\n",
       "    }\n",
       "\n",
       "    .dataframe thead th {\n",
       "        text-align: right;\n",
       "    }\n",
       "</style>\n",
       "<table border=\"1\" class=\"dataframe\">\n",
       "  <thead>\n",
       "    <tr style=\"text-align: right;\">\n",
       "      <th></th>\n",
       "      <th>id</th>\n",
       "      <th>name</th>\n",
       "      <th>unit_name</th>\n",
       "      <th>nutrient_nbr</th>\n",
       "      <th>rank</th>\n",
       "    </tr>\n",
       "  </thead>\n",
       "  <tbody>\n",
       "    <tr>\n",
       "      <th>5</th>\n",
       "      <td>1004</td>\n",
       "      <td>TOTAL LIPID (FAT)</td>\n",
       "      <td>G</td>\n",
       "      <td>204</td>\n",
       "      <td>800.0</td>\n",
       "    </tr>\n",
       "    <tr>\n",
       "      <th>6</th>\n",
       "      <td>1005</td>\n",
       "      <td>CARBOHYDRATE, BY DIFFERENCE</td>\n",
       "      <td>G</td>\n",
       "      <td>205</td>\n",
       "      <td>1110.0</td>\n",
       "    </tr>\n",
       "    <tr>\n",
       "      <th>9</th>\n",
       "      <td>1008</td>\n",
       "      <td>ENERGY</td>\n",
       "      <td>KCAL</td>\n",
       "      <td>208</td>\n",
       "      <td>300.0</td>\n",
       "    </tr>\n",
       "    <tr>\n",
       "      <th>63</th>\n",
       "      <td>1062</td>\n",
       "      <td>ENERGY</td>\n",
       "      <td>kJ</td>\n",
       "      <td>268</td>\n",
       "      <td>400.0</td>\n",
       "    </tr>\n",
       "    <tr>\n",
       "      <th>80</th>\n",
       "      <td>1079</td>\n",
       "      <td>FIBER, TOTAL DIETARY</td>\n",
       "      <td>G</td>\n",
       "      <td>291</td>\n",
       "      <td>1200.0</td>\n",
       "    </tr>\n",
       "    <tr>\n",
       "      <th>94</th>\n",
       "      <td>1093</td>\n",
       "      <td>SODIUM, NA</td>\n",
       "      <td>MG</td>\n",
       "      <td>307</td>\n",
       "      <td>5800.0</td>\n",
       "    </tr>\n",
       "    <tr>\n",
       "      <th>415</th>\n",
       "      <td>2000</td>\n",
       "      <td>SUGARS, TOTAL</td>\n",
       "      <td>G</td>\n",
       "      <td>269</td>\n",
       "      <td>1510.0</td>\n",
       "    </tr>\n",
       "  </tbody>\n",
       "</table>\n",
       "</div>"
      ],
      "text/plain": [
       "       id                         name unit_name nutrient_nbr    rank\n",
       "5    1004            TOTAL LIPID (FAT)         G          204   800.0\n",
       "6    1005  CARBOHYDRATE, BY DIFFERENCE         G          205  1110.0\n",
       "9    1008                       ENERGY      KCAL          208   300.0\n",
       "63   1062                       ENERGY        kJ          268   400.0\n",
       "80   1079         FIBER, TOTAL DIETARY         G          291  1200.0\n",
       "94   1093                   SODIUM, NA        MG          307  5800.0\n",
       "415  2000                SUGARS, TOTAL         G          269  1510.0"
      ]
     },
     "execution_count": 8,
     "metadata": {},
     "output_type": "execute_result"
    }
   ],
   "source": [
    "nutrient_names_df = pd.DataFrame(nutrient_names)\n",
    "nutrient_names_df['name'] = nutrient_names_df['name'].str.upper()\n",
    "nutrient_names_df[nutrient_names_df['name'].isin(subset)]"
   ]
  },
  {
   "cell_type": "markdown",
   "id": "46ce154b-5fb9-46be-a27e-fe04218eb72b",
   "metadata": {},
   "source": [
    "Convert Kjoules to Kcal for the energy component, then combine the energy columns. At the time of creating this notebook, 1062 is energy in kjoules and 1008 is energy in calories"
   ]
  },
  {
   "cell_type": "code",
   "execution_count": 9,
   "id": "4d702dc1-a7a7-4bd3-8c65-81e4db6962b7",
   "metadata": {
    "tags": []
   },
   "outputs": [],
   "source": [
    "nutrients_matrix['1062'] = nutrients_matrix['1062']/4.184 #1 kcal is 4.184 kj\n",
    "nutrients_matrix['1008'] = nutrients_matrix['1008'] + nutrients_matrix['1062']\n",
    "del nutrients_matrix['1062']"
   ]
  },
  {
   "cell_type": "markdown",
   "id": "c8343369-ab72-40cb-9451-c3b1a77141e8",
   "metadata": {},
   "source": [
    "Convert Sodium MG to G"
   ]
  },
  {
   "cell_type": "code",
   "execution_count": 10,
   "id": "846cf562-cf06-4038-abce-1107eb6cd695",
   "metadata": {
    "tags": []
   },
   "outputs": [],
   "source": [
    "nutrients_matrix['1093'] = nutrients_matrix['1093'] / 1000"
   ]
  },
  {
   "cell_type": "markdown",
   "id": "b8c737fd-7d0f-4955-8a25-dcfdf7f17f67",
   "metadata": {},
   "source": [
    "#### Update the matrix column headers"
   ]
  },
  {
   "cell_type": "code",
   "execution_count": 11,
   "id": "3aa281b1-beeb-4610-b702-ad7cb475a60a",
   "metadata": {
    "tags": []
   },
   "outputs": [],
   "source": [
    "var_mapping = {}\n",
    "for col in nutrients_matrix.columns:\n",
    "    var_mapping[col] = nutrient_names_df[nutrient_names_df['id']==int(col)].iloc[0]['name']\n",
    "    \n",
    "nutrients_matrix.rename(columns = var_mapping, inplace = True)"
   ]
  },
  {
   "cell_type": "markdown",
   "id": "1415c6d1-0c65-4def-94a9-cfa2ef440853",
   "metadata": {},
   "source": [
    "#### Choose a subset of the nutrients"
   ]
  },
  {
   "cell_type": "code",
   "execution_count": 13,
   "id": "4983192f-5341-4464-9152-d15cc6605e44",
   "metadata": {
    "tags": []
   },
   "outputs": [
    {
     "data": {
      "text/html": [
       "<div>\n",
       "<style scoped>\n",
       "    .dataframe tbody tr th:only-of-type {\n",
       "        vertical-align: middle;\n",
       "    }\n",
       "\n",
       "    .dataframe tbody tr th {\n",
       "        vertical-align: top;\n",
       "    }\n",
       "\n",
       "    .dataframe thead th {\n",
       "        text-align: right;\n",
       "    }\n",
       "</style>\n",
       "<table border=\"1\" class=\"dataframe\">\n",
       "  <thead>\n",
       "    <tr style=\"text-align: right;\">\n",
       "      <th></th>\n",
       "      <th>ENERGY</th>\n",
       "      <th>TOTAL LIPID (FAT)</th>\n",
       "      <th>SUGARS, TOTAL</th>\n",
       "      <th>CARBOHYDRATE, BY DIFFERENCE</th>\n",
       "      <th>FIBER, TOTAL DIETARY</th>\n",
       "      <th>SODIUM, NA</th>\n",
       "    </tr>\n",
       "    <tr>\n",
       "      <th>fdc_id</th>\n",
       "      <th></th>\n",
       "      <th></th>\n",
       "      <th></th>\n",
       "      <th></th>\n",
       "      <th></th>\n",
       "      <th></th>\n",
       "    </tr>\n",
       "  </thead>\n",
       "  <tbody>\n",
       "    <tr>\n",
       "      <th>344604</th>\n",
       "      <td>24.0</td>\n",
       "      <td>0.41</td>\n",
       "      <td>2.44</td>\n",
       "      <td>4.07</td>\n",
       "      <td>0.8</td>\n",
       "      <td>0.203</td>\n",
       "    </tr>\n",
       "    <tr>\n",
       "      <th>344605</th>\n",
       "      <td>24.0</td>\n",
       "      <td>0.41</td>\n",
       "      <td>2.44</td>\n",
       "      <td>4.07</td>\n",
       "      <td>0.8</td>\n",
       "      <td>0.203</td>\n",
       "    </tr>\n",
       "    <tr>\n",
       "      <th>344606</th>\n",
       "      <td>0.0</td>\n",
       "      <td>2.68</td>\n",
       "      <td>0.00</td>\n",
       "      <td>0.00</td>\n",
       "      <td>0.0</td>\n",
       "      <td>0.067</td>\n",
       "    </tr>\n",
       "    <tr>\n",
       "      <th>344607</th>\n",
       "      <td>0.0</td>\n",
       "      <td>2.68</td>\n",
       "      <td>0.00</td>\n",
       "      <td>0.00</td>\n",
       "      <td>0.0</td>\n",
       "      <td>0.067</td>\n",
       "    </tr>\n",
       "    <tr>\n",
       "      <th>344608</th>\n",
       "      <td>0.0</td>\n",
       "      <td>15.18</td>\n",
       "      <td>0.00</td>\n",
       "      <td>0.00</td>\n",
       "      <td>0.0</td>\n",
       "      <td>0.103</td>\n",
       "    </tr>\n",
       "    <tr>\n",
       "      <th>...</th>\n",
       "      <td>...</td>\n",
       "      <td>...</td>\n",
       "      <td>...</td>\n",
       "      <td>...</td>\n",
       "      <td>...</td>\n",
       "      <td>...</td>\n",
       "    </tr>\n",
       "    <tr>\n",
       "      <th>2340755</th>\n",
       "      <td>67.0</td>\n",
       "      <td>1.82</td>\n",
       "      <td>2.73</td>\n",
       "      <td>7.58</td>\n",
       "      <td>0.6</td>\n",
       "      <td>0.048</td>\n",
       "    </tr>\n",
       "    <tr>\n",
       "      <th>2340756</th>\n",
       "      <td>67.0</td>\n",
       "      <td>1.82</td>\n",
       "      <td>2.73</td>\n",
       "      <td>7.58</td>\n",
       "      <td>0.6</td>\n",
       "      <td>0.058</td>\n",
       "    </tr>\n",
       "    <tr>\n",
       "      <th>2340757</th>\n",
       "      <td>67.0</td>\n",
       "      <td>1.82</td>\n",
       "      <td>2.73</td>\n",
       "      <td>7.58</td>\n",
       "      <td>0.6</td>\n",
       "      <td>0.058</td>\n",
       "    </tr>\n",
       "    <tr>\n",
       "      <th>2340758</th>\n",
       "      <td>67.0</td>\n",
       "      <td>1.82</td>\n",
       "      <td>2.73</td>\n",
       "      <td>7.58</td>\n",
       "      <td>0.6</td>\n",
       "      <td>0.048</td>\n",
       "    </tr>\n",
       "    <tr>\n",
       "      <th>2340759</th>\n",
       "      <td>22.0</td>\n",
       "      <td>0.83</td>\n",
       "      <td>0.28</td>\n",
       "      <td>1.11</td>\n",
       "      <td>0.0</td>\n",
       "      <td>0.003</td>\n",
       "    </tr>\n",
       "  </tbody>\n",
       "</table>\n",
       "<p>1590701 rows × 6 columns</p>\n",
       "</div>"
      ],
      "text/plain": [
       "         ENERGY  TOTAL LIPID (FAT)  SUGARS, TOTAL   \n",
       "fdc_id                                              \n",
       "344604     24.0               0.41           2.44  \\\n",
       "344605     24.0               0.41           2.44   \n",
       "344606      0.0               2.68           0.00   \n",
       "344607      0.0               2.68           0.00   \n",
       "344608      0.0              15.18           0.00   \n",
       "...         ...                ...            ...   \n",
       "2340755    67.0               1.82           2.73   \n",
       "2340756    67.0               1.82           2.73   \n",
       "2340757    67.0               1.82           2.73   \n",
       "2340758    67.0               1.82           2.73   \n",
       "2340759    22.0               0.83           0.28   \n",
       "\n",
       "         CARBOHYDRATE, BY DIFFERENCE  FIBER, TOTAL DIETARY  SODIUM, NA  \n",
       "fdc_id                                                                  \n",
       "344604                          4.07                   0.8       0.203  \n",
       "344605                          4.07                   0.8       0.203  \n",
       "344606                          0.00                   0.0       0.067  \n",
       "344607                          0.00                   0.0       0.067  \n",
       "344608                          0.00                   0.0       0.103  \n",
       "...                              ...                   ...         ...  \n",
       "2340755                         7.58                   0.6       0.048  \n",
       "2340756                         7.58                   0.6       0.058  \n",
       "2340757                         7.58                   0.6       0.058  \n",
       "2340758                         7.58                   0.6       0.048  \n",
       "2340759                         1.11                   0.0       0.003  \n",
       "\n",
       "[1590701 rows x 6 columns]"
      ]
     },
     "execution_count": 13,
     "metadata": {},
     "output_type": "execute_result"
    }
   ],
   "source": [
    "nutrients_matrix = nutrients_matrix[subset]\n",
    "nutrients_matrix"
   ]
  },
  {
   "cell_type": "code",
   "execution_count": null,
   "id": "3dba8bdd-9842-408a-84ac-00839b752a39",
   "metadata": {},
   "outputs": [],
   "source": []
  }
 ],
 "metadata": {
  "kernelspec": {
   "display_name": "Python 3 (ipykernel)",
   "language": "python",
   "name": "python3"
  },
  "language_info": {
   "codemirror_mode": {
    "name": "ipython",
    "version": 3
   },
   "file_extension": ".py",
   "mimetype": "text/x-python",
   "name": "python",
   "nbconvert_exporter": "python",
   "pygments_lexer": "ipython3",
   "version": "3.10.10"
  }
 },
 "nbformat": 4,
 "nbformat_minor": 5
}
