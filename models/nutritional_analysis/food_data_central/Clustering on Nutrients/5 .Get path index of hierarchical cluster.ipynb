{
 "cells": [
  {
   "cell_type": "markdown",
   "id": "2f7fc47b",
   "metadata": {},
   "source": [
    "# Top 10 similiar food products for a given food"
   ]
  },
  {
   "cell_type": "markdown",
   "id": "0cca100f",
   "metadata": {},
   "source": [
    "Goals:\n",
    "    \n",
    "Create a dataframe of the path index for the linkage matrix on centroids created in a different notebook. The path index is the path from room to leaf."
   ]
  },
  {
   "cell_type": "code",
   "execution_count": 1,
   "id": "e124d15a",
   "metadata": {
    "tags": []
   },
   "outputs": [],
   "source": [
    "import numpy as np\n",
    "import pandas as pd"
   ]
  },
  {
   "cell_type": "code",
   "execution_count": 2,
   "id": "832f1f89",
   "metadata": {
    "tags": []
   },
   "outputs": [],
   "source": [
    "data_p = r\"../data/\"\n",
    "\n",
    "fname = data_p + \"hcluster_nutrients_10000centroids_kmeans.npy\""
   ]
  },
  {
   "cell_type": "markdown",
   "id": "d873ad9c",
   "metadata": {
    "tags": []
   },
   "source": [
    "### Write function to climb the linkage matrix and get the path index"
   ]
  },
  {
   "attachments": {
    "8bcf6106-18f2-4155-b12b-33b9e4bdebdb.png": {
     "image/png": "[encoded data removed]"
    }
   },
   "cell_type": "markdown",
   "id": "688a44b6-8281-49bd-aa56-6212d9a628c7",
   "metadata": {},
   "source": [
    "The linkage matrix is give by the `.children_` attribute. Here is how sklearn describes the linkage matrix:\n",
    "\n",
    "![image.png](attachment:8bcf6106-18f2-4155-b12b-33b9e4bdebdb.png)"
   ]
  },
  {
   "cell_type": "markdown",
   "id": "d7cdf2d8-f23a-4321-a7f0-0a93b4ffc680",
   "metadata": {},
   "source": [
    "So, say a leaf node (one of the original data points) with index `k` is found on the linkage matrix at row index `r`, then that leaf's parent node index is `r + n_samples`. Let the parent leaf node be `p = r + n_samples` and suppose it is found on the linkage matrix at row index `m`. Then the paren'ts parent node index is `m + n_samples`. We can keep following this logic to build the path index of the node from leaf to trunk. The path index for `k` would look like `[k, r + n_samples, m + n_samples ... ]`.\n"
   ]
  },
  {
   "cell_type": "code",
   "execution_count": 3,
   "id": "caed8857",
   "metadata": {
    "tags": []
   },
   "outputs": [
    {
     "data": {
      "text/plain": [
       "array([[ 4355,  7799],\n",
       "       [ 1138,  6078],\n",
       "       [ 2052,  8967],\n",
       "       ...,\n",
       "       [   10, 19995],\n",
       "       [19974, 19996],\n",
       "       [    1, 19997]])"
      ]
     },
     "execution_count": 3,
     "metadata": {},
     "output_type": "execute_result"
    }
   ],
   "source": [
    "linkage_matrix = np.load(fname, allow_pickle=True)\n",
    "linkage_matrix"
   ]
  },
  {
   "cell_type": "code",
   "execution_count": 4,
   "id": "3440c6e2-e45c-45a6-935c-27eb3db37a3e",
   "metadata": {
    "tags": []
   },
   "outputs": [],
   "source": [
    "n_leaves = linkage_matrix.shape[0] + 1\n",
    "\n",
    "def get_path_index(node):\n",
    "    path_index = [node]\n",
    "    #compute the largest cluster index:\n",
    "    #the number of leaf nodes minus one (due to index starting at 0)\n",
    "    #plus the length of the linkage matrix. Turns out linkage matrix is\n",
    "    #size num leafs - 1, so really its len(linkage_matrix)*2\n",
    "    largest_cluster = len(linkage_matrix)*2\n",
    "    while node<largest_cluster:\n",
    "        #find the row r index where the current node exists. Then r + n_leaves is the parent cluster\n",
    "        #Append this cluster to the list, and now find the next parent cluster\n",
    "        #Do this until we've reached the largest cluster\n",
    "        path_index.append(np.where(linkage_matrix == node)[0][0] + n_leaves)\n",
    "        node = np.where(linkage_matrix == node)[0][0] + n_leaves  \n",
    "    path_index.reverse() #reverse this list so that we are starting from the trunk rather than leafs\n",
    "    return \".\".join(str(v) for v in path_index)"
   ]
  },
  {
   "cell_type": "code",
   "execution_count": 5,
   "id": "e2e1efd6-cbce-45c3-9ae4-8a925e56f460",
   "metadata": {
    "tags": []
   },
   "outputs": [
    {
     "data": {
      "text/plain": [
       "'19998.19997.19996.19995.19994.19993.19992.19991.19990.19989.19988.19987.19986.19985.19984.19983.19982.19981.19980.19979.19978.19977.19976.19975.19973.19972.19971.19969.19968.19967.19966.19965.19964.19963.19961.19957.19956.19955.19954.19953.19952.19951.19950.19949.19948.19947.19946.19945.19944.19942.19941.19940.19938.19937.19936.19935.19932.19928.19926.19919.19917.19914.19909.19905.19901.19900.19898.19890.19888.19886.19884.19870.19861.19859.19857.19855.19848.19836.19823.19820.19811.19801.19792.19744.19737.19723.19707.19576.19513.19469.19460.19100.19012.18926.18815.18761.18252.16725.15810.15380.15233.14762.14142.13454.13056.11221.10714.10030.10003.0'"
      ]
     },
     "execution_count": 5,
     "metadata": {},
     "output_type": "execute_result"
    }
   ],
   "source": [
    "get_path_index(0)"
   ]
  },
  {
   "cell_type": "markdown",
   "id": "82359981-5cb5-4d02-9f9c-b42633a9ffd9",
   "metadata": {},
   "source": [
    "### Create a dataframe of path indexes for each cluster index"
   ]
  },
  {
   "cell_type": "code",
   "execution_count": 6,
   "id": "0b3a611f-7381-48c0-8def-84162544583d",
   "metadata": {
    "tags": []
   },
   "outputs": [
    {
     "data": {
      "text/html": [
       "<div>\n",
       "<style scoped>\n",
       "    .dataframe tbody tr th:only-of-type {\n",
       "        vertical-align: middle;\n",
       "    }\n",
       "\n",
       "    .dataframe tbody tr th {\n",
       "        vertical-align: top;\n",
       "    }\n",
       "\n",
       "    .dataframe thead th {\n",
       "        text-align: right;\n",
       "    }\n",
       "</style>\n",
       "<table border=\"1\" class=\"dataframe\">\n",
       "  <thead>\n",
       "    <tr style=\"text-align: right;\">\n",
       "      <th></th>\n",
       "      <th>labels</th>\n",
       "      <th>path_index</th>\n",
       "    </tr>\n",
       "  </thead>\n",
       "  <tbody>\n",
       "    <tr>\n",
       "      <th>0</th>\n",
       "      <td>0</td>\n",
       "      <td>19998.19997.19996.19995.19994.19993.19992.1999...</td>\n",
       "    </tr>\n",
       "    <tr>\n",
       "      <th>1</th>\n",
       "      <td>1</td>\n",
       "      <td>19998.1</td>\n",
       "    </tr>\n",
       "    <tr>\n",
       "      <th>2</th>\n",
       "      <td>2</td>\n",
       "      <td>19998.19997.19996.19995.19994.19993.19992.1999...</td>\n",
       "    </tr>\n",
       "    <tr>\n",
       "      <th>3</th>\n",
       "      <td>3</td>\n",
       "      <td>19998.19997.19996.19995.19994.19993.19992.1999...</td>\n",
       "    </tr>\n",
       "    <tr>\n",
       "      <th>4</th>\n",
       "      <td>4</td>\n",
       "      <td>19998.19997.19974.4</td>\n",
       "    </tr>\n",
       "    <tr>\n",
       "      <th>...</th>\n",
       "      <td>...</td>\n",
       "      <td>...</td>\n",
       "    </tr>\n",
       "    <tr>\n",
       "      <th>9995</th>\n",
       "      <td>9995</td>\n",
       "      <td>19998.19997.19996.19995.19994.19993.19992.1999...</td>\n",
       "    </tr>\n",
       "    <tr>\n",
       "      <th>9996</th>\n",
       "      <td>9996</td>\n",
       "      <td>19998.19997.19996.19995.19994.19993.19992.1999...</td>\n",
       "    </tr>\n",
       "    <tr>\n",
       "      <th>9997</th>\n",
       "      <td>9997</td>\n",
       "      <td>19998.19997.19996.19995.19994.19993.19992.1999...</td>\n",
       "    </tr>\n",
       "    <tr>\n",
       "      <th>9998</th>\n",
       "      <td>9998</td>\n",
       "      <td>19998.19997.19996.19995.19994.19993.19992.1999...</td>\n",
       "    </tr>\n",
       "    <tr>\n",
       "      <th>9999</th>\n",
       "      <td>9999</td>\n",
       "      <td>19998.19997.19996.19995.19994.19993.19992.1999...</td>\n",
       "    </tr>\n",
       "  </tbody>\n",
       "</table>\n",
       "<p>10000 rows × 2 columns</p>\n",
       "</div>"
      ],
      "text/plain": [
       "      labels                                         path_index\n",
       "0          0  19998.19997.19996.19995.19994.19993.19992.1999...\n",
       "1          1                                            19998.1\n",
       "2          2  19998.19997.19996.19995.19994.19993.19992.1999...\n",
       "3          3  19998.19997.19996.19995.19994.19993.19992.1999...\n",
       "4          4                                19998.19997.19974.4\n",
       "...      ...                                                ...\n",
       "9995    9995  19998.19997.19996.19995.19994.19993.19992.1999...\n",
       "9996    9996  19998.19997.19996.19995.19994.19993.19992.1999...\n",
       "9997    9997  19998.19997.19996.19995.19994.19993.19992.1999...\n",
       "9998    9998  19998.19997.19996.19995.19994.19993.19992.1999...\n",
       "9999    9999  19998.19997.19996.19995.19994.19993.19992.1999...\n",
       "\n",
       "[10000 rows x 2 columns]"
      ]
     },
     "execution_count": 6,
     "metadata": {},
     "output_type": "execute_result"
    }
   ],
   "source": [
    "labels = list(range(0, n_leaves))\n",
    "path_index_df = pd.DataFrame({\"labels\": labels})\n",
    "path_index_df[\"path_index\"] = path_index_df[\"labels\"].apply(lambda x: get_path_index(x))\n",
    "path_index_df"
   ]
  },
  {
   "cell_type": "markdown",
   "id": "aa9cd7de-d0e3-4fec-930a-da2becc12f96",
   "metadata": {},
   "source": [
    "### Join the dataframe to the labeled food products"
   ]
  },
  {
   "cell_type": "code",
   "execution_count": 7,
   "id": "dbf17d31-13c6-462e-9b2d-ec3d2379483f",
   "metadata": {
    "tags": []
   },
   "outputs": [
    {
     "data": {
      "text/html": [
       "<div>\n",
       "<style scoped>\n",
       "    .dataframe tbody tr th:only-of-type {\n",
       "        vertical-align: middle;\n",
       "    }\n",
       "\n",
       "    .dataframe tbody tr th {\n",
       "        vertical-align: top;\n",
       "    }\n",
       "\n",
       "    .dataframe thead th {\n",
       "        text-align: right;\n",
       "    }\n",
       "</style>\n",
       "<table border=\"1\" class=\"dataframe\">\n",
       "  <thead>\n",
       "    <tr style=\"text-align: right;\">\n",
       "      <th></th>\n",
       "      <th>fdc_id</th>\n",
       "      <th>labels</th>\n",
       "    </tr>\n",
       "  </thead>\n",
       "  <tbody>\n",
       "    <tr>\n",
       "      <th>0</th>\n",
       "      <td>344604</td>\n",
       "      <td>2027</td>\n",
       "    </tr>\n",
       "    <tr>\n",
       "      <th>1</th>\n",
       "      <td>344605</td>\n",
       "      <td>2027</td>\n",
       "    </tr>\n",
       "    <tr>\n",
       "      <th>2</th>\n",
       "      <td>344606</td>\n",
       "      <td>7759</td>\n",
       "    </tr>\n",
       "    <tr>\n",
       "      <th>3</th>\n",
       "      <td>344607</td>\n",
       "      <td>7759</td>\n",
       "    </tr>\n",
       "    <tr>\n",
       "      <th>4</th>\n",
       "      <td>344608</td>\n",
       "      <td>4424</td>\n",
       "    </tr>\n",
       "    <tr>\n",
       "      <th>...</th>\n",
       "      <td>...</td>\n",
       "      <td>...</td>\n",
       "    </tr>\n",
       "    <tr>\n",
       "      <th>1590696</th>\n",
       "      <td>2340755</td>\n",
       "      <td>5816</td>\n",
       "    </tr>\n",
       "    <tr>\n",
       "      <th>1590697</th>\n",
       "      <td>2340756</td>\n",
       "      <td>5816</td>\n",
       "    </tr>\n",
       "    <tr>\n",
       "      <th>1590698</th>\n",
       "      <td>2340757</td>\n",
       "      <td>5816</td>\n",
       "    </tr>\n",
       "    <tr>\n",
       "      <th>1590699</th>\n",
       "      <td>2340758</td>\n",
       "      <td>5816</td>\n",
       "    </tr>\n",
       "    <tr>\n",
       "      <th>1590700</th>\n",
       "      <td>2340759</td>\n",
       "      <td>9846</td>\n",
       "    </tr>\n",
       "  </tbody>\n",
       "</table>\n",
       "<p>1590701 rows × 2 columns</p>\n",
       "</div>"
      ],
      "text/plain": [
       "          fdc_id  labels\n",
       "0         344604    2027\n",
       "1         344605    2027\n",
       "2         344606    7759\n",
       "3         344607    7759\n",
       "4         344608    4424\n",
       "...          ...     ...\n",
       "1590696  2340755    5816\n",
       "1590697  2340756    5816\n",
       "1590698  2340757    5816\n",
       "1590699  2340758    5816\n",
       "1590700  2340759    9846\n",
       "\n",
       "[1590701 rows x 2 columns]"
      ]
     },
     "execution_count": 7,
     "metadata": {},
     "output_type": "execute_result"
    }
   ],
   "source": [
    "labeled_food_df = pd.read_csv(data_p + \"nutrients_pca_kmeans_labeled.csv\", index_col=0)\n",
    "labeled_food_df"
   ]
  },
  {
   "cell_type": "code",
   "execution_count": 8,
   "id": "f6e3af82-0cde-4be3-b0b9-7fa0e0c6ec10",
   "metadata": {
    "tags": []
   },
   "outputs": [
    {
     "data": {
      "text/html": [
       "<div>\n",
       "<style scoped>\n",
       "    .dataframe tbody tr th:only-of-type {\n",
       "        vertical-align: middle;\n",
       "    }\n",
       "\n",
       "    .dataframe tbody tr th {\n",
       "        vertical-align: top;\n",
       "    }\n",
       "\n",
       "    .dataframe thead th {\n",
       "        text-align: right;\n",
       "    }\n",
       "</style>\n",
       "<table border=\"1\" class=\"dataframe\">\n",
       "  <thead>\n",
       "    <tr style=\"text-align: right;\">\n",
       "      <th></th>\n",
       "      <th>fdc_id</th>\n",
       "      <th>cluster_labels</th>\n",
       "      <th>path_index</th>\n",
       "    </tr>\n",
       "  </thead>\n",
       "  <tbody>\n",
       "    <tr>\n",
       "      <th>0</th>\n",
       "      <td>344604</td>\n",
       "      <td>2027</td>\n",
       "      <td>19998.19997.19996.19995.19994.19993.19992.1999...</td>\n",
       "    </tr>\n",
       "    <tr>\n",
       "      <th>1</th>\n",
       "      <td>344605</td>\n",
       "      <td>2027</td>\n",
       "      <td>19998.19997.19996.19995.19994.19993.19992.1999...</td>\n",
       "    </tr>\n",
       "    <tr>\n",
       "      <th>2</th>\n",
       "      <td>345349</td>\n",
       "      <td>2027</td>\n",
       "      <td>19998.19997.19996.19995.19994.19993.19992.1999...</td>\n",
       "    </tr>\n",
       "    <tr>\n",
       "      <th>3</th>\n",
       "      <td>345350</td>\n",
       "      <td>2027</td>\n",
       "      <td>19998.19997.19996.19995.19994.19993.19992.1999...</td>\n",
       "    </tr>\n",
       "    <tr>\n",
       "      <th>4</th>\n",
       "      <td>345534</td>\n",
       "      <td>2027</td>\n",
       "      <td>19998.19997.19996.19995.19994.19993.19992.1999...</td>\n",
       "    </tr>\n",
       "    <tr>\n",
       "      <th>...</th>\n",
       "      <td>...</td>\n",
       "      <td>...</td>\n",
       "      <td>...</td>\n",
       "    </tr>\n",
       "    <tr>\n",
       "      <th>1590696</th>\n",
       "      <td>2317258</td>\n",
       "      <td>33</td>\n",
       "      <td>19998.19997.19996.19995.33</td>\n",
       "    </tr>\n",
       "    <tr>\n",
       "      <th>1590697</th>\n",
       "      <td>2331009</td>\n",
       "      <td>487</td>\n",
       "      <td>19998.19997.19996.19995.19994.19993.19992.1999...</td>\n",
       "    </tr>\n",
       "    <tr>\n",
       "      <th>1590698</th>\n",
       "      <td>2336007</td>\n",
       "      <td>487</td>\n",
       "      <td>19998.19997.19996.19995.19994.19993.19992.1999...</td>\n",
       "    </tr>\n",
       "    <tr>\n",
       "      <th>1590699</th>\n",
       "      <td>2331336</td>\n",
       "      <td>3568</td>\n",
       "      <td>19998.19997.19996.19995.19994.19993.19992.1999...</td>\n",
       "    </tr>\n",
       "    <tr>\n",
       "      <th>1590700</th>\n",
       "      <td>2336334</td>\n",
       "      <td>3568</td>\n",
       "      <td>19998.19997.19996.19995.19994.19993.19992.1999...</td>\n",
       "    </tr>\n",
       "  </tbody>\n",
       "</table>\n",
       "<p>1590701 rows × 3 columns</p>\n",
       "</div>"
      ],
      "text/plain": [
       "          fdc_id  cluster_labels   \n",
       "0         344604            2027  \\\n",
       "1         344605            2027   \n",
       "2         345349            2027   \n",
       "3         345350            2027   \n",
       "4         345534            2027   \n",
       "...          ...             ...   \n",
       "1590696  2317258              33   \n",
       "1590697  2331009             487   \n",
       "1590698  2336007             487   \n",
       "1590699  2331336            3568   \n",
       "1590700  2336334            3568   \n",
       "\n",
       "                                                path_index  \n",
       "0        19998.19997.19996.19995.19994.19993.19992.1999...  \n",
       "1        19998.19997.19996.19995.19994.19993.19992.1999...  \n",
       "2        19998.19997.19996.19995.19994.19993.19992.1999...  \n",
       "3        19998.19997.19996.19995.19994.19993.19992.1999...  \n",
       "4        19998.19997.19996.19995.19994.19993.19992.1999...  \n",
       "...                                                    ...  \n",
       "1590696                         19998.19997.19996.19995.33  \n",
       "1590697  19998.19997.19996.19995.19994.19993.19992.1999...  \n",
       "1590698  19998.19997.19996.19995.19994.19993.19992.1999...  \n",
       "1590699  19998.19997.19996.19995.19994.19993.19992.1999...  \n",
       "1590700  19998.19997.19996.19995.19994.19993.19992.1999...  \n",
       "\n",
       "[1590701 rows x 3 columns]"
      ]
     },
     "execution_count": 8,
     "metadata": {},
     "output_type": "execute_result"
    }
   ],
   "source": [
    "labeled_food_df = labeled_food_df.merge(path_index_df, left_on = \"labels\", right_on = \"labels\", how = \"inner\")\n",
    "labeled_food_df.rename(columns = {\"labels\": \"cluster_labels\"}, inplace = True)\n",
    "labeled_food_df"
   ]
  },
  {
   "cell_type": "code",
   "execution_count": 9,
   "id": "c56b2239-c9f9-4b26-bf49-d72ce4d9827c",
   "metadata": {
    "tags": []
   },
   "outputs": [],
   "source": [
    "labeled_food_df.to_csv(data_p + \"usda_2022_nutrient_path_index.csv.gz\",  index = False, compression = \"gzip\")"
   ]
  },
  {
   "cell_type": "code",
   "execution_count": null,
   "id": "36d405ae-c7b0-4d31-b75f-3e9f1667f1af",
   "metadata": {},
   "outputs": [],
   "source": []
  }
 ],
 "metadata": {
  "kernelspec": {
   "display_name": "Python 3 (ipykernel)",
   "language": "python",
   "name": "python3"
  },
  "language_info": {
   "codemirror_mode": {
    "name": "ipython",
    "version": 3
   },
   "file_extension": ".py",
   "mimetype": "text/x-python",
   "name": "python",
   "nbconvert_exporter": "python",
   "pygments_lexer": "ipython3",
   "version": "3.10.10"
  }
 },
 "nbformat": 4,
 "nbformat_minor": 5
}
