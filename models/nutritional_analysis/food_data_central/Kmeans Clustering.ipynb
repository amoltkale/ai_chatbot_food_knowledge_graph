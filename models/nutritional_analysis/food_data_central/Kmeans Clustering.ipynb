{
 "cells": [
  {
   "cell_type": "markdown",
   "id": "c1426320-b1e1-4286-804b-66e4c1eb4136",
   "metadata": {},
   "source": [
    "# Hierarchical Clustering part 1: Cluster the nutrients matrix via kmeans"
   ]
  },
  {
   "cell_type": "code",
   "execution_count": 3,
   "id": "832fc416-3d9e-4177-aee1-e2def7116ea7",
   "metadata": {
    "tags": []
   },
   "outputs": [],
   "source": [
    "import numpy as np\n",
    "import pandas as pd\n",
    "\n",
    "from sklearn.cluster import AgglomerativeClustering"
   ]
  },
  {
   "cell_type": "code",
   "execution_count": 4,
   "id": "dd56f59f-d03b-479e-92de-5c3cfe8ab09e",
   "metadata": {
    "tags": []
   },
   "outputs": [],
   "source": [
    "# csv paths\n",
    "nutrient_matrix_data_p = r\"../data/\"\n",
    "\n",
    "nutrient_matrix_csv_p = nutrient_matrix_data_p + \"nutrients_matrix.csv.gz\""
   ]
  },
  {
   "cell_type": "markdown",
   "id": "8ba8e08e-08fa-46db-8af3-c38d32bcdbc5",
   "metadata": {},
   "source": [
    "#### Import cleaned nutrient data. Set the fdc_id to the index. Remove zero rows."
   ]
  },
  {
   "cell_type": "code",
   "execution_count": 5,
   "id": "5687fe43-bc82-4a1a-96ce-9cf12a21688f",
   "metadata": {
    "tags": []
   },
   "outputs": [
    {
     "name": "stdout",
     "output_type": "stream",
     "text": [
      "(1559107, 103)\n"
     ]
    },
    {
     "data": {
      "text/html": [
       "<div>\n",
       "<style scoped>\n",
       "    .dataframe tbody tr th:only-of-type {\n",
       "        vertical-align: middle;\n",
       "    }\n",
       "\n",
       "    .dataframe tbody tr th {\n",
       "        vertical-align: top;\n",
       "    }\n",
       "\n",
       "    .dataframe thead th {\n",
       "        text-align: right;\n",
       "    }\n",
       "</style>\n",
       "<table border=\"1\" class=\"dataframe\">\n",
       "  <thead>\n",
       "    <tr style=\"text-align: right;\">\n",
       "      <th></th>\n",
       "      <th>1003</th>\n",
       "      <th>1004</th>\n",
       "      <th>1005</th>\n",
       "      <th>1008</th>\n",
       "      <th>1079</th>\n",
       "      <th>1082</th>\n",
       "      <th>1084</th>\n",
       "      <th>1087</th>\n",
       "      <th>1089</th>\n",
       "      <th>1092</th>\n",
       "      <th>...</th>\n",
       "      <th>1099</th>\n",
       "      <th>1196</th>\n",
       "      <th>1316</th>\n",
       "      <th>1233</th>\n",
       "      <th>1112</th>\n",
       "      <th>1111</th>\n",
       "      <th>1273</th>\n",
       "      <th>1236</th>\n",
       "      <th>1080</th>\n",
       "      <th>1068</th>\n",
       "    </tr>\n",
       "    <tr>\n",
       "      <th>fdc_id</th>\n",
       "      <th></th>\n",
       "      <th></th>\n",
       "      <th></th>\n",
       "      <th></th>\n",
       "      <th></th>\n",
       "      <th></th>\n",
       "      <th></th>\n",
       "      <th></th>\n",
       "      <th></th>\n",
       "      <th></th>\n",
       "      <th></th>\n",
       "      <th></th>\n",
       "      <th></th>\n",
       "      <th></th>\n",
       "      <th></th>\n",
       "      <th></th>\n",
       "      <th></th>\n",
       "      <th></th>\n",
       "      <th></th>\n",
       "      <th></th>\n",
       "      <th></th>\n",
       "    </tr>\n",
       "  </thead>\n",
       "  <tbody>\n",
       "    <tr>\n",
       "      <th>344604</th>\n",
       "      <td>0.81</td>\n",
       "      <td>0.41</td>\n",
       "      <td>4.07</td>\n",
       "      <td>24.0</td>\n",
       "      <td>0.8</td>\n",
       "      <td>0.0</td>\n",
       "      <td>0.0</td>\n",
       "      <td>13.0</td>\n",
       "      <td>0.00</td>\n",
       "      <td>179.0</td>\n",
       "      <td>...</td>\n",
       "      <td>0.0</td>\n",
       "      <td>0.0</td>\n",
       "      <td>0.0</td>\n",
       "      <td>0.0</td>\n",
       "      <td>0.0</td>\n",
       "      <td>0.0</td>\n",
       "      <td>0.0</td>\n",
       "      <td>0.0</td>\n",
       "      <td>0.0</td>\n",
       "      <td>0.0</td>\n",
       "    </tr>\n",
       "    <tr>\n",
       "      <th>344605</th>\n",
       "      <td>0.81</td>\n",
       "      <td>0.41</td>\n",
       "      <td>4.07</td>\n",
       "      <td>24.0</td>\n",
       "      <td>0.8</td>\n",
       "      <td>0.0</td>\n",
       "      <td>0.0</td>\n",
       "      <td>16.0</td>\n",
       "      <td>0.00</td>\n",
       "      <td>179.0</td>\n",
       "      <td>...</td>\n",
       "      <td>0.0</td>\n",
       "      <td>0.0</td>\n",
       "      <td>0.0</td>\n",
       "      <td>0.0</td>\n",
       "      <td>0.0</td>\n",
       "      <td>0.0</td>\n",
       "      <td>0.0</td>\n",
       "      <td>0.0</td>\n",
       "      <td>0.0</td>\n",
       "      <td>0.0</td>\n",
       "    </tr>\n",
       "    <tr>\n",
       "      <th>344606</th>\n",
       "      <td>23.21</td>\n",
       "      <td>2.68</td>\n",
       "      <td>0.00</td>\n",
       "      <td>0.0</td>\n",
       "      <td>0.0</td>\n",
       "      <td>0.0</td>\n",
       "      <td>0.0</td>\n",
       "      <td>0.0</td>\n",
       "      <td>1.29</td>\n",
       "      <td>0.0</td>\n",
       "      <td>...</td>\n",
       "      <td>0.0</td>\n",
       "      <td>0.0</td>\n",
       "      <td>0.0</td>\n",
       "      <td>0.0</td>\n",
       "      <td>0.0</td>\n",
       "      <td>0.0</td>\n",
       "      <td>0.0</td>\n",
       "      <td>0.0</td>\n",
       "      <td>0.0</td>\n",
       "      <td>0.0</td>\n",
       "    </tr>\n",
       "    <tr>\n",
       "      <th>344607</th>\n",
       "      <td>23.21</td>\n",
       "      <td>2.68</td>\n",
       "      <td>0.00</td>\n",
       "      <td>0.0</td>\n",
       "      <td>0.0</td>\n",
       "      <td>0.0</td>\n",
       "      <td>0.0</td>\n",
       "      <td>0.0</td>\n",
       "      <td>1.29</td>\n",
       "      <td>0.0</td>\n",
       "      <td>...</td>\n",
       "      <td>0.0</td>\n",
       "      <td>0.0</td>\n",
       "      <td>0.0</td>\n",
       "      <td>0.0</td>\n",
       "      <td>0.0</td>\n",
       "      <td>0.0</td>\n",
       "      <td>0.0</td>\n",
       "      <td>0.0</td>\n",
       "      <td>0.0</td>\n",
       "      <td>0.0</td>\n",
       "    </tr>\n",
       "    <tr>\n",
       "      <th>344608</th>\n",
       "      <td>18.75</td>\n",
       "      <td>15.18</td>\n",
       "      <td>0.00</td>\n",
       "      <td>0.0</td>\n",
       "      <td>0.0</td>\n",
       "      <td>0.0</td>\n",
       "      <td>0.0</td>\n",
       "      <td>18.0</td>\n",
       "      <td>0.96</td>\n",
       "      <td>0.0</td>\n",
       "      <td>...</td>\n",
       "      <td>0.0</td>\n",
       "      <td>0.0</td>\n",
       "      <td>0.0</td>\n",
       "      <td>0.0</td>\n",
       "      <td>0.0</td>\n",
       "      <td>0.0</td>\n",
       "      <td>0.0</td>\n",
       "      <td>0.0</td>\n",
       "      <td>0.0</td>\n",
       "      <td>0.0</td>\n",
       "    </tr>\n",
       "  </tbody>\n",
       "</table>\n",
       "<p>5 rows × 103 columns</p>\n",
       "</div>"
      ],
      "text/plain": [
       "         1003   1004  1005  1008  1079  1082  1084  1087  1089   1092  ...  \\\n",
       "fdc_id                                                                 ...   \n",
       "344604   0.81   0.41  4.07  24.0   0.8   0.0   0.0  13.0  0.00  179.0  ...   \n",
       "344605   0.81   0.41  4.07  24.0   0.8   0.0   0.0  16.0  0.00  179.0  ...   \n",
       "344606  23.21   2.68  0.00   0.0   0.0   0.0   0.0   0.0  1.29    0.0  ...   \n",
       "344607  23.21   2.68  0.00   0.0   0.0   0.0   0.0   0.0  1.29    0.0  ...   \n",
       "344608  18.75  15.18  0.00   0.0   0.0   0.0   0.0  18.0  0.96    0.0  ...   \n",
       "\n",
       "        1099  1196  1316  1233  1112  1111  1273  1236  1080  1068  \n",
       "fdc_id                                                              \n",
       "344604   0.0   0.0   0.0   0.0   0.0   0.0   0.0   0.0   0.0   0.0  \n",
       "344605   0.0   0.0   0.0   0.0   0.0   0.0   0.0   0.0   0.0   0.0  \n",
       "344606   0.0   0.0   0.0   0.0   0.0   0.0   0.0   0.0   0.0   0.0  \n",
       "344607   0.0   0.0   0.0   0.0   0.0   0.0   0.0   0.0   0.0   0.0  \n",
       "344608   0.0   0.0   0.0   0.0   0.0   0.0   0.0   0.0   0.0   0.0  \n",
       "\n",
       "[5 rows x 103 columns]"
      ]
     },
     "execution_count": 5,
     "metadata": {},
     "output_type": "execute_result"
    }
   ],
   "source": [
    "#read data\n",
    "nutrients_matrix = pd.read_csv(nutrient_matrix_csv_p)\n",
    "#set ndb no as index\n",
    "nutrients_matrix.set_index(\"fdc_id\", inplace = True)\n",
    "#create a list of indices where all entries are zero\n",
    "nutrients_zero_rows = nutrients_matrix.loc[(nutrients_matrix==0).all(axis=1)].index\n",
    "#filter out indicies where all entires are zero\n",
    "nutrients_matrix = nutrients_matrix[~nutrients_matrix.index.isin(nutrients_zero_rows)]\n",
    "print(nutrients_matrix.shape)\n",
    "nutrients_matrix.head()"
   ]
  },
  {
   "cell_type": "markdown",
   "id": "336fdb11-2046-4154-bdb6-b85de9036581",
   "metadata": {},
   "source": [
    "#### Do Hierarchical clustering and save the linkage matrix\n",
    "Uncomment if you need to make a new linkage matrix, but comment afterwards"
   ]
  },
  {
   "cell_type": "code",
   "execution_count": 16,
   "id": "e8067438-9ca9-44ef-aa79-d65ad61ae95a",
   "metadata": {},
   "outputs": [],
   "source": [
    "agglo_cluster = AgglomerativeClustering(metric=metric, linkage = linkage).fit(nutrients_matrix)"
   ]
  },
  {
   "cell_type": "code",
   "execution_count": 17,
   "id": "1237461a-874d-4508-a418-df1a6acf8338",
   "metadata": {
    "tags": []
   },
   "outputs": [],
   "source": [
    "linkage_matrix = agglo_cluster.children_\n",
    "linkage_matrix"
   ]
  },
  {
   "cell_type": "markdown",
   "id": "075b75f3-54d6-4bbc-b0d1-661c62da690e",
   "metadata": {},
   "source": [
    "Export the linkage matrix to a numpy matrix"
   ]
  },
  {
   "cell_type": "code",
   "execution_count": 18,
   "id": "990e154b-6ecb-4f39-92c1-f0d69ab97c9b",
   "metadata": {},
   "outputs": [],
   "source": [
    "with open(fname, 'wb') as f:\n",
    "    np.save(f,  linkage_matrix, fix_imports= False)"
   ]
  }
 ],
 "metadata": {
  "kernelspec": {
   "display_name": "Python 3 (ipykernel)",
   "language": "python",
   "name": "python3"
  },
  "language_info": {
   "codemirror_mode": {
    "name": "ipython",
    "version": 3
   },
   "file_extension": ".py",
   "mimetype": "text/x-python",
   "name": "python",
   "nbconvert_exporter": "python",
   "pygments_lexer": "ipython3",
   "version": "3.10.9"
  }
 },
 "nbformat": 4,
 "nbformat_minor": 5
}
