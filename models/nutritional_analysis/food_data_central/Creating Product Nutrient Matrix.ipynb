{
 "cells": [
  {
   "cell_type": "markdown",
   "id": "773f584d-e71a-42e7-bf66-cd2e1998ac52",
   "metadata": {},
   "source": [
    "# This notebook transforms the nutrients product data into a matrix for clustering"
   ]
  },
  {
   "cell_type": "markdown",
   "id": "1fb263ba",
   "metadata": {},
   "source": [
    "### Connecting to the postgresql server"
   ]
  },
  {
   "cell_type": "code",
   "execution_count": 1,
   "id": "74267fbb",
   "metadata": {},
   "outputs": [],
   "source": [
    "import pandas as pd\n",
    "import numpy as np\n",
    "import sqlalchemy as sal\n",
    "\n",
    "from sqlalchemy import text"
   ]
  },
  {
   "cell_type": "code",
   "execution_count": null,
   "id": "cbec2849-68dc-4acf-bd12-ef19f14015c6",
   "metadata": {},
   "outputs": [],
   "source": [
    "nutrient_matrix_csv_p = r\"../../data/Nutrients_Branded_Foods_2018/nutrients_matrix.csv.gz\"\n",
    "nutrients_csv = r\"../../data/Nutrients.csv\""
   ]
  },
  {
   "cell_type": "markdown",
   "id": "2a577b07-3e6c-4727-93d6-7610e5225d07",
   "metadata": {
    "tags": []
   },
   "source": [
    "#### Connect to the database"
   ]
  },
  {
   "cell_type": "code",
   "execution_count": 2,
   "id": "9860a0cf",
   "metadata": {},
   "outputs": [],
   "source": [
    "nourish_user = \"\"\n",
    "\n",
    "nourish_pswd = \"\"\n",
    "\n",
    "engine = sal.create_engine('postgresql+psycopg2://' + nourish_user + ':' + nourish_pswd + '@awesome-hw.sdsc.edu/nourish')\n",
    "conn = engine.connect()"
   ]
  },
  {
   "cell_type": "markdown",
   "id": "8eb73bd1-eb8b-46fe-859c-38abf6ef908b",
   "metadata": {},
   "source": [
    "#### Pull the list of nutrients by product\n",
    "Deviating from profs recommendation and delimiting by '|' since some column names have ':' in it"
   ]
  },
  {
   "cell_type": "code",
   "execution_count": null,
   "id": "af40f001",
   "metadata": {},
   "outputs": [],
   "source": [
    "query_nutrients = text('''SELECT \"NDB_No\", array_agg(\"Nutrient_name\"||'|'||\"Output_value\" order by \"Nutrient_name\")\n",
    "from \"Nutrients_Branded_Foods_2018\"\n",
    "group by \"NDB_No\"''')\n",
    "\n",
    "result = conn.execute(query_nutrients)\n",
    "\n",
    "nutrient_data = [i for i in result]\n",
    "\n",
    "nutrient_data[0:2]"
   ]
  },
  {
   "cell_type": "markdown",
   "id": "f0483787-763b-4b1c-8812-eb5df43b8a07",
   "metadata": {},
   "source": [
    "#### Create a pandas dataframe and reshape it"
   ]
  },
  {
   "cell_type": "code",
   "execution_count": null,
   "id": "3b048131-cb8c-44a9-b87f-9abfdd1db428",
   "metadata": {},
   "outputs": [],
   "source": [
    "nutrient_df = pd.DataFrame(nutrient_data)\n",
    "nutrient_df.head(3)"
   ]
  },
  {
   "cell_type": "markdown",
   "id": "8df068aa-af52-496e-86e4-65a7437f96b0",
   "metadata": {},
   "source": [
    "Create a function to convert the list to a dictionary"
   ]
  },
  {
   "cell_type": "code",
   "execution_count": null,
   "id": "596e3187-1c99-48df-bf7a-d575a3a911d5",
   "metadata": {},
   "outputs": [],
   "source": [
    "def convert_to_dict(lst):\n",
    "    output = {}\n",
    "    for key_value in lst:\n",
    "        key, value = key_value.split('|', 1)\n",
    "        #handle duplicates by checking if key value already exists and taking average\n",
    "        #not common with this data, but there are a few instances\n",
    "        if key in output:\n",
    "            output[key] = (output[key] + float(value))/2\n",
    "        else:\n",
    "            output[key] = float(value)\n",
    "    return output"
   ]
  },
  {
   "cell_type": "markdown",
   "id": "99085ed4-ead7-4d9f-995a-62f600de5de5",
   "metadata": {},
   "source": [
    "Update the array_agg column in the nutrients dataframe"
   ]
  },
  {
   "cell_type": "code",
   "execution_count": null,
   "id": "89d69049-d5eb-4782-8651-8079e4c6a71e",
   "metadata": {},
   "outputs": [],
   "source": [
    "nutrient_df['array_agg'] = nutrient_df['array_agg'].apply(lambda x: convert_to_dict(x))"
   ]
  },
  {
   "cell_type": "code",
   "execution_count": null,
   "id": "621bf5b0-c180-41ca-9d4f-dbedb821321c",
   "metadata": {},
   "outputs": [],
   "source": [
    "nutrient_df.head(3)"
   ]
  },
  {
   "cell_type": "markdown",
   "id": "0cb83b19-c285-416d-a2a5-85809071040b",
   "metadata": {},
   "source": [
    "Use pd.json_normalize to pivot the dataframe on the nutrient column. Inspiration:\n",
    "\n",
    "https://stackoverflow.com/questions/38231591/split-explode-a-column-of-dictionaries-into-separate-columns-with-pandas"
   ]
  },
  {
   "cell_type": "code",
   "execution_count": null,
   "id": "9efb9689-5347-46a5-8fe4-d5879db0f778",
   "metadata": {},
   "outputs": [],
   "source": [
    "nutrients_pivoted = pd.json_normalize(nutrient_df['array_agg'])\n",
    "nutrients_pivoted.fillna(0, inplace = True)\n",
    "nutrients_pivoted.head()"
   ]
  },
  {
   "cell_type": "markdown",
   "id": "d5bb9c83-9105-436f-b567-b1464f889bdb",
   "metadata": {},
   "source": [
    "Merge the original df with the pivoted df, and drop the array_agg column"
   ]
  },
  {
   "cell_type": "code",
   "execution_count": null,
   "id": "d516da00-0072-45bf-9be6-37328fca5a59",
   "metadata": {},
   "outputs": [],
   "source": [
    "nutrient_df = nutrient_df.merge(nutrients_pivoted, left_index = True, right_index = True)\n",
    "del nutrient_df[\"array_agg\"]\n",
    "nutrient_df.head()"
   ]
  },
  {
   "cell_type": "markdown",
   "id": "e847f52f-412a-4c0d-ad2d-36f0c3f0c260",
   "metadata": {},
   "source": [
    "Export the matrix to compressed csv"
   ]
  },
  {
   "cell_type": "code",
   "execution_count": null,
   "id": "376784af-a286-45cf-9384-4eed57cb1868",
   "metadata": {},
   "outputs": [],
   "source": [
    "nutrient_df.to_csv(nutrient_csv_p, \n",
    "                   index = False, compression = \"gzip\")"
   ]
  },
  {
   "cell_type": "markdown",
   "id": "4e67e49b-4aac-4f17-a21a-64077e181641",
   "metadata": {
    "tags": []
   },
   "source": [
    "# If the database is down, you can import the file locally\n",
    "Must download the file from https://data.nal.usda.gov/dataset/usda-branded-food-products-database"
   ]
  },
  {
   "cell_type": "code",
   "execution_count": 4,
   "id": "120f7100-0305-4bd1-80a1-244fcb4d480c",
   "metadata": {},
   "outputs": [],
   "source": [
    "nutrient_df = pd.read_csv(nutrients_csv, usecols= [\"NDB_No\", \"Nutrient_name\", \"Output_value\"])"
   ]
  },
  {
   "cell_type": "code",
   "execution_count": 5,
   "id": "ac0da25a-b6ae-4bda-b719-7e11075f027a",
   "metadata": {},
   "outputs": [
    {
     "data": {
      "text/html": [
       "<div>\n",
       "<style scoped>\n",
       "    .dataframe tbody tr th:only-of-type {\n",
       "        vertical-align: middle;\n",
       "    }\n",
       "\n",
       "    .dataframe tbody tr th {\n",
       "        vertical-align: top;\n",
       "    }\n",
       "\n",
       "    .dataframe thead th {\n",
       "        text-align: right;\n",
       "    }\n",
       "</style>\n",
       "<table border=\"1\" class=\"dataframe\">\n",
       "  <thead>\n",
       "    <tr style=\"text-align: right;\">\n",
       "      <th></th>\n",
       "      <th>NDB_No</th>\n",
       "      <th>Nutrient_name</th>\n",
       "      <th>Output_value</th>\n",
       "    </tr>\n",
       "  </thead>\n",
       "  <tbody>\n",
       "    <tr>\n",
       "      <th>0</th>\n",
       "      <td>45127487</td>\n",
       "      <td>Protein</td>\n",
       "      <td>4.3</td>\n",
       "    </tr>\n",
       "    <tr>\n",
       "      <th>1</th>\n",
       "      <td>45127487</td>\n",
       "      <td>Total lipid (fat)</td>\n",
       "      <td>18.9</td>\n",
       "    </tr>\n",
       "    <tr>\n",
       "      <th>2</th>\n",
       "      <td>45127487</td>\n",
       "      <td>Carbohydrate, by difference</td>\n",
       "      <td>72.8</td>\n",
       "    </tr>\n",
       "  </tbody>\n",
       "</table>\n",
       "</div>"
      ],
      "text/plain": [
       "     NDB_No                Nutrient_name  Output_value\n",
       "0  45127487                      Protein           4.3\n",
       "1  45127487            Total lipid (fat)          18.9\n",
       "2  45127487  Carbohydrate, by difference          72.8"
      ]
     },
     "execution_count": 5,
     "metadata": {},
     "output_type": "execute_result"
    }
   ],
   "source": [
    "nutrient_df.head(3)"
   ]
  },
  {
   "cell_type": "code",
   "execution_count": 6,
   "id": "946cc650-0953-4c6a-86d3-3acaad66bc64",
   "metadata": {},
   "outputs": [],
   "source": [
    "#convert categorical to make pivoting faster\n",
    "nutrient_df[\"Nutrient_name\"] = nutrient_df[\"Nutrient_name\"].astype(\"category\")"
   ]
  },
  {
   "cell_type": "markdown",
   "id": "058f3b9b-82e2-46bb-b174-41482ffa5a32",
   "metadata": {},
   "source": [
    "#### Before pivoting this data, it's important to note there are a few duplicate counts for product / nutrient"
   ]
  },
  {
   "cell_type": "code",
   "execution_count": 7,
   "id": "dc0c29d2-af6b-4d2b-92e8-881e7cab7f40",
   "metadata": {},
   "outputs": [
    {
     "data": {
      "text/html": [
       "<div>\n",
       "<style scoped>\n",
       "    .dataframe tbody tr th:only-of-type {\n",
       "        vertical-align: middle;\n",
       "    }\n",
       "\n",
       "    .dataframe tbody tr th {\n",
       "        vertical-align: top;\n",
       "    }\n",
       "\n",
       "    .dataframe thead th {\n",
       "        text-align: right;\n",
       "    }\n",
       "</style>\n",
       "<table border=\"1\" class=\"dataframe\">\n",
       "  <thead>\n",
       "    <tr style=\"text-align: right;\">\n",
       "      <th></th>\n",
       "      <th>NDB_No</th>\n",
       "      <th>Nutrient_name</th>\n",
       "      <th>Count_of_Output_value</th>\n",
       "    </tr>\n",
       "  </thead>\n",
       "  <tbody>\n",
       "    <tr>\n",
       "      <th>3910331</th>\n",
       "      <td>45095515</td>\n",
       "      <td>Energy</td>\n",
       "      <td>2</td>\n",
       "    </tr>\n",
       "    <tr>\n",
       "      <th>7339545</th>\n",
       "      <td>45162398</td>\n",
       "      <td>Energy</td>\n",
       "      <td>2</td>\n",
       "    </tr>\n",
       "    <tr>\n",
       "      <th>9451631</th>\n",
       "      <td>45189128</td>\n",
       "      <td>Energy</td>\n",
       "      <td>2</td>\n",
       "    </tr>\n",
       "    <tr>\n",
       "      <th>14849863</th>\n",
       "      <td>45262237</td>\n",
       "      <td>Energy</td>\n",
       "      <td>2</td>\n",
       "    </tr>\n",
       "    <tr>\n",
       "      <th>19535199</th>\n",
       "      <td>45343319</td>\n",
       "      <td>Energy</td>\n",
       "      <td>2</td>\n",
       "    </tr>\n",
       "    <tr>\n",
       "      <th>21169201</th>\n",
       "      <td>45360957</td>\n",
       "      <td>Energy</td>\n",
       "      <td>2</td>\n",
       "    </tr>\n",
       "  </tbody>\n",
       "</table>\n",
       "</div>"
      ],
      "text/plain": [
       "            NDB_No Nutrient_name  Count_of_Output_value\n",
       "3910331   45095515        Energy                      2\n",
       "7339545   45162398        Energy                      2\n",
       "9451631   45189128        Energy                      2\n",
       "14849863  45262237        Energy                      2\n",
       "19535199  45343319        Energy                      2\n",
       "21169201  45360957        Energy                      2"
      ]
     },
     "execution_count": 7,
     "metadata": {},
     "output_type": "execute_result"
    }
   ],
   "source": [
    "counts = nutrient_df.groupby(by = [\"NDB_No\", \"Nutrient_name\"], as_index = False).count()\n",
    "over_counted_nutrients = counts[counts['Output_value']>1].copy(deep = True)\n",
    "over_counted_nutrients.rename(columns = {\"Output_value\": \"Count_of_Output_value\"}, inplace = True)\n",
    "over_counted_nutrients"
   ]
  },
  {
   "cell_type": "markdown",
   "id": "518d713d-d756-414d-aa2e-9ab164a3dbf8",
   "metadata": {},
   "source": [
    "Take the average the over counted nutrients"
   ]
  },
  {
   "cell_type": "code",
   "execution_count": 8,
   "id": "9e19689d-5848-4718-990c-914b8bf7e849",
   "metadata": {},
   "outputs": [],
   "source": [
    "nutrient_df = nutrient_df.pivot_table(index=\"NDB_No\", columns = \"Nutrient_name\",\n",
    "                    fill_value = 0,\n",
    "                    values = \"Output_value\",\n",
    "                    aggfunc ={\"Output_value\": np.mean})"
   ]
  },
  {
   "cell_type": "code",
   "execution_count": 9,
   "id": "580dd812-7882-421f-ae3c-f10fd068d1a5",
   "metadata": {},
   "outputs": [
    {
     "data": {
      "text/plain": [
       "(237837, 94)"
      ]
     },
     "execution_count": 9,
     "metadata": {},
     "output_type": "execute_result"
    }
   ],
   "source": [
    "nutrient_df.shape"
   ]
  },
  {
   "cell_type": "code",
   "execution_count": 10,
   "id": "1ed6fa05-7036-4156-ac8e-85fb9d7b7c61",
   "metadata": {},
   "outputs": [
    {
     "data": {
      "text/html": [
       "<div>\n",
       "<style scoped>\n",
       "    .dataframe tbody tr th:only-of-type {\n",
       "        vertical-align: middle;\n",
       "    }\n",
       "\n",
       "    .dataframe tbody tr th {\n",
       "        vertical-align: top;\n",
       "    }\n",
       "\n",
       "    .dataframe thead th {\n",
       "        text-align: right;\n",
       "    }\n",
       "</style>\n",
       "<table border=\"1\" class=\"dataframe\">\n",
       "  <thead>\n",
       "    <tr style=\"text-align: right;\">\n",
       "      <th>Nutrient_name</th>\n",
       "      <th>10:0</th>\n",
       "      <th>12:0</th>\n",
       "      <th>18:2 n-6 c,c</th>\n",
       "      <th>18:2 undifferentiated</th>\n",
       "      <th>18:3 n-3 c,c,c (ALA)</th>\n",
       "      <th>8:0</th>\n",
       "      <th>Alanine</th>\n",
       "      <th>Alcohol, ethyl</th>\n",
       "      <th>Arginine</th>\n",
       "      <th>Ash</th>\n",
       "      <th>...</th>\n",
       "      <th>Vitamin D</th>\n",
       "      <th>Vitamin D (D2 + D3)</th>\n",
       "      <th>Vitamin D3 (cholecalciferol)</th>\n",
       "      <th>Vitamin E</th>\n",
       "      <th>Vitamin E (alpha-tocopherol)</th>\n",
       "      <th>Vitamin E (label entry primarily)</th>\n",
       "      <th>Vitamin K (phylloquinone)</th>\n",
       "      <th>Water</th>\n",
       "      <th>Xylitol</th>\n",
       "      <th>Zinc, Zn</th>\n",
       "    </tr>\n",
       "    <tr>\n",
       "      <th>NDB_No</th>\n",
       "      <th></th>\n",
       "      <th></th>\n",
       "      <th></th>\n",
       "      <th></th>\n",
       "      <th></th>\n",
       "      <th></th>\n",
       "      <th></th>\n",
       "      <th></th>\n",
       "      <th></th>\n",
       "      <th></th>\n",
       "      <th></th>\n",
       "      <th></th>\n",
       "      <th></th>\n",
       "      <th></th>\n",
       "      <th></th>\n",
       "      <th></th>\n",
       "      <th></th>\n",
       "      <th></th>\n",
       "      <th></th>\n",
       "      <th></th>\n",
       "      <th></th>\n",
       "    </tr>\n",
       "  </thead>\n",
       "  <tbody>\n",
       "    <tr>\n",
       "      <th>45001524</th>\n",
       "      <td>0.0</td>\n",
       "      <td>0.0</td>\n",
       "      <td>0.0</td>\n",
       "      <td>0.0</td>\n",
       "      <td>0.0</td>\n",
       "      <td>0.0</td>\n",
       "      <td>0.0</td>\n",
       "      <td>0</td>\n",
       "      <td>0.0</td>\n",
       "      <td>0.0</td>\n",
       "      <td>...</td>\n",
       "      <td>0</td>\n",
       "      <td>0</td>\n",
       "      <td>0.0</td>\n",
       "      <td>0</td>\n",
       "      <td>0</td>\n",
       "      <td>0</td>\n",
       "      <td>0.0</td>\n",
       "      <td>0.0</td>\n",
       "      <td>0</td>\n",
       "      <td>0.0</td>\n",
       "    </tr>\n",
       "    <tr>\n",
       "      <th>45001528</th>\n",
       "      <td>0.0</td>\n",
       "      <td>0.0</td>\n",
       "      <td>0.0</td>\n",
       "      <td>0.0</td>\n",
       "      <td>0.0</td>\n",
       "      <td>0.0</td>\n",
       "      <td>0.0</td>\n",
       "      <td>0</td>\n",
       "      <td>0.0</td>\n",
       "      <td>0.0</td>\n",
       "      <td>...</td>\n",
       "      <td>0</td>\n",
       "      <td>0</td>\n",
       "      <td>0.0</td>\n",
       "      <td>0</td>\n",
       "      <td>0</td>\n",
       "      <td>0</td>\n",
       "      <td>0.0</td>\n",
       "      <td>0.0</td>\n",
       "      <td>0</td>\n",
       "      <td>0.0</td>\n",
       "    </tr>\n",
       "    <tr>\n",
       "      <th>45001529</th>\n",
       "      <td>0.0</td>\n",
       "      <td>0.0</td>\n",
       "      <td>0.0</td>\n",
       "      <td>0.0</td>\n",
       "      <td>0.0</td>\n",
       "      <td>0.0</td>\n",
       "      <td>0.0</td>\n",
       "      <td>0</td>\n",
       "      <td>0.0</td>\n",
       "      <td>0.0</td>\n",
       "      <td>...</td>\n",
       "      <td>0</td>\n",
       "      <td>0</td>\n",
       "      <td>0.0</td>\n",
       "      <td>0</td>\n",
       "      <td>0</td>\n",
       "      <td>0</td>\n",
       "      <td>0.0</td>\n",
       "      <td>0.0</td>\n",
       "      <td>0</td>\n",
       "      <td>0.0</td>\n",
       "    </tr>\n",
       "    <tr>\n",
       "      <th>45001530</th>\n",
       "      <td>0.0</td>\n",
       "      <td>0.0</td>\n",
       "      <td>0.0</td>\n",
       "      <td>0.0</td>\n",
       "      <td>0.0</td>\n",
       "      <td>0.0</td>\n",
       "      <td>0.0</td>\n",
       "      <td>0</td>\n",
       "      <td>0.0</td>\n",
       "      <td>0.0</td>\n",
       "      <td>...</td>\n",
       "      <td>0</td>\n",
       "      <td>0</td>\n",
       "      <td>0.0</td>\n",
       "      <td>0</td>\n",
       "      <td>0</td>\n",
       "      <td>0</td>\n",
       "      <td>0.0</td>\n",
       "      <td>0.0</td>\n",
       "      <td>0</td>\n",
       "      <td>0.0</td>\n",
       "    </tr>\n",
       "    <tr>\n",
       "      <th>45001531</th>\n",
       "      <td>0.0</td>\n",
       "      <td>0.0</td>\n",
       "      <td>0.0</td>\n",
       "      <td>0.0</td>\n",
       "      <td>0.0</td>\n",
       "      <td>0.0</td>\n",
       "      <td>0.0</td>\n",
       "      <td>0</td>\n",
       "      <td>0.0</td>\n",
       "      <td>0.0</td>\n",
       "      <td>...</td>\n",
       "      <td>0</td>\n",
       "      <td>0</td>\n",
       "      <td>0.0</td>\n",
       "      <td>0</td>\n",
       "      <td>0</td>\n",
       "      <td>0</td>\n",
       "      <td>0.0</td>\n",
       "      <td>0.0</td>\n",
       "      <td>0</td>\n",
       "      <td>0.0</td>\n",
       "    </tr>\n",
       "  </tbody>\n",
       "</table>\n",
       "<p>5 rows × 94 columns</p>\n",
       "</div>"
      ],
      "text/plain": [
       "Nutrient_name  10:0  12:0  18:2 n-6 c,c  18:2 undifferentiated  \\\n",
       "NDB_No                                                           \n",
       "45001524        0.0   0.0           0.0                    0.0   \n",
       "45001528        0.0   0.0           0.0                    0.0   \n",
       "45001529        0.0   0.0           0.0                    0.0   \n",
       "45001530        0.0   0.0           0.0                    0.0   \n",
       "45001531        0.0   0.0           0.0                    0.0   \n",
       "\n",
       "Nutrient_name  18:3 n-3 c,c,c (ALA)  8:0  Alanine  Alcohol, ethyl  Arginine  \\\n",
       "NDB_No                                                                        \n",
       "45001524                        0.0  0.0      0.0               0       0.0   \n",
       "45001528                        0.0  0.0      0.0               0       0.0   \n",
       "45001529                        0.0  0.0      0.0               0       0.0   \n",
       "45001530                        0.0  0.0      0.0               0       0.0   \n",
       "45001531                        0.0  0.0      0.0               0       0.0   \n",
       "\n",
       "Nutrient_name  Ash  ...  Vitamin D  Vitamin D (D2 + D3)  \\\n",
       "NDB_No              ...                                   \n",
       "45001524       0.0  ...          0                    0   \n",
       "45001528       0.0  ...          0                    0   \n",
       "45001529       0.0  ...          0                    0   \n",
       "45001530       0.0  ...          0                    0   \n",
       "45001531       0.0  ...          0                    0   \n",
       "\n",
       "Nutrient_name  Vitamin D3 (cholecalciferol)  Vitamin E  \\\n",
       "NDB_No                                                   \n",
       "45001524                                0.0          0   \n",
       "45001528                                0.0          0   \n",
       "45001529                                0.0          0   \n",
       "45001530                                0.0          0   \n",
       "45001531                                0.0          0   \n",
       "\n",
       "Nutrient_name  Vitamin E (alpha-tocopherol)  \\\n",
       "NDB_No                                        \n",
       "45001524                                  0   \n",
       "45001528                                  0   \n",
       "45001529                                  0   \n",
       "45001530                                  0   \n",
       "45001531                                  0   \n",
       "\n",
       "Nutrient_name  Vitamin E (label entry primarily)  Vitamin K (phylloquinone)  \\\n",
       "NDB_No                                                                        \n",
       "45001524                                       0                        0.0   \n",
       "45001528                                       0                        0.0   \n",
       "45001529                                       0                        0.0   \n",
       "45001530                                       0                        0.0   \n",
       "45001531                                       0                        0.0   \n",
       "\n",
       "Nutrient_name  Water  Xylitol  Zinc, Zn  \n",
       "NDB_No                                   \n",
       "45001524         0.0        0       0.0  \n",
       "45001528         0.0        0       0.0  \n",
       "45001529         0.0        0       0.0  \n",
       "45001530         0.0        0       0.0  \n",
       "45001531         0.0        0       0.0  \n",
       "\n",
       "[5 rows x 94 columns]"
      ]
     },
     "execution_count": 10,
     "metadata": {},
     "output_type": "execute_result"
    }
   ],
   "source": [
    "nutrient_df.head()"
   ]
  },
  {
   "cell_type": "markdown",
   "id": "9c27a553-e086-4b7b-8f7e-cfc2215934d4",
   "metadata": {},
   "source": [
    "Export the matrix to csv"
   ]
  },
  {
   "cell_type": "code",
   "execution_count": 11,
   "id": "e11d8743-184e-4fbe-8fd4-2961abf103d7",
   "metadata": {},
   "outputs": [],
   "source": [
    "nutrient_df.reset_index().to_csv(nutrient_matrix_csv_p,\n",
    "                                 index = False, compression = \"gzip\")"
   ]
  }
 ],
 "metadata": {
  "kernelspec": {
   "display_name": "Python 3 (ipykernel)",
   "language": "python",
   "name": "python3"
  },
  "language_info": {
   "codemirror_mode": {
    "name": "ipython",
    "version": 3
   },
   "file_extension": ".py",
   "mimetype": "text/x-python",
   "name": "python",
   "nbconvert_exporter": "python",
   "pygments_lexer": "ipython3",
   "version": "3.10.10"
  }
 },
 "nbformat": 4,
 "nbformat_minor": 5
}
